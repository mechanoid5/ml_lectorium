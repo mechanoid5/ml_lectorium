{
 "cells": [
  {
   "cell_type": "markdown",
   "metadata": {},
   "source": [
    "**классификатор текстов на естественном языке**\n",
    "\n",
    "\n",
    "Евгений Борисов borisov.e@solarl.ru"
   ]
  },
  {
   "cell_type": "code",
   "execution_count": 1,
   "metadata": {},
   "outputs": [],
   "source": [
    "# Sebastian Raschka   Python Machine Learning  - Packt Publishing Ltd, 2015"
   ]
  },
  {
   "cell_type": "code",
   "execution_count": 2,
   "metadata": {},
   "outputs": [],
   "source": [
    "import numpy as np\n",
    "import pandas as pd\n",
    "# import pickle\n",
    "# import sqlite3\n",
    "import re"
   ]
  },
  {
   "cell_type": "code",
   "execution_count": null,
   "metadata": {},
   "outputs": [],
   "source": [
    "from Stemmer import Stemmer\n",
    "# sudo pacman -S python-pystemmer\n",
    "\n",
    "#from sklearn.feature_extraction.text import CountVectorizer\n",
    "#from sklearn.feature_extraction.text import HashingVectorizer\n",
    "#from sklearn.feature_extraction.text import TfidfTransformer\n",
    "#from sklearn.feature_extraction.text import TfidfVectorizer\n",
    "\n",
    "from sklearn.linear_model import SGDClassifier\n",
    "from sklearn.pipeline import Pipeline\n",
    "from sklearn.metrics import accuracy_score"
   ]
  },
  {
   "cell_type": "code",
   "execution_count": 3,
   "metadata": {},
   "outputs": [],
   "source": [
    "pd.options.display.max_colwidth = 200  "
   ]
  },
  {
   "cell_type": "markdown",
   "metadata": {},
   "source": [
    "---"
   ]
  },
  {
   "cell_type": "code",
   "execution_count": 4,
   "metadata": {},
   "outputs": [
    {
     "name": "stdout",
     "output_type": "stream",
     "text": [
      "записей: 3196\n"
     ]
    },
    {
     "data": {
      "text/html": [
       "<div>\n",
       "<style scoped>\n",
       "    .dataframe tbody tr th:only-of-type {\n",
       "        vertical-align: middle;\n",
       "    }\n",
       "\n",
       "    .dataframe tbody tr th {\n",
       "        vertical-align: top;\n",
       "    }\n",
       "\n",
       "    .dataframe thead th {\n",
       "        text-align: right;\n",
       "    }\n",
       "</style>\n",
       "<table border=\"1\" class=\"dataframe\">\n",
       "  <thead>\n",
       "    <tr style=\"text-align: right;\">\n",
       "      <th></th>\n",
       "      <th>text</th>\n",
       "      <th>tag</th>\n",
       "    </tr>\n",
       "  </thead>\n",
       "  <tbody>\n",
       "    <tr>\n",
       "      <th>791</th>\n",
       "      <td>Войтюшкевичу отказали в площадке для проведения разрешенного концерта в Минске\\n\\n7 декабря 2016 в 20:22\\n\\nTUT.BY\\n\\nКонцерт группы WZ-orkiestra и Дмитрия Войтюшкевича отменен после того, как его...</td>\n",
       "      <td>culture</td>\n",
       "    </tr>\n",
       "    <tr>\n",
       "      <th>547</th>\n",
       "      <td>На трассе М6 авария с тяжелыми последствиями: VW Golf въехал в поворачивающий МАЗ\\n\\n5 декабря 2016 в 9:43\\n\\nAUTO.TUT.BY\\n\\nВ воскресенье, 4 декабря, на трассе М6 VW Golf въехал в МАЗ. Легковушка...</td>\n",
       "      <td>incident</td>\n",
       "    </tr>\n",
       "  </tbody>\n",
       "</table>\n",
       "</div>"
      ],
      "text/plain": [
       "                                                                                                                                                                                                        text  \\\n",
       "791  Войтюшкевичу отказали в площадке для проведения разрешенного концерта в Минске\\n\\n7 декабря 2016 в 20:22\\n\\nTUT.BY\\n\\nКонцерт группы WZ-orkiestra и Дмитрия Войтюшкевича отменен после того, как его...   \n",
       "547  На трассе М6 авария с тяжелыми последствиями: VW Golf въехал в поворачивающий МАЗ\\n\\n5 декабря 2016 в 9:43\\n\\nAUTO.TUT.BY\\n\\nВ воскресенье, 4 декабря, на трассе М6 VW Golf въехал в МАЗ. Легковушка...   \n",
       "\n",
       "          tag  \n",
       "791   culture  \n",
       "547  incident  "
      ]
     },
     "execution_count": 4,
     "metadata": {},
     "output_type": "execute_result"
    }
   ],
   "source": [
    "# загружаем тексты\n",
    "data = pd.read_pickle('../data/text/news.pkl')\n",
    "print('записей:',len(data))\n",
    "data.sample(2)"
   ]
  },
  {
   "cell_type": "code",
   "execution_count": 5,
   "metadata": {},
   "outputs": [
    {
     "name": "stdout",
     "output_type": "stream",
     "text": [
      "13\n"
     ]
    },
    {
     "data": {
      "text/plain": [
       "{'auto',\n",
       " 'culture',\n",
       " 'economics',\n",
       " 'health',\n",
       " 'incident',\n",
       " 'politics',\n",
       " 'realty',\n",
       " 'reclama',\n",
       " 'science',\n",
       " 'social',\n",
       " 'sport',\n",
       " 'tech',\n",
       " 'woman'}"
      ]
     },
     "execution_count": 5,
     "metadata": {},
     "output_type": "execute_result"
    }
   ],
   "source": [
    "# классы\n",
    "print(len(set(data['tag'])))\n",
    "set(data['tag'])"
   ]
  },
  {
   "cell_type": "markdown",
   "metadata": {},
   "source": [
    "---"
   ]
  },
  {
   "cell_type": "code",
   "execution_count": 36,
   "metadata": {},
   "outputs": [],
   "source": [
    "from Stemmer import Stemmer\n",
    "\n",
    "# очистка текста с помощью regexp\n",
    "def text_cleaner(text):\n",
    "    text = text.lower() # приведение в lowercase,\n",
    "    \n",
    "    text = re.sub( r'https?://[\\S]+', ' url ', text) # замена интернет ссылок\n",
    "    text = re.sub( r'[\\w\\./]+\\.[a-z]+', ' url ', text) \n",
    " \n",
    "    # text = re.sub( r'\\d+[-/\\.]\\d+[-/\\.]\\d+', ' date ', text) # замена даты и времени\n",
    "    # text = re.sub( r'\\d+ ?гг?', ' date ', text) \n",
    "    # text = re.sub( r'\\d+:\\d+(:\\d+)?', ' time ', text) \n",
    "    # text = re.sub( r'@\\w+', ' tname ', text ) # замена имён twiter\n",
    "    # text = re.sub( r'#\\w+', ' htag ', text ) # замена хештегов\n",
    "\n",
    "    text = re.sub( r'<[^>]*>', ' ', text) # удаление html тагов\n",
    "    text = re.sub( r'[\\W]+', ' ', text ) # удаление лишних символов\n",
    "\n",
    "    stemmer = Stemmer('russian')\n",
    "    text = ' '.join( stemmer.stemWords( text.split() ) ) \n",
    "\n",
    "#     stw = ['в', 'по', 'на', 'из', 'и', 'или', 'не', 'но', 'за', 'над', 'под', 'то',\n",
    "#            'a', 'at', 'on', 'of', 'and', 'or', 'in', 'for', 'at' ]\n",
    "#     remove = r'\\b('+'|'.join(stw)+')\\b'\n",
    "#     text = re.sub(remove,' ', text)\n",
    "    \n",
    "    text = re.sub( r'\\b\\w\\b', ' ', text ) # удаление отдельно стоящих букв\n",
    "\n",
    "    text = re.sub( r'\\b\\d+\\b', ' digit ', text ) # замена цифр \n",
    "\n",
    "    return  text "
   ]
  },
  {
   "cell_type": "markdown",
   "metadata": {},
   "source": [
    "---"
   ]
  },
  {
   "cell_type": "code",
   "execution_count": 37,
   "metadata": {},
   "outputs": [],
   "source": [
    "data['text_clean'] = data['text'].apply(text_cleaner)"
   ]
  },
  {
   "cell_type": "code",
   "execution_count": 43,
   "metadata": {},
   "outputs": [],
   "source": [
    "# data"
   ]
  },
  {
   "cell_type": "code",
   "execution_count": 39,
   "metadata": {},
   "outputs": [],
   "source": [
    "# docs = [\n",
    "#     'The sun is shining',\n",
    "#     'The weather is sweet',\n",
    "#     'The sun is shining and the weather is sweet',\n",
    "#   ]\n",
    "\n",
    "# docs = data['text'].values\n",
    "docs = data['text_clean'].values"
   ]
  },
  {
   "cell_type": "code",
   "execution_count": 40,
   "metadata": {},
   "outputs": [],
   "source": [
    "from sklearn.feature_extraction.text import CountVectorizer\n",
    "\n",
    "count = CountVectorizer()\n",
    "bag = count.fit_transform(docs)"
   ]
  },
  {
   "cell_type": "code",
   "execution_count": 41,
   "metadata": {},
   "outputs": [
    {
     "name": "stdout",
     "output_type": "stream",
     "text": [
      "словарь: 35246 слов\n",
      "\n"
     ]
    }
   ],
   "source": [
    "print( 'словарь:', len(count.vocabulary_), 'слов\\n')  "
   ]
  },
  {
   "cell_type": "code",
   "execution_count": 44,
   "metadata": {},
   "outputs": [],
   "source": [
    "# print(count.vocabulary_)\n",
    "vcb = sorted(list( count.vocabulary_.keys() ))\n",
    "# vcb[5500:5550]"
   ]
  },
  {
   "cell_type": "code",
   "execution_count": 45,
   "metadata": {},
   "outputs": [],
   "source": [
    "# print( bag.toarray() )"
   ]
  },
  {
   "cell_type": "code",
   "execution_count": null,
   "metadata": {},
   "outputs": [],
   "source": [
    "# np.set_printoptions(precision=2)"
   ]
  },
  {
   "cell_type": "code",
   "execution_count": null,
   "metadata": {},
   "outputs": [],
   "source": [
    "# tf-idf\n",
    "from sklearn.feature_extraction.text import TfidfTransformer\n",
    "\n",
    "tfidf = TfidfTransformer(use_idf=True, norm='l2',smooth_idf=True)\n",
    "\n",
    "tfidf.fit_transform(count.fit_transform(docs)).toarray()\n"
   ]
  },
  {
   "cell_type": "markdown",
   "metadata": {},
   "source": [
    "---"
   ]
  },
  {
   "cell_type": "code",
   "execution_count": 50,
   "metadata": {},
   "outputs": [
    {
     "data": {
      "text/plain": [
       "['runners', 'like', 'running', 'and', 'thus', 'they', 'run']"
      ]
     },
     "execution_count": 50,
     "metadata": {},
     "output_type": "execute_result"
    }
   ],
   "source": [
    "def tokenizer(text):  return text.split()\n",
    "tokenizer('runners like running and thus they run')"
   ]
  },
  {
   "cell_type": "code",
   "execution_count": 49,
   "metadata": {},
   "outputs": [
    {
     "data": {
      "text/plain": [
       "['runner', 'like', 'run', 'and', 'thu', 'they', 'run']"
      ]
     },
     "execution_count": 49,
     "metadata": {},
     "output_type": "execute_result"
    }
   ],
   "source": [
    "# The following code shows how to use the Porter stemming algorithm:\n",
    "from nltk.stem.porter import PorterStemmer\n",
    "\n",
    "porter = PorterStemmer()\n",
    "\n",
    "def tokenizer_porter(text): return [porter.stem(word) for word in text.split()]\n",
    "\n",
    "tokenizer_porter('runners like running and thus they run')\n",
    "# ['runner', 'like', 'run', 'and', 'thu', 'they', 'run']\n"
   ]
  },
  {
   "cell_type": "code",
   "execution_count": 51,
   "metadata": {},
   "outputs": [
    {
     "name": "stdout",
     "output_type": "stream",
     "text": [
      "[nltk_data] Downloading package stopwords to\n",
      "[nltk_data]     /home/mechanoid/nltk_data...\n",
      "[nltk_data]   Unzipping corpora/stopwords.zip.\n"
     ]
    },
    {
     "data": {
      "text/plain": [
       "True"
      ]
     },
     "execution_count": 51,
     "metadata": {},
     "output_type": "execute_result"
    }
   ],
   "source": [
    "import nltk\n",
    "nltk.download('stopwords')"
   ]
  },
  {
   "cell_type": "code",
   "execution_count": 53,
   "metadata": {},
   "outputs": [
    {
     "data": {
      "text/plain": [
       "['runner', 'like', 'run', 'run', 'lot']"
      ]
     },
     "execution_count": 53,
     "metadata": {},
     "output_type": "execute_result"
    }
   ],
   "source": [
    "from nltk.corpus import stopwords\n",
    "stop = stopwords.words('english')\n",
    "[w for w in tokenizer_porter('a runner likes running and runs a lot')[-10:] if w not in stop]"
   ]
  },
  {
   "cell_type": "code",
   "execution_count": 55,
   "metadata": {},
   "outputs": [
    {
     "data": {
      "text/plain": [
       "['отказали', 'площадке', 'проведения', 'разрешенного', 'концерта']"
      ]
     },
     "execution_count": 55,
     "metadata": {},
     "output_type": "execute_result"
    }
   ],
   "source": [
    "from nltk.corpus import stopwords\n",
    "stop = stopwords.words('russian')\n",
    "[w for w in tokenizer_porter('отказали в площадке для проведения разрешенного концерта')[-10:] if w not in stop]"
   ]
  },
  {
   "cell_type": "code",
   "execution_count": null,
   "metadata": {},
   "outputs": [],
   "source": [
    "# from sklearn.feature_extraction.text import HashingVectorizer\n",
    "# from sklearn.linear_model import SGDClassifier\n",
    "# vect = HashingVectorizer(decode_error='ignore',n_features=2**21,preprocessor=None,tokenizer=tokenizer)\n",
    "# clf = SGDClassifier(loss='log', random_state=1, n_iter=1)\n",
    "# doc_stream = stream_docs(path='movie_data.csv')"
   ]
  },
  {
   "cell_type": "markdown",
   "metadata": {},
   "source": [
    "---"
   ]
  },
  {
   "cell_type": "code",
   "execution_count": null,
   "metadata": {},
   "outputs": [],
   "source": [
    "from sklearn.feature_extraction.text import HashingVectorizer\n",
    "from sklearn.feature_extraction.text import TfidfTransformer\n",
    "\n",
    "pipe_txt = Pipeline([\n",
    "               ('hashvect', HashingVectorizer() ),\n",
    "               ('tfidf', TfidfTransformer(use_idf=False )),\n",
    "               ])\n",
    "\n",
    "pipe_txt = pipe_txt.fit(data['text'])\n",
    "pipe_txt.transform(data['text'])\n",
    "\n",
    "# hashvect = HashingVectorizer()\n",
    "# tfidf = TfidfTransformer(use_idf=False )\n",
    "\n",
    "# hashvect = hashvect.fit(data['text'])\n",
    "# # hashvect.transform(data['text']).todense()\n",
    "# tfidf = tfidf.fit(  hashvect.transform(data['text']) )\n",
    "# tfidf.transform( hashvect.transform(data['text']) ).todense()\n",
    "\n"
   ]
  },
  {
   "cell_type": "code",
   "execution_count": null,
   "metadata": {},
   "outputs": [],
   "source": [
    "from sklearn.feature_extraction.text import CountVectorizer\n",
    "from sklearn.feature_extraction.text import TfidfTransformer\n",
    "\n",
    "\n",
    "\n",
    "# text_clf = Pipeline([\n",
    "#                ('covect', CountVectorizer() ),\n",
    "#                ('tfidf', TfidfTransformer(preprocessor=text_cleaner,use_idf=False )),\n",
    "#                ('clf', SGDClassifier(loss='hinge')),\n",
    "#                ])\n",
    "\n",
    "\n",
    "\n",
    "\n",
    "# covect = CountVectorizer()\n",
    "# tfidf = TfidfTransformer(preprocessor=text_cleaner,use_idf=False )\n",
    "\n",
    "\n"
   ]
  },
  {
   "cell_type": "code",
   "execution_count": null,
   "metadata": {},
   "outputs": [],
   "source": [
    "# from sklearn.feature_extraction.text import TfidfVectorizer\n",
    "# tfidf = TfidfVectorizer()"
   ]
  },
  {
   "cell_type": "code",
   "execution_count": null,
   "metadata": {},
   "outputs": [],
   "source": []
  },
  {
   "cell_type": "code",
   "execution_count": null,
   "metadata": {},
   "outputs": [],
   "source": [
    "# print(\"[i] обучение классификатора...\")\n",
    "\n",
    "# text_clf = Pipeline([\n",
    "#                ('hashvect', HashingVectorizer() ),\n",
    "#                ('tfidf', TfidfTransformer(use_idf=False )),\n",
    "#                ('clf', SGDClassifier(loss='hinge')),\n",
    "#                ])\n",
    "\n",
    "# text_clf = Pipeline([\n",
    "#                ('covect', CountVectorizer() ),\n",
    "#                ('tfidf', TfidfTransformer(preprocessor=text_cleaner,use_idf=False )),\n",
    "#                ('clf', SGDClassifier(loss='hinge')),\n",
    "#                ])\n",
    "\n",
    "# text_clf = Pipeline([\n",
    "#                 ('tfidf', TfidfVectorizer()),\n",
    "#                 ('clf', SGDClassifier(loss='hinge')),\n",
    "#                 ])\n",
    "\n",
    "# text_clf.fit(D['train']['x'], D['train']['y'])"
   ]
  },
  {
   "cell_type": "code",
   "execution_count": null,
   "metadata": {},
   "outputs": [],
   "source": [
    "print(\"[i] тестируем...\")\n",
    "\n",
    "predicted = text_clf.predict( D['train']['x'] )\n",
    "print(\"\\taccuracy train: \", accuracy_score(  D['train']['y'] , predicted) )\n",
    "\n",
    "predicted = text_clf.predict( D['test']['x'] )\n",
    "print(\"\\taccuracy test: \", accuracy_score(  D['test']['y'] , predicted) )"
   ]
  },
  {
   "cell_type": "markdown",
   "metadata": {},
   "source": [
    "---"
   ]
  },
  {
   "cell_type": "code",
   "execution_count": null,
   "metadata": {},
   "outputs": [],
   "source": [
    "# # разделение набора текстов (data)\n",
    "# # на тестовый и учебный наборы\n",
    "# # случайным образом в заданной пропорции (validation_split)\n",
    "# #\n",
    "# def train_test_split( data, validation_split = 0.2):\n",
    "#     sz = len(data['text'])\n",
    "#     indices = np.arange(sz)\n",
    "#     np.random.shuffle(indices)\n",
    "\n",
    "#     X = [ data['text'][i] for i in indices ]\n",
    "#     Y = [ data['tag'][i] for i in indices ]\n",
    "#     nb_validation_samples = int( validation_split * sz )\n",
    "\n",
    "#     return { \n",
    "#         'train': { 'x': X[:-nb_validation_samples], 'y': Y[:-nb_validation_samples]  },\n",
    "#         'test': { 'x': X[-nb_validation_samples:], 'y': Y[-nb_validation_samples:]  }\n",
    "#     }"
   ]
  },
  {
   "cell_type": "code",
   "execution_count": null,
   "metadata": {},
   "outputs": [],
   "source": [
    "# print(\"[i] загружаем данные...\")\n",
    "# data = load_data()\n",
    "# print(\"\\tсчитано: \",len(data['text']))"
   ]
  },
  {
   "cell_type": "code",
   "execution_count": null,
   "metadata": {},
   "outputs": [],
   "source": [
    "#print(\"[i] очистка данных...\")\n",
    "#data['text'] = [ text_cleaner(t) for t in data['text'] ]\n",
    "\n",
    "# print(\"[i] разделение данных...\")\n",
    "# D = train_test_split( data )"
   ]
  }
 ],
 "metadata": {
  "kernelspec": {
   "display_name": "Python 3",
   "language": "python",
   "name": "python3"
  },
  "language_info": {
   "codemirror_mode": {
    "name": "ipython",
    "version": 3
   },
   "file_extension": ".py",
   "mimetype": "text/x-python",
   "name": "python",
   "nbconvert_exporter": "python",
   "pygments_lexer": "ipython3",
   "version": "3.7.1"
  },
  "toc": {
   "base_numbering": 1,
   "nav_menu": {},
   "number_sections": true,
   "sideBar": true,
   "skip_h1_title": false,
   "title_cell": "Table of Contents",
   "title_sidebar": "Contents",
   "toc_cell": false,
   "toc_position": {},
   "toc_section_display": true,
   "toc_window_display": false
  }
 },
 "nbformat": 4,
 "nbformat_minor": 2
}
