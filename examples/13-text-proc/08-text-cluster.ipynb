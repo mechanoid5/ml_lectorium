{
 "cells": [
  {
   "cell_type": "markdown",
   "metadata": {},
   "source": [
    "**извлечение признаков из текста на естественном языке**\n",
    "\n",
    "класстеризатор текстов\n",
    "\n",
    "частотный анализ с очисткой стоп-слов (TF)\n",
    "\n",
    "Евгений Борисов borisov.e@solarl.ru"
   ]
  },
  {
   "cell_type": "markdown",
   "metadata": {},
   "source": [
    "## библиотеки"
   ]
  },
  {
   "cell_type": "code",
   "execution_count": 1,
   "metadata": {},
   "outputs": [],
   "source": [
    "import numpy as np\n",
    "import pandas as pd\n",
    "import re"
   ]
  },
  {
   "cell_type": "code",
   "execution_count": 2,
   "metadata": {},
   "outputs": [],
   "source": [
    "from sklearn.feature_extraction.text import TfidfVectorizer\n",
    "from sklearn.cluster import KMeans"
   ]
  },
  {
   "cell_type": "code",
   "execution_count": 3,
   "metadata": {},
   "outputs": [],
   "source": [
    "pd.options.display.max_colwidth = 200  "
   ]
  },
  {
   "cell_type": "markdown",
   "metadata": {},
   "source": [
    "## тексты"
   ]
  },
  {
   "cell_type": "code",
   "execution_count": 4,
   "metadata": {},
   "outputs": [
    {
     "name": "stdout",
     "output_type": "stream",
     "text": [
      "записей: 3196\n"
     ]
    }
   ],
   "source": [
    "# загружаем тексты\n",
    "data = pd.read_pickle('../data/text/news.pkl')\n",
    "print('записей:',len(data))"
   ]
  },
  {
   "cell_type": "code",
   "execution_count": 5,
   "metadata": {},
   "outputs": [
    {
     "data": {
      "text/html": [
       "<div>\n",
       "<style scoped>\n",
       "    .dataframe tbody tr th:only-of-type {\n",
       "        vertical-align: middle;\n",
       "    }\n",
       "\n",
       "    .dataframe tbody tr th {\n",
       "        vertical-align: top;\n",
       "    }\n",
       "\n",
       "    .dataframe thead th {\n",
       "        text-align: right;\n",
       "    }\n",
       "</style>\n",
       "<table border=\"1\" class=\"dataframe\">\n",
       "  <thead>\n",
       "    <tr style=\"text-align: right;\">\n",
       "      <th></th>\n",
       "      <th>text</th>\n",
       "      <th>tag</th>\n",
       "    </tr>\n",
       "  </thead>\n",
       "  <tbody>\n",
       "    <tr>\n",
       "      <th>1674</th>\n",
       "      <td>Экс-президент СССР Михаил Горбачев заявил, что в границах Союза может появиться новое объединение, в которое добровольно войдут бывшие советские республики.\\n\\nОн отметил, что в качестве возврата ...</td>\n",
       "      <td>politics</td>\n",
       "    </tr>\n",
       "    <tr>\n",
       "      <th>2949</th>\n",
       "      <td>Новое поколение Q3 копания Audi строит, что вполне ожидаемо, на модульной платформе MQB концерна Volkswagen. Как утверждает издание Auto Bild, в Ингольштадте собираются воспользоваться всеми преим...</td>\n",
       "      <td>auto</td>\n",
       "    </tr>\n",
       "  </tbody>\n",
       "</table>\n",
       "</div>"
      ],
      "text/plain": [
       "                                                                                                                                                                                                         text  \\\n",
       "1674  Экс-президент СССР Михаил Горбачев заявил, что в границах Союза может появиться новое объединение, в которое добровольно войдут бывшие советские республики.\\n\\nОн отметил, что в качестве возврата ...   \n",
       "2949  Новое поколение Q3 копания Audi строит, что вполне ожидаемо, на модульной платформе MQB концерна Volkswagen. Как утверждает издание Auto Bild, в Ингольштадте собираются воспользоваться всеми преим...   \n",
       "\n",
       "           tag  \n",
       "1674  politics  \n",
       "2949      auto  "
      ]
     },
     "execution_count": 5,
     "metadata": {},
     "output_type": "execute_result"
    }
   ],
   "source": [
    "data.sample(2)"
   ]
  },
  {
   "cell_type": "markdown",
   "metadata": {},
   "source": [
    "## токенизация и очистка"
   ]
  },
  {
   "cell_type": "code",
   "execution_count": 6,
   "metadata": {},
   "outputs": [],
   "source": [
    "from Stemmer import Stemmer\n",
    "# pacman -S python-pystemmer\n",
    "# pip install pystemmer"
   ]
  },
  {
   "cell_type": "code",
   "execution_count": 7,
   "metadata": {},
   "outputs": [],
   "source": [
    "stopwords = [\n",
    "    'и', 'в', 'во', 'не', 'что', 'он', 'на', 'я', 'с', 'со', 'как', 'а', 'то', 'все', 'она', \n",
    "    'так', 'его', 'но',  'да', 'ты', 'к', 'у', 'же', 'вы', 'за', 'бы', 'по', 'только', 'ее', \n",
    "    'мне', 'было', 'вот', 'от', 'меня', 'еще', 'нет', 'о', 'из', 'ему', 'теперь', 'когда', \n",
    "    'даже', 'ну', 'вдруг', 'ли', 'если', 'уже', 'или',  'ни', 'быть', 'был', 'него', 'до', \n",
    "    'вас', 'нибудь', 'опять', 'уж', 'вам', 'ведь', 'там', 'потом', 'себя', 'ничего', 'ей', \n",
    "    'может', 'они', 'тут', 'где', 'есть', 'надо', 'ней', 'для', 'мы', 'тебя', 'их', 'чем',\n",
    "    'была', 'сам', 'чтоб', 'без', 'будто', 'чего', 'раз', 'тоже', 'себе', 'под', 'будет', \n",
    "    'ж', 'тогда', 'кто','этот', 'того', 'потому', 'этого', 'какой', 'совсем', 'ним', 'здесь', \n",
    "    'этом', 'один', 'почти', 'мой', 'тем','чтобы', 'нее', 'сейчас', 'были', 'куда', 'зачем',\n",
    "    'всех', 'никогда', 'можно', 'при', 'наконец', 'два','об', 'другой', 'хоть', 'после', \n",
    "    'над', 'больше', 'тот', 'через', 'эти', 'нас', 'про', 'всего', 'них','какая', 'много', \n",
    "    'разве', 'три', 'эту', 'моя', 'впрочем', 'хорошо', 'свою', 'этой', 'перед', 'иногда',\n",
    "    'лучше', 'чуть', 'том', 'нельзя', 'такой', 'им', 'более', \n",
    "    'всегда', 'конечно', 'всю', 'между']"
   ]
  },
  {
   "cell_type": "code",
   "execution_count": 8,
   "metadata": {},
   "outputs": [],
   "source": [
    "def preprocessor(text):\n",
    "    tt = [ t for t in text.split() if t ]\n",
    "    tt = [ t.lower()  for t in tt ] # приведение в lowercase\n",
    "    tt = [ re.sub( r'https?://[\\S]+', 'url', t)  for t in tt ]  # замена интернет ссылок\n",
    "    tt = [ re.sub( r'[\\w\\./]+\\.[a-z]+', 'url', t) for t in tt  ]  # замена интернет ссылок \n",
    "    tt = [ re.sub( r'<[^>]*>', '', t)  for t in tt ] # удаление html тагов\n",
    "    tt = [ re.sub( r'\\W', '', t)  for t in tt ] # удаление лишних символов (НЕ буква и НЕ цифра)\n",
    "    tt = [ t for t in tt if t not in stopwords ] # удаление (предлогов)\n",
    "    tt = Stemmer('russian').stemWords( tt ) # стемминг, выделение основы слова\n",
    "    tt = [ re.sub( r'\\b\\d+\\b', 'digit', t ) for t in tt ] # замена цифр\n",
    "    tt = [ t for t in tt if len(t)>2 ] # удаление коротких слов (предлогов)\n",
    "    return ' '.join( [ t.strip() for t in tt if t ] )\n",
    "    "
   ]
  },
  {
   "cell_type": "markdown",
   "metadata": {},
   "source": [
    "##  CountVectorizer + TF"
   ]
  },
  {
   "cell_type": "code",
   "execution_count": 47,
   "metadata": {},
   "outputs": [
    {
     "data": {
      "text/plain": [
       "TfidfVectorizer(analyzer='word', binary=False, decode_error='strict',\n",
       "        dtype=<class 'numpy.float64'>, encoding='utf-8', input='content',\n",
       "        lowercase=True, max_df=1.0, max_features=None, min_df=1,\n",
       "        ngram_range=(1, 1), norm='l2',\n",
       "        preprocessor=<function preprocessor at 0x7f1ea8635ea0>,\n",
       "        smooth_idf=True, stop_words=None, strip_accents=None,\n",
       "        sublinear_tf=False, token_pattern='(?u)\\\\b\\\\w\\\\w+\\\\b',\n",
       "        tokenizer=None, use_idf=False, vocabulary=None)"
      ]
     },
     "execution_count": 47,
     "metadata": {},
     "output_type": "execute_result"
    }
   ],
   "source": [
    "# TfidfVectorizer = CountVectorizer + TfidfTransformer\n",
    "\n",
    "from sklearn.feature_extraction.text import TfidfVectorizer\n",
    "\n",
    "# ручная очистка\n",
    "# tf = TfidfVectorizer(preprocessor=preprocessor,use_idf=False,norm=None)\n",
    "tf = TfidfVectorizer(preprocessor=preprocessor,use_idf=False,norm='l2')\n",
    "\n",
    "tf.fit( data['text'] )"
   ]
  },
  {
   "cell_type": "code",
   "execution_count": 48,
   "metadata": {},
   "outputs": [
    {
     "data": {
      "text/plain": [
       "37614"
      ]
     },
     "execution_count": 48,
     "metadata": {},
     "output_type": "execute_result"
    }
   ],
   "source": [
    "# размер словаря\n",
    "len(tf.vocabulary_)"
   ]
  },
  {
   "cell_type": "markdown",
   "metadata": {},
   "source": [
    "## формируем датасеты"
   ]
  },
  {
   "cell_type": "code",
   "execution_count": 49,
   "metadata": {},
   "outputs": [
    {
     "data": {
      "text/plain": [
       "(3196, 37614)"
      ]
     },
     "execution_count": 49,
     "metadata": {},
     "output_type": "execute_result"
    }
   ],
   "source": [
    "X = tf.transform( data['text'] ) # .todense()\n",
    "X.shape"
   ]
  },
  {
   "cell_type": "markdown",
   "metadata": {},
   "source": [
    "## кластеризируем"
   ]
  },
  {
   "cell_type": "code",
   "execution_count": 50,
   "metadata": {},
   "outputs": [],
   "source": [
    "from time import time\n",
    "def get_seed(): t = time() ; return int(((t%1)/(t//1))*1e11)"
   ]
  },
  {
   "cell_type": "code",
   "execution_count": 57,
   "metadata": {},
   "outputs": [
    {
     "name": "stdout",
     "output_type": "stream",
     "text": [
      "CPU times: user 1min 8s, sys: 99.5 ms, total: 1min 8s\n",
      "Wall time: 57.8 s\n"
     ]
    }
   ],
   "source": [
    "%%time\n",
    "\n",
    "n_clusters = len(set(data['tag']))\n",
    "# n_clusters = 5\n",
    "clust = KMeans(n_clusters=n_clusters, random_state=get_seed() )\n",
    "clust.fit(X)"
   ]
  },
  {
   "cell_type": "code",
   "execution_count": 58,
   "metadata": {},
   "outputs": [],
   "source": [
    "# set(clust.labels_)"
   ]
  },
  {
   "cell_type": "code",
   "execution_count": 59,
   "metadata": {},
   "outputs": [],
   "source": [
    "data['cluster'] = clust.labels_"
   ]
  },
  {
   "cell_type": "markdown",
   "metadata": {},
   "source": [
    "## тестируем"
   ]
  },
  {
   "cell_type": "code",
   "execution_count": 60,
   "metadata": {},
   "outputs": [
    {
     "data": {
      "text/plain": [
       "[133, 145, 47, 134, 313, 130, 129, 132, 46, 580, 641, 33, 733]"
      ]
     },
     "execution_count": 60,
     "metadata": {},
     "output_type": "execute_result"
    }
   ],
   "source": [
    "# размеры кластеров\n",
    "[ (data['cluster']==c).sum() for c in range(n_clusters) ]"
   ]
  },
  {
   "cell_type": "code",
   "execution_count": 61,
   "metadata": {},
   "outputs": [
    {
     "data": {
      "text/html": [
       "<div>\n",
       "<style scoped>\n",
       "    .dataframe tbody tr th:only-of-type {\n",
       "        vertical-align: middle;\n",
       "    }\n",
       "\n",
       "    .dataframe tbody tr th {\n",
       "        vertical-align: top;\n",
       "    }\n",
       "\n",
       "    .dataframe thead th {\n",
       "        text-align: right;\n",
       "    }\n",
       "</style>\n",
       "<table border=\"1\" class=\"dataframe\">\n",
       "  <thead>\n",
       "    <tr style=\"text-align: right;\">\n",
       "      <th></th>\n",
       "      <th>text</th>\n",
       "      <th>tag</th>\n",
       "      <th>cluster</th>\n",
       "    </tr>\n",
       "  </thead>\n",
       "  <tbody>\n",
       "    <tr>\n",
       "      <th>580</th>\n",
       "      <td>В Поставском районе столкнулись грузовик и Renault: пострадали два человека\\n\\n1 декабря 2016 в 10:47\\n\\nAUTO.TUT.BY\\n\\nДва человека получили травмы различной степени тяжести в ДТП, которое произо...</td>\n",
       "      <td>incident</td>\n",
       "      <td>1</td>\n",
       "    </tr>\n",
       "    <tr>\n",
       "      <th>558</th>\n",
       "      <td>Отец и дочь погибли в лобовой аварии в Дятловском районе, еще двое — в больнице\\n\\n3 декабря 2016 в 16:56\\n\\nAUTO.TUT.BY\\n\\nДва человека погибли, еще два получили травмы в ДТП, которое произошло 2...</td>\n",
       "      <td>incident</td>\n",
       "      <td>1</td>\n",
       "    </tr>\n",
       "    <tr>\n",
       "      <th>563</th>\n",
       "      <td>В Витебске лоб в лоб столкнулись милицейский автомобиль и медпомощь\\n\\n2 декабря 2016 в 15:50\\n\\nAUTO.TUT.BY\\n\\nДТП произошло 2 декабря в первом часу дня возле Кировского моста в Витебске. Столкну...</td>\n",
       "      <td>incident</td>\n",
       "      <td>1</td>\n",
       "    </tr>\n",
       "    <tr>\n",
       "      <th>2353</th>\n",
       "      <td>Все обстоятельства произошедшего будут установлены в ходе проверки. Фото: Иван ТИМОФЕЕВ\\n\\nВ Первомайском районе Ростова следователи проводят проверку по факту смерти семьи из трех человек. Тела о...</td>\n",
       "      <td>incident</td>\n",
       "      <td>1</td>\n",
       "    </tr>\n",
       "    <tr>\n",
       "      <th>2384</th>\n",
       "      <td>Момент, когда внедорожник \"Гелендваген\" сбил детей на переходе на Мосфильмовской улице в столице, попал на видео. Лайф публикует кадры произошедшей аварии.\\n\\nНапомним, сегодня около половины девя...</td>\n",
       "      <td>incident</td>\n",
       "      <td>1</td>\n",
       "    </tr>\n",
       "    <tr>\n",
       "      <th>2230</th>\n",
       "      <td>Авария произошла у дома 8 на проспекте Солидарности в Невском районе Петербурга. Грузовик Mitsubishi столкнулся с рейсовым автобусом №12, после чего автобус выехал на трамвайные рельсы. На место Д...</td>\n",
       "      <td>incident</td>\n",
       "      <td>1</td>\n",
       "    </tr>\n",
       "    <tr>\n",
       "      <th>2345</th>\n",
       "      <td>Сотрудники правоохранительных органов в частном доме в Ростове-на-Дону нашли тела трех человек, - сообщил источник в силовых структурах региона.\\n\\n\"Все трое погибших - взрослые люди. Предположите...</td>\n",
       "      <td>incident</td>\n",
       "      <td>1</td>\n",
       "    </tr>\n",
       "    <tr>\n",
       "      <th>2334</th>\n",
       "      <td>В Ростовской области сотрудники полиции устанавливают обстоятельства лобового столкновения двух грузовиков Volvo. В результате аварии травмы различной степени тяжести получили водители грузовых ма...</td>\n",
       "      <td>incident</td>\n",
       "      <td>1</td>\n",
       "    </tr>\n",
       "    <tr>\n",
       "      <th>2324</th>\n",
       "      <td>МОСКВА, 13 декабря. /ТАСС/. Бывшая сотрудница полиции, сбившая в состоянии алкогольного опьянения двух пешеходов в подмосковном Серпухове, частично признала вину. Об этом сообщили ТАСС в пресс-слу...</td>\n",
       "      <td>incident</td>\n",
       "      <td>1</td>\n",
       "    </tr>\n",
       "    <tr>\n",
       "      <th>2273</th>\n",
       "      <td>Пользователи Сети опубликовали видео с места массовой аварии на трассе в Кемеровской области. На кадрах видно, что на месте происшествия работают отряды спасателей, передаёт РЕН ТВ.\\n\\nМногие авто...</td>\n",
       "      <td>incident</td>\n",
       "      <td>1</td>\n",
       "    </tr>\n",
       "  </tbody>\n",
       "</table>\n",
       "</div>"
      ],
      "text/plain": [
       "                                                                                                                                                                                                         text  \\\n",
       "580   В Поставском районе столкнулись грузовик и Renault: пострадали два человека\\n\\n1 декабря 2016 в 10:47\\n\\nAUTO.TUT.BY\\n\\nДва человека получили травмы различной степени тяжести в ДТП, которое произо...   \n",
       "558   Отец и дочь погибли в лобовой аварии в Дятловском районе, еще двое — в больнице\\n\\n3 декабря 2016 в 16:56\\n\\nAUTO.TUT.BY\\n\\nДва человека погибли, еще два получили травмы в ДТП, которое произошло 2...   \n",
       "563   В Витебске лоб в лоб столкнулись милицейский автомобиль и медпомощь\\n\\n2 декабря 2016 в 15:50\\n\\nAUTO.TUT.BY\\n\\nДТП произошло 2 декабря в первом часу дня возле Кировского моста в Витебске. Столкну...   \n",
       "2353  Все обстоятельства произошедшего будут установлены в ходе проверки. Фото: Иван ТИМОФЕЕВ\\n\\nВ Первомайском районе Ростова следователи проводят проверку по факту смерти семьи из трех человек. Тела о...   \n",
       "2384  Момент, когда внедорожник \"Гелендваген\" сбил детей на переходе на Мосфильмовской улице в столице, попал на видео. Лайф публикует кадры произошедшей аварии.\\n\\nНапомним, сегодня около половины девя...   \n",
       "2230  Авария произошла у дома 8 на проспекте Солидарности в Невском районе Петербурга. Грузовик Mitsubishi столкнулся с рейсовым автобусом №12, после чего автобус выехал на трамвайные рельсы. На место Д...   \n",
       "2345  Сотрудники правоохранительных органов в частном доме в Ростове-на-Дону нашли тела трех человек, - сообщил источник в силовых структурах региона.\\n\\n\"Все трое погибших - взрослые люди. Предположите...   \n",
       "2334  В Ростовской области сотрудники полиции устанавливают обстоятельства лобового столкновения двух грузовиков Volvo. В результате аварии травмы различной степени тяжести получили водители грузовых ма...   \n",
       "2324  МОСКВА, 13 декабря. /ТАСС/. Бывшая сотрудница полиции, сбившая в состоянии алкогольного опьянения двух пешеходов в подмосковном Серпухове, частично признала вину. Об этом сообщили ТАСС в пресс-слу...   \n",
       "2273  Пользователи Сети опубликовали видео с места массовой аварии на трассе в Кемеровской области. На кадрах видно, что на месте происшествия работают отряды спасателей, передаёт РЕН ТВ.\\n\\nМногие авто...   \n",
       "\n",
       "           tag  cluster  \n",
       "580   incident        1  \n",
       "558   incident        1  \n",
       "563   incident        1  \n",
       "2353  incident        1  \n",
       "2384  incident        1  \n",
       "2230  incident        1  \n",
       "2345  incident        1  \n",
       "2334  incident        1  \n",
       "2324  incident        1  \n",
       "2273  incident        1  "
      ]
     },
     "execution_count": 61,
     "metadata": {},
     "output_type": "execute_result"
    }
   ],
   "source": [
    "data[ data['cluster']==1 ].sample(10)"
   ]
  },
  {
   "cell_type": "code",
   "execution_count": 37,
   "metadata": {},
   "outputs": [],
   "source": [
    "# data[ data['cluster']==1 ].sample(10)"
   ]
  },
  {
   "cell_type": "code",
   "execution_count": 36,
   "metadata": {},
   "outputs": [],
   "source": [
    "# data[ data['cluster']==2 ].sample(10)"
   ]
  },
  {
   "cell_type": "code",
   "execution_count": 35,
   "metadata": {},
   "outputs": [],
   "source": [
    "# data[ data['cluster']==4 ].sample(10)"
   ]
  },
  {
   "cell_type": "code",
   "execution_count": 25,
   "metadata": {},
   "outputs": [],
   "source": [
    "# data[ data['cluster']==9 ].sample(10)"
   ]
  },
  {
   "cell_type": "code",
   "execution_count": null,
   "metadata": {},
   "outputs": [],
   "source": []
  }
 ],
 "metadata": {
  "kernelspec": {
   "display_name": "Python 3",
   "language": "python",
   "name": "python3"
  },
  "language_info": {
   "codemirror_mode": {
    "name": "ipython",
    "version": 3
   },
   "file_extension": ".py",
   "mimetype": "text/x-python",
   "name": "python",
   "nbconvert_exporter": "python",
   "pygments_lexer": "ipython3",
   "version": "3.7.1"
  },
  "toc": {
   "base_numbering": 1,
   "nav_menu": {},
   "number_sections": true,
   "sideBar": true,
   "skip_h1_title": false,
   "title_cell": "Table of Contents",
   "title_sidebar": "Contents",
   "toc_cell": false,
   "toc_position": {},
   "toc_section_display": true,
   "toc_window_display": true
  }
 },
 "nbformat": 4,
 "nbformat_minor": 2
}
