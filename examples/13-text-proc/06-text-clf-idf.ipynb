{
 "cells": [
  {
   "cell_type": "markdown",
   "metadata": {},
   "source": [
    "**извлечение признаков из текста на естественном языке**\n",
    "\n",
    "классификатор текстов\n",
    "\n",
    "частотный анализ, понижаем значение признака для частых слов (IDF)\n",
    "\n",
    "Евгений Борисов borisov.e@solarl.ru"
   ]
  },
  {
   "cell_type": "markdown",
   "metadata": {},
   "source": [
    "## библиотеки"
   ]
  },
  {
   "cell_type": "code",
   "execution_count": 1,
   "metadata": {},
   "outputs": [],
   "source": [
    "import numpy as np\n",
    "import pandas as pd\n",
    "import re"
   ]
  },
  {
   "cell_type": "code",
   "execution_count": 2,
   "metadata": {},
   "outputs": [],
   "source": [
    "from sklearn.model_selection import train_test_split\n",
    "from sklearn.metrics import confusion_matrix\n",
    "from sklearn.metrics import classification_report\n",
    "from sklearn.metrics import accuracy_score"
   ]
  },
  {
   "cell_type": "code",
   "execution_count": 3,
   "metadata": {},
   "outputs": [],
   "source": [
    "pd.options.display.max_colwidth = 200  "
   ]
  },
  {
   "cell_type": "markdown",
   "metadata": {},
   "source": [
    "## тексты"
   ]
  },
  {
   "cell_type": "code",
   "execution_count": 4,
   "metadata": {},
   "outputs": [
    {
     "name": "stdout",
     "output_type": "stream",
     "text": [
      "записей: 3196\n"
     ]
    }
   ],
   "source": [
    "# загружаем тексты\n",
    "data = pd.read_pickle('../data/text/news.pkl')\n",
    "print('записей:',len(data))"
   ]
  },
  {
   "cell_type": "code",
   "execution_count": 5,
   "metadata": {},
   "outputs": [
    {
     "data": {
      "text/html": [
       "<div>\n",
       "<style scoped>\n",
       "    .dataframe tbody tr th:only-of-type {\n",
       "        vertical-align: middle;\n",
       "    }\n",
       "\n",
       "    .dataframe tbody tr th {\n",
       "        vertical-align: top;\n",
       "    }\n",
       "\n",
       "    .dataframe thead th {\n",
       "        text-align: right;\n",
       "    }\n",
       "</style>\n",
       "<table border=\"1\" class=\"dataframe\">\n",
       "  <thead>\n",
       "    <tr style=\"text-align: right;\">\n",
       "      <th></th>\n",
       "      <th>text</th>\n",
       "      <th>tag</th>\n",
       "    </tr>\n",
       "  </thead>\n",
       "  <tbody>\n",
       "    <tr>\n",
       "      <th>1904</th>\n",
       "      <td>Астрономы сообщили, что осадки на экзопланете HAT-P-7b выпадают в виде кристаллов рубинов и сапфиров.\\n\\nУченые находили планеты с облаками из экзотических материалов\\n\\nКак сообщают СМИ, речь иде...</td>\n",
       "      <td>science</td>\n",
       "    </tr>\n",
       "    <tr>\n",
       "      <th>3183</th>\n",
       "      <td>РАГС (rags.ru) На полку землепользователям Международная школа управления\\n?Интенсив? РАГС выпустила в свет сборник ?Землепользование в местах проживания\\nкоренных малочисленных народов России: за...</td>\n",
       "      <td>politics</td>\n",
       "    </tr>\n",
       "  </tbody>\n",
       "</table>\n",
       "</div>"
      ],
      "text/plain": [
       "                                                                                                                                                                                                         text  \\\n",
       "1904  Астрономы сообщили, что осадки на экзопланете HAT-P-7b выпадают в виде кристаллов рубинов и сапфиров.\\n\\nУченые находили планеты с облаками из экзотических материалов\\n\\nКак сообщают СМИ, речь иде...   \n",
       "3183  РАГС (rags.ru) На полку землепользователям Международная школа управления\\n?Интенсив? РАГС выпустила в свет сборник ?Землепользование в местах проживания\\nкоренных малочисленных народов России: за...   \n",
       "\n",
       "           tag  \n",
       "1904   science  \n",
       "3183  politics  "
      ]
     },
     "execution_count": 5,
     "metadata": {},
     "output_type": "execute_result"
    }
   ],
   "source": [
    "data.sample(2)"
   ]
  },
  {
   "cell_type": "markdown",
   "metadata": {},
   "source": [
    "##  CountVectorizer + TF-IDF"
   ]
  },
  {
   "cell_type": "code",
   "execution_count": 6,
   "metadata": {},
   "outputs": [],
   "source": [
    "def preprocessor(text):\n",
    "    tt = [ t for t in text.split() if t ]\n",
    "    tt = [ t.lower()  for t in tt ] # приведение в lowercase\n",
    "    tt = [ re.sub( r'https?://[\\S]+', 'url', t)  for t in tt ]  # замена интернет ссылок\n",
    "    tt = [ re.sub( r'[\\w\\./]+\\.[a-z]+', 'url', t) for t in tt  ]  # замена интернет ссылок \n",
    "    tt = [ re.sub( r'<[^>]*>', '', t)  for t in tt ] # удаление html тагов\n",
    "    tt = [ re.sub( r'\\W', '', t)  for t in tt ] # удаление лишних символов (НЕ буква и НЕ цифра)\n",
    "    tt = [ re.sub( r'\\b\\d+\\b', 'digit', t ) for t in tt ] # замена цифр\n",
    "    return ' '.join( [ t.strip() for t in tt if t ] )\n",
    "    "
   ]
  },
  {
   "cell_type": "code",
   "execution_count": 7,
   "metadata": {},
   "outputs": [
    {
     "data": {
      "text/plain": [
       "TfidfVectorizer(analyzer='word', binary=False, decode_error='strict',\n",
       "        dtype=<class 'numpy.float64'>, encoding='utf-8', input='content',\n",
       "        lowercase=True, max_df=1.0, max_features=None, min_df=1,\n",
       "        ngram_range=(1, 1), norm='l2',\n",
       "        preprocessor=<function preprocessor at 0x7f1b99ae3400>,\n",
       "        smooth_idf=True, stop_words=None, strip_accents=None,\n",
       "        sublinear_tf=False, token_pattern='(?u)\\\\b\\\\w\\\\w+\\\\b',\n",
       "        tokenizer=None, use_idf=True, vocabulary=None)"
      ]
     },
     "execution_count": 7,
     "metadata": {},
     "output_type": "execute_result"
    }
   ],
   "source": [
    "# TfidfVectorizer = CountVectorizer + TfidfTransformer\n",
    "from sklearn.feature_extraction.text import TfidfVectorizer\n",
    "\n",
    "# понижаем значение признака для частых слов (IDF)\n",
    "tf = TfidfVectorizer(preprocessor=preprocessor,use_idf=True,norm='l2')\n",
    "tf.fit( data['text'] )"
   ]
  },
  {
   "cell_type": "code",
   "execution_count": 8,
   "metadata": {},
   "outputs": [
    {
     "data": {
      "text/plain": [
       "85058"
      ]
     },
     "execution_count": 8,
     "metadata": {},
     "output_type": "execute_result"
    }
   ],
   "source": [
    "# размер словаря\n",
    "len(tf.vocabulary_)"
   ]
  },
  {
   "cell_type": "markdown",
   "metadata": {},
   "source": [
    "## формируем датасеты"
   ]
  },
  {
   "cell_type": "code",
   "execution_count": 9,
   "metadata": {},
   "outputs": [
    {
     "data": {
      "text/plain": [
       "(3196, 85058)"
      ]
     },
     "execution_count": 9,
     "metadata": {},
     "output_type": "execute_result"
    }
   ],
   "source": [
    "X = tf.transform( data['text'] ) # .todense()\n",
    "X.shape"
   ]
  },
  {
   "cell_type": "code",
   "execution_count": 10,
   "metadata": {},
   "outputs": [
    {
     "data": {
      "text/plain": [
       "{'auto': 0,\n",
       " 'culture': 1,\n",
       " 'economics': 2,\n",
       " 'health': 3,\n",
       " 'incident': 4,\n",
       " 'politics': 5,\n",
       " 'realty': 6,\n",
       " 'reclama': 7,\n",
       " 'science': 8,\n",
       " 'social': 9,\n",
       " 'sport': 10,\n",
       " 'tech': 11,\n",
       " 'woman': 12}"
      ]
     },
     "execution_count": 10,
     "metadata": {},
     "output_type": "execute_result"
    }
   ],
   "source": [
    "labels = { t:i for i,t in enumerate(sorted(set(data['tag']))) }\n",
    "labels"
   ]
  },
  {
   "cell_type": "code",
   "execution_count": 11,
   "metadata": {},
   "outputs": [
    {
     "data": {
      "text/plain": [
       "array([5, 1, 1, ..., 8, 5, 9])"
      ]
     },
     "execution_count": 11,
     "metadata": {},
     "output_type": "execute_result"
    }
   ],
   "source": [
    "y = data['tag'].map(labels).values\n",
    "y"
   ]
  },
  {
   "cell_type": "markdown",
   "metadata": {},
   "source": [
    "---"
   ]
  },
  {
   "cell_type": "code",
   "execution_count": 12,
   "metadata": {},
   "outputs": [],
   "source": [
    "from time import time\n",
    "def get_seed(): t = time() ; return int(((t%1)/(t//1))*1e11)"
   ]
  },
  {
   "cell_type": "code",
   "execution_count": 13,
   "metadata": {},
   "outputs": [
    {
     "data": {
      "text/plain": [
       "((319, 85058), (319,), (2877, 85058), (2877,))"
      ]
     },
     "execution_count": 13,
     "metadata": {},
     "output_type": "execute_result"
    }
   ],
   "source": [
    "X_train, X_test, y_train, y_test = train_test_split( X, y, test_size=0.9, random_state=get_seed() )\n",
    "X_train.shape, y_train.shape, X_test.shape, y_test.shape"
   ]
  },
  {
   "cell_type": "markdown",
   "metadata": {},
   "source": [
    "## обучаем"
   ]
  },
  {
   "cell_type": "code",
   "execution_count": 14,
   "metadata": {},
   "outputs": [
    {
     "data": {
      "text/plain": [
       "SGDClassifier(alpha=0.0001, average=False, class_weight=None,\n",
       "       early_stopping=False, epsilon=0.1, eta0=0.0, fit_intercept=True,\n",
       "       l1_ratio=0.15, learning_rate='optimal', loss='hinge', max_iter=1000,\n",
       "       n_iter=None, n_iter_no_change=5, n_jobs=None, penalty='l2',\n",
       "       power_t=0.5, random_state=None, shuffle=True, tol=None,\n",
       "       validation_fraction=0.1, verbose=0, warm_start=False)"
      ]
     },
     "execution_count": 14,
     "metadata": {},
     "output_type": "execute_result"
    }
   ],
   "source": [
    "from sklearn.linear_model import SGDClassifier\n",
    "\n",
    "clf = SGDClassifier(loss='hinge',max_iter=1000)\n",
    "clf.fit(X_train,y_train)"
   ]
  },
  {
   "cell_type": "markdown",
   "metadata": {},
   "source": [
    "## тестируем"
   ]
  },
  {
   "cell_type": "code",
   "execution_count": 15,
   "metadata": {},
   "outputs": [],
   "source": [
    "o = clf.predict(X_train)"
   ]
  },
  {
   "cell_type": "code",
   "execution_count": 16,
   "metadata": {},
   "outputs": [
    {
     "data": {
      "text/plain": [
       "1.0"
      ]
     },
     "execution_count": 16,
     "metadata": {},
     "output_type": "execute_result"
    }
   ],
   "source": [
    "accuracy_score(y_train,o)"
   ]
  },
  {
   "cell_type": "code",
   "execution_count": 17,
   "metadata": {},
   "outputs": [],
   "source": [
    "# print( classification_report(y_train,o) )"
   ]
  },
  {
   "cell_type": "markdown",
   "metadata": {},
   "source": [
    "---"
   ]
  },
  {
   "cell_type": "code",
   "execution_count": 18,
   "metadata": {},
   "outputs": [],
   "source": [
    "o = clf.predict(X_test)"
   ]
  },
  {
   "cell_type": "code",
   "execution_count": 19,
   "metadata": {},
   "outputs": [
    {
     "data": {
      "text/plain": [
       "0.7646854362182829"
      ]
     },
     "execution_count": 19,
     "metadata": {},
     "output_type": "execute_result"
    }
   ],
   "source": [
    "accuracy_score(y_test,o)"
   ]
  },
  {
   "cell_type": "code",
   "execution_count": 20,
   "metadata": {},
   "outputs": [
    {
     "name": "stdout",
     "output_type": "stream",
     "text": [
      "              precision    recall  f1-score   support\n",
      "\n",
      "           0       0.92      0.77      0.84       222\n",
      "           1       0.69      0.77      0.73       326\n",
      "           2       0.59      0.83      0.69       234\n",
      "           3       0.88      0.08      0.15        86\n",
      "           4       0.80      0.95      0.87       393\n",
      "           5       0.79      0.89      0.83       547\n",
      "           6       0.93      0.25      0.39        57\n",
      "           7       0.00      0.00      0.00        50\n",
      "           8       0.82      0.91      0.86       200\n",
      "           9       0.69      0.08      0.14       137\n",
      "          10       0.93      0.89      0.91       341\n",
      "          11       0.63      0.75      0.69       252\n",
      "          12       0.60      0.47      0.53        32\n",
      "\n",
      "   micro avg       0.76      0.76      0.76      2877\n",
      "   macro avg       0.71      0.59      0.59      2877\n",
      "weighted avg       0.76      0.76      0.73      2877\n",
      "\n"
     ]
    },
    {
     "name": "stderr",
     "output_type": "stream",
     "text": [
      "/usr/lib/python3.7/site-packages/sklearn/metrics/classification.py:1143: UndefinedMetricWarning: Precision and F-score are ill-defined and being set to 0.0 in labels with no predicted samples.\n",
      "  'precision', 'predicted', average, warn_for)\n"
     ]
    }
   ],
   "source": [
    "print( classification_report(y_test,o) )"
   ]
  },
  {
   "cell_type": "markdown",
   "metadata": {},
   "source": [
    "---"
   ]
  },
  {
   "cell_type": "code",
   "execution_count": 29,
   "metadata": {},
   "outputs": [],
   "source": [
    "# from matplotlib import pyplot as plt\n",
    "# import itertools\n",
    "\n",
    "# plt.figure(figsize=(10,9))\n",
    "\n",
    "# cm = confusion_matrix(y_test,o)\n",
    "# plt.imshow(cm, interpolation='nearest', cmap=plt.cm.Blues)\n",
    "# plt.title('Confusion matrix')\n",
    "# plt.colorbar()\n",
    "\n",
    "# classes = sorted(labels.keys())\n",
    "\n",
    "# tick_marks = np.arange(len(classes))\n",
    "# plt.xticks(tick_marks, classes, rotation=45)\n",
    "# plt.yticks(tick_marks, classes)\n",
    "\n",
    "# thresh = cm.max() / 2.\n",
    "# for i, j in itertools.product(range(cm.shape[0]), range(cm.shape[1])):\n",
    "#     plt.text(j, i, format(cm[i, j], 'd'),\n",
    "#              horizontalalignment=\"center\",\n",
    "#              color=\"white\" if cm[i, j] > thresh else \"black\")\n",
    "\n",
    "# plt.tight_layout()\n",
    "# plt.ylabel('True label')\n",
    "# plt.xlabel('Predicted label')\n",
    "\n",
    "# plt.show()"
   ]
  },
  {
   "cell_type": "markdown",
   "metadata": {},
   "source": [
    "---"
   ]
  },
  {
   "cell_type": "code",
   "execution_count": 22,
   "metadata": {},
   "outputs": [],
   "source": [
    "o = clf.predict(X)"
   ]
  },
  {
   "cell_type": "code",
   "execution_count": 23,
   "metadata": {},
   "outputs": [],
   "source": [
    "labels_inv = { labels[k]:k for k in labels}\n",
    "# labels_inv"
   ]
  },
  {
   "cell_type": "code",
   "execution_count": 24,
   "metadata": {},
   "outputs": [
    {
     "name": "stdout",
     "output_type": "stream",
     "text": [
      "tag: realty\n",
      "predict: realty\n",
      "- - - - - - - - - - - - - - - - - - \n",
      "\n",
      "Без посольства Турции и домов для многодетных. Какая судьба ждет район Орловской-Нововиленской\n",
      "\n",
      "1 декабря 2016 в 16:08\n",
      "\n",
      "Майя Кохно / REALTY.TUT.BY\n",
      "\n",
      "В среду, 30 ноября, в актовом зале администрации Центрального района прошла презентация проекта детального планирования территории в границах Орловской — Старовиленского тракта и переулка Нововиленского. Общая площадь участка проектирования от посольства России до Орловской составляет чуть более 16 гектаров. Как изменится район, движение транспорта и когда снесут старые дома — в репортаже TUT.BY\n",
      "\n",
      "До 2020 года — новые жилые дома и паркинги, после 2030 — снос старых домов\n",
      "\n",
      "Вечером в зале для обсуждения была занята примерно половина мест. Поначалу жители района хотели выступить сразу с вопросами, но все же выслушали презентацию главного архитектора проекта Ирины Обухович.\n",
      "\n",
      "Территория проектирования разделена условно на 2 квартала — западный и восточный. Застройка западного квартала представлена в основном двух-трехэтажными домами 1957−59 годов застройки. В этот же период были возведены 2 детских сада, которые в настоящее время реконструированы и модернизированы. В 2015 году были построены два дома для многодетных семей. В этом квартале уже снесены несколько домов по улице Нововиленской.\n",
      "\n",
      "Застройка восточной части не столь однородна — здесь по улице Нововиленской и по улице Орловской сохранились трехэтажные дома конца 50-х годов. Стоят дома по 9, 10 и 16 этажей.\n",
      "\n",
      "— Мы говорим сейчас о двух этапах развития. Первый — до 2020 года, который предусматривает строительство в западном квартале вдоль улицы Нововиленской группы жилых домов, которое закроет участки детских садов от дороги. Здесь предлагается застройка не типовая, современных форм, переменной этажности — от 3 до 6 этажей. На первых этажах и в пристройке будут размещаться объекты общественного обслуживания, наземный паркинг на 100 машино-мест и будет подземный паркинг на 135 машино-мест.\n",
      "\n",
      "При этом Обухович пояснила, что дома для многодетных в этом районе больше строить не будут. Это касалось лишь домов, которые были построены в 2015 году в восточной части.\n",
      "\n",
      "— В восточной части преобразования до 2020 года включают в себя в первую очередь вынос базы ЖРЭО и строительство на этом участке дома до 10 этажей.\n",
      "\n",
      "В первом этаже дома планируется создать физкультурно-оздоровительное учреждение, а во дворе — детскую спортивную и игровую площадки. Здесь же предусмотрено и строительство подземного паркинга на 120 машино-мест. На месте сносимого дома по адресу: Нововиленская, 12 будет построен жилой дом с подземным паркингом на 50 машино-мест.\n",
      "\n",
      "Дом под снос на Нововиленской, 12.\n",
      "\n",
      "— Что касается дальнейшего преобразования территории, то оно непосредственно связано со строительством по улице Орловской 4-й линии метро и многоуровневой развязки. В Генплане эта перспектива отнесена за 2030 год. Ориентировочно - в 2050 году.\n",
      "\n",
      "Также некоторые дома вдоль переулка Нововиленского планируется реконструировать с возможной надстройкой дополнительного этажа.\n",
      "\n",
      "— Но хочу отметить, что конкретные параметры реконструкции уже будут предусматриваться на следующих стадиях проектирования с учетом конструктивных особенностей и результата технического обследования этих зданий.\n",
      "\n",
      "Один из домов на Нововиленском переулке, где собираются надстроить дополнительный этаж.\n",
      "\n",
      "Таким образом на первом этапе до 2020 года проектно-жилищный фонд увеличится с 76 тыс. кв. м до примерно 92. После 30 года — примерно до 105 тыс. метров квадратных.\n",
      "\n",
      "— Обслуживание пассажирским транспортом будет осуществляться по улице Орловской маршрутами троллейбуса и автобуса. По Старовиленскому тракту — маршрутом трамвая и в перспективе 4 линией метро (станция \"Старовиленская\" по улице Орловской).\n",
      "\n",
      "Без посольства Турции, но с коммунальными проблемами и мансардами\n",
      "\n",
      "Выслушав презентацию, люди начали хаотично задавать вопросы, перебивать друг друга и выбегать к проекту за личной консультацией к архитектору. Тогда замглавы администрации Центрального района Иван Микульский попытался успокоить неравнодушных граждан. Вопрос о турецком посольстве разрешился с первых минут обсуждения и больше никого на встрече не волновал.\n",
      "\n",
      "«Турецкого посольства здесь, конечно, не будет. Немножко неверные данные пошли. Территория отдана под посольство, но турецкого там не будет», — сказала Обухович.\n",
      "\n",
      "Один из главных вопросов, который волновал граждан, — реконструкция домов по переулку Нововиленскому.\n",
      "\n",
      "«Вопросы с надстройкой, выселением, невыселением будут решаться, только когда будут проведены конкретные технические обследования», — пояснила Обухович.\n",
      "\n",
      "Иногда из зала доносились реплики не в рамках обсуждения, а касающиеся коммунальных проблемам: «Вопрос по дому улица Нововиленская, 14. У нас дом старый, там грибы и ничего не делается! Он все сносится и сносится. Он уже 15 лет идет под снос».\n",
      "\n",
      "Плесень на доме видна даже на скриншоте с карты Яндекс.\n",
      "\n",
      "Коммунальные вопросы волновали многих жителей района. Некоторые дома по статусу идут под снос, поэтому капитальный ремонт делать не планируется. В итоге местные не могут решить свои жилищные проблемы, ведь сроки сноса постоянно переносятся. Поэтому жители не знают, будет ли капремонт, реконструкция или снос и что они могут делать с жильем.\n",
      "\n",
      "«Вы постоянно создаете такие сроки, что мы находимся в подвешенном состоянии, где можно добиться четкости, конкретности?» — замечает женщина из зала.\n",
      "\n",
      "По таким вопросам Микульский советовал обращаться в ЖКХ или приходить к нему на прием.\n",
      "\n",
      "«Какая развязка, Орловская задыхается!»\n",
      "\n",
      "Кроме того, людей интересовали и транспортные проблемы: «Почему дома на Нововиленской и Орловской мешают стройке метро?».\n",
      "\n",
      "«Эти дома попадают под красную линию, кроме линии метро здесь будет еще многоуровневая развязка», — отвечает архитектор.\n",
      "\n",
      "«Какая развязка, Орловская задыхается! Вы хотите всунуть еще дома, увеличить плотность населения, выселить людей неизвестно куда!» — возмущается женщина в ответ.\n",
      "\n",
      "«Почему было отклонение от Генплана, по которому были предусмотрены трамвайные пути по Нововиленской, почему сейчас предлагается другой вариант?» — доносится голос из зала.\n",
      "\n",
      "— Сейчас мы не можем выдержать санитарные нормы трамвайной линии по вибрации и шуму, — говорит архитектор. — То есть мы бы так сознательно ухудшили условия. Эти новые дома призваны сформировать облик улицы Нововиленской и закрыть дворы детских садов.\n",
      "\n",
      "Жители отметили, что на улице Нововиленской в час пик постоянные пробки, поэтому поинтересовались, будет ли она расширяться в будущем. Как оказалось, число полос увеличат только до второго кольца, но вовсе не на обсуждаемом участке.\n",
      "\n",
      "«Будет реконструкция до второго транспортного кольца. Потоки будут распределяться по второму транспортному кольцу», — пояснил специалист. Зал возмутился в ответ. По мнению жителей, все будут все равно ехать в центр по Нововиленской.\n",
      "\n",
      "Одной из последних выступила жительница района Татьяна Фурсевич. Женщина попросила выйти к плану и прояснить ситуацию для жителей «что скрывается под этим соусом».\n",
      "\n",
      "— Со старых времен архитекторы сохраняли для нас зеленый коридор для трамвая, для того чтобы проложить нормальную дорогу в две полосы в каждом направлении, ну и, извините, посольскую улицу не обезобразить. Про вибрацию скажите жителям Площади Победы, все в порядке у них — в 5 утра уже просыпаются! Здесь ездят дипломатические представители, я уже молчу про подземный паркинг на огромное количество автомобилей, которые просто не смогут на эту улицу выехать, не говоря уже о потоках придомовой территории.\n",
      "\n",
      "«Есть ощущение, что мы очень хорошо живем, поэтому хотят сделать еще хуже», — после аплодисментов для Татьяны кричит мужчина из зала.\n",
      "\n",
      "Большую часть вопросов на встрече все же оставили без ответов и попросили написать обращения в администрацию Центрального района. Через полтора часа люди начали расходиться, а все желающие задали вопросы Микульскому и Обухович лично.\n",
      "\n",
      "Продлится общественное обсуждение до 22 декабря. Замечания и предложения в письменной и электронной форме по выставленному на общественное обсуждение проекту до 22.12.2016 можно направить в администрацию Центрального района г. Минска с пометкой «общественное обсуждение» (почтовый адрес: 220 004, г. Минск, ул. Мельникайте, 6; электронный адрес: cen. stroi@minsk.gov.by).\n"
     ]
    }
   ],
   "source": [
    "i = np.random.randint(len(data))\n",
    "print('tag:',data.iloc[i,1])\n",
    "print('predict:',labels_inv[o[i]])\n",
    "print('- - - - - - - - - - - - - - - - - - \\n')\n",
    "print(data.iloc[i,0])\n"
   ]
  },
  {
   "cell_type": "markdown",
   "metadata": {},
   "source": [
    "---"
   ]
  },
  {
   "cell_type": "code",
   "execution_count": 25,
   "metadata": {},
   "outputs": [],
   "source": [
    "# from sklearn.preprocessing import LabelEncoder\n",
    "# le = LabelEncoder()\n",
    "# le.fit(data['tag'])\n",
    "# print( list(le.classes_) )\n",
    "# y = le.transform(data['tag']) "
   ]
  },
  {
   "cell_type": "code",
   "execution_count": 26,
   "metadata": {},
   "outputs": [],
   "source": [
    "# from sklearn.pipeline import Pipeline\n",
    "# text_clf = Pipeline([\n",
    "#                 ('tfidf', TfidfVectorizer()),\n",
    "#                 ('clf', SGDClassifier(loss='hinge')),\n",
    "#                 ])\n",
    "# text_clf.fit()"
   ]
  },
  {
   "cell_type": "code",
   "execution_count": 27,
   "metadata": {},
   "outputs": [],
   "source": [
    "# from sklearn.model_selection import GridSearchCV"
   ]
  },
  {
   "cell_type": "markdown",
   "metadata": {},
   "source": [
    "---"
   ]
  },
  {
   "cell_type": "code",
   "execution_count": 28,
   "metadata": {},
   "outputs": [],
   "source": [
    "# Sebastian Raschka   Python Machine Learning  - Packt Publishing Ltd, 2015"
   ]
  }
 ],
 "metadata": {
  "kernelspec": {
   "display_name": "Python 3",
   "language": "python",
   "name": "python3"
  },
  "language_info": {
   "codemirror_mode": {
    "name": "ipython",
    "version": 3
   },
   "file_extension": ".py",
   "mimetype": "text/x-python",
   "name": "python",
   "nbconvert_exporter": "python",
   "pygments_lexer": "ipython3",
   "version": "3.7.1"
  },
  "toc": {
   "base_numbering": 1,
   "nav_menu": {},
   "number_sections": true,
   "sideBar": true,
   "skip_h1_title": false,
   "title_cell": "Table of Contents",
   "title_sidebar": "Contents",
   "toc_cell": false,
   "toc_position": {},
   "toc_section_display": true,
   "toc_window_display": true
  }
 },
 "nbformat": 4,
 "nbformat_minor": 2
}
