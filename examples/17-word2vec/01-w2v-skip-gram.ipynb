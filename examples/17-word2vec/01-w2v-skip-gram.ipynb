{
 "cells": [
  {
   "cell_type": "markdown",
   "metadata": {},
   "source": [
    "**извлечение признаков из текста на естественном языке**\n",
    "\n",
    "word2vec : skip-gram\n",
    "\n",
    "\n",
    "Евгений Борисов borisov.e@solarl.ru"
   ]
  },
  {
   "cell_type": "code",
   "execution_count": 1,
   "metadata": {},
   "outputs": [],
   "source": [
    "import sys\n",
    "import re\n",
    "import gzip\n",
    "import numpy as np\n",
    "# import scipy.io\n",
    "\n",
    "import matplotlib.pyplot as plt"
   ]
  },
  {
   "cell_type": "code",
   "execution_count": 2,
   "metadata": {},
   "outputs": [],
   "source": [
    "# загружаем предварительно очищенный текст\n",
    "# разрезаем текст на слова\n",
    "# удаляем пустые элементы\n",
    "with gzip.open('../data/text/text.txt.gz','rt') as f: \n",
    "    text = [ w for w in f.read().split() if w ]\n",
    "    \n",
    "# text"
   ]
  },
  {
   "cell_type": "code",
   "execution_count": 3,
   "metadata": {},
   "outputs": [],
   "source": [
    "words = sorted(set(text)) # словарь из текста\n",
    "# words"
   ]
  },
  {
   "cell_type": "code",
   "execution_count": 4,
   "metadata": {},
   "outputs": [],
   "source": [
    "# # сохраняем словарь\n",
    "# with open(\"result/words.txt\", \"w\") as f:\n",
    "#     for w in words:\n",
    "#         f.write(\"%s\\n\"%w)"
   ]
  },
  {
   "cell_type": "code",
   "execution_count": 5,
   "metadata": {},
   "outputs": [],
   "source": [
    "# заменяем слова в тексте их номерами в словаре\n",
    "vocab =  { words[i]:i for i in range(0,len(words)) }\n",
    "code = [ vocab[w] for w in text ]"
   ]
  },
  {
   "cell_type": "code",
   "execution_count": 6,
   "metadata": {},
   "outputs": [
    {
     "name": "stdout",
     "output_type": "stream",
     "text": [
      "размер словаря: 355 слов\n",
      "размер текста: 556 слов\n"
     ]
    }
   ],
   "source": [
    "n = len(words) # количество слов в словаре\n",
    "m = len(code) # количество слов в тексте \n",
    "print( \"размер словаря: %i слов\" % n )\n",
    "print( \"размер текста: %i слов\" % m )"
   ]
  },
  {
   "cell_type": "code",
   "execution_count": 7,
   "metadata": {},
   "outputs": [],
   "source": [
    "# унитарное кодирование словаря (one-hot-encoding)\n",
    "Ve = np.eye( n ) \n",
    "\n",
    "# кодированный текст (последовательность кодов слов)\n",
    "Te = Ve[code,:] "
   ]
  },
  {
   "cell_type": "code",
   "execution_count": 8,
   "metadata": {},
   "outputs": [],
   "source": [
    "# Te"
   ]
  },
  {
   "cell_type": "code",
   "execution_count": 9,
   "metadata": {},
   "outputs": [],
   "source": [
    "# формируем учебный набор...\n",
    "\n",
    "c = 3  # размер окна контекста, количество слов перед текущим словом и после него\n",
    "W = [] # слова\n",
    "C = [] # контекст для слов\n",
    "\n",
    "for i in range(c,m-c) :\n",
    "    W.append( Te[i,:] ) # код текущего слова\n",
    "    # контекст для текущего слова\n",
    "    C.append( np.vstack( ( Te[i-c:i,:] , Te[i+1:i+c+1,:] ) ).reshape(1,2*c,n) )"
   ]
  },
  {
   "cell_type": "code",
   "execution_count": 10,
   "metadata": {},
   "outputs": [
    {
     "data": {
      "text/plain": [
       "(550, 355)"
      ]
     },
     "execution_count": 10,
     "metadata": {},
     "output_type": "execute_result"
    }
   ],
   "source": [
    "W = np.vstack(W)\n",
    "W.shape"
   ]
  },
  {
   "cell_type": "code",
   "execution_count": 11,
   "metadata": {},
   "outputs": [
    {
     "data": {
      "text/plain": [
       "(550, 6, 355)"
      ]
     },
     "execution_count": 11,
     "metadata": {},
     "output_type": "execute_result"
    }
   ],
   "source": [
    "C = np.concatenate(C)\n",
    "C.shape"
   ]
  },
  {
   "cell_type": "code",
   "execution_count": 12,
   "metadata": {},
   "outputs": [],
   "source": [
    "# np.savez( \"result/data.npz\", W=W, C=C )\n",
    "# scipy.io.savemat(\"result/data.mat\", dict(W=W, C=C))"
   ]
  },
  {
   "cell_type": "markdown",
   "metadata": {},
   "source": [
    "---"
   ]
  },
  {
   "cell_type": "code",
   "execution_count": 13,
   "metadata": {},
   "outputs": [],
   "source": [
    "# ф-ция активации скрытого слоя - линейная\n",
    "# def act(s): return s\n",
    "\n",
    "# ф-ция активации выходного слоя\n",
    "def softmax(s): \n",
    "    e = np.exp(s)\n",
    "    return e/e.sum(axis=1).reshape(s.shape[0],1)"
   ]
  },
  {
   "cell_type": "code",
   "execution_count": 14,
   "metadata": {},
   "outputs": [],
   "source": [
    "def w2v_step(W,Vi,Vo):\n",
    "    H = W.dot(Vi) # значения скрытого слоя\n",
    "    U = H.dot(Vo) # состояния выходного слоя\n",
    "    O = softmax(U) # выход сети\n",
    "    return H,U,O\n"
   ]
  },
  {
   "cell_type": "markdown",
   "metadata": {},
   "source": [
    "Функция потери\n",
    "\n",
    "$$E = \\left| \\sum\\limits_i\\log\\left( \\sum\\limits_k \\exp(U_{ik}) \\right) - \\sum\\limits_i\\sum\\limits_k\\sum\\limits_j (U_{ik} * Q_{ijk}) \\right| $$\n",
    "\n",
    "\n",
    "$U_{ik}$ состояние k-того нейрона выходного слоя для слова $i$     \n",
    "$Q_{ij}$ слово $j$ контекста слова $i$   \n",
    "где ∗ - операция поэлементного умножения векторов"
   ]
  },
  {
   "cell_type": "code",
   "execution_count": 15,
   "metadata": {},
   "outputs": [],
   "source": [
    "def w2v_loss(U,C):\n",
    "    n,cws,v = C.shape \n",
    "    # количество примеров\n",
    "    # размер окна контекста   \n",
    "    # количество слов в словаре\n",
    "\n",
    "    Us = np.log( np.exp(U).sum(axis=1) ).sum()\n",
    "\n",
    "    Uo = 0.0\n",
    "    for i in range(cws): # для всех слов контекста\n",
    "        Ci = C[:,i,:].reshape([n,v]) # набор слов контекста i\n",
    "        Uo += (U*Ci).sum() # значения выходного слоя для слов x контекста i\n",
    "\n",
    "    return np.abs(Us-Uo)/n"
   ]
  },
  {
   "cell_type": "code",
   "execution_count": 16,
   "metadata": {},
   "outputs": [],
   "source": [
    "def w2v_grad(C,W,H,O,Vo):\n",
    "    n,cws,v = C.shape\n",
    "        # количество примеров\n",
    "        # размер окна контекста   \n",
    "        # количество слов в словаре\n",
    "\n",
    "    gVi = gVo = 0.0 \n",
    "\n",
    "    for i in range(cws):\n",
    "        Ci = C[:,i,:].reshape([n,v]) # слово i контекста\n",
    "        D = O - Ci # ошибка на слове контекста i\n",
    "        gVo += D.T.dot(H).T\n",
    "        gVi += W.T.dot(D).dot(Vo.T)\n",
    "\n",
    "    return gVi,gVo"
   ]
  },
  {
   "cell_type": "markdown",
   "metadata": {},
   "source": [
    "---"
   ]
  },
  {
   "cell_type": "code",
   "execution_count": 17,
   "metadata": {},
   "outputs": [],
   "source": [
    "def w2v_weigth_norm(v,w):\n",
    "    nn = np.linalg.norm( np.hstack([ v.flatten(), w.flatten() ]) )\n",
    "    #nn = np.abs( np.hstack([ v.flatten(), w.flatten() ]) ).max()\n",
    "    return (v/nn,w/nn) if nn!=0.0 else (v,w)"
   ]
  },
  {
   "cell_type": "markdown",
   "metadata": {},
   "source": [
    "---"
   ]
  },
  {
   "cell_type": "code",
   "execution_count": 18,
   "metadata": {},
   "outputs": [],
   "source": [
    "n = W.shape[1] # количество слов в словаре\n",
    "k = 30 # размер скрытого слоя H\n",
    "\n",
    "Vi = np.random.normal(scale=0.01,size=(n,k))\n",
    "Vo = np.random.normal(scale=0.01,size=(k,n))"
   ]
  },
  {
   "cell_type": "code",
   "execution_count": 19,
   "metadata": {},
   "outputs": [
    {
     "name": "stdout",
     "output_type": "stream",
     "text": [
      "1 5.872031783465984\n",
      "2 5.864214907459993\n",
      "3 5.843297821909195\n",
      "4 5.802773442045882\n",
      "5 5.740420002147729\n",
      "6 5.654833769371781\n",
      "7 5.545332932310307\n",
      "8 5.4117311936490005\n",
      "9 5.254404622651838\n",
      "10 5.074701139229757\n",
      "11 4.876117674346109\n",
      "12 4.666404441355965\n",
      "13 4.45339193805568\n",
      "14 4.235994448647477\n",
      "15 4.012590538876238\n",
      "16 3.7835372149874256\n",
      "17 3.549101068169535\n",
      "18 3.3093432557361764\n",
      "19 3.064483489791905\n",
      "20 2.8148732261815734\n",
      "21 2.5608588196199604\n",
      "22 2.3027163837523346\n",
      "23 2.040620252986337\n",
      "24 1.774653653231435\n",
      "25 1.5048862835844086\n",
      "26 1.2314831232223555\n",
      "27 0.9547792200610233\n",
      "28 0.6752694114603136\n",
      "29 0.39349114207434965\n",
      "30 0.1098511820902141\n",
      "31 0.1754874577819241\n"
     ]
    }
   ],
   "source": [
    "a = 0.91 # скорость обучения\n",
    "\n",
    "er = [1e10]\n",
    "\n",
    "for i in range(100):\n",
    "    H,U,O = w2v_step(W,Vi,Vo) # вычисляем состояния слоёв и выход\n",
    "    er.append(w2v_loss(U,C)) # вычисляем ошибку\n",
    "    print(i+1, er[-1])\n",
    "    if er[-1]>er[-2]: \n",
    "        Vi, Vo = Vi_old, Vo_old\n",
    "        break\n",
    "        \n",
    "    gVi, gVo = w2v_grad(C,W,H,O,Vo) # вычисляем градиент ф-ции потери\n",
    "    gVi,gVo = w2v_weigth_norm(gVi,gVo) # нормируем значения градиента\n",
    "    \n",
    "    Vi_old, Vo_old =  Vi, Vo # сохраняем старые веса\n",
    "    \n",
    "    Vi,Vo = Vi-a*gVi, Vo-a*gVo # корректируем веса\n"
   ]
  },
  {
   "cell_type": "code",
   "execution_count": 20,
   "metadata": {},
   "outputs": [
    {
     "data": {
      "image/png": "[encoded data removed]",
      "text/plain": [
       "<Figure size 432x288 with 1 Axes>"
      ]
     },
     "metadata": {
      "needs_background": "light"
     },
     "output_type": "display_data"
    }
   ],
   "source": [
    "er=er[1:]\n",
    "plt.plot(er)\n",
    "plt.grid()\n",
    "plt.show()"
   ]
  },
  {
   "cell_type": "markdown",
   "metadata": {},
   "source": [
    "---"
   ]
  },
  {
   "cell_type": "code",
   "execution_count": 21,
   "metadata": {},
   "outputs": [],
   "source": [
    "from sklearn.metrics.pairwise import pairwise_distances"
   ]
  },
  {
   "cell_type": "code",
   "execution_count": 22,
   "metadata": {},
   "outputs": [],
   "source": [
    "D = pairwise_distances(Vi) # матрица расстояний\n",
    "R = np.argsort(D) # номера слов в порядке увеличения расстояния"
   ]
  },
  {
   "cell_type": "code",
   "execution_count": 25,
   "metadata": {},
   "outputs": [
    {
     "data": {
      "text/plain": [
       "{'да': ['значит', 'отлаженный'],\n",
       " 'никогда': ['человек', 'мозгу'],\n",
       " 'понимаю': ['помог', 'почему'],\n",
       " 'почти': ['выбирай', 'тебя'],\n",
       " 'значит': ['отлаженный', 'хорошо'],\n",
       " 'порядка': ['сто', 'портала'],\n",
       " 'самому': ['иногда', 'корректировать'],\n",
       " 'его': ['может', 'затормозить'],\n",
       " 'человека': ['молодого', 'надежда'],\n",
       " 'поучительно': ['хороших', 'вам']}"
      ]
     },
     "execution_count": 25,
     "metadata": {},
     "output_type": "execute_result"
    }
   ],
   "source": [
    "vocab = { i:w for i,w in enumerate(words) } # нумеруем слов в словаре\n",
    "\n",
    "nn = np.random.permutation(len(words))[:10] # выбираем случайно N слов\n",
    "\n",
    "# для выбранных слов печатаем близкие по w2v\n",
    "{ vocab[i] : [ vocab[j] for j in  R[i,1:3]  ] for i in nn }"
   ]
  },
  {
   "cell_type": "code",
   "execution_count": null,
   "metadata": {},
   "outputs": [],
   "source": []
  }
 ],
 "metadata": {
  "kernelspec": {
   "display_name": "Python 3",
   "language": "python",
   "name": "python3"
  },
  "language_info": {
   "codemirror_mode": {
    "name": "ipython",
    "version": 3
   },
   "file_extension": ".py",
   "mimetype": "text/x-python",
   "name": "python",
   "nbconvert_exporter": "python",
   "pygments_lexer": "ipython3",
   "version": "3.7.2"
  },
  "toc": {
   "base_numbering": 1,
   "nav_menu": {},
   "number_sections": true,
   "sideBar": true,
   "skip_h1_title": false,
   "title_cell": "Table of Contents",
   "title_sidebar": "Contents",
   "toc_cell": false,
   "toc_position": {},
   "toc_section_display": true,
   "toc_window_display": false
  }
 },
 "nbformat": 4,
 "nbformat_minor": 2
}
