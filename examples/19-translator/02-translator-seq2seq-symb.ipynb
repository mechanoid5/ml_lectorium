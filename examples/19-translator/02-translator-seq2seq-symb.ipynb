{
 "cells": [
  {
   "cell_type": "markdown",
   "metadata": {},
   "source": [
    "**автоматический переводчик на основе рекуррентных нейросетей seq2seq**\n",
    "\n",
    "Евгений Борисов borisov.e@solarl.ru"
   ]
  },
  {
   "cell_type": "code",
   "execution_count": 5,
   "metadata": {},
   "outputs": [],
   "source": [
    "# https://blog.keras.io/a-ten-minute-introduction-to-sequence-to-sequence-learning-in-keras.html"
   ]
  },
  {
   "cell_type": "markdown",
   "metadata": {},
   "source": [
    "## Библиотеки"
   ]
  },
  {
   "cell_type": "code",
   "execution_count": 6,
   "metadata": {},
   "outputs": [],
   "source": [
    "import numpy as np\n",
    "import gzip\n",
    "\n",
    "from tensorflow.keras.models import Model\n",
    "from tensorflow.keras.layers import Input\n",
    "from tensorflow.keras.layers import LSTM\n",
    "from tensorflow.keras.layers import Dense"
   ]
  },
  {
   "cell_type": "code",
   "execution_count": 7,
   "metadata": {},
   "outputs": [],
   "source": [
    "def pp(d): return \"{:,.0f}\".format(d).replace(\",\", \" \")\n",
    "def ppr(d): print('записей:', pp(len(d)) )    "
   ]
  },
  {
   "cell_type": "markdown",
   "metadata": {},
   "source": [
    "## Данные"
   ]
  },
  {
   "cell_type": "code",
   "execution_count": 8,
   "metadata": {},
   "outputs": [
    {
     "name": "stdout",
     "output_type": "stream",
     "text": [
      "записей: 336 667\n"
     ]
    }
   ],
   "source": [
    "# http://www.manythings.org/anki/\n",
    "    \n",
    "# список фраз на английском с переводом на русский\n",
    "with gzip.open('../data/text/rus-eng/rus.txt.gz', 'rt', encoding='utf-8') as f:\n",
    "    lines = f.read().lower().split('\\n')\n",
    "\n",
    "ppr(lines)    "
   ]
  },
  {
   "cell_type": "markdown",
   "metadata": {},
   "source": [
    "---"
   ]
  },
  {
   "cell_type": "code",
   "execution_count": 9,
   "metadata": {},
   "outputs": [
    {
     "name": "stdout",
     "output_type": "stream",
     "text": [
      "записей: 10 000\n"
     ]
    }
   ],
   "source": [
    "# фразы упорядоченны по длине, выберем среднюю длину\n",
    "lines = [ lines[i] for i in range(100000,110000) ]\n",
    "ppr(lines)  "
   ]
  },
  {
   "cell_type": "code",
   "execution_count": 10,
   "metadata": {},
   "outputs": [],
   "source": [
    "# разбираем строки на русские и английские с сохранением порядка\n",
    "\n",
    "# определим специальные символы - начало и конец фразы\n",
    "GO='\\t' # символ <старт>\n",
    "EOS='\\n' # символ <стоп>\n",
    "\n",
    "input_texts  = [ s.split('\\t')[0] for s in lines if s ] \n",
    "target_texts = [ GO + ' ' + s.split('\\t')[1]+ ' ' + EOS for s in lines if s ]"
   ]
  },
  {
   "cell_type": "code",
   "execution_count": 11,
   "metadata": {},
   "outputs": [],
   "source": [
    "# входной и выходной алфавиты\n",
    "input_characters  = sorted(set(' '.join(input_texts)))\n",
    "target_characters = sorted(set(' '.join(target_texts)))"
   ]
  },
  {
   "cell_type": "code",
   "execution_count": 12,
   "metadata": {},
   "outputs": [],
   "source": [
    "# размер входного алфавита\n",
    "num_encoder_tokens = len(input_characters) \n",
    "# максимальная длина входной фразы в символах \n",
    "max_encoder_seq_length = max([len(txt) for txt in input_texts])\n",
    "\n",
    "# размер выходного алфавита\n",
    "num_decoder_tokens = len(target_characters)\n",
    "# максимальная длина выходной фразы в символах \n",
    "max_decoder_seq_length = max([len(txt) for txt in target_texts])"
   ]
  },
  {
   "cell_type": "code",
   "execution_count": 13,
   "metadata": {},
   "outputs": [],
   "source": [
    "# нумеруем символы в алфавите\n",
    "input_token_index = { char:i for i, char in enumerate(input_characters) }\n",
    "target_token_index = { char:i  for i, char in enumerate(target_characters) }"
   ]
  },
  {
   "cell_type": "markdown",
   "metadata": {},
   "source": [
    "## кодируем текст"
   ]
  },
  {
   "cell_type": "code",
   "execution_count": 14,
   "metadata": {},
   "outputs": [],
   "source": [
    "# строим статистическую модель порождения текста \n",
    "\n",
    "# Kyunghyun Cho, Bart van Merrienboer, Caglar Gulcehre, Dzmitry Bahdanau, Fethi Bougares,\n",
    "#     Holger Schwenk, Yoshua Bengio\n",
    "# Learning Phrase Representations using RNN Encoder-Decoder for Statistical Machine Translation\n",
    "# 3 Sep 2014\n",
    "# https://arxiv.org/abs/1406.1078\n",
    "\n",
    "\n",
    "# statistical machine translation system (SMT)\n",
    "\n",
    "# the goal of the system (decoder,specifically) is to \n",
    "# find a translation f given a source sentence e, which maximizes\n",
    "\n",
    "# p(f|e) ∝ p(e|f)p(f)\n",
    "\n"
   ]
  },
  {
   "cell_type": "code",
   "execution_count": 15,
   "metadata": {},
   "outputs": [],
   "source": [
    "# для каждого примера\n",
    "#   строим таблицу индикаторов  {0,1}\n",
    "#     [ номер символа в строке, номер символа в алфавите ] "
   ]
  },
  {
   "cell_type": "code",
   "execution_count": 16,
   "metadata": {},
   "outputs": [],
   "source": [
    "# данные энкодера \n",
    "\n",
    "# входная последовательность генерирует выход по схеме many2one \n",
    "#   выход энкодера выкидываем\n",
    "#    используем только его конечное состояние\n",
    "#      первым входом декодера есть служебное слово <пуск>\n",
    "encoder_input_data = np.zeros( (len(input_texts), max_encoder_seq_length, num_encoder_tokens), dtype='float32')\n",
    "\n",
    "for s, input_text in enumerate(input_texts):\n",
    "    for w, c in enumerate(input_text):\n",
    "        encoder_input_data[s, w, input_token_index[c]] = 1."
   ]
  },
  {
   "cell_type": "code",
   "execution_count": 17,
   "metadata": {},
   "outputs": [],
   "source": [
    "# данные декодера (для целевой последовательности), \n",
    "\n",
    "# память декодера инициализируеться конечным состянием памяти энкодера \n",
    "#   и на вход подаём служебное слово <пуск>    \n",
    "#    далее рекурсивно - очередной выход декодера подаёться на вход и генерирует следующий выход\n",
    "\n",
    "# вход декодера\n",
    "decoder_input_data = np.zeros( (len(input_texts), max_decoder_seq_length, num_decoder_tokens), dtype='float32')\n",
    "# выход декодера (вход смещённый на один шаг)\n",
    "decoder_target_data = np.zeros((len(input_texts), max_decoder_seq_length, num_decoder_tokens), dtype='float32')\n",
    "\n",
    "for i, target_text in enumerate(target_texts):\n",
    "    for t, char in enumerate(target_text):\n",
    "        decoder_input_data[i, t, target_token_index[char]] = 1.\n",
    "        if t > 0:\n",
    "            decoder_target_data[i, t - 1, target_token_index[char]] = 1."
   ]
  },
  {
   "cell_type": "markdown",
   "metadata": {},
   "source": [
    "## модель"
   ]
  },
  {
   "cell_type": "code",
   "execution_count": 18,
   "metadata": {},
   "outputs": [],
   "source": [
    "latent_dim = 512  # размер сети"
   ]
  },
  {
   "cell_type": "code",
   "execution_count": 19,
   "metadata": {},
   "outputs": [
    {
     "name": "stdout",
     "output_type": "stream",
     "text": [
      "WARNING:tensorflow:From /usr/lib/python3.7/site-packages/tensorflow/python/ops/resource_variable_ops.py:435: colocate_with (from tensorflow.python.framework.ops) is deprecated and will be removed in a future version.\n",
      "Instructions for updating:\n",
      "Colocations handled automatically by placer.\n"
     ]
    }
   ],
   "source": [
    "encoder_inputs = Input(shape=(None, num_encoder_tokens))\n",
    "encoder = LSTM(latent_dim, return_state=True)\n",
    "encoder_outputs, state_h, state_c = encoder(encoder_inputs)\n",
    "encoder_states = [state_h, state_c]"
   ]
  },
  {
   "cell_type": "code",
   "execution_count": 20,
   "metadata": {},
   "outputs": [],
   "source": [
    "decoder_inputs = Input(shape=(None, num_decoder_tokens))\n",
    "\n",
    "decoder_lstm = LSTM(latent_dim, return_sequences=True, return_state=True)\n",
    "decoder_outputs, _, _ = decoder_lstm(decoder_inputs,initial_state=encoder_states)\n",
    "decoder_dense = Dense(num_decoder_tokens, activation='softmax')\n",
    "decoder_outputs = decoder_dense(decoder_outputs)"
   ]
  },
  {
   "cell_type": "code",
   "execution_count": 21,
   "metadata": {},
   "outputs": [],
   "source": [
    "model = Model([encoder_inputs, decoder_inputs], decoder_outputs)"
   ]
  },
  {
   "cell_type": "code",
   "execution_count": 22,
   "metadata": {},
   "outputs": [
    {
     "name": "stdout",
     "output_type": "stream",
     "text": [
      "__________________________________________________________________________________________________\n",
      "Layer (type)                    Output Shape         Param #     Connected to                     \n",
      "==================================================================================================\n",
      "input_1 (InputLayer)            (None, None, 47)     0                                            \n",
      "__________________________________________________________________________________________________\n",
      "input_2 (InputLayer)            (None, None, 67)     0                                            \n",
      "__________________________________________________________________________________________________\n",
      "lstm (LSTM)                     [(None, 512), (None, 1146880     input_1[0][0]                    \n",
      "__________________________________________________________________________________________________\n",
      "lstm_1 (LSTM)                   [(None, None, 512),  1187840     input_2[0][0]                    \n",
      "                                                                 lstm[0][1]                       \n",
      "                                                                 lstm[0][2]                       \n",
      "__________________________________________________________________________________________________\n",
      "dense (Dense)                   (None, None, 67)     34371       lstm_1[0][0]                     \n",
      "==================================================================================================\n",
      "Total params: 2,369,091\n",
      "Trainable params: 2,369,091\n",
      "Non-trainable params: 0\n",
      "__________________________________________________________________________________________________\n"
     ]
    }
   ],
   "source": [
    "model.summary()"
   ]
  },
  {
   "cell_type": "code",
   "execution_count": 23,
   "metadata": {},
   "outputs": [],
   "source": [
    "# Run training\n",
    "model.compile(optimizer='rmsprop', loss='categorical_crossentropy')"
   ]
  },
  {
   "cell_type": "code",
   "execution_count": 34,
   "metadata": {},
   "outputs": [],
   "source": [
    "# from IPython.display import SVG\n",
    "# from keras.utils.vis_utils import model_to_dot\n",
    "\n",
    "# SVG(model_to_dot(model, \n",
    "#                  show_shapes=True,\n",
    "#                  show_layer_names=True).create(prog='dot',format='svg'))"
   ]
  },
  {
   "cell_type": "code",
   "execution_count": 37,
   "metadata": {},
   "outputs": [
    {
     "data": {
      "image/png": "[encoded data removed]",
      "text/plain": [
       "<IPython.core.display.Image object>"
      ]
     },
     "execution_count": 37,
     "metadata": {},
     "output_type": "execute_result"
    }
   ],
   "source": [
    "import IPython\n",
    "from tensorflow.keras.utils import plot_model\n",
    "plot_model(model,to_file='model.png' ,show_shapes=True, show_layer_names=True)\n",
    "\n",
    "IPython.display.Image('model.png')\n"
   ]
  },
  {
   "cell_type": "markdown",
   "metadata": {},
   "source": [
    "## обучаем модель"
   ]
  },
  {
   "cell_type": "code",
   "execution_count": 17,
   "metadata": {},
   "outputs": [
    {
     "name": "stdout",
     "output_type": "stream",
     "text": [
      "Train on 8000 samples, validate on 2000 samples\n",
      "WARNING:tensorflow:From /usr/lib/python3.7/site-packages/tensorflow/python/ops/math_ops.py:3066: to_int32 (from tensorflow.python.ops.math_ops) is deprecated and will be removed in a future version.\n",
      "Instructions for updating:\n",
      "Use tf.cast instead.\n",
      "WARNING:tensorflow:From /usr/lib/python3.7/site-packages/tensorflow/python/ops/math_grad.py:102: div (from tensorflow.python.ops.math_ops) is deprecated and will be removed in a future version.\n",
      "Instructions for updating:\n",
      "Deprecated in favor of operator or tf.math.divide.\n",
      "Epoch 1/100\n",
      "8000/8000 [==============================] - 104s 13ms/sample - loss: 1.1859 - val_loss: 1.1115\n",
      "Epoch 2/100\n",
      "8000/8000 [==============================] - 98s 12ms/sample - loss: 0.9547 - val_loss: 0.9483\n",
      "Epoch 3/100\n",
      "8000/8000 [==============================] - 100s 13ms/sample - loss: 0.8327 - val_loss: 0.8731\n",
      "Epoch 4/100\n",
      "8000/8000 [==============================] - 101s 13ms/sample - loss: 0.7779 - val_loss: 0.8298\n",
      "Epoch 5/100\n",
      "8000/8000 [==============================] - 98s 12ms/sample - loss: 0.7187 - val_loss: 0.7985\n",
      "Epoch 6/100\n",
      "8000/8000 [==============================] - 98s 12ms/sample - loss: 0.6745 - val_loss: 0.7664\n",
      "Epoch 7/100\n",
      "8000/8000 [==============================] - 98s 12ms/sample - loss: 0.6331 - val_loss: 0.7342\n",
      "Epoch 8/100\n",
      "8000/8000 [==============================] - 98s 12ms/sample - loss: 0.5971 - val_loss: 0.7164\n",
      "Epoch 9/100\n",
      "8000/8000 [==============================] - 98s 12ms/sample - loss: 0.5665 - val_loss: 0.7083\n",
      "Epoch 10/100\n",
      "8000/8000 [==============================] - 98s 12ms/sample - loss: 0.5385 - val_loss: 0.6871\n",
      "Epoch 11/100\n",
      "8000/8000 [==============================] - 98s 12ms/sample - loss: 0.5132 - val_loss: 0.6821\n",
      "Epoch 12/100\n",
      "8000/8000 [==============================] - 98s 12ms/sample - loss: 0.4890 - val_loss: 0.6734\n",
      "Epoch 13/100\n",
      "8000/8000 [==============================] - 99s 12ms/sample - loss: 0.4663 - val_loss: 0.6719\n",
      "Epoch 14/100\n",
      "8000/8000 [==============================] - 103s 13ms/sample - loss: 0.4444 - val_loss: 0.6723\n",
      "Epoch 15/100\n",
      "8000/8000 [==============================] - 103s 13ms/sample - loss: 0.4235 - val_loss: 0.6833\n",
      "Epoch 16/100\n",
      "8000/8000 [==============================] - 100s 13ms/sample - loss: 0.4034 - val_loss: 0.6824\n",
      "Epoch 17/100\n",
      "8000/8000 [==============================] - 102s 13ms/sample - loss: 0.3844 - val_loss: 0.6928\n",
      "Epoch 18/100\n",
      "8000/8000 [==============================] - 103s 13ms/sample - loss: 0.3655 - val_loss: 0.6990\n",
      "Epoch 19/100\n",
      "8000/8000 [==============================] - 101s 13ms/sample - loss: 0.3481 - val_loss: 0.7083\n",
      "Epoch 20/100\n",
      "8000/8000 [==============================] - 104s 13ms/sample - loss: 0.3308 - val_loss: 0.7179\n",
      "Epoch 21/100\n",
      "8000/8000 [==============================] - 103s 13ms/sample - loss: 0.3146 - val_loss: 0.7384\n",
      "Epoch 22/100\n",
      "8000/8000 [==============================] - 100s 13ms/sample - loss: 0.2997 - val_loss: 0.7493\n",
      "Epoch 23/100\n",
      "8000/8000 [==============================] - 99s 12ms/sample - loss: 0.2851 - val_loss: 0.7552\n",
      "Epoch 24/100\n",
      "8000/8000 [==============================] - 101s 13ms/sample - loss: 0.2711 - val_loss: 0.7710\n",
      "Epoch 25/100\n",
      "8000/8000 [==============================] - 100s 13ms/sample - loss: 0.2582 - val_loss: 0.7901\n",
      "Epoch 26/100\n",
      "8000/8000 [==============================] - 102s 13ms/sample - loss: 0.2462 - val_loss: 0.7928\n",
      "Epoch 27/100\n",
      "8000/8000 [==============================] - 101s 13ms/sample - loss: 0.2349 - val_loss: 0.8134\n",
      "Epoch 28/100\n",
      "8000/8000 [==============================] - 101s 13ms/sample - loss: 0.2246 - val_loss: 0.8352\n",
      "Epoch 29/100\n",
      "8000/8000 [==============================] - 100s 13ms/sample - loss: 0.2149 - val_loss: 0.8433\n",
      "Epoch 30/100\n",
      "8000/8000 [==============================] - 100s 12ms/sample - loss: 0.2063 - val_loss: 0.8587\n",
      "Epoch 31/100\n",
      "8000/8000 [==============================] - 100s 12ms/sample - loss: 0.1979 - val_loss: 0.8702\n",
      "Epoch 32/100\n",
      "8000/8000 [==============================] - 98s 12ms/sample - loss: 0.1902 - val_loss: 0.8948\n",
      "Epoch 33/100\n",
      "8000/8000 [==============================] - 98s 12ms/sample - loss: 0.1828 - val_loss: 0.9094\n",
      "Epoch 34/100\n",
      "8000/8000 [==============================] - 99s 12ms/sample - loss: 0.1765 - val_loss: 0.9254\n",
      "Epoch 35/100\n",
      "8000/8000 [==============================] - 98s 12ms/sample - loss: 0.1706 - val_loss: 0.9289\n",
      "Epoch 36/100\n",
      "8000/8000 [==============================] - 98s 12ms/sample - loss: 0.1654 - val_loss: 0.9323\n",
      "Epoch 37/100\n",
      "8000/8000 [==============================] - 98s 12ms/sample - loss: 0.1596 - val_loss: 0.9561\n",
      "Epoch 38/100\n",
      "8000/8000 [==============================] - 98s 12ms/sample - loss: 0.1552 - val_loss: 0.9778\n",
      "Epoch 39/100\n",
      "8000/8000 [==============================] - 98s 12ms/sample - loss: 0.1499 - val_loss: 0.9854\n",
      "Epoch 40/100\n",
      "8000/8000 [==============================] - 98s 12ms/sample - loss: 0.1458 - val_loss: 1.0142\n",
      "Epoch 41/100\n",
      "8000/8000 [==============================] - 98s 12ms/sample - loss: 0.1419 - val_loss: 1.0151\n",
      "Epoch 42/100\n",
      "8000/8000 [==============================] - 98s 12ms/sample - loss: 0.1374 - val_loss: 1.0237\n",
      "Epoch 43/100\n",
      "8000/8000 [==============================] - 98s 12ms/sample - loss: 0.1334 - val_loss: 1.0311\n",
      "Epoch 44/100\n",
      "8000/8000 [==============================] - 98s 12ms/sample - loss: 0.1299 - val_loss: 1.0501\n",
      "Epoch 45/100\n",
      "8000/8000 [==============================] - 99s 12ms/sample - loss: 0.1265 - val_loss: 1.0555\n",
      "Epoch 46/100\n",
      "8000/8000 [==============================] - 100s 13ms/sample - loss: 0.1229 - val_loss: 1.0818\n",
      "Epoch 47/100\n",
      "8000/8000 [==============================] - 107s 13ms/sample - loss: 0.1193 - val_loss: 1.1153\n",
      "Epoch 48/100\n",
      "8000/8000 [==============================] - 105s 13ms/sample - loss: 0.1164 - val_loss: 1.0839\n",
      "Epoch 49/100\n",
      "8000/8000 [==============================] - 115s 14ms/sample - loss: 0.1130 - val_loss: 1.1079\n",
      "Epoch 50/100\n",
      "8000/8000 [==============================] - 113s 14ms/sample - loss: 0.1100 - val_loss: 1.1169\n",
      "Epoch 51/100\n",
      "8000/8000 [==============================] - 112s 14ms/sample - loss: 0.1070 - val_loss: 1.1244\n",
      "Epoch 52/100\n",
      "8000/8000 [==============================] - 111s 14ms/sample - loss: 0.1037 - val_loss: 1.1227\n",
      "Epoch 53/100\n",
      "8000/8000 [==============================] - 106s 13ms/sample - loss: 0.1009 - val_loss: 1.1344\n",
      "Epoch 54/100\n",
      "8000/8000 [==============================] - 99s 12ms/sample - loss: 0.0980 - val_loss: 1.1605\n",
      "Epoch 55/100\n",
      "8000/8000 [==============================] - 100s 13ms/sample - loss: 0.0953 - val_loss: 1.1688\n",
      "Epoch 56/100\n",
      "8000/8000 [==============================] - 103s 13ms/sample - loss: 0.0927 - val_loss: 1.1900\n",
      "Epoch 57/100\n",
      "8000/8000 [==============================] - 114s 14ms/sample - loss: 0.0898 - val_loss: 1.1810\n",
      "Epoch 58/100\n",
      "8000/8000 [==============================] - 102s 13ms/sample - loss: 0.0869 - val_loss: 1.1906\n",
      "Epoch 59/100\n",
      "8000/8000 [==============================] - 109s 14ms/sample - loss: 0.0846 - val_loss: 1.1810\n",
      "Epoch 60/100\n",
      "8000/8000 [==============================] - 106s 13ms/sample - loss: 0.0819 - val_loss: 1.2120\n",
      "Epoch 61/100\n",
      "8000/8000 [==============================] - 117s 15ms/sample - loss: 0.0795 - val_loss: 1.2054\n",
      "Epoch 62/100\n",
      "8000/8000 [==============================] - 112s 14ms/sample - loss: 0.0768 - val_loss: 1.2358\n",
      "Epoch 63/100\n",
      "8000/8000 [==============================] - 112s 14ms/sample - loss: 0.0742 - val_loss: 1.2261\n",
      "Epoch 64/100\n",
      "8000/8000 [==============================] - 110s 14ms/sample - loss: 0.0720 - val_loss: 1.2632\n",
      "Epoch 65/100\n",
      "8000/8000 [==============================] - 106s 13ms/sample - loss: 0.0698 - val_loss: 1.2684\n",
      "Epoch 66/100\n",
      "8000/8000 [==============================] - 99s 12ms/sample - loss: 0.0676 - val_loss: 1.2645\n",
      "Epoch 67/100\n",
      "8000/8000 [==============================] - 98s 12ms/sample - loss: 0.0653 - val_loss: 1.2512\n",
      "Epoch 68/100\n",
      "8000/8000 [==============================] - 98s 12ms/sample - loss: 0.0634 - val_loss: 1.2705\n",
      "Epoch 69/100\n",
      "8000/8000 [==============================] - 98s 12ms/sample - loss: 0.0615 - val_loss: 1.2913\n",
      "Epoch 70/100\n",
      "8000/8000 [==============================] - 98s 12ms/sample - loss: 0.0595 - val_loss: 1.2825\n",
      "Epoch 71/100\n",
      "8000/8000 [==============================] - 98s 12ms/sample - loss: 0.0576 - val_loss: 1.2834\n",
      "Epoch 72/100\n",
      "8000/8000 [==============================] - 98s 12ms/sample - loss: 0.0562 - val_loss: 1.2857\n",
      "Epoch 73/100\n",
      "8000/8000 [==============================] - 98s 12ms/sample - loss: 0.0544 - val_loss: 1.3337\n",
      "Epoch 74/100\n",
      "8000/8000 [==============================] - 98s 12ms/sample - loss: 0.0526 - val_loss: 1.3054\n",
      "Epoch 75/100\n",
      "8000/8000 [==============================] - 98s 12ms/sample - loss: 0.0511 - val_loss: 1.3169\n",
      "Epoch 76/100\n",
      "8000/8000 [==============================] - 98s 12ms/sample - loss: 0.0497 - val_loss: 1.3128\n",
      "Epoch 77/100\n",
      "8000/8000 [==============================] - 98s 12ms/sample - loss: 0.0483 - val_loss: 1.3166\n",
      "Epoch 78/100\n",
      "8000/8000 [==============================] - 98s 12ms/sample - loss: 0.0467 - val_loss: 1.3258\n",
      "Epoch 79/100\n",
      "8000/8000 [==============================] - 98s 12ms/sample - loss: 0.0454 - val_loss: 1.3383\n",
      "Epoch 80/100\n",
      "8000/8000 [==============================] - 98s 12ms/sample - loss: 0.0444 - val_loss: 1.3336\n",
      "Epoch 81/100\n",
      "8000/8000 [==============================] - 100s 12ms/sample - loss: 0.0431 - val_loss: 1.3462\n",
      "Epoch 82/100\n",
      "8000/8000 [==============================] - 97s 12ms/sample - loss: 0.0427 - val_loss: 1.3526\n",
      "Epoch 83/100\n",
      "8000/8000 [==============================] - 98s 12ms/sample - loss: 0.0410 - val_loss: 1.3597\n",
      "Epoch 84/100\n",
      "8000/8000 [==============================] - 99s 12ms/sample - loss: 0.0398 - val_loss: 1.3673\n",
      "Epoch 85/100\n",
      "8000/8000 [==============================] - 98s 12ms/sample - loss: 0.0391 - val_loss: 1.3901\n",
      "Epoch 86/100\n",
      "8000/8000 [==============================] - 98s 12ms/sample - loss: 0.0385 - val_loss: 1.3604\n",
      "Epoch 87/100\n",
      "8000/8000 [==============================] - 98s 12ms/sample - loss: 0.0371 - val_loss: 1.3827\n",
      "Epoch 88/100\n",
      "8000/8000 [==============================] - 98s 12ms/sample - loss: 0.0366 - val_loss: 1.3851\n",
      "Epoch 89/100\n",
      "8000/8000 [==============================] - 98s 12ms/sample - loss: 0.0362 - val_loss: 1.3922\n",
      "Epoch 90/100\n",
      "8000/8000 [==============================] - 98s 12ms/sample - loss: 0.0353 - val_loss: 1.4054\n",
      "Epoch 91/100\n",
      "8000/8000 [==============================] - 127s 16ms/sample - loss: 0.0344 - val_loss: 1.4015\n",
      "Epoch 92/100\n",
      "8000/8000 [==============================] - 98s 12ms/sample - loss: 0.0339 - val_loss: 1.4123\n",
      "Epoch 93/100\n",
      "8000/8000 [==============================] - 98s 12ms/sample - loss: 0.0335 - val_loss: 1.3868\n",
      "Epoch 94/100\n",
      "8000/8000 [==============================] - 104s 13ms/sample - loss: 0.0327 - val_loss: 1.4025\n",
      "Epoch 95/100\n",
      "8000/8000 [==============================] - 98s 12ms/sample - loss: 0.0327 - val_loss: 1.4052\n",
      "Epoch 96/100\n",
      "8000/8000 [==============================] - 99s 12ms/sample - loss: 0.0319 - val_loss: 1.4226\n",
      "Epoch 97/100\n",
      "8000/8000 [==============================] - 98s 12ms/sample - loss: 0.0314 - val_loss: 1.4381\n",
      "Epoch 98/100\n",
      "8000/8000 [==============================] - 98s 12ms/sample - loss: 0.0312 - val_loss: 1.4234\n",
      "Epoch 99/100\n",
      "8000/8000 [==============================] - 98s 12ms/sample - loss: 0.0306 - val_loss: 1.4222\n",
      "Epoch 100/100\n",
      "8000/8000 [==============================] - 98s 12ms/sample - loss: 0.0307 - val_loss: 1.4316\n",
      "CPU times: user 1h 30min 20s, sys: 1h 9min 12s, total: 2h 39min 33s\n",
      "Wall time: 2h 48min 33s\n"
     ]
    }
   ],
   "source": [
    "%%time \n",
    "\n",
    "history = model.fit([encoder_input_data, decoder_input_data], decoder_target_data,\n",
    "          batch_size=100,\n",
    "          epochs=20,\n",
    "          validation_split=0.2\n",
    "        )"
   ]
  },
  {
   "cell_type": "code",
   "execution_count": 18,
   "metadata": {},
   "outputs": [],
   "source": [
    "# Save model\n",
    "# model.save('s2s.h5')"
   ]
  },
  {
   "cell_type": "markdown",
   "metadata": {},
   "source": [
    "## Тестируем"
   ]
  },
  {
   "cell_type": "code",
   "execution_count": 19,
   "metadata": {},
   "outputs": [],
   "source": [
    "encoder_model = Model(encoder_inputs, encoder_states)\n",
    "\n",
    "decoder_state_input_h = Input(shape=(latent_dim,))\n",
    "decoder_state_input_c = Input(shape=(latent_dim,))\n",
    "decoder_states_inputs = [decoder_state_input_h, decoder_state_input_c]\n",
    "decoder_outputs, state_h, state_c = decoder_lstm(decoder_inputs, initial_state=decoder_states_inputs)\n",
    "decoder_states = [state_h, state_c]\n",
    "decoder_outputs = decoder_dense(decoder_outputs)\n",
    "decoder_model = Model( [decoder_inputs] + decoder_states_inputs, [decoder_outputs] + decoder_states)"
   ]
  },
  {
   "cell_type": "code",
   "execution_count": 20,
   "metadata": {},
   "outputs": [],
   "source": [
    "reverse_input_char_index = { i:char for char,i in input_token_index.items() }\n",
    "reverse_target_char_index = { i:char for char,i in target_token_index.items() }"
   ]
  },
  {
   "cell_type": "code",
   "execution_count": 21,
   "metadata": {},
   "outputs": [],
   "source": [
    "def decode_sequence(input_seq):\n",
    "    # генерируем состояние энкодера\n",
    "    states_value = encoder_model.predict(input_seq)\n",
    "\n",
    "    # вход декодера - последовательность из одного слова GO\n",
    "    target_seq = np.zeros((1, 1, num_decoder_tokens))\n",
    "    target_seq[0, 0, target_token_index[GO]] = 1.\n",
    "\n",
    "    # выходную последовательность\n",
    "    stop_condition = False\n",
    "    decoded_sentence = ''\n",
    "    \n",
    "    for i in range(max_decoder_seq_length): \n",
    "        output_tokens, h, c = decoder_model.predict([target_seq] + states_value)\n",
    "\n",
    "        # декодируем символ\n",
    "        sampled_token_index = np.argmax(output_tokens[0, -1, :])\n",
    "        sampled_char = reverse_target_char_index[sampled_token_index]\n",
    "        decoded_sentence += sampled_char\n",
    "\n",
    "        # если очередной символ это EOS\n",
    "        if(sampled_char==EOS): break # то завершаем работу\n",
    "\n",
    "        # обновляем входную последовательность\n",
    "        target_seq = np.zeros((1, 1, num_decoder_tokens))\n",
    "        target_seq[0, 0, sampled_token_index] = 1.\n",
    "\n",
    "        # обновляем состояние сети\n",
    "        states_value = [h, c]\n",
    "\n",
    "    return decoded_sentence"
   ]
  },
  {
   "cell_type": "code",
   "execution_count": 36,
   "metadata": {},
   "outputs": [
    {
     "name": "stdout",
     "output_type": "stream",
     "text": [
      "what a beautiful woman!  ->   какая красивая женщина! \n",
      "\n",
      "tom will have to leave.  ->   тому придётся уехать. \n",
      "\n",
      "it doesn't matter, tom.  ->   это неважно, том. \n",
      "\n",
      "we'll never forget tom.  ->   мы никогда не забудем тома. \n",
      "\n",
      "do you have news for me?  ->   скажите тому, где вы. \n",
      "\n",
      "why don't you eat meat?  ->   почему ты не ешь мясо? \n",
      "\n",
      "the clothes are drying.  ->   одежда сохнет. \n",
      "\n",
      "no one will be at home.  ->   никого не будет дома. \n",
      "\n",
      "what is tom doing here?  ->   что том здесь делает? \n",
      "\n",
      "tom doesn't know where.  ->   том не знает где. \n",
      "\n",
      "crack is very addictive.  ->   спасибо за ссылку. \n",
      "\n",
      "don't you recognize tom?  ->   скажите это ему, а не мне! \n",
      "\n",
      "tom will do that later.  ->   том сделает это позже. \n",
      "\n",
      "please take care of it.  ->   пожалуйста, позаботьтесь об этом. \n",
      "\n",
      "tell tom what happened.  ->   расскажите тому, что случилось. \n",
      "\n",
      "tom doesn't like chess.  ->   том не любит шахматы. \n",
      "\n",
      "that's hard to believe.  ->   верится с трудом. \n",
      "\n",
      "does she play the piano?  ->   расскажите мне об этом парне. \n",
      "\n",
      "you can't trust anyone.  ->   никому нельзя доверять. \n",
      "\n",
      "let me take your coats.  ->   позвольте мне взять у вас пальто. \n",
      "\n",
      "this'll be interesting.  ->   это будет интересно. \n",
      "\n",
      "you never stop talking.  ->   вы болтаете без умолку. \n",
      "\n",
      "the bar is always open.  ->   бар всегда открыт. \n",
      "\n",
      "doesn't that bother you?  ->   скажите мне, где бу том? \n",
      "\n",
      "he had a blue jacket on.  ->   она мне не подреватесь. \n",
      "\n",
      "do you want to go there?  ->   выклю? \n",
      "\n",
      "he has an ear for music.  ->   она всегда весёт я рамствая. \n",
      "\n",
      "what do you plan to do?  ->   что ты планируешь делать? \n",
      "\n",
      "i'm wearing sunglasses.  ->   я в солнечных очках. \n",
      "\n",
      "are you messing with me?  ->   на и кому тебе очень подвыние? \n",
      "\n",
      "let them do their jobs.  ->   пусть они делают свою работу. \n",
      "\n",
      "you didn't have to ask.  ->   могли бы и не спрашивать. \n",
      "\n",
      "do you know how to swim?  ->   ты со меня простолону? \n",
      "\n",
      "will i see you tonight?  ->   мы с тобой сегодня вечером увидимся? \n",
      "\n",
      "tom sat in front of us.  ->   том сидел напротив нас. \n",
      "\n",
      "tom won't ask for help.  ->   том не попросит о помощи. \n",
      "\n",
      "this doll has big eyes.  ->   у этой куклы большие глаза. \n",
      "\n",
      "what are you all doing?  ->   что вы все делаете? \n",
      "\n",
      "thanks for the tickets.  ->   спасибо за поддержку. \n",
      "\n",
      "i'm washing the dishes.  ->   я мою посуду. \n",
      "\n",
      "that seems risky to me.  ->   мне это кажется рискованным. \n",
      "\n",
      "tom was reading a book.  ->   том читал книгу. \n",
      "\n",
      "can you count in french?  ->   мэри - хорошая актриса. \n",
      "\n",
      "tom wouldn't kiss mary.  ->   том не навредит мэри. \n",
      "\n",
      "aren't you tom's friend?  ->   наши команда очень хорошо справилась. \n",
      "\n",
      "my comment was deleted.  ->   мой комментарий удалили. \n",
      "\n",
      "your days are numbered.  ->   ты был на моей свадьбе. \n",
      "\n",
      "what are you afraid of?  ->   чего вы боитесь? \n",
      "\n",
      "i'm sorry for the mess.  ->   извиняюсь за беспорядок. \n",
      "\n",
      "tom is playing it safe.  ->   том действует наверняка. \n",
      "\n",
      "i'm not wide awake yet.  ->   я ещё не совсем проснулся. \n",
      "\n",
      "she has beautiful eyes.  ->   у неё красивые глаза. \n",
      "\n",
      "he objected to our plan.  ->   мы очень хотили. \n",
      "\n",
      "you're right, as usual.  ->   ты очень груб. \n",
      "\n",
      "your o's look like a's.  ->   ты хороший сосед. \n",
      "\n",
      "they will be very glad.  ->   они очень обрадуются. \n",
      "\n",
      "i've got tom's address.  ->   у меня есть адрес тома. \n",
      "\n",
      "who are we working for?  ->   на кого мы работаем? \n",
      "\n",
      "that wasn't your fault.  ->   это была не ваша вина. \n",
      "\n",
      "who are you describing?  ->   кого ты описываешь? \n",
      "\n",
      "tom told me i was cute.  ->   том сказал мне, что ты умерла. \n",
      "\n",
      "tom is mary's only son.  ->   том — единственный сын мэри. \n",
      "\n",
      "tom is perfect for you.  ->   том идеально тебе подходит. \n",
      "\n",
      "don't make me shoot you.  ->   на сегодня выглядет к там? \n",
      "\n",
      "she let the secret out.  ->   она раскрыла тайну. \n",
      "\n",
      "i'm listening to music.  ->   я слушаю музыку. \n",
      "\n",
      "we're all proud of you.  ->   мы все тобой гордимся. \n",
      "\n",
      "we mustn't tell anyone.  ->   мы не должны никому рассказывать. \n",
      "\n",
      "black looks good on you.  ->   всего мясум не не заверить? \n",
      "\n",
      "you'd better leave now.  ->   вам лучше сейчас уйти. \n",
      "\n",
      "you're reading my mind.  ->   ты на это напросился. \n",
      "\n",
      "are you alone right now?  ->   ну и какие у тебя планы? \n",
      "\n",
      "things stayed the same.  ->   всё осталось по-прежнему. \n",
      "\n",
      "i'm not going with you.  ->   я с вами не пойду. \n",
      "\n",
      "does tom live in boston?  ->   развезяте это напрая? \n",
      "\n",
      "are those your children?  ->   на и кому тебе очвнытны! \n",
      "\n",
      "my mother is a teacher.  ->   моя мать - учительница. \n",
      "\n",
      "tom is our best player.  ->   том, сейчас намного снаг. \n",
      "\n",
      "they're very dangerous.  ->   они очень опасны. \n",
      "\n",
      "my son came to my room.  ->   мой сын пришел в мою комнату. \n",
      "\n",
      "the system worked well.  ->   система работала хорошо. \n",
      "\n",
      "no one agreed with him.  ->   с ним никто не согласился. \n",
      "\n",
      "tom and i've been busy.  ->   мы с томом преподаватели. \n",
      "\n",
      "what time do you leave?  ->   во сколько вы уезжаете? \n",
      "\n",
      "tom will win, i'm sure.  ->   том выиграет, я уверен. \n",
      "\n",
      "don't ask me to do that.  ->   скажите мне, что это шутка. \n",
      "\n",
      "will he ever come back?  ->   он когда-нибудь вернётся? \n",
      "\n",
      "tom fell out of a tree.  ->   том упал с дерева. \n",
      "\n",
      "tom has a great memory.  ->   у тома прекрасная память. \n",
      "\n",
      "tom told me to do that.  ->   том велел мне это сделать. \n",
      "\n",
      "tom paints best in oil.  ->   том лучше всего пишет маслом. \n",
      "\n",
      "did you break something?  ->   разверят очень пробидел? \n",
      "\n",
      "we did that in october.  ->   мы сделали это в октябре. \n",
      "\n",
      "tom must've been drunk.  ->   том, должно быть, был прав. \n",
      "\n",
      "tom visited mary first.  ->   сначала том навестил мэри. \n",
      "\n",
      "tom was wearing gloves.  ->   том был в шертерме. \n",
      "\n",
      "tom left the next year.  ->   на следующий год том уехал. \n",
      "\n",
      "what will become of me?  ->   что со мной будет? \n",
      "\n",
      "the water's cold today.  ->   вода сегодня холодная. \n",
      "\n",
      "black looks good on you.  ->   всего мясум не не заверить? \n",
      "\n"
     ]
    }
   ],
   "source": [
    "ii = np.random.permutation(len(encoder_input_data))[:100]\n",
    "for seq_index in ii:\n",
    "    input_seq = encoder_input_data[seq_index: seq_index + 1]\n",
    "    decoded_sentence = decode_sequence(input_seq)\n",
    "    print( input_texts[seq_index],' -> ', decoded_sentence)"
   ]
  },
  {
   "cell_type": "markdown",
   "metadata": {},
   "source": [
    "---"
   ]
  },
  {
   "cell_type": "code",
   "execution_count": 23,
   "metadata": {},
   "outputs": [],
   "source": [
    "# import matplotlib.pyplot as plt"
   ]
  },
  {
   "cell_type": "code",
   "execution_count": 24,
   "metadata": {
    "collapsed": true
   },
   "outputs": [
    {
     "data": {
      "text/plain": [
       "dict_keys(['loss', 'val_loss'])"
      ]
     },
     "execution_count": 24,
     "metadata": {},
     "output_type": "execute_result"
    }
   ],
   "source": [
    "# history_dict = history.history\n",
    "# history_dict.keys()"
   ]
  },
  {
   "cell_type": "code",
   "execution_count": 25,
   "metadata": {
    "collapsed": true
   },
   "outputs": [
    {
     "data": {
      "image/png": "[encoded data removed]",
      "text/plain": [
       "<Figure size 432x288 with 1 Axes>"
      ]
     },
     "metadata": {
      "needs_background": "light"
     },
     "output_type": "display_data"
    }
   ],
   "source": [
    "# loss = history.history['loss']\n",
    "# val_loss = history.history['val_loss']\n",
    "\n",
    "# epochs = range(1, len(loss) + 1)\n",
    "# plt.plot(epochs, loss, 'b', label='Training loss')\n",
    "# plt.plot(epochs, val_loss, 'r', label='Validation loss')\n",
    "# plt.title('Training and validation loss')\n",
    "# plt.xlabel('Epochs')\n",
    "# plt.ylabel('Loss')\n",
    "# plt.legend()\n",
    "\n",
    "# plt.show()"
   ]
  },
  {
   "cell_type": "markdown",
   "metadata": {},
   "source": [
    "---"
   ]
  },
  {
   "cell_type": "code",
   "execution_count": 32,
   "metadata": {},
   "outputs": [],
   "source": [
    "import tensorflow as tf\n",
    "from tensorflow import keras\n",
    "from tensorflow.python.client import device_lib"
   ]
  },
  {
   "cell_type": "code",
   "execution_count": 33,
   "metadata": {},
   "outputs": [
    {
     "name": "stdout",
     "output_type": "stream",
     "text": [
      "tensorflow: 1.13.1\n",
      "keras: 2.2.4-tf\n",
      "GPU devices:\n",
      "   [['/device:GPU:0', 'device: 0, name: GeForce GT 730, pci bus id: 0000:01:00.0, compute capability: 3.5']]\n",
      "default GPU device: /device:GPU:0\n"
     ]
    }
   ],
   "source": [
    "print('tensorflow:', tf.__version__)\n",
    "print('keras:', keras.__version__)\n",
    "\n",
    "if tf.test.is_built_with_cuda():\n",
    "    print('GPU devices:\\n  ',\n",
    "        [ [x.name, x.physical_device_desc] \n",
    "          for x in device_lib.list_local_devices() \n",
    "          if x.device_type == 'GPU' ]\n",
    "    )\n",
    "    print('default GPU device:', tf.test.gpu_device_name() )\n",
    "\n",
    "else:\n",
    "    print('no GPU device found')\n",
    "    "
   ]
  }
 ],
 "metadata": {
  "kernelspec": {
   "display_name": "Python 3",
   "language": "python",
   "name": "python3"
  },
  "language_info": {
   "codemirror_mode": {
    "name": "ipython",
    "version": 3
   },
   "file_extension": ".py",
   "mimetype": "text/x-python",
   "name": "python",
   "nbconvert_exporter": "python",
   "pygments_lexer": "ipython3",
   "version": "3.7.3"
  },
  "toc": {
   "base_numbering": 1,
   "nav_menu": {},
   "number_sections": true,
   "sideBar": true,
   "skip_h1_title": false,
   "title_cell": "Table of Contents",
   "title_sidebar": "Contents",
   "toc_cell": false,
   "toc_position": {},
   "toc_section_display": true,
   "toc_window_display": true
  }
 },
 "nbformat": 4,
 "nbformat_minor": 2
}
