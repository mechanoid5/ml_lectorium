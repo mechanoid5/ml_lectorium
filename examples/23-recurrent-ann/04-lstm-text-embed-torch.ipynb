{
 "cells": [
  {
   "cell_type": "markdown",
   "metadata": {},
   "source": [
    "**классификатор текстов LSTM**\n",
    "\n",
    "Евгений Борисов <esborisov@sevsu.ru>"
   ]
  },
  {
   "cell_type": "markdown",
   "metadata": {},
   "source": [
    "https://habr.com/ru/company/dca/blog/274027/    \n",
    "http://help.sentiment140.com/for-students/   \n",
    "http://study.mokoron.com  "
   ]
  },
  {
   "cell_type": "markdown",
   "metadata": {},
   "source": [
    "## Библиотеки"
   ]
  },
  {
   "cell_type": "code",
   "execution_count": 1,
   "metadata": {},
   "outputs": [],
   "source": [
    "import numpy as np\n",
    "import numpy.random as rng\n",
    "\n",
    "import pandas as pd\n",
    "pd.options.display.max_colwidth = 200  \n",
    "import re\n",
    "# import gzip\n",
    "from tqdm import tqdm\n",
    "import matplotlib.pyplot as plt"
   ]
  },
  {
   "cell_type": "code",
   "execution_count": 2,
   "metadata": {},
   "outputs": [],
   "source": [
    "import torch\n",
    "import torch.nn as nn\n",
    "# from torchviz import make_dot"
   ]
  },
  {
   "cell_type": "code",
   "execution_count": 3,
   "metadata": {},
   "outputs": [],
   "source": [
    "tqdm.pandas()"
   ]
  },
  {
   "cell_type": "code",
   "execution_count": 4,
   "metadata": {},
   "outputs": [],
   "source": [
    "def pp(d): return \"{:,.0f}\".format(d).replace(\",\", \" \")\n",
    "def ppr(d): print('записей:', pp(len(d)) )  "
   ]
  },
  {
   "cell_type": "markdown",
   "metadata": {},
   "source": [
    "## Данные"
   ]
  },
  {
   "cell_type": "raw",
   "metadata": {},
   "source": [
    "Ю. В. Рубцова. Построение корпуса текстов для настройки тонового классификатора // Программные продукты и системы, 2015, №1(109), –С.72-78\n",
    "\n",
    "http://study.mokoron.com\n",
    "\n",
    "– id: уникальный номер сообщения в системе twitter;\n",
    "– tdate: дата публикации сообщения (твита);\n",
    "– tmane: имя пользователя, опубликовавшего сообщение;\n",
    "– ttext:  текст сообщения (твита);\n",
    "– ttype: поле в котором в дальнейшем будет указано к кому классу относится твит (положительный, отрицательный, нейтральный);\n",
    "– trep: количество реплаев к данному сообщению. В настоящий момент API твиттера не отдает эту информацию;\n",
    "– tfav: число сколько раз данное сообщение было добавлено в избранное другими пользователями;\n",
    "– tstcount: число всех сообщений пользователя в сети twitter;\n",
    "– tfol: количество фоловеров пользователя (тех людей, которые читают пользователя);\n",
    "– tfrien: количество друзей пользователя (те люди, которых читает пользователь);\n",
    "– listcount: количество листов-подписок в которые добавлен твиттер-пользователь."
   ]
  },
  {
   "cell_type": "code",
   "execution_count": 5,
   "metadata": {},
   "outputs": [],
   "source": [
    "ff = ['id', 'tdate', 'tmane', 'ttext', 'ttype', 'trep', 'tfav', 'tstcount', 'tfol', 'tfrien', 'listcount','unk']"
   ]
  },
  {
   "cell_type": "code",
   "execution_count": 6,
   "metadata": {},
   "outputs": [
    {
     "name": "stdout",
     "output_type": "stream",
     "text": [
      "записей: 111 923\n"
     ]
    }
   ],
   "source": [
    "neg = pd.read_csv('../data/twit/negative.csv.gz',sep=';',header=None)\n",
    "ppr(neg)\n",
    "neg.columns = ff"
   ]
  },
  {
   "cell_type": "code",
   "execution_count": 7,
   "metadata": {},
   "outputs": [
    {
     "name": "stdout",
     "output_type": "stream",
     "text": [
      "записей: 114 910\n"
     ]
    }
   ],
   "source": [
    "pos = pd.read_csv('../data/twit/positive.csv.gz',sep=';')\n",
    "ppr(pos)\n",
    "pos.columns = ff"
   ]
  },
  {
   "cell_type": "code",
   "execution_count": 8,
   "metadata": {},
   "outputs": [
    {
     "name": "stdout",
     "output_type": "stream",
     "text": [
      "записей: 226 833\n"
     ]
    }
   ],
   "source": [
    "data = pd.concat([pos,neg],sort=False)[['id','ttext', 'ttype']]\n",
    "ppr(data)"
   ]
  },
  {
   "cell_type": "code",
   "execution_count": 9,
   "metadata": {},
   "outputs": [
    {
     "data": {
      "text/html": [
       "<div>\n",
       "<style scoped>\n",
       "    .dataframe tbody tr th:only-of-type {\n",
       "        vertical-align: middle;\n",
       "    }\n",
       "\n",
       "    .dataframe tbody tr th {\n",
       "        vertical-align: top;\n",
       "    }\n",
       "\n",
       "    .dataframe thead th {\n",
       "        text-align: right;\n",
       "    }\n",
       "</style>\n",
       "<table border=\"1\" class=\"dataframe\">\n",
       "  <thead>\n",
       "    <tr style=\"text-align: right;\">\n",
       "      <th></th>\n",
       "      <th>id</th>\n",
       "      <th>ttext</th>\n",
       "      <th>ttype</th>\n",
       "    </tr>\n",
       "  </thead>\n",
       "  <tbody>\n",
       "    <tr>\n",
       "      <th>95605</th>\n",
       "      <td>422664957558157312</td>\n",
       "      <td>@interlicious @Svetlyi уже нет. Но и не мерзость, как северная Европа. А Рим и Барса выходят дорого за всё вместе((</td>\n",
       "      <td>-1</td>\n",
       "    </tr>\n",
       "    <tr>\n",
       "      <th>10140</th>\n",
       "      <td>410395785487220736</td>\n",
       "      <td>Видимо, приветствуя морозы, у меня активизировался хронический гайморит( С противной темпрой и гнусавым голосом в эфире( фак</td>\n",
       "      <td>-1</td>\n",
       "    </tr>\n",
       "    <tr>\n",
       "      <th>72653</th>\n",
       "      <td>418163455372587008</td>\n",
       "      <td>RT @Bulletproof_5: @stringushi я уже побухал, но чета как та фу (((( так чтоо сижу смотрю телик тихонечко</td>\n",
       "      <td>-1</td>\n",
       "    </tr>\n",
       "    <tr>\n",
       "      <th>26355</th>\n",
       "      <td>412281633622855681</td>\n",
       "      <td>блин. че за хрень?..позвонил.. теперь не отвечаешь..(</td>\n",
       "      <td>-1</td>\n",
       "    </tr>\n",
       "    <tr>\n",
       "      <th>34179</th>\n",
       "      <td>409764109157408768</td>\n",
       "      <td>-нам дают плов в миске. На месяц\\n-по одной рисенке в день? \\n-там вообще риса нету, там картинка \\nПхахах)</td>\n",
       "      <td>1</td>\n",
       "    </tr>\n",
       "    <tr>\n",
       "      <th>8699</th>\n",
       "      <td>410130850983190529</td>\n",
       "      <td>Ну  вот  допрыгалась!  опять голова  заболела!(((</td>\n",
       "      <td>-1</td>\n",
       "    </tr>\n",
       "    <tr>\n",
       "      <th>17523</th>\n",
       "      <td>409371855569432576</td>\n",
       "      <td>Веселились на танцах)) А я не хотела идти! Хорошо что пошла))</td>\n",
       "      <td>1</td>\n",
       "    </tr>\n",
       "    <tr>\n",
       "      <th>67015</th>\n",
       "      <td>410389060088127488</td>\n",
       "      <td>Сказочная, новогодняя атмосфера.❄ Обожаю этот период.)</td>\n",
       "      <td>1</td>\n",
       "    </tr>\n",
       "    <tr>\n",
       "      <th>60650</th>\n",
       "      <td>410282570333831168</td>\n",
       "      <td>@PinkShinigami скоро на почту все равно идти, заодно и отправишь все 8)</td>\n",
       "      <td>1</td>\n",
       "    </tr>\n",
       "    <tr>\n",
       "      <th>14096</th>\n",
       "      <td>409333599302070272</td>\n",
       "      <td>а мне ПОХУЙ на СТАТУС! ЛЮДИ ЛЮБЛЮ ВАС!))) КРУЧЕ ЛЮДЕЙ Я НЕ ВСТРЕЧАЛ В ЖИЗНИ!!!))) С УВАЖЕНИ</td>\n",
       "      <td>1</td>\n",
       "    </tr>\n",
       "  </tbody>\n",
       "</table>\n",
       "</div>"
      ],
      "text/plain": [
       "                       id  \\\n",
       "95605  422664957558157312   \n",
       "10140  410395785487220736   \n",
       "72653  418163455372587008   \n",
       "26355  412281633622855681   \n",
       "34179  409764109157408768   \n",
       "8699   410130850983190529   \n",
       "17523  409371855569432576   \n",
       "67015  410389060088127488   \n",
       "60650  410282570333831168   \n",
       "14096  409333599302070272   \n",
       "\n",
       "                                                                                                                              ttext  \\\n",
       "95605           @interlicious @Svetlyi уже нет. Но и не мерзость, как северная Европа. А Рим и Барса выходят дорого за всё вместе((   \n",
       "10140  Видимо, приветствуя морозы, у меня активизировался хронический гайморит( С противной темпрой и гнусавым голосом в эфире( фак   \n",
       "72653                     RT @Bulletproof_5: @stringushi я уже побухал, но чета как та фу (((( так чтоо сижу смотрю телик тихонечко   \n",
       "26355                                                                         блин. че за хрень?..позвонил.. теперь не отвечаешь..(   \n",
       "34179                   -нам дают плов в миске. На месяц\\n-по одной рисенке в день? \\n-там вообще риса нету, там картинка \\nПхахах)   \n",
       "8699                                                                              Ну  вот  допрыгалась!  опять голова  заболела!(((   \n",
       "17523                                                                 Веселились на танцах)) А я не хотела идти! Хорошо что пошла))   \n",
       "67015                                                                        Сказочная, новогодняя атмосфера.❄ Обожаю этот период.)   \n",
       "60650                                                       @PinkShinigami скоро на почту все равно идти, заодно и отправишь все 8)   \n",
       "14096                                   а мне ПОХУЙ на СТАТУС! ЛЮДИ ЛЮБЛЮ ВАС!))) КРУЧЕ ЛЮДЕЙ Я НЕ ВСТРЕЧАЛ В ЖИЗНИ!!!))) С УВАЖЕНИ   \n",
       "\n",
       "       ttype  \n",
       "95605     -1  \n",
       "10140     -1  \n",
       "72653     -1  \n",
       "26355     -1  \n",
       "34179      1  \n",
       "8699      -1  \n",
       "17523      1  \n",
       "67015      1  \n",
       "60650      1  \n",
       "14096      1  "
      ]
     },
     "execution_count": 9,
     "metadata": {},
     "output_type": "execute_result"
    }
   ],
   "source": [
    "data.sample(10)"
   ]
  },
  {
   "cell_type": "markdown",
   "metadata": {},
   "source": [
    "## очистка данных"
   ]
  },
  {
   "cell_type": "code",
   "execution_count": 10,
   "metadata": {},
   "outputs": [
    {
     "name": "stderr",
     "output_type": "stream",
     "text": [
      "100%|██████████| 226833/226833 [00:00<00:00, 278321.95it/s]\n",
      "100%|██████████| 226833/226833 [00:02<00:00, 105765.63it/s]\n",
      "100%|██████████| 226833/226833 [00:02<00:00, 111354.94it/s]\n",
      "100%|██████████| 226833/226833 [00:02<00:00, 112657.63it/s]\n",
      "100%|██████████| 226833/226833 [00:02<00:00, 112173.82it/s]\n",
      "100%|██████████| 226833/226833 [00:01<00:00, 113585.46it/s]\n",
      "100%|██████████| 226833/226833 [00:02<00:00, 112621.96it/s]\n"
     ]
    }
   ],
   "source": [
    "data['ttext_clean'] = data['ttext']\\\n",
    "    .progress_apply(lambda t:[ w.strip() for w in t.split() if w.strip() ] )\\\n",
    "    .progress_apply(lambda t:[ re.sub(r'^http.*',' url ', w.strip() ) for w in t ] )\\\n",
    "    .progress_apply(lambda t:[ re.sub(r'[:;]-*[)D]',' happysmile ', w.strip() )for w in t ])\\\n",
    "    .progress_apply(lambda t:[ re.sub(r'\\)\\)\\)*',' happysmile ', w.strip() ) for w in t ])\\\n",
    "    .progress_apply(lambda t:[ re.sub(r'[:;]\\*',' kisssmile ', w.strip() ) for w in t ])\\\n",
    "    .progress_apply(lambda t:[ re.sub(r':\\(',' sadsmile ', w.strip() ) for w in t ])\\\n",
    "    .progress_apply(lambda t:[ re.sub(r'\\(\\(\\(*',' sadsmile ', w.strip() ) for w in t ])"
   ]
  },
  {
   "cell_type": "code",
   "execution_count": 11,
   "metadata": {},
   "outputs": [],
   "source": [
    "data['ttext_clean'] = [ ' '.join(s) for s in data['ttext_clean'] ]"
   ]
  },
  {
   "cell_type": "code",
   "execution_count": 12,
   "metadata": {},
   "outputs": [
    {
     "name": "stderr",
     "output_type": "stream",
     "text": [
      "100%|██████████| 226833/226833 [00:01<00:00, 188745.60it/s]\n",
      "100%|██████████| 226833/226833 [00:00<00:00, 778371.47it/s]\n",
      "100%|██████████| 226833/226833 [00:00<00:00, 330883.85it/s]\n",
      "100%|██████████| 226833/226833 [00:00<00:00, 248549.72it/s]\n",
      "100%|██████████| 226833/226833 [00:02<00:00, 92621.78it/s] \n"
     ]
    }
   ],
   "source": [
    "data['ttext_clean'] = data['ttext_clean'].str.lower()\\\n",
    "    .progress_apply(lambda s: re.sub( r'\\W', ' ', s))\\\n",
    "    .progress_apply(lambda s: re.sub( r'_', ' ', s))\\\n",
    "    .progress_apply(lambda s: re.sub( r'\\b\\d+\\b', ' digit ', s))\\\n",
    "    .progress_apply(lambda t:[ w.strip() for w in t.split() if w.strip() ] )\\\n",
    "    .progress_apply(lambda t: [w for w in t if not re.match( r'\\b.*\\d+.*\\b', w) ])"
   ]
  },
  {
   "cell_type": "code",
   "execution_count": 13,
   "metadata": {},
   "outputs": [
    {
     "data": {
      "text/html": [
       "<div>\n",
       "<style scoped>\n",
       "    .dataframe tbody tr th:only-of-type {\n",
       "        vertical-align: middle;\n",
       "    }\n",
       "\n",
       "    .dataframe tbody tr th {\n",
       "        vertical-align: top;\n",
       "    }\n",
       "\n",
       "    .dataframe thead th {\n",
       "        text-align: right;\n",
       "    }\n",
       "</style>\n",
       "<table border=\"1\" class=\"dataframe\">\n",
       "  <thead>\n",
       "    <tr style=\"text-align: right;\">\n",
       "      <th></th>\n",
       "      <th>id</th>\n",
       "      <th>ttext</th>\n",
       "      <th>ttype</th>\n",
       "      <th>ttext_clean</th>\n",
       "    </tr>\n",
       "  </thead>\n",
       "  <tbody>\n",
       "    <tr>\n",
       "      <th>12566</th>\n",
       "      <td>409314019233636352</td>\n",
       "      <td>RT @kamusik_h: &amp;lt;sexy lips&amp;gt; самый смешной момент сегодняшнего дня..никогда не забыть)) @beka0909 @barnoshaaa</td>\n",
       "      <td>1</td>\n",
       "      <td>[rt, kamusik, h, lt, sexy, lips, gt, самый, смешной, момент, сегодняшнего, дня, никогда, не, забыть, happysmile, barnoshaaa]</td>\n",
       "    </tr>\n",
       "    <tr>\n",
       "      <th>62062</th>\n",
       "      <td>410299576663703552</td>\n",
       "      <td>Мне не поверили что мне 23, и я уже не учусь и сказали, что хорошо сохранился %)</td>\n",
       "      <td>1</td>\n",
       "      <td>[мне, не, поверили, что, мне, digit, и, я, уже, не, учусь, и, сказали, что, хорошо, сохранился]</td>\n",
       "    </tr>\n",
       "    <tr>\n",
       "      <th>40621</th>\n",
       "      <td>409921623299330048</td>\n",
       "      <td>@gruppa_GS МИР прищурившись готов поздороваться с @gruppa_GS, но только после того, как узнает её отношение к євроінтеграції.\\nЩаз тока так!)</td>\n",
       "      <td>1</td>\n",
       "      <td>[gruppa, gs, мир, прищурившись, готов, поздороваться, с, gruppa, gs, но, только, после, того, как, узнает, её, отношение, к, євроінтеграції, щаз, тока, так]</td>\n",
       "    </tr>\n",
       "  </tbody>\n",
       "</table>\n",
       "</div>"
      ],
      "text/plain": [
       "                       id  \\\n",
       "12566  409314019233636352   \n",
       "62062  410299576663703552   \n",
       "40621  409921623299330048   \n",
       "\n",
       "                                                                                                                                               ttext  \\\n",
       "12566                              RT @kamusik_h: &lt;sexy lips&gt; самый смешной момент сегодняшнего дня..никогда не забыть)) @beka0909 @barnoshaaa   \n",
       "62062                                                               Мне не поверили что мне 23, и я уже не учусь и сказали, что хорошо сохранился %)   \n",
       "40621  @gruppa_GS МИР прищурившись готов поздороваться с @gruppa_GS, но только после того, как узнает её отношение к євроінтеграції.\\nЩаз тока так!)   \n",
       "\n",
       "       ttype  \\\n",
       "12566      1   \n",
       "62062      1   \n",
       "40621      1   \n",
       "\n",
       "                                                                                                                                                        ttext_clean  \n",
       "12566                                  [rt, kamusik, h, lt, sexy, lips, gt, самый, смешной, момент, сегодняшнего, дня, никогда, не, забыть, happysmile, barnoshaaa]  \n",
       "62062                                                               [мне, не, поверили, что, мне, digit, и, я, уже, не, учусь, и, сказали, что, хорошо, сохранился]  \n",
       "40621  [gruppa, gs, мир, прищурившись, готов, поздороваться, с, gruppa, gs, но, только, после, того, как, узнает, её, отношение, к, євроінтеграції, щаз, тока, так]  "
      ]
     },
     "execution_count": 13,
     "metadata": {},
     "output_type": "execute_result"
    }
   ],
   "source": [
    "data.sample(3)"
   ]
  },
  {
   "cell_type": "code",
   "execution_count": 14,
   "metadata": {},
   "outputs": [
    {
     "name": "stderr",
     "output_type": "stream",
     "text": [
      "100%|██████████| 226833/226833 [00:00<00:00, 351147.43it/s]\n"
     ]
    }
   ],
   "source": [
    "# удаление коротких слов\n",
    "data['ttext_clean'] = data['ttext_clean'].progress_apply(lambda t:[w for w in t if len(w)>2])"
   ]
  },
  {
   "cell_type": "code",
   "execution_count": 15,
   "metadata": {},
   "outputs": [
    {
     "name": "stdout",
     "output_type": "stream",
     "text": [
      "записей: 226 833\n",
      "записей: 226 831\n"
     ]
    }
   ],
   "source": [
    "ppr(data)\n",
    "data = data[ data['ttext_clean'].str.len()>0 ].reset_index(drop=True) \n",
    "ppr(data)"
   ]
  },
  {
   "cell_type": "code",
   "execution_count": 16,
   "metadata": {},
   "outputs": [
    {
     "data": {
      "text/html": [
       "<div>\n",
       "<style scoped>\n",
       "    .dataframe tbody tr th:only-of-type {\n",
       "        vertical-align: middle;\n",
       "    }\n",
       "\n",
       "    .dataframe tbody tr th {\n",
       "        vertical-align: top;\n",
       "    }\n",
       "\n",
       "    .dataframe thead th {\n",
       "        text-align: right;\n",
       "    }\n",
       "</style>\n",
       "<table border=\"1\" class=\"dataframe\">\n",
       "  <thead>\n",
       "    <tr style=\"text-align: right;\">\n",
       "      <th></th>\n",
       "      <th>id</th>\n",
       "      <th>ttext</th>\n",
       "      <th>ttype</th>\n",
       "      <th>ttext_clean</th>\n",
       "    </tr>\n",
       "  </thead>\n",
       "  <tbody>\n",
       "    <tr>\n",
       "      <th>206097</th>\n",
       "      <td>421855899876339712</td>\n",
       "      <td>Я уже капец не высыпаюсь(((что дальше то будет...</td>\n",
       "      <td>-1</td>\n",
       "      <td>[уже, капец, высыпаюсь, sadsmile, что, дальше, будет]</td>\n",
       "    </tr>\n",
       "    <tr>\n",
       "      <th>193057</th>\n",
       "      <td>419357771331809280</td>\n",
       "      <td>ну всеее каждодневные звонки закончились(((</td>\n",
       "      <td>-1</td>\n",
       "      <td>[всеее, каждодневные, звонки, закончились, sadsmile]</td>\n",
       "    </tr>\n",
       "    <tr>\n",
       "      <th>113867</th>\n",
       "      <td>411219342513033216</td>\n",
       "      <td>@BlackMello55 надеюсь в академии тоже буду постоянной ведущец ихихи :D а у тебя какими репетициями дни заняты? танцуешь,поёшь ммм??? :)</td>\n",
       "      <td>1</td>\n",
       "      <td>[надеюсь, академии, тоже, буду, постоянной, ведущец, ихихи, happysmile, тебя, какими, репетициями, дни, заняты, танцуешь, поёшь, ммм, happysmile]</td>\n",
       "    </tr>\n",
       "  </tbody>\n",
       "</table>\n",
       "</div>"
      ],
      "text/plain": [
       "                        id  \\\n",
       "206097  421855899876339712   \n",
       "193057  419357771331809280   \n",
       "113867  411219342513033216   \n",
       "\n",
       "                                                                                                                                          ttext  \\\n",
       "206097                                                                                        Я уже капец не высыпаюсь(((что дальше то будет...   \n",
       "193057                                                                                              ну всеее каждодневные звонки закончились(((   \n",
       "113867  @BlackMello55 надеюсь в академии тоже буду постоянной ведущец ихихи :D а у тебя какими репетициями дни заняты? танцуешь,поёшь ммм??? :)   \n",
       "\n",
       "        ttype  \\\n",
       "206097     -1   \n",
       "193057     -1   \n",
       "113867      1   \n",
       "\n",
       "                                                                                                                                              ttext_clean  \n",
       "206097                                                                                              [уже, капец, высыпаюсь, sadsmile, что, дальше, будет]  \n",
       "193057                                                                                               [всеее, каждодневные, звонки, закончились, sadsmile]  \n",
       "113867  [надеюсь, академии, тоже, буду, постоянной, ведущец, ихихи, happysmile, тебя, какими, репетициями, дни, заняты, танцуешь, поёшь, ммм, happysmile]  "
      ]
     },
     "execution_count": 16,
     "metadata": {},
     "output_type": "execute_result"
    }
   ],
   "source": [
    "data.sample(3)"
   ]
  },
  {
   "cell_type": "markdown",
   "metadata": {},
   "source": [
    "## словарь"
   ]
  },
  {
   "cell_type": "code",
   "execution_count": 17,
   "metadata": {},
   "outputs": [
    {
     "name": "stdout",
     "output_type": "stream",
     "text": [
      "записей: 239 518\n"
     ]
    }
   ],
   "source": [
    "voc = sorted(set.union(*[ set(s) for s in data['ttext_clean'].values.tolist() ]))\n",
    "voc = { w:i+1 for i,w in enumerate(voc) }\n",
    "voc['<pad>']= 0\n",
    "ppr(voc)"
   ]
  },
  {
   "cell_type": "code",
   "execution_count": 18,
   "metadata": {},
   "outputs": [
    {
     "data": {
      "text/plain": [
       "{'aaa': 1,\n",
       " 'aaaa': 2,\n",
       " 'aaaaa': 3,\n",
       " 'aaaaaaaaaa': 4,\n",
       " 'aaaaaaaaaaart': 5,\n",
       " 'aaaaaahhhhhhwow': 6,\n",
       " 'aaaasyaaa': 7,\n",
       " 'aaaats': 8,\n",
       " 'aaahaahaaaah': 9,\n",
       " 'aaaidar': 10,\n",
       " 'aaaiguuul': 11,\n",
       " 'aaakristya': 12,\n",
       " 'aaalsusha': 13,\n",
       " 'aaarrrrrrrr': 14,\n",
       " 'aaaw': 15,\n",
       " 'aaburnashov': 16,\n",
       " 'aafrolova': 17,\n",
       " 'aakarimova': 18,\n",
       " 'aakellah': 19,\n",
       " 'aakuzichev': 20,\n",
       " 'aaleksandra': 21,\n",
       " 'aaleksandrowna': 22,\n",
       " 'aalello': 23,\n",
       " 'aalexithymiaa': 24,\n",
       " 'aalistok': 25,\n",
       " 'aalive': 26,\n",
       " 'aallanavaz': 27,\n",
       " 'aalove': 28,\n",
       " 'aammmmmmmm': 29,\n",
       " 'aamnastya': 30,\n",
       " 'aamooorr': 31,\n",
       " 'aamy': 32,\n",
       " 'aanaokay': 33,\n",
       " 'aanastasiaden': 34,\n",
       " 'aandrushkas': 35,\n",
       " 'aanechaev': 36,\n",
       " 'aanjkaa': 37,\n",
       " 'aanneeeet': 38,\n",
       " 'aannybarry': 39,\n",
       " 'aanvarova': 40,\n",
       " 'aanxaa': 41,\n",
       " 'aapogodina': 42,\n",
       " 'aarn': 43,\n",
       " 'aaronpaul': 44,\n",
       " 'aasexuality': 45,\n",
       " 'aashirokov': 46,\n",
       " 'aasokol': 47,\n",
       " 'aasviridova': 48,\n",
       " 'aatemkin': 49,\n",
       " 'aavsasha': 50,\n",
       " 'aavst': 51,\n",
       " 'aaw': 52,\n",
       " 'aaww': 53,\n",
       " 'aaxaxaax': 54,\n",
       " 'aayra': 55,\n",
       " 'aazbaeva': 56,\n",
       " 'abachurin': 57,\n",
       " 'abaevart': 58,\n",
       " 'abaigali': 59,\n",
       " 'abaimovamar': 60,\n",
       " 'abaituzelbai': 61,\n",
       " 'abakan': 62,\n",
       " 'abakanfest': 63,\n",
       " 'abakanlondon': 64,\n",
       " 'abakanskiy': 65,\n",
       " 'abakarovich': 66,\n",
       " 'abakiroff': 67,\n",
       " 'abakumovich': 68,\n",
       " 'abaltaeva': 69,\n",
       " 'abama': 70,\n",
       " 'abamka': 71,\n",
       " 'abarai': 72,\n",
       " 'abashev': 73,\n",
       " 'abashina': 74,\n",
       " 'abat': 75,\n",
       " 'abatterble': 76,\n",
       " 'abay': 77,\n",
       " 'abayserikov': 78,\n",
       " 'abaysinaev': 79,\n",
       " 'abazhur': 80,\n",
       " 'abbat': 81,\n",
       " 'abbemesser': 82,\n",
       " 'abbevg': 83,\n",
       " 'abbey': 84,\n",
       " 'abbot': 85,\n",
       " 'abbrikoc': 86,\n",
       " 'abbsol': 87,\n",
       " 'abby': 88,\n",
       " 'abbyy': 89,\n",
       " 'abc': 90,\n",
       " 'abcdefghijklmqq': 91,\n",
       " 'abd': 92,\n",
       " 'abdariaa': 93,\n",
       " 'abdieva': 94,\n",
       " 'abdikadirovna': 95,\n",
       " 'abdstas': 96,\n",
       " 'abdulazizmi': 97,\n",
       " 'abdulkadirtrker': 98,\n",
       " 'abdullin': 99,\n",
       " 'abdullina': 100,\n",
       " 'abdullohsodiqov': 101,\n",
       " 'abdullovruslan': 102,\n",
       " 'abdulovaalinka': 103,\n",
       " 'abduqodir': 104,\n",
       " 'abduragims': 105,\n",
       " 'abdy': 106,\n",
       " 'abe': 107,\n",
       " 'abed': 108,\n",
       " 'abeduin': 109,\n",
       " 'abejorro': 110,\n",
       " 'abekmagambetova': 111,\n",
       " 'abelchuk': 112,\n",
       " 'abelieber': 113,\n",
       " 'abelyalov': 114,\n",
       " 'aberadez': 115,\n",
       " 'abercombie': 116,\n",
       " 'aberforth': 117,\n",
       " 'aberkutova': 118,\n",
       " 'abernathy': 119,\n",
       " 'aberyaseva': 120,\n",
       " 'abeshkov': 121,\n",
       " 'abete': 122,\n",
       " 'abezdelov': 123,\n",
       " 'abezrukov': 124,\n",
       " 'abgabriels': 125,\n",
       " 'abibas': 126,\n",
       " 'abigerus': 127,\n",
       " 'abilgwn': 128,\n",
       " 'abishev': 129,\n",
       " 'abitrussian': 130,\n",
       " 'abjurato': 131,\n",
       " 'ableev': 132,\n",
       " 'ablomoov': 133,\n",
       " 'ablyalimova': 134,\n",
       " 'abnepo': 135,\n",
       " 'abnormal': 136,\n",
       " 'abo': 137,\n",
       " 'aboard': 138,\n",
       " 'abogachev': 139,\n",
       " 'abolerojni': 140,\n",
       " 'abomrnvadpgln': 141,\n",
       " 'abondarewa': 142,\n",
       " 'abotvina': 143,\n",
       " 'about': 144,\n",
       " 'aboutmusicvideo': 145,\n",
       " 'aboutpaulinas': 146,\n",
       " 'aboveoceans': 147,\n",
       " 'abozhin': 148,\n",
       " 'abrahammateoukr': 149,\n",
       " 'abrakaaadabra': 150,\n",
       " 'abrakhimov': 151,\n",
       " 'abramcevad': 152,\n",
       " 'abramenko': 153,\n",
       " 'abramlin': 154,\n",
       " 'abramobramov': 155,\n",
       " 'abramov': 156,\n",
       " 'abramova': 157,\n",
       " 'abramovakaryy': 158,\n",
       " 'abramovakaterin': 159,\n",
       " 'abramovdeputat': 160,\n",
       " 'abramovrs': 161,\n",
       " 'abramovvictoria': 162,\n",
       " 'abramromovich': 163,\n",
       " 'abrams': 164,\n",
       " 'abrashkina': 165,\n",
       " 'abrauprt': 166,\n",
       " 'abrazhko': 167,\n",
       " 'abrazumova': 168,\n",
       " 'abrekos': 169,\n",
       " 'abrikoooos': 170,\n",
       " 'abrikos': 171,\n",
       " 'abrikosov': 172,\n",
       " 'abrindyukova': 173,\n",
       " 'abrodarskii': 174,\n",
       " 'abrorqodirov': 175,\n",
       " 'abrosimov': 176,\n",
       " 'abrosimova': 177,\n",
       " 'abrosimovakr': 178,\n",
       " 'abrosimovaks': 179,\n",
       " 'abrosimowa': 180,\n",
       " 'abrossimov': 181,\n",
       " 'abrosy': 182,\n",
       " 'abrrammovich': 183,\n",
       " 'abrynajgvs': 184,\n",
       " 'abrytkin': 185,\n",
       " 'absamatova': 186,\n",
       " 'absatoverbol': 187,\n",
       " 'absenta': 188,\n",
       " 'absentin': 189,\n",
       " 'absinthe': 190,\n",
       " 'absolutbounty': 191,\n",
       " 'absolute': 192,\n",
       " 'absolvo': 193,\n",
       " 'abssollution': 194,\n",
       " 'abstergo': 195,\n",
       " 'abstinancy': 196,\n",
       " 'abstraction': 197,\n",
       " 'absurd': 198,\n",
       " 'absurdtheater': 199,\n",
       " 'abszztrakkt': 200,\n",
       " 'abtomapc': 201,\n",
       " 'abubaxi': 202,\n",
       " 'abudantsev': 203,\n",
       " 'abukirev': 204,\n",
       " 'abukumb': 205,\n",
       " 'abumchik': 206,\n",
       " 'abunin': 207,\n",
       " 'abunyasha': 208,\n",
       " 'abushaev': 209,\n",
       " 'abushmeleva': 210,\n",
       " 'abutyashca': 211,\n",
       " 'abylai': 212,\n",
       " 'abynade': 213,\n",
       " 'abyss': 214,\n",
       " 'abyssal': 215,\n",
       " 'abysslucy': 216,\n",
       " 'abzalilovr': 217,\n",
       " 'aca': 218,\n",
       " 'academdog': 219,\n",
       " 'academic': 220,\n",
       " 'academy': 221,\n",
       " 'acanadazo': 222,\n",
       " 'acawagejpa': 223,\n",
       " 'acc': 224,\n",
       " 'accel': 225,\n",
       " 'accelerari': 226,\n",
       " 'acceleration': 227,\n",
       " 'accept': 228,\n",
       " 'access': 229,\n",
       " 'accessibility': 230,\n",
       " 'accessories': 231,\n",
       " 'accident': 232,\n",
       " 'accio': 233,\n",
       " 'acckijbuffone': 234,\n",
       " 'accomplished': 235,\n",
       " 'account': 236,\n",
       " 'accounting': 237,\n",
       " 'accro': 238,\n",
       " 'accuweather': 239,\n",
       " 'acdc': 240,\n",
       " 'ace': 241,\n",
       " 'acer': 242,\n",
       " 'acerru': 243,\n",
       " 'acethevampire': 244,\n",
       " 'aceticum': 245,\n",
       " 'aceventcom': 246,\n",
       " 'ach': 247,\n",
       " 'achadwyck': 248,\n",
       " 'achaquefois': 249,\n",
       " 'ache': 250,\n",
       " 'achebotarenko': 251,\n",
       " 'achebotareov': 252,\n",
       " 'achekhova': 253,\n",
       " 'achiserdtse': 254,\n",
       " 'achupahina': 255,\n",
       " 'acid': 256,\n",
       " 'acidchemicals': 257,\n",
       " 'acidcorerzr': 258,\n",
       " 'acidde': 259,\n",
       " 'aciden': 260,\n",
       " 'acidmit': 261,\n",
       " 'acidpinkunicorn': 262,\n",
       " 'ackles': 263,\n",
       " 'acklesjennny': 264,\n",
       " 'acmilan': 265,\n",
       " 'acollaa': 266,\n",
       " 'aconitum': 267,\n",
       " 'acorn': 268,\n",
       " 'acorndays': 269,\n",
       " 'acorndianaacorn': 270,\n",
       " 'acorned': 271,\n",
       " 'acornksushka': 272,\n",
       " 'acostantinis': 273,\n",
       " 'acoustick': 274,\n",
       " 'acpi': 275,\n",
       " 'acrojulia': 276,\n",
       " 'acronicss': 277,\n",
       " 'acronis': 278,\n",
       " 'acroread': 279,\n",
       " 'acrossthechas': 280,\n",
       " 'acsochka': 281,\n",
       " 'act': 282,\n",
       " 'actavius': 283,\n",
       " 'actaxoba': 284,\n",
       " 'actioncurrent': 285,\n",
       " 'actionscript': 286,\n",
       " 'activator': 287,\n",
       " 'active': 288,\n",
       " 'activeassist': 289,\n",
       " 'activex': 290,\n",
       " 'activities': 291,\n",
       " 'activity': 292,\n",
       " 'actress': 293,\n",
       " 'actressk': 294,\n",
       " 'actrisa': 295,\n",
       " 'actuallysofi': 296,\n",
       " 'actualstalin': 297,\n",
       " 'acyanya': 298,\n",
       " 'aczedrik': 299,\n",
       " 'ada': 300,\n",
       " 'adagamov': 301,\n",
       " 'adagerden': 302,\n",
       " 'adakoenig': 303,\n",
       " 'adam': 304,\n",
       " 'adama': 305,\n",
       " 'adamenko': 306,\n",
       " 'adamgadzhiev': 307,\n",
       " 'adamgilcom': 308,\n",
       " 'adamgontierreal': 309,\n",
       " 'adamkesher': 310,\n",
       " 'adamkollor': 311,\n",
       " 'adamlambert': 312,\n",
       " 'adammargotus': 313,\n",
       " 'adamovichnika': 314,\n",
       " 'adams': 315,\n",
       " 'adamson': 316,\n",
       " 'adamveesevani': 317,\n",
       " 'adanisah': 318,\n",
       " 'adapter': 319,\n",
       " 'adatisher': 320,\n",
       " 'adayl': 321,\n",
       " 'adaytosoldier': 322,\n",
       " 'adblock': 323,\n",
       " 'adbratchiko': 324,\n",
       " 'adc': 325,\n",
       " 'adcorsa': 326,\n",
       " 'add': 327,\n",
       " 'addams': 328,\n",
       " 'addendum': 329,\n",
       " 'addict': 330,\n",
       " 'addiepiccarreta': 331,\n",
       " 'addiiisvc': 332,\n",
       " 'address': 333,\n",
       " 'addvo': 334,\n",
       " 'addy': 335,\n",
       " 'adekwat': 336,\n",
       " 'adel': 337,\n",
       " 'adelabrazumova': 338,\n",
       " 'adelaida': 339,\n",
       " 'adelaideblissss': 340,\n",
       " 'adelain': 341,\n",
       " 'adelbazinga': 342,\n",
       " 'adele': 343,\n",
       " 'adelechkaaaa': 344,\n",
       " 'adeleriddle': 345,\n",
       " 'adelewarhola': 346,\n",
       " 'adelgumerova': 347,\n",
       " 'adelheld': 348,\n",
       " 'adeliaa': 349,\n",
       " 'adelichka': 350,\n",
       " 'adeliinkaaa': 351,\n",
       " 'adelijax': 352,\n",
       " 'adelika': 353,\n",
       " 'adelikas': 354,\n",
       " 'adelina': 355,\n",
       " 'adelinaahmetova': 356,\n",
       " 'adelinabayer': 357,\n",
       " 'adelinalolipop': 358,\n",
       " 'adelinamusina': 359,\n",
       " 'adelinka': 360,\n",
       " 'adelinkaaa': 361,\n",
       " 'adelkhalilova': 362,\n",
       " 'adella': 363,\n",
       " 'adellaidabik': 364,\n",
       " 'adelmorikkini': 365,\n",
       " 'adelshebib': 366,\n",
       " 'adelshinov': 367,\n",
       " 'adely': 368,\n",
       " 'adelya': 369,\n",
       " 'adelyaaaaaa': 370,\n",
       " 'adelyadely': 371,\n",
       " 'adelyagayazova': 372,\n",
       " 'adelyakhadiсначала': 373,\n",
       " 'adelyakhasanova': 374,\n",
       " 'adelyayu': 375,\n",
       " 'adema': 376,\n",
       " 'adenisenko': 377,\n",
       " 'adent': 378,\n",
       " 'adentroo': 379,\n",
       " 'adept': 380,\n",
       " 'adequatelogin': 381,\n",
       " 'adequates': 382,\n",
       " 'adereykoa': 383,\n",
       " 'aderyabin': 384,\n",
       " 'ades': 385,\n",
       " 'adesia': 386,\n",
       " 'adetwhite': 387,\n",
       " 'adevishev': 388,\n",
       " 'adichek': 389,\n",
       " 'adidas': 390,\n",
       " 'adieib': 391,\n",
       " 'adieu': 392,\n",
       " 'adilborbiev': 393,\n",
       " 'adiletofficial': 394,\n",
       " 'adilfromstories': 395,\n",
       " 'adiltaalaibek': 396,\n",
       " 'adilya': 397,\n",
       " 'adilyaguseinova': 398,\n",
       " 'adinalaikova': 399,\n",
       " 'adiray': 400,\n",
       " 'adisultanaliev': 401,\n",
       " 'adizero': 402,\n",
       " 'adjievaznaur': 403,\n",
       " 'adjush': 404,\n",
       " 'adk': 405,\n",
       " 'adkalex': 406,\n",
       " 'adler': 407,\n",
       " 'adlerlessframe': 408,\n",
       " 'adlersu': 409,\n",
       " 'adlerzz': 410,\n",
       " 'adm': 411,\n",
       " 'adme': 412,\n",
       " 'admefr': 413,\n",
       " 'admgkh': 414,\n",
       " 'admin': 415,\n",
       " 'admiral': 416,\n",
       " 'admiremeslut': 417,\n",
       " 'admitad': 418,\n",
       " 'admitted': 419,\n",
       " 'admsamrna': 420,\n",
       " 'adn': 421,\n",
       " 'ado': 422,\n",
       " 'adobe': 423,\n",
       " 'adolf': 424,\n",
       " 'adolfgiitler': 425,\n",
       " 'adolfnastya': 426,\n",
       " 'adolmatovich': 427,\n",
       " 'adom': 428,\n",
       " 'adomceva': 429,\n",
       " 'adommist': 430,\n",
       " 'adomogar': 431,\n",
       " 'adomogarov': 432,\n",
       " 'adomogarovполучается': 433,\n",
       " 'adomogarovтебе': 434,\n",
       " 'adomogarovу': 435,\n",
       " 'adoption': 436,\n",
       " 'adorable': 437,\n",
       " 'adore': 438,\n",
       " 'adorevh': 439,\n",
       " 'adorofeeva': 440,\n",
       " 'adova': 441,\n",
       " 'adow': 442,\n",
       " 'adpoletaew': 443,\n",
       " 'adrenalin': 444,\n",
       " 'adrenalinhunter': 445,\n",
       " 'adri': 446,\n",
       " 'adriana': 447,\n",
       " 'adrianveidt': 448,\n",
       " 'adrienne': 449,\n",
       " 'adropcake': 450,\n",
       " 'adruara': 451,\n",
       " 'ads': 452,\n",
       " 'adskk': 453,\n",
       " 'adsl': 454,\n",
       " 'adst': 455,\n",
       " 'adsweep': 456,\n",
       " 'adu': 457,\n",
       " 'adubijyz': 458,\n",
       " 'aduckevich': 459,\n",
       " 'adui': 460,\n",
       " 'adult': 461,\n",
       " 'adunipexib': 462,\n",
       " 'aduuchin': 463,\n",
       " 'aduvanchick': 464,\n",
       " 'adv': 465,\n",
       " 'advakhova': 466,\n",
       " 'advance': 467,\n",
       " 'advanced': 468,\n",
       " 'advena': 469,\n",
       " 'adventure': 470,\n",
       " 'adventures': 471,\n",
       " 'advertising': 472,\n",
       " 'advisor': 473,\n",
       " 'advokat': 474,\n",
       " 'advokatkax': 475,\n",
       " 'advokatkubany': 476,\n",
       " 'advornichenko': 477,\n",
       " 'adwords': 478,\n",
       " 'adxam': 479,\n",
       " 'adygbay': 480,\n",
       " 'adyl': 481,\n",
       " 'adzhayani': 482,\n",
       " 'aecheage': 483,\n",
       " 'aee': 484,\n",
       " 'aeee': 485,\n",
       " 'aeeneas': 486,\n",
       " 'aef': 487,\n",
       " 'aegisub': 488,\n",
       " 'aegoliusfunere': 489,\n",
       " 'aegovtseva': 490,\n",
       " 'aegozova': 491,\n",
       " 'aeh': 492,\n",
       " 'aelena': 493,\n",
       " 'aelenags': 494,\n",
       " 'aelina': 495,\n",
       " 'aelinwel': 496,\n",
       " 'aeliriannon': 497,\n",
       " 'aelitatenmailru': 498,\n",
       " 'aelitik': 499,\n",
       " 'aelvina': 500,\n",
       " 'aelvirka': 501,\n",
       " 'aeonchokopie': 502,\n",
       " 'aere': 503,\n",
       " 'aerigalle': 504,\n",
       " 'aero': 505,\n",
       " 'aeroexpress': 506,\n",
       " 'aeroflot': 507,\n",
       " 'aeroleg': 508,\n",
       " 'aerosmith': 509,\n",
       " 'aesonne': 510,\n",
       " 'aesonneiolas': 511,\n",
       " 'aether': 512,\n",
       " 'aethyr': 513,\n",
       " 'aevalentina': 514,\n",
       " 'aevgrafoff': 515,\n",
       " 'aey': 516,\n",
       " 'afa': 517,\n",
       " 'afaackinga': 518,\n",
       " 'afaelkadu': 519,\n",
       " 'afanas': 520,\n",
       " 'afanasevavika': 521,\n",
       " 'afanasievaaaa': 522,\n",
       " 'afanasil': 523,\n",
       " 'afanasiy': 524,\n",
       " 'afanasiyafonya': 525,\n",
       " 'afanasjeva': 526,\n",
       " 'afanasybiz': 527,\n",
       " 'afanasyeva': 528,\n",
       " 'afc': 529,\n",
       " 'affectahah': 530,\n",
       " 'affectionpain': 531,\n",
       " 'affectiotate': 532,\n",
       " 'afifamcauslene': 533,\n",
       " 'afifoxyvo': 534,\n",
       " 'afigenen': 535,\n",
       " 'afiknoev': 536,\n",
       " 'afikopafon': 537,\n",
       " 'afineva': 538,\n",
       " 'afishavozduh': 539,\n",
       " 'afiskon': 540,\n",
       " 'afk': 541,\n",
       " 'afofitaxp': 542,\n",
       " 'afonina': 543,\n",
       " 'afoninanafanya': 544,\n",
       " 'afonins': 545,\n",
       " 'afoninsb': 546,\n",
       " 'afonyaromanova': 547,\n",
       " 'afopyminu': 548,\n",
       " 'afrel': 549,\n",
       " 'africa': 550,\n",
       " 'african': 551,\n",
       " 'africo': 552,\n",
       " 'afrinsergey': 553,\n",
       " 'after': 554,\n",
       " 'aftermath': 555,\n",
       " 'afterparty': 556,\n",
       " 'aftorr': 557,\n",
       " 'afuckdiva': 558,\n",
       " 'afuckina': 559,\n",
       " 'afuckinga': 560,\n",
       " 'afugukivil': 561,\n",
       " 'afumyfujov': 562,\n",
       " 'afyfglprwl': 563,\n",
       " 'afytyrisyn': 564,\n",
       " 'aga': 565,\n",
       " 'agafdasha': 566,\n",
       " 'agaffonov': 567,\n",
       " 'agafiyatullina': 568,\n",
       " 'agafonova': 569,\n",
       " 'agafonowavika': 570,\n",
       " 'agafredo': 571,\n",
       " 'agaichka': 572,\n",
       " 'again': 573,\n",
       " 'againkarina': 574,\n",
       " 'against': 575,\n",
       " 'agalak': 576,\n",
       " 'agalakovaolya': 577,\n",
       " 'agalaryanliliya': 578,\n",
       " 'agalitsky': 579,\n",
       " 'agallowsa': 580,\n",
       " 'agaltsova': 581,\n",
       " 'agalyaev': 582,\n",
       " 'agalyrike': 583,\n",
       " 'agamimoshdj': 584,\n",
       " 'agapitovaaaa': 585,\n",
       " 'agapovaaaa': 586,\n",
       " 'agapovaaaaa': 587,\n",
       " 'agapovaaaaaa': 588,\n",
       " 'agapovaava': 589,\n",
       " 'agaric': 590,\n",
       " 'agarkovakseniya': 591,\n",
       " 'agasha': 592,\n",
       " 'agaszypielewicz': 593,\n",
       " 'agatacrysty': 594,\n",
       " 'agathashishigna': 595,\n",
       " 'agathekristi': 596,\n",
       " 'agatiat': 597,\n",
       " 'agatko': 598,\n",
       " 'agavaleria': 599,\n",
       " 'agavrilchik': 600,\n",
       " 'agaysenyuk': 601,\n",
       " 'agazhay': 602,\n",
       " 'agbasket': 603,\n",
       " 'agedroic': 604,\n",
       " 'ageev': 605,\n",
       " 'agelinanova': 606,\n",
       " 'agelka': 607,\n",
       " 'agency': 608,\n",
       " 'agencyhuegency': 609,\n",
       " 'agent': 610,\n",
       " 'agentrat': 611,\n",
       " 'ager': 612,\n",
       " 'ageranina': 613,\n",
       " 'agerasimovna': 614,\n",
       " 'agerim': 615,\n",
       " 'ages': 616,\n",
       " 'aggresiya': 617,\n",
       " 'aggression': 618,\n",
       " 'aggressive': 619,\n",
       " 'aggressivegulyy': 620,\n",
       " 'aghanim': 621,\n",
       " 'aghrrrr': 622,\n",
       " 'agibalova': 623,\n",
       " 'agic': 624,\n",
       " 'agilele': 625,\n",
       " 'agilerovna': 626,\n",
       " 'agilialinux': 627,\n",
       " 'agilone': 628,\n",
       " 'agishevaaa': 629,\n",
       " 'agladkix': 630,\n",
       " 'aglajka': 631,\n",
       " 'aglasch': 632,\n",
       " 'agleev': 633,\n",
       " 'agletdinov': 634,\n",
       " 'agmorozov': 635,\n",
       " 'agnes': 636,\n",
       " 'agnesell': 637,\n",
       " 'agnessa': 638,\n",
       " 'agnessayeah': 639,\n",
       " 'agni': 640,\n",
       " 'agnieszkaoo': 641,\n",
       " 'ago': 642,\n",
       " 'agolovicheva': 643,\n",
       " 'agolubeva': 644,\n",
       " 'agoncharova': 645,\n",
       " 'agonius': 646,\n",
       " 'agonsashenka': 647,\n",
       " 'agony': 648,\n",
       " 'agonyro': 649,\n",
       " 'agoodunicorn': 650,\n",
       " 'agoodvikky': 651,\n",
       " 'agopher': 652,\n",
       " 'agoshkovakris': 653,\n",
       " 'agospodarenko': 654,\n",
       " 'agotuqehyn': 655,\n",
       " 'agr': 656,\n",
       " 'agra': 657,\n",
       " 'agraevskaya': 658,\n",
       " 'agranovskiy': 659,\n",
       " 'agrba': 660,\n",
       " 'agree': 661,\n",
       " 'agressivefox': 662,\n",
       " 'agrest': 663,\n",
       " 'agrippina': 664,\n",
       " 'agron': 665,\n",
       " 'aground': 666,\n",
       " 'agruneva': 667,\n",
       " 'agsidenko': 668,\n",
       " 'aguero': 669,\n",
       " 'aguilarapace': 670,\n",
       " 'aguilera': 671,\n",
       " 'agutewal': 672,\n",
       " 'agwzd': 673,\n",
       " 'agy': 674,\n",
       " 'ahaah': 675,\n",
       " 'ahah': 676,\n",
       " 'ahaha': 677,\n",
       " 'ahahaacc': 678,\n",
       " 'ahahac': 679,\n",
       " 'ahahacob': 680,\n",
       " 'ahahah': 681,\n",
       " 'ahalaimov': 682,\n",
       " 'ahamueva': 683,\n",
       " 'ahanova': 684,\n",
       " 'ahaxijewp': 685,\n",
       " 'ahdr': 686,\n",
       " 'aheliar': 687,\n",
       " 'ahh': 688,\n",
       " 'ahhh': 689,\n",
       " 'ahhr': 690,\n",
       " 'ahhrita': 691,\n",
       " 'ahiev': 692,\n",
       " 'ahimgor': 693,\n",
       " 'ahitrin': 694,\n",
       " 'ahivyxity': 695,\n",
       " 'ahixohocy': 696,\n",
       " 'ahlinara': 697,\n",
       " 'ahlurglgr': 698,\n",
       " 'ahm': 699,\n",
       " 'ahmad': 700,\n",
       " 'ahmadiev': 701,\n",
       " 'ahmadova': 702,\n",
       " 'ahmarovaluiza': 703,\n",
       " 'ahmatova': 704,\n",
       " 'ahmetova': 705,\n",
       " 'ahmetovahalida': 706,\n",
       " 'ahmetovaliza': 707,\n",
       " 'ahmetovna': 708,\n",
       " 'ahmetzyan': 709,\n",
       " 'ahmmdonnetray': 710,\n",
       " 'ahnalivko': 711,\n",
       " 'ahojetyr': 712,\n",
       " 'aholodnaya': 713,\n",
       " 'ahremenkovika': 714,\n",
       " 'ahs': 715,\n",
       " 'ahsgleedw': 716,\n",
       " 'ahtiamow': 717,\n",
       " 'ahuenno': 718,\n",
       " 'ahumykyte': 719,\n",
       " 'ahurtsov': 720,\n",
       " 'aibekbaratov': 721,\n",
       " 'aibelousov': 722,\n",
       " 'aibgm': 723,\n",
       " 'aibogacheva': 724,\n",
       " 'aid': 725,\n",
       " 'aida': 726,\n",
       " 'aidaalakbar': 727,\n",
       " 'aidaaraslanova': 728,\n",
       " 'aidababayeva': 729,\n",
       " 'aidaconscience': 730,\n",
       " 'aidadossayeva': 731,\n",
       " 'aidaharington': 732,\n",
       " 'aidai': 733,\n",
       " 'aidakulamova': 734,\n",
       " 'aidana': 735,\n",
       " 'aidar': 736,\n",
       " 'aidarharsh': 737,\n",
       " 'aidarkaaaa': 738,\n",
       " 'aidarovaf': 739,\n",
       " 'aidarramanov': 740,\n",
       " 'aidartulyaev': 741,\n",
       " 'aidasarlybaeva': 742,\n",
       " 'aidashov': 743,\n",
       " 'aidaterentyeva': 744,\n",
       " 'aidavanyan': 745,\n",
       " 'aidieva': 746,\n",
       " 'aidinkao': 747,\n",
       " 'aidka': 748,\n",
       " 'aidoseg': 749,\n",
       " 'aidosh': 750,\n",
       " 'aidyn': 751,\n",
       " 'aiena': 752,\n",
       " 'aienn': 753,\n",
       " 'aiesec': 754,\n",
       " 'aiexnorman': 755,\n",
       " 'aifmed': 756,\n",
       " 'aig': 757,\n",
       " 'aiganajoroeva': 758,\n",
       " 'aige': 759,\n",
       " 'aigeraadri': 760,\n",
       " 'aigerimdoskozha': 761,\n",
       " 'aigerish': 762,\n",
       " 'aigerstern': 763,\n",
       " 'aigul': 764,\n",
       " 'aigulaigulaigul': 765,\n",
       " 'aigulhaliulina': 766,\n",
       " 'aigulrowe': 767,\n",
       " 'aigumov': 768,\n",
       " 'aigylechka': 769,\n",
       " 'aii': 770,\n",
       " 'aiina': 771,\n",
       " 'aikaaqyuj': 772,\n",
       " 'aikabutaeva': 773,\n",
       " 'aikarakoz': 774,\n",
       " 'aikawhiteberg': 775,\n",
       " 'aikesenin': 776,\n",
       " 'aiko': 777,\n",
       " 'aikol': 778,\n",
       " 'aikuoivaa': 779,\n",
       " 'aikynt': 780,\n",
       " 'aikz': 781,\n",
       " 'ailana': 782,\n",
       " 'ailee': 783,\n",
       " 'aileniyazalieva': 784,\n",
       " 'ailurophile': 785,\n",
       " 'aiman': 786,\n",
       " 'aimantjet': 787,\n",
       " 'aime': 788,\n",
       " 'aimenel': 789,\n",
       " 'aimp': 790,\n",
       " 'aimpara': 791,\n",
       " 'aina': 792,\n",
       " 'ainabappoia': 793,\n",
       " 'ainaberman': 794,\n",
       " 'ainadavydova': 795,\n",
       " 'ainafoxx': 796,\n",
       " 'ainajopk': 797,\n",
       " 'ainalestrange': 798,\n",
       " 'ainaplatonova': 799,\n",
       " 'ainarabaizhan': 800,\n",
       " 'ainaraen': 801,\n",
       " 'ainaramizheva': 802,\n",
       " 'ainashestakova': 803,\n",
       " 'ainekenia': 804,\n",
       " 'aingio': 805,\n",
       " 'ainis': 806,\n",
       " 'aino': 807,\n",
       " 'ainon': 808,\n",
       " 'aint': 809,\n",
       " 'ainur': 810,\n",
       " 'ainura': 811,\n",
       " 'ainurarenova': 812,\n",
       " 'ainurariza': 813,\n",
       " 'ainurasat': 814,\n",
       " 'ainurbaigozha': 815,\n",
       " 'ainy': 816,\n",
       " 'aion': 817,\n",
       " 'aip': 818,\n",
       " 'aipadog': 819,\n",
       " 'aiperipups': 820,\n",
       " 'air': 821,\n",
       " 'airastana': 822,\n",
       " 'airat': 823,\n",
       " 'airbaltic': 824,\n",
       " 'airdrop': 825,\n",
       " 'airen': 826,\n",
       " 'airezsnowstorm': 827,\n",
       " 'airflow': 828,\n",
       " 'airimmense': 829,\n",
       " 'airis': 830,\n",
       " 'airisapple': 831,\n",
       " 'airline': 832,\n",
       " 'airlinersj': 833,\n",
       " 'airlines': 834,\n",
       " 'aironart': 835,\n",
       " 'airplay': 836,\n",
       " 'airport': 837,\n",
       " 'airunicorn': 838,\n",
       " 'airy': 839,\n",
       " 'airygreen': 840,\n",
       " 'airzhanov': 841,\n",
       " 'airах': 842,\n",
       " 'aisa': 843,\n",
       " 'aisana': 844,\n",
       " 'aisenplatonov': 845,\n",
       " 'aisha': 846,\n",
       " 'aishakuznecova': 847,\n",
       " 'aiskidanenko': 848,\n",
       " 'aisling': 849,\n",
       " 'aismirnova': 850,\n",
       " 'aisrailova': 851,\n",
       " 'aisuluuisaeva': 852,\n",
       " 'aisura': 853,\n",
       " 'aitaayta': 854,\n",
       " 'aitagilz': 855,\n",
       " 'aitalyakovlev': 856,\n",
       " 'aitalynakuokuo': 857,\n",
       " 'aitamandarova': 858,\n",
       " 'aitash': 859,\n",
       " 'aitasleptsova': 860,\n",
       " 'aitenovash': 861,\n",
       " 'aitkazieva': 862,\n",
       " 'aitovaaa': 863,\n",
       " 'aiveda': 864,\n",
       " 'aiwe': 865,\n",
       " 'aiya': 866,\n",
       " 'aiza': 867,\n",
       " 'aizaadolmatova': 868,\n",
       " 'aizadolmatova': 869,\n",
       " 'aizadolmatovaпусть': 870,\n",
       " 'aizaprosto': 871,\n",
       " 'aizgura': 872,\n",
       " 'aizhan': 873,\n",
       " 'ajacopa': 874,\n",
       " 'ajamka': 875,\n",
       " 'ajanskiy': 876,\n",
       " 'ajarochka': 877,\n",
       " 'ajax': 878,\n",
       " 'ajecemab': 879,\n",
       " 'ajikinaolga': 880,\n",
       " 'ajilkin': 881,\n",
       " 'ajna': 882,\n",
       " 'ajnastasiya': 883,\n",
       " 'ajnuwaboss': 884,\n",
       " 'ajufozahq': 885,\n",
       " 'aka': 886,\n",
       " 'akabowow': 887,\n",
       " 'akachegova': 888,\n",
       " 'akademik': 889,\n",
       " 'akademikfcsm': 890,\n",
       " 'akademka': 891,\n",
       " 'akademlogik': 892,\n",
       " 'akadetaze': 893,\n",
       " 'akado': 894,\n",
       " 'akafl': 895,\n",
       " 'akai': 896,\n",
       " 'akakamar': 897,\n",
       " 'akaki': 898,\n",
       " 'akakrg': 899,\n",
       " 'akaloy': 900,\n",
       " 'akapaka': 901,\n",
       " 'akaraid': 902,\n",
       " 'akari': 903,\n",
       " 'akarin': 904,\n",
       " 'akaroumchik': 905,\n",
       " 'akarpukhina': 906,\n",
       " 'akashi': 907,\n",
       " 'akater': 908,\n",
       " 'akatev': 909,\n",
       " 'akatigra': 910,\n",
       " 'akatsuki': 911,\n",
       " 'akaufmane': 912,\n",
       " 'akayushka': 913,\n",
       " 'akbicovska': 914,\n",
       " 'akbota': 915,\n",
       " 'akedr': 916,\n",
       " 'akela': 917,\n",
       " 'akelei': 918,\n",
       " 'akemi': 919,\n",
       " 'akemmello': 920,\n",
       " 'akerhov': 921,\n",
       " 'akerke': 922,\n",
       " 'akerohoshi': 923,\n",
       " 'akeseev': 924,\n",
       " 'akevrenaydemir': 925,\n",
       " 'akey': 926,\n",
       " 'akhalchi': 927,\n",
       " 'akhisamutdinova': 928,\n",
       " 'akhitruk': 929,\n",
       " 'akhmatbekov': 930,\n",
       " 'akhmetov': 931,\n",
       " 'akhmetzhanova': 932,\n",
       " 'akhninakristina': 933,\n",
       " 'akholodkova': 934,\n",
       " 'akhoroshyn': 935,\n",
       " 'akhtsiger': 936,\n",
       " 'akhunov': 937,\n",
       " 'aki': 938,\n",
       " 'akiharir': 939,\n",
       " 'akihiko': 940,\n",
       " 'akikomiyim': 941,\n",
       " 'akilinaserg': 942,\n",
       " 'akilinasorokina': 943,\n",
       " 'akillerqueen': 944,\n",
       " 'akimaui': 945,\n",
       " 'akimbeekov': 946,\n",
       " 'akimina': 947,\n",
       " 'akimnow': 948,\n",
       " 'akimova': 949,\n",
       " 'akimovanastena': 950,\n",
       " 'akimovanicka': 951,\n",
       " 'akinagasai': 952,\n",
       " 'akinator': 953,\n",
       " 'akinfeev': 954,\n",
       " 'akinfeevatanya': 955,\n",
       " 'akio': 956,\n",
       " 'akira': 957,\n",
       " 'akiraawesome': 958,\n",
       " 'akiragakushi': 959,\n",
       " 'akirich': 960,\n",
       " 'akisa': 961,\n",
       " 'akisheva': 962,\n",
       " 'akisizm': 963,\n",
       " 'akitniss': 964,\n",
       " 'akkama': 965,\n",
       " 'akkerman': 966,\n",
       " 'aklasun': 967,\n",
       " 'aklimentjev': 968,\n",
       " 'aklyona': 969,\n",
       " 'aklyuchinskaya': 970,\n",
       " 'akm': 971,\n",
       " 'aknet': 972,\n",
       " 'akochemasov': 973,\n",
       " 'akoeva': 974,\n",
       " 'akolesnikov': 975,\n",
       " 'akolomatsky': 976,\n",
       " 'akomissarov': 977,\n",
       " 'akon': 978,\n",
       " 'akondukova': 979,\n",
       " 'akonorova': 980,\n",
       " 'akontai': 981,\n",
       " 'akool': 982,\n",
       " 'akopakop': 983,\n",
       " 'akorenevski': 984,\n",
       " 'akorepova': 985,\n",
       " 'akosmin': 986,\n",
       " 'akostevich': 987,\n",
       " 'akovalenkox': 988,\n",
       " 'akozenko': 989,\n",
       " 'akramovaregina': 990,\n",
       " 'akrilovaalina': 991,\n",
       " 'akristi': 992,\n",
       " 'akromskikh': 993,\n",
       " 'akrosha': 994,\n",
       " 'aks': 995,\n",
       " 'aksdarya': 996,\n",
       " 'akselenc': 997,\n",
       " 'aksenia': 998,\n",
       " 'aksenov': 999,\n",
       " 'aksenova': 1000,\n",
       " ...}"
      ]
     },
     "execution_count": 18,
     "metadata": {},
     "output_type": "execute_result"
    }
   ],
   "source": [
    "voc"
   ]
  },
  {
   "cell_type": "markdown",
   "metadata": {},
   "source": [
    "## строим датасет"
   ]
  },
  {
   "cell_type": "code",
   "execution_count": 19,
   "metadata": {},
   "outputs": [
    {
     "name": "stderr",
     "output_type": "stream",
     "text": [
      "100%|██████████| 226831/226831 [00:00<00:00, 231489.15it/s]\n"
     ]
    }
   ],
   "source": [
    "# заменяем слова на номера в словаре\n",
    "data['code'] = data['ttext_clean'].progress_apply(lambda t: [ voc[w] for w in t] )"
   ]
  },
  {
   "cell_type": "code",
   "execution_count": 20,
   "metadata": {},
   "outputs": [
    {
     "data": {
      "text/html": [
       "<div>\n",
       "<style scoped>\n",
       "    .dataframe tbody tr th:only-of-type {\n",
       "        vertical-align: middle;\n",
       "    }\n",
       "\n",
       "    .dataframe tbody tr th {\n",
       "        vertical-align: top;\n",
       "    }\n",
       "\n",
       "    .dataframe thead th {\n",
       "        text-align: right;\n",
       "    }\n",
       "</style>\n",
       "<table border=\"1\" class=\"dataframe\">\n",
       "  <thead>\n",
       "    <tr style=\"text-align: right;\">\n",
       "      <th></th>\n",
       "      <th>ttext</th>\n",
       "      <th>ttext_clean</th>\n",
       "      <th>code</th>\n",
       "    </tr>\n",
       "  </thead>\n",
       "  <tbody>\n",
       "    <tr>\n",
       "      <th>159154</th>\n",
       "      <td>@Mrs_wild_leek я даже боюсь это вслух произносить, потому что все еще сомневаюсь=((</td>\n",
       "      <td>[mrs, wild, leek, даже, боюсь, это, вслух, произносить, потому, что, все, еще, сомневаюсь, sadsmile]</td>\n",
       "      <td>[39930, 64692, 32390, 98262, 80392, 237045, 89445, 183981, 177598, 232369, 89214, 107138, 204062, 51505]</td>\n",
       "    </tr>\n",
       "    <tr>\n",
       "      <th>150039</th>\n",
       "      <td>За маленьких Норка замолвите слово!   Много страшных картинок из жизни норок :( Мну опечален до невозможности.</td>\n",
       "      <td>[маленьких, норка, замолвите, слово, много, страшных, картинок, жизни, норок, sadsmile, мну, опечален, невозможности]</td>\n",
       "      <td>[136304, 152184, 112276, 201381, 140575, 208384, 122381, 108252, 152281, 51505, 140685, 157779, 148133]</td>\n",
       "    </tr>\n",
       "    <tr>\n",
       "      <th>201401</th>\n",
       "      <td>сегодня Землю накроет мощная\\nмагнитная буря.ну все пизда нам ребятки:(</td>\n",
       "      <td>[сегодня, землю, накроет, мощная, магнитная, буря, все, пизда, нам, ребятки, sadsmile]</td>\n",
       "      <td>[197699, 115601, 145217, 142057, 135741, 81757, 89214, 167440, 145427, 191458, 51505]</td>\n",
       "    </tr>\n",
       "  </tbody>\n",
       "</table>\n",
       "</div>"
      ],
      "text/plain": [
       "                                                                                                                 ttext  \\\n",
       "159154                             @Mrs_wild_leek я даже боюсь это вслух произносить, потому что все еще сомневаюсь=((   \n",
       "150039  За маленьких Норка замолвите слово!   Много страшных картинок из жизни норок :( Мну опечален до невозможности.   \n",
       "201401                                         сегодня Землю накроет мощная\\nмагнитная буря.ну все пизда нам ребятки:(   \n",
       "\n",
       "                                                                                                                  ttext_clean  \\\n",
       "159154                   [mrs, wild, leek, даже, боюсь, это, вслух, произносить, потому, что, все, еще, сомневаюсь, sadsmile]   \n",
       "150039  [маленьких, норка, замолвите, слово, много, страшных, картинок, жизни, норок, sadsmile, мну, опечален, невозможности]   \n",
       "201401                                 [сегодня, землю, накроет, мощная, магнитная, буря, все, пизда, нам, ребятки, sadsmile]   \n",
       "\n",
       "                                                                                                            code  \n",
       "159154  [39930, 64692, 32390, 98262, 80392, 237045, 89445, 183981, 177598, 232369, 89214, 107138, 204062, 51505]  \n",
       "150039   [136304, 152184, 112276, 201381, 140575, 208384, 122381, 108252, 152281, 51505, 140685, 157779, 148133]  \n",
       "201401                     [197699, 115601, 145217, 142057, 135741, 81757, 89214, 167440, 145427, 191458, 51505]  "
      ]
     },
     "execution_count": 20,
     "metadata": {},
     "output_type": "execute_result"
    }
   ],
   "source": [
    "data[['ttext','ttext_clean','code']].sample(3)"
   ]
  },
  {
   "cell_type": "code",
   "execution_count": 21,
   "metadata": {},
   "outputs": [
    {
     "data": {
      "text/plain": [
       "count    226831\n",
       "mean         10\n",
       "std           3\n",
       "min           1\n",
       "25%           7\n",
       "50%           9\n",
       "75%          13\n",
       "max          32\n",
       "Name: code, dtype: int64"
      ]
     },
     "execution_count": 21,
     "metadata": {},
     "output_type": "execute_result"
    }
   ],
   "source": [
    "# оценка длины последовательностей\n",
    "data['code'].str.len().describe().astype(int)"
   ]
  },
  {
   "cell_type": "code",
   "execution_count": 22,
   "metadata": {},
   "outputs": [
    {
     "data": {
      "text/plain": [
       "<AxesSubplot:ylabel='Frequency'>"
      ]
     },
     "execution_count": 22,
     "metadata": {},
     "output_type": "execute_result"
    },
    {
     "data": {
      "image/png": "[encoded data removed]",
      "text/plain": [
       "<Figure size 432x288 with 1 Axes>"
      ]
     },
     "metadata": {
      "needs_background": "light"
     },
     "output_type": "display_data"
    }
   ],
   "source": [
    "data['code'].str.len().plot.hist()"
   ]
  },
  {
   "cell_type": "code",
   "execution_count": 23,
   "metadata": {},
   "outputs": [
    {
     "data": {
      "text/plain": [
       "32"
      ]
     },
     "execution_count": 23,
     "metadata": {},
     "output_type": "execute_result"
    }
   ],
   "source": [
    "# максимальная длинна\n",
    "code_max_len = data['code'].str.len().max()\n",
    "code_max_len"
   ]
  },
  {
   "cell_type": "code",
   "execution_count": 24,
   "metadata": {},
   "outputs": [
    {
     "name": "stderr",
     "output_type": "stream",
     "text": [
      "100%|██████████| 226831/226831 [00:00<00:00, 323111.25it/s]\n"
     ]
    }
   ],
   "source": [
    "# выравниваем длину последовательностей\n",
    "z = [0]*code_max_len # дополняем нулями короткие последовательности\n",
    "data['code'] = data['code'].progress_apply(lambda c: c+z[:(code_max_len-len(c))]  )"
   ]
  },
  {
   "cell_type": "code",
   "execution_count": 25,
   "metadata": {},
   "outputs": [
    {
     "data": {
      "text/plain": [
       "count    226831\n",
       "mean         32\n",
       "std           0\n",
       "min          32\n",
       "25%          32\n",
       "50%          32\n",
       "75%          32\n",
       "max          32\n",
       "Name: code, dtype: int64"
      ]
     },
     "execution_count": 25,
     "metadata": {},
     "output_type": "execute_result"
    }
   ],
   "source": [
    "data['code'].str.len().describe().astype(int)"
   ]
  },
  {
   "cell_type": "markdown",
   "metadata": {},
   "source": [
    "---"
   ]
  },
  {
   "cell_type": "code",
   "execution_count": 26,
   "metadata": {},
   "outputs": [
    {
     "data": {
      "text/plain": [
       "(226831, 32)"
      ]
     },
     "execution_count": 26,
     "metadata": {},
     "output_type": "execute_result"
    }
   ],
   "source": [
    "# собираем матрицу датасета\n",
    "x = np.stack( data['code'].values).astype(int)\n",
    "\n",
    "# для повышения эффективности работы рекуррентной модели\n",
    "# переворачиваем последовательности, \n",
    "# код первого слова в конце, \n",
    "# нули дополнения в начале\n",
    "x = np.flip(x,axis=1)\n",
    "\n",
    "x.shape"
   ]
  },
  {
   "cell_type": "code",
   "execution_count": 27,
   "metadata": {},
   "outputs": [
    {
     "data": {
      "text/plain": [
       "(226831,)"
      ]
     },
     "execution_count": 27,
     "metadata": {},
     "output_type": "execute_result"
    }
   ],
   "source": [
    "# метка класса {0,1}\n",
    "n_classes = 2 # количество классов\n",
    "y = (data['ttype'].values+1) // 2\n",
    "y.shape"
   ]
  },
  {
   "cell_type": "code",
   "execution_count": 28,
   "metadata": {},
   "outputs": [
    {
     "data": {
      "text/plain": [
       "(239517, 32)"
      ]
     },
     "execution_count": 28,
     "metadata": {},
     "output_type": "execute_result"
    }
   ],
   "source": [
    "max_word = x.max() # максимальный номер слова\n",
    "seq_len = x.shape[1] # длина последовательности\n",
    "\n",
    "max_word, seq_len"
   ]
  },
  {
   "cell_type": "code",
   "execution_count": 29,
   "metadata": {},
   "outputs": [
    {
     "data": {
      "text/plain": [
       "((136098, 32), (136098,), (90733, 32), (90733,))"
      ]
     },
     "execution_count": 29,
     "metadata": {},
     "output_type": "execute_result"
    }
   ],
   "source": [
    "from sklearn.model_selection import train_test_split\n",
    "\n",
    "x_train, x_test, y_train, y_test = train_test_split( x, y, test_size=.4 )\n",
    "x_train.shape, y_train.shape, x_test.shape, y_test.shape"
   ]
  },
  {
   "cell_type": "code",
   "execution_count": 30,
   "metadata": {},
   "outputs": [
    {
     "data": {
      "text/plain": [
       "(68682, 46227)"
      ]
     },
     "execution_count": 30,
     "metadata": {},
     "output_type": "execute_result"
    }
   ],
   "source": [
    "# количество позитивных примеров в train и test наборах\n",
    "y_train.sum(axis=0),y_test.sum(axis=0),"
   ]
  },
  {
   "cell_type": "code",
   "execution_count": 31,
   "metadata": {},
   "outputs": [],
   "source": [
    "def get_batch(x,y,batch_size=512):\n",
    "    n = x.shape[0] # количество примеров\n",
    "    pt = int(np.ceil(n/batch_size)) # количество батчей\n",
    "    \n",
    "    # случайным образом мешаем примеры и режем на батчи\n",
    "    ii = rng.permutation(n)\n",
    "    xr,yr = np.array_split(x[ii,:],pt), np.array_split(y[ii],pt)\n",
    "    \n",
    "    for i in range(pt): # генератор выдаёт батчи\n",
    "        yield i,xr[i],yr[i]"
   ]
  },
  {
   "cell_type": "code",
   "execution_count": 32,
   "metadata": {},
   "outputs": [],
   "source": [
    "# batches = get_batch(x_train,y_train,batch_size=512)    "
   ]
  },
  {
   "cell_type": "code",
   "execution_count": 33,
   "metadata": {},
   "outputs": [],
   "source": [
    "# for i,xb,yb in batches: \n",
    "#     print(i,xb.shape)"
   ]
  },
  {
   "cell_type": "markdown",
   "metadata": {},
   "source": [
    "## строим модель"
   ]
  },
  {
   "cell_type": "code",
   "execution_count": 34,
   "metadata": {},
   "outputs": [],
   "source": [
    "embedding_dim = 64 # размер выхода эмбединга\n",
    "hidden_dim = 32 # размер рекуррентного слоя"
   ]
  },
  {
   "cell_type": "code",
   "execution_count": 35,
   "metadata": {},
   "outputs": [],
   "source": [
    "class Model(nn.Module):\n",
    "    def __init__(self, \n",
    "                 num_embeddings=max_word+1, # размер входа эмбединга (длина OHE)\n",
    "                 emb_dim=embedding_dim, # размер выхода эмбединга\n",
    "                 hid_dim=hidden_dim, # размер рекуррентного слоя\n",
    "                 output_dim=n_classes # размер выхода\n",
    "                ):\n",
    "        super().__init__()\n",
    "        self.emb = nn.Embedding(num_embeddings, embedding_dim) \n",
    "        self.rnn = nn.LSTM(emb_dim, hid_dim, batch_first=True) # рекуррентный слой\n",
    "        self.linear = nn.Linear(hid_dim, output_dim) # выходной (линейный) слой\n",
    "        self.sftm = nn.Softmax(dim=1)\n",
    "\n",
    "    def forward(self,x):\n",
    "        out = self.emb(x)\n",
    "        _, (hidden, _) = self.rnn(out) # обрабатываем входную последовательность\n",
    "        hidden = hidden.squeeze(0) # прекомпоновка тензора, сокращаем размерность\n",
    "        out = self.linear(hidden) # считаем выход сети\n",
    "        out = self.sftm(out)\n",
    "        return out "
   ]
  },
  {
   "cell_type": "code",
   "execution_count": 36,
   "metadata": {},
   "outputs": [
    {
     "data": {
      "text/plain": [
       "Model(\n",
       "  (emb): Embedding(239518, 64)\n",
       "  (rnn): LSTM(64, 32, batch_first=True)\n",
       "  (linear): Linear(in_features=32, out_features=2, bias=True)\n",
       "  (sftm): Softmax(dim=1)\n",
       ")"
      ]
     },
     "execution_count": 36,
     "metadata": {},
     "output_type": "execute_result"
    }
   ],
   "source": [
    "model = Model()\n",
    "model"
   ]
  },
  {
   "cell_type": "code",
   "execution_count": 37,
   "metadata": {},
   "outputs": [],
   "source": [
    "# z = torch.zeros( size=(1,seq_len), dtype=torch.int, requires_grad=False)\n",
    "# out = model(z)\n",
    "# make_dot( out, params=dict(list(model.named_parameters())), ) #show_attrs=True )  \n",
    "# # .render(\"rnn_torchviz\", format=\"png\")"
   ]
  },
  {
   "cell_type": "markdown",
   "metadata": {},
   "source": [
    "## обучаем модель"
   ]
  },
  {
   "cell_type": "code",
   "execution_count": 38,
   "metadata": {},
   "outputs": [
    {
     "data": {
      "text/plain": [
       "device(type='cuda')"
      ]
     },
     "execution_count": 38,
     "metadata": {},
     "output_type": "execute_result"
    }
   ],
   "source": [
    "device = torch.device('cuda' if torch.cuda.is_available() else 'cpu')\n",
    "device"
   ]
  },
  {
   "cell_type": "code",
   "execution_count": 39,
   "metadata": {},
   "outputs": [],
   "source": [
    "model = model.to(device)"
   ]
  },
  {
   "cell_type": "code",
   "execution_count": 40,
   "metadata": {},
   "outputs": [],
   "source": [
    "loss_function =  nn.CrossEntropyLoss()\n",
    "optimizer = torch.optim.Adam(model.parameters(), lr=0.05)"
   ]
  },
  {
   "cell_type": "code",
   "execution_count": 41,
   "metadata": {},
   "outputs": [
    {
     "name": "stdout",
     "output_type": "stream",
     "text": [
      "epoch:   0 loss: 0.43348715\n",
      "epoch:   1 loss: 0.39865962\n",
      "epoch:   2 loss: 0.38118887\n",
      "epoch:   3 loss: 0.36939713\n",
      "epoch:   4 loss: 0.37430423\n",
      "epoch:   5 loss: 0.36848286\n",
      "epoch:   6 loss: 0.36145508\n",
      "epoch:   7 loss: 0.36106700\n",
      "epoch:   8 loss: 0.35810837\n",
      "CPU times: user 17.6 s, sys: 189 ms, total: 17.8 s\n",
      "Wall time: 18 s\n"
     ]
    }
   ],
   "source": [
    "%%time\n",
    "\n",
    "epochs = 9\n",
    "hist = []\n",
    "for i in range(epochs):\n",
    "    batches = get_batch(x_train,y_train,batch_size=1024)    \n",
    "    \n",
    "    for j,xb,yb in batches: \n",
    "        \n",
    "        xt,yt = torch.tensor(xb).to(device), torch.tensor(yb).to(device)\n",
    "        optimizer.zero_grad() # обнуляем значения градиента\n",
    "        out = model(xt) # вычисляем выход, прямой проход\n",
    "        loss = loss_function(out,yt) # вычисляем значение потери\n",
    "        loss.backward() # вычисляем значения градиента потери, обратный проход\n",
    "        optimizer.step() # изменяем значения весов модели\n",
    "        hist.append( loss.item() ) # сохраняем текущее значение потери\n",
    "        \n",
    "        del xt\n",
    "        del yt\n",
    "       \n",
    "\n",
    "    #if((i%3)==1): print(f'epoch: {i:3} loss: {loss.item():10.8f}')\n",
    "    print(f'epoch: {i:3} loss: {loss.item():10.8f}')\n"
   ]
  },
  {
   "cell_type": "code",
   "execution_count": 42,
   "metadata": {},
   "outputs": [],
   "source": [
    "torch.cuda.empty_cache()"
   ]
  },
  {
   "cell_type": "code",
   "execution_count": 43,
   "metadata": {},
   "outputs": [
    {
     "data": {
      "text/plain": [
       "[<matplotlib.lines.Line2D at 0x7fa0ef011b20>]"
      ]
     },
     "execution_count": 43,
     "metadata": {},
     "output_type": "execute_result"
    },
    {
     "data": {
      "image/png": "[encoded data removed]",
      "text/plain": [
       "<Figure size 432x288 with 1 Axes>"
      ]
     },
     "metadata": {
      "needs_background": "light"
     },
     "output_type": "display_data"
    }
   ],
   "source": [
    "# изменение значения потери в процессе обучения\n",
    "plt.plot(hist)"
   ]
  },
  {
   "cell_type": "markdown",
   "metadata": {},
   "source": [
    "## тест"
   ]
  },
  {
   "cell_type": "code",
   "execution_count": 44,
   "metadata": {},
   "outputs": [],
   "source": [
    "from sklearn.metrics import accuracy_score\n",
    "from sklearn.metrics import classification_report"
   ]
  },
  {
   "cell_type": "code",
   "execution_count": 45,
   "metadata": {},
   "outputs": [],
   "source": [
    "xt = torch.tensor(x_test).to(device)\n",
    "out = model(xt)\n",
    "scores = out.cpu().detach().numpy()\n",
    "y_pred = np.argmax( scores ,axis=1)"
   ]
  },
  {
   "cell_type": "code",
   "execution_count": 46,
   "metadata": {},
   "outputs": [],
   "source": [
    "del xt\n",
    "torch.cuda.empty_cache()"
   ]
  },
  {
   "cell_type": "code",
   "execution_count": 47,
   "metadata": {},
   "outputs": [
    {
     "data": {
      "text/plain": [
       "0.8723066579965393"
      ]
     },
     "execution_count": 47,
     "metadata": {},
     "output_type": "execute_result"
    }
   ],
   "source": [
    "accuracy_score(y_test, y_pred)"
   ]
  },
  {
   "cell_type": "code",
   "execution_count": 48,
   "metadata": {},
   "outputs": [
    {
     "name": "stdout",
     "output_type": "stream",
     "text": [
      "              precision    recall  f1-score   support\n",
      "\n",
      "           0       0.85      0.90      0.87     44506\n",
      "           1       0.90      0.84      0.87     46227\n",
      "\n",
      "    accuracy                           0.87     90733\n",
      "   macro avg       0.87      0.87      0.87     90733\n",
      "weighted avg       0.87      0.87      0.87     90733\n",
      "\n"
     ]
    }
   ],
   "source": [
    "print(classification_report(y_test, y_pred) )"
   ]
  },
  {
   "cell_type": "markdown",
   "metadata": {},
   "source": [
    "----"
   ]
  },
  {
   "cell_type": "code",
   "execution_count": 54,
   "metadata": {},
   "outputs": [],
   "source": [
    "# from matplotlib import pyplot as plt\n",
    "# from tensorflow.keras.models import Sequential\n",
    "# from tensorflow.keras.layers import Embedding\n",
    "# from tensorflow.keras.layers import LSTM\n",
    "# from tensorflow.keras.layers import Dense\n",
    "\n",
    "# embedding_size = 64\n",
    "\n",
    "# model = Sequential()\n",
    "# model.add(Embedding( input_dim = max_word+1, output_dim = embedding_size, input_length = seq_len,))\n",
    "# model.add(LSTM(32))\n",
    "# model.add(Dense(n_classes, activation='softmax'))\n",
    "\n",
    "# model.compile(loss='categorical_crossentropy',\n",
    "#               optimizer='adam',\n",
    "#               metrics=['accuracy'])\n",
    "\n",
    "\n",
    "# hist = model.fit(x_train,y_train, batch_size=1024, epochs=9, validation_split=.3)\n",
    "\n",
    "# model.evaluate( x_test ,y_test )\n",
    "\n",
    "# k = hist.history.keys()\n",
    "# w,h = 6,4\n",
    "# fig,ax = plt.subplots(1,len(k),figsize=(w*len(k),h))\n",
    "# for i,n in enumerate(k):\n",
    "#     ax[i].plot(hist.history[n],label=n)\n",
    "#     ax[i].grid(True)\n",
    "#     ax[i].legend()\n",
    "#     ax[i].set_ylim([-.1,1.1])"
   ]
  },
  {
   "cell_type": "code",
   "execution_count": null,
   "metadata": {},
   "outputs": [],
   "source": []
  }
 ],
 "metadata": {
  "kernelspec": {
   "display_name": "Python 3",
   "language": "python",
   "name": "python3"
  },
  "language_info": {
   "codemirror_mode": {
    "name": "ipython",
    "version": 3
   },
   "file_extension": ".py",
   "mimetype": "text/x-python",
   "name": "python",
   "nbconvert_exporter": "python",
   "pygments_lexer": "ipython3",
   "version": "3.9.2"
  },
  "toc": {
   "base_numbering": 1,
   "nav_menu": {},
   "number_sections": true,
   "sideBar": true,
   "skip_h1_title": false,
   "title_cell": "Table of Contents",
   "title_sidebar": "Contents",
   "toc_cell": false,
   "toc_position": {},
   "toc_section_display": "block",
   "toc_window_display": true
  }
 },
 "nbformat": 4,
 "nbformat_minor": 4
}
