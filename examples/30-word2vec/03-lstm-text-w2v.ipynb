{
 "cells": [
  {
   "cell_type": "markdown",
   "metadata": {},
   "source": [
    "**классификатор текстов LSTM + W2V**\n",
    "\n",
    "Евгений Борисов <borisov.e@solarl.ru>"
   ]
  },
  {
   "cell_type": "markdown",
   "metadata": {},
   "source": [
    "https://ruscorpora.ru/new/\n",
    "\n",
    "https://nlpub.ru/Russian_Distributional_Thesaurus    "
   ]
  },
  {
   "cell_type": "markdown",
   "metadata": {},
   "source": [
    "## Библиотеки"
   ]
  },
  {
   "cell_type": "code",
   "execution_count": 1,
   "metadata": {},
   "outputs": [],
   "source": [
    "import numpy as np\n",
    "import pandas as pd\n",
    "pd.options.display.max_colwidth = 200  \n",
    "import re\n",
    "import gc\n",
    "# import gzip\n",
    "from tqdm import tqdm"
   ]
  },
  {
   "cell_type": "code",
   "execution_count": 2,
   "metadata": {},
   "outputs": [
    {
     "name": "stderr",
     "output_type": "stream",
     "text": [
      "/usr/lib/python3.9/site-packages/tqdm/std.py:699: FutureWarning: The Panel class is removed from pandas. Accessing it from the top-level namespace will also be removed in the next version\n",
      "  from pandas import Panel\n"
     ]
    }
   ],
   "source": [
    "tqdm.pandas()"
   ]
  },
  {
   "cell_type": "code",
   "execution_count": 3,
   "metadata": {},
   "outputs": [],
   "source": [
    "def pp(d): return \"{:,.0f}\".format(d).replace(\",\", \" \")\n",
    "def ppr(d): print('записей:', pp(len(d)) )  "
   ]
  },
  {
   "cell_type": "markdown",
   "metadata": {},
   "source": [
    "## Данные"
   ]
  },
  {
   "cell_type": "raw",
   "metadata": {},
   "source": [
    "Ю. В. Рубцова. Построение корпуса текстов для настройки тонового классификатора // Программные продукты и системы, 2015, №1(109), –С.72-78\n",
    "\n",
    "http://study.mokoron.com\n",
    "\n",
    "– id: уникальный номер сообщения в системе twitter;\n",
    "– tdate: дата публикации сообщения (твита);\n",
    "– tmane: имя пользователя, опубликовавшего сообщение;\n",
    "– ttext:  текст сообщения (твита);\n",
    "– ttype: поле в котором в дальнейшем будет указано к кому классу относится твит (положительный, отрицательный, нейтральный);\n",
    "– trep: количество реплаев к данному сообщению. В настоящий момент API твиттера не отдает эту информацию;\n",
    "– tfav: число сколько раз данное сообщение было добавлено в избранное другими пользователями;\n",
    "– tstcount: число всех сообщений пользователя в сети twitter;\n",
    "– tfol: количество фоловеров пользователя (тех людей, которые читают пользователя);\n",
    "– tfrien: количество друзей пользователя (те люди, которых читает пользователь);\n",
    "– listcount: количество листов-подписок в которые добавлен твиттер-пользователь."
   ]
  },
  {
   "cell_type": "code",
   "execution_count": 4,
   "metadata": {},
   "outputs": [],
   "source": [
    "ff = ['id', 'tdate', 'tmane', 'ttext', 'ttype', 'trep', 'tfav', 'tstcount', 'tfol', 'tfrien', 'listcount','unk']"
   ]
  },
  {
   "cell_type": "code",
   "execution_count": 5,
   "metadata": {},
   "outputs": [
    {
     "name": "stdout",
     "output_type": "stream",
     "text": [
      "записей: 111 923\n"
     ]
    }
   ],
   "source": [
    "neg = pd.read_csv('../data/twit/negative.csv.gz',sep=';',header=None)\n",
    "ppr(neg)\n",
    "neg.columns = ff"
   ]
  },
  {
   "cell_type": "code",
   "execution_count": 6,
   "metadata": {},
   "outputs": [
    {
     "name": "stdout",
     "output_type": "stream",
     "text": [
      "записей: 114 910\n"
     ]
    }
   ],
   "source": [
    "pos = pd.read_csv('../data/twit/positive.csv.gz',sep=';')\n",
    "ppr(pos)\n",
    "pos.columns = ff"
   ]
  },
  {
   "cell_type": "code",
   "execution_count": 7,
   "metadata": {},
   "outputs": [
    {
     "name": "stdout",
     "output_type": "stream",
     "text": [
      "записей: 226 833\n"
     ]
    }
   ],
   "source": [
    "data = pd.concat([pos,neg],sort=False)[['id','ttext', 'ttype']]\n",
    "ppr(data)"
   ]
  },
  {
   "cell_type": "code",
   "execution_count": 8,
   "metadata": {},
   "outputs": [
    {
     "data": {
      "text/html": [
       "<div>\n",
       "<style scoped>\n",
       "    .dataframe tbody tr th:only-of-type {\n",
       "        vertical-align: middle;\n",
       "    }\n",
       "\n",
       "    .dataframe tbody tr th {\n",
       "        vertical-align: top;\n",
       "    }\n",
       "\n",
       "    .dataframe thead th {\n",
       "        text-align: right;\n",
       "    }\n",
       "</style>\n",
       "<table border=\"1\" class=\"dataframe\">\n",
       "  <thead>\n",
       "    <tr style=\"text-align: right;\">\n",
       "      <th></th>\n",
       "      <th>id</th>\n",
       "      <th>ttext</th>\n",
       "      <th>ttype</th>\n",
       "    </tr>\n",
       "  </thead>\n",
       "  <tbody>\n",
       "    <tr>\n",
       "      <th>99673</th>\n",
       "      <td>423078685889921025</td>\n",
       "      <td>@drug_poison я хотел чтобы все знали или вспомнили что это я был, просто очень часто я всё менял(</td>\n",
       "      <td>-1</td>\n",
       "    </tr>\n",
       "    <tr>\n",
       "      <th>93292</th>\n",
       "      <td>410868701874126848</td>\n",
       "      <td>RT @DubovikAlina: ЕЩЕ НЕ ВЫУЧИЛА СВ-ВА ВОДОРОДА ,А УЖЕ ДУМАЮ КУДА ПОЙДУ СДАВАТЬ БУТЫЛКИ:DDD</td>\n",
       "      <td>1</td>\n",
       "    </tr>\n",
       "    <tr>\n",
       "      <th>75798</th>\n",
       "      <td>418998669208481792</td>\n",
       "      <td>Жена не хочет секса :( http://t.co/TcaZ7wm1Z6</td>\n",
       "      <td>-1</td>\n",
       "    </tr>\n",
       "    <tr>\n",
       "      <th>84493</th>\n",
       "      <td>420461660785369088</td>\n",
       "      <td>Бля,сейчас просто поняла,что моя Калина уедет надолго. Боя,капец товарищи:(</td>\n",
       "      <td>-1</td>\n",
       "    </tr>\n",
       "    <tr>\n",
       "      <th>24360</th>\n",
       "      <td>412001429889757184</td>\n",
       "      <td>RT @qimyqovojuv: Жаль что Windows Live Mail и Windows Live Writer не работают под Win 2k :( На работе было бы удобно ими пользоваться для</td>\n",
       "      <td>-1</td>\n",
       "    </tr>\n",
       "    <tr>\n",
       "      <th>89612</th>\n",
       "      <td>421604342362554368</td>\n",
       "      <td>Экзамены.Боже,все было так хорошо.Мне кажется,мой мозг не может запоминать(</td>\n",
       "      <td>-1</td>\n",
       "    </tr>\n",
       "    <tr>\n",
       "      <th>64914</th>\n",
       "      <td>410363611111260160</td>\n",
       "      <td>все-таки самые поездатые на нем игры это эмулятор SMD и старые добрые ромы :) а это ваше три-дэ и управление датчиками на</td>\n",
       "      <td>1</td>\n",
       "    </tr>\n",
       "    <tr>\n",
       "      <th>28651</th>\n",
       "      <td>409617326687154176</td>\n",
       "      <td>RT @supermansosiska: Все нормально :D http://t.co/5PVUIQwUao</td>\n",
       "      <td>1</td>\n",
       "    </tr>\n",
       "    <tr>\n",
       "      <th>36143</th>\n",
       "      <td>413654233209380864</td>\n",
       "      <td>проходит время,но к сожалению оно не лечит..(((</td>\n",
       "      <td>-1</td>\n",
       "    </tr>\n",
       "    <tr>\n",
       "      <th>78888</th>\n",
       "      <td>410725609640173568</td>\n",
       "      <td>У нас в садике творились какие-то мексиканские страсти :D</td>\n",
       "      <td>1</td>\n",
       "    </tr>\n",
       "  </tbody>\n",
       "</table>\n",
       "</div>"
      ],
      "text/plain": [
       "                       id  \\\n",
       "99673  423078685889921025   \n",
       "93292  410868701874126848   \n",
       "75798  418998669208481792   \n",
       "84493  420461660785369088   \n",
       "24360  412001429889757184   \n",
       "89612  421604342362554368   \n",
       "64914  410363611111260160   \n",
       "28651  409617326687154176   \n",
       "36143  413654233209380864   \n",
       "78888  410725609640173568   \n",
       "\n",
       "                                                                                                                                           ttext  \\\n",
       "99673                                          @drug_poison я хотел чтобы все знали или вспомнили что это я был, просто очень часто я всё менял(   \n",
       "93292                                                RT @DubovikAlina: ЕЩЕ НЕ ВЫУЧИЛА СВ-ВА ВОДОРОДА ,А УЖЕ ДУМАЮ КУДА ПОЙДУ СДАВАТЬ БУТЫЛКИ:DDD   \n",
       "75798                                                                                              Жена не хочет секса :( http://t.co/TcaZ7wm1Z6   \n",
       "84493                                                                Бля,сейчас просто поняла,что моя Калина уедет надолго. Боя,капец товарищи:(   \n",
       "24360  RT @qimyqovojuv: Жаль что Windows Live Mail и Windows Live Writer не работают под Win 2k :( На работе было бы удобно ими пользоваться для   \n",
       "89612                                                                Экзамены.Боже,все было так хорошо.Мне кажется,мой мозг не может запоминать(   \n",
       "64914                  все-таки самые поездатые на нем игры это эмулятор SMD и старые добрые ромы :) а это ваше три-дэ и управление датчиками на   \n",
       "28651                                                                               RT @supermansosiska: Все нормально :D http://t.co/5PVUIQwUao   \n",
       "36143                                                                                            проходит время,но к сожалению оно не лечит..(((   \n",
       "78888                                                                                  У нас в садике творились какие-то мексиканские страсти :D   \n",
       "\n",
       "       ttype  \n",
       "99673     -1  \n",
       "93292      1  \n",
       "75798     -1  \n",
       "84493     -1  \n",
       "24360     -1  \n",
       "89612     -1  \n",
       "64914      1  \n",
       "28651      1  \n",
       "36143     -1  \n",
       "78888      1  "
      ]
     },
     "execution_count": 8,
     "metadata": {},
     "output_type": "execute_result"
    }
   ],
   "source": [
    "data.sample(10)"
   ]
  },
  {
   "cell_type": "markdown",
   "metadata": {},
   "source": [
    "## очистка данных"
   ]
  },
  {
   "cell_type": "code",
   "execution_count": 9,
   "metadata": {},
   "outputs": [
    {
     "name": "stderr",
     "output_type": "stream",
     "text": [
      "100%|██████████| 226833/226833 [00:00<00:00, 275796.16it/s]\n",
      "100%|██████████| 226833/226833 [00:01<00:00, 113968.63it/s]\n",
      "100%|██████████| 226833/226833 [00:01<00:00, 119213.54it/s]\n",
      "100%|██████████| 226833/226833 [00:01<00:00, 122305.60it/s]\n",
      "100%|██████████| 226833/226833 [00:01<00:00, 117564.61it/s]\n",
      "100%|██████████| 226833/226833 [00:01<00:00, 124058.46it/s]\n",
      "100%|██████████| 226833/226833 [00:01<00:00, 121166.32it/s]\n"
     ]
    }
   ],
   "source": [
    "data['ttext_clean'] = data['ttext']\\\n",
    "    .progress_apply(lambda t:[ w.strip() for w in t.split() if w.strip() ] )\\\n",
    "    .progress_apply(lambda t:[ re.sub(r'^http.*',' url ', w.strip() ) for w in t ] )\\\n",
    "    .progress_apply(lambda t:[ re.sub(r'[:;]-*[)D]',' happysmile ', w.strip() )for w in t ])\\\n",
    "    .progress_apply(lambda t:[ re.sub(r'\\)\\)\\)*',' happysmile ', w.strip() ) for w in t ])\\\n",
    "    .progress_apply(lambda t:[ re.sub(r'[:;]\\*',' kisssmile ', w.strip() ) for w in t ])\\\n",
    "    .progress_apply(lambda t:[ re.sub(r':\\(',' sadsmile ', w.strip() ) for w in t ])\\\n",
    "    .progress_apply(lambda t:[ re.sub(r'\\(\\(\\(*',' sadsmile ', w.strip() ) for w in t ])"
   ]
  },
  {
   "cell_type": "code",
   "execution_count": 10,
   "metadata": {},
   "outputs": [],
   "source": [
    "data['ttext_clean'] = [ ' '.join(s) for s in data['ttext_clean'] ]"
   ]
  },
  {
   "cell_type": "code",
   "execution_count": 11,
   "metadata": {},
   "outputs": [
    {
     "name": "stderr",
     "output_type": "stream",
     "text": [
      "100%|██████████| 226833/226833 [00:01<00:00, 196223.75it/s]\n",
      "100%|██████████| 226833/226833 [00:00<00:00, 789461.88it/s]\n",
      "100%|██████████| 226833/226833 [00:00<00:00, 339813.06it/s]\n",
      "100%|██████████| 226833/226833 [00:00<00:00, 286502.14it/s]\n",
      "100%|██████████| 226833/226833 [00:02<00:00, 105320.73it/s]\n"
     ]
    }
   ],
   "source": [
    "data['ttext_clean'] = data['ttext_clean'].str.lower()\\\n",
    "    .progress_apply(lambda s: re.sub( r'\\W', ' ', s))\\\n",
    "    .progress_apply(lambda s: re.sub( r'_', ' ', s))\\\n",
    "    .progress_apply(lambda s: re.sub( r'\\b\\d+\\b', ' digit ', s))\\\n",
    "    .progress_apply(lambda t:[ w.strip() for w in t.split() if w.strip() ] )\\\n",
    "    .progress_apply(lambda t: [w for w in t if not re.match( r'\\b.*\\d+.*\\b', w) ])"
   ]
  },
  {
   "cell_type": "code",
   "execution_count": 12,
   "metadata": {},
   "outputs": [
    {
     "data": {
      "text/html": [
       "<div>\n",
       "<style scoped>\n",
       "    .dataframe tbody tr th:only-of-type {\n",
       "        vertical-align: middle;\n",
       "    }\n",
       "\n",
       "    .dataframe tbody tr th {\n",
       "        vertical-align: top;\n",
       "    }\n",
       "\n",
       "    .dataframe thead th {\n",
       "        text-align: right;\n",
       "    }\n",
       "</style>\n",
       "<table border=\"1\" class=\"dataframe\">\n",
       "  <thead>\n",
       "    <tr style=\"text-align: right;\">\n",
       "      <th></th>\n",
       "      <th>id</th>\n",
       "      <th>ttext</th>\n",
       "      <th>ttype</th>\n",
       "      <th>ttext_clean</th>\n",
       "    </tr>\n",
       "  </thead>\n",
       "  <tbody>\n",
       "    <tr>\n",
       "      <th>9164</th>\n",
       "      <td>410291068559958016</td>\n",
       "      <td>Нужно строить планы на новый год...( но почему то ощущения праздника совсем нет</td>\n",
       "      <td>-1</td>\n",
       "      <td>[нужно, строить, планы, на, новый, год, но, почему, то, ощущения, праздника, совсем, нет]</td>\n",
       "    </tr>\n",
       "    <tr>\n",
       "      <th>46310</th>\n",
       "      <td>414733998846664704</td>\n",
       "      <td>В понедельник на рентген, а пока дома чай, молоко, мед и теплое одеяло :(</td>\n",
       "      <td>-1</td>\n",
       "      <td>[в, понедельник, на, рентген, а, пока, дома, чай, молоко, мед, и, теплое, одеяло, sadsmile]</td>\n",
       "    </tr>\n",
       "    <tr>\n",
       "      <th>20687</th>\n",
       "      <td>409417344927010816</td>\n",
       "      <td>@butyrskaya99 @katyazhogal @Alina_kolc я зарегила алину в тви, \\nя молодец)</td>\n",
       "      <td>1</td>\n",
       "      <td>[katyazhogal, alina, kolc, я, зарегила, алину, в, тви, я, молодец]</td>\n",
       "    </tr>\n",
       "  </tbody>\n",
       "</table>\n",
       "</div>"
      ],
      "text/plain": [
       "                       id  \\\n",
       "9164   410291068559958016   \n",
       "46310  414733998846664704   \n",
       "20687  409417344927010816   \n",
       "\n",
       "                                                                                 ttext  \\\n",
       "9164   Нужно строить планы на новый год...( но почему то ощущения праздника совсем нет   \n",
       "46310        В понедельник на рентген, а пока дома чай, молоко, мед и теплое одеяло :(   \n",
       "20687      @butyrskaya99 @katyazhogal @Alina_kolc я зарегила алину в тви, \\nя молодец)   \n",
       "\n",
       "       ttype  \\\n",
       "9164      -1   \n",
       "46310     -1   \n",
       "20687      1   \n",
       "\n",
       "                                                                                       ttext_clean  \n",
       "9164     [нужно, строить, планы, на, новый, год, но, почему, то, ощущения, праздника, совсем, нет]  \n",
       "46310  [в, понедельник, на, рентген, а, пока, дома, чай, молоко, мед, и, теплое, одеяло, sadsmile]  \n",
       "20687                           [katyazhogal, alina, kolc, я, зарегила, алину, в, тви, я, молодец]  "
      ]
     },
     "execution_count": 12,
     "metadata": {},
     "output_type": "execute_result"
    }
   ],
   "source": [
    "data.sample(3)"
   ]
  },
  {
   "cell_type": "code",
   "execution_count": 13,
   "metadata": {},
   "outputs": [
    {
     "name": "stderr",
     "output_type": "stream",
     "text": [
      "100%|██████████| 226833/226833 [00:00<00:00, 346984.14it/s]\n"
     ]
    }
   ],
   "source": [
    "# удаление коротких слов\n",
    "data['ttext_clean'] = data['ttext_clean'].progress_apply(lambda t:[w for w in t if len(w)>2])"
   ]
  },
  {
   "cell_type": "code",
   "execution_count": 14,
   "metadata": {},
   "outputs": [
    {
     "name": "stdout",
     "output_type": "stream",
     "text": [
      "записей: 226 833\n",
      "записей: 226 831\n"
     ]
    }
   ],
   "source": [
    "ppr(data)\n",
    "data = data[ data['ttext_clean'].str.len()>0 ].reset_index(drop=True) \n",
    "ppr(data)"
   ]
  },
  {
   "cell_type": "code",
   "execution_count": 15,
   "metadata": {},
   "outputs": [
    {
     "data": {
      "text/html": [
       "<div>\n",
       "<style scoped>\n",
       "    .dataframe tbody tr th:only-of-type {\n",
       "        vertical-align: middle;\n",
       "    }\n",
       "\n",
       "    .dataframe tbody tr th {\n",
       "        vertical-align: top;\n",
       "    }\n",
       "\n",
       "    .dataframe thead th {\n",
       "        text-align: right;\n",
       "    }\n",
       "</style>\n",
       "<table border=\"1\" class=\"dataframe\">\n",
       "  <thead>\n",
       "    <tr style=\"text-align: right;\">\n",
       "      <th></th>\n",
       "      <th>id</th>\n",
       "      <th>ttext</th>\n",
       "      <th>ttype</th>\n",
       "      <th>ttext_clean</th>\n",
       "    </tr>\n",
       "  </thead>\n",
       "  <tbody>\n",
       "    <tr>\n",
       "      <th>205946</th>\n",
       "      <td>421838166388408320</td>\n",
       "      <td>RT @kyxtyxa: Вообще, что за дела . Мужики как бабы ( цветочки вам, может?</td>\n",
       "      <td>-1</td>\n",
       "      <td>[kyxtyxa, вообще, что, дела, мужики, как, бабы, цветочки, вам, может]</td>\n",
       "    </tr>\n",
       "    <tr>\n",
       "      <th>45992</th>\n",
       "      <td>409991995256750080</td>\n",
       "      <td>Сегодня одноклассники на обществе устроили батхерт))) такие угарные)))</td>\n",
       "      <td>1</td>\n",
       "      <td>[сегодня, одноклассники, обществе, устроили, батхерт, happysmile, такие, угарные, happysmile]</td>\n",
       "    </tr>\n",
       "    <tr>\n",
       "      <th>29357</th>\n",
       "      <td>409625928247963648</td>\n",
       "      <td>Пока жду Юру,смотрю на мальчиков:\\n-Ладно,Юр,давай едь,я пока на мальчиков посмотрю\\n- -_-\\n-Что?\\n-Ты каждый день на них смотришь :DD\\n-хахахах</td>\n",
       "      <td>1</td>\n",
       "      <td>[пока, жду, юру, смотрю, мальчиков, ладно, давай, едь, пока, мальчиков, посмотрю, что, каждый, день, них, смотришь, happysmile, хахахах]</td>\n",
       "    </tr>\n",
       "  </tbody>\n",
       "</table>\n",
       "</div>"
      ],
      "text/plain": [
       "                        id  \\\n",
       "205946  421838166388408320   \n",
       "45992   409991995256750080   \n",
       "29357   409625928247963648   \n",
       "\n",
       "                                                                                                                                                   ttext  \\\n",
       "205946                                                                         RT @kyxtyxa: Вообще, что за дела . Мужики как бабы ( цветочки вам, может?   \n",
       "45992                                                                             Сегодня одноклассники на обществе устроили батхерт))) такие угарные)))   \n",
       "29357   Пока жду Юру,смотрю на мальчиков:\\n-Ладно,Юр,давай едь,я пока на мальчиков посмотрю\\n- -_-\\n-Что?\\n-Ты каждый день на них смотришь :DD\\n-хахахах   \n",
       "\n",
       "        ttype  \\\n",
       "205946     -1   \n",
       "45992       1   \n",
       "29357       1   \n",
       "\n",
       "                                                                                                                                     ttext_clean  \n",
       "205946                                                                     [kyxtyxa, вообще, что, дела, мужики, как, бабы, цветочки, вам, может]  \n",
       "45992                                              [сегодня, одноклассники, обществе, устроили, батхерт, happysmile, такие, угарные, happysmile]  \n",
       "29357   [пока, жду, юру, смотрю, мальчиков, ладно, давай, едь, пока, мальчиков, посмотрю, что, каждый, день, них, смотришь, happysmile, хахахах]  "
      ]
     },
     "execution_count": 15,
     "metadata": {},
     "output_type": "execute_result"
    }
   ],
   "source": [
    "data.sample(3)"
   ]
  },
  {
   "cell_type": "code",
   "execution_count": 16,
   "metadata": {},
   "outputs": [],
   "source": [
    "# voc = sorted(set.union(*[ set(s) for s in data['ttext_clean'].values.tolist() ]))\n",
    "# voc = { w:i+1 for i,w in enumerate(voc) }\n",
    "# voc['<pad>']= 0\n",
    "# ppr(voc)"
   ]
  },
  {
   "cell_type": "markdown",
   "metadata": {},
   "source": [
    "## строим датасет"
   ]
  },
  {
   "cell_type": "markdown",
   "metadata": {},
   "source": [
    "### кодируем word2vec"
   ]
  },
  {
   "cell_type": "code",
   "execution_count": 25,
   "metadata": {},
   "outputs": [],
   "source": [
    "# %%time\n",
    "\n",
    "\n",
    "# https://nlpub.ru/Russian_Distributional_Thesaurus\n",
    "    \n",
    "# from gensim.models import KeyedVectors \n",
    "# w2v_file = 'tenth.norm-sz500-w7-cb0-it5-min5.w2v'\n",
    "# w2v = KeyedVectors.load_word2vec_format(w2v_file, binary=True, unicode_errors='ignore')\n",
    "# w2v.init_sims(replace=True)"
   ]
  },
  {
   "cell_type": "code",
   "execution_count": 26,
   "metadata": {},
   "outputs": [
    {
     "name": "stdout",
     "output_type": "stream",
     "text": [
      "CPU times: user 1min 7s, sys: 320 ms, total: 1min 7s\n",
      "Wall time: 40.1 s\n"
     ]
    }
   ],
   "source": [
    "%%time\n",
    "\n",
    "from gensim.models.word2vec import Word2Vec\n",
    "\n",
    "w2v_size = 128\n",
    "\n",
    "w2v = Word2Vec( data['ttext_clean'].values, min_count=1, size=w2v_size, window=4, workers=4)\n",
    "\n",
    "# with open('result/Word2Vec.pkl', 'wb') as f: pickle.dump(w2v, f)"
   ]
  },
  {
   "cell_type": "code",
   "execution_count": 27,
   "metadata": {},
   "outputs": [
    {
     "name": "stdout",
     "output_type": "stream",
     "text": [
      "записей: 239 517\n"
     ]
    }
   ],
   "source": [
    "w2v_vocab = sorted([w for w in w2v.wv.vocab])\n",
    "ppr(w2v_vocab)"
   ]
  },
  {
   "cell_type": "code",
   "execution_count": 28,
   "metadata": {},
   "outputs": [
    {
     "name": "stdout",
     "output_type": "stream",
     "text": [
      "апреееель : ['зафикшена', 'спасииииииииииииба', 'xyxydesevyl', 'fypeqywupaz', 'задорнов']\n"
     ]
    },
    {
     "name": "stderr",
     "output_type": "stream",
     "text": [
      "<ipython-input-28-51489ecf273e>:4: DeprecationWarning: Call to deprecated `most_similar` (Method will be removed in 4.0.0, use self.wv.most_similar() instead).\n",
      "  ww = [ v[0] for v in w2v.most_similar(w, topn=5) ]\n"
     ]
    },
    {
     "name": "stdout",
     "output_type": "stream",
     "text": [
      "ukesha : ['typikal', 'мэйл', 'экспертом', 'выбирая', 'штурмовать']\n",
      "ideas : ['сергиев', 'следователь', 'pack', 'удаа', 'слів']\n",
      "besties : ['ситкома', 'розес', 'твитдека', 'gainetdinov', 'хутина']\n",
      "chistyakoway : ['сбудется', 'ellena', 'конечно', 'foreveralone', 'заход']\n",
      "онем : ['рассказываем', 'джоани', 'ааахахахах', 'метаинфо', 'завернутым']\n",
      "cream : ['turiindaisan', 'астахов', 'aka', 'екен', 'danil']\n",
      "разобрался : ['парк', 'квартал', 'пень', 'динамо', 'win']\n",
      "продлился : ['разбудиди', 'переворачивал', 'govoritdonetsk', 'конёк', 'kukolkalenaa']\n",
      "davydoff : ['молоко', 'хахахах', 'ddddddd', 'чипсы', 'кул']\n",
      "өрелі : ['slendy', 'жадноклассниках', 'қолибтилар', 'молоко', 'редакцию']\n",
      "чёрта : ['лешего', 'урматы', 'спрашивается', 'штуку', 'usps']\n",
      "бестселлера : ['прочитаешь', 'хобот', 'зарегана', 'прочлаааа', 'ордерочек']\n",
      "споют : ['enemyzzz', 'nedeesposobnii', 'вратаря', 'джоггеров', 'возбуждать']\n",
      "выбрось : ['изложить', 'переписать', 'покороче', 'сплёвывать', 'прекращать']\n",
      "pornosporno : ['ненужных', 'присутствии', 'настоящих', 'natashaaaaaaaas', 'сабой']\n",
      "табриз : ['hellinka', 'бегающих', 'отнимающие', 'одтой', 'itabriz']\n",
      "rentvchannel : ['провинции', 'состоялся', 'настраиваемся', 'крайний', 'движке']\n",
      "выводов : ['онотоле', 'mishakrupin', 'телефоном', 'muse', 'отчего']\n",
      "аппенджин : ['ганцаараа', 'john', 'жительница', 'ёлочная', 'karochi']\n",
      "сөздерің : ['үндеспейтін', 'менімен', 'кездесе', 'максу', 'deppywka']\n",
      "вырваться : ['нарядить', 'наряжать', 'подобную', 'вписаться', 'пострадать']\n",
      "законченный : ['пробирайся', 'alishatrue', 'правдива', 'artemgavrilenko', 'stitchasy']\n",
      "бериб : ['дагаад', 'әпке', 'сотрудников', 'системы', 'boom']\n",
      "австралии : ['чтоль', 'вторым', 'всерьез', 'пшла', 'максимальную']\n",
      "прикольноо : ['littlebuni', 'varfolomeeva', 'кзпв', 'письмодлятвиттерского', 'cantseethestars']\n",
      "gololobovan : ['учитывая', 'глотал', 'утверждает', 'надейся', 'споил']\n",
      "примета : ['azaz', 'berkooot', 'пари', 'alexa', 'polina']\n",
      "proxolod : ['красива', 'бхахахаха', 'заскучала', 'важна', 'сказывается']\n",
      "ukraini : ['поздравлениям', 'fredzhi', 'yuliakukish', 'днюшкой', 'meh']\n"
     ]
    }
   ],
   "source": [
    "ii = np.random.permutation(len(w2v_vocab))[:30]\n",
    "for i in ii:\n",
    "    w = w2v_vocab[i]\n",
    "    ww = [ v[0] for v in w2v.most_similar(w, topn=5) ]\n",
    "    print( w,':',ww )"
   ]
  },
  {
   "cell_type": "code",
   "execution_count": 29,
   "metadata": {},
   "outputs": [
    {
     "name": "stderr",
     "output_type": "stream",
     "text": [
      "100%|██████████| 226831/226831 [00:02<00:00, 96436.80it/s] \n"
     ]
    }
   ],
   "source": [
    "data['code'] = data['ttext_clean'].progress_apply(lambda t: [ w2v.wv.get_vector(w) for w in t ] )"
   ]
  },
  {
   "cell_type": "code",
   "execution_count": 30,
   "metadata": {},
   "outputs": [],
   "source": [
    "%xdel w2v\n",
    "%xdel w2v_vocab"
   ]
  },
  {
   "cell_type": "code",
   "execution_count": 31,
   "metadata": {},
   "outputs": [
    {
     "data": {
      "text/plain": [
       "32"
      ]
     },
     "execution_count": 31,
     "metadata": {},
     "output_type": "execute_result"
    }
   ],
   "source": [
    "code_max_len = data['code'].str.len().max()\n",
    "code_max_len"
   ]
  },
  {
   "cell_type": "code",
   "execution_count": 32,
   "metadata": {},
   "outputs": [
    {
     "data": {
      "text/plain": [
       "count    226831\n",
       "mean         10\n",
       "std           3\n",
       "min           1\n",
       "25%           7\n",
       "50%           9\n",
       "75%          13\n",
       "max          32\n",
       "Name: code, dtype: int64"
      ]
     },
     "execution_count": 32,
     "metadata": {},
     "output_type": "execute_result"
    }
   ],
   "source": [
    "data['code'].str.len().describe().astype(int)"
   ]
  },
  {
   "cell_type": "code",
   "execution_count": 33,
   "metadata": {},
   "outputs": [
    {
     "name": "stderr",
     "output_type": "stream",
     "text": [
      "100%|██████████| 226831/226831 [00:00<00:00, 348113.17it/s]\n"
     ]
    }
   ],
   "source": [
    "z = [[0.]*w2v_size]*code_max_len\n",
    "data['code'] = data['code'].progress_apply(lambda c: c+z[:(code_max_len-len(c))]  )"
   ]
  },
  {
   "cell_type": "code",
   "execution_count": 34,
   "metadata": {},
   "outputs": [
    {
     "data": {
      "text/plain": [
       "count    226831\n",
       "mean         32\n",
       "std           0\n",
       "min          32\n",
       "25%          32\n",
       "50%          32\n",
       "75%          32\n",
       "max          32\n",
       "Name: code, dtype: int64"
      ]
     },
     "execution_count": 34,
     "metadata": {},
     "output_type": "execute_result"
    }
   ],
   "source": [
    "data['code'].str.len().describe().astype(int)"
   ]
  },
  {
   "cell_type": "code",
   "execution_count": 35,
   "metadata": {},
   "outputs": [
    {
     "name": "stderr",
     "output_type": "stream",
     "text": [
      "100%|██████████| 226831/226831 [00:18<00:00, 12311.53it/s]\n"
     ]
    }
   ],
   "source": [
    "data['code'] = data['code'].progress_apply(np.array)"
   ]
  },
  {
   "cell_type": "code",
   "execution_count": 36,
   "metadata": {},
   "outputs": [
    {
     "data": {
      "text/plain": [
       "(226831, 32, 128)"
      ]
     },
     "execution_count": 36,
     "metadata": {},
     "output_type": "execute_result"
    }
   ],
   "source": [
    "x = np.stack( data['code'].values )\n",
    "x.shape"
   ]
  },
  {
   "cell_type": "code",
   "execution_count": 37,
   "metadata": {},
   "outputs": [],
   "source": [
    "x = np.flip(x,axis=1)"
   ]
  },
  {
   "cell_type": "code",
   "execution_count": 38,
   "metadata": {},
   "outputs": [
    {
     "data": {
      "text/plain": [
       "(226831, 2)"
      ]
     },
     "execution_count": 38,
     "metadata": {},
     "output_type": "execute_result"
    }
   ],
   "source": [
    "n_classes=2\n",
    "target = data['ttype'].values\n",
    "target = (target+1)//2\n",
    "y = np.eye(n_classes)[target]\n",
    "\n",
    "y.shape"
   ]
  },
  {
   "cell_type": "code",
   "execution_count": 39,
   "metadata": {},
   "outputs": [],
   "source": [
    "%xdel data"
   ]
  },
  {
   "cell_type": "code",
   "execution_count": 40,
   "metadata": {},
   "outputs": [
    {
     "data": {
      "text/plain": [
       "176"
      ]
     },
     "execution_count": 40,
     "metadata": {},
     "output_type": "execute_result"
    }
   ],
   "source": [
    "gc.collect()"
   ]
  },
  {
   "cell_type": "code",
   "execution_count": 42,
   "metadata": {},
   "outputs": [
    {
     "data": {
      "text/plain": [
       "((136098, 32, 128), (136098, 2), (90733, 32, 128), (90733, 2))"
      ]
     },
     "execution_count": 42,
     "metadata": {},
     "output_type": "execute_result"
    }
   ],
   "source": [
    "from sklearn.model_selection import train_test_split\n",
    "\n",
    "x_train, x_test, y_train, y_test = train_test_split( x, y, test_size=.4 )\n",
    "x_train.shape, y_train.shape, x_test.shape, y_test.shape"
   ]
  },
  {
   "cell_type": "code",
   "execution_count": 43,
   "metadata": {},
   "outputs": [
    {
     "data": {
      "text/plain": [
       "(array([67251., 68847.]), array([44671., 46062.]))"
      ]
     },
     "execution_count": 43,
     "metadata": {},
     "output_type": "execute_result"
    }
   ],
   "source": [
    "y_train.sum(axis=0),y_test.sum(axis=0),"
   ]
  },
  {
   "cell_type": "code",
   "execution_count": 44,
   "metadata": {},
   "outputs": [],
   "source": [
    "%xdel x\n",
    "%xdel y"
   ]
  },
  {
   "cell_type": "code",
   "execution_count": 45,
   "metadata": {},
   "outputs": [
    {
     "data": {
      "text/plain": [
       "45"
      ]
     },
     "execution_count": 45,
     "metadata": {},
     "output_type": "execute_result"
    }
   ],
   "source": [
    "gc.collect()"
   ]
  },
  {
   "cell_type": "markdown",
   "metadata": {},
   "source": [
    "## строим нейросеть "
   ]
  },
  {
   "cell_type": "code",
   "execution_count": 55,
   "metadata": {},
   "outputs": [
    {
     "data": {
      "text/plain": [
       "((136098, 32, 128), (136098, 2), 32, 128)"
      ]
     },
     "execution_count": 55,
     "metadata": {},
     "output_type": "execute_result"
    }
   ],
   "source": [
    "seq_len = x_train.shape[1]\n",
    "x_train.shape , y_train.shape, seq_len, w2v_size"
   ]
  },
  {
   "cell_type": "code",
   "execution_count": 56,
   "metadata": {},
   "outputs": [],
   "source": [
    "from tensorflow.keras.models import Sequential\n",
    "from tensorflow.keras.layers import LSTM\n",
    "from tensorflow.keras.layers import Dense"
   ]
  },
  {
   "cell_type": "code",
   "execution_count": 57,
   "metadata": {},
   "outputs": [],
   "source": [
    "model = Sequential()\n",
    "model.add(LSTM(64, input_shape=(seq_len, w2v_size)))  \n",
    "model.add(Dense(n_classes, activation='softmax'))"
   ]
  },
  {
   "cell_type": "code",
   "execution_count": 58,
   "metadata": {},
   "outputs": [],
   "source": [
    "model.compile(loss='categorical_crossentropy',\n",
    "              optimizer='adam',\n",
    "              metrics=['accuracy'])"
   ]
  },
  {
   "cell_type": "code",
   "execution_count": 59,
   "metadata": {},
   "outputs": [
    {
     "data": {
      "image/png": "[encoded data removed]",
      "text/plain": [
       "<IPython.core.display.Image object>"
      ]
     },
     "execution_count": 59,
     "metadata": {},
     "output_type": "execute_result"
    }
   ],
   "source": [
    "from tensorflow.keras.utils import plot_model\n",
    "plot_model(model, show_layer_names=True, show_shapes=True )"
   ]
  },
  {
   "cell_type": "code",
   "execution_count": 60,
   "metadata": {},
   "outputs": [
    {
     "name": "stdout",
     "output_type": "stream",
     "text": [
      "Epoch 1/15\n",
      "94/94 [==============================] - 2s 19ms/step - loss: 0.3987 - accuracy: 0.7930 - val_loss: 0.3349 - val_accuracy: 0.8329\n",
      "Epoch 2/15\n",
      "94/94 [==============================] - 1s 14ms/step - loss: 0.2593 - accuracy: 0.8614 - val_loss: 0.2406 - val_accuracy: 0.8688\n",
      "Epoch 3/15\n",
      "94/94 [==============================] - 1s 14ms/step - loss: 0.2377 - accuracy: 0.8705 - val_loss: 0.2315 - val_accuracy: 0.8721\n",
      "Epoch 4/15\n",
      "94/94 [==============================] - 1s 14ms/step - loss: 0.2292 - accuracy: 0.8737 - val_loss: 0.2272 - val_accuracy: 0.8737\n",
      "Epoch 5/15\n",
      "94/94 [==============================] - 1s 14ms/step - loss: 0.2245 - accuracy: 0.8774 - val_loss: 0.2394 - val_accuracy: 0.8655\n",
      "Epoch 6/15\n",
      "94/94 [==============================] - 1s 14ms/step - loss: 0.2239 - accuracy: 0.8781 - val_loss: 0.2261 - val_accuracy: 0.8740\n",
      "Epoch 7/15\n",
      "94/94 [==============================] - 1s 14ms/step - loss: 0.2200 - accuracy: 0.8806 - val_loss: 0.2251 - val_accuracy: 0.8756\n",
      "Epoch 8/15\n",
      "94/94 [==============================] - 1s 14ms/step - loss: 0.2181 - accuracy: 0.8823 - val_loss: 0.2227 - val_accuracy: 0.8781\n",
      "Epoch 9/15\n",
      "94/94 [==============================] - 1s 14ms/step - loss: 0.2168 - accuracy: 0.8830 - val_loss: 0.2216 - val_accuracy: 0.8774\n",
      "Epoch 10/15\n",
      "94/94 [==============================] - 1s 14ms/step - loss: 0.2144 - accuracy: 0.8857 - val_loss: 0.2205 - val_accuracy: 0.8786\n",
      "Epoch 11/15\n",
      "94/94 [==============================] - 1s 14ms/step - loss: 0.2125 - accuracy: 0.8869 - val_loss: 0.2256 - val_accuracy: 0.8765\n",
      "Epoch 12/15\n",
      "94/94 [==============================] - 1s 14ms/step - loss: 0.2111 - accuracy: 0.8881 - val_loss: 0.2252 - val_accuracy: 0.8762\n",
      "Epoch 13/15\n",
      "94/94 [==============================] - 1s 14ms/step - loss: 0.2108 - accuracy: 0.8882 - val_loss: 0.2197 - val_accuracy: 0.8802\n",
      "Epoch 14/15\n",
      "94/94 [==============================] - 1s 14ms/step - loss: 0.2110 - accuracy: 0.8863 - val_loss: 0.2247 - val_accuracy: 0.8787\n",
      "Epoch 15/15\n",
      "94/94 [==============================] - 1s 14ms/step - loss: 0.2063 - accuracy: 0.8912 - val_loss: 0.2202 - val_accuracy: 0.8805\n",
      "CPU times: user 27.2 s, sys: 921 ms, total: 28.1 s\n",
      "Wall time: 21.9 s\n"
     ]
    }
   ],
   "source": [
    "%%time\n",
    "\n",
    "hist = model.fit(x_train,y_train, batch_size=1024, epochs=15, validation_split=.3)"
   ]
  },
  {
   "cell_type": "code",
   "execution_count": 61,
   "metadata": {},
   "outputs": [
    {
     "name": "stdout",
     "output_type": "stream",
     "text": [
      "2836/2836 [==============================] - 4s 1ms/step - loss: 0.2220 - accuracy: 0.8797\n"
     ]
    },
    {
     "data": {
      "text/plain": [
       "[0.22199736535549164, 0.8797019720077515]"
      ]
     },
     "execution_count": 61,
     "metadata": {},
     "output_type": "execute_result"
    }
   ],
   "source": [
    "model.evaluate(x_test ,y_test )"
   ]
  },
  {
   "cell_type": "code",
   "execution_count": 62,
   "metadata": {},
   "outputs": [
    {
     "data": {
      "image/png": "[encoded data removed]",
      "text/plain": [
       "<Figure size 1728x288 with 4 Axes>"
      ]
     },
     "metadata": {
      "needs_background": "light"
     },
     "output_type": "display_data"
    }
   ],
   "source": [
    "from matplotlib import pyplot as plt\n",
    "\n",
    "k = hist.history.keys()\n",
    "\n",
    "w,h = 6,4\n",
    "\n",
    "fig,ax = plt.subplots(1,len(k),figsize=(w*len(k),h))\n",
    "for i,n in enumerate(k):\n",
    "    ax[i].plot(hist.history[n],label=n)\n",
    "    ax[i].grid(True)\n",
    "    ax[i].legend()\n",
    "    ax[i].set_ylim([-.1,1.1])"
   ]
  }
 ],
 "metadata": {
  "kernelspec": {
   "display_name": "Python 3",
   "language": "python",
   "name": "python3"
  },
  "language_info": {
   "codemirror_mode": {
    "name": "ipython",
    "version": 3
   },
   "file_extension": ".py",
   "mimetype": "text/x-python",
   "name": "python",
   "nbconvert_exporter": "python",
   "pygments_lexer": "ipython3",
   "version": "3.9.0"
  },
  "toc": {
   "base_numbering": 1,
   "nav_menu": {},
   "number_sections": true,
   "sideBar": true,
   "skip_h1_title": false,
   "title_cell": "Table of Contents",
   "title_sidebar": "Contents",
   "toc_cell": false,
   "toc_position": {},
   "toc_section_display": "block",
   "toc_window_display": true
  }
 },
 "nbformat": 4,
 "nbformat_minor": 4
}
