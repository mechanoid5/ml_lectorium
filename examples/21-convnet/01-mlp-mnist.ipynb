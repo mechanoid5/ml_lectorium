{
 "cells": [
  {
   "cell_type": "markdown",
   "metadata": {},
   "source": [
    "**классификатор изображений MPL**\n",
    "\n",
    "Евгений Борисов borisov.e@solarl.ru"
   ]
  },
  {
   "cell_type": "code",
   "execution_count": 1,
   "metadata": {},
   "outputs": [],
   "source": [
    "import numpy as np\n",
    "\n",
    "\n",
    "from tensorflow.keras.models import Sequential\n",
    "from tensorflow.keras.layers import Dense\n",
    "from tensorflow.keras.layers import Activation\n",
    "from tensorflow.keras.layers import Dropout\n",
    "\n",
    "from tensorflow.keras.datasets import mnist\n",
    "from tensorflow.keras import utils "
   ]
  },
  {
   "cell_type": "code",
   "execution_count": 2,
   "metadata": {},
   "outputs": [],
   "source": [
    "np.random.seed(1671)"
   ]
  },
  {
   "cell_type": "code",
   "execution_count": 3,
   "metadata": {},
   "outputs": [
    {
     "data": {
      "text/plain": [
       "((60000, 28, 28), (60000,), (10000, 28, 28), (10000,))"
      ]
     },
     "execution_count": 3,
     "metadata": {},
     "output_type": "execute_result"
    }
   ],
   "source": [
    "# data: shuffled and split between train and test sets\n",
    "#\n",
    "(X_train, y_train), (X_test, y_test) = mnist.load_data()\n",
    "X_train.shape, y_train.shape, X_test.shape, y_test.shape"
   ]
  },
  {
   "cell_type": "code",
   "execution_count": 4,
   "metadata": {},
   "outputs": [],
   "source": [
    "NB_CLASSES = len(set(y_train))\n",
    "# NB_CLASSES"
   ]
  },
  {
   "cell_type": "code",
   "execution_count": 5,
   "metadata": {},
   "outputs": [],
   "source": [
    "# normalize \n",
    "X_train = X_train/255.0\n",
    "X_test = X_test/255.0\n",
    "\n",
    "RESHAPED = 784\n",
    "\n",
    "# X_train is 60000 rows of 28x28 values --> reshaped in 60000 x 784\n",
    "X_train = X_train.reshape(60000, RESHAPED).astype('float32')\n",
    "X_test = X_test.reshape(10000, RESHAPED).astype('float32')"
   ]
  },
  {
   "cell_type": "code",
   "execution_count": 6,
   "metadata": {},
   "outputs": [
    {
     "data": {
      "text/plain": [
       "((60000, 784), (10000, 784))"
      ]
     },
     "execution_count": 6,
     "metadata": {},
     "output_type": "execute_result"
    }
   ],
   "source": [
    "X_train.shape, X_test.shape"
   ]
  },
  {
   "cell_type": "code",
   "execution_count": 7,
   "metadata": {},
   "outputs": [],
   "source": [
    "# convert class vectors to binary class matrices\n",
    "Y_train = utils.to_categorical(y_train, NB_CLASSES)\n",
    "Y_test = utils.to_categorical(y_test, NB_CLASSES)"
   ]
  },
  {
   "cell_type": "code",
   "execution_count": 8,
   "metadata": {},
   "outputs": [],
   "source": [
    "# Y_train\n",
    "# y_train"
   ]
  },
  {
   "cell_type": "markdown",
   "metadata": {},
   "source": [
    "---"
   ]
  },
  {
   "cell_type": "code",
   "execution_count": 9,
   "metadata": {},
   "outputs": [],
   "source": [
    "N_HIDDEN = 128\n",
    "DROPOUT = 0.7"
   ]
  },
  {
   "cell_type": "code",
   "execution_count": 10,
   "metadata": {},
   "outputs": [],
   "source": [
    "# model = Sequential()\n",
    "# model.add(Dense(NB_CLASSES, input_shape=(RESHAPED,)))\n",
    "# model.add(Activation('softmax'))"
   ]
  },
  {
   "cell_type": "code",
   "execution_count": 11,
   "metadata": {},
   "outputs": [
    {
     "name": "stdout",
     "output_type": "stream",
     "text": [
      "WARNING:tensorflow:From /usr/lib/python3.7/site-packages/tensorflow/python/ops/resource_variable_ops.py:435: colocate_with (from tensorflow.python.framework.ops) is deprecated and will be removed in a future version.\n",
      "Instructions for updating:\n",
      "Colocations handled automatically by placer.\n",
      "WARNING:tensorflow:From /usr/lib/python3.7/site-packages/tensorflow/python/keras/layers/core.py:143: calling dropout (from tensorflow.python.ops.nn_ops) with keep_prob is deprecated and will be removed in a future version.\n",
      "Instructions for updating:\n",
      "Please use `rate` instead of `keep_prob`. Rate should be set to `rate = 1 - keep_prob`.\n"
     ]
    }
   ],
   "source": [
    "model = Sequential()\n",
    "model.add(Dense(N_HIDDEN, input_shape=(RESHAPED,)))\n",
    "model.add(Activation('relu'))\n",
    "model.add(Dropout(rate=DROPOUT))\n",
    "model.add(Dense(N_HIDDEN))\n",
    "model.add(Activation('relu'))\n",
    "model.add(Dropout(rate=DROPOUT))\n",
    "model.add(Dense(NB_CLASSES))\n",
    "model.add(Activation('softmax'))"
   ]
  },
  {
   "cell_type": "code",
   "execution_count": 12,
   "metadata": {},
   "outputs": [
    {
     "name": "stdout",
     "output_type": "stream",
     "text": [
      "_________________________________________________________________\n",
      "Layer (type)                 Output Shape              Param #   \n",
      "=================================================================\n",
      "dense (Dense)                (None, 128)               100480    \n",
      "_________________________________________________________________\n",
      "activation (Activation)      (None, 128)               0         \n",
      "_________________________________________________________________\n",
      "dropout (Dropout)            (None, 128)               0         \n",
      "_________________________________________________________________\n",
      "dense_1 (Dense)              (None, 128)               16512     \n",
      "_________________________________________________________________\n",
      "activation_1 (Activation)    (None, 128)               0         \n",
      "_________________________________________________________________\n",
      "dropout_1 (Dropout)          (None, 128)               0         \n",
      "_________________________________________________________________\n",
      "dense_2 (Dense)              (None, 10)                1290      \n",
      "_________________________________________________________________\n",
      "activation_2 (Activation)    (None, 10)                0         \n",
      "=================================================================\n",
      "Total params: 118,282\n",
      "Trainable params: 118,282\n",
      "Non-trainable params: 0\n",
      "_________________________________________________________________\n"
     ]
    }
   ],
   "source": [
    "model.summary()"
   ]
  },
  {
   "cell_type": "markdown",
   "metadata": {},
   "source": [
    "---"
   ]
  },
  {
   "cell_type": "code",
   "execution_count": 13,
   "metadata": {},
   "outputs": [],
   "source": [
    "model.compile(loss='categorical_crossentropy',\n",
    "              optimizer='sgd',\n",
    "              metrics=['accuracy'])"
   ]
  },
  {
   "cell_type": "code",
   "execution_count": null,
   "metadata": {},
   "outputs": [],
   "source": [
    "# network and training\n",
    "NB_EPOCH = 100\n",
    "BATCH_SIZE = 128\n",
    "VERBOSE = 1\n",
    "VALIDATION_SPLIT=0.2 # how much TRAIN is reserved for VALIDATION"
   ]
  },
  {
   "cell_type": "code",
   "execution_count": 14,
   "metadata": {},
   "outputs": [
    {
     "name": "stdout",
     "output_type": "stream",
     "text": [
      "Train on 48000 samples, validate on 12000 samples\n",
      "WARNING:tensorflow:From /usr/lib/python3.7/site-packages/tensorflow/python/ops/math_ops.py:3066: to_int32 (from tensorflow.python.ops.math_ops) is deprecated and will be removed in a future version.\n",
      "Instructions for updating:\n",
      "Use tf.cast instead.\n",
      "Epoch 1/200\n",
      "48000/48000 [==============================] - 4s 82us/sample - loss: 1.7559 - acc: 0.4482 - val_loss: 0.9709 - val_acc: 0.8145\n",
      "Epoch 2/200\n",
      "48000/48000 [==============================] - 1s 22us/sample - loss: 0.9611 - acc: 0.7096 - val_loss: 0.5478 - val_acc: 0.8725\n",
      "Epoch 3/200\n",
      "48000/48000 [==============================] - 1s 22us/sample - loss: 0.7108 - acc: 0.7844 - val_loss: 0.4256 - val_acc: 0.8910\n",
      "Epoch 4/200\n",
      "48000/48000 [==============================] - 1s 22us/sample - loss: 0.5975 - acc: 0.8219 - val_loss: 0.3698 - val_acc: 0.9007\n",
      "Epoch 5/200\n",
      "48000/48000 [==============================] - 1s 22us/sample - loss: 0.5328 - acc: 0.8412 - val_loss: 0.3361 - val_acc: 0.9072\n",
      "Epoch 6/200\n",
      "48000/48000 [==============================] - 1s 22us/sample - loss: 0.4899 - acc: 0.8554 - val_loss: 0.3157 - val_acc: 0.9103\n",
      "Epoch 7/200\n",
      "48000/48000 [==============================] - 1s 22us/sample - loss: 0.4563 - acc: 0.8660 - val_loss: 0.2961 - val_acc: 0.9156\n",
      "Epoch 8/200\n",
      "48000/48000 [==============================] - 1s 22us/sample - loss: 0.4297 - acc: 0.8742 - val_loss: 0.2807 - val_acc: 0.9186\n",
      "Epoch 9/200\n",
      "48000/48000 [==============================] - 1s 22us/sample - loss: 0.4089 - acc: 0.8798 - val_loss: 0.2675 - val_acc: 0.9223\n",
      "Epoch 10/200\n",
      "48000/48000 [==============================] - 1s 22us/sample - loss: 0.3891 - acc: 0.8865 - val_loss: 0.2571 - val_acc: 0.9255\n",
      "Epoch 11/200\n",
      "48000/48000 [==============================] - 1s 26us/sample - loss: 0.3778 - acc: 0.8886 - val_loss: 0.2471 - val_acc: 0.9274\n",
      "Epoch 12/200\n",
      "48000/48000 [==============================] - 1s 24us/sample - loss: 0.3599 - acc: 0.8966 - val_loss: 0.2387 - val_acc: 0.9296\n",
      "Epoch 13/200\n",
      "48000/48000 [==============================] - 1s 22us/sample - loss: 0.3484 - acc: 0.8982 - val_loss: 0.2323 - val_acc: 0.9325\n",
      "Epoch 14/200\n",
      "48000/48000 [==============================] - 1s 21us/sample - loss: 0.3377 - acc: 0.9021 - val_loss: 0.2253 - val_acc: 0.9331\n",
      "Epoch 15/200\n",
      "48000/48000 [==============================] - 1s 21us/sample - loss: 0.3269 - acc: 0.9037 - val_loss: 0.2186 - val_acc: 0.9352\n",
      "Epoch 16/200\n",
      "48000/48000 [==============================] - 1s 22us/sample - loss: 0.3154 - acc: 0.9074 - val_loss: 0.2130 - val_acc: 0.9380\n",
      "Epoch 17/200\n",
      "48000/48000 [==============================] - 1s 22us/sample - loss: 0.3068 - acc: 0.9078 - val_loss: 0.2070 - val_acc: 0.9398\n",
      "Epoch 18/200\n",
      "48000/48000 [==============================] - 1s 21us/sample - loss: 0.2989 - acc: 0.9113 - val_loss: 0.2021 - val_acc: 0.9417\n",
      "Epoch 19/200\n",
      "48000/48000 [==============================] - 1s 22us/sample - loss: 0.2914 - acc: 0.9155 - val_loss: 0.1970 - val_acc: 0.9430\n",
      "Epoch 20/200\n",
      "48000/48000 [==============================] - 1s 22us/sample - loss: 0.2857 - acc: 0.9164 - val_loss: 0.1935 - val_acc: 0.9448\n",
      "Epoch 21/200\n",
      "48000/48000 [==============================] - 1s 22us/sample - loss: 0.2788 - acc: 0.9184 - val_loss: 0.1894 - val_acc: 0.9455\n",
      "Epoch 22/200\n",
      "48000/48000 [==============================] - 1s 22us/sample - loss: 0.2708 - acc: 0.9210 - val_loss: 0.1846 - val_acc: 0.9472\n",
      "Epoch 23/200\n",
      "48000/48000 [==============================] - 1s 22us/sample - loss: 0.2677 - acc: 0.9230 - val_loss: 0.1810 - val_acc: 0.9481\n",
      "Epoch 24/200\n",
      "48000/48000 [==============================] - 1s 23us/sample - loss: 0.2618 - acc: 0.9245 - val_loss: 0.1777 - val_acc: 0.9489\n",
      "Epoch 25/200\n",
      "48000/48000 [==============================] - 1s 24us/sample - loss: 0.2598 - acc: 0.9246 - val_loss: 0.1750 - val_acc: 0.9498\n",
      "Epoch 26/200\n",
      "48000/48000 [==============================] - 1s 23us/sample - loss: 0.2495 - acc: 0.9274 - val_loss: 0.1715 - val_acc: 0.9511\n",
      "Epoch 27/200\n",
      "48000/48000 [==============================] - 1s 25us/sample - loss: 0.2492 - acc: 0.9259 - val_loss: 0.1682 - val_acc: 0.9533\n",
      "Epoch 28/200\n",
      "48000/48000 [==============================] - 1s 22us/sample - loss: 0.2445 - acc: 0.9294 - val_loss: 0.1652 - val_acc: 0.9534\n",
      "Epoch 29/200\n",
      "48000/48000 [==============================] - 1s 22us/sample - loss: 0.2414 - acc: 0.9286 - val_loss: 0.1640 - val_acc: 0.9542\n",
      "Epoch 30/200\n",
      "48000/48000 [==============================] - 1s 22us/sample - loss: 0.2345 - acc: 0.9320 - val_loss: 0.1613 - val_acc: 0.9545\n",
      "Epoch 31/200\n",
      "48000/48000 [==============================] - 1s 23us/sample - loss: 0.2313 - acc: 0.9329 - val_loss: 0.1590 - val_acc: 0.9553\n",
      "Epoch 32/200\n",
      "48000/48000 [==============================] - 1s 22us/sample - loss: 0.2292 - acc: 0.9329 - val_loss: 0.1567 - val_acc: 0.9560\n",
      "Epoch 33/200\n",
      "48000/48000 [==============================] - 1s 24us/sample - loss: 0.2258 - acc: 0.9345 - val_loss: 0.1546 - val_acc: 0.9558\n",
      "Epoch 34/200\n",
      "48000/48000 [==============================] - 1s 25us/sample - loss: 0.2225 - acc: 0.9355 - val_loss: 0.1517 - val_acc: 0.9577\n",
      "Epoch 35/200\n",
      "48000/48000 [==============================] - 1s 22us/sample - loss: 0.2189 - acc: 0.9370 - val_loss: 0.1497 - val_acc: 0.9575\n",
      "Epoch 36/200\n",
      "48000/48000 [==============================] - 1s 22us/sample - loss: 0.2137 - acc: 0.9370 - val_loss: 0.1488 - val_acc: 0.9575\n",
      "Epoch 37/200\n",
      "48000/48000 [==============================] - 1s 25us/sample - loss: 0.2109 - acc: 0.9383 - val_loss: 0.1472 - val_acc: 0.9584\n",
      "Epoch 38/200\n",
      "48000/48000 [==============================] - 1s 23us/sample - loss: 0.2080 - acc: 0.9396 - val_loss: 0.1445 - val_acc: 0.9596\n",
      "Epoch 39/200\n",
      "48000/48000 [==============================] - 1s 23us/sample - loss: 0.2074 - acc: 0.9394 - val_loss: 0.1430 - val_acc: 0.9593\n",
      "Epoch 40/200\n",
      "48000/48000 [==============================] - 1s 23us/sample - loss: 0.2033 - acc: 0.9402 - val_loss: 0.1407 - val_acc: 0.9596\n",
      "Epoch 41/200\n",
      "48000/48000 [==============================] - 1s 22us/sample - loss: 0.2027 - acc: 0.9406 - val_loss: 0.1392 - val_acc: 0.9609\n",
      "Epoch 42/200\n",
      "48000/48000 [==============================] - 1s 24us/sample - loss: 0.2005 - acc: 0.9418 - val_loss: 0.1387 - val_acc: 0.9605\n",
      "Epoch 43/200\n",
      "48000/48000 [==============================] - 1s 24us/sample - loss: 0.1968 - acc: 0.9423 - val_loss: 0.1371 - val_acc: 0.9607\n",
      "Epoch 44/200\n",
      "48000/48000 [==============================] - 1s 24us/sample - loss: 0.1928 - acc: 0.9429 - val_loss: 0.1361 - val_acc: 0.9612\n",
      "Epoch 45/200\n",
      "48000/48000 [==============================] - 1s 26us/sample - loss: 0.1921 - acc: 0.9436 - val_loss: 0.1344 - val_acc: 0.9613\n",
      "Epoch 46/200\n",
      "48000/48000 [==============================] - 1s 20us/sample - loss: 0.1900 - acc: 0.9450 - val_loss: 0.1333 - val_acc: 0.9622\n",
      "Epoch 47/200\n",
      "48000/48000 [==============================] - 1s 20us/sample - loss: 0.1863 - acc: 0.9440 - val_loss: 0.1314 - val_acc: 0.9620\n",
      "Epoch 48/200\n",
      "48000/48000 [==============================] - 1s 20us/sample - loss: 0.1836 - acc: 0.9451 - val_loss: 0.1306 - val_acc: 0.9631\n",
      "Epoch 49/200\n",
      "48000/48000 [==============================] - 1s 20us/sample - loss: 0.1842 - acc: 0.9449 - val_loss: 0.1291 - val_acc: 0.9632\n",
      "Epoch 50/200\n",
      "48000/48000 [==============================] - 1s 20us/sample - loss: 0.1798 - acc: 0.9475 - val_loss: 0.1283 - val_acc: 0.9631\n",
      "Epoch 51/200\n",
      "48000/48000 [==============================] - 1s 20us/sample - loss: 0.1772 - acc: 0.9477 - val_loss: 0.1278 - val_acc: 0.9636\n",
      "Epoch 52/200\n",
      "48000/48000 [==============================] - 1s 20us/sample - loss: 0.1773 - acc: 0.9475 - val_loss: 0.1262 - val_acc: 0.9635\n",
      "Epoch 53/200\n",
      "48000/48000 [==============================] - 1s 20us/sample - loss: 0.1746 - acc: 0.9489 - val_loss: 0.1253 - val_acc: 0.9640\n",
      "Epoch 54/200\n",
      "48000/48000 [==============================] - 1s 20us/sample - loss: 0.1739 - acc: 0.9498 - val_loss: 0.1241 - val_acc: 0.9638\n",
      "Epoch 55/200\n",
      "48000/48000 [==============================] - 1s 20us/sample - loss: 0.1720 - acc: 0.9495 - val_loss: 0.1230 - val_acc: 0.9643\n",
      "Epoch 56/200\n",
      "48000/48000 [==============================] - 1s 19us/sample - loss: 0.1688 - acc: 0.9512 - val_loss: 0.1234 - val_acc: 0.9645\n",
      "Epoch 57/200\n"
     ]
    },
    {
     "name": "stdout",
     "output_type": "stream",
     "text": [
      "48000/48000 [==============================] - 1s 20us/sample - loss: 0.1671 - acc: 0.9502 - val_loss: 0.1210 - val_acc: 0.9645\n",
      "Epoch 58/200\n",
      "48000/48000 [==============================] - 1s 20us/sample - loss: 0.1691 - acc: 0.9510 - val_loss: 0.1204 - val_acc: 0.9654\n",
      "Epoch 59/200\n",
      "48000/48000 [==============================] - 1s 20us/sample - loss: 0.1658 - acc: 0.9504 - val_loss: 0.1193 - val_acc: 0.9653\n",
      "Epoch 60/200\n",
      "48000/48000 [==============================] - 1s 19us/sample - loss: 0.1651 - acc: 0.9504 - val_loss: 0.1190 - val_acc: 0.9656\n",
      "Epoch 61/200\n",
      "48000/48000 [==============================] - 1s 19us/sample - loss: 0.1624 - acc: 0.9516 - val_loss: 0.1180 - val_acc: 0.9656\n",
      "Epoch 62/200\n",
      "48000/48000 [==============================] - 1s 20us/sample - loss: 0.1612 - acc: 0.9522 - val_loss: 0.1172 - val_acc: 0.9662\n",
      "Epoch 63/200\n",
      "48000/48000 [==============================] - 1s 19us/sample - loss: 0.1603 - acc: 0.9530 - val_loss: 0.1163 - val_acc: 0.9662\n",
      "Epoch 64/200\n",
      "48000/48000 [==============================] - 1s 20us/sample - loss: 0.1576 - acc: 0.9532 - val_loss: 0.1157 - val_acc: 0.9665\n",
      "Epoch 65/200\n",
      "48000/48000 [==============================] - 1s 20us/sample - loss: 0.1560 - acc: 0.9533 - val_loss: 0.1159 - val_acc: 0.9663\n",
      "Epoch 66/200\n",
      "48000/48000 [==============================] - 1s 19us/sample - loss: 0.1536 - acc: 0.9540 - val_loss: 0.1148 - val_acc: 0.9667\n",
      "Epoch 67/200\n",
      "48000/48000 [==============================] - 1s 19us/sample - loss: 0.1538 - acc: 0.9546 - val_loss: 0.1138 - val_acc: 0.9671\n",
      "Epoch 68/200\n",
      "48000/48000 [==============================] - 1s 20us/sample - loss: 0.1532 - acc: 0.9542 - val_loss: 0.1137 - val_acc: 0.9672\n",
      "Epoch 69/200\n",
      "48000/48000 [==============================] - 1s 19us/sample - loss: 0.1519 - acc: 0.9548 - val_loss: 0.1136 - val_acc: 0.9672\n",
      "Epoch 70/200\n",
      "48000/48000 [==============================] - 1s 20us/sample - loss: 0.1523 - acc: 0.9542 - val_loss: 0.1124 - val_acc: 0.9682\n",
      "Epoch 71/200\n",
      "48000/48000 [==============================] - 1s 20us/sample - loss: 0.1498 - acc: 0.9553 - val_loss: 0.1115 - val_acc: 0.9680\n",
      "Epoch 72/200\n",
      "48000/48000 [==============================] - 1s 20us/sample - loss: 0.1475 - acc: 0.9559 - val_loss: 0.1119 - val_acc: 0.9675\n",
      "Epoch 73/200\n",
      "48000/48000 [==============================] - 1s 19us/sample - loss: 0.1480 - acc: 0.9559 - val_loss: 0.1107 - val_acc: 0.9677\n",
      "Epoch 74/200\n",
      "48000/48000 [==============================] - 1s 20us/sample - loss: 0.1439 - acc: 0.9576 - val_loss: 0.1099 - val_acc: 0.9682\n",
      "Epoch 75/200\n",
      "48000/48000 [==============================] - 1s 20us/sample - loss: 0.1454 - acc: 0.9560 - val_loss: 0.1094 - val_acc: 0.9687\n",
      "Epoch 76/200\n",
      "48000/48000 [==============================] - 1s 21us/sample - loss: 0.1431 - acc: 0.9580 - val_loss: 0.1088 - val_acc: 0.9688\n",
      "Epoch 77/200\n",
      "48000/48000 [==============================] - 1s 19us/sample - loss: 0.1397 - acc: 0.9590 - val_loss: 0.1084 - val_acc: 0.9689\n",
      "Epoch 78/200\n",
      "48000/48000 [==============================] - 1s 20us/sample - loss: 0.1400 - acc: 0.9588 - val_loss: 0.1078 - val_acc: 0.9691\n",
      "Epoch 79/200\n",
      "48000/48000 [==============================] - 1s 20us/sample - loss: 0.1385 - acc: 0.9587 - val_loss: 0.1072 - val_acc: 0.9689\n",
      "Epoch 80/200\n",
      "48000/48000 [==============================] - 1s 19us/sample - loss: 0.1398 - acc: 0.9593 - val_loss: 0.1059 - val_acc: 0.9692\n",
      "Epoch 81/200\n",
      "48000/48000 [==============================] - 1s 20us/sample - loss: 0.1391 - acc: 0.9589 - val_loss: 0.1056 - val_acc: 0.9695\n",
      "Epoch 82/200\n",
      "48000/48000 [==============================] - 1s 19us/sample - loss: 0.1352 - acc: 0.9591 - val_loss: 0.1054 - val_acc: 0.9692\n",
      "Epoch 83/200\n",
      "48000/48000 [==============================] - 1s 20us/sample - loss: 0.1354 - acc: 0.9607 - val_loss: 0.1057 - val_acc: 0.9695\n",
      "Epoch 84/200\n",
      "48000/48000 [==============================] - 1s 20us/sample - loss: 0.1336 - acc: 0.9604 - val_loss: 0.1047 - val_acc: 0.9696\n",
      "Epoch 85/200\n",
      "48000/48000 [==============================] - 1s 20us/sample - loss: 0.1344 - acc: 0.9605 - val_loss: 0.1039 - val_acc: 0.9697\n",
      "Epoch 86/200\n",
      "48000/48000 [==============================] - 1s 20us/sample - loss: 0.1344 - acc: 0.9600 - val_loss: 0.1041 - val_acc: 0.9693\n",
      "Epoch 87/200\n",
      "48000/48000 [==============================] - 1s 20us/sample - loss: 0.1329 - acc: 0.9600 - val_loss: 0.1033 - val_acc: 0.9697\n",
      "Epoch 88/200\n",
      "48000/48000 [==============================] - 1s 19us/sample - loss: 0.1277 - acc: 0.9624 - val_loss: 0.1026 - val_acc: 0.9703\n",
      "Epoch 89/200\n",
      "48000/48000 [==============================] - 1s 19us/sample - loss: 0.1284 - acc: 0.9623 - val_loss: 0.1037 - val_acc: 0.9708\n",
      "Epoch 90/200\n",
      "48000/48000 [==============================] - 1s 21us/sample - loss: 0.1304 - acc: 0.9618 - val_loss: 0.1028 - val_acc: 0.9708\n",
      "Epoch 91/200\n",
      "48000/48000 [==============================] - 1s 21us/sample - loss: 0.1267 - acc: 0.9626 - val_loss: 0.1024 - val_acc: 0.9706\n",
      "Epoch 92/200\n",
      "48000/48000 [==============================] - 1s 20us/sample - loss: 0.1294 - acc: 0.9609 - val_loss: 0.1023 - val_acc: 0.9707\n",
      "Epoch 93/200\n",
      "48000/48000 [==============================] - 1s 20us/sample - loss: 0.1262 - acc: 0.9625 - val_loss: 0.1012 - val_acc: 0.9712\n",
      "Epoch 94/200\n",
      "48000/48000 [==============================] - 1s 21us/sample - loss: 0.1250 - acc: 0.9631 - val_loss: 0.1011 - val_acc: 0.9706\n",
      "Epoch 95/200\n",
      "48000/48000 [==============================] - 1s 22us/sample - loss: 0.1253 - acc: 0.9631 - val_loss: 0.1015 - val_acc: 0.9710\n",
      "Epoch 96/200\n",
      "48000/48000 [==============================] - 1s 20us/sample - loss: 0.1256 - acc: 0.9623 - val_loss: 0.1007 - val_acc: 0.9712\n",
      "Epoch 97/200\n",
      "48000/48000 [==============================] - 1s 20us/sample - loss: 0.1229 - acc: 0.9638 - val_loss: 0.1006 - val_acc: 0.9712\n",
      "Epoch 98/200\n",
      "48000/48000 [==============================] - 1s 20us/sample - loss: 0.1242 - acc: 0.9629 - val_loss: 0.1000 - val_acc: 0.9713\n",
      "Epoch 99/200\n",
      "48000/48000 [==============================] - 1s 21us/sample - loss: 0.1211 - acc: 0.9633 - val_loss: 0.0994 - val_acc: 0.9712\n",
      "Epoch 100/200\n",
      "48000/48000 [==============================] - 1s 23us/sample - loss: 0.1225 - acc: 0.9636 - val_loss: 0.0992 - val_acc: 0.9716\n",
      "Epoch 101/200\n",
      "48000/48000 [==============================] - 1s 21us/sample - loss: 0.1197 - acc: 0.9646 - val_loss: 0.0986 - val_acc: 0.9718\n",
      "Epoch 102/200\n",
      "48000/48000 [==============================] - 1s 22us/sample - loss: 0.1199 - acc: 0.9649 - val_loss: 0.0981 - val_acc: 0.9715\n",
      "Epoch 103/200\n",
      "48000/48000 [==============================] - 1s 19us/sample - loss: 0.1199 - acc: 0.9646 - val_loss: 0.0978 - val_acc: 0.9724\n",
      "Epoch 104/200\n",
      "48000/48000 [==============================] - 1s 20us/sample - loss: 0.1191 - acc: 0.9646 - val_loss: 0.0982 - val_acc: 0.9721\n",
      "Epoch 105/200\n",
      "48000/48000 [==============================] - 1s 23us/sample - loss: 0.1179 - acc: 0.9649 - val_loss: 0.0978 - val_acc: 0.9722\n",
      "Epoch 106/200\n",
      "48000/48000 [==============================] - 1s 25us/sample - loss: 0.1177 - acc: 0.9640 - val_loss: 0.0981 - val_acc: 0.9722\n",
      "Epoch 107/200\n",
      "48000/48000 [==============================] - 1s 22us/sample - loss: 0.1163 - acc: 0.9649 - val_loss: 0.0975 - val_acc: 0.9728\n",
      "Epoch 108/200\n",
      "48000/48000 [==============================] - 1s 25us/sample - loss: 0.1183 - acc: 0.9643 - val_loss: 0.0972 - val_acc: 0.9720\n",
      "Epoch 109/200\n",
      "48000/48000 [==============================] - 1s 24us/sample - loss: 0.1144 - acc: 0.9657 - val_loss: 0.0964 - val_acc: 0.9722\n",
      "Epoch 110/200\n",
      "48000/48000 [==============================] - 1s 23us/sample - loss: 0.1166 - acc: 0.9644 - val_loss: 0.0965 - val_acc: 0.9722\n",
      "Epoch 111/200\n",
      "48000/48000 [==============================] - 1s 23us/sample - loss: 0.1130 - acc: 0.9663 - val_loss: 0.0961 - val_acc: 0.9725\n",
      "Epoch 112/200\n",
      "48000/48000 [==============================] - 1s 26us/sample - loss: 0.1132 - acc: 0.9656 - val_loss: 0.0963 - val_acc: 0.9727\n",
      "Epoch 113/200\n",
      "48000/48000 [==============================] - 1s 23us/sample - loss: 0.1145 - acc: 0.9661 - val_loss: 0.0955 - val_acc: 0.9727\n",
      "Epoch 114/200\n",
      "48000/48000 [==============================] - 1s 23us/sample - loss: 0.1130 - acc: 0.9659 - val_loss: 0.0957 - val_acc: 0.9728\n",
      "Epoch 115/200\n"
     ]
    },
    {
     "name": "stdout",
     "output_type": "stream",
     "text": [
      "48000/48000 [==============================] - 1s 22us/sample - loss: 0.1107 - acc: 0.9670 - val_loss: 0.0957 - val_acc: 0.9727\n",
      "Epoch 116/200\n",
      "48000/48000 [==============================] - 1s 22us/sample - loss: 0.1110 - acc: 0.9676 - val_loss: 0.0948 - val_acc: 0.9723\n",
      "Epoch 117/200\n",
      "48000/48000 [==============================] - 1s 21us/sample - loss: 0.1111 - acc: 0.9673 - val_loss: 0.0949 - val_acc: 0.9728\n",
      "Epoch 118/200\n",
      "48000/48000 [==============================] - 1s 21us/sample - loss: 0.1093 - acc: 0.9671 - val_loss: 0.0945 - val_acc: 0.9731\n",
      "Epoch 119/200\n",
      "48000/48000 [==============================] - 1s 22us/sample - loss: 0.1084 - acc: 0.9680 - val_loss: 0.0946 - val_acc: 0.9729\n",
      "Epoch 120/200\n",
      "48000/48000 [==============================] - 1s 23us/sample - loss: 0.1098 - acc: 0.9674 - val_loss: 0.0940 - val_acc: 0.9727\n",
      "Epoch 121/200\n",
      "48000/48000 [==============================] - 1s 22us/sample - loss: 0.1054 - acc: 0.9688 - val_loss: 0.0937 - val_acc: 0.9729\n",
      "Epoch 122/200\n",
      "48000/48000 [==============================] - 1s 23us/sample - loss: 0.1065 - acc: 0.9680 - val_loss: 0.0935 - val_acc: 0.9732\n",
      "Epoch 123/200\n",
      "48000/48000 [==============================] - 1s 22us/sample - loss: 0.1078 - acc: 0.9673 - val_loss: 0.0932 - val_acc: 0.9733\n",
      "Epoch 124/200\n",
      "48000/48000 [==============================] - 1s 25us/sample - loss: 0.1069 - acc: 0.9679 - val_loss: 0.0929 - val_acc: 0.9728\n",
      "Epoch 125/200\n",
      "48000/48000 [==============================] - 1s 22us/sample - loss: 0.1060 - acc: 0.9684 - val_loss: 0.0929 - val_acc: 0.9728\n",
      "Epoch 126/200\n",
      "48000/48000 [==============================] - 1s 23us/sample - loss: 0.1054 - acc: 0.9681 - val_loss: 0.0928 - val_acc: 0.9736\n",
      "Epoch 127/200\n",
      "48000/48000 [==============================] - 1s 23us/sample - loss: 0.1048 - acc: 0.9684 - val_loss: 0.0922 - val_acc: 0.9738\n",
      "Epoch 128/200\n",
      "48000/48000 [==============================] - 1s 23us/sample - loss: 0.1020 - acc: 0.9697 - val_loss: 0.0926 - val_acc: 0.9732\n",
      "Epoch 129/200\n",
      "48000/48000 [==============================] - 1s 19us/sample - loss: 0.1069 - acc: 0.9681 - val_loss: 0.0919 - val_acc: 0.9736\n",
      "Epoch 130/200\n",
      "48000/48000 [==============================] - 1s 20us/sample - loss: 0.1027 - acc: 0.9688 - val_loss: 0.0916 - val_acc: 0.9738\n",
      "Epoch 131/200\n",
      "48000/48000 [==============================] - 1s 19us/sample - loss: 0.1030 - acc: 0.9685 - val_loss: 0.0912 - val_acc: 0.9729\n",
      "Epoch 132/200\n",
      "48000/48000 [==============================] - 1s 20us/sample - loss: 0.0987 - acc: 0.9701 - val_loss: 0.0918 - val_acc: 0.9730\n",
      "Epoch 133/200\n",
      "48000/48000 [==============================] - 1s 20us/sample - loss: 0.1011 - acc: 0.9699 - val_loss: 0.0913 - val_acc: 0.9732\n",
      "Epoch 134/200\n",
      "48000/48000 [==============================] - 1s 19us/sample - loss: 0.1013 - acc: 0.9692 - val_loss: 0.0907 - val_acc: 0.9734\n",
      "Epoch 135/200\n",
      "48000/48000 [==============================] - 1s 21us/sample - loss: 0.0991 - acc: 0.9706 - val_loss: 0.0904 - val_acc: 0.9737\n",
      "Epoch 136/200\n",
      "48000/48000 [==============================] - 1s 19us/sample - loss: 0.1000 - acc: 0.9699 - val_loss: 0.0917 - val_acc: 0.9732\n",
      "Epoch 137/200\n",
      "48000/48000 [==============================] - 1s 19us/sample - loss: 0.0993 - acc: 0.9692 - val_loss: 0.0910 - val_acc: 0.9737\n",
      "Epoch 138/200\n",
      "48000/48000 [==============================] - 1s 19us/sample - loss: 0.0981 - acc: 0.9700 - val_loss: 0.0908 - val_acc: 0.9738\n",
      "Epoch 139/200\n",
      "48000/48000 [==============================] - 1s 22us/sample - loss: 0.0973 - acc: 0.9705 - val_loss: 0.0907 - val_acc: 0.9734\n",
      "Epoch 140/200\n",
      "48000/48000 [==============================] - 1s 20us/sample - loss: 0.0984 - acc: 0.9704 - val_loss: 0.0898 - val_acc: 0.9743\n",
      "Epoch 141/200\n",
      "48000/48000 [==============================] - 1s 22us/sample - loss: 0.0980 - acc: 0.9706 - val_loss: 0.0902 - val_acc: 0.9743\n",
      "Epoch 142/200\n",
      "48000/48000 [==============================] - 1s 22us/sample - loss: 0.0960 - acc: 0.9717 - val_loss: 0.0903 - val_acc: 0.9740\n",
      "Epoch 143/200\n",
      "48000/48000 [==============================] - 1s 20us/sample - loss: 0.0957 - acc: 0.9700 - val_loss: 0.0902 - val_acc: 0.9738\n",
      "Epoch 144/200\n",
      "48000/48000 [==============================] - 1s 22us/sample - loss: 0.0930 - acc: 0.9720 - val_loss: 0.0901 - val_acc: 0.9738\n",
      "Epoch 145/200\n",
      "48000/48000 [==============================] - 1s 20us/sample - loss: 0.0964 - acc: 0.9703 - val_loss: 0.0894 - val_acc: 0.9737\n",
      "Epoch 146/200\n",
      "48000/48000 [==============================] - 1s 22us/sample - loss: 0.0949 - acc: 0.9711 - val_loss: 0.0894 - val_acc: 0.9740\n",
      "Epoch 147/200\n",
      "48000/48000 [==============================] - 1s 22us/sample - loss: 0.0951 - acc: 0.9704 - val_loss: 0.0901 - val_acc: 0.9740\n",
      "Epoch 148/200\n",
      "48000/48000 [==============================] - 1s 21us/sample - loss: 0.0953 - acc: 0.9713 - val_loss: 0.0893 - val_acc: 0.9736\n",
      "Epoch 149/200\n",
      "48000/48000 [==============================] - 1s 21us/sample - loss: 0.0936 - acc: 0.9715 - val_loss: 0.0889 - val_acc: 0.9743\n",
      "Epoch 150/200\n",
      "48000/48000 [==============================] - 1s 23us/sample - loss: 0.0936 - acc: 0.9717 - val_loss: 0.0886 - val_acc: 0.9747\n",
      "Epoch 151/200\n",
      "48000/48000 [==============================] - 1s 20us/sample - loss: 0.0945 - acc: 0.9720 - val_loss: 0.0886 - val_acc: 0.9743\n",
      "Epoch 152/200\n",
      "48000/48000 [==============================] - 1s 20us/sample - loss: 0.0936 - acc: 0.9711 - val_loss: 0.0887 - val_acc: 0.9742\n",
      "Epoch 153/200\n",
      "48000/48000 [==============================] - 1s 20us/sample - loss: 0.0951 - acc: 0.9704 - val_loss: 0.0883 - val_acc: 0.9746\n",
      "Epoch 154/200\n",
      "48000/48000 [==============================] - 1s 20us/sample - loss: 0.0921 - acc: 0.9721 - val_loss: 0.0888 - val_acc: 0.9743\n",
      "Epoch 155/200\n",
      "48000/48000 [==============================] - 1s 20us/sample - loss: 0.0928 - acc: 0.9709 - val_loss: 0.0882 - val_acc: 0.9748\n",
      "Epoch 156/200\n",
      "48000/48000 [==============================] - 1s 20us/sample - loss: 0.0941 - acc: 0.9718 - val_loss: 0.0876 - val_acc: 0.9741\n",
      "Epoch 157/200\n",
      "48000/48000 [==============================] - 1s 19us/sample - loss: 0.0916 - acc: 0.9719 - val_loss: 0.0872 - val_acc: 0.9743\n",
      "Epoch 158/200\n",
      "48000/48000 [==============================] - 1s 19us/sample - loss: 0.0915 - acc: 0.9719 - val_loss: 0.0876 - val_acc: 0.9745\n",
      "Epoch 159/200\n",
      "48000/48000 [==============================] - 1s 22us/sample - loss: 0.0907 - acc: 0.9718 - val_loss: 0.0873 - val_acc: 0.9747\n",
      "Epoch 160/200\n",
      "48000/48000 [==============================] - 1s 19us/sample - loss: 0.0914 - acc: 0.9727 - val_loss: 0.0875 - val_acc: 0.9744\n",
      "Epoch 161/200\n",
      "48000/48000 [==============================] - 1s 20us/sample - loss: 0.0886 - acc: 0.9725 - val_loss: 0.0879 - val_acc: 0.9747\n",
      "Epoch 162/200\n",
      "48000/48000 [==============================] - 1s 19us/sample - loss: 0.0889 - acc: 0.9736 - val_loss: 0.0878 - val_acc: 0.9743\n",
      "Epoch 163/200\n",
      "48000/48000 [==============================] - 1s 20us/sample - loss: 0.0886 - acc: 0.9725 - val_loss: 0.0870 - val_acc: 0.9746\n",
      "Epoch 164/200\n",
      "48000/48000 [==============================] - 1s 20us/sample - loss: 0.0884 - acc: 0.9732 - val_loss: 0.0874 - val_acc: 0.9745\n",
      "Epoch 165/200\n",
      "48000/48000 [==============================] - 1s 20us/sample - loss: 0.0888 - acc: 0.9732 - val_loss: 0.0872 - val_acc: 0.9747\n",
      "Epoch 166/200\n",
      "48000/48000 [==============================] - 1s 20us/sample - loss: 0.0879 - acc: 0.9736 - val_loss: 0.0871 - val_acc: 0.9750\n",
      "Epoch 167/200\n",
      "48000/48000 [==============================] - 1s 20us/sample - loss: 0.0885 - acc: 0.9729 - val_loss: 0.0870 - val_acc: 0.9747\n",
      "Epoch 168/200\n",
      "48000/48000 [==============================] - 1s 20us/sample - loss: 0.0866 - acc: 0.9734 - val_loss: 0.0872 - val_acc: 0.9750\n",
      "Epoch 169/200\n",
      "48000/48000 [==============================] - 1s 20us/sample - loss: 0.0860 - acc: 0.9747 - val_loss: 0.0865 - val_acc: 0.9752\n",
      "Epoch 170/200\n",
      "48000/48000 [==============================] - 1s 20us/sample - loss: 0.0867 - acc: 0.9735 - val_loss: 0.0866 - val_acc: 0.9748\n",
      "Epoch 171/200\n",
      "48000/48000 [==============================] - 1s 23us/sample - loss: 0.0857 - acc: 0.9739 - val_loss: 0.0863 - val_acc: 0.9753\n",
      "Epoch 172/200\n",
      "48000/48000 [==============================] - 1s 23us/sample - loss: 0.0857 - acc: 0.9730 - val_loss: 0.0862 - val_acc: 0.9750\n"
     ]
    },
    {
     "name": "stdout",
     "output_type": "stream",
     "text": [
      "Epoch 173/200\n",
      "48000/48000 [==============================] - 1s 22us/sample - loss: 0.0840 - acc: 0.9740 - val_loss: 0.0867 - val_acc: 0.9749\n",
      "Epoch 174/200\n",
      "48000/48000 [==============================] - 1s 22us/sample - loss: 0.0832 - acc: 0.9743 - val_loss: 0.0863 - val_acc: 0.9746\n",
      "Epoch 175/200\n",
      "48000/48000 [==============================] - 1s 21us/sample - loss: 0.0842 - acc: 0.9741 - val_loss: 0.0860 - val_acc: 0.9752\n",
      "Epoch 176/200\n",
      "48000/48000 [==============================] - 1s 21us/sample - loss: 0.0843 - acc: 0.9738 - val_loss: 0.0861 - val_acc: 0.9753\n",
      "Epoch 177/200\n",
      "48000/48000 [==============================] - 1s 24us/sample - loss: 0.0837 - acc: 0.9739 - val_loss: 0.0861 - val_acc: 0.9748\n",
      "Epoch 178/200\n",
      "48000/48000 [==============================] - 1s 21us/sample - loss: 0.0849 - acc: 0.9737 - val_loss: 0.0858 - val_acc: 0.9749\n",
      "Epoch 179/200\n",
      "48000/48000 [==============================] - 1s 21us/sample - loss: 0.0824 - acc: 0.9742 - val_loss: 0.0859 - val_acc: 0.9752\n",
      "Epoch 180/200\n",
      "48000/48000 [==============================] - 1s 23us/sample - loss: 0.0834 - acc: 0.9745 - val_loss: 0.0858 - val_acc: 0.9753\n",
      "Epoch 181/200\n",
      "48000/48000 [==============================] - 1s 23us/sample - loss: 0.0860 - acc: 0.9735 - val_loss: 0.0859 - val_acc: 0.9747\n",
      "Epoch 182/200\n",
      "48000/48000 [==============================] - 1s 23us/sample - loss: 0.0820 - acc: 0.9741 - val_loss: 0.0857 - val_acc: 0.9752\n",
      "Epoch 183/200\n",
      "48000/48000 [==============================] - 1s 24us/sample - loss: 0.0812 - acc: 0.9751 - val_loss: 0.0856 - val_acc: 0.9749\n",
      "Epoch 184/200\n",
      "48000/48000 [==============================] - 1s 23us/sample - loss: 0.0825 - acc: 0.9744 - val_loss: 0.0857 - val_acc: 0.9753\n",
      "Epoch 185/200\n",
      "48000/48000 [==============================] - 1s 23us/sample - loss: 0.0820 - acc: 0.9749 - val_loss: 0.0853 - val_acc: 0.9753\n",
      "Epoch 186/200\n",
      "48000/48000 [==============================] - 1s 23us/sample - loss: 0.0794 - acc: 0.9755 - val_loss: 0.0855 - val_acc: 0.9758\n",
      "Epoch 187/200\n",
      "48000/48000 [==============================] - 1s 23us/sample - loss: 0.0794 - acc: 0.9751 - val_loss: 0.0858 - val_acc: 0.9750\n",
      "Epoch 188/200\n",
      "48000/48000 [==============================] - 1s 22us/sample - loss: 0.0816 - acc: 0.9744 - val_loss: 0.0848 - val_acc: 0.9755\n",
      "Epoch 189/200\n",
      "48000/48000 [==============================] - 1s 23us/sample - loss: 0.0789 - acc: 0.9752 - val_loss: 0.0852 - val_acc: 0.9755\n",
      "Epoch 190/200\n",
      "48000/48000 [==============================] - 1s 22us/sample - loss: 0.0802 - acc: 0.9754 - val_loss: 0.0849 - val_acc: 0.9755\n",
      "Epoch 191/200\n",
      "48000/48000 [==============================] - 1s 22us/sample - loss: 0.0803 - acc: 0.9751 - val_loss: 0.0844 - val_acc: 0.9758\n",
      "Epoch 192/200\n",
      "48000/48000 [==============================] - 1s 22us/sample - loss: 0.0788 - acc: 0.9764 - val_loss: 0.0845 - val_acc: 0.9759\n",
      "Epoch 193/200\n",
      "48000/48000 [==============================] - 1s 22us/sample - loss: 0.0802 - acc: 0.9752 - val_loss: 0.0846 - val_acc: 0.9758\n",
      "Epoch 194/200\n",
      "48000/48000 [==============================] - 1s 24us/sample - loss: 0.0768 - acc: 0.9768 - val_loss: 0.0842 - val_acc: 0.9758\n",
      "Epoch 195/200\n",
      "48000/48000 [==============================] - 1s 23us/sample - loss: 0.0797 - acc: 0.9751 - val_loss: 0.0848 - val_acc: 0.9756\n",
      "Epoch 196/200\n",
      "48000/48000 [==============================] - 1s 22us/sample - loss: 0.0760 - acc: 0.9771 - val_loss: 0.0850 - val_acc: 0.9754\n",
      "Epoch 197/200\n",
      "48000/48000 [==============================] - 1s 23us/sample - loss: 0.0776 - acc: 0.9761 - val_loss: 0.0845 - val_acc: 0.9758\n",
      "Epoch 198/200\n",
      "48000/48000 [==============================] - 1s 23us/sample - loss: 0.0795 - acc: 0.9753 - val_loss: 0.0858 - val_acc: 0.9758\n",
      "Epoch 199/200\n",
      "48000/48000 [==============================] - 1s 22us/sample - loss: 0.0761 - acc: 0.9761 - val_loss: 0.0848 - val_acc: 0.9758\n",
      "Epoch 200/200\n",
      "48000/48000 [==============================] - 1s 23us/sample - loss: 0.0770 - acc: 0.9766 - val_loss: 0.0847 - val_acc: 0.9756\n",
      "CPU times: user 4min 20s, sys: 31.8 s, total: 4min 52s\n",
      "Wall time: 3min 38s\n"
     ]
    }
   ],
   "source": [
    "%%time \n",
    "\n",
    "history = model.fit(X_train, Y_train,\n",
    "                    batch_size=BATCH_SIZE, \n",
    "                    epochs=NB_EPOCH,\n",
    "                    verbose=VERBOSE, \n",
    "                    validation_split=VALIDATION_SPLIT)"
   ]
  },
  {
   "cell_type": "code",
   "execution_count": 15,
   "metadata": {},
   "outputs": [
    {
     "name": "stdout",
     "output_type": "stream",
     "text": [
      "10000/10000 [==============================] - 0s 29us/sample - loss: 0.0743 - acc: 0.9769\n",
      "\n",
      "Test score: 0.07430553717612057\n",
      "Test accuracy: 0.9769\n"
     ]
    }
   ],
   "source": [
    "score = model.evaluate(X_test, Y_test, verbose=VERBOSE)\n",
    "\n",
    "print(\"\\nTest score:\", score[0])\n",
    "print('Test accuracy:', score[1])"
   ]
  },
  {
   "cell_type": "markdown",
   "metadata": {},
   "source": [
    "---"
   ]
  },
  {
   "cell_type": "code",
   "execution_count": 16,
   "metadata": {},
   "outputs": [],
   "source": [
    "import matplotlib.pyplot as plt"
   ]
  },
  {
   "cell_type": "code",
   "execution_count": 17,
   "metadata": {},
   "outputs": [
    {
     "data": {
      "text/plain": [
       "dict_keys(['loss', 'acc', 'val_loss', 'val_acc'])"
      ]
     },
     "execution_count": 17,
     "metadata": {},
     "output_type": "execute_result"
    }
   ],
   "source": [
    "history_dict = history.history\n",
    "history_dict.keys()"
   ]
  },
  {
   "cell_type": "code",
   "execution_count": 18,
   "metadata": {},
   "outputs": [
    {
     "data": {
      "image/png": "[encoded data removed]",
      "text/plain": [
       "<Figure size 432x288 with 1 Axes>"
      ]
     },
     "metadata": {
      "needs_background": "light"
     },
     "output_type": "display_data"
    }
   ],
   "source": [
    "acc = history.history['acc']\n",
    "val_acc = history.history['val_acc']\n",
    "loss = history.history['loss']\n",
    "val_loss = history.history['val_loss']\n",
    "\n",
    "epochs = range(1, len(acc) + 1)\n",
    "plt.plot(epochs, loss, 'b', label='Training loss')\n",
    "plt.plot(epochs, val_loss, 'r', label='Validation loss')\n",
    "plt.title('Training and validation loss')\n",
    "plt.xlabel('Epochs')\n",
    "plt.ylabel('Loss')\n",
    "plt.legend()\n",
    "\n",
    "plt.show()"
   ]
  },
  {
   "cell_type": "code",
   "execution_count": 19,
   "metadata": {},
   "outputs": [
    {
     "data": {
      "image/png": "[encoded data removed]",
      "text/plain": [
       "<Figure size 432x288 with 1 Axes>"
      ]
     },
     "metadata": {
      "needs_background": "light"
     },
     "output_type": "display_data"
    }
   ],
   "source": [
    "plt.clf()   # clear figure\n",
    "acc_values = history_dict['acc']\n",
    "val_acc_values = history_dict['val_acc']\n",
    "\n",
    "plt.plot(epochs, acc, 'b', label='Training acc')\n",
    "plt.plot(epochs, val_acc, 'r', label='Validation acc')\n",
    "plt.title('Training and validation accuracy')\n",
    "plt.xlabel('Epochs')\n",
    "plt.ylabel('Accuracy')\n",
    "plt.legend()\n",
    "\n",
    "plt.show()"
   ]
  },
  {
   "cell_type": "markdown",
   "metadata": {},
   "source": [
    "---"
   ]
  },
  {
   "cell_type": "code",
   "execution_count": 20,
   "metadata": {},
   "outputs": [],
   "source": [
    "import tensorflow as tf\n",
    "from tensorflow import keras\n",
    "from tensorflow.python.client import device_lib"
   ]
  },
  {
   "cell_type": "code",
   "execution_count": 21,
   "metadata": {},
   "outputs": [
    {
     "name": "stdout",
     "output_type": "stream",
     "text": [
      "tensorflow: 1.13.1\n",
      "keras: 2.2.4-tf\n",
      "GPU devices:\n",
      "   [['/device:GPU:0', 'device: 0, name: GeForce GT 730, pci bus id: 0000:01:00.0, compute capability: 3.5']]\n",
      "default GPU device: /device:GPU:0\n"
     ]
    }
   ],
   "source": [
    "print('tensorflow:', tf.__version__)\n",
    "print('keras:', keras.__version__)\n",
    "\n",
    "if tf.test.is_built_with_cuda():\n",
    "    print('GPU devices:\\n  ',\n",
    "        [ [x.name, x.physical_device_desc] \n",
    "          for x in device_lib.list_local_devices() \n",
    "          if x.device_type == 'GPU' ]\n",
    "    )\n",
    "    print('default GPU device:', tf.test.gpu_device_name() )\n",
    "\n",
    "else:\n",
    "    print('no GPU device found')\n",
    "    "
   ]
  }
 ],
 "metadata": {
  "kernelspec": {
   "display_name": "Python 3",
   "language": "python",
   "name": "python3"
  },
  "language_info": {
   "codemirror_mode": {
    "name": "ipython",
    "version": 3
   },
   "file_extension": ".py",
   "mimetype": "text/x-python",
   "name": "python",
   "nbconvert_exporter": "python",
   "pygments_lexer": "ipython3",
   "version": "3.7.3"
  },
  "toc": {
   "base_numbering": 1,
   "nav_menu": {},
   "number_sections": true,
   "sideBar": true,
   "skip_h1_title": false,
   "title_cell": "Table of Contents",
   "title_sidebar": "Contents",
   "toc_cell": false,
   "toc_position": {},
   "toc_section_display": true,
   "toc_window_display": false
  }
 },
 "nbformat": 4,
 "nbformat_minor": 2
}
