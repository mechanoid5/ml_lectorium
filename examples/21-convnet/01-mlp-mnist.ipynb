{
 "cells": [
  {
   "cell_type": "markdown",
   "metadata": {},
   "source": [
    "**классификатор изображений MPL**\n",
    "\n",
    "Евгений Борисов borisov.e@solarl.ru"
   ]
  },
  {
   "cell_type": "code",
   "execution_count": 34,
   "metadata": {},
   "outputs": [],
   "source": [
    "import numpy as np\n",
    "\n",
    "\n",
    "from tensorflow.keras.models import Sequential\n",
    "from tensorflow.keras.layers import Dense\n",
    "from tensorflow.keras.layers import Activation\n",
    "from tensorflow.keras.layers import Dropout\n",
    "\n",
    "from tensorflow.keras.datasets import mnist\n",
    "from tensorflow.keras import utils "
   ]
  },
  {
   "cell_type": "code",
   "execution_count": 4,
   "metadata": {},
   "outputs": [],
   "source": [
    "np.random.seed(1671)"
   ]
  },
  {
   "cell_type": "code",
   "execution_count": 23,
   "metadata": {},
   "outputs": [],
   "source": [
    "# network and training\n",
    "NB_EPOCH = 200\n",
    "BATCH_SIZE = 128\n",
    "VERBOSE = 1\n",
    "NB_CLASSES = 10   # number of outputs = number of digits\n",
    "N_HIDDEN = 128\n",
    "VALIDATION_SPLIT=0.2 # how much TRAIN is reserved for VALIDATION\n",
    "DROPOUT = 0.3"
   ]
  },
  {
   "cell_type": "code",
   "execution_count": 6,
   "metadata": {},
   "outputs": [
    {
     "data": {
      "text/plain": [
       "((60000, 28, 28), (60000,), (10000, 28, 28), (10000,))"
      ]
     },
     "execution_count": 6,
     "metadata": {},
     "output_type": "execute_result"
    }
   ],
   "source": [
    "# data: shuffled and split between train and test sets\n",
    "#\n",
    "(X_train, y_train), (X_test, y_test) = mnist.load_data()\n",
    "X_train.shape, y_train.shape, X_test.shape, y_test.shape"
   ]
  },
  {
   "cell_type": "code",
   "execution_count": 7,
   "metadata": {},
   "outputs": [],
   "source": [
    "# normalize \n",
    "X_train /= 255.0\n",
    "X_test /= 255.0\n",
    "\n",
    "RESHAPED = 784\n",
    "\n",
    "# X_train is 60000 rows of 28x28 values --> reshaped in 60000 x 784\n",
    "X_train = X_train.reshape(60000, RESHAPED).astype('float32')\n",
    "X_test = X_test.reshape(10000, RESHAPED).astype('float32')"
   ]
  },
  {
   "cell_type": "code",
   "execution_count": 8,
   "metadata": {
    "collapsed": true
   },
   "outputs": [
    {
     "name": "stdout",
     "output_type": "stream",
     "text": [
      "60000 train samples\n",
      "10000 test samples\n"
     ]
    }
   ],
   "source": [
    "X_train.shape, X_test.shape"
   ]
  },
  {
   "cell_type": "code",
   "execution_count": 9,
   "metadata": {},
   "outputs": [],
   "source": [
    "# convert class vectors to binary class matrices\n",
    "Y_train = utils.to_categorical(y_train, NB_CLASSES)\n",
    "Y_test = utils.to_categorical(y_test, NB_CLASSES)"
   ]
  },
  {
   "cell_type": "code",
   "execution_count": 10,
   "metadata": {},
   "outputs": [],
   "source": [
    "# Y_train\n",
    "# y_train"
   ]
  },
  {
   "cell_type": "markdown",
   "metadata": {},
   "source": [
    "---"
   ]
  },
  {
   "cell_type": "code",
   "execution_count": null,
   "metadata": {},
   "outputs": [],
   "source": [
    "# model = Sequential()\n",
    "# model.add(Dense(NB_CLASSES, input_shape=(RESHAPED,)))\n",
    "# model.add(Activation('softmax'))"
   ]
  },
  {
   "cell_type": "code",
   "execution_count": 32,
   "metadata": {},
   "outputs": [],
   "source": [
    "model = Sequential()\n",
    "model.add(Dense(N_HIDDEN, input_shape=(RESHAPED,)))\n",
    "model.add(Activation('relu'))\n",
    "#model.add(Dropout(DROPOUT))\n",
    "model.add(Dense(N_HIDDEN))\n",
    "model.add(Activation('relu'))\n",
    "#model.add(Dropout(DROPOUT))\n",
    "model.add(Dense(NB_CLASSES))\n",
    "model.add(Activation('softmax'))"
   ]
  },
  {
   "cell_type": "code",
   "execution_count": 12,
   "metadata": {},
   "outputs": [],
   "source": [
    "model.summary()"
   ]
  },
  {
   "cell_type": "markdown",
   "metadata": {},
   "source": [
    "---"
   ]
  },
  {
   "cell_type": "code",
   "execution_count": 25,
   "metadata": {},
   "outputs": [],
   "source": [
    "model.compile(loss='categorical_crossentropy',\n",
    "              optimizer='sgd',\n",
    "              metrics=['accuracy'])"
   ]
  },
  {
   "cell_type": "code",
   "execution_count": 26,
   "metadata": {},
   "outputs": [
    {
     "name": "stdout",
     "output_type": "stream",
     "text": [
      "Train on 48000 samples, validate on 12000 samples\n",
      "Epoch 1/200\n",
      "48000/48000 [==============================] - 1s 24us/sample - loss: 1.6864 - acc: 0.4562 - val_loss: 0.9064 - val_acc: 0.8061\n",
      "Epoch 2/200\n",
      "48000/48000 [==============================] - 1s 22us/sample - loss: 0.9326 - acc: 0.7157 - val_loss: 0.5411 - val_acc: 0.8620\n",
      "Epoch 3/200\n",
      "48000/48000 [==============================] - 1s 22us/sample - loss: 0.7048 - acc: 0.7846 - val_loss: 0.4291 - val_acc: 0.8859\n",
      "Epoch 4/200\n",
      "48000/48000 [==============================] - 1s 22us/sample - loss: 0.5992 - acc: 0.8172 - val_loss: 0.3738 - val_acc: 0.8967\n",
      "Epoch 5/200\n",
      "48000/48000 [==============================] - 1s 24us/sample - loss: 0.5338 - acc: 0.8400 - val_loss: 0.3401 - val_acc: 0.9027\n",
      "Epoch 6/200\n",
      "48000/48000 [==============================] - 1s 21us/sample - loss: 0.4943 - acc: 0.8507 - val_loss: 0.3147 - val_acc: 0.9090\n",
      "Epoch 7/200\n",
      "48000/48000 [==============================] - 1s 22us/sample - loss: 0.4606 - acc: 0.8646 - val_loss: 0.2975 - val_acc: 0.9129\n",
      "Epoch 8/200\n",
      "48000/48000 [==============================] - 1s 22us/sample - loss: 0.4301 - acc: 0.8723 - val_loss: 0.2826 - val_acc: 0.9162\n",
      "Epoch 9/200\n",
      "48000/48000 [==============================] - 1s 22us/sample - loss: 0.4079 - acc: 0.8798 - val_loss: 0.2686 - val_acc: 0.9199\n",
      "Epoch 10/200\n",
      "48000/48000 [==============================] - 1s 22us/sample - loss: 0.3931 - acc: 0.8852 - val_loss: 0.2583 - val_acc: 0.9225\n",
      "Epoch 11/200\n",
      "48000/48000 [==============================] - 1s 22us/sample - loss: 0.3749 - acc: 0.8897 - val_loss: 0.2477 - val_acc: 0.9254\n",
      "Epoch 12/200\n",
      "48000/48000 [==============================] - 1s 22us/sample - loss: 0.3650 - acc: 0.8926 - val_loss: 0.2398 - val_acc: 0.9280\n",
      "Epoch 13/200\n",
      "48000/48000 [==============================] - 1s 22us/sample - loss: 0.3497 - acc: 0.8971 - val_loss: 0.2321 - val_acc: 0.9308\n",
      "Epoch 14/200\n",
      "48000/48000 [==============================] - 1s 22us/sample - loss: 0.3355 - acc: 0.9007 - val_loss: 0.2248 - val_acc: 0.9335\n",
      "Epoch 15/200\n",
      "48000/48000 [==============================] - 1s 22us/sample - loss: 0.3240 - acc: 0.9049 - val_loss: 0.2188 - val_acc: 0.9339\n",
      "Epoch 16/200\n",
      "48000/48000 [==============================] - 1s 22us/sample - loss: 0.3193 - acc: 0.9056 - val_loss: 0.2129 - val_acc: 0.9371\n",
      "Epoch 17/200\n",
      "48000/48000 [==============================] - 1s 22us/sample - loss: 0.3078 - acc: 0.9105 - val_loss: 0.2072 - val_acc: 0.9387\n",
      "Epoch 18/200\n",
      "48000/48000 [==============================] - 1s 22us/sample - loss: 0.3008 - acc: 0.9110 - val_loss: 0.2019 - val_acc: 0.9408\n",
      "Epoch 19/200\n",
      "48000/48000 [==============================] - 1s 22us/sample - loss: 0.2936 - acc: 0.9139 - val_loss: 0.1983 - val_acc: 0.9417\n",
      "Epoch 20/200\n",
      "48000/48000 [==============================] - 1s 22us/sample - loss: 0.2855 - acc: 0.9154 - val_loss: 0.1930 - val_acc: 0.9440\n",
      "Epoch 21/200\n",
      "48000/48000 [==============================] - 1s 22us/sample - loss: 0.2805 - acc: 0.9178 - val_loss: 0.1890 - val_acc: 0.9452\n",
      "Epoch 22/200\n",
      "48000/48000 [==============================] - 1s 22us/sample - loss: 0.2752 - acc: 0.9192 - val_loss: 0.1855 - val_acc: 0.9464\n",
      "Epoch 23/200\n",
      "48000/48000 [==============================] - 1s 22us/sample - loss: 0.2689 - acc: 0.9206 - val_loss: 0.1819 - val_acc: 0.9474\n",
      "Epoch 24/200\n",
      "48000/48000 [==============================] - 1s 22us/sample - loss: 0.2620 - acc: 0.9236 - val_loss: 0.1780 - val_acc: 0.9482\n",
      "Epoch 25/200\n",
      "48000/48000 [==============================] - 1s 22us/sample - loss: 0.2619 - acc: 0.9228 - val_loss: 0.1749 - val_acc: 0.9491\n",
      "Epoch 26/200\n",
      "48000/48000 [==============================] - 1s 22us/sample - loss: 0.2548 - acc: 0.9260 - val_loss: 0.1719 - val_acc: 0.9504\n",
      "Epoch 27/200\n",
      "48000/48000 [==============================] - 1s 22us/sample - loss: 0.2496 - acc: 0.9262 - val_loss: 0.1697 - val_acc: 0.9504\n",
      "Epoch 28/200\n",
      "48000/48000 [==============================] - 1s 22us/sample - loss: 0.2453 - acc: 0.9282 - val_loss: 0.1668 - val_acc: 0.9505\n",
      "Epoch 29/200\n",
      "48000/48000 [==============================] - 1s 22us/sample - loss: 0.2410 - acc: 0.9283 - val_loss: 0.1637 - val_acc: 0.9520\n",
      "Epoch 30/200\n",
      "48000/48000 [==============================] - 1s 22us/sample - loss: 0.2359 - acc: 0.9299 - val_loss: 0.1615 - val_acc: 0.9525\n",
      "Epoch 31/200\n",
      "48000/48000 [==============================] - 1s 22us/sample - loss: 0.2339 - acc: 0.9315 - val_loss: 0.1590 - val_acc: 0.9520\n",
      "Epoch 32/200\n",
      "48000/48000 [==============================] - 1s 23us/sample - loss: 0.2303 - acc: 0.9320 - val_loss: 0.1574 - val_acc: 0.9533\n",
      "Epoch 33/200\n",
      "48000/48000 [==============================] - 1s 24us/sample - loss: 0.2222 - acc: 0.9350 - val_loss: 0.1542 - val_acc: 0.9549\n",
      "Epoch 34/200\n",
      "48000/48000 [==============================] - 1s 22us/sample - loss: 0.2222 - acc: 0.9351 - val_loss: 0.1519 - val_acc: 0.9557\n",
      "Epoch 35/200\n",
      "48000/48000 [==============================] - 1s 22us/sample - loss: 0.2185 - acc: 0.9359 - val_loss: 0.1506 - val_acc: 0.9563\n",
      "Epoch 36/200\n",
      "48000/48000 [==============================] - 1s 22us/sample - loss: 0.2166 - acc: 0.9369 - val_loss: 0.1484 - val_acc: 0.9563\n",
      "Epoch 37/200\n",
      "48000/48000 [==============================] - 1s 22us/sample - loss: 0.2133 - acc: 0.9378 - val_loss: 0.1469 - val_acc: 0.9567\n",
      "Epoch 38/200\n",
      "48000/48000 [==============================] - 1s 22us/sample - loss: 0.2116 - acc: 0.9376 - val_loss: 0.1450 - val_acc: 0.9571\n",
      "Epoch 39/200\n",
      "48000/48000 [==============================] - 1s 23us/sample - loss: 0.2062 - acc: 0.9395 - val_loss: 0.1432 - val_acc: 0.9581\n",
      "Epoch 40/200\n",
      "48000/48000 [==============================] - 1s 22us/sample - loss: 0.2026 - acc: 0.9399 - val_loss: 0.1416 - val_acc: 0.9592\n",
      "Epoch 41/200\n",
      "48000/48000 [==============================] - 1s 22us/sample - loss: 0.2007 - acc: 0.9406 - val_loss: 0.1405 - val_acc: 0.9594\n",
      "Epoch 42/200\n",
      "48000/48000 [==============================] - 1s 24us/sample - loss: 0.1972 - acc: 0.9415 - val_loss: 0.1393 - val_acc: 0.9591\n",
      "Epoch 43/200\n",
      "48000/48000 [==============================] - 1s 24us/sample - loss: 0.1966 - acc: 0.9416 - val_loss: 0.1369 - val_acc: 0.9599\n",
      "Epoch 44/200\n",
      "48000/48000 [==============================] - 1s 23us/sample - loss: 0.1947 - acc: 0.9423 - val_loss: 0.1360 - val_acc: 0.9601\n",
      "Epoch 45/200\n",
      "48000/48000 [==============================] - 1s 26us/sample - loss: 0.1929 - acc: 0.9436 - val_loss: 0.1348 - val_acc: 0.9602\n",
      "Epoch 46/200\n",
      "48000/48000 [==============================] - 1s 26us/sample - loss: 0.1896 - acc: 0.9435 - val_loss: 0.1332 - val_acc: 0.9609\n",
      "Epoch 47/200\n",
      "48000/48000 [==============================] - 1s 22us/sample - loss: 0.1853 - acc: 0.9454 - val_loss: 0.1323 - val_acc: 0.9607\n",
      "Epoch 48/200\n",
      "48000/48000 [==============================] - 1s 21us/sample - loss: 0.1866 - acc: 0.9460 - val_loss: 0.1314 - val_acc: 0.9612\n",
      "Epoch 49/200\n",
      "48000/48000 [==============================] - 1s 25us/sample - loss: 0.1839 - acc: 0.9459 - val_loss: 0.1301 - val_acc: 0.9612\n",
      "Epoch 50/200\n",
      "48000/48000 [==============================] - 1s 21us/sample - loss: 0.1821 - acc: 0.9457 - val_loss: 0.1292 - val_acc: 0.9617\n",
      "Epoch 51/200\n",
      "48000/48000 [==============================] - 1s 24us/sample - loss: 0.1814 - acc: 0.9469 - val_loss: 0.1275 - val_acc: 0.9621\n",
      "Epoch 52/200\n",
      "48000/48000 [==============================] - 1s 22us/sample - loss: 0.1798 - acc: 0.9474 - val_loss: 0.1274 - val_acc: 0.9625\n",
      "Epoch 53/200\n",
      "48000/48000 [==============================] - 1s 28us/sample - loss: 0.1734 - acc: 0.9491 - val_loss: 0.1255 - val_acc: 0.9628\n",
      "Epoch 54/200\n",
      "48000/48000 [==============================] - 1s 21us/sample - loss: 0.1751 - acc: 0.9484 - val_loss: 0.1249 - val_acc: 0.9631\n",
      "Epoch 55/200\n",
      "48000/48000 [==============================] - 1s 24us/sample - loss: 0.1728 - acc: 0.9488 - val_loss: 0.1242 - val_acc: 0.9631\n",
      "Epoch 56/200\n",
      "48000/48000 [==============================] - 1s 20us/sample - loss: 0.1705 - acc: 0.9492 - val_loss: 0.1230 - val_acc: 0.9635\n",
      "Epoch 57/200\n",
      "48000/48000 [==============================] - 1s 22us/sample - loss: 0.1693 - acc: 0.9493 - val_loss: 0.1219 - val_acc: 0.9641\n",
      "Epoch 58/200\n",
      "48000/48000 [==============================] - 1s 25us/sample - loss: 0.1655 - acc: 0.9504 - val_loss: 0.1209 - val_acc: 0.9640\n"
     ]
    },
    {
     "name": "stdout",
     "output_type": "stream",
     "text": [
      "Epoch 59/200\n",
      "48000/48000 [==============================] - 1s 22us/sample - loss: 0.1660 - acc: 0.9505 - val_loss: 0.1205 - val_acc: 0.9640\n",
      "Epoch 60/200\n",
      "48000/48000 [==============================] - 1s 27us/sample - loss: 0.1657 - acc: 0.9511 - val_loss: 0.1190 - val_acc: 0.9645\n",
      "Epoch 61/200\n",
      "48000/48000 [==============================] - 1s 22us/sample - loss: 0.1633 - acc: 0.9513 - val_loss: 0.1190 - val_acc: 0.9649\n",
      "Epoch 62/200\n",
      "48000/48000 [==============================] - 1s 23us/sample - loss: 0.1601 - acc: 0.9526 - val_loss: 0.1180 - val_acc: 0.9655\n",
      "Epoch 63/200\n",
      "48000/48000 [==============================] - 1s 24us/sample - loss: 0.1578 - acc: 0.9534 - val_loss: 0.1166 - val_acc: 0.9653\n",
      "Epoch 64/200\n",
      "48000/48000 [==============================] - 1s 20us/sample - loss: 0.1619 - acc: 0.9512 - val_loss: 0.1161 - val_acc: 0.9653\n",
      "Epoch 65/200\n",
      "48000/48000 [==============================] - 1s 20us/sample - loss: 0.1578 - acc: 0.9534 - val_loss: 0.1148 - val_acc: 0.9662\n",
      "Epoch 66/200\n",
      "48000/48000 [==============================] - 1s 26us/sample - loss: 0.1559 - acc: 0.9539 - val_loss: 0.1145 - val_acc: 0.9659\n",
      "Epoch 67/200\n",
      "48000/48000 [==============================] - 1s 20us/sample - loss: 0.1542 - acc: 0.9541 - val_loss: 0.1133 - val_acc: 0.9664\n",
      "Epoch 68/200\n",
      "48000/48000 [==============================] - 1s 19us/sample - loss: 0.1556 - acc: 0.9539 - val_loss: 0.1137 - val_acc: 0.9665\n",
      "Epoch 69/200\n",
      "48000/48000 [==============================] - 1s 25us/sample - loss: 0.1514 - acc: 0.9553 - val_loss: 0.1124 - val_acc: 0.9668\n",
      "Epoch 70/200\n",
      "48000/48000 [==============================] - 1s 22us/sample - loss: 0.1519 - acc: 0.9551 - val_loss: 0.1113 - val_acc: 0.9666\n",
      "Epoch 71/200\n",
      "48000/48000 [==============================] - 1s 23us/sample - loss: 0.1514 - acc: 0.9555 - val_loss: 0.1113 - val_acc: 0.9670\n",
      "Epoch 72/200\n",
      "48000/48000 [==============================] - 1s 21us/sample - loss: 0.1479 - acc: 0.9557 - val_loss: 0.1110 - val_acc: 0.9676\n",
      "Epoch 73/200\n",
      "48000/48000 [==============================] - 1s 20us/sample - loss: 0.1480 - acc: 0.9570 - val_loss: 0.1111 - val_acc: 0.9667\n",
      "Epoch 74/200\n",
      "48000/48000 [==============================] - 1s 20us/sample - loss: 0.1466 - acc: 0.9568 - val_loss: 0.1095 - val_acc: 0.9680\n",
      "Epoch 75/200\n",
      "48000/48000 [==============================] - 1s 20us/sample - loss: 0.1438 - acc: 0.9577 - val_loss: 0.1092 - val_acc: 0.9677\n",
      "Epoch 76/200\n",
      "48000/48000 [==============================] - 1s 20us/sample - loss: 0.1419 - acc: 0.9579 - val_loss: 0.1086 - val_acc: 0.9682\n",
      "Epoch 77/200\n",
      "48000/48000 [==============================] - 1s 19us/sample - loss: 0.1410 - acc: 0.9574 - val_loss: 0.1078 - val_acc: 0.9685\n",
      "Epoch 78/200\n",
      "48000/48000 [==============================] - 1s 20us/sample - loss: 0.1422 - acc: 0.9572 - val_loss: 0.1069 - val_acc: 0.9684\n",
      "Epoch 79/200\n",
      "48000/48000 [==============================] - 1s 20us/sample - loss: 0.1379 - acc: 0.9601 - val_loss: 0.1067 - val_acc: 0.9682\n",
      "Epoch 80/200\n",
      "48000/48000 [==============================] - 1s 19us/sample - loss: 0.1423 - acc: 0.9578 - val_loss: 0.1063 - val_acc: 0.9685\n",
      "Epoch 81/200\n",
      "48000/48000 [==============================] - 1s 19us/sample - loss: 0.1365 - acc: 0.9590 - val_loss: 0.1058 - val_acc: 0.9687\n",
      "Epoch 82/200\n",
      "48000/48000 [==============================] - 1s 20us/sample - loss: 0.1352 - acc: 0.9601 - val_loss: 0.1049 - val_acc: 0.9690\n",
      "Epoch 83/200\n",
      "48000/48000 [==============================] - 1s 21us/sample - loss: 0.1345 - acc: 0.9594 - val_loss: 0.1049 - val_acc: 0.9690\n",
      "Epoch 84/200\n",
      "48000/48000 [==============================] - 1s 20us/sample - loss: 0.1362 - acc: 0.9594 - val_loss: 0.1049 - val_acc: 0.9687\n",
      "Epoch 85/200\n",
      "48000/48000 [==============================] - 1s 22us/sample - loss: 0.1344 - acc: 0.9597 - val_loss: 0.1039 - val_acc: 0.9692\n",
      "Epoch 86/200\n",
      "48000/48000 [==============================] - 1s 20us/sample - loss: 0.1336 - acc: 0.9601 - val_loss: 0.1036 - val_acc: 0.9688\n",
      "Epoch 87/200\n",
      "48000/48000 [==============================] - 1s 20us/sample - loss: 0.1338 - acc: 0.9594 - val_loss: 0.1031 - val_acc: 0.9693\n",
      "Epoch 88/200\n",
      "48000/48000 [==============================] - 1s 21us/sample - loss: 0.1308 - acc: 0.9617 - val_loss: 0.1036 - val_acc: 0.9694\n",
      "Epoch 89/200\n",
      "48000/48000 [==============================] - 1s 22us/sample - loss: 0.1326 - acc: 0.9608 - val_loss: 0.1027 - val_acc: 0.9692\n",
      "Epoch 90/200\n",
      "48000/48000 [==============================] - 1s 23us/sample - loss: 0.1326 - acc: 0.9605 - val_loss: 0.1019 - val_acc: 0.9693\n",
      "Epoch 91/200\n",
      "48000/48000 [==============================] - 1s 22us/sample - loss: 0.1307 - acc: 0.9609 - val_loss: 0.1014 - val_acc: 0.9703\n",
      "Epoch 92/200\n",
      "48000/48000 [==============================] - 1s 23us/sample - loss: 0.1285 - acc: 0.9613 - val_loss: 0.1013 - val_acc: 0.9700\n",
      "Epoch 93/200\n",
      "48000/48000 [==============================] - 1s 22us/sample - loss: 0.1270 - acc: 0.9619 - val_loss: 0.1012 - val_acc: 0.9704\n",
      "Epoch 94/200\n",
      "48000/48000 [==============================] - 1s 22us/sample - loss: 0.1273 - acc: 0.9614 - val_loss: 0.1009 - val_acc: 0.9697\n",
      "Epoch 95/200\n",
      "48000/48000 [==============================] - 1s 22us/sample - loss: 0.1277 - acc: 0.9625 - val_loss: 0.1001 - val_acc: 0.9704\n",
      "Epoch 96/200\n",
      "48000/48000 [==============================] - 1s 21us/sample - loss: 0.1262 - acc: 0.9621 - val_loss: 0.1003 - val_acc: 0.9700\n",
      "Epoch 97/200\n",
      "48000/48000 [==============================] - 1s 22us/sample - loss: 0.1216 - acc: 0.9634 - val_loss: 0.1004 - val_acc: 0.9705\n",
      "Epoch 98/200\n",
      "48000/48000 [==============================] - 1s 23us/sample - loss: 0.1243 - acc: 0.9625 - val_loss: 0.0995 - val_acc: 0.9702\n",
      "Epoch 99/200\n",
      "48000/48000 [==============================] - 1s 22us/sample - loss: 0.1221 - acc: 0.9629 - val_loss: 0.0994 - val_acc: 0.9703\n",
      "Epoch 100/200\n",
      "48000/48000 [==============================] - 1s 21us/sample - loss: 0.1233 - acc: 0.9629 - val_loss: 0.0983 - val_acc: 0.9700\n",
      "Epoch 101/200\n",
      "48000/48000 [==============================] - 1s 21us/sample - loss: 0.1223 - acc: 0.9630 - val_loss: 0.0980 - val_acc: 0.9704\n",
      "Epoch 102/200\n",
      "48000/48000 [==============================] - 1s 21us/sample - loss: 0.1220 - acc: 0.9632 - val_loss: 0.0974 - val_acc: 0.9709\n",
      "Epoch 103/200\n",
      "48000/48000 [==============================] - 1s 21us/sample - loss: 0.1205 - acc: 0.9636 - val_loss: 0.0969 - val_acc: 0.9710\n",
      "Epoch 104/200\n",
      "48000/48000 [==============================] - 1s 25us/sample - loss: 0.1178 - acc: 0.9639 - val_loss: 0.0975 - val_acc: 0.9712\n",
      "Epoch 105/200\n",
      "48000/48000 [==============================] - 1s 25us/sample - loss: 0.1160 - acc: 0.9652 - val_loss: 0.0971 - val_acc: 0.9715\n",
      "Epoch 106/200\n",
      "48000/48000 [==============================] - 1s 23us/sample - loss: 0.1185 - acc: 0.9639 - val_loss: 0.0961 - val_acc: 0.9705\n",
      "Epoch 107/200\n",
      "48000/48000 [==============================] - 1s 21us/sample - loss: 0.1168 - acc: 0.9652 - val_loss: 0.0967 - val_acc: 0.9713\n",
      "Epoch 108/200\n",
      "48000/48000 [==============================] - 1s 21us/sample - loss: 0.1173 - acc: 0.9649 - val_loss: 0.0957 - val_acc: 0.9714\n",
      "Epoch 109/200\n",
      "48000/48000 [==============================] - 1s 21us/sample - loss: 0.1155 - acc: 0.9662 - val_loss: 0.0955 - val_acc: 0.9713\n",
      "Epoch 110/200\n",
      "48000/48000 [==============================] - 1s 21us/sample - loss: 0.1166 - acc: 0.9650 - val_loss: 0.0952 - val_acc: 0.9714\n",
      "Epoch 111/200\n",
      "48000/48000 [==============================] - 1s 22us/sample - loss: 0.1145 - acc: 0.9655 - val_loss: 0.0948 - val_acc: 0.9714\n",
      "Epoch 112/200\n",
      "48000/48000 [==============================] - 1s 22us/sample - loss: 0.1170 - acc: 0.9646 - val_loss: 0.0948 - val_acc: 0.9724\n",
      "Epoch 113/200\n",
      "48000/48000 [==============================] - 1s 22us/sample - loss: 0.1135 - acc: 0.9650 - val_loss: 0.0941 - val_acc: 0.9722\n",
      "Epoch 114/200\n",
      "48000/48000 [==============================] - 1s 22us/sample - loss: 0.1137 - acc: 0.9654 - val_loss: 0.0938 - val_acc: 0.9721\n",
      "Epoch 115/200\n",
      "48000/48000 [==============================] - 1s 22us/sample - loss: 0.1128 - acc: 0.9663 - val_loss: 0.0943 - val_acc: 0.9718\n",
      "Epoch 116/200\n",
      "48000/48000 [==============================] - 1s 21us/sample - loss: 0.1123 - acc: 0.9663 - val_loss: 0.0934 - val_acc: 0.9712\n"
     ]
    },
    {
     "name": "stdout",
     "output_type": "stream",
     "text": [
      "Epoch 117/200\n",
      "48000/48000 [==============================] - 1s 21us/sample - loss: 0.1112 - acc: 0.9664 - val_loss: 0.0938 - val_acc: 0.9718\n",
      "Epoch 118/200\n",
      "48000/48000 [==============================] - 1s 21us/sample - loss: 0.1116 - acc: 0.9659 - val_loss: 0.0932 - val_acc: 0.9724\n",
      "Epoch 119/200\n",
      "48000/48000 [==============================] - 1s 21us/sample - loss: 0.1097 - acc: 0.9663 - val_loss: 0.0930 - val_acc: 0.9722\n",
      "Epoch 120/200\n",
      "48000/48000 [==============================] - 1s 21us/sample - loss: 0.1116 - acc: 0.9668 - val_loss: 0.0929 - val_acc: 0.9715\n",
      "Epoch 121/200\n",
      "48000/48000 [==============================] - 1s 21us/sample - loss: 0.1073 - acc: 0.9674 - val_loss: 0.0927 - val_acc: 0.9717\n",
      "Epoch 122/200\n",
      "48000/48000 [==============================] - 1s 20us/sample - loss: 0.1063 - acc: 0.9667 - val_loss: 0.0925 - val_acc: 0.9718\n",
      "Epoch 123/200\n",
      "48000/48000 [==============================] - 1s 21us/sample - loss: 0.1053 - acc: 0.9673 - val_loss: 0.0921 - val_acc: 0.9728\n",
      "Epoch 124/200\n",
      "48000/48000 [==============================] - 1s 22us/sample - loss: 0.1059 - acc: 0.9686 - val_loss: 0.0920 - val_acc: 0.9715\n",
      "Epoch 125/200\n",
      "48000/48000 [==============================] - 1s 23us/sample - loss: 0.1078 - acc: 0.9672 - val_loss: 0.0923 - val_acc: 0.9721\n",
      "Epoch 126/200\n",
      "48000/48000 [==============================] - 1s 21us/sample - loss: 0.1057 - acc: 0.9677 - val_loss: 0.0921 - val_acc: 0.9728\n",
      "Epoch 127/200\n",
      "48000/48000 [==============================] - 1s 20us/sample - loss: 0.1063 - acc: 0.9671 - val_loss: 0.0918 - val_acc: 0.9726\n",
      "Epoch 128/200\n",
      "48000/48000 [==============================] - 1s 20us/sample - loss: 0.1049 - acc: 0.9684 - val_loss: 0.0910 - val_acc: 0.9726\n",
      "Epoch 129/200\n",
      "48000/48000 [==============================] - 1s 23us/sample - loss: 0.1052 - acc: 0.9678 - val_loss: 0.0910 - val_acc: 0.9728\n",
      "Epoch 130/200\n",
      "48000/48000 [==============================] - 1s 21us/sample - loss: 0.1024 - acc: 0.9692 - val_loss: 0.0910 - val_acc: 0.9728\n",
      "Epoch 131/200\n",
      "48000/48000 [==============================] - 1s 22us/sample - loss: 0.1033 - acc: 0.9687 - val_loss: 0.0905 - val_acc: 0.9731\n",
      "Epoch 132/200\n",
      "48000/48000 [==============================] - 1s 22us/sample - loss: 0.1031 - acc: 0.9685 - val_loss: 0.0907 - val_acc: 0.9728\n",
      "Epoch 133/200\n",
      "48000/48000 [==============================] - 1s 24us/sample - loss: 0.1010 - acc: 0.9688 - val_loss: 0.0908 - val_acc: 0.9730\n",
      "Epoch 134/200\n",
      "48000/48000 [==============================] - 1s 24us/sample - loss: 0.1001 - acc: 0.9697 - val_loss: 0.0898 - val_acc: 0.9729\n",
      "Epoch 135/200\n",
      "48000/48000 [==============================] - 1s 20us/sample - loss: 0.1008 - acc: 0.9694 - val_loss: 0.0900 - val_acc: 0.9728\n",
      "Epoch 136/200\n",
      "48000/48000 [==============================] - 1s 23us/sample - loss: 0.1011 - acc: 0.9685 - val_loss: 0.0895 - val_acc: 0.9729\n",
      "Epoch 137/200\n",
      "48000/48000 [==============================] - 1s 20us/sample - loss: 0.1011 - acc: 0.9692 - val_loss: 0.0895 - val_acc: 0.9730\n",
      "Epoch 138/200\n",
      "48000/48000 [==============================] - 1s 19us/sample - loss: 0.0997 - acc: 0.9691 - val_loss: 0.0902 - val_acc: 0.9732\n",
      "Epoch 139/200\n",
      "48000/48000 [==============================] - 1s 21us/sample - loss: 0.1006 - acc: 0.9691 - val_loss: 0.0886 - val_acc: 0.9737\n",
      "Epoch 140/200\n",
      "48000/48000 [==============================] - 1s 19us/sample - loss: 0.0973 - acc: 0.9705 - val_loss: 0.0890 - val_acc: 0.9737\n",
      "Epoch 141/200\n",
      "48000/48000 [==============================] - 1s 19us/sample - loss: 0.0965 - acc: 0.9704 - val_loss: 0.0891 - val_acc: 0.9735\n",
      "Epoch 142/200\n",
      "48000/48000 [==============================] - 1s 19us/sample - loss: 0.0968 - acc: 0.9707 - val_loss: 0.0887 - val_acc: 0.9739\n",
      "Epoch 143/200\n",
      "48000/48000 [==============================] - 1s 19us/sample - loss: 0.0954 - acc: 0.9714 - val_loss: 0.0893 - val_acc: 0.9733\n",
      "Epoch 144/200\n",
      "48000/48000 [==============================] - 1s 19us/sample - loss: 0.0973 - acc: 0.9701 - val_loss: 0.0883 - val_acc: 0.9738\n",
      "Epoch 145/200\n",
      "48000/48000 [==============================] - 1s 20us/sample - loss: 0.0945 - acc: 0.9714 - val_loss: 0.0879 - val_acc: 0.9735\n",
      "Epoch 146/200\n",
      "48000/48000 [==============================] - 1s 19us/sample - loss: 0.0955 - acc: 0.9705 - val_loss: 0.0875 - val_acc: 0.9735\n",
      "Epoch 147/200\n",
      "48000/48000 [==============================] - 1s 20us/sample - loss: 0.0964 - acc: 0.9712 - val_loss: 0.0877 - val_acc: 0.9737\n",
      "Epoch 148/200\n",
      "48000/48000 [==============================] - 1s 19us/sample - loss: 0.0955 - acc: 0.9711 - val_loss: 0.0878 - val_acc: 0.9736\n",
      "Epoch 149/200\n",
      "48000/48000 [==============================] - 1s 21us/sample - loss: 0.0944 - acc: 0.9709 - val_loss: 0.0879 - val_acc: 0.9741\n",
      "Epoch 150/200\n",
      "48000/48000 [==============================] - 1s 20us/sample - loss: 0.0934 - acc: 0.9716 - val_loss: 0.0875 - val_acc: 0.9742\n",
      "Epoch 151/200\n",
      "48000/48000 [==============================] - 1s 20us/sample - loss: 0.0933 - acc: 0.9718 - val_loss: 0.0870 - val_acc: 0.9734\n",
      "Epoch 152/200\n",
      "48000/48000 [==============================] - 1s 20us/sample - loss: 0.0936 - acc: 0.9710 - val_loss: 0.0872 - val_acc: 0.9745\n",
      "Epoch 153/200\n",
      "48000/48000 [==============================] - 1s 20us/sample - loss: 0.0939 - acc: 0.9710 - val_loss: 0.0870 - val_acc: 0.9743\n",
      "Epoch 154/200\n",
      "48000/48000 [==============================] - 1s 20us/sample - loss: 0.0930 - acc: 0.9716 - val_loss: 0.0868 - val_acc: 0.9736\n",
      "Epoch 155/200\n",
      "48000/48000 [==============================] - 1s 20us/sample - loss: 0.0896 - acc: 0.9732 - val_loss: 0.0865 - val_acc: 0.9739\n",
      "Epoch 156/200\n",
      "48000/48000 [==============================] - 1s 22us/sample - loss: 0.0914 - acc: 0.9719 - val_loss: 0.0867 - val_acc: 0.9737\n",
      "Epoch 157/200\n",
      "48000/48000 [==============================] - 1s 19us/sample - loss: 0.0918 - acc: 0.9718 - val_loss: 0.0864 - val_acc: 0.9731\n",
      "Epoch 158/200\n",
      "48000/48000 [==============================] - 1s 20us/sample - loss: 0.0902 - acc: 0.9719 - val_loss: 0.0863 - val_acc: 0.9746\n",
      "Epoch 159/200\n",
      "48000/48000 [==============================] - 1s 20us/sample - loss: 0.0915 - acc: 0.9714 - val_loss: 0.0860 - val_acc: 0.9743\n",
      "Epoch 160/200\n",
      "48000/48000 [==============================] - 1s 20us/sample - loss: 0.0909 - acc: 0.9728 - val_loss: 0.0863 - val_acc: 0.9745\n",
      "Epoch 161/200\n",
      "48000/48000 [==============================] - 1s 19us/sample - loss: 0.0901 - acc: 0.9729 - val_loss: 0.0858 - val_acc: 0.9743\n",
      "Epoch 162/200\n",
      "48000/48000 [==============================] - 1s 25us/sample - loss: 0.0904 - acc: 0.9720 - val_loss: 0.0855 - val_acc: 0.9737\n",
      "Epoch 163/200\n",
      "48000/48000 [==============================] - 1s 20us/sample - loss: 0.0899 - acc: 0.9731 - val_loss: 0.0856 - val_acc: 0.9742\n",
      "Epoch 164/200\n",
      "48000/48000 [==============================] - 1s 27us/sample - loss: 0.0882 - acc: 0.9730 - val_loss: 0.0852 - val_acc: 0.9740\n",
      "Epoch 165/200\n",
      "48000/48000 [==============================] - 1s 20us/sample - loss: 0.0874 - acc: 0.9731 - val_loss: 0.0850 - val_acc: 0.9744\n",
      "Epoch 166/200\n",
      "48000/48000 [==============================] - 1s 19us/sample - loss: 0.0867 - acc: 0.9735 - val_loss: 0.0856 - val_acc: 0.9746\n",
      "Epoch 167/200\n",
      "48000/48000 [==============================] - 1s 21us/sample - loss: 0.0879 - acc: 0.9729 - val_loss: 0.0853 - val_acc: 0.9754\n",
      "Epoch 168/200\n",
      "48000/48000 [==============================] - 1s 21us/sample - loss: 0.0875 - acc: 0.9731 - val_loss: 0.0850 - val_acc: 0.9753\n",
      "Epoch 169/200\n",
      "48000/48000 [==============================] - 1s 20us/sample - loss: 0.0860 - acc: 0.9737 - val_loss: 0.0854 - val_acc: 0.9744\n",
      "Epoch 170/200\n",
      "48000/48000 [==============================] - 1s 20us/sample - loss: 0.0861 - acc: 0.9737 - val_loss: 0.0850 - val_acc: 0.9751\n",
      "Epoch 171/200\n",
      "48000/48000 [==============================] - 1s 21us/sample - loss: 0.0865 - acc: 0.9730 - val_loss: 0.0850 - val_acc: 0.9745\n",
      "Epoch 172/200\n",
      "48000/48000 [==============================] - 1s 20us/sample - loss: 0.0838 - acc: 0.9746 - val_loss: 0.0848 - val_acc: 0.9751\n",
      "Epoch 173/200\n",
      "48000/48000 [==============================] - 1s 20us/sample - loss: 0.0849 - acc: 0.9744 - val_loss: 0.0847 - val_acc: 0.9744\n",
      "Epoch 174/200\n",
      "48000/48000 [==============================] - 1s 20us/sample - loss: 0.0862 - acc: 0.9732 - val_loss: 0.0854 - val_acc: 0.9751\n"
     ]
    },
    {
     "name": "stdout",
     "output_type": "stream",
     "text": [
      "Epoch 175/200\n",
      "48000/48000 [==============================] - 1s 19us/sample - loss: 0.0847 - acc: 0.9735 - val_loss: 0.0850 - val_acc: 0.9748\n",
      "Epoch 176/200\n",
      "48000/48000 [==============================] - 1s 19us/sample - loss: 0.0843 - acc: 0.9744 - val_loss: 0.0853 - val_acc: 0.9749\n",
      "Epoch 177/200\n",
      "48000/48000 [==============================] - 1s 20us/sample - loss: 0.0837 - acc: 0.9747 - val_loss: 0.0854 - val_acc: 0.9741\n",
      "Epoch 178/200\n",
      "48000/48000 [==============================] - 1s 21us/sample - loss: 0.0834 - acc: 0.9752 - val_loss: 0.0846 - val_acc: 0.9750\n",
      "Epoch 179/200\n",
      "48000/48000 [==============================] - 1s 24us/sample - loss: 0.0855 - acc: 0.9737 - val_loss: 0.0841 - val_acc: 0.9746\n",
      "Epoch 180/200\n",
      "48000/48000 [==============================] - 1s 28us/sample - loss: 0.0806 - acc: 0.9750 - val_loss: 0.0840 - val_acc: 0.9753\n",
      "Epoch 181/200\n",
      "48000/48000 [==============================] - 1s 20us/sample - loss: 0.0824 - acc: 0.9744 - val_loss: 0.0839 - val_acc: 0.9751\n",
      "Epoch 182/200\n",
      "48000/48000 [==============================] - 1s 20us/sample - loss: 0.0824 - acc: 0.9748 - val_loss: 0.0841 - val_acc: 0.9752\n",
      "Epoch 183/200\n",
      "48000/48000 [==============================] - 1s 21us/sample - loss: 0.0809 - acc: 0.9745 - val_loss: 0.0847 - val_acc: 0.9751\n",
      "Epoch 184/200\n",
      "48000/48000 [==============================] - 1s 19us/sample - loss: 0.0818 - acc: 0.9744 - val_loss: 0.0835 - val_acc: 0.9748\n",
      "Epoch 185/200\n",
      "48000/48000 [==============================] - 1s 19us/sample - loss: 0.0823 - acc: 0.9749 - val_loss: 0.0838 - val_acc: 0.9749\n",
      "Epoch 186/200\n",
      "48000/48000 [==============================] - 1s 20us/sample - loss: 0.0799 - acc: 0.9752 - val_loss: 0.0832 - val_acc: 0.9748\n",
      "Epoch 187/200\n",
      "48000/48000 [==============================] - 1s 24us/sample - loss: 0.0812 - acc: 0.9747 - val_loss: 0.0832 - val_acc: 0.9747\n",
      "Epoch 188/200\n",
      "48000/48000 [==============================] - 1s 20us/sample - loss: 0.0794 - acc: 0.9752 - val_loss: 0.0833 - val_acc: 0.9744\n",
      "Epoch 189/200\n",
      "48000/48000 [==============================] - 1s 21us/sample - loss: 0.0786 - acc: 0.9757 - val_loss: 0.0832 - val_acc: 0.9747\n",
      "Epoch 190/200\n",
      "48000/48000 [==============================] - 1s 20us/sample - loss: 0.0784 - acc: 0.9754 - val_loss: 0.0831 - val_acc: 0.9751\n",
      "Epoch 191/200\n",
      "48000/48000 [==============================] - 1s 20us/sample - loss: 0.0805 - acc: 0.9747 - val_loss: 0.0830 - val_acc: 0.9752\n",
      "Epoch 192/200\n",
      "48000/48000 [==============================] - 1s 23us/sample - loss: 0.0780 - acc: 0.9757 - val_loss: 0.0832 - val_acc: 0.9756\n",
      "Epoch 193/200\n",
      "48000/48000 [==============================] - 1s 22us/sample - loss: 0.0762 - acc: 0.9764 - val_loss: 0.0826 - val_acc: 0.9753\n",
      "Epoch 194/200\n",
      "48000/48000 [==============================] - 1s 25us/sample - loss: 0.0801 - acc: 0.9755 - val_loss: 0.0829 - val_acc: 0.9751\n",
      "Epoch 195/200\n",
      "48000/48000 [==============================] - 1s 21us/sample - loss: 0.0799 - acc: 0.9746 - val_loss: 0.0828 - val_acc: 0.9747\n",
      "Epoch 196/200\n",
      "48000/48000 [==============================] - 1s 22us/sample - loss: 0.0791 - acc: 0.9759 - val_loss: 0.0825 - val_acc: 0.9759\n",
      "Epoch 197/200\n",
      "48000/48000 [==============================] - 1s 21us/sample - loss: 0.0773 - acc: 0.9761 - val_loss: 0.0825 - val_acc: 0.9753\n",
      "Epoch 198/200\n",
      "48000/48000 [==============================] - 1s 22us/sample - loss: 0.0765 - acc: 0.9758 - val_loss: 0.0831 - val_acc: 0.9758\n",
      "Epoch 199/200\n",
      "48000/48000 [==============================] - 1s 21us/sample - loss: 0.0753 - acc: 0.9763 - val_loss: 0.0823 - val_acc: 0.9753\n",
      "Epoch 200/200\n",
      "48000/48000 [==============================] - 1s 22us/sample - loss: 0.0742 - acc: 0.9769 - val_loss: 0.0822 - val_acc: 0.9753\n",
      "CPU times: user 4min 22s, sys: 30.7 s, total: 4min 53s\n",
      "Wall time: 3min 27s\n"
     ]
    }
   ],
   "source": [
    "%%time \n",
    "\n",
    "history = model.fit(X_train, Y_train,\n",
    "                    batch_size=BATCH_SIZE, \n",
    "                    epochs=NB_EPOCH,\n",
    "                    verbose=VERBOSE, \n",
    "                    validation_split=VALIDATION_SPLIT)"
   ]
  },
  {
   "cell_type": "code",
   "execution_count": 27,
   "metadata": {},
   "outputs": [
    {
     "name": "stdout",
     "output_type": "stream",
     "text": [
      "10000/10000 [==============================] - 0s 29us/sample - loss: 0.0771 - acc: 0.9765\n",
      "\n",
      "Test score: 0.07712876591312233\n",
      "Test accuracy: 0.9765\n"
     ]
    }
   ],
   "source": [
    "score = model.evaluate(X_test, Y_test, verbose=VERBOSE)\n",
    "\n",
    "print(\"\\nTest score:\", score[0])\n",
    "print('Test accuracy:', score[1])"
   ]
  },
  {
   "cell_type": "markdown",
   "metadata": {},
   "source": [
    "---"
   ]
  },
  {
   "cell_type": "code",
   "execution_count": 28,
   "metadata": {},
   "outputs": [],
   "source": [
    "import matplotlib.pyplot as plt"
   ]
  },
  {
   "cell_type": "code",
   "execution_count": 29,
   "metadata": {},
   "outputs": [
    {
     "data": {
      "text/plain": [
       "dict_keys(['loss', 'acc', 'val_loss', 'val_acc'])"
      ]
     },
     "execution_count": 29,
     "metadata": {},
     "output_type": "execute_result"
    }
   ],
   "source": [
    "history_dict = history.history\n",
    "history_dict.keys()"
   ]
  },
  {
   "cell_type": "code",
   "execution_count": 30,
   "metadata": {},
   "outputs": [
    {
     "data": {
      "image/png": "[encoded data removed]",
      "text/plain": [
       "<Figure size 432x288 with 1 Axes>"
      ]
     },
     "metadata": {
      "needs_background": "light"
     },
     "output_type": "display_data"
    }
   ],
   "source": [
    "acc = history.history['acc']\n",
    "val_acc = history.history['val_acc']\n",
    "loss = history.history['loss']\n",
    "val_loss = history.history['val_loss']\n",
    "\n",
    "epochs = range(1, len(acc) + 1)\n",
    "plt.plot(epochs, loss, 'b', label='Training loss')\n",
    "plt.plot(epochs, val_loss, 'r', label='Validation loss')\n",
    "plt.title('Training and validation loss')\n",
    "plt.xlabel('Epochs')\n",
    "plt.ylabel('Loss')\n",
    "plt.legend()\n",
    "\n",
    "plt.show()"
   ]
  },
  {
   "cell_type": "code",
   "execution_count": 31,
   "metadata": {},
   "outputs": [
    {
     "data": {
      "image/png": "[encoded data removed]",
      "text/plain": [
       "<Figure size 432x288 with 1 Axes>"
      ]
     },
     "metadata": {
      "needs_background": "light"
     },
     "output_type": "display_data"
    }
   ],
   "source": [
    "plt.clf()   # clear figure\n",
    "acc_values = history_dict['acc']\n",
    "val_acc_values = history_dict['val_acc']\n",
    "\n",
    "plt.plot(epochs, acc, 'b', label='Training acc')\n",
    "plt.plot(epochs, val_acc, 'r', label='Validation acc')\n",
    "plt.title('Training and validation accuracy')\n",
    "plt.xlabel('Epochs')\n",
    "plt.ylabel('Accuracy')\n",
    "plt.legend()\n",
    "\n",
    "plt.show()"
   ]
  },
  {
   "cell_type": "markdown",
   "metadata": {},
   "source": [
    "---"
   ]
  },
  {
   "cell_type": "code",
   "execution_count": 1,
   "metadata": {},
   "outputs": [],
   "source": [
    "import tensorflow as tf\n",
    "from tensorflow import keras\n",
    "from tensorflow.python.client import device_lib"
   ]
  },
  {
   "cell_type": "code",
   "execution_count": 2,
   "metadata": {},
   "outputs": [
    {
     "name": "stdout",
     "output_type": "stream",
     "text": [
      "tensorflow: 1.13.1\n",
      "keras: 2.2.4-tf\n",
      "no GPU device found\n"
     ]
    }
   ],
   "source": [
    "print('tensorflow:', tf.__version__)\n",
    "print('keras:', keras.__version__)\n",
    "\n",
    "if tf.test.is_built_with_cuda():\n",
    "    print('GPU devices:\\n  ',\n",
    "        [ [x.name, x.physical_device_desc] \n",
    "          for x in device_lib.list_local_devices() \n",
    "          if x.device_type == 'GPU' ]\n",
    "    )\n",
    "    print('default GPU device:', tf.test.gpu_device_name() )\n",
    "\n",
    "else:\n",
    "    print('no GPU device found')\n",
    "    "
   ]
  }
 ],
 "metadata": {
  "kernelspec": {
   "display_name": "Python 3",
   "language": "python",
   "name": "python3"
  },
  "language_info": {
   "codemirror_mode": {
    "name": "ipython",
    "version": 3
   },
   "file_extension": ".py",
   "mimetype": "text/x-python",
   "name": "python",
   "nbconvert_exporter": "python",
   "pygments_lexer": "ipython3",
   "version": "3.7.3"
  },
  "toc": {
   "base_numbering": 1,
   "nav_menu": {},
   "number_sections": true,
   "sideBar": true,
   "skip_h1_title": false,
   "title_cell": "Table of Contents",
   "title_sidebar": "Contents",
   "toc_cell": false,
   "toc_position": {},
   "toc_section_display": true,
   "toc_window_display": false
  }
 },
 "nbformat": 4,
 "nbformat_minor": 2
}
