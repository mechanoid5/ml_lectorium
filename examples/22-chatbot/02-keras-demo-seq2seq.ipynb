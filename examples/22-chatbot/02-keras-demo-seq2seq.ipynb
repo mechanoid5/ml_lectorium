{
 "cells": [
  {
   "cell_type": "code",
   "execution_count": 1,
   "metadata": {},
   "outputs": [],
   "source": [
    "# '''\n",
    "# #Sequence to sequence example in Keras (character-level).\n",
    "\n",
    "# This script demonstrates how to implement a basic character-level\n",
    "# sequence-to-sequence model. We apply it to translating\n",
    "# short English sentences into short French sentences,\n",
    "# character-by-character. Note that it is fairly unusual to\n",
    "# do character-level machine translation, as word-level\n",
    "# models are more common in this domain.\n",
    "\n",
    "# **Summary of the algorithm**\n",
    "\n",
    "# - We start with input sequences from a domain (e.g. English sentences)\n",
    "#     and corresponding target sequences from another domain\n",
    "#     (e.g. French sentences).\n",
    "# - An encoder LSTM turns input sequences to 2 state vectors\n",
    "#     (we keep the last LSTM state and discard the outputs).\n",
    "# - A decoder LSTM is trained to turn the target sequences into\n",
    "#     the same sequence but offset by one timestep in the future,\n",
    "#     a training process called \"teacher forcing\" in this context.\n",
    "#     It uses as initial state the state vectors from the encoder.\n",
    "#     Effectively, the decoder learns to generate `targets[t+1...]`\n",
    "#     given `targets[...t]`, conditioned on the input sequence.\n",
    "# - In inference mode, when we want to decode unknown input sequences, we:\n",
    "#     - Encode the input sequence into state vectors\n",
    "#     - Start with a target sequence of size 1\n",
    "#         (just the start-of-sequence character)\n",
    "#     - Feed the state vectors and 1-char target sequence\n",
    "#         to the decoder to produce predictions for the next character\n",
    "#     - Sample the next character using these predictions\n",
    "#         (we simply use argmax).\n",
    "#     - Append the sampled character to the target sequence\n",
    "#     - Repeat until we generate the end-of-sequence character or we\n",
    "#         hit the character limit.\n",
    "\n",
    "# **Data download**\n",
    "\n",
    "# [English to French sentence pairs.\n",
    "# ](http://www.manythings.org/anki/fra-eng.zip)\n",
    "\n",
    "# [Lots of neat sentence pairs datasets.\n",
    "# ](http://www.manythings.org/anki/)\n",
    "\n",
    "# **References**\n",
    "\n",
    "# - [Sequence to Sequence Learning with Neural Networks\n",
    "#    ](https://arxiv.org/abs/1409.3215)\n",
    "# - [Learning Phrase Representations using\n",
    "#     RNN Encoder-Decoder for Statistical Machine Translation\n",
    "#     ](https://arxiv.org/abs/1406.1078)\n",
    "# '''"
   ]
  },
  {
   "cell_type": "code",
   "execution_count": 2,
   "metadata": {},
   "outputs": [
    {
     "name": "stderr",
     "output_type": "stream",
     "text": [
      "Using TensorFlow backend.\n"
     ]
    }
   ],
   "source": [
    "from keras.models import Model\n",
    "from keras.layers import Input, LSTM, Dense\n",
    "import numpy as np"
   ]
  },
  {
   "cell_type": "code",
   "execution_count": 3,
   "metadata": {},
   "outputs": [],
   "source": [
    "batch_size = 64  # Batch size for training.\n",
    "epochs = 100 # Number of epochs to train for.\n",
    "latent_dim = 256  # Latent dimensionality of the encoding space.\n",
    "num_samples = 10000  # Number of samples to train on.\n",
    "# Path to the data txt file on disk.\n",
    "data_path = '../data/text/rus-eng/rus.txt'"
   ]
  },
  {
   "cell_type": "code",
   "execution_count": 4,
   "metadata": {},
   "outputs": [
    {
     "name": "stdout",
     "output_type": "stream",
     "text": [
      "Number of samples: 10000\n",
      "Number of unique input tokens: 72\n",
      "Number of unique output tokens: 92\n",
      "Max sequence length for inputs: 14\n",
      "Max sequence length for outputs: 60\n"
     ]
    }
   ],
   "source": [
    "# Vectorize the data.\n",
    "input_texts = []\n",
    "target_texts = []\n",
    "input_characters = set()\n",
    "target_characters = set()\n",
    "with open(data_path, 'rt', encoding='utf-8') as f:\n",
    "    lines = f.read().split('\\n')\n",
    "    \n",
    "for line in lines[: min(num_samples, len(lines) - 1)]:\n",
    "    input_text, target_text = line.split('\\t')\n",
    "    # We use \"tab\" as the \"start sequence\" character\n",
    "    # for the targets, and \"\\n\" as \"end sequence\" character.\n",
    "    target_text = '\\t' + target_text + '\\n'\n",
    "    input_texts.append(input_text)\n",
    "    target_texts.append(target_text)\n",
    "    for char in input_text:\n",
    "        if char not in input_characters:\n",
    "            input_characters.add(char)\n",
    "    for char in target_text:\n",
    "        if char not in target_characters:\n",
    "            target_characters.add(char)\n",
    "\n",
    "input_characters = sorted(list(input_characters))\n",
    "target_characters = sorted(list(target_characters))\n",
    "num_encoder_tokens = len(input_characters)\n",
    "num_decoder_tokens = len(target_characters)\n",
    "max_encoder_seq_length = max([len(txt) for txt in input_texts])\n",
    "max_decoder_seq_length = max([len(txt) for txt in target_texts])\n",
    "\n",
    "print('Number of samples:', len(input_texts))\n",
    "print('Number of unique input tokens:', num_encoder_tokens)\n",
    "print('Number of unique output tokens:', num_decoder_tokens)\n",
    "print('Max sequence length for inputs:', max_encoder_seq_length)\n",
    "print('Max sequence length for outputs:', max_decoder_seq_length)"
   ]
  },
  {
   "cell_type": "code",
   "execution_count": 5,
   "metadata": {},
   "outputs": [],
   "source": [
    "# input_token_index = dict( [(char, i) for i, char in enumerate(input_characters)])\n",
    "# target_token_index = dict( [(char, i) for i, char in enumerate(target_characters)])\n",
    "\n",
    "input_token_index = { char:i for i, char in enumerate(input_characters) }\n",
    "target_token_index = { char:i  for i, char in enumerate(target_characters) }"
   ]
  },
  {
   "cell_type": "code",
   "execution_count": 6,
   "metadata": {},
   "outputs": [],
   "source": [
    "# input_token_index\n",
    "# target_token_index"
   ]
  },
  {
   "cell_type": "code",
   "execution_count": 7,
   "metadata": {},
   "outputs": [],
   "source": [
    "encoder_input_data = np.zeros( (len(input_texts), max_encoder_seq_length, num_encoder_tokens), dtype='float32')\n",
    "decoder_input_data = np.zeros( (len(input_texts), max_decoder_seq_length, num_decoder_tokens), dtype='float32')\n",
    "decoder_target_data = np.zeros((len(input_texts), max_decoder_seq_length, num_decoder_tokens), dtype='float32')"
   ]
  },
  {
   "cell_type": "code",
   "execution_count": 8,
   "metadata": {},
   "outputs": [],
   "source": [
    "for i, (input_text, target_text) in enumerate(zip(input_texts, target_texts)):\n",
    "    for t, char in enumerate(input_text):\n",
    "        encoder_input_data[i, t, input_token_index[char]] = 1.\n",
    "        \n",
    "    for t, char in enumerate(target_text):\n",
    "        # decoder_target_data is ahead of decoder_input_data by one timestep\n",
    "        decoder_input_data[i, t, target_token_index[char]] = 1.\n",
    "        if t > 0:\n",
    "            # decoder_target_data will be ahead by one timestep\n",
    "            # and will not include the start character.\n",
    "            decoder_target_data[i, t - 1, target_token_index[char]] = 1."
   ]
  },
  {
   "cell_type": "code",
   "execution_count": 9,
   "metadata": {},
   "outputs": [
    {
     "name": "stdout",
     "output_type": "stream",
     "text": [
      "WARNING:tensorflow:From /usr/lib/python3.7/site-packages/tensorflow/python/framework/op_def_library.py:263: colocate_with (from tensorflow.python.framework.ops) is deprecated and will be removed in a future version.\n",
      "Instructions for updating:\n",
      "Colocations handled automatically by placer.\n"
     ]
    }
   ],
   "source": [
    "# Define an input sequence and process it.\n",
    "encoder_inputs = Input(shape=(None, num_encoder_tokens))\n",
    "encoder = LSTM(latent_dim, return_state=True)\n",
    "encoder_outputs, state_h, state_c = encoder(encoder_inputs)\n",
    "# We discard `encoder_outputs` and only keep the states.\n",
    "encoder_states = [state_h, state_c]\n",
    "\n",
    "# Set up the decoder, using `encoder_states` as initial state.\n",
    "decoder_inputs = Input(shape=(None, num_decoder_tokens))\n",
    "# We set up our decoder to return full output sequences,\n",
    "# and to return internal states as well. We don't use the\n",
    "# return states in the training model, but we will use them in inference.\n",
    "decoder_lstm = LSTM(latent_dim, return_sequences=True, return_state=True)\n",
    "decoder_outputs, _, _ = decoder_lstm(decoder_inputs,initial_state=encoder_states)\n",
    "decoder_dense = Dense(num_decoder_tokens, activation='softmax')\n",
    "decoder_outputs = decoder_dense(decoder_outputs)\n",
    "\n",
    "# Define the model that will turn\n",
    "# `encoder_input_data` & `decoder_input_data` into `decoder_target_data`\n",
    "model = Model([encoder_inputs, decoder_inputs], decoder_outputs)"
   ]
  },
  {
   "cell_type": "code",
   "execution_count": 10,
   "metadata": {},
   "outputs": [
    {
     "name": "stdout",
     "output_type": "stream",
     "text": [
      "__________________________________________________________________________________________________\n",
      "Layer (type)                    Output Shape         Param #     Connected to                     \n",
      "==================================================================================================\n",
      "input_1 (InputLayer)            (None, None, 72)     0                                            \n",
      "__________________________________________________________________________________________________\n",
      "input_2 (InputLayer)            (None, None, 92)     0                                            \n",
      "__________________________________________________________________________________________________\n",
      "lstm_1 (LSTM)                   [(None, 256), (None, 336896      input_1[0][0]                    \n",
      "__________________________________________________________________________________________________\n",
      "lstm_2 (LSTM)                   [(None, None, 256),  357376      input_2[0][0]                    \n",
      "                                                                 lstm_1[0][1]                     \n",
      "                                                                 lstm_1[0][2]                     \n",
      "__________________________________________________________________________________________________\n",
      "dense_1 (Dense)                 (None, None, 92)     23644       lstm_2[0][0]                     \n",
      "==================================================================================================\n",
      "Total params: 717,916\n",
      "Trainable params: 717,916\n",
      "Non-trainable params: 0\n",
      "__________________________________________________________________________________________________\n"
     ]
    }
   ],
   "source": [
    "model.summary()"
   ]
  },
  {
   "cell_type": "code",
   "execution_count": 11,
   "metadata": {},
   "outputs": [],
   "source": [
    "# Run training\n",
    "model.compile(optimizer='rmsprop', loss='categorical_crossentropy')"
   ]
  },
  {
   "cell_type": "code",
   "execution_count": 12,
   "metadata": {},
   "outputs": [
    {
     "name": "stdout",
     "output_type": "stream",
     "text": [
      "WARNING:tensorflow:From /usr/lib/python3.7/site-packages/tensorflow/python/ops/math_ops.py:3066: to_int32 (from tensorflow.python.ops.math_ops) is deprecated and will be removed in a future version.\n",
      "Instructions for updating:\n",
      "Use tf.cast instead.\n",
      "WARNING:tensorflow:From /usr/lib/python3.7/site-packages/tensorflow/python/ops/math_grad.py:102: div (from tensorflow.python.ops.math_ops) is deprecated and will be removed in a future version.\n",
      "Instructions for updating:\n",
      "Deprecated in favor of operator or tf.math.divide.\n",
      "Train on 8000 samples, validate on 2000 samples\n",
      "Epoch 1/10\n",
      "8000/8000 [==============================] - 25s 3ms/step - loss: 0.7440 - val_loss: 0.7862\n",
      "Epoch 2/10\n",
      "8000/8000 [==============================] - 24s 3ms/step - loss: 0.6189 - val_loss: 0.6523\n",
      "Epoch 3/10\n",
      "8000/8000 [==============================] - 24s 3ms/step - loss: 0.5311 - val_loss: 0.6008\n",
      "Epoch 4/10\n",
      "8000/8000 [==============================] - 24s 3ms/step - loss: 0.4898 - val_loss: 0.5688\n",
      "Epoch 5/10\n",
      "8000/8000 [==============================] - 24s 3ms/step - loss: 0.4603 - val_loss: 0.5531\n",
      "Epoch 6/10\n",
      "8000/8000 [==============================] - 24s 3ms/step - loss: 0.4352 - val_loss: 0.5275\n",
      "Epoch 7/10\n",
      "8000/8000 [==============================] - 24s 3ms/step - loss: 0.4144 - val_loss: 0.5183\n",
      "Epoch 8/10\n",
      "8000/8000 [==============================] - 24s 3ms/step - loss: 0.3959 - val_loss: 0.5061\n",
      "Epoch 9/10\n",
      "8000/8000 [==============================] - 24s 3ms/step - loss: 0.3785 - val_loss: 0.4928\n",
      "Epoch 10/10\n",
      "8000/8000 [==============================] - 24s 3ms/step - loss: 0.3628 - val_loss: 0.4826\n",
      "CPU times: user 2min 56s, sys: 1min 3s, total: 4min\n",
      "Wall time: 3min 59s\n"
     ]
    }
   ],
   "source": [
    "%%time \n",
    "\n",
    "history = model.fit([encoder_input_data, decoder_input_data], decoder_target_data,\n",
    "          batch_size=batch_size,\n",
    "          epochs=epochs,\n",
    "          validation_split=0.2)"
   ]
  },
  {
   "cell_type": "code",
   "execution_count": 13,
   "metadata": {},
   "outputs": [],
   "source": [
    "# Save model\n",
    "# model.save('s2s.h5')"
   ]
  },
  {
   "cell_type": "markdown",
   "metadata": {},
   "source": [
    "---"
   ]
  },
  {
   "cell_type": "code",
   "execution_count": 14,
   "metadata": {},
   "outputs": [],
   "source": [
    "# Next: inference mode (sampling).\n",
    "# Here's the drill:\n",
    "# 1) encode input and retrieve initial decoder state\n",
    "# 2) run one step of decoder with this initial state\n",
    "# and a \"start of sequence\" token as target.\n",
    "# Output will be the next target token\n",
    "# 3) Repeat with the current target token and current states\n",
    "\n",
    "# Define sampling models\n",
    "encoder_model = Model(encoder_inputs, encoder_states)\n",
    "\n",
    "decoder_state_input_h = Input(shape=(latent_dim,))\n",
    "decoder_state_input_c = Input(shape=(latent_dim,))\n",
    "decoder_states_inputs = [decoder_state_input_h, decoder_state_input_c]\n",
    "decoder_outputs, state_h, state_c = decoder_lstm(decoder_inputs, initial_state=decoder_states_inputs)\n",
    "decoder_states = [state_h, state_c]\n",
    "decoder_outputs = decoder_dense(decoder_outputs)\n",
    "decoder_model = Model( [decoder_inputs] + decoder_states_inputs, [decoder_outputs] + decoder_states)"
   ]
  },
  {
   "cell_type": "code",
   "execution_count": 15,
   "metadata": {},
   "outputs": [],
   "source": [
    "# Reverse-lookup token index to decode sequences back to something readable.\n",
    "# reverse_input_char_index = dict(  (i, char) for char, i in input_token_index.items())\n",
    "# reverse_target_char_index = dict( (i, char) for char, i in target_token_index.items())\n",
    "\n",
    "reverse_input_char_index = { i:char for char,i in input_token_index.items() }\n",
    "reverse_target_char_index = { i:char for char,i in target_token_index.items() }"
   ]
  },
  {
   "cell_type": "code",
   "execution_count": 16,
   "metadata": {},
   "outputs": [],
   "source": [
    "def decode_sequence(input_seq):\n",
    "    # Encode the input as state vectors.\n",
    "    states_value = encoder_model.predict(input_seq)\n",
    "\n",
    "    # Generate empty target sequence of length 1.\n",
    "    target_seq = np.zeros((1, 1, num_decoder_tokens))\n",
    "    # Populate the first character of target sequence with the start character.\n",
    "    target_seq[0, 0, target_token_index['\\t']] = 1.\n",
    "\n",
    "    # Sampling loop for a batch of sequences\n",
    "    # (to simplify, here we assume a batch of size 1).\n",
    "    stop_condition = False\n",
    "    decoded_sentence = ''\n",
    "    while not stop_condition:\n",
    "        output_tokens, h, c = decoder_model.predict(\n",
    "            [target_seq] + states_value)\n",
    "\n",
    "        # Sample a token\n",
    "        sampled_token_index = np.argmax(output_tokens[0, -1, :])\n",
    "        sampled_char = reverse_target_char_index[sampled_token_index]\n",
    "        decoded_sentence += sampled_char\n",
    "\n",
    "        # Exit condition: either hit max length\n",
    "        # or find stop character.\n",
    "        if (sampled_char == '\\n' or\n",
    "           len(decoded_sentence) > max_decoder_seq_length):\n",
    "            stop_condition = True\n",
    "\n",
    "        # Update the target sequence (of length 1).\n",
    "        target_seq = np.zeros((1, 1, num_decoder_tokens))\n",
    "        target_seq[0, 0, sampled_token_index] = 1.\n",
    "\n",
    "        # Update states\n",
    "        states_value = [h, c]\n",
    "\n",
    "    return decoded_sentence"
   ]
  },
  {
   "cell_type": "code",
   "execution_count": 17,
   "metadata": {},
   "outputs": [
    {
     "name": "stdout",
     "output_type": "stream",
     "text": [
      "You're fired.  ->  Ты страсный.\n",
      "\n",
      "I'm so proud.  ->  Я не постраен.\n",
      "\n",
      "He relented.  ->  Он пострелил.\n",
      "\n",
      "It's fun.  ->  Это странно.\n",
      "\n",
      "They help us.  ->  Они победили.\n",
      "\n",
      "You're vain.  ->  Ты страсный.\n",
      "\n",
      "Ask around.  ->  Подерь это.\n",
      "\n",
      "Stop here.  ->  Постаньте его.\n",
      "\n",
      "We're inside.  ->  Мы победием.\n",
      "\n",
      "I apologize.  ->  Я пострали.\n",
      "\n",
      "It was useful.  ->  Это было прасто.\n",
      "\n",
      "I'm cured.  ->  Я не постраен.\n",
      "\n",
      "Go back home.  ->  Иди за мно.\n",
      "\n",
      "Replace it.  ->  Поделжайтесь.\n",
      "\n",
      "He made me go.  ->  Он пострали.\n",
      "\n",
      "I'll miss Tom.  ->  Я пострали.\n",
      "\n",
      "He dug a hole.  ->  Он пострали.\n",
      "\n",
      "We're scared.  ->  Мы победием.\n",
      "\n",
      "Don't forget.  ->  Не простивей.\n",
      "\n",
      "Wake them up.  ->  Подолжайте споть.\n",
      "\n",
      "Stay there.  ->  Поделжайтесь.\n",
      "\n",
      "I need a hat.  ->  Я победула.\n",
      "\n",
      "We feel safe.  ->  Мы победили.\n",
      "\n",
      "Keep trying.  ->  Продолжайте споть.\n",
      "\n",
      "Smell this.  ->  Позволи Тома.\n",
      "\n",
      "It works.  ->  Это было прасто.\n",
      "\n",
      "Pick him up.  ->  Подомите его.\n",
      "\n",
      "Who'll come?  ->  Кто победил?\n",
      "\n",
      "I'm thin.  ->  Я не постраен.\n",
      "\n",
      "I'm a singer.  ->  Я не постраен.\n",
      "\n",
      "Was I wrong?  ->  Можно может пойдить?\n",
      "\n",
      "We are boys.  ->  Мы победили.\n",
      "\n",
      "Tom is crazy.  ->  Том пострелил.\n",
      "\n",
      "Is Tom hungry?  ->  Это странно.\n",
      "\n",
      "Tom needs it.  ->  Том померял.\n",
      "\n",
      "I'm a waiter.  ->  Я не постраен.\n",
      "\n",
      "I'm shocked.  ->  Я не постраен.\n",
      "\n",
      "I am afraid.  ->  Я не пострали.\n",
      "\n",
      "Take care.  ->  Возьми мое.\n",
      "\n",
      "I felt awful.  ->  Я подела себя.\n",
      "\n",
      "God bless you!  ->  Иди за мно.\n",
      "\n",
      "Call a doctor.  ->  Позволи Тома.\n",
      "\n",
      "I need a coat.  ->  Я не постали.\n",
      "\n",
      "Taste it.  ->  Попробуйте это.\n",
      "\n",
      "Stop it.  ->  Простать его.\n",
      "\n",
      "It had snowed.  ->  Это было прасто.\n",
      "\n",
      "You know me.  ->  Ты может пойти.\n",
      "\n",
      "I am hungry.  ->  Я не пострали.\n",
      "\n",
      "Get lost.  ->  Постовайтесь.\n",
      "\n",
      "I'm loaded.  ->  Я не постраен.\n",
      "\n",
      "You're vain.  ->  Ты страсный.\n",
      "\n",
      "You may go.  ->  Ты может пойти.\n",
      "\n",
      "I know now.  ->  Я постоваю.\n",
      "\n",
      "I miss you.  ->  Я не постраен.\n",
      "\n",
      "I'm so happy.  ->  Я не постраен.\n",
      "\n",
      "It was mine.  ->  Это было прасто.\n",
      "\n",
      "I was angry.  ->  Я пострали.\n",
      "\n",
      "I was unlucky.  ->  Я победула.\n",
      "\n",
      "I was invited.  ->  Я пострали.\n",
      "\n",
      "Can you wait?  ->  Вы может пойти?\n",
      "\n",
      "I'm awake.  ->  Я не постраен.\n",
      "\n",
      "Take it back.  ->  Возьми мое.\n",
      "\n",
      "Go sit down.  ->  Иди за мно.\n",
      "\n",
      "We hired Tom.  ->  Мы победили.\n",
      "\n",
      "We are men.  ->  Мы победили.\n",
      "\n",
      "Do they know?  ->  Не победите?\n",
      "\n",
      "I'm not fat.  ->  Я не постраен.\n",
      "\n",
      "I'm ruthless.  ->  Я не постраен.\n",
      "\n",
      "I'll go home.  ->  Я пострали.\n",
      "\n",
      "Tom told him.  ->  Том пострелил.\n",
      "\n",
      "You're sick!  ->  Ты страсный.\n",
      "\n",
      "I rescued her.  ->  Я пострали.\n",
      "\n",
      "We must act.  ->  Мы победили.\n",
      "\n",
      "Shame on you.  ->  Подель это.\n",
      "\n",
      "You're fired.  ->  Ты страсный.\n",
      "\n",
      "Is it broken?  ->  Это странно.\n",
      "\n",
      "That's hers.  ->  Это тровот.\n",
      "\n",
      "Don't respond.  ->  Не простивей.\n",
      "\n",
      "Tom teaches.  ->  Том пострелил.\n",
      "\n",
      "Will you go?  ->  Подель?\n",
      "\n",
      "I am so sick.  ->  Я не пострали.\n",
      "\n",
      "Pick a card.  ->  Подель стакайте.\n",
      "\n",
      "Get well soon!  ->  Постовите Тома.\n",
      "\n",
      "She's stupid.  ->  Она победил.\n",
      "\n",
      "Are you cold?  ->  Ты в безпаести?\n",
      "\n",
      "Tom loves us.  ->  Том пострелил.\n",
      "\n",
      "I was wet.  ->  Я пострали.\n",
      "\n",
      "Why not both?  ->  Кто победил?\n",
      "\n",
      "We're back.  ->  Мы победием.\n",
      "\n",
      "It's bad news.  ->  Это странно.\n",
      "\n",
      "They hate me.  ->  Они победили.\n",
      "\n",
      "I saw him cry.  ->  Я пострали.\n",
      "\n",
      "Stay alert.  ->  Поделжайтесь.\n",
      "\n",
      "I'm a liar.  ->  Я не постраен.\n",
      "\n",
      "I'll stop.  ->  Я пострали.\n",
      "\n",
      "Stay sharp.  ->  Поделжайте споть.\n",
      "\n",
      "I'm wet.  ->  Я не постраен.\n",
      "\n",
      "Did Tom run?  ->  Том померял?\n",
      "\n",
      "Is Tom young?  ->  Том пострал?\n",
      "\n",
      "We like Tom.  ->  Мы победили.\n",
      "\n"
     ]
    }
   ],
   "source": [
    "ii = np.random.permutation(len(encoder_input_data))[:100]\n",
    "for seq_index in ii:\n",
    "    input_seq = encoder_input_data[seq_index: seq_index + 1]\n",
    "    decoded_sentence = decode_sequence(input_seq)\n",
    "    print( input_texts[seq_index],' -> ', decoded_sentence)"
   ]
  },
  {
   "cell_type": "code",
   "execution_count": 18,
   "metadata": {},
   "outputs": [],
   "source": [
    "# for seq_index in range(100):\n",
    "#     # Take one sequence (part of the training set)\n",
    "#     # for trying out decoding.\n",
    "#     input_seq = encoder_input_data[seq_index: seq_index + 1]\n",
    "#     decoded_sentence = decode_sequence(input_seq)\n",
    "#     print('-')\n",
    "#     print('Input sentence:', input_texts[seq_index])\n",
    "#     print('Decoded sentence:', decoded_sentence)"
   ]
  },
  {
   "cell_type": "markdown",
   "metadata": {},
   "source": [
    "---"
   ]
  },
  {
   "cell_type": "code",
   "execution_count": 19,
   "metadata": {},
   "outputs": [],
   "source": [
    "import matplotlib.pyplot as plt"
   ]
  },
  {
   "cell_type": "code",
   "execution_count": 20,
   "metadata": {},
   "outputs": [
    {
     "data": {
      "text/plain": [
       "dict_keys(['val_loss', 'loss'])"
      ]
     },
     "execution_count": 20,
     "metadata": {},
     "output_type": "execute_result"
    }
   ],
   "source": [
    "history_dict = history.history\n",
    "history_dict.keys()"
   ]
  },
  {
   "cell_type": "code",
   "execution_count": 21,
   "metadata": {},
   "outputs": [
    {
     "data": {
      "image/png": "[encoded data removed]",
      "text/plain": [
       "<Figure size 432x288 with 1 Axes>"
      ]
     },
     "metadata": {
      "needs_background": "light"
     },
     "output_type": "display_data"
    }
   ],
   "source": [
    "loss = history.history['loss']\n",
    "val_loss = history.history['val_loss']\n",
    "\n",
    "epochs = range(1, len(loss) + 1)\n",
    "plt.plot(epochs, loss, 'b', label='Training loss')\n",
    "plt.plot(epochs, val_loss, 'r', label='Validation loss')\n",
    "plt.title('Training and validation loss')\n",
    "plt.xlabel('Epochs')\n",
    "plt.ylabel('Loss')\n",
    "plt.legend()\n",
    "\n",
    "plt.show()"
   ]
  },
  {
   "cell_type": "code",
   "execution_count": 22,
   "metadata": {},
   "outputs": [],
   "source": [
    "# plt.clf()   # clear figure\n",
    "# acc_values = history_dict['acc']\n",
    "# val_acc_values = history_dict['val_acc']\n",
    "\n",
    "# plt.plot(epochs, acc, 'b', label='Training acc')\n",
    "# plt.plot(epochs, val_acc, 'r', label='Validation acc')\n",
    "# plt.title('Training and validation accuracy')\n",
    "# plt.xlabel('Epochs')\n",
    "# plt.ylabel('Accuracy')\n",
    "# plt.legend()\n",
    "\n",
    "# plt.show()"
   ]
  },
  {
   "cell_type": "code",
   "execution_count": null,
   "metadata": {},
   "outputs": [],
   "source": []
  }
 ],
 "metadata": {
  "kernelspec": {
   "display_name": "Python 3",
   "language": "python",
   "name": "python3"
  },
  "language_info": {
   "codemirror_mode": {
    "name": "ipython",
    "version": 3
   },
   "file_extension": ".py",
   "mimetype": "text/x-python",
   "name": "python",
   "nbconvert_exporter": "python",
   "pygments_lexer": "ipython3",
   "version": "3.7.3"
  },
  "toc": {
   "base_numbering": 1,
   "nav_menu": {},
   "number_sections": true,
   "sideBar": true,
   "skip_h1_title": false,
   "title_cell": "Table of Contents",
   "title_sidebar": "Contents",
   "toc_cell": false,
   "toc_position": {},
   "toc_section_display": true,
   "toc_window_display": false
  }
 },
 "nbformat": 4,
 "nbformat_minor": 2
}
