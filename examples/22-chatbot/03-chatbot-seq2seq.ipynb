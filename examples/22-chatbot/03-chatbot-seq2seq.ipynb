{
 "cells": [
  {
   "cell_type": "markdown",
   "metadata": {},
   "source": [
    "**чатбот на рекуррентных нейросетях (Keras+TensorFlow)**\n",
    "\n",
    "Евгений Борисов <borisov.e@solarl.ru>"
   ]
  },
  {
   "cell_type": "markdown",
   "metadata": {},
   "source": [
    "\n",
    "----"
   ]
  },
  {
   "cell_type": "markdown",
   "metadata": {},
   "source": [
    "## Библиотеки"
   ]
  },
  {
   "cell_type": "code",
   "execution_count": 1,
   "metadata": {},
   "outputs": [],
   "source": [
    "import numpy as np\n",
    "import re\n",
    "\n",
    "import pandas as pd\n",
    "pd.options.display.max_colwidth = 200  \n"
   ]
  },
  {
   "cell_type": "code",
   "execution_count": 2,
   "metadata": {},
   "outputs": [],
   "source": [
    "def pp(d): return \"{:,.0f}\".format(d).replace(\",\", \" \")\n",
    "def ppr(d): print('записей:', pp(len(d)) )  "
   ]
  },
  {
   "cell_type": "markdown",
   "metadata": {},
   "source": [
    "## Учебные данные"
   ]
  },
  {
   "cell_type": "code",
   "execution_count": null,
   "metadata": {},
   "outputs": [],
   "source": [
    "# http://www.manythings.org/anki/"
   ]
  },
  {
   "cell_type": "code",
   "execution_count": 3,
   "metadata": {},
   "outputs": [],
   "source": [
    "with open('../data/rus-eng/rus.txt','rt',encoding='utf8') as f: \n",
    "    pair = pd.DataFrame([ p.split('\\t') for p in f.read().split('\\n') if p.strip() ])\n",
    "    # pair = pd.DataFrame([ p.split('%%') for p in f.read().split('\\n') if p.strip() ])"
   ]
  },
  {
   "cell_type": "code",
   "execution_count": 4,
   "metadata": {},
   "outputs": [],
   "source": [
    "# with open('data/all.txt','rt',encoding='utf8') as f: \n",
    "#     pair = pd.DataFrame([ p.split('%%') for p in f.read().split('\\n') if p.strip() ])"
   ]
  },
  {
   "cell_type": "code",
   "execution_count": 5,
   "metadata": {},
   "outputs": [],
   "source": [
    "pair.columns=['Q','A']\n",
    "pair['Q'] = pair['Q'].str.strip()\n",
    "pair['A'] = pair['A'].str.strip()"
   ]
  },
  {
   "cell_type": "code",
   "execution_count": 6,
   "metadata": {},
   "outputs": [
    {
     "name": "stdout",
     "output_type": "stream",
     "text": [
      "записей: 336 666\n"
     ]
    },
    {
     "data": {
      "text/html": [
       "<div>\n",
       "<style scoped>\n",
       "    .dataframe tbody tr th:only-of-type {\n",
       "        vertical-align: middle;\n",
       "    }\n",
       "\n",
       "    .dataframe tbody tr th {\n",
       "        vertical-align: top;\n",
       "    }\n",
       "\n",
       "    .dataframe thead th {\n",
       "        text-align: right;\n",
       "    }\n",
       "</style>\n",
       "<table border=\"1\" class=\"dataframe\">\n",
       "  <thead>\n",
       "    <tr style=\"text-align: right;\">\n",
       "      <th></th>\n",
       "      <th>Q</th>\n",
       "      <th>A</th>\n",
       "    </tr>\n",
       "  </thead>\n",
       "  <tbody>\n",
       "    <tr>\n",
       "      <th>320212</th>\n",
       "      <td>Tom didn't think that he was going to get caught.</td>\n",
       "      <td>Том не думал, что его поймают.</td>\n",
       "    </tr>\n",
       "    <tr>\n",
       "      <th>264733</th>\n",
       "      <td>Tom told me he'd be glad to help me.</td>\n",
       "      <td>Том сказал мне, что будет рад мне помочь.</td>\n",
       "    </tr>\n",
       "    <tr>\n",
       "      <th>303427</th>\n",
       "      <td>There is one thing that I don't understand.</td>\n",
       "      <td>Я одного не понимаю.</td>\n",
       "    </tr>\n",
       "    <tr>\n",
       "      <th>306027</th>\n",
       "      <td>I'd like to get married to someone like you.</td>\n",
       "      <td>Я хотела бы выйти замуж за кого-нибудь вроде Вас.</td>\n",
       "    </tr>\n",
       "    <tr>\n",
       "      <th>178604</th>\n",
       "      <td>Free snacks will be provided.</td>\n",
       "      <td>Будут предоставлены бесплатные закуски.</td>\n",
       "    </tr>\n",
       "    <tr>\n",
       "      <th>258060</th>\n",
       "      <td>You're not a veterinarian, are you?</td>\n",
       "      <td>Ты ведь не ветеринар?</td>\n",
       "    </tr>\n",
       "    <tr>\n",
       "      <th>127008</th>\n",
       "      <td>I'll be meeting with Tom.</td>\n",
       "      <td>У меня будет встреча с Томом.</td>\n",
       "    </tr>\n",
       "    <tr>\n",
       "      <th>136033</th>\n",
       "      <td>Do it as soon as possible.</td>\n",
       "      <td>Сделай это как можно скорее.</td>\n",
       "    </tr>\n",
       "    <tr>\n",
       "      <th>172126</th>\n",
       "      <td>This isn't completely wrong.</td>\n",
       "      <td>Это не полностью неверно.</td>\n",
       "    </tr>\n",
       "  </tbody>\n",
       "</table>\n",
       "</div>"
      ],
      "text/plain": [
       "                                                        Q  \\\n",
       "320212  Tom didn't think that he was going to get caught.   \n",
       "264733               Tom told me he'd be glad to help me.   \n",
       "303427        There is one thing that I don't understand.   \n",
       "306027       I'd like to get married to someone like you.   \n",
       "178604                      Free snacks will be provided.   \n",
       "258060                You're not a veterinarian, are you?   \n",
       "127008                          I'll be meeting with Tom.   \n",
       "136033                         Do it as soon as possible.   \n",
       "172126                       This isn't completely wrong.   \n",
       "\n",
       "                                                        A  \n",
       "320212                     Том не думал, что его поймают.  \n",
       "264733          Том сказал мне, что будет рад мне помочь.  \n",
       "303427                               Я одного не понимаю.  \n",
       "306027  Я хотела бы выйти замуж за кого-нибудь вроде Вас.  \n",
       "178604            Будут предоставлены бесплатные закуски.  \n",
       "258060                              Ты ведь не ветеринар?  \n",
       "127008                      У меня будет встреча с Томом.  \n",
       "136033                       Сделай это как можно скорее.  \n",
       "172126                          Это не полностью неверно.  "
      ]
     },
     "execution_count": 6,
     "metadata": {},
     "output_type": "execute_result"
    }
   ],
   "source": [
    "ppr(pair)\n",
    "pair.sample(9)"
   ]
  },
  {
   "cell_type": "markdown",
   "metadata": {},
   "source": [
    "## Чистим тексты"
   ]
  },
  {
   "cell_type": "code",
   "execution_count": 7,
   "metadata": {},
   "outputs": [],
   "source": [
    "pair['Q_clean'] = pair['Q'].str.lower()\n",
    "pair['Q_clean'] = pair['Q_clean'].str.replace(r'([,.?!])', r' \\1 ')\n",
    "\n",
    "# pair['Q_clean'] = pair['Q_clean'].apply(lambda s: re.sub( r'\\([,.?!]\\)', ' \\1 ', s))\n",
    "#pair['Q_clean'] = pair['Q_clean'].apply(lambda s: re.sub( r'\\W', ' ', s))\n",
    "#pair['Q_clean'] = pair['Q_clean'].apply(lambda s: re.sub( r'\\b\\d+\\b', ' digit ', s)) \n",
    "\n",
    "pair['A_clean'] = pair['A'].str.lower()\n",
    "pair['A_clean'] = pair['A_clean'].str.replace(r'([,.?!])', r' \\1 ')\n",
    "\n",
    "# pair['A_clean'] = pair['A_clean'].apply(lambda s: re.sub( r'(\\W)', ' \\1 ', s))\n",
    "# pair['A_clean'] = pair['A_clean'].apply(lambda s: re.sub( r'\\W', ' ', s))\n",
    "# pair['A_clean'] = pair['A_clean'].apply(lambda s: re.sub( r'\\b\\d+\\b', ' digit ', s)) "
   ]
  },
  {
   "cell_type": "code",
   "execution_count": 8,
   "metadata": {},
   "outputs": [],
   "source": [
    "# добавляем \"служебные\" слова - начало и конец последовательности\n",
    "pair['Q_clean'] = pair['Q_clean'].str.split() + ['<START>']\n",
    "pair['A_clean'] = pair['A_clean'].str.split() + ['<EOS>']"
   ]
  },
  {
   "cell_type": "code",
   "execution_count": 9,
   "metadata": {},
   "outputs": [
    {
     "data": {
      "text/html": [
       "<div>\n",
       "<style scoped>\n",
       "    .dataframe tbody tr th:only-of-type {\n",
       "        vertical-align: middle;\n",
       "    }\n",
       "\n",
       "    .dataframe tbody tr th {\n",
       "        vertical-align: top;\n",
       "    }\n",
       "\n",
       "    .dataframe thead th {\n",
       "        text-align: right;\n",
       "    }\n",
       "</style>\n",
       "<table border=\"1\" class=\"dataframe\">\n",
       "  <thead>\n",
       "    <tr style=\"text-align: right;\">\n",
       "      <th></th>\n",
       "      <th>Q_clean</th>\n",
       "      <th>A_clean</th>\n",
       "    </tr>\n",
       "  </thead>\n",
       "  <tbody>\n",
       "    <tr>\n",
       "      <th>199907</th>\n",
       "      <td>[tom, has, never, seen, mary, smile, ., &lt;START&gt;]</td>\n",
       "      <td>[том, никогда, не, видел, ,, как, мэри, улыбается, ., &lt;EOS&gt;]</td>\n",
       "    </tr>\n",
       "    <tr>\n",
       "      <th>195224</th>\n",
       "      <td>[i, used, to, have, very, long, hair, ., &lt;START&gt;]</td>\n",
       "      <td>[у, меня, раньше, были, очень, длинные, волосы, ., &lt;EOS&gt;]</td>\n",
       "    </tr>\n",
       "    <tr>\n",
       "      <th>261701</th>\n",
       "      <td>[if, the, alarm, rings, ,, walk, ,, don't, run, ., &lt;START&gt;]</td>\n",
       "      <td>[если, раздастся, сигнал, тревоги, ,, идите, ,, а, не, бегите, ., &lt;EOS&gt;]</td>\n",
       "    </tr>\n",
       "    <tr>\n",
       "      <th>68988</th>\n",
       "      <td>[you, proved, me, wrong, ., &lt;START&gt;]</td>\n",
       "      <td>[ты, доказал, ,, что, я, неправ, ., &lt;EOS&gt;]</td>\n",
       "    </tr>\n",
       "    <tr>\n",
       "      <th>149400</th>\n",
       "      <td>[both, of, them, are, very, cute, ., &lt;START&gt;]</td>\n",
       "      <td>[они, оба, очень, симпатичные, ., &lt;EOS&gt;]</td>\n",
       "    </tr>\n",
       "    <tr>\n",
       "      <th>282081</th>\n",
       "      <td>[i, promise, this, will, never, happen, again, ., &lt;START&gt;]</td>\n",
       "      <td>[обещаю, ,, что, это, больше, не, повторится, ., &lt;EOS&gt;]</td>\n",
       "    </tr>\n",
       "    <tr>\n",
       "      <th>174308</th>\n",
       "      <td>[tom, thought, nobody, was, home, ., &lt;START&gt;]</td>\n",
       "      <td>[том, думал, ,, что, никого, нет, дома, ., &lt;EOS&gt;]</td>\n",
       "    </tr>\n",
       "    <tr>\n",
       "      <th>258135</th>\n",
       "      <td>[\"where's, your, book, ?, \", \"on, the, table, ., \", &lt;START&gt;]</td>\n",
       "      <td>[\"где, ваша, книга, ?, \", -, \"на, столе\", ., &lt;EOS&gt;]</td>\n",
       "    </tr>\n",
       "    <tr>\n",
       "      <th>70185</th>\n",
       "      <td>[do, you, have, a, family, ?, &lt;START&gt;]</td>\n",
       "      <td>[у, тебя, есть, семья, ?, &lt;EOS&gt;]</td>\n",
       "    </tr>\n",
       "  </tbody>\n",
       "</table>\n",
       "</div>"
      ],
      "text/plain": [
       "                                                             Q_clean  \\\n",
       "199907              [tom, has, never, seen, mary, smile, ., <START>]   \n",
       "195224             [i, used, to, have, very, long, hair, ., <START>]   \n",
       "261701   [if, the, alarm, rings, ,, walk, ,, don't, run, ., <START>]   \n",
       "68988                           [you, proved, me, wrong, ., <START>]   \n",
       "149400                 [both, of, them, are, very, cute, ., <START>]   \n",
       "282081    [i, promise, this, will, never, happen, again, ., <START>]   \n",
       "174308                 [tom, thought, nobody, was, home, ., <START>]   \n",
       "258135  [\"where's, your, book, ?, \", \"on, the, table, ., \", <START>]   \n",
       "70185                         [do, you, have, a, family, ?, <START>]   \n",
       "\n",
       "                                                                         A_clean  \n",
       "199907              [том, никогда, не, видел, ,, как, мэри, улыбается, ., <EOS>]  \n",
       "195224                 [у, меня, раньше, были, очень, длинные, волосы, ., <EOS>]  \n",
       "261701  [если, раздастся, сигнал, тревоги, ,, идите, ,, а, не, бегите, ., <EOS>]  \n",
       "68988                                 [ты, доказал, ,, что, я, неправ, ., <EOS>]  \n",
       "149400                                  [они, оба, очень, симпатичные, ., <EOS>]  \n",
       "282081                   [обещаю, ,, что, это, больше, не, повторится, ., <EOS>]  \n",
       "174308                         [том, думал, ,, что, никого, нет, дома, ., <EOS>]  \n",
       "258135                       [\"где, ваша, книга, ?, \", -, \"на, столе\", ., <EOS>]  \n",
       "70185                                           [у, тебя, есть, семья, ?, <EOS>]  "
      ]
     },
     "execution_count": 9,
     "metadata": {},
     "output_type": "execute_result"
    }
   ],
   "source": [
    "pair[['Q_clean','A_clean']].sample(9)"
   ]
  },
  {
   "cell_type": "markdown",
   "metadata": {},
   "source": [
    "---"
   ]
  },
  {
   "cell_type": "code",
   "execution_count": 10,
   "metadata": {},
   "outputs": [
    {
     "data": {
      "text/html": [
       "<div>\n",
       "<style scoped>\n",
       "    .dataframe tbody tr th:only-of-type {\n",
       "        vertical-align: middle;\n",
       "    }\n",
       "\n",
       "    .dataframe tbody tr th {\n",
       "        vertical-align: top;\n",
       "    }\n",
       "\n",
       "    .dataframe thead th {\n",
       "        text-align: right;\n",
       "    }\n",
       "</style>\n",
       "<table border=\"1\" class=\"dataframe\">\n",
       "  <thead>\n",
       "    <tr style=\"text-align: right;\">\n",
       "      <th></th>\n",
       "      <th>lenQ</th>\n",
       "      <th>lenA</th>\n",
       "    </tr>\n",
       "  </thead>\n",
       "  <tbody>\n",
       "    <tr>\n",
       "      <th>count</th>\n",
       "      <td>336666.000000</td>\n",
       "      <td>336666.000000</td>\n",
       "    </tr>\n",
       "    <tr>\n",
       "      <th>mean</th>\n",
       "      <td>8.022399</td>\n",
       "      <td>7.499317</td>\n",
       "    </tr>\n",
       "    <tr>\n",
       "      <th>std</th>\n",
       "      <td>2.307285</td>\n",
       "      <td>2.412566</td>\n",
       "    </tr>\n",
       "    <tr>\n",
       "      <th>min</th>\n",
       "      <td>3.000000</td>\n",
       "      <td>3.000000</td>\n",
       "    </tr>\n",
       "    <tr>\n",
       "      <th>25%</th>\n",
       "      <td>6.000000</td>\n",
       "      <td>6.000000</td>\n",
       "    </tr>\n",
       "    <tr>\n",
       "      <th>50%</th>\n",
       "      <td>8.000000</td>\n",
       "      <td>7.000000</td>\n",
       "    </tr>\n",
       "    <tr>\n",
       "      <th>75%</th>\n",
       "      <td>9.000000</td>\n",
       "      <td>9.000000</td>\n",
       "    </tr>\n",
       "    <tr>\n",
       "      <th>max</th>\n",
       "      <td>47.000000</td>\n",
       "      <td>50.000000</td>\n",
       "    </tr>\n",
       "  </tbody>\n",
       "</table>\n",
       "</div>"
      ],
      "text/plain": [
       "                lenQ           lenA\n",
       "count  336666.000000  336666.000000\n",
       "mean        8.022399       7.499317\n",
       "std         2.307285       2.412566\n",
       "min         3.000000       3.000000\n",
       "25%         6.000000       6.000000\n",
       "50%         8.000000       7.000000\n",
       "75%         9.000000       9.000000\n",
       "max        47.000000      50.000000"
      ]
     },
     "execution_count": 10,
     "metadata": {},
     "output_type": "execute_result"
    }
   ],
   "source": [
    "# считаем количество слов\n",
    "pair['lenQ'] = pair['Q_clean'].str.len()\n",
    "pair['lenA'] = pair['A_clean'].str.len()\n",
    "pair.describe()"
   ]
  },
  {
   "cell_type": "code",
   "execution_count": 11,
   "metadata": {},
   "outputs": [
    {
     "data": {
      "text/plain": [
       "(12.0, 12.0)"
      ]
     },
     "execution_count": 11,
     "metadata": {},
     "output_type": "execute_result"
    }
   ],
   "source": [
    "# определяем максимальную длинну последовательности\n",
    "pair['lenQ'].quantile(0.95),  pair['lenA'].quantile(0.95)"
   ]
  },
  {
   "cell_type": "code",
   "execution_count": 12,
   "metadata": {},
   "outputs": [
    {
     "name": "stdout",
     "output_type": "stream",
     "text": [
      "записей: 336 666\n",
      "записей: 283 850\n"
     ]
    }
   ],
   "source": [
    "# выкидываем слишком длинные последовательности\n",
    "n_max = 11\n",
    "ppr(pair)\n",
    "pair = pair[ (pair['lenQ']<n_max) & (pair['lenA']<n_max) ]\n",
    "ppr(pair)"
   ]
  },
  {
   "cell_type": "code",
   "execution_count": 13,
   "metadata": {},
   "outputs": [
    {
     "data": {
      "text/plain": [
       "(10, 10)"
      ]
     },
     "execution_count": 13,
     "metadata": {},
     "output_type": "execute_result"
    }
   ],
   "source": [
    "pair['Q_clean'].str.len().max(), pair['A_clean'].str.len().max()"
   ]
  },
  {
   "cell_type": "code",
   "execution_count": 14,
   "metadata": {},
   "outputs": [],
   "source": [
    "# выстраиваем входные последовательности в обратном порядке\n",
    "# и выравниваем длинну последовательностей,\n",
    "# дополняем короткие словом \"служебным\" словом,\n",
    "pad = ['<PAD>']*n_max\n",
    "pair['Q_clean'] = pair['Q_clean'].apply( lambda t: pad[len(t):] + list(reversed(t)) )\n",
    "pair['A_clean'] = pair['A_clean'].apply( lambda t: t + pad[len(t):] )"
   ]
  },
  {
   "cell_type": "code",
   "execution_count": 15,
   "metadata": {},
   "outputs": [
    {
     "data": {
      "text/html": [
       "<div>\n",
       "<style scoped>\n",
       "    .dataframe tbody tr th:only-of-type {\n",
       "        vertical-align: middle;\n",
       "    }\n",
       "\n",
       "    .dataframe tbody tr th {\n",
       "        vertical-align: top;\n",
       "    }\n",
       "\n",
       "    .dataframe thead th {\n",
       "        text-align: right;\n",
       "    }\n",
       "</style>\n",
       "<table border=\"1\" class=\"dataframe\">\n",
       "  <thead>\n",
       "    <tr style=\"text-align: right;\">\n",
       "      <th></th>\n",
       "      <th>Q_clean</th>\n",
       "      <th>A_clean</th>\n",
       "    </tr>\n",
       "  </thead>\n",
       "  <tbody>\n",
       "    <tr>\n",
       "      <th>20999</th>\n",
       "      <td>[&lt;PAD&gt;, &lt;PAD&gt;, &lt;PAD&gt;, &lt;PAD&gt;, &lt;PAD&gt;, &lt;PAD&gt;, &lt;START&gt;, ., blood, only, it's]</td>\n",
       "      <td>[это, просто, кровь, ., &lt;EOS&gt;, &lt;PAD&gt;, &lt;PAD&gt;, &lt;PAD&gt;, &lt;PAD&gt;, &lt;PAD&gt;, &lt;PAD&gt;]</td>\n",
       "    </tr>\n",
       "    <tr>\n",
       "      <th>219550</th>\n",
       "      <td>[&lt;PAD&gt;, &lt;PAD&gt;, &lt;PAD&gt;, &lt;START&gt;, ., fishing, about, much, know, don't, i]</td>\n",
       "      <td>[я, не, очень, разбираюсь, в, рыбалке, ., &lt;EOS&gt;, &lt;PAD&gt;, &lt;PAD&gt;, &lt;PAD&gt;]</td>\n",
       "    </tr>\n",
       "    <tr>\n",
       "      <th>24714</th>\n",
       "      <td>[&lt;PAD&gt;, &lt;PAD&gt;, &lt;PAD&gt;, &lt;PAD&gt;, &lt;PAD&gt;, &lt;START&gt;, ., killed, was, cop, a]</td>\n",
       "      <td>[убили, полицейского, ., &lt;EOS&gt;, &lt;PAD&gt;, &lt;PAD&gt;, &lt;PAD&gt;, &lt;PAD&gt;, &lt;PAD&gt;, &lt;PAD&gt;, &lt;PAD&gt;]</td>\n",
       "    </tr>\n",
       "    <tr>\n",
       "      <th>224072</th>\n",
       "      <td>[&lt;PAD&gt;, &lt;PAD&gt;, &lt;PAD&gt;, &lt;START&gt;, ., minutes, ten, in, leaves, train, the]</td>\n",
       "      <td>[поезд, отправляется, через, десять, минут, ., &lt;EOS&gt;, &lt;PAD&gt;, &lt;PAD&gt;, &lt;PAD&gt;, &lt;PAD&gt;]</td>\n",
       "    </tr>\n",
       "    <tr>\n",
       "      <th>54760</th>\n",
       "      <td>[&lt;PAD&gt;, &lt;PAD&gt;, &lt;PAD&gt;, &lt;PAD&gt;, &lt;PAD&gt;, &lt;START&gt;, ?, eat, tigers, do, what]</td>\n",
       "      <td>[что, едят, тигры, ?, &lt;EOS&gt;, &lt;PAD&gt;, &lt;PAD&gt;, &lt;PAD&gt;, &lt;PAD&gt;, &lt;PAD&gt;, &lt;PAD&gt;]</td>\n",
       "    </tr>\n",
       "    <tr>\n",
       "      <th>71680</th>\n",
       "      <td>[&lt;PAD&gt;, &lt;PAD&gt;, &lt;PAD&gt;, &lt;PAD&gt;, &lt;START&gt;, ?, that, like, you, do, how]</td>\n",
       "      <td>[каково, ,, а, ?, &lt;EOS&gt;, &lt;PAD&gt;, &lt;PAD&gt;, &lt;PAD&gt;, &lt;PAD&gt;, &lt;PAD&gt;, &lt;PAD&gt;]</td>\n",
       "    </tr>\n",
       "    <tr>\n",
       "      <th>45305</th>\n",
       "      <td>[&lt;PAD&gt;, &lt;PAD&gt;, &lt;PAD&gt;, &lt;PAD&gt;, &lt;PAD&gt;, &lt;START&gt;, ?, you, scare, tom, does]</td>\n",
       "      <td>[том, вас, пугает, ?, &lt;EOS&gt;, &lt;PAD&gt;, &lt;PAD&gt;, &lt;PAD&gt;, &lt;PAD&gt;, &lt;PAD&gt;, &lt;PAD&gt;]</td>\n",
       "    </tr>\n",
       "    <tr>\n",
       "      <th>177993</th>\n",
       "      <td>[&lt;PAD&gt;, &lt;PAD&gt;, &lt;PAD&gt;, &lt;START&gt;, ., right, is, believe, you, what, do]</td>\n",
       "      <td>[делай, так, ,, как, считаешь, нужным, ., &lt;EOS&gt;, &lt;PAD&gt;, &lt;PAD&gt;, &lt;PAD&gt;]</td>\n",
       "    </tr>\n",
       "    <tr>\n",
       "      <th>172707</th>\n",
       "      <td>[&lt;PAD&gt;, &lt;PAD&gt;, &lt;PAD&gt;, &lt;PAD&gt;, &lt;PAD&gt;, &lt;START&gt;, ., electrocution, from, died, tom]</td>\n",
       "      <td>[том, умер, от, поражения, электрическим, током, ., &lt;EOS&gt;, &lt;PAD&gt;, &lt;PAD&gt;, &lt;PAD&gt;]</td>\n",
       "    </tr>\n",
       "  </tbody>\n",
       "</table>\n",
       "</div>"
      ],
      "text/plain": [
       "                                                                                Q_clean  \\\n",
       "20999         [<PAD>, <PAD>, <PAD>, <PAD>, <PAD>, <PAD>, <START>, ., blood, only, it's]   \n",
       "219550          [<PAD>, <PAD>, <PAD>, <START>, ., fishing, about, much, know, don't, i]   \n",
       "24714              [<PAD>, <PAD>, <PAD>, <PAD>, <PAD>, <START>, ., killed, was, cop, a]   \n",
       "224072          [<PAD>, <PAD>, <PAD>, <START>, ., minutes, ten, in, leaves, train, the]   \n",
       "54760            [<PAD>, <PAD>, <PAD>, <PAD>, <PAD>, <START>, ?, eat, tigers, do, what]   \n",
       "71680                [<PAD>, <PAD>, <PAD>, <PAD>, <START>, ?, that, like, you, do, how]   \n",
       "45305            [<PAD>, <PAD>, <PAD>, <PAD>, <PAD>, <START>, ?, you, scare, tom, does]   \n",
       "177993             [<PAD>, <PAD>, <PAD>, <START>, ., right, is, believe, you, what, do]   \n",
       "172707  [<PAD>, <PAD>, <PAD>, <PAD>, <PAD>, <START>, ., electrocution, from, died, tom]   \n",
       "\n",
       "                                                                                  A_clean  \n",
       "20999            [это, просто, кровь, ., <EOS>, <PAD>, <PAD>, <PAD>, <PAD>, <PAD>, <PAD>]  \n",
       "219550              [я, не, очень, разбираюсь, в, рыбалке, ., <EOS>, <PAD>, <PAD>, <PAD>]  \n",
       "24714    [убили, полицейского, ., <EOS>, <PAD>, <PAD>, <PAD>, <PAD>, <PAD>, <PAD>, <PAD>]  \n",
       "224072  [поезд, отправляется, через, десять, минут, ., <EOS>, <PAD>, <PAD>, <PAD>, <PAD>]  \n",
       "54760              [что, едят, тигры, ?, <EOS>, <PAD>, <PAD>, <PAD>, <PAD>, <PAD>, <PAD>]  \n",
       "71680                  [каково, ,, а, ?, <EOS>, <PAD>, <PAD>, <PAD>, <PAD>, <PAD>, <PAD>]  \n",
       "45305              [том, вас, пугает, ?, <EOS>, <PAD>, <PAD>, <PAD>, <PAD>, <PAD>, <PAD>]  \n",
       "177993              [делай, так, ,, как, считаешь, нужным, ., <EOS>, <PAD>, <PAD>, <PAD>]  \n",
       "172707    [том, умер, от, поражения, электрическим, током, ., <EOS>, <PAD>, <PAD>, <PAD>]  "
      ]
     },
     "execution_count": 15,
     "metadata": {},
     "output_type": "execute_result"
    }
   ],
   "source": [
    "pair[['Q_clean','A_clean']].sample(9)"
   ]
  },
  {
   "cell_type": "markdown",
   "metadata": {},
   "source": [
    "## Кодируем тексты"
   ]
  },
  {
   "cell_type": "code",
   "execution_count": 16,
   "metadata": {},
   "outputs": [],
   "source": [
    "data = pair['Q_clean'].values.tolist() + pair['A_clean'].values.tolist()"
   ]
  },
  {
   "cell_type": "code",
   "execution_count": 17,
   "metadata": {},
   "outputs": [
    {
     "name": "stdout",
     "output_type": "stream",
     "text": [
      "Wall time: 16.5 s\n"
     ]
    }
   ],
   "source": [
    "%%time\n",
    "\n",
    "from gensim.models.word2vec import Word2Vec\n",
    "\n",
    "w2v_size = 256\n",
    "\n",
    "w2v = Word2Vec( data, min_count=1, size=w2v_size, window=4, workers=4)\n"
   ]
  },
  {
   "cell_type": "code",
   "execution_count": 18,
   "metadata": {},
   "outputs": [
    {
     "name": "stdout",
     "output_type": "stream",
     "text": [
      "записей: 59 935\n"
     ]
    }
   ],
   "source": [
    "w2v_vocab = sorted([w for w in w2v.wv.vocab])\n",
    "ppr(w2v_vocab)"
   ]
  },
  {
   "cell_type": "code",
   "execution_count": 19,
   "metadata": {},
   "outputs": [
    {
     "name": "stdout",
     "output_type": "stream",
     "text": [
      "clothing : ['quality', 'adventure', 'california', 'pneumonia', 'gardening']\n",
      "заказали : ['пересекли', 'собрали', 'разбили', 'держим', 'учтём']\n",
      "поджог : ['лев', 'рисковый', 'дикое', 'набожная', 'кудо']\n",
      "too : ['so', 'very', 'how', 'fatter', 'quite']\n",
      "александрию : ['каир', 'санитарные', 'антарктиду', 'шашки', 'экспедицию']\n",
      "обжулили : ['осуждаете', 'осуждаешь', 'объегорили', 'поджидаю', 'подменили']\n",
      "беспокоило : ['арестуют', 'примеру', 'уволят', 'ограбили', 'доброта']\n",
      "оратора : ['перебивал', 'бумажные', 'мьянмой', 'жёсткого', 'дешевым']\n",
      "ладит : ['поздоровался', 'борется', 'гуляет', 'вздохнула', 'коллекционирует']\n",
      "утрате : ['отце', 'боулинге', 'своём', 'заклад', 'процедуре']\n",
      "смену : ['сельской', 'расположен', 'спортзал', 'башню', 'пятом']\n",
      "начос : ['мир', 'паром', 'шаг', 'год', 'ванну']\n",
      "political : ['colorful', 'стремянка', 'воздыхательница', 'порежу', 'выкопайте']\n",
      "fantasy : ['chocolates', 'gases', 'pint', 'byron', 'glimpse']\n",
      "scatters : ['impatiently', 'kojin', 'inwardly', 'обучение', 'golden']\n",
      "записан : ['приём', 'танцы', 'замёрзшему', 'киче', 'фактах']\n",
      "больничную : ['слепим', 'весну', 'сменим', 'ненависть', 'четвёртую']\n",
      "полагали : ['поймём', 'потерпим', 'приблизились', 'думали', 'слепые']\n",
      "ставка : ['часовая', 'профессия', 'излучают', 'ромашки', 'подхватишь']\n",
      "ravioli : ['излучают', 'animated', 'дезертирами', 'ныть', 'студенты-середняки']\n",
      "работника : ['timidly', 'многообразие', 'дождик', 'пушки', 'выкопайте']\n",
      "мотор : ['окрестности', 'улыбаться', 'мыло', 'медаль', 'прямоту']\n",
      "успокоитесь : ['йога', 'становиться', 'зануда', 'обоняние', 'продолжаться']\n",
      "правильные : ['гнилью', 'входную', 'дальнейшие', 'поселенцам', 'грабителя']\n",
      "because : ['accused', 'fond', 'thousands', 'dozens', 'instead']\n",
      "пустынный : ['молодежью', 'аварийном', 'проведено', 'участником', 'таксистом']\n",
      "узко : ['узкое', 'галстуки', 'соблюдайте', 'короткая', 'отрасли']\n",
      "согласны : ['знакомы', 'согласились', 'женаты', 'родственники', 'придут']\n",
      "кое-кого : ['шире', 'звезду', 'песок', 'бутербродов', 'названием']\n",
      "сдаёт : ['шарик', 'числится', 'исследовал', 'отоварилась', 'подвергся']\n"
     ]
    }
   ],
   "source": [
    "ii = np.random.permutation(len(w2v_vocab))[:30]\n",
    "for i in ii:\n",
    "    w = w2v_vocab[i]\n",
    "    ww = [ v[0] for v in w2v.wv.most_similar(w, topn=5) ]\n",
    "    print( w,':',ww )"
   ]
  },
  {
   "cell_type": "code",
   "execution_count": 20,
   "metadata": {},
   "outputs": [],
   "source": [
    "pair['Q_code'] = pair['Q_clean'].apply(lambda t: [ w2v.wv.get_vector(w) for w in t ] )\n",
    "pair['A_code'] = pair['A_clean'].apply(lambda t: [ w2v.wv.get_vector(w) for w in t ] )"
   ]
  },
  {
   "cell_type": "code",
   "execution_count": 21,
   "metadata": {},
   "outputs": [
    {
     "data": {
      "text/html": [
       "<div>\n",
       "<style scoped>\n",
       "    .dataframe tbody tr th:only-of-type {\n",
       "        vertical-align: middle;\n",
       "    }\n",
       "\n",
       "    .dataframe tbody tr th {\n",
       "        vertical-align: top;\n",
       "    }\n",
       "\n",
       "    .dataframe thead th {\n",
       "        text-align: right;\n",
       "    }\n",
       "</style>\n",
       "<table border=\"1\" class=\"dataframe\">\n",
       "  <thead>\n",
       "    <tr style=\"text-align: right;\">\n",
       "      <th></th>\n",
       "      <th>Q_code</th>\n",
       "      <th>A_code</th>\n",
       "    </tr>\n",
       "  </thead>\n",
       "  <tbody>\n",
       "    <tr>\n",
       "      <th>1175</th>\n",
       "      <td>[[-0.7616904, -0.22355564, 0.7845089, 2.3504047, 1.4498441, -1.6410388, -0.78428465, 0.36938807, -0.034999583, -2.723392, -0.31392875, -0.008460425, 0.046154145, 1.661522, -0.52883697, 0.07711175,...</td>\n",
       "      <td>[[-1.364893, -0.71348006, 0.30246612, 1.175325, 0.081364244, -2.2377713, -0.4516037, 0.43250036, -2.0598958, -1.8450876, -0.9010532, -0.5012968, -0.92856264, -0.053666994, 0.014360019, -1.597731, ...</td>\n",
       "    </tr>\n",
       "    <tr>\n",
       "      <th>17966</th>\n",
       "      <td>[[-0.7616904, -0.22355564, 0.7845089, 2.3504047, 1.4498441, -1.6410388, -0.78428465, 0.36938807, -0.034999583, -2.723392, -0.31392875, -0.008460425, 0.046154145, 1.661522, -0.52883697, 0.07711175,...</td>\n",
       "      <td>[[1.8747137, 0.74694943, 0.80848646, 0.7376907, 0.116412826, 0.5832628, 0.96449316, 1.1086485, 0.73085946, 1.981311, 0.90684104, -0.9181454, 0.5883593, 1.7621347, 0.72139907, -2.4719558, 0.6503424...</td>\n",
       "    </tr>\n",
       "    <tr>\n",
       "      <th>8905</th>\n",
       "      <td>[[-0.7616904, -0.22355564, 0.7845089, 2.3504047, 1.4498441, -1.6410388, -0.78428465, 0.36938807, -0.034999583, -2.723392, -0.31392875, -0.008460425, 0.046154145, 1.661522, -0.52883697, 0.07711175,...</td>\n",
       "      <td>[[-1.364893, -0.71348006, 0.30246612, 1.175325, 0.081364244, -2.2377713, -0.4516037, 0.43250036, -2.0598958, -1.8450876, -0.9010532, -0.5012968, -0.92856264, -0.053666994, 0.014360019, -1.597731, ...</td>\n",
       "    </tr>\n",
       "  </tbody>\n",
       "</table>\n",
       "</div>"
      ],
      "text/plain": [
       "                                                                                                                                                                                                        Q_code  \\\n",
       "1175   [[-0.7616904, -0.22355564, 0.7845089, 2.3504047, 1.4498441, -1.6410388, -0.78428465, 0.36938807, -0.034999583, -2.723392, -0.31392875, -0.008460425, 0.046154145, 1.661522, -0.52883697, 0.07711175,...   \n",
       "17966  [[-0.7616904, -0.22355564, 0.7845089, 2.3504047, 1.4498441, -1.6410388, -0.78428465, 0.36938807, -0.034999583, -2.723392, -0.31392875, -0.008460425, 0.046154145, 1.661522, -0.52883697, 0.07711175,...   \n",
       "8905   [[-0.7616904, -0.22355564, 0.7845089, 2.3504047, 1.4498441, -1.6410388, -0.78428465, 0.36938807, -0.034999583, -2.723392, -0.31392875, -0.008460425, 0.046154145, 1.661522, -0.52883697, 0.07711175,...   \n",
       "\n",
       "                                                                                                                                                                                                        A_code  \n",
       "1175   [[-1.364893, -0.71348006, 0.30246612, 1.175325, 0.081364244, -2.2377713, -0.4516037, 0.43250036, -2.0598958, -1.8450876, -0.9010532, -0.5012968, -0.92856264, -0.053666994, 0.014360019, -1.597731, ...  \n",
       "17966  [[1.8747137, 0.74694943, 0.80848646, 0.7376907, 0.116412826, 0.5832628, 0.96449316, 1.1086485, 0.73085946, 1.981311, 0.90684104, -0.9181454, 0.5883593, 1.7621347, 0.72139907, -2.4719558, 0.6503424...  \n",
       "8905   [[-1.364893, -0.71348006, 0.30246612, 1.175325, 0.081364244, -2.2377713, -0.4516037, 0.43250036, -2.0598958, -1.8450876, -0.9010532, -0.5012968, -0.92856264, -0.053666994, 0.014360019, -1.597731, ...  "
      ]
     },
     "execution_count": 21,
     "metadata": {},
     "output_type": "execute_result"
    }
   ],
   "source": [
    "pair[['Q_code','A_code']].sample(3)"
   ]
  },
  {
   "cell_type": "markdown",
   "metadata": {},
   "source": [
    "\n",
    "-----"
   ]
  },
  {
   "cell_type": "code",
   "execution_count": 22,
   "metadata": {},
   "outputs": [
    {
     "name": "stdout",
     "output_type": "stream",
     "text": [
      "записей: 283 850\n"
     ]
    }
   ],
   "source": [
    "ppr(pair)"
   ]
  },
  {
   "cell_type": "code",
   "execution_count": 23,
   "metadata": {},
   "outputs": [],
   "source": [
    "pair = pair.sample(1000)\n",
    "\n",
    "# pair = pair.sample(283800)\n",
    "# pair = pair.sample(600)"
   ]
  },
  {
   "cell_type": "code",
   "execution_count": null,
   "metadata": {},
   "outputs": [
    {
     "data": {
      "text/plain": [
       "((1000, 11, 256), (1000, 11, 256))"
      ]
     },
     "execution_count": 24,
     "metadata": {},
     "output_type": "execute_result"
    }
   ],
   "source": [
    "x_train = np.stack( pair['Q_code'].values )\n",
    "y_train = np.stack( pair['A_code'].values )\n",
    "\n",
    "x_train.shape, y_train.shape"
   ]
  },
  {
   "cell_type": "markdown",
   "metadata": {},
   "source": [
    "## Строим нейросеть"
   ]
  },
  {
   "cell_type": "code",
   "execution_count": null,
   "metadata": {},
   "outputs": [],
   "source": [
    "features = x_train.shape[2]\n",
    "timesteps = x_train.shape[1]\n",
    "\n",
    "# batch_size=100\n",
    "# num_ex = 1000"
   ]
  },
  {
   "cell_type": "code",
   "execution_count": null,
   "metadata": {},
   "outputs": [],
   "source": [
    "# install git\n",
    "# pip install git+https://www.github.com/farizrahman4u/recurrentshop.git\n",
    "# pip install git+https://github.com/farizrahman4u/seq2seq.git"
   ]
  },
  {
   "cell_type": "code",
   "execution_count": null,
   "metadata": {},
   "outputs": [
    {
     "name": "stderr",
     "output_type": "stream",
     "text": [
      "Using TensorFlow backend.\n"
     ]
    }
   ],
   "source": [
    "# import seq2seq\n",
    "from seq2seq.models import SimpleSeq2Seq\n",
    "\n",
    "model = SimpleSeq2Seq(input_dim=features, \n",
    "                      hidden_dim=features, \n",
    "                      output_length=timesteps, \n",
    "                      output_dim=features, \n",
    "                      depth=2)"
   ]
  },
  {
   "cell_type": "code",
   "execution_count": null,
   "metadata": {},
   "outputs": [],
   "source": [
    "model.compile(loss='mse', optimizer='rmsprop')\n",
    "# model.compile(loss='mse', optimizer='adam')\n",
    "# model.compile(loss='mse', optimizer='sgd')\n"
   ]
  },
  {
   "cell_type": "code",
   "execution_count": null,
   "metadata": {},
   "outputs": [],
   "source": [
    "# model.summary()"
   ]
  },
  {
   "cell_type": "code",
   "execution_count": null,
   "metadata": {},
   "outputs": [
    {
     "name": "stdout",
     "output_type": "stream",
     "text": [
      "Epoch 1/500\n",
      "1000/1000 [==============================] - 5s 5ms/step - loss: 0.5412\n",
      "Epoch 2/500\n",
      "1000/1000 [==============================] - 1s 687us/step - loss: 0.4404\n",
      "Epoch 3/500\n",
      "1000/1000 [==============================] - 1s 687us/step - loss: 0.3961\n",
      "Epoch 4/500\n",
      "1000/1000 [==============================] - 1s 687us/step - loss: 0.3813\n",
      "Epoch 5/500\n",
      "1000/1000 [==============================] - 1s 687us/step - loss: 0.3932\n",
      "Epoch 6/500\n",
      "1000/1000 [==============================] - 1s 687us/step - loss: 0.3755\n",
      "Epoch 7/500\n",
      "1000/1000 [==============================] - 1s 686us/step - loss: 0.3662\n",
      "Epoch 8/500\n",
      "1000/1000 [==============================] - 1s 688us/step - loss: 0.3984\n",
      "Epoch 9/500\n",
      "1000/1000 [==============================] - 1s 687us/step - loss: 0.3696\n",
      "Epoch 10/500\n",
      "1000/1000 [==============================] - 1s 686us/step - loss: 0.3620\n",
      "Epoch 11/500\n",
      "1000/1000 [==============================] - 1s 690us/step - loss: 0.3642\n",
      "Epoch 12/500\n",
      "1000/1000 [==============================] - 1s 686us/step - loss: 0.3725\n",
      "Epoch 13/500\n",
      "1000/1000 [==============================] - 1s 686us/step - loss: 0.3527\n"
     ]
    }
   ],
   "source": [
    "%%time \n",
    "\n",
    "history = model.fit(x_train, y_train,\n",
    "            epochs=500,\n",
    "            batch_size=500,\n",
    "            # validation_data=(x_val, y_val)\n",
    "         )"
   ]
  },
  {
   "cell_type": "markdown",
   "metadata": {},
   "source": [
    "## Проверяем результат"
   ]
  },
  {
   "cell_type": "code",
   "execution_count": null,
   "metadata": {},
   "outputs": [],
   "source": [
    "i=np.random.randint(len(pair))\n",
    "x = x_train[i:i+1]\n",
    "\n",
    "s = [ w2v.wv.similar_by_vector(v)[0][0] for v in np.flipud(x.reshape([timesteps,features]) ) ] \n",
    "' '.join( s[0:s.index('<START>')] )"
   ]
  },
  {
   "cell_type": "code",
   "execution_count": null,
   "metadata": {},
   "outputs": [],
   "source": [
    "# y = autoencoder.predict(x)\n",
    "y = model.predict(x)\n",
    "\n",
    "s = [ w2v.wv.similar_by_vector(v)[0][0] for v in y.reshape([timesteps,features]) ]\n",
    "s\n",
    "#' '.join( s[0:s.index('<EOS>')] )"
   ]
  },
  {
   "cell_type": "markdown",
   "metadata": {},
   "source": [
    "----"
   ]
  },
  {
   "cell_type": "code",
   "execution_count": null,
   "metadata": {},
   "outputs": [],
   "source": [
    "import matplotlib.pyplot as plt"
   ]
  },
  {
   "cell_type": "code",
   "execution_count": null,
   "metadata": {},
   "outputs": [],
   "source": [
    "history_dict = history.history\n",
    "history_dict.keys()"
   ]
  },
  {
   "cell_type": "code",
   "execution_count": null,
   "metadata": {},
   "outputs": [],
   "source": [
    "# acc = history.history['acc']\n",
    "#val_acc = history.history['val_acc']\n",
    "loss = history.history['loss']\n",
    "#val_loss = history.history['val_loss']\n",
    "\n",
    "epochs = range(1, len(loss) + 1)\n",
    "plt.plot(epochs, loss, 'b', label='Training loss')\n",
    "# plt.plot(epochs, val_loss, 'r', label='Validation loss')\n",
    "# plt.title('Training and validation loss')\n",
    "plt.title('Training loss')\n",
    "plt.xlabel('Epochs')\n",
    "plt.ylabel('Loss')\n",
    "plt.legend()\n",
    "\n",
    "plt.show()"
   ]
  },
  {
   "cell_type": "code",
   "execution_count": null,
   "metadata": {},
   "outputs": [],
   "source": [
    "# plt.clf()   # clear figure\n",
    "# acc_values = history_dict['acc']\n",
    "# val_acc_values = history_dict['val_acc']\n",
    "\n",
    "# plt.plot(epochs, acc, 'b', label='Training acc')\n",
    "# plt.plot(epochs, val_acc, 'r', label='Validation acc')\n",
    "# plt.title('Training and validation accuracy')\n",
    "# plt.xlabel('Epochs')\n",
    "# plt.ylabel('Accuracy')\n",
    "# plt.legend()\n",
    "\n",
    "# plt.show()"
   ]
  },
  {
   "cell_type": "code",
   "execution_count": null,
   "metadata": {},
   "outputs": [],
   "source": []
  },
  {
   "cell_type": "markdown",
   "metadata": {},
   "source": [
    "---"
   ]
  },
  {
   "cell_type": "code",
   "execution_count": null,
   "metadata": {},
   "outputs": [],
   "source": [
    "# # Set up the decoder, using `encoder_states` as initial state.\n",
    "# decoder_inputs = Input(shape=(None, features))\n",
    "# # We set up our decoder to return full output sequences,\n",
    "# # and to return internal states as well. We don't use the\n",
    "# # return states in the training model, but we will use them in inference.\n",
    "# decoder_lstm = LSTM(features, return_sequences=True, return_state=True)\n",
    "# decoder_outputs, _, _ = decoder_lstm(decoder_inputs,initial_state=encoder_states)"
   ]
  },
  {
   "cell_type": "code",
   "execution_count": null,
   "metadata": {},
   "outputs": [],
   "source": [
    "# decoder_dense = Dense(features, activation='softmax')\n",
    "# decoder_outputs = decoder_dense(decoder_outputs)"
   ]
  },
  {
   "cell_type": "code",
   "execution_count": null,
   "metadata": {},
   "outputs": [],
   "source": [
    "# Define the model that will turn\n",
    "# `encoder_input_data` & `decoder_input_data` into `decoder_target_data`\n",
    "# model = Model([encoder_inputs, decoder_inputs], decoder_outputs)"
   ]
  },
  {
   "cell_type": "code",
   "execution_count": null,
   "metadata": {},
   "outputs": [],
   "source": [
    "# from tensorflow.keras.models import Sequential\n",
    "# from tensorflow.keras.layers import LSTM\n",
    "# # from tensorflow.keras.layers import Dense"
   ]
  },
  {
   "cell_type": "code",
   "execution_count": null,
   "metadata": {},
   "outputs": [],
   "source": [
    "# схема many2many со сдвигом\n",
    "\n",
    "# model = Sequential()\n",
    "\n",
    "# model.add( LSTM(units=features, input_shape=(timesteps, features),   ) ) \n",
    "# model.add( LSTM(units=features ) )\n",
    "# model.add( LSTM(units=features, return_sequences=True, input_shape=(timesteps,features)) )\n",
    "# model.add( LSTM(units=features, return_sequences=True) )"
   ]
  },
  {
   "cell_type": "code",
   "execution_count": null,
   "metadata": {},
   "outputs": [],
   "source": [
    "# # model.compile(loss='categorical_crossentropy',optimizer='rmsprop',metrics=['accuracy'])\n",
    "# # model.compile(loss='mean_squared_error', optimizer='sgd')\n",
    "# model.compile(loss='mean_squared_error', optimizer='rmsprop')"
   ]
  },
  {
   "cell_type": "code",
   "execution_count": null,
   "metadata": {},
   "outputs": [],
   "source": [
    "# %%time \n",
    "\n",
    "# history = model.fit(x_train, y_train,\n",
    "#           batch_size=100, epochs=50,\n",
    "#           # validation_data=(x_val, y_val)\n",
    "#          )"
   ]
  },
  {
   "cell_type": "markdown",
   "metadata": {},
   "source": [
    "---"
   ]
  },
  {
   "cell_type": "code",
   "execution_count": null,
   "metadata": {},
   "outputs": [],
   "source": [
    "# # from tensorflow.keras.models import Sequential\n",
    "# from tensorflow.keras import Input\n",
    "# from tensorflow.keras import Model\n",
    "# from tensorflow.keras.layers import RepeatVector\n",
    "# from tensorflow.keras.layers import LSTM\n"
   ]
  },
  {
   "cell_type": "code",
   "execution_count": null,
   "metadata": {},
   "outputs": [],
   "source": [
    "# inputs = Input((timesteps,features))\n",
    "\n",
    "# hidden1=hidden2=hidden3=hidden4=features\n",
    "\n",
    "# #a few many to many layers:\n",
    "# outputs = LSTM(hidden1,return_sequences=True)(inputs)\n",
    "# outputs = LSTM(hidden2,return_sequences=True)(outputs)    \n",
    "# #many to one layer:\n",
    "# outputs = LSTM(hidden3)(outputs)\n",
    "\n",
    "# encoder = Model(inputs,outputs)"
   ]
  },
  {
   "cell_type": "code",
   "execution_count": null,
   "metadata": {},
   "outputs": [],
   "source": [
    "# inputs = Input((hidden3,))\n",
    "\n",
    "# #repeat to make one to many:\n",
    "# outputs = RepeatVector(timesteps)(inputs)\n",
    "# #a few many to many layers:\n",
    "# outputs = LSTM(hidden4,return_sequences=True)(outputs)\n",
    "# #last layer\n",
    "# outputs = LSTM(features,return_sequences=True)(outputs)\n",
    "\n",
    "# decoder = Model(inputs,outputs)"
   ]
  },
  {
   "cell_type": "code",
   "execution_count": null,
   "metadata": {},
   "outputs": [],
   "source": [
    "# inputs = Input((timesteps,features))\n",
    "# outputs = encoder(inputs)\n",
    "# outputs = decoder(outputs)\n",
    "# autoencoder = Model(inputs,outputs)"
   ]
  },
  {
   "cell_type": "code",
   "execution_count": null,
   "metadata": {},
   "outputs": [],
   "source": [
    "# # model.compile(loss='categorical_crossentropy',optimizer='rmsprop',metrics=['accuracy'])\n",
    "# # model.compile(loss='mean_squared_error', optimizer='sgd')\n",
    "# autoencoder.compile(loss='mean_squared_error', optimizer='rmsprop')\n"
   ]
  },
  {
   "cell_type": "code",
   "execution_count": null,
   "metadata": {},
   "outputs": [],
   "source": [
    "# %%time \n",
    "\n",
    "# history = autoencoder.fit(x_train, y_train,batch_size=1, epochs=50 )"
   ]
  },
  {
   "cell_type": "code",
   "execution_count": null,
   "metadata": {},
   "outputs": [],
   "source": []
  }
 ],
 "metadata": {
  "kernelspec": {
   "display_name": "Python 3",
   "language": "python",
   "name": "python3"
  },
  "language_info": {
   "codemirror_mode": {
    "name": "ipython",
    "version": 3
   },
   "file_extension": ".py",
   "mimetype": "text/x-python",
   "name": "python",
   "nbconvert_exporter": "python",
   "pygments_lexer": "ipython3",
   "version": "3.7.3"
  },
  "toc": {
   "base_numbering": 1,
   "nav_menu": {},
   "number_sections": true,
   "sideBar": true,
   "skip_h1_title": false,
   "title_cell": "Table of Contents",
   "title_sidebar": "Contents",
   "toc_cell": false,
   "toc_position": {},
   "toc_section_display": true,
   "toc_window_display": true
  }
 },
 "nbformat": 4,
 "nbformat_minor": 2
}
