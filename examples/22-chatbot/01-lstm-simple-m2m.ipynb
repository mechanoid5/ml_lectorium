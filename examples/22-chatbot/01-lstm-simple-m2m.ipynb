{
 "cells": [
  {
   "cell_type": "markdown",
   "metadata": {},
   "source": [
    "**классификатор LSTM на Keras+TensorFlow**\n",
    "\n",
    "Евгений Борисов <borisov.e@solarl.ru>"
   ]
  },
  {
   "cell_type": "code",
   "execution_count": 1,
   "metadata": {},
   "outputs": [],
   "source": [
    "import numpy as np\n",
    "\n",
    "# from tensorflow.keras.models import Sequential\n",
    "# from tensorflow.keras.layers import LSTM\n",
    "\n",
    "\n",
    "# from tensorflow.keras.layers import Dense"
   ]
  },
  {
   "cell_type": "code",
   "execution_count": 2,
   "metadata": {},
   "outputs": [],
   "source": [
    "# from tensorflow.keras.layers import SimpleSeq2Seq"
   ]
  },
  {
   "cell_type": "code",
   "execution_count": 3,
   "metadata": {},
   "outputs": [],
   "source": [
    "features = 16\n",
    "timesteps = 8\n",
    "num_classes = 2\n",
    "\n",
    "batch_size=100\n",
    "num_ex = 1000"
   ]
  },
  {
   "cell_type": "code",
   "execution_count": 4,
   "metadata": {},
   "outputs": [
    {
     "data": {
      "text/plain": [
       "(1000, 8, 16)"
      ]
     },
     "execution_count": 4,
     "metadata": {},
     "output_type": "execute_result"
    }
   ],
   "source": [
    "x_train = np.random.random((num_ex, timesteps, features))\n",
    "y_train = np.random.random((num_ex, timesteps, features))\n",
    "\n",
    "x_train.shape, y_train.shape\n",
    "\n",
    "# [ пример, элемент посл., вектор ]"
   ]
  },
  {
   "cell_type": "markdown",
   "metadata": {},
   "source": [
    "---"
   ]
  },
  {
   "cell_type": "code",
   "execution_count": 15,
   "metadata": {},
   "outputs": [],
   "source": [
    "from tensorflow.keras.models import Model\n",
    "from tensorflow.keras.layers import Input\n",
    "from tensorflow.keras.layers import LSTM\n",
    "from tensorflow.keras.layers import Dense"
   ]
  },
  {
   "cell_type": "code",
   "execution_count": 17,
   "metadata": {},
   "outputs": [],
   "source": [
    "# Define an input sequence and process it.\n",
    "encoder_inputs = Input(shape=(None, timesteps ) )\n",
    "encoder = LSTM(features, return_state=True)\n",
    "encoder_outputs, state_h, state_c = encoder(encoder_inputs)\n",
    "# We discard `encoder_outputs` and only keep the states.\n",
    "encoder_states = [state_h, state_c]"
   ]
  },
  {
   "cell_type": "code",
   "execution_count": 18,
   "metadata": {},
   "outputs": [],
   "source": [
    "# Set up the decoder, using `encoder_states` as initial state.\n",
    "decoder_inputs = Input(shape=(None, timesteps))\n",
    "# We set up our decoder to return full output sequences,\n",
    "# and to return internal states as well. We don't use the \n",
    "# return states in the training model, but we will use them in inference.\n",
    "decoder_lstm = LSTM(features, return_sequences=True, return_state=True)\n",
    "decoder_outputs, _, _ = decoder_lstm(decoder_inputs, initial_state=encoder_states)"
   ]
  },
  {
   "cell_type": "code",
   "execution_count": 19,
   "metadata": {},
   "outputs": [],
   "source": [
    "decoder_dense = Dense(timesteps, activation='softmax')\n",
    "decoder_outputs = decoder_dense(decoder_outputs)\n",
    "\n",
    "# Define the model that will turn\n",
    "# `encoder_input_data` & `decoder_input_data` into `decoder_target_data`\n",
    "model = Model([encoder_inputs, decoder_inputs], decoder_outputs)"
   ]
  },
  {
   "cell_type": "code",
   "execution_count": 20,
   "metadata": {},
   "outputs": [],
   "source": [
    "# Run training\n",
    "model.compile(optimizer='rmsprop', loss='categorical_crossentropy')"
   ]
  },
  {
   "cell_type": "code",
   "execution_count": null,
   "metadata": {},
   "outputs": [],
   "source": [
    "model.fit([encoder_input_data, decoder_input_data], decoder_target_data,\n",
    "          batch_size=100,\n",
    "          epochs=5,\n",
    "          validation_split=0.2)"
   ]
  },
  {
   "cell_type": "markdown",
   "metadata": {},
   "source": [
    "---"
   ]
  },
  {
   "cell_type": "code",
   "execution_count": null,
   "metadata": {},
   "outputs": [],
   "source": [
    "# # from tensorflow.keras.models import Sequential\n",
    "# # from tensorflow.keras.layers import LSTM\n",
    "\n",
    "# from tensorflow.keras import Input\n",
    "# from tensorflow.keras import Model\n",
    "# from tensorflow.keras.layers import RepeatVector\n"
   ]
  },
  {
   "cell_type": "code",
   "execution_count": null,
   "metadata": {},
   "outputs": [],
   "source": [
    "# inputs = Input((timesteps,features))\n",
    "\n",
    "# hidden1=hidden2=hidden3=hidden4=features\n",
    "\n",
    "# #a few many to many layers:\n",
    "# outputs = LSTM(hidden1,return_sequences=True)(inputs)\n",
    "# outputs = LSTM(hidden2,return_sequences=True)(outputs)    \n",
    "# #many to one layer:\n",
    "# outputs = LSTM(hidden3)(outputs)\n",
    "\n",
    "# encoder = Model(inputs,outputs)"
   ]
  },
  {
   "cell_type": "code",
   "execution_count": null,
   "metadata": {},
   "outputs": [],
   "source": [
    "# inputs = Input((hidden3,))\n",
    "\n",
    "# #repeat to make one to many:\n",
    "# outputs = RepeatVector(timesteps)(inputs)\n",
    "# #a few many to many layers:\n",
    "# outputs = LSTM(hidden4,return_sequences=True)(outputs)\n",
    "# #last layer\n",
    "# outputs = LSTM(features,return_sequences=True)(outputs)\n",
    "\n",
    "# decoder = Model(inputs,outputs)"
   ]
  },
  {
   "cell_type": "code",
   "execution_count": null,
   "metadata": {},
   "outputs": [],
   "source": [
    "# inputs = Input((timesteps,features))\n",
    "# outputs = encoder(inputs)\n",
    "# outputs = decoder(outputs)\n",
    "# autoencoder = Model(inputs,outputs)"
   ]
  },
  {
   "cell_type": "code",
   "execution_count": null,
   "metadata": {},
   "outputs": [],
   "source": [
    "# # model.compile(loss='categorical_crossentropy',optimizer='rmsprop',metrics=['accuracy'])\n",
    "# # model.compile(loss='mean_squared_error', optimizer='sgd')\n",
    "# autoencoder.compile(loss='mean_squared_error', optimizer='rmsprop')\n"
   ]
  },
  {
   "cell_type": "code",
   "execution_count": null,
   "metadata": {},
   "outputs": [],
   "source": [
    "# %%time \n",
    "\n",
    "# history = autoencoder.fit(x_train, y_train,\n",
    "#           batch_size=100, epochs=50,\n",
    "#           # validation_data=(x_val, y_val)\n",
    "#          )"
   ]
  },
  {
   "cell_type": "markdown",
   "metadata": {},
   "source": [
    "---"
   ]
  },
  {
   "cell_type": "code",
   "execution_count": 21,
   "metadata": {},
   "outputs": [],
   "source": [
    "# from seq2seq_lstm import Seq2SeqLSTM"
   ]
  },
  {
   "cell_type": "code",
   "execution_count": 8,
   "metadata": {},
   "outputs": [],
   "source": [
    "# seq2seq = Seq2SeqLSTM( latent_dim=256, \n",
    "#                        validation_split=0.1, \n",
    "#                        epochs=20, \n",
    "#                        lr=1e-3, \n",
    "#                        verbose=True, \n",
    "#                        lowercase=False,\n",
    "#                        batch_size=100)"
   ]
  },
  {
   "cell_type": "code",
   "execution_count": null,
   "metadata": {},
   "outputs": [],
   "source": [
    "# seq2seq.fit(input_texts_for_training, target_texts_for_training)"
   ]
  },
  {
   "cell_type": "code",
   "execution_count": 14,
   "metadata": {},
   "outputs": [],
   "source": [
    "# x = [ x for x in  x_train ]\n",
    "# y = [ y for y in  y_train ]"
   ]
  },
  {
   "cell_type": "code",
   "execution_count": 13,
   "metadata": {},
   "outputs": [],
   "source": [
    "# seq2seq = Seq2SeqLSTM() \n",
    "# seq2seq.fit( x, y )"
   ]
  },
  {
   "cell_type": "markdown",
   "metadata": {},
   "source": [
    "---"
   ]
  },
  {
   "cell_type": "code",
   "execution_count": null,
   "metadata": {},
   "outputs": [],
   "source": [
    "# outputs = LSTM(units=features, \n",
    "#                stateful=True, \n",
    "#                return_sequences=True, \n",
    "#                input_shape=(None,features))(inputs) \n",
    "#     #units = features because we want to use the outputs as inputs\n",
    "#     #None because we want variable length\n",
    "\n",
    "# #output_shape -> (batch_size, steps, units) \n",
    "\n",
    "\n",
    "# totalSequences = someSequencesShaped((batch, steps, features))\n",
    "#     #batch size is usually 1 in these cases (often you have only one Tank in the example)\n",
    "\n",
    "# X = totalSequences[:,:-1] #the entire known sequence, except the last step\n",
    "# Y = totalSequences[:,1:] #one step ahead of X\n",
    "\n",
    "# #loop for resetting states at the start/end of the sequences:\n",
    "# for epoch in range(epochs):\n",
    "#     model.reset_states()\n",
    "#     model.train_on_batch(X,Y)\n",
    "    \n",
    "# model.reset_states() #starting a new sequence\n",
    "# predicted = model.predict(totalSequences)\n",
    "# firstNewStep = predicted[:,-1:] #the last step of the predictions is the first future step\n",
    "\n",
    "\n",
    "# output_sequence = [firstNewStep]\n",
    "# last_step = firstNewStep\n",
    "# for i in steps_to_predict:\n",
    "\n",
    "#     new_step = model.predict(last_step)\n",
    "#     output_sequence.append(new_step)\n",
    "#     last_step = new_step\n",
    "\n",
    "#  #end of the sequences\n",
    "#  model.reset_states()"
   ]
  },
  {
   "cell_type": "markdown",
   "metadata": {},
   "source": [
    "---"
   ]
  },
  {
   "cell_type": "code",
   "execution_count": null,
   "metadata": {},
   "outputs": [],
   "source": [
    "# from sklearn.preprocessing import OneHotEncoder\n",
    "\n",
    "# y_train = np.random.randint(1,3,num_ex)\n",
    "# y_train = OneHotEncoder(categories='auto').fit_transform(y_train.reshape(-1,1) ).todense()\n",
    "# y_train.shape"
   ]
  },
  {
   "cell_type": "code",
   "execution_count": null,
   "metadata": {},
   "outputs": [],
   "source": [
    "# model = Sequential()\n",
    "# model.add(LSTM(units=features, return_sequences=True, input_shape=(timesteps, features) ) )\n",
    "# model.add(LSTM(units=features))\n"
   ]
  },
  {
   "cell_type": "code",
   "execution_count": null,
   "metadata": {},
   "outputs": [],
   "source": [
    "# схема many2many со сдвигом\n",
    "\n",
    "model = Sequential()\n",
    "\n",
    "# model.add( LSTM(units=features, input_shape=(timesteps, features),   ) ) \n",
    "# model.add( LSTM(units=features ) )\n",
    "\n",
    "model.add( LSTM(units=features, return_sequences=True, input_shape=(timesteps,features)) )\n",
    "model.add( LSTM(units=features, return_sequences=True) )\n"
   ]
  },
  {
   "cell_type": "code",
   "execution_count": null,
   "metadata": {},
   "outputs": [],
   "source": [
    "#  model.add(SimpleSeq2Seq(input_dim=TOKEN_REPRESENTATION_SIZE,\n",
    "#                             input_length=INPUT_SEQUENCE_LENGTH,\n",
    "#                             hidden_dim=HIDDEN_LAYER_DIMENSION,\n",
    "#                             output_dim=output_dim,\n",
    "#                             output_length=ANSWER_MAX_TOKEN_LENGTH,\n",
    "#                             depth=1))"
   ]
  },
  {
   "cell_type": "code",
   "execution_count": null,
   "metadata": {},
   "outputs": [],
   "source": [
    "# model.add( LSTM(units=features, \n",
    "#                 input_shape=(timesteps, features),\n",
    "#                 stateful=False, \n",
    "#                 return_sequences=False) ) \n",
    "\n",
    "# model.add( LSTM(units=features ) )\n",
    "\n",
    "# , \n",
    "#                 stateful=True, \n",
    "#                 return_sequences=True) )  \n",
    "\n",
    "# model.add( LSTM(units=features, \n",
    "#                 stateful=True, \n",
    "#                 return_sequences=True, \n",
    "#                 batch_input_shape=(1,timesteps,features ) ) )  \n",
    "\n",
    "#units = features because we want to use the outputs as inputs\n",
    "#None because we want variable length\n",
    "#output_shape -> (batch_size, steps, units) "
   ]
  },
  {
   "cell_type": "code",
   "execution_count": null,
   "metadata": {},
   "outputs": [],
   "source": [
    "# outputs = LSTM(units=features, \n",
    "#                stateful=True, \n",
    "#                return_sequences=True, #just to keep a nice output shape even with length 1\n",
    "#                input_shape=(None,features))(inputs) "
   ]
  },
  {
   "cell_type": "code",
   "execution_count": null,
   "metadata": {},
   "outputs": [],
   "source": [
    "# model.compile(loss='categorical_crossentropy',optimizer='rmsprop',metrics=['accuracy'])\n",
    "# model.compile(loss='mean_squared_error', optimizer='sgd')\n",
    "model.compile(loss='mean_squared_error', optimizer='rmsprop')\n"
   ]
  },
  {
   "cell_type": "code",
   "execution_count": null,
   "metadata": {},
   "outputs": [],
   "source": [
    "%%time \n",
    "\n",
    "history = model.fit(x_train, y_train,\n",
    "          batch_size=100, epochs=50,\n",
    "          # validation_data=(x_val, y_val)\n",
    "         )"
   ]
  },
  {
   "cell_type": "markdown",
   "metadata": {},
   "source": [
    "---"
   ]
  },
  {
   "cell_type": "code",
   "execution_count": null,
   "metadata": {},
   "outputs": [],
   "source": [
    "# x_train[1]"
   ]
  },
  {
   "cell_type": "code",
   "execution_count": null,
   "metadata": {},
   "outputs": [],
   "source": [
    "# x_train[0:1].shape"
   ]
  },
  {
   "cell_type": "code",
   "execution_count": null,
   "metadata": {},
   "outputs": [],
   "source": [
    "# y = model.predict(x_train[0:1])"
   ]
  },
  {
   "cell_type": "code",
   "execution_count": null,
   "metadata": {},
   "outputs": [],
   "source": [
    "# np.sqrt(np.square(y_train[0:1] - y).sum() )/y.flatten().shape[0]"
   ]
  },
  {
   "cell_type": "code",
   "execution_count": null,
   "metadata": {},
   "outputs": [],
   "source": [
    "# y.flatten().shape[0]"
   ]
  },
  {
   "cell_type": "markdown",
   "metadata": {},
   "source": [
    "---"
   ]
  },
  {
   "cell_type": "code",
   "execution_count": null,
   "metadata": {},
   "outputs": [],
   "source": [
    "# import tensorflow as tf\n",
    "# from tensorflow.python.client import device_lib\n",
    "# import keras "
   ]
  },
  {
   "cell_type": "code",
   "execution_count": null,
   "metadata": {},
   "outputs": [],
   "source": [
    "# print(tf.__version__)\n",
    "# print(keras.__version__)"
   ]
  },
  {
   "cell_type": "code",
   "execution_count": null,
   "metadata": {},
   "outputs": [],
   "source": [
    "# print(tf.test.is_built_with_cuda())"
   ]
  },
  {
   "cell_type": "code",
   "execution_count": null,
   "metadata": {},
   "outputs": [],
   "source": [
    "# if tf.test.is_built_with_cuda():\n",
    "#     print('default GPU device:', tf.test.gpu_device_name() )\n",
    "# else:\n",
    "#     print('no GPU device found')\n",
    "    "
   ]
  },
  {
   "cell_type": "code",
   "execution_count": null,
   "metadata": {},
   "outputs": [],
   "source": [
    "# print(device_lib.list_local_devices())"
   ]
  },
  {
   "cell_type": "markdown",
   "metadata": {},
   "source": [
    "---"
   ]
  },
  {
   "cell_type": "code",
   "execution_count": null,
   "metadata": {},
   "outputs": [],
   "source": [
    "# # expected input data shape: (batch_size, timesteps, data_dim)\n",
    "# model = Sequential()\n",
    "\n",
    "# # returns a sequence of vectors of dimension 32\n",
    "# model.add(LSTM(32, input_shape=(timesteps, data_dim)))  \n",
    "\n",
    "# model.add(Dense(num_classes, activation='softmax'))"
   ]
  },
  {
   "cell_type": "code",
   "execution_count": null,
   "metadata": {},
   "outputs": [],
   "source": [
    "# # expected input data shape: (batch_size, timesteps, data_dim)\n",
    "# model = Sequential()\n",
    "\n",
    "# # returns a sequence of vectors of dimension 32\n",
    "# model.add(LSTM(32,return_sequences=True,input_shape=(timesteps, data_dim)))  \n",
    "# model.add(LSTM(32,return_sequences=True))  \n",
    "# model.add(LSTM(32))  # return a single vector of dimension 32\n",
    "# model.add(Dense(num_classes, activation='softmax'))"
   ]
  },
  {
   "cell_type": "code",
   "execution_count": null,
   "metadata": {},
   "outputs": [],
   "source": [
    "# %%time\n",
    "\n",
    "# results = model.evaluate(X_test,y_test)\n",
    "\n",
    "# print(results)"
   ]
  },
  {
   "cell_type": "markdown",
   "metadata": {},
   "source": [
    "---"
   ]
  },
  {
   "cell_type": "code",
   "execution_count": null,
   "metadata": {},
   "outputs": [],
   "source": [
    "# history_dict = history.history\n",
    "# history_dict.keys()"
   ]
  },
  {
   "cell_type": "code",
   "execution_count": null,
   "metadata": {},
   "outputs": [],
   "source": [
    "# acc = history.history['acc']\n",
    "# val_acc = history.history['val_acc']\n",
    "# loss = history.history['loss']\n",
    "# val_loss = history.history['val_loss']\n",
    "\n",
    "# epochs = range(1, len(acc) + 1)\n",
    "# plt.plot(epochs, loss, 'b', label='Training loss')\n",
    "# plt.plot(epochs, val_loss, 'r', label='Validation loss')\n",
    "# plt.title('Training and validation loss')\n",
    "# plt.xlabel('Epochs')\n",
    "# plt.ylabel('Loss')\n",
    "# plt.legend()\n",
    "\n",
    "# plt.show()"
   ]
  },
  {
   "cell_type": "code",
   "execution_count": null,
   "metadata": {},
   "outputs": [],
   "source": [
    "# plt.clf()   # clear figure\n",
    "# acc_values = history_dict['acc']\n",
    "# val_acc_values = history_dict['val_acc']\n",
    "\n",
    "# plt.plot(epochs, acc, 'b', label='Training acc')\n",
    "# plt.plot(epochs, val_acc, 'r', label='Validation acc')\n",
    "# plt.title('Training and validation accuracy')\n",
    "# plt.xlabel('Epochs')\n",
    "# plt.ylabel('Accuracy')\n",
    "# plt.legend()\n",
    "\n",
    "# plt.show()"
   ]
  },
  {
   "cell_type": "code",
   "execution_count": null,
   "metadata": {},
   "outputs": [],
   "source": []
  }
 ],
 "metadata": {
  "kernelspec": {
   "display_name": "Python 3",
   "language": "python",
   "name": "python3"
  },
  "language_info": {
   "codemirror_mode": {
    "name": "ipython",
    "version": 3
   },
   "file_extension": ".py",
   "mimetype": "text/x-python",
   "name": "python",
   "nbconvert_exporter": "python",
   "pygments_lexer": "ipython3",
   "version": "3.7.3"
  },
  "toc": {
   "base_numbering": 1,
   "nav_menu": {},
   "number_sections": true,
   "sideBar": true,
   "skip_h1_title": false,
   "title_cell": "Table of Contents",
   "title_sidebar": "Contents",
   "toc_cell": false,
   "toc_position": {},
   "toc_section_display": "block",
   "toc_window_display": false
  }
 },
 "nbformat": 4,
 "nbformat_minor": 2
}
