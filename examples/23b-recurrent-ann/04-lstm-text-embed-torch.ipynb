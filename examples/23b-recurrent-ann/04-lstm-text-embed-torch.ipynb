{
 "cells": [
  {
   "cell_type": "markdown",
   "metadata": {},
   "source": [
    "**классификатор текстов LSTM**\n",
    "\n",
    "Евгений Борисов <esborisov@sevsu.ru>"
   ]
  },
  {
   "cell_type": "markdown",
   "metadata": {},
   "source": [
    "https://habr.com/ru/company/dca/blog/274027/    \n",
    "http://help.sentiment140.com/for-students/   \n",
    "http://study.mokoron.com  "
   ]
  },
  {
   "cell_type": "markdown",
   "metadata": {},
   "source": [
    "## Библиотеки"
   ]
  },
  {
   "cell_type": "code",
   "execution_count": 1,
   "metadata": {},
   "outputs": [],
   "source": [
    "import numpy as np\n",
    "import numpy.random as rng\n",
    "\n",
    "import pandas as pd\n",
    "pd.options.display.max_colwidth = 200  \n",
    "import re\n",
    "# import gzip\n",
    "from tqdm import tqdm\n",
    "import matplotlib.pyplot as plt"
   ]
  },
  {
   "cell_type": "code",
   "execution_count": 2,
   "metadata": {},
   "outputs": [],
   "source": [
    "import torch\n",
    "import torch.nn as nn\n",
    "# from torchviz import make_dot"
   ]
  },
  {
   "cell_type": "code",
   "execution_count": 3,
   "metadata": {},
   "outputs": [],
   "source": [
    "tqdm.pandas()"
   ]
  },
  {
   "cell_type": "code",
   "execution_count": 4,
   "metadata": {},
   "outputs": [],
   "source": [
    "def pp(d): return \"{:,.0f}\".format(d).replace(\",\", \" \")\n",
    "def ppr(d): print('записей:', pp(len(d)) )  "
   ]
  },
  {
   "cell_type": "markdown",
   "metadata": {},
   "source": [
    "## Данные"
   ]
  },
  {
   "cell_type": "raw",
   "metadata": {},
   "source": [
    "Ю. В. Рубцова. Построение корпуса текстов для настройки тонового классификатора // Программные продукты и системы, 2015, №1(109), –С.72-78\n",
    "\n",
    "http://study.mokoron.com\n",
    "\n",
    "– id: уникальный номер сообщения в системе twitter;\n",
    "– tdate: дата публикации сообщения (твита);\n",
    "– tmane: имя пользователя, опубликовавшего сообщение;\n",
    "– ttext:  текст сообщения (твита);\n",
    "– ttype: поле в котором в дальнейшем будет указано к кому классу относится твит (положительный, отрицательный, нейтральный);\n",
    "– trep: количество реплаев к данному сообщению. В настоящий момент API твиттера не отдает эту информацию;\n",
    "– tfav: число сколько раз данное сообщение было добавлено в избранное другими пользователями;\n",
    "– tstcount: число всех сообщений пользователя в сети twitter;\n",
    "– tfol: количество фоловеров пользователя (тех людей, которые читают пользователя);\n",
    "– tfrien: количество друзей пользователя (те люди, которых читает пользователь);\n",
    "– listcount: количество листов-подписок в которые добавлен твиттер-пользователь."
   ]
  },
  {
   "cell_type": "code",
   "execution_count": 5,
   "metadata": {},
   "outputs": [],
   "source": [
    "ff = ['id', 'tdate', 'tmane', 'ttext', 'ttype', 'trep', 'tfav', 'tstcount', 'tfol', 'tfrien', 'listcount','unk']"
   ]
  },
  {
   "cell_type": "code",
   "execution_count": 6,
   "metadata": {},
   "outputs": [
    {
     "name": "stdout",
     "output_type": "stream",
     "text": [
      "записей: 111 923\n"
     ]
    }
   ],
   "source": [
    "neg = pd.read_csv('../data/twit/negative.csv.gz',sep=';',header=None)\n",
    "ppr(neg)\n",
    "neg.columns = ff"
   ]
  },
  {
   "cell_type": "code",
   "execution_count": 7,
   "metadata": {},
   "outputs": [
    {
     "name": "stdout",
     "output_type": "stream",
     "text": [
      "записей: 114 910\n"
     ]
    }
   ],
   "source": [
    "pos = pd.read_csv('../data/twit/positive.csv.gz',sep=';')\n",
    "ppr(pos)\n",
    "pos.columns = ff"
   ]
  },
  {
   "cell_type": "code",
   "execution_count": 8,
   "metadata": {},
   "outputs": [
    {
     "name": "stdout",
     "output_type": "stream",
     "text": [
      "записей: 226 833\n"
     ]
    }
   ],
   "source": [
    "data = pd.concat([pos,neg],sort=False)[['id','ttext', 'ttype']]\n",
    "ppr(data)"
   ]
  },
  {
   "cell_type": "code",
   "execution_count": 9,
   "metadata": {},
   "outputs": [
    {
     "data": {
      "text/html": [
       "<div>\n",
       "<style scoped>\n",
       "    .dataframe tbody tr th:only-of-type {\n",
       "        vertical-align: middle;\n",
       "    }\n",
       "\n",
       "    .dataframe tbody tr th {\n",
       "        vertical-align: top;\n",
       "    }\n",
       "\n",
       "    .dataframe thead th {\n",
       "        text-align: right;\n",
       "    }\n",
       "</style>\n",
       "<table border=\"1\" class=\"dataframe\">\n",
       "  <thead>\n",
       "    <tr style=\"text-align: right;\">\n",
       "      <th></th>\n",
       "      <th>id</th>\n",
       "      <th>ttext</th>\n",
       "      <th>ttype</th>\n",
       "    </tr>\n",
       "  </thead>\n",
       "  <tbody>\n",
       "    <tr>\n",
       "      <th>27483</th>\n",
       "      <td>412560869911166976</td>\n",
       "      <td>Второй день херово\\nСлушаю эмокор и всякое дерьмо г смерти :(</td>\n",
       "      <td>-1</td>\n",
       "    </tr>\n",
       "    <tr>\n",
       "      <th>102178</th>\n",
       "      <td>411100026610659328</td>\n",
       "      <td>@tonyan_oduvan согласна... Но не всё ведь так плохо было_!?)</td>\n",
       "      <td>1</td>\n",
       "    </tr>\n",
       "    <tr>\n",
       "      <th>100379</th>\n",
       "      <td>423423904330153984</td>\n",
       "      <td>Оказывается выбирать технику по параметрам гораздо сложнее, чем по принципу ;Ух ты! Беленький!; ( http://t.co/2N1pHDmEPb</td>\n",
       "      <td>-1</td>\n",
       "    </tr>\n",
       "    <tr>\n",
       "      <th>41794</th>\n",
       "      <td>414044894219743232</td>\n",
       "      <td>RT @TriciaWyatt16: меня не поймуут..( просто не поймуут(( не те кто рядом и тем более не те кто далеко(( иногд http://t.co/i4KMeBDroV</td>\n",
       "      <td>-1</td>\n",
       "    </tr>\n",
       "    <tr>\n",
       "      <th>13756</th>\n",
       "      <td>409329560795504640</td>\n",
       "      <td>RT @qadyxeponi: Зима наконец-то пришла в Москву :-)</td>\n",
       "      <td>1</td>\n",
       "    </tr>\n",
       "    <tr>\n",
       "      <th>96205</th>\n",
       "      <td>422725208454483968</td>\n",
       "      <td>А Любимый мой еще только в пути ко мне(((((****</td>\n",
       "      <td>-1</td>\n",
       "    </tr>\n",
       "    <tr>\n",
       "      <th>82496</th>\n",
       "      <td>410767091013533697</td>\n",
       "      <td>RT @knigechka: Обожаю свою группу! Повезло же попасть в кампанию таких же неадекватов;) ДФД - ван лав:р\\nЧто бы я без вас делала!)</td>\n",
       "      <td>1</td>\n",
       "    </tr>\n",
       "    <tr>\n",
       "      <th>79992</th>\n",
       "      <td>410738906192035841</td>\n",
       "      <td>@nyandeathh @SashaMax69 @Mint_Crolik @Polly_Swag126 Спасибо любимый :*</td>\n",
       "      <td>1</td>\n",
       "    </tr>\n",
       "    <tr>\n",
       "      <th>31740</th>\n",
       "      <td>409743053218648064</td>\n",
       "      <td>RT @Sava_Fox_x: #МиниПатиНаПараде возьмите меня к себе на пати:3У меня есть печеньки^_^ http://t.co/Dqi56N8nQL</td>\n",
       "      <td>1</td>\n",
       "    </tr>\n",
       "    <tr>\n",
       "      <th>66427</th>\n",
       "      <td>417249288918691840</td>\n",
       "      <td>@the_beath_eater нам с тобой это не помешает (((</td>\n",
       "      <td>-1</td>\n",
       "    </tr>\n",
       "  </tbody>\n",
       "</table>\n",
       "</div>"
      ],
      "text/plain": [
       "                        id  \\\n",
       "27483   412560869911166976   \n",
       "102178  411100026610659328   \n",
       "100379  423423904330153984   \n",
       "41794   414044894219743232   \n",
       "13756   409329560795504640   \n",
       "96205   422725208454483968   \n",
       "82496   410767091013533697   \n",
       "79992   410738906192035841   \n",
       "31740   409743053218648064   \n",
       "66427   417249288918691840   \n",
       "\n",
       "                                                                                                                                        ttext  \\\n",
       "27483                                                                           Второй день херово\\nСлушаю эмокор и всякое дерьмо г смерти :(   \n",
       "102178                                                                           @tonyan_oduvan согласна... Но не всё ведь так плохо было_!?)   \n",
       "100379               Оказывается выбирать технику по параметрам гораздо сложнее, чем по принципу ;Ух ты! Беленький!; ( http://t.co/2N1pHDmEPb   \n",
       "41794   RT @TriciaWyatt16: меня не поймуут..( просто не поймуут(( не те кто рядом и тем более не те кто далеко(( иногд http://t.co/i4KMeBDroV   \n",
       "13756                                                                                     RT @qadyxeponi: Зима наконец-то пришла в Москву :-)   \n",
       "96205                                                                                         А Любимый мой еще только в пути ко мне(((((****   \n",
       "82496      RT @knigechka: Обожаю свою группу! Повезло же попасть в кампанию таких же неадекватов;) ДФД - ван лав:р\\nЧто бы я без вас делала!)   \n",
       "79992                                                                  @nyandeathh @SashaMax69 @Mint_Crolik @Polly_Swag126 Спасибо любимый :*   \n",
       "31740                          RT @Sava_Fox_x: #МиниПатиНаПараде возьмите меня к себе на пати:3У меня есть печеньки^_^ http://t.co/Dqi56N8nQL   \n",
       "66427                                                                                        @the_beath_eater нам с тобой это не помешает (((   \n",
       "\n",
       "        ttype  \n",
       "27483      -1  \n",
       "102178      1  \n",
       "100379     -1  \n",
       "41794      -1  \n",
       "13756       1  \n",
       "96205      -1  \n",
       "82496       1  \n",
       "79992       1  \n",
       "31740       1  \n",
       "66427      -1  "
      ]
     },
     "execution_count": 9,
     "metadata": {},
     "output_type": "execute_result"
    }
   ],
   "source": [
    "data.sample(10)"
   ]
  },
  {
   "cell_type": "markdown",
   "metadata": {},
   "source": [
    "## очистка данных"
   ]
  },
  {
   "cell_type": "code",
   "execution_count": 10,
   "metadata": {},
   "outputs": [
    {
     "name": "stderr",
     "output_type": "stream",
     "text": [
      "100%|██████████| 226833/226833 [00:00<00:00, 282050.92it/s]\n",
      "100%|██████████| 226833/226833 [00:02<00:00, 106360.97it/s]\n",
      "100%|██████████| 226833/226833 [00:02<00:00, 112654.97it/s]\n",
      "100%|██████████| 226833/226833 [00:02<00:00, 112315.72it/s]\n",
      "100%|██████████| 226833/226833 [00:01<00:00, 115971.72it/s]\n",
      "100%|██████████| 226833/226833 [00:01<00:00, 115343.38it/s]\n",
      "100%|██████████| 226833/226833 [00:01<00:00, 116331.50it/s]\n"
     ]
    }
   ],
   "source": [
    "data['ttext_clean'] = data['ttext']\\\n",
    "    .progress_apply(lambda t:[ w.strip() for w in t.split() if w.strip() ] )\\\n",
    "    .progress_apply(lambda t:[ re.sub(r'^http.*',' url ', w.strip() ) for w in t ] )\\\n",
    "    .progress_apply(lambda t:[ re.sub(r'[:;]-*[)D]',' happysmile ', w.strip() )for w in t ])\\\n",
    "    .progress_apply(lambda t:[ re.sub(r'\\)\\)\\)*',' happysmile ', w.strip() ) for w in t ])\\\n",
    "    .progress_apply(lambda t:[ re.sub(r'[:;]\\*',' kisssmile ', w.strip() ) for w in t ])\\\n",
    "    .progress_apply(lambda t:[ re.sub(r':\\(',' sadsmile ', w.strip() ) for w in t ])\\\n",
    "    .progress_apply(lambda t:[ re.sub(r'\\(\\(\\(*',' sadsmile ', w.strip() ) for w in t ])"
   ]
  },
  {
   "cell_type": "code",
   "execution_count": 11,
   "metadata": {},
   "outputs": [],
   "source": [
    "data['ttext_clean'] = [ ' '.join(s) for s in data['ttext_clean'] ]"
   ]
  },
  {
   "cell_type": "code",
   "execution_count": 12,
   "metadata": {},
   "outputs": [
    {
     "name": "stderr",
     "output_type": "stream",
     "text": [
      "100%|██████████| 226833/226833 [00:01<00:00, 190529.00it/s]\n",
      "100%|██████████| 226833/226833 [00:00<00:00, 808781.91it/s]\n",
      "100%|██████████| 226833/226833 [00:00<00:00, 347290.65it/s]\n",
      "100%|██████████| 226833/226833 [00:00<00:00, 255028.65it/s]\n",
      "100%|██████████| 226833/226833 [00:02<00:00, 99145.92it/s] \n"
     ]
    }
   ],
   "source": [
    "data['ttext_clean'] = data['ttext_clean'].str.lower()\\\n",
    "    .progress_apply(lambda s: re.sub( r'\\W', ' ', s))\\\n",
    "    .progress_apply(lambda s: re.sub( r'_', ' ', s))\\\n",
    "    .progress_apply(lambda s: re.sub( r'\\b\\d+\\b', ' digit ', s))\\\n",
    "    .progress_apply(lambda t:[ w.strip() for w in t.split() if w.strip() ] )\\\n",
    "    .progress_apply(lambda t: [w for w in t if not re.match( r'\\b.*\\d+.*\\b', w) ])"
   ]
  },
  {
   "cell_type": "code",
   "execution_count": 13,
   "metadata": {},
   "outputs": [
    {
     "data": {
      "text/html": [
       "<div>\n",
       "<style scoped>\n",
       "    .dataframe tbody tr th:only-of-type {\n",
       "        vertical-align: middle;\n",
       "    }\n",
       "\n",
       "    .dataframe tbody tr th {\n",
       "        vertical-align: top;\n",
       "    }\n",
       "\n",
       "    .dataframe thead th {\n",
       "        text-align: right;\n",
       "    }\n",
       "</style>\n",
       "<table border=\"1\" class=\"dataframe\">\n",
       "  <thead>\n",
       "    <tr style=\"text-align: right;\">\n",
       "      <th></th>\n",
       "      <th>id</th>\n",
       "      <th>ttext</th>\n",
       "      <th>ttype</th>\n",
       "      <th>ttext_clean</th>\n",
       "    </tr>\n",
       "  </thead>\n",
       "  <tbody>\n",
       "    <tr>\n",
       "      <th>110658</th>\n",
       "      <td>411196316690042880</td>\n",
       "      <td>@NataCitrus НИИИТ ТЫ КАК МАЛЕНЬКИЙ ТЕПЛЫЙ КОМОЧЕК )))</td>\n",
       "      <td>1</td>\n",
       "      <td>[natacitrus, нииит, ты, как, маленький, теплый, комочек, happysmile]</td>\n",
       "    </tr>\n",
       "    <tr>\n",
       "      <th>34792</th>\n",
       "      <td>413338864627879936</td>\n",
       "      <td>Высокоуровневые абстракции крайне негативно влияют на стабильность системы. Не ясно, где перехватывать исключения =(</td>\n",
       "      <td>-1</td>\n",
       "      <td>[высокоуровневые, абстракции, крайне, негативно, влияют, на, стабильность, системы, не, ясно, где, перехватывать, исключения]</td>\n",
       "    </tr>\n",
       "    <tr>\n",
       "      <th>24051</th>\n",
       "      <td>409506772269809667</td>\n",
       "      <td>Любой вечер с вами наполнен приключениями, а ночь - таит безумство)</td>\n",
       "      <td>1</td>\n",
       "      <td>[любой, вечер, с, вами, наполнен, приключениями, а, ночь, таит, безумство]</td>\n",
       "    </tr>\n",
       "  </tbody>\n",
       "</table>\n",
       "</div>"
      ],
      "text/plain": [
       "                        id  \\\n",
       "110658  411196316690042880   \n",
       "34792   413338864627879936   \n",
       "24051   409506772269809667   \n",
       "\n",
       "                                                                                                                       ttext  \\\n",
       "110658                                                                 @NataCitrus НИИИТ ТЫ КАК МАЛЕНЬКИЙ ТЕПЛЫЙ КОМОЧЕК )))   \n",
       "34792   Высокоуровневые абстракции крайне негативно влияют на стабильность системы. Не ясно, где перехватывать исключения =(   \n",
       "24051                                                    Любой вечер с вами наполнен приключениями, а ночь - таит безумство)   \n",
       "\n",
       "        ttype  \\\n",
       "110658      1   \n",
       "34792      -1   \n",
       "24051       1   \n",
       "\n",
       "                                                                                                                          ttext_clean  \n",
       "110658                                                           [natacitrus, нииит, ты, как, маленький, теплый, комочек, happysmile]  \n",
       "34792   [высокоуровневые, абстракции, крайне, негативно, влияют, на, стабильность, системы, не, ясно, где, перехватывать, исключения]  \n",
       "24051                                                      [любой, вечер, с, вами, наполнен, приключениями, а, ночь, таит, безумство]  "
      ]
     },
     "execution_count": 13,
     "metadata": {},
     "output_type": "execute_result"
    }
   ],
   "source": [
    "data.sample(3)"
   ]
  },
  {
   "cell_type": "code",
   "execution_count": 14,
   "metadata": {},
   "outputs": [],
   "source": [
    "# удаление коротких слов\n",
    "# data['ttext_clean'] = data['ttext_clean'].progress_apply(lambda t:[w for w in t if len(w)>2])"
   ]
  },
  {
   "cell_type": "code",
   "execution_count": 15,
   "metadata": {},
   "outputs": [
    {
     "name": "stdout",
     "output_type": "stream",
     "text": [
      "записей: 226 833\n",
      "записей: 226 833\n"
     ]
    }
   ],
   "source": [
    "ppr(data)\n",
    "data = data[ data['ttext_clean'].str.len()>0 ].reset_index(drop=True) \n",
    "ppr(data)"
   ]
  },
  {
   "cell_type": "code",
   "execution_count": 16,
   "metadata": {},
   "outputs": [
    {
     "data": {
      "text/html": [
       "<div>\n",
       "<style scoped>\n",
       "    .dataframe tbody tr th:only-of-type {\n",
       "        vertical-align: middle;\n",
       "    }\n",
       "\n",
       "    .dataframe tbody tr th {\n",
       "        vertical-align: top;\n",
       "    }\n",
       "\n",
       "    .dataframe thead th {\n",
       "        text-align: right;\n",
       "    }\n",
       "</style>\n",
       "<table border=\"1\" class=\"dataframe\">\n",
       "  <thead>\n",
       "    <tr style=\"text-align: right;\">\n",
       "      <th></th>\n",
       "      <th>id</th>\n",
       "      <th>ttext</th>\n",
       "      <th>ttype</th>\n",
       "      <th>ttext_clean</th>\n",
       "    </tr>\n",
       "  </thead>\n",
       "  <tbody>\n",
       "    <tr>\n",
       "      <th>36854</th>\n",
       "      <td>409837413914411008</td>\n",
       "      <td>Ахах,бывает.Поспала 5ч-выспалась,поспала 7ч-не выспалась.:D</td>\n",
       "      <td>1</td>\n",
       "      <td>[ахах, бывает, поспала, выспалась, поспала, не, выспалась, happysmile]</td>\n",
       "    </tr>\n",
       "    <tr>\n",
       "      <th>14059</th>\n",
       "      <td>409333155926409216</td>\n",
       "      <td>Жду пока собаку свою загонит) http://t.co/Rfp1HvdVSV</td>\n",
       "      <td>1</td>\n",
       "      <td>[жду, пока, собаку, свою, загонит, url]</td>\n",
       "    </tr>\n",
       "    <tr>\n",
       "      <th>183093</th>\n",
       "      <td>417364704341008384</td>\n",
       "      <td>Из-за @icrazymouse_29  я теперь хочу ананас :(</td>\n",
       "      <td>-1</td>\n",
       "      <td>[из, за, icrazymouse, digit, я, теперь, хочу, ананас, sadsmile]</td>\n",
       "    </tr>\n",
       "  </tbody>\n",
       "</table>\n",
       "</div>"
      ],
      "text/plain": [
       "                        id  \\\n",
       "36854   409837413914411008   \n",
       "14059   409333155926409216   \n",
       "183093  417364704341008384   \n",
       "\n",
       "                                                              ttext  ttype  \\\n",
       "36854   Ахах,бывает.Поспала 5ч-выспалась,поспала 7ч-не выспалась.:D      1   \n",
       "14059          Жду пока собаку свою загонит) http://t.co/Rfp1HvdVSV      1   \n",
       "183093               Из-за @icrazymouse_29  я теперь хочу ананас :(     -1   \n",
       "\n",
       "                                                                   ttext_clean  \n",
       "36854   [ахах, бывает, поспала, выспалась, поспала, не, выспалась, happysmile]  \n",
       "14059                                  [жду, пока, собаку, свою, загонит, url]  \n",
       "183093         [из, за, icrazymouse, digit, я, теперь, хочу, ананас, sadsmile]  "
      ]
     },
     "execution_count": 16,
     "metadata": {},
     "output_type": "execute_result"
    }
   ],
   "source": [
    "data.sample(3)"
   ]
  },
  {
   "cell_type": "markdown",
   "metadata": {},
   "source": [
    "## словарь"
   ]
  },
  {
   "cell_type": "code",
   "execution_count": 17,
   "metadata": {},
   "outputs": [
    {
     "name": "stdout",
     "output_type": "stream",
     "text": [
      "записей: 240 845\n"
     ]
    }
   ],
   "source": [
    "voc = sorted(set.union(*[ set(s) for s in data['ttext_clean'].values.tolist() ]))\n",
    "voc = { w:i+1 for i,w in enumerate(voc) }\n",
    "voc['<pad>']= 0\n",
    "ppr(voc)"
   ]
  },
  {
   "cell_type": "code",
   "execution_count": 18,
   "metadata": {},
   "outputs": [
    {
     "data": {
      "text/plain": [
       "{'a': 1,\n",
       " 'aa': 2,\n",
       " 'aaa': 3,\n",
       " 'aaaa': 4,\n",
       " 'aaaaa': 5,\n",
       " 'aaaaaaaaaa': 6,\n",
       " 'aaaaaaaaaaart': 7,\n",
       " 'aaaaaahhhhhhwow': 8,\n",
       " 'aaaasyaaa': 9,\n",
       " 'aaaats': 10,\n",
       " 'aaahaahaaaah': 11,\n",
       " 'aaaidar': 12,\n",
       " 'aaaiguuul': 13,\n",
       " 'aaakristya': 14,\n",
       " 'aaalsusha': 15,\n",
       " 'aaarrrrrrrr': 16,\n",
       " 'aaaw': 17,\n",
       " 'aaburnashov': 18,\n",
       " 'aafrolova': 19,\n",
       " 'aakarimova': 20,\n",
       " 'aakellah': 21,\n",
       " 'aakuzichev': 22,\n",
       " 'aaleksandra': 23,\n",
       " 'aaleksandrowna': 24,\n",
       " 'aalello': 25,\n",
       " 'aalexithymiaa': 26,\n",
       " 'aalistok': 27,\n",
       " 'aalive': 28,\n",
       " 'aallanavaz': 29,\n",
       " 'aalove': 30,\n",
       " 'aammmmmmmm': 31,\n",
       " 'aamnastya': 32,\n",
       " 'aamooorr': 33,\n",
       " 'aamy': 34,\n",
       " 'aanaokay': 35,\n",
       " 'aanastasiaden': 36,\n",
       " 'aandrushkas': 37,\n",
       " 'aanechaev': 38,\n",
       " 'aanjkaa': 39,\n",
       " 'aanneeeet': 40,\n",
       " 'aannybarry': 41,\n",
       " 'aanvarova': 42,\n",
       " 'aanxaa': 43,\n",
       " 'aapogodina': 44,\n",
       " 'aarn': 45,\n",
       " 'aaronpaul': 46,\n",
       " 'aasexuality': 47,\n",
       " 'aashirokov': 48,\n",
       " 'aasokol': 49,\n",
       " 'aasviridova': 50,\n",
       " 'aatemkin': 51,\n",
       " 'aavsasha': 52,\n",
       " 'aavst': 53,\n",
       " 'aaw': 54,\n",
       " 'aaww': 55,\n",
       " 'aaxaxaax': 56,\n",
       " 'aayra': 57,\n",
       " 'aazbaeva': 58,\n",
       " 'ab': 59,\n",
       " 'abachurin': 60,\n",
       " 'abaevart': 61,\n",
       " 'abaigali': 62,\n",
       " 'abaimovamar': 63,\n",
       " 'abaituzelbai': 64,\n",
       " 'abakan': 65,\n",
       " 'abakanfest': 66,\n",
       " 'abakanlondon': 67,\n",
       " 'abakanskiy': 68,\n",
       " 'abakarovich': 69,\n",
       " 'abakiroff': 70,\n",
       " 'abakumovich': 71,\n",
       " 'abaltaeva': 72,\n",
       " 'abama': 73,\n",
       " 'abamka': 74,\n",
       " 'abarai': 75,\n",
       " 'abashev': 76,\n",
       " 'abashina': 77,\n",
       " 'abat': 78,\n",
       " 'abatterble': 79,\n",
       " 'abay': 80,\n",
       " 'abayserikov': 81,\n",
       " 'abaysinaev': 82,\n",
       " 'abazhur': 83,\n",
       " 'abbat': 84,\n",
       " 'abbemesser': 85,\n",
       " 'abbevg': 86,\n",
       " 'abbey': 87,\n",
       " 'abbot': 88,\n",
       " 'abbrikoc': 89,\n",
       " 'abbsol': 90,\n",
       " 'abby': 91,\n",
       " 'abbyy': 92,\n",
       " 'abc': 93,\n",
       " 'abcdefghijklmqq': 94,\n",
       " 'abd': 95,\n",
       " 'abdariaa': 96,\n",
       " 'abdieva': 97,\n",
       " 'abdikadirovna': 98,\n",
       " 'abdstas': 99,\n",
       " 'abdulazizmi': 100,\n",
       " 'abdulkadirtrker': 101,\n",
       " 'abdullin': 102,\n",
       " 'abdullina': 103,\n",
       " 'abdullohsodiqov': 104,\n",
       " 'abdullovruslan': 105,\n",
       " 'abdulovaalinka': 106,\n",
       " 'abduqodir': 107,\n",
       " 'abduragims': 108,\n",
       " 'abdy': 109,\n",
       " 'abe': 110,\n",
       " 'abed': 111,\n",
       " 'abeduin': 112,\n",
       " 'abejorro': 113,\n",
       " 'abekmagambetova': 114,\n",
       " 'abelchuk': 115,\n",
       " 'abelieber': 116,\n",
       " 'abelyalov': 117,\n",
       " 'aberadez': 118,\n",
       " 'abercombie': 119,\n",
       " 'aberforth': 120,\n",
       " 'aberkutova': 121,\n",
       " 'abernathy': 122,\n",
       " 'aberyaseva': 123,\n",
       " 'abeshkov': 124,\n",
       " 'abete': 125,\n",
       " 'abezdelov': 126,\n",
       " 'abezrukov': 127,\n",
       " 'abgabriels': 128,\n",
       " 'abibas': 129,\n",
       " 'abigerus': 130,\n",
       " 'abilgwn': 131,\n",
       " 'abishev': 132,\n",
       " 'abitrussian': 133,\n",
       " 'abjurato': 134,\n",
       " 'ableev': 135,\n",
       " 'ablomoov': 136,\n",
       " 'ablyalimova': 137,\n",
       " 'abnepo': 138,\n",
       " 'abnormal': 139,\n",
       " 'abo': 140,\n",
       " 'aboard': 141,\n",
       " 'abogachev': 142,\n",
       " 'abolerojni': 143,\n",
       " 'abomrnvadpgln': 144,\n",
       " 'abondarewa': 145,\n",
       " 'abotvina': 146,\n",
       " 'about': 147,\n",
       " 'aboutmusicvideo': 148,\n",
       " 'aboutpaulinas': 149,\n",
       " 'aboveoceans': 150,\n",
       " 'abozhin': 151,\n",
       " 'abrahammateoukr': 152,\n",
       " 'abrakaaadabra': 153,\n",
       " 'abrakhimov': 154,\n",
       " 'abramcevad': 155,\n",
       " 'abramenko': 156,\n",
       " 'abramlin': 157,\n",
       " 'abramobramov': 158,\n",
       " 'abramov': 159,\n",
       " 'abramova': 160,\n",
       " 'abramovakaryy': 161,\n",
       " 'abramovakaterin': 162,\n",
       " 'abramovdeputat': 163,\n",
       " 'abramovrs': 164,\n",
       " 'abramovvictoria': 165,\n",
       " 'abramromovich': 166,\n",
       " 'abrams': 167,\n",
       " 'abrashkina': 168,\n",
       " 'abrauprt': 169,\n",
       " 'abrazhko': 170,\n",
       " 'abrazumova': 171,\n",
       " 'abrekos': 172,\n",
       " 'abrikoooos': 173,\n",
       " 'abrikos': 174,\n",
       " 'abrikosov': 175,\n",
       " 'abrindyukova': 176,\n",
       " 'abrodarskii': 177,\n",
       " 'abrorqodirov': 178,\n",
       " 'abrosimov': 179,\n",
       " 'abrosimova': 180,\n",
       " 'abrosimovakr': 181,\n",
       " 'abrosimovaks': 182,\n",
       " 'abrosimowa': 183,\n",
       " 'abrossimov': 184,\n",
       " 'abrosy': 185,\n",
       " 'abrrammovich': 186,\n",
       " 'abrynajgvs': 187,\n",
       " 'abrytkin': 188,\n",
       " 'absamatova': 189,\n",
       " 'absatoverbol': 190,\n",
       " 'absenta': 191,\n",
       " 'absentin': 192,\n",
       " 'absinthe': 193,\n",
       " 'absolutbounty': 194,\n",
       " 'absolute': 195,\n",
       " 'absolvo': 196,\n",
       " 'abssollution': 197,\n",
       " 'abstergo': 198,\n",
       " 'abstinancy': 199,\n",
       " 'abstraction': 200,\n",
       " 'absurd': 201,\n",
       " 'absurdtheater': 202,\n",
       " 'abszztrakkt': 203,\n",
       " 'abtomapc': 204,\n",
       " 'abubaxi': 205,\n",
       " 'abudantsev': 206,\n",
       " 'abukirev': 207,\n",
       " 'abukumb': 208,\n",
       " 'abumchik': 209,\n",
       " 'abunin': 210,\n",
       " 'abunyasha': 211,\n",
       " 'abushaev': 212,\n",
       " 'abushmeleva': 213,\n",
       " 'abutyashca': 214,\n",
       " 'abylai': 215,\n",
       " 'abynade': 216,\n",
       " 'abyss': 217,\n",
       " 'abyssal': 218,\n",
       " 'abysslucy': 219,\n",
       " 'abzalilovr': 220,\n",
       " 'ac': 221,\n",
       " 'aca': 222,\n",
       " 'academdog': 223,\n",
       " 'academic': 224,\n",
       " 'academy': 225,\n",
       " 'acanadazo': 226,\n",
       " 'acawagejpa': 227,\n",
       " 'acc': 228,\n",
       " 'accel': 229,\n",
       " 'accelerari': 230,\n",
       " 'acceleration': 231,\n",
       " 'accept': 232,\n",
       " 'access': 233,\n",
       " 'accessibility': 234,\n",
       " 'accessories': 235,\n",
       " 'accident': 236,\n",
       " 'accio': 237,\n",
       " 'acckijbuffone': 238,\n",
       " 'accomplished': 239,\n",
       " 'account': 240,\n",
       " 'accounting': 241,\n",
       " 'accro': 242,\n",
       " 'accuweather': 243,\n",
       " 'acdc': 244,\n",
       " 'ace': 245,\n",
       " 'acer': 246,\n",
       " 'acerru': 247,\n",
       " 'acethevampire': 248,\n",
       " 'aceticum': 249,\n",
       " 'aceventcom': 250,\n",
       " 'ach': 251,\n",
       " 'achadwyck': 252,\n",
       " 'achaquefois': 253,\n",
       " 'ache': 254,\n",
       " 'achebotarenko': 255,\n",
       " 'achebotareov': 256,\n",
       " 'achekhova': 257,\n",
       " 'achiserdtse': 258,\n",
       " 'achupahina': 259,\n",
       " 'acid': 260,\n",
       " 'acidchemicals': 261,\n",
       " 'acidcorerzr': 262,\n",
       " 'acidde': 263,\n",
       " 'aciden': 264,\n",
       " 'acidmit': 265,\n",
       " 'acidpinkunicorn': 266,\n",
       " 'ackles': 267,\n",
       " 'acklesjennny': 268,\n",
       " 'acmilan': 269,\n",
       " 'acollaa': 270,\n",
       " 'aconitum': 271,\n",
       " 'acorn': 272,\n",
       " 'acorndays': 273,\n",
       " 'acorndianaacorn': 274,\n",
       " 'acorned': 275,\n",
       " 'acornksushka': 276,\n",
       " 'acostantinis': 277,\n",
       " 'acoustick': 278,\n",
       " 'acpi': 279,\n",
       " 'acrojulia': 280,\n",
       " 'acronicss': 281,\n",
       " 'acronis': 282,\n",
       " 'acroread': 283,\n",
       " 'acrossthechas': 284,\n",
       " 'acsochka': 285,\n",
       " 'act': 286,\n",
       " 'actavius': 287,\n",
       " 'actaxoba': 288,\n",
       " 'actioncurrent': 289,\n",
       " 'actionscript': 290,\n",
       " 'activator': 291,\n",
       " 'active': 292,\n",
       " 'activeassist': 293,\n",
       " 'activex': 294,\n",
       " 'activities': 295,\n",
       " 'activity': 296,\n",
       " 'actress': 297,\n",
       " 'actressk': 298,\n",
       " 'actrisa': 299,\n",
       " 'actuallysofi': 300,\n",
       " 'actualstalin': 301,\n",
       " 'acyanya': 302,\n",
       " 'aczedrik': 303,\n",
       " 'ad': 304,\n",
       " 'ada': 305,\n",
       " 'adagamov': 306,\n",
       " 'adagerden': 307,\n",
       " 'adakoenig': 308,\n",
       " 'adam': 309,\n",
       " 'adama': 310,\n",
       " 'adamenko': 311,\n",
       " 'adamgadzhiev': 312,\n",
       " 'adamgilcom': 313,\n",
       " 'adamgontierreal': 314,\n",
       " 'adamkesher': 315,\n",
       " 'adamkollor': 316,\n",
       " 'adamlambert': 317,\n",
       " 'adammargotus': 318,\n",
       " 'adamovichnika': 319,\n",
       " 'adams': 320,\n",
       " 'adamson': 321,\n",
       " 'adamveesevani': 322,\n",
       " 'adanisah': 323,\n",
       " 'adapter': 324,\n",
       " 'adatisher': 325,\n",
       " 'adayl': 326,\n",
       " 'adaytosoldier': 327,\n",
       " 'adblock': 328,\n",
       " 'adbratchiko': 329,\n",
       " 'adc': 330,\n",
       " 'adcorsa': 331,\n",
       " 'add': 332,\n",
       " 'addams': 333,\n",
       " 'addendum': 334,\n",
       " 'addict': 335,\n",
       " 'addiepiccarreta': 336,\n",
       " 'addiiisvc': 337,\n",
       " 'address': 338,\n",
       " 'addvo': 339,\n",
       " 'addy': 340,\n",
       " 'adekwat': 341,\n",
       " 'adel': 342,\n",
       " 'adelabrazumova': 343,\n",
       " 'adelaida': 344,\n",
       " 'adelaideblissss': 345,\n",
       " 'adelain': 346,\n",
       " 'adelbazinga': 347,\n",
       " 'adele': 348,\n",
       " 'adelechkaaaa': 349,\n",
       " 'adeleriddle': 350,\n",
       " 'adelewarhola': 351,\n",
       " 'adelgumerova': 352,\n",
       " 'adelheld': 353,\n",
       " 'adeliaa': 354,\n",
       " 'adelichka': 355,\n",
       " 'adeliinkaaa': 356,\n",
       " 'adelijax': 357,\n",
       " 'adelika': 358,\n",
       " 'adelikas': 359,\n",
       " 'adelina': 360,\n",
       " 'adelinaahmetova': 361,\n",
       " 'adelinabayer': 362,\n",
       " 'adelinalolipop': 363,\n",
       " 'adelinamusina': 364,\n",
       " 'adelinka': 365,\n",
       " 'adelinkaaa': 366,\n",
       " 'adelkhalilova': 367,\n",
       " 'adella': 368,\n",
       " 'adellaidabik': 369,\n",
       " 'adelmorikkini': 370,\n",
       " 'adelshebib': 371,\n",
       " 'adelshinov': 372,\n",
       " 'adely': 373,\n",
       " 'adelya': 374,\n",
       " 'adelyaaaaaa': 375,\n",
       " 'adelyadely': 376,\n",
       " 'adelyagayazova': 377,\n",
       " 'adelyakhadiсначала': 378,\n",
       " 'adelyakhasanova': 379,\n",
       " 'adelyayu': 380,\n",
       " 'adema': 381,\n",
       " 'adenisenko': 382,\n",
       " 'adent': 383,\n",
       " 'adentroo': 384,\n",
       " 'adept': 385,\n",
       " 'adequatelogin': 386,\n",
       " 'adequates': 387,\n",
       " 'adereykoa': 388,\n",
       " 'aderyabin': 389,\n",
       " 'ades': 390,\n",
       " 'adesia': 391,\n",
       " 'adetwhite': 392,\n",
       " 'adevishev': 393,\n",
       " 'adichek': 394,\n",
       " 'adidas': 395,\n",
       " 'adieib': 396,\n",
       " 'adieu': 397,\n",
       " 'adilborbiev': 398,\n",
       " 'adiletofficial': 399,\n",
       " 'adilfromstories': 400,\n",
       " 'adiltaalaibek': 401,\n",
       " 'adilya': 402,\n",
       " 'adilyaguseinova': 403,\n",
       " 'adinalaikova': 404,\n",
       " 'adiray': 405,\n",
       " 'adisultanaliev': 406,\n",
       " 'adizero': 407,\n",
       " 'adjievaznaur': 408,\n",
       " 'adjush': 409,\n",
       " 'adk': 410,\n",
       " 'adkalex': 411,\n",
       " 'adler': 412,\n",
       " 'adlerlessframe': 413,\n",
       " 'adlersu': 414,\n",
       " 'adlerzz': 415,\n",
       " 'adm': 416,\n",
       " 'adme': 417,\n",
       " 'admefr': 418,\n",
       " 'admgkh': 419,\n",
       " 'admin': 420,\n",
       " 'admiral': 421,\n",
       " 'admiremeslut': 422,\n",
       " 'admitad': 423,\n",
       " 'admitted': 424,\n",
       " 'admsamrna': 425,\n",
       " 'adn': 426,\n",
       " 'ado': 427,\n",
       " 'adobe': 428,\n",
       " 'adolf': 429,\n",
       " 'adolfgiitler': 430,\n",
       " 'adolfnastya': 431,\n",
       " 'adolmatovich': 432,\n",
       " 'adom': 433,\n",
       " 'adomceva': 434,\n",
       " 'adommist': 435,\n",
       " 'adomogar': 436,\n",
       " 'adomogarov': 437,\n",
       " 'adomogarovполучается': 438,\n",
       " 'adomogarovтебе': 439,\n",
       " 'adomogarovу': 440,\n",
       " 'adoption': 441,\n",
       " 'adorable': 442,\n",
       " 'adore': 443,\n",
       " 'adorevh': 444,\n",
       " 'adorofeeva': 445,\n",
       " 'adova': 446,\n",
       " 'adow': 447,\n",
       " 'adpoletaew': 448,\n",
       " 'adrenalin': 449,\n",
       " 'adrenalinhunter': 450,\n",
       " 'adri': 451,\n",
       " 'adriana': 452,\n",
       " 'adrianveidt': 453,\n",
       " 'adrienne': 454,\n",
       " 'adropcake': 455,\n",
       " 'adruara': 456,\n",
       " 'ads': 457,\n",
       " 'adskk': 458,\n",
       " 'adsl': 459,\n",
       " 'adst': 460,\n",
       " 'adsweep': 461,\n",
       " 'adu': 462,\n",
       " 'adubijyz': 463,\n",
       " 'aduckevich': 464,\n",
       " 'adui': 465,\n",
       " 'adult': 466,\n",
       " 'adunipexib': 467,\n",
       " 'aduuchin': 468,\n",
       " 'aduvanchick': 469,\n",
       " 'adv': 470,\n",
       " 'advakhova': 471,\n",
       " 'advance': 472,\n",
       " 'advanced': 473,\n",
       " 'advena': 474,\n",
       " 'adventure': 475,\n",
       " 'adventures': 476,\n",
       " 'advertising': 477,\n",
       " 'advisor': 478,\n",
       " 'advokat': 479,\n",
       " 'advokatkax': 480,\n",
       " 'advokatkubany': 481,\n",
       " 'advornichenko': 482,\n",
       " 'adwords': 483,\n",
       " 'adxam': 484,\n",
       " 'adygbay': 485,\n",
       " 'adyl': 486,\n",
       " 'adzhayani': 487,\n",
       " 'ae': 488,\n",
       " 'aecheage': 489,\n",
       " 'aee': 490,\n",
       " 'aeee': 491,\n",
       " 'aeeneas': 492,\n",
       " 'aef': 493,\n",
       " 'aegisub': 494,\n",
       " 'aegoliusfunere': 495,\n",
       " 'aegovtseva': 496,\n",
       " 'aegozova': 497,\n",
       " 'aeh': 498,\n",
       " 'aelena': 499,\n",
       " 'aelenags': 500,\n",
       " 'aelina': 501,\n",
       " 'aelinwel': 502,\n",
       " 'aeliriannon': 503,\n",
       " 'aelitatenmailru': 504,\n",
       " 'aelitik': 505,\n",
       " 'aelvina': 506,\n",
       " 'aelvirka': 507,\n",
       " 'aeonchokopie': 508,\n",
       " 'aere': 509,\n",
       " 'aerigalle': 510,\n",
       " 'aero': 511,\n",
       " 'aeroexpress': 512,\n",
       " 'aeroflot': 513,\n",
       " 'aeroleg': 514,\n",
       " 'aerosmith': 515,\n",
       " 'aesonne': 516,\n",
       " 'aesonneiolas': 517,\n",
       " 'aether': 518,\n",
       " 'aethyr': 519,\n",
       " 'aevalentina': 520,\n",
       " 'aevgrafoff': 521,\n",
       " 'aey': 522,\n",
       " 'af': 523,\n",
       " 'afa': 524,\n",
       " 'afaackinga': 525,\n",
       " 'afaelkadu': 526,\n",
       " 'afanas': 527,\n",
       " 'afanasevavika': 528,\n",
       " 'afanasievaaaa': 529,\n",
       " 'afanasil': 530,\n",
       " 'afanasiy': 531,\n",
       " 'afanasiyafonya': 532,\n",
       " 'afanasjeva': 533,\n",
       " 'afanasybiz': 534,\n",
       " 'afanasyeva': 535,\n",
       " 'afc': 536,\n",
       " 'affectahah': 537,\n",
       " 'affectionpain': 538,\n",
       " 'affectiotate': 539,\n",
       " 'afifamcauslene': 540,\n",
       " 'afifoxyvo': 541,\n",
       " 'afigenen': 542,\n",
       " 'afiknoev': 543,\n",
       " 'afikopafon': 544,\n",
       " 'afineva': 545,\n",
       " 'afishavozduh': 546,\n",
       " 'afiskon': 547,\n",
       " 'afk': 548,\n",
       " 'afofitaxp': 549,\n",
       " 'afonina': 550,\n",
       " 'afoninanafanya': 551,\n",
       " 'afonins': 552,\n",
       " 'afoninsb': 553,\n",
       " 'afonyaromanova': 554,\n",
       " 'afopyminu': 555,\n",
       " 'afrel': 556,\n",
       " 'africa': 557,\n",
       " 'african': 558,\n",
       " 'africo': 559,\n",
       " 'afrinsergey': 560,\n",
       " 'after': 561,\n",
       " 'aftermath': 562,\n",
       " 'afterparty': 563,\n",
       " 'aftorr': 564,\n",
       " 'afuckdiva': 565,\n",
       " 'afuckina': 566,\n",
       " 'afuckinga': 567,\n",
       " 'afugukivil': 568,\n",
       " 'afumyfujov': 569,\n",
       " 'afyfglprwl': 570,\n",
       " 'afytyrisyn': 571,\n",
       " 'ag': 572,\n",
       " 'aga': 573,\n",
       " 'agafdasha': 574,\n",
       " 'agaffonov': 575,\n",
       " 'agafiyatullina': 576,\n",
       " 'agafonova': 577,\n",
       " 'agafonowavika': 578,\n",
       " 'agafredo': 579,\n",
       " 'agaichka': 580,\n",
       " 'again': 581,\n",
       " 'againkarina': 582,\n",
       " 'against': 583,\n",
       " 'agalak': 584,\n",
       " 'agalakovaolya': 585,\n",
       " 'agalaryanliliya': 586,\n",
       " 'agalitsky': 587,\n",
       " 'agallowsa': 588,\n",
       " 'agaltsova': 589,\n",
       " 'agalyaev': 590,\n",
       " 'agalyrike': 591,\n",
       " 'agamimoshdj': 592,\n",
       " 'agapitovaaaa': 593,\n",
       " 'agapovaaaa': 594,\n",
       " 'agapovaaaaa': 595,\n",
       " 'agapovaaaaaa': 596,\n",
       " 'agapovaava': 597,\n",
       " 'agaric': 598,\n",
       " 'agarkovakseniya': 599,\n",
       " 'agasha': 600,\n",
       " 'agaszypielewicz': 601,\n",
       " 'agatacrysty': 602,\n",
       " 'agathashishigna': 603,\n",
       " 'agathekristi': 604,\n",
       " 'agatiat': 605,\n",
       " 'agatko': 606,\n",
       " 'agavaleria': 607,\n",
       " 'agavrilchik': 608,\n",
       " 'agaysenyuk': 609,\n",
       " 'agazhay': 610,\n",
       " 'agbasket': 611,\n",
       " 'agedroic': 612,\n",
       " 'ageev': 613,\n",
       " 'agelinanova': 614,\n",
       " 'agelka': 615,\n",
       " 'agency': 616,\n",
       " 'agencyhuegency': 617,\n",
       " 'agent': 618,\n",
       " 'agentrat': 619,\n",
       " 'ager': 620,\n",
       " 'ageranina': 621,\n",
       " 'agerasimovna': 622,\n",
       " 'agerim': 623,\n",
       " 'ages': 624,\n",
       " 'aggresiya': 625,\n",
       " 'aggression': 626,\n",
       " 'aggressive': 627,\n",
       " 'aggressivegulyy': 628,\n",
       " 'aghanim': 629,\n",
       " 'aghrrrr': 630,\n",
       " 'agibalova': 631,\n",
       " 'agic': 632,\n",
       " 'agilele': 633,\n",
       " 'agilerovna': 634,\n",
       " 'agilialinux': 635,\n",
       " 'agilone': 636,\n",
       " 'agishevaaa': 637,\n",
       " 'agladkix': 638,\n",
       " 'aglajka': 639,\n",
       " 'aglasch': 640,\n",
       " 'agleev': 641,\n",
       " 'agletdinov': 642,\n",
       " 'agmorozov': 643,\n",
       " 'agnes': 644,\n",
       " 'agnesell': 645,\n",
       " 'agnessa': 646,\n",
       " 'agnessayeah': 647,\n",
       " 'agni': 648,\n",
       " 'agnieszkaoo': 649,\n",
       " 'ago': 650,\n",
       " 'agolovicheva': 651,\n",
       " 'agolubeva': 652,\n",
       " 'agoncharova': 653,\n",
       " 'agonius': 654,\n",
       " 'agonsashenka': 655,\n",
       " 'agony': 656,\n",
       " 'agonyro': 657,\n",
       " 'agoodunicorn': 658,\n",
       " 'agoodvikky': 659,\n",
       " 'agopher': 660,\n",
       " 'agoshkovakris': 661,\n",
       " 'agospodarenko': 662,\n",
       " 'agotuqehyn': 663,\n",
       " 'agr': 664,\n",
       " 'agra': 665,\n",
       " 'agraevskaya': 666,\n",
       " 'agranovskiy': 667,\n",
       " 'agrba': 668,\n",
       " 'agree': 669,\n",
       " 'agressivefox': 670,\n",
       " 'agrest': 671,\n",
       " 'agrippina': 672,\n",
       " 'agron': 673,\n",
       " 'aground': 674,\n",
       " 'agruneva': 675,\n",
       " 'agsidenko': 676,\n",
       " 'aguero': 677,\n",
       " 'aguilarapace': 678,\n",
       " 'aguilera': 679,\n",
       " 'agutewal': 680,\n",
       " 'agwzd': 681,\n",
       " 'agy': 682,\n",
       " 'ah': 683,\n",
       " 'ahaah': 684,\n",
       " 'ahah': 685,\n",
       " 'ahaha': 686,\n",
       " 'ahahaacc': 687,\n",
       " 'ahahac': 688,\n",
       " 'ahahacob': 689,\n",
       " 'ahahah': 690,\n",
       " 'ahalaimov': 691,\n",
       " 'ahamueva': 692,\n",
       " 'ahanova': 693,\n",
       " 'ahaxijewp': 694,\n",
       " 'ahdr': 695,\n",
       " 'aheliar': 696,\n",
       " 'ahh': 697,\n",
       " 'ahhh': 698,\n",
       " 'ahhr': 699,\n",
       " 'ahhrita': 700,\n",
       " 'ahiev': 701,\n",
       " 'ahimgor': 702,\n",
       " 'ahitrin': 703,\n",
       " 'ahivyxity': 704,\n",
       " 'ahixohocy': 705,\n",
       " 'ahlinara': 706,\n",
       " 'ahlurglgr': 707,\n",
       " 'ahm': 708,\n",
       " 'ahmad': 709,\n",
       " 'ahmadiev': 710,\n",
       " 'ahmadova': 711,\n",
       " 'ahmarovaluiza': 712,\n",
       " 'ahmatova': 713,\n",
       " 'ahmetova': 714,\n",
       " 'ahmetovahalida': 715,\n",
       " 'ahmetovaliza': 716,\n",
       " 'ahmetovna': 717,\n",
       " 'ahmetzyan': 718,\n",
       " 'ahmmdonnetray': 719,\n",
       " 'ahnalivko': 720,\n",
       " 'ahojetyr': 721,\n",
       " 'aholodnaya': 722,\n",
       " 'ahremenkovika': 723,\n",
       " 'ahs': 724,\n",
       " 'ahsgleedw': 725,\n",
       " 'ahtiamow': 726,\n",
       " 'ahuenno': 727,\n",
       " 'ahumykyte': 728,\n",
       " 'ahurtsov': 729,\n",
       " 'ai': 730,\n",
       " 'aibekbaratov': 731,\n",
       " 'aibelousov': 732,\n",
       " 'aibgm': 733,\n",
       " 'aibogacheva': 734,\n",
       " 'aid': 735,\n",
       " 'aida': 736,\n",
       " 'aidaalakbar': 737,\n",
       " 'aidaaraslanova': 738,\n",
       " 'aidababayeva': 739,\n",
       " 'aidaconscience': 740,\n",
       " 'aidadossayeva': 741,\n",
       " 'aidaharington': 742,\n",
       " 'aidai': 743,\n",
       " 'aidakulamova': 744,\n",
       " 'aidana': 745,\n",
       " 'aidar': 746,\n",
       " 'aidarharsh': 747,\n",
       " 'aidarkaaaa': 748,\n",
       " 'aidarovaf': 749,\n",
       " 'aidarramanov': 750,\n",
       " 'aidartulyaev': 751,\n",
       " 'aidasarlybaeva': 752,\n",
       " 'aidashov': 753,\n",
       " 'aidaterentyeva': 754,\n",
       " 'aidavanyan': 755,\n",
       " 'aidieva': 756,\n",
       " 'aidinkao': 757,\n",
       " 'aidka': 758,\n",
       " 'aidoseg': 759,\n",
       " 'aidosh': 760,\n",
       " 'aidyn': 761,\n",
       " 'aiena': 762,\n",
       " 'aienn': 763,\n",
       " 'aiesec': 764,\n",
       " 'aiexnorman': 765,\n",
       " 'aifmed': 766,\n",
       " 'aig': 767,\n",
       " 'aiganajoroeva': 768,\n",
       " 'aige': 769,\n",
       " 'aigeraadri': 770,\n",
       " 'aigerimdoskozha': 771,\n",
       " 'aigerish': 772,\n",
       " 'aigerstern': 773,\n",
       " 'aigul': 774,\n",
       " 'aigulaigulaigul': 775,\n",
       " 'aigulhaliulina': 776,\n",
       " 'aigulrowe': 777,\n",
       " 'aigumov': 778,\n",
       " 'aigylechka': 779,\n",
       " 'aii': 780,\n",
       " 'aiina': 781,\n",
       " 'aikaaqyuj': 782,\n",
       " 'aikabutaeva': 783,\n",
       " 'aikarakoz': 784,\n",
       " 'aikawhiteberg': 785,\n",
       " 'aikesenin': 786,\n",
       " 'aiko': 787,\n",
       " 'aikol': 788,\n",
       " 'aikuoivaa': 789,\n",
       " 'aikynt': 790,\n",
       " 'aikz': 791,\n",
       " 'ailana': 792,\n",
       " 'ailee': 793,\n",
       " 'aileniyazalieva': 794,\n",
       " 'ailurophile': 795,\n",
       " 'aiman': 796,\n",
       " 'aimantjet': 797,\n",
       " 'aime': 798,\n",
       " 'aimenel': 799,\n",
       " 'aimp': 800,\n",
       " 'aimpara': 801,\n",
       " 'aina': 802,\n",
       " 'ainabappoia': 803,\n",
       " 'ainaberman': 804,\n",
       " 'ainadavydova': 805,\n",
       " 'ainafoxx': 806,\n",
       " 'ainajopk': 807,\n",
       " 'ainalestrange': 808,\n",
       " 'ainaplatonova': 809,\n",
       " 'ainarabaizhan': 810,\n",
       " 'ainaraen': 811,\n",
       " 'ainaramizheva': 812,\n",
       " 'ainashestakova': 813,\n",
       " 'ainekenia': 814,\n",
       " 'aingio': 815,\n",
       " 'ainis': 816,\n",
       " 'aino': 817,\n",
       " 'ainon': 818,\n",
       " 'aint': 819,\n",
       " 'ainur': 820,\n",
       " 'ainura': 821,\n",
       " 'ainurarenova': 822,\n",
       " 'ainurariza': 823,\n",
       " 'ainurasat': 824,\n",
       " 'ainurbaigozha': 825,\n",
       " 'ainy': 826,\n",
       " 'aion': 827,\n",
       " 'aip': 828,\n",
       " 'aipadog': 829,\n",
       " 'aiperipups': 830,\n",
       " 'air': 831,\n",
       " 'airastana': 832,\n",
       " 'airat': 833,\n",
       " 'airbaltic': 834,\n",
       " 'airdrop': 835,\n",
       " 'airen': 836,\n",
       " 'airezsnowstorm': 837,\n",
       " 'airflow': 838,\n",
       " 'airimmense': 839,\n",
       " 'airis': 840,\n",
       " 'airisapple': 841,\n",
       " 'airline': 842,\n",
       " 'airlinersj': 843,\n",
       " 'airlines': 844,\n",
       " 'aironart': 845,\n",
       " 'airplay': 846,\n",
       " 'airport': 847,\n",
       " 'airunicorn': 848,\n",
       " 'airy': 849,\n",
       " 'airygreen': 850,\n",
       " 'airzhanov': 851,\n",
       " 'airах': 852,\n",
       " 'aisa': 853,\n",
       " 'aisana': 854,\n",
       " 'aisenplatonov': 855,\n",
       " 'aisha': 856,\n",
       " 'aishakuznecova': 857,\n",
       " 'aiskidanenko': 858,\n",
       " 'aisling': 859,\n",
       " 'aismirnova': 860,\n",
       " 'aisrailova': 861,\n",
       " 'aisuluuisaeva': 862,\n",
       " 'aisura': 863,\n",
       " 'aitaayta': 864,\n",
       " 'aitagilz': 865,\n",
       " 'aitalyakovlev': 866,\n",
       " 'aitalynakuokuo': 867,\n",
       " 'aitamandarova': 868,\n",
       " 'aitash': 869,\n",
       " 'aitasleptsova': 870,\n",
       " 'aitenovash': 871,\n",
       " 'aitkazieva': 872,\n",
       " 'aitovaaa': 873,\n",
       " 'aiveda': 874,\n",
       " 'aiwe': 875,\n",
       " 'aiya': 876,\n",
       " 'aiza': 877,\n",
       " 'aizaadolmatova': 878,\n",
       " 'aizadolmatova': 879,\n",
       " 'aizadolmatovaпусть': 880,\n",
       " 'aizaprosto': 881,\n",
       " 'aizgura': 882,\n",
       " 'aizhan': 883,\n",
       " 'aj': 884,\n",
       " 'ajacopa': 885,\n",
       " 'ajamka': 886,\n",
       " 'ajanskiy': 887,\n",
       " 'ajarochka': 888,\n",
       " 'ajax': 889,\n",
       " 'ajecemab': 890,\n",
       " 'ajikinaolga': 891,\n",
       " 'ajilkin': 892,\n",
       " 'ajna': 893,\n",
       " 'ajnastasiya': 894,\n",
       " 'ajnuwaboss': 895,\n",
       " 'ajufozahq': 896,\n",
       " 'ak': 897,\n",
       " 'aka': 898,\n",
       " 'akabowow': 899,\n",
       " 'akachegova': 900,\n",
       " 'akademik': 901,\n",
       " 'akademikfcsm': 902,\n",
       " 'akademka': 903,\n",
       " 'akademlogik': 904,\n",
       " 'akadetaze': 905,\n",
       " 'akado': 906,\n",
       " 'akafl': 907,\n",
       " 'akai': 908,\n",
       " 'akakamar': 909,\n",
       " 'akaki': 910,\n",
       " 'akakrg': 911,\n",
       " 'akaloy': 912,\n",
       " 'akapaka': 913,\n",
       " 'akaraid': 914,\n",
       " 'akari': 915,\n",
       " 'akarin': 916,\n",
       " 'akaroumchik': 917,\n",
       " 'akarpukhina': 918,\n",
       " 'akashi': 919,\n",
       " 'akater': 920,\n",
       " 'akatev': 921,\n",
       " 'akatigra': 922,\n",
       " 'akatsuki': 923,\n",
       " 'akaufmane': 924,\n",
       " 'akayushka': 925,\n",
       " 'akbicovska': 926,\n",
       " 'akbota': 927,\n",
       " 'akedr': 928,\n",
       " 'akela': 929,\n",
       " 'akelei': 930,\n",
       " 'akemi': 931,\n",
       " 'akemmello': 932,\n",
       " 'akerhov': 933,\n",
       " 'akerke': 934,\n",
       " 'akerohoshi': 935,\n",
       " 'akeseev': 936,\n",
       " 'akevrenaydemir': 937,\n",
       " 'akey': 938,\n",
       " 'akhalchi': 939,\n",
       " 'akhisamutdinova': 940,\n",
       " 'akhitruk': 941,\n",
       " 'akhmatbekov': 942,\n",
       " 'akhmetov': 943,\n",
       " 'akhmetzhanova': 944,\n",
       " 'akhninakristina': 945,\n",
       " 'akholodkova': 946,\n",
       " 'akhoroshyn': 947,\n",
       " 'akhtsiger': 948,\n",
       " 'akhunov': 949,\n",
       " 'aki': 950,\n",
       " 'akiharir': 951,\n",
       " 'akihiko': 952,\n",
       " 'akikomiyim': 953,\n",
       " 'akilinaserg': 954,\n",
       " 'akilinasorokina': 955,\n",
       " 'akillerqueen': 956,\n",
       " 'akimaui': 957,\n",
       " 'akimbeekov': 958,\n",
       " 'akimina': 959,\n",
       " 'akimnow': 960,\n",
       " 'akimova': 961,\n",
       " 'akimovanastena': 962,\n",
       " 'akimovanicka': 963,\n",
       " 'akinagasai': 964,\n",
       " 'akinator': 965,\n",
       " 'akinfeev': 966,\n",
       " 'akinfeevatanya': 967,\n",
       " 'akio': 968,\n",
       " 'akira': 969,\n",
       " 'akiraawesome': 970,\n",
       " 'akiragakushi': 971,\n",
       " 'akirich': 972,\n",
       " 'akisa': 973,\n",
       " 'akisheva': 974,\n",
       " 'akisizm': 975,\n",
       " 'akitniss': 976,\n",
       " 'akkama': 977,\n",
       " 'akkerman': 978,\n",
       " 'aklasun': 979,\n",
       " 'aklimentjev': 980,\n",
       " 'aklyona': 981,\n",
       " 'aklyuchinskaya': 982,\n",
       " 'akm': 983,\n",
       " 'aknet': 984,\n",
       " 'akochemasov': 985,\n",
       " 'akoeva': 986,\n",
       " 'akolesnikov': 987,\n",
       " 'akolomatsky': 988,\n",
       " 'akomissarov': 989,\n",
       " 'akon': 990,\n",
       " 'akondukova': 991,\n",
       " 'akonorova': 992,\n",
       " 'akontai': 993,\n",
       " 'akool': 994,\n",
       " 'akopakop': 995,\n",
       " 'akorenevski': 996,\n",
       " 'akorepova': 997,\n",
       " 'akosmin': 998,\n",
       " 'akostevich': 999,\n",
       " 'akovalenkox': 1000,\n",
       " ...}"
      ]
     },
     "execution_count": 18,
     "metadata": {},
     "output_type": "execute_result"
    }
   ],
   "source": [
    "voc"
   ]
  },
  {
   "cell_type": "markdown",
   "metadata": {},
   "source": [
    "## строим датасет"
   ]
  },
  {
   "cell_type": "code",
   "execution_count": 19,
   "metadata": {},
   "outputs": [
    {
     "name": "stderr",
     "output_type": "stream",
     "text": [
      "100%|██████████| 226833/226833 [00:00<00:00, 234365.57it/s]\n"
     ]
    }
   ],
   "source": [
    "# заменяем слова на номера в словаре\n",
    "data['code'] = data['ttext_clean'].progress_apply(lambda t: [ voc[w] for w in t] )"
   ]
  },
  {
   "cell_type": "code",
   "execution_count": 20,
   "metadata": {},
   "outputs": [
    {
     "data": {
      "text/html": [
       "<div>\n",
       "<style scoped>\n",
       "    .dataframe tbody tr th:only-of-type {\n",
       "        vertical-align: middle;\n",
       "    }\n",
       "\n",
       "    .dataframe tbody tr th {\n",
       "        vertical-align: top;\n",
       "    }\n",
       "\n",
       "    .dataframe thead th {\n",
       "        text-align: right;\n",
       "    }\n",
       "</style>\n",
       "<table border=\"1\" class=\"dataframe\">\n",
       "  <thead>\n",
       "    <tr style=\"text-align: right;\">\n",
       "      <th></th>\n",
       "      <th>ttext</th>\n",
       "      <th>ttext_clean</th>\n",
       "      <th>code</th>\n",
       "    </tr>\n",
       "  </thead>\n",
       "  <tbody>\n",
       "    <tr>\n",
       "      <th>224962</th>\n",
       "      <td>@1RussianRusher \\nА мне ничего не снилось(</td>\n",
       "      <td>[а, мне, ничего, не, снилось]</td>\n",
       "      <td>[68644, 141403, 152403, 148731, 203707]</td>\n",
       "    </tr>\n",
       "    <tr>\n",
       "      <th>34899</th>\n",
       "      <td>@MaratShibutov э, надо. А то как с ними проходить языковую тему \"политическое устройство РК\"? )))</td>\n",
       "      <td>[maratshibutov, э, надо, а, то, как, с, ними, проходить, языковую, тему, политическое, устройство, рк, happysmile]</td>\n",
       "      <td>[36396, 236764, 145257, 68644, 215222, 121924, 196027, 152207, 186541, 239360, 214128, 174843, 223108, 194122, 22101]</td>\n",
       "    </tr>\n",
       "    <tr>\n",
       "      <th>122000</th>\n",
       "      <td>@oksina Меня бы они тоже не напрягали. Меня напрягает тотальное безденежье(((</td>\n",
       "      <td>[oksina, меня, бы, они, тоже, не, напрягали, меня, напрягает, тотальное, безденежье, sadsmile]</td>\n",
       "      <td>[44609, 139602, 82682, 158355, 215327, 148731, 146907, 139602, 146903, 216125, 77011, 51916]</td>\n",
       "    </tr>\n",
       "  </tbody>\n",
       "</table>\n",
       "</div>"
      ],
      "text/plain": [
       "                                                                                                    ttext  \\\n",
       "224962                                                         @1RussianRusher \\nА мне ничего не снилось(   \n",
       "34899   @MaratShibutov э, надо. А то как с ними проходить языковую тему \"политическое устройство РК\"? )))   \n",
       "122000                      @oksina Меня бы они тоже не напрягали. Меня напрягает тотальное безденежье(((   \n",
       "\n",
       "                                                                                                               ttext_clean  \\\n",
       "224962                                                                                       [а, мне, ничего, не, снилось]   \n",
       "34899   [maratshibutov, э, надо, а, то, как, с, ними, проходить, языковую, тему, политическое, устройство, рк, happysmile]   \n",
       "122000                      [oksina, меня, бы, они, тоже, не, напрягали, меня, напрягает, тотальное, безденежье, sadsmile]   \n",
       "\n",
       "                                                                                                                         code  \n",
       "224962                                                                                [68644, 141403, 152403, 148731, 203707]  \n",
       "34899   [36396, 236764, 145257, 68644, 215222, 121924, 196027, 152207, 186541, 239360, 214128, 174843, 223108, 194122, 22101]  \n",
       "122000                           [44609, 139602, 82682, 158355, 215327, 148731, 146907, 139602, 146903, 216125, 77011, 51916]  "
      ]
     },
     "execution_count": 20,
     "metadata": {},
     "output_type": "execute_result"
    }
   ],
   "source": [
    "data[['ttext','ttext_clean','code']].sample(3)"
   ]
  },
  {
   "cell_type": "code",
   "execution_count": 21,
   "metadata": {},
   "outputs": [
    {
     "data": {
      "text/plain": [
       "count    226833\n",
       "mean         13\n",
       "std           5\n",
       "min           1\n",
       "25%           9\n",
       "50%          12\n",
       "75%          16\n",
       "max          42\n",
       "Name: code, dtype: int64"
      ]
     },
     "execution_count": 21,
     "metadata": {},
     "output_type": "execute_result"
    }
   ],
   "source": [
    "# оценка длины последовательностей\n",
    "data['code'].str.len().describe().astype(int)"
   ]
  },
  {
   "cell_type": "code",
   "execution_count": 22,
   "metadata": {},
   "outputs": [
    {
     "data": {
      "text/plain": [
       "<AxesSubplot:ylabel='Frequency'>"
      ]
     },
     "execution_count": 22,
     "metadata": {},
     "output_type": "execute_result"
    },
    {
     "data": {
      "image/png": "[encoded data removed]",
      "text/plain": [
       "<Figure size 432x288 with 1 Axes>"
      ]
     },
     "metadata": {
      "needs_background": "light"
     },
     "output_type": "display_data"
    }
   ],
   "source": [
    "data['code'].str.len().plot.hist()"
   ]
  },
  {
   "cell_type": "code",
   "execution_count": 23,
   "metadata": {},
   "outputs": [
    {
     "data": {
      "text/plain": [
       "42"
      ]
     },
     "execution_count": 23,
     "metadata": {},
     "output_type": "execute_result"
    }
   ],
   "source": [
    "# максимальная длинна\n",
    "code_max_len = data['code'].str.len().max()\n",
    "code_max_len"
   ]
  },
  {
   "cell_type": "code",
   "execution_count": 24,
   "metadata": {},
   "outputs": [
    {
     "name": "stderr",
     "output_type": "stream",
     "text": [
      "100%|██████████| 226833/226833 [00:00<00:00, 311060.61it/s]\n"
     ]
    }
   ],
   "source": [
    "# выравниваем длину последовательностей\n",
    "z = [0]*code_max_len # дополняем нулями короткие последовательности\n",
    "data['code'] = data['code'].progress_apply(lambda c: c+z[:(code_max_len-len(c))]  )"
   ]
  },
  {
   "cell_type": "code",
   "execution_count": 25,
   "metadata": {},
   "outputs": [
    {
     "data": {
      "text/plain": [
       "count    226833\n",
       "mean         42\n",
       "std           0\n",
       "min          42\n",
       "25%          42\n",
       "50%          42\n",
       "75%          42\n",
       "max          42\n",
       "Name: code, dtype: int64"
      ]
     },
     "execution_count": 25,
     "metadata": {},
     "output_type": "execute_result"
    }
   ],
   "source": [
    "data['code'].str.len().describe().astype(int)"
   ]
  },
  {
   "cell_type": "markdown",
   "metadata": {},
   "source": [
    "---"
   ]
  },
  {
   "cell_type": "code",
   "execution_count": 26,
   "metadata": {},
   "outputs": [
    {
     "data": {
      "text/plain": [
       "(226833, 42)"
      ]
     },
     "execution_count": 26,
     "metadata": {},
     "output_type": "execute_result"
    }
   ],
   "source": [
    "# собираем матрицу датасета\n",
    "x = np.stack( data['code'].values).astype(int)\n",
    "\n",
    "# для повышения эффективности работы рекуррентной модели\n",
    "# переворачиваем последовательности, \n",
    "# код первого слова в конце, \n",
    "# нули дополнения в начале\n",
    "x = np.flip(x,axis=1)\n",
    "\n",
    "x.shape"
   ]
  },
  {
   "cell_type": "code",
   "execution_count": 27,
   "metadata": {},
   "outputs": [
    {
     "data": {
      "text/plain": [
       "(226833,)"
      ]
     },
     "execution_count": 27,
     "metadata": {},
     "output_type": "execute_result"
    }
   ],
   "source": [
    "# метка класса {0,1}\n",
    "n_classes = 2 # количество классов\n",
    "y = (data['ttype'].values+1) // 2\n",
    "y.shape"
   ]
  },
  {
   "cell_type": "code",
   "execution_count": 28,
   "metadata": {},
   "outputs": [
    {
     "data": {
      "text/plain": [
       "(240844, 42)"
      ]
     },
     "execution_count": 28,
     "metadata": {},
     "output_type": "execute_result"
    }
   ],
   "source": [
    "max_word = x.max() # максимальный номер слова\n",
    "seq_len = x.shape[1] # длина последовательности\n",
    "\n",
    "max_word, seq_len"
   ]
  },
  {
   "cell_type": "code",
   "execution_count": 29,
   "metadata": {},
   "outputs": [
    {
     "data": {
      "text/plain": [
       "((136099, 42), (136099,), (90734, 42), (90734,))"
      ]
     },
     "execution_count": 29,
     "metadata": {},
     "output_type": "execute_result"
    }
   ],
   "source": [
    "from sklearn.model_selection import train_test_split\n",
    "\n",
    "x_train, x_test, y_train, y_test = train_test_split( x, y, test_size=.4 )\n",
    "x_train.shape, y_train.shape, x_test.shape, y_test.shape"
   ]
  },
  {
   "cell_type": "code",
   "execution_count": 30,
   "metadata": {},
   "outputs": [
    {
     "data": {
      "text/plain": [
       "(68978, 45932)"
      ]
     },
     "execution_count": 30,
     "metadata": {},
     "output_type": "execute_result"
    }
   ],
   "source": [
    "# количество позитивных примеров в train и test наборах\n",
    "y_train.sum(axis=0),y_test.sum(axis=0),"
   ]
  },
  {
   "cell_type": "markdown",
   "metadata": {},
   "source": [
    "----"
   ]
  },
  {
   "cell_type": "code",
   "execution_count": 31,
   "metadata": {},
   "outputs": [],
   "source": [
    "# def get_batch(x,y,batch_size=512):\n",
    "#     n = x.shape[0] # количество примеров\n",
    "#     pt = int(np.ceil(n/batch_size)) # количество батчей\n",
    "    \n",
    "#     # случайным образом мешаем примеры и режем на батчи\n",
    "#     ii = rng.permutation(n)\n",
    "#     xr,yr = np.array_split(x[ii,:],pt), np.array_split(y[ii],pt)\n",
    "    \n",
    "#     for i in range(pt): # генератор выдаёт батчи\n",
    "#         yield i,xr[i],yr[i]"
   ]
  },
  {
   "cell_type": "code",
   "execution_count": 32,
   "metadata": {},
   "outputs": [],
   "source": [
    "# batches = get_batch(x_train,y_train,batch_size=512)    \n",
    "# for i,xb,yb in batches: \n",
    "#     print(i,xb.shape)"
   ]
  },
  {
   "cell_type": "markdown",
   "metadata": {},
   "source": [
    "---"
   ]
  },
  {
   "cell_type": "code",
   "execution_count": 33,
   "metadata": {},
   "outputs": [],
   "source": [
    "from torch.utils.data import DataLoader\n",
    "from torch.utils.data import TensorDataset\n",
    "\n",
    "# batch_size=1024\n",
    "batch_size=2048\n",
    "\n",
    "\n",
    "train_ds = TensorDataset( torch.tensor(x_train), torch.tensor(y_train) )\n",
    "train_dl = DataLoader(train_ds, batch_size=batch_size, shuffle=True)"
   ]
  },
  {
   "cell_type": "code",
   "execution_count": 34,
   "metadata": {},
   "outputs": [],
   "source": [
    "# for xb, yb in train_dl: \n",
    "#     print(xb.shape,yb.shape)\n",
    "#     break\n",
    "#\n",
    "## > torch.Size([1024, 32]) torch.Size([1024])"
   ]
  },
  {
   "cell_type": "markdown",
   "metadata": {},
   "source": [
    "## строим модель"
   ]
  },
  {
   "cell_type": "code",
   "execution_count": 35,
   "metadata": {},
   "outputs": [],
   "source": [
    "embedding_dim = 128 # размер выхода эмбединга\n",
    "hidden_dim = 64 # размер рекуррентного слоя"
   ]
  },
  {
   "cell_type": "code",
   "execution_count": 36,
   "metadata": {},
   "outputs": [],
   "source": [
    "class Model(nn.Module):\n",
    "    def __init__(self, \n",
    "                 num_embeddings=max_word+1, # размер входа эмбединга (длина OHE)\n",
    "                 emb_dim=embedding_dim, # размер выхода эмбединга\n",
    "                 hid_dim=hidden_dim, # размер рекуррентного слоя\n",
    "                 output_dim=n_classes # размер выхода\n",
    "                ):\n",
    "        super().__init__()\n",
    "        self.emb = nn.Embedding(num_embeddings, embedding_dim) \n",
    "        self.rnn = nn.LSTM(emb_dim, hid_dim, batch_first=True) # рекуррентный слой\n",
    "        self.linear = nn.Linear(hid_dim, output_dim) # выходной (линейный) слой\n",
    "        self.sftm = nn.Softmax(dim=1)\n",
    "\n",
    "    def forward(self,x):\n",
    "        out = self.emb(x)\n",
    "        _, (hidden, _) = self.rnn(out) # обрабатываем входную последовательность\n",
    "        hidden = hidden.squeeze(0) # прекомпоновка тензора, сокращаем размерность\n",
    "        out = self.linear(hidden) # считаем выход сети\n",
    "        out = self.sftm(out)\n",
    "        return out "
   ]
  },
  {
   "cell_type": "code",
   "execution_count": 37,
   "metadata": {},
   "outputs": [
    {
     "data": {
      "text/plain": [
       "Model(\n",
       "  (emb): Embedding(240845, 128)\n",
       "  (rnn): LSTM(128, 64, batch_first=True)\n",
       "  (linear): Linear(in_features=64, out_features=2, bias=True)\n",
       "  (sftm): Softmax(dim=1)\n",
       ")"
      ]
     },
     "execution_count": 37,
     "metadata": {},
     "output_type": "execute_result"
    }
   ],
   "source": [
    "model = Model()\n",
    "model"
   ]
  },
  {
   "cell_type": "code",
   "execution_count": 38,
   "metadata": {},
   "outputs": [],
   "source": [
    "# z = torch.zeros( size=(1,seq_len), dtype=torch.int, requires_grad=False)\n",
    "# out = model(z)\n",
    "# make_dot( out, params=dict(list(model.named_parameters())), ) #show_attrs=True )  \n",
    "# # .render(\"rnn_torchviz\", format=\"png\")"
   ]
  },
  {
   "cell_type": "markdown",
   "metadata": {},
   "source": [
    "## обучаем модель"
   ]
  },
  {
   "cell_type": "code",
   "execution_count": 39,
   "metadata": {},
   "outputs": [
    {
     "data": {
      "text/plain": [
       "device(type='cuda', index=0)"
      ]
     },
     "execution_count": 39,
     "metadata": {},
     "output_type": "execute_result"
    }
   ],
   "source": [
    "device = torch.device('cuda:0' if torch.cuda.is_available() else 'cpu')\n",
    "device"
   ]
  },
  {
   "cell_type": "code",
   "execution_count": 40,
   "metadata": {},
   "outputs": [],
   "source": [
    "model = model.to(device)"
   ]
  },
  {
   "cell_type": "code",
   "execution_count": 41,
   "metadata": {},
   "outputs": [],
   "source": [
    "loss_function =  nn.CrossEntropyLoss()\n",
    "optimizer = torch.optim.Adam(model.parameters(), lr=0.005)"
   ]
  },
  {
   "cell_type": "code",
   "execution_count": 42,
   "metadata": {},
   "outputs": [
    {
     "name": "stdout",
     "output_type": "stream",
     "text": [
      "  0 : 0.4334\n",
      "  1 : 0.3997\n",
      "  2 : 0.3656\n",
      "  3 : 0.3516\n",
      "  4 : 0.3433\n",
      "  5 : 0.3316\n",
      "  6 : 0.3205\n",
      "  7 : 0.3281\n",
      "  8 : 0.3326\n",
      "  9 : 0.3349\n",
      " 10 : 0.3390\n",
      " 11 : 0.3465\n",
      " 12 : 0.3334\n",
      " 13 : 0.3276\n",
      " 14 : 0.3205\n",
      " 15 : 0.3284\n",
      " 16 : 0.3263\n",
      " 17 : 0.3247\n",
      " 18 : 0.3221\n",
      " 19 : 0.3316\n",
      " 20 : 0.3199\n",
      " 21 : 0.3222\n",
      " 22 : 0.3247\n",
      " 23 : 0.3241\n",
      " 24 : 0.3249\n",
      " 25 : 0.3273\n",
      " 26 : 0.3286\n",
      " 27 : 0.3237\n",
      " 28 : 0.3229\n",
      " 29 : 0.3283\n",
      " 30 : 0.3271\n",
      " 31 : 0.3241\n",
      "CPU times: user 1min 51s, sys: 327 ms, total: 1min 52s\n",
      "Wall time: 1min 51s\n"
     ]
    }
   ],
   "source": [
    "%%time\n",
    "\n",
    "epochs = 32\n",
    "hist = []\n",
    "for i in range(epochs):\n",
    "\n",
    "    for j,(xb,yb) in enumerate(train_dl):\n",
    "        xt,yt = xb.to(device), yb.to(device)\n",
    "        optimizer.zero_grad() # обнуляем значения градиента\n",
    "        out = model(xt) # вычисляем выход, прямой проход\n",
    "        loss = loss_function(out,yt) # вычисляем значение потери\n",
    "        loss.backward() # вычисляем значения градиента потери, обратный проход\n",
    "        optimizer.step() # изменяем значения весов модели\n",
    "        hist.append( loss.item() ) # сохраняем текущее значение потери\n",
    "        \n",
    "    print(f'{i:3} : {loss.item():.4f}')\n"
   ]
  },
  {
   "cell_type": "code",
   "execution_count": 43,
   "metadata": {},
   "outputs": [],
   "source": [
    "torch.cuda.empty_cache()"
   ]
  },
  {
   "cell_type": "code",
   "execution_count": 44,
   "metadata": {},
   "outputs": [
    {
     "data": {
      "text/plain": [
       "[<matplotlib.lines.Line2D at 0x7f38ace5bd90>]"
      ]
     },
     "execution_count": 44,
     "metadata": {},
     "output_type": "execute_result"
    },
    {
     "data": {
      "image/png": "[encoded data removed]",
      "text/plain": [
       "<Figure size 432x288 with 1 Axes>"
      ]
     },
     "metadata": {
      "needs_background": "light"
     },
     "output_type": "display_data"
    }
   ],
   "source": [
    "# изменение значения потери в процессе обучения\n",
    "plt.plot(hist)"
   ]
  },
  {
   "cell_type": "markdown",
   "metadata": {},
   "source": [
    "## тест"
   ]
  },
  {
   "cell_type": "code",
   "execution_count": 45,
   "metadata": {},
   "outputs": [],
   "source": [
    "model = model.to('cpu')"
   ]
  },
  {
   "cell_type": "code",
   "execution_count": 46,
   "metadata": {},
   "outputs": [],
   "source": [
    "from sklearn.metrics import accuracy_score\n",
    "from sklearn.metrics import classification_report"
   ]
  },
  {
   "cell_type": "code",
   "execution_count": 47,
   "metadata": {},
   "outputs": [],
   "source": [
    "xt = torch.tensor(x_test)\n",
    "\n",
    "with torch.set_grad_enabled(False):\n",
    "    out = model(xt)\n",
    "    \n",
    "scores = out.detach().numpy()\n",
    "y_pred = np.argmax( scores ,axis=1)"
   ]
  },
  {
   "cell_type": "code",
   "execution_count": 48,
   "metadata": {},
   "outputs": [
    {
     "data": {
      "text/plain": [
       "0.8961690215354773"
      ]
     },
     "execution_count": 48,
     "metadata": {},
     "output_type": "execute_result"
    }
   ],
   "source": [
    "accuracy_score(y_test, y_pred)"
   ]
  },
  {
   "cell_type": "code",
   "execution_count": 49,
   "metadata": {},
   "outputs": [
    {
     "name": "stdout",
     "output_type": "stream",
     "text": [
      "              precision    recall  f1-score   support\n",
      "\n",
      "           0       0.89      0.90      0.90     44802\n",
      "           1       0.90      0.89      0.90     45932\n",
      "\n",
      "    accuracy                           0.90     90734\n",
      "   macro avg       0.90      0.90      0.90     90734\n",
      "weighted avg       0.90      0.90      0.90     90734\n",
      "\n"
     ]
    }
   ],
   "source": [
    "print(classification_report(y_test, y_pred) )"
   ]
  },
  {
   "cell_type": "markdown",
   "metadata": {},
   "source": [
    "----"
   ]
  },
  {
   "cell_type": "code",
   "execution_count": 50,
   "metadata": {},
   "outputs": [],
   "source": [
    "# from matplotlib import pyplot as plt\n",
    "# from tensorflow.keras.models import Sequential\n",
    "# from tensorflow.keras.layers import Embedding\n",
    "# from tensorflow.keras.layers import LSTM\n",
    "# from tensorflow.keras.layers import Dense\n",
    "\n",
    "# embedding_size = 64\n",
    "\n",
    "# model = Sequential()\n",
    "# model.add(Embedding( input_dim = max_word+1, output_dim = embedding_size, input_length = seq_len,))\n",
    "# model.add(LSTM(32))\n",
    "# model.add(Dense(n_classes, activation='softmax'))\n",
    "\n",
    "# model.compile(loss='categorical_crossentropy', optimizer='adam', metrics=['accuracy'])\n",
    "\n",
    "\n",
    "# hist = model.fit(x_train,y_train, batch_size=1024, epochs=9, validation_split=.3)\n",
    "\n",
    "# model.evaluate( x_test ,y_test )\n",
    "\n",
    "# k = hist.history.keys()\n",
    "# w,h = 6,4\n",
    "# fig,ax = plt.subplots(1,len(k),figsize=(w*len(k),h))\n",
    "# for i,n in enumerate(k):\n",
    "#     ax[i].plot(hist.history[n],label=n)\n",
    "#     ax[i].grid(True)\n",
    "#     ax[i].legend()\n",
    "#     ax[i].set_ylim([-.1,1.1])"
   ]
  },
  {
   "cell_type": "code",
   "execution_count": null,
   "metadata": {},
   "outputs": [],
   "source": []
  }
 ],
 "metadata": {
  "kernelspec": {
   "display_name": "Python 3",
   "language": "python",
   "name": "python3"
  },
  "language_info": {
   "codemirror_mode": {
    "name": "ipython",
    "version": 3
   },
   "file_extension": ".py",
   "mimetype": "text/x-python",
   "name": "python",
   "nbconvert_exporter": "python",
   "pygments_lexer": "ipython3",
   "version": "3.9.2"
  },
  "toc": {
   "base_numbering": 1,
   "nav_menu": {},
   "number_sections": true,
   "sideBar": true,
   "skip_h1_title": false,
   "title_cell": "Table of Contents",
   "title_sidebar": "Contents",
   "toc_cell": false,
   "toc_position": {},
   "toc_section_display": "block",
   "toc_window_display": true
  }
 },
 "nbformat": 4,
 "nbformat_minor": 4
}
