{
 "cells": [
  {
   "cell_type": "markdown",
   "metadata": {},
   "source": [
    "**классификатор текстов LSTM**\n",
    "\n",
    "с сортировкой по длинне строк при формировании батчей\n",
    "\n",
    "Евгений Борисов <esborisov@sevsu.ru>"
   ]
  },
  {
   "cell_type": "markdown",
   "metadata": {},
   "source": [
    "https://habr.com/ru/company/dca/blog/274027/    \n",
    "http://help.sentiment140.com/for-students/   \n",
    "http://study.mokoron.com  "
   ]
  },
  {
   "cell_type": "markdown",
   "metadata": {},
   "source": [
    "## Библиотеки"
   ]
  },
  {
   "cell_type": "code",
   "execution_count": 1,
   "metadata": {},
   "outputs": [],
   "source": [
    "import numpy as np\n",
    "import numpy.random as rng\n",
    "\n",
    "import pandas as pd\n",
    "pd.options.display.max_colwidth = 200  \n",
    "import re\n",
    "# import gzip\n",
    "from tqdm import tqdm\n",
    "import matplotlib.pyplot as plt"
   ]
  },
  {
   "cell_type": "code",
   "execution_count": 2,
   "metadata": {},
   "outputs": [],
   "source": [
    "import torch\n",
    "import torch.nn as nn\n",
    "# from torchviz import make_dot"
   ]
  },
  {
   "cell_type": "code",
   "execution_count": 3,
   "metadata": {},
   "outputs": [],
   "source": [
    "tqdm.pandas()"
   ]
  },
  {
   "cell_type": "code",
   "execution_count": 4,
   "metadata": {},
   "outputs": [],
   "source": [
    "def pp(d): return \"{:,.0f}\".format(d).replace(\",\", \" \")\n",
    "def ppr(d): print('записей:', pp(len(d)) )  "
   ]
  },
  {
   "cell_type": "markdown",
   "metadata": {},
   "source": [
    "## Данные"
   ]
  },
  {
   "cell_type": "raw",
   "metadata": {},
   "source": [
    "Ю. В. Рубцова. Построение корпуса текстов для настройки тонового классификатора // Программные продукты и системы, 2015, №1(109), –С.72-78\n",
    "\n",
    "http://study.mokoron.com\n",
    "\n",
    "– id: уникальный номер сообщения в системе twitter;\n",
    "– tdate: дата публикации сообщения (твита);\n",
    "– tmane: имя пользователя, опубликовавшего сообщение;\n",
    "– ttext:  текст сообщения (твита);\n",
    "– ttype: поле в котором в дальнейшем будет указано к кому классу относится твит (положительный, отрицательный, нейтральный);\n",
    "– trep: количество реплаев к данному сообщению. В настоящий момент API твиттера не отдает эту информацию;\n",
    "– tfav: число сколько раз данное сообщение было добавлено в избранное другими пользователями;\n",
    "– tstcount: число всех сообщений пользователя в сети twitter;\n",
    "– tfol: количество фоловеров пользователя (тех людей, которые читают пользователя);\n",
    "– tfrien: количество друзей пользователя (те люди, которых читает пользователь);\n",
    "– listcount: количество листов-подписок в которые добавлен твиттер-пользователь."
   ]
  },
  {
   "cell_type": "code",
   "execution_count": 5,
   "metadata": {},
   "outputs": [],
   "source": [
    "ff = ['id', 'tdate', 'tmane', 'ttext', 'ttype', 'trep', 'tfav', 'tstcount', 'tfol', 'tfrien', 'listcount','unk']"
   ]
  },
  {
   "cell_type": "code",
   "execution_count": 6,
   "metadata": {},
   "outputs": [
    {
     "name": "stdout",
     "output_type": "stream",
     "text": [
      "записей: 111 923\n"
     ]
    }
   ],
   "source": [
    "neg = pd.read_csv('../data/twit/negative.csv.gz',sep=';',header=None)\n",
    "ppr(neg)\n",
    "neg.columns = ff"
   ]
  },
  {
   "cell_type": "code",
   "execution_count": 7,
   "metadata": {},
   "outputs": [
    {
     "name": "stdout",
     "output_type": "stream",
     "text": [
      "записей: 114 910\n"
     ]
    }
   ],
   "source": [
    "pos = pd.read_csv('../data/twit/positive.csv.gz',sep=';')\n",
    "ppr(pos)\n",
    "pos.columns = ff"
   ]
  },
  {
   "cell_type": "code",
   "execution_count": 8,
   "metadata": {},
   "outputs": [
    {
     "name": "stdout",
     "output_type": "stream",
     "text": [
      "записей: 226 833\n"
     ]
    }
   ],
   "source": [
    "data = pd.concat([pos,neg],sort=False)[['id','ttext', 'ttype']]\n",
    "ppr(data)"
   ]
  },
  {
   "cell_type": "code",
   "execution_count": 9,
   "metadata": {},
   "outputs": [
    {
     "data": {
      "text/html": [
       "<div>\n",
       "<style scoped>\n",
       "    .dataframe tbody tr th:only-of-type {\n",
       "        vertical-align: middle;\n",
       "    }\n",
       "\n",
       "    .dataframe tbody tr th {\n",
       "        vertical-align: top;\n",
       "    }\n",
       "\n",
       "    .dataframe thead th {\n",
       "        text-align: right;\n",
       "    }\n",
       "</style>\n",
       "<table border=\"1\" class=\"dataframe\">\n",
       "  <thead>\n",
       "    <tr style=\"text-align: right;\">\n",
       "      <th></th>\n",
       "      <th>id</th>\n",
       "      <th>ttext</th>\n",
       "      <th>ttype</th>\n",
       "    </tr>\n",
       "  </thead>\n",
       "  <tbody>\n",
       "    <tr>\n",
       "      <th>9128</th>\n",
       "      <td>410288543463141376</td>\n",
       "      <td>Копаться в этой лжи, созданной эксплуататорами для одурманивания трудящихся для меня мерзко. Поэтому я просто молчу :-/</td>\n",
       "      <td>-1</td>\n",
       "    </tr>\n",
       "    <tr>\n",
       "      <th>82505</th>\n",
       "      <td>419840941248503808</td>\n",
       "      <td>Онам ман хакимда ичи кора деган фикрга боришларини хохламийман((((((</td>\n",
       "      <td>-1</td>\n",
       "    </tr>\n",
       "    <tr>\n",
       "      <th>55564</th>\n",
       "      <td>410083346350604288</td>\n",
       "      <td>RT @danil_stas: Серый, ты ли это? :D http://t.co/SKgppjbJPk</td>\n",
       "      <td>1</td>\n",
       "    </tr>\n",
       "    <tr>\n",
       "      <th>70008</th>\n",
       "      <td>417647583730085888</td>\n",
       "      <td>RT @SychyovaSasha: новогоднего настроения вообще нет(</td>\n",
       "      <td>-1</td>\n",
       "    </tr>\n",
       "    <tr>\n",
       "      <th>23079</th>\n",
       "      <td>409489478492127232</td>\n",
       "      <td>быть четким?Протри зеркало!) http://t.co/S9O1dCx3Ta</td>\n",
       "      <td>1</td>\n",
       "    </tr>\n",
       "    <tr>\n",
       "      <th>35322</th>\n",
       "      <td>409774428609056768</td>\n",
       "      <td>И вообще, я слишком домашняя стала) сегодня только @ENadtochiy на пару часов вышла, ибо соскучилась за этой мартышкой</td>\n",
       "      <td>1</td>\n",
       "    </tr>\n",
       "    <tr>\n",
       "      <th>92326</th>\n",
       "      <td>410860670784389120</td>\n",
       "      <td>@MuT9u Спасибки) Спокойной ночи!)  @xarymb @RomantiKa_85 @LjubovJung @gena_grandig @maslennikovaEle @XXimars @lechiy13 @tat881 @Pravodumru</td>\n",
       "      <td>1</td>\n",
       "    </tr>\n",
       "    <tr>\n",
       "      <th>102100</th>\n",
       "      <td>411099471489937408</td>\n",
       "      <td>Вот представьте: у тебя играет Links 2, 3, 4, а они маршируют.\\nНу глаз же радуется)</td>\n",
       "      <td>1</td>\n",
       "    </tr>\n",
       "    <tr>\n",
       "      <th>54428</th>\n",
       "      <td>415704313478905856</td>\n",
       "      <td>@N_navsegda ты бы  знала,что было вчера .. я из-за этого прдурока на треню не пошла!( ахах вот чё щас делать ахах(</td>\n",
       "      <td>-1</td>\n",
       "    </tr>\n",
       "    <tr>\n",
       "      <th>16110</th>\n",
       "      <td>409356745212190720</td>\n",
       "      <td>Говорю с подругой по телефону. Я: - Пойду к окну... Она: - Пойди, какни :D</td>\n",
       "      <td>1</td>\n",
       "    </tr>\n",
       "  </tbody>\n",
       "</table>\n",
       "</div>"
      ],
      "text/plain": [
       "                        id  \\\n",
       "9128    410288543463141376   \n",
       "82505   419840941248503808   \n",
       "55564   410083346350604288   \n",
       "70008   417647583730085888   \n",
       "23079   409489478492127232   \n",
       "35322   409774428609056768   \n",
       "92326   410860670784389120   \n",
       "102100  411099471489937408   \n",
       "54428   415704313478905856   \n",
       "16110   409356745212190720   \n",
       "\n",
       "                                                                                                                                             ttext  \\\n",
       "9128                       Копаться в этой лжи, созданной эксплуататорами для одурманивания трудящихся для меня мерзко. Поэтому я просто молчу :-/   \n",
       "82505                                                                         Онам ман хакимда ичи кора деган фикрга боришларини хохламийман((((((   \n",
       "55564                                                                                  RT @danil_stas: Серый, ты ли это? :D http://t.co/SKgppjbJPk   \n",
       "70008                                                                                        RT @SychyovaSasha: новогоднего настроения вообще нет(   \n",
       "23079                                                                                          быть четким?Протри зеркало!) http://t.co/S9O1dCx3Ta   \n",
       "35322                       И вообще, я слишком домашняя стала) сегодня только @ENadtochiy на пару часов вышла, ибо соскучилась за этой мартышкой    \n",
       "92326   @MuT9u Спасибки) Спокойной ночи!)  @xarymb @RomantiKa_85 @LjubovJung @gena_grandig @maslennikovaEle @XXimars @lechiy13 @tat881 @Pravodumru   \n",
       "102100                                                        Вот представьте: у тебя играет Links 2, 3, 4, а они маршируют.\\nНу глаз же радуется)   \n",
       "54428                           @N_navsegda ты бы  знала,что было вчера .. я из-за этого прдурока на треню не пошла!( ахах вот чё щас делать ахах(   \n",
       "16110                                                                   Говорю с подругой по телефону. Я: - Пойду к окну... Она: - Пойди, какни :D   \n",
       "\n",
       "        ttype  \n",
       "9128       -1  \n",
       "82505      -1  \n",
       "55564       1  \n",
       "70008      -1  \n",
       "23079       1  \n",
       "35322       1  \n",
       "92326       1  \n",
       "102100      1  \n",
       "54428      -1  \n",
       "16110       1  "
      ]
     },
     "execution_count": 9,
     "metadata": {},
     "output_type": "execute_result"
    }
   ],
   "source": [
    "data.sample(10)"
   ]
  },
  {
   "cell_type": "markdown",
   "metadata": {},
   "source": [
    "## очистка данных"
   ]
  },
  {
   "cell_type": "code",
   "execution_count": 10,
   "metadata": {},
   "outputs": [
    {
     "name": "stderr",
     "output_type": "stream",
     "text": [
      "100%|██████████| 226833/226833 [00:00<00:00, 288296.98it/s]\n",
      "100%|██████████| 226833/226833 [00:02<00:00, 111042.04it/s]\n",
      "100%|██████████| 226833/226833 [00:01<00:00, 114653.36it/s]\n",
      "100%|██████████| 226833/226833 [00:01<00:00, 116672.41it/s]\n",
      "100%|██████████| 226833/226833 [00:01<00:00, 118453.90it/s]\n",
      "100%|██████████| 226833/226833 [00:01<00:00, 115579.64it/s]\n",
      "100%|██████████| 226833/226833 [00:02<00:00, 113112.82it/s]\n"
     ]
    }
   ],
   "source": [
    "data['ttext_clean'] = data['ttext']\\\n",
    "    .progress_apply(lambda t:[ w.strip() for w in t.split() if w.strip() ] )\\\n",
    "    .progress_apply(lambda t:[ re.sub(r'^http.*',' url ', w.strip() ) for w in t ] )\\\n",
    "    .progress_apply(lambda t:[ re.sub(r'[:;]-*[)D]',' happysmile ', w.strip() )for w in t ])\\\n",
    "    .progress_apply(lambda t:[ re.sub(r'\\)\\)\\)*',' happysmile ', w.strip() ) for w in t ])\\\n",
    "    .progress_apply(lambda t:[ re.sub(r'[:;]\\*',' kisssmile ', w.strip() ) for w in t ])\\\n",
    "    .progress_apply(lambda t:[ re.sub(r':\\(',' sadsmile ', w.strip() ) for w in t ])\\\n",
    "    .progress_apply(lambda t:[ re.sub(r'\\(\\(\\(*',' sadsmile ', w.strip() ) for w in t ])"
   ]
  },
  {
   "cell_type": "code",
   "execution_count": 11,
   "metadata": {},
   "outputs": [],
   "source": [
    "data['ttext_clean'] = [ ' '.join(s) for s in data['ttext_clean'] ]"
   ]
  },
  {
   "cell_type": "code",
   "execution_count": 12,
   "metadata": {},
   "outputs": [
    {
     "name": "stderr",
     "output_type": "stream",
     "text": [
      "100%|██████████| 226833/226833 [00:01<00:00, 182490.89it/s]\n",
      "100%|██████████| 226833/226833 [00:00<00:00, 768156.03it/s]\n",
      "100%|██████████| 226833/226833 [00:00<00:00, 335668.33it/s]\n",
      "100%|██████████| 226833/226833 [00:00<00:00, 256746.03it/s]\n",
      "100%|██████████| 226833/226833 [00:02<00:00, 100811.46it/s]\n"
     ]
    }
   ],
   "source": [
    "data['ttext_clean'] = data['ttext_clean'].str.lower()\\\n",
    "    .progress_apply(lambda s: re.sub( r'\\W', ' ', s))\\\n",
    "    .progress_apply(lambda s: re.sub( r'_', ' ', s))\\\n",
    "    .progress_apply(lambda s: re.sub( r'\\b\\d+\\b', ' digit ', s))\\\n",
    "    .progress_apply(lambda t:[ w.strip() for w in t.split() if w.strip() ] )\\\n",
    "    .progress_apply(lambda t: [w for w in t if not re.match( r'\\b.*\\d+.*\\b', w) ])"
   ]
  },
  {
   "cell_type": "code",
   "execution_count": 13,
   "metadata": {},
   "outputs": [
    {
     "data": {
      "text/html": [
       "<div>\n",
       "<style scoped>\n",
       "    .dataframe tbody tr th:only-of-type {\n",
       "        vertical-align: middle;\n",
       "    }\n",
       "\n",
       "    .dataframe tbody tr th {\n",
       "        vertical-align: top;\n",
       "    }\n",
       "\n",
       "    .dataframe thead th {\n",
       "        text-align: right;\n",
       "    }\n",
       "</style>\n",
       "<table border=\"1\" class=\"dataframe\">\n",
       "  <thead>\n",
       "    <tr style=\"text-align: right;\">\n",
       "      <th></th>\n",
       "      <th>id</th>\n",
       "      <th>ttext</th>\n",
       "      <th>ttype</th>\n",
       "      <th>ttext_clean</th>\n",
       "    </tr>\n",
       "  </thead>\n",
       "  <tbody>\n",
       "    <tr>\n",
       "      <th>38529</th>\n",
       "      <td>413780182919434242</td>\n",
       "      <td>@_katyavasina_ кассирша в атб подумала, что мне нет 18 и без документов не хотела продавать энергетик(</td>\n",
       "      <td>-1</td>\n",
       "      <td>[katyavasina, кассирша, в, атб, подумала, что, мне, нет, digit, и, без, документов, не, хотела, продавать, энергетик]</td>\n",
       "    </tr>\n",
       "    <tr>\n",
       "      <th>54946</th>\n",
       "      <td>410078004803796993</td>\n",
       "      <td>Уроки познавательной геометрии у нас в парадной:) #япаркуюськакмудак @ Любимый 24-ый этаж http://t.co/d7BxGksRrL</td>\n",
       "      <td>1</td>\n",
       "      <td>[уроки, познавательной, геометрии, у, нас, в, парадной, happysmile, япаркуюськакмудак, любимый, digit, ый, этаж, url]</td>\n",
       "    </tr>\n",
       "    <tr>\n",
       "      <th>77258</th>\n",
       "      <td>419153419036004352</td>\n",
       "      <td>Что то даже идти не могу,такое чувство как сейчас уподу:(((</td>\n",
       "      <td>-1</td>\n",
       "      <td>[что, то, даже, идти, не, могу, такое, чувство, как, сейчас, уподу, sadsmile, sadsmile]</td>\n",
       "    </tr>\n",
       "  </tbody>\n",
       "</table>\n",
       "</div>"
      ],
      "text/plain": [
       "                       id  \\\n",
       "38529  413780182919434242   \n",
       "54946  410078004803796993   \n",
       "77258  419153419036004352   \n",
       "\n",
       "                                                                                                                  ttext  \\\n",
       "38529            @_katyavasina_ кассирша в атб подумала, что мне нет 18 и без документов не хотела продавать энергетик(   \n",
       "54946  Уроки познавательной геометрии у нас в парадной:) #япаркуюськакмудак @ Любимый 24-ый этаж http://t.co/d7BxGksRrL   \n",
       "77258                                                       Что то даже идти не могу,такое чувство как сейчас уподу:(((   \n",
       "\n",
       "       ttype  \\\n",
       "38529     -1   \n",
       "54946      1   \n",
       "77258     -1   \n",
       "\n",
       "                                                                                                                 ttext_clean  \n",
       "38529  [katyavasina, кассирша, в, атб, подумала, что, мне, нет, digit, и, без, документов, не, хотела, продавать, энергетик]  \n",
       "54946  [уроки, познавательной, геометрии, у, нас, в, парадной, happysmile, япаркуюськакмудак, любимый, digit, ый, этаж, url]  \n",
       "77258                                [что, то, даже, идти, не, могу, такое, чувство, как, сейчас, уподу, sadsmile, sadsmile]  "
      ]
     },
     "execution_count": 13,
     "metadata": {},
     "output_type": "execute_result"
    }
   ],
   "source": [
    "data.sample(3)"
   ]
  },
  {
   "cell_type": "code",
   "execution_count": 14,
   "metadata": {},
   "outputs": [
    {
     "name": "stdout",
     "output_type": "stream",
     "text": [
      "записей: 226 833\n",
      "записей: 226 833\n"
     ]
    }
   ],
   "source": [
    "ppr(data)\n",
    "data = data[ data['ttext_clean'].str.len()>0 ].reset_index(drop=True) \n",
    "ppr(data)"
   ]
  },
  {
   "cell_type": "code",
   "execution_count": 15,
   "metadata": {},
   "outputs": [],
   "source": [
    "data['label'] = data['ttype'].apply(lambda y:max(0,y))\n",
    "data['text'] = data['ttext_clean'].apply(' '.join)"
   ]
  },
  {
   "cell_type": "code",
   "execution_count": 16,
   "metadata": {},
   "outputs": [
    {
     "data": {
      "text/html": [
       "<div>\n",
       "<style scoped>\n",
       "    .dataframe tbody tr th:only-of-type {\n",
       "        vertical-align: middle;\n",
       "    }\n",
       "\n",
       "    .dataframe tbody tr th {\n",
       "        vertical-align: top;\n",
       "    }\n",
       "\n",
       "    .dataframe thead th {\n",
       "        text-align: right;\n",
       "    }\n",
       "</style>\n",
       "<table border=\"1\" class=\"dataframe\">\n",
       "  <thead>\n",
       "    <tr style=\"text-align: right;\">\n",
       "      <th></th>\n",
       "      <th>text</th>\n",
       "      <th>label</th>\n",
       "    </tr>\n",
       "  </thead>\n",
       "  <tbody>\n",
       "    <tr>\n",
       "      <th>214604</th>\n",
       "      <td>я скучаю по танцам хочу на баллет стретч модерн performance class чирлидинг и gcse безумно хочу на танцы</td>\n",
       "      <td>0</td>\n",
       "    </tr>\n",
       "    <tr>\n",
       "      <th>101424</th>\n",
       "      <td>что тебе привезти похер абсолютно ну сложный выбор игрушка статуэтка ожерелье пфф ни разу не сложный понял игрушка обожаю тебя happysmile</td>\n",
       "      <td>1</td>\n",
       "    </tr>\n",
       "    <tr>\n",
       "      <th>72458</th>\n",
       "      <td>любимой удачи на олимпиаде завтра kisssmile я в тебя верю digit</td>\n",
       "      <td>1</td>\n",
       "    </tr>\n",
       "  </tbody>\n",
       "</table>\n",
       "</div>"
      ],
      "text/plain": [
       "                                                                                                                                             text  \\\n",
       "214604                                   я скучаю по танцам хочу на баллет стретч модерн performance class чирлидинг и gcse безумно хочу на танцы   \n",
       "101424  что тебе привезти похер абсолютно ну сложный выбор игрушка статуэтка ожерелье пфф ни разу не сложный понял игрушка обожаю тебя happysmile   \n",
       "72458                                                                             любимой удачи на олимпиаде завтра kisssmile я в тебя верю digit   \n",
       "\n",
       "        label  \n",
       "214604      0  \n",
       "101424      1  \n",
       "72458       1  "
      ]
     },
     "execution_count": 16,
     "metadata": {},
     "output_type": "execute_result"
    }
   ],
   "source": [
    "data[['text','label']].sample(3)"
   ]
  },
  {
   "cell_type": "code",
   "execution_count": 17,
   "metadata": {},
   "outputs": [],
   "source": [
    "data[['text','label']].to_csv('data.tsv', index=False, sep='\\t')"
   ]
  },
  {
   "cell_type": "markdown",
   "metadata": {},
   "source": [
    "## строим датасет"
   ]
  },
  {
   "cell_type": "code",
   "execution_count": 18,
   "metadata": {},
   "outputs": [],
   "source": [
    "from torchtext.data import Field\n",
    "from torchtext.data import TabularDataset"
   ]
  },
  {
   "cell_type": "code",
   "execution_count": 19,
   "metadata": {},
   "outputs": [
    {
     "name": "stderr",
     "output_type": "stream",
     "text": [
      "/usr/lib/python3.9/site-packages/torchtext/data/field.py:150: UserWarning: Field class will be retired soon and moved to torchtext.legacy. Please see the most recent release notes for further information.\n",
      "  warnings.warn('{} class will be retired soon and moved to torchtext.legacy. Please see the most recent release notes for further information.'.format(self.__class__.__name__), UserWarning)\n",
      "/usr/lib/python3.9/site-packages/torchtext/data/example.py:68: UserWarning: Example class will be retired soon and moved to torchtext.legacy. Please see the most recent release notes for further information.\n",
      "  warnings.warn('Example class will be retired soon and moved to torchtext.legacy. Please see the most recent release notes for further information.', UserWarning)\n",
      "/usr/lib/python3.9/site-packages/torchtext/data/example.py:78: UserWarning: Example class will be retired soon and moved to torchtext.legacy. Please see the most recent release notes for further information.\n",
      "  warnings.warn('Example class will be retired soon and moved to torchtext.legacy. Please see the most recent release notes for further information.', UserWarning)\n"
     ]
    }
   ],
   "source": [
    "def tokenizer(text): return text.split() \n",
    "\n",
    "field_text = Field( sequential=True, use_vocab=True, tokenize=tokenizer, pad_first=True, ) # batch_first=True)\n",
    "field_label = Field( sequential=False, use_vocab=False, ) # is_target=True, batch_first=True, dtype=torch.long)\n",
    "\n",
    "# загружаем датасет в формате Torch\n",
    "ds = TabularDataset(\n",
    "            path = './data.tsv',\n",
    "            format = 'tsv', #'tsv' for tabs, 'csv' for commas\n",
    "            fields = [\n",
    "                ('text',field_text),\n",
    "                ('label',field_label),\n",
    "            ],\n",
    "            skip_header=True,\n",
    "    )"
   ]
  },
  {
   "cell_type": "code",
   "execution_count": 20,
   "metadata": {},
   "outputs": [
    {
     "data": {
      "text/plain": [
       "98651"
      ]
     },
     "execution_count": 20,
     "metadata": {},
     "output_type": "execute_result"
    }
   ],
   "source": [
    "field_text.build_vocab(ds, min_freq=2)\n",
    "# .build_vocab( train, val, test,  max_size=20000,  min_freq=50,    vectors=vectors )\n",
    "\n",
    "len(field_text.vocab)"
   ]
  },
  {
   "cell_type": "code",
   "execution_count": 21,
   "metadata": {},
   "outputs": [
    {
     "data": {
      "text/plain": [
       "(158783, 68050)"
      ]
     },
     "execution_count": 21,
     "metadata": {},
     "output_type": "execute_result"
    }
   ],
   "source": [
    "train_ds,test_ds = ds.split(split_ratio=0.7,)\n",
    "\n",
    "# количество примеров\n",
    "len(train_ds.examples), len(test_ds.examples)"
   ]
  },
  {
   "cell_type": "code",
   "execution_count": 22,
   "metadata": {},
   "outputs": [],
   "source": [
    "device = torch.device('cuda:0' if torch.cuda.is_available() else 'cpu')\n",
    "# device = 'cpu'"
   ]
  },
  {
   "cell_type": "code",
   "execution_count": 23,
   "metadata": {},
   "outputs": [
    {
     "name": "stderr",
     "output_type": "stream",
     "text": [
      "/usr/lib/python3.9/site-packages/torchtext/data/iterator.py:48: UserWarning: BucketIterator class will be retired soon and moved to torchtext.legacy. Please see the most recent release notes for further information.\n",
      "  warnings.warn('{} class will be retired soon and moved to torchtext.legacy. Please see the most recent release notes for further information.'.format(self.__class__.__name__), UserWarning)\n"
     ]
    }
   ],
   "source": [
    "# раскидываем данные по батчам,\n",
    "# в один батч будут помещены тексты одинаковой (или близкой) длинны\n",
    "\n",
    "from torchtext.data import BucketIterator\n",
    "\n",
    "train_iterator = BucketIterator(\n",
    "    train_ds, \n",
    "    batch_size = 4096, \n",
    "    device=device,\n",
    "    sort=False, \n",
    "    shuffle=True,\n",
    ")"
   ]
  },
  {
   "cell_type": "code",
   "execution_count": 24,
   "metadata": {},
   "outputs": [
    {
     "name": "stderr",
     "output_type": "stream",
     "text": [
      "/usr/lib/python3.9/site-packages/torchtext/data/batch.py:23: UserWarning: Batch class will be retired soon and moved to torchtext.legacy. Please see the most recent release notes for further information.\n",
      "  warnings.warn('{} class will be retired soon and moved to torchtext.legacy. Please see the most recent release notes for further information.'.format(self.__class__.__name__), UserWarning)\n"
     ]
    },
    {
     "name": "stdout",
     "output_type": "stream",
     "text": [
      "torch.Size([31, 4096]) torch.Size([4096])\n",
      "torch.Size([33, 4096]) torch.Size([4096])\n",
      "torch.Size([33, 4096]) torch.Size([4096])\n",
      "torch.Size([32, 4096]) torch.Size([4096])\n",
      "torch.Size([34, 4096]) torch.Size([4096])\n",
      "torch.Size([31, 4096]) torch.Size([4096])\n",
      "torch.Size([30, 3135]) torch.Size([3135])\n",
      "torch.Size([36, 4096]) torch.Size([4096])\n",
      "torch.Size([32, 4096]) torch.Size([4096])\n",
      "torch.Size([32, 4096]) torch.Size([4096])\n",
      "torch.Size([32, 4096]) torch.Size([4096])\n",
      "torch.Size([30, 4096]) torch.Size([4096])\n"
     ]
    }
   ],
   "source": [
    "for i,batch in enumerate(train_iterator):\n",
    "    print( batch.text.shape, batch.label.shape )\n",
    "    if i>10: break"
   ]
  },
  {
   "cell_type": "markdown",
   "metadata": {},
   "source": [
    "## строим модель"
   ]
  },
  {
   "cell_type": "code",
   "execution_count": 25,
   "metadata": {},
   "outputs": [],
   "source": [
    "embedding_dim = 128 # размер выхода эмбединга\n",
    "hidden_dim = 64 # размер рекуррентного слоя\n",
    "\n",
    "embedding_input = len(field_text.vocab)\n",
    "n_classes = 2"
   ]
  },
  {
   "cell_type": "code",
   "execution_count": 26,
   "metadata": {},
   "outputs": [],
   "source": [
    "class Model(nn.Module):\n",
    "    def __init__(self, \n",
    "                 num_embeddings=embedding_input, # размер входа эмбединга (длина OHE)\n",
    "                 emb_dim=embedding_dim, # размер выхода эмбединга\n",
    "                 hid_dim=hidden_dim, # размер рекуррентного слоя\n",
    "                 output_dim=n_classes # размер выхода\n",
    "                ):\n",
    "        super().__init__()\n",
    "        self.emb = nn.Embedding(num_embeddings, embedding_dim) \n",
    "        self.rnn = nn.LSTM(emb_dim, hid_dim) # рекуррентный слой\n",
    "        # self.rnn = nn.LSTM(emb_dim, hid_dim, batch_first=True) # рекуррентный слой\n",
    "        self.linear = nn.Linear(hid_dim, output_dim) # выходной (линейный) слой\n",
    "        self.sftm = nn.Softmax(dim=1)\n",
    "\n",
    "    def forward(self,x):\n",
    "        out = self.emb(x)\n",
    "        _, (hidden, _) = self.rnn(out) # обрабатываем входную последовательность\n",
    "        hidden = hidden.squeeze(0) # прекомпоновка тензора, сокращаем размерность\n",
    "        out = self.linear(hidden) # считаем выход сети\n",
    "        out = self.sftm(out)\n",
    "        return out "
   ]
  },
  {
   "cell_type": "code",
   "execution_count": 27,
   "metadata": {},
   "outputs": [
    {
     "data": {
      "text/plain": [
       "Model(\n",
       "  (emb): Embedding(98651, 128)\n",
       "  (rnn): LSTM(128, 64)\n",
       "  (linear): Linear(in_features=64, out_features=2, bias=True)\n",
       "  (sftm): Softmax(dim=1)\n",
       ")"
      ]
     },
     "execution_count": 27,
     "metadata": {},
     "output_type": "execute_result"
    }
   ],
   "source": [
    "model = Model()\n",
    "model"
   ]
  },
  {
   "cell_type": "markdown",
   "metadata": {},
   "source": [
    "## обучаем модель"
   ]
  },
  {
   "cell_type": "code",
   "execution_count": 28,
   "metadata": {},
   "outputs": [],
   "source": [
    "model = model.to(device)"
   ]
  },
  {
   "cell_type": "code",
   "execution_count": 29,
   "metadata": {},
   "outputs": [],
   "source": [
    "loss_function =  nn.CrossEntropyLoss()\n",
    "optimizer = torch.optim.Adam(model.parameters(), lr=0.005)"
   ]
  },
  {
   "cell_type": "code",
   "execution_count": 30,
   "metadata": {},
   "outputs": [
    {
     "name": "stdout",
     "output_type": "stream",
     "text": [
      "  0 : 0.4222\n",
      "  1 : 0.4058\n",
      "  2 : 0.3790\n",
      "  3 : 0.3589\n",
      "  4 : 0.3523\n",
      "  5 : 0.3451\n",
      "  6 : 0.3428\n",
      "  7 : 0.3431\n",
      "  8 : 0.3366\n",
      "  9 : 0.3380\n",
      " 10 : 0.3345\n",
      " 11 : 0.3349\n",
      " 12 : 0.3356\n",
      " 13 : 0.3326\n",
      " 14 : 0.3337\n",
      " 15 : 0.3317\n",
      " 16 : 0.3326\n",
      " 17 : 0.3318\n",
      " 18 : 0.3294\n",
      " 19 : 0.3337\n",
      " 20 : 0.3288\n",
      " 21 : 0.3314\n",
      " 22 : 0.3264\n",
      " 23 : 0.3301\n",
      " 24 : 0.3344\n",
      " 25 : 0.3330\n",
      " 26 : 0.3340\n",
      " 27 : 0.3278\n",
      " 28 : 0.3305\n",
      " 29 : 0.3286\n",
      " 30 : 0.3261\n",
      " 31 : 0.3275\n",
      "CPU times: user 1min 41s, sys: 237 ms, total: 1min 41s\n",
      "Wall time: 1min 42s\n"
     ]
    }
   ],
   "source": [
    "%%time\n",
    "\n",
    "epochs = 32\n",
    "#epochs = 2\n",
    "\n",
    "hist = []\n",
    "for i in range(epochs):\n",
    "\n",
    "    for j,batch in enumerate( train_iterator ):\n",
    "        xb = batch.text\n",
    "        yb = batch.label\n",
    "        \n",
    "        # print(xb.shape, yb.shape )\n",
    "        \n",
    "        optimizer.zero_grad() # обнуляем значения градиента\n",
    "        out = model(xb) # вычисляем выход, прямой проход\n",
    "        loss = loss_function(out,yb) # вычисляем значение потери\n",
    "        loss.backward() # вычисляем значения градиента потери, обратный проход\n",
    "        \n",
    "        # clip the gradient\n",
    "        torch.nn.utils.clip_grad_norm_(model.parameters(), 1.)\n",
    "        \n",
    "        optimizer.step() # изменяем значения весов модели\n",
    "        hist.append( loss.item() ) # сохраняем текущее значение потери\n",
    "        \n",
    "        # if (j%20)==0: print( f'{j}\\t{loss.item()}' )\n",
    "        \n",
    "    print(f'{i:3} : {loss.item():.4f}')"
   ]
  },
  {
   "cell_type": "code",
   "execution_count": 31,
   "metadata": {},
   "outputs": [],
   "source": [
    "# import torch\n",
    "# torch.nn.utils.clip_grad_norm?"
   ]
  },
  {
   "cell_type": "code",
   "execution_count": 32,
   "metadata": {},
   "outputs": [],
   "source": [
    "torch.cuda.empty_cache()"
   ]
  },
  {
   "cell_type": "code",
   "execution_count": 33,
   "metadata": {},
   "outputs": [
    {
     "data": {
      "text/plain": [
       "[<matplotlib.lines.Line2D at 0x7feb07222f10>]"
      ]
     },
     "execution_count": 33,
     "metadata": {},
     "output_type": "execute_result"
    },
    {
     "data": {
      "image/png": "[encoded data removed]",
      "text/plain": [
       "<Figure size 432x288 with 1 Axes>"
      ]
     },
     "metadata": {
      "needs_background": "light"
     },
     "output_type": "display_data"
    }
   ],
   "source": [
    "# изменение значения потери в процессе обучения\n",
    "plt.plot(hist)"
   ]
  },
  {
   "cell_type": "code",
   "execution_count": 34,
   "metadata": {},
   "outputs": [],
   "source": [
    "# 200 % 100"
   ]
  },
  {
   "cell_type": "markdown",
   "metadata": {},
   "source": [
    "## тест"
   ]
  },
  {
   "cell_type": "code",
   "execution_count": 35,
   "metadata": {},
   "outputs": [],
   "source": [
    "from sklearn.metrics import accuracy_score\n",
    "from sklearn.metrics import classification_report"
   ]
  },
  {
   "cell_type": "code",
   "execution_count": 36,
   "metadata": {},
   "outputs": [
    {
     "name": "stderr",
     "output_type": "stream",
     "text": [
      "/usr/lib/python3.9/site-packages/torchtext/data/iterator.py:48: UserWarning: Iterator class will be retired soon and moved to torchtext.legacy. Please see the most recent release notes for further information.\n",
      "  warnings.warn('{} class will be retired soon and moved to torchtext.legacy. Please see the most recent release notes for further information.'.format(self.__class__.__name__), UserWarning)\n"
     ]
    }
   ],
   "source": [
    "from torchtext.data import Iterator\n",
    "\n",
    "test_iterator = Iterator(\n",
    "    test_ds, \n",
    "    batch_size = 4096, \n",
    "    device=device,\n",
    "    sort=False, \n",
    "    shuffle=False,\n",
    ")"
   ]
  },
  {
   "cell_type": "code",
   "execution_count": 42,
   "metadata": {},
   "outputs": [
    {
     "name": "stderr",
     "output_type": "stream",
     "text": [
      "/usr/lib/python3.9/site-packages/torchtext/data/batch.py:23: UserWarning: Batch class will be retired soon and moved to torchtext.legacy. Please see the most recent release notes for further information.\n",
      "  warnings.warn('{} class will be retired soon and moved to torchtext.legacy. Please see the most recent release notes for further information.'.format(self.__class__.__name__), UserWarning)\n"
     ]
    }
   ],
   "source": [
    "label = []\n",
    "score = []\n",
    "\n",
    "with torch.no_grad():\n",
    "    for batch in test_iterator:\n",
    "        y_pred = model(batch.text) # вычисляем значения регресии\n",
    "        y = batch.label\n",
    "        label.append( y.cpu().detach().numpy() )\n",
    "        score.append( y_pred.cpu().detach().numpy() )"
   ]
  },
  {
   "cell_type": "code",
   "execution_count": 43,
   "metadata": {},
   "outputs": [],
   "source": [
    "label = np.hstack(label)\n",
    "score = np.vstack(score)"
   ]
  },
  {
   "cell_type": "code",
   "execution_count": 44,
   "metadata": {},
   "outputs": [],
   "source": [
    "y_pred = np.argmax( score ,axis=1)"
   ]
  },
  {
   "cell_type": "code",
   "execution_count": 45,
   "metadata": {},
   "outputs": [
    {
     "data": {
      "text/plain": [
       "0.8993975018368846"
      ]
     },
     "execution_count": 45,
     "metadata": {},
     "output_type": "execute_result"
    }
   ],
   "source": [
    "accuracy_score(label, y_pred)"
   ]
  },
  {
   "cell_type": "code",
   "execution_count": 46,
   "metadata": {},
   "outputs": [
    {
     "name": "stdout",
     "output_type": "stream",
     "text": [
      "              precision    recall  f1-score   support\n",
      "\n",
      "           0       0.89      0.90      0.90     33477\n",
      "           1       0.91      0.89      0.90     34573\n",
      "\n",
      "    accuracy                           0.90     68050\n",
      "   macro avg       0.90      0.90      0.90     68050\n",
      "weighted avg       0.90      0.90      0.90     68050\n",
      "\n"
     ]
    }
   ],
   "source": [
    "print(classification_report(label, y_pred) )"
   ]
  },
  {
   "cell_type": "code",
   "execution_count": null,
   "metadata": {},
   "outputs": [],
   "source": []
  }
 ],
 "metadata": {
  "kernelspec": {
   "display_name": "Python 3",
   "language": "python",
   "name": "python3"
  },
  "language_info": {
   "codemirror_mode": {
    "name": "ipython",
    "version": 3
   },
   "file_extension": ".py",
   "mimetype": "text/x-python",
   "name": "python",
   "nbconvert_exporter": "python",
   "pygments_lexer": "ipython3",
   "version": "3.9.0"
  },
  "toc": {
   "base_numbering": 1,
   "nav_menu": {},
   "number_sections": true,
   "sideBar": true,
   "skip_h1_title": false,
   "title_cell": "Table of Contents",
   "title_sidebar": "Contents",
   "toc_cell": false,
   "toc_position": {},
   "toc_section_display": "block",
   "toc_window_display": true
  }
 },
 "nbformat": 4,
 "nbformat_minor": 4
}
