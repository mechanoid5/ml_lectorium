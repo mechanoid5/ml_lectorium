{
 "cells": [
  {
   "cell_type": "markdown",
   "metadata": {},
   "source": [
    "**классификатор текстов LSTM**\n",
    "\n",
    "с сортировкой по длинне строк при формировании батчей\n",
    "\n",
    "Евгений Борисов <esborisov@sevsu.ru>"
   ]
  },
  {
   "cell_type": "markdown",
   "metadata": {},
   "source": [
    "https://habr.com/ru/company/dca/blog/274027/    \n",
    "http://help.sentiment140.com/for-students/   \n",
    "http://study.mokoron.com  "
   ]
  },
  {
   "cell_type": "markdown",
   "metadata": {},
   "source": [
    "## Библиотеки"
   ]
  },
  {
   "cell_type": "code",
   "execution_count": 1,
   "metadata": {},
   "outputs": [],
   "source": [
    "import numpy as np\n",
    "import numpy.random as rng\n",
    "\n",
    "import pandas as pd\n",
    "pd.options.display.max_colwidth = 200  \n",
    "import re\n",
    "# import gzip\n",
    "from tqdm import tqdm\n",
    "import matplotlib.pyplot as plt"
   ]
  },
  {
   "cell_type": "code",
   "execution_count": 2,
   "metadata": {},
   "outputs": [],
   "source": [
    "import torch\n",
    "import torch.nn as nn\n",
    "# from torchviz import make_dot"
   ]
  },
  {
   "cell_type": "code",
   "execution_count": 3,
   "metadata": {},
   "outputs": [
    {
     "data": {
      "text/plain": [
       "'1.8.1'"
      ]
     },
     "execution_count": 3,
     "metadata": {},
     "output_type": "execute_result"
    }
   ],
   "source": [
    "torch.__version__"
   ]
  },
  {
   "cell_type": "code",
   "execution_count": 4,
   "metadata": {},
   "outputs": [],
   "source": [
    "tqdm.pandas()"
   ]
  },
  {
   "cell_type": "code",
   "execution_count": 5,
   "metadata": {},
   "outputs": [],
   "source": [
    "def pp(d): return \"{:,.0f}\".format(d).replace(\",\", \" \")\n",
    "def ppr(d): print('записей:', pp(len(d)) )  "
   ]
  },
  {
   "cell_type": "markdown",
   "metadata": {},
   "source": [
    "## Данные"
   ]
  },
  {
   "cell_type": "raw",
   "metadata": {},
   "source": [
    "Ю. В. Рубцова. Построение корпуса текстов для настройки тонового классификатора // Программные продукты и системы, 2015, №1(109), –С.72-78\n",
    "\n",
    "http://study.mokoron.com\n",
    "\n",
    "– id: уникальный номер сообщения в системе twitter;\n",
    "– tdate: дата публикации сообщения (твита);\n",
    "– tmane: имя пользователя, опубликовавшего сообщение;\n",
    "– ttext:  текст сообщения (твита);\n",
    "– ttype: поле в котором в дальнейшем будет указано к кому классу относится твит (положительный, отрицательный, нейтральный);\n",
    "– trep: количество реплаев к данному сообщению. В настоящий момент API твиттера не отдает эту информацию;\n",
    "– tfav: число сколько раз данное сообщение было добавлено в избранное другими пользователями;\n",
    "– tstcount: число всех сообщений пользователя в сети twitter;\n",
    "– tfol: количество фоловеров пользователя (тех людей, которые читают пользователя);\n",
    "– tfrien: количество друзей пользователя (те люди, которых читает пользователь);\n",
    "– listcount: количество листов-подписок в которые добавлен твиттер-пользователь."
   ]
  },
  {
   "cell_type": "code",
   "execution_count": 6,
   "metadata": {},
   "outputs": [],
   "source": [
    "ff = ['id', 'tdate', 'tmane', 'ttext', 'ttype', 'trep', 'tfav', 'tstcount', 'tfol', 'tfrien', 'listcount','unk']"
   ]
  },
  {
   "cell_type": "code",
   "execution_count": 7,
   "metadata": {},
   "outputs": [
    {
     "name": "stdout",
     "output_type": "stream",
     "text": [
      "записей: 111 923\n"
     ]
    }
   ],
   "source": [
    "neg = pd.read_csv('../data/twit/negative.csv.gz',sep=';',header=None)\n",
    "ppr(neg)\n",
    "neg.columns = ff"
   ]
  },
  {
   "cell_type": "code",
   "execution_count": 8,
   "metadata": {},
   "outputs": [
    {
     "name": "stdout",
     "output_type": "stream",
     "text": [
      "записей: 114 910\n"
     ]
    }
   ],
   "source": [
    "pos = pd.read_csv('../data/twit/positive.csv.gz',sep=';')\n",
    "ppr(pos)\n",
    "pos.columns = ff"
   ]
  },
  {
   "cell_type": "code",
   "execution_count": 9,
   "metadata": {},
   "outputs": [
    {
     "name": "stdout",
     "output_type": "stream",
     "text": [
      "записей: 226 833\n"
     ]
    }
   ],
   "source": [
    "data = pd.concat([pos,neg],sort=False)[['id','ttext', 'ttype']]\n",
    "ppr(data)"
   ]
  },
  {
   "cell_type": "code",
   "execution_count": 10,
   "metadata": {},
   "outputs": [
    {
     "data": {
      "text/html": [
       "<div>\n",
       "<style scoped>\n",
       "    .dataframe tbody tr th:only-of-type {\n",
       "        vertical-align: middle;\n",
       "    }\n",
       "\n",
       "    .dataframe tbody tr th {\n",
       "        vertical-align: top;\n",
       "    }\n",
       "\n",
       "    .dataframe thead th {\n",
       "        text-align: right;\n",
       "    }\n",
       "</style>\n",
       "<table border=\"1\" class=\"dataframe\">\n",
       "  <thead>\n",
       "    <tr style=\"text-align: right;\">\n",
       "      <th></th>\n",
       "      <th>id</th>\n",
       "      <th>ttext</th>\n",
       "      <th>ttype</th>\n",
       "    </tr>\n",
       "  </thead>\n",
       "  <tbody>\n",
       "    <tr>\n",
       "      <th>35447</th>\n",
       "      <td>409775550434394112</td>\n",
       "      <td>@ololoshq из всех твоих сестер по папиной линии,я люблю Дагмару :)</td>\n",
       "      <td>1</td>\n",
       "    </tr>\n",
       "    <tr>\n",
       "      <th>34196</th>\n",
       "      <td>409764231551000576</td>\n",
       "      <td>Лілі захотілось всістись мені наруки)вона думає шо вона пушинкаа))</td>\n",
       "      <td>1</td>\n",
       "    </tr>\n",
       "    <tr>\n",
       "      <th>73887</th>\n",
       "      <td>410627165659869184</td>\n",
       "      <td>Вот уж действительно - неожиданная встреча)) http://t.co/h47a7XHfeX</td>\n",
       "      <td>1</td>\n",
       "    </tr>\n",
       "    <tr>\n",
       "      <th>18313</th>\n",
       "      <td>411435256953470976</td>\n",
       "      <td>ТВИТТЕРСКИЕ: да я в шк сижу на уроке;(\\nЯ: ТЫ ЧТО ЕБАНУТЫЙ, ТЫ ЧТО ТАМ ДЕЛАЕШЬ?!\\nВИНОВАТА #пятница13</td>\n",
       "      <td>-1</td>\n",
       "    </tr>\n",
       "    <tr>\n",
       "      <th>42067</th>\n",
       "      <td>409938310350790656</td>\n",
       "      <td>у блендернейшена фальстарт с анонсом blemder 2.62 :)</td>\n",
       "      <td>1</td>\n",
       "    </tr>\n",
       "    <tr>\n",
       "      <th>39412</th>\n",
       "      <td>409897630911975424</td>\n",
       "      <td>RT @fileryzofos: Эта хуита таки сломалась! %) Теперь не получается писать сообщения с картинками. :)</td>\n",
       "      <td>1</td>\n",
       "    </tr>\n",
       "    <tr>\n",
       "      <th>801</th>\n",
       "      <td>408915796610412544</td>\n",
       "      <td>@Alexander_ae_ я узнаю об этом только, если постигну учение дзынь-мынь, но такого не постичь. поэтому буду думать, что все таки шейх)</td>\n",
       "      <td>1</td>\n",
       "    </tr>\n",
       "    <tr>\n",
       "      <th>35703</th>\n",
       "      <td>409777801340792832</td>\n",
       "      <td>я так давно [неделю] не играл с Боунси\\nчто отвык писать большие посты\\nугадайте кому стыдно ?\\nну ничего\\nсейчас опять привыкнем х)</td>\n",
       "      <td>1</td>\n",
       "    </tr>\n",
       "    <tr>\n",
       "      <th>74850</th>\n",
       "      <td>418716504037666816</td>\n",
       "      <td>@kannizllg От безделия решила установить Sims3, пол вечера мучаюсь решая проблему с обновлениями((((</td>\n",
       "      <td>-1</td>\n",
       "    </tr>\n",
       "    <tr>\n",
       "      <th>110336</th>\n",
       "      <td>411193924209115136</td>\n",
       "      <td>@Mityaforyou @Unicorn_Nevpaty Она давно прошла уже)</td>\n",
       "      <td>1</td>\n",
       "    </tr>\n",
       "  </tbody>\n",
       "</table>\n",
       "</div>"
      ],
      "text/plain": [
       "                        id  \\\n",
       "35447   409775550434394112   \n",
       "34196   409764231551000576   \n",
       "73887   410627165659869184   \n",
       "18313   411435256953470976   \n",
       "42067   409938310350790656   \n",
       "39412   409897630911975424   \n",
       "801     408915796610412544   \n",
       "35703   409777801340792832   \n",
       "74850   418716504037666816   \n",
       "110336  411193924209115136   \n",
       "\n",
       "                                                                                                                                        ttext  \\\n",
       "35447                                                                      @ololoshq из всех твоих сестер по папиной линии,я люблю Дагмару :)   \n",
       "34196                                                                      Лілі захотілось всістись мені наруки)вона думає шо вона пушинкаа))   \n",
       "73887                                                                     Вот уж действительно - неожиданная встреча)) http://t.co/h47a7XHfeX   \n",
       "18313                                   ТВИТТЕРСКИЕ: да я в шк сижу на уроке;(\\nЯ: ТЫ ЧТО ЕБАНУТЫЙ, ТЫ ЧТО ТАМ ДЕЛАЕШЬ?!\\nВИНОВАТА #пятница13   \n",
       "42067                                                                                    у блендернейшена фальстарт с анонсом blemder 2.62 :)   \n",
       "39412                                    RT @fileryzofos: Эта хуита таки сломалась! %) Теперь не получается писать сообщения с картинками. :)   \n",
       "801     @Alexander_ae_ я узнаю об этом только, если постигну учение дзынь-мынь, но такого не постичь. поэтому буду думать, что все таки шейх)   \n",
       "35703    я так давно [неделю] не играл с Боунси\\nчто отвык писать большие посты\\nугадайте кому стыдно ?\\nну ничего\\nсейчас опять привыкнем х)   \n",
       "74850                                    @kannizllg От безделия решила установить Sims3, пол вечера мучаюсь решая проблему с обновлениями((((   \n",
       "110336                                                                                    @Mityaforyou @Unicorn_Nevpaty Она давно прошла уже)   \n",
       "\n",
       "        ttype  \n",
       "35447       1  \n",
       "34196       1  \n",
       "73887       1  \n",
       "18313      -1  \n",
       "42067       1  \n",
       "39412       1  \n",
       "801         1  \n",
       "35703       1  \n",
       "74850      -1  \n",
       "110336      1  "
      ]
     },
     "execution_count": 10,
     "metadata": {},
     "output_type": "execute_result"
    }
   ],
   "source": [
    "data.sample(10)"
   ]
  },
  {
   "cell_type": "markdown",
   "metadata": {},
   "source": [
    "## очистка данных"
   ]
  },
  {
   "cell_type": "code",
   "execution_count": 11,
   "metadata": {},
   "outputs": [
    {
     "name": "stderr",
     "output_type": "stream",
     "text": [
      "100%|██████████| 226833/226833 [00:00<00:00, 271317.81it/s]\n",
      "100%|██████████| 226833/226833 [00:02<00:00, 111282.79it/s]\n",
      "100%|██████████| 226833/226833 [00:01<00:00, 115697.54it/s]\n",
      "100%|██████████| 226833/226833 [00:01<00:00, 119448.35it/s]\n",
      "100%|██████████| 226833/226833 [00:01<00:00, 120472.37it/s]\n",
      "100%|██████████| 226833/226833 [00:01<00:00, 119866.97it/s]\n",
      "100%|██████████| 226833/226833 [00:01<00:00, 116777.52it/s]\n"
     ]
    }
   ],
   "source": [
    "data['ttext_clean'] = data['ttext']\\\n",
    "    .progress_apply(lambda t:[ w.strip() for w in t.split() if w.strip() ] )\\\n",
    "    .progress_apply(lambda t:[ re.sub(r'^http.*',' url ', w.strip() ) for w in t ] )\\\n",
    "    .progress_apply(lambda t:[ re.sub(r'[:;]-*[)D]',' happysmile ', w.strip() )for w in t ])\\\n",
    "    .progress_apply(lambda t:[ re.sub(r'\\)\\)\\)*',' happysmile ', w.strip() ) for w in t ])\\\n",
    "    .progress_apply(lambda t:[ re.sub(r'[:;]\\*',' kisssmile ', w.strip() ) for w in t ])\\\n",
    "    .progress_apply(lambda t:[ re.sub(r':\\(',' sadsmile ', w.strip() ) for w in t ])\\\n",
    "    .progress_apply(lambda t:[ re.sub(r'\\(\\(\\(*',' sadsmile ', w.strip() ) for w in t ])"
   ]
  },
  {
   "cell_type": "code",
   "execution_count": 12,
   "metadata": {},
   "outputs": [],
   "source": [
    "data['ttext_clean'] = [ ' '.join(s) for s in data['ttext_clean'] ]"
   ]
  },
  {
   "cell_type": "code",
   "execution_count": 13,
   "metadata": {},
   "outputs": [
    {
     "name": "stderr",
     "output_type": "stream",
     "text": [
      "100%|██████████| 226833/226833 [00:01<00:00, 182478.98it/s]\n",
      "100%|██████████| 226833/226833 [00:00<00:00, 802377.06it/s]\n",
      "100%|██████████| 226833/226833 [00:00<00:00, 338380.51it/s]\n",
      "100%|██████████| 226833/226833 [00:00<00:00, 251952.81it/s]\n",
      "100%|██████████| 226833/226833 [00:02<00:00, 94558.79it/s] \n"
     ]
    }
   ],
   "source": [
    "data['ttext_clean'] = data['ttext_clean'].str.lower()\\\n",
    "    .progress_apply(lambda s: re.sub( r'\\W', ' ', s))\\\n",
    "    .progress_apply(lambda s: re.sub( r'_', ' ', s))\\\n",
    "    .progress_apply(lambda s: re.sub( r'\\b\\d+\\b', ' digit ', s))\\\n",
    "    .progress_apply(lambda t:[ w.strip() for w in t.split() if w.strip() ] )\\\n",
    "    .progress_apply(lambda t: [w for w in t if not re.match( r'\\b.*\\d+.*\\b', w) ])"
   ]
  },
  {
   "cell_type": "code",
   "execution_count": 14,
   "metadata": {},
   "outputs": [
    {
     "data": {
      "text/html": [
       "<div>\n",
       "<style scoped>\n",
       "    .dataframe tbody tr th:only-of-type {\n",
       "        vertical-align: middle;\n",
       "    }\n",
       "\n",
       "    .dataframe tbody tr th {\n",
       "        vertical-align: top;\n",
       "    }\n",
       "\n",
       "    .dataframe thead th {\n",
       "        text-align: right;\n",
       "    }\n",
       "</style>\n",
       "<table border=\"1\" class=\"dataframe\">\n",
       "  <thead>\n",
       "    <tr style=\"text-align: right;\">\n",
       "      <th></th>\n",
       "      <th>id</th>\n",
       "      <th>ttext</th>\n",
       "      <th>ttype</th>\n",
       "      <th>ttext_clean</th>\n",
       "    </tr>\n",
       "  </thead>\n",
       "  <tbody>\n",
       "    <tr>\n",
       "      <th>5369</th>\n",
       "      <td>409063399449198592</td>\n",
       "      <td>Не, что бы там Бэл не говорил, до Томмо мне ещё далеко...:D</td>\n",
       "      <td>1</td>\n",
       "      <td>[не, что, бы, там, бэл, не, говорил, до, томмо, мне, ещё, далеко, happysmile]</td>\n",
       "    </tr>\n",
       "    <tr>\n",
       "      <th>57412</th>\n",
       "      <td>416082139898068993</td>\n",
       "      <td>@uuganaa19292324 тэхх, өвчтэй хүн хүнд алуулчихад гомдолгүйл юм бхдаа, хачин юм :(</td>\n",
       "      <td>-1</td>\n",
       "      <td>[тэхх, өвчтэй, хүн, хүнд, алуулчихад, гомдолгүйл, юм, бхдаа, хачин, юм, sadsmile]</td>\n",
       "    </tr>\n",
       "    <tr>\n",
       "      <th>6242</th>\n",
       "      <td>409083830771802113</td>\n",
       "      <td>Доооооожилииии, мене мама вже з хлопцями зводитььь)))</td>\n",
       "      <td>1</td>\n",
       "      <td>[доооооожилииии, мене, мама, вже, з, хлопцями, зводитььь, happysmile]</td>\n",
       "    </tr>\n",
       "  </tbody>\n",
       "</table>\n",
       "</div>"
      ],
      "text/plain": [
       "                       id  \\\n",
       "5369   409063399449198592   \n",
       "57412  416082139898068993   \n",
       "6242   409083830771802113   \n",
       "\n",
       "                                                                                    ttext  \\\n",
       "5369                          Не, что бы там Бэл не говорил, до Томмо мне ещё далеко...:D   \n",
       "57412  @uuganaa19292324 тэхх, өвчтэй хүн хүнд алуулчихад гомдолгүйл юм бхдаа, хачин юм :(   \n",
       "6242                                Доооооожилииии, мене мама вже з хлопцями зводитььь)))   \n",
       "\n",
       "       ttype  \\\n",
       "5369       1   \n",
       "57412     -1   \n",
       "6242       1   \n",
       "\n",
       "                                                                             ttext_clean  \n",
       "5369       [не, что, бы, там, бэл, не, говорил, до, томмо, мне, ещё, далеко, happysmile]  \n",
       "57412  [тэхх, өвчтэй, хүн, хүнд, алуулчихад, гомдолгүйл, юм, бхдаа, хачин, юм, sadsmile]  \n",
       "6242               [доооооожилииии, мене, мама, вже, з, хлопцями, зводитььь, happysmile]  "
      ]
     },
     "execution_count": 14,
     "metadata": {},
     "output_type": "execute_result"
    }
   ],
   "source": [
    "data.sample(3)"
   ]
  },
  {
   "cell_type": "code",
   "execution_count": 15,
   "metadata": {},
   "outputs": [
    {
     "name": "stdout",
     "output_type": "stream",
     "text": [
      "записей: 226 833\n",
      "записей: 226 833\n"
     ]
    }
   ],
   "source": [
    "ppr(data)\n",
    "data = data[ data['ttext_clean'].str.len()>0 ].reset_index(drop=True) \n",
    "ppr(data)"
   ]
  },
  {
   "cell_type": "code",
   "execution_count": 16,
   "metadata": {},
   "outputs": [],
   "source": [
    "data['label'] = data['ttype'].apply(lambda y:max(0,y))\n",
    "data['text'] = data['ttext_clean'].apply(' '.join)"
   ]
  },
  {
   "cell_type": "code",
   "execution_count": 17,
   "metadata": {},
   "outputs": [
    {
     "data": {
      "text/html": [
       "<div>\n",
       "<style scoped>\n",
       "    .dataframe tbody tr th:only-of-type {\n",
       "        vertical-align: middle;\n",
       "    }\n",
       "\n",
       "    .dataframe tbody tr th {\n",
       "        vertical-align: top;\n",
       "    }\n",
       "\n",
       "    .dataframe thead th {\n",
       "        text-align: right;\n",
       "    }\n",
       "</style>\n",
       "<table border=\"1\" class=\"dataframe\">\n",
       "  <thead>\n",
       "    <tr style=\"text-align: right;\">\n",
       "      <th></th>\n",
       "      <th>text</th>\n",
       "      <th>label</th>\n",
       "    </tr>\n",
       "  </thead>\n",
       "  <tbody>\n",
       "    <tr>\n",
       "      <th>31058</th>\n",
       "      <td>если бы не alica in wonder я бы не осмелилась написать kisssmile</td>\n",
       "      <td>1</td>\n",
       "    </tr>\n",
       "    <tr>\n",
       "      <th>155305</th>\n",
       "      <td>почему бог забирает хороших людей не могу поверить sadsmile</td>\n",
       "      <td>0</td>\n",
       "    </tr>\n",
       "    <tr>\n",
       "      <th>16971</th>\n",
       "      <td>в жопу всё всех в жопу погода классная на улице url</td>\n",
       "      <td>1</td>\n",
       "    </tr>\n",
       "  </tbody>\n",
       "</table>\n",
       "</div>"
      ],
      "text/plain": [
       "                                                                    text  \\\n",
       "31058   если бы не alica in wonder я бы не осмелилась написать kisssmile   \n",
       "155305       почему бог забирает хороших людей не могу поверить sadsmile   \n",
       "16971                в жопу всё всех в жопу погода классная на улице url   \n",
       "\n",
       "        label  \n",
       "31058       1  \n",
       "155305      0  \n",
       "16971       1  "
      ]
     },
     "execution_count": 17,
     "metadata": {},
     "output_type": "execute_result"
    }
   ],
   "source": [
    "data[['text','label']].sample(3)"
   ]
  },
  {
   "cell_type": "code",
   "execution_count": 18,
   "metadata": {},
   "outputs": [],
   "source": [
    "!mkdir -p tmp"
   ]
  },
  {
   "cell_type": "code",
   "execution_count": 19,
   "metadata": {},
   "outputs": [],
   "source": [
    "data[['text','label']].to_csv('tmp/data.tsv', index=False, sep='\\t')"
   ]
  },
  {
   "cell_type": "markdown",
   "metadata": {},
   "source": [
    "## строим датасет"
   ]
  },
  {
   "cell_type": "code",
   "execution_count": 20,
   "metadata": {},
   "outputs": [],
   "source": [
    "import torchtext\n",
    "#from torchtext.legacy.data import Field\n",
    "#from torchtext.legacy.data import TabularDataset\n",
    "\n",
    "from torchtext.data import Field\n",
    "from torchtext.data import TabularDataset"
   ]
  },
  {
   "cell_type": "code",
   "execution_count": 21,
   "metadata": {},
   "outputs": [
    {
     "data": {
      "text/plain": [
       "'0.8.0a0+0f911ec'"
      ]
     },
     "execution_count": 21,
     "metadata": {},
     "output_type": "execute_result"
    }
   ],
   "source": [
    "torchtext.__version__"
   ]
  },
  {
   "cell_type": "code",
   "execution_count": 22,
   "metadata": {},
   "outputs": [
    {
     "name": "stderr",
     "output_type": "stream",
     "text": [
      "/usr/lib/python3.9/site-packages/torchtext/data/field.py:150: UserWarning: Field class will be retired soon and moved to torchtext.legacy. Please see the most recent release notes for further information.\n",
      "  warnings.warn('{} class will be retired soon and moved to torchtext.legacy. Please see the most recent release notes for further information.'.format(self.__class__.__name__), UserWarning)\n",
      "/usr/lib/python3.9/site-packages/torchtext/data/example.py:68: UserWarning: Example class will be retired soon and moved to torchtext.legacy. Please see the most recent release notes for further information.\n",
      "  warnings.warn('Example class will be retired soon and moved to torchtext.legacy. Please see the most recent release notes for further information.', UserWarning)\n",
      "/usr/lib/python3.9/site-packages/torchtext/data/example.py:78: UserWarning: Example class will be retired soon and moved to torchtext.legacy. Please see the most recent release notes for further information.\n",
      "  warnings.warn('Example class will be retired soon and moved to torchtext.legacy. Please see the most recent release notes for further information.', UserWarning)\n"
     ]
    }
   ],
   "source": [
    "def tokenizer(text): return text.split() \n",
    "\n",
    "field_text = Field( sequential=True, use_vocab=True, tokenize=tokenizer, pad_first=True, ) # batch_first=True)\n",
    "field_label = Field( sequential=False, use_vocab=False, ) # is_target=True, batch_first=True, dtype=torch.long)\n",
    "\n",
    "# загружаем датасет в формате Torch\n",
    "ds = TabularDataset(\n",
    "            path = './data.tsv',\n",
    "            format = 'tsv', #'tsv' for tabs, 'csv' for commas\n",
    "            fields = [\n",
    "                ('text',field_text),\n",
    "                ('label',field_label),\n",
    "            ],\n",
    "            skip_header=True,\n",
    "    )"
   ]
  },
  {
   "cell_type": "code",
   "execution_count": 23,
   "metadata": {},
   "outputs": [
    {
     "data": {
      "text/plain": [
       "98651"
      ]
     },
     "execution_count": 23,
     "metadata": {},
     "output_type": "execute_result"
    }
   ],
   "source": [
    "field_text.build_vocab(ds, min_freq=2)\n",
    "# .build_vocab( train, val, test,  max_size=20000,  min_freq=50,    vectors=vectors )\n",
    "\n",
    "len(field_text.vocab)"
   ]
  },
  {
   "cell_type": "code",
   "execution_count": 24,
   "metadata": {},
   "outputs": [
    {
     "data": {
      "text/plain": [
       "(158783, 68050)"
      ]
     },
     "execution_count": 24,
     "metadata": {},
     "output_type": "execute_result"
    }
   ],
   "source": [
    "train_ds,test_ds = ds.split(split_ratio=0.7,)\n",
    "\n",
    "# количество примеров\n",
    "len(train_ds.examples), len(test_ds.examples)"
   ]
  },
  {
   "cell_type": "code",
   "execution_count": 25,
   "metadata": {},
   "outputs": [],
   "source": [
    "device = torch.device('cuda:0' if torch.cuda.is_available() else 'cpu')\n",
    "# device = 'cpu'"
   ]
  },
  {
   "cell_type": "code",
   "execution_count": 26,
   "metadata": {},
   "outputs": [
    {
     "name": "stderr",
     "output_type": "stream",
     "text": [
      "/usr/lib/python3.9/site-packages/torchtext/data/iterator.py:48: UserWarning: BucketIterator class will be retired soon and moved to torchtext.legacy. Please see the most recent release notes for further information.\n",
      "  warnings.warn('{} class will be retired soon and moved to torchtext.legacy. Please see the most recent release notes for further information.'.format(self.__class__.__name__), UserWarning)\n"
     ]
    }
   ],
   "source": [
    "# раскидываем данные по батчам,\n",
    "# в один батч будут помещены тексты одинаковой (или близкой) длинны\n",
    "\n",
    "# from torchtext.legacy.data import BucketIterator\n",
    "from torchtext.data import BucketIterator\n",
    "\n",
    "train_iterator = BucketIterator(\n",
    "    train_ds, \n",
    "    batch_size = 4096, \n",
    "    device=device,\n",
    "    sort=False, \n",
    "    shuffle=True,\n",
    ")"
   ]
  },
  {
   "cell_type": "code",
   "execution_count": 27,
   "metadata": {},
   "outputs": [],
   "source": [
    "# for i,batch in enumerate(train_iterator):\n",
    "#     print( batch.text.shape, batch.label.shape )\n",
    "#     if i>10: break"
   ]
  },
  {
   "cell_type": "markdown",
   "metadata": {},
   "source": [
    "## строим модель"
   ]
  },
  {
   "cell_type": "code",
   "execution_count": 28,
   "metadata": {},
   "outputs": [],
   "source": [
    "embedding_dim = 128 # размер выхода эмбединга\n",
    "hidden_dim = 64 # размер рекуррентного слоя\n",
    "\n",
    "embedding_input = len(field_text.vocab)\n",
    "# embedding_input = 100\n",
    "n_classes = 2"
   ]
  },
  {
   "cell_type": "code",
   "execution_count": 29,
   "metadata": {},
   "outputs": [],
   "source": [
    "class Model(nn.Module):\n",
    "    def __init__(self, \n",
    "                 num_embeddings=embedding_input, # размер входа эмбединга (длина OHE)\n",
    "                 emb_dim=embedding_dim, # размер выхода эмбединга\n",
    "                 hid_dim=hidden_dim, # размер рекуррентного слоя\n",
    "                 output_dim=n_classes # размер выхода\n",
    "                ):\n",
    "        super().__init__()\n",
    "        self.emb = nn.Embedding(num_embeddings, embedding_dim) \n",
    "        self.rnn = nn.LSTM(emb_dim, hid_dim) # рекуррентный слой\n",
    "        # self.rnn = nn.LSTM(emb_dim, hid_dim, batch_first=True) # рекуррентный слой\n",
    "        self.linear = nn.Linear(hid_dim, output_dim) # выходной (линейный) слой\n",
    "        self.sftm = nn.Softmax(dim=1)\n",
    "\n",
    "    def forward(self,x):\n",
    "        o = self.emb(x)\n",
    "        # print(o.shape)\n",
    "        _, (h, _) = self.rnn(o) # обрабатываем входную последовательность\n",
    "        h = h.squeeze(0) # прекомпоновка тензора, сокращаем размерность\n",
    "        o = self.linear(h) # считаем выход сети\n",
    "        o = self.sftm(o)\n",
    "        return o "
   ]
  },
  {
   "cell_type": "code",
   "execution_count": 30,
   "metadata": {},
   "outputs": [
    {
     "data": {
      "text/plain": [
       "Model(\n",
       "  (emb): Embedding(98651, 128)\n",
       "  (rnn): LSTM(128, 64)\n",
       "  (linear): Linear(in_features=64, out_features=2, bias=True)\n",
       "  (sftm): Softmax(dim=1)\n",
       ")"
      ]
     },
     "execution_count": 30,
     "metadata": {},
     "output_type": "execute_result"
    }
   ],
   "source": [
    "model = Model()\n",
    "model"
   ]
  },
  {
   "cell_type": "code",
   "execution_count": 31,
   "metadata": {},
   "outputs": [],
   "source": [
    "# rnn = nn.LSTM(10, 20, 2)\n",
    "# input = torch.randn(5, 3, 10)\n",
    "# h0 = torch.randn(2, 3, 20)\n",
    "# c0 = torch.randn(2, 3, 20)\n",
    "# output, (hn, cn) = rnn(input, (h0, c0))\n",
    "# output, (hn, cn) = rnn(input)"
   ]
  },
  {
   "cell_type": "code",
   "execution_count": 32,
   "metadata": {},
   "outputs": [],
   "source": [
    "# from torchsummary import summary\n",
    "# summary"
   ]
  },
  {
   "cell_type": "code",
   "execution_count": 33,
   "metadata": {},
   "outputs": [],
   "source": [
    "# from torchsummary import summary\n",
    "# # # summary(model.to('cuda:0'),(1,4))\n",
    "# summary(model=model,input_size=(10,))\n",
    "# summary(model=model,input_size=((31,4096)))"
   ]
  },
  {
   "cell_type": "code",
   "execution_count": 34,
   "metadata": {},
   "outputs": [],
   "source": [
    "# for (xb,yb),_ in train_iterator: break\n",
    "\n",
    "# xb.shape\n",
    "# yb\n",
    "# print( xb.shape, yb.shape )\n",
    "\n",
    "# xb,yb = next(train_iterator)\n",
    "# xb.shape,yb.shape"
   ]
  },
  {
   "cell_type": "code",
   "execution_count": 35,
   "metadata": {},
   "outputs": [],
   "source": [
    "# model(xb)"
   ]
  },
  {
   "cell_type": "markdown",
   "metadata": {},
   "source": [
    "## обучаем модель"
   ]
  },
  {
   "cell_type": "code",
   "execution_count": 36,
   "metadata": {},
   "outputs": [],
   "source": [
    "model = model.to(device)"
   ]
  },
  {
   "cell_type": "code",
   "execution_count": 37,
   "metadata": {},
   "outputs": [],
   "source": [
    "loss_function =  nn.CrossEntropyLoss()\n",
    "optimizer = torch.optim.Adam(model.parameters(), lr=0.005)"
   ]
  },
  {
   "cell_type": "code",
   "execution_count": 38,
   "metadata": {},
   "outputs": [
    {
     "name": "stderr",
     "output_type": "stream",
     "text": [
      "/usr/lib/python3.9/site-packages/torchtext/data/batch.py:23: UserWarning: Batch class will be retired soon and moved to torchtext.legacy. Please see the most recent release notes for further information.\n",
      "  warnings.warn('{} class will be retired soon and moved to torchtext.legacy. Please see the most recent release notes for further information.'.format(self.__class__.__name__), UserWarning)\n"
     ]
    },
    {
     "name": "stdout",
     "output_type": "stream",
     "text": [
      "  0 : 0.4252\n",
      "  1 : 0.3899\n",
      "  2 : 0.3723\n",
      "  3 : 0.3641\n",
      "  4 : 0.3543\n",
      "  5 : 0.3494\n",
      "  6 : 0.3391\n",
      "  7 : 0.3394\n",
      "  8 : 0.3369\n",
      "  9 : 0.3368\n",
      " 10 : 0.3354\n",
      " 11 : 0.3378\n",
      " 12 : 0.3305\n",
      " 13 : 0.3317\n",
      " 14 : 0.3287\n",
      " 15 : 0.3297\n",
      " 16 : 0.3307\n",
      " 17 : 0.3314\n",
      " 18 : 0.3286\n",
      " 19 : 0.3286\n",
      " 20 : 0.3277\n",
      " 21 : 0.3299\n",
      " 22 : 0.3289\n",
      " 23 : 0.3302\n",
      " 24 : 0.3280\n",
      " 25 : 0.3257\n",
      " 26 : 0.3274\n",
      " 27 : 0.3297\n",
      " 28 : 0.3315\n",
      " 29 : 0.3286\n",
      " 30 : 0.3276\n",
      " 31 : 0.3270\n",
      "CPU times: user 1min 39s, sys: 139 ms, total: 1min 39s\n",
      "Wall time: 1min 39s\n"
     ]
    }
   ],
   "source": [
    "%%time\n",
    "\n",
    "epochs = 32\n",
    "#epochs = 2\n",
    "\n",
    "hist = []\n",
    "for i in range(epochs):\n",
    "    # for j,batch in enumerate( train_iterator ):\n",
    "    for (xb,yb),_ in train_iterator:\n",
    "        # xb,yb = batch.text, batch.label\n",
    "        \n",
    "        # print(xb.shape, yb.shape )\n",
    "        \n",
    "        optimizer.zero_grad() # обнуляем значения градиента\n",
    "        out = model(xb) # вычисляем выход, прямой проход\n",
    "        loss = loss_function(out,yb) # вычисляем значение потери\n",
    "        loss.backward() # вычисляем значения градиента потери, обратный проход\n",
    "        \n",
    "        # clip the gradient\n",
    "        torch.nn.utils.clip_grad_norm_(model.parameters(), 1.)\n",
    "        \n",
    "        optimizer.step() # изменяем значения весов модели\n",
    "        hist.append( loss.item() ) # сохраняем текущее значение потери\n",
    "        \n",
    "        # if (j%20)==0: print( f'{j}\\t{loss.item()}' )\n",
    "        \n",
    "    print(f'{i:3} : {loss.item():.4f}')"
   ]
  },
  {
   "cell_type": "code",
   "execution_count": 39,
   "metadata": {},
   "outputs": [],
   "source": [
    "# import torch\n",
    "# torch.nn.utils.clip_grad_norm?"
   ]
  },
  {
   "cell_type": "code",
   "execution_count": 40,
   "metadata": {},
   "outputs": [],
   "source": [
    "torch.cuda.empty_cache()"
   ]
  },
  {
   "cell_type": "code",
   "execution_count": 41,
   "metadata": {},
   "outputs": [
    {
     "data": {
      "text/plain": [
       "[<matplotlib.lines.Line2D at 0x7fe76ae3b040>]"
      ]
     },
     "execution_count": 41,
     "metadata": {},
     "output_type": "execute_result"
    },
    {
     "data": {
      "image/png": "[encoded data removed]",
      "text/plain": [
       "<Figure size 432x288 with 1 Axes>"
      ]
     },
     "metadata": {
      "needs_background": "light"
     },
     "output_type": "display_data"
    }
   ],
   "source": [
    "# изменение значения потери в процессе обучения\n",
    "plt.plot(hist)"
   ]
  },
  {
   "cell_type": "code",
   "execution_count": 42,
   "metadata": {},
   "outputs": [],
   "source": [
    "# 200 % 100"
   ]
  },
  {
   "cell_type": "markdown",
   "metadata": {},
   "source": [
    "## тест"
   ]
  },
  {
   "cell_type": "code",
   "execution_count": 43,
   "metadata": {},
   "outputs": [],
   "source": [
    "from sklearn.metrics import accuracy_score\n",
    "from sklearn.metrics import classification_report"
   ]
  },
  {
   "cell_type": "code",
   "execution_count": 44,
   "metadata": {},
   "outputs": [
    {
     "name": "stderr",
     "output_type": "stream",
     "text": [
      "/usr/lib/python3.9/site-packages/torchtext/data/iterator.py:48: UserWarning: Iterator class will be retired soon and moved to torchtext.legacy. Please see the most recent release notes for further information.\n",
      "  warnings.warn('{} class will be retired soon and moved to torchtext.legacy. Please see the most recent release notes for further information.'.format(self.__class__.__name__), UserWarning)\n"
     ]
    }
   ],
   "source": [
    "from torchtext.data import Iterator\n",
    "\n",
    "test_iterator = Iterator(\n",
    "    test_ds, \n",
    "    batch_size = 4096, \n",
    "    device=device,\n",
    "    sort=False, \n",
    "    shuffle=False,\n",
    ")"
   ]
  },
  {
   "cell_type": "code",
   "execution_count": 45,
   "metadata": {},
   "outputs": [
    {
     "name": "stderr",
     "output_type": "stream",
     "text": [
      "/usr/lib/python3.9/site-packages/torchtext/data/batch.py:23: UserWarning: Batch class will be retired soon and moved to torchtext.legacy. Please see the most recent release notes for further information.\n",
      "  warnings.warn('{} class will be retired soon and moved to torchtext.legacy. Please see the most recent release notes for further information.'.format(self.__class__.__name__), UserWarning)\n"
     ]
    }
   ],
   "source": [
    "label = []\n",
    "score = []\n",
    "\n",
    "with torch.no_grad():\n",
    "    for batch in test_iterator:\n",
    "        y_pred = model(batch.text) # вычисляем значения регресии\n",
    "        y = batch.label\n",
    "        label.append( y.cpu().detach().numpy() )\n",
    "        score.append( y_pred.cpu().detach().numpy() )"
   ]
  },
  {
   "cell_type": "code",
   "execution_count": 46,
   "metadata": {},
   "outputs": [],
   "source": [
    "label = np.hstack(label)\n",
    "score = np.vstack(score)"
   ]
  },
  {
   "cell_type": "code",
   "execution_count": 47,
   "metadata": {},
   "outputs": [],
   "source": [
    "y_pred = np.argmax( score ,axis=1)"
   ]
  },
  {
   "cell_type": "code",
   "execution_count": 48,
   "metadata": {},
   "outputs": [
    {
     "data": {
      "text/plain": [
       "0.8992505510653931"
      ]
     },
     "execution_count": 48,
     "metadata": {},
     "output_type": "execute_result"
    }
   ],
   "source": [
    "accuracy_score(label, y_pred)"
   ]
  },
  {
   "cell_type": "code",
   "execution_count": 49,
   "metadata": {},
   "outputs": [
    {
     "name": "stdout",
     "output_type": "stream",
     "text": [
      "              precision    recall  f1-score   support\n",
      "\n",
      "           0       0.90      0.90      0.90     33525\n",
      "           1       0.90      0.90      0.90     34525\n",
      "\n",
      "    accuracy                           0.90     68050\n",
      "   macro avg       0.90      0.90      0.90     68050\n",
      "weighted avg       0.90      0.90      0.90     68050\n",
      "\n"
     ]
    }
   ],
   "source": [
    "print(classification_report(label, y_pred) )"
   ]
  },
  {
   "cell_type": "code",
   "execution_count": null,
   "metadata": {},
   "outputs": [],
   "source": []
  }
 ],
 "metadata": {
  "kernelspec": {
   "display_name": "Python 3",
   "language": "python",
   "name": "python3"
  },
  "language_info": {
   "codemirror_mode": {
    "name": "ipython",
    "version": 3
   },
   "file_extension": ".py",
   "mimetype": "text/x-python",
   "name": "python",
   "nbconvert_exporter": "python",
   "pygments_lexer": "ipython3",
   "version": "3.8.9"
  },
  "toc": {
   "base_numbering": 1,
   "nav_menu": {},
   "number_sections": true,
   "sideBar": true,
   "skip_h1_title": false,
   "title_cell": "Table of Contents",
   "title_sidebar": "Contents",
   "toc_cell": false,
   "toc_position": {},
   "toc_section_display": "block",
   "toc_window_display": true
  }
 },
 "nbformat": 4,
 "nbformat_minor": 4
}
