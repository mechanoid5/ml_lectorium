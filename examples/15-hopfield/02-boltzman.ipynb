{
 "cells": [
  {
   "cell_type": "markdown",
   "metadata": {},
   "source": [
    "**машина Больцмана: ассоциативная память**\n",
    "\n",
    "Евгений Борисов borisov.e@solarl.ru"
   ]
  },
  {
   "cell_type": "markdown",
   "metadata": {},
   "source": [
    "---"
   ]
  },
  {
   "cell_type": "markdown",
   "metadata": {},
   "source": [
    "## библиотеки"
   ]
  },
  {
   "cell_type": "code",
   "execution_count": 1,
   "metadata": {},
   "outputs": [],
   "source": [
    "import numpy as np\n",
    "import matplotlib.pyplot as plt\n",
    "import imageio\n",
    "import pickle\n",
    "import gzip\n",
    "\n",
    "from time import time"
   ]
  },
  {
   "cell_type": "code",
   "execution_count": 2,
   "metadata": {},
   "outputs": [],
   "source": [
    "def plot_images(A,figsize=(10,4)):\n",
    "    f, axarr = plt.subplots(1,len(A), sharey=False, sharex=False, figsize=figsize)\n",
    "    for i in range(len(A)): \n",
    "        axarr[i].axis('off')\n",
    "        axarr[i].imshow(A[i])"
   ]
  },
  {
   "cell_type": "markdown",
   "metadata": {},
   "source": [
    "##  загружаем данные "
   ]
  },
  {
   "cell_type": "code",
   "execution_count": 3,
   "metadata": {},
   "outputs": [],
   "source": [
    "# with gzip.open('data/pix/30x30-123/data.pkl.gz','rb') as f: data = pickle.load(f)\n",
    "# with gzip.open('data/pix/30x30-abc/data.pkl.gz','rb') as f: data = pickle.load(f)\n",
    "# with gzip.open('data/pix/17x31-123/data.pkl.gz','rb') as f: data = pickle.load(f)\n",
    "\n",
    "with gzip.open('../data/pix/17x31.pkl.gz','rb') as f: data = pickle.load(f)\n"
   ]
  },
  {
   "cell_type": "code",
   "execution_count": 4,
   "metadata": {},
   "outputs": [],
   "source": [
    "ideal = data[0]\n",
    "test = data[1:]\n",
    "#n_test = len(data)-1"
   ]
  },
  {
   "cell_type": "code",
   "execution_count": 5,
   "metadata": {},
   "outputs": [
    {
     "data": {
      "image/png": "[encoded data removed]",
      "text/plain": [
       "<Figure size 1008x144 with 3 Axes>"
      ]
     },
     "metadata": {
      "needs_background": "light"
     },
     "output_type": "display_data"
    }
   ],
   "source": [
    "# учебный набор\n",
    "plot_images(ideal,figsize=(14,2))"
   ]
  },
  {
   "cell_type": "code",
   "execution_count": 6,
   "metadata": {},
   "outputs": [
    {
     "data": {
      "image/png": "[encoded data removed]",
      "text/plain": [
       "<Figure size 1008x144 with 7 Axes>"
      ]
     },
     "metadata": {
      "needs_background": "light"
     },
     "output_type": "display_data"
    }
   ],
   "source": [
    "# тестовый набор\n",
    "for i in range(len(test)): plot_images(test[i],figsize=(14,2))"
   ]
  },
  {
   "cell_type": "code",
   "execution_count": 7,
   "metadata": {},
   "outputs": [
    {
     "data": {
      "text/plain": [
       "(31, 17)"
      ]
     },
     "execution_count": 7,
     "metadata": {},
     "output_type": "execute_result"
    }
   ],
   "source": [
    "im_size = ideal[0].shape\n",
    "im_size"
   ]
  },
  {
   "cell_type": "markdown",
   "metadata": {},
   "source": [
    "## загружаем память сети"
   ]
  },
  {
   "cell_type": "code",
   "execution_count": 8,
   "metadata": {},
   "outputs": [],
   "source": [
    "# масштабруем в [-1,+1]\n",
    "X_train = np.vstack([ (m.flatten()>0)*2-1 for m in ideal ])\n",
    "# добавляем сдвиг\n",
    "X_train = np.hstack( [ X_train,np.ones([X_train.shape[0],1]),] )"
   ]
  },
  {
   "cell_type": "code",
   "execution_count": 9,
   "metadata": {},
   "outputs": [],
   "source": [
    "W = X_train.T.dot(X_train)\n",
    "n = W.shape[0]\n",
    "# удаляем обратную связь нейрона на самого себя (обнуляем главную диагональ матрицы весов)\n",
    "W = W *(np.ones([n,n])-np.eye(n,n))"
   ]
  },
  {
   "cell_type": "code",
   "execution_count": 10,
   "metadata": {},
   "outputs": [],
   "source": [
    " #np.abs(np.triu(W)-np.tril(W).T).sum()"
   ]
  },
  {
   "cell_type": "markdown",
   "metadata": {},
   "source": [
    "---"
   ]
  },
  {
   "cell_type": "code",
   "execution_count": 11,
   "metadata": {},
   "outputs": [],
   "source": [
    "# инициализация генератора псевдослучайных чисел\n",
    "np.random.seed(seed= int(((time()%1)/(time()//1))*1e11) )"
   ]
  },
  {
   "cell_type": "markdown",
   "metadata": {},
   "source": [
    "энергия сети\n",
    "\n",
    "$E = - \\left( s\\cdot W \\right) * s - s*\\theta $   \n",
    "\n",
    "$\\cdot$ - матричное умножение  \n",
    "$*$ - поэлементное умножение   \n",
    "$s$ - состояние сети   \n",
    "$W$ - матрица весов   \n",
    "$\\theta$ - вектор сдвигов  "
   ]
  },
  {
   "cell_type": "code",
   "execution_count": 12,
   "metadata": {},
   "outputs": [],
   "source": [
    "def energy(s,W): return -s.dot(W)*s -s*W[:,-1]"
   ]
  },
  {
   "cell_type": "markdown",
   "metadata": {},
   "source": [
    "генерируем случайное состояние r\n",
    "\n",
    "и считаем изменение энергии сети\n",
    "\n",
    "$dE = E(r) - E(s)$\n",
    "\n",
    "если $dE_i\\leq 0$   \n",
    "то $s_i:=r_i$  \n",
    "иначе принимаем $s_i:=r_i$ c вероятностью $p_i$"
   ]
  },
  {
   "cell_type": "code",
   "execution_count": 13,
   "metadata": {},
   "outputs": [],
   "source": [
    "def run(x,W,max_iter=50):\n",
    "    t0 = t = 100.0 # начальная \"температура\" сети    \n",
    "    s = x.copy()\n",
    "    for i in range(max_iter):\n",
    "        r = np.random.randint(0,2,len(s))*2-1 # случайное состояние\n",
    "        r[-1] = 1 # сдвиг\n",
    "\n",
    "        dE = energy(r,W) - energy(s,W) # изменение энергии нейронов\n",
    "\n",
    "        p = 1.0-1.0/(1.0+np.exp(-dE/t)) # вероятности переходов в новое состояние\n",
    "\n",
    "        if np.any(np.isnan(p)): break\n",
    "\n",
    "        ps = p.sum()\n",
    "        p = p/ps if ps>0 else p\n",
    "\n",
    "        s_prev = s.copy() # сохряняем старое значение \n",
    "\n",
    "        dEc = dE>0 # условие: изменение энергии нейрона > 0\n",
    "\n",
    "        # если изменение энергии меньше нуля \n",
    "        # то принимаем новое состояние нейрона\n",
    "        s[~dEc] = r[~dEc]\n",
    "\n",
    "        # если изменение энергии больше нуля \n",
    "        # то принимаем новое состояние нейрона с вероятностью p\n",
    "        m = np.random.rand((dEc).sum()) <= p[dEc]\n",
    "        s[dEc] = r[dEc]*m + s[dEc]*(~m)\n",
    "\n",
    "        t = t0/(1.0+np.log(i+1.0)) \n",
    "\n",
    "        if np.all(s==s_prev): break\n",
    "        \n",
    "        # print('%i: t=%.2f, new=%i, [dE<0]:%i'%(i, t, int(nn), (~dEc).sum(),) )\n",
    "        #nn = np.abs(s_prev-s).sum() # количество нейронов изменивших состояние\n",
    "        #if nn < 1: break\n",
    "            \n",
    "    print(i)\n",
    "    return s\n"
   ]
  },
  {
   "cell_type": "markdown",
   "metadata": {},
   "source": [
    "## тестируем"
   ]
  },
  {
   "cell_type": "code",
   "execution_count": 14,
   "metadata": {},
   "outputs": [],
   "source": [
    "def make_test(tt,figsize=(20,2)):\n",
    "    # масштабруем в [-1,+1]\n",
    "    X_test = np.vstack([(m.flatten()>0)*2-1 for m in tt])\n",
    "    # добавляем сдвиг\n",
    "    X_test = np.hstack( [ X_test,np.ones([X_test.shape[0],1]),] )\n",
    "\n",
    "    # выполняем для всех тестовых примеров\n",
    "    out = [ run(X_test[i,:],W) for i in range(X_test.shape[0]) ]\n",
    "    out = [ ((o+1.0)*0.5*255.0).astype(np.uint8)[:-1].reshape(im_size) for o in out ]\n",
    "    \n",
    "    f,axarr = plt.subplots(2,len(tt),sharey=False,sharex=False,figsize=figsize)\n",
    "    for i in range(len(tt)):\n",
    "        axarr[0,i].imshow( tt[i] )\n",
    "        axarr[0,i].axis('off')\n",
    "        axarr[1,i].imshow( out[i])\n",
    "        axarr[1,i].axis('off')\n"
   ]
  },
  {
   "cell_type": "code",
   "execution_count": 15,
   "metadata": {},
   "outputs": [
    {
     "data": {
      "image/png": "[encoded data removed]",
      "text/plain": [
       "<Figure size 1008x144 with 3 Axes>"
      ]
     },
     "metadata": {
      "needs_background": "light"
     },
     "output_type": "display_data"
    }
   ],
   "source": [
    "# содержимое памяти сети\n",
    "plot_images(ideal,figsize=(14,2))"
   ]
  },
  {
   "cell_type": "code",
   "execution_count": 16,
   "metadata": {},
   "outputs": [
    {
     "name": "stdout",
     "output_type": "stream",
     "text": [
      "4\n",
      "9\n",
      "7\n",
      "9\n",
      "8\n",
      "8\n",
      "12\n"
     ]
    },
    {
     "data": {
      "image/png": "[encoded data removed]",
      "text/plain": [
       "<Figure size 1008x360 with 14 Axes>"
      ]
     },
     "metadata": {
      "needs_background": "light"
     },
     "output_type": "display_data"
    }
   ],
   "source": [
    "# пары образов: вход,результат(ассоциация)\n",
    "for i in range(len(test)): make_test(test[i],figsize=(14,5))"
   ]
  },
  {
   "cell_type": "code",
   "execution_count": null,
   "metadata": {},
   "outputs": [],
   "source": []
  }
 ],
 "metadata": {
  "kernelspec": {
   "display_name": "Python 3",
   "language": "python",
   "name": "python3"
  },
  "language_info": {
   "codemirror_mode": {
    "name": "ipython",
    "version": 3
   },
   "file_extension": ".py",
   "mimetype": "text/x-python",
   "name": "python",
   "nbconvert_exporter": "python",
   "pygments_lexer": "ipython3",
   "version": "3.7.2"
  },
  "toc": {
   "base_numbering": 1,
   "nav_menu": {},
   "number_sections": true,
   "sideBar": true,
   "skip_h1_title": false,
   "title_cell": "Table of Contents",
   "title_sidebar": "Contents",
   "toc_cell": false,
   "toc_position": {},
   "toc_section_display": "block",
   "toc_window_display": true
  }
 },
 "nbformat": 4,
 "nbformat_minor": 2
}
