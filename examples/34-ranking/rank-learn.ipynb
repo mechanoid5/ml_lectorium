{
 "cells": [
  {
   "cell_type": "markdown",
   "id": "a7ec9a98",
   "metadata": {},
   "source": [
    "https://www.youtube.com/watch?v=EioJ902VCmk&list=PLJOzdkh8T5kp99tGTEFjH_b9zqEQiiBtC&index=18"
   ]
  },
  {
   "cell_type": "markdown",
   "id": "b191500b",
   "metadata": {},
   "source": [
    "**задача ранжирования**\n",
    "\n",
    "$X$ - множество объектов   \n",
    "$x_1...x_l$ - упорядоченный набор объектов   \n",
    "\n",
    "отношение порядка на $X$   \n",
    "\n",
    "построить $a : X \\rightarrow \\mathbb{R}$  \n",
    "$i<j \\Rightarrow a(x_i)<a(x_j)$"
   ]
  },
  {
   "cell_type": "markdown",
   "id": "68741296",
   "metadata": {},
   "source": [
    "**линейная модель ранжирования**  \n",
    "$a(x) = <x,w>$  \n",
    "$x = ( f_1(x),...f_n(x) ) \\in  \\mathbb{R}^n$ - вектор признак объекта x  \n",
    "$w$ - параметры  "
   ]
  },
  {
   "cell_type": "markdown",
   "id": "adfaed71",
   "metadata": {},
   "source": [
    "**пример**\n",
    "\n",
    "$D$ - документы  \n",
    "$Q$ - запросы  \n",
    "\n",
    "$X = D х Q$ - ответы на запросы\n",
    "\n",
    "$у: X  \\rightarrow R$ - оценка релевантности\n",
    "\n",
    "порядок определён только на документах найденных по одному запросу  \n",
    "т.е. релевантность документов $D$ относительно запроса $q$"
   ]
  },
  {
   "cell_type": "markdown",
   "id": "3a73e50c",
   "metadata": {},
   "source": [
    "_отношение порядка на учебном наборе обычно строим руками_"
   ]
  },
  {
   "cell_type": "markdown",
   "id": "e7abcd59",
   "metadata": {},
   "source": [
    "**TF-IDF(q,d) как мера релевантности**\n",
    "\n",
    "\n",
    "$\\sum\\limits_{w \\in q} TF(w,d)\\cdot IDF(w) = \\sum\\limits_{w\\in q}  n_{dw} \\cdot \\log( N/N_w )$"
   ]
  },
  {
   "cell_type": "markdown",
   "id": "2ba00d69",
   "metadata": {},
   "source": [
    "**google page rank**\n",
    "\n",
    "рекуррентный принцип:  \n",
    "документ важен если на него ссылаются другие важные документы  \n",
    "которые не ссылаются на на другие документы  "
   ]
  },
  {
   "cell_type": "markdown",
   "id": "ca25a0f6",
   "metadata": {},
   "source": [
    "**точность (средняя) ранжирования** [28:18]\n",
    "\n",
    "$y(q,d)$ - релевантность  \n",
    "$Y = \\{0,1\\}$ - бинарная разметка, релевантен/нерелевантен\n",
    "\n",
    "$а(q,d)$ - функция ранжирования\n",
    "\n",
    "\n",
    "точность ранжирования (доля релевантных) по запросу q для первых $n$ документов:\n",
    "\n",
    "$$P_n(q) = \\frac{1}{n} \\sum\\limits_{i=1}^n y\\left(q,d_q^{(i)}\\right) $$\n",
    "\n",
    "\n",
    "средняя точность ранжирования по запросу q:\n",
    "\n",
    "$$ AP(q) = \\frac{ \\sum\\limits_n \\left( P_n(q) \\cdot y\\left(q,d_q^{(n)}\\right) \\right) }{ \\sum\\limits_n y\\left(q,d_q^{(n)}\\right) }$$\n",
    "\n",
    "\n",
    "общая средняя точность ранжирования (модели):\n",
    "\n",
    "$$MAP = \\frac{1}{|Q|} \\sum_{q\\in Q} AP(q) $$"
   ]
  },
  {
   "cell_type": "markdown",
   "id": "29315fd8",
   "metadata": {},
   "source": [
    "доля дефектных пар, доля инверсий порядка среди первых $n$ документов по запросу $q$\n",
    "\n",
    "$$ DP_n(q) = \\frac{2}{n(n-1)} \\sum_{i<j} \\left[ y(q,d_q^{(i)})<y(q,d_q^{(j)})\\right] $$\n",
    "\n",
    "где $d_q^{(i)}$ - $i$-тый документ по убыванию $a(q,d)$\n",
    "\n",
    "связь с коэффициентом ранговой корреляции ($\\tau$ Кенделла)\n",
    "\n",
    "$$\\tau(a,y) = 1 - 2\\cdot DP_n(q)$$\n",
    "\n",
    "связь с AUC (бинарная классификация $Y=\\{-1,+1\\}; a:X\\rightarrow Y$)\n",
    "\n",
    "$$ AUC_n(q) = \\frac{1}{\\mathscr{l}_-\\mathscr{l}_+} \\sum\\limits_{i,j=1}^{n}\\left[y_i>y_j\\right]\\cdot\\left[a(x_i)<a(x_j)\\right] =  \\frac{n(n-1)}{2\\mathscr{l}_-\\mathscr{l}_+}DP_n(q) $$"
   ]
  },
  {
   "cell_type": "markdown",
   "id": "9cfcdb04",
   "metadata": {},
   "source": [
    "дисконтированная взвешенная сумма выигрышей\n",
    "\n",
    "$$DCG_n = \\sum\\limits^n_{i=1} G_q(d_q^{(i)}) \\cdot D(i) $$\n",
    "где  \n",
    "$G_q(d) =  \\left( 2^{y(q,d)} - 1\\right)$  - больший вес релевантным документам   \n",
    "$D(i) = 1/\\log_2(i+1)$  - больший вес в начале выдачи\n",
    "\n",
    "нормированная дисконтированная взвешенная сумма выигрышей\n",
    "\n",
    "$$ NDCG_n(q) = \\frac{DCG_n(q)}{\\max DCG_n(q) }$$"
   ]
  },
  {
   "cell_type": "markdown",
   "id": "b5bb49c1",
   "metadata": {},
   "source": [
    "Яndex pFound - модель поведения пользователя\n",
    "\n",
    "\n",
    "$$pFound_n(q) = \\sum\\limits_{i=1}^{n} P_i \\cdot y(q,d_q^{(i)})$$\n",
    "\n",
    "\n",
    "$P_1 = 1$  \n",
    "$P_{i+1} = P_i \\cdot \\left(1-y(q,d_q^{(i)})\\right)\\cdot(1-P_{out}) $\n",
    "\n",
    "$P_i$ - вероятность того, что пользователь будет просматривать $i$-тый документ (дойдёт до $i$)  \n",
    "$P_{out}$ - вероятность того, что пользователь бросит поиск не найдя ответа\n",
    "\n",
    "\n",
    "y(q,d) | name\n",
    "--- |:--- \n",
    "0.61 |vital\n",
    "0.41 |useful\n",
    "0.14 |relevant+\n",
    "0.07 |relevant+\n",
    "0.00 |not relevant\n",
    "\n",
    "$$P_{out}=0.15$$\n"
   ]
  },
  {
   "cell_type": "markdown",
   "id": "738951d8",
   "metadata": {},
   "source": [
    "подходы к ранжированию\n",
    "\n",
    "- point-wise поточечно, строим функционал по каждому объекту отдельно\n",
    "- pair-wise попарно, строим функционал с парами объектов с учётом порядка на этой паре\n",
    "- list-wise списком, оцениваем сразу список объектов и отношения на них"
   ]
  },
  {
   "cell_type": "markdown",
   "id": "fe1bfbbb",
   "metadata": {},
   "source": [
    "модели ранжирования (pair-wise)\n",
    "\n",
    "отступ:\n",
    "\n",
    "$$M_{ij} = a(x_j) - a(x_i)$$\n",
    "\n",
    "переход к гладкому функционалу качества\n",
    "\n",
    "$$Q(a) = \\sum\\limits_{i<j} \\left[ M_{ij} < 0  \\right] \\leq \\sum\\limits_{i<j} \\mathscr{L} \\left( M_{ij} \\right) \\rightarrow \\min $$\n",
    "\n",
    "где  \n",
    "$a(x)$ - алгоритм ранжирования  \n",
    "$\\mathscr{L}(M)$ - убывающая непрерывная функция отступа  "
   ]
  },
  {
   "cell_type": "markdown",
   "id": "67d9edb3",
   "metadata": {},
   "source": [
    "ranking SVM\n",
    "\n",
    "реализует $m$ разделяющих полос между объектами с дискретными оценками ранга (одна из $m$ возможных оценок для одного объекта\n",
    ")"
   ]
  },
  {
   "cell_type": "markdown",
   "id": "f75479ad",
   "metadata": {},
   "source": [
    "парное ранжирование\n",
    "\n",
    "rankingNet\n",
    "\n",
    "$a(x)=<w,x>$ линейная модель\n",
    "\n",
    "$\\mathscr{L}(M) = \\log(1+\\exp(-\\sigma M) )$ гладкая апроксимация функционала качества\n",
    "\n",
    "$\\sigma$ - параметр\n",
    "\n",
    "шаг SGD:\n",
    "\n",
    "$$w:= w + \\eta \\cdot \\frac{\\sigma}{1+\\exp\\left(\\sigma \\left<x_j-x_i,w\\right> \\right)}\\cdot(x_j-x_i)$$\n"
   ]
  },
  {
   "cell_type": "markdown",
   "id": "686c65c6",
   "metadata": {},
   "source": [
    "lambdaRank\n",
    "\n",
    "домножение изменения на NDCG при перестановке $x_i$ $x_j$ приводит к оптимизации NDCG (можно использовать MAP)\n",
    "\n",
    "\n",
    "$$w:= w + \\eta \\cdot \\frac{\\sigma}{1+\\exp\\left(\\sigma \\left<x_j-x_i,w\\right> \\right)}\\cdot(x_j-x_i) \\cdot |\\Delta NDCG_{ij}| $$"
   ]
  },
  {
   "cell_type": "markdown",
   "id": "6f643bb8",
   "metadata": {},
   "source": [
    "---"
   ]
  },
  {
   "cell_type": "markdown",
   "id": "a975ce2b",
   "metadata": {},
   "source": [
    "Яndex\n",
    "\n",
    "50K оценок асессоров за месяц\n",
    "\n",
    "800 признаков добавлено за 4 года\n",
    "\n",
    "технология MatrixNet\n",
    "\n",
    "FML среда для тестирования методов ML"
   ]
  },
  {
   "cell_type": "markdown",
   "id": "25064104",
   "metadata": {},
   "source": [
    "---"
   ]
  },
  {
   "cell_type": "markdown",
   "id": "739553f1",
   "metadata": {},
   "source": [
    "MathJax - библиотека для отображения математических формул (краткий справочник)\n",
    "\n",
    "https://radioprog.ru/post/74\n",
    "\n",
    "\n",
    "\n",
    "MathML Examples\n",
    "\n",
    "https://elsenaju.eu/mathml/MathML-Examples.htm"
   ]
  },
  {
   "cell_type": "markdown",
   "id": "70dd1b30",
   "metadata": {},
   "source": [
    "Markdown | Less | Pretty\n",
    "--- | --- | ---\n",
    "*Still* | `renders` | **nicely**\n",
    "1 | 2 | 3\n"
   ]
  },
  {
   "cell_type": "markdown",
   "id": "4d857b7c",
   "metadata": {},
   "source": [
    "----"
   ]
  },
  {
   "cell_type": "markdown",
   "id": "d02efb5a",
   "metadata": {},
   "source": [
    "**rankingNet**\n",
    "\n",
    "\n",
    "парное ранжирование\n",
    "\n",
    "\n",
    "$a(x)=<w,x>$ линейная модель\n",
    "\n",
    "$\\mathscr{L}(M) = \\log(1+\\exp(-\\sigma M) )$ гладкая апроксимация функционала качества\n",
    "\n",
    "$\\sigma$ - параметр\n",
    "\n",
    "шаг SGD (формируем порядок $i<j$):\n",
    "\n",
    "$$w:= w + \\eta \\cdot \\frac{\\sigma}{1+\\exp\\left(\\sigma \\left<x_j-x_i,w\\right> \\right)}\\cdot(x_j-x_i)$$\n"
   ]
  },
  {
   "cell_type": "code",
   "execution_count": 1,
   "id": "67510127",
   "metadata": {},
   "outputs": [],
   "source": [
    "import numpy as np\n",
    "import numpy.random as rng\n",
    "from itertools import product\n",
    "from matplotlib import pyplot as plt"
   ]
  },
  {
   "cell_type": "code",
   "execution_count": 2,
   "id": "2a0aeefa",
   "metadata": {},
   "outputs": [],
   "source": [
    "np.set_printoptions(precision=2) # вывод на печать чисел до 2 знака"
   ]
  },
  {
   "cell_type": "code",
   "execution_count": 3,
   "id": "5ef9202d",
   "metadata": {},
   "outputs": [
    {
     "data": {
      "text/plain": [
       "(100, 7)"
      ]
     },
     "execution_count": 3,
     "metadata": {},
     "output_type": "execute_result"
    }
   ],
   "source": [
    "dim = 7\n",
    "n = 100\n",
    "\n",
    "X = rng.rand(n,dim).astype(np.float32)\n",
    "X.shape"
   ]
  },
  {
   "cell_type": "code",
   "execution_count": 4,
   "id": "f7387263",
   "metadata": {},
   "outputs": [],
   "source": [
    "# X.sort(axis=0)\n",
    "# X = rng.permutation(X)"
   ]
  },
  {
   "cell_type": "code",
   "execution_count": 5,
   "id": "259e2c60",
   "metadata": {},
   "outputs": [],
   "source": [
    "sig = .01\n",
    "lsp = .05\n",
    "\n",
    "batch_size = 5\n",
    "n_epoch = 201\n",
    "\n",
    "w  = rng.rand(dim)\n",
    "\n",
    "l = []"
   ]
  },
  {
   "cell_type": "code",
   "execution_count": 6,
   "id": "b1ae4db3",
   "metadata": {},
   "outputs": [
    {
     "data": {
      "text/plain": [
       "array([75, 87, 57, 37, 44, 93, 19, 41, 40, 27, 92, 16, 13, 38, 81, 22, 95,\n",
       "        3, 88,  1, 53, 50, 24, 94, 39, 51, 33, 36, 67, 17, 60, 18, 54, 78,\n",
       "       82, 10, 59, 99, 68, 65, 72, 69, 45, 90, 79, 89, 34, 43, 26, 56, 52,\n",
       "       55, 91, 66, 63, 21, 15, 83, 98, 29, 14, 77, 58, 76, 23, 49, 84,  8,\n",
       "       31, 32,  5, 20, 61, 86, 28, 46, 42, 97,  7, 11, 70, 25, 73, 85, 71,\n",
       "       80,  2, 62, 74, 64, 96, 35, 47,  0,  9, 30, 48,  6, 12,  4])"
      ]
     },
     "execution_count": 6,
     "metadata": {},
     "output_type": "execute_result"
    }
   ],
   "source": [
    "np.argsort( X.dot(w) )"
   ]
  },
  {
   "cell_type": "code",
   "execution_count": 7,
   "id": "0037a182",
   "metadata": {},
   "outputs": [],
   "source": [
    "def loss(x0,x1,w,sig=sig):\n",
    "    d = x0.dot(w) - x1.dot(w) \n",
    "    return np.log(1.+np.exp(-sig*d))"
   ]
  },
  {
   "cell_type": "code",
   "execution_count": 8,
   "id": "85d7f3fb",
   "metadata": {},
   "outputs": [],
   "source": [
    "def grad(x0,x1,sig=sig):\n",
    "    d = x0 - x1\n",
    "    return ( sig / ( 1. + np.exp( sig* d.dot(w) ) ) )[:,np.newaxis]*d"
   ]
  },
  {
   "cell_type": "code",
   "execution_count": 9,
   "id": "8b807c35",
   "metadata": {},
   "outputs": [],
   "source": [
    "for _ in range(n_epoch):\n",
    "    idx = rng.permutation([ [i,j] for i,j in product(range(n),range(n)) if i<j])\n",
    "    for ii in np.split(idx,batch_size ):\n",
    "        x0 = X[ ii[:,0],:]\n",
    "        x1 = X[ ii[:,1],:]\n",
    "        l.append( loss(x0,x1,w).sum() )\n",
    "        w += lsp * grad(x0,x1).sum(axis=0) "
   ]
  },
  {
   "cell_type": "code",
   "execution_count": 10,
   "id": "d93dcc5b",
   "metadata": {},
   "outputs": [
    {
     "data": {
      "text/plain": [
       "array([60, 20, 36, 13, 90, 75, 41, 94, 92, 93, 83,  1, 40, 32, 19, 57, 54,\n",
       "       44, 37, 22, 95, 86, 10, 61, 58, 97, 98, 29, 78, 65, 87, 49, 74, 18,\n",
       "       38, 66, 27, 70, 88, 99, 53, 91, 81, 25, 84, 73, 85, 76, 17, 16, 68,\n",
       "        8, 43, 59, 82, 72, 67, 24, 23, 50, 21, 14, 77, 71, 45,  6, 51, 62,\n",
       "       39, 35, 47, 33, 46, 96, 28, 63, 31, 69, 11, 15, 56, 79, 52, 42, 64,\n",
       "        7,  5, 26, 34, 89,  2, 12, 55,  3,  9, 30, 80,  4,  0, 48])"
      ]
     },
     "execution_count": 10,
     "metadata": {},
     "output_type": "execute_result"
    }
   ],
   "source": [
    "np.argsort( X.dot(w) )"
   ]
  },
  {
   "cell_type": "code",
   "execution_count": 11,
   "id": "f8054846",
   "metadata": {},
   "outputs": [
    {
     "data": {
      "text/plain": [
       "[<matplotlib.lines.Line2D at 0x7f46e7fae250>]"
      ]
     },
     "execution_count": 11,
     "metadata": {},
     "output_type": "execute_result"
    },
    {
     "data": {
      "image/png": "[encoded data removed]",
      "text/plain": [
       "<Figure size 432x288 with 1 Axes>"
      ]
     },
     "metadata": {
      "needs_background": "light"
     },
     "output_type": "display_data"
    }
   ],
   "source": [
    "plt.plot(l)"
   ]
  },
  {
   "cell_type": "code",
   "execution_count": null,
   "id": "93a86b5f",
   "metadata": {},
   "outputs": [],
   "source": [
    "# np.array_split\n",
    "# np.split(idx,100)"
   ]
  },
  {
   "cell_type": "code",
   "execution_count": null,
   "id": "4ad2de7d",
   "metadata": {},
   "outputs": [],
   "source": [
    "# idx = rng.permutation([ [i,j] for i,j in product(range(n),range(n))])\n",
    "\n",
    "# d = X[ idx[:,0],:] - X[ idx[:,1],:]\n",
    "\n",
    "# dw = (lsp * ( sig / ( 1. + np.exp( sig* d.dot(w) ) ) )[:,np.newaxis]*d).sum(axis=0)"
   ]
  },
  {
   "cell_type": "code",
   "execution_count": null,
   "id": "d33e1554",
   "metadata": {},
   "outputs": [],
   "source": [
    "# for i,j in product(range(n),range(n)):\n",
    "# [ [i,j] for i,j in product(range(n),range(n)) ]\n",
    "# sig"
   ]
  },
  {
   "cell_type": "code",
   "execution_count": null,
   "id": "0ece9548",
   "metadata": {},
   "outputs": [],
   "source": []
  }
 ],
 "metadata": {
  "kernelspec": {
   "display_name": "Python 3",
   "language": "python",
   "name": "python3"
  },
  "language_info": {
   "codemirror_mode": {
    "name": "ipython",
    "version": 3
   },
   "file_extension": ".py",
   "mimetype": "text/x-python",
   "name": "python",
   "nbconvert_exporter": "python",
   "pygments_lexer": "ipython3",
   "version": "3.8.9"
  },
  "toc": {
   "base_numbering": 1,
   "nav_menu": {},
   "number_sections": true,
   "sideBar": true,
   "skip_h1_title": false,
   "title_cell": "Table of Contents",
   "title_sidebar": "Contents",
   "toc_cell": false,
   "toc_position": {},
   "toc_section_display": true,
   "toc_window_display": false
  }
 },
 "nbformat": 4,
 "nbformat_minor": 5
}
