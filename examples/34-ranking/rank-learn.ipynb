{
 "cells": [
  {
   "cell_type": "markdown",
   "id": "a72c12e4",
   "metadata": {},
   "source": [
    "_Методы Машинного Обучения для Задачи Ранжирования._   \n",
    "Алексей Городилов (Яндекс, Москва)    \n",
    "_Алгоритмы машинного обучения для задачи ранжирования интернет сайтов._   \n",
    "Инна Вдовицына (рерайт)  \n",
    "\n",
    "http://www.s3o.ru/seo/machine-learning-ranking/"
   ]
  },
  {
   "cell_type": "markdown",
   "id": "b9021629",
   "metadata": {},
   "source": [
    "_Обучение ранжированию. Попарный подход._  \n",
    "Оригиналы статей: _Large Margin Rank Boundaries for Ordinal Regression._,   \n",
    "_An Efficient Boosting Algorithm for Combining Preferences._    \n",
    "\n",
    "http://www.s3o.ru/seo/pairwise-approach-part1/\n",
    "\n",
    "http://www.s3o.ru/seo/pairwise-approach-part2/\n",
    "\n",
    "http://www.s3o.ru/seo/pairwise-approach-part3/"
   ]
  },
  {
   "cell_type": "markdown",
   "id": "a7ec9a98",
   "metadata": {},
   "source": [
    "_Курс \"Машинное обучение\" ШАД.  018. Методы обучения ранжированию_  \n",
    "К.В. Воронцов\n",
    "\n",
    "https://www.youtube.com/watch?v=EioJ902VCmk "
   ]
  },
  {
   "cell_type": "markdown",
   "id": "f55bbdd2",
   "metadata": {},
   "source": [
    "---"
   ]
  },
  {
   "cell_type": "markdown",
   "id": "e2b9bfd1",
   "metadata": {},
   "source": [
    "## о задаче ранжирования"
   ]
  },
  {
   "cell_type": "markdown",
   "id": "b191500b",
   "metadata": {},
   "source": [
    "**задача ранжирования**\n",
    "\n",
    "$X$ - множество объектов   \n",
    "\n",
    "учебный набор $\\{x_1...x_\\mathscr{l}\\}\\subset X$ - упорядоченный набор объектов   \n",
    "\n",
    "отношение порядка на $X$   \n",
    "\n",
    "построить $a : X \\rightarrow \\mathbb{R}$  такое, что\n",
    "$i<j \\Rightarrow a(x_i)<a(x_j)$"
   ]
  },
  {
   "cell_type": "markdown",
   "id": "68741296",
   "metadata": {},
   "source": [
    "**линейная модель ранжирования**  \n",
    "$a(x) = \\left<x,w\\right>$  \n",
    "$x = \\left( f_1(x),...f_n(x) \\right) \\in  \\mathbb{R}^n$ - вектор признак объекта    \n",
    "$w$ - параметры  "
   ]
  },
  {
   "cell_type": "markdown",
   "id": "adfaed71",
   "metadata": {},
   "source": [
    "**пример**\n",
    "\n",
    "$D$ - документы  \n",
    "$Q$ - запросы  \n",
    "\n",
    "$X = Q \\times D$ - ответы на запросы\n",
    "\n",
    "$у: X  \\rightarrow R$ - заданные оценки релевантности\n",
    "\n",
    "порядок определён только на документах найденных по одному запросу  \n",
    "т.е. релевантность документов $D$ относительно запроса $q$"
   ]
  },
  {
   "cell_type": "markdown",
   "id": "3a73e50c",
   "metadata": {},
   "source": [
    "_отношение порядка (оценки релевантности) на учебном наборе обычно строим руками (работа асессора)_"
   ]
  },
  {
   "cell_type": "markdown",
   "id": "8f617d76",
   "metadata": {},
   "source": [
    "## метрики ранжирования"
   ]
  },
  {
   "cell_type": "markdown",
   "id": "e7abcd59",
   "metadata": {},
   "source": [
    "**TF-IDF(q,d) как мера релевантности**\n",
    "\n",
    "\n",
    "$\\sum\\limits_{w \\in q} \\mathtt{TF}(w,d)\\cdot \\mathtt{IDF}(w) = \\sum\\limits_{w\\in q}  n_{dw} \\cdot \\log( N/N_w )$\n",
    "\n",
    "\n",
    "количество совпадающих слов (TF) в запросе и документе умноженное на значимость (IDF) этих слов"
   ]
  },
  {
   "cell_type": "markdown",
   "id": "2ba00d69",
   "metadata": {},
   "source": [
    "**google page rank**\n",
    "\n",
    "рекуррентный принцип:  \n",
    "документ важен если на него ссылаются другие важные документы  \n",
    "которые не ссылаются на на другие документы  "
   ]
  },
  {
   "cell_type": "markdown",
   "id": "ca25a0f6",
   "metadata": {},
   "source": [
    "**точность ранжирования** [28:18]\n",
    "\n",
    "$y(q,d)$ - релевантность  \n",
    "$Y = \\{0,1\\}$ - бинарная разметка, релевантен/нерелевантен\n",
    "\n",
    "$а(q,d)$ - функция ранжирования\n",
    "\n",
    "\n",
    "_точность ранжирования_ (доля релевантных) по запросу q для первых $n$ документов:\n",
    "\n",
    "$$P_n(q) = \\frac{1}{n} \\sum\\limits_{i=1}^n y\\left(q,d_q^{(i)}\\right) $$\n",
    "\n",
    "\n",
    "_средняя точность ранжирования_ по запросу q:\n",
    "\n",
    "$$ AP(q) = \\frac{ \\sum\\limits_n \\left( P_n(q) \\cdot y\\left(q,d_q^{(n)}\\right) \\right) }{ \\sum\\limits_n y\\left(q,d_q^{(n)}\\right) }$$\n",
    "\n",
    "\n",
    "_общая средняя точность_ ранжирования (модели):\n",
    "\n",
    "$$MAP = \\frac{1}{|Q|} \\sum_{q\\in Q} AP(q) $$"
   ]
  },
  {
   "cell_type": "markdown",
   "id": "29315fd8",
   "metadata": {},
   "source": [
    "**доля дефектных пар**, доля инверсий порядка среди первых $n$ документов по запросу $q$\n",
    "\n",
    "$$ DP_n(q) = \\frac{2}{n(n-1)} \\sum_{i<j} \\left[ y(q,d_q^{(i)})<y(q,d_q^{(j)})\\right] $$\n",
    "\n",
    "где $d_q^{(i)}$ - $i$-тый документ по убыванию $a(q,d)$\n",
    "\n",
    "связь с коэффициентом ранговой корреляции ($\\tau$ Кенделла)\n",
    "\n",
    "$$\\tau(a,y) = 1 - 2\\cdot DP_n(q)$$\n",
    "\n",
    "связь с AUC (бинарная классификация $Y=\\{-1,+1\\}; a:X\\rightarrow Y$)\n",
    "\n",
    "$$ AUC_n(q) = \\frac{1}{\\mathscr{l}_-\\mathscr{l}_+} \\sum\\limits_{i,j=1}^{n}\\left[y_i>y_j\\right]\\cdot\\left[a(x_i)<a(x_j)\\right] =  \\frac{n(n-1)}{2\\mathscr{l}_-\\mathscr{l}_+}DP_n(q) $$"
   ]
  },
  {
   "cell_type": "markdown",
   "id": "9cfcdb04",
   "metadata": {},
   "source": [
    "**дисконтированная взвешенная сумма выигрышей**\n",
    "\n",
    "$$DCG_n = \\sum\\limits^n_{i=1} G_q(d_q^{(i)}) \\cdot D(i) $$\n",
    "где  \n",
    "$G_q(d) =  \\left( 2^{y(q,d)} - 1\\right)$  - больший вес релевантным документам   \n",
    "$D(i) = 1/\\log_2(i+1)$  - больший вес в начале выдачи\n",
    "\n",
    "нормированная дисконтированная взвешенная сумма выигрышей\n",
    "\n",
    "$$ NDCG_n(q) = \\frac{DCG_n(q)}{\\max DCG_n(q) }$$"
   ]
  },
  {
   "cell_type": "markdown",
   "id": "b5bb49c1",
   "metadata": {},
   "source": [
    "**Яndex pFound** - модель поведения пользователя\n",
    "\n",
    "\n",
    "$$pFound_n(q) = \\sum\\limits_{i=1}^{n} P_i \\cdot y(q,d_q^{(i)})$$\n",
    "\n",
    "\n",
    "$P_1 = 1$  \n",
    "$P_{i+1} = P_i \\cdot \\left(1-y(q,d_q^{(i)})\\right)\\cdot(1-P_{out}) $\n",
    "\n",
    "$P_i$ - вероятность того, что пользователь будет просматривать $i$-тый документ (дойдёт до $i$)  \n",
    "$P_{out}$ - вероятность того, что пользователь бросит поиск не найдя ответа\n",
    "\n",
    "\n",
    "y(q,d) | name\n",
    "--- |:--- \n",
    "0.61 |vital\n",
    "0.41 |useful\n",
    "0.14 |relevant+\n",
    "0.07 |relevant+\n",
    "0.00 |not relevant\n",
    "\n",
    "$$P_{out}=0.15$$\n"
   ]
  },
  {
   "cell_type": "markdown",
   "id": "738951d8",
   "metadata": {},
   "source": [
    "## подходы к ранжированию\n",
    "\n",
    "- point-wise поточечно, строим функционал по каждому объекту отдельно\n",
    "- pair-wise попарно, строим функционал с парами объектов с учётом порядка на этой паре\n",
    "- list-wise списком, оцениваем сразу список объектов и отношения на них"
   ]
  },
  {
   "cell_type": "markdown",
   "id": "fe1bfbbb",
   "metadata": {},
   "source": [
    "## модели ранжирования pair-wise\n",
    "\n",
    "отступ:\n",
    "\n",
    "$$M_{ij} = a(x_j) - a(x_i)$$\n",
    "\n",
    "переход к гладкому функционалу качества\n",
    "\n",
    "$$Q(a) = \\sum\\limits_{i<j} \\left[ M_{ij} < 0  \\right] \\leq \\sum\\limits_{i<j} \\mathscr{L} \\left( M_{ij} \\right) \\rightarrow \\min $$\n",
    "\n",
    "где  \n",
    "$a(x)$ - алгоритм ранжирования  \n",
    "$\\mathscr{L}(M)$ - убывающая непрерывная функция отступа  "
   ]
  },
  {
   "cell_type": "markdown",
   "id": "67d9edb3",
   "metadata": {},
   "source": [
    "**ranking SVM**\n",
    "\n",
    "реализует $m$ разделяющих полос между объектами с дискретными оценками ранга (одна из $m$ возможных оценок для одного объекта\n",
    ")"
   ]
  },
  {
   "cell_type": "markdown",
   "id": "f75479ad",
   "metadata": {},
   "source": [
    "**rankingNet**\n",
    "\n",
    "$a(x)=<w,x>$ линейная модель\n",
    "\n",
    "$\\mathscr{L}(M) = \\log(1+\\exp(-\\sigma M) )$ гладкая апроксимация функционала качества\n",
    "\n",
    "$\\sigma$ - параметр\n",
    "\n",
    "шаг SGD:\n",
    "\n",
    "$$w:= w + \\eta \\cdot \\frac{\\sigma}{1+\\exp\\left(\\sigma \\left<x_j-x_i,w\\right> \\right)}\\cdot(x_j-x_i)$$\n"
   ]
  },
  {
   "cell_type": "markdown",
   "id": "686c65c6",
   "metadata": {},
   "source": [
    "**lambdaRank**\n",
    "\n",
    "домножение изменения на NDCG при перестановке $x_i$ $x_j$ приводит к оптимизации NDCG (можно использовать MAP)\n",
    "\n",
    "\n",
    "$$w:= w + \\eta \\cdot \\frac{\\sigma}{1+\\exp\\left(\\sigma \\left<x_j-x_i,w\\right> \\right)}\\cdot(x_j-x_i) \\cdot |\\Delta NDCG_{ij}| $$"
   ]
  },
  {
   "cell_type": "markdown",
   "id": "6f643bb8",
   "metadata": {},
   "source": [
    "---"
   ]
  },
  {
   "cell_type": "markdown",
   "id": "a975ce2b",
   "metadata": {},
   "source": [
    "Яndex\n",
    "\n",
    "50K оценок асессоров за месяц\n",
    "\n",
    "800 признаков добавлено за 4 года\n",
    "\n",
    "технология MatrixNet\n",
    "\n",
    "FML среда для тестирования методов ML"
   ]
  },
  {
   "cell_type": "markdown",
   "id": "25064104",
   "metadata": {},
   "source": [
    "---"
   ]
  },
  {
   "cell_type": "markdown",
   "id": "739553f1",
   "metadata": {},
   "source": [
    "MathJax - библиотека для отображения математических формул (краткий справочник)\n",
    "\n",
    "https://radioprog.ru/post/74\n",
    "\n",
    "\n",
    "\n",
    "MathML Examples\n",
    "\n",
    "https://elsenaju.eu/mathml/MathML-Examples.htm"
   ]
  },
  {
   "cell_type": "markdown",
   "id": "70dd1b30",
   "metadata": {},
   "source": [
    "Markdown | Less | Pretty\n",
    "--- | --- | ---\n",
    "*Still* | `renders` | **nicely**\n",
    "1 | 2 | 3\n"
   ]
  },
  {
   "cell_type": "markdown",
   "id": "4d857b7c",
   "metadata": {},
   "source": [
    "----"
   ]
  },
  {
   "cell_type": "markdown",
   "id": "d02efb5a",
   "metadata": {},
   "source": [
    "**реализация rankingNet**\n",
    "\n",
    "\n",
    "$a(x)=<w,x>$ линейная модель\n",
    "\n",
    "$\\mathscr{L}(M) = \\log(1+\\exp(-\\sigma M) )$ гладкая апроксимация функционала качества\n",
    "\n",
    "$\\sigma$ - параметр\n",
    "\n",
    "шаг SGD (формируем порядок $i<j$):\n",
    "\n",
    "$$w:= w + \\eta \\cdot \\frac{\\sigma}{1+\\exp\\left(\\sigma \\left<x_j-x_i,w\\right> \\right)}\\cdot(x_j-x_i)$$\n"
   ]
  },
  {
   "cell_type": "code",
   "execution_count": 1,
   "id": "67510127",
   "metadata": {},
   "outputs": [],
   "source": [
    "import numpy as np\n",
    "import numpy.random as rng\n",
    "from itertools import product\n",
    "from matplotlib import pyplot as plt"
   ]
  },
  {
   "cell_type": "code",
   "execution_count": 2,
   "id": "2a0aeefa",
   "metadata": {},
   "outputs": [],
   "source": [
    "np.set_printoptions(precision=2) # вывод на печать чисел до 2 знака"
   ]
  },
  {
   "cell_type": "code",
   "execution_count": 3,
   "id": "5ef9202d",
   "metadata": {},
   "outputs": [
    {
     "data": {
      "text/plain": [
       "(512, 8)"
      ]
     },
     "execution_count": 3,
     "metadata": {},
     "output_type": "execute_result"
    }
   ],
   "source": [
    "dim = 8\n",
    "n = 512\n",
    "\n",
    "# X = rng.rand(n,dim).astype(np.float32)\n",
    "X = rng.normal(loc=0.0, scale=1.0, size=(n,dim)).astype(np.float32)\n",
    "X.shape"
   ]
  },
  {
   "cell_type": "code",
   "execution_count": 4,
   "id": "f7387263",
   "metadata": {},
   "outputs": [],
   "source": [
    "# X.sort(axis=0)\n",
    "# X = rng.permutation(X)"
   ]
  },
  {
   "cell_type": "markdown",
   "id": "621bc275",
   "metadata": {},
   "source": [
    "----"
   ]
  },
  {
   "cell_type": "code",
   "execution_count": 5,
   "id": "259e2c60",
   "metadata": {},
   "outputs": [],
   "source": [
    "w  = rng.rand(dim).astype(np.float32) # вектор весов"
   ]
  },
  {
   "cell_type": "code",
   "execution_count": 6,
   "id": "b1ae4db3",
   "metadata": {},
   "outputs": [
    {
     "data": {
      "text/plain": [
       "array([ 61, 260, 184, 202, 127, 263, 356,  93, 472, 312, 286, 185,  84,\n",
       "       463, 328, 508, 324, 116, 429, 342, 269, 143, 177, 278, 128, 241,\n",
       "       337, 434, 201, 500, 245, 141, 406, 419, 338, 198, 510, 145,  28,\n",
       "       195, 295, 409, 408,  70, 486, 352, 276, 118,  55, 317, 129, 210,\n",
       "       425,  67, 300,  49, 284,  90,  11, 364, 453, 469, 113, 387, 350,\n",
       "       462, 108,  71, 366, 268, 103, 218, 150, 315, 243,  41, 405, 467,\n",
       "        40, 257, 179, 449, 403, 223,  42, 370, 221, 175, 234,   5, 189,\n",
       "       187, 135,  44, 504, 417, 238,  35, 318, 368, 217, 344,  88,  32,\n",
       "       211, 477, 313, 503, 228, 443, 470, 492, 473, 170, 374, 282,  94,\n",
       "       107, 369, 291, 259, 416,  21, 110, 423,  69, 380, 357, 222,  72,\n",
       "       497,  19, 306, 294, 273, 481, 293, 319, 321, 451, 385,  95, 102,\n",
       "        33, 167,  62, 119, 495, 391, 506, 393, 433, 209, 148, 105, 249,\n",
       "       475, 400, 482, 460, 367, 381,  10, 355,  30, 140, 465, 304, 375,\n",
       "       326, 305, 414, 152,  92, 354, 446, 383, 422, 227,  96, 248, 511,\n",
       "       226, 308, 231,  48,  83,  25,  15, 410,   8, 280, 182, 439,  64,\n",
       "       174, 336,   2, 287, 173,  68, 161, 440, 407, 126, 379, 343, 438,\n",
       "       254, 267, 349, 431,  63, 421, 427,  47, 394, 279, 320, 329, 507,\n",
       "       445, 285, 281, 255, 351,  23, 447, 491, 181, 334, 432, 322, 361,\n",
       "       346, 331, 155, 196, 487,  53, 459, 316, 246, 474,  91, 494, 251,\n",
       "       353, 363,  46, 200, 156, 496, 382, 122,  97, 212,  50,  38, 303,\n",
       "        89, 468, 348, 229, 220, 377,  79,  54,  22, 136, 125, 483, 190,\n",
       "       112,   7, 310, 172, 478, 327,  20, 493, 502, 450, 386, 138,  29,\n",
       "       169, 270, 458,   0, 258, 146, 165, 448, 390, 359, 418, 115, 134,\n",
       "       444, 307, 191, 480, 428, 404, 437, 389,  99, 230, 309,  85, 168,\n",
       "       176, 395, 121, 214, 301, 237,  82, 332, 158, 275,  14, 456, 154,\n",
       "       123, 484, 130, 236,  59,  39, 490, 396, 164,  77, 489, 358, 347,\n",
       "       244, 132, 139, 426, 120, 215,  57, 412, 424, 265,   4, 197, 180,\n",
       "       340,  27, 399, 240, 479, 296, 299, 288, 206,  74, 117, 372, 420,\n",
       "       235, 274, 178, 333, 163,  45, 233, 415, 485, 378, 498,  12,  80,\n",
       "        26,   1, 345, 371, 402,  43, 442, 144, 186,   9, 101, 290, 204,\n",
       "       455, 398, 213, 335,  66, 339, 314,  31, 454,  58, 365,  86, 253,\n",
       "       457, 283,  24,  87, 505, 225, 131, 160, 430, 171, 401, 208, 471,\n",
       "       224, 501, 311, 242, 192,  78, 509, 252, 203,  18, 464,  65, 461,\n",
       "       166, 100, 388, 124, 149, 162,  36,  81,  16, 106, 292, 205, 193,\n",
       "        60, 109, 435,  56, 476, 411, 397, 384, 111, 194,  52, 264, 297,\n",
       "       362, 271, 207, 261, 239, 151,  37, 289, 272, 188,  73, 219, 114,\n",
       "        75, 104,  76, 247, 323, 199, 392, 499, 250, 133,  13, 232, 413,\n",
       "       466, 142,  51, 216, 341, 262,   6, 183, 256, 153, 298, 373, 436,\n",
       "       488,   3, 266,  34, 157, 277, 302, 441, 330, 452, 376,  17, 137,\n",
       "       159,  98, 360, 325, 147])"
      ]
     },
     "execution_count": 6,
     "metadata": {},
     "output_type": "execute_result"
    }
   ],
   "source": [
    "np.argsort( X.dot(w) )"
   ]
  },
  {
   "cell_type": "markdown",
   "id": "01776354",
   "metadata": {},
   "source": [
    "$a(x)=<w,x>$ линейная модель"
   ]
  },
  {
   "cell_type": "code",
   "execution_count": 7,
   "id": "5d115527",
   "metadata": {},
   "outputs": [],
   "source": [
    "sig = 0.95"
   ]
  },
  {
   "cell_type": "code",
   "execution_count": 8,
   "id": "0037a182",
   "metadata": {},
   "outputs": [],
   "source": [
    "def loss(x0,x1,w,sig=sig):\n",
    "    d = x0.dot(w) - x1.dot(w) \n",
    "    return np.log(1.+np.exp(-sig*d))"
   ]
  },
  {
   "cell_type": "markdown",
   "id": "ad6f18b1",
   "metadata": {},
   "source": [
    "$$\\mathscr{L}(M) = \\log(1+\\exp(-\\sigma M) )$$"
   ]
  },
  {
   "cell_type": "code",
   "execution_count": 9,
   "id": "85d7f3fb",
   "metadata": {},
   "outputs": [],
   "source": [
    "def grad(x0,x1,w,sig=sig):\n",
    "    d = x0 - x1\n",
    "    return (sig/(1.+np.exp(sig*d.dot(w))))[:,np.newaxis]*d"
   ]
  },
  {
   "cell_type": "markdown",
   "id": "59b3fc9b",
   "metadata": {},
   "source": [
    "$$\\Delta w = \\frac{\\sigma}{1+\\exp\\left(\\sigma \\left<x_j-x_i,w\\right> \\right)}\\cdot(x_j-x_i)$$"
   ]
  },
  {
   "cell_type": "code",
   "execution_count": 10,
   "id": "6300d48d",
   "metadata": {},
   "outputs": [],
   "source": [
    "lr = .1 # скорость обучения\n",
    "lr_factor = .5 # изменение скорости обучения\n",
    "lr_min = .001 # минимальное значение скорости обучения\n",
    "lr_hist = [] # история изменения скорости обучения\n",
    "\n",
    "loss_hist = [] # история изменения потери\n",
    "\n",
    "batch_size = 24 # размер батча\n",
    "n_epoch = 16 # количество циклов обучения"
   ]
  },
  {
   "cell_type": "code",
   "execution_count": 11,
   "id": "8b807c35",
   "metadata": {},
   "outputs": [
    {
     "name": "stdout",
     "output_type": "stream",
     "text": [
      "CPU times: user 5.32 s, sys: 73.1 ms, total: 5.39 s\n",
      "Wall time: 5.39 s\n"
     ]
    }
   ],
   "source": [
    "%%time\n",
    "\n",
    "for _ in range(n_epoch):\n",
    "    # упорядоченные пары примеров i<j\n",
    "    idx = [ [i,j] for i,j in product(range(n),range(n)) if i<j]\n",
    "    # количество батчей в датасете\n",
    "    batch_parts = np.floor(len(idx)/batch_size).astype(int)\n",
    "    for ii in np.array_split(rng.permutation(idx),batch_parts ): # формируем батчи\n",
    "        x0,x1 = X[ ii[:,0],:], X[ ii[:,1],:] # упорядоченные пары примеров батча\n",
    "        loss_hist.append( loss(x0,x1,w).sum()/x0.shape[0] ) # текущая потеря\n",
    "        dw = grad(x0,x1,w).sum(axis=0)/x0.shape[0] # изменение параметров\n",
    "        w += lr*dw # корректируем параметры\n",
    "        \n",
    "    lr_hist.append(lr)         \n",
    "    lr = lr if (lr<lr_min) else lr*lr_factor # корректируем скорость обучения"
   ]
  },
  {
   "cell_type": "code",
   "execution_count": 12,
   "id": "f8054846",
   "metadata": {},
   "outputs": [
    {
     "data": {
      "text/plain": [
       "[<matplotlib.lines.Line2D at 0x7fb0b2ef3820>]"
      ]
     },
     "execution_count": 12,
     "metadata": {},
     "output_type": "execute_result"
    },
    {
     "data": {
      "image/png": "[encoded data removed]",
      "text/plain": [
       "<Figure size 432x288 with 1 Axes>"
      ]
     },
     "metadata": {
      "needs_background": "light"
     },
     "output_type": "display_data"
    }
   ],
   "source": [
    "# изменение потери\n",
    "plt.plot(loss_hist)"
   ]
  },
  {
   "cell_type": "code",
   "execution_count": 13,
   "id": "565c7b0a",
   "metadata": {},
   "outputs": [
    {
     "data": {
      "image/png": "[encoded data removed]",
      "text/plain": [
       "<Figure size 432x288 with 1 Axes>"
      ]
     },
     "metadata": {
      "needs_background": "light"
     },
     "output_type": "display_data"
    }
   ],
   "source": [
    "# изменение скорости обучения\n",
    "plt.plot(lr_hist)\n",
    "plt.grid()"
   ]
  },
  {
   "cell_type": "code",
   "execution_count": 14,
   "id": "056cbe17",
   "metadata": {},
   "outputs": [
    {
     "data": {
      "text/plain": [
       "array([-0.02, -0.03,  0.02,  0.17, -0.01,  0.07, -0.  ,  0.02],\n",
       "      dtype=float32)"
      ]
     },
     "execution_count": 14,
     "metadata": {},
     "output_type": "execute_result"
    }
   ],
   "source": [
    "w"
   ]
  },
  {
   "cell_type": "code",
   "execution_count": 15,
   "id": "f9f95014",
   "metadata": {},
   "outputs": [
    {
     "data": {
      "text/plain": [
       "array([ 51, 188, 297, 111,  39, 137, 411,  59, 261, 266, 314,  43, 506,\n",
       "       239, 204, 142, 264,  29, 382, 232, 277, 283, 154, 290, 116,  27,\n",
       "       384, 229, 288,  60,  78, 237, 271,  80, 132,  46, 194,   7, 441,\n",
       "        24, 114, 262, 147, 280, 131, 289, 258, 390, 212,  32, 330, 228,\n",
       "       209, 193, 176, 153,  22,  26, 315, 333, 407, 459,  17, 295, 388,\n",
       "       180, 104, 208, 230, 371, 246, 435, 162, 164, 216, 249, 354, 185,\n",
       "       152, 112,  20, 302, 334, 298, 378, 376,  37, 122, 100, 136,  21,\n",
       "       374, 168, 224, 192, 119, 428, 240,  81,   9, 211, 343, 324,  93,\n",
       "       133,  54, 503, 166, 311, 336, 340, 146, 183, 460,  48,  18, 117,\n",
       "       331, 236, 416, 163, 115, 325, 483, 130, 397,  52,   2, 509, 328,\n",
       "       252, 323, 341, 121, 285, 155, 468, 316, 490, 344,  74, 276, 173,\n",
       "       352,   0,  15, 357, 272,  87, 159, 186, 284, 103, 270,  99,  75,\n",
       "       355, 278, 456, 219, 347, 220, 458, 337, 484, 149, 165, 123, 124,\n",
       "        97,  95, 448, 351, 482, 151,  96,   6, 414, 377, 282, 279, 213,\n",
       "       339, 476, 215, 499,  88, 402,  45, 346, 415, 418, 118, 145, 144,\n",
       "       267, 274, 250, 247,  49, 369, 461, 313,  13, 485,  40, 443,  65,\n",
       "       299, 360, 138,  36, 444,  91, 310, 452, 432,  41, 105, 242, 129,\n",
       "       156, 488,  62, 450, 139, 226, 335,  31, 342, 451, 436,  94, 148,\n",
       "       206, 449,  72, 392, 373, 455, 410,   8, 191, 223, 398,  19, 255,\n",
       "       496, 457, 467, 372,  73, 477,  33,  50, 395,  84, 181, 446, 174,\n",
       "       143,  42, 338, 489, 251, 386, 231, 393,  82, 157, 303, 473, 511,\n",
       "       349, 160, 109, 256, 381, 399, 304, 161,  23, 365, 362, 439, 471,\n",
       "       426, 120, 400, 200,  53, 368, 431, 364, 504, 287, 447, 427, 404,\n",
       "       425,  10,  68, 307,  14,  89, 332, 385, 486, 167, 107,   5, 366,\n",
       "         3,  35,   4, 281,  30,  28, 203, 110,  70, 101,  12, 445, 510,\n",
       "       413, 394, 350, 359, 462, 466,  38, 268, 106, 169, 179, 214, 492,\n",
       "       438, 263, 308, 150, 171, 430, 454, 403, 470, 253, 423, 225, 259,\n",
       "       442, 158, 465,  98,  63, 464,  11, 495, 478,  86, 502, 233, 480,\n",
       "        57, 421, 102,   1, 329, 222, 189, 481,  58, 296, 108, 375,  34,\n",
       "       469, 301, 437, 412, 409, 420, 305, 178, 291,  16,  90, 227,  69,\n",
       "       505, 141, 198, 383, 238, 275, 501, 312, 135, 199, 422, 396, 379,\n",
       "       507, 320, 408, 508,  67, 182, 434, 370, 353, 345, 245, 475, 217,\n",
       "       197,  76, 322,  77, 254, 273, 134,  79, 248, 363, 207, 265,  25,\n",
       "       474, 201,  56, 269, 327, 234, 424, 367, 500, 306, 125, 419, 440,\n",
       "       348,  66, 479, 235,  44, 491, 126, 358,  83, 309, 190, 498, 380,\n",
       "       361, 286, 417, 294, 241, 389, 244, 292,  71, 221, 205, 257, 472,\n",
       "       177, 300, 175, 453, 406,  92,  47, 293, 127, 433, 184, 319, 210,\n",
       "       391,  55,  64,  61, 317, 487, 405, 195, 113, 387, 196, 260, 187,\n",
       "       401, 493, 497, 172, 326, 140, 494, 202, 170, 463, 243,  85, 128,\n",
       "       218, 356, 321, 429, 318])"
      ]
     },
     "execution_count": 15,
     "metadata": {},
     "output_type": "execute_result"
    }
   ],
   "source": [
    "np.argsort( X.dot(w) )[::-1] # результат работы, порядок примеров по убыванию оценки "
   ]
  },
  {
   "cell_type": "code",
   "execution_count": 16,
   "id": "87756101",
   "metadata": {},
   "outputs": [
    {
     "data": {
      "text/plain": [
       "array([[ 0.28,  0.01, -0.24,  3.77,  0.45,  1.25,  0.35,  0.06],\n",
       "       [-1.03,  1.72,  1.05,  2.58, -0.57,  1.26, -0.04, -0.27],\n",
       "       [-0.4 , -0.02,  0.32,  2.63,  0.57,  1.2 ,  0.87, -1.05],\n",
       "       [ 0.36,  0.19,  0.88,  2.22,  0.14,  1.74, -0.05, -0.59],\n",
       "       [-0.1 , -1.31, -0.23,  1.63, -0.72,  1.74, -0.58,  1.17],\n",
       "       [ 0.8 ,  0.17,  0.44,  2.3 ,  0.48,  0.82,  1.01,  1.35],\n",
       "       [-1.46, -1.33,  0.83,  1.76, -0.89,  0.29, -0.09,  2.18],\n",
       "       [ 0.14, -0.9 ,  0.43,  2.43, -0.84, -0.07, -0.33,  0.1 ],\n",
       "       [-1.32, -0.45, -0.35,  1.  ,  0.67,  3.  ,  0.23,  1.11],\n",
       "       [ 0.58,  0.16,  2.24,  1.75,  0.2 ,  1.4 , -0.12, -0.52]],\n",
       "      dtype=float32)"
      ]
     },
     "execution_count": 16,
     "metadata": {},
     "output_type": "execute_result"
    }
   ],
   "source": [
    "X[np.argsort( X.dot(w) )[::-1],:][:10,:]"
   ]
  },
  {
   "cell_type": "code",
   "execution_count": 17,
   "id": "5325f82f",
   "metadata": {},
   "outputs": [
    {
     "data": {
      "text/plain": [
       "array([ 7.00e-01,  5.02e-01,  5.01e-01,  4.79e-01,  4.58e-01,  4.48e-01,\n",
       "        4.37e-01,  4.36e-01,  4.19e-01,  3.96e-01,  3.95e-01,  3.85e-01,\n",
       "        3.74e-01,  3.71e-01,  3.63e-01,  3.58e-01,  3.55e-01,  3.48e-01,\n",
       "        3.40e-01,  3.36e-01,  3.28e-01,  3.27e-01,  3.26e-01,  3.25e-01,\n",
       "        3.20e-01,  3.20e-01,  3.17e-01,  3.15e-01,  3.14e-01,  3.14e-01,\n",
       "        3.13e-01,  3.12e-01,  3.10e-01,  3.05e-01,  3.03e-01,  2.96e-01,\n",
       "        2.94e-01,  2.94e-01,  2.92e-01,  2.92e-01,  2.91e-01,  2.88e-01,\n",
       "        2.77e-01,  2.73e-01,  2.72e-01,  2.64e-01,  2.62e-01,  2.62e-01,\n",
       "        2.59e-01,  2.55e-01,  2.54e-01,  2.53e-01,  2.51e-01,  2.50e-01,\n",
       "        2.49e-01,  2.48e-01,  2.46e-01,  2.46e-01,  2.44e-01,  2.43e-01,\n",
       "        2.43e-01,  2.42e-01,  2.37e-01,  2.35e-01,  2.32e-01,  2.29e-01,\n",
       "        2.28e-01,  2.23e-01,  2.23e-01,  2.14e-01,  2.12e-01,  2.08e-01,\n",
       "        2.06e-01,  2.04e-01,  2.04e-01,  2.03e-01,  2.03e-01,  2.02e-01,\n",
       "        2.02e-01,  2.01e-01,  2.01e-01,  2.00e-01,  1.99e-01,  1.97e-01,\n",
       "        1.96e-01,  1.96e-01,  1.95e-01,  1.93e-01,  1.93e-01,  1.91e-01,\n",
       "        1.86e-01,  1.85e-01,  1.84e-01,  1.83e-01,  1.82e-01,  1.80e-01,\n",
       "        1.79e-01,  1.78e-01,  1.75e-01,  1.69e-01,  1.69e-01,  1.69e-01,\n",
       "        1.68e-01,  1.68e-01,  1.67e-01,  1.66e-01,  1.66e-01,  1.63e-01,\n",
       "        1.61e-01,  1.61e-01,  1.60e-01,  1.59e-01,  1.59e-01,  1.57e-01,\n",
       "        1.55e-01,  1.54e-01,  1.51e-01,  1.50e-01,  1.49e-01,  1.49e-01,\n",
       "        1.48e-01,  1.45e-01,  1.45e-01,  1.42e-01,  1.40e-01,  1.39e-01,\n",
       "        1.36e-01,  1.33e-01,  1.33e-01,  1.32e-01,  1.31e-01,  1.31e-01,\n",
       "        1.29e-01,  1.27e-01,  1.25e-01,  1.21e-01,  1.20e-01,  1.17e-01,\n",
       "        1.15e-01,  1.15e-01,  1.14e-01,  1.14e-01,  1.13e-01,  1.12e-01,\n",
       "        1.12e-01,  1.09e-01,  1.08e-01,  1.07e-01,  1.04e-01,  1.03e-01,\n",
       "        1.01e-01,  9.99e-02,  9.96e-02,  9.96e-02,  9.82e-02,  9.81e-02,\n",
       "        9.59e-02,  9.56e-02,  9.38e-02,  9.15e-02,  9.12e-02,  9.04e-02,\n",
       "        9.02e-02,  8.91e-02,  8.89e-02,  8.78e-02,  8.74e-02,  8.74e-02,\n",
       "        8.34e-02,  8.26e-02,  8.19e-02,  8.17e-02,  8.04e-02,  7.98e-02,\n",
       "        7.94e-02,  7.94e-02,  7.87e-02,  7.74e-02,  7.69e-02,  7.50e-02,\n",
       "        7.49e-02,  7.47e-02,  7.46e-02,  7.10e-02,  7.09e-02,  7.00e-02,\n",
       "        6.97e-02,  6.66e-02,  6.45e-02,  6.24e-02,  6.13e-02,  6.11e-02,\n",
       "        5.96e-02,  5.93e-02,  5.88e-02,  5.77e-02,  5.66e-02,  5.56e-02,\n",
       "        5.46e-02,  5.40e-02,  5.37e-02,  5.34e-02,  5.31e-02,  5.30e-02,\n",
       "        5.27e-02,  5.17e-02,  5.02e-02,  4.82e-02,  4.76e-02,  4.74e-02,\n",
       "        4.44e-02,  4.25e-02,  4.22e-02,  4.19e-02,  4.04e-02,  3.96e-02,\n",
       "        3.84e-02,  3.36e-02,  3.25e-02,  3.16e-02,  3.09e-02,  2.96e-02,\n",
       "        2.80e-02,  2.80e-02,  2.79e-02,  2.66e-02,  2.55e-02,  2.41e-02,\n",
       "        2.39e-02,  2.35e-02,  2.33e-02,  2.21e-02,  2.08e-02,  2.08e-02,\n",
       "        2.02e-02,  1.95e-02,  1.78e-02,  1.70e-02,  1.67e-02,  1.66e-02,\n",
       "        1.65e-02,  1.49e-02,  9.67e-03,  7.76e-03,  6.39e-03,  5.40e-03,\n",
       "        4.60e-03,  4.46e-03,  4.40e-03,  3.59e-03,  3.58e-03,  3.37e-03,\n",
       "        1.78e-03,  7.67e-04,  5.97e-04,  4.05e-04,  2.73e-04, -6.78e-04,\n",
       "       -1.48e-03, -3.13e-03, -4.30e-03, -5.35e-03, -5.54e-03, -7.08e-03,\n",
       "       -8.63e-03, -8.80e-03, -9.03e-03, -9.44e-03, -1.25e-02, -1.46e-02,\n",
       "       -1.56e-02, -1.61e-02, -1.75e-02, -1.86e-02, -2.27e-02, -2.29e-02,\n",
       "       -2.30e-02, -2.44e-02, -2.47e-02, -2.62e-02, -2.68e-02, -2.69e-02,\n",
       "       -2.72e-02, -2.74e-02, -2.89e-02, -3.12e-02, -3.21e-02, -3.29e-02,\n",
       "       -3.35e-02, -3.37e-02, -3.41e-02, -3.42e-02, -3.45e-02, -3.50e-02,\n",
       "       -3.51e-02, -3.55e-02, -3.60e-02, -3.94e-02, -4.03e-02, -4.10e-02,\n",
       "       -4.15e-02, -4.16e-02, -4.27e-02, -4.28e-02, -4.63e-02, -4.86e-02,\n",
       "       -4.86e-02, -4.86e-02, -4.94e-02, -5.11e-02, -5.33e-02, -5.42e-02,\n",
       "       -5.46e-02, -5.56e-02, -5.58e-02, -5.61e-02, -5.62e-02, -5.68e-02,\n",
       "       -5.83e-02, -5.97e-02, -6.02e-02, -6.03e-02, -6.04e-02, -6.09e-02,\n",
       "       -6.23e-02, -6.29e-02, -6.40e-02, -6.42e-02, -6.45e-02, -6.49e-02,\n",
       "       -6.54e-02, -6.57e-02, -6.65e-02, -6.81e-02, -6.83e-02, -6.90e-02,\n",
       "       -7.04e-02, -7.07e-02, -7.26e-02, -7.26e-02, -7.44e-02, -7.57e-02,\n",
       "       -7.69e-02, -7.70e-02, -7.82e-02, -7.88e-02, -7.89e-02, -8.14e-02,\n",
       "       -8.17e-02, -8.30e-02, -8.33e-02, -8.47e-02, -8.59e-02, -8.62e-02,\n",
       "       -8.69e-02, -8.74e-02, -8.98e-02, -9.06e-02, -9.07e-02, -9.39e-02,\n",
       "       -9.43e-02, -9.55e-02, -9.61e-02, -9.65e-02, -9.72e-02, -9.91e-02,\n",
       "       -9.91e-02, -9.93e-02, -1.00e-01, -1.02e-01, -1.02e-01, -1.03e-01,\n",
       "       -1.05e-01, -1.06e-01, -1.09e-01, -1.09e-01, -1.10e-01, -1.11e-01,\n",
       "       -1.13e-01, -1.14e-01, -1.15e-01, -1.15e-01, -1.17e-01, -1.20e-01,\n",
       "       -1.23e-01, -1.27e-01, -1.29e-01, -1.31e-01, -1.31e-01, -1.33e-01,\n",
       "       -1.34e-01, -1.35e-01, -1.38e-01, -1.39e-01, -1.42e-01, -1.43e-01,\n",
       "       -1.44e-01, -1.45e-01, -1.46e-01, -1.47e-01, -1.47e-01, -1.48e-01,\n",
       "       -1.48e-01, -1.51e-01, -1.52e-01, -1.52e-01, -1.52e-01, -1.55e-01,\n",
       "       -1.60e-01, -1.65e-01, -1.66e-01, -1.68e-01, -1.68e-01, -1.71e-01,\n",
       "       -1.74e-01, -1.75e-01, -1.76e-01, -1.79e-01, -1.79e-01, -1.80e-01,\n",
       "       -1.81e-01, -1.82e-01, -1.82e-01, -1.82e-01, -1.83e-01, -1.83e-01,\n",
       "       -1.85e-01, -1.87e-01, -1.87e-01, -1.87e-01, -1.91e-01, -1.91e-01,\n",
       "       -1.92e-01, -1.97e-01, -1.98e-01, -2.00e-01, -2.02e-01, -2.02e-01,\n",
       "       -2.04e-01, -2.05e-01, -2.06e-01, -2.07e-01, -2.10e-01, -2.12e-01,\n",
       "       -2.12e-01, -2.13e-01, -2.15e-01, -2.15e-01, -2.19e-01, -2.21e-01,\n",
       "       -2.22e-01, -2.24e-01, -2.24e-01, -2.25e-01, -2.26e-01, -2.27e-01,\n",
       "       -2.30e-01, -2.43e-01, -2.44e-01, -2.44e-01, -2.48e-01, -2.52e-01,\n",
       "       -2.53e-01, -2.59e-01, -2.63e-01, -2.64e-01, -2.66e-01, -2.68e-01,\n",
       "       -2.69e-01, -2.70e-01, -2.74e-01, -2.75e-01, -2.78e-01, -2.80e-01,\n",
       "       -2.89e-01, -2.90e-01, -2.94e-01, -2.97e-01, -2.98e-01, -2.98e-01,\n",
       "       -3.00e-01, -3.00e-01, -3.00e-01, -3.09e-01, -3.09e-01, -3.12e-01,\n",
       "       -3.13e-01, -3.14e-01, -3.15e-01, -3.17e-01, -3.25e-01, -3.28e-01,\n",
       "       -3.33e-01, -3.38e-01, -3.50e-01, -3.50e-01, -3.55e-01, -3.56e-01,\n",
       "       -3.57e-01, -3.59e-01, -3.72e-01, -3.86e-01, -3.88e-01, -3.90e-01,\n",
       "       -3.93e-01, -3.99e-01, -4.09e-01, -4.28e-01, -4.40e-01, -4.61e-01,\n",
       "       -5.09e-01, -6.85e-01], dtype=float32)"
      ]
     },
     "execution_count": 17,
     "metadata": {},
     "output_type": "execute_result"
    }
   ],
   "source": [
    "np.sort(X.dot(w))[::-1] # оценки по убыванию "
   ]
  },
  {
   "cell_type": "code",
   "execution_count": 18,
   "id": "4ad2de7d",
   "metadata": {},
   "outputs": [],
   "source": [
    "# idx = rng.permutation([ [i,j] for i,j in product(range(n),range(n))])\n",
    "# d = X[ idx[:,0],:] - X[ idx[:,1],:]\n",
    "# dw = (lsp * ( sig / ( 1. + np.exp( sig* d.dot(w) ) ) )[:,np.newaxis]*d).sum(axis=0)"
   ]
  },
  {
   "cell_type": "code",
   "execution_count": 19,
   "id": "d33e1554",
   "metadata": {},
   "outputs": [],
   "source": [
    "# for i,j in product(range(n),range(n)):\n",
    "# [ [i,j] for i,j in product(range(n),range(n)) ]\n",
    "# sig"
   ]
  },
  {
   "cell_type": "code",
   "execution_count": null,
   "id": "0ece9548",
   "metadata": {},
   "outputs": [],
   "source": []
  }
 ],
 "metadata": {
  "kernelspec": {
   "display_name": "Python 3",
   "language": "python",
   "name": "python3"
  },
  "language_info": {
   "codemirror_mode": {
    "name": "ipython",
    "version": 3
   },
   "file_extension": ".py",
   "mimetype": "text/x-python",
   "name": "python",
   "nbconvert_exporter": "python",
   "pygments_lexer": "ipython3",
   "version": "3.8.9"
  },
  "toc": {
   "base_numbering": 1,
   "nav_menu": {},
   "number_sections": true,
   "sideBar": true,
   "skip_h1_title": false,
   "title_cell": "Table of Contents",
   "title_sidebar": "Contents",
   "toc_cell": false,
   "toc_position": {},
   "toc_section_display": true,
   "toc_window_display": false
  }
 },
 "nbformat": 4,
 "nbformat_minor": 5
}
