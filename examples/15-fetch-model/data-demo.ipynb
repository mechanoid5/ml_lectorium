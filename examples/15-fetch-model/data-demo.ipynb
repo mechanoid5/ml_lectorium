{
 "cells": [
  {
   "cell_type": "markdown",
   "metadata": {},
   "source": [
    "**практическая работа**\n",
    "\n",
    "\n",
    "**цель:** научиться пользоваться средствами библиотеки sklearn и pandas\n",
    "    \n",
    "    \n",
    "    \n",
    "выполнить для всех типов задач (классификация, кластеризация, регрессия)  \n",
    "и методов (метрические,линейные,логические,статистические,композиции,нейросети)\n",
    "\n",
    "- выбрать задачу и подгрузить данные\n",
    "\n",
    "- выполнить предварительную обработку данных\n",
    "\n",
    "- применить метод ML\n",
    "\n",
    "- оценить результат\n",
    "\n",
    "\n",
    "\n",
    "\n"
   ]
  },
  {
   "cell_type": "code",
   "execution_count": null,
   "metadata": {},
   "outputs": [],
   "source": [
    "# работа с таблицами\n",
    "# pandas \n",
    "\n",
    "# библиотека методов линейной алгебры\n",
    "# numpy\n",
    "\n",
    "# визуализация данных\n",
    "# matplotlib\n",
    "\n",
    "# данные для экспериментов\n",
    "# sklearn.datasets\n",
    "\n",
    "# оценка результатов\n",
    "# sklearn.model_selection.train_test_split\n",
    "# sklearn.metrics.classification_report\n",
    "# sklearn.metrics.accuracy_score\n",
    "\n",
    "# подготовка данных\n",
    "# sklearn.preprocessing.MinMaxScaler\n",
    "# sklearn.preprocessing.StandardScaler\n",
    "\n",
    "# метрические методы\n",
    "# sklearn.metrics.pairwise.pairwise_distances\n",
    "# sklearn.neighbors.KNeighborsClassifier\n",
    "# sklearn.neighbors.KNeighborsRegressor\n",
    "# sklearn.cluster.KMeans\n",
    "# sklearn.cluster.DBSCAN\n",
    "\n",
    "# логические методы\n",
    "# sklearn.tree.DecisionTreeClassifier (feature_importances)\n",
    "\n",
    "# линейные методы\n",
    "# sklearn.linear_model.SGDClassifier\n",
    "# sklearn.svm\n",
    "# sklearn.linear_model.LinearRegression\n",
    "# sklearn.preprocessing.PolynomialFeatures\n",
    "# sklearn.linear_model.LogisticRegression\n",
    "\n",
    "# статистические методы\n",
    "# from sklearn.naive_bayes import GaussianNB\n",
    "# sklearn.mixture.GaussianMixture\n",
    "\n",
    "# композиции классификаторов\n",
    "# sklearn.ensemble.AdaBoostClassifier\n",
    "# sklearn.ensemble.RandomForestClassifier\n",
    "\n",
    "# нейросети \n",
    "# sklearn.neural_network.MLPClassifier\n",
    "# sklearn.neural_network.MLPRegressor\n"
   ]
  },
  {
   "cell_type": "markdown",
   "metadata": {},
   "source": [
    "---"
   ]
  },
  {
   "cell_type": "code",
   "execution_count": null,
   "metadata": {},
   "outputs": [],
   "source": [
    "from PIL import Image\n",
    "# pacman -S python-pillow\n",
    "\n",
    "from sklearn import datasets\n",
    "import matplotlib.pyplot as plt"
   ]
  },
  {
   "cell_type": "code",
   "execution_count": null,
   "metadata": {},
   "outputs": [],
   "source": [
    "# UCI Repository\n",
    "# D = datasets.load_wine()\n",
    "# D = datasets.load_boston()\n",
    "# D = datasets.load_breast_cancer()\n",
    "# D = datasets.load_diabetes()\n",
    "# D = datasets.load_iris()\n",
    "# D = datasets.load_linnerud()\n",
    "# D = datasets.load_wine()\n",
    "# D = datasets.fetch_california_housing()\n",
    "\n",
    "\n",
    "# картинки\n",
    "# D = datasets.load_digits()\n",
    "D = datasets.fetch_olivetti_faces()\n",
    "# D = datasets.fetch_lfw_people()\n",
    "\n",
    "\n",
    "# тексты\n",
    "# D = datasets.fetch_20newsgroups()\n",
    "# D = datasets.fetch_20newsgroups_vectorized()\n",
    "\n",
    "\n",
    "# D = datasets.fetch_rcv1()\n",
    "# D = datasets.fetch_lfw_pairs()\n",
    "# D = datasets.fetch_kddcup99()\n",
    "# D = datasets.fetch_covtype()\n",
    "\n",
    "\n",
    "# D = datasets.load_mlcomp(<Id from http://mlcomp.org>)\n",
    "# D = datasets.mldata.fetch_mldata(<name>)\n"
   ]
  },
  {
   "cell_type": "code",
   "execution_count": null,
   "metadata": {},
   "outputs": [],
   "source": [
    "# D\n",
    "\n",
    "# print(D['DESCR'])\n",
    "# plt.imshow(D['images'][1])"
   ]
  },
  {
   "cell_type": "markdown",
   "metadata": {},
   "source": [
    "---"
   ]
  }
 ],
 "metadata": {
  "kernelspec": {
   "display_name": "Python 3",
   "language": "python",
   "name": "python3"
  },
  "language_info": {
   "codemirror_mode": {
    "name": "ipython",
    "version": 3
   },
   "file_extension": ".py",
   "mimetype": "text/x-python",
   "name": "python",
   "nbconvert_exporter": "python",
   "pygments_lexer": "ipython3",
   "version": "3.7.2"
  },
  "toc": {
   "base_numbering": 1,
   "nav_menu": {},
   "number_sections": true,
   "sideBar": true,
   "skip_h1_title": false,
   "title_cell": "Table of Contents",
   "title_sidebar": "Contents",
   "toc_cell": false,
   "toc_position": {},
   "toc_section_display": "block",
   "toc_window_display": false
  }
 },
 "nbformat": 4,
 "nbformat_minor": 2
}
