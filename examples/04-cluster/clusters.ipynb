{
 "cells": [
  {
   "cell_type": "markdown",
   "metadata": {},
   "source": [
    "__кластерные структуры__\n",
    "\n",
    "Евгений Борисов borisov.e@solarl.ru"
   ]
  },
  {
   "cell_type": "code",
   "execution_count": null,
   "metadata": {},
   "outputs": [],
   "source": [
    "import numpy as np\n",
    "import matplotlib.pyplot as plt"
   ]
  },
  {
   "cell_type": "markdown",
   "metadata": {},
   "source": [
    "---"
   ]
  },
  {
   "cell_type": "markdown",
   "metadata": {},
   "source": [
    "# кластеры с центром"
   ]
  },
  {
   "cell_type": "code",
   "execution_count": null,
   "metadata": {},
   "outputs": [],
   "source": [
    "n=300\n",
    "d=[ np.random.normal(loc=0.0, scale=1.0, size=[n,2]),\n",
    "    np.random.normal(loc=4.0, scale=1.0, size=[n,2]) ]"
   ]
  },
  {
   "cell_type": "code",
   "execution_count": null,
   "metadata": {},
   "outputs": [],
   "source": [
    "plt.figure(figsize=[5,5])\n",
    "# plt.scatter( d[0][:,0], d[0][:,1], s=10, c='b' )\n",
    "# plt.scatter( d[1][:,0], d[1][:,1], s=10, c='b' )\n",
    "\n",
    "plt.scatter( x=d[0][:,0], y=d[0][:,1], s=10, alpha=0.5, c='b' )\n",
    "plt.scatter( x=d[1][:,0], y=d[1][:,1], s=10, alpha=0.5, c='b' )\n",
    "\n",
    "plt.scatter( x=[0], y=[0], s=50, alpha=0.9, c='r' )\n",
    "plt.scatter( x=[4], y=[4], s=50, alpha=0.9, c='r' )\n",
    "\n",
    "# plt.savefig('clst-cent.png')"
   ]
  },
  {
   "cell_type": "markdown",
   "metadata": {},
   "source": [
    "# кластеры ленточные"
   ]
  },
  {
   "cell_type": "code",
   "execution_count": null,
   "metadata": {},
   "outputs": [],
   "source": [
    "n=100\n",
    "d=[ \n",
    "    np.vstack([np.linspace(0,2,n), np.power(np.linspace(1,2,n),1.8)+np.random.rand(n)*0.7+1.0]).T ,\n",
    "    np.vstack([np.linspace(0,2,n), np.sin(np.linspace(1,2,n)*7.1)+np.random.rand(n)*0.7]).T \n",
    "  ]"
   ]
  },
  {
   "cell_type": "code",
   "execution_count": null,
   "metadata": {},
   "outputs": [],
   "source": [
    "plt.figure(figsize=[5,5])\n",
    "plt.scatter( x=d[0][:,0], y=d[0][:,1], s=10, alpha=0.5, c='b' )\n",
    "plt.scatter( x=d[1][:,0], y=d[1][:,1], s=10, alpha=0.5, c='b' )\n",
    "# plt.savefig('clst-lent.png')"
   ]
  },
  {
   "cell_type": "markdown",
   "metadata": {},
   "source": [
    "#  кластеры с перемычками"
   ]
  },
  {
   "cell_type": "code",
   "execution_count": null,
   "metadata": {},
   "outputs": [],
   "source": [
    "n=500\n",
    "d=[ np.random.normal(loc=[0.0,0.9], scale=0.6, size=[n,2]),\n",
    "    np.random.normal(loc=4.0, scale=0.6, size=[n,2]), \n",
    "    np.vstack([np.linspace(0,3,n//10), np.linspace(1,3,n//10)+np.random.rand(n//10)*0.3]).T ,\n",
    "  ]    "
   ]
  },
  {
   "cell_type": "code",
   "execution_count": null,
   "metadata": {},
   "outputs": [],
   "source": [
    "plt.figure(figsize=[5,5])\n",
    "plt.scatter( x=d[0][:,0], y=d[0][:,1], s=10, alpha=0.5, c='b' )\n",
    "plt.scatter( x=d[1][:,0], y=d[1][:,1], s=10, alpha=0.5, c='b' )\n",
    "plt.scatter( x=d[2][:,0], y=d[2][:,1], s=10, alpha=0.5, c='b' )\n",
    "# plt.savefig('clst-link.png')"
   ]
  },
  {
   "cell_type": "markdown",
   "metadata": {},
   "source": [
    "#  кластеры с шумом"
   ]
  },
  {
   "cell_type": "code",
   "execution_count": null,
   "metadata": {},
   "outputs": [],
   "source": [
    "n=500\n",
    "d=[ np.random.normal(loc=[0.0,0.9], scale=0.6, size=[n,2]),\n",
    "    np.random.normal(loc=4.0, scale=0.6, size=[n,2]), \n",
    "    np.random.normal(loc=2.0, scale=3.1, size=[n,2]), \n",
    "  ]    "
   ]
  },
  {
   "cell_type": "code",
   "execution_count": null,
   "metadata": {},
   "outputs": [],
   "source": [
    "plt.figure(figsize=[5,5])\n",
    "plt.xlim([-2,7])\n",
    "plt.ylim([-2,7])\n",
    "plt.scatter( x=d[0][:,0], y=d[0][:,1], s=10, alpha=0.5, c='b' )\n",
    "plt.scatter( x=d[1][:,0], y=d[1][:,1], s=10, alpha=0.5, c='b' )\n",
    "plt.scatter( x=d[2][:,0], y=d[2][:,1], s=10, alpha=0.5, c='b' )\n",
    "# plt.savefig('clst-noize.png')"
   ]
  },
  {
   "cell_type": "markdown",
   "metadata": {},
   "source": [
    "#  кластеры с перекрытием"
   ]
  },
  {
   "cell_type": "code",
   "execution_count": null,
   "metadata": {},
   "outputs": [],
   "source": [
    "n=500\n",
    "d=[ np.random.normal(loc=[0.0,0.0], scale=[1.0,0.2], size=[n,2]),\n",
    "    np.random.normal(loc=[0.4,0.7], scale=[0.2,1.0], size=[n,2]), \n",
    "  ]    "
   ]
  },
  {
   "cell_type": "code",
   "execution_count": null,
   "metadata": {},
   "outputs": [],
   "source": [
    "plt.figure(figsize=[5,5])\n",
    "plt.xlim([-3,3])\n",
    "plt.ylim([-3,3])\n",
    "plt.scatter( x=d[0][:,0], y=d[0][:,1], s=10, alpha=0.5, c='b' )\n",
    "plt.scatter( x=d[1][:,0], y=d[1][:,1], s=10, alpha=0.5, c='b' )\n",
    "# plt.savefig('clst-over.png')"
   ]
  },
  {
   "cell_type": "markdown",
   "metadata": {},
   "source": [
    "#  кластеры с регулярностями"
   ]
  },
  {
   "cell_type": "code",
   "execution_count": null,
   "metadata": {},
   "outputs": [],
   "source": [
    "n=50\n",
    "\n",
    "x=np.linspace(-1,1,n)\n",
    "d=[ \n",
    "    np.vstack([ x,np.square(x) ]).T,\n",
    "    np.vstack([ x,np.power(x,3)*10-0.5 ]).T\n",
    "]    "
   ]
  },
  {
   "cell_type": "code",
   "execution_count": null,
   "metadata": {},
   "outputs": [],
   "source": [
    "plt.figure(figsize=[5,5])\n",
    "plt.xlim([-2,2])\n",
    "plt.ylim([-2,2])\n",
    "plt.scatter( x=d[0][:,0], y=d[0][:,1], s=10, alpha=0.5, c='b' )\n",
    "plt.scatter( x=d[1][:,0], y=d[1][:,1], s=10, alpha=0.5, c='b' )\n",
    "# plt.savefig('clst-reg.png')"
   ]
  },
  {
   "cell_type": "markdown",
   "metadata": {},
   "source": [
    "#  без кластеров"
   ]
  },
  {
   "cell_type": "code",
   "execution_count": null,
   "metadata": {},
   "outputs": [],
   "source": [
    "n=1000\n",
    "d=[ np.random.rand(n,2) ]    "
   ]
  },
  {
   "cell_type": "code",
   "execution_count": null,
   "metadata": {},
   "outputs": [],
   "source": [
    "plt.figure(figsize=[5,5])\n",
    "# plt.xlim([-2,2])\n",
    "# plt.ylim([-2,2])\n",
    "plt.scatter( x=d[0][:,0], y=d[0][:,1], s=10, alpha=0.5, c='b' )\n",
    "# plt.savefig('clst-no.png')"
   ]
  },
  {
   "cell_type": "markdown",
   "metadata": {},
   "source": [
    "---"
   ]
  },
  {
   "cell_type": "code",
   "execution_count": 1,
   "metadata": {},
   "outputs": [],
   "source": [
    "import numpy as np\n",
    "import matplotlib.pyplot as plt"
   ]
  },
  {
   "cell_type": "code",
   "execution_count": 2,
   "metadata": {},
   "outputs": [],
   "source": [
    "from time import time\n",
    "def get_seed(): t = time() ; return int(((t%1)/(t//1))*1e11)"
   ]
  },
  {
   "cell_type": "code",
   "execution_count": 5,
   "metadata": {},
   "outputs": [],
   "source": [
    "n_samples = 500\n",
    "n_clst = 5"
   ]
  },
  {
   "cell_type": "code",
   "execution_count": 27,
   "metadata": {},
   "outputs": [
    {
     "data": {
      "image/png": "[encoded data removed]",
      "text/plain": [
       "<Figure size 360x360 with 1 Axes>"
      ]
     },
     "metadata": {
      "needs_background": "light"
     },
     "output_type": "display_data"
    }
   ],
   "source": [
    "from sklearn.datasets import make_regression\n",
    "\n",
    "X,y = make_regression(n_samples=100, \n",
    "                n_features=100, \n",
    "                n_informative=10, \n",
    "                n_targets=1, \n",
    "                bias=0.0, \n",
    "                effective_rank=None, \n",
    "                tail_strength=0.5, \n",
    "                noise=0.01, \n",
    "                shuffle=True, \n",
    "                coef=False, \n",
    "                random_state=get_seed() )\n",
    "\n",
    "plt.figure(figsize=[5,5])\n",
    "plt.scatter(X[:,0], X[:,1],s=10,alpha=0.7)\n",
    "plt.grid()\n",
    "plt.show()"
   ]
  },
  {
   "cell_type": "code",
   "execution_count": 6,
   "metadata": {},
   "outputs": [],
   "source": [
    "# from sklearn.datasets import make_blobs\n",
    "\n",
    "# n_samples = 500\n",
    "# n_clst = 5\n",
    "\n",
    "# X, y = make_blobs( n_samples=n_samples, centers=n_clst, random_state=get_seed())\n",
    "\n",
    "\n",
    "# plt.figure(figsize=[5,5])\n",
    "# plt.scatter(X[:,0], X[:,1],s=10,alpha=0.7)\n",
    "# plt.grid()\n",
    "# plt.show()\n",
    "# #title(\"Incorrect Number of Blobs\")"
   ]
  },
  {
   "cell_type": "code",
   "execution_count": 18,
   "metadata": {},
   "outputs": [
    {
     "data": {
      "image/png": "[encoded data removed]",
      "text/plain": [
       "<Figure size 360x360 with 1 Axes>"
      ]
     },
     "metadata": {
      "needs_background": "light"
     },
     "output_type": "display_data"
    }
   ],
   "source": [
    "from sklearn.datasets import make_moons\n",
    "\n",
    "X, y = make_moons(n_samples=n_samples, \n",
    "                  noise=.09, \n",
    "                  #shuffle=True,\n",
    "                  random_state=get_seed())\n",
    "\n",
    "plt.figure(figsize=[5,5])\n",
    "plt.scatter(X[:,0], X[:,1],s=10,alpha=0.7)\n",
    "plt.grid()\n",
    "plt.show()"
   ]
  },
  {
   "cell_type": "markdown",
   "metadata": {},
   "source": [
    "---"
   ]
  },
  {
   "cell_type": "code",
   "execution_count": null,
   "metadata": {},
   "outputs": [],
   "source": [
    "# # Author: Phil Roth <mr.phil.roth@gmail.com>\n",
    "# # License: BSD 3 clause\n",
    "\n",
    "# import numpy as np\n",
    "# import matplotlib.pyplot as plt\n",
    "\n",
    "# from sklearn.cluster import KMeans\n",
    "# from sklearn.datasets import make_blobs\n",
    "\n",
    "# plt.figure(figsize=(12, 12))\n",
    "\n",
    "# n_samples = 1500\n",
    "# random_state = 170\n",
    "# X, y = make_blobs(n_samples=n_samples, random_state=random_state)\n",
    "\n",
    "# # Incorrect number of clusters\n",
    "# y_pred = KMeans(n_clusters=2, random_state=random_state).fit_predict(X)\n",
    "\n",
    "# plt.subplot(221)\n",
    "# plt.scatter(X[:, 0], X[:, 1], c=y_pred)\n",
    "# plt.title(\"Incorrect Number of Blobs\")\n",
    "\n",
    "# # Anisotropicly distributed data\n",
    "# transformation = [[0.60834549, -0.63667341], [-0.40887718, 0.85253229]]\n",
    "# X_aniso = np.dot(X, transformation)\n",
    "# y_pred = KMeans(n_clusters=3, random_state=random_state).fit_predict(X_aniso)\n",
    "\n",
    "# plt.subplot(222)\n",
    "# plt.scatter(X_aniso[:, 0], X_aniso[:, 1], c=y_pred)\n",
    "# plt.title(\"Anisotropicly Distributed Blobs\")\n",
    "\n",
    "# # Different variance\n",
    "# X_varied, y_varied = make_blobs(n_samples=n_samples,\n",
    "#                                 cluster_std=[1.0, 2.5, 0.5],\n",
    "#                                 random_state=random_state)\n",
    "# y_pred = KMeans(n_clusters=3, random_state=random_state).fit_predict(X_varied)\n",
    "\n",
    "# plt.subplot(223)\n",
    "# plt.scatter(X_varied[:, 0], X_varied[:, 1], c=y_pred)\n",
    "# plt.title(\"Unequal Variance\")\n",
    "a\n",
    "# # Unevenly sized blobs\n",
    "# X_filtered = np.vstack((X[y == 0][:500], X[y == 1][:100], X[y == 2][:10]))\n",
    "# y_pred = KMeans(n_clusters=3,\n",
    "#                 random_state=random_state).fit_predict(X_filtered)\n",
    "\n",
    "# plt.subplot(224)\n",
    "# plt.scatter(X_filtered[:, 0], X_filtered[:, 1], c=y_pred)\n",
    "# plt.title(\"Unevenly Sized Blobs\")\n",
    "\n",
    "# plt.show() "
   ]
  },
  {
   "cell_type": "code",
   "execution_count": null,
   "metadata": {},
   "outputs": [],
   "source": [
    "# https://scikit-learn.org/stable/auto_examples/cluster/plot_cluster_comparison.html\n",
    "\n",
    "print(__doc__)\n",
    "\n",
    "import time\n",
    "import warnings\n",
    "\n",
    "import numpy as np\n",
    "import matplotlib.pyplot as plt\n",
    "\n",
    "from sklearn import cluster, datasets, mixture\n",
    "from sklearn.neighbors import kneighbors_graph\n",
    "from sklearn.preprocessing import StandardScaler\n",
    "from itertools import cycle, islice\n",
    "\n",
    "np.random.seed(0)\n",
    "\n",
    "# ============\n",
    "# Generate datasets. We choose the size big enough to see the scalability\n",
    "# of the algorithms, but not too big to avoid too long running times\n",
    "# ============\n",
    "n_samples = 1500\n",
    "noisy_circles = datasets.make_circles(n_samples=n_samples, factor=.5, noise=.05)\n",
    "noisy_moons = datasets.make_moons(n_samples=n_samples, noise=.05)\n",
    "blobs = datasets.make_blobs(n_samples=n_samples, random_state=8)\n",
    "no_structure = np.random.rand(n_samples, 2), None\n",
    "\n",
    "# Anisotropicly distributed data\n",
    "random_state = 170\n",
    "X, y = datasets.make_blobs(n_samples=n_samples, random_state=random_state)\n",
    "transformation = [[0.6, -0.6], [-0.4, 0.8]]\n",
    "X_aniso = np.dot(X, transformation)\n",
    "aniso = (X_aniso, y)\n",
    "\n",
    "# blobs with varied variances\n",
    "varied = datasets.make_blobs(n_samples=n_samples,\n",
    "                             cluster_std=[1.0, 2.5, 0.5],\n",
    "                             random_state=random_state)\n",
    "\n",
    "# ============\n",
    "# Set up cluster parameters\n",
    "# ============\n",
    "plt.figure(figsize=(9 * 2 + 3, 12.5))\n",
    "plt.subplots_adjust(left=.02, right=.98, bottom=.001, top=.96, wspace=.05,\n",
    "                    hspace=.01)\n",
    "\n",
    "plot_num = 1\n",
    "\n",
    "default_base = {'quantile': .3,\n",
    "                'eps': .3,\n",
    "                'damping': .9,\n",
    "                'preference': -200,\n",
    "                'n_neighbors': 10,\n",
    "                'n_clusters': 3,\n",
    "                'min_samples': 20,\n",
    "                'xi': 0.05,\n",
    "                'min_cluster_size': 0.1}\n",
    "\n",
    "datasets = [\n",
    "    (noisy_circles, {'damping': .77, 'preference': -240,\n",
    "                     'quantile': .2, 'n_clusters': 2,\n",
    "                     'min_samples': 20, 'xi': 0.25}),\n",
    "    (noisy_moons, {'damping': .75, 'preference': -220, 'n_clusters': 2}),\n",
    "    (varied, {'eps': .18, 'n_neighbors': 2,\n",
    "              'min_samples': 5, 'xi': 0.035, 'min_cluster_size': .2}),\n",
    "    (aniso, {'eps': .15, 'n_neighbors': 2,\n",
    "             'min_samples': 20, 'xi': 0.1, 'min_cluster_size': .2}),\n",
    "    (blobs, {}),\n",
    "    (no_structure, {})]\n",
    "\n",
    "for i_dataset, (dataset, algo_params) in enumerate(datasets):\n",
    "    # update parameters with dataset-specific values\n",
    "    params = default_base.copy()\n",
    "    params.update(algo_params)\n",
    "\n",
    "    X, y = dataset\n",
    "\n",
    "    # normalize dataset for easier parameter selection\n",
    "    X = StandardScaler().fit_transform(X)\n",
    "\n",
    "    # estimate bandwidth for mean shift\n",
    "    bandwidth = cluster.estimate_bandwidth(X, quantile=params['quantile'])\n",
    "\n",
    "    # connectivity matrix for structured Ward\n",
    "    connectivity = kneighbors_graph(\n",
    "        X, n_neighbors=params['n_neighbors'], include_self=False)\n",
    "    # make connectivity symmetric\n",
    "    connectivity = 0.5 * (connectivity + connectivity.T)\n",
    "\n",
    "    # ============\n",
    "    # Create cluster objects\n",
    "    # ============\n",
    "    ms = cluster.MeanShift(bandwidth=bandwidth, bin_seeding=True)\n",
    "    two_means = cluster.MiniBatchKMeans(n_clusters=params['n_clusters'])\n",
    "    ward = cluster.AgglomerativeClustering(\n",
    "        n_clusters=params['n_clusters'], linkage='ward',\n",
    "        connectivity=connectivity)\n",
    "    spectral = cluster.SpectralClustering(\n",
    "        n_clusters=params['n_clusters'], eigen_solver='arpack',\n",
    "        affinity=\"nearest_neighbors\")\n",
    "    dbscan = cluster.DBSCAN(eps=params['eps'])\n",
    "    optics = cluster.OPTICS(min_samples=params['min_samples'],\n",
    "                            xi=params['xi'],\n",
    "                            min_cluster_size=params['min_cluster_size'])\n",
    "    affinity_propagation = cluster.AffinityPropagation(\n",
    "        damping=params['damping'], preference=params['preference'])\n",
    "    average_linkage = cluster.AgglomerativeClustering(\n",
    "        linkage=\"average\", affinity=\"cityblock\",\n",
    "        n_clusters=params['n_clusters'], connectivity=connectivity)\n",
    "    birch = cluster.Birch(n_clusters=params['n_clusters'])\n",
    "    gmm = mixture.GaussianMixture(\n",
    "        n_components=params['n_clusters'], covariance_type='full')\n",
    "\n",
    "    clustering_algorithms = (\n",
    "        ('MiniBatchKMeans', two_means),\n",
    "        ('AffinityPropagation', affinity_propagation),\n",
    "        ('MeanShift', ms),\n",
    "        ('SpectralClustering', spectral),\n",
    "        ('Ward', ward),\n",
    "        ('AgglomerativeClustering', average_linkage),\n",
    "        ('DBSCAN', dbscan),\n",
    "        ('OPTICS', optics),\n",
    "        ('Birch', birch),\n",
    "        ('GaussianMixture', gmm)\n",
    "    )\n",
    "\n",
    "    for name, algorithm in clustering_algorithms:\n",
    "        t0 = time.time()\n",
    "\n",
    "        # catch warnings related to kneighbors_graph\n",
    "        with warnings.catch_warnings():\n",
    "            warnings.filterwarnings(\n",
    "                \"ignore\",\n",
    "                message=\"the number of connected components of the \" +\n",
    "                \"connectivity matrix is [0-9]{1,2}\" +\n",
    "                \" > 1. Completing it to avoid stopping the tree early.\",\n",
    "                category=UserWarning)\n",
    "            warnings.filterwarnings(\n",
    "                \"ignore\",\n",
    "                message=\"Graph is not fully connected, spectral embedding\" +\n",
    "                \" may not work as expected.\",\n",
    "                category=UserWarning)\n",
    "            algorithm.fit(X)\n",
    "\n",
    "        t1 = time.time()\n",
    "        if hasattr(algorithm, 'labels_'):\n",
    "            y_pred = algorithm.labels_.astype(np.int)\n",
    "        else:\n",
    "            y_pred = algorithm.predict(X)\n",
    "\n",
    "        plt.subplot(len(datasets), len(clustering_algorithms), plot_num)\n",
    "        if i_dataset == 0:\n",
    "            plt.title(name, size=18)\n",
    "\n",
    "        colors = np.array(list(islice(cycle(['#377eb8', '#ff7f00', '#4daf4a',\n",
    "                                             '#f781bf', '#a65628', '#984ea3',\n",
    "                                             '#999999', '#e41a1c', '#dede00']),\n",
    "                                      int(max(y_pred) + 1))))\n",
    "        # add black color for outliers (if any)\n",
    "        colors = np.append(colors, [\"#000000\"])\n",
    "        plt.scatter(X[:, 0], X[:, 1], s=10, color=colors[y_pred])\n",
    "\n",
    "        plt.xlim(-2.5, 2.5)\n",
    "        plt.ylim(-2.5, 2.5)\n",
    "        plt.xticks(())\n",
    "        plt.yticks(())\n",
    "        plt.text(.99, .01, ('%.2fs' % (t1 - t0)).lstrip('0'),\n",
    "                 transform=plt.gca().transAxes, size=15,\n",
    "                 horizontalalignment='right')\n",
    "        plot_num += 1\n",
    "\n",
    "plt.show()\n"
   ]
  },
  {
   "cell_type": "code",
   "execution_count": null,
   "metadata": {},
   "outputs": [],
   "source": []
  }
 ],
 "metadata": {
  "kernelspec": {
   "display_name": "Python 3",
   "language": "python",
   "name": "python3"
  },
  "language_info": {
   "codemirror_mode": {
    "name": "ipython",
    "version": 3
   },
   "file_extension": ".py",
   "mimetype": "text/x-python",
   "name": "python",
   "nbconvert_exporter": "python",
   "pygments_lexer": "ipython3",
   "version": "3.7.4"
  },
  "toc": {
   "base_numbering": 1,
   "nav_menu": {},
   "number_sections": true,
   "sideBar": true,
   "skip_h1_title": false,
   "title_cell": "Table of Contents",
   "title_sidebar": "Contents",
   "toc_cell": false,
   "toc_position": {},
   "toc_section_display": true,
   "toc_window_display": false
  }
 },
 "nbformat": 4,
 "nbformat_minor": 2
}
