{
 "cells": [
  {
   "cell_type": "markdown",
   "metadata": {},
   "source": [
    "**кластеризатор DBSCAN**\n",
    "\n",
    "\n",
    "Евгений Борисов borisov.e@solarl.ru"
   ]
  },
  {
   "cell_type": "markdown",
   "metadata": {},
   "source": [
    "---"
   ]
  },
  {
   "cell_type": "code",
   "execution_count": 1,
   "metadata": {},
   "outputs": [],
   "source": [
    "import numpy as np\n",
    "import matplotlib.pyplot as plt\n",
    "from sklearn.metrics.pairwise import euclidean_distances\n",
    "import random"
   ]
  },
  {
   "cell_type": "markdown",
   "metadata": {},
   "source": [
    "---"
   ]
  },
  {
   "cell_type": "code",
   "execution_count": 2,
   "metadata": {},
   "outputs": [],
   "source": [
    "# X = np.vstack([ \n",
    "#       np.loadtxt('../data/800_2b/points_1.txt'), \n",
    "#       np.loadtxt('../data/800_2b/points_2.txt') \n",
    "#     ])"
   ]
  },
  {
   "cell_type": "code",
   "execution_count": 3,
   "metadata": {},
   "outputs": [],
   "source": [
    "X = np.loadtxt('../data/360_1/points_1.txt')"
   ]
  },
  {
   "cell_type": "code",
   "execution_count": 4,
   "metadata": {},
   "outputs": [
    {
     "data": {
      "image/png": "[encoded data removed]",
      "text/plain": [
       "<Figure size 720x504 with 1 Axes>"
      ]
     },
     "metadata": {
      "needs_background": "light"
     },
     "output_type": "display_data"
    }
   ],
   "source": [
    "plt.figure(figsize=(10,7))\n",
    "plt.scatter( x=X[:,0], y=X[:,1], s=10, alpha=0.7 )\n",
    "plt.grid()\n",
    "plt.show()"
   ]
  },
  {
   "cell_type": "markdown",
   "metadata": {},
   "source": [
    "---"
   ]
  },
  {
   "cell_type": "code",
   "execution_count": 5,
   "metadata": {},
   "outputs": [],
   "source": [
    "max_rad = 1.1 # размер окрестности точки\n",
    "min_clst_size = 10 # минимальное количесто элементов в кластере"
   ]
  },
  {
   "cell_type": "code",
   "execution_count": 6,
   "metadata": {},
   "outputs": [],
   "source": [
    "# матрица расстояний\n",
    "R = euclidean_distances(X)\n",
    "# список номеров неразмеченных точек\n",
    "U = list(range(X.shape[0]))\n",
    "Unz = set() # кандидаты в \"шумовые\" точки\n",
    "clust = [] # результаты, списки номеров точек кластеров"
   ]
  },
  {
   "cell_type": "code",
   "execution_count": 7,
   "metadata": {},
   "outputs": [],
   "source": [
    "max_iter = 1000\n",
    "for i in range(max_iter):\n",
    "    # выбираем (случайно) точку из неразмеченных\n",
    "    c = random.choice(U) \n",
    "\n",
    "    # собираем кластер радиуса max_rad вокруг c\n",
    "    K = [ ui for ui in U if R[c,ui] < max_rad ]\n",
    "\n",
    "    # если в окрестности точки с мало соседей\n",
    "    if len(K) < min_clst_size: \n",
    "        Unz.add(c) # то помечаем с как шум\n",
    "        if len(set(U)-Unz)<1: \n",
    "            # все некластеризированные точки помечены как шум\n",
    "            break # завершаем работу\n",
    "    else:    \n",
    "        \n",
    "        # иначе обрабатываем соседей точек кластера K\n",
    "\n",
    "        # для каждого элемента K собираем окрестность \n",
    "        K = { ki : [ ui for ui in U if (R[ki,ui]<max_rad) ] for ki in K }    \n",
    "\n",
    "        # проверяем окрестности точек K \n",
    "\n",
    "        # \"корневые\" элементы кластера\n",
    "        K_root = [ ki for ki in K if len(K[ki])>min_clst_size ]\n",
    "\n",
    "        # \"граничные\" элементы кластера\n",
    "        K_margin = [ ki for ki in K if len(K[ki])<(min_clst_size-1) ]\n",
    "\n",
    "        # собираем кластер \n",
    "        K = [ K[ki] for ki in K_root ] \n",
    "        K = set(sum(K,[])) | set(K_margin)\n",
    "\n",
    "        U = list( set(U) - K ) # помечаем точки кластера как обработанные\n",
    "        Unz = set(Unz) - K # удаляем точки кластера из списка шумовых точек\n",
    "\n",
    "        clust.append(list(K))\n",
    "\n",
    "Unz = list(Unz)"
   ]
  },
  {
   "cell_type": "code",
   "execution_count": 8,
   "metadata": {},
   "outputs": [
    {
     "data": {
      "text/plain": [
       "(6, 1, 1, 6)"
      ]
     },
     "execution_count": 8,
     "metadata": {},
     "output_type": "execute_result"
    }
   ],
   "source": [
    "len(clust), len(U),len(Unz), i"
   ]
  },
  {
   "cell_type": "markdown",
   "metadata": {},
   "source": [
    "---"
   ]
  },
  {
   "cell_type": "code",
   "execution_count": 9,
   "metadata": {},
   "outputs": [
    {
     "data": {
      "image/png": "[encoded data removed]",
      "text/plain": [
       "<Figure size 720x504 with 1 Axes>"
      ]
     },
     "metadata": {
      "needs_background": "light"
     },
     "output_type": "display_data"
    }
   ],
   "source": [
    "plt.figure(figsize=(10,7))\n",
    "for c in clust:\n",
    "    plt.scatter( x=X[c,0], y=X[c,1], s=5, alpha=0.7 )\n",
    "      \n",
    "plt.scatter( x=X[Unz,0], y=X[Unz,1], s=20, alpha=0.7, c='k' )\n",
    " \n",
    "plt.grid()\n",
    "plt.savefig('res-dbscan.png')\n",
    "plt.show()"
   ]
  },
  {
   "cell_type": "code",
   "execution_count": null,
   "metadata": {},
   "outputs": [],
   "source": []
  }
 ],
 "metadata": {
  "kernelspec": {
   "display_name": "Python 3",
   "language": "python",
   "name": "python3"
  },
  "language_info": {
   "codemirror_mode": {
    "name": "ipython",
    "version": 3
   },
   "file_extension": ".py",
   "mimetype": "text/x-python",
   "name": "python",
   "nbconvert_exporter": "python",
   "pygments_lexer": "ipython3",
   "version": "3.6.5"
  },
  "toc": {
   "base_numbering": 1,
   "nav_menu": {},
   "number_sections": true,
   "sideBar": true,
   "skip_h1_title": false,
   "title_cell": "Table of Contents",
   "title_sidebar": "Contents",
   "toc_cell": false,
   "toc_position": {},
   "toc_section_display": "block",
   "toc_window_display": false
  }
 },
 "nbformat": 4,
 "nbformat_minor": 2
}
