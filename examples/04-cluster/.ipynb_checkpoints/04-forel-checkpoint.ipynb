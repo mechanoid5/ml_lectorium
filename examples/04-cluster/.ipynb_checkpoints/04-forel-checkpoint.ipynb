{
 "cells": [
  {
   "cell_type": "markdown",
   "metadata": {},
   "source": [
    "**кластеризатор ФОРЭЛ**\n",
    "\n",
    "\n",
    "Евгений Борисов borisov.e@solarl.ru"
   ]
  },
  {
   "cell_type": "markdown",
   "metadata": {},
   "source": [
    "---"
   ]
  },
  {
   "cell_type": "code",
   "execution_count": 1,
   "metadata": {},
   "outputs": [],
   "source": [
    "import numpy as np\n",
    "import matplotlib.pyplot as plt\n",
    "from sklearn.metrics.pairwise import euclidean_distances\n",
    "import random\n",
    "\n",
    "from time import time\n",
    "from sklearn.datasets import make_blobs"
   ]
  },
  {
   "cell_type": "code",
   "execution_count": 2,
   "metadata": {},
   "outputs": [],
   "source": [
    "def get_seed(): t = time() ; return int(((t%1)/(t//1))*1e11)"
   ]
  },
  {
   "cell_type": "markdown",
   "metadata": {},
   "source": [
    "---"
   ]
  },
  {
   "cell_type": "code",
   "execution_count": 3,
   "metadata": {},
   "outputs": [],
   "source": [
    "n_samples = 500\n",
    "n_clst = 3 # количество кластеров\n",
    "\n",
    "X,_ = make_blobs( \n",
    "        n_samples=n_samples,\n",
    "        centers=n_clst,  \n",
    "        random_state=get_seed(),\n",
    "#         cluster_std=[1.0, 2.5, 0.5]\n",
    "    )"
   ]
  },
  {
   "cell_type": "code",
   "execution_count": 4,
   "metadata": {},
   "outputs": [],
   "source": [
    "# X = np.vstack([ \n",
    "#       np.loadtxt('../data/800_2b/points_1.txt'), \n",
    "#       np.loadtxt('../data/800_2b/points_2.txt') \n",
    "#     ])"
   ]
  },
  {
   "cell_type": "code",
   "execution_count": 5,
   "metadata": {},
   "outputs": [],
   "source": [
    "# X = np.loadtxt('../data/360_1/points_1.txt')"
   ]
  },
  {
   "cell_type": "code",
   "execution_count": 6,
   "metadata": {},
   "outputs": [
    {
     "data": {
      "image/png": "[encoded data removed]",
      "text/plain": [
       "<Figure size 360x360 with 1 Axes>"
      ]
     },
     "metadata": {
      "needs_background": "light"
     },
     "output_type": "display_data"
    }
   ],
   "source": [
    "plt.figure(figsize=(5,5))\n",
    "plt.scatter( x=X[:,0], y=X[:,1], s=10, alpha=0.7 )\n",
    "plt.grid()\n",
    "# plt.savefig('res-forel-1.png')\n",
    "plt.show()"
   ]
  },
  {
   "cell_type": "markdown",
   "metadata": {},
   "source": [
    "---"
   ]
  },
  {
   "cell_type": "code",
   "execution_count": 7,
   "metadata": {},
   "outputs": [],
   "source": [
    "# import random\n",
    "# random.choice([1,2,3,4,5,6])"
   ]
  },
  {
   "cell_type": "code",
   "execution_count": 8,
   "metadata": {},
   "outputs": [],
   "source": [
    "def make_cluster( X, K, max_rad, max_iter=1000, delta=1e-32):   \n",
    "    # выбираем случайную точку из не обработанных\n",
    "    xc = X[ random.choice(K),:].reshape(1,X.shape[1])\n",
    "    \n",
    "    # формируем кластер и ищем его центроид\n",
    "    for j in range(max_iter):\n",
    "        # расстояния от точки xc до всех точек кластера K\n",
    "        R = euclidean_distances(xc,X[K,:]).flatten() \n",
    "        \n",
    "        # формируем кластер радиуса max_rad вокруг xc\n",
    "        K = [ ki for i,ki in enumerate(K) if R[i]<max_rad ]\n",
    "        \n",
    "        xc_old = xc # сохраняем старое значение центра\n",
    "        \n",
    "        # пересчитываем центроид\n",
    "        xc = X[K,:].mean(axis=0).reshape(1,X.shape[1]) \n",
    "        \n",
    "        # если центроид не сдвинулся то завершаем цикл\n",
    "        if np.square(xc_old-xc).sum() < delta: break\n",
    "            \n",
    "    return K,xc"
   ]
  },
  {
   "cell_type": "code",
   "execution_count": 9,
   "metadata": {},
   "outputs": [],
   "source": [
    "def forel(X,max_rad, max_clust=1000):\n",
    "    clst = []\n",
    "    clst_cent = []\n",
    "\n",
    "    U = list(range(X.shape[0])) # список номеров необработаных точек\n",
    "\n",
    "    for i in range(max_clust):\n",
    "\n",
    "        # формируем кластер из точек U радиуса max_rad\n",
    "        K,xc = make_cluster(X,U,max_rad)\n",
    "\n",
    "        # сохраняем кластер и его центроид     \n",
    "        clst.append(K)\n",
    "        clst_cent.append(xc)\n",
    "\n",
    "        # удаляем обработанные точки из списка\n",
    "        U = list(set(U)-set(K))\n",
    "\n",
    "        print(len(U))\n",
    "\n",
    "        # если нет больше неразмеченных точек\n",
    "        if len(U) < 1: break # то завершаем работу\n",
    "        # ... иначе формируем следующий кластер\n",
    "        \n",
    "    return clst, clst_cent"
   ]
  },
  {
   "cell_type": "code",
   "execution_count": 10,
   "metadata": {},
   "outputs": [
    {
     "name": "stdout",
     "output_type": "stream",
     "text": [
      "388\n",
      "247\n",
      "103\n",
      "79\n",
      "27\n",
      "8\n",
      "7\n",
      "5\n",
      "3\n",
      "2\n",
      "1\n",
      "0\n"
     ]
    }
   ],
   "source": [
    "max_rad = euclidean_distances(X).max()/5.0 # размер кластера\n",
    "clst, clst_cent = forel(X,max_rad)"
   ]
  },
  {
   "cell_type": "code",
   "execution_count": 11,
   "metadata": {},
   "outputs": [
    {
     "data": {
      "text/plain": [
       "12"
      ]
     },
     "execution_count": 11,
     "metadata": {},
     "output_type": "execute_result"
    }
   ],
   "source": [
    "len(clst)"
   ]
  },
  {
   "cell_type": "code",
   "execution_count": 12,
   "metadata": {},
   "outputs": [
    {
     "data": {
      "image/png": "[encoded data removed]",
      "text/plain": [
       "<Figure size 360x360 with 1 Axes>"
      ]
     },
     "metadata": {
      "needs_background": "light"
     },
     "output_type": "display_data"
    }
   ],
   "source": [
    "plt.figure(figsize=(5,5))\n",
    "for c in clst: plt.scatter( x=X[c,0], y=X[c,1], s=10, alpha=0.8 )\n",
    "for x in clst_cent: plt.scatter( x=x[0,0], y=x[0,1], s=30, alpha=0.8 )\n",
    "\n",
    "plt.grid()\n",
    "# plt.savefig('res-forel-2.png')\n",
    "\n",
    "plt.show()"
   ]
  },
  {
   "cell_type": "markdown",
   "metadata": {},
   "source": [
    "---"
   ]
  },
  {
   "cell_type": "code",
   "execution_count": null,
   "metadata": {},
   "outputs": [],
   "source": [
    "# U = list(range(X.shape[0])) # список номеров необработаных точек\n",
    "# max_rad = euclidean_distances(X).max()/15.0\n",
    "# len(U),max_rad"
   ]
  },
  {
   "cell_type": "code",
   "execution_count": null,
   "metadata": {},
   "outputs": [],
   "source": [
    "# # выбираем случайную точку из не обработанных\n",
    "# c = random.choice(U)\n",
    "# xc = X[c,:].reshape(1,X.shape[1])\n",
    "# K = U"
   ]
  },
  {
   "cell_type": "code",
   "execution_count": null,
   "metadata": {},
   "outputs": [],
   "source": [
    "# # формируем кластер и ищем его центроид\n",
    "\n",
    "# # расстояния от точки xc до всех точек кластера K\n",
    "# R = euclidean_distances(xc,X[K,:]).flatten() \n",
    "\n",
    "# # формируем кластер радиуса max_rad вокруг xc\n",
    "# K = [ ki for i,ki in enumerate(K) if R[i]<max_rad ]\n",
    "\n",
    "# xc_old = xc # сохраняем старое значение центра\n",
    "\n",
    "# # пересчитываем центроид\n",
    "# xc = X[K,:].mean(axis=0).reshape(1,X.shape[1]) \n",
    "\n",
    "# # если центроид не сдвинулся то завершаем цикл\n",
    "# print(np.square(xc_old-xc).sum())"
   ]
  },
  {
   "cell_type": "code",
   "execution_count": null,
   "metadata": {},
   "outputs": [],
   "source": [
    "# # удаляем обработанные точки из списка\n",
    "# U = list(set(U)-set(K))\n",
    "# print(len(U))\n"
   ]
  },
  {
   "cell_type": "code",
   "execution_count": null,
   "metadata": {},
   "outputs": [],
   "source": [
    "# len(K),xc"
   ]
  },
  {
   "cell_type": "code",
   "execution_count": null,
   "metadata": {},
   "outputs": [],
   "source": []
  },
  {
   "cell_type": "code",
   "execution_count": null,
   "metadata": {},
   "outputs": [],
   "source": []
  }
 ],
 "metadata": {
  "kernelspec": {
   "display_name": "Python 3",
   "language": "python",
   "name": "python3"
  },
  "language_info": {
   "codemirror_mode": {
    "name": "ipython",
    "version": 3
   },
   "file_extension": ".py",
   "mimetype": "text/x-python",
   "name": "python",
   "nbconvert_exporter": "python",
   "pygments_lexer": "ipython3",
   "version": "3.8.1"
  },
  "toc": {
   "base_numbering": 1,
   "nav_menu": {},
   "number_sections": true,
   "sideBar": true,
   "skip_h1_title": false,
   "title_cell": "Table of Contents",
   "title_sidebar": "Contents",
   "toc_cell": false,
   "toc_position": {},
   "toc_section_display": "block",
   "toc_window_display": false
  }
 },
 "nbformat": 4,
 "nbformat_minor": 2
}
