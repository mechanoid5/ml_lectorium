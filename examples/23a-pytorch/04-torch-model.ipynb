{
 "cells": [
  {
   "cell_type": "markdown",
   "id": "automatic-wound",
   "metadata": {},
   "source": [
    "__реализация полиномиальной регрессии с помощью PyTorch__\n",
    "\n",
    "Евгений Борисов esborisov@sevsu.ru"
   ]
  },
  {
   "cell_type": "code",
   "execution_count": 1,
   "id": "clinical-douglas",
   "metadata": {},
   "outputs": [],
   "source": [
    "# https://pytorch.org/tutorials/beginner/pytorch_with_examples.html"
   ]
  },
  {
   "cell_type": "code",
   "execution_count": 2,
   "id": "juvenile-domain",
   "metadata": {},
   "outputs": [],
   "source": [
    "import numpy as np\n",
    "from numpy import random as rng\n",
    "import math\n",
    "\n",
    "from matplotlib import pyplot as plt \n",
    "\n",
    "import torch"
   ]
  },
  {
   "cell_type": "code",
   "execution_count": 3,
   "id": "compact-bibliography",
   "metadata": {},
   "outputs": [],
   "source": [
    "# генерируем данные, пакуем их в тензоры Torch\n",
    "x = torch.linspace(-math.pi, math.pi, 2000)\n",
    "y = torch.sin(x)"
   ]
  },
  {
   "cell_type": "code",
   "execution_count": 4,
   "id": "tutorial-computer",
   "metadata": {},
   "outputs": [
    {
     "data": {
      "text/plain": [
       "[<matplotlib.lines.Line2D at 0x7fa063b15d60>]"
      ]
     },
     "execution_count": 4,
     "metadata": {},
     "output_type": "execute_result"
    },
    {
     "data": {
      "image/png": "[encoded data removed]",
      "text/plain": [
       "<Figure size 432x288 with 1 Axes>"
      ]
     },
     "metadata": {
      "needs_background": "light"
     },
     "output_type": "display_data"
    }
   ],
   "source": [
    "plt.plot(x,y)"
   ]
  },
  {
   "cell_type": "markdown",
   "id": "1a4e2125",
   "metadata": {},
   "source": [
    "---"
   ]
  },
  {
   "cell_type": "code",
   "execution_count": 5,
   "id": "45cacf5a",
   "metadata": {},
   "outputs": [
    {
     "data": {
      "text/plain": [
       "'NVIDIA Quadro K620'"
      ]
     },
     "execution_count": 5,
     "metadata": {},
     "output_type": "execute_result"
    }
   ],
   "source": [
    "import torch\n",
    "\n",
    "# torch.cuda.is_available()\n",
    "# torch.cuda.current_device()\n",
    "# torch.cuda.device(0)\n",
    "# torch.cuda.device_count()\n",
    "torch.cuda.get_device_name(0)\n"
   ]
  },
  {
   "cell_type": "markdown",
   "id": "rural-master",
   "metadata": {},
   "source": [
    "---"
   ]
  },
  {
   "cell_type": "markdown",
   "id": "complimentary-revolution",
   "metadata": {},
   "source": [
    "$$\n",
    "y = \n",
    "a + b x + c x^2 + d x^3 =\n",
    "\\begin{bmatrix} 1 & x & x^2 & x^3 \\end{bmatrix} \\cdot \n",
    "\\begin{bmatrix} a \\cr b \\cr c \\cr d \\end{bmatrix} \n",
    "$$"
   ]
  },
  {
   "cell_type": "code",
   "execution_count": 6,
   "id": "satellite-automation",
   "metadata": {},
   "outputs": [],
   "source": [
    "# строим модель\n",
    "class Polynomial3(torch.nn.Module):\n",
    "    \n",
    "    # инициализируем составные части модели\n",
    "    def __init__(self,p=3):\n",
    "        super().__init__()\n",
    "        self.linear = torch.nn.Linear(p, 1) # линейное преобразование\n",
    "        self.flatten = torch.nn.Flatten(0,1) # убираем лишние размерности\n",
    "        # параметры polynomial_features [1,2,3,...]\n",
    "        self.pow = torch.tensor( list(range(1,p+1)), requires_grad=False) \n",
    "            \n",
    "    # дополнительная функция,\n",
    "    #  преобразуем денные, добавляем столбцы в матрицу датасета            \n",
    "    def polynomial_features(self,x):\n",
    "         # tensor (x, x^2, x^3).\n",
    "        return x.unsqueeze(-1).pow( self.pow )\n",
    "\n",
    "    # прямой проход, алгоритм вычисления выхода модели\n",
    "    def forward(self, x):\n",
    "        out = self.polynomial_features(x)\n",
    "        out = self.linear( out)\n",
    "        out = self.flatten(out)\n",
    "        return out\n"
   ]
  },
  {
   "cell_type": "code",
   "execution_count": 7,
   "id": "convinced-egypt",
   "metadata": {},
   "outputs": [],
   "source": [
    "# создаём модель\n",
    "model = Polynomial3()"
   ]
  },
  {
   "cell_type": "code",
   "execution_count": 8,
   "id": "delayed-amateur",
   "metadata": {},
   "outputs": [],
   "source": [
    "criterion = torch.nn.MSELoss(reduction='sum') # функция потери\n",
    "optimizer = torch.optim.SGD(model.parameters(), lr=1e-6) # метод оптимизации"
   ]
  },
  {
   "cell_type": "code",
   "execution_count": 9,
   "id": "described-employee",
   "metadata": {},
   "outputs": [
    {
     "name": "stdout",
     "output_type": "stream",
     "text": [
      "CPU times: user 4.01 s, sys: 27.6 ms, total: 4.04 s\n",
      "Wall time: 1.07 s\n"
     ]
    }
   ],
   "source": [
    "%%time\n",
    "\n",
    "err_hist = [] # история изменения значений функции потери\n",
    "\n",
    "# цикл обучения \n",
    "for t in range(2000):\n",
    "    y_pred = model(x) # вычисляем выход\n",
    "    loss = criterion(y_pred, y) # вычисляем потерю\n",
    "    err_hist.append( loss.item() )   \n",
    "    optimizer.zero_grad() # очищаем предыдущее значение градиента\n",
    "    loss.backward()  # вычисляем текущее значение градиента ф-ции потери\n",
    "    optimizer.step() # изменение параметров"
   ]
  },
  {
   "cell_type": "code",
   "execution_count": 10,
   "id": "careful-shannon",
   "metadata": {},
   "outputs": [
    {
     "data": {
      "text/plain": [
       "[<matplotlib.lines.Line2D at 0x7fa0592a2a60>]"
      ]
     },
     "execution_count": 10,
     "metadata": {},
     "output_type": "execute_result"
    },
    {
     "data": {
      "image/png": "[encoded data removed]",
      "text/plain": [
       "<Figure size 432x288 with 1 Axes>"
      ]
     },
     "metadata": {
      "needs_background": "light"
     },
     "output_type": "display_data"
    }
   ],
   "source": [
    "plt.plot(err_hist[100:])"
   ]
  },
  {
   "cell_type": "markdown",
   "id": "hollywood-kernel",
   "metadata": {},
   "source": [
    "----"
   ]
  },
  {
   "cell_type": "code",
   "execution_count": 11,
   "id": "serial-photographer",
   "metadata": {},
   "outputs": [
    {
     "data": {
      "text/plain": [
       "<matplotlib.legend.Legend at 0x7fa05ba62580>"
      ]
     },
     "execution_count": 11,
     "metadata": {},
     "output_type": "execute_result"
    },
    {
     "data": {
      "image/png": "[encoded data removed]",
      "text/plain": [
       "<Figure size 432x288 with 1 Axes>"
      ]
     },
     "metadata": {
      "needs_background": "light"
     },
     "output_type": "display_data"
    }
   ],
   "source": [
    "# проверяем результат\n",
    "\n",
    "# выключаем расчёт градиентов\n",
    "with torch.set_grad_enabled(False):\n",
    "    y_pred = model(x) # вычисляем значения регресии\n",
    "\n",
    "# рисуем результат    \n",
    "plt.plot(x,y,label='data')\n",
    "plt.plot(x,y_pred,label='predict')\n",
    "plt.legend()"
   ]
  },
  {
   "cell_type": "code",
   "execution_count": null,
   "id": "academic-affairs",
   "metadata": {},
   "outputs": [],
   "source": []
  },
  {
   "cell_type": "code",
   "execution_count": null,
   "id": "97975ab6",
   "metadata": {},
   "outputs": [],
   "source": []
  },
  {
   "cell_type": "code",
   "execution_count": null,
   "id": "f9fd93ec",
   "metadata": {},
   "outputs": [],
   "source": []
  }
 ],
 "metadata": {
  "kernelspec": {
   "display_name": "Python 3",
   "language": "python",
   "name": "python3"
  },
  "language_info": {
   "codemirror_mode": {
    "name": "ipython",
    "version": 3
   },
   "file_extension": ".py",
   "mimetype": "text/x-python",
   "name": "python",
   "nbconvert_exporter": "python",
   "pygments_lexer": "ipython3",
   "version": "3.8.9"
  },
  "toc": {
   "base_numbering": 1,
   "nav_menu": {},
   "number_sections": true,
   "sideBar": true,
   "skip_h1_title": false,
   "title_cell": "Table of Contents",
   "title_sidebar": "Contents",
   "toc_cell": false,
   "toc_position": {},
   "toc_section_display": true,
   "toc_window_display": false
  }
 },
 "nbformat": 4,
 "nbformat_minor": 5
}
