{
 "cells": [
  {
   "cell_type": "markdown",
   "metadata": {},
   "source": [
    "__реализация полиномиальной регрессии с помощью PyTorch__\n",
    "\n",
    "Евгений Борисов esborisov@sevsu.ru"
   ]
  },
  {
   "cell_type": "code",
<<<<<<< HEAD
   "execution_count": 1,
=======
   "execution_count": null,
   "id": "clinical-douglas",
>>>>>>> 33f5da32567b4abcbd972e999dd33e3649aea193
   "metadata": {},
   "outputs": [],
   "source": [
    "# https://pytorch.org/tutorials/beginner/pytorch_with_examples.html"
   ]
  },
  {
   "cell_type": "code",
<<<<<<< HEAD
   "execution_count": 2,
=======
   "execution_count": null,
   "id": "juvenile-domain",
>>>>>>> 33f5da32567b4abcbd972e999dd33e3649aea193
   "metadata": {},
   "outputs": [],
   "source": [
    "import numpy as np\n",
    "from numpy import random as rng\n",
    "import math\n",
    "\n",
    "from matplotlib import pyplot as plt \n",
    "\n",
    "import torch"
   ]
  },
  {
   "cell_type": "code",
<<<<<<< HEAD
   "execution_count": 3,
=======
   "execution_count": null,
   "id": "compact-bibliography",
>>>>>>> 33f5da32567b4abcbd972e999dd33e3649aea193
   "metadata": {},
   "outputs": [],
   "source": [
    "# генерируем данные, пакуем их в тензоры Torch\n",
    "x = torch.linspace(-math.pi, math.pi, 2000)\n",
    "y = torch.sin(x)"
   ]
  },
  {
   "cell_type": "code",
<<<<<<< HEAD
   "execution_count": 4,
=======
   "execution_count": null,
   "id": "tutorial-computer",
>>>>>>> 33f5da32567b4abcbd972e999dd33e3649aea193
   "metadata": {},
   "outputs": [],
   "source": [
    "plt.plot(x,y)"
   ]
  },
  {
   "cell_type": "markdown",
   "metadata": {},
   "source": [
    "---"
   ]
  },
  {
   "cell_type": "markdown",
   "metadata": {},
   "source": [
    "$$\n",
    "y = \n",
    "a + b x + c x^2 + d x^3 =\n",
    "\\begin{bmatrix} 1 & x & x^2 & x^3 \\end{bmatrix} \\cdot \n",
    "\\begin{bmatrix} a \\cr b \\cr c \\cr d \\end{bmatrix} \n",
    "$$"
   ]
  },
  {
   "cell_type": "code",
<<<<<<< HEAD
   "execution_count": 5,
=======
   "execution_count": null,
   "id": "satellite-automation",
>>>>>>> 33f5da32567b4abcbd972e999dd33e3649aea193
   "metadata": {},
   "outputs": [],
   "source": [
    "# строим модель\n",
    "class Polynomial3(torch.nn.Module):\n",
    "    \n",
    "    # инициализируем составные части модели\n",
    "    def __init__(self,p=3):\n",
    "        super().__init__()\n",
    "        self.linear = torch.nn.Linear(p, 1) # линейное преобразование\n",
    "        self.flatten = torch.nn.Flatten(0,1) # убираем лишние размерности\n",
    "        # параметры polynomial_features [1,2,3,...]\n",
    "        self.pow = torch.tensor( list(range(1,p+1)), requires_grad=False) \n",
    "            \n",
    "    # дополнительная функция,\n",
    "    #  преобразуем денные, добавляем столбцы в матрицу датасета            \n",
    "    def polynomial_features(self,x):\n",
    "         # tensor (x, x^2, x^3).\n",
    "        return x.unsqueeze(-1).pow( self.pow )\n",
    "\n",
    "    # прямой проход, алгоритм вычисления выхода модели\n",
    "    def forward(self, x):\n",
    "        out = self.polynomial_features(x)\n",
    "        out = self.linear( out)\n",
    "        out = self.flatten(out)\n",
    "        return out\n"
   ]
  },
  {
   "cell_type": "code",
<<<<<<< HEAD
   "execution_count": 7,
=======
   "execution_count": null,
   "id": "convinced-egypt",
>>>>>>> 33f5da32567b4abcbd972e999dd33e3649aea193
   "metadata": {},
   "outputs": [],
   "source": [
    "# создаём модель\n",
    "model = Polynomial3()"
   ]
  },
  {
   "cell_type": "code",
<<<<<<< HEAD
   "execution_count": 8,
=======
   "execution_count": null,
   "id": "delayed-amateur",
>>>>>>> 33f5da32567b4abcbd972e999dd33e3649aea193
   "metadata": {},
   "outputs": [],
   "source": [
    "criterion = torch.nn.MSELoss(reduction='sum') # функция потери\n",
    "optimizer = torch.optim.SGD(model.parameters(), lr=1e-6) # метод оптимизации"
   ]
  },
  {
   "cell_type": "code",
<<<<<<< HEAD
   "execution_count": 9,
=======
   "execution_count": null,
   "id": "described-employee",
>>>>>>> 33f5da32567b4abcbd972e999dd33e3649aea193
   "metadata": {},
   "outputs": [],
   "source": [
    "%%time\n",
    "\n",
    "err_hist = [] # история изменения значений функции потери\n",
    "\n",
    "# цикл обучения \n",
    "for t in range(2000):\n",
    "    y_pred = model(x) # вычисляем выход\n",
    "    loss = criterion(y_pred, y) # вычисляем потерю\n",
    "    err_hist.append( loss.item() )   \n",
    "    optimizer.zero_grad() # очищаем предыдущее значение градиента\n",
    "    loss.backward()  # вычисляем текущее значение градиента ф-ции потери\n",
    "    optimizer.step() # изменение параметров"
   ]
  },
  {
   "cell_type": "code",
<<<<<<< HEAD
   "execution_count": 12,
=======
   "execution_count": null,
   "id": "careful-shannon",
>>>>>>> 33f5da32567b4abcbd972e999dd33e3649aea193
   "metadata": {},
   "outputs": [],
   "source": [
    "plt.plot(err_hist[100:])"
   ]
  },
  {
   "cell_type": "markdown",
   "metadata": {},
   "source": [
    "----"
   ]
  },
  {
   "cell_type": "code",
<<<<<<< HEAD
   "execution_count": 13,
=======
   "execution_count": null,
   "id": "serial-photographer",
>>>>>>> 33f5da32567b4abcbd972e999dd33e3649aea193
   "metadata": {},
   "outputs": [],
   "source": [
    "# проверяем результат\n",
    "\n",
    "# выключаем расчёт градиентов\n",
    "with torch.set_grad_enabled(False):\n",
    "    y_pred = model(x) # вычисляем значения регресии\n",
    "\n",
    "# рисуем результат    \n",
    "plt.plot(x,y,label='data')\n",
    "plt.plot(x,y_pred,label='predict')\n",
    "plt.legend()"
   ]
  },
  {
   "cell_type": "code",
   "execution_count": null,
   "metadata": {},
   "outputs": [],
   "source": [
    "# from torchsummary import summary\n",
    "# summary(model.to('cuda:0'),(1,4))"
   ]
  },
  {
   "cell_type": "code",
   "execution_count": null,
   "id": "historic-paste",
   "metadata": {},
   "outputs": [],
   "source": []
  }
 ],
 "metadata": {
  "kernelspec": {
   "display_name": "Python 3",
   "language": "python",
   "name": "python3"
  },
  "language_info": {
   "codemirror_mode": {
    "name": "ipython",
    "version": 3
   },
   "file_extension": ".py",
   "mimetype": "text/x-python",
   "name": "python",
   "nbconvert_exporter": "python",
   "pygments_lexer": "ipython3",
<<<<<<< HEAD
   "version": "3.9.0"
=======
   "version": "3.9.3"
>>>>>>> 33f5da32567b4abcbd972e999dd33e3649aea193
  },
  "toc": {
   "base_numbering": 1,
   "nav_menu": {},
   "number_sections": true,
   "sideBar": true,
   "skip_h1_title": false,
   "title_cell": "Table of Contents",
   "title_sidebar": "Contents",
   "toc_cell": false,
   "toc_position": {},
   "toc_section_display": true,
   "toc_window_display": false
  }
 },
 "nbformat": 4,
 "nbformat_minor": 5
}
