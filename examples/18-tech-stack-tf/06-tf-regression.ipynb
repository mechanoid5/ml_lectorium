{
 "cells": [
  {
   "cell_type": "markdown",
   "metadata": {},
   "source": [
    "**регрессия на TensorFlow**\n",
    "\n",
    "Евгений Борисов <borisov.e@solarl.ru>"
   ]
  },
  {
   "cell_type": "code",
   "execution_count": 1,
   "metadata": {},
   "outputs": [],
   "source": [
    "import numpy as np\n",
    "import matplotlib.pyplot as plt\n",
    "import tensorflow as tf"
   ]
  },
  {
   "cell_type": "code",
   "execution_count": 2,
   "metadata": {},
   "outputs": [
    {
     "name": "stdout",
     "output_type": "stream",
     "text": [
      "2.3.1\n"
     ]
    }
   ],
   "source": [
    "print(tf.__version__)"
   ]
  },
  {
   "cell_type": "code",
   "execution_count": 3,
   "metadata": {},
   "outputs": [],
   "source": [
    "# генеруем набор данных (случайные точки) \n",
    "n_observations = 100\n",
    "xs = np.linspace(-3, 3, n_observations).reshape(n_observations,1)\n",
    "ys = np.sin(xs) + np.random.uniform(-0.5, 0.5, n_observations).reshape(n_observations,1)"
   ]
  },
  {
   "cell_type": "code",
   "execution_count": 4,
   "metadata": {},
   "outputs": [
    {
     "data": {
      "image/png": "[encoded data removed]",
      "text/plain": [
       "<Figure size 432x288 with 1 Axes>"
      ]
     },
     "metadata": {
      "needs_background": "light"
     },
     "output_type": "display_data"
    }
   ],
   "source": [
    "# рисуем набор данных\n",
    "axes = plt.gca()\n",
    "axes.set_xlim([-3.1,3.1])\n",
    "axes.set_ylim([-1.6,1.6])\n",
    "\n",
    "plt.scatter(xs, ys, label=\"data\")\n",
    "plt.grid(True)\n",
    "plt.show()"
   ]
  },
  {
   "cell_type": "code",
   "execution_count": 5,
   "metadata": {},
   "outputs": [],
   "source": [
    "# модифицируем набор данных для реализации полиномиальной регресии\n",
    "from sklearn.preprocessing import PolynomialFeatures\n",
    "xp = PolynomialFeatures(degree=3).fit_transform(xs)"
   ]
  },
  {
   "cell_type": "code",
   "execution_count": 6,
   "metadata": {},
   "outputs": [
    {
     "ename": "AttributeError",
     "evalue": "module 'tensorflow' has no attribute 'placeholder'",
     "output_type": "error",
     "traceback": [
      "\u001b[0;31m---------------------------------------------------------------------------\u001b[0m",
      "\u001b[0;31mAttributeError\u001b[0m                            Traceback (most recent call last)",
      "\u001b[0;32m<ipython-input-6-cbb5c36e8928>\u001b[0m in \u001b[0;36m<module>\u001b[0;34m\u001b[0m\n\u001b[1;32m      1\u001b[0m \u001b[0;31m# определяем переменные tensorflow для данных\u001b[0m\u001b[0;34m\u001b[0m\u001b[0;34m\u001b[0m\u001b[0;34m\u001b[0m\u001b[0m\n\u001b[0;32m----> 2\u001b[0;31m \u001b[0mX\u001b[0m \u001b[0;34m=\u001b[0m \u001b[0mtf\u001b[0m\u001b[0;34m.\u001b[0m\u001b[0mplaceholder\u001b[0m\u001b[0;34m(\u001b[0m\u001b[0mtf\u001b[0m\u001b[0;34m.\u001b[0m\u001b[0mfloat32\u001b[0m\u001b[0;34m,\u001b[0m\u001b[0mshape\u001b[0m\u001b[0;34m=\u001b[0m\u001b[0;34m(\u001b[0m\u001b[0mxp\u001b[0m\u001b[0;34m.\u001b[0m\u001b[0mshape\u001b[0m\u001b[0;34m)\u001b[0m\u001b[0;34m)\u001b[0m\u001b[0;34m\u001b[0m\u001b[0;34m\u001b[0m\u001b[0m\n\u001b[0m\u001b[1;32m      3\u001b[0m \u001b[0mY\u001b[0m \u001b[0;34m=\u001b[0m \u001b[0mtf\u001b[0m\u001b[0;34m.\u001b[0m\u001b[0mplaceholder\u001b[0m\u001b[0;34m(\u001b[0m\u001b[0mtf\u001b[0m\u001b[0;34m.\u001b[0m\u001b[0mfloat32\u001b[0m\u001b[0;34m)\u001b[0m\u001b[0;34m\u001b[0m\u001b[0;34m\u001b[0m\u001b[0m\n",
      "\u001b[0;31mAttributeError\u001b[0m: module 'tensorflow' has no attribute 'placeholder'"
     ]
    }
   ],
   "source": [
    "# определяем переменные tensorflow для данных \n",
    "X = tf.placeholder(tf.float32,shape=(xp.shape))\n",
    "Y = tf.placeholder(tf.float32)"
   ]
  },
  {
   "cell_type": "code",
   "execution_count": null,
   "metadata": {},
   "outputs": [],
   "source": [
    "# вектор весов\n",
    "W = tf.Variable(tf.random_normal([xp.shape[1],1]), name='weight')\n",
    "# коэффициент сдвига\n",
    "b = tf.Variable(tf.zeros([1]), name='bias')"
   ]
  },
  {
   "cell_type": "code",
   "execution_count": null,
   "metadata": {},
   "outputs": [],
   "source": [
    "Y_pred = tf.add(tf.matmul(X, W), b) # регрессия"
   ]
  },
  {
   "cell_type": "code",
   "execution_count": null,
   "metadata": {},
   "outputs": [],
   "source": [
    "# функция стоимости (потеря)\n",
    "cost = tf.reduce_mean( tf.square(Y_pred - Y) )\n",
    "\n",
    "learning_rate = 0.001 # скорость обучения\n",
    "\n",
    "# минимизация функции стоимости методом градиентного спуска\n",
    "optimizer = tf.train.GradientDescentOptimizer(learning_rate).minimize(cost)\n",
    "\n",
    "n_epochs = int(1e4) # количество циклов обучения\n",
    "training_cost_min = 0.09 # порог допустимой ошибки\n",
    "\n",
    "with tf.Session() as sess: # создаём сессию для выполнения вычислений\n",
    "    # sess.run(tf.initialize_all_variables()) # инициализируем переменные\n",
    "    sess.run(tf.global_variables_initializer())\n",
    "    \n",
    "    # начальное состояние параметров регрессии\n",
    "    yr0 = yr = Y_pred.eval( feed_dict={X: xp}, session=sess)\n",
    "    \n",
    "    for epoch_i in range(n_epochs): # цикл обучения\n",
    "        sess.run(optimizer, feed_dict={X: xp, Y: ys}) # выполняем шаг обучения\n",
    "        \n",
    "        # оцениваем текущее состояние\n",
    "        training_cost = sess.run( cost, feed_dict={X: xp, Y: ys}) \n",
    "        \n",
    "        if not(epoch_i % 100): # печатаем состояние каждую 100 итерацию\n",
    "            print(\"cost [\",epoch_i,\"]:\",training_cost,end='\\r')\n",
    "        if training_cost < training_cost_min:\n",
    "            break # останавливаемся, если достигнут порог ошибки \n",
    "     \n",
    "    print(\"cost [\",epoch_i,\"]:\",training_cost,end='\\r')\n",
    "    # рисуем результат\n",
    "    yr = Y_pred.eval( feed_dict={X: xp}, session=sess)"
   ]
  },
  {
   "cell_type": "code",
   "execution_count": null,
   "metadata": {},
   "outputs": [],
   "source": [
    "axes = plt.gca()\n",
    "axes.set_xlim([-3.1,3.1])\n",
    "axes.set_ylim([-1.6,1.6])\n",
    "\n",
    "plt.scatter(xs, ys, label=\"data\")\n",
    "plt.plot(xs, yr0, '-', c='green',label='init') \n",
    "plt.plot(xs, yr, '-', c='red',label='result')\n",
    "plt.legend( loc=\"upper left\")\n",
    "plt.show()\n",
    "# plt.savefig('result/plot0.png', dpi=60)"
   ]
  },
  {
   "cell_type": "code",
   "execution_count": null,
   "metadata": {},
   "outputs": [],
   "source": []
  }
 ],
 "metadata": {
  "kernelspec": {
   "display_name": "Python 3",
   "language": "python",
   "name": "python3"
  },
  "language_info": {
   "codemirror_mode": {
    "name": "ipython",
    "version": 3
   },
   "file_extension": ".py",
   "mimetype": "text/x-python",
   "name": "python",
   "nbconvert_exporter": "python",
   "pygments_lexer": "ipython3",
   "version": "3.8.6"
  },
  "toc": {
   "base_numbering": 1,
   "nav_menu": {},
   "number_sections": true,
   "sideBar": true,
   "skip_h1_title": false,
   "title_cell": "Table of Contents",
   "title_sidebar": "Contents",
   "toc_cell": false,
   "toc_position": {},
   "toc_section_display": true,
   "toc_window_display": false
  }
 },
 "nbformat": 4,
 "nbformat_minor": 2
}
