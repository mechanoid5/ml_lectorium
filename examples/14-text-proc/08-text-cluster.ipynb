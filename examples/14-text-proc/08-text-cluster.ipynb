{
 "cells": [
  {
   "cell_type": "markdown",
   "metadata": {},
   "source": [
    "**извлечение признаков из текста на естественном языке**\n",
    "\n",
    "класстеризатор текстов\n",
    "\n",
    "частотный анализ с очисткой стоп-слов (TF)\n",
    "\n",
    "Евгений Борисов borisov.e@solarl.ru"
   ]
  },
  {
   "cell_type": "markdown",
   "metadata": {},
   "source": [
    "## библиотеки"
   ]
  },
  {
   "cell_type": "code",
   "execution_count": 1,
   "metadata": {},
   "outputs": [],
   "source": [
    "import numpy as np\n",
    "import pandas as pd\n",
    "import re"
   ]
  },
  {
   "cell_type": "code",
   "execution_count": 2,
   "metadata": {},
   "outputs": [],
   "source": [
    "from sklearn.feature_extraction.text import TfidfVectorizer\n",
    "from sklearn.cluster import KMeans"
   ]
  },
  {
   "cell_type": "code",
   "execution_count": 3,
   "metadata": {},
   "outputs": [],
   "source": [
    "pd.options.display.max_colwidth = 200  "
   ]
  },
  {
   "cell_type": "markdown",
   "metadata": {},
   "source": [
    "## тексты"
   ]
  },
  {
   "cell_type": "code",
   "execution_count": 4,
   "metadata": {},
   "outputs": [
    {
     "name": "stdout",
     "output_type": "stream",
     "text": [
      "записей: 3196\n"
     ]
    }
   ],
   "source": [
    "# загружаем тексты\n",
    "data = pd.read_pickle('../data/text/news.pkl')\n",
    "print('записей:',len(data))"
   ]
  },
  {
   "cell_type": "code",
   "execution_count": 5,
   "metadata": {},
   "outputs": [
    {
     "data": {
      "text/html": [
       "<div>\n",
       "<style scoped>\n",
       "    .dataframe tbody tr th:only-of-type {\n",
       "        vertical-align: middle;\n",
       "    }\n",
       "\n",
       "    .dataframe tbody tr th {\n",
       "        vertical-align: top;\n",
       "    }\n",
       "\n",
       "    .dataframe thead th {\n",
       "        text-align: right;\n",
       "    }\n",
       "</style>\n",
       "<table border=\"1\" class=\"dataframe\">\n",
       "  <thead>\n",
       "    <tr style=\"text-align: right;\">\n",
       "      <th></th>\n",
       "      <th>text</th>\n",
       "      <th>tag</th>\n",
       "    </tr>\n",
       "  </thead>\n",
       "  <tbody>\n",
       "    <tr>\n",
       "      <th>806</th>\n",
       "      <td>\"Вежливые люди\" 1939 года. История глазами стариков, переживших шесть властей\\n\\n5 декабря 2016 в 14:52\\n\\nTUT.BY\\n\\nЖурналист и писатель Василий Сарычев уже пятнадцать лет записывает воспоминания...</td>\n",
       "      <td>politics</td>\n",
       "    </tr>\n",
       "    <tr>\n",
       "      <th>700</th>\n",
       "      <td>Гомельские строители утверждают, что их \"кинули\" в Жлобине. Бизнесмен: \"Это ложь и клевета\"\\n\\n9 декабря 2016 в 13:45\\n\\nЕлена Бычкова / TUT.BY\\n\\nВ редакцию TUT. BY обратились строители одной из ...</td>\n",
       "      <td>incident</td>\n",
       "    </tr>\n",
       "  </tbody>\n",
       "</table>\n",
       "</div>"
      ],
      "text/plain": [
       "                                                                                                                                                                                                        text  \\\n",
       "806  \"Вежливые люди\" 1939 года. История глазами стариков, переживших шесть властей\\n\\n5 декабря 2016 в 14:52\\n\\nTUT.BY\\n\\nЖурналист и писатель Василий Сарычев уже пятнадцать лет записывает воспоминания...   \n",
       "700  Гомельские строители утверждают, что их \"кинули\" в Жлобине. Бизнесмен: \"Это ложь и клевета\"\\n\\n9 декабря 2016 в 13:45\\n\\nЕлена Бычкова / TUT.BY\\n\\nВ редакцию TUT. BY обратились строители одной из ...   \n",
       "\n",
       "          tag  \n",
       "806  politics  \n",
       "700  incident  "
      ]
     },
     "execution_count": 5,
     "metadata": {},
     "output_type": "execute_result"
    }
   ],
   "source": [
    "data.sample(2)"
   ]
  },
  {
   "cell_type": "markdown",
   "metadata": {},
   "source": [
    "## токенизация и очистка"
   ]
  },
  {
   "cell_type": "code",
   "execution_count": 6,
   "metadata": {},
   "outputs": [],
   "source": [
    "from Stemmer import Stemmer\n",
    "# pacman -S python-pystemmer\n",
    "# pip install pystemmer"
   ]
  },
  {
   "cell_type": "code",
   "execution_count": 7,
   "metadata": {},
   "outputs": [],
   "source": [
    "stopwords = [\n",
    "    'и', 'в', 'во', 'не', 'что', 'он', 'на', 'я', 'с', 'со', 'как', 'а', 'то', 'все', 'она', \n",
    "    'так', 'его', 'но',  'да', 'ты', 'к', 'у', 'же', 'вы', 'за', 'бы', 'по', 'только', 'ее', \n",
    "    'мне', 'было', 'вот', 'от', 'меня', 'еще', 'нет', 'о', 'из', 'ему', 'теперь', 'когда', \n",
    "    'даже', 'ну', 'вдруг', 'ли', 'если', 'уже', 'или',  'ни', 'быть', 'был', 'него', 'до', \n",
    "    'вас', 'нибудь', 'опять', 'уж', 'вам', 'ведь', 'там', 'потом', 'себя', 'ничего', 'ей', \n",
    "    'может', 'они', 'тут', 'где', 'есть', 'надо', 'ней', 'для', 'мы', 'тебя', 'их', 'чем',\n",
    "    'была', 'сам', 'чтоб', 'без', 'будто', 'чего', 'раз', 'тоже', 'себе', 'под', 'будет', \n",
    "    'ж', 'тогда', 'кто','этот', 'того', 'потому', 'этого', 'какой', 'совсем', 'ним', 'здесь', \n",
    "    'этом', 'один', 'почти', 'мой', 'тем','чтобы', 'нее', 'сейчас', 'были', 'куда', 'зачем',\n",
    "    'всех', 'никогда', 'можно', 'при', 'наконец', 'два','об', 'другой', 'хоть', 'после', \n",
    "    'над', 'больше', 'тот', 'через', 'эти', 'нас', 'про', 'всего', 'них','какая', 'много', \n",
    "    'разве', 'три', 'эту', 'моя', 'впрочем', 'хорошо', 'свою', 'этой', 'перед', 'иногда',\n",
    "    'лучше', 'чуть', 'том', 'нельзя', 'такой', 'им', 'более', \n",
    "    'всегда', 'конечно', 'всю', 'между']"
   ]
  },
  {
   "cell_type": "code",
   "execution_count": 8,
   "metadata": {},
   "outputs": [],
   "source": [
    "def preprocessor(text):\n",
    "    tt = [ t for t in text.split() if t ]\n",
    "    tt = [ t.lower()  for t in tt ] # приведение в lowercase\n",
    "    tt = [ re.sub( r'https?://[\\S]+', 'url', t)  for t in tt ]  # замена интернет ссылок\n",
    "    tt = [ re.sub( r'[\\w\\./]+\\.[a-z]+', 'url', t) for t in tt  ]  # замена интернет ссылок \n",
    "    tt = [ re.sub( r'<[^>]*>', '', t)  for t in tt ] # удаление html тагов\n",
    "    tt = [ re.sub( r'\\W', '', t)  for t in tt ] # удаление лишних символов (НЕ буква и НЕ цифра)\n",
    "    tt = [ t for t in tt if t not in stopwords ] # удаление (предлогов)\n",
    "    tt = Stemmer('russian').stemWords( tt ) # стемминг, выделение основы слова\n",
    "    tt = [ re.sub( r'\\b\\d+\\b', 'digit', t ) for t in tt ] # замена цифр\n",
    "    tt = [ t for t in tt if len(t)>2 ] # удаление коротких слов (предлогов)\n",
    "    return ' '.join( [ t.strip() for t in tt if t ] )\n",
    "    "
   ]
  },
  {
   "cell_type": "markdown",
   "metadata": {},
   "source": [
    "##  CountVectorizer + TF"
   ]
  },
  {
   "cell_type": "code",
   "execution_count": 9,
   "metadata": {},
   "outputs": [
    {
     "data": {
      "text/plain": [
       "TfidfVectorizer(analyzer='word', binary=False, decode_error='strict',\n",
       "        dtype=<class 'numpy.float64'>, encoding='utf-8', input='content',\n",
       "        lowercase=True, max_df=1.0, max_features=None, min_df=1,\n",
       "        ngram_range=(1, 1), norm='l2',\n",
       "        preprocessor=<function preprocessor at 0x7f62fd3ab510>,\n",
       "        smooth_idf=True, stop_words=None, strip_accents=None,\n",
       "        sublinear_tf=False, token_pattern='(?u)\\\\b\\\\w\\\\w+\\\\b',\n",
       "        tokenizer=None, use_idf=False, vocabulary=None)"
      ]
     },
     "execution_count": 9,
     "metadata": {},
     "output_type": "execute_result"
    }
   ],
   "source": [
    "# TfidfVectorizer = CountVectorizer + TfidfTransformer\n",
    "\n",
    "from sklearn.feature_extraction.text import TfidfVectorizer\n",
    "\n",
    "# ручная очистка\n",
    "# tf = TfidfVectorizer(preprocessor=preprocessor,use_idf=False,norm=None)\n",
    "tf = TfidfVectorizer(preprocessor=preprocessor,use_idf=False,norm='l2')\n",
    "\n",
    "tf.fit( data['text'] )"
   ]
  },
  {
   "cell_type": "code",
   "execution_count": 10,
   "metadata": {},
   "outputs": [
    {
     "data": {
      "text/plain": [
       "37614"
      ]
     },
     "execution_count": 10,
     "metadata": {},
     "output_type": "execute_result"
    }
   ],
   "source": [
    "# размер словаря\n",
    "len(tf.vocabulary_)"
   ]
  },
  {
   "cell_type": "markdown",
   "metadata": {},
   "source": [
    "## формируем датасеты"
   ]
  },
  {
   "cell_type": "code",
   "execution_count": 11,
   "metadata": {},
   "outputs": [
    {
     "data": {
      "text/plain": [
       "(3196, 37614)"
      ]
     },
     "execution_count": 11,
     "metadata": {},
     "output_type": "execute_result"
    }
   ],
   "source": [
    "X = tf.transform( data['text'] ) # .todense()\n",
    "X.shape"
   ]
  },
  {
   "cell_type": "markdown",
   "metadata": {},
   "source": [
    "## кластеризируем"
   ]
  },
  {
   "cell_type": "code",
   "execution_count": 12,
   "metadata": {},
   "outputs": [],
   "source": [
    "from time import time\n",
    "def get_seed(): t = time() ; return int(((t%1)/(t//1))*1e11)"
   ]
  },
  {
   "cell_type": "code",
   "execution_count": 13,
   "metadata": {},
   "outputs": [
    {
     "name": "stdout",
     "output_type": "stream",
     "text": [
      "CPU times: user 1min 5s, sys: 53.1 ms, total: 1min 5s\n",
      "Wall time: 55.8 s\n"
     ]
    }
   ],
   "source": [
    "%%time\n",
    "\n",
    "n_clusters = len(set(data['tag']))\n",
    "# n_clusters = 5\n",
    "clust = KMeans(n_clusters=n_clusters, random_state=get_seed() )\n",
    "clust.fit(X)"
   ]
  },
  {
   "cell_type": "code",
   "execution_count": 14,
   "metadata": {},
   "outputs": [],
   "source": [
    "# set(clust.labels_)"
   ]
  },
  {
   "cell_type": "code",
   "execution_count": 15,
   "metadata": {},
   "outputs": [],
   "source": [
    "data['cluster'] = clust.labels_"
   ]
  },
  {
   "cell_type": "markdown",
   "metadata": {},
   "source": [
    "## тестируем"
   ]
  },
  {
   "cell_type": "code",
   "execution_count": 16,
   "metadata": {},
   "outputs": [
    {
     "data": {
      "text/plain": [
       "[206, 508, 156, 48, 835, 46, 681, 63, 154, 131, 57, 238, 73]"
      ]
     },
     "execution_count": 16,
     "metadata": {},
     "output_type": "execute_result"
    }
   ],
   "source": [
    "# размеры кластеров\n",
    "[ (data['cluster']==c).sum() for c in range(n_clusters) ]"
   ]
  },
  {
   "cell_type": "code",
   "execution_count": 19,
   "metadata": {},
   "outputs": [
    {
     "data": {
      "text/html": [
       "<div>\n",
       "<style scoped>\n",
       "    .dataframe tbody tr th:only-of-type {\n",
       "        vertical-align: middle;\n",
       "    }\n",
       "\n",
       "    .dataframe tbody tr th {\n",
       "        vertical-align: top;\n",
       "    }\n",
       "\n",
       "    .dataframe thead th {\n",
       "        text-align: right;\n",
       "    }\n",
       "</style>\n",
       "<table border=\"1\" class=\"dataframe\">\n",
       "  <thead>\n",
       "    <tr style=\"text-align: right;\">\n",
       "      <th></th>\n",
       "      <th>text</th>\n",
       "      <th>tag</th>\n",
       "      <th>cluster</th>\n",
       "    </tr>\n",
       "  </thead>\n",
       "  <tbody>\n",
       "    <tr>\n",
       "      <th>1841</th>\n",
       "      <td>Член Совфеда Юрий Воробьев внес в понедельник на рассмотрение нижней палаты Парламента законопроект, вводящий новый порядок госзакупок для Федеральной службы охраны в Госдуму.\\n\\n«В связи с увелич...</td>\n",
       "      <td>economics</td>\n",
       "      <td>1</td>\n",
       "    </tr>\n",
       "    <tr>\n",
       "      <th>2992</th>\n",
       "      <td>Новая концептуальная автомодельдебютировала в конце августа в Индонезии. Серийная вариация, которая попала на шпионские фотоснимки, обтянута плотной камуфлирующей пленкой. Это мешает рассмотреть э...</td>\n",
       "      <td>auto</td>\n",
       "      <td>1</td>\n",
       "    </tr>\n",
       "    <tr>\n",
       "      <th>91</th>\n",
       "      <td>Новый логотип \"Powered by NetBSD\" The NetBSD Foundation объявило о\\nпоявлении нового логотипа \"Powered by NetBSD\".</td>\n",
       "      <td>tech</td>\n",
       "      <td>1</td>\n",
       "    </tr>\n",
       "    <tr>\n",
       "      <th>2725</th>\n",
       "      <td>Разработчики соцсети разрешили пользователям проводить трансляции в прямом эфире.\\n\\nВладельцы смартфонов iOS и Android после обновления приложения Instagram смогут снимать \"живые\" видео, не перех...</td>\n",
       "      <td>tech</td>\n",
       "      <td>1</td>\n",
       "    </tr>\n",
       "    <tr>\n",
       "      <th>190</th>\n",
       "      <td>Микрочипы составят зрителю личную телепрограмму Похоже, скоро во всём\\nмире людям начнуть вшивать RFID-чипы ещё при рождении. По крайней мере,\\nна это явно надеется компания TiVo, иначе с чего бы ...</td>\n",
       "      <td>tech</td>\n",
       "      <td>1</td>\n",
       "    </tr>\n",
       "    <tr>\n",
       "      <th>1275</th>\n",
       "      <td>Создан первый язык программирования для \"гопников и реальных пацанов\"\\n\\n9 декабря 2016 в 17:23\\n\\n42.TUT.BY\\n\\nСтуденты Петербургского колледжа создали YoptaScript — первый язык для «гопников и р...</td>\n",
       "      <td>tech</td>\n",
       "      <td>1</td>\n",
       "    </tr>\n",
       "    <tr>\n",
       "      <th>395</th>\n",
       "      <td>Triplex начинает сотрудничество с Planet Funk 18 ноября Triplex подписал\\nсоглашение с продюсерами группы Planet Funk о записи трека для совместного\\nпроекта. К работе в неапольской студии Sun Rec...</td>\n",
       "      <td>culture</td>\n",
       "      <td>1</td>\n",
       "    </tr>\n",
       "    <tr>\n",
       "      <th>1766</th>\n",
       "      <td>06:20\\n\\nНовый член совета директоров Банка России Ольга Полякова, которая возглавляет главное управление по Центральному федеральному округу (ЦФО), будет назначена зампредом ЦБ. Об этом пишет «Ко...</td>\n",
       "      <td>economics</td>\n",
       "      <td>1</td>\n",
       "    </tr>\n",
       "    <tr>\n",
       "      <th>346</th>\n",
       "      <td>Партия зеленых: Трехпроцентный барьер мы будем преодолевать с разгона\\nВопрос самостоятельного участия Партии зеленых Украины в парламентских\\nвыборах или блокирования с другими политическими сила...</td>\n",
       "      <td>politics</td>\n",
       "      <td>1</td>\n",
       "    </tr>\n",
       "    <tr>\n",
       "      <th>83</th>\n",
       "      <td>Настройка печати под FreeBSD Константин Насонов написал статью про настройку\\nсистемы сервера печати под FreeBSD, используя CUPS.</td>\n",
       "      <td>tech</td>\n",
       "      <td>1</td>\n",
       "    </tr>\n",
       "  </tbody>\n",
       "</table>\n",
       "</div>"
      ],
      "text/plain": [
       "                                                                                                                                                                                                         text  \\\n",
       "1841  Член Совфеда Юрий Воробьев внес в понедельник на рассмотрение нижней палаты Парламента законопроект, вводящий новый порядок госзакупок для Федеральной службы охраны в Госдуму.\\n\\n«В связи с увелич...   \n",
       "2992  Новая концептуальная автомодельдебютировала в конце августа в Индонезии. Серийная вариация, которая попала на шпионские фотоснимки, обтянута плотной камуфлирующей пленкой. Это мешает рассмотреть э...   \n",
       "91                                                                                         Новый логотип \"Powered by NetBSD\" The NetBSD Foundation объявило о\\nпоявлении нового логотипа \"Powered by NetBSD\".   \n",
       "2725  Разработчики соцсети разрешили пользователям проводить трансляции в прямом эфире.\\n\\nВладельцы смартфонов iOS и Android после обновления приложения Instagram смогут снимать \"живые\" видео, не перех...   \n",
       "190   Микрочипы составят зрителю личную телепрограмму Похоже, скоро во всём\\nмире людям начнуть вшивать RFID-чипы ещё при рождении. По крайней мере,\\nна это явно надеется компания TiVo, иначе с чего бы ...   \n",
       "1275  Создан первый язык программирования для \"гопников и реальных пацанов\"\\n\\n9 декабря 2016 в 17:23\\n\\n42.TUT.BY\\n\\nСтуденты Петербургского колледжа создали YoptaScript — первый язык для «гопников и р...   \n",
       "395   Triplex начинает сотрудничество с Planet Funk 18 ноября Triplex подписал\\nсоглашение с продюсерами группы Planet Funk о записи трека для совместного\\nпроекта. К работе в неапольской студии Sun Rec...   \n",
       "1766  06:20\\n\\nНовый член совета директоров Банка России Ольга Полякова, которая возглавляет главное управление по Центральному федеральному округу (ЦФО), будет назначена зампредом ЦБ. Об этом пишет «Ко...   \n",
       "346   Партия зеленых: Трехпроцентный барьер мы будем преодолевать с разгона\\nВопрос самостоятельного участия Партии зеленых Украины в парламентских\\nвыборах или блокирования с другими политическими сила...   \n",
       "83                                                                          Настройка печати под FreeBSD Константин Насонов написал статью про настройку\\nсистемы сервера печати под FreeBSD, используя CUPS.   \n",
       "\n",
       "            tag  cluster  \n",
       "1841  economics        1  \n",
       "2992       auto        1  \n",
       "91         tech        1  \n",
       "2725       tech        1  \n",
       "190        tech        1  \n",
       "1275       tech        1  \n",
       "395     culture        1  \n",
       "1766  economics        1  \n",
       "346    politics        1  \n",
       "83         tech        1  "
      ]
     },
     "execution_count": 19,
     "metadata": {},
     "output_type": "execute_result"
    }
   ],
   "source": [
    "data[ data['cluster']==1 ].sample(10)"
   ]
  },
  {
   "cell_type": "code",
   "execution_count": null,
   "metadata": {},
   "outputs": [],
   "source": [
    "# data[ data['cluster']==1 ].sample(10)"
   ]
  },
  {
   "cell_type": "code",
   "execution_count": null,
   "metadata": {},
   "outputs": [],
   "source": [
    "# data[ data['cluster']==2 ].sample(10)"
   ]
  },
  {
   "cell_type": "code",
   "execution_count": null,
   "metadata": {},
   "outputs": [],
   "source": [
    "# data[ data['cluster']==4 ].sample(10)"
   ]
  },
  {
   "cell_type": "code",
   "execution_count": null,
   "metadata": {},
   "outputs": [],
   "source": [
    "# data[ data['cluster']==9 ].sample(10)"
   ]
  },
  {
   "cell_type": "code",
   "execution_count": null,
   "metadata": {},
   "outputs": [],
   "source": []
  }
 ],
 "metadata": {
  "kernelspec": {
   "display_name": "Python 3",
   "language": "python",
   "name": "python3"
  },
  "language_info": {
   "codemirror_mode": {
    "name": "ipython",
    "version": 3
   },
   "file_extension": ".py",
   "mimetype": "text/x-python",
   "name": "python",
   "nbconvert_exporter": "python",
   "pygments_lexer": "ipython3",
   "version": "3.7.1"
  },
  "toc": {
   "base_numbering": 1,
   "nav_menu": {},
   "number_sections": true,
   "sideBar": true,
   "skip_h1_title": false,
   "title_cell": "Table of Contents",
   "title_sidebar": "Contents",
   "toc_cell": false,
   "toc_position": {},
   "toc_section_display": true,
   "toc_window_display": true
  }
 },
 "nbformat": 4,
 "nbformat_minor": 2
}
