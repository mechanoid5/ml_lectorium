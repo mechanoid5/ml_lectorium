{
 "cells": [
  {
   "cell_type": "code",
   "execution_count": 5,
   "metadata": {},
   "outputs": [],
   "source": [
    "import numpy as np"
   ]
  },
  {
   "cell_type": "code",
   "execution_count": 20,
   "metadata": {},
   "outputs": [
    {
     "name": "stdout",
     "output_type": "stream",
     "text": [
      "[[0.18114295 0.24013695]\n",
      " [0.70252554 0.40703712]\n",
      " [0.74798972 0.38878819]\n",
      " [0.99014075 0.04968415]\n",
      " [0.66696682 0.16796746]]\n",
      "\n",
      "\n",
      "[[0.86666819 0.71940704]\n",
      " [0.04157076 0.97934161]\n",
      " [0.41313096 0.30949367]\n",
      " [0.99039659 0.49561373]\n",
      " [0.89730862 0.30390587]]\n"
     ]
    }
   ],
   "source": [
    "n=5\n",
    "x=np.random.rand(n,2)\n",
    "y=np.random.rand(n,2)\n",
    "\n",
    "print(x)\n",
    "print('\\n')\n",
    "print(y)\n"
   ]
  },
  {
   "cell_type": "code",
   "execution_count": 21,
   "metadata": {},
   "outputs": [
    {
     "data": {
      "text/plain": [
       "array([0.83644765, 0.87429608, 0.34411919, 0.44592966, 0.26746326])"
      ]
     },
     "execution_count": 21,
     "metadata": {},
     "output_type": "execute_result"
    }
   ],
   "source": [
    "# евклидова\n",
    "np.sqrt(np.square(x-y).sum(axis=1))"
   ]
  },
  {
   "cell_type": "code",
   "execution_count": 22,
   "metadata": {},
   "outputs": [
    {
     "data": {
      "text/plain": [
       "array([0.69964468, 0.76439364, 0.11841801, 0.19885326, 0.0715366 ])"
      ]
     },
     "execution_count": 22,
     "metadata": {},
     "output_type": "execute_result"
    }
   ],
   "source": [
    "# евклидова квадрат\n",
    "np.square(x-y).sum(axis=1)"
   ]
  },
  {
   "cell_type": "code",
   "execution_count": 23,
   "metadata": {},
   "outputs": [
    {
     "data": {
      "text/plain": [
       "array([0.97327484, 0.53756805, 0.98664611, 0.91558087, 0.99681348])"
      ]
     },
     "execution_count": 23,
     "metadata": {},
     "output_type": "execute_result"
    }
   ],
   "source": [
    "# косинусная\n",
    "(x*y).sum(axis=1) / ( np.linalg.norm(x,axis=1)*np.linalg.norm(y,axis=1) )"
   ]
  },
  {
   "cell_type": "code",
   "execution_count": 24,
   "metadata": {},
   "outputs": [
    {
     "data": {
      "text/plain": [
       "array([0.32974705, 0.42783291, 0.42934519, 1.00525616, 0.64952138])"
      ]
     },
     "execution_count": 24,
     "metadata": {},
     "output_type": "execute_result"
    }
   ],
   "source": [
    "# косинусная ненормированная\n",
    "(x*y).sum(axis=1) "
   ]
  },
  {
   "cell_type": "code",
   "execution_count": 25,
   "metadata": {},
   "outputs": [
    {
     "data": {
      "text/plain": [
       "array([1.16479533, 1.23325926, 0.41415329, 0.44618542, 0.36628021])"
      ]
     },
     "execution_count": 25,
     "metadata": {},
     "output_type": "execute_result"
    }
   ],
   "source": [
    "# манхэттенское расстояние\n",
    "np.abs(x-y).sum(axis=1) "
   ]
  },
  {
   "cell_type": "code",
   "execution_count": 26,
   "metadata": {},
   "outputs": [
    {
     "data": {
      "text/plain": [
       "array([0.68552524, 0.66095478, 0.33485877, 0.44592958, 0.2303418 ])"
      ]
     },
     "execution_count": 26,
     "metadata": {},
     "output_type": "execute_result"
    }
   ],
   "source": [
    "# чебышева\n",
    "np.abs(x-y).max(axis=1) "
   ]
  },
  {
   "cell_type": "code",
   "execution_count": 27,
   "metadata": {},
   "outputs": [
    {
     "data": {
      "text/plain": [
       "array([-0.56113317,  0.40154884,  0.16151414, -0.2602818 , -0.08857218])"
      ]
     },
     "execution_count": 27,
     "metadata": {},
     "output_type": "execute_result"
    }
   ],
   "source": [
    "# степенная\n",
    "np.cbrt( np.power(x-y,5).sum(axis=1) )"
   ]
  },
  {
   "cell_type": "code",
   "execution_count": null,
   "metadata": {},
   "outputs": [],
   "source": []
  }
 ],
 "metadata": {
  "kernelspec": {
   "display_name": "Python 3",
   "language": "python",
   "name": "python3"
  },
  "language_info": {
   "codemirror_mode": {
    "name": "ipython",
    "version": 3
   },
   "file_extension": ".py",
   "mimetype": "text/x-python",
   "name": "python",
   "nbconvert_exporter": "python",
   "pygments_lexer": "ipython3",
   "version": "3.7.0"
  },
  "toc": {
   "base_numbering": 1,
   "nav_menu": {},
   "number_sections": true,
   "sideBar": true,
   "skip_h1_title": false,
   "title_cell": "Table of Contents",
   "title_sidebar": "Contents",
   "toc_cell": false,
   "toc_position": {},
   "toc_section_display": true,
   "toc_window_display": false
  }
 },
 "nbformat": 4,
 "nbformat_minor": 2
}
