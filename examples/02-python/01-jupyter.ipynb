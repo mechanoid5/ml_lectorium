{
 "cells": [
  {
   "cell_type": "markdown",
   "metadata": {},
   "source": [
    "**jupyter demo**\n",
    "\n",
    "Евгений Борисов borisov.e@solarl.ru"
   ]
  },
  {
   "cell_type": "markdown",
   "metadata": {},
   "source": [
    "---"
   ]
  },
  {
   "cell_type": "code",
   "execution_count": 1,
   "metadata": {},
   "outputs": [
    {
     "name": "stdout",
     "output_type": "stream",
     "text": [
      "code cell\n"
     ]
    }
   ],
   "source": [
    "print('code cell')"
   ]
  },
  {
   "cell_type": "raw",
   "metadata": {},
   "source": [
    "raw text cell"
   ]
  },
  {
   "cell_type": "markdown",
   "metadata": {},
   "source": [
    "_markdown_ __cell__\n",
    "\n",
    "https://www.mathjax.org\n",
    "\n",
    "\n",
    "$$\n",
    "P(A|B) = \\frac{P(B|A)P(A)}{P(B)}\n",
    "$$\n",
    "\n",
    "$$\n",
    "y = \\sum_i^n x_i^2\n",
    "$$\n",
    "\n",
    "\n"
   ]
  },
  {
   "cell_type": "markdown",
   "metadata": {},
   "source": [
    "----"
   ]
  },
  {
   "cell_type": "code",
   "execution_count": 3,
   "metadata": {},
   "outputs": [],
   "source": [
    "from numpy.random import randint\n",
    "\n",
    "randint?"
   ]
  },
  {
   "cell_type": "code",
   "execution_count": 4,
   "metadata": {},
   "outputs": [
    {
     "data": {
      "application/json": {
       "cell": {
        "!": "OSMagics",
        "HTML": "Other",
        "SVG": "Other",
        "bash": "Other",
        "capture": "ExecutionMagics",
        "debug": "ExecutionMagics",
        "file": "Other",
        "html": "DisplayMagics",
        "javascript": "DisplayMagics",
        "js": "DisplayMagics",
        "latex": "DisplayMagics",
        "markdown": "DisplayMagics",
        "perl": "Other",
        "prun": "ExecutionMagics",
        "pypy": "Other",
        "python": "Other",
        "python2": "Other",
        "python3": "Other",
        "ruby": "Other",
        "script": "ScriptMagics",
        "sh": "Other",
        "svg": "DisplayMagics",
        "sx": "OSMagics",
        "system": "OSMagics",
        "time": "ExecutionMagics",
        "timeit": "ExecutionMagics",
        "writefile": "OSMagics"
       },
       "line": {
        "alias": "OSMagics",
        "alias_magic": "BasicMagics",
        "autoawait": "AsyncMagics",
        "autocall": "AutoMagics",
        "automagic": "AutoMagics",
        "autosave": "KernelMagics",
        "bookmark": "OSMagics",
        "cat": "Other",
        "cd": "OSMagics",
        "clear": "KernelMagics",
        "colors": "BasicMagics",
        "conda": "PackagingMagics",
        "config": "ConfigMagics",
        "connect_info": "KernelMagics",
        "cp": "Other",
        "debug": "ExecutionMagics",
        "dhist": "OSMagics",
        "dirs": "OSMagics",
        "doctest_mode": "BasicMagics",
        "ed": "Other",
        "edit": "KernelMagics",
        "env": "OSMagics",
        "gui": "BasicMagics",
        "hist": "Other",
        "history": "HistoryMagics",
        "killbgscripts": "ScriptMagics",
        "ldir": "Other",
        "less": "KernelMagics",
        "lf": "Other",
        "lk": "Other",
        "ll": "Other",
        "load": "CodeMagics",
        "load_ext": "ExtensionMagics",
        "loadpy": "CodeMagics",
        "logoff": "LoggingMagics",
        "logon": "LoggingMagics",
        "logstart": "LoggingMagics",
        "logstate": "LoggingMagics",
        "logstop": "LoggingMagics",
        "ls": "Other",
        "lsmagic": "BasicMagics",
        "lx": "Other",
        "macro": "ExecutionMagics",
        "magic": "BasicMagics",
        "man": "KernelMagics",
        "matplotlib": "PylabMagics",
        "mkdir": "Other",
        "more": "KernelMagics",
        "mv": "Other",
        "notebook": "BasicMagics",
        "page": "BasicMagics",
        "pastebin": "CodeMagics",
        "pdb": "ExecutionMagics",
        "pdef": "NamespaceMagics",
        "pdoc": "NamespaceMagics",
        "pfile": "NamespaceMagics",
        "pinfo": "NamespaceMagics",
        "pinfo2": "NamespaceMagics",
        "pip": "PackagingMagics",
        "popd": "OSMagics",
        "pprint": "BasicMagics",
        "precision": "BasicMagics",
        "prun": "ExecutionMagics",
        "psearch": "NamespaceMagics",
        "psource": "NamespaceMagics",
        "pushd": "OSMagics",
        "pwd": "OSMagics",
        "pycat": "OSMagics",
        "pylab": "PylabMagics",
        "qtconsole": "KernelMagics",
        "quickref": "BasicMagics",
        "recall": "HistoryMagics",
        "rehashx": "OSMagics",
        "reload_ext": "ExtensionMagics",
        "rep": "Other",
        "rerun": "HistoryMagics",
        "reset": "NamespaceMagics",
        "reset_selective": "NamespaceMagics",
        "rm": "Other",
        "rmdir": "Other",
        "run": "ExecutionMagics",
        "save": "CodeMagics",
        "sc": "OSMagics",
        "set_env": "OSMagics",
        "store": "StoreMagics",
        "sx": "OSMagics",
        "system": "OSMagics",
        "tb": "ExecutionMagics",
        "time": "ExecutionMagics",
        "timeit": "ExecutionMagics",
        "unalias": "OSMagics",
        "unload_ext": "ExtensionMagics",
        "who": "NamespaceMagics",
        "who_ls": "NamespaceMagics",
        "whos": "NamespaceMagics",
        "xdel": "NamespaceMagics",
        "xmode": "BasicMagics"
       }
      },
      "text/plain": [
       "Available line magics:\n",
       "%alias  %alias_magic  %autoawait  %autocall  %automagic  %autosave  %bookmark  %cat  %cd  %clear  %colors  %conda  %config  %connect_info  %cp  %debug  %dhist  %dirs  %doctest_mode  %ed  %edit  %env  %gui  %hist  %history  %killbgscripts  %ldir  %less  %lf  %lk  %ll  %load  %load_ext  %loadpy  %logoff  %logon  %logstart  %logstate  %logstop  %ls  %lsmagic  %lx  %macro  %magic  %man  %matplotlib  %mkdir  %more  %mv  %notebook  %page  %pastebin  %pdb  %pdef  %pdoc  %pfile  %pinfo  %pinfo2  %pip  %popd  %pprint  %precision  %prun  %psearch  %psource  %pushd  %pwd  %pycat  %pylab  %qtconsole  %quickref  %recall  %rehashx  %reload_ext  %rep  %rerun  %reset  %reset_selective  %rm  %rmdir  %run  %save  %sc  %set_env  %store  %sx  %system  %tb  %time  %timeit  %unalias  %unload_ext  %who  %who_ls  %whos  %xdel  %xmode\n",
       "\n",
       "Available cell magics:\n",
       "%%!  %%HTML  %%SVG  %%bash  %%capture  %%debug  %%file  %%html  %%javascript  %%js  %%latex  %%markdown  %%perl  %%prun  %%pypy  %%python  %%python2  %%python3  %%ruby  %%script  %%sh  %%svg  %%sx  %%system  %%time  %%timeit  %%writefile\n",
       "\n",
       "Automagic is ON, % prefix IS NOT needed for line magics."
      ]
     },
     "execution_count": 4,
     "metadata": {},
     "output_type": "execute_result"
    }
   ],
   "source": [
    "%lsmagic"
   ]
  },
  {
   "cell_type": "code",
   "execution_count": 5,
   "metadata": {},
   "outputs": [],
   "source": [
    "%time?"
   ]
  },
  {
   "cell_type": "code",
   "execution_count": 9,
   "metadata": {},
   "outputs": [
    {
     "name": "stdout",
     "output_type": "stream",
     "text": [
      "CPU times: user 44 µs, sys: 7 µs, total: 51 µs\n",
      "Wall time: 59.6 µs\n"
     ]
    }
   ],
   "source": [
    "%time x = [ (i*2)/3 for i in range(100) ]"
   ]
  },
  {
   "cell_type": "code",
   "execution_count": 16,
   "metadata": {},
   "outputs": [
    {
     "name": "stdout",
     "output_type": "stream",
     "text": [
      "CPU times: user 4.46 ms, sys: 238 µs, total: 4.7 ms\n",
      "Wall time: 4.35 ms\n"
     ]
    }
   ],
   "source": [
    "%%time\n",
    "\n",
    "x = [ (i*2)/3 for i in range(10000) ]\n",
    "x = sum(x)/23"
   ]
  },
  {
   "cell_type": "markdown",
   "metadata": {},
   "source": [
    "---"
   ]
  },
  {
   "cell_type": "code",
   "execution_count": 41,
   "metadata": {},
   "outputs": [],
   "source": [
    "# https://habr.com/ru/post/457302/"
   ]
  },
  {
   "cell_type": "code",
   "execution_count": 36,
   "metadata": {},
   "outputs": [
    {
     "data": {
      "text/plain": [
       "19"
      ]
     },
     "execution_count": 36,
     "metadata": {},
     "output_type": "execute_result"
    }
   ],
   "source": [
    "10+5          \n",
    "11+6\n",
    "12+7"
   ]
  },
  {
   "cell_type": "code",
   "execution_count": 37,
   "metadata": {},
   "outputs": [],
   "source": [
    "from IPython.core.interactiveshell import InteractiveShell\n",
    "InteractiveShell.ast_node_interactivity = \"all\""
   ]
  },
  {
   "cell_type": "code",
   "execution_count": 38,
   "metadata": {},
   "outputs": [
    {
     "data": {
      "text/plain": [
       "15"
      ]
     },
     "execution_count": 38,
     "metadata": {},
     "output_type": "execute_result"
    },
    {
     "data": {
      "text/plain": [
       "17"
      ]
     },
     "execution_count": 38,
     "metadata": {},
     "output_type": "execute_result"
    },
    {
     "data": {
      "text/plain": [
       "19"
      ]
     },
     "execution_count": 38,
     "metadata": {},
     "output_type": "execute_result"
    }
   ],
   "source": [
    "10+5          \n",
    "11+6\n",
    "12+7"
   ]
  },
  {
   "cell_type": "code",
   "execution_count": 39,
   "metadata": {},
   "outputs": [],
   "source": [
    "InteractiveShell.ast_node_interactivity = \"last_expr\""
   ]
  },
  {
   "cell_type": "code",
   "execution_count": 40,
   "metadata": {},
   "outputs": [
    {
     "data": {
      "text/plain": [
       "19"
      ]
     },
     "execution_count": 40,
     "metadata": {},
     "output_type": "execute_result"
    }
   ],
   "source": [
    "10+5          \n",
    "11+6\n",
    "12+7"
   ]
  },
  {
   "cell_type": "markdown",
   "metadata": {},
   "source": [
    "----"
   ]
  },
  {
   "cell_type": "markdown",
   "metadata": {},
   "source": [
    "<div class=\"alert alert-block alert-info\">\n",
    "<b>Tip:</b> Use blue boxes (alert-info) for tips and notes. \n",
    "If it’s a note, you don’t have to include the word “Note”.\n",
    "</div>"
   ]
  },
  {
   "cell_type": "markdown",
   "metadata": {},
   "source": [
    "<div class=\"alert alert-block alert-warning\">\n",
    "<b>Example:</b> Yellow Boxes are generally used to include additional examples or mathematical formulas.\n",
    "</div>"
   ]
  },
  {
   "cell_type": "markdown",
   "metadata": {},
   "source": [
    "<div class=\"alert alert-block alert-success\">\n",
    "Use green box only when necessary like to display links to related content.\n",
    "</div>"
   ]
  },
  {
   "cell_type": "markdown",
   "metadata": {},
   "source": [
    "<div class=\"alert alert-block alert-danger\">\n",
    "It is good to avoid red boxes but can be used to alert users to not delete some important part of code etc. \n",
    "</div>"
   ]
  },
  {
   "cell_type": "markdown",
   "metadata": {},
   "source": [
    "----"
   ]
  },
  {
   "cell_type": "code",
   "execution_count": 28,
   "metadata": {},
   "outputs": [
    {
     "name": "stdout",
     "output_type": "stream",
     "text": [
      "ulint-pep8 (0.2)                  - PEP8 linter for ulint\r\n",
      "setuptools-pep8 (0.9.0)           - pep8 command for setuptools\r\n",
      "pytest-pep8 (1.0.6)               - pytest plugin to check PEP8 requirements\r\n",
      "django-test-pep8 (0.1)            - PEP8 Tests to Django projects\r\n",
      "pep8 (1.7.1)                      - Python style guide checker\r\n",
      "git-pep8-commit-hook (0.1.0)      - Git commit hook that checks Python files\r\n",
      "                                    with pep8.\r\n",
      "pep8-naming (0.9.1)               - Check PEP-8 naming conventions, plugin for\r\n",
      "                                    flake8\r\n",
      "bashate (1.0.0)                   - A pep8 equivalent for bash scripts\r\n",
      "bash8 (0.1.1)                     - A pep8 equivalent for bash scripts\r\n",
      "jupyter_pep8 (0.1.3)              - Apply PEP8 for Jupyter Notebooks\r\n",
      "pep_quality (1.4.1)               - PEP8 small quality test\r\n",
      "imhotep_pep8 (0.0.3)              - An imhotep plugin for pep8 validation\r\n",
      "blacker (0.1.0)                   - The uncompromising code formatter that\r\n",
      "                                    respects PEP8.\r\n",
      "namalizer (0.1.1)                 - Normalizes method names according to PEP8.\r\n",
      "tissue (0.9.2)                    - Tissue - automated pep8 checker for nose\r\n",
      "pepval (1.5)                      - A PEP8 validator that combines Flake8 and\r\n",
      "                                    PyDocStyle.\r\n",
      "pepper8 (1.1.1)                   - Transforms pep8 or flake8 output into an\r\n",
      "                                    HTML report.\r\n",
      "white (0.1.2)                     - Black, but White instead (PEP8\r\n",
      "                                    line&#8211;lengths).\r\n",
      "pep8ify (0.0.13)                  - Cleans your python code to conform to pep8\r\n",
      "pep8nazi (0.1)                    - PEP8 Nazi: because really, you have no\r\n",
      "                                    excuse.\r\n",
      "aqua-python (1.3)                 - A simple formatter for Python code that\r\n",
      "                                    adheres to the PEP8 standards\r\n",
      "flake8 (3.7.9)                    - the modular source code checker: pep8,\r\n",
      "                                    pyflakes and co\r\n",
      "  INSTALLED: 3.7.9 (latest)\r\n",
      "importanize (0.7.0)               - Utility for organizing Python imports\r\n",
      "                                    using PEP8 or custom rules\r\n",
      "pepper8tc (0.0.1)                 - Transforms pep8 or flake8 output into an\r\n",
      "                                    HTML or TeamCity report output.\r\n",
      "pycodestyle_magic (0.5)           - magic function that checks a cell for pep8\r\n",
      "                                    compliance, using pycodestyle\r\n",
      "githooks (0.5)                    - Set of Git hooks for pep8, pyflakes,\r\n",
      "                                    jslint and trac integration\r\n",
      "pytest-codecheckers (0.2)         - pytest plugin to add source code sanity\r\n",
      "                                    checks (pep8 and friends)\r\n",
      "pyfmt (0.1)                       - automatic code formatter for python\r\n",
      "                                    following pep8 using baron FST, like gofmt\r\n",
      "flurgiwoo (3.141592653589793)     - Mairzy doats and dozy doats and liddle\r\n",
      "                                    lamzy divey. Python 4.0 and PEP8\r\n",
      "                                    compliant.\r\n",
      "py-inspector (0.0.5)              - Possibilita a cria&#231;&#227;o de testes\r\n",
      "                                    para PEP8 e PyLint que ser&#227;o\r\n",
      "                                    executados com nose\r\n",
      "xmlunittestbetter (0.1)           - Library using lxml and unittest for unit\r\n",
      "                                    testing XML. This is an actively\r\n",
      "                                    maintained and PEP8 compliant fork of\r\n",
      "                                    xmlunittest.\r\n",
      "Better-Than-You-Found-It (0.9.1)  - PEP8 clean only the parts of the files\r\n",
      "                                    which you have touched since the last\r\n",
      "                                    commit, a previous commit or (the merge-\r\n",
      "                                    base of) a branch.\r\n",
      "pep8radius (0.9.2)                - PEP8 clean only the parts of the files\r\n",
      "                                    which you have touched since the last\r\n",
      "                                    commit, a previous commit or (the merge-\r\n",
      "                                    base of) a branch.\r\n"
     ]
    }
   ],
   "source": [
    "!pip search pep8 "
   ]
  },
  {
   "cell_type": "code",
   "execution_count": null,
   "metadata": {},
   "outputs": [],
   "source": [
    "# pip install autopep8 "
   ]
  },
  {
   "cell_type": "code",
   "execution_count": 83,
   "metadata": {},
   "outputs": [],
   "source": [
    "# pip uninstall autopep8"
   ]
  },
  {
   "cell_type": "code",
   "execution_count": 29,
   "metadata": {},
   "outputs": [
    {
     "name": "stdout",
     "output_type": "stream",
     "text": [
      "Package                                         Version           \r\n",
      "----------------------------------------------- ------------------\r\n",
      "absl-py                                         0.9.0             \r\n",
      "adal                                            1.2.2             \r\n",
      "anytree                                         2.8.0             \r\n",
      "apipkg                                          1.5               \r\n",
      "appdirs                                         1.4.3             \r\n",
      "asn1crypto                                      1.3.0             \r\n",
      "astor                                           0.8.1             \r\n",
      "atomicwrites                                    1.3.0             \r\n",
      "attrs                                           19.3.0            \r\n",
      "azure-applicationinsights                       0.1.0             \r\n",
      "azure-batch                                     4.1.3             \r\n",
      "azure-cognitiveservices-language-spellcheck     1.0.0             \r\n",
      "azure-cognitiveservices-language-textanalytics  0.1.0             \r\n",
      "azure-cognitiveservices-search-autosuggest      0.1.0             \r\n",
      "azure-cognitiveservices-search-customsearch     0.1.0             \r\n",
      "azure-cognitiveservices-search-entitysearch     1.0.0             \r\n",
      "azure-cognitiveservices-search-imagesearch      1.0.0             \r\n",
      "azure-cognitiveservices-search-newssearch       1.0.0             \r\n",
      "azure-cognitiveservices-search-videosearch      1.0.0             \r\n",
      "azure-cognitiveservices-search-visualsearch     0.1.1             \r\n",
      "azure-cognitiveservices-search-websearch        1.0.0             \r\n",
      "azure-cognitiveservices-vision-computervision   0.2.0             \r\n",
      "azure-cognitiveservices-vision-contentmoderator 0.1.0             \r\n",
      "azure-cognitiveservices-vision-customvision     0.3.0             \r\n",
      "azure-cognitiveservices-vision-face             0.1.0             \r\n",
      "azure-common                                    1.1.14            \r\n",
      "azure-eventgrid                                 1.1.0             \r\n",
      "azure-graphrbac                                 0.40.0            \r\n",
      "azure-keyvault                                  1.0.0             \r\n",
      "azure-loganalytics                              0.1.0             \r\n",
      "azure-mgmt-advisor                              1.0.1             \r\n",
      "azure-mgmt-applicationinsights                  0.1.1             \r\n",
      "azure-mgmt-authorization                        0.50.0            \r\n",
      "azure-mgmt-batch                                5.0.1             \r\n",
      "azure-mgmt-batchai                              2.0.0             \r\n",
      "azure-mgmt-billing                              0.2.0             \r\n",
      "azure-mgmt-botservice                           0.1.0             \r\n",
      "azure-mgmt-cdn                                  3.0.0             \r\n",
      "azure-mgmt-cognitiveservices                    3.0.0             \r\n",
      "azure-mgmt-commerce                             1.0.1             \r\n",
      "azure-mgmt-compute                              4.0.1             \r\n",
      "azure-mgmt-consumption                          2.0.0             \r\n",
      "azure-mgmt-containerinstance                    1.0.0             \r\n",
      "azure-mgmt-containerregistry                    2.1.0             \r\n",
      "azure-mgmt-containerservice                     4.2.0             \r\n",
      "azure-mgmt-cosmosdb                             0.4.1             \r\n",
      "azure-mgmt-datafactory                          0.6.0             \r\n",
      "azure-mgmt-datalake-analytics                   0.6.0             \r\n",
      "azure-mgmt-datalake-store                       0.5.0             \r\n",
      "azure-mgmt-datamigration                        1.0.0             \r\n",
      "azure-mgmt-devspaces                            0.1.0             \r\n",
      "azure-mgmt-devtestlabs                          2.2.0             \r\n",
      "azure-mgmt-dns                                  2.0.0             \r\n",
      "azure-mgmt-documentdb                           0.1.3             \r\n",
      "azure-mgmt-eventgrid                            2.0.0rc1          \r\n",
      "azure-mgmt-eventhub                             2.1.0             \r\n",
      "azure-mgmt-hanaonazure                          0.1.1             \r\n",
      "azure-mgmt-iotcentral                           0.1.0             \r\n",
      "azure-mgmt-iothub                               0.5.0             \r\n",
      "azure-mgmt-iothubprovisioningservices           0.2.0             \r\n",
      "azure-mgmt-keyvault                             1.1.0             \r\n",
      "azure-mgmt-loganalytics                         0.2.0             \r\n",
      "azure-mgmt-logic                                3.0.0             \r\n",
      "azure-mgmt-machinelearningcompute               0.4.1             \r\n",
      "azure-mgmt-managementgroups                     0.1.0             \r\n",
      "azure-mgmt-managementpartner                    0.1.0             \r\n",
      "azure-mgmt-maps                                 0.1.0             \r\n",
      "azure-mgmt-marketplaceordering                  0.1.0             \r\n",
      "azure-mgmt-media                                1.0.0rc2          \r\n",
      "azure-mgmt-monitor                              0.5.2             \r\n",
      "azure-mgmt-msi                                  0.2.0             \r\n",
      "azure-mgmt-network                              2.0.0             \r\n",
      "azure-mgmt-notificationhubs                     2.0.0             \r\n",
      "azure-mgmt-policyinsights                       0.1.0             \r\n",
      "azure-mgmt-powerbiembedded                      2.0.0             \r\n",
      "azure-mgmt-rdbms                                1.2.0             \r\n",
      "azure-mgmt-recoveryservices                     0.3.0             \r\n",
      "azure-mgmt-recoveryservicesbackup               0.3.0             \r\n",
      "azure-mgmt-redis                                5.0.0             \r\n",
      "azure-mgmt-relay                                0.1.0             \r\n",
      "azure-mgmt-reservations                         0.2.1             \r\n",
      "azure-mgmt-resource                             2.0.0             \r\n",
      "azure-mgmt-scheduler                            2.0.0             \r\n",
      "azure-mgmt-search                               2.0.0             \r\n",
      "azure-mgmt-servermanager                        2.0.0             \r\n",
      "azure-mgmt-servicebus                           0.5.1             \r\n",
      "azure-mgmt-servicefabric                        0.2.0             \r\n",
      "azure-mgmt-signalr                              0.1.0             \r\n",
      "azure-mgmt-sql                                  0.9.1             \r\n",
      "azure-mgmt-storage                              2.0.0             \r\n",
      "azure-mgmt-subscription                         0.2.0             \r\n",
      "azure-mgmt-trafficmanager                       0.50.0            \r\n",
      "azure-mgmt-web                                  0.35.0            \r\n",
      "azure-sdk-tools                                 0.0.0             \r\n",
      "azure-servicebus                                0.21.1            \r\n",
      "azure-servicefabric                             6.3.0.0           \r\n",
      "azure-servicemanagement-legacy                  0.20.7            \r\n",
      "azure-storage-blob                              1.5.0             \r\n",
      "azure-storage-common                            1.4.0             \r\n",
      "azure-storage-file                              1.4.0             \r\n",
      "azure-storage-queue                             1.4.0             \r\n",
      "backcall                                        0.1.0             \r\n",
      "bcolz                                           1.2.0             \r\n",
      "Beaker                                          1.11.0            \r\n",
      "bleach                                          3.1.0             \r\n",
      "boto                                            2.49.0            \r\n",
      "boto3                                           1.11.5            \r\n",
      "botocore                                        1.14.5            \r\n",
      "CacheControl                                    0.12.6            \r\n",
      "cachetools                                      3.1.1             \r\n",
      "cachey                                          0.1.1             \r\n",
      "cffi                                            1.13.2            \r\n",
      "chardet                                         3.0.4             \r\n",
      "chart-studio                                    1.0.0             \r\n",
      "cloudpickle                                     1.2.2             \r\n",
      "colorama                                        0.4.3             \r\n",
      "colorlover                                      0.3.0             \r\n",
      "contextlib2                                     0.6.0             \r\n",
      "cryptography                                    2.8               \r\n",
      "cufflinks                                       0.17.0            \r\n",
      "cycler                                          0.10.0            \r\n",
      "Cython                                          0.29.14           \r\n",
      "dask                                            2.9.0             \r\n",
      "DAWG-Python                                     0.7.2             \r\n",
      "decorator                                       4.4.1             \r\n",
      "defusedxml                                      0.6.0             \r\n",
      "distlib                                         0.3.0             \r\n",
      "distro                                          1.4.0             \r\n",
      "docopt                                          0.6.2             \r\n",
      "docutils                                        0.14              \r\n",
      "entrypoints                                     0.3               \r\n",
      "fitparse                                        1.1.0             \r\n",
      "flake8                                          3.7.9             \r\n",
      "fsspec                                          0.6.0             \r\n",
      "gast                                            0.2.2             \r\n",
      "gensim                                          3.8.1             \r\n",
      "google-auth                                     1.7.1             \r\n",
      "google-auth-oauthlib                            0.4.1             \r\n",
      "grpcio                                          1.26.0            \r\n",
      "h5py                                            2.10.0            \r\n",
      "heapdict                                        1.0.0             \r\n",
      "html5lib                                        1.0.1             \r\n",
      "hunspell                                        0.5.5             \r\n",
      "idna                                            2.8               \r\n",
      "importlib-metadata                              1.4.0             \r\n",
      "iniconfig                                       1.0.0             \r\n",
      "ipykernel                                       5.1.3             \r\n",
      "ipython                                         7.11.1            \r\n",
      "ipython-genutils                                0.1.0             \r\n",
      "ipywidgets                                      7.5.1             \r\n",
      "isc                                             2.0               \r\n",
      "isodate                                         0.6.0             \r\n",
      "jedi                                            0.15.1            \r\n",
      "jeepney                                         0.4.2             \r\n",
      "Jinja2                                          2.10.3            \r\n",
      "jmespath                                        0.9.4             \r\n",
      "joblib                                          0.14.1            \r\n",
      "jsonschema                                      3.2.0             \r\n",
      "jupyter-client                                  5.3.4             \r\n",
      "jupyter-console                                 6.0.0             \r\n",
      "jupyter-contrib-core                            0.3.3             \r\n",
      "jupyter-contrib-nbextensions                    0.5.1             \r\n",
      "jupyter-core                                    4.6.1             \r\n",
      "jupyter-highlight-selected-word                 0.2.0             \r\n",
      "jupyter-latex-envs                              1.4.6             \r\n",
      "jupyter-nbextensions-configurator               0.4.1             \r\n",
      "Keras-Applications                              1.0.8             \r\n",
      "Keras-Preprocessing                             1.1.0             \r\n",
      "keyring                                         21.1.0            \r\n",
      "KismetCaptureFreaklabsZigbee                    2018.7.0          \r\n",
      "KismetCaptureRtl433                             2019.9.1          \r\n",
      "KismetCaptureRtladsb                            2019.10.1         \r\n",
      "KismetCaptureRtlamr                             2019.10.1         \r\n",
      "kiwisolver                                      1.1.0             \r\n",
      "lensfun                                         0.3.2             \r\n",
      "locket                                          0.2.0             \r\n",
      "louis                                           3.12.0            \r\n",
      "lxml                                            4.4.2             \r\n",
      "Mako                                            1.1.0             \r\n",
      "mallard-ducktype                                1.0.2             \r\n",
      "Markdown                                        3.1.1             \r\n",
      "MarkupSafe                                      1.1.1             \r\n",
      "matplotlib                                      3.1.2             \r\n",
      "mccabe                                          0.6.1             \r\n",
      "metakernel                                      0.24.3            \r\n",
      "mistune                                         0.8.4             \r\n",
      "more-itertools                                  8.1.0             \r\n",
      "msgpack                                         0.6.2             \r\n",
      "msrest                                          0.6.10            \r\n",
      "msrestazure                                     0.6.2             \r\n",
      "nbconvert                                       5.6.1             \r\n",
      "nbformat                                        4.4.0             \r\n",
      "nose                                            1.3.7             \r\n",
      "notebook                                        6.0.2             \r\n",
      "numpy                                           1.18.1            \r\n",
      "oauthlib                                        3.1.0             \r\n",
      "octave-kernel                                   0.31.1            \r\n",
      "opt-einsum                                      3.1.0             \r\n",
      "ordered-set                                     3.1.1             \r\n",
      "packaging                                       20.0              \r\n",
      "pandas                                          0.25.3            \r\n",
      "pandas-profiling                                1.4.1             \r\n",
      "pandocfilters                                   1.4.2             \r\n",
      "parso                                           0.5.2             \r\n",
      "partd                                           0.3.10            \r\n",
      "pep517                                          0.6.0             \r\n",
      "pexpect                                         4.7.0             \r\n",
      "pickleshare                                     0.7.5             \r\n",
      "pip                                             19.3              \r\n",
      "plotly                                          0+unknown         \r\n",
      "pluggy                                          0.13.1            \r\n",
      "ply                                             3.11              \r\n",
      "progress                                        1.5               \r\n",
      "prometheus-client                               0.7.1             \r\n",
      "prompt-toolkit                                  3.0.2             \r\n",
      "protobuf                                        3.11.2            \r\n",
      "psutil                                          5.6.7             \r\n",
      "ptyprocess                                      0.6.0             \r\n",
      "py                                              1.8.1             \r\n",
      "pyasn1                                          0.4.8             \r\n",
      "pyasn1-modules                                  0.2.8             \r\n",
      "pycodestyle                                     2.5.0             \r\n",
      "pycodestyle-magic                               0.5               \r\n",
      "pycparser                                       2.19              \r\n",
      "pycuda                                          2019.1.2          \r\n",
      "pydot                                           1.4.1             \r\n",
      "pyflakes                                        2.1.1             \r\n",
      "pyftpdlib                                       1.5.5             \r\n",
      "Pygments                                        2.5.2             \r\n",
      "PyGObject                                       3.34.0            \r\n",
      "PyJWT                                           1.7.1             \r\n",
      "pymorphy2                                       0.8               \r\n",
      "pymorphy2-dicts                                 2.4.393442.3710985\r\n",
      "pymorphy2-dicts-ru                              2.4.404381.4453942\r\n",
      "pyodbc                                          4.0.28.0          \r\n",
      "pyOpenSSL                                       19.1.0            \r\n",
      "pyparsing                                       2.4.6             \r\n",
      "PyQt5                                           5.14.1            \r\n",
      "PyQt5-sip                                       12.7.0            \r\n",
      "pyrsistent                                      0.15.7            \r\n",
      "pyserial                                        3.4               \r\n",
      "PyStemmer                                       1.3.0             \r\n",
      "pytest                                          5.3.2             \r\n",
      "python-dateutil                                 2.8.1             \r\n",
      "python-libtorrent                               1.2.3             \r\n",
      "pytoml                                          0.1.21            \r\n",
      "pytools                                         2019.1.1          \r\n",
      "pytz                                            2019.3            \r\n",
      "PyYAML                                          5.3               \r\n",
      "pyzmq                                           18.1.1            \r\n",
      "requests                                        2.22.0            \r\n",
      "requests-oauthlib                               1.3.0             \r\n",
      "retrying                                        1.3.3             \r\n",
      "rsa                                             4.0               \r\n",
      "s3transfer                                      0.3.1             \r\n",
      "scikit-learn                                    0.22              \r\n",
      "scipy                                           1.4.1             \r\n",
      "SecretStorage                                   3.1.2             \r\n",
      "Send2Trash                                      1.5.0             \r\n",
      "setuptools                                      44.0.0            \r\n",
      "sip                                             4.19.20           \r\n",
      "six                                             1.13.0            \r\n",
      "smart-open                                      1.9.0             \r\n",
      "tensorboard                                     2.1.0             \r\n",
      "tensorflow-estimator                            2.1.0             \r\n",
      "tensorflow-gpu                                  2.1.0             \r\n",
      "tensorflow-serving-api                          2.0.0             \r\n",
      "tensorflow-serving-api-gpu                      2.0.0             \r\n",
      "termcolor                                       1.1.0             \r\n",
      "terminado                                       0.8.3             \r\n",
      "testpath                                        0.4.4             \r\n",
      "toolz                                           0.10.0            \r\n",
      "tornado                                         6.0.3             \r\n",
      "traitlets                                       4.3.3             \r\n",
      "urllib3                                         1.25.8            \r\n",
      "wcwidth                                         0.1.8             \r\n",
      "webencodings                                    0.5.1             \r\n",
      "Werkzeug                                        0.16.0            \r\n",
      "wheel                                           0.33.6            \r\n",
      "widgetsnbextension                              3.5.1             \r\n",
      "wrapt                                           1.11.2            \r\n",
      "you-get                                         0.4.1388          \r\n",
      "youtube-dl                                      2020.1.15         \r\n",
      "zipp                                            0.6.0             \r\n"
     ]
    }
   ],
   "source": [
    "!pip list"
   ]
  },
  {
   "cell_type": "markdown",
   "metadata": {},
   "source": [
    "----"
   ]
  },
  {
   "cell_type": "code",
   "execution_count": 84,
   "metadata": {},
   "outputs": [],
   "source": [
    "# # показывает места нарушения стиля\n",
    "# pep8 --first main.py\n",
    " \n",
    "# # определяет и исправляет нарушения стиля\n",
    "# autopep8 ./ --recursive --in-place -a\n",
    "\n",
    "# # форматирует комментарии \n",
    "# docformatter --in-place example.py\n",
    "\n",
    "# # универсальная утилита приведения кода к PEP\n",
    "# pyformat"
   ]
  },
  {
   "cell_type": "code",
   "execution_count": null,
   "metadata": {},
   "outputs": [],
   "source": []
  }
 ],
 "metadata": {
  "kernelspec": {
   "display_name": "Python 3",
   "language": "python",
   "name": "python3"
  },
  "language_info": {
   "codemirror_mode": {
    "name": "ipython",
    "version": 3
   },
   "file_extension": ".py",
   "mimetype": "text/x-python",
   "name": "python",
   "nbconvert_exporter": "python",
   "pygments_lexer": "ipython3",
   "version": "3.8.1"
  },
  "toc": {
   "base_numbering": 1,
   "nav_menu": {},
   "number_sections": true,
   "sideBar": true,
   "skip_h1_title": false,
   "title_cell": "Table of Contents",
   "title_sidebar": "Contents",
   "toc_cell": false,
   "toc_position": {},
   "toc_section_display": "block",
   "toc_window_display": false
  }
 },
 "nbformat": 4,
 "nbformat_minor": 2
}
