{
 "cells": [
  {
   "cell_type": "markdown",
   "metadata": {},
   "source": [
    "**jupyter demo**\n",
    "\n",
    "Евгений Борисов borisov.e@solarl.ru"
   ]
  },
  {
   "cell_type": "markdown",
   "metadata": {},
   "source": [
    "---"
   ]
  },
  {
   "cell_type": "code",
   "execution_count": 1,
   "metadata": {},
   "outputs": [
    {
     "name": "stdout",
     "output_type": "stream",
     "text": [
      "code cell\n"
     ]
    }
   ],
   "source": [
    "print('code cell')"
   ]
  },
  {
   "cell_type": "raw",
   "metadata": {},
   "source": [
    "raw text cell"
   ]
  },
  {
   "cell_type": "markdown",
   "metadata": {},
   "source": [
    "_markdown_ __cell__\n",
    "\n",
    "https://www.mathjax.org\n",
    "\n",
    "\n",
    "$$\n",
    "P(A|B) = \\frac{P(B|A)P(A)}{P(B)}\n",
    "$$\n",
    "\n",
    "$$\n",
    "y = \\sum_i^n x_i^2\n",
    "$$\n",
    "\n",
    "\n"
   ]
  },
  {
   "cell_type": "markdown",
   "metadata": {},
   "source": [
    "----"
   ]
  },
  {
   "cell_type": "code",
   "execution_count": 2,
   "metadata": {},
   "outputs": [],
   "source": [
    "from numpy.random import randint\n",
    "\n",
    "randint?"
   ]
  },
  {
   "cell_type": "code",
   "execution_count": 3,
   "metadata": {},
   "outputs": [
    {
     "data": {
      "application/json": {
       "cell": {
        "!": "OSMagics",
        "HTML": "Other",
        "SVG": "Other",
        "bash": "Other",
        "capture": "ExecutionMagics",
        "debug": "ExecutionMagics",
        "file": "Other",
        "html": "DisplayMagics",
        "javascript": "DisplayMagics",
        "js": "DisplayMagics",
        "latex": "DisplayMagics",
        "markdown": "DisplayMagics",
        "perl": "Other",
        "prun": "ExecutionMagics",
        "pypy": "Other",
        "python": "Other",
        "python2": "Other",
        "python3": "Other",
        "ruby": "Other",
        "script": "ScriptMagics",
        "sh": "Other",
        "svg": "DisplayMagics",
        "sx": "OSMagics",
        "system": "OSMagics",
        "time": "ExecutionMagics",
        "timeit": "ExecutionMagics",
        "writefile": "OSMagics"
       },
       "line": {
        "alias": "OSMagics",
        "alias_magic": "BasicMagics",
        "autoawait": "AsyncMagics",
        "autocall": "AutoMagics",
        "automagic": "AutoMagics",
        "autosave": "KernelMagics",
        "bookmark": "OSMagics",
        "cat": "Other",
        "cd": "OSMagics",
        "clear": "KernelMagics",
        "colors": "BasicMagics",
        "conda": "PackagingMagics",
        "config": "ConfigMagics",
        "connect_info": "KernelMagics",
        "cp": "Other",
        "debug": "ExecutionMagics",
        "dhist": "OSMagics",
        "dirs": "OSMagics",
        "doctest_mode": "BasicMagics",
        "ed": "Other",
        "edit": "KernelMagics",
        "env": "OSMagics",
        "gui": "BasicMagics",
        "hist": "Other",
        "history": "HistoryMagics",
        "killbgscripts": "ScriptMagics",
        "ldir": "Other",
        "less": "KernelMagics",
        "lf": "Other",
        "lk": "Other",
        "ll": "Other",
        "load": "CodeMagics",
        "load_ext": "ExtensionMagics",
        "loadpy": "CodeMagics",
        "logoff": "LoggingMagics",
        "logon": "LoggingMagics",
        "logstart": "LoggingMagics",
        "logstate": "LoggingMagics",
        "logstop": "LoggingMagics",
        "ls": "Other",
        "lsmagic": "BasicMagics",
        "lx": "Other",
        "macro": "ExecutionMagics",
        "magic": "BasicMagics",
        "man": "KernelMagics",
        "matplotlib": "PylabMagics",
        "mkdir": "Other",
        "more": "KernelMagics",
        "mv": "Other",
        "notebook": "BasicMagics",
        "page": "BasicMagics",
        "pastebin": "CodeMagics",
        "pdb": "ExecutionMagics",
        "pdef": "NamespaceMagics",
        "pdoc": "NamespaceMagics",
        "pfile": "NamespaceMagics",
        "pinfo": "NamespaceMagics",
        "pinfo2": "NamespaceMagics",
        "pip": "PackagingMagics",
        "popd": "OSMagics",
        "pprint": "BasicMagics",
        "precision": "BasicMagics",
        "prun": "ExecutionMagics",
        "psearch": "NamespaceMagics",
        "psource": "NamespaceMagics",
        "pushd": "OSMagics",
        "pwd": "OSMagics",
        "pycat": "OSMagics",
        "pylab": "PylabMagics",
        "qtconsole": "KernelMagics",
        "quickref": "BasicMagics",
        "recall": "HistoryMagics",
        "rehashx": "OSMagics",
        "reload_ext": "ExtensionMagics",
        "rep": "Other",
        "rerun": "HistoryMagics",
        "reset": "NamespaceMagics",
        "reset_selective": "NamespaceMagics",
        "rm": "Other",
        "rmdir": "Other",
        "run": "ExecutionMagics",
        "save": "CodeMagics",
        "sc": "OSMagics",
        "set_env": "OSMagics",
        "store": "StoreMagics",
        "sx": "OSMagics",
        "system": "OSMagics",
        "tb": "ExecutionMagics",
        "time": "ExecutionMagics",
        "timeit": "ExecutionMagics",
        "unalias": "OSMagics",
        "unload_ext": "ExtensionMagics",
        "who": "NamespaceMagics",
        "who_ls": "NamespaceMagics",
        "whos": "NamespaceMagics",
        "xdel": "NamespaceMagics",
        "xmode": "BasicMagics"
       }
      },
      "text/plain": [
       "Available line magics:\n",
       "%alias  %alias_magic  %autoawait  %autocall  %automagic  %autosave  %bookmark  %cat  %cd  %clear  %colors  %conda  %config  %connect_info  %cp  %debug  %dhist  %dirs  %doctest_mode  %ed  %edit  %env  %gui  %hist  %history  %killbgscripts  %ldir  %less  %lf  %lk  %ll  %load  %load_ext  %loadpy  %logoff  %logon  %logstart  %logstate  %logstop  %ls  %lsmagic  %lx  %macro  %magic  %man  %matplotlib  %mkdir  %more  %mv  %notebook  %page  %pastebin  %pdb  %pdef  %pdoc  %pfile  %pinfo  %pinfo2  %pip  %popd  %pprint  %precision  %prun  %psearch  %psource  %pushd  %pwd  %pycat  %pylab  %qtconsole  %quickref  %recall  %rehashx  %reload_ext  %rep  %rerun  %reset  %reset_selective  %rm  %rmdir  %run  %save  %sc  %set_env  %store  %sx  %system  %tb  %time  %timeit  %unalias  %unload_ext  %who  %who_ls  %whos  %xdel  %xmode\n",
       "\n",
       "Available cell magics:\n",
       "%%!  %%HTML  %%SVG  %%bash  %%capture  %%debug  %%file  %%html  %%javascript  %%js  %%latex  %%markdown  %%perl  %%prun  %%pypy  %%python  %%python2  %%python3  %%ruby  %%script  %%sh  %%svg  %%sx  %%system  %%time  %%timeit  %%writefile\n",
       "\n",
       "Automagic is ON, % prefix IS NOT needed for line magics."
      ]
     },
     "execution_count": 3,
     "metadata": {},
     "output_type": "execute_result"
    }
   ],
   "source": [
    "%lsmagic"
   ]
  },
  {
   "cell_type": "code",
   "execution_count": 4,
   "metadata": {},
   "outputs": [],
   "source": [
    "%time?"
   ]
  },
  {
   "cell_type": "code",
   "execution_count": 5,
   "metadata": {},
   "outputs": [
    {
     "name": "stdout",
     "output_type": "stream",
     "text": [
      "CPU times: user 53 µs, sys: 0 ns, total: 53 µs\n",
      "Wall time: 64.8 µs\n"
     ]
    }
   ],
   "source": [
    "%time x = [ (i*2)/3 for i in range(100) ]"
   ]
  },
  {
   "cell_type": "code",
   "execution_count": 6,
   "metadata": {},
   "outputs": [
    {
     "name": "stdout",
     "output_type": "stream",
     "text": [
      "CPU times: user 3.74 ms, sys: 0 ns, total: 3.74 ms\n",
      "Wall time: 9.19 ms\n"
     ]
    }
   ],
   "source": [
    "%%time\n",
    "\n",
    "x = [ (i*2)/3 for i in range(10000) ]\n",
    "x = sum(x)/23"
   ]
  },
  {
   "cell_type": "markdown",
   "metadata": {},
   "source": [
    "---"
   ]
  },
  {
   "cell_type": "code",
   "execution_count": null,
   "metadata": {},
   "outputs": [],
   "source": [
    "# https://habr.com/ru/post/457302/"
   ]
  },
  {
   "cell_type": "code",
   "execution_count": 7,
   "metadata": {},
   "outputs": [
    {
     "data": {
      "text/plain": [
       "19"
      ]
     },
     "execution_count": 7,
     "metadata": {},
     "output_type": "execute_result"
    }
   ],
   "source": [
    "10+5          \n",
    "11+6\n",
    "12+7"
   ]
  },
  {
   "cell_type": "code",
   "execution_count": 8,
   "metadata": {},
   "outputs": [],
   "source": [
    "from IPython.core.interactiveshell import InteractiveShell\n",
    "InteractiveShell.ast_node_interactivity = \"all\""
   ]
  },
  {
   "cell_type": "code",
   "execution_count": 9,
   "metadata": {},
   "outputs": [
    {
     "data": {
      "text/plain": [
       "15"
      ]
     },
     "execution_count": 9,
     "metadata": {},
     "output_type": "execute_result"
    },
    {
     "data": {
      "text/plain": [
       "17"
      ]
     },
     "execution_count": 9,
     "metadata": {},
     "output_type": "execute_result"
    },
    {
     "data": {
      "text/plain": [
       "19"
      ]
     },
     "execution_count": 9,
     "metadata": {},
     "output_type": "execute_result"
    }
   ],
   "source": [
    "10+5          \n",
    "11+6\n",
    "12+7"
   ]
  },
  {
   "cell_type": "code",
   "execution_count": 10,
   "metadata": {},
   "outputs": [],
   "source": [
    "InteractiveShell.ast_node_interactivity = \"last_expr\""
   ]
  },
  {
   "cell_type": "code",
   "execution_count": 11,
   "metadata": {},
   "outputs": [
    {
     "data": {
      "text/plain": [
       "19"
      ]
     },
     "execution_count": 11,
     "metadata": {},
     "output_type": "execute_result"
    }
   ],
   "source": [
    "10+5          \n",
    "11+6\n",
    "12+7"
   ]
  },
  {
   "cell_type": "markdown",
   "metadata": {},
   "source": [
    "----"
   ]
  },
  {
   "cell_type": "markdown",
   "metadata": {},
   "source": [
    "<div class=\"alert alert-block alert-info\">\n",
    "<b>Tip:</b> Use blue boxes (alert-info) for tips and notes. \n",
    "If it’s a note, you don’t have to include the word “Note”.\n",
    "</div>"
   ]
  },
  {
   "cell_type": "markdown",
   "metadata": {},
   "source": [
    "<div class=\"alert alert-block alert-warning\">\n",
    "<b>Example:</b> Yellow Boxes are generally used to include additional examples or mathematical formulas.\n",
    "</div>"
   ]
  },
  {
   "cell_type": "markdown",
   "metadata": {},
   "source": [
    "<div class=\"alert alert-block alert-success\">\n",
    "Use green box only when necessary like to display links to related content.\n",
    "</div>"
   ]
  },
  {
   "cell_type": "markdown",
   "metadata": {},
   "source": [
    "<div class=\"alert alert-block alert-danger\">\n",
    "It is good to avoid red boxes but can be used to alert users to not delete some important part of code etc. \n",
    "</div>"
   ]
  },
  {
   "cell_type": "markdown",
   "metadata": {},
   "source": [
    "----"
   ]
  },
  {
   "cell_type": "code",
   "execution_count": 13,
   "metadata": {},
   "outputs": [
    {
     "name": "stdout",
     "output_type": "stream",
     "text": [
      "01-jupyter.ipynb  02-python.ipynb  03-numpy.ipynb  04-pandas.ipynb\r\n"
     ]
    }
   ],
   "source": [
    "!ls"
   ]
  },
  {
   "cell_type": "code",
   "execution_count": null,
   "metadata": {},
   "outputs": [],
   "source": [
    "# pip install autopep8 "
   ]
  },
  {
   "cell_type": "code",
   "execution_count": null,
   "metadata": {},
   "outputs": [],
   "source": [
    "# pip uninstall autopep8"
   ]
  },
  {
   "cell_type": "code",
   "execution_count": 14,
   "metadata": {},
   "outputs": [
    {
     "name": "stdout",
     "output_type": "stream",
     "text": [
      "Package                           Version  \n",
      "--------------------------------- ---------\n",
      "airdrop-ng                        1.1      \n",
      "airgraph-ng                       1.1      \n",
      "appdirs                           1.4.3    \n",
      "attrs                             19.3.0   \n",
      "backcall                          0.1.0    \n",
      "beautifulsoup4                    4.8.2    \n",
      "bleach                            3.1.0    \n",
      "Brlapi                            0.7.0    \n",
      "CacheControl                      0.12.6   \n",
      "chardet                           3.0.4    \n",
      "colorama                          0.4.3    \n",
      "contextlib2                       0.6.0    \n",
      "cycler                            0.10.0   \n",
      "decorator                         4.4.1    \n",
      "defusedxml                        0.6.0    \n",
      "distlib                           0.3.0    \n",
      "distro                            1.4.0    \n",
      "entrypoints                       0.3      \n",
      "html5lib                          1.0.1    \n",
      "idna                              2.9      \n",
      "importlib-metadata                1.4.0    \n",
      "ipykernel                         5.1.4    \n",
      "ipython                           7.12.0   \n",
      "ipython-genutils                  0.1.0    \n",
      "ipywidgets                        7.5.1    \n",
      "isc                               2.0      \n",
      "jedi                              0.15.1   \n",
      "Jinja2                            2.11.1   \n",
      "joblib                            0.14.1   \n",
      "jsonschema                        3.2.0    \n",
      "jupyter-client                    5.3.4    \n",
      "jupyter-console                   6.1.0    \n",
      "jupyter-contrib-core              0.3.3    \n",
      "jupyter-contrib-nbextensions      0.5.1    \n",
      "jupyter-core                      4.6.3    \n",
      "jupyter-highlight-selected-word   0.2.0    \n",
      "jupyter-latex-envs                1.4.6    \n",
      "jupyter-nbextensions-configurator 0.4.1    \n",
      "KismetCaptureFreaklabsZigbee      2018.7.0 \n",
      "KismetCaptureRtl433               2019.9.1 \n",
      "KismetCaptureRtladsb              2019.10.1\n",
      "KismetCaptureRtlamr               2019.10.1\n",
      "kiwisolver                        1.1.0    \n",
      "lensfun                           0.3.95   \n",
      "louis                             3.12.0   \n",
      "lxml                              4.5.0    \n",
      "MarkupSafe                        1.1.1    \n",
      "matplotlib                        3.1.3    \n",
      "mistune                           0.8.4    \n",
      "msgpack                           0.6.2    \n",
      "nbconvert                         5.6.1    \n",
      "nbformat                          4.4.0    \n",
      "notebook                          6.0.3    \n",
      "numpy                             1.18.1   \n",
      "ordered-set                       3.1.1    \n",
      "packaging                         20.1     \n",
      "pandas                            1.0.1    \n",
      "pandocfilters                     1.4.2    \n",
      "parso                             0.6.1    \n",
      "pep517                            0.8.1    \n",
      "pexpect                           4.8.0    \n",
      "pickleshare                       0.7.5    \n",
      "pip                               19.3.1   \n",
      "ply                               3.11     \n",
      "progress                          1.5      \n",
      "prometheus-client                 0.7.1    \n",
      "prompt-toolkit                    3.0.3    \n",
      "protobuf                          3.11.4   \n",
      "psutil                            5.7.0    \n",
      "ptyprocess                        0.6.0    \n",
      "Pygments                          2.5.2    \n",
      "PyGObject                         3.34.0   \n",
      "pyparsing                         2.4.6    \n",
      "PyQt5                             5.14.1   \n",
      "PyQt5-sip                         12.7.1   \n",
      "pyrsistent                        0.15.7   \n",
      "pyserial                          3.4      \n",
      "python-dateutil                   2.8.1    \n",
      "python-libtorrent                 1.2.4    \n",
      "pytoml                            0.1.21   \n",
      "pytz                              2019.3   \n",
      "PyYAML                            5.3      \n",
      "pyzmq                             18.1.1   \n",
      "requests                          2.23.0   \n",
      "retrying                          1.3.3    \n",
      "scikit-learn                      0.22.1   \n",
      "scipy                             1.4.1    \n",
      "Send2Trash                        1.5.0    \n",
      "setuptools                        45.2.0   \n",
      "sip                               4.19.21  \n",
      "six                               1.14.0   \n",
      "soupsieve                         1.9.5    \n",
      "team                              1.0      \n",
      "terminado                         0.8.3    \n",
      "testpath                          0.4.4    \n",
      "toml                              0.10.0   \n",
      "tornado                           6.0.3    \n",
      "traitlets                         4.3.3    \n",
      "urllib3                           1.25.8   \n",
      "wcwidth                           0.1.8    \n",
      "webencodings                      0.5.1    \n",
      "widgetsnbextension                3.5.1    \n",
      "zipp                              3.0.0    \n"
     ]
    }
   ],
   "source": [
    "!pip list"
   ]
  },
  {
   "cell_type": "markdown",
   "metadata": {},
   "source": [
    "----"
   ]
  },
  {
   "cell_type": "code",
   "execution_count": null,
   "metadata": {},
   "outputs": [],
   "source": [
    "# # показывает места нарушения стиля\n",
    "# pep8 --first main.py\n",
    " \n",
    "# # определяет и исправляет нарушения стиля\n",
    "# autopep8 ./ --recursive --in-place -a\n",
    "\n",
    "# # форматирует комментарии \n",
    "# docformatter --in-place example.py\n",
    "\n",
    "# # универсальная утилита приведения кода к PEP\n",
    "# pyformat"
   ]
  },
  {
   "cell_type": "code",
   "execution_count": null,
   "metadata": {},
   "outputs": [],
   "source": []
  }
 ],
 "metadata": {
  "kernelspec": {
   "display_name": "Python 3",
   "language": "python",
   "name": "python3"
  },
  "language_info": {
   "codemirror_mode": {
    "name": "ipython",
    "version": 3
   },
   "file_extension": ".py",
   "mimetype": "text/x-python",
   "name": "python",
   "nbconvert_exporter": "python",
   "pygments_lexer": "ipython3",
   "version": "3.8.1"
  },
  "toc": {
   "base_numbering": 1,
   "nav_menu": {},
   "number_sections": true,
   "sideBar": true,
   "skip_h1_title": false,
   "title_cell": "Table of Contents",
   "title_sidebar": "Contents",
   "toc_cell": false,
   "toc_position": {},
   "toc_section_display": "block",
   "toc_window_display": false
  }
 },
 "nbformat": 4,
 "nbformat_minor": 2
}
