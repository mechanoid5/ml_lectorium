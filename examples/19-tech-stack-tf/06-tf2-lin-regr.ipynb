{
 "cells": [
  {
   "cell_type": "markdown",
   "metadata": {},
   "source": [
    "__линейная регрессия с помощью TensorFlow__\n",
    "\n",
    "Евгений Борисов borisov.e@solarl.ru"
   ]
  },
  {
   "cell_type": "code",
   "execution_count": 1,
   "metadata": {},
   "outputs": [],
   "source": [
    "# https://medium.com/analytics-vidhya/tf-gradienttape-explained-for-keras-users-cc3f06276f22"
   ]
  },
  {
   "cell_type": "code",
   "execution_count": 2,
   "metadata": {},
   "outputs": [],
   "source": [
    "import numpy as np\n",
    "import tensorflow as tf"
   ]
  },
  {
   "cell_type": "code",
   "execution_count": 3,
   "metadata": {},
   "outputs": [
    {
     "name": "stdout",
     "output_type": "stream",
     "text": [
      "2.3.1\n"
     ]
    }
   ],
   "source": [
    "print(tf.__version__)"
   ]
  },
  {
   "cell_type": "code",
   "execution_count": 4,
   "metadata": {},
   "outputs": [],
   "source": [
    "# сгенерируем модельный пример\n",
    "\n",
    "# параметры зависимости, которые требуется найти\n",
    "a_train, b_train = 10.,5.\n",
    "\n",
    "# зависимость, которую будем восстанавливать\n",
    "f = lambda x: x*a_train + b_train\n",
    "\n",
    "# данные, по которым будем восстанавливать зависимость\n",
    "x_train = np.array(range(10))\n",
    "y_train = f(x_train)"
   ]
  },
  {
   "cell_type": "code",
   "execution_count": 5,
   "metadata": {},
   "outputs": [],
   "source": [
    "# реализуем метод градиентного спуска\n",
    "\n",
    "# функция потери\n",
    "def loss(real_y, pred_y): return tf.abs(real_y - pred_y)\n",
    "\n",
    "# параметры, которые будем искать по данным\n",
    "a_real = tf.Variable(np.random.rand(), trainable=True)\n",
    "b_real = tf.Variable(np.random.rand(), trainable=True)\n",
    "\n",
    "t_speed = .01 # коэффициент скорости обучения\n",
    "\n",
    "# шаг процесса оптимизации \n",
    "def step( x_real, y_real ):\n",
    "    with tf.GradientTape(persistent=True) as tape:\n",
    "        # текущий результат\n",
    "        pred_y = a_real * x_real + b_real\n",
    "        # считаем потерю\n",
    "        reg_loss = loss(y_real, pred_y)\n",
    "    \n",
    "    # значение градиента\n",
    "    a_gradients, b_gradients = tape.gradient(reg_loss, (a_real, b_real))\n",
    "\n",
    "    # изменяем параметры\n",
    "    a_real.assign_sub(a_gradients * t_speed)\n",
    "    b_real.assign_sub(b_gradients * t_speed)\n",
    "\n",
    "# основной цикл обучения\n",
    "for _ in range(1000): step(x_train, y_train)"
   ]
  },
  {
   "cell_type": "code",
   "execution_count": 6,
   "metadata": {},
   "outputs": [
    {
     "name": "stdout",
     "output_type": "stream",
     "text": [
      "y ≈ 10.398397445678711 * x + 5.000351428985596\n"
     ]
    }
   ],
   "source": [
    "# что получили\n",
    "print(f'y ≈ {a_real.numpy()} * x + {b_real.numpy()}')"
   ]
  },
  {
   "cell_type": "code",
   "execution_count": 7,
   "metadata": {},
   "outputs": [
    {
     "name": "stdout",
     "output_type": "stream",
     "text": [
      "y ≈ 10.0 * x + 5.0\n"
     ]
    }
   ],
   "source": [
    "# что должно быть\n",
    "print(f'y ≈ {a_train} * x + {b_train}')"
   ]
  },
  {
   "cell_type": "code",
   "execution_count": null,
   "metadata": {},
   "outputs": [],
   "source": []
  }
 ],
 "metadata": {
  "kernelspec": {
   "display_name": "Python 3",
   "language": "python",
   "name": "python3"
  },
  "language_info": {
   "codemirror_mode": {
    "name": "ipython",
    "version": 3
   },
   "file_extension": ".py",
   "mimetype": "text/x-python",
   "name": "python",
   "nbconvert_exporter": "python",
   "pygments_lexer": "ipython3",
   "version": "3.8.6"
  },
  "toc": {
   "base_numbering": 1,
   "nav_menu": {},
   "number_sections": true,
   "sideBar": true,
   "skip_h1_title": false,
   "title_cell": "Table of Contents",
   "title_sidebar": "Contents",
   "toc_cell": false,
   "toc_position": {},
   "toc_section_display": true,
   "toc_window_display": false
  }
 },
 "nbformat": 4,
 "nbformat_minor": 4
}
