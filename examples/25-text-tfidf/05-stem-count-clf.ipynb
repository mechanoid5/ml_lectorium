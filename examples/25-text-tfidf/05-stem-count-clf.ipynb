{
 "cells": [
  {
   "cell_type": "markdown",
   "metadata": {},
   "source": [
    "**извлечение признаков из текста на естественном языке**\n",
    "\n",
    "классификатор текстов SnowballStemmer+TfidfVectorizer\n",
    "\n",
    "Евгений Борисов borisov.e@solarl.ru"
   ]
  },
  {
   "cell_type": "markdown",
   "metadata": {},
   "source": [
    "## библиотеки"
   ]
  },
  {
   "cell_type": "code",
   "execution_count": 1,
   "metadata": {},
   "outputs": [
    {
     "name": "stderr",
     "output_type": "stream",
     "text": [
      "/usr/lib/python3.8/site-packages/tqdm/std.py:703: FutureWarning: The Panel class is removed from pandas. Accessing it from the top-level namespace will also be removed in the next version\n",
      "  from pandas import Panel\n"
     ]
    }
   ],
   "source": [
    "import re\n",
    "# import gzip\n",
    "import numpy as np\n",
    "import numpy.random as rng\n",
    "import pandas as pd\n",
    "from tqdm import tqdm\n",
    "\n",
    "np.set_printoptions(precision=2) # вывод на печать чисел до 2 знака\n",
    "pd.options.display.max_colwidth = 200 \n",
    "\n",
    "tqdm.pandas()"
   ]
  },
  {
   "cell_type": "code",
   "execution_count": 2,
   "metadata": {},
   "outputs": [],
   "source": [
    "# import numpy as np\n",
    "# import pandas as pd\n",
    "# import re"
   ]
  },
  {
   "cell_type": "code",
   "execution_count": 3,
   "metadata": {},
   "outputs": [
    {
     "data": {
      "text/plain": [
       "'0.23.2'"
      ]
     },
     "execution_count": 3,
     "metadata": {},
     "output_type": "execute_result"
    }
   ],
   "source": [
    "from sklearn import __version__ as SKLEARN_VERSION\n",
    "\n",
    "from sklearn.feature_extraction.text import TfidfVectorizer\n",
    "\n",
    "from sklearn.model_selection import train_test_split\n",
    "from sklearn.metrics import confusion_matrix\n",
    "from sklearn.metrics import classification_report\n",
    "from sklearn.metrics import accuracy_score\n",
    "\n",
    "SKLEARN_VERSION"
   ]
  },
  {
   "cell_type": "code",
   "execution_count": 4,
   "metadata": {},
   "outputs": [],
   "source": [
    "from nltk.stem.snowball import SnowballStemmer\n",
    "from nltk.corpus import stopwords as nltk_stopwords\n",
    "# from nltk import download as nltk_download\n",
    "# nltk_download('stopwords')"
   ]
  },
  {
   "cell_type": "markdown",
   "metadata": {},
   "source": [
    "## тексты"
   ]
  },
  {
   "cell_type": "code",
   "execution_count": 5,
   "metadata": {},
   "outputs": [
    {
     "name": "stdout",
     "output_type": "stream",
     "text": [
      "записей: 3196\n"
     ]
    },
    {
     "data": {
      "text/html": [
       "<div>\n",
       "<style scoped>\n",
       "    .dataframe tbody tr th:only-of-type {\n",
       "        vertical-align: middle;\n",
       "    }\n",
       "\n",
       "    .dataframe tbody tr th {\n",
       "        vertical-align: top;\n",
       "    }\n",
       "\n",
       "    .dataframe thead th {\n",
       "        text-align: right;\n",
       "    }\n",
       "</style>\n",
       "<table border=\"1\" class=\"dataframe\">\n",
       "  <thead>\n",
       "    <tr style=\"text-align: right;\">\n",
       "      <th></th>\n",
       "      <th>text</th>\n",
       "      <th>tag</th>\n",
       "    </tr>\n",
       "  </thead>\n",
       "  <tbody>\n",
       "    <tr>\n",
       "      <th>2089</th>\n",
       "      <td>Выделите ее и нажмите Ctrl+Enter, чтобы сообщить об этом редакции.\\n\\n© ФК Шахтер\\n\\nФутболисты киевского \"Динамо\" и донецкого \"Шахтера\" устроили потасовку во время центрального матча 18-го тура ч...</td>\n",
       "      <td>sport</td>\n",
       "    </tr>\n",
       "    <tr>\n",
       "      <th>2374</th>\n",
       "      <td>Водитель оставил машину и скрылся с места происшествия.\\n\\nНа западе Москвы, в районе Раменки, водитель автомобиля Mercedes совершил наезд на двух школьниц. Об этом во вторник, 13 декабря, сообщил...</td>\n",
       "      <td>incident</td>\n",
       "    </tr>\n",
       "  </tbody>\n",
       "</table>\n",
       "</div>"
      ],
      "text/plain": [
       "                                                                                                                                                                                                         text  \\\n",
       "2089  Выделите ее и нажмите Ctrl+Enter, чтобы сообщить об этом редакции.\\n\\n© ФК Шахтер\\n\\nФутболисты киевского \"Динамо\" и донецкого \"Шахтера\" устроили потасовку во время центрального матча 18-го тура ч...   \n",
       "2374  Водитель оставил машину и скрылся с места происшествия.\\n\\nНа западе Москвы, в районе Раменки, водитель автомобиля Mercedes совершил наезд на двух школьниц. Об этом во вторник, 13 декабря, сообщил...   \n",
       "\n",
       "           tag  \n",
       "2089     sport  \n",
       "2374  incident  "
      ]
     },
     "execution_count": 5,
     "metadata": {},
     "output_type": "execute_result"
    }
   ],
   "source": [
    "# загружаем тексты\n",
    "data = pd.read_pickle('../data/news.pkl.gz')\n",
    "print('записей:',len(data))\n",
    "data.sample(2)"
   ]
  },
  {
   "cell_type": "markdown",
   "metadata": {},
   "source": [
    "## токенизация и очистка"
   ]
  },
  {
   "cell_type": "code",
   "execution_count": 6,
   "metadata": {},
   "outputs": [],
   "source": [
    "# применяет список замен pat к строке s\n",
    "def replace_patterns(s,pat):\n",
    "    if len(pat)<1: return s\n",
    "    return  replace_patterns( re.sub(pat[0][0],pat[0][1],s), pat[1:] )\n",
    "\n",
    "# нормализация текста\n",
    "def text_normalizer(s):\n",
    "    pat = [\n",
    "       [r'ё','е'] # замена ё для унификации\n",
    "       ,[r'</?[a-z]+>',' '] # удаляем xml\n",
    "       ,[r'\\d+',' '] # удаляем цифры\n",
    "       ,[r'[\\W]+',' '] # удаляем спец.символы\n",
    "       ,[r' +',' '] # удаляем повторы пробелов\n",
    "    ]\n",
    "    \n",
    "    return replace_patterns(s.lower(),pat).strip()\n",
    "\n",
    "stopwords = set(nltk_stopwords.words('russian'))\n",
    "stemmer = SnowballStemmer('russian')\n",
    "\n",
    "# разрезаем стоки на слова, выкидываем stopwords, выполняем стеминг\n",
    "def tokenize(s): \n",
    "    p = [ stemmer.stem(w).replace('^','') for w in s.split() if ( w not in stopwords ) ]\n",
    "    return [ w for w in p if (len(w)>1) ]"
   ]
  },
  {
   "cell_type": "code",
   "execution_count": 7,
   "metadata": {},
   "outputs": [
    {
     "name": "stderr",
     "output_type": "stream",
     "text": [
      "100%|██████████| 3196/3196 [00:00<00:00, 5828.72it/s]\n",
      "100%|██████████| 3196/3196 [00:15<00:00, 211.25it/s]\n"
     ]
    }
   ],
   "source": [
    "data['ctext'] = data['text'].progress_apply( text_normalizer )\n",
    "data['ctext'] = data['ctext'].progress_apply( tokenize )"
   ]
  },
  {
   "cell_type": "code",
   "execution_count": 8,
   "metadata": {},
   "outputs": [
    {
     "name": "stdout",
     "output_type": "stream",
     "text": [
      "словарь 34990 слов\n"
     ]
    }
   ],
   "source": [
    "# собираем словарь\n",
    "vcb0 = [ set(s) for s in data['ctext'].tolist() ]\n",
    "vcb0 = sorted(set.union(*vcb0))\n",
    "print('словарь %i слов'%(len(vcb0)))\n",
    "# pd.DataFrame( vcb0 ).to_csv('voc0.txt',index=False,header=False)"
   ]
  },
  {
   "cell_type": "markdown",
   "metadata": {},
   "source": [
    "##  Vectorizer"
   ]
  },
  {
   "cell_type": "code",
   "execution_count": 9,
   "metadata": {},
   "outputs": [],
   "source": [
    "data['ctext'] = data['ctext'].apply( ' '.join  )"
   ]
  },
  {
   "cell_type": "code",
   "execution_count": 10,
   "metadata": {},
   "outputs": [
    {
     "name": "stdout",
     "output_type": "stream",
     "text": [
      "34990\n"
     ]
    }
   ],
   "source": [
    "tf = TfidfVectorizer(use_idf=True, norm='l2').fit( data['ctext'] )\n",
    "vcb1 = sorted(tf.vocabulary_)\n",
    "print(len(vcb1))\n",
    "# pd.DataFrame( vcb1 ).to_csv('voc1.txt',index=False,header=False)"
   ]
  },
  {
   "cell_type": "markdown",
   "metadata": {},
   "source": [
    "## формируем датасеты"
   ]
  },
  {
   "cell_type": "code",
   "execution_count": 11,
   "metadata": {},
   "outputs": [
    {
     "data": {
      "text/plain": [
       "(3196, 34990)"
      ]
     },
     "execution_count": 11,
     "metadata": {},
     "output_type": "execute_result"
    }
   ],
   "source": [
    "X = tf.transform( data['ctext'] )\n",
    "X.shape"
   ]
  },
  {
   "cell_type": "code",
   "execution_count": 12,
   "metadata": {},
   "outputs": [
    {
     "data": {
      "text/plain": [
       "{'auto': 0,\n",
       " 'culture': 1,\n",
       " 'economics': 2,\n",
       " 'health': 3,\n",
       " 'incident': 4,\n",
       " 'politics': 5,\n",
       " 'realty': 6,\n",
       " 'reclama': 7,\n",
       " 'science': 8,\n",
       " 'social': 9,\n",
       " 'sport': 10,\n",
       " 'tech': 11,\n",
       " 'woman': 12}"
      ]
     },
     "execution_count": 12,
     "metadata": {},
     "output_type": "execute_result"
    }
   ],
   "source": [
    "labels = { t:i for i,t in enumerate(sorted(set(data['tag']))) }\n",
    "labels"
   ]
  },
  {
   "cell_type": "code",
   "execution_count": 13,
   "metadata": {},
   "outputs": [
    {
     "data": {
      "text/plain": [
       "array([5, 1, 1, ..., 8, 5, 9])"
      ]
     },
     "execution_count": 13,
     "metadata": {},
     "output_type": "execute_result"
    }
   ],
   "source": [
    "y = data['tag'].map(labels).values\n",
    "y"
   ]
  },
  {
   "cell_type": "code",
   "execution_count": 14,
   "metadata": {},
   "outputs": [
    {
     "data": {
      "text/plain": [
       "((2237, 34990), (2237,), (959, 34990), (959,))"
      ]
     },
     "execution_count": 14,
     "metadata": {},
     "output_type": "execute_result"
    }
   ],
   "source": [
    "X_train, X_test, y_train, y_test = train_test_split( X, y, test_size=0.3, random_state=326 )\n",
    "X_train.shape, y_train.shape, X_test.shape, y_test.shape"
   ]
  },
  {
   "cell_type": "markdown",
   "metadata": {},
   "source": [
    "## обучаем классификатор"
   ]
  },
  {
   "cell_type": "code",
   "execution_count": 15,
   "metadata": {},
   "outputs": [
    {
     "data": {
      "text/plain": [
       "SGDClassifier(tol=0.19)"
      ]
     },
     "execution_count": 15,
     "metadata": {},
     "output_type": "execute_result"
    }
   ],
   "source": [
    "from sklearn.linear_model import SGDClassifier\n",
    "\n",
    "clf = SGDClassifier(loss='hinge',max_iter=1000, tol=0.19)\n",
    "clf.fit(X_train,y_train)"
   ]
  },
  {
   "cell_type": "markdown",
   "metadata": {},
   "source": [
    "## тестируем"
   ]
  },
  {
   "cell_type": "code",
   "execution_count": 16,
   "metadata": {},
   "outputs": [],
   "source": [
    "o = clf.predict(X_train)"
   ]
  },
  {
   "cell_type": "code",
   "execution_count": 17,
   "metadata": {},
   "outputs": [
    {
     "data": {
      "text/plain": [
       "0.9995529727313366"
      ]
     },
     "execution_count": 17,
     "metadata": {},
     "output_type": "execute_result"
    }
   ],
   "source": [
    "accuracy_score(y_train,o)"
   ]
  },
  {
   "cell_type": "code",
   "execution_count": 18,
   "metadata": {},
   "outputs": [],
   "source": [
    "o = clf.predict(X_test)"
   ]
  },
  {
   "cell_type": "code",
   "execution_count": 19,
   "metadata": {},
   "outputs": [
    {
     "data": {
      "text/plain": [
       "0.8821689259645464"
      ]
     },
     "execution_count": 19,
     "metadata": {},
     "output_type": "execute_result"
    }
   ],
   "source": [
    "accuracy_score(y_test,o)"
   ]
  },
  {
   "cell_type": "code",
   "execution_count": 20,
   "metadata": {},
   "outputs": [
    {
     "name": "stdout",
     "output_type": "stream",
     "text": [
      "              precision    recall  f1-score   support\n",
      "\n",
      "           0       0.96      0.86      0.91        87\n",
      "           1       0.82      0.95      0.88       101\n",
      "           2       0.86      0.83      0.85        76\n",
      "           3       0.85      0.74      0.79        31\n",
      "           4       0.86      0.93      0.89       123\n",
      "           5       0.90      0.95      0.92       177\n",
      "           6       0.89      0.76      0.82        21\n",
      "           7       0.82      0.53      0.64        17\n",
      "           8       0.91      1.00      0.95        68\n",
      "           9       0.62      0.36      0.46        44\n",
      "          10       0.98      1.00      0.99       118\n",
      "          11       0.85      0.84      0.85        89\n",
      "          12       1.00      0.57      0.73         7\n",
      "\n",
      "    accuracy                           0.88       959\n",
      "   macro avg       0.87      0.80      0.82       959\n",
      "weighted avg       0.88      0.88      0.88       959\n",
      "\n"
     ]
    }
   ],
   "source": [
    "print( classification_report(y_test,o) )"
   ]
  },
  {
   "cell_type": "markdown",
   "metadata": {},
   "source": [
    "---"
   ]
  },
  {
   "cell_type": "code",
   "execution_count": 21,
   "metadata": {},
   "outputs": [
    {
     "data": {
      "image/png": "[encoded data removed]",
      "text/plain": [
       "<Figure size 720x648 with 2 Axes>"
      ]
     },
     "metadata": {
      "needs_background": "light"
     },
     "output_type": "display_data"
    }
   ],
   "source": [
    "from matplotlib import pyplot as plt\n",
    "import itertools\n",
    "\n",
    "classes = sorted(labels.keys())\n",
    "cm = confusion_matrix(y_test,o)\n",
    "tick_marks = np.arange(len(classes))\n",
    "\n",
    "plt.figure(figsize=(10,9))\n",
    "\n",
    "plt.xticks(tick_marks, classes, rotation=45)\n",
    "plt.yticks(tick_marks, classes)\n",
    "\n",
    "thresh = cm.max() / 2.\n",
    "for i, j in itertools.product(range(cm.shape[0]), range(cm.shape[1])):\n",
    "    plt.text(j, i, format(cm[i, j], 'd'),\n",
    "             horizontalalignment=\"center\",\n",
    "             color=\"white\" if cm[i, j] > thresh else \"black\")\n",
    "\n",
    "plt.title('Confusion matrix')\n",
    "plt.tight_layout()\n",
    "plt.ylabel('True label')\n",
    "plt.xlabel('Predicted label')\n",
    "plt.imshow(cm, interpolation='nearest', cmap=plt.cm.Blues)\n",
    "plt.colorbar()\n",
    "\n",
    "plt.show()"
   ]
  },
  {
   "cell_type": "markdown",
   "metadata": {},
   "source": [
    "---"
   ]
  },
  {
   "cell_type": "code",
   "execution_count": 22,
   "metadata": {},
   "outputs": [],
   "source": [
    "o = clf.predict(X)"
   ]
  },
  {
   "cell_type": "code",
   "execution_count": 23,
   "metadata": {},
   "outputs": [],
   "source": [
    "labels_inv = { labels[k]:k for k in labels }\n",
    "# labels_inv"
   ]
  },
  {
   "cell_type": "code",
   "execution_count": 24,
   "metadata": {},
   "outputs": [
    {
     "name": "stdout",
     "output_type": "stream",
     "text": [
      "tag: woman\n",
      "predict: woman\n",
      "Истории от Юлии Чернявской. Идеалист и его жена 10 декабря 2016 в 16:43 Юлия Чернявская / TUT.BY В детстве я часто бывала в этом доме: мы жили по соседству, и их внуки были моими друзьями. Однажды,...\n",
      "- - - - - - - - - - - - - - - - - -\n",
      "tag: incident\n",
      "predict: incident\n",
      "Водитель одного из грузовиков выехал на встречную полосу Два человека пострадали в результате ДТП с участием грузовиков, которое произошло в Ростовской области 12 декабря, сообщает РИА «Новости» со с...\n",
      "- - - - - - - - - - - - - - - - - -\n",
      "tag: incident\n",
      "predict: incident\n",
      "На трассе М1 микроавтобус посольства Польши вылетел в кювет и опрокинулся 8 декабря 2016 в 13:45 Фото: Дарья Бурякина / AUTO.TUT.BY Из-за сложной погодной обстановки на трассе М1 недалеко от съезда...\n",
      "- - - - - - - - - - - - - - - - - -\n",
      "tag: economics\n",
      "predict: economics\n",
      "Самый богатый венгр стал фаворитом в борьбе за 25% акций Беларусбанка? опубликовано: 30 ноября 2016 в 16:49 обновлено: 1 декабря 2016 в 12:31 TUT.BY Несколько источников в банковских кругах назвал...\n",
      "- - - - - - - - - - - - - - - - - -\n",
      "tag: incident\n",
      "predict: incident\n",
      "В Басманном суде сегодня \"звёздный процесс\". Судятся две знаменитости - директор Большого Московского государственного цирка, дрессировщик Эдгард Запашный и актёр Валерий Николаев, который в последнее...\n",
      "- - - - - - - - - - - - - - - - - -\n",
      "tag: auto\n",
      "predict: auto\n",
      "Мы уже имели удовольствие лицезреть новый седан Kia с купеобразным силуэтом на шпионских снимках, но, оказывается, стильная машина полна сюрпризов. Компания Kia представила второе интригующее видео с...\n",
      "- - - - - - - - - - - - - - - - - -\n",
      "tag: incident\n",
      "predict: incident\n",
      "\"Продавец\" строительной техники в Лидском районе похитил у пенсионера 10 тысяч долларов 6 декабря 2016 в 12:33 TUT.BY Нежданный гость похитил у пенсионера в Лидском районе 10 тысяч долларов. Подозр...\n",
      "- - - - - - - - - - - - - - - - - -\n",
      "tag: culture\n",
      "predict: culture\n",
      "Акция в поддержку Музея кино проходит сегодня вечером в Москве В знак\n",
      "протеста против закрытия музея участники акции подходят ко входу в\n",
      "кинотеатр и в определенном месте оставляют камень....\n",
      "- - - - - - - - - - - - - - - - - -\n",
      "tag: tech\n",
      "predict: tech\n",
      "Ученые нашли существо, которое живет без тела 9 декабря 2016 в 14:21 42.TUT.BY Океанологи обнаружили в Тихом океане необычного червя, личинка которого обладает головой, но при этом у нее полностью ...\n",
      "- - - - - - - - - - - - - - - - - -\n",
      "tag: science\n",
      "predict: science\n",
      "Ученые из Америки назвали это место \"Точкой немо\". Оно находится наиболее далеко от суши в Южной части Тихого океана. Американские ученые нашли самую отдаленную точку суши. Оказалось, что располагает...\n",
      "- - - - - - - - - - - - - - - - - -\n"
     ]
    }
   ],
   "source": [
    "for n in range(10):\n",
    "    i = rng.randint(len(data))\n",
    "    print('tag:',data.iloc[i,1])\n",
    "    print('predict:',labels_inv[o[i]])\n",
    "    print(re.sub(r'\\n\\s*\\n',' ',data.iloc[i,0][:200])+'...')\n",
    "    print('- - - - - - - - - - - - - - - - - -')\n",
    "    "
   ]
  },
  {
   "cell_type": "code",
   "execution_count": null,
   "metadata": {},
   "outputs": [],
   "source": [
    "# https://habr.com/ru/post/205360/"
   ]
  }
 ],
 "metadata": {
  "kernelspec": {
   "display_name": "Python 3",
   "language": "python",
   "name": "python3"
  },
  "language_info": {
   "codemirror_mode": {
    "name": "ipython",
    "version": 3
   },
   "file_extension": ".py",
   "mimetype": "text/x-python",
   "name": "python",
   "nbconvert_exporter": "python",
   "pygments_lexer": "ipython3",
   "version": "3.8.6"
  },
  "toc": {
   "base_numbering": 1,
   "nav_menu": {},
   "number_sections": true,
   "sideBar": true,
   "skip_h1_title": false,
   "title_cell": "Table of Contents",
   "title_sidebar": "Contents",
   "toc_cell": false,
   "toc_position": {},
   "toc_section_display": true,
   "toc_window_display": true
  }
 },
 "nbformat": 4,
 "nbformat_minor": 2
}
