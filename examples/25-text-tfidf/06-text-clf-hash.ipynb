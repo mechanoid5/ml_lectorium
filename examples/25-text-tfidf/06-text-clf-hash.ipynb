{
 "cells": [
  {
   "cell_type": "markdown",
   "metadata": {},
   "source": [
    "**извлечение признаков из текста на естественном языке**\n",
    "\n",
    "классификатор текстов\n",
    "\n",
    "частотный анализ с очисткой стоп-слов (HashingVectorizer)\n",
    "\n",
    "Евгений Борисов borisov.e@solarl.ru"
   ]
  },
  {
   "cell_type": "markdown",
   "metadata": {},
   "source": [
    "## библиотеки"
   ]
  },
  {
   "cell_type": "code",
   "execution_count": 1,
   "metadata": {},
   "outputs": [
    {
     "name": "stderr",
     "output_type": "stream",
     "text": [
      "/usr/lib/python3.8/site-packages/tqdm/std.py:703: FutureWarning: The Panel class is removed from pandas. Accessing it from the top-level namespace will also be removed in the next version\n",
      "  from pandas import Panel\n"
     ]
    }
   ],
   "source": [
    "import re\n",
    "# import gzip\n",
    "import numpy as np\n",
    "import numpy.random as rng\n",
    "import pandas as pd\n",
    "from tqdm import tqdm\n",
    "\n",
    "np.set_printoptions(precision=2) # вывод на печать чисел до 2 знака\n",
    "pd.options.display.max_colwidth = 200 \n",
    "\n",
    "tqdm.pandas()"
   ]
  },
  {
   "cell_type": "code",
   "execution_count": 2,
   "metadata": {},
   "outputs": [],
   "source": [
    "# import numpy as np\n",
    "# import pandas as pd\n",
    "# import re\n",
    "# import gzip"
   ]
  },
  {
   "cell_type": "code",
   "execution_count": 3,
   "metadata": {},
   "outputs": [
    {
     "data": {
      "text/plain": [
       "'0.23.2'"
      ]
     },
     "execution_count": 3,
     "metadata": {},
     "output_type": "execute_result"
    }
   ],
   "source": [
    "import sklearn\n",
    "from sklearn.model_selection import train_test_split\n",
    "from sklearn.metrics import confusion_matrix\n",
    "from sklearn.metrics import classification_report\n",
    "from sklearn.metrics import accuracy_score\n",
    "sklearn.__version__"
   ]
  },
  {
   "cell_type": "markdown",
   "metadata": {},
   "source": [
    "## тексты"
   ]
  },
  {
   "cell_type": "code",
   "execution_count": 4,
   "metadata": {},
   "outputs": [
    {
     "name": "stdout",
     "output_type": "stream",
     "text": [
      "записей: 3196\n"
     ]
    }
   ],
   "source": [
    "# загружаем тексты\n",
    "data = pd.read_pickle('../data/news.pkl.gz')\n",
    "print('записей:',len(data))"
   ]
  },
  {
   "cell_type": "code",
   "execution_count": 5,
   "metadata": {},
   "outputs": [
    {
     "data": {
      "text/html": [
       "<div>\n",
       "<style scoped>\n",
       "    .dataframe tbody tr th:only-of-type {\n",
       "        vertical-align: middle;\n",
       "    }\n",
       "\n",
       "    .dataframe tbody tr th {\n",
       "        vertical-align: top;\n",
       "    }\n",
       "\n",
       "    .dataframe thead th {\n",
       "        text-align: right;\n",
       "    }\n",
       "</style>\n",
       "<table border=\"1\" class=\"dataframe\">\n",
       "  <thead>\n",
       "    <tr style=\"text-align: right;\">\n",
       "      <th></th>\n",
       "      <th>text</th>\n",
       "      <th>tag</th>\n",
       "    </tr>\n",
       "  </thead>\n",
       "  <tbody>\n",
       "    <tr>\n",
       "      <th>561</th>\n",
       "      <td>В Кобринском районе 24-летний парень погиб в лобовом столкновении Ford и ГАЗ\\n\\n2 декабря 2016 в 20:59\\n\\nTUT.BY\\n\\nУтром 2 декабря в Кобринском районе Ford Mondeo врезался во встречный ГАЗ.\\n\\n20...</td>\n",
       "      <td>incident</td>\n",
       "    </tr>\n",
       "    <tr>\n",
       "      <th>1965</th>\n",
       "      <td>Деловая британская газета Financial Times назвала избранного президента США Дональда Трампа «человеком года».\\n\\n«Он переписал правила американской политики. Теперь президент-организатор сделок по...</td>\n",
       "      <td>politics</td>\n",
       "    </tr>\n",
       "  </tbody>\n",
       "</table>\n",
       "</div>"
      ],
      "text/plain": [
       "                                                                                                                                                                                                         text  \\\n",
       "561   В Кобринском районе 24-летний парень погиб в лобовом столкновении Ford и ГАЗ\\n\\n2 декабря 2016 в 20:59\\n\\nTUT.BY\\n\\nУтром 2 декабря в Кобринском районе Ford Mondeo врезался во встречный ГАЗ.\\n\\n20...   \n",
       "1965  Деловая британская газета Financial Times назвала избранного президента США Дональда Трампа «человеком года».\\n\\n«Он переписал правила американской политики. Теперь президент-организатор сделок по...   \n",
       "\n",
       "           tag  \n",
       "561   incident  \n",
       "1965  politics  "
      ]
     },
     "execution_count": 5,
     "metadata": {},
     "output_type": "execute_result"
    }
   ],
   "source": [
    "data.sample(2)"
   ]
  },
  {
   "cell_type": "markdown",
   "metadata": {},
   "source": [
    "## токенизация и очистка"
   ]
  },
  {
   "cell_type": "code",
   "execution_count": 6,
   "metadata": {},
   "outputs": [],
   "source": [
    "# NOUN\tимя существительное\tхомяк\n",
    "# ADJF\tимя прилагательное (полное)\tхороший\n",
    "# ADJS\tимя прилагательное (краткое)\tхорош\n",
    "# COMP\tкомпаратив\tлучше, получше, выше\n",
    "# VERB\tглагол (личная форма)\tговорю, говорит, говорил\n",
    "# INFN\tглагол (инфинитив)\tговорить, сказать\n",
    "# PRTF\tпричастие (полное)\tпрочитавший, прочитанная\n",
    "# PRTS\tпричастие (краткое)\tпрочитана\n",
    "# GRND\tдеепричастие\tпрочитав, рассказывая\n",
    "# NUMR\tчислительное\tтри, пятьдесят\n",
    "# ADVB\tнаречие\tкруто\n",
    "# NPRO\tместоимение-существительное\tон\n",
    "# PRED\tпредикатив\tнекогда\n",
    "# PREP\tпредлог\tв\n",
    "# CONJ\tсоюз\tи\n",
    "# PRCL\tчастица\tбы, же, лишь\n",
    "# INTJ\tмеждометие\tой"
   ]
  },
  {
   "cell_type": "code",
   "execution_count": 7,
   "metadata": {},
   "outputs": [],
   "source": [
    "# https://pymorphy2.readthedocs.io\n",
    "from pymorphy2 import MorphAnalyzer\n",
    "\n",
    "# лематизация и очистка с помощью пакета морфологического анализа\n",
    "\n",
    "morph = MorphAnalyzer()\n",
    "\n",
    "def word_normalizer(w, pos_types=('NOUN','VERB','ADJF')):\n",
    "    if not morph.word_is_known(w): return ''\n",
    "    p = morph.parse(w)[0] \n",
    "    return p.normal_form if (p.tag.POS in pos_types) else ''\n",
    "\n",
    "def string_normalizer(s):\n",
    "    return re.sub(r'[\\W]+',' ',s.lower().replace('ё','е'))\n",
    "\n",
    "def text_normalizer(s):\n",
    "    return [ word_normalizer(w) for w in string_normalizer(s).split() ]"
   ]
  },
  {
   "cell_type": "code",
   "execution_count": 8,
   "metadata": {},
   "outputs": [
    {
     "name": "stderr",
     "output_type": "stream",
     "text": [
      "100%|██████████| 3196/3196 [01:39<00:00, 31.99it/s]\n",
      "100%|██████████| 3196/3196 [00:00<00:00, 135652.01it/s]\n"
     ]
    }
   ],
   "source": [
    "data['ctext'] = data['text'].progress_apply(text_normalizer).progress_apply(' '.join)"
   ]
  },
  {
   "cell_type": "code",
   "execution_count": 9,
   "metadata": {},
   "outputs": [
    {
     "data": {
      "text/html": [
       "<div>\n",
       "<style scoped>\n",
       "    .dataframe tbody tr th:only-of-type {\n",
       "        vertical-align: middle;\n",
       "    }\n",
       "\n",
       "    .dataframe tbody tr th {\n",
       "        vertical-align: top;\n",
       "    }\n",
       "\n",
       "    .dataframe thead th {\n",
       "        text-align: right;\n",
       "    }\n",
       "</style>\n",
       "<table border=\"1\" class=\"dataframe\">\n",
       "  <thead>\n",
       "    <tr style=\"text-align: right;\">\n",
       "      <th></th>\n",
       "      <th>text</th>\n",
       "      <th>tag</th>\n",
       "      <th>ctext</th>\n",
       "    </tr>\n",
       "  </thead>\n",
       "  <tbody>\n",
       "    <tr>\n",
       "      <th>3135</th>\n",
       "      <td>Север ДВ (severdv.ru) В селе Гадля Ольского района работает детский\\nэтнокультурный лагерь \"Нёлтэн Хедекэн\" В лагере завершается трехгодичный\\nэксперимент по погружению детей в языковую, культурну...</td>\n",
       "      <td>culture</td>\n",
       "      <td>север     сель  ольский район работать детский этнокультурный лагерь    лагер завершаться  эксперимент  погружение ребёнок  языковой культурный среда коренной малочисленный народ север магадан  ию...</td>\n",
       "    </tr>\n",
       "    <tr>\n",
       "      <th>2600</th>\n",
       "      <td>Международным союзом охраны природы был обновлен список редких птиц 740 разновидностями птиц. Из них 13 видов птиц признаны вымершими, более 10% находятся на грани исчезновения.\\n\\nЮлия Афанасьева...</td>\n",
       "      <td>science</td>\n",
       "      <td>международный союз охрана природа быть  список редкий птица  разновидность птица    вид птица     находиться  грань исчезновение юлий афанасьев учёный констатировать   динамик исчезновение редкий ...</td>\n",
       "    </tr>\n",
       "    <tr>\n",
       "      <th>3008</th>\n",
       "      <td>В списке присутствуют как дорогие, так и массовые модели седанов.\\n\\nТак, четырехдверка Lincoln Continental окажется не доступной для россиян, так как её минимальная цена составляет 44 тысячи долл...</td>\n",
       "      <td>auto</td>\n",
       "      <td>список присутствовать  дорогой   массовый модель седан     оказаться  доступный  россиянин    минимальный цена составлять  тысяча доллар   учёт необходимость  адаптация  тот число  необходимость ...</td>\n",
       "    </tr>\n",
       "    <tr>\n",
       "      <th>520</th>\n",
       "      <td>В Барановичах на пешеходном переходе ГАЗ-53 из-за заноса \"уткнулся\" в 8-летнего ребенка\\n\\n7 декабря 2016 в 21:03\\n\\nTUT.BY\\n\\nВ Барановичах грузовик зацепил ребенка, который переходил дорогу по п...</td>\n",
       "      <td>incident</td>\n",
       "      <td>баран  пешеходный переход газ    занос уткнуться   летний ребёнок  декабрь        баран грузовик зацепить ребёнок который переходить дорога  пешеходный переход дтп произойти  декабрь     предвари...</td>\n",
       "    </tr>\n",
       "    <tr>\n",
       "      <th>2247</th>\n",
       "      <td>17:43 12 декабря 2016 21\\n\\nВместо остановки по требованию ребенка высадили практически в лесу Фото: Вадим Ахметов © URA.Ru\\n\\nВодитель автобуса №77 в Перми не остановился на остановке по требован...</td>\n",
       "      <td>incident</td>\n",
       "      <td>декабрь    остановка  требование ребёнок высадить   леса фото вадим ахмет   водитель автобус   пермь  остановиться  остановка  требование маленький пассажир  итог мальчик высадить  мороз   лесн...</td>\n",
       "    </tr>\n",
       "    <tr>\n",
       "      <th>109</th>\n",
       "      <td>ЦСКА переиграл болгарский клуб \"Левски\" со счетом 2:1 В рамках розыгрыша\\nКубка УЕФА московский ЦСКА не без труда переиграл болгарский клуб \"Левски\"\\nсо счетом 2:1...</td>\n",
       "      <td>sport</td>\n",
       "      <td>цска переиграть болгарский клуб   счёт    рамка розыгрыш кубок уефа московский цска   труд переиграть болгарский клуб   счёт</td>\n",
       "    </tr>\n",
       "    <tr>\n",
       "      <th>1180</th>\n",
       "      <td>Встретить Новый год в столице: вилла \"Каменная горка\" — 6000 рублей, в \"Доме Чижа\" — 3000\\n\\n6 декабря 2016 в 9:02\\n\\nЕлена Зуева / REALTY.TUT.BY\\n\\nПо традиции в канун Нового года цены на аренду ...</td>\n",
       "      <td>realty</td>\n",
       "      <td>новый год  столица вилла каменный горка  рубль  дом чиж   декабрь     елена зуев     традиция  канун новое год цена  аренда коттедж подниматься   раз     останавливать тот  хотеть  праздник  прир...</td>\n",
       "    </tr>\n",
       "    <tr>\n",
       "      <th>542</th>\n",
       "      <td>ДТП под Ханты-Мансийском: водитель автобуса за два года семь раз привлекался за нарушение ПДД\\n\\n5 декабря 2016 в 12:20\\n\\nMeduza\\n\\nСтали известны подробности автокатастрофы под Ханты-Мансийском,...</td>\n",
       "      <td>incident</td>\n",
       "      <td>дтп  ханты мансийский водитель автобус   год  раз привлекаться  нарушение   декабрь      стать  подробность автокатастрофа  ханты мансийский  который погибнуть  человек  тот число  ребёнок   челов...</td>\n",
       "    </tr>\n",
       "    <tr>\n",
       "      <th>2467</th>\n",
       "      <td>Этот случай едва не заставил мужчину навсегда отказаться от перевоплощений в Санта-Клауса.\\n\\nТрагичная история произошла в американском штате Теннесси в начале зимы: смертельно больной мальчик ск...</td>\n",
       "      <td>culture</td>\n",
       "      <td>этот случай   заставить мужчина    перевоплощение   клаус трагичный история произойти  американский штат   начало зима  больной мальчик скончаться  рука   клаус этот история рассказать журналист т...</td>\n",
       "    </tr>\n",
       "    <tr>\n",
       "      <th>52</th>\n",
       "      <td>Новое лекарство от СПИДа появится через год... вирус иммунного дефицита,\\nсообщил о том, что он достиг определенных успехов в создании вакцины от\\nСПИДа и надеется начать ее клинические испытания ...</td>\n",
       "      <td>health</td>\n",
       "      <td>новое лекарство  спид появиться  год вирус иммунный дефицит сообщить  тот   достигнуть определённый успех  создание вакцина  спид  надеяться   клинический испытание   доктор роберт  директор инсти...</td>\n",
       "    </tr>\n",
       "  </tbody>\n",
       "</table>\n",
       "</div>"
      ],
      "text/plain": [
       "                                                                                                                                                                                                         text  \\\n",
       "3135  Север ДВ (severdv.ru) В селе Гадля Ольского района работает детский\\nэтнокультурный лагерь \"Нёлтэн Хедекэн\" В лагере завершается трехгодичный\\nэксперимент по погружению детей в языковую, культурну...   \n",
       "2600  Международным союзом охраны природы был обновлен список редких птиц 740 разновидностями птиц. Из них 13 видов птиц признаны вымершими, более 10% находятся на грани исчезновения.\\n\\nЮлия Афанасьева...   \n",
       "3008  В списке присутствуют как дорогие, так и массовые модели седанов.\\n\\nТак, четырехдверка Lincoln Continental окажется не доступной для россиян, так как её минимальная цена составляет 44 тысячи долл...   \n",
       "520   В Барановичах на пешеходном переходе ГАЗ-53 из-за заноса \"уткнулся\" в 8-летнего ребенка\\n\\n7 декабря 2016 в 21:03\\n\\nTUT.BY\\n\\nВ Барановичах грузовик зацепил ребенка, который переходил дорогу по п...   \n",
       "2247  17:43 12 декабря 2016 21\\n\\nВместо остановки по требованию ребенка высадили практически в лесу Фото: Вадим Ахметов © URA.Ru\\n\\nВодитель автобуса №77 в Перми не остановился на остановке по требован...   \n",
       "109                                    ЦСКА переиграл болгарский клуб \"Левски\" со счетом 2:1 В рамках розыгрыша\\nКубка УЕФА московский ЦСКА не без труда переиграл болгарский клуб \"Левски\"\\nсо счетом 2:1...   \n",
       "1180  Встретить Новый год в столице: вилла \"Каменная горка\" — 6000 рублей, в \"Доме Чижа\" — 3000\\n\\n6 декабря 2016 в 9:02\\n\\nЕлена Зуева / REALTY.TUT.BY\\n\\nПо традиции в канун Нового года цены на аренду ...   \n",
       "542   ДТП под Ханты-Мансийском: водитель автобуса за два года семь раз привлекался за нарушение ПДД\\n\\n5 декабря 2016 в 12:20\\n\\nMeduza\\n\\nСтали известны подробности автокатастрофы под Ханты-Мансийском,...   \n",
       "2467  Этот случай едва не заставил мужчину навсегда отказаться от перевоплощений в Санта-Клауса.\\n\\nТрагичная история произошла в американском штате Теннесси в начале зимы: смертельно больной мальчик ск...   \n",
       "52    Новое лекарство от СПИДа появится через год... вирус иммунного дефицита,\\nсообщил о том, что он достиг определенных успехов в создании вакцины от\\nСПИДа и надеется начать ее клинические испытания ...   \n",
       "\n",
       "           tag  \\\n",
       "3135   culture   \n",
       "2600   science   \n",
       "3008      auto   \n",
       "520   incident   \n",
       "2247  incident   \n",
       "109      sport   \n",
       "1180    realty   \n",
       "542   incident   \n",
       "2467   culture   \n",
       "52      health   \n",
       "\n",
       "                                                                                                                                                                                                        ctext  \n",
       "3135  север     сель  ольский район работать детский этнокультурный лагерь    лагер завершаться  эксперимент  погружение ребёнок  языковой культурный среда коренной малочисленный народ север магадан  ию...  \n",
       "2600  международный союз охрана природа быть  список редкий птица  разновидность птица    вид птица     находиться  грань исчезновение юлий афанасьев учёный констатировать   динамик исчезновение редкий ...  \n",
       "3008   список присутствовать  дорогой   массовый модель седан     оказаться  доступный  россиянин    минимальный цена составлять  тысяча доллар   учёт необходимость  адаптация  тот число  необходимость ...  \n",
       "520    баран  пешеходный переход газ    занос уткнуться   летний ребёнок  декабрь        баран грузовик зацепить ребёнок который переходить дорога  пешеходный переход дтп произойти  декабрь     предвари...  \n",
       "2247     декабрь    остановка  требование ребёнок высадить   леса фото вадим ахмет   водитель автобус   пермь  остановиться  остановка  требование маленький пассажир  итог мальчик высадить  мороз   лесн...  \n",
       "109                                                                            цска переиграть болгарский клуб   счёт    рамка розыгрыш кубок уефа московский цска   труд переиграть болгарский клуб   счёт    \n",
       "1180   новый год  столица вилла каменный горка  рубль  дом чиж   декабрь     елена зуев     традиция  канун новое год цена  аренда коттедж подниматься   раз     останавливать тот  хотеть  праздник  прир...  \n",
       "542   дтп  ханты мансийский водитель автобус   год  раз привлекаться  нарушение   декабрь      стать  подробность автокатастрофа  ханты мансийский  который погибнуть  человек  тот число  ребёнок   челов...  \n",
       "2467  этот случай   заставить мужчина    перевоплощение   клаус трагичный история произойти  американский штат   начало зима  больной мальчик скончаться  рука   клаус этот история рассказать журналист т...  \n",
       "52    новое лекарство  спид появиться  год вирус иммунный дефицит сообщить  тот   достигнуть определённый успех  создание вакцина  спид  надеяться   клинический испытание   доктор роберт  директор инсти...  "
      ]
     },
     "execution_count": 9,
     "metadata": {},
     "output_type": "execute_result"
    }
   ],
   "source": [
    "data.sample(10)"
   ]
  },
  {
   "cell_type": "markdown",
   "metadata": {},
   "source": [
    "---"
   ]
  },
  {
   "cell_type": "code",
   "execution_count": 10,
   "metadata": {},
   "outputs": [
    {
     "name": "stdout",
     "output_type": "stream",
     "text": [
      "словарь: 22128 слов\n",
      "\n"
     ]
    }
   ],
   "source": [
    "from sklearn.feature_extraction.text import CountVectorizer\n",
    "count = CountVectorizer().fit(data['ctext'])\n",
    "print( 'словарь:', len(count.vocabulary_), 'слов\\n')  \n",
    "pd.DataFrame( sorted(count.vocabulary_.keys()) ).to_csv('voc.txt',index=False,header=False)"
   ]
  },
  {
   "cell_type": "markdown",
   "metadata": {},
   "source": [
    "##  Vectorizer"
   ]
  },
  {
   "cell_type": "code",
   "execution_count": 11,
   "metadata": {},
   "outputs": [],
   "source": [
    "from sklearn.feature_extraction.text import HashingVectorizer\n",
    "\n",
    "tf = HashingVectorizer( n_features=65536, norm='l2' ).fit( data['ctext'] )"
   ]
  },
  {
   "cell_type": "markdown",
   "metadata": {},
   "source": [
    "## формируем датасеты"
   ]
  },
  {
   "cell_type": "code",
   "execution_count": 12,
   "metadata": {},
   "outputs": [
    {
     "data": {
      "text/plain": [
       "(3196, 65536)"
      ]
     },
     "execution_count": 12,
     "metadata": {},
     "output_type": "execute_result"
    }
   ],
   "source": [
    "X = tf.transform( data['ctext'] )\n",
    "X.shape"
   ]
  },
  {
   "cell_type": "code",
   "execution_count": 13,
   "metadata": {},
   "outputs": [
    {
     "data": {
      "text/plain": [
       "{'auto': 0,\n",
       " 'culture': 1,\n",
       " 'economics': 2,\n",
       " 'health': 3,\n",
       " 'incident': 4,\n",
       " 'politics': 5,\n",
       " 'realty': 6,\n",
       " 'reclama': 7,\n",
       " 'science': 8,\n",
       " 'social': 9,\n",
       " 'sport': 10,\n",
       " 'tech': 11,\n",
       " 'woman': 12}"
      ]
     },
     "execution_count": 13,
     "metadata": {},
     "output_type": "execute_result"
    }
   ],
   "source": [
    "labels = { t:i for i,t in enumerate(sorted(set(data['tag']))) }\n",
    "labels"
   ]
  },
  {
   "cell_type": "code",
   "execution_count": 14,
   "metadata": {},
   "outputs": [
    {
     "data": {
      "text/plain": [
       "array([5, 1, 1, ..., 8, 5, 9])"
      ]
     },
     "execution_count": 14,
     "metadata": {},
     "output_type": "execute_result"
    }
   ],
   "source": [
    "y = data['tag'].map(labels).values\n",
    "y"
   ]
  },
  {
   "cell_type": "markdown",
   "metadata": {},
   "source": [
    "---"
   ]
  },
  {
   "cell_type": "code",
   "execution_count": 15,
   "metadata": {},
   "outputs": [
    {
     "data": {
      "text/plain": [
       "((319, 65536), (319,), (2877, 65536), (2877,))"
      ]
     },
     "execution_count": 15,
     "metadata": {},
     "output_type": "execute_result"
    }
   ],
   "source": [
    "X_train, X_test, y_train, y_test = train_test_split( X, y, test_size=0.9, random_state=326 )\n",
    "X_train.shape, y_train.shape, X_test.shape, y_test.shape"
   ]
  },
  {
   "cell_type": "markdown",
   "metadata": {},
   "source": [
    "## обучаем"
   ]
  },
  {
   "cell_type": "code",
   "execution_count": 16,
   "metadata": {},
   "outputs": [
    {
     "data": {
      "text/plain": [
       "SGDClassifier(tol=0.19)"
      ]
     },
     "execution_count": 16,
     "metadata": {},
     "output_type": "execute_result"
    }
   ],
   "source": [
    "from sklearn.linear_model import SGDClassifier\n",
    "\n",
    "clf = SGDClassifier(loss='hinge',max_iter=1000, tol=0.19)\n",
    "clf.fit(X_train,y_train)"
   ]
  },
  {
   "cell_type": "markdown",
   "metadata": {},
   "source": [
    "## тестируем"
   ]
  },
  {
   "cell_type": "code",
   "execution_count": 17,
   "metadata": {},
   "outputs": [],
   "source": [
    "o = clf.predict(X_train)"
   ]
  },
  {
   "cell_type": "code",
   "execution_count": 18,
   "metadata": {},
   "outputs": [
    {
     "data": {
      "text/plain": [
       "1.0"
      ]
     },
     "execution_count": 18,
     "metadata": {},
     "output_type": "execute_result"
    }
   ],
   "source": [
    "accuracy_score(y_train,o)"
   ]
  },
  {
   "cell_type": "code",
   "execution_count": 19,
   "metadata": {},
   "outputs": [],
   "source": [
    "o = clf.predict(X_test)"
   ]
  },
  {
   "cell_type": "code",
   "execution_count": 20,
   "metadata": {},
   "outputs": [
    {
     "data": {
      "text/plain": [
       "0.7490441432047271"
      ]
     },
     "execution_count": 20,
     "metadata": {},
     "output_type": "execute_result"
    }
   ],
   "source": [
    "accuracy_score(y_test,o)"
   ]
  },
  {
   "cell_type": "code",
   "execution_count": 21,
   "metadata": {},
   "outputs": [
    {
     "name": "stdout",
     "output_type": "stream",
     "text": [
      "              precision    recall  f1-score   support\n",
      "\n",
      "           0       0.78      0.80      0.79       227\n",
      "           1       0.74      0.77      0.76       319\n",
      "           2       0.61      0.81      0.70       240\n",
      "           3       0.46      0.14      0.21        86\n",
      "           4       0.87      0.78      0.82       396\n",
      "           5       0.75      0.89      0.81       542\n",
      "           6       0.66      0.36      0.47        58\n",
      "           7       0.41      0.44      0.42        41\n",
      "           8       0.66      0.91      0.76       200\n",
      "           9       0.57      0.24      0.34       133\n",
      "          10       0.94      0.90      0.92       340\n",
      "          11       0.73      0.66      0.70       262\n",
      "          12       0.00      0.00      0.00        33\n",
      "\n",
      "    accuracy                           0.75      2877\n",
      "   macro avg       0.63      0.59      0.59      2877\n",
      "weighted avg       0.74      0.75      0.73      2877\n",
      "\n"
     ]
    }
   ],
   "source": [
    "print( classification_report(y_test,o) )"
   ]
  },
  {
   "cell_type": "markdown",
   "metadata": {},
   "source": [
    "---"
   ]
  },
  {
   "cell_type": "code",
   "execution_count": 22,
   "metadata": {},
   "outputs": [
    {
     "data": {
      "image/png": "[encoded data removed]",
      "text/plain": [
       "<Figure size 720x648 with 2 Axes>"
      ]
     },
     "metadata": {
      "needs_background": "light"
     },
     "output_type": "display_data"
    }
   ],
   "source": [
    "from matplotlib import pyplot as plt\n",
    "import itertools\n",
    "\n",
    "classes = sorted(labels.keys())\n",
    "cm = confusion_matrix(y_test,o)\n",
    "tick_marks = np.arange(len(classes))\n",
    "\n",
    "plt.figure(figsize=(10,9))\n",
    "\n",
    "plt.xticks(tick_marks, classes, rotation=45)\n",
    "plt.yticks(tick_marks, classes)\n",
    "\n",
    "thresh = cm.max() / 2.\n",
    "for i, j in itertools.product(range(cm.shape[0]), range(cm.shape[1])):\n",
    "    plt.text(j, i, format(cm[i, j], 'd'),\n",
    "             horizontalalignment=\"center\",\n",
    "             color=\"white\" if cm[i, j] > thresh else \"black\")\n",
    "\n",
    "plt.title('Confusion matrix')\n",
    "plt.tight_layout()\n",
    "plt.ylabel('True label')\n",
    "plt.xlabel('Predicted label')\n",
    "plt.imshow(cm, interpolation='nearest', cmap=plt.cm.Blues)\n",
    "plt.colorbar()\n",
    "\n",
    "plt.show()"
   ]
  },
  {
   "cell_type": "markdown",
   "metadata": {},
   "source": [
    "---"
   ]
  },
  {
   "cell_type": "code",
   "execution_count": 23,
   "metadata": {},
   "outputs": [],
   "source": [
    "o = clf.predict(X)"
   ]
  },
  {
   "cell_type": "code",
   "execution_count": 24,
   "metadata": {},
   "outputs": [],
   "source": [
    "labels_inv = { labels[k]:k for k in labels}\n",
    "# labels_inv"
   ]
  },
  {
   "cell_type": "code",
   "execution_count": 25,
   "metadata": {},
   "outputs": [
    {
     "name": "stdout",
     "output_type": "stream",
     "text": [
      "tag: sport\n",
      "predict: sport\n",
      "МОСКВА, 13 декабря. /ТАСС/. \"Вильярреал\" крупно победил мадридский \"Атлетико\" в домашнем матче 15-го тура чемпионата Испании по футболу. Встреча завершилась со счетом 3:0. Мячи забили Мануэль Тригеро...\n",
      "- - - - - - - - - - - - - - - - - -\n",
      "tag: politics\n",
      "predict: politics\n",
      "Лидер Радикальной партии Олег Ляшко раскритиковал депутата Верховной рады Украины от партии «Батькивщина» Надежду Савченко за встречу с главами самопровозглашенных Донецкой и Луганской народных респуб...\n",
      "- - - - - - - - - - - - - - - - - -\n",
      "tag: politics\n",
      "predict: politics\n",
      "На своей странице в \"фейсбуке\" Ляшко назвал поступок Савченко государственной изменой и предложил запретить ей доступ к гостайне, отозвать из ПАСЕ и лишить депутатского мандата. — То, что сейчас чуди...\n",
      "- - - - - - - - - - - - - - - - - -\n",
      "tag: culture\n",
      "predict: woman\n",
      "Ноксвилл, штат Теннесси, 13 декабря. Получив звонок из местной больницы, в котором его просили навестить смертельно больного пятилетнего мальчика, который как заявили врачи, может не дожить до рождест...\n",
      "- - - - - - - - - - - - - - - - - -\n",
      "tag: culture\n",
      "predict: culture\n",
      "Уфимец вошел в число самых главных поклонников группы «Чайф». Такие данные предоставили в компании «Яндекс.Музыка». Статистика собрана по результатам использования сервиса в течение 2016 года. Житель...\n",
      "- - - - - - - - - - - - - - - - - -\n",
      "tag: science\n",
      "predict: science\n",
      "Ученые раскрыли природу чрезвычайно яркой вспышки, зарегистрированной в июле 2015 года. Ученые объяснили природу необычной вспышки во Вселенной, которую заметили астрономы в июле 2015 года. Эксперты...\n",
      "- - - - - - - - - - - - - - - - - -\n",
      "tag: culture\n",
      "predict: culture\n",
      "Тур Winston Clubbin'Clouds завершит выступление Франсуа Кеворкяна 2\n",
      "декабря в рамках финальной вечеринки всероссийского клубного тура\n",
      "Clubbin'Clouds Москву посетит легенда хаус-музыки Франсуа Кеворкян...\n",
      "- - - - - - - - - - - - - - - - - -\n",
      "tag: auto\n",
      "predict: auto\n",
      "11-12-2016, 00:45 Аналитики российского рынка автопродаж составили список самых популярных в РФ автомобилей с автоматическими трансмиссиями. Агентство «Автостат» его обнародовало. Как оказалось, за ...\n",
      "- - - - - - - - - - - - - - - - - -\n",
      "tag: politics\n",
      "predict: politics\n",
      "\"О том, что я \"проект Кремля\", и любые выпады, какие я про себя слышу, - это все полная чушь. Я уже к этому привыкла и считаю, что пусть украинский народ решит, кто из депутатов говорит то, что украин...\n",
      "- - - - - - - - - - - - - - - - - -\n",
      "tag: culture\n",
      "predict: culture\n",
      "Вновь обретенного Тициана продадут за пять миллионов фунтов Одна из\n",
      "картин Тициана, которая не так давно считалась утраченной, в четверг\n",
      "будет продана на лондонском аукционе Christie's, сообщает BBC N...\n",
      "- - - - - - - - - - - - - - - - - -\n"
     ]
    }
   ],
   "source": [
    "for n in range(10):\n",
    "    i = rng.randint(len(data))\n",
    "    print('tag:',data.iloc[i,1])\n",
    "    print('predict:',labels_inv[o[i]])\n",
    "    print(re.sub(r'\\n\\s*\\n',' ',data.iloc[i,0][:200])+'...')\n",
    "    print('- - - - - - - - - - - - - - - - - -')\n",
    "    "
   ]
  },
  {
   "cell_type": "code",
   "execution_count": 26,
   "metadata": {},
   "outputs": [],
   "source": [
    "# https://habr.com/ru/post/205360/"
   ]
  }
 ],
 "metadata": {
  "kernelspec": {
   "display_name": "Python 3",
   "language": "python",
   "name": "python3"
  },
  "language_info": {
   "codemirror_mode": {
    "name": "ipython",
    "version": 3
   },
   "file_extension": ".py",
   "mimetype": "text/x-python",
   "name": "python",
   "nbconvert_exporter": "python",
   "pygments_lexer": "ipython3",
   "version": "3.8.6"
  },
  "toc": {
   "base_numbering": 1,
   "nav_menu": {},
   "number_sections": true,
   "sideBar": true,
   "skip_h1_title": false,
   "title_cell": "Table of Contents",
   "title_sidebar": "Contents",
   "toc_cell": false,
   "toc_position": {},
   "toc_section_display": true,
   "toc_window_display": false
  }
 },
 "nbformat": 4,
 "nbformat_minor": 2
}
