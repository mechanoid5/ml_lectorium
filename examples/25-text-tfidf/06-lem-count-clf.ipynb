{
 "cells": [
  {
   "cell_type": "markdown",
   "metadata": {},
   "source": [
    "**извлечение признаков из текста на естественном языке**\n",
    "\n",
    "классификатор текстов лемматизация+TfidfVectorizer\n",
    "\n",
    "Евгений Борисов borisov.e@solarl.ru"
   ]
  },
  {
   "cell_type": "markdown",
   "metadata": {},
   "source": [
    "## библиотеки"
   ]
  },
  {
   "cell_type": "code",
   "execution_count": 1,
   "metadata": {},
   "outputs": [
    {
     "name": "stderr",
     "output_type": "stream",
     "text": [
      "/usr/lib/python3.8/site-packages/tqdm/std.py:703: FutureWarning: The Panel class is removed from pandas. Accessing it from the top-level namespace will also be removed in the next version\n",
      "  from pandas import Panel\n"
     ]
    }
   ],
   "source": [
    "import re\n",
    "# import gzip\n",
    "import numpy as np\n",
    "import numpy.random as rng\n",
    "import pandas as pd\n",
    "from tqdm import tqdm\n",
    "\n",
    "np.set_printoptions(precision=2) # вывод на печать чисел до 2 знака\n",
    "pd.options.display.max_colwidth = 200 \n",
    "\n",
    "tqdm.pandas()"
   ]
  },
  {
   "cell_type": "code",
   "execution_count": 2,
   "metadata": {},
   "outputs": [],
   "source": [
    "# import numpy as np\n",
    "# import pandas as pd\n",
    "# import re"
   ]
  },
  {
   "cell_type": "code",
   "execution_count": 3,
   "metadata": {},
   "outputs": [
    {
     "data": {
      "text/plain": [
       "'0.23.2'"
      ]
     },
     "execution_count": 3,
     "metadata": {},
     "output_type": "execute_result"
    }
   ],
   "source": [
    "from sklearn import __version__ as SKLEARN_VERSION\n",
    "\n",
    "from sklearn.feature_extraction.text import TfidfVectorizer\n",
    "\n",
    "from sklearn.model_selection import train_test_split\n",
    "from sklearn.metrics import confusion_matrix\n",
    "from sklearn.metrics import classification_report\n",
    "from sklearn.metrics import accuracy_score\n",
    "\n",
    "SKLEARN_VERSION"
   ]
  },
  {
   "cell_type": "code",
   "execution_count": 4,
   "metadata": {},
   "outputs": [],
   "source": [
    "from pymorphy2 import MorphAnalyzer"
   ]
  },
  {
   "cell_type": "markdown",
   "metadata": {},
   "source": [
    "## тексты"
   ]
  },
  {
   "cell_type": "code",
   "execution_count": 5,
   "metadata": {},
   "outputs": [
    {
     "name": "stdout",
     "output_type": "stream",
     "text": [
      "записей: 3196\n"
     ]
    },
    {
     "data": {
      "text/html": [
       "<div>\n",
       "<style scoped>\n",
       "    .dataframe tbody tr th:only-of-type {\n",
       "        vertical-align: middle;\n",
       "    }\n",
       "\n",
       "    .dataframe tbody tr th {\n",
       "        vertical-align: top;\n",
       "    }\n",
       "\n",
       "    .dataframe thead th {\n",
       "        text-align: right;\n",
       "    }\n",
       "</style>\n",
       "<table border=\"1\" class=\"dataframe\">\n",
       "  <thead>\n",
       "    <tr style=\"text-align: right;\">\n",
       "      <th></th>\n",
       "      <th>text</th>\n",
       "      <th>tag</th>\n",
       "    </tr>\n",
       "  </thead>\n",
       "  <tbody>\n",
       "    <tr>\n",
       "      <th>2006</th>\n",
       "      <td>Опорный полузащитник «Атлетико Паранаэнсе»может продолжить карьеру в «Зените», утверждает Tretis TV.\\n\\nПо информации источника, клубы уже ведут переговоры, которые находятся в продвинутой стадии....</td>\n",
       "      <td>sport</td>\n",
       "    </tr>\n",
       "    <tr>\n",
       "      <th>2702</th>\n",
       "      <td>Apple может вложить до $1 млрд в фонд SoftBank — СМИ Итоги переговоров пока неизвестны\\n\\nКомпания Apple обсудила с японской телекоммуникационной компанией SoftBank возможность вложений до $1 млрд...</td>\n",
       "      <td>tech</td>\n",
       "    </tr>\n",
       "  </tbody>\n",
       "</table>\n",
       "</div>"
      ],
      "text/plain": [
       "                                                                                                                                                                                                         text  \\\n",
       "2006  Опорный полузащитник «Атлетико Паранаэнсе»может продолжить карьеру в «Зените», утверждает Tretis TV.\\n\\nПо информации источника, клубы уже ведут переговоры, которые находятся в продвинутой стадии....   \n",
       "2702  Apple может вложить до $1 млрд в фонд SoftBank — СМИ Итоги переговоров пока неизвестны\\n\\nКомпания Apple обсудила с японской телекоммуникационной компанией SoftBank возможность вложений до $1 млрд...   \n",
       "\n",
       "        tag  \n",
       "2006  sport  \n",
       "2702   tech  "
      ]
     },
     "execution_count": 5,
     "metadata": {},
     "output_type": "execute_result"
    }
   ],
   "source": [
    "# загружаем тексты\n",
    "data = pd.read_pickle('../data/news.pkl.gz')\n",
    "print('записей:',len(data))\n",
    "data.sample(2)"
   ]
  },
  {
   "cell_type": "markdown",
   "metadata": {},
   "source": [
    "## токенизация и очистка"
   ]
  },
  {
   "cell_type": "code",
   "execution_count": 6,
   "metadata": {},
   "outputs": [],
   "source": [
    "# лемматизация и очистка с помощью пакета морфологического анализа\n",
    "\n",
    "morph = MorphAnalyzer()\n",
    "\n",
    "# NOUN\tсуществительное\n",
    "# VERB\tглагол\n",
    "# ADJF\tприлагательное\n",
    "def word_normalizer(w, pos_types=('NOUN','VERB','ADJF')):\n",
    "    if not morph.word_is_known(w): return ''\n",
    "    p = morph.parse(w)[0] \n",
    "    return p.normal_form if (p.tag.POS in pos_types) else ''\n",
    "\n",
    "def string_normalizer(s):\n",
    "    return re.sub(r'[\\W]+',' ',s.lower().replace('ё','е'))\n",
    "\n",
    "def text_normalizer_tokenize(s):\n",
    "    return [ word_normalizer(w) for w in string_normalizer(s).split() ]"
   ]
  },
  {
   "cell_type": "code",
   "execution_count": 7,
   "metadata": {},
   "outputs": [
    {
     "name": "stderr",
     "output_type": "stream",
     "text": [
      "100%|██████████| 3196/3196 [01:41<00:00, 31.63it/s]\n"
     ]
    }
   ],
   "source": [
    "data['ctext'] = data['text'].progress_apply( text_normalizer_tokenize )"
   ]
  },
  {
   "cell_type": "code",
   "execution_count": 8,
   "metadata": {},
   "outputs": [
    {
     "name": "stdout",
     "output_type": "stream",
     "text": [
      "словарь 22130 слов\n"
     ]
    }
   ],
   "source": [
    "# собираем словарь\n",
    "vcb0 = [ set(s) for s in data['ctext'].tolist() ]\n",
    "vcb0 = sorted(set.union(*vcb0))\n",
    "print('словарь %i слов'%(len(vcb0)))\n",
    "# pd.DataFrame( vcb0 ).to_csv('voc0.txt',index=False,header=False)"
   ]
  },
  {
   "cell_type": "markdown",
   "metadata": {},
   "source": [
    "##  Vectorizer"
   ]
  },
  {
   "cell_type": "code",
   "execution_count": 9,
   "metadata": {},
   "outputs": [],
   "source": [
    "data['ctext'] = data['ctext'].apply( ' '.join  )"
   ]
  },
  {
   "cell_type": "code",
   "execution_count": 10,
   "metadata": {},
   "outputs": [
    {
     "data": {
      "text/html": [
       "<div>\n",
       "<style scoped>\n",
       "    .dataframe tbody tr th:only-of-type {\n",
       "        vertical-align: middle;\n",
       "    }\n",
       "\n",
       "    .dataframe tbody tr th {\n",
       "        vertical-align: top;\n",
       "    }\n",
       "\n",
       "    .dataframe thead th {\n",
       "        text-align: right;\n",
       "    }\n",
       "</style>\n",
       "<table border=\"1\" class=\"dataframe\">\n",
       "  <thead>\n",
       "    <tr style=\"text-align: right;\">\n",
       "      <th></th>\n",
       "      <th>text</th>\n",
       "      <th>tag</th>\n",
       "      <th>ctext</th>\n",
       "    </tr>\n",
       "  </thead>\n",
       "  <tbody>\n",
       "    <tr>\n",
       "      <th>2144</th>\n",
       "      <td>Футболисты «Фиорентины» в домашнем матче 16-го тура чемпионата Италии переиграли «Сассуоло».\\n\\nВстреча, прошедшая в понедельник во Флоренции на стадионе «Артемио Франки», завершилась со счетом 2:...</td>\n",
       "      <td>sport</td>\n",
       "      <td>футболист   домашний матч  го тур чемпионат италия переиграть  встреча   понедельник  флоренция  стадион  франк завершиться  счёт    польза хозяин   состав дубль отметиться    гость отличиться фра...</td>\n",
       "    </tr>\n",
       "    <tr>\n",
       "      <th>1878</th>\n",
       "      <td>СМИ: во Франции найден рисунок Леонардо да Винчи за €15 миллионов\\n\\nМОСКВА, 13 дек — РИА Новости. Рисунок Леонардо да Винчи стоимостью в 15 миллионов евро случайно обнаружили в Париже, пишет изда...</td>\n",
       "      <td>culture</td>\n",
       "      <td>сми  франция  рисунок леонардо  винчи   миллион москва  дек риа новость рисунок леонардо  винчи стоимость   миллион евро  обнаружить  париж писать издание  сообщаться   март французский доктор  пе...</td>\n",
       "    </tr>\n",
       "    <tr>\n",
       "      <th>1444</th>\n",
       "      <td>04:40 - 13.12.2016\\n\\nДональд Трамп, избранный новым президентом США, намерен в январе 2017 года провести пресс-конференцию, где расскажет журналистам о дальнейшей судьбе своей бизнес-империи.\\n\\n...</td>\n",
       "      <td>politics</td>\n",
       "      <td>дональд трамп избранный новый президент сша   январь  год  пресс конференция  рассказать журналист  дальнейший судьба свой бизнес империя   сообщить представитель миллиардер шон   данные аген...</td>\n",
       "    </tr>\n",
       "    <tr>\n",
       "      <th>2225</th>\n",
       "      <td>Жуткое ДТП с автобусом произошло на проспекте Солидарности, около дома 10к1,\\n\\nАвтобус врезался в грузовик,\\n\\nна месте все, даже трамваям не повезло.</td>\n",
       "      <td>incident</td>\n",
       "      <td>жуткий дтп  автобус произойти  проспект солидарность  дом  автобус врезаться  грузовик  место весь  трамвай  повезти</td>\n",
       "    </tr>\n",
       "    <tr>\n",
       "      <th>939</th>\n",
       "      <td>Могилевским депутатам парламента передали более 500 подписей горожан против налога на тунеядство\\n\\n8 декабря 2016 в 14:01\\n\\nTUT.BY\\n\\nПодписи против налога на тунеядство передали депутатам парла...</td>\n",
       "      <td>economics</td>\n",
       "      <td>могилевский депутат парламент передать   подпись горожанин  налог  тунеядство  декабрь       подпись  налог  тунеядство передать депутат парламент избранный  могилев  свой протест  декрет  выразит...</td>\n",
       "    </tr>\n",
       "    <tr>\n",
       "      <th>3010</th>\n",
       "      <td>Назван пятерка легковых автомобилей, которые приобрести в России будет невозможно.\\n\\nЗа Renault Megane придется ехать за границу\\n\\nКак сообщают СМИ, речь идет о седанах, которые большинство авто...</td>\n",
       "      <td>auto</td>\n",
       "      <td>пятёрка легковой автомобиль который   россия быть     прийтись   граница  сообщать сми речь идти  седан который большинство автолюбитель хотеть    отечественный    сила разный обстоятельство     ...</td>\n",
       "    </tr>\n",
       "    <tr>\n",
       "      <th>1089</th>\n",
       "      <td>Хоккеисты \"Немана\" одержали победу, уступая с разницей в четыре шайбы\\n\\n9 декабря 2016 в 7:55\\n\\nДмитрий Власов, БелаПАН\\n\\nФото: hcdinamo.by\\n\\nВ очередном туре хоккейного чемпионата страны 8 де...</td>\n",
       "      <td>sport</td>\n",
       "      <td>хоккеист неман одержать победа   разница   шайба  декабрь     дмитрий власов  фото    очередной тур хоккейный чемпионат страна  декабрь   второе место неман выиграть дом  буллит  динамо молодечно ...</td>\n",
       "    </tr>\n",
       "    <tr>\n",
       "      <th>918</th>\n",
       "      <td>Трейлеры недели: новый фильм Скорсезе, а также продолжения \"Тачек\" и \"Смурфиков\"\\n\\n28 ноября 2016 в 9:45\\n\\nAFISHA.TUT.BY\\n\\nВ минском прокате уже идет один фильм с Эндрю Гарфилдом в главных роля...</td>\n",
       "      <td>culture</td>\n",
       "      <td>трейлер неделя новый фильм    продолжение тачка    ноябрь         минск прокат  идти один фильм  эндрю   главный роль   месяц состояться премьера другой проект  участие американский актёр  авторст...</td>\n",
       "    </tr>\n",
       "    <tr>\n",
       "      <th>1582</th>\n",
       "      <td>В компании \"Яндекс\" подвели итоги 2016 года в музыке и посчитали, какие песни, альбомы и исполнители были самыми популярными среди петербургских пользователей в уходящем году.\\n\\nВ список 10 самых...</td>\n",
       "      <td>culture</td>\n",
       "      <td>компания яндекс подвести итог  год  музыка  посчитать какой песнь альбом  исполнитель быть самый популярный  петербургский пользователь   год  список  самый  композиция   год  попасть  один русск...</td>\n",
       "    </tr>\n",
       "    <tr>\n",
       "      <th>1569</th>\n",
       "      <td>За прошедшие сутки сирийская армия освободила от террористов еще пять кварталов восточной части Алеппо, сообщил официальный представитель Минобороны РФ Игорь Конашенков.\\n\\n«С начала проведения си...</td>\n",
       "      <td>politics</td>\n",
       "      <td>прошедшее сутки сирийский армия освободить  террорист   квартал восточный часть  сообщить официальный представитель минобороны рф игорь   начало проведение сирийский войско операция  освобождение...</td>\n",
       "    </tr>\n",
       "  </tbody>\n",
       "</table>\n",
       "</div>"
      ],
      "text/plain": [
       "                                                                                                                                                                                                         text  \\\n",
       "2144  Футболисты «Фиорентины» в домашнем матче 16-го тура чемпионата Италии переиграли «Сассуоло».\\n\\nВстреча, прошедшая в понедельник во Флоренции на стадионе «Артемио Франки», завершилась со счетом 2:...   \n",
       "1878  СМИ: во Франции найден рисунок Леонардо да Винчи за €15 миллионов\\n\\nМОСКВА, 13 дек — РИА Новости. Рисунок Леонардо да Винчи стоимостью в 15 миллионов евро случайно обнаружили в Париже, пишет изда...   \n",
       "1444  04:40 - 13.12.2016\\n\\nДональд Трамп, избранный новым президентом США, намерен в январе 2017 года провести пресс-конференцию, где расскажет журналистам о дальнейшей судьбе своей бизнес-империи.\\n\\n...   \n",
       "2225                                                  Жуткое ДТП с автобусом произошло на проспекте Солидарности, около дома 10к1,\\n\\nАвтобус врезался в грузовик,\\n\\nна месте все, даже трамваям не повезло.   \n",
       "939   Могилевским депутатам парламента передали более 500 подписей горожан против налога на тунеядство\\n\\n8 декабря 2016 в 14:01\\n\\nTUT.BY\\n\\nПодписи против налога на тунеядство передали депутатам парла...   \n",
       "3010  Назван пятерка легковых автомобилей, которые приобрести в России будет невозможно.\\n\\nЗа Renault Megane придется ехать за границу\\n\\nКак сообщают СМИ, речь идет о седанах, которые большинство авто...   \n",
       "1089  Хоккеисты \"Немана\" одержали победу, уступая с разницей в четыре шайбы\\n\\n9 декабря 2016 в 7:55\\n\\nДмитрий Власов, БелаПАН\\n\\nФото: hcdinamo.by\\n\\nВ очередном туре хоккейного чемпионата страны 8 де...   \n",
       "918   Трейлеры недели: новый фильм Скорсезе, а также продолжения \"Тачек\" и \"Смурфиков\"\\n\\n28 ноября 2016 в 9:45\\n\\nAFISHA.TUT.BY\\n\\nВ минском прокате уже идет один фильм с Эндрю Гарфилдом в главных роля...   \n",
       "1582  В компании \"Яндекс\" подвели итоги 2016 года в музыке и посчитали, какие песни, альбомы и исполнители были самыми популярными среди петербургских пользователей в уходящем году.\\n\\nВ список 10 самых...   \n",
       "1569  За прошедшие сутки сирийская армия освободила от террористов еще пять кварталов восточной части Алеппо, сообщил официальный представитель Минобороны РФ Игорь Конашенков.\\n\\n«С начала проведения си...   \n",
       "\n",
       "            tag  \\\n",
       "2144      sport   \n",
       "1878    culture   \n",
       "1444   politics   \n",
       "2225   incident   \n",
       "939   economics   \n",
       "3010       auto   \n",
       "1089      sport   \n",
       "918     culture   \n",
       "1582    culture   \n",
       "1569   politics   \n",
       "\n",
       "                                                                                                                                                                                                        ctext  \n",
       "2144  футболист   домашний матч  го тур чемпионат италия переиграть  встреча   понедельник  флоренция  стадион  франк завершиться  счёт    польза хозяин   состав дубль отметиться    гость отличиться фра...  \n",
       "1878  сми  франция  рисунок леонардо  винчи   миллион москва  дек риа новость рисунок леонардо  винчи стоимость   миллион евро  обнаружить  париж писать издание  сообщаться   март французский доктор  пе...  \n",
       "1444       дональд трамп избранный новый президент сша   январь  год  пресс конференция  рассказать журналист  дальнейший судьба свой бизнес империя   сообщить представитель миллиардер шон   данные аген...  \n",
       "2225                                                                                     жуткий дтп  автобус произойти  проспект солидарность  дом  автобус врезаться  грузовик  место весь  трамвай  повезти  \n",
       "939   могилевский депутат парламент передать   подпись горожанин  налог  тунеядство  декабрь       подпись  налог  тунеядство передать депутат парламент избранный  могилев  свой протест  декрет  выразит...  \n",
       "3010   пятёрка легковой автомобиль который   россия быть     прийтись   граница  сообщать сми речь идти  седан который большинство автолюбитель хотеть    отечественный    сила разный обстоятельство     ...  \n",
       "1089  хоккеист неман одержать победа   разница   шайба  декабрь     дмитрий власов  фото    очередной тур хоккейный чемпионат страна  декабрь   второе место неман выиграть дом  буллит  динамо молодечно ...  \n",
       "918   трейлер неделя новый фильм    продолжение тачка    ноябрь         минск прокат  идти один фильм  эндрю   главный роль   месяц состояться премьера другой проект  участие американский актёр  авторст...  \n",
       "1582   компания яндекс подвести итог  год  музыка  посчитать какой песнь альбом  исполнитель быть самый популярный  петербургский пользователь   год  список  самый  композиция   год  попасть  один русск...  \n",
       "1569   прошедшее сутки сирийский армия освободить  террорист   квартал восточный часть  сообщить официальный представитель минобороны рф игорь   начало проведение сирийский войско операция  освобождение...  "
      ]
     },
     "execution_count": 10,
     "metadata": {},
     "output_type": "execute_result"
    }
   ],
   "source": [
    "data.sample(10)"
   ]
  },
  {
   "cell_type": "code",
   "execution_count": 11,
   "metadata": {},
   "outputs": [
    {
     "name": "stdout",
     "output_type": "stream",
     "text": [
      "22128\n"
     ]
    }
   ],
   "source": [
    "tf = TfidfVectorizer(use_idf=True, norm='l2').fit( data['ctext'] )\n",
    "vcb1 = sorted(tf.vocabulary_)\n",
    "print(len(vcb1))\n",
    "# pd.DataFrame( vcb1 ).to_csv('voc1.txt',index=False,header=False)"
   ]
  },
  {
   "cell_type": "code",
   "execution_count": 12,
   "metadata": {},
   "outputs": [
    {
     "data": {
      "text/plain": [
       "{'', 'е'}"
      ]
     },
     "execution_count": 12,
     "metadata": {},
     "output_type": "execute_result"
    }
   ],
   "source": [
    "set(vcb0) - set(vcb1)"
   ]
  },
  {
   "cell_type": "markdown",
   "metadata": {},
   "source": [
    "## формируем датасеты"
   ]
  },
  {
   "cell_type": "code",
   "execution_count": 13,
   "metadata": {},
   "outputs": [
    {
     "data": {
      "text/plain": [
       "(3196, 22128)"
      ]
     },
     "execution_count": 13,
     "metadata": {},
     "output_type": "execute_result"
    }
   ],
   "source": [
    "X = tf.transform( data['ctext'] )\n",
    "X.shape"
   ]
  },
  {
   "cell_type": "code",
   "execution_count": 14,
   "metadata": {},
   "outputs": [
    {
     "data": {
      "text/plain": [
       "{'auto': 0,\n",
       " 'culture': 1,\n",
       " 'economics': 2,\n",
       " 'health': 3,\n",
       " 'incident': 4,\n",
       " 'politics': 5,\n",
       " 'realty': 6,\n",
       " 'reclama': 7,\n",
       " 'science': 8,\n",
       " 'social': 9,\n",
       " 'sport': 10,\n",
       " 'tech': 11,\n",
       " 'woman': 12}"
      ]
     },
     "execution_count": 14,
     "metadata": {},
     "output_type": "execute_result"
    }
   ],
   "source": [
    "labels = { t:i for i,t in enumerate(sorted(set(data['tag']))) }\n",
    "labels"
   ]
  },
  {
   "cell_type": "code",
   "execution_count": 15,
   "metadata": {},
   "outputs": [
    {
     "data": {
      "text/plain": [
       "array([5, 1, 1, ..., 8, 5, 9])"
      ]
     },
     "execution_count": 15,
     "metadata": {},
     "output_type": "execute_result"
    }
   ],
   "source": [
    "y = data['tag'].map(labels).values\n",
    "y"
   ]
  },
  {
   "cell_type": "code",
   "execution_count": 16,
   "metadata": {},
   "outputs": [
    {
     "data": {
      "text/plain": [
       "((2237, 22128), (2237,), (959, 22128), (959,))"
      ]
     },
     "execution_count": 16,
     "metadata": {},
     "output_type": "execute_result"
    }
   ],
   "source": [
    "X_train, X_test, y_train, y_test = train_test_split( X, y, test_size=0.3, random_state=326 )\n",
    "X_train.shape, y_train.shape, X_test.shape, y_test.shape"
   ]
  },
  {
   "cell_type": "markdown",
   "metadata": {},
   "source": [
    "## обучаем классификатор"
   ]
  },
  {
   "cell_type": "code",
   "execution_count": 17,
   "metadata": {},
   "outputs": [
    {
     "data": {
      "text/plain": [
       "SGDClassifier(tol=0.19)"
      ]
     },
     "execution_count": 17,
     "metadata": {},
     "output_type": "execute_result"
    }
   ],
   "source": [
    "from sklearn.linear_model import SGDClassifier\n",
    "\n",
    "clf = SGDClassifier(loss='hinge',max_iter=1000, tol=0.19)\n",
    "clf.fit(X_train,y_train)"
   ]
  },
  {
   "cell_type": "markdown",
   "metadata": {},
   "source": [
    "## тестируем"
   ]
  },
  {
   "cell_type": "code",
   "execution_count": 18,
   "metadata": {},
   "outputs": [],
   "source": [
    "o = clf.predict(X_train)"
   ]
  },
  {
   "cell_type": "code",
   "execution_count": 19,
   "metadata": {},
   "outputs": [
    {
     "data": {
      "text/plain": [
       "0.9995529727313366"
      ]
     },
     "execution_count": 19,
     "metadata": {},
     "output_type": "execute_result"
    }
   ],
   "source": [
    "accuracy_score(y_train,o)"
   ]
  },
  {
   "cell_type": "code",
   "execution_count": 20,
   "metadata": {},
   "outputs": [],
   "source": [
    "o = clf.predict(X_test)"
   ]
  },
  {
   "cell_type": "code",
   "execution_count": 21,
   "metadata": {},
   "outputs": [
    {
     "data": {
      "text/plain": [
       "0.8779979144942649"
      ]
     },
     "execution_count": 21,
     "metadata": {},
     "output_type": "execute_result"
    }
   ],
   "source": [
    "accuracy_score(y_test,o)"
   ]
  },
  {
   "cell_type": "code",
   "execution_count": 22,
   "metadata": {},
   "outputs": [
    {
     "name": "stdout",
     "output_type": "stream",
     "text": [
      "              precision    recall  f1-score   support\n",
      "\n",
      "           0       0.93      0.90      0.91        87\n",
      "           1       0.82      0.96      0.89       101\n",
      "           2       0.85      0.84      0.85        76\n",
      "           3       0.85      0.71      0.77        31\n",
      "           4       0.90      0.92      0.91       123\n",
      "           5       0.89      0.95      0.92       177\n",
      "           6       0.76      0.62      0.68        21\n",
      "           7       0.89      0.47      0.62        17\n",
      "           8       0.82      1.00      0.90        68\n",
      "           9       0.62      0.34      0.44        44\n",
      "          10       0.97      0.99      0.98       118\n",
      "          11       0.87      0.81      0.84        89\n",
      "          12       1.00      0.86      0.92         7\n",
      "\n",
      "    accuracy                           0.88       959\n",
      "   macro avg       0.86      0.80      0.82       959\n",
      "weighted avg       0.87      0.88      0.87       959\n",
      "\n"
     ]
    }
   ],
   "source": [
    "print( classification_report(y_test,o) )"
   ]
  },
  {
   "cell_type": "markdown",
   "metadata": {},
   "source": [
    "---"
   ]
  },
  {
   "cell_type": "code",
   "execution_count": 23,
   "metadata": {},
   "outputs": [
    {
     "data": {
      "image/png": "[encoded data removed]",
      "text/plain": [
       "<Figure size 720x648 with 2 Axes>"
      ]
     },
     "metadata": {
      "needs_background": "light"
     },
     "output_type": "display_data"
    }
   ],
   "source": [
    "from matplotlib import pyplot as plt\n",
    "import itertools\n",
    "\n",
    "classes = sorted(labels.keys())\n",
    "cm = confusion_matrix(y_test,o)\n",
    "tick_marks = np.arange(len(classes))\n",
    "\n",
    "plt.figure(figsize=(10,9))\n",
    "\n",
    "plt.xticks(tick_marks, classes, rotation=45)\n",
    "plt.yticks(tick_marks, classes)\n",
    "\n",
    "thresh = cm.max() / 2.\n",
    "for i, j in itertools.product(range(cm.shape[0]), range(cm.shape[1])):\n",
    "    plt.text(j, i, format(cm[i, j], 'd'),\n",
    "             horizontalalignment=\"center\",\n",
    "             color=\"white\" if cm[i, j] > thresh else \"black\")\n",
    "\n",
    "plt.title('Confusion matrix')\n",
    "plt.tight_layout()\n",
    "plt.ylabel('True label')\n",
    "plt.xlabel('Predicted label')\n",
    "plt.imshow(cm, interpolation='nearest', cmap=plt.cm.Blues)\n",
    "plt.colorbar()\n",
    "\n",
    "plt.show()"
   ]
  },
  {
   "cell_type": "markdown",
   "metadata": {},
   "source": [
    "---"
   ]
  },
  {
   "cell_type": "code",
   "execution_count": 24,
   "metadata": {},
   "outputs": [],
   "source": [
    "o = clf.predict(X)"
   ]
  },
  {
   "cell_type": "code",
   "execution_count": 25,
   "metadata": {},
   "outputs": [],
   "source": [
    "labels_inv = { labels[k]:k for k in labels }\n",
    "# labels_inv"
   ]
  },
  {
   "cell_type": "code",
   "execution_count": 26,
   "metadata": {},
   "outputs": [
    {
     "name": "stdout",
     "output_type": "stream",
     "text": [
      "tag: health\n",
      "predict: health\n",
      "Геморрагическая лихорадка продолжает наступление на Оренбуржье В Оренбургской\n",
      "области продолжается высокий сезонный подъем заболеваемости геморрагической\n",
      "лихорадкой с почечным синдромом. На 15 ноября ...\n",
      "- - - - - - - - - - - - - - - - - -\n",
      "tag: politics\n",
      "predict: politics\n",
      "Ради Кондолизы Райс в университете Шевченко вывесили новые шторы Около\n",
      "350 человек собрались в актовом зале Национального университета им.\n",
      "Тараса Шевченко в Киеве, где назначена встреча с государствен...\n",
      "- - - - - - - - - - - - - - - - - -\n",
      "tag: tech\n",
      "predict: tech\n",
      "Apple может инвестировать до $1 млрд в фонд, создаваемый SoftBank Apple Inc. может инвестировать до $1 млрд в фонд общим объемом $100 млрд, создаваемый японской телекоммуникационной компанией SoftBan...\n",
      "- - - - - - - - - - - - - - - - - -\n",
      "tag: social\n",
      "predict: social\n",
      "Минчанин тайно переночевал в батутном центре и стал звездой YouTube 5 декабря 2016 в 9:08 42.TUT.BY Минский блогер Влад Бумага вместе со своим другом провел ночь в закрытой батутной арене. Молодые ...\n",
      "- - - - - - - - - - - - - - - - - -\n",
      "tag: health\n",
      "predict: health\n",
      "Чего боится кашель Межсезонье - самый коварный период, сопровождающийся\n",
      "резкой сменой температуры воздуха, повышенной влажностью, частыми осадками\n",
      "и порывистым ветром. Неслучайно именно в этот период ...\n",
      "- - - - - - - - - - - - - - - - - -\n",
      "tag: sport\n",
      "predict: sport\n",
      "Команда единомышленников Желание изменить ОКР у Ирины Родниной, Валентина\n",
      "Балахничева и других связано, в первую очередь, с тем, что Олимпийский\n",
      "комитет - это престиж страны.На предстоящих выборах пре...\n",
      "- - - - - - - - - - - - - - - - - -\n",
      "tag: politics\n",
      "predict: politics\n",
      "Франция раскритиковала блокировку Россией новой резолюции по Алеппо 6 декабря 2016 в 8:48 РБК Франция раскритиковала блокировку Россией и Китаем новой резолюции по Алеппо в Собвезе ООН. Это следует...\n",
      "- - - - - - - - - - - - - - - - - -\n",
      "tag: incident\n",
      "predict: incident\n",
      "В Минске задержали четверых парней, которые продавали через интернет баты, дирхамы, рупии и песо 28 ноября 2016 в 19:09 FINANCE.TUT.BY Четверо минчан попытались через интернет обменять экзотические...\n",
      "- - - - - - - - - - - - - - - - - -\n",
      "tag: sport\n",
      "predict: sport\n",
      "Горнолыжный сезон в Прикамье откроется только в начале декабря Горнолыжный\n",
      "сезон в Прикамье откроется только в начале декабря. на одной из горнолыжных\n",
      "баз, из-за продолжительного тепла горнолыжные скл...\n",
      "- - - - - - - - - - - - - - - - - -\n",
      "tag: sport\n",
      "predict: sport\n",
      "Выделите ее и нажмите Ctrl+Enter, чтобы сообщить об этом редакции. © ФК Шахтер Футболисты киевского \"Динамо\" и донецкого \"Шахтера\" устроили потасовку во время центрального матча 18-го тура чемпионат...\n",
      "- - - - - - - - - - - - - - - - - -\n"
     ]
    }
   ],
   "source": [
    "for n in range(10):\n",
    "    i = rng.randint(len(data))\n",
    "    print('tag:',data.iloc[i,1])\n",
    "    print('predict:',labels_inv[o[i]])\n",
    "    print(re.sub(r'\\n\\s*\\n',' ',data.iloc[i,0][:200])+'...')\n",
    "    print('- - - - - - - - - - - - - - - - - -')\n",
    "    "
   ]
  },
  {
   "cell_type": "code",
   "execution_count": 27,
   "metadata": {},
   "outputs": [],
   "source": [
    "# https://habr.com/ru/post/205360/"
   ]
  }
 ],
 "metadata": {
  "kernelspec": {
   "display_name": "Python 3",
   "language": "python",
   "name": "python3"
  },
  "language_info": {
   "codemirror_mode": {
    "name": "ipython",
    "version": 3
   },
   "file_extension": ".py",
   "mimetype": "text/x-python",
   "name": "python",
   "nbconvert_exporter": "python",
   "pygments_lexer": "ipython3",
   "version": "3.8.6"
  },
  "toc": {
   "base_numbering": 1,
   "nav_menu": {},
   "number_sections": true,
   "sideBar": true,
   "skip_h1_title": false,
   "title_cell": "Table of Contents",
   "title_sidebar": "Contents",
   "toc_cell": false,
   "toc_position": {},
   "toc_section_display": true,
   "toc_window_display": true
  }
 },
 "nbformat": 4,
 "nbformat_minor": 2
}
