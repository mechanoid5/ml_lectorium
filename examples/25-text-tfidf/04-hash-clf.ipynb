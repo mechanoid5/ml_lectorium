{
 "cells": [
  {
   "cell_type": "markdown",
   "metadata": {},
   "source": [
    "**извлечение признаков из текста на естественном языке**\n",
    "\n",
    "классификатор текстов HashingVectorizer\n",
    "\n",
    "Евгений Борисов borisov.e@solarl.ru"
   ]
  },
  {
   "cell_type": "markdown",
   "metadata": {},
   "source": [
    "## библиотеки"
   ]
  },
  {
   "cell_type": "code",
   "execution_count": 1,
   "metadata": {},
   "outputs": [
    {
     "name": "stderr",
     "output_type": "stream",
     "text": [
      "/usr/lib/python3.8/site-packages/tqdm/std.py:703: FutureWarning: The Panel class is removed from pandas. Accessing it from the top-level namespace will also be removed in the next version\n",
      "  from pandas import Panel\n"
     ]
    }
   ],
   "source": [
    "import re\n",
    "# import gzip\n",
    "import numpy as np\n",
    "import numpy.random as rng\n",
    "import pandas as pd\n",
    "from tqdm import tqdm\n",
    "\n",
    "np.set_printoptions(precision=2) # вывод на печать чисел до 2 знака\n",
    "pd.options.display.max_colwidth = 200 \n",
    "\n",
    "tqdm.pandas()"
   ]
  },
  {
   "cell_type": "code",
   "execution_count": 2,
   "metadata": {},
   "outputs": [],
   "source": [
    "# import numpy as np\n",
    "# import pandas as pd\n",
    "# import re"
   ]
  },
  {
   "cell_type": "code",
   "execution_count": 3,
   "metadata": {},
   "outputs": [
    {
     "data": {
      "text/plain": [
       "'0.23.2'"
      ]
     },
     "execution_count": 3,
     "metadata": {},
     "output_type": "execute_result"
    }
   ],
   "source": [
    "from sklearn import __version__ as SKLEARN_VERSION\n",
    "\n",
    "from sklearn.feature_extraction.text import HashingVectorizer\n",
    "\n",
    "from sklearn.model_selection import train_test_split\n",
    "from sklearn.metrics import confusion_matrix\n",
    "from sklearn.metrics import classification_report\n",
    "from sklearn.metrics import accuracy_score\n",
    "\n",
    "SKLEARN_VERSION"
   ]
  },
  {
   "cell_type": "markdown",
   "metadata": {},
   "source": [
    "## тексты"
   ]
  },
  {
   "cell_type": "code",
   "execution_count": 4,
   "metadata": {},
   "outputs": [
    {
     "name": "stdout",
     "output_type": "stream",
     "text": [
      "записей: 3196\n"
     ]
    },
    {
     "data": {
      "text/html": [
       "<div>\n",
       "<style scoped>\n",
       "    .dataframe tbody tr th:only-of-type {\n",
       "        vertical-align: middle;\n",
       "    }\n",
       "\n",
       "    .dataframe tbody tr th {\n",
       "        vertical-align: top;\n",
       "    }\n",
       "\n",
       "    .dataframe thead th {\n",
       "        text-align: right;\n",
       "    }\n",
       "</style>\n",
       "<table border=\"1\" class=\"dataframe\">\n",
       "  <thead>\n",
       "    <tr style=\"text-align: right;\">\n",
       "      <th></th>\n",
       "      <th>text</th>\n",
       "      <th>tag</th>\n",
       "    </tr>\n",
       "  </thead>\n",
       "  <tbody>\n",
       "    <tr>\n",
       "      <th>815</th>\n",
       "      <td>Мужской череп и оккупационные паспорта. Репортаж из Мядельского музея народной славы\\n\\n3 декабря 2016 в 9:00\\n\\nКсения Тарасевич, TUT.BY\\n\\nПроект «Музеи Беларуси вместе с БЕЛКАРТ» приглашает вир...</td>\n",
       "      <td>culture</td>\n",
       "    </tr>\n",
       "    <tr>\n",
       "      <th>1962</th>\n",
       "      <td>Избранный президент США Дональд Трамп назван «человеком года» по версии деловой газеты Financial Times.\\n\\n«Он переписал правила политики США. Теперь президент, являющийся специалистом по заключен...</td>\n",
       "      <td>politics</td>\n",
       "    </tr>\n",
       "    <tr>\n",
       "      <th>2853</th>\n",
       "      <td>Телеканал «Пятница» (входит в холдинг «Газпром-медиа») сообщил, что подал иск о защите репутации к «десяткам» пользователей социальной сети Facebook. Претензии канала связаны с обсуждением в этой ...</td>\n",
       "      <td>incident</td>\n",
       "    </tr>\n",
       "    <tr>\n",
       "      <th>1290</th>\n",
       "      <td>YouTube рассказал, что смотрели белорусы в 2016 году\\n\\n8 декабря 2016 в 11:15\\n\\n42.TUT.BY\\n\\nКомпания Google представила YouTube Rewind 2016 — рейтинг самых популярных видео и музыкальных клипов...</td>\n",
       "      <td>social</td>\n",
       "    </tr>\n",
       "    <tr>\n",
       "      <th>2150</th>\n",
       "      <td>Читайте также:\\n\\n22:46 Разное. Производитель емкостей для допинг-проб: мы хотим оставаться впереди тех, кто обманывает, но вы не можете избежать системы, созданной русскими 1137\\n\\n22:27 Гандбол....</td>\n",
       "      <td>sport</td>\n",
       "    </tr>\n",
       "  </tbody>\n",
       "</table>\n",
       "</div>"
      ],
      "text/plain": [
       "                                                                                                                                                                                                         text  \\\n",
       "815   Мужской череп и оккупационные паспорта. Репортаж из Мядельского музея народной славы\\n\\n3 декабря 2016 в 9:00\\n\\nКсения Тарасевич, TUT.BY\\n\\nПроект «Музеи Беларуси вместе с БЕЛКАРТ» приглашает вир...   \n",
       "1962  Избранный президент США Дональд Трамп назван «человеком года» по версии деловой газеты Financial Times.\\n\\n«Он переписал правила политики США. Теперь президент, являющийся специалистом по заключен...   \n",
       "2853  Телеканал «Пятница» (входит в холдинг «Газпром-медиа») сообщил, что подал иск о защите репутации к «десяткам» пользователей социальной сети Facebook. Претензии канала связаны с обсуждением в этой ...   \n",
       "1290  YouTube рассказал, что смотрели белорусы в 2016 году\\n\\n8 декабря 2016 в 11:15\\n\\n42.TUT.BY\\n\\nКомпания Google представила YouTube Rewind 2016 — рейтинг самых популярных видео и музыкальных клипов...   \n",
       "2150  Читайте также:\\n\\n22:46 Разное. Производитель емкостей для допинг-проб: мы хотим оставаться впереди тех, кто обманывает, но вы не можете избежать системы, созданной русскими 1137\\n\\n22:27 Гандбол....   \n",
       "\n",
       "           tag  \n",
       "815    culture  \n",
       "1962  politics  \n",
       "2853  incident  \n",
       "1290    social  \n",
       "2150     sport  "
      ]
     },
     "execution_count": 4,
     "metadata": {},
     "output_type": "execute_result"
    }
   ],
   "source": [
    "# загружаем тексты\n",
    "data = pd.read_pickle('../data/news.pkl.gz')\n",
    "print('записей:',len(data))\n",
    "data.sample(5)"
   ]
  },
  {
   "cell_type": "markdown",
   "metadata": {},
   "source": [
    "## токенизация и очистка"
   ]
  },
  {
   "cell_type": "code",
   "execution_count": 5,
   "metadata": {},
   "outputs": [],
   "source": [
    "# применяет список замен pat к строке s\n",
    "def replace_patterns(s,pat):\n",
    "    if len(pat)<1: return s\n",
    "    return  replace_patterns( re.sub(pat[0][0],pat[0][1],s), pat[1:] )\n",
    "\n",
    "# нормализация текста\n",
    "def text_normalizer(s):\n",
    "    pat = [\n",
    "       [r'ё','е'] # замена ё для унификации\n",
    "       ,[r'</?[a-z]+>',' '] # удаляем xml\n",
    "       ,[r'\\d+',' '] # удаляем цифры\n",
    "       ,[r'[\\W]+',' '] # удаляем спец.символы\n",
    "       ,[r' +',' '] # удаляем повторы пробелов\n",
    "    ]\n",
    "    return replace_patterns(s.lower(),pat).strip()\n",
    "\n",
    "# разрезаем стоки на слова, выкидываем stopwords, выполняем стеминг\n",
    "def tokenize(s): \n",
    "    return [ w for w in s.split() if (len(w)>1) ]"
   ]
  },
  {
   "cell_type": "code",
   "execution_count": 6,
   "metadata": {},
   "outputs": [
    {
     "name": "stderr",
     "output_type": "stream",
     "text": [
      "100%|██████████| 3196/3196 [00:00<00:00, 5539.48it/s]\n",
      "100%|██████████| 3196/3196 [00:00<00:00, 32729.28it/s]\n"
     ]
    }
   ],
   "source": [
    "data['ctext'] = data['text'].progress_apply(text_normalizer)\n",
    "data['ctext'] = data['ctext'].progress_apply( tokenize )"
   ]
  },
  {
   "cell_type": "code",
   "execution_count": 7,
   "metadata": {},
   "outputs": [
    {
     "name": "stdout",
     "output_type": "stream",
     "text": [
      "словарь 81942 слов\n"
     ]
    }
   ],
   "source": [
    "# собираем словарь\n",
    "vcb = [ set(s) for s in data['ctext'].tolist() ]\n",
    "vcb = sorted(set.union(*vcb))\n",
    "print('словарь %i слов'%(len(vcb)))\n",
    "# pd.DataFrame( vcb0 ).to_csv('voc0.txt',index=False,header=False)"
   ]
  },
  {
   "cell_type": "code",
   "execution_count": 8,
   "metadata": {},
   "outputs": [
    {
     "data": {
      "text/html": [
       "<div>\n",
       "<style scoped>\n",
       "    .dataframe tbody tr th:only-of-type {\n",
       "        vertical-align: middle;\n",
       "    }\n",
       "\n",
       "    .dataframe tbody tr th {\n",
       "        vertical-align: top;\n",
       "    }\n",
       "\n",
       "    .dataframe thead th {\n",
       "        text-align: right;\n",
       "    }\n",
       "</style>\n",
       "<table border=\"1\" class=\"dataframe\">\n",
       "  <thead>\n",
       "    <tr style=\"text-align: right;\">\n",
       "      <th></th>\n",
       "      <th>text</th>\n",
       "      <th>tag</th>\n",
       "      <th>ctext</th>\n",
       "    </tr>\n",
       "  </thead>\n",
       "  <tbody>\n",
       "    <tr>\n",
       "      <th>2528</th>\n",
       "      <td>Запуск был отложен из-за того, что компания продолжает работу над изменением системы заправки топливом ракеты Falcon 9, которая взорвалась в сентябре\\n\\n«Мы тщательно оцениваем наши конструкции, с...</td>\n",
       "      <td>science</td>\n",
       "      <td>[запуск, был, отложен, из, за, того, что, компания, продолжает, работу, над, изменением, системы, заправки, топливом, ракеты, falcon, которая, взорвалась, сентябре, мы, тщательно, оцениваем, наши,...</td>\n",
       "    </tr>\n",
       "    <tr>\n",
       "      <th>1958</th>\n",
       "      <td>Об этом говорится в выпуске британской деловой газеты во вторник, 13 декабря. Financial Times считает, что миллиардер переписал правила политики своей страны.\\n\\nТеперь президент, являющийся специ...</td>\n",
       "      <td>politics</td>\n",
       "      <td>[об, этом, говорится, выпуске, британской, деловой, газеты, во, вторник, декабря, financial, times, считает, что, миллиардер, переписал, правила, политики, своей, страны, теперь, президент, являющ...</td>\n",
       "    </tr>\n",
       "    <tr>\n",
       "      <th>1825</th>\n",
       "      <td>Иран и Россия заключили меморандум о сотрудничестве в области нефти, который включает 22 пункта. Документ подписали замглавы Минэнерго РФ Кирилл Молодцов и замминистра нефти Ирана Амир Хосейн Зама...</td>\n",
       "      <td>economics</td>\n",
       "      <td>[иран, россия, заключили, меморандум, сотрудничестве, области, нефти, который, включает, пункта, документ, подписали, замглавы, минэнерго, рф, кирилл, молодцов, замминистра, нефти, ирана, амир, хо...</td>\n",
       "    </tr>\n",
       "    <tr>\n",
       "      <th>675</th>\n",
       "      <td>\"Красный пищевик\" выпустил идеальные новогодние подарки\\n\\n28 ноября 2016 в 9:00\\n\\n*На правах рекламы\\n\\nПразднование Нового года ассоциируется у нас с хорошими и радостными моментами. Преднового...</td>\n",
       "      <td>reclama</td>\n",
       "      <td>[красный, пищевик, выпустил, идеальные, новогодние, подарки, ноября, на, правах, рекламы, празднование, нового, года, ассоциируется, нас, хорошими, радостными, моментами, предновогодняя, суета, ук...</td>\n",
       "    </tr>\n",
       "    <tr>\n",
       "      <th>1250</th>\n",
       "      <td>Во Франции нашли спрятанные под землей автомобили 1930-х\\n\\n30 ноября 2016 в 12:13\\n\\nmotor.ru\\n\\nБельгийский исследователь обнаружил в подземной каменоломне во Франции десятки автомобилей 1930-х ...</td>\n",
       "      <td>auto</td>\n",
       "      <td>[во, франции, нашли, спрятанные, под, землей, автомобили, ноября, motor, ru, бельгийский, исследователь, обнаружил, подземной, каменоломне, во, франции, десятки, автомобилей, годов, выпуска, как, ...</td>\n",
       "    </tr>\n",
       "  </tbody>\n",
       "</table>\n",
       "</div>"
      ],
      "text/plain": [
       "                                                                                                                                                                                                         text  \\\n",
       "2528  Запуск был отложен из-за того, что компания продолжает работу над изменением системы заправки топливом ракеты Falcon 9, которая взорвалась в сентябре\\n\\n«Мы тщательно оцениваем наши конструкции, с...   \n",
       "1958  Об этом говорится в выпуске британской деловой газеты во вторник, 13 декабря. Financial Times считает, что миллиардер переписал правила политики своей страны.\\n\\nТеперь президент, являющийся специ...   \n",
       "1825  Иран и Россия заключили меморандум о сотрудничестве в области нефти, который включает 22 пункта. Документ подписали замглавы Минэнерго РФ Кирилл Молодцов и замминистра нефти Ирана Амир Хосейн Зама...   \n",
       "675   \"Красный пищевик\" выпустил идеальные новогодние подарки\\n\\n28 ноября 2016 в 9:00\\n\\n*На правах рекламы\\n\\nПразднование Нового года ассоциируется у нас с хорошими и радостными моментами. Преднового...   \n",
       "1250  Во Франции нашли спрятанные под землей автомобили 1930-х\\n\\n30 ноября 2016 в 12:13\\n\\nmotor.ru\\n\\nБельгийский исследователь обнаружил в подземной каменоломне во Франции десятки автомобилей 1930-х ...   \n",
       "\n",
       "            tag  \\\n",
       "2528    science   \n",
       "1958   politics   \n",
       "1825  economics   \n",
       "675     reclama   \n",
       "1250       auto   \n",
       "\n",
       "                                                                                                                                                                                                        ctext  \n",
       "2528  [запуск, был, отложен, из, за, того, что, компания, продолжает, работу, над, изменением, системы, заправки, топливом, ракеты, falcon, которая, взорвалась, сентябре, мы, тщательно, оцениваем, наши,...  \n",
       "1958  [об, этом, говорится, выпуске, британской, деловой, газеты, во, вторник, декабря, financial, times, считает, что, миллиардер, переписал, правила, политики, своей, страны, теперь, президент, являющ...  \n",
       "1825  [иран, россия, заключили, меморандум, сотрудничестве, области, нефти, который, включает, пункта, документ, подписали, замглавы, минэнерго, рф, кирилл, молодцов, замминистра, нефти, ирана, амир, хо...  \n",
       "675   [красный, пищевик, выпустил, идеальные, новогодние, подарки, ноября, на, правах, рекламы, празднование, нового, года, ассоциируется, нас, хорошими, радостными, моментами, предновогодняя, суета, ук...  \n",
       "1250  [во, франции, нашли, спрятанные, под, землей, автомобили, ноября, motor, ru, бельгийский, исследователь, обнаружил, подземной, каменоломне, во, франции, десятки, автомобилей, годов, выпуска, как, ...  "
      ]
     },
     "execution_count": 8,
     "metadata": {},
     "output_type": "execute_result"
    }
   ],
   "source": [
    "data.sample(5)"
   ]
  },
  {
   "cell_type": "markdown",
   "metadata": {},
   "source": [
    "## Vectorizer"
   ]
  },
  {
   "cell_type": "code",
   "execution_count": 9,
   "metadata": {},
   "outputs": [],
   "source": [
    "data['ctext'] = data['ctext'].apply( ' '.join  )"
   ]
  },
  {
   "cell_type": "code",
   "execution_count": 10,
   "metadata": {},
   "outputs": [],
   "source": [
    "tf = HashingVectorizer( n_features=4096, norm='l2' ).fit( data['ctext'] )"
   ]
  },
  {
   "cell_type": "markdown",
   "metadata": {},
   "source": [
    "## формируем датасеты"
   ]
  },
  {
   "cell_type": "code",
   "execution_count": 11,
   "metadata": {},
   "outputs": [
    {
     "data": {
      "text/plain": [
       "(3196, 4096)"
      ]
     },
     "execution_count": 11,
     "metadata": {},
     "output_type": "execute_result"
    }
   ],
   "source": [
    "X = tf.transform( data['ctext'] )\n",
    "X.shape"
   ]
  },
  {
   "cell_type": "code",
   "execution_count": 12,
   "metadata": {},
   "outputs": [
    {
     "data": {
      "text/plain": [
       "{'auto': 0,\n",
       " 'culture': 1,\n",
       " 'economics': 2,\n",
       " 'health': 3,\n",
       " 'incident': 4,\n",
       " 'politics': 5,\n",
       " 'realty': 6,\n",
       " 'reclama': 7,\n",
       " 'science': 8,\n",
       " 'social': 9,\n",
       " 'sport': 10,\n",
       " 'tech': 11,\n",
       " 'woman': 12}"
      ]
     },
     "execution_count": 12,
     "metadata": {},
     "output_type": "execute_result"
    }
   ],
   "source": [
    "labels = { t:i for i,t in enumerate(sorted(set(data['tag']))) }\n",
    "labels"
   ]
  },
  {
   "cell_type": "code",
   "execution_count": 13,
   "metadata": {},
   "outputs": [
    {
     "data": {
      "text/plain": [
       "array([5, 1, 1, ..., 8, 5, 9])"
      ]
     },
     "execution_count": 13,
     "metadata": {},
     "output_type": "execute_result"
    }
   ],
   "source": [
    "y = data['tag'].map(labels).values\n",
    "y"
   ]
  },
  {
   "cell_type": "code",
   "execution_count": 14,
   "metadata": {},
   "outputs": [
    {
     "data": {
      "text/plain": [
       "((2237, 4096), (2237,), (959, 4096), (959,))"
      ]
     },
     "execution_count": 14,
     "metadata": {},
     "output_type": "execute_result"
    }
   ],
   "source": [
    "X_train, X_test, y_train, y_test = train_test_split( X, y, test_size=0.3, random_state=326 )\n",
    "X_train.shape, y_train.shape, X_test.shape, y_test.shape"
   ]
  },
  {
   "cell_type": "markdown",
   "metadata": {},
   "source": [
    "## обучаем классификатор"
   ]
  },
  {
   "cell_type": "code",
   "execution_count": 15,
   "metadata": {},
   "outputs": [
    {
     "data": {
      "text/plain": [
       "SGDClassifier(tol=0.19)"
      ]
     },
     "execution_count": 15,
     "metadata": {},
     "output_type": "execute_result"
    }
   ],
   "source": [
    "from sklearn.linear_model import SGDClassifier\n",
    "\n",
    "clf = SGDClassifier(loss='hinge',max_iter=1000, tol=0.19)\n",
    "clf.fit(X_train,y_train)"
   ]
  },
  {
   "cell_type": "markdown",
   "metadata": {},
   "source": [
    "## тестируем"
   ]
  },
  {
   "cell_type": "code",
   "execution_count": 16,
   "metadata": {},
   "outputs": [],
   "source": [
    "o = clf.predict(X_train)"
   ]
  },
  {
   "cell_type": "code",
   "execution_count": 17,
   "metadata": {},
   "outputs": [
    {
     "data": {
      "text/plain": [
       "0.9995529727313366"
      ]
     },
     "execution_count": 17,
     "metadata": {},
     "output_type": "execute_result"
    }
   ],
   "source": [
    "accuracy_score(y_train,o)"
   ]
  },
  {
   "cell_type": "code",
   "execution_count": 18,
   "metadata": {},
   "outputs": [],
   "source": [
    "o = clf.predict(X_test)"
   ]
  },
  {
   "cell_type": "code",
   "execution_count": 19,
   "metadata": {},
   "outputs": [
    {
     "data": {
      "text/plain": [
       "0.835245046923879"
      ]
     },
     "execution_count": 19,
     "metadata": {},
     "output_type": "execute_result"
    }
   ],
   "source": [
    "accuracy_score(y_test,o)"
   ]
  },
  {
   "cell_type": "code",
   "execution_count": 20,
   "metadata": {},
   "outputs": [
    {
     "name": "stdout",
     "output_type": "stream",
     "text": [
      "              precision    recall  f1-score   support\n",
      "\n",
      "           0       0.97      0.86      0.91        87\n",
      "           1       0.77      0.85      0.81       101\n",
      "           2       0.80      0.74      0.77        76\n",
      "           3       0.78      0.58      0.67        31\n",
      "           4       0.86      0.93      0.89       123\n",
      "           5       0.87      0.92      0.89       177\n",
      "           6       0.71      0.57      0.63        21\n",
      "           7       0.75      0.71      0.73        17\n",
      "           8       0.87      0.97      0.92        68\n",
      "           9       0.54      0.30      0.38        44\n",
      "          10       0.93      0.97      0.95       118\n",
      "          11       0.72      0.73      0.73        89\n",
      "          12       0.54      1.00      0.70         7\n",
      "\n",
      "    accuracy                           0.84       959\n",
      "   macro avg       0.78      0.78      0.77       959\n",
      "weighted avg       0.83      0.84      0.83       959\n",
      "\n"
     ]
    }
   ],
   "source": [
    "print( classification_report(y_test,o) )"
   ]
  },
  {
   "cell_type": "code",
   "execution_count": 21,
   "metadata": {},
   "outputs": [
    {
     "data": {
      "image/png": "[encoded data removed]",
      "text/plain": [
       "<Figure size 720x648 with 2 Axes>"
      ]
     },
     "metadata": {
      "needs_background": "light"
     },
     "output_type": "display_data"
    }
   ],
   "source": [
    "from matplotlib import pyplot as plt\n",
    "import itertools\n",
    "\n",
    "classes = sorted(labels.keys())\n",
    "cm = confusion_matrix(y_test,o)\n",
    "tick_marks = np.arange(len(classes))\n",
    "\n",
    "plt.figure(figsize=(10,9))\n",
    "\n",
    "plt.xticks(tick_marks, classes, rotation=45)\n",
    "plt.yticks(tick_marks, classes)\n",
    "\n",
    "thresh = cm.max() / 2.\n",
    "for i, j in itertools.product(range(cm.shape[0]), range(cm.shape[1])):\n",
    "    plt.text(j, i, format(cm[i, j], 'd'),\n",
    "             horizontalalignment=\"center\",\n",
    "             color=\"white\" if cm[i, j] > thresh else \"black\")\n",
    "\n",
    "plt.title('Confusion matrix')\n",
    "plt.tight_layout()\n",
    "plt.ylabel('True label')\n",
    "plt.xlabel('Predicted label')\n",
    "plt.imshow(cm, interpolation='nearest', cmap=plt.cm.Blues)\n",
    "plt.colorbar()\n",
    "\n",
    "plt.show()"
   ]
  },
  {
   "cell_type": "markdown",
   "metadata": {},
   "source": [
    "---"
   ]
  },
  {
   "cell_type": "code",
   "execution_count": 22,
   "metadata": {},
   "outputs": [],
   "source": [
    "o = clf.predict(X)"
   ]
  },
  {
   "cell_type": "code",
   "execution_count": 23,
   "metadata": {},
   "outputs": [],
   "source": [
    "labels_inv = { labels[k]:k for k in labels }\n",
    "# labels_inv"
   ]
  },
  {
   "cell_type": "code",
   "execution_count": 24,
   "metadata": {},
   "outputs": [
    {
     "name": "stdout",
     "output_type": "stream",
     "text": [
      "tag: sport\n",
      "predict: sport\n",
      "(обновлено 00:51 13.12.2016 ) МОСКВА, 13 дек - Р-Спорт. \"Вильярреал\" одержал домашнюю победу над мадридским \"Атлетико\" в матче 15-го тура чемпионата Испании по футболу. Встреча, прошедшая в понедель...\n",
      "- - - - - - - - - - - - - - - - - -\n",
      "tag: politics\n",
      "predict: politics\n",
      "Заявления о возможной российской угрозе странно слышать от властей Хорватии, однако Москва готова обсудить данные аргументы Загреба, заявил российский министр иностранных дел Сергей Лавров в интервью ...\n",
      "- - - - - - - - - - - - - - - - - -\n",
      "tag: health\n",
      "predict: health\n",
      "ЖК-мониторы вредны для глаз Однако проблема заключается вовсе не в\n",
      "электромагнитном излучении, а в особенностях строения зрительного аппарата\n",
      "человека.При максимальном напряжении зрения частота морган...\n",
      "- - - - - - - - - - - - - - - - - -\n",
      "tag: auto\n",
      "predict: auto\n",
      "«Горячий» хэтчбек Suzuki Baleno RS дебютирует на авторынке Индии в первой половине 2017 года. В компании-производителе Maruti Suzuki, «дочка» бренда Suzuki, не исключают возможность выхода модели на м...\n",
      "- - - - - - - - - - - - - - - - - -\n",
      "tag: economics\n",
      "predict: economics\n",
      "Полуостров Камчатка (poluostrov-kamchatka.ru) Утверждена Стратегия\n",
      "социально-экономического развития Камчатского края до 2025 года 21\n",
      "июля на заседании Правительства Камчатского края утверждена ?Страт...\n",
      "- - - - - - - - - - - - - - - - - -\n",
      "tag: economics\n",
      "predict: economics\n",
      "Соответствующий законопроект внесен в Госдуму. Его автор, сенатор Юрий Воробьев, отмечает, что некоторые закупки товаров, работ и услуг для ФСО не могут быть осуществлены на конкурентной основе. В поя...\n",
      "- - - - - - - - - - - - - - - - - -\n",
      "tag: politics\n",
      "predict: politics\n",
      "Лидер парламентской фракции \"Батькивщина\" Юлия Тимошенко собирается исключить украинскую наводчицу Надежду Савченко из партии за встречу с лидерами ДНР и ЛНР. Об этом сообщает телеканал \"112 Украина\"....\n",
      "- - - - - - - - - - - - - - - - - -\n",
      "tag: sport\n",
      "predict: sport\n",
      "Бывший вратарь БАТЭ с травмой доиграл до конца матч в чемпионате Франции 5 декабря 2016 в 10:56 SPORT.TUT.BY Бывший голкипер БАТЭ Сергей Черник, минувшим летом перебравшийся в «Нанси», 4 декабря пр...\n",
      "- - - - - - - - - - - - - - - - - -\n",
      "tag: politics\n",
      "predict: politics\n",
      "Законотворец убежден в том, что действия Надежды Савченко являются государственной изменой. Киев, 13 декабря. Глава «Радикальной партии» Олег Ляшко прокомментировал заявление своей коллеги по парламе...\n",
      "- - - - - - - - - - - - - - - - - -\n",
      "tag: science\n",
      "predict: science\n",
      "Специалисты провели исследование Владивосток, понедельник, 12 декабря , РИА Vladnews. Ученые в ходе исследования узнали, как ведет себя мозг, когда перед ним стоит несколько задач одновременно, сооб...\n",
      "- - - - - - - - - - - - - - - - - -\n"
     ]
    }
   ],
   "source": [
    "for n in range(10):\n",
    "    i = rng.randint(len(data))\n",
    "    print('tag:',data.iloc[i,1])\n",
    "    print('predict:',labels_inv[o[i]])\n",
    "    print(re.sub(r'\\n\\s*\\n',' ',data.iloc[i,0][:200])+'...')\n",
    "    print('- - - - - - - - - - - - - - - - - -')\n",
    "    "
   ]
  }
 ],
 "metadata": {
  "kernelspec": {
   "display_name": "Python 3",
   "language": "python",
   "name": "python3"
  },
  "language_info": {
   "codemirror_mode": {
    "name": "ipython",
    "version": 3
   },
   "file_extension": ".py",
   "mimetype": "text/x-python",
   "name": "python",
   "nbconvert_exporter": "python",
   "pygments_lexer": "ipython3",
   "version": "3.8.6"
  },
  "toc": {
   "base_numbering": 1,
   "nav_menu": {},
   "number_sections": true,
   "sideBar": true,
   "skip_h1_title": false,
   "title_cell": "Table of Contents",
   "title_sidebar": "Contents",
   "toc_cell": false,
   "toc_position": {},
   "toc_section_display": true,
   "toc_window_display": true
  }
 },
 "nbformat": 4,
 "nbformat_minor": 2
}
