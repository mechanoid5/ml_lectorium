{
 "cells": [
  {
   "cell_type": "markdown",
   "metadata": {},
   "source": [
    "**извлечение признаков из текста на естественном языке**\n",
    "\n",
    "кластеризатор текстов\n",
    "\n",
    "Евгений Борисов borisov.e@solarl.ru"
   ]
  },
  {
   "cell_type": "markdown",
   "metadata": {},
   "source": [
    "## библиотеки"
   ]
  },
  {
   "cell_type": "code",
   "execution_count": 1,
   "metadata": {},
   "outputs": [
    {
     "name": "stderr",
     "output_type": "stream",
     "text": [
      "/usr/lib/python3.8/site-packages/tqdm/std.py:703: FutureWarning: The Panel class is removed from pandas. Accessing it from the top-level namespace will also be removed in the next version\n",
      "  from pandas import Panel\n"
     ]
    }
   ],
   "source": [
    "import re\n",
    "# import gzip\n",
    "import numpy as np\n",
    "import numpy.random as rng\n",
    "import pandas as pd\n",
    "from tqdm import tqdm\n",
    "\n",
    "np.set_printoptions(precision=2) # вывод на печать чисел до 2 знака\n",
    "pd.options.display.max_colwidth = 200 \n",
    "\n",
    "tqdm.pandas()"
   ]
  },
  {
   "cell_type": "code",
   "execution_count": 2,
   "metadata": {},
   "outputs": [
    {
     "data": {
      "text/plain": [
       "'0.23.2'"
      ]
     },
     "execution_count": 2,
     "metadata": {},
     "output_type": "execute_result"
    }
   ],
   "source": [
    "from sklearn import __version__ as SKLEARN_VERSION\n",
    "from sklearn.model_selection import train_test_split\n",
    "from sklearn.metrics import confusion_matrix\n",
    "from sklearn.metrics import classification_report\n",
    "from sklearn.metrics import accuracy_score\n",
    "\n",
    "from sklearn.feature_extraction.text import TfidfVectorizer\n",
    "\n",
    "from pymorphy2 import MorphAnalyzer\n",
    "\n",
    "SKLEARN_VERSION"
   ]
  },
  {
   "cell_type": "markdown",
   "metadata": {},
   "source": [
    "## тексты"
   ]
  },
  {
   "cell_type": "code",
   "execution_count": 3,
   "metadata": {},
   "outputs": [
    {
     "name": "stdout",
     "output_type": "stream",
     "text": [
      "записей: 3196\n"
     ]
    }
   ],
   "source": [
    "# загружаем тексты\n",
    "data = pd.read_pickle('../data/news.pkl.gz')\n",
    "print('записей:',len(data))"
   ]
  },
  {
   "cell_type": "code",
   "execution_count": 4,
   "metadata": {},
   "outputs": [
    {
     "data": {
      "text/html": [
       "<div>\n",
       "<style scoped>\n",
       "    .dataframe tbody tr th:only-of-type {\n",
       "        vertical-align: middle;\n",
       "    }\n",
       "\n",
       "    .dataframe tbody tr th {\n",
       "        vertical-align: top;\n",
       "    }\n",
       "\n",
       "    .dataframe thead th {\n",
       "        text-align: right;\n",
       "    }\n",
       "</style>\n",
       "<table border=\"1\" class=\"dataframe\">\n",
       "  <thead>\n",
       "    <tr style=\"text-align: right;\">\n",
       "      <th></th>\n",
       "      <th>text</th>\n",
       "      <th>tag</th>\n",
       "    </tr>\n",
       "  </thead>\n",
       "  <tbody>\n",
       "    <tr>\n",
       "      <th>2777</th>\n",
       "      <td>Специалисты Apple планируют начать широкомасштабную кампанию по борьбе со спамом в стандартном для «яблочных» гаджетов приложении «Календарь» из macOS и iOS. В последнее время пользователи активно...</td>\n",
       "      <td>tech</td>\n",
       "    </tr>\n",
       "    <tr>\n",
       "      <th>3088</th>\n",
       "      <td>Департамент межнациональных отношений министерства регионального развиия РФ\\nКОМИИНФОРМ. Новости Госслужащие должны быть осторожнее в формулировках,\\nособенно если дело касается межэтнических отно...</td>\n",
       "      <td>politics</td>\n",
       "    </tr>\n",
       "  </tbody>\n",
       "</table>\n",
       "</div>"
      ],
      "text/plain": [
       "                                                                                                                                                                                                         text  \\\n",
       "2777  Специалисты Apple планируют начать широкомасштабную кампанию по борьбе со спамом в стандартном для «яблочных» гаджетов приложении «Календарь» из macOS и iOS. В последнее время пользователи активно...   \n",
       "3088  Департамент межнациональных отношений министерства регионального развиия РФ\\nКОМИИНФОРМ. Новости Госслужащие должны быть осторожнее в формулировках,\\nособенно если дело касается межэтнических отно...   \n",
       "\n",
       "           tag  \n",
       "2777      tech  \n",
       "3088  politics  "
      ]
     },
     "execution_count": 4,
     "metadata": {},
     "output_type": "execute_result"
    }
   ],
   "source": [
    "data.sample(2)"
   ]
  },
  {
   "cell_type": "markdown",
   "metadata": {},
   "source": [
    "## токенизация и очистка"
   ]
  },
  {
   "cell_type": "code",
   "execution_count": 5,
   "metadata": {},
   "outputs": [],
   "source": [
    "# лемматизация и очистка с помощью пакета морфологического анализа\n",
    "\n",
    "morph = MorphAnalyzer()\n",
    "\n",
    "# NOUN\tсуществительное\n",
    "# VERB\tглагол\n",
    "# ADJF\tприлагательное\n",
    "def word_normalizer(w, pos_types=('NOUN','VERB','ADJF')):\n",
    "    if not morph.word_is_known(w): return ''\n",
    "    p = morph.parse(w)[0] \n",
    "    return p.normal_form if (p.tag.POS in pos_types) else ''\n",
    "\n",
    "def string_normalizer(s):\n",
    "    return re.sub(r'[\\W]+',' ',s.lower().replace('ё','е'))\n",
    "\n",
    "def text_normalizer(s):\n",
    "    return [ word_normalizer(w) for w in string_normalizer(s).split() ]"
   ]
  },
  {
   "cell_type": "code",
   "execution_count": 6,
   "metadata": {},
   "outputs": [
    {
     "name": "stderr",
     "output_type": "stream",
     "text": [
      "100%|██████████| 3196/3196 [01:39<00:00, 32.07it/s]\n"
     ]
    }
   ],
   "source": [
    "data['ctext'] = data['text'].progress_apply(text_normalizer).apply(' '.join)"
   ]
  },
  {
   "cell_type": "code",
   "execution_count": 7,
   "metadata": {},
   "outputs": [
    {
     "data": {
      "text/html": [
       "<div>\n",
       "<style scoped>\n",
       "    .dataframe tbody tr th:only-of-type {\n",
       "        vertical-align: middle;\n",
       "    }\n",
       "\n",
       "    .dataframe tbody tr th {\n",
       "        vertical-align: top;\n",
       "    }\n",
       "\n",
       "    .dataframe thead th {\n",
       "        text-align: right;\n",
       "    }\n",
       "</style>\n",
       "<table border=\"1\" class=\"dataframe\">\n",
       "  <thead>\n",
       "    <tr style=\"text-align: right;\">\n",
       "      <th></th>\n",
       "      <th>text</th>\n",
       "      <th>tag</th>\n",
       "      <th>ctext</th>\n",
       "    </tr>\n",
       "  </thead>\n",
       "  <tbody>\n",
       "    <tr>\n",
       "      <th>3095</th>\n",
       "      <td>Наш край (Красноярск) Подхвати спасательный круг В Туруханске прошло выездное\\nзаседание Гражданской ассамблеи Красноярского края, на котором обсуждали\\nвопросы возрождения традиционного образа жи...</td>\n",
       "      <td>social</td>\n",
       "      <td>наш край красноярск подхватить спасательный круг  туруханск  выездной заседание гражданский ассамблея красноярский край  который обсуждать вопрос возрождение традиционный образ жизнь коренной мало...</td>\n",
       "    </tr>\n",
       "    <tr>\n",
       "      <th>3083</th>\n",
       "      <td>Интерфакс Религия (interfax-religion.ru) Патриарх Кирилл посетит Камчатку\\nПатриарх Московский и всея Руси Кирилл 20-23 сентября, как ожидается, побывает\\nна Камчатке.  Москва. 16 июля. ИНТЕРФАКС ...</td>\n",
       "      <td>social</td>\n",
       "      <td>интерфакс религия    патриарх кирилл посетить камчатка патриарх московский  весь русь кирилл   сентябрь  ожидаться побывать  камчатка москва  июль интерфакс патриарх московский  весь русь кирилл  ...</td>\n",
       "    </tr>\n",
       "    <tr>\n",
       "      <th>719</th>\n",
       "      <td>Столичный житель обвиняется в распространении наркотиков по всей Минской области\\n\\n8 декабря 2016 в 23:39\\n\\nВячеслав Будкевич, БелаПАН\\n\\nПрокуратура Минской области направила в суд уголовное де...</td>\n",
       "      <td>incident</td>\n",
       "      <td>столичный житель обвиняться  распространение наркотик  весь минский область  декабрь     вячеслав будкевич  прокуратура минский область направить  суд уголовный дело  отношение     летний житель с...</td>\n",
       "    </tr>\n",
       "    <tr>\n",
       "      <th>2183</th>\n",
       "      <td>В Кемеровской области на работавших на месте ДТП сотрудников экстренных служб наехал автомобиль. Об этом сообщается на сайте регионального главка МВД.\\n\\nАвария произошла на 106-м километре дороги...</td>\n",
       "      <td>incident</td>\n",
       "      <td>кемеровский область    место дтп сотрудник экстренный служба наехать автомобиль   сообщаться  сайт региональный главка мвд авария произойти   метр километр дорога ленинск кузнецкий новокузнецк   ...</td>\n",
       "    </tr>\n",
       "    <tr>\n",
       "      <th>2198</th>\n",
       "      <td>На востоке Москвы загорелся склад пиломатериалов, сообщили в столичном ГУ МЧС России. Сообщение о возгорании одноэтажного складского здания поступило в ведомство 13 декабря в 8:43.\\n\\nПрибывшие на...</td>\n",
       "      <td>incident</td>\n",
       "      <td>восток москва загореться склад пиломатериал сообщить  столичный  мчс россия сообщение  возгорание  складской здание поступить  ведомство  декабрь      место чп  спасательный бригада обнаружить  в...</td>\n",
       "    </tr>\n",
       "    <tr>\n",
       "      <th>1240</th>\n",
       "      <td>\"Мы испытываем его, а он испытывает нас\". Как работает водитель-испытатель БЕЛАЗа\\n\\n1 декабря 2016 в 13:30\\n\\nПавел Мурашко, Фото: Вадим Замировский / AUTO.TUT.BY\\n\\nВодители-испытатели БЕЛАЗов к...</td>\n",
       "      <td>auto</td>\n",
       "      <td>испытывать    испытывать   работать водитель испытатель   декабрь     павел  фото вадим     водитель испытатель  казаться какой  нереальный человек       такой махина  тот   карьер чаща  левостор...</td>\n",
       "    </tr>\n",
       "    <tr>\n",
       "      <th>1868</th>\n",
       "      <td>Дональд Трамп, избранный президент США, заявил, что оставит свой бизнес в срок до 20 января 2017 года, то есть до даты инаугурации, после чего сосредоточится на президентской работе.\\n\\nТакое реше...</td>\n",
       "      <td>politics</td>\n",
       "      <td>дональд трамп избранный президент сша заявить  оставить свой бизнес  срок   январь  год    дата инаугурация   сосредоточиться  президентский работа такой решение будущий глава государство принять ...</td>\n",
       "    </tr>\n",
       "    <tr>\n",
       "      <th>1117</th>\n",
       "      <td>Хацкевич назвал слухами информацию о его возможном назначении в киевское \"Динамо\"\\n\\n6 декабря 2016 в 21:11\\n\\nSPORT.TUT.BY\\n\\nУволенный с поста главного тренера сборной Беларуси Александр Хацкеви...</td>\n",
       "      <td>sport</td>\n",
       "      <td>назвать слух информация   возможный назначение  киевский динамо  декабрь          пост главный тренер сборный беларусь александр  сообщить футбол   информация   возможный назначение  киевский дин...</td>\n",
       "    </tr>\n",
       "    <tr>\n",
       "      <th>2777</th>\n",
       "      <td>Специалисты Apple планируют начать широкомасштабную кампанию по борьбе со спамом в стандартном для «яблочных» гаджетов приложении «Календарь» из macOS и iOS. В последнее время пользователи активно...</td>\n",
       "      <td>tech</td>\n",
       "      <td>специалист  планировать  широкомасштабный кампания  борьба  спам  стандартный  яблочный гаджет приложение календарь      последний время пользователь  жаловаться  рассылка сообщение  почтовый ящик...</td>\n",
       "    </tr>\n",
       "    <tr>\n",
       "      <th>2480</th>\n",
       "      <td>​12 декабря Борис Гребенщиков и группа «Аквариум» с симфоническим оркестром сорвали аншлаг на концерте в Новосибирске.\\n\\n\\n\\n\\n\\nКонцерт «БГ SYMPHONIA» Гребенщиков исполнил на сцене ДКЖ.\\n\\n\\n\\n\\...</td>\n",
       "      <td>culture</td>\n",
       "      <td>декабрь борис гребенщик  группа аквариум  симфонический оркестр сорвать аншлаг  концерт  новосибирск концерт   гребенщик исполнить  сцена  приехать   сотоварищ  казахстан преодолеть  километр    ...</td>\n",
       "    </tr>\n",
       "  </tbody>\n",
       "</table>\n",
       "</div>"
      ],
      "text/plain": [
       "                                                                                                                                                                                                         text  \\\n",
       "3095  Наш край (Красноярск) Подхвати спасательный круг В Туруханске прошло выездное\\nзаседание Гражданской ассамблеи Красноярского края, на котором обсуждали\\nвопросы возрождения традиционного образа жи...   \n",
       "3083  Интерфакс Религия (interfax-religion.ru) Патриарх Кирилл посетит Камчатку\\nПатриарх Московский и всея Руси Кирилл 20-23 сентября, как ожидается, побывает\\nна Камчатке.  Москва. 16 июля. ИНТЕРФАКС ...   \n",
       "719   Столичный житель обвиняется в распространении наркотиков по всей Минской области\\n\\n8 декабря 2016 в 23:39\\n\\nВячеслав Будкевич, БелаПАН\\n\\nПрокуратура Минской области направила в суд уголовное де...   \n",
       "2183  В Кемеровской области на работавших на месте ДТП сотрудников экстренных служб наехал автомобиль. Об этом сообщается на сайте регионального главка МВД.\\n\\nАвария произошла на 106-м километре дороги...   \n",
       "2198  На востоке Москвы загорелся склад пиломатериалов, сообщили в столичном ГУ МЧС России. Сообщение о возгорании одноэтажного складского здания поступило в ведомство 13 декабря в 8:43.\\n\\nПрибывшие на...   \n",
       "1240  \"Мы испытываем его, а он испытывает нас\". Как работает водитель-испытатель БЕЛАЗа\\n\\n1 декабря 2016 в 13:30\\n\\nПавел Мурашко, Фото: Вадим Замировский / AUTO.TUT.BY\\n\\nВодители-испытатели БЕЛАЗов к...   \n",
       "1868  Дональд Трамп, избранный президент США, заявил, что оставит свой бизнес в срок до 20 января 2017 года, то есть до даты инаугурации, после чего сосредоточится на президентской работе.\\n\\nТакое реше...   \n",
       "1117  Хацкевич назвал слухами информацию о его возможном назначении в киевское \"Динамо\"\\n\\n6 декабря 2016 в 21:11\\n\\nSPORT.TUT.BY\\n\\nУволенный с поста главного тренера сборной Беларуси Александр Хацкеви...   \n",
       "2777  Специалисты Apple планируют начать широкомасштабную кампанию по борьбе со спамом в стандартном для «яблочных» гаджетов приложении «Календарь» из macOS и iOS. В последнее время пользователи активно...   \n",
       "2480  ​12 декабря Борис Гребенщиков и группа «Аквариум» с симфоническим оркестром сорвали аншлаг на концерте в Новосибирске.\\n\\n\\n\\n\\n\\nКонцерт «БГ SYMPHONIA» Гребенщиков исполнил на сцене ДКЖ.\\n\\n\\n\\n\\...   \n",
       "\n",
       "           tag  \\\n",
       "3095    social   \n",
       "3083    social   \n",
       "719   incident   \n",
       "2183  incident   \n",
       "2198  incident   \n",
       "1240      auto   \n",
       "1868  politics   \n",
       "1117     sport   \n",
       "2777      tech   \n",
       "2480   culture   \n",
       "\n",
       "                                                                                                                                                                                                        ctext  \n",
       "3095  наш край красноярск подхватить спасательный круг  туруханск  выездной заседание гражданский ассамблея красноярский край  который обсуждать вопрос возрождение традиционный образ жизнь коренной мало...  \n",
       "3083  интерфакс религия    патриарх кирилл посетить камчатка патриарх московский  весь русь кирилл   сентябрь  ожидаться побывать  камчатка москва  июль интерфакс патриарх московский  весь русь кирилл  ...  \n",
       "719   столичный житель обвиняться  распространение наркотик  весь минский область  декабрь     вячеслав будкевич  прокуратура минский область направить  суд уголовный дело  отношение     летний житель с...  \n",
       "2183   кемеровский область    место дтп сотрудник экстренный служба наехать автомобиль   сообщаться  сайт региональный главка мвд авария произойти   метр километр дорога ленинск кузнецкий новокузнецк   ...  \n",
       "2198   восток москва загореться склад пиломатериал сообщить  столичный  мчс россия сообщение  возгорание  складской здание поступить  ведомство  декабрь      место чп  спасательный бригада обнаружить  в...  \n",
       "1240   испытывать    испытывать   работать водитель испытатель   декабрь     павел  фото вадим     водитель испытатель  казаться какой  нереальный человек       такой махина  тот   карьер чаща  левостор...  \n",
       "1868  дональд трамп избранный президент сша заявить  оставить свой бизнес  срок   январь  год    дата инаугурация   сосредоточиться  президентский работа такой решение будущий глава государство принять ...  \n",
       "1117   назвать слух информация   возможный назначение  киевский динамо  декабрь          пост главный тренер сборный беларусь александр  сообщить футбол   информация   возможный назначение  киевский дин...  \n",
       "2777  специалист  планировать  широкомасштабный кампания  борьба  спам  стандартный  яблочный гаджет приложение календарь      последний время пользователь  жаловаться  рассылка сообщение  почтовый ящик...  \n",
       "2480   декабрь борис гребенщик  группа аквариум  симфонический оркестр сорвать аншлаг  концерт  новосибирск концерт   гребенщик исполнить  сцена  приехать   сотоварищ  казахстан преодолеть  километр    ...  "
      ]
     },
     "execution_count": 7,
     "metadata": {},
     "output_type": "execute_result"
    }
   ],
   "source": [
    "data.sample(10)"
   ]
  },
  {
   "cell_type": "markdown",
   "metadata": {},
   "source": [
    "##  Vectorizer"
   ]
  },
  {
   "cell_type": "code",
   "execution_count": 8,
   "metadata": {},
   "outputs": [],
   "source": [
    "tf = TfidfVectorizer(use_idf=True,norm='l2').fit( data['ctext'] )"
   ]
  },
  {
   "cell_type": "code",
   "execution_count": 9,
   "metadata": {},
   "outputs": [
    {
     "data": {
      "text/plain": [
       "22128"
      ]
     },
     "execution_count": 9,
     "metadata": {},
     "output_type": "execute_result"
    }
   ],
   "source": [
    "len(tf.vocabulary_)"
   ]
  },
  {
   "cell_type": "markdown",
   "metadata": {},
   "source": [
    "## формируем датасет"
   ]
  },
  {
   "cell_type": "code",
   "execution_count": 10,
   "metadata": {},
   "outputs": [
    {
     "data": {
      "text/plain": [
       "(3196, 22128)"
      ]
     },
     "execution_count": 10,
     "metadata": {},
     "output_type": "execute_result"
    }
   ],
   "source": [
    "X = tf.transform( data['ctext'] )\n",
    "X.shape"
   ]
  },
  {
   "cell_type": "markdown",
   "metadata": {},
   "source": [
    "## кластеризируем"
   ]
  },
  {
   "cell_type": "code",
   "execution_count": 11,
   "metadata": {},
   "outputs": [],
   "source": [
    "from sklearn.cluster import DBSCAN\n",
    "\n",
    "clust = DBSCAN(eps=.95,min_samples=10).fit(X)"
   ]
  },
  {
   "cell_type": "code",
   "execution_count": 12,
   "metadata": {},
   "outputs": [],
   "source": [
    "data['cluster'] = clust.labels_"
   ]
  },
  {
   "cell_type": "code",
   "execution_count": 13,
   "metadata": {},
   "outputs": [
    {
     "data": {
      "text/plain": [
       "36"
      ]
     },
     "execution_count": 13,
     "metadata": {},
     "output_type": "execute_result"
    }
   ],
   "source": [
    "data['cluster'].drop_duplicates().count()"
   ]
  },
  {
   "cell_type": "markdown",
   "metadata": {},
   "source": [
    "## тестируем"
   ]
  },
  {
   "cell_type": "code",
   "execution_count": 14,
   "metadata": {},
   "outputs": [],
   "source": [
    "from matplotlib import pyplot as plt"
   ]
  },
  {
   "cell_type": "code",
   "execution_count": 15,
   "metadata": {},
   "outputs": [
    {
     "data": {
      "text/html": [
       "<div>\n",
       "<style scoped>\n",
       "    .dataframe tbody tr th:only-of-type {\n",
       "        vertical-align: middle;\n",
       "    }\n",
       "\n",
       "    .dataframe tbody tr th {\n",
       "        vertical-align: top;\n",
       "    }\n",
       "\n",
       "    .dataframe thead th {\n",
       "        text-align: right;\n",
       "    }\n",
       "</style>\n",
       "<table border=\"1\" class=\"dataframe\">\n",
       "  <thead>\n",
       "    <tr style=\"text-align: right;\">\n",
       "      <th></th>\n",
       "      <th>cluster</th>\n",
       "      <th>count</th>\n",
       "      <th>tags</th>\n",
       "    </tr>\n",
       "  </thead>\n",
       "  <tbody>\n",
       "    <tr>\n",
       "      <th>0</th>\n",
       "      <td>-1</td>\n",
       "      <td>2658</td>\n",
       "      <td>sport culture incident social realty auto tech economics woman science reclama politics health</td>\n",
       "    </tr>\n",
       "    <tr>\n",
       "      <th>1</th>\n",
       "      <td>0</td>\n",
       "      <td>17</td>\n",
       "      <td>politics</td>\n",
       "    </tr>\n",
       "    <tr>\n",
       "      <th>2</th>\n",
       "      <td>1</td>\n",
       "      <td>21</td>\n",
       "      <td>politics</td>\n",
       "    </tr>\n",
       "    <tr>\n",
       "      <th>3</th>\n",
       "      <td>2</td>\n",
       "      <td>15</td>\n",
       "      <td>politics</td>\n",
       "    </tr>\n",
       "    <tr>\n",
       "      <th>4</th>\n",
       "      <td>3</td>\n",
       "      <td>34</td>\n",
       "      <td>politics</td>\n",
       "    </tr>\n",
       "    <tr>\n",
       "      <th>5</th>\n",
       "      <td>4</td>\n",
       "      <td>28</td>\n",
       "      <td>politics</td>\n",
       "    </tr>\n",
       "    <tr>\n",
       "      <th>6</th>\n",
       "      <td>5</td>\n",
       "      <td>35</td>\n",
       "      <td>politics</td>\n",
       "    </tr>\n",
       "    <tr>\n",
       "      <th>7</th>\n",
       "      <td>6</td>\n",
       "      <td>13</td>\n",
       "      <td>incident</td>\n",
       "    </tr>\n",
       "    <tr>\n",
       "      <th>8</th>\n",
       "      <td>7</td>\n",
       "      <td>25</td>\n",
       "      <td>politics</td>\n",
       "    </tr>\n",
       "    <tr>\n",
       "      <th>9</th>\n",
       "      <td>8</td>\n",
       "      <td>12</td>\n",
       "      <td>sport</td>\n",
       "    </tr>\n",
       "    <tr>\n",
       "      <th>10</th>\n",
       "      <td>9</td>\n",
       "      <td>14</td>\n",
       "      <td>science</td>\n",
       "    </tr>\n",
       "    <tr>\n",
       "      <th>11</th>\n",
       "      <td>10</td>\n",
       "      <td>10</td>\n",
       "      <td>politics</td>\n",
       "    </tr>\n",
       "    <tr>\n",
       "      <th>12</th>\n",
       "      <td>11</td>\n",
       "      <td>10</td>\n",
       "      <td>politics</td>\n",
       "    </tr>\n",
       "    <tr>\n",
       "      <th>13</th>\n",
       "      <td>12</td>\n",
       "      <td>12</td>\n",
       "      <td>incident</td>\n",
       "    </tr>\n",
       "    <tr>\n",
       "      <th>14</th>\n",
       "      <td>13</td>\n",
       "      <td>16</td>\n",
       "      <td>economics</td>\n",
       "    </tr>\n",
       "    <tr>\n",
       "      <th>15</th>\n",
       "      <td>14</td>\n",
       "      <td>14</td>\n",
       "      <td>economics</td>\n",
       "    </tr>\n",
       "    <tr>\n",
       "      <th>16</th>\n",
       "      <td>15</td>\n",
       "      <td>11</td>\n",
       "      <td>auto</td>\n",
       "    </tr>\n",
       "    <tr>\n",
       "      <th>17</th>\n",
       "      <td>16</td>\n",
       "      <td>14</td>\n",
       "      <td>incident</td>\n",
       "    </tr>\n",
       "    <tr>\n",
       "      <th>18</th>\n",
       "      <td>17</td>\n",
       "      <td>16</td>\n",
       "      <td>culture</td>\n",
       "    </tr>\n",
       "    <tr>\n",
       "      <th>19</th>\n",
       "      <td>18</td>\n",
       "      <td>16</td>\n",
       "      <td>politics</td>\n",
       "    </tr>\n",
       "    <tr>\n",
       "      <th>20</th>\n",
       "      <td>19</td>\n",
       "      <td>15</td>\n",
       "      <td>politics</td>\n",
       "    </tr>\n",
       "    <tr>\n",
       "      <th>21</th>\n",
       "      <td>20</td>\n",
       "      <td>12</td>\n",
       "      <td>sport</td>\n",
       "    </tr>\n",
       "    <tr>\n",
       "      <th>22</th>\n",
       "      <td>21</td>\n",
       "      <td>10</td>\n",
       "      <td>sport</td>\n",
       "    </tr>\n",
       "    <tr>\n",
       "      <th>23</th>\n",
       "      <td>22</td>\n",
       "      <td>13</td>\n",
       "      <td>incident</td>\n",
       "    </tr>\n",
       "    <tr>\n",
       "      <th>24</th>\n",
       "      <td>23</td>\n",
       "      <td>15</td>\n",
       "      <td>incident</td>\n",
       "    </tr>\n",
       "    <tr>\n",
       "      <th>25</th>\n",
       "      <td>24</td>\n",
       "      <td>10</td>\n",
       "      <td>incident</td>\n",
       "    </tr>\n",
       "    <tr>\n",
       "      <th>26</th>\n",
       "      <td>25</td>\n",
       "      <td>11</td>\n",
       "      <td>incident</td>\n",
       "    </tr>\n",
       "    <tr>\n",
       "      <th>27</th>\n",
       "      <td>26</td>\n",
       "      <td>19</td>\n",
       "      <td>culture</td>\n",
       "    </tr>\n",
       "    <tr>\n",
       "      <th>28</th>\n",
       "      <td>27</td>\n",
       "      <td>13</td>\n",
       "      <td>culture</td>\n",
       "    </tr>\n",
       "    <tr>\n",
       "      <th>29</th>\n",
       "      <td>28</td>\n",
       "      <td>12</td>\n",
       "      <td>science</td>\n",
       "    </tr>\n",
       "    <tr>\n",
       "      <th>30</th>\n",
       "      <td>29</td>\n",
       "      <td>14</td>\n",
       "      <td>science</td>\n",
       "    </tr>\n",
       "    <tr>\n",
       "      <th>31</th>\n",
       "      <td>30</td>\n",
       "      <td>11</td>\n",
       "      <td>science</td>\n",
       "    </tr>\n",
       "    <tr>\n",
       "      <th>32</th>\n",
       "      <td>31</td>\n",
       "      <td>15</td>\n",
       "      <td>tech</td>\n",
       "    </tr>\n",
       "    <tr>\n",
       "      <th>33</th>\n",
       "      <td>32</td>\n",
       "      <td>11</td>\n",
       "      <td>tech</td>\n",
       "    </tr>\n",
       "    <tr>\n",
       "      <th>34</th>\n",
       "      <td>33</td>\n",
       "      <td>10</td>\n",
       "      <td>tech science</td>\n",
       "    </tr>\n",
       "    <tr>\n",
       "      <th>35</th>\n",
       "      <td>34</td>\n",
       "      <td>14</td>\n",
       "      <td>tech</td>\n",
       "    </tr>\n",
       "  </tbody>\n",
       "</table>\n",
       "</div>"
      ],
      "text/plain": [
       "    cluster  count  \\\n",
       "0        -1   2658   \n",
       "1         0     17   \n",
       "2         1     21   \n",
       "3         2     15   \n",
       "4         3     34   \n",
       "5         4     28   \n",
       "6         5     35   \n",
       "7         6     13   \n",
       "8         7     25   \n",
       "9         8     12   \n",
       "10        9     14   \n",
       "11       10     10   \n",
       "12       11     10   \n",
       "13       12     12   \n",
       "14       13     16   \n",
       "15       14     14   \n",
       "16       15     11   \n",
       "17       16     14   \n",
       "18       17     16   \n",
       "19       18     16   \n",
       "20       19     15   \n",
       "21       20     12   \n",
       "22       21     10   \n",
       "23       22     13   \n",
       "24       23     15   \n",
       "25       24     10   \n",
       "26       25     11   \n",
       "27       26     19   \n",
       "28       27     13   \n",
       "29       28     12   \n",
       "30       29     14   \n",
       "31       30     11   \n",
       "32       31     15   \n",
       "33       32     11   \n",
       "34       33     10   \n",
       "35       34     14   \n",
       "\n",
       "                                                                                              tags  \n",
       "0   sport culture incident social realty auto tech economics woman science reclama politics health  \n",
       "1                                                                                         politics  \n",
       "2                                                                                         politics  \n",
       "3                                                                                         politics  \n",
       "4                                                                                         politics  \n",
       "5                                                                                         politics  \n",
       "6                                                                                         politics  \n",
       "7                                                                                         incident  \n",
       "8                                                                                         politics  \n",
       "9                                                                                            sport  \n",
       "10                                                                                         science  \n",
       "11                                                                                        politics  \n",
       "12                                                                                        politics  \n",
       "13                                                                                        incident  \n",
       "14                                                                                       economics  \n",
       "15                                                                                       economics  \n",
       "16                                                                                            auto  \n",
       "17                                                                                        incident  \n",
       "18                                                                                         culture  \n",
       "19                                                                                        politics  \n",
       "20                                                                                        politics  \n",
       "21                                                                                           sport  \n",
       "22                                                                                           sport  \n",
       "23                                                                                        incident  \n",
       "24                                                                                        incident  \n",
       "25                                                                                        incident  \n",
       "26                                                                                        incident  \n",
       "27                                                                                         culture  \n",
       "28                                                                                         culture  \n",
       "29                                                                                         science  \n",
       "30                                                                                         science  \n",
       "31                                                                                         science  \n",
       "32                                                                                            tech  \n",
       "33                                                                                            tech  \n",
       "34                                                                                    tech science  \n",
       "35                                                                                            tech  "
      ]
     },
     "execution_count": 15,
     "metadata": {},
     "output_type": "execute_result"
    }
   ],
   "source": [
    "cluster_descr = pd.concat([\n",
    "        data[['cluster','tag']].groupby(['cluster'])['tag'].count(),\n",
    "        data[['cluster','tag']].groupby(['cluster'])['tag'].apply(lambda s: set(s)).apply(' '.join)\n",
    "    ],axis=1).reset_index()\n",
    "\n",
    "cluster_descr.columns = ['cluster','count','tags']\n",
    "\n",
    "cluster_descr"
   ]
  },
  {
   "cell_type": "code",
   "execution_count": 16,
   "metadata": {},
   "outputs": [
    {
     "name": "stdout",
     "output_type": "stream",
     "text": [
      "   cluster  count      tags\n",
      "1        0     17  politics\n"
     ]
    },
    {
     "data": {
      "text/html": [
       "<div>\n",
       "<style scoped>\n",
       "    .dataframe tbody tr th:only-of-type {\n",
       "        vertical-align: middle;\n",
       "    }\n",
       "\n",
       "    .dataframe tbody tr th {\n",
       "        vertical-align: top;\n",
       "    }\n",
       "\n",
       "    .dataframe thead th {\n",
       "        text-align: right;\n",
       "    }\n",
       "</style>\n",
       "<table border=\"1\" class=\"dataframe\">\n",
       "  <thead>\n",
       "    <tr style=\"text-align: right;\">\n",
       "      <th></th>\n",
       "      <th>text</th>\n",
       "      <th>tag</th>\n",
       "    </tr>\n",
       "  </thead>\n",
       "  <tbody>\n",
       "    <tr>\n",
       "      <th>1676</th>\n",
       "      <td>МОСКВА, 13 декабря. /ТАСС/. Экс-президент СССР Михаил Горбачев допускает возможность появления в границах бывшего Советского Союза нового Союзного государства.\\n\\n\"Советского Союза - нет, а Союза ...</td>\n",
       "      <td>politics</td>\n",
       "    </tr>\n",
       "    <tr>\n",
       "      <th>1406</th>\n",
       "      <td>Михаил Горбачев в интервью, приуроченном к 25-й годовщине распада СССР, ответил на вопрос, возможно ли его восстановление: «Советского Союза — нет, а Союза — да». «В прежних границах и с тем же со...</td>\n",
       "      <td>politics</td>\n",
       "    </tr>\n",
       "    <tr>\n",
       "      <th>1673</th>\n",
       "      <td>Горбачев увидел возможность восстановления Союза в прежних границах\\n\\nОбъединение, по его словам, может стать полностью добровольным\\n\\nПервый президент СССР Михаил Горбачев заявил о возможности ...</td>\n",
       "      <td>politics</td>\n",
       "    </tr>\n",
       "    <tr>\n",
       "      <th>1403</th>\n",
       "      <td>Горбачев заявил о возможном создании в границах бывшего СССР нового Союза\\n\\nТелеканал «Россия – Вологда»\\n\\nЭкс-президент Советского Союза Михаил Горбачев заявил, что в границах бывшего СССР може...</td>\n",
       "      <td>politics</td>\n",
       "    </tr>\n",
       "    <tr>\n",
       "      <th>479</th>\n",
       "      <td>Более половины россиян сожалеют о распаде СССР\\n\\n5 декабря 2016 в 12:36\\n\\nDeutsche Welle\\n\\nБольшинство россиян сожалеет о распаде СССР, но только каждый восьмой хотел бы его восстановления в пр...</td>\n",
       "      <td>politics</td>\n",
       "    </tr>\n",
       "  </tbody>\n",
       "</table>\n",
       "</div>"
      ],
      "text/plain": [
       "                                                                                                                                                                                                         text  \\\n",
       "1676  МОСКВА, 13 декабря. /ТАСС/. Экс-президент СССР Михаил Горбачев допускает возможность появления в границах бывшего Советского Союза нового Союзного государства.\\n\\n\"Советского Союза - нет, а Союза ...   \n",
       "1406  Михаил Горбачев в интервью, приуроченном к 25-й годовщине распада СССР, ответил на вопрос, возможно ли его восстановление: «Советского Союза — нет, а Союза — да». «В прежних границах и с тем же со...   \n",
       "1673  Горбачев увидел возможность восстановления Союза в прежних границах\\n\\nОбъединение, по его словам, может стать полностью добровольным\\n\\nПервый президент СССР Михаил Горбачев заявил о возможности ...   \n",
       "1403  Горбачев заявил о возможном создании в границах бывшего СССР нового Союза\\n\\nТелеканал «Россия – Вологда»\\n\\nЭкс-президент Советского Союза Михаил Горбачев заявил, что в границах бывшего СССР може...   \n",
       "479   Более половины россиян сожалеют о распаде СССР\\n\\n5 декабря 2016 в 12:36\\n\\nDeutsche Welle\\n\\nБольшинство россиян сожалеет о распаде СССР, но только каждый восьмой хотел бы его восстановления в пр...   \n",
       "\n",
       "           tag  \n",
       "1676  politics  \n",
       "1406  politics  \n",
       "1673  politics  \n",
       "1403  politics  \n",
       "479   politics  "
      ]
     },
     "execution_count": 16,
     "metadata": {},
     "output_type": "execute_result"
    }
   ],
   "source": [
    "n = 0\n",
    "print(cluster_descr.query(f'cluster=={n}'))\n",
    "data.query(f'cluster=={n}')[['text','tag']].sample(5)"
   ]
  },
  {
   "cell_type": "code",
   "execution_count": 17,
   "metadata": {},
   "outputs": [
    {
     "name": "stdout",
     "output_type": "stream",
     "text": [
      "   cluster  count      tags\n",
      "2        1     21  politics\n"
     ]
    },
    {
     "data": {
      "text/html": [
       "<div>\n",
       "<style scoped>\n",
       "    .dataframe tbody tr th:only-of-type {\n",
       "        vertical-align: middle;\n",
       "    }\n",
       "\n",
       "    .dataframe tbody tr th {\n",
       "        vertical-align: top;\n",
       "    }\n",
       "\n",
       "    .dataframe thead th {\n",
       "        text-align: right;\n",
       "    }\n",
       "</style>\n",
       "<table border=\"1\" class=\"dataframe\">\n",
       "  <thead>\n",
       "    <tr style=\"text-align: right;\">\n",
       "      <th></th>\n",
       "      <th>text</th>\n",
       "      <th>tag</th>\n",
       "    </tr>\n",
       "  </thead>\n",
       "  <tbody>\n",
       "    <tr>\n",
       "      <th>1376</th>\n",
       "      <td>Заявления о возможной российской угрозе странно слышать от хорватских властей, однако Москва готова обсудить аргументы Загреба, заявил глава МИД Сергей Лавров.\\r\\n\\r\\nРанее в СМИ появились высказы...</td>\n",
       "      <td>politics</td>\n",
       "    </tr>\n",
       "    <tr>\n",
       "      <th>1599</th>\n",
       "      <td>Министр иностранных дел РФ назвал заявления странными, но подчеркнул, что при наличии конкретных фактов готов обсудить их с хорватским лидером\\n\\nГлава МИД РФ Сергей Лавров ответил на слова презид...</td>\n",
       "      <td>politics</td>\n",
       "    </tr>\n",
       "    <tr>\n",
       "      <th>1600</th>\n",
       "      <td>Лавров прокомментировал «российскую угрозу» на Балканах\\n\\nГлава МИД России Сергей Лавров заявил, что ему странно слышать об угрозе, которую Москва несет для Загреба. По словам министра, он хорошо...</td>\n",
       "      <td>politics</td>\n",
       "    </tr>\n",
       "    <tr>\n",
       "      <th>1593</th>\n",
       "      <td>В МИД прокомментировали заявление президента Хорватии об угрозе войны на Балканах. Ранее СМИ опубликовали заявление президента Хорватии Колинды Грабар-Китарович об угрозе военного конфликта на Бал...</td>\n",
       "      <td>politics</td>\n",
       "    </tr>\n",
       "    <tr>\n",
       "      <th>1845</th>\n",
       "      <td>Если у хорватского президента есть конкретные факты, подтверждающие эти заявления, то Россия готова эти факты обсудить и как-то прокомментировать, указал глава МИД РФ.\\n\\nСтранно слышать заявления...</td>\n",
       "      <td>politics</td>\n",
       "    </tr>\n",
       "  </tbody>\n",
       "</table>\n",
       "</div>"
      ],
      "text/plain": [
       "                                                                                                                                                                                                         text  \\\n",
       "1376  Заявления о возможной российской угрозе странно слышать от хорватских властей, однако Москва готова обсудить аргументы Загреба, заявил глава МИД Сергей Лавров.\\r\\n\\r\\nРанее в СМИ появились высказы...   \n",
       "1599  Министр иностранных дел РФ назвал заявления странными, но подчеркнул, что при наличии конкретных фактов готов обсудить их с хорватским лидером\\n\\nГлава МИД РФ Сергей Лавров ответил на слова презид...   \n",
       "1600  Лавров прокомментировал «российскую угрозу» на Балканах\\n\\nГлава МИД России Сергей Лавров заявил, что ему странно слышать об угрозе, которую Москва несет для Загреба. По словам министра, он хорошо...   \n",
       "1593  В МИД прокомментировали заявление президента Хорватии об угрозе войны на Балканах. Ранее СМИ опубликовали заявление президента Хорватии Колинды Грабар-Китарович об угрозе военного конфликта на Бал...   \n",
       "1845  Если у хорватского президента есть конкретные факты, подтверждающие эти заявления, то Россия готова эти факты обсудить и как-то прокомментировать, указал глава МИД РФ.\\n\\nСтранно слышать заявления...   \n",
       "\n",
       "           tag  \n",
       "1376  politics  \n",
       "1599  politics  \n",
       "1600  politics  \n",
       "1593  politics  \n",
       "1845  politics  "
      ]
     },
     "execution_count": 17,
     "metadata": {},
     "output_type": "execute_result"
    }
   ],
   "source": [
    "n = 1\n",
    "print(cluster_descr.query(f'cluster=={n}'))\n",
    "data.query(f'cluster=={n}')[['text','tag']].sample(5)"
   ]
  },
  {
   "cell_type": "code",
   "execution_count": 18,
   "metadata": {},
   "outputs": [
    {
     "name": "stdout",
     "output_type": "stream",
     "text": [
      "   cluster  count      tags\n",
      "3        2     15  politics\n"
     ]
    },
    {
     "data": {
      "text/html": [
       "<div>\n",
       "<style scoped>\n",
       "    .dataframe tbody tr th:only-of-type {\n",
       "        vertical-align: middle;\n",
       "    }\n",
       "\n",
       "    .dataframe tbody tr th {\n",
       "        vertical-align: top;\n",
       "    }\n",
       "\n",
       "    .dataframe thead th {\n",
       "        text-align: right;\n",
       "    }\n",
       "</style>\n",
       "<table border=\"1\" class=\"dataframe\">\n",
       "  <thead>\n",
       "    <tr style=\"text-align: right;\">\n",
       "      <th></th>\n",
       "      <th>text</th>\n",
       "      <th>tag</th>\n",
       "    </tr>\n",
       "  </thead>\n",
       "  <tbody>\n",
       "    <tr>\n",
       "      <th>1864</th>\n",
       "      <td>Избранный президент США Дональд Трамп в ходе телефонного разговора с главным кандидатом на пост госсекретаря Миттом Ромни сообщил, что Ромни не будет занимать эту должность.\\n\\nПосле разговора экс...</td>\n",
       "      <td>politics</td>\n",
       "    </tr>\n",
       "    <tr>\n",
       "      <th>1860</th>\n",
       "      <td>Место главного дипломата Америки точно не светит экс-кандидату на пост президента США в 2012 году Митту Ромни. С мечтой возглавить дипломатический корпус известный своими антироссийскими высказыва...</td>\n",
       "      <td>politics</td>\n",
       "    </tr>\n",
       "    <tr>\n",
       "      <th>1386</th>\n",
       "      <td>Дональд Трамп позвонил Ромни и уведомил, что тот не рассматривается в качестве претендента на эту должность. Об этом сообщил телеканал CNN, а затем информацию подтвердил сам Митт Ромни в Facebook....</td>\n",
       "      <td>politics</td>\n",
       "    </tr>\n",
       "    <tr>\n",
       "      <th>1388</th>\n",
       "      <td>Митт Ромни расстался с мыслью стать госсекретарем США\\n\\nПо данным СМИ, Трамп объявит имя нового главы Госдепа во вторник утром, главным претендентом на пост является глава Exxon Mobil Рекс Тиллер...</td>\n",
       "      <td>politics</td>\n",
       "    </tr>\n",
       "    <tr>\n",
       "      <th>1380</th>\n",
       "      <td>Избранный президент США Дональд Трамп позвонил Митту Ромни и сообщил, что тот не будет новым госсекретарём. Об этом сообщает CNN со ссылкой на источник в переходной команде республиканца.\\n\\nРеспу...</td>\n",
       "      <td>politics</td>\n",
       "    </tr>\n",
       "  </tbody>\n",
       "</table>\n",
       "</div>"
      ],
      "text/plain": [
       "                                                                                                                                                                                                         text  \\\n",
       "1864  Избранный президент США Дональд Трамп в ходе телефонного разговора с главным кандидатом на пост госсекретаря Миттом Ромни сообщил, что Ромни не будет занимать эту должность.\\n\\nПосле разговора экс...   \n",
       "1860  Место главного дипломата Америки точно не светит экс-кандидату на пост президента США в 2012 году Митту Ромни. С мечтой возглавить дипломатический корпус известный своими антироссийскими высказыва...   \n",
       "1386  Дональд Трамп позвонил Ромни и уведомил, что тот не рассматривается в качестве претендента на эту должность. Об этом сообщил телеканал CNN, а затем информацию подтвердил сам Митт Ромни в Facebook....   \n",
       "1388  Митт Ромни расстался с мыслью стать госсекретарем США\\n\\nПо данным СМИ, Трамп объявит имя нового главы Госдепа во вторник утром, главным претендентом на пост является глава Exxon Mobil Рекс Тиллер...   \n",
       "1380  Избранный президент США Дональд Трамп позвонил Митту Ромни и сообщил, что тот не будет новым госсекретарём. Об этом сообщает CNN со ссылкой на источник в переходной команде республиканца.\\n\\nРеспу...   \n",
       "\n",
       "           tag  \n",
       "1864  politics  \n",
       "1860  politics  \n",
       "1386  politics  \n",
       "1388  politics  \n",
       "1380  politics  "
      ]
     },
     "execution_count": 18,
     "metadata": {},
     "output_type": "execute_result"
    }
   ],
   "source": [
    "n = 2\n",
    "print(cluster_descr.query(f'cluster=={n}'))\n",
    "data.query(f'cluster=={n}')[['text','tag']].sample(5)"
   ]
  },
  {
   "cell_type": "code",
   "execution_count": 19,
   "metadata": {},
   "outputs": [
    {
     "name": "stdout",
     "output_type": "stream",
     "text": [
      "   cluster  count      tags\n",
      "4        3     34  politics\n"
     ]
    },
    {
     "data": {
      "text/html": [
       "<div>\n",
       "<style scoped>\n",
       "    .dataframe tbody tr th:only-of-type {\n",
       "        vertical-align: middle;\n",
       "    }\n",
       "\n",
       "    .dataframe tbody tr th {\n",
       "        vertical-align: top;\n",
       "    }\n",
       "\n",
       "    .dataframe thead th {\n",
       "        text-align: right;\n",
       "    }\n",
       "</style>\n",
       "<table border=\"1\" class=\"dataframe\">\n",
       "  <thead>\n",
       "    <tr style=\"text-align: right;\">\n",
       "      <th></th>\n",
       "      <th>text</th>\n",
       "      <th>tag</th>\n",
       "    </tr>\n",
       "  </thead>\n",
       "  <tbody>\n",
       "    <tr>\n",
       "      <th>1854</th>\n",
       "      <td>Президент России Владимир Путин в интервью японской телекомпании Nippon TV заявил, что у России нет территориальных проблем с Японией: «Это Япония считает, что у нее есть территориальные проблемы,...</td>\n",
       "      <td>politics</td>\n",
       "    </tr>\n",
       "    <tr>\n",
       "      <th>1574</th>\n",
       "      <td>У России нет территориальных проблем с Японией — они есть только по мнению Японии. Об этом заявил президент РФ Владимир Путин в интервью телекомпании Nippon TV.\\n\\n«У нас нет территориальных пробл...</td>\n",
       "      <td>politics</td>\n",
       "    </tr>\n",
       "    <tr>\n",
       "      <th>1850</th>\n",
       "      <td>Президент России Владимир Путин заявил о том, что Москва хочет полной нормализации отношений с Токио, передает РИА «Новости» со ссылкой на японские СМИ.\\n\\n«Мы хотим полной нормализации отношений ...</td>\n",
       "      <td>politics</td>\n",
       "    </tr>\n",
       "    <tr>\n",
       "      <th>1870</th>\n",
       "      <td>Во вторник, 13 декабря, МИД Японии официально объявил программу визита в страну президента РФ Владимира Путина.\\n\\nКак стало известно, глава нашего государства прибудет в аэропорт префектуры Ямагу...</td>\n",
       "      <td>politics</td>\n",
       "    </tr>\n",
       "    <tr>\n",
       "      <th>1414</th>\n",
       "      <td>В МИД Японии обнародовали программу российского президента во время рабочей поездки.\\n\\nПутин и Абэ примут участие в \"бизнес-диалоге\"\\n\\nЯпонское внешнеполитическое ведомство озвучило программу пр...</td>\n",
       "      <td>politics</td>\n",
       "    </tr>\n",
       "  </tbody>\n",
       "</table>\n",
       "</div>"
      ],
      "text/plain": [
       "                                                                                                                                                                                                         text  \\\n",
       "1854  Президент России Владимир Путин в интервью японской телекомпании Nippon TV заявил, что у России нет территориальных проблем с Японией: «Это Япония считает, что у нее есть территориальные проблемы,...   \n",
       "1574  У России нет территориальных проблем с Японией — они есть только по мнению Японии. Об этом заявил президент РФ Владимир Путин в интервью телекомпании Nippon TV.\\n\\n«У нас нет территориальных пробл...   \n",
       "1850  Президент России Владимир Путин заявил о том, что Москва хочет полной нормализации отношений с Токио, передает РИА «Новости» со ссылкой на японские СМИ.\\n\\n«Мы хотим полной нормализации отношений ...   \n",
       "1870  Во вторник, 13 декабря, МИД Японии официально объявил программу визита в страну президента РФ Владимира Путина.\\n\\nКак стало известно, глава нашего государства прибудет в аэропорт префектуры Ямагу...   \n",
       "1414  В МИД Японии обнародовали программу российского президента во время рабочей поездки.\\n\\nПутин и Абэ примут участие в \"бизнес-диалоге\"\\n\\nЯпонское внешнеполитическое ведомство озвучило программу пр...   \n",
       "\n",
       "           tag  \n",
       "1854  politics  \n",
       "1574  politics  \n",
       "1850  politics  \n",
       "1870  politics  \n",
       "1414  politics  "
      ]
     },
     "execution_count": 19,
     "metadata": {},
     "output_type": "execute_result"
    }
   ],
   "source": [
    "n = 3\n",
    "print(cluster_descr.query(f'cluster=={n}'))\n",
    "data.query(f'cluster=={n}')[['text','tag']].sample(5)"
   ]
  },
  {
   "cell_type": "code",
   "execution_count": null,
   "metadata": {},
   "outputs": [],
   "source": []
  }
 ],
 "metadata": {
  "kernelspec": {
   "display_name": "Python 3",
   "language": "python",
   "name": "python3"
  },
  "language_info": {
   "codemirror_mode": {
    "name": "ipython",
    "version": 3
   },
   "file_extension": ".py",
   "mimetype": "text/x-python",
   "name": "python",
   "nbconvert_exporter": "python",
   "pygments_lexer": "ipython3",
   "version": "3.8.6"
  },
  "toc": {
   "base_numbering": 1,
   "nav_menu": {},
   "number_sections": true,
   "sideBar": true,
   "skip_h1_title": false,
   "title_cell": "Table of Contents",
   "title_sidebar": "Contents",
   "toc_cell": false,
   "toc_position": {},
   "toc_section_display": true,
   "toc_window_display": false
  }
 },
 "nbformat": 4,
 "nbformat_minor": 2
}
