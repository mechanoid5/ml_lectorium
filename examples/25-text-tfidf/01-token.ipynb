{
 "cells": [
  {
   "cell_type": "markdown",
   "metadata": {},
   "source": [
    "**извлечение признаков из текста на естественном языке**\n",
    "\n",
    "токенизация и очистка текста\n",
    "\n",
    "\n",
    "Евгений Борисов borisov.e@solarl.ru"
   ]
  },
  {
   "cell_type": "markdown",
   "metadata": {},
   "source": [
    "## библиотеки"
   ]
  },
  {
   "cell_type": "code",
   "execution_count": 1,
   "metadata": {},
   "outputs": [
    {
     "name": "stderr",
     "output_type": "stream",
     "text": [
      "/usr/lib/python3.8/site-packages/tqdm/std.py:703: FutureWarning: The Panel class is removed from pandas. Accessing it from the top-level namespace will also be removed in the next version\n",
      "  from pandas import Panel\n"
     ]
    }
   ],
   "source": [
    "import re\n",
    "# import gzip\n",
    "# import numpy as np\n",
    "# import numpy.random as rng\n",
    "import pandas as pd\n",
    "from tqdm import tqdm\n",
    "\n",
    "# np.set_printoptions(precision=2) # вывод на печать чисел до 2 знака\n",
    "pd.options.display.max_colwidth = 200 \n",
    "\n",
    "tqdm.pandas()"
   ]
  },
  {
   "cell_type": "code",
   "execution_count": 2,
   "metadata": {},
   "outputs": [],
   "source": [
    "# from sklearn import __version__ as SKLEARN_VERSION\n",
    "\n",
    "# from sklearn.feature_extraction.text import HashingVectorizer\n",
    "\n",
    "# from sklearn.model_selection import train_test_split\n",
    "# from sklearn.metrics import confusion_matrix\n",
    "# from sklearn.metrics import classification_report\n",
    "# from sklearn.metrics import accuracy_score\n",
    "\n",
    "# SKLEARN_VERSION"
   ]
  },
  {
   "cell_type": "markdown",
   "metadata": {},
   "source": [
    "## тексты"
   ]
  },
  {
   "cell_type": "code",
   "execution_count": 3,
   "metadata": {},
   "outputs": [
    {
     "name": "stdout",
     "output_type": "stream",
     "text": [
      "записей: 3196\n"
     ]
    },
    {
     "data": {
      "text/html": [
       "<div>\n",
       "<style scoped>\n",
       "    .dataframe tbody tr th:only-of-type {\n",
       "        vertical-align: middle;\n",
       "    }\n",
       "\n",
       "    .dataframe tbody tr th {\n",
       "        vertical-align: top;\n",
       "    }\n",
       "\n",
       "    .dataframe thead th {\n",
       "        text-align: right;\n",
       "    }\n",
       "</style>\n",
       "<table border=\"1\" class=\"dataframe\">\n",
       "  <thead>\n",
       "    <tr style=\"text-align: right;\">\n",
       "      <th></th>\n",
       "      <th>text</th>\n",
       "      <th>tag</th>\n",
       "    </tr>\n",
       "  </thead>\n",
       "  <tbody>\n",
       "    <tr>\n",
       "      <th>2657</th>\n",
       "      <td>Например, исследователи из Эдинбургского университета в Великобритании предположили, что инопланетные цивилизации могут размещаться на коричневых карликах, потому как их температура и давление оче...</td>\n",
       "      <td>science</td>\n",
       "    </tr>\n",
       "    <tr>\n",
       "      <th>624</th>\n",
       "      <td>Как выбрать маникюр для Нового Года: тренды 2017\\n\\n1 декабря 2016 в 9:00\\n\\nBLOG.TAM.BY\\n\\nВ преддверии новогодних праздников каждая девушка мечтает выглядеть потрясающе. И это касается не только...</td>\n",
       "      <td>woman</td>\n",
       "    </tr>\n",
       "    <tr>\n",
       "      <th>135</th>\n",
       "      <td>НХЛ: Семейка Адамсов взгрела \"Анахайм\"В регулярном чемпионате НХЛ\\nзавершились шесть матчей. \"Детройт\" на своем льду обыграл \"Нью-Джерси\",\\nпрервав серию из трех домашних поражений, чего не случал...</td>\n",
       "      <td>sport</td>\n",
       "    </tr>\n",
       "    <tr>\n",
       "      <th>2920</th>\n",
       "      <td>По неофициальной информации, ноу-хау планируют назвать Beijing BJ80 Sport. От оригинала новую модель будут отличать воздухозаборник из пластика на капоте, и 20-дюймовые колесные диски, а также тор...</td>\n",
       "      <td>auto</td>\n",
       "    </tr>\n",
       "    <tr>\n",
       "      <th>1393</th>\n",
       "      <td>Москва, 13 декабря. Опрос, проведенный социологическим «Аналитическим центром Юрия Левады» показал, что три четверти россиян уверены в том, что президент Владимир Путин последовательно работает на...</td>\n",
       "      <td>politics</td>\n",
       "    </tr>\n",
       "  </tbody>\n",
       "</table>\n",
       "</div>"
      ],
      "text/plain": [
       "                                                                                                                                                                                                         text  \\\n",
       "2657  Например, исследователи из Эдинбургского университета в Великобритании предположили, что инопланетные цивилизации могут размещаться на коричневых карликах, потому как их температура и давление оче...   \n",
       "624   Как выбрать маникюр для Нового Года: тренды 2017\\n\\n1 декабря 2016 в 9:00\\n\\nBLOG.TAM.BY\\n\\nВ преддверии новогодних праздников каждая девушка мечтает выглядеть потрясающе. И это касается не только...   \n",
       "135   НХЛ: Семейка Адамсов взгрела \"Анахайм\"В регулярном чемпионате НХЛ\\nзавершились шесть матчей. \"Детройт\" на своем льду обыграл \"Нью-Джерси\",\\nпрервав серию из трех домашних поражений, чего не случал...   \n",
       "2920  По неофициальной информации, ноу-хау планируют назвать Beijing BJ80 Sport. От оригинала новую модель будут отличать воздухозаборник из пластика на капоте, и 20-дюймовые колесные диски, а также тор...   \n",
       "1393  Москва, 13 декабря. Опрос, проведенный социологическим «Аналитическим центром Юрия Левады» показал, что три четверти россиян уверены в том, что президент Владимир Путин последовательно работает на...   \n",
       "\n",
       "           tag  \n",
       "2657   science  \n",
       "624      woman  \n",
       "135      sport  \n",
       "2920      auto  \n",
       "1393  politics  "
      ]
     },
     "execution_count": 3,
     "metadata": {},
     "output_type": "execute_result"
    }
   ],
   "source": [
    "# загружаем тексты\n",
    "data = pd.read_pickle('../data/news.pkl.gz')\n",
    "print('записей:',len(data))\n",
    "data.sample(5)"
   ]
  },
  {
   "cell_type": "code",
   "execution_count": 4,
   "metadata": {},
   "outputs": [
    {
     "data": {
      "text/html": [
       "<div>\n",
       "<style scoped>\n",
       "    .dataframe tbody tr th:only-of-type {\n",
       "        vertical-align: middle;\n",
       "    }\n",
       "\n",
       "    .dataframe tbody tr th {\n",
       "        vertical-align: top;\n",
       "    }\n",
       "\n",
       "    .dataframe thead th {\n",
       "        text-align: right;\n",
       "    }\n",
       "</style>\n",
       "<table border=\"1\" class=\"dataframe\">\n",
       "  <thead>\n",
       "    <tr style=\"text-align: right;\">\n",
       "      <th></th>\n",
       "      <th>count</th>\n",
       "      <th>mean</th>\n",
       "      <th>std</th>\n",
       "      <th>min</th>\n",
       "      <th>10%</th>\n",
       "      <th>25%</th>\n",
       "      <th>50%</th>\n",
       "      <th>75%</th>\n",
       "      <th>95%</th>\n",
       "      <th>max</th>\n",
       "    </tr>\n",
       "  </thead>\n",
       "  <tbody>\n",
       "    <tr>\n",
       "      <th>text</th>\n",
       "      <td>3196</td>\n",
       "      <td>1720</td>\n",
       "      <td>2177</td>\n",
       "      <td>25</td>\n",
       "      <td>370</td>\n",
       "      <td>675</td>\n",
       "      <td>1070</td>\n",
       "      <td>1813</td>\n",
       "      <td>5761</td>\n",
       "      <td>30710</td>\n",
       "    </tr>\n",
       "  </tbody>\n",
       "</table>\n",
       "</div>"
      ],
      "text/plain": [
       "      count  mean   std  min  10%  25%   50%   75%   95%    max\n",
       "text   3196  1720  2177   25  370  675  1070  1813  5761  30710"
      ]
     },
     "execution_count": 4,
     "metadata": {},
     "output_type": "execute_result"
    }
   ],
   "source": [
    "# длина строк\n",
    "pd.DataFrame(data['text'].str.len()).describe([.1,.25,.5,.75,.95]).astype(int).T"
   ]
  },
  {
   "cell_type": "code",
   "execution_count": 5,
   "metadata": {},
   "outputs": [
    {
     "data": {
      "text/plain": [
       "13"
      ]
     },
     "execution_count": 5,
     "metadata": {},
     "output_type": "execute_result"
    }
   ],
   "source": [
    "# количество категорий\n",
    "data['tag'].drop_duplicates().count()"
   ]
  },
  {
   "cell_type": "markdown",
   "metadata": {},
   "source": [
    "## токенизация и очистка"
   ]
  },
  {
   "cell_type": "code",
   "execution_count": 6,
   "metadata": {},
   "outputs": [],
   "source": [
    "# применяет список замен pat к строке s\n",
    "def replace_patterns(s,pat):\n",
    "    if len(pat)<1: return s\n",
    "    return  replace_patterns( re.sub(pat[0][0],pat[0][1],s), pat[1:] )\n",
    "\n",
    "# нормализация текста\n",
    "def text_normalizer(s):\n",
    "    pat = [\n",
    "       [r'ё','е'] # замена ё для унификации\n",
    "       ,[r'</?[a-z]+>',' '] # удаляем xml\n",
    "       ,[r'\\d+',' '] # удаляем цифры\n",
    "       ,[r'[\\W]+',' '] # удаляем спец.символы\n",
    "       ,[r' +',' '] # удаляем повторы пробелов\n",
    "    ]\n",
    "    return replace_patterns(s.lower(),pat).strip()\n",
    "\n",
    "# разрезаем стоки на слова\n",
    "def tokenize(s): \n",
    "    return [ w for w in s.split() if (len(w)>1) ]"
   ]
  },
  {
   "cell_type": "code",
   "execution_count": 7,
   "metadata": {},
   "outputs": [
    {
     "name": "stderr",
     "output_type": "stream",
     "text": [
      "100%|██████████| 3196/3196 [00:00<00:00, 5495.62it/s]\n",
      "100%|██████████| 3196/3196 [00:00<00:00, 34385.36it/s]\n"
     ]
    }
   ],
   "source": [
    "data['ctext'] = data['text'].progress_apply(text_normalizer).progress_apply( tokenize )"
   ]
  },
  {
   "cell_type": "code",
   "execution_count": 8,
   "metadata": {},
   "outputs": [
    {
     "name": "stdout",
     "output_type": "stream",
     "text": [
      "словарь 81942 слов\n"
     ]
    }
   ],
   "source": [
    "# собираем словарь\n",
    "vcb = [ set(s) for s in data['ctext'].tolist() ]\n",
    "vcb = sorted(set.union(*vcb))\n",
    "print('словарь %i слов'%(len(vcb)))\n",
    "# pd.DataFrame( vcb0 ).to_csv('voc0.txt',index=False,header=False)"
   ]
  },
  {
   "cell_type": "code",
   "execution_count": 9,
   "metadata": {},
   "outputs": [
    {
     "data": {
      "text/html": [
       "<div>\n",
       "<style scoped>\n",
       "    .dataframe tbody tr th:only-of-type {\n",
       "        vertical-align: middle;\n",
       "    }\n",
       "\n",
       "    .dataframe tbody tr th {\n",
       "        vertical-align: top;\n",
       "    }\n",
       "\n",
       "    .dataframe thead th {\n",
       "        text-align: right;\n",
       "    }\n",
       "</style>\n",
       "<table border=\"1\" class=\"dataframe\">\n",
       "  <thead>\n",
       "    <tr style=\"text-align: right;\">\n",
       "      <th></th>\n",
       "      <th>text</th>\n",
       "      <th>tag</th>\n",
       "      <th>ctext</th>\n",
       "    </tr>\n",
       "  </thead>\n",
       "  <tbody>\n",
       "    <tr>\n",
       "      <th>3078</th>\n",
       "      <td>Новости. Холмск - События в городе и районе На Сахалине готовятся\\nк празднованию Дня коренных народов мира Представители этносов севера\\nСахалинской области готовятся к празднованию Дня коренных ...</td>\n",
       "      <td>social</td>\n",
       "      <td>[новости, холмск, события, городе, районе, на, сахалине, готовятся, празднованию, дня, коренных, народов, мира, представители, этносов, севера, сахалинской, области, готовятся, празднованию, дня, ...</td>\n",
       "    </tr>\n",
       "    <tr>\n",
       "      <th>2143</th>\n",
       "      <td>Футбол\\n\\nКриштиану Роналду: «Я один из тех игроков, которых можно пересчитать по пальцам одной руки»</td>\n",
       "      <td>sport</td>\n",
       "      <td>[футбол, криштиану, роналду, один, из, тех, игроков, которых, можно, пересчитать, по, пальцам, одной, руки]</td>\n",
       "    </tr>\n",
       "    <tr>\n",
       "      <th>72</th>\n",
       "      <td>Установка Gentoo на уже существующий раздел дискаDmitry G Zimin написал\\nстатью в которой показал как вручную установить Gentoo Linux на уже\\nсуществующий раздел диска.</td>\n",
       "      <td>tech</td>\n",
       "      <td>[установка, gentoo, на, уже, существующий, раздел, дискаdmitry, zimin, написал, статью, которой, показал, как, вручную, установить, gentoo, linux, на, уже, существующий, раздел, диска]</td>\n",
       "    </tr>\n",
       "    <tr>\n",
       "      <th>1179</th>\n",
       "      <td>В сквере Котовка снова рубят. Защитники сквера остановили людей с пилами\\n\\n6 декабря 2016 в 11:48\\n\\nЕлена Толкачева / REALTY.TUT.BY / Фото: Евгений Ерчак\\n\\nВо вторник утром в сквер Котовка прие...</td>\n",
       "      <td>realty</td>\n",
       "      <td>[сквере, котовка, снова, рубят, защитники, сквера, остановили, людей, пилами, декабря, елена, толкачева, realty, tut, by, фото, евгений, ерчак, во, вторник, утром, сквер, котовка, приехала, техник...</td>\n",
       "    </tr>\n",
       "    <tr>\n",
       "      <th>434</th>\n",
       "      <td>Коалиция США нанесла удары по госпиталю в Мосуле\\n\\n8 декабря 2016 в 9:01\\n\\nLenta.ru\\n\\nВозглавляемая США коалиция нанесла удары по госпиталю в Мосуле, который использовали боевики «Исламского го...</td>\n",
       "      <td>politics</td>\n",
       "      <td>[коалиция, сша, нанесла, удары, по, госпиталю, мосуле, декабря, lenta, ru, возглавляемая, сша, коалиция, нанесла, удары, по, госпиталю, мосуле, который, использовали, боевики, исламского, государс...</td>\n",
       "    </tr>\n",
       "  </tbody>\n",
       "</table>\n",
       "</div>"
      ],
      "text/plain": [
       "                                                                                                                                                                                                         text  \\\n",
       "3078  Новости. Холмск - События в городе и районе На Сахалине готовятся\\nк празднованию Дня коренных народов мира Представители этносов севера\\nСахалинской области готовятся к празднованию Дня коренных ...   \n",
       "2143                                                                                                    Футбол\\n\\nКриштиану Роналду: «Я один из тех игроков, которых можно пересчитать по пальцам одной руки»   \n",
       "72                                   Установка Gentoo на уже существующий раздел дискаDmitry G Zimin написал\\nстатью в которой показал как вручную установить Gentoo Linux на уже\\nсуществующий раздел диска.   \n",
       "1179  В сквере Котовка снова рубят. Защитники сквера остановили людей с пилами\\n\\n6 декабря 2016 в 11:48\\n\\nЕлена Толкачева / REALTY.TUT.BY / Фото: Евгений Ерчак\\n\\nВо вторник утром в сквер Котовка прие...   \n",
       "434   Коалиция США нанесла удары по госпиталю в Мосуле\\n\\n8 декабря 2016 в 9:01\\n\\nLenta.ru\\n\\nВозглавляемая США коалиция нанесла удары по госпиталю в Мосуле, который использовали боевики «Исламского го...   \n",
       "\n",
       "           tag  \\\n",
       "3078    social   \n",
       "2143     sport   \n",
       "72        tech   \n",
       "1179    realty   \n",
       "434   politics   \n",
       "\n",
       "                                                                                                                                                                                                        ctext  \n",
       "3078  [новости, холмск, события, городе, районе, на, сахалине, готовятся, празднованию, дня, коренных, народов, мира, представители, этносов, севера, сахалинской, области, готовятся, празднованию, дня, ...  \n",
       "2143                                                                                              [футбол, криштиану, роналду, один, из, тех, игроков, которых, можно, пересчитать, по, пальцам, одной, руки]  \n",
       "72                   [установка, gentoo, на, уже, существующий, раздел, дискаdmitry, zimin, написал, статью, которой, показал, как, вручную, установить, gentoo, linux, на, уже, существующий, раздел, диска]  \n",
       "1179  [сквере, котовка, снова, рубят, защитники, сквера, остановили, людей, пилами, декабря, елена, толкачева, realty, tut, by, фото, евгений, ерчак, во, вторник, утром, сквер, котовка, приехала, техник...  \n",
       "434   [коалиция, сша, нанесла, удары, по, госпиталю, мосуле, декабря, lenta, ru, возглавляемая, сша, коалиция, нанесла, удары, по, госпиталю, мосуле, который, использовали, боевики, исламского, государс...  "
      ]
     },
     "execution_count": 9,
     "metadata": {},
     "output_type": "execute_result"
    }
   ],
   "source": [
    "data.sample(5)"
   ]
  },
  {
   "cell_type": "code",
   "execution_count": 10,
   "metadata": {},
   "outputs": [
    {
     "name": "stderr",
     "output_type": "stream",
     "text": [
      "100%|██████████| 3196/3196 [00:14<00:00, 213.80it/s]\n"
     ]
    }
   ],
   "source": [
    "from nltk.stem.snowball import SnowballStemmer\n",
    "from nltk.corpus import stopwords as nltk_stopwords\n",
    "# from nltk import download as nltk_download\n",
    "# nltk_download('stopwords')\n",
    "\n",
    "stopwords = set(nltk_stopwords.words('russian'))\n",
    "stemmer = SnowballStemmer('russian')\n",
    "\n",
    "# выкидываем stopwords, выполняем стеминг\n",
    "def stem(s): return [ stemmer.stem(w) for w in s if w not in stopwords ]\n",
    "\n",
    "data['ctext'] = data['ctext'].progress_apply( stem )"
   ]
  },
  {
   "cell_type": "code",
   "execution_count": 11,
   "metadata": {},
   "outputs": [
    {
     "name": "stdout",
     "output_type": "stream",
     "text": [
      "словарь 35002 слов\n"
     ]
    }
   ],
   "source": [
    "# собираем словарь\n",
    "vcb = [ set(s) for s in data['ctext'].tolist() ]\n",
    "vcb = sorted(set.union(*vcb))\n",
    "print('словарь %i слов'%(len(vcb)))\n",
    "# pd.DataFrame( vcb1 ).to_csv('voc0.txt',index=False,header=False)"
   ]
  },
  {
   "cell_type": "code",
   "execution_count": 12,
   "metadata": {},
   "outputs": [
    {
     "data": {
      "text/html": [
       "<div>\n",
       "<style scoped>\n",
       "    .dataframe tbody tr th:only-of-type {\n",
       "        vertical-align: middle;\n",
       "    }\n",
       "\n",
       "    .dataframe tbody tr th {\n",
       "        vertical-align: top;\n",
       "    }\n",
       "\n",
       "    .dataframe thead th {\n",
       "        text-align: right;\n",
       "    }\n",
       "</style>\n",
       "<table border=\"1\" class=\"dataframe\">\n",
       "  <thead>\n",
       "    <tr style=\"text-align: right;\">\n",
       "      <th></th>\n",
       "      <th>text</th>\n",
       "      <th>tag</th>\n",
       "      <th>ctext</th>\n",
       "    </tr>\n",
       "  </thead>\n",
       "  <tbody>\n",
       "    <tr>\n",
       "      <th>2220</th>\n",
       "      <td>Автобус попал в ДТП на Солидарности: водителю стало плохо за рулем\\n\\nДТП с участием общественного транспорта произошло утром во вторник, 13 декабря, в Невском районе Петербурга. Никто из людей не...</td>\n",
       "      <td>incident</td>\n",
       "      <td>[автобус, попа, дтп, солидарн, водител, стал, плох, рул, дтп, участ, обществен, транспорт, произошл, утр, вторник, декабр, невск, район, петербург, никт, люд, пострада, вконтакт, facebook, twitter...</td>\n",
       "    </tr>\n",
       "    <tr>\n",
       "      <th>506</th>\n",
       "      <td>В Гродно три человека госпитализировали после неудачного поворота налево\\n\\n10 декабря 2016 в 12:33\\n\\nAUTO.TUT.BY\\n\\nТри человека, в том числе 14-летняя девочка, госпитализированы после ДТП, кото...</td>\n",
       "      <td>incident</td>\n",
       "      <td>[гродн, человек, госпитализирова, неудачн, поворот, налев, декабр, auto, tut, by, человек, числ, летн, девочк, госпитализирова, дтп, котор, произошл, пятниц, декабр, гродн, фот, игор, ремзик, tut,...</td>\n",
       "    </tr>\n",
       "    <tr>\n",
       "      <th>1897</th>\n",
       "      <td>Пассажиры экстренно севшего в Нью-Йорке самолёта Lufthansa эвакуированы. Сейчас экстренные службы проверяют авиалайнер на наличие взрывчатки на его борту.\\n\\nРанее сообщалось, что самолёт компании...</td>\n",
       "      <td>incident</td>\n",
       "      <td>[пассажир, экстрен, севш, нью, йорк, самолет, lufthansa, эвакуирова, экстрен, служб, проверя, авиалайнер, налич, взрывчатк, борт, ран, сообща, самолет, компан, lufthansa, летевш, хьюстон, франкфур...</td>\n",
       "    </tr>\n",
       "  </tbody>\n",
       "</table>\n",
       "</div>"
      ],
      "text/plain": [
       "                                                                                                                                                                                                         text  \\\n",
       "2220  Автобус попал в ДТП на Солидарности: водителю стало плохо за рулем\\n\\nДТП с участием общественного транспорта произошло утром во вторник, 13 декабря, в Невском районе Петербурга. Никто из людей не...   \n",
       "506   В Гродно три человека госпитализировали после неудачного поворота налево\\n\\n10 декабря 2016 в 12:33\\n\\nAUTO.TUT.BY\\n\\nТри человека, в том числе 14-летняя девочка, госпитализированы после ДТП, кото...   \n",
       "1897  Пассажиры экстренно севшего в Нью-Йорке самолёта Lufthansa эвакуированы. Сейчас экстренные службы проверяют авиалайнер на наличие взрывчатки на его борту.\\n\\nРанее сообщалось, что самолёт компании...   \n",
       "\n",
       "           tag  \\\n",
       "2220  incident   \n",
       "506   incident   \n",
       "1897  incident   \n",
       "\n",
       "                                                                                                                                                                                                        ctext  \n",
       "2220  [автобус, попа, дтп, солидарн, водител, стал, плох, рул, дтп, участ, обществен, транспорт, произошл, утр, вторник, декабр, невск, район, петербург, никт, люд, пострада, вконтакт, facebook, twitter...  \n",
       "506   [гродн, человек, госпитализирова, неудачн, поворот, налев, декабр, auto, tut, by, человек, числ, летн, девочк, госпитализирова, дтп, котор, произошл, пятниц, декабр, гродн, фот, игор, ремзик, tut,...  \n",
       "1897  [пассажир, экстрен, севш, нью, йорк, самолет, lufthansa, эвакуирова, экстрен, служб, проверя, авиалайнер, налич, взрывчатк, борт, ран, сообща, самолет, компан, lufthansa, летевш, хьюстон, франкфур...  "
      ]
     },
     "execution_count": 12,
     "metadata": {},
     "output_type": "execute_result"
    }
   ],
   "source": [
    "data.sample(3)"
   ]
  },
  {
   "cell_type": "code",
   "execution_count": null,
   "metadata": {},
   "outputs": [],
   "source": []
  }
 ],
 "metadata": {
  "kernelspec": {
   "display_name": "Python 3",
   "language": "python",
   "name": "python3"
  },
  "language_info": {
   "codemirror_mode": {
    "name": "ipython",
    "version": 3
   },
   "file_extension": ".py",
   "mimetype": "text/x-python",
   "name": "python",
   "nbconvert_exporter": "python",
   "pygments_lexer": "ipython3",
   "version": "3.8.6"
  },
  "toc": {
   "base_numbering": 1,
   "nav_menu": {},
   "number_sections": true,
   "sideBar": true,
   "skip_h1_title": false,
   "title_cell": "Table of Contents",
   "title_sidebar": "Contents",
   "toc_cell": false,
   "toc_position": {},
   "toc_section_display": true,
   "toc_window_display": false
  }
 },
 "nbformat": 4,
 "nbformat_minor": 2
}
