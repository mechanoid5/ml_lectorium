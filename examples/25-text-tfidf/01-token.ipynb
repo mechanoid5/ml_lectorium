{
 "cells": [
  {
   "cell_type": "markdown",
   "metadata": {},
   "source": [
    "**извлечение признаков из текста на естественном языке**\n",
    "\n",
    "токенизация и очистка текста\n",
    "\n",
    "\n",
    "Евгений Борисов borisov.e@solarl.ru"
   ]
  },
  {
   "cell_type": "markdown",
   "metadata": {},
   "source": [
    "## библиотеки"
   ]
  },
  {
   "cell_type": "code",
   "execution_count": 1,
   "metadata": {},
   "outputs": [
    {
     "name": "stderr",
     "output_type": "stream",
     "text": [
      "/usr/lib/python3.8/site-packages/tqdm/std.py:703: FutureWarning: The Panel class is removed from pandas. Accessing it from the top-level namespace will also be removed in the next version\n",
      "  from pandas import Panel\n"
     ]
    }
   ],
   "source": [
    "import re\n",
    "# import gzip\n",
    "# import numpy as np\n",
    "import pandas as pd\n",
    "from tqdm import tqdm\n",
    "\n",
    "# np.set_printoptions(precision=2) # вывод на печать чисел до 2 знака\n",
    "pd.options.display.max_colwidth = 200 \n",
    "\n",
    "tqdm.pandas()"
   ]
  },
  {
   "cell_type": "markdown",
   "metadata": {},
   "source": [
    "## загружаем тексты"
   ]
  },
  {
   "cell_type": "code",
   "execution_count": 2,
   "metadata": {},
   "outputs": [
    {
     "name": "stdout",
     "output_type": "stream",
     "text": [
      "записей: 3196\n"
     ]
    }
   ],
   "source": [
    "# загружаем тексты\n",
    "df = pd.read_pickle('../data/news.pkl.gz')\n",
    "print('записей:',len(df))"
   ]
  },
  {
   "cell_type": "code",
   "execution_count": 3,
   "metadata": {},
   "outputs": [
    {
     "data": {
      "text/html": [
       "<div>\n",
       "<style scoped>\n",
       "    .dataframe tbody tr th:only-of-type {\n",
       "        vertical-align: middle;\n",
       "    }\n",
       "\n",
       "    .dataframe tbody tr th {\n",
       "        vertical-align: top;\n",
       "    }\n",
       "\n",
       "    .dataframe thead th {\n",
       "        text-align: right;\n",
       "    }\n",
       "</style>\n",
       "<table border=\"1\" class=\"dataframe\">\n",
       "  <thead>\n",
       "    <tr style=\"text-align: right;\">\n",
       "      <th></th>\n",
       "      <th>text</th>\n",
       "      <th>tag</th>\n",
       "    </tr>\n",
       "  </thead>\n",
       "  <tbody>\n",
       "    <tr>\n",
       "      <th>3006</th>\n",
       "      <td>Индийская дочерняя компания Maruti концерна Suzuki заявляет, что начало продаж спортивной модели Baleno стартуют в феврале следующего года. Хотя ранее предполагалось новинку выпустить в конце теку...</td>\n",
       "      <td>auto</td>\n",
       "    </tr>\n",
       "    <tr>\n",
       "      <th>474</th>\n",
       "      <td>Уход премьер-министра Маттео Ренци: что дальше для Италии?\\n\\n5 декабря 2016 в 17:42\\n\\nРусская служба Би-би-си\\n\\nПремьер-министр Италии Маттео Ренци подал в отставку после поражения на референду...</td>\n",
       "      <td>politics</td>\n",
       "    </tr>\n",
       "    <tr>\n",
       "      <th>2308</th>\n",
       "      <td>13.12.16 04:55\\n\\nХабаровск. 13 декабря. ИНТЕРФАКС - ДАЛЬНИЙ ВОСТОК - Женщина, получившая сильные ожоги при взрыве газа 7 декабря в пятиэтажном доме в Советской Гавани (Хабаровский край), скончала...</td>\n",
       "      <td>incident</td>\n",
       "    </tr>\n",
       "    <tr>\n",
       "      <th>2675</th>\n",
       "      <td>Группа нейробиологов выяснила, что в режиме многозадачности мозг делится на части.\\n\\nГруппа нейробиологов из Висконсинского университета в Мэдисоне провела исследование, по результатам которого с...</td>\n",
       "      <td>science</td>\n",
       "    </tr>\n",
       "    <tr>\n",
       "      <th>1907</th>\n",
       "      <td>13 декабря 2016, 10:34\\n\\nБританские астрономы открыли экзопланету HAT-P-7b, в атмосфере которой идут дожди из рубинов и сапфиров.\\n\\nЭто так называемый горячий юпитер – газовый гигант, который вр...</td>\n",
       "      <td>science</td>\n",
       "    </tr>\n",
       "  </tbody>\n",
       "</table>\n",
       "</div>"
      ],
      "text/plain": [
       "                                                                                                                                                                                                         text  \\\n",
       "3006  Индийская дочерняя компания Maruti концерна Suzuki заявляет, что начало продаж спортивной модели Baleno стартуют в феврале следующего года. Хотя ранее предполагалось новинку выпустить в конце теку...   \n",
       "474   Уход премьер-министра Маттео Ренци: что дальше для Италии?\\n\\n5 декабря 2016 в 17:42\\n\\nРусская служба Би-би-си\\n\\nПремьер-министр Италии Маттео Ренци подал в отставку после поражения на референду...   \n",
       "2308  13.12.16 04:55\\n\\nХабаровск. 13 декабря. ИНТЕРФАКС - ДАЛЬНИЙ ВОСТОК - Женщина, получившая сильные ожоги при взрыве газа 7 декабря в пятиэтажном доме в Советской Гавани (Хабаровский край), скончала...   \n",
       "2675  Группа нейробиологов выяснила, что в режиме многозадачности мозг делится на части.\\n\\nГруппа нейробиологов из Висконсинского университета в Мэдисоне провела исследование, по результатам которого с...   \n",
       "1907  13 декабря 2016, 10:34\\n\\nБританские астрономы открыли экзопланету HAT-P-7b, в атмосфере которой идут дожди из рубинов и сапфиров.\\n\\nЭто так называемый горячий юпитер – газовый гигант, который вр...   \n",
       "\n",
       "           tag  \n",
       "3006      auto  \n",
       "474   politics  \n",
       "2308  incident  \n",
       "2675   science  \n",
       "1907   science  "
      ]
     },
     "execution_count": 3,
     "metadata": {},
     "output_type": "execute_result"
    }
   ],
   "source": [
    "df.sample(5)"
   ]
  },
  {
   "cell_type": "code",
   "execution_count": 4,
   "metadata": {},
   "outputs": [
    {
     "data": {
      "text/html": [
       "<div>\n",
       "<style scoped>\n",
       "    .dataframe tbody tr th:only-of-type {\n",
       "        vertical-align: middle;\n",
       "    }\n",
       "\n",
       "    .dataframe tbody tr th {\n",
       "        vertical-align: top;\n",
       "    }\n",
       "\n",
       "    .dataframe thead th {\n",
       "        text-align: right;\n",
       "    }\n",
       "</style>\n",
       "<table border=\"1\" class=\"dataframe\">\n",
       "  <thead>\n",
       "    <tr style=\"text-align: right;\">\n",
       "      <th></th>\n",
       "      <th>count</th>\n",
       "      <th>mean</th>\n",
       "      <th>std</th>\n",
       "      <th>min</th>\n",
       "      <th>10%</th>\n",
       "      <th>25%</th>\n",
       "      <th>50%</th>\n",
       "      <th>75%</th>\n",
       "      <th>95%</th>\n",
       "      <th>max</th>\n",
       "    </tr>\n",
       "  </thead>\n",
       "  <tbody>\n",
       "    <tr>\n",
       "      <th>text</th>\n",
       "      <td>3196</td>\n",
       "      <td>1720</td>\n",
       "      <td>2177</td>\n",
       "      <td>25</td>\n",
       "      <td>370</td>\n",
       "      <td>675</td>\n",
       "      <td>1070</td>\n",
       "      <td>1813</td>\n",
       "      <td>5761</td>\n",
       "      <td>30710</td>\n",
       "    </tr>\n",
       "  </tbody>\n",
       "</table>\n",
       "</div>"
      ],
      "text/plain": [
       "      count  mean   std  min  10%  25%   50%   75%   95%    max\n",
       "text   3196  1720  2177   25  370  675  1070  1813  5761  30710"
      ]
     },
     "execution_count": 4,
     "metadata": {},
     "output_type": "execute_result"
    }
   ],
   "source": [
    "# длина строк\n",
    "pd.DataFrame(df['text'].str.len()).describe([.1,.25,.5,.75,.95]).astype(int).T"
   ]
  },
  {
   "cell_type": "code",
   "execution_count": 5,
   "metadata": {},
   "outputs": [
    {
     "data": {
      "text/plain": [
       "13"
      ]
     },
     "execution_count": 5,
     "metadata": {},
     "output_type": "execute_result"
    }
   ],
   "source": [
    "# количество категорий\n",
    "df['tag'].drop_duplicates().count()"
   ]
  },
  {
   "cell_type": "markdown",
   "metadata": {},
   "source": [
    "## токенизация и очистка"
   ]
  },
  {
   "cell_type": "code",
   "execution_count": 7,
   "metadata": {},
   "outputs": [],
   "source": [
    "# применяет список замен pat к строке s\n",
    "def replace_patterns(s,pat):\n",
    "    if len(pat)<1: return s\n",
    "    return  replace_patterns( re.sub(pat[0][0],pat[0][1],s), pat[1:] )\n",
    "\n",
    "# нормализация текста\n",
    "def text_normalizer(s):\n",
    "    pat = [\n",
    "        [r'[ієјѕµ_]',' '] # мусор\n",
    "       ,[r'ё','е'] # замена ё для унификации\n",
    "       ,[r'[a-zа-я-]*\\d+[a-zа-я-]*\\d*',' '] # коды\n",
    "       ,[r'\\b\\d+\\b',' '] # цифры\n",
    "       ,[r'\\W',' '] # спец.символы\n",
    "       ,[r'\\b[a-zа-я]\\b',' '] # отдельные символы\n",
    "       ,[r' +',' '] # повторы пробелов\n",
    "    ]\n",
    "    \n",
    "    return replace_patterns(s.lower(),pat).strip()"
   ]
  },
  {
   "cell_type": "code",
   "execution_count": 12,
   "metadata": {},
   "outputs": [
    {
     "name": "stderr",
     "output_type": "stream",
     "text": [
      "100%|██████████| 3196/3196 [00:01<00:00, 2406.77it/s]\n"
     ]
    }
   ],
   "source": [
    "df['ctext'] = df['text'].progress_apply(text_normalizer)"
   ]
  },
  {
   "cell_type": "code",
   "execution_count": 13,
   "metadata": {},
   "outputs": [],
   "source": [
    "from nltk.stem.snowball import SnowballStemmer\n",
    "from nltk.corpus import stopwords as nltk_stopwords\n",
    "# from nltk import download as nltk_download\n",
    "# nltk_download('stopwords')\n",
    "\n",
    "stopwords = set(nltk_stopwords.words('russian'))\n",
    "stemmer = SnowballStemmer('russian')"
   ]
  },
  {
   "cell_type": "code",
   "execution_count": 18,
   "metadata": {},
   "outputs": [
    {
     "name": "stderr",
     "output_type": "stream",
     "text": [
      "100%|██████████| 3196/3196 [00:14<00:00, 214.26it/s]\n"
     ]
    }
   ],
   "source": [
    "# разрезаем стоки на слова, выкидываем stopwords, выполняем стеминг\n",
    "def tokenize(s): return [ stemmer.stem(w) for w in s.split() if w not in stopwords ]\n",
    "\n",
    "df['ctext'] = df['ctext'].progress_apply( tokenize )"
   ]
  },
  {
   "cell_type": "code",
   "execution_count": 19,
   "metadata": {},
   "outputs": [
    {
     "data": {
      "text/html": [
       "<div>\n",
       "<style scoped>\n",
       "    .dataframe tbody tr th:only-of-type {\n",
       "        vertical-align: middle;\n",
       "    }\n",
       "\n",
       "    .dataframe tbody tr th {\n",
       "        vertical-align: top;\n",
       "    }\n",
       "\n",
       "    .dataframe thead th {\n",
       "        text-align: right;\n",
       "    }\n",
       "</style>\n",
       "<table border=\"1\" class=\"dataframe\">\n",
       "  <thead>\n",
       "    <tr style=\"text-align: right;\">\n",
       "      <th></th>\n",
       "      <th>text</th>\n",
       "      <th>tag</th>\n",
       "      <th>ctext</th>\n",
       "    </tr>\n",
       "  </thead>\n",
       "  <tbody>\n",
       "    <tr>\n",
       "      <th>845</th>\n",
       "      <td>На экраны кинотеатров Гомеля и области выходят новые фильмы\\n\\n9 декабря 2016 в 12:14\\n\\nAFISHA.TUT.BY\\n\\nСразу несколько фильмов вышло на экраны кинотеатров 8 декабря: комедия «2+1», триллер «Под...</td>\n",
       "      <td>culture</td>\n",
       "      <td>[экра, кинотеатр, гомел, област, выход, нов, фильм, декабр, afisha, tut, by, сраз, нескольк, фильм, вышл, экра, кинотеатр, декабр, комед, триллер, покров, ноч, новогодн, корпорат, afisha, tut, by,...</td>\n",
       "    </tr>\n",
       "    <tr>\n",
       "      <th>3060</th>\n",
       "      <td>По факту смерти малолетнего воспитанника Высотинской средняя общеобразовательная школа завершена прокурорская проверка. Об этом ИА REGNUM Новости 22 июля сообщили в пресс-службе прокуратуры Красно...</td>\n",
       "      <td>incident</td>\n",
       "      <td>[факт, смерт, малолетн, воспитанник, высотинск, средн, общеобразовательн, школ, заверш, прокурорск, проверк, и, regnum, новост, июл, сообщ, пресс, служб, прокуратур, красноярск, кра, проверк, уста...</td>\n",
       "    </tr>\n",
       "    <tr>\n",
       "      <th>1030</th>\n",
       "      <td>Миллионер-белорус Юрченко, купивший остров на Мальдивах: \"Дважды богател, а потом был на нуле\"\\n\\n7 декабря 2016 в 11:01\\n\\nОльга Антипенко / FINANCE.TUT.BY\\n\\nОн стал долларовым миллионером тогда...</td>\n",
       "      <td>economics</td>\n",
       "      <td>[миллионер, белорус, юрченк, куп, остр, мальдив, дважд, богател, нул, декабр, ольг, антипенк, finance, tut, by, стал, долларов, миллионер, лет, род, белорусск, горк, детств, мног, мальчик, хотел, ...</td>\n",
       "    </tr>\n",
       "  </tbody>\n",
       "</table>\n",
       "</div>"
      ],
      "text/plain": [
       "                                                                                                                                                                                                         text  \\\n",
       "845   На экраны кинотеатров Гомеля и области выходят новые фильмы\\n\\n9 декабря 2016 в 12:14\\n\\nAFISHA.TUT.BY\\n\\nСразу несколько фильмов вышло на экраны кинотеатров 8 декабря: комедия «2+1», триллер «Под...   \n",
       "3060  По факту смерти малолетнего воспитанника Высотинской средняя общеобразовательная школа завершена прокурорская проверка. Об этом ИА REGNUM Новости 22 июля сообщили в пресс-службе прокуратуры Красно...   \n",
       "1030  Миллионер-белорус Юрченко, купивший остров на Мальдивах: \"Дважды богател, а потом был на нуле\"\\n\\n7 декабря 2016 в 11:01\\n\\nОльга Антипенко / FINANCE.TUT.BY\\n\\nОн стал долларовым миллионером тогда...   \n",
       "\n",
       "            tag  \\\n",
       "845     culture   \n",
       "3060   incident   \n",
       "1030  economics   \n",
       "\n",
       "                                                                                                                                                                                                        ctext  \n",
       "845   [экра, кинотеатр, гомел, област, выход, нов, фильм, декабр, afisha, tut, by, сраз, нескольк, фильм, вышл, экра, кинотеатр, декабр, комед, триллер, покров, ноч, новогодн, корпорат, afisha, tut, by,...  \n",
       "3060  [факт, смерт, малолетн, воспитанник, высотинск, средн, общеобразовательн, школ, заверш, прокурорск, проверк, и, regnum, новост, июл, сообщ, пресс, служб, прокуратур, красноярск, кра, проверк, уста...  \n",
       "1030  [миллионер, белорус, юрченк, куп, остр, мальдив, дважд, богател, нул, декабр, ольг, антипенк, finance, tut, by, стал, долларов, миллионер, лет, род, белорусск, горк, детств, мног, мальчик, хотел, ...  "
      ]
     },
     "execution_count": 19,
     "metadata": {},
     "output_type": "execute_result"
    }
   ],
   "source": [
    "df.sample(3)"
   ]
  },
  {
   "cell_type": "code",
   "execution_count": null,
   "metadata": {},
   "outputs": [],
   "source": []
  }
 ],
 "metadata": {
  "kernelspec": {
   "display_name": "Python 3",
   "language": "python",
   "name": "python3"
  },
  "language_info": {
   "codemirror_mode": {
    "name": "ipython",
    "version": 3
   },
   "file_extension": ".py",
   "mimetype": "text/x-python",
   "name": "python",
   "nbconvert_exporter": "python",
   "pygments_lexer": "ipython3",
   "version": "3.8.6"
  },
  "toc": {
   "base_numbering": 1,
   "nav_menu": {},
   "number_sections": true,
   "sideBar": true,
   "skip_h1_title": false,
   "title_cell": "Table of Contents",
   "title_sidebar": "Contents",
   "toc_cell": false,
   "toc_position": {},
   "toc_section_display": true,
   "toc_window_display": false
  }
 },
 "nbformat": 4,
 "nbformat_minor": 2
}
