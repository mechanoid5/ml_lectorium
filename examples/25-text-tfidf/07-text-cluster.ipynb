{
 "cells": [
  {
   "cell_type": "markdown",
   "metadata": {},
   "source": [
    "**извлечение признаков из текста на естественном языке**\n",
    "\n",
    "кластеризатор текстов\n",
    "\n",
    "Евгений Борисов borisov.e@solarl.ru"
   ]
  },
  {
   "cell_type": "markdown",
   "metadata": {},
   "source": [
    "## библиотеки"
   ]
  },
  {
   "cell_type": "code",
   "execution_count": 1,
   "metadata": {},
   "outputs": [
    {
     "name": "stderr",
     "output_type": "stream",
     "text": [
      "/usr/lib/python3.8/site-packages/tqdm/std.py:703: FutureWarning: The Panel class is removed from pandas. Accessing it from the top-level namespace will also be removed in the next version\n",
      "  from pandas import Panel\n"
     ]
    }
   ],
   "source": [
    "import re\n",
    "# import gzip\n",
    "import numpy as np\n",
    "import numpy.random as rng\n",
    "import pandas as pd\n",
    "from tqdm import tqdm\n",
    "\n",
    "np.set_printoptions(precision=2) # вывод на печать чисел до 2 знака\n",
    "pd.options.display.max_colwidth = 200 \n",
    "\n",
    "tqdm.pandas()"
   ]
  },
  {
   "cell_type": "code",
   "execution_count": 2,
   "metadata": {},
   "outputs": [
    {
     "data": {
      "text/plain": [
       "'0.23.2'"
      ]
     },
     "execution_count": 2,
     "metadata": {},
     "output_type": "execute_result"
    }
   ],
   "source": [
    "import sklearn\n",
    "from sklearn.model_selection import train_test_split\n",
    "from sklearn.metrics import confusion_matrix\n",
    "from sklearn.metrics import classification_report\n",
    "from sklearn.metrics import accuracy_score\n",
    "sklearn.__version__"
   ]
  },
  {
   "cell_type": "markdown",
   "metadata": {},
   "source": [
    "## тексты"
   ]
  },
  {
   "cell_type": "code",
   "execution_count": 3,
   "metadata": {},
   "outputs": [
    {
     "name": "stdout",
     "output_type": "stream",
     "text": [
      "записей: 3196\n"
     ]
    }
   ],
   "source": [
    "# загружаем тексты\n",
    "data = pd.read_pickle('../data/news.pkl.gz')\n",
    "print('записей:',len(data))"
   ]
  },
  {
   "cell_type": "code",
   "execution_count": 4,
   "metadata": {},
   "outputs": [
    {
     "data": {
      "text/html": [
       "<div>\n",
       "<style scoped>\n",
       "    .dataframe tbody tr th:only-of-type {\n",
       "        vertical-align: middle;\n",
       "    }\n",
       "\n",
       "    .dataframe tbody tr th {\n",
       "        vertical-align: top;\n",
       "    }\n",
       "\n",
       "    .dataframe thead th {\n",
       "        text-align: right;\n",
       "    }\n",
       "</style>\n",
       "<table border=\"1\" class=\"dataframe\">\n",
       "  <thead>\n",
       "    <tr style=\"text-align: right;\">\n",
       "      <th></th>\n",
       "      <th>text</th>\n",
       "      <th>tag</th>\n",
       "    </tr>\n",
       "  </thead>\n",
       "  <tbody>\n",
       "    <tr>\n",
       "      <th>937</th>\n",
       "      <td>Макей предложил лидерам России, США, ЕС и Китая встретиться в Минске для откровенного разговора\\n\\n8 декабря 2016 в 17:36\\n\\nTUT.BY\\n\\nЛидерам России, США, ЕС, Китая пора встретиться для откровенн...</td>\n",
       "      <td>economics</td>\n",
       "    </tr>\n",
       "    <tr>\n",
       "      <th>1364</th>\n",
       "      <td>В таблице Менделеева официально появился Московий\\n\\n30 ноября 2016 в 14:08\\n\\n42.TUT.BY\\n\\n28 ноября в таблице Менделеева официально закреплены четыре новых названия — нихоний, московий, теннесси...</td>\n",
       "      <td>tech</td>\n",
       "    </tr>\n",
       "  </tbody>\n",
       "</table>\n",
       "</div>"
      ],
      "text/plain": [
       "                                                                                                                                                                                                         text  \\\n",
       "937   Макей предложил лидерам России, США, ЕС и Китая встретиться в Минске для откровенного разговора\\n\\n8 декабря 2016 в 17:36\\n\\nTUT.BY\\n\\nЛидерам России, США, ЕС, Китая пора встретиться для откровенн...   \n",
       "1364  В таблице Менделеева официально появился Московий\\n\\n30 ноября 2016 в 14:08\\n\\n42.TUT.BY\\n\\n28 ноября в таблице Менделеева официально закреплены четыре новых названия — нихоний, московий, теннесси...   \n",
       "\n",
       "            tag  \n",
       "937   economics  \n",
       "1364       tech  "
      ]
     },
     "execution_count": 4,
     "metadata": {},
     "output_type": "execute_result"
    }
   ],
   "source": [
    "data.sample(2)"
   ]
  },
  {
   "cell_type": "markdown",
   "metadata": {},
   "source": [
    "## токенизация и очистка"
   ]
  },
  {
   "cell_type": "code",
   "execution_count": 5,
   "metadata": {},
   "outputs": [],
   "source": [
    "# NOUN\tимя существительное\tхомяк\n",
    "# ADJF\tимя прилагательное (полное)\tхороший\n",
    "# ADJS\tимя прилагательное (краткое)\tхорош\n",
    "# COMP\tкомпаратив\tлучше, получше, выше\n",
    "# VERB\tглагол (личная форма)\tговорю, говорит, говорил\n",
    "# INFN\tглагол (инфинитив)\tговорить, сказать\n",
    "# PRTF\tпричастие (полное)\tпрочитавший, прочитанная\n",
    "# PRTS\tпричастие (краткое)\tпрочитана\n",
    "# GRND\tдеепричастие\tпрочитав, рассказывая\n",
    "# NUMR\tчислительное\tтри, пятьдесят\n",
    "# ADVB\tнаречие\tкруто\n",
    "# NPRO\tместоимение-существительное\tон\n",
    "# PRED\tпредикатив\tнекогда\n",
    "# PREP\tпредлог\tв\n",
    "# CONJ\tсоюз\tи\n",
    "# PRCL\tчастица\tбы, же, лишь\n",
    "# INTJ\tмеждометие\tой"
   ]
  },
  {
   "cell_type": "code",
   "execution_count": 6,
   "metadata": {},
   "outputs": [],
   "source": [
    "# https://pymorphy2.readthedocs.io\n",
    "from pymorphy2 import MorphAnalyzer\n",
    "\n",
    "# лематизация и очистка с помощью пакета морфологического анализа\n",
    "\n",
    "morph = MorphAnalyzer()\n",
    "\n",
    "def word_normalizer(w, pos_types=('NOUN','VERB','ADJF')):\n",
    "    if not morph.word_is_known(w): return ''\n",
    "    p = morph.parse(w)[0] \n",
    "    return p.normal_form if (p.tag.POS in pos_types) else ''\n",
    "\n",
    "def string_normalizer(s):\n",
    "    return re.sub(r'[\\W]+',' ',s.lower().replace('ё','е'))\n",
    "\n",
    "def text_normalizer(s):\n",
    "    return [ word_normalizer(w) for w in string_normalizer(s).split() ]"
   ]
  },
  {
   "cell_type": "code",
   "execution_count": 7,
   "metadata": {},
   "outputs": [
    {
     "name": "stderr",
     "output_type": "stream",
     "text": [
      "100%|██████████| 3196/3196 [01:40<00:00, 31.83it/s]\n",
      "100%|██████████| 3196/3196 [00:00<00:00, 133448.10it/s]\n"
     ]
    }
   ],
   "source": [
    "data['ctext'] = data['text'].progress_apply(text_normalizer).progress_apply(' '.join)"
   ]
  },
  {
   "cell_type": "code",
   "execution_count": 8,
   "metadata": {},
   "outputs": [
    {
     "data": {
      "text/html": [
       "<div>\n",
       "<style scoped>\n",
       "    .dataframe tbody tr th:only-of-type {\n",
       "        vertical-align: middle;\n",
       "    }\n",
       "\n",
       "    .dataframe tbody tr th {\n",
       "        vertical-align: top;\n",
       "    }\n",
       "\n",
       "    .dataframe thead th {\n",
       "        text-align: right;\n",
       "    }\n",
       "</style>\n",
       "<table border=\"1\" class=\"dataframe\">\n",
       "  <thead>\n",
       "    <tr style=\"text-align: right;\">\n",
       "      <th></th>\n",
       "      <th>text</th>\n",
       "      <th>tag</th>\n",
       "      <th>ctext</th>\n",
       "    </tr>\n",
       "  </thead>\n",
       "  <tbody>\n",
       "    <tr>\n",
       "      <th>1760</th>\n",
       "      <td>Boeing сократит выпуск лайнеров Boeing 777 из-за низкого спроса\\n\\nИз-за снижения спроса Boeing сократит производство лайнеров Boeing 777 с августа 2017 г. с нынешних 8,3 единицы в месяц до 5 един...</td>\n",
       "      <td>economics</td>\n",
       "      <td>сократить выпуск лайнер     низкий спрос   снижение спрос  сократить производство лайнер    август  год  нынешний   единица  месяц   единица  месяц  сообщать интерфакс  ссылка  пресс релиз концер...</td>\n",
       "    </tr>\n",
       "    <tr>\n",
       "      <th>2014</th>\n",
       "      <td>(обновлено 10:04 13.12.2016 )\\n\\nМОСКВА, 13 дек - Р-Спорт. Южнокорейские скелетонисты намерены бойкотировать чемпионат мира-2017 по бобслею и скелетону в Сочи из-за допингового скандала, сообщает ...</td>\n",
       "      <td>sport</td>\n",
       "      <td>москва  дек  спорт южнокорейский    чемпионат мир   бобслей  скелетон  сочи   допинговый скандал сообщать агентство   ссылка  слово чиновник  корейский федерация бобслей  скелетон  чемпионат...</td>\n",
       "    </tr>\n",
       "    <tr>\n",
       "      <th>3021</th>\n",
       "      <td>В Алтайском крае будет реализован инвестиционный проект по строительству малых ГЭС. Подписано соответствующее соглашение между главой региона и компаниями &lt;object&gt;МРСК Сибири&lt;/object&gt;, Алтайэнерго...</td>\n",
       "      <td>economics</td>\n",
       "      <td>алтайский край быть  инвестиционный проект  строительство малое гэс  соответствующий соглашение  главый регион  компания   сибирь    инжиниринговый компания энергия  настоящий момент   предварите...</td>\n",
       "    </tr>\n",
       "    <tr>\n",
       "      <th>2762</th>\n",
       "      <td>Если сведения источников верны, Apple вновь отступит от своих принципов и выпустит iPhone с двумя SIM-картами.\\n\\n\\n\\nИнформации об iPhone 2017 года в последние дни поступает много. И информация э...</td>\n",
       "      <td>tech</td>\n",
       "      <td>сведение источник    отступить  свой принцип  выпустить     карта информация    год  последний день поступать   информация этот  противоречивый напомнить   день  японский блог  выдать  неожиданны...</td>\n",
       "    </tr>\n",
       "    <tr>\n",
       "      <th>2464</th>\n",
       "      <td>В штате Теннеси произошла трагедия, пятилетний мальчик скончался на руках у Санта-Клауса. Об этом сообщили западные СМИ.\\n\\nАлександр Ельников\\n\\nМужчина сказал, что он пришел после работы домой и...</td>\n",
       "      <td>culture</td>\n",
       "      <td>штат  произойти трагедия  мальчик скончаться  рука   клаус   сообщить западный сми александр ельник мужчина сказать   прийти  работа    пара минута раздаться телефонный звонок  позвонить  больниц...</td>\n",
       "    </tr>\n",
       "    <tr>\n",
       "      <th>2709</th>\n",
       "      <td>На разработку нового сверхпрочного ноутбука Минпромторг перевел 150 млн рублей компании «Т-Платформы». Такой аппарат будет полезен при геологических экспедициях, в нефтегазовой отрасли.\\n\\nДенис Д...</td>\n",
       "      <td>tech</td>\n",
       "      <td>разработка новое сверхпрочный ноутбук  перевести  миллион рубль компания том платформа такой аппарат быть   геологический экспедиция  нефтегазовый отрасль денис давыдов предполагаться  устройство...</td>\n",
       "    </tr>\n",
       "    <tr>\n",
       "      <th>1655</th>\n",
       "      <td>Россия выплатит компенсацию одному из фигурантов дела Немцова\\n\\nМосква. 13 декабря. INTERFAX.RU - Россия выплатит одному из обвиняемых по делу об убийстве Бориса Немцова Темирлану Эскерханову шес...</td>\n",
       "      <td>politics</td>\n",
       "      <td>россия выплатить компенсация один  фигурант дело немцов москва  декабрь   россия выплатить один    дело  убийство борис немцов    тысяча евро  тот отозвать жалоба  европейский суд  право человек с...</td>\n",
       "    </tr>\n",
       "    <tr>\n",
       "      <th>409</th>\n",
       "      <td>В Бразилии собирают деньги на реставрацию статуи Христа-Искупителя\\n\\n10 декабря 2016 в 9:09\\n\\nГазета.Ru\\n\\nВ Рио-де-Жанейро началась кампания по сбору средств на сохранение статуи Христа-Искупит...</td>\n",
       "      <td>politics</td>\n",
       "      <td>бразилия собирать деньга  реставрация статуя христос искупитель  декабрь     газета      начаться кампания  сбор средство  сохранение статуя христос искупитель сообщать  фото     издание отмечать...</td>\n",
       "    </tr>\n",
       "    <tr>\n",
       "      <th>1559</th>\n",
       "      <td>Российский Центр примирения сторон продолжает оказывать помощь населению Восточного Алеппо. За последние сутки из этой части города эвакуировали 8 тысяч жителей, из них почти четыре тысячи — дети....</td>\n",
       "      <td>politics</td>\n",
       "      <td>российский центр примирение сторона продолжать  помощь население восточный   последний сутки  этот часть город эвакуировать  тысяча житель     тысяча ребёнок человек размещать  центр помощь  имя п...</td>\n",
       "    </tr>\n",
       "    <tr>\n",
       "      <th>1951</th>\n",
       "      <td>Сенатор Алексей Пушков прокомментировал ситуацию с пересчетом голосов на выборах президента США.\\n\\nПредседатель Комиссии Совета Федерации по информационной политике РФ Алексей Пушков высказался о...</td>\n",
       "      <td>politics</td>\n",
       "      <td>сенатор алексей пушок прокомментировать ситуация  пересчёт голос  выборы президент сша председатель комиссия совет федерация  информационный политика рф алексей пушок высказаться  итог пересчёт го...</td>\n",
       "    </tr>\n",
       "  </tbody>\n",
       "</table>\n",
       "</div>"
      ],
      "text/plain": [
       "                                                                                                                                                                                                         text  \\\n",
       "1760  Boeing сократит выпуск лайнеров Boeing 777 из-за низкого спроса\\n\\nИз-за снижения спроса Boeing сократит производство лайнеров Boeing 777 с августа 2017 г. с нынешних 8,3 единицы в месяц до 5 един...   \n",
       "2014  (обновлено 10:04 13.12.2016 )\\n\\nМОСКВА, 13 дек - Р-Спорт. Южнокорейские скелетонисты намерены бойкотировать чемпионат мира-2017 по бобслею и скелетону в Сочи из-за допингового скандала, сообщает ...   \n",
       "3021  В Алтайском крае будет реализован инвестиционный проект по строительству малых ГЭС. Подписано соответствующее соглашение между главой региона и компаниями <object>МРСК Сибири</object>, Алтайэнерго...   \n",
       "2762  Если сведения источников верны, Apple вновь отступит от своих принципов и выпустит iPhone с двумя SIM-картами.\\n\\n\\n\\nИнформации об iPhone 2017 года в последние дни поступает много. И информация э...   \n",
       "2464  В штате Теннеси произошла трагедия, пятилетний мальчик скончался на руках у Санта-Клауса. Об этом сообщили западные СМИ.\\n\\nАлександр Ельников\\n\\nМужчина сказал, что он пришел после работы домой и...   \n",
       "2709  На разработку нового сверхпрочного ноутбука Минпромторг перевел 150 млн рублей компании «Т-Платформы». Такой аппарат будет полезен при геологических экспедициях, в нефтегазовой отрасли.\\n\\nДенис Д...   \n",
       "1655  Россия выплатит компенсацию одному из фигурантов дела Немцова\\n\\nМосква. 13 декабря. INTERFAX.RU - Россия выплатит одному из обвиняемых по делу об убийстве Бориса Немцова Темирлану Эскерханову шес...   \n",
       "409   В Бразилии собирают деньги на реставрацию статуи Христа-Искупителя\\n\\n10 декабря 2016 в 9:09\\n\\nГазета.Ru\\n\\nВ Рио-де-Жанейро началась кампания по сбору средств на сохранение статуи Христа-Искупит...   \n",
       "1559  Российский Центр примирения сторон продолжает оказывать помощь населению Восточного Алеппо. За последние сутки из этой части города эвакуировали 8 тысяч жителей, из них почти четыре тысячи — дети....   \n",
       "1951  Сенатор Алексей Пушков прокомментировал ситуацию с пересчетом голосов на выборах президента США.\\n\\nПредседатель Комиссии Совета Федерации по информационной политике РФ Алексей Пушков высказался о...   \n",
       "\n",
       "            tag  \\\n",
       "1760  economics   \n",
       "2014      sport   \n",
       "3021  economics   \n",
       "2762       tech   \n",
       "2464    culture   \n",
       "2709       tech   \n",
       "1655   politics   \n",
       "409    politics   \n",
       "1559   politics   \n",
       "1951   politics   \n",
       "\n",
       "                                                                                                                                                                                                        ctext  \n",
       "1760   сократить выпуск лайнер     низкий спрос   снижение спрос  сократить производство лайнер    август  год  нынешний   единица  месяц   единица  месяц  сообщать интерфакс  ссылка  пресс релиз концер...  \n",
       "2014        москва  дек  спорт южнокорейский    чемпионат мир   бобслей  скелетон  сочи   допинговый скандал сообщать агентство   ссылка  слово чиновник  корейский федерация бобслей  скелетон  чемпионат...  \n",
       "3021   алтайский край быть  инвестиционный проект  строительство малое гэс  соответствующий соглашение  главый регион  компания   сибирь    инжиниринговый компания энергия  настоящий момент   предварите...  \n",
       "2762   сведение источник    отступить  свой принцип  выпустить     карта информация    год  последний день поступать   информация этот  противоречивый напомнить   день  японский блог  выдать  неожиданны...  \n",
       "2464   штат  произойти трагедия  мальчик скончаться  рука   клаус   сообщить западный сми александр ельник мужчина сказать   прийти  работа    пара минута раздаться телефонный звонок  позвонить  больниц...  \n",
       "2709   разработка новое сверхпрочный ноутбук  перевести  миллион рубль компания том платформа такой аппарат быть   геологический экспедиция  нефтегазовый отрасль денис давыдов предполагаться  устройство...  \n",
       "1655  россия выплатить компенсация один  фигурант дело немцов москва  декабрь   россия выплатить один    дело  убийство борис немцов    тысяча евро  тот отозвать жалоба  европейский суд  право человек с...  \n",
       "409    бразилия собирать деньга  реставрация статуя христос искупитель  декабрь     газета      начаться кампания  сбор средство  сохранение статуя христос искупитель сообщать  фото     издание отмечать...  \n",
       "1559  российский центр примирение сторона продолжать  помощь население восточный   последний сутки  этот часть город эвакуировать  тысяча житель     тысяча ребёнок человек размещать  центр помощь  имя п...  \n",
       "1951  сенатор алексей пушок прокомментировать ситуация  пересчёт голос  выборы президент сша председатель комиссия совет федерация  информационный политика рф алексей пушок высказаться  итог пересчёт го...  "
      ]
     },
     "execution_count": 8,
     "metadata": {},
     "output_type": "execute_result"
    }
   ],
   "source": [
    "data.sample(10)"
   ]
  },
  {
   "cell_type": "markdown",
   "metadata": {},
   "source": [
    "##  CountVectorizer + TF"
   ]
  },
  {
   "cell_type": "code",
   "execution_count": 9,
   "metadata": {},
   "outputs": [],
   "source": [
    "from sklearn.feature_extraction.text import TfidfVectorizer\n",
    "\n",
    "tf = TfidfVectorizer(use_idf=True,norm='l2').fit( data['ctext'] )"
   ]
  },
  {
   "cell_type": "code",
   "execution_count": 10,
   "metadata": {},
   "outputs": [
    {
     "data": {
      "text/plain": [
       "22128"
      ]
     },
     "execution_count": 10,
     "metadata": {},
     "output_type": "execute_result"
    }
   ],
   "source": [
    "len(tf.vocabulary_)"
   ]
  },
  {
   "cell_type": "markdown",
   "metadata": {},
   "source": [
    "## формируем датасет"
   ]
  },
  {
   "cell_type": "code",
   "execution_count": 11,
   "metadata": {},
   "outputs": [
    {
     "data": {
      "text/plain": [
       "(3196, 22128)"
      ]
     },
     "execution_count": 11,
     "metadata": {},
     "output_type": "execute_result"
    }
   ],
   "source": [
    "X = tf.transform( data['ctext'] )\n",
    "X.shape"
   ]
  },
  {
   "cell_type": "markdown",
   "metadata": {},
   "source": [
    "## обучаем"
   ]
  },
  {
   "cell_type": "code",
   "execution_count": 94,
   "metadata": {},
   "outputs": [
    {
     "name": "stdout",
     "output_type": "stream",
     "text": [
      "CPU times: user 266 ms, sys: 40.1 ms, total: 306 ms\n",
      "Wall time: 305 ms\n"
     ]
    }
   ],
   "source": [
    "from sklearn.cluster import DBSCAN\n",
    "\n",
    "clust = DBSCAN(eps=.95,min_samples=10).fit(X)"
   ]
  },
  {
   "cell_type": "code",
   "execution_count": 95,
   "metadata": {},
   "outputs": [],
   "source": [
    "data['cluster'] = clust.labels_"
   ]
  },
  {
   "cell_type": "code",
   "execution_count": 96,
   "metadata": {},
   "outputs": [
    {
     "data": {
      "text/plain": [
       "36"
      ]
     },
     "execution_count": 96,
     "metadata": {},
     "output_type": "execute_result"
    }
   ],
   "source": [
    "data['cluster'].drop_duplicates().count()"
   ]
  },
  {
   "cell_type": "markdown",
   "metadata": {},
   "source": [
    "## тестируем"
   ]
  },
  {
   "cell_type": "code",
   "execution_count": 97,
   "metadata": {},
   "outputs": [],
   "source": [
    "from matplotlib import pyplot as plt"
   ]
  },
  {
   "cell_type": "code",
   "execution_count": 98,
   "metadata": {},
   "outputs": [
    {
     "data": {
      "text/html": [
       "<div>\n",
       "<style scoped>\n",
       "    .dataframe tbody tr th:only-of-type {\n",
       "        vertical-align: middle;\n",
       "    }\n",
       "\n",
       "    .dataframe tbody tr th {\n",
       "        vertical-align: top;\n",
       "    }\n",
       "\n",
       "    .dataframe thead th {\n",
       "        text-align: right;\n",
       "    }\n",
       "</style>\n",
       "<table border=\"1\" class=\"dataframe\">\n",
       "  <thead>\n",
       "    <tr style=\"text-align: right;\">\n",
       "      <th></th>\n",
       "      <th>cluster</th>\n",
       "      <th>count</th>\n",
       "      <th>tags</th>\n",
       "    </tr>\n",
       "  </thead>\n",
       "  <tbody>\n",
       "    <tr>\n",
       "      <th>0</th>\n",
       "      <td>-1</td>\n",
       "      <td>2658</td>\n",
       "      <td>politics incident auto science culture economics health social realty tech sport woman reclama</td>\n",
       "    </tr>\n",
       "    <tr>\n",
       "      <th>1</th>\n",
       "      <td>0</td>\n",
       "      <td>17</td>\n",
       "      <td>politics</td>\n",
       "    </tr>\n",
       "    <tr>\n",
       "      <th>2</th>\n",
       "      <td>1</td>\n",
       "      <td>21</td>\n",
       "      <td>politics</td>\n",
       "    </tr>\n",
       "    <tr>\n",
       "      <th>3</th>\n",
       "      <td>2</td>\n",
       "      <td>15</td>\n",
       "      <td>politics</td>\n",
       "    </tr>\n",
       "    <tr>\n",
       "      <th>4</th>\n",
       "      <td>3</td>\n",
       "      <td>34</td>\n",
       "      <td>politics</td>\n",
       "    </tr>\n",
       "    <tr>\n",
       "      <th>5</th>\n",
       "      <td>4</td>\n",
       "      <td>28</td>\n",
       "      <td>politics</td>\n",
       "    </tr>\n",
       "    <tr>\n",
       "      <th>6</th>\n",
       "      <td>5</td>\n",
       "      <td>35</td>\n",
       "      <td>politics</td>\n",
       "    </tr>\n",
       "    <tr>\n",
       "      <th>7</th>\n",
       "      <td>6</td>\n",
       "      <td>13</td>\n",
       "      <td>incident</td>\n",
       "    </tr>\n",
       "    <tr>\n",
       "      <th>8</th>\n",
       "      <td>7</td>\n",
       "      <td>25</td>\n",
       "      <td>politics</td>\n",
       "    </tr>\n",
       "    <tr>\n",
       "      <th>9</th>\n",
       "      <td>8</td>\n",
       "      <td>12</td>\n",
       "      <td>sport</td>\n",
       "    </tr>\n",
       "    <tr>\n",
       "      <th>10</th>\n",
       "      <td>9</td>\n",
       "      <td>14</td>\n",
       "      <td>science</td>\n",
       "    </tr>\n",
       "    <tr>\n",
       "      <th>11</th>\n",
       "      <td>10</td>\n",
       "      <td>10</td>\n",
       "      <td>politics</td>\n",
       "    </tr>\n",
       "    <tr>\n",
       "      <th>12</th>\n",
       "      <td>11</td>\n",
       "      <td>10</td>\n",
       "      <td>politics</td>\n",
       "    </tr>\n",
       "    <tr>\n",
       "      <th>13</th>\n",
       "      <td>12</td>\n",
       "      <td>12</td>\n",
       "      <td>incident</td>\n",
       "    </tr>\n",
       "    <tr>\n",
       "      <th>14</th>\n",
       "      <td>13</td>\n",
       "      <td>16</td>\n",
       "      <td>economics</td>\n",
       "    </tr>\n",
       "    <tr>\n",
       "      <th>15</th>\n",
       "      <td>14</td>\n",
       "      <td>14</td>\n",
       "      <td>economics</td>\n",
       "    </tr>\n",
       "    <tr>\n",
       "      <th>16</th>\n",
       "      <td>15</td>\n",
       "      <td>11</td>\n",
       "      <td>auto</td>\n",
       "    </tr>\n",
       "    <tr>\n",
       "      <th>17</th>\n",
       "      <td>16</td>\n",
       "      <td>14</td>\n",
       "      <td>incident</td>\n",
       "    </tr>\n",
       "    <tr>\n",
       "      <th>18</th>\n",
       "      <td>17</td>\n",
       "      <td>16</td>\n",
       "      <td>culture</td>\n",
       "    </tr>\n",
       "    <tr>\n",
       "      <th>19</th>\n",
       "      <td>18</td>\n",
       "      <td>16</td>\n",
       "      <td>politics</td>\n",
       "    </tr>\n",
       "    <tr>\n",
       "      <th>20</th>\n",
       "      <td>19</td>\n",
       "      <td>15</td>\n",
       "      <td>politics</td>\n",
       "    </tr>\n",
       "    <tr>\n",
       "      <th>21</th>\n",
       "      <td>20</td>\n",
       "      <td>12</td>\n",
       "      <td>sport</td>\n",
       "    </tr>\n",
       "    <tr>\n",
       "      <th>22</th>\n",
       "      <td>21</td>\n",
       "      <td>10</td>\n",
       "      <td>sport</td>\n",
       "    </tr>\n",
       "    <tr>\n",
       "      <th>23</th>\n",
       "      <td>22</td>\n",
       "      <td>13</td>\n",
       "      <td>incident</td>\n",
       "    </tr>\n",
       "    <tr>\n",
       "      <th>24</th>\n",
       "      <td>23</td>\n",
       "      <td>15</td>\n",
       "      <td>incident</td>\n",
       "    </tr>\n",
       "    <tr>\n",
       "      <th>25</th>\n",
       "      <td>24</td>\n",
       "      <td>10</td>\n",
       "      <td>incident</td>\n",
       "    </tr>\n",
       "    <tr>\n",
       "      <th>26</th>\n",
       "      <td>25</td>\n",
       "      <td>11</td>\n",
       "      <td>incident</td>\n",
       "    </tr>\n",
       "    <tr>\n",
       "      <th>27</th>\n",
       "      <td>26</td>\n",
       "      <td>19</td>\n",
       "      <td>culture</td>\n",
       "    </tr>\n",
       "    <tr>\n",
       "      <th>28</th>\n",
       "      <td>27</td>\n",
       "      <td>13</td>\n",
       "      <td>culture</td>\n",
       "    </tr>\n",
       "    <tr>\n",
       "      <th>29</th>\n",
       "      <td>28</td>\n",
       "      <td>12</td>\n",
       "      <td>science</td>\n",
       "    </tr>\n",
       "    <tr>\n",
       "      <th>30</th>\n",
       "      <td>29</td>\n",
       "      <td>14</td>\n",
       "      <td>science</td>\n",
       "    </tr>\n",
       "    <tr>\n",
       "      <th>31</th>\n",
       "      <td>30</td>\n",
       "      <td>11</td>\n",
       "      <td>science</td>\n",
       "    </tr>\n",
       "    <tr>\n",
       "      <th>32</th>\n",
       "      <td>31</td>\n",
       "      <td>15</td>\n",
       "      <td>tech</td>\n",
       "    </tr>\n",
       "    <tr>\n",
       "      <th>33</th>\n",
       "      <td>32</td>\n",
       "      <td>11</td>\n",
       "      <td>tech</td>\n",
       "    </tr>\n",
       "    <tr>\n",
       "      <th>34</th>\n",
       "      <td>33</td>\n",
       "      <td>10</td>\n",
       "      <td>science tech</td>\n",
       "    </tr>\n",
       "    <tr>\n",
       "      <th>35</th>\n",
       "      <td>34</td>\n",
       "      <td>14</td>\n",
       "      <td>tech</td>\n",
       "    </tr>\n",
       "  </tbody>\n",
       "</table>\n",
       "</div>"
      ],
      "text/plain": [
       "    cluster  count  \\\n",
       "0        -1   2658   \n",
       "1         0     17   \n",
       "2         1     21   \n",
       "3         2     15   \n",
       "4         3     34   \n",
       "5         4     28   \n",
       "6         5     35   \n",
       "7         6     13   \n",
       "8         7     25   \n",
       "9         8     12   \n",
       "10        9     14   \n",
       "11       10     10   \n",
       "12       11     10   \n",
       "13       12     12   \n",
       "14       13     16   \n",
       "15       14     14   \n",
       "16       15     11   \n",
       "17       16     14   \n",
       "18       17     16   \n",
       "19       18     16   \n",
       "20       19     15   \n",
       "21       20     12   \n",
       "22       21     10   \n",
       "23       22     13   \n",
       "24       23     15   \n",
       "25       24     10   \n",
       "26       25     11   \n",
       "27       26     19   \n",
       "28       27     13   \n",
       "29       28     12   \n",
       "30       29     14   \n",
       "31       30     11   \n",
       "32       31     15   \n",
       "33       32     11   \n",
       "34       33     10   \n",
       "35       34     14   \n",
       "\n",
       "                                                                                              tags  \n",
       "0   politics incident auto science culture economics health social realty tech sport woman reclama  \n",
       "1                                                                                         politics  \n",
       "2                                                                                         politics  \n",
       "3                                                                                         politics  \n",
       "4                                                                                         politics  \n",
       "5                                                                                         politics  \n",
       "6                                                                                         politics  \n",
       "7                                                                                         incident  \n",
       "8                                                                                         politics  \n",
       "9                                                                                            sport  \n",
       "10                                                                                         science  \n",
       "11                                                                                        politics  \n",
       "12                                                                                        politics  \n",
       "13                                                                                        incident  \n",
       "14                                                                                       economics  \n",
       "15                                                                                       economics  \n",
       "16                                                                                            auto  \n",
       "17                                                                                        incident  \n",
       "18                                                                                         culture  \n",
       "19                                                                                        politics  \n",
       "20                                                                                        politics  \n",
       "21                                                                                           sport  \n",
       "22                                                                                           sport  \n",
       "23                                                                                        incident  \n",
       "24                                                                                        incident  \n",
       "25                                                                                        incident  \n",
       "26                                                                                        incident  \n",
       "27                                                                                         culture  \n",
       "28                                                                                         culture  \n",
       "29                                                                                         science  \n",
       "30                                                                                         science  \n",
       "31                                                                                         science  \n",
       "32                                                                                            tech  \n",
       "33                                                                                            tech  \n",
       "34                                                                                    science tech  \n",
       "35                                                                                            tech  "
      ]
     },
     "execution_count": 98,
     "metadata": {},
     "output_type": "execute_result"
    }
   ],
   "source": [
    "cluster_descr = pd.concat([\n",
    "        data[['cluster','tag']].groupby(['cluster'])['tag'].count(),\n",
    "        data[['cluster','tag']].groupby(['cluster'])['tag'].apply(lambda s: set(s)).apply(' '.join)\n",
    "    ],axis=1).reset_index()\n",
    "\n",
    "cluster_descr.columns = ['cluster','count','tags']\n",
    "\n",
    "cluster_descr"
   ]
  },
  {
   "cell_type": "code",
   "execution_count": 99,
   "metadata": {},
   "outputs": [
    {
     "name": "stdout",
     "output_type": "stream",
     "text": [
      "   cluster  count      tags\n",
      "1        0     17  politics\n"
     ]
    },
    {
     "data": {
      "text/html": [
       "<div>\n",
       "<style scoped>\n",
       "    .dataframe tbody tr th:only-of-type {\n",
       "        vertical-align: middle;\n",
       "    }\n",
       "\n",
       "    .dataframe tbody tr th {\n",
       "        vertical-align: top;\n",
       "    }\n",
       "\n",
       "    .dataframe thead th {\n",
       "        text-align: right;\n",
       "    }\n",
       "</style>\n",
       "<table border=\"1\" class=\"dataframe\">\n",
       "  <thead>\n",
       "    <tr style=\"text-align: right;\">\n",
       "      <th></th>\n",
       "      <th>text</th>\n",
       "      <th>tag</th>\n",
       "    </tr>\n",
       "  </thead>\n",
       "  <tbody>\n",
       "    <tr>\n",
       "      <th>1680</th>\n",
       "      <td>© Сергей Бобылев/ТАСС\\n\\nВ декабре 1991 года распался Советский Союз. 25 декабря первый президент СССР Михаил Горбачев сложил с себя полномочия главы государства.\\n\\nВ преддверии 25-летия этой дат...</td>\n",
       "      <td>politics</td>\n",
       "    </tr>\n",
       "    <tr>\n",
       "      <th>1676</th>\n",
       "      <td>МОСКВА, 13 декабря. /ТАСС/. Экс-президент СССР Михаил Горбачев допускает возможность появления в границах бывшего Советского Союза нового Союзного государства.\\n\\n\"Советского Союза - нет, а Союза ...</td>\n",
       "      <td>politics</td>\n",
       "    </tr>\n",
       "    <tr>\n",
       "      <th>1403</th>\n",
       "      <td>Горбачев заявил о возможном создании в границах бывшего СССР нового Союза\\n\\nТелеканал «Россия – Вологда»\\n\\nЭкс-президент Советского Союза Михаил Горбачев заявил, что в границах бывшего СССР може...</td>\n",
       "      <td>politics</td>\n",
       "    </tr>\n",
       "    <tr>\n",
       "      <th>1674</th>\n",
       "      <td>Экс-президент СССР Михаил Горбачев заявил, что в границах Союза может появиться новое объединение, в которое добровольно войдут бывшие советские республики.\\n\\nОн отметил, что в качестве возврата ...</td>\n",
       "      <td>politics</td>\n",
       "    </tr>\n",
       "    <tr>\n",
       "      <th>1673</th>\n",
       "      <td>Горбачев увидел возможность восстановления Союза в прежних границах\\n\\nОбъединение, по его словам, может стать полностью добровольным\\n\\nПервый президент СССР Михаил Горбачев заявил о возможности ...</td>\n",
       "      <td>politics</td>\n",
       "    </tr>\n",
       "  </tbody>\n",
       "</table>\n",
       "</div>"
      ],
      "text/plain": [
       "                                                                                                                                                                                                         text  \\\n",
       "1680  © Сергей Бобылев/ТАСС\\n\\nВ декабре 1991 года распался Советский Союз. 25 декабря первый президент СССР Михаил Горбачев сложил с себя полномочия главы государства.\\n\\nВ преддверии 25-летия этой дат...   \n",
       "1676  МОСКВА, 13 декабря. /ТАСС/. Экс-президент СССР Михаил Горбачев допускает возможность появления в границах бывшего Советского Союза нового Союзного государства.\\n\\n\"Советского Союза - нет, а Союза ...   \n",
       "1403  Горбачев заявил о возможном создании в границах бывшего СССР нового Союза\\n\\nТелеканал «Россия – Вологда»\\n\\nЭкс-президент Советского Союза Михаил Горбачев заявил, что в границах бывшего СССР може...   \n",
       "1674  Экс-президент СССР Михаил Горбачев заявил, что в границах Союза может появиться новое объединение, в которое добровольно войдут бывшие советские республики.\\n\\nОн отметил, что в качестве возврата ...   \n",
       "1673  Горбачев увидел возможность восстановления Союза в прежних границах\\n\\nОбъединение, по его словам, может стать полностью добровольным\\n\\nПервый президент СССР Михаил Горбачев заявил о возможности ...   \n",
       "\n",
       "           tag  \n",
       "1680  politics  \n",
       "1676  politics  \n",
       "1403  politics  \n",
       "1674  politics  \n",
       "1673  politics  "
      ]
     },
     "execution_count": 99,
     "metadata": {},
     "output_type": "execute_result"
    }
   ],
   "source": [
    "n = 0\n",
    "print(cluster_descr.query(f'cluster=={n}'))\n",
    "data.query(f'cluster=={n}')[['text','tag']].sample(5)"
   ]
  },
  {
   "cell_type": "code",
   "execution_count": 100,
   "metadata": {},
   "outputs": [
    {
     "name": "stdout",
     "output_type": "stream",
     "text": [
      "   cluster  count      tags\n",
      "2        1     21  politics\n"
     ]
    },
    {
     "data": {
      "text/html": [
       "<div>\n",
       "<style scoped>\n",
       "    .dataframe tbody tr th:only-of-type {\n",
       "        vertical-align: middle;\n",
       "    }\n",
       "\n",
       "    .dataframe tbody tr th {\n",
       "        vertical-align: top;\n",
       "    }\n",
       "\n",
       "    .dataframe thead th {\n",
       "        text-align: right;\n",
       "    }\n",
       "</style>\n",
       "<table border=\"1\" class=\"dataframe\">\n",
       "  <thead>\n",
       "    <tr style=\"text-align: right;\">\n",
       "      <th></th>\n",
       "      <th>text</th>\n",
       "      <th>tag</th>\n",
       "    </tr>\n",
       "  </thead>\n",
       "  <tbody>\n",
       "    <tr>\n",
       "      <th>1597</th>\n",
       "      <td>Ранее глава Хорватии заявила, что Россия активно влияет на события на Балканах, следствием чего может стать военный конфликт в регионе\\n\\nМосква, , 09:56 — REGNUM Глава МИД РФ Сергей Лавров заявил...</td>\n",
       "      <td>politics</td>\n",
       "    </tr>\n",
       "    <tr>\n",
       "      <th>1596</th>\n",
       "      <td>Глава МИДа Сергей Лавров прокомментировал заявление президента Хорватии Колинды Грабар-Китарович о том, что Россия вовлечена в военный конфликт на Балканах. Дипломат заверил, что Москва настроена ...</td>\n",
       "      <td>politics</td>\n",
       "    </tr>\n",
       "    <tr>\n",
       "      <th>1373</th>\n",
       "      <td>Глава МИД России Сергей Лавров заявил, что высказывания о возможной российской угрозе на Балканском полуострове странно слышать от хорватских властей, передает РИА «Новости».\\n\\nРанее президент Хо...</td>\n",
       "      <td>politics</td>\n",
       "    </tr>\n",
       "    <tr>\n",
       "      <th>1842</th>\n",
       "      <td>Заявления о возможной российской угрозе странно слышать от властей Хорватии, однако Москва готова обсудить данные аргументы Загреба, заявил российский министр иностранных дел Сергей Лавров в интер...</td>\n",
       "      <td>politics</td>\n",
       "    </tr>\n",
       "    <tr>\n",
       "      <th>1846</th>\n",
       "      <td>Министр иностранных дел России Сергей Лавров заявил, что высказывания об угрозе конфликта с РФ на Балканах странно слышать от Хорватии, но Москва готова обсудить факты Загреба при их наличии.\\n\\nР...</td>\n",
       "      <td>politics</td>\n",
       "    </tr>\n",
       "  </tbody>\n",
       "</table>\n",
       "</div>"
      ],
      "text/plain": [
       "                                                                                                                                                                                                         text  \\\n",
       "1597  Ранее глава Хорватии заявила, что Россия активно влияет на события на Балканах, следствием чего может стать военный конфликт в регионе\\n\\nМосква, , 09:56 — REGNUM Глава МИД РФ Сергей Лавров заявил...   \n",
       "1596  Глава МИДа Сергей Лавров прокомментировал заявление президента Хорватии Колинды Грабар-Китарович о том, что Россия вовлечена в военный конфликт на Балканах. Дипломат заверил, что Москва настроена ...   \n",
       "1373  Глава МИД России Сергей Лавров заявил, что высказывания о возможной российской угрозе на Балканском полуострове странно слышать от хорватских властей, передает РИА «Новости».\\n\\nРанее президент Хо...   \n",
       "1842  Заявления о возможной российской угрозе странно слышать от властей Хорватии, однако Москва готова обсудить данные аргументы Загреба, заявил российский министр иностранных дел Сергей Лавров в интер...   \n",
       "1846  Министр иностранных дел России Сергей Лавров заявил, что высказывания об угрозе конфликта с РФ на Балканах странно слышать от Хорватии, но Москва готова обсудить факты Загреба при их наличии.\\n\\nР...   \n",
       "\n",
       "           tag  \n",
       "1597  politics  \n",
       "1596  politics  \n",
       "1373  politics  \n",
       "1842  politics  \n",
       "1846  politics  "
      ]
     },
     "execution_count": 100,
     "metadata": {},
     "output_type": "execute_result"
    }
   ],
   "source": [
    "n = 1\n",
    "print(cluster_descr.query(f'cluster=={n}'))\n",
    "data.query(f'cluster=={n}')[['text','tag']].sample(5)"
   ]
  },
  {
   "cell_type": "code",
   "execution_count": 101,
   "metadata": {},
   "outputs": [
    {
     "name": "stdout",
     "output_type": "stream",
     "text": [
      "   cluster  count      tags\n",
      "3        2     15  politics\n"
     ]
    },
    {
     "data": {
      "text/html": [
       "<div>\n",
       "<style scoped>\n",
       "    .dataframe tbody tr th:only-of-type {\n",
       "        vertical-align: middle;\n",
       "    }\n",
       "\n",
       "    .dataframe tbody tr th {\n",
       "        vertical-align: top;\n",
       "    }\n",
       "\n",
       "    .dataframe thead th {\n",
       "        text-align: right;\n",
       "    }\n",
       "</style>\n",
       "<table border=\"1\" class=\"dataframe\">\n",
       "  <thead>\n",
       "    <tr style=\"text-align: right;\">\n",
       "      <th></th>\n",
       "      <th>text</th>\n",
       "      <th>tag</th>\n",
       "    </tr>\n",
       "  </thead>\n",
       "  <tbody>\n",
       "    <tr>\n",
       "      <th>1387</th>\n",
       "      <td>НЬЮ-ЙОРК, 13 декабря. /Корр. ТАСС Кирилл Волков/. Избранный президент США Дональд Трамп провел телефонный разговор с экс-кандидатом на выборах главы государства Миттом Ромни, сообщив ему, что он н...</td>\n",
       "      <td>politics</td>\n",
       "    </tr>\n",
       "    <tr>\n",
       "      <th>1383</th>\n",
       "      <td>Экс-кандидат в президенты США от республиканцев Митт Ромни выбыл из списка претендентов на пост госсекретаря в администрации Дональда Трампа.\\r\\n\\r\\n\\r\\nПо информации телеканала CNN, миллиардер со...</td>\n",
       "      <td>politics</td>\n",
       "    </tr>\n",
       "    <tr>\n",
       "      <th>1864</th>\n",
       "      <td>Избранный президент США Дональд Трамп в ходе телефонного разговора с главным кандидатом на пост госсекретаря Миттом Ромни сообщил, что Ромни не будет занимать эту должность.\\n\\nПосле разговора экс...</td>\n",
       "      <td>politics</td>\n",
       "    </tr>\n",
       "    <tr>\n",
       "      <th>1386</th>\n",
       "      <td>Дональд Трамп позвонил Ромни и уведомил, что тот не рассматривается в качестве претендента на эту должность. Об этом сообщил телеканал CNN, а затем информацию подтвердил сам Митт Ромни в Facebook....</td>\n",
       "      <td>politics</td>\n",
       "    </tr>\n",
       "    <tr>\n",
       "      <th>1381</th>\n",
       "      <td>Место главного дипломата Америки точно не светит экс-кандидату на пост президента США в 2012 году Митту Ромни. С мечтой возглавить дипломатический корпус известный своими антироссийскими высказыва...</td>\n",
       "      <td>politics</td>\n",
       "    </tr>\n",
       "  </tbody>\n",
       "</table>\n",
       "</div>"
      ],
      "text/plain": [
       "                                                                                                                                                                                                         text  \\\n",
       "1387  НЬЮ-ЙОРК, 13 декабря. /Корр. ТАСС Кирилл Волков/. Избранный президент США Дональд Трамп провел телефонный разговор с экс-кандидатом на выборах главы государства Миттом Ромни, сообщив ему, что он н...   \n",
       "1383  Экс-кандидат в президенты США от республиканцев Митт Ромни выбыл из списка претендентов на пост госсекретаря в администрации Дональда Трампа.\\r\\n\\r\\n\\r\\nПо информации телеканала CNN, миллиардер со...   \n",
       "1864  Избранный президент США Дональд Трамп в ходе телефонного разговора с главным кандидатом на пост госсекретаря Миттом Ромни сообщил, что Ромни не будет занимать эту должность.\\n\\nПосле разговора экс...   \n",
       "1386  Дональд Трамп позвонил Ромни и уведомил, что тот не рассматривается в качестве претендента на эту должность. Об этом сообщил телеканал CNN, а затем информацию подтвердил сам Митт Ромни в Facebook....   \n",
       "1381  Место главного дипломата Америки точно не светит экс-кандидату на пост президента США в 2012 году Митту Ромни. С мечтой возглавить дипломатический корпус известный своими антироссийскими высказыва...   \n",
       "\n",
       "           tag  \n",
       "1387  politics  \n",
       "1383  politics  \n",
       "1864  politics  \n",
       "1386  politics  \n",
       "1381  politics  "
      ]
     },
     "execution_count": 101,
     "metadata": {},
     "output_type": "execute_result"
    }
   ],
   "source": [
    "n = 2\n",
    "print(cluster_descr.query(f'cluster=={n}'))\n",
    "data.query(f'cluster=={n}')[['text','tag']].sample(5)"
   ]
  },
  {
   "cell_type": "code",
   "execution_count": 102,
   "metadata": {},
   "outputs": [
    {
     "name": "stdout",
     "output_type": "stream",
     "text": [
      "   cluster  count      tags\n",
      "4        3     34  politics\n"
     ]
    },
    {
     "data": {
      "text/html": [
       "<div>\n",
       "<style scoped>\n",
       "    .dataframe tbody tr th:only-of-type {\n",
       "        vertical-align: middle;\n",
       "    }\n",
       "\n",
       "    .dataframe tbody tr th {\n",
       "        vertical-align: top;\n",
       "    }\n",
       "\n",
       "    .dataframe thead th {\n",
       "        text-align: right;\n",
       "    }\n",
       "</style>\n",
       "<table border=\"1\" class=\"dataframe\">\n",
       "  <thead>\n",
       "    <tr style=\"text-align: right;\">\n",
       "      <th></th>\n",
       "      <th>text</th>\n",
       "      <th>tag</th>\n",
       "    </tr>\n",
       "  </thead>\n",
       "  <tbody>\n",
       "    <tr>\n",
       "      <th>1870</th>\n",
       "      <td>Во вторник, 13 декабря, МИД Японии официально объявил программу визита в страну президента РФ Владимира Путина.\\n\\nКак стало известно, глава нашего государства прибудет в аэропорт префектуры Ямагу...</td>\n",
       "      <td>politics</td>\n",
       "    </tr>\n",
       "    <tr>\n",
       "      <th>1414</th>\n",
       "      <td>В МИД Японии обнародовали программу российского президента во время рабочей поездки.\\n\\nПутин и Абэ примут участие в \"бизнес-диалоге\"\\n\\nЯпонское внешнеполитическое ведомство озвучило программу пр...</td>\n",
       "      <td>politics</td>\n",
       "    </tr>\n",
       "    <tr>\n",
       "      <th>1572</th>\n",
       "      <td>Российский лидер Владимир Путин назвал отсутствие мирного договора с Японией анахронизмом, который должен быть устранен.\\n\\nВ преддверии своего визита президент дал интервью японской телекомпании ...</td>\n",
       "      <td>politics</td>\n",
       "    </tr>\n",
       "    <tr>\n",
       "      <th>1873</th>\n",
       "      <td>Министерство иностранных дел Японии объявило программу пребывания президента России Владимира Путина в стране - визит российского лидера запланирован на 15 и 16 декабря. Предполагается, что сразу ...</td>\n",
       "      <td>politics</td>\n",
       "    </tr>\n",
       "    <tr>\n",
       "      <th>1852</th>\n",
       "      <td>Россия хочет нормализации отношений с Японией, заявил президент России Владимир Путин в интервью японской телекомпании Nippon TV (NTV).\\n\\n\"Начиная с 1956 года, когда были восстановлены дипломатич...</td>\n",
       "      <td>politics</td>\n",
       "    </tr>\n",
       "  </tbody>\n",
       "</table>\n",
       "</div>"
      ],
      "text/plain": [
       "                                                                                                                                                                                                         text  \\\n",
       "1870  Во вторник, 13 декабря, МИД Японии официально объявил программу визита в страну президента РФ Владимира Путина.\\n\\nКак стало известно, глава нашего государства прибудет в аэропорт префектуры Ямагу...   \n",
       "1414  В МИД Японии обнародовали программу российского президента во время рабочей поездки.\\n\\nПутин и Абэ примут участие в \"бизнес-диалоге\"\\n\\nЯпонское внешнеполитическое ведомство озвучило программу пр...   \n",
       "1572  Российский лидер Владимир Путин назвал отсутствие мирного договора с Японией анахронизмом, который должен быть устранен.\\n\\nВ преддверии своего визита президент дал интервью японской телекомпании ...   \n",
       "1873  Министерство иностранных дел Японии объявило программу пребывания президента России Владимира Путина в стране - визит российского лидера запланирован на 15 и 16 декабря. Предполагается, что сразу ...   \n",
       "1852  Россия хочет нормализации отношений с Японией, заявил президент России Владимир Путин в интервью японской телекомпании Nippon TV (NTV).\\n\\n\"Начиная с 1956 года, когда были восстановлены дипломатич...   \n",
       "\n",
       "           tag  \n",
       "1870  politics  \n",
       "1414  politics  \n",
       "1572  politics  \n",
       "1873  politics  \n",
       "1852  politics  "
      ]
     },
     "execution_count": 102,
     "metadata": {},
     "output_type": "execute_result"
    }
   ],
   "source": [
    "n = 3\n",
    "print(cluster_descr.query(f'cluster=={n}'))\n",
    "data.query(f'cluster=={n}')[['text','tag']].sample(5)"
   ]
  },
  {
   "cell_type": "code",
   "execution_count": null,
   "metadata": {},
   "outputs": [],
   "source": []
  }
 ],
 "metadata": {
  "kernelspec": {
   "display_name": "Python 3",
   "language": "python",
   "name": "python3"
  },
  "language_info": {
   "codemirror_mode": {
    "name": "ipython",
    "version": 3
   },
   "file_extension": ".py",
   "mimetype": "text/x-python",
   "name": "python",
   "nbconvert_exporter": "python",
   "pygments_lexer": "ipython3",
   "version": "3.8.6"
  },
  "toc": {
   "base_numbering": 1,
   "nav_menu": {},
   "number_sections": true,
   "sideBar": true,
   "skip_h1_title": false,
   "title_cell": "Table of Contents",
   "title_sidebar": "Contents",
   "toc_cell": false,
   "toc_position": {},
   "toc_section_display": true,
   "toc_window_display": false
  }
 },
 "nbformat": 4,
 "nbformat_minor": 2
}
