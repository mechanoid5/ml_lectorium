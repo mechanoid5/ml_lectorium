{
 "cells": [
  {
   "cell_type": "markdown",
   "metadata": {},
   "source": [
    "**регрессия на TensorFlow**\n",
    "\n",
    "Евгений Борисов <borisov.e@solarl.ru>"
   ]
  },
  {
   "cell_type": "code",
   "execution_count": 1,
   "metadata": {},
   "outputs": [],
   "source": [
    "import numpy as np\n",
    "import matplotlib.pyplot as plt\n",
    "import tensorflow as tf"
   ]
  },
  {
   "cell_type": "code",
   "execution_count": 2,
   "metadata": {},
   "outputs": [
    {
     "name": "stdout",
     "output_type": "stream",
     "text": [
      "1.13.1\n"
     ]
    }
   ],
   "source": [
    "print(tf.__version__)"
   ]
  },
  {
   "cell_type": "code",
   "execution_count": 3,
   "metadata": {},
   "outputs": [],
   "source": [
    "# генеруем набор данных (случайные точки) \n",
    "n_observations = 100\n",
    "xs = np.linspace(-3, 3, n_observations).reshape(n_observations,1)\n",
    "ys = np.sin(xs) + np.random.uniform(-0.5, 0.5, n_observations).reshape(n_observations,1)"
   ]
  },
  {
   "cell_type": "code",
   "execution_count": 4,
   "metadata": {},
   "outputs": [
    {
     "data": {
      "image/png": "[encoded data removed]",
      "text/plain": [
       "<Figure size 432x288 with 1 Axes>"
      ]
     },
     "metadata": {
      "needs_background": "light"
     },
     "output_type": "display_data"
    }
   ],
   "source": [
    "# рисуем набор данных\n",
    "axes = plt.gca()\n",
    "axes.set_xlim([-3.1,3.1])\n",
    "axes.set_ylim([-1.6,1.6])\n",
    "\n",
    "plt.scatter(xs, ys, label=\"data\")\n",
    "plt.grid(True)\n",
    "plt.show()"
   ]
  },
  {
   "cell_type": "code",
   "execution_count": 5,
   "metadata": {},
   "outputs": [],
   "source": [
    "# модифицируем набор данных для реализации полиномиальной регресии\n",
    "from sklearn.preprocessing import PolynomialFeatures\n",
    "xp = PolynomialFeatures(degree=3).fit_transform(xs)"
   ]
  },
  {
   "cell_type": "code",
   "execution_count": 6,
   "metadata": {},
   "outputs": [],
   "source": [
    "# определяем переменные tensorflow для данных \n",
    "X = tf.placeholder(tf.float32,shape=(xp.shape))\n",
    "Y = tf.placeholder(tf.float32)"
   ]
  },
  {
   "cell_type": "code",
   "execution_count": 7,
   "metadata": {},
   "outputs": [
    {
     "name": "stdout",
     "output_type": "stream",
     "text": [
      "WARNING:tensorflow:From /usr/lib/python3.7/site-packages/tensorflow/python/framework/op_def_library.py:263: colocate_with (from tensorflow.python.framework.ops) is deprecated and will be removed in a future version.\n",
      "Instructions for updating:\n",
      "Colocations handled automatically by placer.\n"
     ]
    }
   ],
   "source": [
    "# вектор весов\n",
    "W = tf.Variable(tf.random_normal([xp.shape[1],1]), name='weight')\n",
    "# коэффициент сдвига\n",
    "b = tf.Variable(tf.zeros([1]), name='bias')"
   ]
  },
  {
   "cell_type": "code",
   "execution_count": 8,
   "metadata": {},
   "outputs": [],
   "source": [
    "Y_pred = tf.add(tf.matmul(X, W), b) # регрессия"
   ]
  },
  {
   "cell_type": "code",
   "execution_count": 9,
   "metadata": {},
   "outputs": [
    {
     "name": "stdout",
     "output_type": "stream",
     "text": [
      "WARNING:tensorflow:From /usr/lib/python3.7/site-packages/tensorflow/python/ops/math_ops.py:3066: to_int32 (from tensorflow.python.ops.math_ops) is deprecated and will be removed in a future version.\n",
      "Instructions for updating:\n",
      "Use tf.cast instead.\n",
      "cost [ 9999 ]: 0.090080306\r"
     ]
    }
   ],
   "source": [
    "# функция стоимости (потеря)\n",
    "cost = tf.reduce_mean( tf.square(Y_pred - Y) )\n",
    "\n",
    "learning_rate = 0.001 # скорость обучения\n",
    "\n",
    "# минимизация функции стоимости методом градиентного спуска\n",
    "optimizer = tf.train.GradientDescentOptimizer(learning_rate).minimize(cost)\n",
    "\n",
    "n_epochs = int(1e4) # количество циклов обучения\n",
    "training_cost_min = 0.09 # порог допустимой ошибки\n",
    "\n",
    "with tf.Session() as sess: # создаём сессию для выполнения вычислений\n",
    "    # sess.run(tf.initialize_all_variables()) # инициализируем переменные\n",
    "    sess.run(tf.global_variables_initializer())\n",
    "    \n",
    "    # начальное состояние параметров регрессии\n",
    "    yr0 = yr = Y_pred.eval( feed_dict={X: xp}, session=sess)\n",
    "    \n",
    "    for epoch_i in range(n_epochs): # цикл обучения\n",
    "        sess.run(optimizer, feed_dict={X: xp, Y: ys}) # выполняем шаг обучения\n",
    "        \n",
    "        # оцениваем текущее состояние\n",
    "        training_cost = sess.run( cost, feed_dict={X: xp, Y: ys}) \n",
    "        \n",
    "        if not(epoch_i % 100): # печатаем состояние каждую 100 итерацию\n",
    "            print(\"cost [\",epoch_i,\"]:\",training_cost,end='\\r')\n",
    "        if training_cost < training_cost_min:\n",
    "            break # останавливаемся, если достигнут порог ошибки \n",
    "     \n",
    "    print(\"cost [\",epoch_i,\"]:\",training_cost,end='\\r')\n",
    "    # рисуем результат\n",
    "    yr = Y_pred.eval( feed_dict={X: xp}, session=sess)"
   ]
  },
  {
   "cell_type": "code",
   "execution_count": 10,
   "metadata": {},
   "outputs": [
    {
     "data": {
      "image/png": "[encoded data removed]",
      "text/plain": [
       "<Figure size 432x288 with 1 Axes>"
      ]
     },
     "metadata": {
      "needs_background": "light"
     },
     "output_type": "display_data"
    }
   ],
   "source": [
    "axes = plt.gca()\n",
    "axes.set_xlim([-3.1,3.1])\n",
    "axes.set_ylim([-1.6,1.6])\n",
    "\n",
    "plt.scatter(xs, ys, label=\"data\")\n",
    "plt.plot(xs, yr0, '-', c='green',label='init') \n",
    "plt.plot(xs, yr, '-', c='red',label='result')\n",
    "plt.legend( loc=\"upper left\")\n",
    "plt.show()\n",
    "# plt.savefig('result/plot0.png', dpi=60)"
   ]
  },
  {
   "cell_type": "code",
   "execution_count": null,
   "metadata": {},
   "outputs": [],
   "source": []
  }
 ],
 "metadata": {
  "kernelspec": {
   "display_name": "Python 3",
   "language": "python",
   "name": "python3"
  },
  "language_info": {
   "codemirror_mode": {
    "name": "ipython",
    "version": 3
   },
   "file_extension": ".py",
   "mimetype": "text/x-python",
   "name": "python",
   "nbconvert_exporter": "python",
   "pygments_lexer": "ipython3",
   "version": "3.7.3"
  },
  "toc": {
   "base_numbering": 1,
   "nav_menu": {},
   "number_sections": true,
   "sideBar": true,
   "skip_h1_title": false,
   "title_cell": "Table of Contents",
   "title_sidebar": "Contents",
   "toc_cell": false,
   "toc_position": {},
   "toc_section_display": true,
   "toc_window_display": false
  }
 },
 "nbformat": 4,
 "nbformat_minor": 2
}
