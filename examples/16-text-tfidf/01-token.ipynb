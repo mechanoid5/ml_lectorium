{
 "cells": [
  {
   "cell_type": "markdown",
   "metadata": {},
   "source": [
    "**извлечение признаков из текста на естественном языке**\n",
    "\n",
    "токенизация и очистка текста\n",
    "\n",
    "\n",
    "Евгений Борисов borisov.e@solarl.ru"
   ]
  },
  {
   "cell_type": "markdown",
   "metadata": {},
   "source": [
    "## библиотеки"
   ]
  },
  {
   "cell_type": "code",
   "execution_count": 1,
   "metadata": {},
   "outputs": [],
   "source": [
    "import numpy as np\n",
    "np.set_printoptions(precision=2) # вывод на печать до 2 знака\n",
    "import pandas as pd\n",
    "import re\n",
    "import gzip"
   ]
  },
  {
   "cell_type": "code",
   "execution_count": 2,
   "metadata": {},
   "outputs": [],
   "source": [
    "pd.options.display.max_colwidth = 200  "
   ]
  },
  {
   "cell_type": "markdown",
   "metadata": {},
   "source": [
    "## загружаем тексты"
   ]
  },
  {
   "cell_type": "code",
   "execution_count": 3,
   "metadata": {},
   "outputs": [
    {
     "name": "stdout",
     "output_type": "stream",
     "text": [
      "записей: 3196\n"
     ]
    }
   ],
   "source": [
    "# загружаем тексты\n",
    "df = pd.read_pickle('../data/text/news.pkl.gz')\n",
    "print('записей:',len(df))"
   ]
  },
  {
   "cell_type": "code",
   "execution_count": 4,
   "metadata": {},
   "outputs": [
    {
     "data": {
      "text/html": [
       "<div>\n",
       "<style scoped>\n",
       "    .dataframe tbody tr th:only-of-type {\n",
       "        vertical-align: middle;\n",
       "    }\n",
       "\n",
       "    .dataframe tbody tr th {\n",
       "        vertical-align: top;\n",
       "    }\n",
       "\n",
       "    .dataframe thead th {\n",
       "        text-align: right;\n",
       "    }\n",
       "</style>\n",
       "<table border=\"1\" class=\"dataframe\">\n",
       "  <thead>\n",
       "    <tr style=\"text-align: right;\">\n",
       "      <th></th>\n",
       "      <th>text</th>\n",
       "      <th>tag</th>\n",
       "    </tr>\n",
       "  </thead>\n",
       "  <tbody>\n",
       "    <tr>\n",
       "      <th>1368</th>\n",
       "      <td>Ученые нашли различие в зрении мужчин и женщин\\n\\n30 ноября 2016 в 10:32\\n\\n42.TUT.BY\\n\\nЖенщины и мужчины смотрят на лица и интерпретируют визуальную информацию по-разному, что может приводить к ...</td>\n",
       "      <td>tech</td>\n",
       "    </tr>\n",
       "    <tr>\n",
       "      <th>605</th>\n",
       "      <td>Как перестать есть слишком много сладкого: 7 практических советов\\n\\n9 декабря 2016 в 8:40\\n\\nkitchenmag.ru\\n\\nСахар сам по себе не представляет никакой опасности для организма. В умеренных количе...</td>\n",
       "      <td>woman</td>\n",
       "    </tr>\n",
       "    <tr>\n",
       "      <th>1349</th>\n",
       "      <td>Космический корабль \"Прогресс\" разрушился, обломки упали на территории Тувы\\n\\nопубликовано: 1 декабря 2016 в 19:09\\n\\nобновлено: 1 декабря 2016 в 21:02\\n\\nТАСС / РБК\\n\\nРоскосмос сообщил о потере...</td>\n",
       "      <td>tech</td>\n",
       "    </tr>\n",
       "    <tr>\n",
       "      <th>1447</th>\n",
       "      <td>Трамп решил обнародовать свои планы по уходу из бизнеса в январе\\n\\nДональд Трамп решил отложить до января свою первую пресс-конференцию в качестве избранного президента США, на которой он собирае...</td>\n",
       "      <td>politics</td>\n",
       "    </tr>\n",
       "    <tr>\n",
       "      <th>109</th>\n",
       "      <td>ЦСКА переиграл болгарский клуб \"Левски\" со счетом 2:1 В рамках розыгрыша\\nКубка УЕФА московский ЦСКА не без труда переиграл болгарский клуб \"Левски\"\\nсо счетом 2:1...</td>\n",
       "      <td>sport</td>\n",
       "    </tr>\n",
       "  </tbody>\n",
       "</table>\n",
       "</div>"
      ],
      "text/plain": [
       "                                                                                                                                                                                                         text  \\\n",
       "1368  Ученые нашли различие в зрении мужчин и женщин\\n\\n30 ноября 2016 в 10:32\\n\\n42.TUT.BY\\n\\nЖенщины и мужчины смотрят на лица и интерпретируют визуальную информацию по-разному, что может приводить к ...   \n",
       "605   Как перестать есть слишком много сладкого: 7 практических советов\\n\\n9 декабря 2016 в 8:40\\n\\nkitchenmag.ru\\n\\nСахар сам по себе не представляет никакой опасности для организма. В умеренных количе...   \n",
       "1349  Космический корабль \"Прогресс\" разрушился, обломки упали на территории Тувы\\n\\nопубликовано: 1 декабря 2016 в 19:09\\n\\nобновлено: 1 декабря 2016 в 21:02\\n\\nТАСС / РБК\\n\\nРоскосмос сообщил о потере...   \n",
       "1447  Трамп решил обнародовать свои планы по уходу из бизнеса в январе\\n\\nДональд Трамп решил отложить до января свою первую пресс-конференцию в качестве избранного президента США, на которой он собирае...   \n",
       "109                                    ЦСКА переиграл болгарский клуб \"Левски\" со счетом 2:1 В рамках розыгрыша\\nКубка УЕФА московский ЦСКА не без труда переиграл болгарский клуб \"Левски\"\\nсо счетом 2:1...   \n",
       "\n",
       "           tag  \n",
       "1368      tech  \n",
       "605      woman  \n",
       "1349      tech  \n",
       "1447  politics  \n",
       "109      sport  "
      ]
     },
     "execution_count": 4,
     "metadata": {},
     "output_type": "execute_result"
    }
   ],
   "source": [
    "df.sample(5)"
   ]
  },
  {
   "cell_type": "markdown",
   "metadata": {},
   "source": [
    "## токенизация и очистка"
   ]
  },
  {
   "cell_type": "code",
   "execution_count": 5,
   "metadata": {},
   "outputs": [],
   "source": [
    "# with gzip.open('../data/text/stop-nltk.txt.gz','rt',encoding='utf-8') as f: \n",
    "#     stopwords = set([ w.strip() for w in  f.read().split() if w.strip() ] )\n",
    "\n",
    "# print('количество стоп-слов:',len(stopwords))\n",
    "# sorted(stopwords)\n",
    "\n",
    "# from Stemmer import Stemmer\n",
    "# pacman -S python-pystemmer\n",
    "# pip install pystemmer"
   ]
  },
  {
   "cell_type": "code",
   "execution_count": 6,
   "metadata": {},
   "outputs": [],
   "source": [
    "from nltk.stem.snowball import SnowballStemmer\n",
    "from nltk.corpus import stopwords as nltk_stopwords\n",
    "\n",
    "stopwords = set(nltk_stopwords.words('russian') )"
   ]
  },
  {
   "cell_type": "code",
   "execution_count": 7,
   "metadata": {},
   "outputs": [
    {
     "name": "stdout",
     "output_type": "stream",
     "text": [
      "CPU times: user 18.3 s, sys: 13.1 ms, total: 18.3 s\n",
      "Wall time: 18.4 s\n"
     ]
    }
   ],
   "source": [
    "%%time \n",
    "\n",
    "df['text_clean'] = df['text'].str.lower() # приведение в lowercase\n",
    "\n",
    "# замена символов-разделителей (-,_) на пробел\n",
    "df['text_clean'] = df['text_clean'].apply(lambda s: re.sub( r'\\W', ' ', s))\n",
    "df['text_clean'] = df['text_clean'].apply(lambda s: re.sub( r'_', ' ', s))\n",
    "\n",
    "# замена цифр\n",
    "df['text_clean'] = df['text_clean'].apply(lambda s: re.sub( r'\\b\\d+\\b', ' ', s))\n",
    "\n",
    "# делим строки на слова (токенизация)\n",
    "df['text_clean'] = df['text_clean'].apply(lambda t: [ w.strip() for w in t.split() if len(w.strip())>2 ] )\n",
    "\n",
    "# удаление лишних слов \n",
    "df['text_clean'] = df['text_clean'].apply(lambda t:[w for w in t if w not in stopwords])\n",
    "\n",
    "# стемминг, выделение основы слова\n",
    "# df['text_clean'] = df['text_clean'].apply( lambda t: Stemmer('russian').stemWords(t) )\n",
    "df['text_clean'] = df['text_clean'].apply(lambda t:[ SnowballStemmer('russian').stem(w) for w in t if w])\n"
   ]
  },
  {
   "cell_type": "code",
   "execution_count": 8,
   "metadata": {},
   "outputs": [
    {
     "data": {
      "text/html": [
       "<div>\n",
       "<style scoped>\n",
       "    .dataframe tbody tr th:only-of-type {\n",
       "        vertical-align: middle;\n",
       "    }\n",
       "\n",
       "    .dataframe tbody tr th {\n",
       "        vertical-align: top;\n",
       "    }\n",
       "\n",
       "    .dataframe thead th {\n",
       "        text-align: right;\n",
       "    }\n",
       "</style>\n",
       "<table border=\"1\" class=\"dataframe\">\n",
       "  <thead>\n",
       "    <tr style=\"text-align: right;\">\n",
       "      <th></th>\n",
       "      <th>text_clean</th>\n",
       "    </tr>\n",
       "  </thead>\n",
       "  <tbody>\n",
       "    <tr>\n",
       "      <th>716</th>\n",
       "      <td>[пиротехник, истекш, срок, годност, продава, берез, декабр, белт, берез, правоохранител, изъя, индивидуальн, предпринимател, пиротехник, истекш, срок, годност, сообщ, белт, старш, инспектор, отдел...</td>\n",
       "    </tr>\n",
       "    <tr>\n",
       "      <th>3088</th>\n",
       "      <td>[департамент, межнациональн, отношен, министерств, региональн, разв, комиинформ, новост, госслужа, должн, осторожн, формулировк, особен, дел, каса, межэтническ, отношен, представител, минрегионраз...</td>\n",
       "    </tr>\n",
       "    <tr>\n",
       "      <th>2585</th>\n",
       "      <td>[риам, дек, полн, лун, помеша, москвич, жител, подмосков, наблюда, звездопад, геминид, ноч, декабр, сообщ, риам, вторник, представител, пресс, служб, московск, планетар, ран, сайт, планетар, сообщ...</td>\n",
       "    </tr>\n",
       "  </tbody>\n",
       "</table>\n",
       "</div>"
      ],
      "text/plain": [
       "                                                                                                                                                                                                   text_clean\n",
       "716   [пиротехник, истекш, срок, годност, продава, берез, декабр, белт, берез, правоохранител, изъя, индивидуальн, предпринимател, пиротехник, истекш, срок, годност, сообщ, белт, старш, инспектор, отдел...\n",
       "3088  [департамент, межнациональн, отношен, министерств, региональн, разв, комиинформ, новост, госслужа, должн, осторожн, формулировк, особен, дел, каса, межэтническ, отношен, представител, минрегионраз...\n",
       "2585  [риам, дек, полн, лун, помеша, москвич, жител, подмосков, наблюда, звездопад, геминид, ноч, декабр, сообщ, риам, вторник, представител, пресс, служб, московск, планетар, ран, сайт, планетар, сообщ..."
      ]
     },
     "execution_count": 8,
     "metadata": {},
     "output_type": "execute_result"
    }
   ],
   "source": [
    "df[['text_clean']].sample(3)"
   ]
  }
 ],
 "metadata": {
  "kernelspec": {
   "display_name": "Python 3",
   "language": "python",
   "name": "python3"
  },
  "language_info": {
   "codemirror_mode": {
    "name": "ipython",
    "version": 3
   },
   "file_extension": ".py",
   "mimetype": "text/x-python",
   "name": "python",
   "nbconvert_exporter": "python",
   "pygments_lexer": "ipython3",
   "version": "3.7.2"
  },
  "toc": {
   "base_numbering": 1,
   "nav_menu": {},
   "number_sections": true,
   "sideBar": true,
   "skip_h1_title": false,
   "title_cell": "Table of Contents",
   "title_sidebar": "Contents",
   "toc_cell": false,
   "toc_position": {},
   "toc_section_display": true,
   "toc_window_display": true
  }
 },
 "nbformat": 4,
 "nbformat_minor": 2
}
