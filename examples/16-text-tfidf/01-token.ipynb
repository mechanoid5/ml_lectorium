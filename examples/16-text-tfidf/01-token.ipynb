{
 "cells": [
  {
   "cell_type": "markdown",
   "metadata": {},
   "source": [
    "**извлечение признаков из текста на естественном языке**\n",
    "\n",
    "токенизация и очистка текста\n",
    "\n",
    "\n",
    "Евгений Борисов borisov.e@solarl.ru"
   ]
  },
  {
   "cell_type": "markdown",
   "metadata": {},
   "source": [
    "## библиотеки"
   ]
  },
  {
   "cell_type": "code",
   "execution_count": 1,
   "metadata": {},
   "outputs": [],
   "source": [
    "import numpy as np\n",
    "np.set_printoptions(precision=2) # вывод на печать до 2 знака\n",
    "import pandas as pd\n",
    "import re\n",
    "import gzip"
   ]
  },
  {
   "cell_type": "code",
   "execution_count": 2,
   "metadata": {},
   "outputs": [],
   "source": [
    "pd.options.display.max_colwidth = 200  "
   ]
  },
  {
   "cell_type": "markdown",
   "metadata": {},
   "source": [
    "## загружаем тексты"
   ]
  },
  {
   "cell_type": "code",
   "execution_count": 4,
   "metadata": {},
   "outputs": [
    {
     "name": "stdout",
     "output_type": "stream",
     "text": [
      "записей: 3196\n"
     ]
    }
   ],
   "source": [
    "# загружаем тексты\n",
    "df = pd.read_pickle('../data/text/news.pkl.gz')\n",
    "print('записей:',len(df))"
   ]
  },
  {
   "cell_type": "code",
   "execution_count": 5,
   "metadata": {},
   "outputs": [
    {
     "data": {
      "text/html": [
       "<div>\n",
       "<style scoped>\n",
       "    .dataframe tbody tr th:only-of-type {\n",
       "        vertical-align: middle;\n",
       "    }\n",
       "\n",
       "    .dataframe tbody tr th {\n",
       "        vertical-align: top;\n",
       "    }\n",
       "\n",
       "    .dataframe thead th {\n",
       "        text-align: right;\n",
       "    }\n",
       "</style>\n",
       "<table border=\"1\" class=\"dataframe\">\n",
       "  <thead>\n",
       "    <tr style=\"text-align: right;\">\n",
       "      <th></th>\n",
       "      <th>text</th>\n",
       "      <th>tag</th>\n",
       "    </tr>\n",
       "  </thead>\n",
       "  <tbody>\n",
       "    <tr>\n",
       "      <th>769</th>\n",
       "      <td>Опередить инфаркт. В Витебске появился новый комплекс для лечения болезней сердца\\n\\n7 декабря 2016 в 8:03\\n\\nОНТ\\n\\nНовое оборудование появилось в ангиографическом кабинете областного кардиоцентр...</td>\n",
       "      <td>social</td>\n",
       "    </tr>\n",
       "    <tr>\n",
       "      <th>2847</th>\n",
       "      <td>Телеканал \"Пятница\" подал иск о защите репутации к пользователям социальной сети Facebook, которые обсуждали на страницах соцсети программу \"Ревизорро\", пишут \"Ведомости\". Ведущие \"Ревизорро\" пров...</td>\n",
       "      <td>incident</td>\n",
       "    </tr>\n",
       "    <tr>\n",
       "      <th>1283</th>\n",
       "      <td>Путин пошутил о развитии телепортации в России\\n\\n9 декабря 2016 в 9:37\\n\\n42.TUT.BY\\n\\nПрезидент России Владимир Путин пошутил, предложив поддерживать версию о том, что Москва разрабатывает телеп...</td>\n",
       "      <td>tech</td>\n",
       "    </tr>\n",
       "    <tr>\n",
       "      <th>38</th>\n",
       "      <td>Легендарная фигуристка Ирина Роднина намерена стать главным олимпийцем\\nстраны. Она будет одним из семи претендентов на пост президента Олимпийского\\nкомитета России на выборах 22 декабря. О том, ...</td>\n",
       "      <td>sport</td>\n",
       "    </tr>\n",
       "    <tr>\n",
       "      <th>391</th>\n",
       "      <td>Residents.ru перестает существовать В начале ноября участники проекта\\nResidents.ru объявили о закрытии своего детища, существующего с 2003\\nгода. Отныне Kiriloff, Spirit, Berg и Feel расходятся, ...</td>\n",
       "      <td>culture</td>\n",
       "    </tr>\n",
       "  </tbody>\n",
       "</table>\n",
       "</div>"
      ],
      "text/plain": [
       "                                                                                                                                                                                                         text  \\\n",
       "769   Опередить инфаркт. В Витебске появился новый комплекс для лечения болезней сердца\\n\\n7 декабря 2016 в 8:03\\n\\nОНТ\\n\\nНовое оборудование появилось в ангиографическом кабинете областного кардиоцентр...   \n",
       "2847  Телеканал \"Пятница\" подал иск о защите репутации к пользователям социальной сети Facebook, которые обсуждали на страницах соцсети программу \"Ревизорро\", пишут \"Ведомости\". Ведущие \"Ревизорро\" пров...   \n",
       "1283  Путин пошутил о развитии телепортации в России\\n\\n9 декабря 2016 в 9:37\\n\\n42.TUT.BY\\n\\nПрезидент России Владимир Путин пошутил, предложив поддерживать версию о том, что Москва разрабатывает телеп...   \n",
       "38    Легендарная фигуристка Ирина Роднина намерена стать главным олимпийцем\\nстраны. Она будет одним из семи претендентов на пост президента Олимпийского\\nкомитета России на выборах 22 декабря. О том, ...   \n",
       "391   Residents.ru перестает существовать В начале ноября участники проекта\\nResidents.ru объявили о закрытии своего детища, существующего с 2003\\nгода. Отныне Kiriloff, Spirit, Berg и Feel расходятся, ...   \n",
       "\n",
       "           tag  \n",
       "769     social  \n",
       "2847  incident  \n",
       "1283      tech  \n",
       "38       sport  \n",
       "391    culture  "
      ]
     },
     "execution_count": 5,
     "metadata": {},
     "output_type": "execute_result"
    }
   ],
   "source": [
    "df.sample(5)"
   ]
  },
  {
   "cell_type": "code",
   "execution_count": 6,
   "metadata": {},
   "outputs": [
    {
     "data": {
      "text/plain": [
       "13"
      ]
     },
     "execution_count": 6,
     "metadata": {},
     "output_type": "execute_result"
    }
   ],
   "source": [
    "# df['text'].str.len().describe()\n",
    "df['tag'].drop_duplicates().count()"
   ]
  },
  {
   "cell_type": "markdown",
   "metadata": {},
   "source": [
    "## токенизация и очистка"
   ]
  },
  {
   "cell_type": "code",
   "execution_count": 12,
   "metadata": {},
   "outputs": [],
   "source": [
    "# with gzip.open('../data/text/stop-nltk.txt.gz','rt',encoding='utf-8') as f: \n",
    "#     stopwords = set([ w.strip() for w in  f.read().split() if w.strip() ] )\n",
    "\n",
    "# print('количество стоп-слов:',len(stopwords))\n",
    "# sorted(stopwords)\n",
    "\n",
    "from Stemmer import Stemmer\n",
    "# pacman -S python-pystemmer\n",
    "# pip install pystemmer"
   ]
  },
  {
   "cell_type": "code",
   "execution_count": 9,
   "metadata": {},
   "outputs": [],
   "source": [
    "# from nltk.stem.snowball import SnowballStemmer\n",
    "# from nltk.corpus import stopwords as nltk_stopwords\n",
    "\n",
    "# stopwords = set(nltk_stopwords.words('russian') )"
   ]
  },
  {
   "cell_type": "code",
   "execution_count": 13,
   "metadata": {},
   "outputs": [
    {
     "name": "stdout",
     "output_type": "stream",
     "text": [
      "CPU times: user 3.52 s, sys: 65.7 ms, total: 3.59 s\n",
      "Wall time: 3.61 s\n"
     ]
    }
   ],
   "source": [
    "%%time \n",
    "\n",
    "df['text_clean'] = df['text'].str.lower() # приведение в lowercase\n",
    "\n",
    "# замена символов-разделителей (-,_) на пробел\n",
    "df['text_clean'] = df['text_clean'].apply(lambda s: re.sub( r'\\W', ' ', s))\n",
    "df['text_clean'] = df['text_clean'].apply(lambda s: re.sub( r'_', ' ', s))\n",
    "\n",
    "# замена цифр\n",
    "df['text_clean'] = df['text_clean'].apply(lambda s: re.sub( r'\\b\\d+\\b', ' ', s))\n",
    "\n",
    "# делим строки на слова (токенизация)\n",
    "df['text_clean'] = df['text_clean'].apply(lambda t: [ w.strip() for w in t.split() if len(w.strip())>2 ] )\n",
    "\n",
    "# удаление лишних слов \n",
    "#df['text_clean'] = df['text_clean'].apply(lambda t:[w for w in t if w not in stopwords])\n",
    "\n",
    "# стемминг, выделение основы слова\n",
    "df['text_clean'] = df['text_clean'].apply( lambda t: Stemmer('russian').stemWords(t) )\n",
    "#df['text_clean'] = df['text_clean'].apply(lambda t:[ SnowballStemmer('russian').stem(w) for w in t if w])\n"
   ]
  },
  {
   "cell_type": "code",
   "execution_count": 14,
   "metadata": {},
   "outputs": [
    {
     "data": {
      "text/html": [
       "<div>\n",
       "<style scoped>\n",
       "    .dataframe tbody tr th:only-of-type {\n",
       "        vertical-align: middle;\n",
       "    }\n",
       "\n",
       "    .dataframe tbody tr th {\n",
       "        vertical-align: top;\n",
       "    }\n",
       "\n",
       "    .dataframe thead th {\n",
       "        text-align: right;\n",
       "    }\n",
       "</style>\n",
       "<table border=\"1\" class=\"dataframe\">\n",
       "  <thead>\n",
       "    <tr style=\"text-align: right;\">\n",
       "      <th></th>\n",
       "      <th>text_clean</th>\n",
       "    </tr>\n",
       "  </thead>\n",
       "  <tbody>\n",
       "    <tr>\n",
       "      <th>1674</th>\n",
       "      <td>[экс, президент, ссср, миха, горбач, заяв, что, границ, союз, может, появ, нов, объединен, котор, добровольн, войдут, бывш, советск, республик, отмет, что, качеств, возврат, ссср, так, невозможн, ...</td>\n",
       "    </tr>\n",
       "    <tr>\n",
       "      <th>1475</th>\n",
       "      <td>[ки, декабр, лидер, радикальн, парт, украин, олег, ляшк, раскритикова, надежд, савченк, встреч, глав, луганск, донецк, народн, республик, игор, плотницк, александр, захарченк, суд, текст, опублико...</td>\n",
       "    </tr>\n",
       "    <tr>\n",
       "      <th>1920</th>\n",
       "      <td>[президент, сша, барак, обам, арендова, офис, здан, всемирн, фонд, дик, природ, wwf, вашингтон, сообща, газет, washington, post, ссылк, источник, заключен, соглашен, аренд, пок, был, объявл, публи...</td>\n",
       "    </tr>\n",
       "  </tbody>\n",
       "</table>\n",
       "</div>"
      ],
      "text/plain": [
       "                                                                                                                                                                                                   text_clean\n",
       "1674  [экс, президент, ссср, миха, горбач, заяв, что, границ, союз, может, появ, нов, объединен, котор, добровольн, войдут, бывш, советск, республик, отмет, что, качеств, возврат, ссср, так, невозможн, ...\n",
       "1475  [ки, декабр, лидер, радикальн, парт, украин, олег, ляшк, раскритикова, надежд, савченк, встреч, глав, луганск, донецк, народн, республик, игор, плотницк, александр, захарченк, суд, текст, опублико...\n",
       "1920  [президент, сша, барак, обам, арендова, офис, здан, всемирн, фонд, дик, природ, wwf, вашингтон, сообща, газет, washington, post, ссылк, источник, заключен, соглашен, аренд, пок, был, объявл, публи..."
      ]
     },
     "execution_count": 14,
     "metadata": {},
     "output_type": "execute_result"
    }
   ],
   "source": [
    "df[['text_clean']].sample(3)"
   ]
  },
  {
   "cell_type": "code",
   "execution_count": null,
   "metadata": {},
   "outputs": [],
   "source": []
  }
 ],
 "metadata": {
  "kernelspec": {
   "display_name": "Python 3",
   "language": "python",
   "name": "python3"
  },
  "language_info": {
   "codemirror_mode": {
    "name": "ipython",
    "version": 3
   },
   "file_extension": ".py",
   "mimetype": "text/x-python",
   "name": "python",
   "nbconvert_exporter": "python",
   "pygments_lexer": "ipython3",
   "version": "3.8.1"
  },
  "toc": {
   "base_numbering": 1,
   "nav_menu": {},
   "number_sections": true,
   "sideBar": true,
   "skip_h1_title": false,
   "title_cell": "Table of Contents",
   "title_sidebar": "Contents",
   "toc_cell": false,
   "toc_position": {},
   "toc_section_display": true,
   "toc_window_display": false
  }
 },
 "nbformat": 4,
 "nbformat_minor": 2
}
