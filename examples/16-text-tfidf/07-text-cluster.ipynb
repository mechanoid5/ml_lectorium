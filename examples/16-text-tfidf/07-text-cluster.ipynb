{
 "cells": [
  {
   "cell_type": "markdown",
   "metadata": {},
   "source": [
    "**извлечение признаков из текста на естественном языке**\n",
    "\n",
    "кластеризатор текстов\n",
    "\n",
    "частотный анализ с очисткой стоп-слов (TF)\n",
    "\n",
    "Евгений Борисов borisov.e@solarl.ru"
   ]
  },
  {
   "cell_type": "markdown",
   "metadata": {},
   "source": [
    "## библиотеки"
   ]
  },
  {
   "cell_type": "code",
   "execution_count": 1,
   "metadata": {},
   "outputs": [],
   "source": [
    "import numpy as np\n",
    "import pandas as pd\n",
    "import re"
   ]
  },
  {
   "cell_type": "code",
   "execution_count": 2,
   "metadata": {},
   "outputs": [],
   "source": [
    "# from sklearn.model_selection import train_test_split\n",
    "# from sklearn.metrics import confusion_matrix\n",
    "# from sklearn.metrics import classification_report\n",
    "# from sklearn.metrics import accuracy_score"
   ]
  },
  {
   "cell_type": "code",
   "execution_count": 3,
   "metadata": {},
   "outputs": [],
   "source": [
    "%matplotlib inline"
   ]
  },
  {
   "cell_type": "code",
   "execution_count": 4,
   "metadata": {},
   "outputs": [],
   "source": [
    "pd.options.display.max_colwidth = 200  "
   ]
  },
  {
   "cell_type": "markdown",
   "metadata": {},
   "source": [
    "## тексты"
   ]
  },
  {
   "cell_type": "code",
   "execution_count": 5,
   "metadata": {},
   "outputs": [
    {
     "name": "stdout",
     "output_type": "stream",
     "text": [
      "записей: 3196\n"
     ]
    }
   ],
   "source": [
    "# загружаем тексты\n",
    "data = pd.read_pickle('../data/text/news.pkl.gz')\n",
    "print('записей:',len(data))"
   ]
  },
  {
   "cell_type": "code",
   "execution_count": 6,
   "metadata": {},
   "outputs": [
    {
     "data": {
      "text/html": [
       "<div>\n",
       "<style scoped>\n",
       "    .dataframe tbody tr th:only-of-type {\n",
       "        vertical-align: middle;\n",
       "    }\n",
       "\n",
       "    .dataframe tbody tr th {\n",
       "        vertical-align: top;\n",
       "    }\n",
       "\n",
       "    .dataframe thead th {\n",
       "        text-align: right;\n",
       "    }\n",
       "</style>\n",
       "<table border=\"1\" class=\"dataframe\">\n",
       "  <thead>\n",
       "    <tr style=\"text-align: right;\">\n",
       "      <th></th>\n",
       "      <th>text</th>\n",
       "      <th>tag</th>\n",
       "    </tr>\n",
       "  </thead>\n",
       "  <tbody>\n",
       "    <tr>\n",
       "      <th>900</th>\n",
       "      <td>Белорусская православная церковь все-таки снесет два здания 19 века под свой комплекс на Обойной\\n\\n7 декабря 2016 в 14:49\\n\\nЕлена Толкачева / REALTY.TUT.BY\\n\\nМногофункциональный духовно-просвет...</td>\n",
       "      <td>realty</td>\n",
       "    </tr>\n",
       "    <tr>\n",
       "      <th>2074</th>\n",
       "      <td>Вчера, 12 декабря, на НСК \"Олимпийский\" состоялась церемония \"Футбольные звезды Украины-2016\".\\n\\nПо итогам голосования футболистом года признан полузащитник \"Динамо\" Андрей Ярмоленко. На втором м...</td>\n",
       "      <td>sport</td>\n",
       "    </tr>\n",
       "  </tbody>\n",
       "</table>\n",
       "</div>"
      ],
      "text/plain": [
       "                                                                                                                                                                                                         text  \\\n",
       "900   Белорусская православная церковь все-таки снесет два здания 19 века под свой комплекс на Обойной\\n\\n7 декабря 2016 в 14:49\\n\\nЕлена Толкачева / REALTY.TUT.BY\\n\\nМногофункциональный духовно-просвет...   \n",
       "2074  Вчера, 12 декабря, на НСК \"Олимпийский\" состоялась церемония \"Футбольные звезды Украины-2016\".\\n\\nПо итогам голосования футболистом года признан полузащитник \"Динамо\" Андрей Ярмоленко. На втором м...   \n",
       "\n",
       "         tag  \n",
       "900   realty  \n",
       "2074   sport  "
      ]
     },
     "execution_count": 6,
     "metadata": {},
     "output_type": "execute_result"
    }
   ],
   "source": [
    "data.sample(2)"
   ]
  },
  {
   "cell_type": "markdown",
   "metadata": {},
   "source": [
    "---"
   ]
  },
  {
   "cell_type": "code",
   "execution_count": 7,
   "metadata": {},
   "outputs": [],
   "source": [
    "from nltk.stem.snowball import SnowballStemmer\n",
    "from nltk.corpus import stopwords as nltk_stopwords\n",
    "\n",
    "stopwords = set(nltk_stopwords.words('russian') )"
   ]
  },
  {
   "cell_type": "code",
   "execution_count": 8,
   "metadata": {},
   "outputs": [
    {
     "name": "stdout",
     "output_type": "stream",
     "text": [
      "CPU times: user 18.7 s, sys: 44.1 ms, total: 18.7 s\n",
      "Wall time: 18.8 s\n"
     ]
    }
   ],
   "source": [
    "%%time \n",
    "\n",
    "data['text_clean'] = data['text'].str.lower() # приведение в lowercase\n",
    "\n",
    "# замена символов-разделителей (-,_) на пробел\n",
    "data['text_clean'] = data['text_clean'].apply(lambda s: re.sub( r'\\W', ' ', s))\n",
    "data['text_clean'] = data['text_clean'].apply(lambda s: re.sub( r'_', ' ', s))\n",
    "\n",
    "# замена цифр\n",
    "data['text_clean'] = data['text_clean'].apply(lambda s: re.sub( r'\\b\\d+\\b', ' ', s))\n",
    "\n",
    "# делим строки на слова (токенизация)\n",
    "data['text_clean'] = data['text_clean'].apply(lambda t: [ w.strip() for w in t.split() if len(w.strip())>2 ] )\n",
    "\n",
    "# удаление лишних слов \n",
    "data['text_clean'] = data['text_clean'].apply(lambda t:[w for w in t if w not in stopwords])\n",
    "\n",
    "# стемминг, выделение основы слова\n",
    "# data['text_clean'] = data['text_clean'].apply( lambda t: Stemmer('russian').stemWords(t) )\n",
    "data['text_clean'] = data['text_clean'].apply(lambda t:[ SnowballStemmer('russian').stem(w) for w in t if w])\n"
   ]
  },
  {
   "cell_type": "code",
   "execution_count": 9,
   "metadata": {},
   "outputs": [],
   "source": [
    "data['text_clean'] = data['text_clean'].apply(lambda t:' '.join(t))"
   ]
  },
  {
   "cell_type": "code",
   "execution_count": 10,
   "metadata": {},
   "outputs": [
    {
     "data": {
      "text/html": [
       "<div>\n",
       "<style scoped>\n",
       "    .dataframe tbody tr th:only-of-type {\n",
       "        vertical-align: middle;\n",
       "    }\n",
       "\n",
       "    .dataframe tbody tr th {\n",
       "        vertical-align: top;\n",
       "    }\n",
       "\n",
       "    .dataframe thead th {\n",
       "        text-align: right;\n",
       "    }\n",
       "</style>\n",
       "<table border=\"1\" class=\"dataframe\">\n",
       "  <thead>\n",
       "    <tr style=\"text-align: right;\">\n",
       "      <th></th>\n",
       "      <th>text_clean</th>\n",
       "    </tr>\n",
       "  </thead>\n",
       "  <tbody>\n",
       "    <tr>\n",
       "      <th>580</th>\n",
       "      <td>поставск район столкнул грузовик renault пострада человек декабр aut tut человек получ травм различн степен тяжест дтп котор произошл днем ноябр вблиз деревн детков поставск район фот мчс сообщ мч...</td>\n",
       "    </tr>\n",
       "    <tr>\n",
       "      <th>2301</th>\n",
       "      <td>точн сумм определ индивидуальн исход ущерб имуществ вред здоров след недел начнут выплат компенсац пострада взрыв бытов газ советск гаван сообща порта губерн ссылк пресс служб правительств хабаров...</td>\n",
       "    </tr>\n",
       "  </tbody>\n",
       "</table>\n",
       "</div>"
      ],
      "text/plain": [
       "                                                                                                                                                                                                   text_clean\n",
       "580   поставск район столкнул грузовик renault пострада человек декабр aut tut человек получ травм различн степен тяжест дтп котор произошл днем ноябр вблиз деревн детков поставск район фот мчс сообщ мч...\n",
       "2301  точн сумм определ индивидуальн исход ущерб имуществ вред здоров след недел начнут выплат компенсац пострада взрыв бытов газ советск гаван сообща порта губерн ссылк пресс служб правительств хабаров..."
      ]
     },
     "execution_count": 10,
     "metadata": {},
     "output_type": "execute_result"
    }
   ],
   "source": [
    "data[['text_clean']].sample(2)"
   ]
  },
  {
   "cell_type": "markdown",
   "metadata": {},
   "source": [
    "##  CountVectorizer + TF"
   ]
  },
  {
   "cell_type": "code",
   "execution_count": 11,
   "metadata": {},
   "outputs": [],
   "source": [
    "from sklearn.feature_extraction.text import TfidfVectorizer"
   ]
  },
  {
   "cell_type": "code",
   "execution_count": 12,
   "metadata": {},
   "outputs": [
    {
     "data": {
      "text/plain": [
       "TfidfVectorizer(analyzer='word', binary=False, decode_error='strict',\n",
       "        dtype=<class 'numpy.float64'>, encoding='utf-8', input='content',\n",
       "        lowercase=True, max_df=1.0, max_features=None, min_df=1,\n",
       "        ngram_range=(1, 1), norm='l2', preprocessor=None, smooth_idf=True,\n",
       "        stop_words=None, strip_accents=None, sublinear_tf=False,\n",
       "        token_pattern='(?u)\\\\b\\\\w\\\\w+\\\\b', tokenizer=None, use_idf=True,\n",
       "        vocabulary=None)"
      ]
     },
     "execution_count": 12,
     "metadata": {},
     "output_type": "execute_result"
    }
   ],
   "source": [
    "tf = TfidfVectorizer(use_idf=True,norm='l2')\n",
    "# tf = TfidfVectorizer(use_idf=False,norm='l2')\n",
    "\n",
    "tf.fit( data['text_clean'] )"
   ]
  },
  {
   "cell_type": "code",
   "execution_count": 13,
   "metadata": {},
   "outputs": [
    {
     "data": {
      "text/plain": [
       "34798"
      ]
     },
     "execution_count": 13,
     "metadata": {},
     "output_type": "execute_result"
    }
   ],
   "source": [
    "len(tf.vocabulary_)"
   ]
  },
  {
   "cell_type": "markdown",
   "metadata": {},
   "source": [
    "## формируем датасет"
   ]
  },
  {
   "cell_type": "code",
   "execution_count": 14,
   "metadata": {},
   "outputs": [
    {
     "data": {
      "text/plain": [
       "(3196, 34798)"
      ]
     },
     "execution_count": 14,
     "metadata": {},
     "output_type": "execute_result"
    }
   ],
   "source": [
    "X = tf.transform( data['text_clean'] )\n",
    "X.shape"
   ]
  },
  {
   "cell_type": "markdown",
   "metadata": {},
   "source": [
    "## обучаем"
   ]
  },
  {
   "cell_type": "code",
   "execution_count": 16,
   "metadata": {},
   "outputs": [],
   "source": [
    "from sklearn.cluster import KMeans"
   ]
  },
  {
   "cell_type": "code",
   "execution_count": 18,
   "metadata": {},
   "outputs": [
    {
     "name": "stdout",
     "output_type": "stream",
     "text": [
      "CPU times: user 50.2 s, sys: 49.8 ms, total: 50.3 s\n",
      "Wall time: 42.3 s\n"
     ]
    }
   ],
   "source": [
    "%%time\n",
    "\n",
    "n_clusters = len(set(data['tag']))\n",
    "clust = KMeans(n_clusters=n_clusters, random_state=622 )\n",
    "clust.fit(X)"
   ]
  },
  {
   "cell_type": "code",
   "execution_count": 19,
   "metadata": {},
   "outputs": [],
   "source": [
    "data['cluster'] = clust.labels_"
   ]
  },
  {
   "cell_type": "markdown",
   "metadata": {},
   "source": [
    "## тестируем"
   ]
  },
  {
   "cell_type": "code",
   "execution_count": 25,
   "metadata": {},
   "outputs": [],
   "source": [
    "from matplotlib import pyplot as plt"
   ]
  },
  {
   "cell_type": "code",
   "execution_count": 27,
   "metadata": {},
   "outputs": [
    {
     "data": {
      "image/png": "[encoded data removed]",
      "text/plain": [
       "<Figure size 432x288 with 1 Axes>"
      ]
     },
     "metadata": {
      "needs_background": "light"
     },
     "output_type": "display_data"
    }
   ],
   "source": [
    "# размеры кластеров\n",
    "b = [ (data['cluster']==c).sum() for c in range(n_clusters) ]\n",
    "plt.bar(range(len(b)),b)\n",
    "plt.show()"
   ]
  },
  {
   "cell_type": "code",
   "execution_count": 29,
   "metadata": {},
   "outputs": [
    {
     "data": {
      "text/html": [
       "<div>\n",
       "<style scoped>\n",
       "    .dataframe tbody tr th:only-of-type {\n",
       "        vertical-align: middle;\n",
       "    }\n",
       "\n",
       "    .dataframe tbody tr th {\n",
       "        vertical-align: top;\n",
       "    }\n",
       "\n",
       "    .dataframe thead th {\n",
       "        text-align: right;\n",
       "    }\n",
       "</style>\n",
       "<table border=\"1\" class=\"dataframe\">\n",
       "  <thead>\n",
       "    <tr style=\"text-align: right;\">\n",
       "      <th></th>\n",
       "      <th>text</th>\n",
       "      <th>tag</th>\n",
       "    </tr>\n",
       "  </thead>\n",
       "  <tbody>\n",
       "    <tr>\n",
       "      <th>619</th>\n",
       "      <td>7 женщин, которых любил команданте Кастро\\n\\n3 декабря 2016 в 9:30\\n\\napril-knows.ru\\n\\nКубинцы не зря дали своему команданте прозвище Эль-Кабальо — Жеребец. По подсчетам неофициальных биографов, ...</td>\n",
       "      <td>woman</td>\n",
       "    </tr>\n",
       "    <tr>\n",
       "      <th>207</th>\n",
       "      <td>В Лондоне открылась выставка русской пикториальной фотографии В лондонском\\nСомерсет-хаусе открылась выставка уникальной русской и ранней советской\\nпикториальной фотографии. Всего в экспозиции пр...</td>\n",
       "      <td>culture</td>\n",
       "    </tr>\n",
       "    <tr>\n",
       "      <th>1285</th>\n",
       "      <td>Елка из истребителей: необычное поздравление от ВВС Швеции\\n\\n8 декабря 2016 в 16:43\\n\\nДенис Алдохин / 42.TUT.BY\\n\\nСегодня в небе Швеции можно было наблюдать рождественскую елку, построенную из ...</td>\n",
       "      <td>social</td>\n",
       "    </tr>\n",
       "    <tr>\n",
       "      <th>2409</th>\n",
       "      <td>ВАШИНГТОН, 12 дек – РИА Новости. Песней, танцами и легкостью может запомниться 2016 киногод: мюзикл \"Ла-ла-ленд\" ожидаемо получил большинство номинаций на премию Ассоциации зарубежных журналистов ...</td>\n",
       "      <td>culture</td>\n",
       "    </tr>\n",
       "    <tr>\n",
       "      <th>3175</th>\n",
       "      <td>Голос России - новости На Чукотке открылся фестиваль морских охотников\\n\"Берингия\" Культурно-спортивный фестиваль морских охотников \"Берингия\"\\nоткрылся сегодня на Чукотке. Туда съехались лучшие м...</td>\n",
       "      <td>culture</td>\n",
       "    </tr>\n",
       "    <tr>\n",
       "      <th>2585</th>\n",
       "      <td>РИАМО - 13 дек. Полная Луна помешает москвичам и жителям Подмосковья наблюдать звездопад Геминиды в ночь на 14 декабря, сообщил РИАМО во вторник представитель пресс-службы Московского планетария.\\...</td>\n",
       "      <td>science</td>\n",
       "    </tr>\n",
       "    <tr>\n",
       "      <th>430</th>\n",
       "      <td>Глава британской разведки МИ-6: Россия препятствует борьбе с ИГ\\n\\n8 декабря 2016 в 18:57\\n\\nРусская служба Би-би-си\\n\\nДжихадисты экстремистской группировки «Исламское государство» планируют напа...</td>\n",
       "      <td>politics</td>\n",
       "    </tr>\n",
       "    <tr>\n",
       "      <th>988</th>\n",
       "      <td>Бывший помощник Лукашенко нашел работу у российского миллионера Брынцалова\\n\\n2 декабря 2016 в 20:15\\n\\nTUT.BY\\n\\nБелорус Сергей Ткачев вошел в состав наблюдательного совета ПАО «Брынцалов-А». Об ...</td>\n",
       "      <td>economics</td>\n",
       "    </tr>\n",
       "    <tr>\n",
       "      <th>751</th>\n",
       "      <td>Дешевле и без простоя на границе. Ecolines будет ездить из Минска в литовские аэропорты\\n\\n7 декабря 2016 в 17:44\\n\\nTUT.BY\\n\\nКомпания Ecolines с 22 декабря открывает регулярные рейсы в аэропорты...</td>\n",
       "      <td>social</td>\n",
       "    </tr>\n",
       "    <tr>\n",
       "      <th>832</th>\n",
       "      <td>Адвокат Маруани: Киркорову и его адвокату грозит по 5 лет тюрьмы\\n\\n30 ноября 2016 в 22:18\\n\\nRFI\\n\\nИстория с задержанием в Москве известного французского музыканта Дидье Маруани по подозрению в ...</td>\n",
       "      <td>social</td>\n",
       "    </tr>\n",
       "  </tbody>\n",
       "</table>\n",
       "</div>"
      ],
      "text/plain": [
       "                                                                                                                                                                                                         text  \\\n",
       "619   7 женщин, которых любил команданте Кастро\\n\\n3 декабря 2016 в 9:30\\n\\napril-knows.ru\\n\\nКубинцы не зря дали своему команданте прозвище Эль-Кабальо — Жеребец. По подсчетам неофициальных биографов, ...   \n",
       "207   В Лондоне открылась выставка русской пикториальной фотографии В лондонском\\nСомерсет-хаусе открылась выставка уникальной русской и ранней советской\\nпикториальной фотографии. Всего в экспозиции пр...   \n",
       "1285  Елка из истребителей: необычное поздравление от ВВС Швеции\\n\\n8 декабря 2016 в 16:43\\n\\nДенис Алдохин / 42.TUT.BY\\n\\nСегодня в небе Швеции можно было наблюдать рождественскую елку, построенную из ...   \n",
       "2409  ВАШИНГТОН, 12 дек – РИА Новости. Песней, танцами и легкостью может запомниться 2016 киногод: мюзикл \"Ла-ла-ленд\" ожидаемо получил большинство номинаций на премию Ассоциации зарубежных журналистов ...   \n",
       "3175  Голос России - новости На Чукотке открылся фестиваль морских охотников\\n\"Берингия\" Культурно-спортивный фестиваль морских охотников \"Берингия\"\\nоткрылся сегодня на Чукотке. Туда съехались лучшие м...   \n",
       "2585  РИАМО - 13 дек. Полная Луна помешает москвичам и жителям Подмосковья наблюдать звездопад Геминиды в ночь на 14 декабря, сообщил РИАМО во вторник представитель пресс-службы Московского планетария.\\...   \n",
       "430   Глава британской разведки МИ-6: Россия препятствует борьбе с ИГ\\n\\n8 декабря 2016 в 18:57\\n\\nРусская служба Би-би-си\\n\\nДжихадисты экстремистской группировки «Исламское государство» планируют напа...   \n",
       "988   Бывший помощник Лукашенко нашел работу у российского миллионера Брынцалова\\n\\n2 декабря 2016 в 20:15\\n\\nTUT.BY\\n\\nБелорус Сергей Ткачев вошел в состав наблюдательного совета ПАО «Брынцалов-А». Об ...   \n",
       "751   Дешевле и без простоя на границе. Ecolines будет ездить из Минска в литовские аэропорты\\n\\n7 декабря 2016 в 17:44\\n\\nTUT.BY\\n\\nКомпания Ecolines с 22 декабря открывает регулярные рейсы в аэропорты...   \n",
       "832   Адвокат Маруани: Киркорову и его адвокату грозит по 5 лет тюрьмы\\n\\n30 ноября 2016 в 22:18\\n\\nRFI\\n\\nИстория с задержанием в Москве известного французского музыканта Дидье Маруани по подозрению в ...   \n",
       "\n",
       "            tag  \n",
       "619       woman  \n",
       "207     culture  \n",
       "1285     social  \n",
       "2409    culture  \n",
       "3175    culture  \n",
       "2585    science  \n",
       "430    politics  \n",
       "988   economics  \n",
       "751      social  \n",
       "832      social  "
      ]
     },
     "execution_count": 29,
     "metadata": {},
     "output_type": "execute_result"
    }
   ],
   "source": [
    "data[ data['cluster']==0 ][['text','tag']].sample(10)"
   ]
  },
  {
   "cell_type": "code",
   "execution_count": 22,
   "metadata": {},
   "outputs": [
    {
     "data": {
      "text/html": [
       "<div>\n",
       "<style scoped>\n",
       "    .dataframe tbody tr th:only-of-type {\n",
       "        vertical-align: middle;\n",
       "    }\n",
       "\n",
       "    .dataframe tbody tr th {\n",
       "        vertical-align: top;\n",
       "    }\n",
       "\n",
       "    .dataframe thead th {\n",
       "        text-align: right;\n",
       "    }\n",
       "</style>\n",
       "<table border=\"1\" class=\"dataframe\">\n",
       "  <thead>\n",
       "    <tr style=\"text-align: right;\">\n",
       "      <th></th>\n",
       "      <th>text</th>\n",
       "      <th>tag</th>\n",
       "    </tr>\n",
       "  </thead>\n",
       "  <tbody>\n",
       "    <tr>\n",
       "      <th>1977</th>\n",
       "      <td>Победивший на президентских выборах 8 ноября Дональд Трамп собирается сделать своим главным экономическим советником банкира.\\n\\nТрамп возлагает большие надежды на Гэри Кона\\n\\nКак сообщают СМИ, р...</td>\n",
       "      <td>politics</td>\n",
       "    </tr>\n",
       "    <tr>\n",
       "      <th>1921</th>\n",
       "      <td>Президент США Барак Обама после ухода с поста будет арендовать офис в здании Всемирного фонда дикой природы (WWF). Соответствующий договор уже заключен.\\n\\nВ Белом Доме информацию об аренде Обамой...</td>\n",
       "      <td>politics</td>\n",
       "    </tr>\n",
       "    <tr>\n",
       "      <th>1833</th>\n",
       "      <td>Избранный президент США Дональд Трамп перенес на январь 2017 года пресс-конференцию, на которой объявит о судьбе своей бизнес-империи после инаугурации, сообщает Bloomberg. По информации агентства...</td>\n",
       "      <td>politics</td>\n",
       "    </tr>\n",
       "    <tr>\n",
       "      <th>1832</th>\n",
       "      <td>Пресс-конференция Трампа, на которой он должен был объявить о своем уходе из бизнеса, была перенесена с ближайшего четверга на начало следующего года.\\n\\nКак сообщает РИА \"Новости\", пресс-конферен...</td>\n",
       "      <td>politics</td>\n",
       "    </tr>\n",
       "    <tr>\n",
       "      <th>465</th>\n",
       "      <td>Выборщик-республиканец из Техаса отказался голосовать за Трампа\\n\\n6 декабря 2016 в 7:06\\n\\nРусская служба Би-би-си\\n\\nЧлен коллегии выборщиков от штата Техас Крис Супрун, представляющий Республик...</td>\n",
       "      <td>politics</td>\n",
       "    </tr>\n",
       "    <tr>\n",
       "      <th>1933</th>\n",
       "      <td>Избранный президент США Дональд Трамп намерен рассказать, как поступит со своей бизнес-империей, в январе 2017 года. Об этом сообщил представитель миллиардера Шон Спайсер, передает Reuters.\\n\\nТра...</td>\n",
       "      <td>politics</td>\n",
       "    </tr>\n",
       "    <tr>\n",
       "      <th>443</th>\n",
       "      <td>\"Президент Разделенных Штатов Америки\". \"Человеком года\" по версии Time стал Дональд Трамп\\n\\nопубликовано: 7 декабря 2016 в 15:40\\n\\nобновлено: 7 декабря 2016 в 18:32\\n\\nTUT.BY\\n\\nТрадиционно в д...</td>\n",
       "      <td>politics</td>\n",
       "    </tr>\n",
       "    <tr>\n",
       "      <th>1427</th>\n",
       "      <td>В аппарате директора национальной разведки США не поддерживают выводов Центрального разведывательного управления (ЦРУ), которое допускает, что Дональд Трамп победил на президентских выборах в США ...</td>\n",
       "      <td>politics</td>\n",
       "    </tr>\n",
       "    <tr>\n",
       "      <th>1934</th>\n",
       "      <td>Избранный президент США Дональд Трамп перенес на январь заявление о его планах по выходу из бизнеса, чтобы избежать конфликта интересов. Об этом сообщает агентство Reuters со ссылкой на прессс-сек...</td>\n",
       "      <td>politics</td>\n",
       "    </tr>\n",
       "    <tr>\n",
       "      <th>1948</th>\n",
       "      <td>НЬЮ-ЙОРК, 13 декабря. /Корр. ТАСС Кирилл Волков/. Пересчет голосов, поданных на выборах президента США в штате Висконсин, завершен, республиканец Дональд Трамп признан на них победителем. Итоги пр...</td>\n",
       "      <td>politics</td>\n",
       "    </tr>\n",
       "  </tbody>\n",
       "</table>\n",
       "</div>"
      ],
      "text/plain": [
       "                                                                                                                                                                                                         text  \\\n",
       "1977  Победивший на президентских выборах 8 ноября Дональд Трамп собирается сделать своим главным экономическим советником банкира.\\n\\nТрамп возлагает большие надежды на Гэри Кона\\n\\nКак сообщают СМИ, р...   \n",
       "1921  Президент США Барак Обама после ухода с поста будет арендовать офис в здании Всемирного фонда дикой природы (WWF). Соответствующий договор уже заключен.\\n\\nВ Белом Доме информацию об аренде Обамой...   \n",
       "1833  Избранный президент США Дональд Трамп перенес на январь 2017 года пресс-конференцию, на которой объявит о судьбе своей бизнес-империи после инаугурации, сообщает Bloomberg. По информации агентства...   \n",
       "1832  Пресс-конференция Трампа, на которой он должен был объявить о своем уходе из бизнеса, была перенесена с ближайшего четверга на начало следующего года.\\n\\nКак сообщает РИА \"Новости\", пресс-конферен...   \n",
       "465   Выборщик-республиканец из Техаса отказался голосовать за Трампа\\n\\n6 декабря 2016 в 7:06\\n\\nРусская служба Би-би-си\\n\\nЧлен коллегии выборщиков от штата Техас Крис Супрун, представляющий Республик...   \n",
       "1933  Избранный президент США Дональд Трамп намерен рассказать, как поступит со своей бизнес-империей, в январе 2017 года. Об этом сообщил представитель миллиардера Шон Спайсер, передает Reuters.\\n\\nТра...   \n",
       "443   \"Президент Разделенных Штатов Америки\". \"Человеком года\" по версии Time стал Дональд Трамп\\n\\nопубликовано: 7 декабря 2016 в 15:40\\n\\nобновлено: 7 декабря 2016 в 18:32\\n\\nTUT.BY\\n\\nТрадиционно в д...   \n",
       "1427  В аппарате директора национальной разведки США не поддерживают выводов Центрального разведывательного управления (ЦРУ), которое допускает, что Дональд Трамп победил на президентских выборах в США ...   \n",
       "1934  Избранный президент США Дональд Трамп перенес на январь заявление о его планах по выходу из бизнеса, чтобы избежать конфликта интересов. Об этом сообщает агентство Reuters со ссылкой на прессс-сек...   \n",
       "1948  НЬЮ-ЙОРК, 13 декабря. /Корр. ТАСС Кирилл Волков/. Пересчет голосов, поданных на выборах президента США в штате Висконсин, завершен, республиканец Дональд Трамп признан на них победителем. Итоги пр...   \n",
       "\n",
       "           tag  \n",
       "1977  politics  \n",
       "1921  politics  \n",
       "1833  politics  \n",
       "1832  politics  \n",
       "465   politics  \n",
       "1933  politics  \n",
       "443   politics  \n",
       "1427  politics  \n",
       "1934  politics  \n",
       "1948  politics  "
      ]
     },
     "execution_count": 22,
     "metadata": {},
     "output_type": "execute_result"
    }
   ],
   "source": [
    "data[ data['cluster']==1 ][['text','tag']].sample(10)"
   ]
  },
  {
   "cell_type": "code",
   "execution_count": 23,
   "metadata": {},
   "outputs": [
    {
     "data": {
      "text/html": [
       "<div>\n",
       "<style scoped>\n",
       "    .dataframe tbody tr th:only-of-type {\n",
       "        vertical-align: middle;\n",
       "    }\n",
       "\n",
       "    .dataframe tbody tr th {\n",
       "        vertical-align: top;\n",
       "    }\n",
       "\n",
       "    .dataframe thead th {\n",
       "        text-align: right;\n",
       "    }\n",
       "</style>\n",
       "<table border=\"1\" class=\"dataframe\">\n",
       "  <thead>\n",
       "    <tr style=\"text-align: right;\">\n",
       "      <th></th>\n",
       "      <th>text</th>\n",
       "      <th>tag</th>\n",
       "    </tr>\n",
       "  </thead>\n",
       "  <tbody>\n",
       "    <tr>\n",
       "      <th>2383</th>\n",
       "      <td>Юридическим владельцем \"гелендвагена\" является 47-летний мужчина, который после наезда скрылся с места происшествия на другом автомобиле.\\n\\nУстановлена личность водителя, сбившего двух девочек во...</td>\n",
       "      <td>incident</td>\n",
       "    </tr>\n",
       "    <tr>\n",
       "      <th>2329</th>\n",
       "      <td>По данным следствия, на момент аварии правоохранительница была в состоянии алкогольного опьянения.\\n\\nВ Следственном комитете сообщили, что сбившая насмерть двух пешеходов бывшая сотрудница МУ МВД...</td>\n",
       "      <td>incident</td>\n",
       "    </tr>\n",
       "    <tr>\n",
       "      <th>2341</th>\n",
       "      <td>Под Ростовом на трассе М-4 \"Дон\" столкнулись два грузовика\\n\\nРОСТОВ-НА-ДОНУ, 12 дек — РИА Новости, Иван Капустин. Два грузовых автомобиля столкнулись на трассе М-4 \"Дон\" в Ростовской области, вод...</td>\n",
       "      <td>incident</td>\n",
       "    </tr>\n",
       "    <tr>\n",
       "      <th>537</th>\n",
       "      <td>В Минске при столкновении автомобилей на дорогу вылетел ребенок, сидевший на переднем сиденье\\n\\n6 декабря 2016 в 11:44\\n\\nAUTO.TUT.BY\\n\\nАвария произошла 5 декабря, около 20.50, на пересечении пр...</td>\n",
       "      <td>incident</td>\n",
       "    </tr>\n",
       "    <tr>\n",
       "      <th>2179</th>\n",
       "      <td>13.12.16 09:53\\n\\nКемерово. 13 декабря. ИНТЕРФАКС-СИБИРЬ - Бригада \"скорой помощи\", два спасателя и двое автомобилистов госпитализированы с травмами различной степени тяжести после ДТП на трассе \"...</td>\n",
       "      <td>incident</td>\n",
       "    </tr>\n",
       "    <tr>\n",
       "      <th>2307</th>\n",
       "      <td>В больнице Хабаровска скончалась одна из пострадавших при взрыве газа в Советской Гавани, сообщает РИА Новости. \"Женщина скончалась сегодня ночью\", - сказал представитель КГБУЗ \"Краевая Клиническа...</td>\n",
       "      <td>incident</td>\n",
       "    </tr>\n",
       "    <tr>\n",
       "      <th>2362</th>\n",
       "      <td>РИАМО - 13 дек. Дознаватель столичной полиции выпала из окна квартиры, расположенной на седьмом этаже жилого дома на улице Сумская в Москве, пострадавшая госпитализирована, сообщил РИАМО во вторни...</td>\n",
       "      <td>incident</td>\n",
       "    </tr>\n",
       "    <tr>\n",
       "      <th>550</th>\n",
       "      <td>В Ивьевском районе лоб в лоб столкнулись Audi и Daewoo: один человек погиб, трое — пострадали\\n\\n4 декабря 2016 в 13:10\\n\\nAUTO.TUT.BY\\n\\nОдин человек погиб и еще три получили травмы различной сте...</td>\n",
       "      <td>incident</td>\n",
       "    </tr>\n",
       "    <tr>\n",
       "      <th>2243</th>\n",
       "      <td>ОМСК, 13 декабря, РИА ФедералПресс. Следственный комитет нашел основания для возбуждения уголовного дела после смерти омского школьника на соревнованиях по баскетболу 5 ноября. Об этом сообщили в ...</td>\n",
       "      <td>incident</td>\n",
       "    </tr>\n",
       "    <tr>\n",
       "      <th>2345</th>\n",
       "      <td>Сотрудники правоохранительных органов в частном доме в Ростове-на-Дону нашли тела трех человек, - сообщил источник в силовых структурах региона.\\n\\n\"Все трое погибших - взрослые люди. Предположите...</td>\n",
       "      <td>incident</td>\n",
       "    </tr>\n",
       "  </tbody>\n",
       "</table>\n",
       "</div>"
      ],
      "text/plain": [
       "                                                                                                                                                                                                         text  \\\n",
       "2383  Юридическим владельцем \"гелендвагена\" является 47-летний мужчина, который после наезда скрылся с места происшествия на другом автомобиле.\\n\\nУстановлена личность водителя, сбившего двух девочек во...   \n",
       "2329  По данным следствия, на момент аварии правоохранительница была в состоянии алкогольного опьянения.\\n\\nВ Следственном комитете сообщили, что сбившая насмерть двух пешеходов бывшая сотрудница МУ МВД...   \n",
       "2341  Под Ростовом на трассе М-4 \"Дон\" столкнулись два грузовика\\n\\nРОСТОВ-НА-ДОНУ, 12 дек — РИА Новости, Иван Капустин. Два грузовых автомобиля столкнулись на трассе М-4 \"Дон\" в Ростовской области, вод...   \n",
       "537   В Минске при столкновении автомобилей на дорогу вылетел ребенок, сидевший на переднем сиденье\\n\\n6 декабря 2016 в 11:44\\n\\nAUTO.TUT.BY\\n\\nАвария произошла 5 декабря, около 20.50, на пересечении пр...   \n",
       "2179  13.12.16 09:53\\n\\nКемерово. 13 декабря. ИНТЕРФАКС-СИБИРЬ - Бригада \"скорой помощи\", два спасателя и двое автомобилистов госпитализированы с травмами различной степени тяжести после ДТП на трассе \"...   \n",
       "2307  В больнице Хабаровска скончалась одна из пострадавших при взрыве газа в Советской Гавани, сообщает РИА Новости. \"Женщина скончалась сегодня ночью\", - сказал представитель КГБУЗ \"Краевая Клиническа...   \n",
       "2362  РИАМО - 13 дек. Дознаватель столичной полиции выпала из окна квартиры, расположенной на седьмом этаже жилого дома на улице Сумская в Москве, пострадавшая госпитализирована, сообщил РИАМО во вторни...   \n",
       "550   В Ивьевском районе лоб в лоб столкнулись Audi и Daewoo: один человек погиб, трое — пострадали\\n\\n4 декабря 2016 в 13:10\\n\\nAUTO.TUT.BY\\n\\nОдин человек погиб и еще три получили травмы различной сте...   \n",
       "2243  ОМСК, 13 декабря, РИА ФедералПресс. Следственный комитет нашел основания для возбуждения уголовного дела после смерти омского школьника на соревнованиях по баскетболу 5 ноября. Об этом сообщили в ...   \n",
       "2345  Сотрудники правоохранительных органов в частном доме в Ростове-на-Дону нашли тела трех человек, - сообщил источник в силовых структурах региона.\\n\\n\"Все трое погибших - взрослые люди. Предположите...   \n",
       "\n",
       "           tag  \n",
       "2383  incident  \n",
       "2329  incident  \n",
       "2341  incident  \n",
       "537   incident  \n",
       "2179  incident  \n",
       "2307  incident  \n",
       "2362  incident  \n",
       "550   incident  \n",
       "2243  incident  \n",
       "2345  incident  "
      ]
     },
     "execution_count": 23,
     "metadata": {},
     "output_type": "execute_result"
    }
   ],
   "source": [
    "data[ data['cluster']==3 ][['text','tag']].sample(10)"
   ]
  },
  {
   "cell_type": "code",
   "execution_count": null,
   "metadata": {},
   "outputs": [],
   "source": []
  }
 ],
 "metadata": {
  "kernelspec": {
   "display_name": "Python 3",
   "language": "python",
   "name": "python3"
  },
  "language_info": {
   "codemirror_mode": {
    "name": "ipython",
    "version": 3
   },
   "file_extension": ".py",
   "mimetype": "text/x-python",
   "name": "python",
   "nbconvert_exporter": "python",
   "pygments_lexer": "ipython3",
   "version": "3.7.2"
  },
  "toc": {
   "base_numbering": 1,
   "nav_menu": {},
   "number_sections": true,
   "sideBar": true,
   "skip_h1_title": false,
   "title_cell": "Table of Contents",
   "title_sidebar": "Contents",
   "toc_cell": false,
   "toc_position": {},
   "toc_section_display": true,
   "toc_window_display": true
  }
 },
 "nbformat": 4,
 "nbformat_minor": 2
}
