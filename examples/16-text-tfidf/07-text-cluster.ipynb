{
 "cells": [
  {
   "cell_type": "markdown",
   "metadata": {},
   "source": [
    "**извлечение признаков из текста на естественном языке**\n",
    "\n",
    "кластеризатор текстов\n",
    "\n",
    "частотный анализ с очисткой стоп-слов (TF)\n",
    "\n",
    "Евгений Борисов borisov.e@solarl.ru"
   ]
  },
  {
   "cell_type": "markdown",
   "metadata": {},
   "source": [
    "## библиотеки"
   ]
  },
  {
   "cell_type": "code",
   "execution_count": 1,
   "metadata": {},
   "outputs": [],
   "source": [
    "import numpy as np\n",
    "import pandas as pd\n",
    "import re"
   ]
  },
  {
   "cell_type": "code",
   "execution_count": 2,
   "metadata": {},
   "outputs": [],
   "source": [
    "# from sklearn.model_selection import train_test_split\n",
    "# from sklearn.metrics import confusion_matrix\n",
    "# from sklearn.metrics import classification_report\n",
    "# from sklearn.metrics import accuracy_score"
   ]
  },
  {
   "cell_type": "code",
   "execution_count": 3,
   "metadata": {},
   "outputs": [],
   "source": [
    "%matplotlib inline"
   ]
  },
  {
   "cell_type": "code",
   "execution_count": 4,
   "metadata": {},
   "outputs": [],
   "source": [
    "pd.options.display.max_colwidth = 200  "
   ]
  },
  {
   "cell_type": "markdown",
   "metadata": {},
   "source": [
    "## тексты"
   ]
  },
  {
   "cell_type": "code",
   "execution_count": 5,
   "metadata": {},
   "outputs": [
    {
     "name": "stdout",
     "output_type": "stream",
     "text": [
      "записей: 3196\n"
     ]
    }
   ],
   "source": [
    "# загружаем тексты\n",
    "data = pd.read_pickle('../data/text/news.pkl.gz')\n",
    "print('записей:',len(data))"
   ]
  },
  {
   "cell_type": "code",
   "execution_count": 6,
   "metadata": {},
   "outputs": [
    {
     "data": {
      "text/html": [
       "<div>\n",
       "<style scoped>\n",
       "    .dataframe tbody tr th:only-of-type {\n",
       "        vertical-align: middle;\n",
       "    }\n",
       "\n",
       "    .dataframe tbody tr th {\n",
       "        vertical-align: top;\n",
       "    }\n",
       "\n",
       "    .dataframe thead th {\n",
       "        text-align: right;\n",
       "    }\n",
       "</style>\n",
       "<table border=\"1\" class=\"dataframe\">\n",
       "  <thead>\n",
       "    <tr style=\"text-align: right;\">\n",
       "      <th></th>\n",
       "      <th>text</th>\n",
       "      <th>tag</th>\n",
       "    </tr>\n",
       "  </thead>\n",
       "  <tbody>\n",
       "    <tr>\n",
       "      <th>318</th>\n",
       "      <td>На Марата Гельмана подали в суд за оскорбление религиозных чувств (3)В\\nЗамоскворецком суде Москвы началось рассмотрение иска девяти столичных\\nхудожников против Галереи Марата Гельмана и Централь...</td>\n",
       "      <td>culture</td>\n",
       "    </tr>\n",
       "    <tr>\n",
       "      <th>2707</th>\n",
       "      <td>Планируется, что ноутбук будет работать после попадания в воду, при температуре воздуха от -50 до 50 °С, а также после сильных ударов и вибраций.\\n\\n«Защищенные ноутбуки могут использоваться в ком...</td>\n",
       "      <td>tech</td>\n",
       "    </tr>\n",
       "  </tbody>\n",
       "</table>\n",
       "</div>"
      ],
      "text/plain": [
       "                                                                                                                                                                                                         text  \\\n",
       "318   На Марата Гельмана подали в суд за оскорбление религиозных чувств (3)В\\nЗамоскворецком суде Москвы началось рассмотрение иска девяти столичных\\nхудожников против Галереи Марата Гельмана и Централь...   \n",
       "2707  Планируется, что ноутбук будет работать после попадания в воду, при температуре воздуха от -50 до 50 °С, а также после сильных ударов и вибраций.\\n\\n«Защищенные ноутбуки могут использоваться в ком...   \n",
       "\n",
       "          tag  \n",
       "318   culture  \n",
       "2707     tech  "
      ]
     },
     "execution_count": 6,
     "metadata": {},
     "output_type": "execute_result"
    }
   ],
   "source": [
    "data.sample(2)"
   ]
  },
  {
   "cell_type": "markdown",
   "metadata": {},
   "source": [
    "---"
   ]
  },
  {
   "cell_type": "code",
   "execution_count": 7,
   "metadata": {},
   "outputs": [],
   "source": [
    "# from nltk import download as nltk_download\n",
    "# nltk_download('stopwords')"
   ]
  },
  {
   "cell_type": "code",
   "execution_count": 8,
   "metadata": {},
   "outputs": [],
   "source": [
    "# from Stemmer import Stemmer\n",
    "\n",
    "from nltk.stem.snowball import SnowballStemmer\n",
    "from nltk.corpus import stopwords as nltk_stopwords\n",
    "\n",
    "stopwords = set(nltk_stopwords.words('russian') )"
   ]
  },
  {
   "cell_type": "code",
   "execution_count": 9,
   "metadata": {},
   "outputs": [
    {
     "name": "stdout",
     "output_type": "stream",
     "text": [
      "CPU times: user 57.9 s, sys: 127 ms, total: 58 s\n",
      "Wall time: 58.3 s\n"
     ]
    }
   ],
   "source": [
    "%%time \n",
    "\n",
    "data['text_clean'] = data['text'].str.lower() # приведение в lowercase\n",
    "\n",
    "# замена символов-разделителей (-,_) на пробел\n",
    "data['text_clean'] = data['text_clean'].apply(lambda s: re.sub( r'\\W', ' ', s))\n",
    "data['text_clean'] = data['text_clean'].apply(lambda s: re.sub( r'_', ' ', s))\n",
    "\n",
    "# замена цифр\n",
    "data['text_clean'] = data['text_clean'].apply(lambda s: re.sub( r'\\b\\d+\\b', ' ', s))\n",
    "\n",
    "# делим строки на слова (токенизация)\n",
    "data['text_clean'] = data['text_clean'].apply(lambda t: [ w.strip() for w in t.split() if len(w.strip())>2 ] )\n",
    "\n",
    "# удаление лишних слов \n",
    "data['text_clean'] = data['text_clean'].apply(lambda t:[w for w in t if w not in stopwords])\n",
    "\n",
    "# стемминг, выделение основы слова\n",
    "# data['text_clean'] = data['text_clean'].apply( lambda t: Stemmer('russian').stemWords(t) )\n",
    "data['text_clean'] = data['text_clean'].apply(lambda t:[ SnowballStemmer('russian').stem(w) for w in t if w])\n"
   ]
  },
  {
   "cell_type": "code",
   "execution_count": 10,
   "metadata": {},
   "outputs": [],
   "source": [
    "data['text_clean'] = data['text_clean'].apply(lambda t:' '.join(t))"
   ]
  },
  {
   "cell_type": "code",
   "execution_count": 11,
   "metadata": {},
   "outputs": [
    {
     "data": {
      "text/html": [
       "<div>\n",
       "<style scoped>\n",
       "    .dataframe tbody tr th:only-of-type {\n",
       "        vertical-align: middle;\n",
       "    }\n",
       "\n",
       "    .dataframe tbody tr th {\n",
       "        vertical-align: top;\n",
       "    }\n",
       "\n",
       "    .dataframe thead th {\n",
       "        text-align: right;\n",
       "    }\n",
       "</style>\n",
       "<table border=\"1\" class=\"dataframe\">\n",
       "  <thead>\n",
       "    <tr style=\"text-align: right;\">\n",
       "      <th></th>\n",
       "      <th>text_clean</th>\n",
       "    </tr>\n",
       "  </thead>\n",
       "  <tbody>\n",
       "    <tr>\n",
       "      <th>166</th>\n",
       "      <td>гандбольн сборн росс чемпионат мир обыгра кита сборн росс перв матч разгром команд уругв втор игр доб побед сборн кит счет сопротивлен соперниц команд евген трефилов преодолел втор тайм</td>\n",
       "    </tr>\n",
       "    <tr>\n",
       "      <th>3086</th>\n",
       "      <td>департамент межнациональн отношен министерств региональн разв сми2 smi2 ден крещен рус определ цивилизацион пут развит стран введен росс нов памятн дат дня крещен рус эт преференц русск православн...</td>\n",
       "    </tr>\n",
       "  </tbody>\n",
       "</table>\n",
       "</div>"
      ],
      "text/plain": [
       "                                                                                                                                                                                                   text_clean\n",
       "166                 гандбольн сборн росс чемпионат мир обыгра кита сборн росс перв матч разгром команд уругв втор игр доб побед сборн кит счет сопротивлен соперниц команд евген трефилов преодолел втор тайм\n",
       "3086  департамент межнациональн отношен министерств региональн разв сми2 smi2 ден крещен рус определ цивилизацион пут развит стран введен росс нов памятн дат дня крещен рус эт преференц русск православн..."
      ]
     },
     "execution_count": 11,
     "metadata": {},
     "output_type": "execute_result"
    }
   ],
   "source": [
    "data[['text_clean']].sample(2)"
   ]
  },
  {
   "cell_type": "markdown",
   "metadata": {},
   "source": [
    "##  CountVectorizer + TF"
   ]
  },
  {
   "cell_type": "code",
   "execution_count": 12,
   "metadata": {},
   "outputs": [],
   "source": [
    "from sklearn.feature_extraction.text import TfidfVectorizer"
   ]
  },
  {
   "cell_type": "code",
   "execution_count": 13,
   "metadata": {},
   "outputs": [
    {
     "data": {
      "text/plain": [
       "TfidfVectorizer(analyzer='word', binary=False, decode_error='strict',\n",
       "                dtype=<class 'numpy.float64'>, encoding='utf-8',\n",
       "                input='content', lowercase=True, max_df=1.0, max_features=None,\n",
       "                min_df=1, ngram_range=(1, 1), norm='l2', preprocessor=None,\n",
       "                smooth_idf=True, stop_words=None, strip_accents=None,\n",
       "                sublinear_tf=False, token_pattern='(?u)\\\\b\\\\w\\\\w+\\\\b',\n",
       "                tokenizer=None, use_idf=True, vocabulary=None)"
      ]
     },
     "execution_count": 13,
     "metadata": {},
     "output_type": "execute_result"
    }
   ],
   "source": [
    "tf = TfidfVectorizer(use_idf=True,norm='l2')\n",
    "# tf = TfidfVectorizer(use_idf=False,norm='l2')\n",
    "\n",
    "tf.fit( data['text_clean'] )"
   ]
  },
  {
   "cell_type": "code",
   "execution_count": 14,
   "metadata": {},
   "outputs": [
    {
     "data": {
      "text/plain": [
       "34887"
      ]
     },
     "execution_count": 14,
     "metadata": {},
     "output_type": "execute_result"
    }
   ],
   "source": [
    "len(tf.vocabulary_)"
   ]
  },
  {
   "cell_type": "markdown",
   "metadata": {},
   "source": [
    "## формируем датасет"
   ]
  },
  {
   "cell_type": "code",
   "execution_count": 15,
   "metadata": {},
   "outputs": [
    {
     "data": {
      "text/plain": [
       "(3196, 34887)"
      ]
     },
     "execution_count": 15,
     "metadata": {},
     "output_type": "execute_result"
    }
   ],
   "source": [
    "X = tf.transform( data['text_clean'] )\n",
    "X.shape"
   ]
  },
  {
   "cell_type": "markdown",
   "metadata": {},
   "source": [
    "## обучаем"
   ]
  },
  {
   "cell_type": "code",
   "execution_count": 16,
   "metadata": {},
   "outputs": [],
   "source": [
    "from sklearn.cluster import KMeans"
   ]
  },
  {
   "cell_type": "code",
   "execution_count": 17,
   "metadata": {},
   "outputs": [
    {
     "name": "stdout",
     "output_type": "stream",
     "text": [
      "CPU times: user 2min 22s, sys: 384 ms, total: 2min 22s\n",
      "Wall time: 2min 26s\n"
     ]
    },
    {
     "data": {
      "text/plain": [
       "KMeans(algorithm='auto', copy_x=True, init='k-means++', max_iter=300,\n",
       "       n_clusters=13, n_init=10, n_jobs=None, precompute_distances='auto',\n",
       "       random_state=622, tol=0.0001, verbose=0)"
      ]
     },
     "execution_count": 17,
     "metadata": {},
     "output_type": "execute_result"
    }
   ],
   "source": [
    "%%time\n",
    "\n",
    "n_clusters = len(set(data['tag']))\n",
    "clust = KMeans(n_clusters=n_clusters, random_state=622 )\n",
    "clust.fit(X)"
   ]
  },
  {
   "cell_type": "code",
   "execution_count": 18,
   "metadata": {},
   "outputs": [],
   "source": [
    "data['cluster'] = clust.labels_"
   ]
  },
  {
   "cell_type": "markdown",
   "metadata": {},
   "source": [
    "## тестируем"
   ]
  },
  {
   "cell_type": "code",
   "execution_count": 19,
   "metadata": {},
   "outputs": [],
   "source": [
    "from matplotlib import pyplot as plt"
   ]
  },
  {
   "cell_type": "code",
   "execution_count": 20,
   "metadata": {},
   "outputs": [
    {
     "data": {
      "image/png": "[encoded data removed]",
      "text/plain": [
       "<Figure size 432x288 with 1 Axes>"
      ]
     },
     "metadata": {
      "needs_background": "light"
     },
     "output_type": "display_data"
    }
   ],
   "source": [
    "# размеры кластеров\n",
    "b = [ (data['cluster']==c).sum() for c in range(n_clusters) ]\n",
    "plt.bar(range(len(b)),b)\n",
    "plt.show()"
   ]
  },
  {
   "cell_type": "code",
   "execution_count": 21,
   "metadata": {},
   "outputs": [
    {
     "data": {
      "text/html": [
       "<div>\n",
       "<style scoped>\n",
       "    .dataframe tbody tr th:only-of-type {\n",
       "        vertical-align: middle;\n",
       "    }\n",
       "\n",
       "    .dataframe tbody tr th {\n",
       "        vertical-align: top;\n",
       "    }\n",
       "\n",
       "    .dataframe thead th {\n",
       "        text-align: right;\n",
       "    }\n",
       "</style>\n",
       "<table border=\"1\" class=\"dataframe\">\n",
       "  <thead>\n",
       "    <tr style=\"text-align: right;\">\n",
       "      <th></th>\n",
       "      <th>text</th>\n",
       "      <th>tag</th>\n",
       "    </tr>\n",
       "  </thead>\n",
       "  <tbody>\n",
       "    <tr>\n",
       "      <th>1194</th>\n",
       "      <td>Минчане пожаловались в прокуратуру на администрацию Советского района\\n\\n28 ноября 2016 в 14:29\\n\\nЕлена Толкачева / REALTY.TUT.BY\\n\\nИнициативная группа жителей Советского района направила в райо...</td>\n",
       "      <td>realty</td>\n",
       "    </tr>\n",
       "    <tr>\n",
       "      <th>236</th>\n",
       "      <td>Шедевры Пушкинского музея уже в Москве В Москву прибыл первый из четырех\\nгрузовиков с картинами из коллекции Государственного музея изобразительных\\nискусств имени Пушкина, задержанными более нед...</td>\n",
       "      <td>culture</td>\n",
       "    </tr>\n",
       "    <tr>\n",
       "      <th>926</th>\n",
       "      <td>Правозащитники Amnesty International призывают не допустить казни \"последнего белорусского смертника\"\\n\\n9 декабря 2016 в 14:38\\n\\nБелаПАН / TUT.BY\\n\\nПравозащитная организация Amnesty Internation...</td>\n",
       "      <td>social</td>\n",
       "    </tr>\n",
       "    <tr>\n",
       "      <th>2471</th>\n",
       "      <td>Вашингтон, , 08:42 — REGNUM Пятилетний мальчик, страдавший смертельным недугом, скончался в объятьях Санта-Клауса в американском штате Теннеси. Ребенок боялся, что не успеет дожить до Рождества и ...</td>\n",
       "      <td>culture</td>\n",
       "    </tr>\n",
       "    <tr>\n",
       "      <th>2233</th>\n",
       "      <td>Подростка записали на прием к кардиологу, но попасть к врачу парень не успел Фото: Личная страничка героя публикации в соцсети\\n\\nРегиональны следком возбуждено уголовное дело после смерти 16-летн...</td>\n",
       "      <td>incident</td>\n",
       "    </tr>\n",
       "    <tr>\n",
       "      <th>703</th>\n",
       "      <td>Песни Мулявина, вышиванки и победитель из провинции. В Dozari прошел \"Студент года\" от БРСМ\\n\\n9 декабря 2016 в 12:52\\n\\nМайя Кохно / Фото: Евгений Ерчак / TUT.BY\\n\\nВ четверг, 8 декабря, в столич...</td>\n",
       "      <td>politics</td>\n",
       "    </tr>\n",
       "    <tr>\n",
       "      <th>1351</th>\n",
       "      <td>Новые Android-смартфоны Nokia появятся в начале 2017 года\\n\\n1 декабря 2016 в 15:56\\n\\n42.TUT.BY\\n\\nКомпания Nokia объявила о завершении сделки с HMD Global, которая получает права на производство...</td>\n",
       "      <td>tech</td>\n",
       "    </tr>\n",
       "    <tr>\n",
       "      <th>617</th>\n",
       "      <td>Крылья, ноги и бюстгальтер за три миллиона: как прошло шоу Victoria's Secret в Париже\\n\\n4 декабря 2016 в 9:27\\n\\nГазета.Ru\\n\\nВ конце ноября в Париже прошел секретный показ Victoria’s Secret — са...</td>\n",
       "      <td>woman</td>\n",
       "    </tr>\n",
       "    <tr>\n",
       "      <th>153</th>\n",
       "      <td>США помогут Китаю минимизировать ущерб от отравления реки Сунгари Как\\nуже сообщало ИА REGNUM , Пекин ранее извинился за загрязнение Сунгари\\nнитробензолом в результате аварии на химическом заводе...</td>\n",
       "      <td>health</td>\n",
       "    </tr>\n",
       "    <tr>\n",
       "      <th>661</th>\n",
       "      <td>Конференция для тех, кого заботит безопасность дочерей\\n\\n2 декабря 2016 в 9:00\\n\\nPR-служба TUT.BY\\n\\nАктовый зал заполнен школьницами четвертых, пятых, шестых классов.\\n\\n— Поднимите, пожалуйста...</td>\n",
       "      <td>social</td>\n",
       "    </tr>\n",
       "  </tbody>\n",
       "</table>\n",
       "</div>"
      ],
      "text/plain": [
       "                                                                                                                                                                                                         text  \\\n",
       "1194  Минчане пожаловались в прокуратуру на администрацию Советского района\\n\\n28 ноября 2016 в 14:29\\n\\nЕлена Толкачева / REALTY.TUT.BY\\n\\nИнициативная группа жителей Советского района направила в райо...   \n",
       "236   Шедевры Пушкинского музея уже в Москве В Москву прибыл первый из четырех\\nгрузовиков с картинами из коллекции Государственного музея изобразительных\\nискусств имени Пушкина, задержанными более нед...   \n",
       "926   Правозащитники Amnesty International призывают не допустить казни \"последнего белорусского смертника\"\\n\\n9 декабря 2016 в 14:38\\n\\nБелаПАН / TUT.BY\\n\\nПравозащитная организация Amnesty Internation...   \n",
       "2471  Вашингтон, , 08:42 — REGNUM Пятилетний мальчик, страдавший смертельным недугом, скончался в объятьях Санта-Клауса в американском штате Теннеси. Ребенок боялся, что не успеет дожить до Рождества и ...   \n",
       "2233  Подростка записали на прием к кардиологу, но попасть к врачу парень не успел Фото: Личная страничка героя публикации в соцсети\\n\\nРегиональны следком возбуждено уголовное дело после смерти 16-летн...   \n",
       "703   Песни Мулявина, вышиванки и победитель из провинции. В Dozari прошел \"Студент года\" от БРСМ\\n\\n9 декабря 2016 в 12:52\\n\\nМайя Кохно / Фото: Евгений Ерчак / TUT.BY\\n\\nВ четверг, 8 декабря, в столич...   \n",
       "1351  Новые Android-смартфоны Nokia появятся в начале 2017 года\\n\\n1 декабря 2016 в 15:56\\n\\n42.TUT.BY\\n\\nКомпания Nokia объявила о завершении сделки с HMD Global, которая получает права на производство...   \n",
       "617   Крылья, ноги и бюстгальтер за три миллиона: как прошло шоу Victoria's Secret в Париже\\n\\n4 декабря 2016 в 9:27\\n\\nГазета.Ru\\n\\nВ конце ноября в Париже прошел секретный показ Victoria’s Secret — са...   \n",
       "153   США помогут Китаю минимизировать ущерб от отравления реки Сунгари Как\\nуже сообщало ИА REGNUM , Пекин ранее извинился за загрязнение Сунгари\\nнитробензолом в результате аварии на химическом заводе...   \n",
       "661   Конференция для тех, кого заботит безопасность дочерей\\n\\n2 декабря 2016 в 9:00\\n\\nPR-служба TUT.BY\\n\\nАктовый зал заполнен школьницами четвертых, пятых, шестых классов.\\n\\n— Поднимите, пожалуйста...   \n",
       "\n",
       "           tag  \n",
       "1194    realty  \n",
       "236    culture  \n",
       "926     social  \n",
       "2471   culture  \n",
       "2233  incident  \n",
       "703   politics  \n",
       "1351      tech  \n",
       "617      woman  \n",
       "153     health  \n",
       "661     social  "
      ]
     },
     "execution_count": 21,
     "metadata": {},
     "output_type": "execute_result"
    }
   ],
   "source": [
    "data[ data['cluster']==0 ][['text','tag']].sample(10)"
   ]
  },
  {
   "cell_type": "code",
   "execution_count": 22,
   "metadata": {},
   "outputs": [
    {
     "data": {
      "text/html": [
       "<div>\n",
       "<style scoped>\n",
       "    .dataframe tbody tr th:only-of-type {\n",
       "        vertical-align: middle;\n",
       "    }\n",
       "\n",
       "    .dataframe tbody tr th {\n",
       "        vertical-align: top;\n",
       "    }\n",
       "\n",
       "    .dataframe thead th {\n",
       "        text-align: right;\n",
       "    }\n",
       "</style>\n",
       "<table border=\"1\" class=\"dataframe\">\n",
       "  <thead>\n",
       "    <tr style=\"text-align: right;\">\n",
       "      <th></th>\n",
       "      <th>text</th>\n",
       "      <th>tag</th>\n",
       "    </tr>\n",
       "  </thead>\n",
       "  <tbody>\n",
       "    <tr>\n",
       "      <th>1963</th>\n",
       "      <td>Человеком года по версии авторитетной американской газеты Financial Times стал избранный президент США Дональд Трамп, триумф которого на выборах главы государства был крайне неожиданным, а его пер...</td>\n",
       "      <td>politics</td>\n",
       "    </tr>\n",
       "    <tr>\n",
       "      <th>1384</th>\n",
       "      <td>Избранный президент США Дональд Трамп позвонил бывшему кандидату в американские президенты в 2008 году Митту Ромни, уведомив, что тот не рассматривается в качестве кандидата на пост госсекретаря. ...</td>\n",
       "      <td>politics</td>\n",
       "    </tr>\n",
       "    <tr>\n",
       "      <th>1431</th>\n",
       "      <td>Во вторник, 13 декабря, в СМИ появилась информация, что Национальная разведка США не поддерживает оценок Центрального разведывательного управления (ЦРУ), согласно которым российские власти якобы о...</td>\n",
       "      <td>politics</td>\n",
       "    </tr>\n",
       "    <tr>\n",
       "      <th>1601</th>\n",
       "      <td>Фото: EPA\\n\\nАмериканский предприниматель и избранный президент США Дональд Трамп заявил о намерении уйти из бизнеса до получения президентских полномочий. Об этом он сообщил через Twitter. Он нам...</td>\n",
       "      <td>politics</td>\n",
       "    </tr>\n",
       "    <tr>\n",
       "      <th>1920</th>\n",
       "      <td>Президент США Барак Обама арендовал офис в здании Всемирного фонда дикой природы (WWF) в Вашингтоне, сообщает газета Washington Post со ссылкой на источники. О заключении соглашения об аренде пока...</td>\n",
       "      <td>politics</td>\n",
       "    </tr>\n",
       "    <tr>\n",
       "      <th>1949</th>\n",
       "      <td>Пересчет голосов в Висконсине принес Трампу еще 131 голос. Это о его противниках сказано: как считали -веселились, подсчитали - прослезились</td>\n",
       "      <td>politics</td>\n",
       "    </tr>\n",
       "    <tr>\n",
       "      <th>1946</th>\n",
       "      <td>Пересчет голосов в американском штате Висконсин подтвердил победу Дональда Трампа на выборах президента США. Он обошел свою соперницу — демократического кандидата Хиллари Клинтон — на 22 тысячи го...</td>\n",
       "      <td>politics</td>\n",
       "    </tr>\n",
       "    <tr>\n",
       "      <th>443</th>\n",
       "      <td>\"Президент Разделенных Штатов Америки\". \"Человеком года\" по версии Time стал Дональд Трамп\\n\\nопубликовано: 7 декабря 2016 в 15:40\\n\\nобновлено: 7 декабря 2016 в 18:32\\n\\nTUT.BY\\n\\nТрадиционно в д...</td>\n",
       "      <td>politics</td>\n",
       "    </tr>\n",
       "    <tr>\n",
       "      <th>1383</th>\n",
       "      <td>Экс-кандидат в президенты США от республиканцев Митт Ромни выбыл из списка претендентов на пост госсекретаря в администрации Дональда Трампа.\\r\\n\\r\\n\\r\\nПо информации телеканала CNN, миллиардер со...</td>\n",
       "      <td>politics</td>\n",
       "    </tr>\n",
       "    <tr>\n",
       "      <th>1960</th>\n",
       "      <td>Фотогалерея Президент Трамп: как миллиардер стал хозяином Белого дома\\n\\nДональд Трамп станет президентом США. Официальные итоги еще не подведены, однако Хиллари Клинтон уже позвонила ему и призна...</td>\n",
       "      <td>politics</td>\n",
       "    </tr>\n",
       "  </tbody>\n",
       "</table>\n",
       "</div>"
      ],
      "text/plain": [
       "                                                                                                                                                                                                         text  \\\n",
       "1963  Человеком года по версии авторитетной американской газеты Financial Times стал избранный президент США Дональд Трамп, триумф которого на выборах главы государства был крайне неожиданным, а его пер...   \n",
       "1384  Избранный президент США Дональд Трамп позвонил бывшему кандидату в американские президенты в 2008 году Митту Ромни, уведомив, что тот не рассматривается в качестве кандидата на пост госсекретаря. ...   \n",
       "1431  Во вторник, 13 декабря, в СМИ появилась информация, что Национальная разведка США не поддерживает оценок Центрального разведывательного управления (ЦРУ), согласно которым российские власти якобы о...   \n",
       "1601  Фото: EPA\\n\\nАмериканский предприниматель и избранный президент США Дональд Трамп заявил о намерении уйти из бизнеса до получения президентских полномочий. Об этом он сообщил через Twitter. Он нам...   \n",
       "1920  Президент США Барак Обама арендовал офис в здании Всемирного фонда дикой природы (WWF) в Вашингтоне, сообщает газета Washington Post со ссылкой на источники. О заключении соглашения об аренде пока...   \n",
       "1949                                                             Пересчет голосов в Висконсине принес Трампу еще 131 голос. Это о его противниках сказано: как считали -веселились, подсчитали - прослезились   \n",
       "1946  Пересчет голосов в американском штате Висконсин подтвердил победу Дональда Трампа на выборах президента США. Он обошел свою соперницу — демократического кандидата Хиллари Клинтон — на 22 тысячи го...   \n",
       "443   \"Президент Разделенных Штатов Америки\". \"Человеком года\" по версии Time стал Дональд Трамп\\n\\nопубликовано: 7 декабря 2016 в 15:40\\n\\nобновлено: 7 декабря 2016 в 18:32\\n\\nTUT.BY\\n\\nТрадиционно в д...   \n",
       "1383  Экс-кандидат в президенты США от республиканцев Митт Ромни выбыл из списка претендентов на пост госсекретаря в администрации Дональда Трампа.\\r\\n\\r\\n\\r\\nПо информации телеканала CNN, миллиардер со...   \n",
       "1960  Фотогалерея Президент Трамп: как миллиардер стал хозяином Белого дома\\n\\nДональд Трамп станет президентом США. Официальные итоги еще не подведены, однако Хиллари Клинтон уже позвонила ему и призна...   \n",
       "\n",
       "           tag  \n",
       "1963  politics  \n",
       "1384  politics  \n",
       "1431  politics  \n",
       "1601  politics  \n",
       "1920  politics  \n",
       "1949  politics  \n",
       "1946  politics  \n",
       "443   politics  \n",
       "1383  politics  \n",
       "1960  politics  "
      ]
     },
     "execution_count": 22,
     "metadata": {},
     "output_type": "execute_result"
    }
   ],
   "source": [
    "data[ data['cluster']==1 ][['text','tag']].sample(10)"
   ]
  },
  {
   "cell_type": "code",
   "execution_count": 23,
   "metadata": {},
   "outputs": [
    {
     "data": {
      "text/html": [
       "<div>\n",
       "<style scoped>\n",
       "    .dataframe tbody tr th:only-of-type {\n",
       "        vertical-align: middle;\n",
       "    }\n",
       "\n",
       "    .dataframe tbody tr th {\n",
       "        vertical-align: top;\n",
       "    }\n",
       "\n",
       "    .dataframe thead th {\n",
       "        text-align: right;\n",
       "    }\n",
       "</style>\n",
       "<table border=\"1\" class=\"dataframe\">\n",
       "  <thead>\n",
       "    <tr style=\"text-align: right;\">\n",
       "      <th></th>\n",
       "      <th>text</th>\n",
       "      <th>tag</th>\n",
       "    </tr>\n",
       "  </thead>\n",
       "  <tbody>\n",
       "    <tr>\n",
       "      <th>547</th>\n",
       "      <td>На трассе М6 авария с тяжелыми последствиями: VW Golf въехал в поворачивающий МАЗ\\n\\n5 декабря 2016 в 9:43\\n\\nAUTO.TUT.BY\\n\\nВ воскресенье, 4 декабря, на трассе М6 VW Golf въехал в МАЗ. Легковушка...</td>\n",
       "      <td>incident</td>\n",
       "    </tr>\n",
       "    <tr>\n",
       "      <th>2258</th>\n",
       "      <td>Более 20 солдат были ранены в результате взрыва, произошедшего во вторник на военной базе в Южной Корее. Об этом сообщает агентство \"Рёнхап\".\\n\\nИнцидент произошел в городе Ульсан, расположенном в...</td>\n",
       "      <td>incident</td>\n",
       "    </tr>\n",
       "    <tr>\n",
       "      <th>2323</th>\n",
       "      <td>Сотрудница межмуниципального управления МВД России «Серпуховское», находившаяся за рулем в пьяном виде, насмерть сбила двоих человек в Подмосковье.\\n\\nПо информации главного управления МВД по Моск...</td>\n",
       "      <td>incident</td>\n",
       "    </tr>\n",
       "    <tr>\n",
       "      <th>2186</th>\n",
       "      <td>Главная\\n\\n»\\n\\nНовости\\n\\n»\\n\\nТранспорт\\n\\nВрачи скорой помощи и сотрудники МЧС теперь сами нуждаются в помощи из-за наезда КАМАЗа\\n\\nБригада скорой помощи, два спасателя и двое автомобилистов г...</td>\n",
       "      <td>incident</td>\n",
       "    </tr>\n",
       "    <tr>\n",
       "      <th>2325</th>\n",
       "      <td>Установлены личности пешеходов, погибших в результате наезда сотрудницы полиции в Серпухове. Погибшими оказались супруги Виталий и Елена Ш.\\n\\nФото: vk.com\\n\\nПо факту нарушения ПДД, повлекшего по...</td>\n",
       "      <td>incident</td>\n",
       "    </tr>\n",
       "    <tr>\n",
       "      <th>2343</th>\n",
       "      <td>13 декабря 2016, 01:56\\n\\nСемья из трех человек погибла в результате отравления газом в Ростове-на-Дону\\n\\nУгарный газ скопился во время работы отопительного котла при замусоренном дымоходе, заяви...</td>\n",
       "      <td>incident</td>\n",
       "    </tr>\n",
       "    <tr>\n",
       "      <th>2184</th>\n",
       "      <td>В Кемеровской области полицейские устанавливают обстоятельства серии ДТП с участием 9 автомобилей.\\n\\n\\n\\n\\n\\n\\n\\n«Сегодня около 11:00 с небольшими временными интервалами на 106-м км дороги первой...</td>\n",
       "      <td>incident</td>\n",
       "    </tr>\n",
       "    <tr>\n",
       "      <th>1221</th>\n",
       "      <td>В Минске водитель Mercedes дрифтовал на площадке перед монументом Победы. Возбуждено уголовное дело\\n\\n6 декабря 2016 в 17:55\\n\\nБелаПАН\\n\\nПрокурор Партизанского района Минска Сергей Борисенко 6 ...</td>\n",
       "      <td>auto</td>\n",
       "    </tr>\n",
       "    <tr>\n",
       "      <th>2312</th>\n",
       "      <td>Сотрудница полиции, которая на своем автомобиле сбила насмерть двух пешеходов в Серпухове, уволена со службы в органах внутренних дел по отрицательным мотивам. Об этом сообщила официальный предста...</td>\n",
       "      <td>incident</td>\n",
       "    </tr>\n",
       "    <tr>\n",
       "      <th>1260</th>\n",
       "      <td>Пять скандальных случаев с участием нетрезвых сотрудников милиции за рулем\\n\\n28 ноября 2016 в 18:57\\n\\nАнастасия Солонович, Naviny.by\\n\\nВ Ляховичском районе в эти выходные пьяный и. о. начальник...</td>\n",
       "      <td>auto</td>\n",
       "    </tr>\n",
       "  </tbody>\n",
       "</table>\n",
       "</div>"
      ],
      "text/plain": [
       "                                                                                                                                                                                                         text  \\\n",
       "547   На трассе М6 авария с тяжелыми последствиями: VW Golf въехал в поворачивающий МАЗ\\n\\n5 декабря 2016 в 9:43\\n\\nAUTO.TUT.BY\\n\\nВ воскресенье, 4 декабря, на трассе М6 VW Golf въехал в МАЗ. Легковушка...   \n",
       "2258  Более 20 солдат были ранены в результате взрыва, произошедшего во вторник на военной базе в Южной Корее. Об этом сообщает агентство \"Рёнхап\".\\n\\nИнцидент произошел в городе Ульсан, расположенном в...   \n",
       "2323  Сотрудница межмуниципального управления МВД России «Серпуховское», находившаяся за рулем в пьяном виде, насмерть сбила двоих человек в Подмосковье.\\n\\nПо информации главного управления МВД по Моск...   \n",
       "2186  Главная\\n\\n»\\n\\nНовости\\n\\n»\\n\\nТранспорт\\n\\nВрачи скорой помощи и сотрудники МЧС теперь сами нуждаются в помощи из-за наезда КАМАЗа\\n\\nБригада скорой помощи, два спасателя и двое автомобилистов г...   \n",
       "2325  Установлены личности пешеходов, погибших в результате наезда сотрудницы полиции в Серпухове. Погибшими оказались супруги Виталий и Елена Ш.\\n\\nФото: vk.com\\n\\nПо факту нарушения ПДД, повлекшего по...   \n",
       "2343  13 декабря 2016, 01:56\\n\\nСемья из трех человек погибла в результате отравления газом в Ростове-на-Дону\\n\\nУгарный газ скопился во время работы отопительного котла при замусоренном дымоходе, заяви...   \n",
       "2184  В Кемеровской области полицейские устанавливают обстоятельства серии ДТП с участием 9 автомобилей.\\n\\n\\n\\n\\n\\n\\n\\n«Сегодня около 11:00 с небольшими временными интервалами на 106-м км дороги первой...   \n",
       "1221  В Минске водитель Mercedes дрифтовал на площадке перед монументом Победы. Возбуждено уголовное дело\\n\\n6 декабря 2016 в 17:55\\n\\nБелаПАН\\n\\nПрокурор Партизанского района Минска Сергей Борисенко 6 ...   \n",
       "2312  Сотрудница полиции, которая на своем автомобиле сбила насмерть двух пешеходов в Серпухове, уволена со службы в органах внутренних дел по отрицательным мотивам. Об этом сообщила официальный предста...   \n",
       "1260  Пять скандальных случаев с участием нетрезвых сотрудников милиции за рулем\\n\\n28 ноября 2016 в 18:57\\n\\nАнастасия Солонович, Naviny.by\\n\\nВ Ляховичском районе в эти выходные пьяный и. о. начальник...   \n",
       "\n",
       "           tag  \n",
       "547   incident  \n",
       "2258  incident  \n",
       "2323  incident  \n",
       "2186  incident  \n",
       "2325  incident  \n",
       "2343  incident  \n",
       "2184  incident  \n",
       "1221      auto  \n",
       "2312  incident  \n",
       "1260      auto  "
      ]
     },
     "execution_count": 23,
     "metadata": {},
     "output_type": "execute_result"
    }
   ],
   "source": [
    "data[ data['cluster']==3 ][['text','tag']].sample(10)"
   ]
  },
  {
   "cell_type": "code",
   "execution_count": null,
   "metadata": {},
   "outputs": [],
   "source": []
  }
 ],
 "metadata": {
  "kernelspec": {
   "display_name": "Python 3",
   "language": "python",
   "name": "python3"
  },
  "language_info": {
   "codemirror_mode": {
    "name": "ipython",
    "version": 3
   },
   "file_extension": ".py",
   "mimetype": "text/x-python",
   "name": "python",
   "nbconvert_exporter": "python",
   "pygments_lexer": "ipython3",
   "version": "3.8.1"
  },
  "toc": {
   "base_numbering": 1,
   "nav_menu": {},
   "number_sections": true,
   "sideBar": true,
   "skip_h1_title": false,
   "title_cell": "Table of Contents",
   "title_sidebar": "Contents",
   "toc_cell": false,
   "toc_position": {},
   "toc_section_display": true,
   "toc_window_display": false
  }
 },
 "nbformat": 4,
 "nbformat_minor": 2
}
