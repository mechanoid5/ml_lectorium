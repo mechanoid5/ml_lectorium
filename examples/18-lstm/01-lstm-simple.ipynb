{
 "cells": [
  {
   "cell_type": "markdown",
   "metadata": {},
   "source": [
    "**классификатор LSTM на Keras+TensorFlow**\n",
    "\n",
    "Евгений Борисов <borisov.e@solarl.ru>"
   ]
  },
  {
   "cell_type": "code",
   "execution_count": 1,
   "metadata": {},
   "outputs": [],
   "source": [
    "import numpy as np\n",
    "\n",
    "from tensorflow.keras.models import Sequential\n",
    "from tensorflow.keras.layers import LSTM\n",
    "from tensorflow.keras.layers import Dense"
   ]
  },
  {
   "cell_type": "code",
   "execution_count": 2,
   "metadata": {},
   "outputs": [
    {
     "data": {
      "text/plain": [
       "(1000, 8, 16)"
      ]
     },
     "execution_count": 2,
     "metadata": {},
     "output_type": "execute_result"
    }
   ],
   "source": [
    "data_dim = 16\n",
    "timesteps = 8\n",
    "num_classes = 2\n",
    "\n",
    "num_ex = 1000\n",
    "\n",
    "x_train = np.random.random((num_ex, timesteps, data_dim))\n",
    "y_train = np.random.randint(1,3,num_ex)\n",
    "\n",
    "x_train.shape\n",
    "\n",
    "# [ пример, элемент посл., вектор ]"
   ]
  },
  {
   "cell_type": "code",
   "execution_count": 3,
   "metadata": {},
   "outputs": [
    {
     "data": {
      "text/plain": [
       "array([[[0.17386367, 0.95607656, 0.89901668, ..., 0.21530634,\n",
       "         0.71274905, 0.17240692],\n",
       "        [0.34077255, 0.37689091, 0.33355275, ..., 0.49324573,\n",
       "         0.61278673, 0.37368785],\n",
       "        [0.20646242, 0.25338324, 0.32020801, ..., 0.25722328,\n",
       "         0.20168988, 0.34975328],\n",
       "        ...,\n",
       "        [0.66209555, 0.9168814 , 0.43501306, ..., 0.26655316,\n",
       "         0.86783137, 0.21485605],\n",
       "        [0.32688567, 0.47501335, 0.0125156 , ..., 0.0388589 ,\n",
       "         0.26223815, 0.45837776],\n",
       "        [0.73546007, 0.48626627, 0.71859226, ..., 0.68431063,\n",
       "         0.89503845, 0.75844259]],\n",
       "\n",
       "       [[0.83373426, 0.18909724, 0.64449327, ..., 0.09471949,\n",
       "         0.69726364, 0.12530675],\n",
       "        [0.62887132, 0.50557107, 0.20440566, ..., 0.33644813,\n",
       "         0.19861034, 0.61624751],\n",
       "        [0.54952866, 0.89299862, 0.23292188, ..., 0.86479352,\n",
       "         0.74788844, 0.20010548],\n",
       "        ...,\n",
       "        [0.21476527, 0.19164709, 0.32207508, ..., 0.56445267,\n",
       "         0.31400024, 0.84553829],\n",
       "        [0.26473038, 0.04651037, 0.22428313, ..., 0.52810236,\n",
       "         0.99136822, 0.7679327 ],\n",
       "        [0.97648932, 0.86755855, 0.64176169, ..., 0.67228149,\n",
       "         0.26312661, 0.91548005]],\n",
       "\n",
       "       [[0.54317696, 0.96774862, 0.54776142, ..., 0.84270183,\n",
       "         0.52132111, 0.50158223],\n",
       "        [0.85655026, 0.54877785, 0.74282493, ..., 0.11159516,\n",
       "         0.96443079, 0.27592017],\n",
       "        [0.56357282, 0.24786722, 0.17473412, ..., 0.59184634,\n",
       "         0.44303953, 0.07560615],\n",
       "        ...,\n",
       "        [0.45822054, 0.66448902, 0.23617442, ..., 0.27023613,\n",
       "         0.4601347 , 0.6130524 ],\n",
       "        [0.03770103, 0.57479926, 0.48830334, ..., 0.73698872,\n",
       "         0.10857859, 0.11994627],\n",
       "        [0.15564712, 0.07733383, 0.30606427, ..., 0.20941152,\n",
       "         0.16427617, 0.2137031 ]],\n",
       "\n",
       "       ...,\n",
       "\n",
       "       [[0.56610398, 0.74540682, 0.54689737, ..., 0.1091336 ,\n",
       "         0.1022227 , 0.57714435],\n",
       "        [0.83336708, 0.27131122, 0.99290819, ..., 0.96990185,\n",
       "         0.23957743, 0.89375997],\n",
       "        [0.80016071, 0.38663665, 0.40769896, ..., 0.57228372,\n",
       "         0.05823459, 0.52544381],\n",
       "        ...,\n",
       "        [0.36121575, 0.9058879 , 0.39371324, ..., 0.93658566,\n",
       "         0.60462845, 0.71630816],\n",
       "        [0.84020748, 0.43076638, 0.4841175 , ..., 0.34758473,\n",
       "         0.46619049, 0.6674091 ],\n",
       "        [0.88978497, 0.01233645, 0.04169278, ..., 0.70875444,\n",
       "         0.46768381, 0.77546735]],\n",
       "\n",
       "       [[0.07217853, 0.25361847, 0.17440287, ..., 0.02822551,\n",
       "         0.56454931, 0.64686928],\n",
       "        [0.37675667, 0.24299348, 0.32238715, ..., 0.44037412,\n",
       "         0.7347671 , 0.04266514],\n",
       "        [0.48821435, 0.17471649, 0.75424698, ..., 0.20052404,\n",
       "         0.16281262, 0.58205464],\n",
       "        ...,\n",
       "        [0.53808607, 0.10106054, 0.644715  , ..., 0.17460239,\n",
       "         0.90363407, 0.79558978],\n",
       "        [0.78659887, 0.61067786, 0.49170577, ..., 0.63048834,\n",
       "         0.6937965 , 0.0197786 ],\n",
       "        [0.64119714, 0.1352006 , 0.30114217, ..., 0.7367888 ,\n",
       "         0.12022254, 0.35352192]],\n",
       "\n",
       "       [[0.43204978, 0.89546496, 0.06176817, ..., 0.0260589 ,\n",
       "         0.08530022, 0.68771973],\n",
       "        [0.96155946, 0.46220627, 0.58425646, ..., 0.82435786,\n",
       "         0.46130799, 0.56025947],\n",
       "        [0.07575321, 0.10437939, 0.42842497, ..., 0.54533933,\n",
       "         0.21957338, 0.78229494],\n",
       "        ...,\n",
       "        [0.61448151, 0.43780211, 0.00637149, ..., 0.3758708 ,\n",
       "         0.10050641, 0.09759823],\n",
       "        [0.27265732, 0.34107764, 0.71654445, ..., 0.54856167,\n",
       "         0.45289881, 0.9932478 ],\n",
       "        [0.60911239, 0.41882003, 0.70267283, ..., 0.40477527,\n",
       "         0.773251  , 0.62497322]]])"
      ]
     },
     "execution_count": 3,
     "metadata": {},
     "output_type": "execute_result"
    }
   ],
   "source": [
    "x_train"
   ]
  },
  {
   "cell_type": "code",
   "execution_count": 5,
   "metadata": {},
   "outputs": [
    {
     "data": {
      "text/plain": [
       "(1000, 2)"
      ]
     },
     "execution_count": 5,
     "metadata": {},
     "output_type": "execute_result"
    }
   ],
   "source": [
    "from sklearn.preprocessing import OneHotEncoder\n",
    "\n",
    "y_train = np.random.randint(1,3,num_ex)\n",
    "y_train = OneHotEncoder(categories='auto').fit_transform(y_train.reshape(-1,1) ).todense()\n",
    "y_train.shape"
   ]
  },
  {
   "cell_type": "code",
   "execution_count": 6,
   "metadata": {},
   "outputs": [
    {
     "data": {
      "text/plain": [
       "matrix([[1., 0.],\n",
       "        [0., 1.],\n",
       "        [1., 0.],\n",
       "        ...,\n",
       "        [0., 1.],\n",
       "        [1., 0.],\n",
       "        [1., 0.]])"
      ]
     },
     "execution_count": 6,
     "metadata": {},
     "output_type": "execute_result"
    }
   ],
   "source": [
    "y_train"
   ]
  },
  {
   "cell_type": "code",
   "execution_count": 4,
   "metadata": {},
   "outputs": [],
   "source": [
    "# expected input data shape: (batch_size, timesteps, data_dim)\n",
    "model = Sequential()\n",
    "\n",
    "# returns a sequence of vectors of dimension 32\n",
    "model.add(LSTM(32, input_shape=(timesteps, data_dim)))  \n",
    "\n",
    "model.add(Dense(num_classes, activation='softmax'))"
   ]
  },
  {
   "cell_type": "code",
   "execution_count": 5,
   "metadata": {},
   "outputs": [],
   "source": [
    "# # expected input data shape: (batch_size, timesteps, data_dim)\n",
    "# model = Sequential()\n",
    "\n",
    "# # returns a sequence of vectors of dimension 32\n",
    "# model.add(LSTM(32,return_sequences=True,input_shape=(timesteps, data_dim)))  \n",
    "# model.add(LSTM(32,return_sequences=True))  \n",
    "# model.add(LSTM(32))  # return a single vector of dimension 32\n",
    "# model.add(Dense(num_classes, activation='softmax'))"
   ]
  },
  {
   "cell_type": "code",
   "execution_count": 6,
   "metadata": {},
   "outputs": [],
   "source": [
    "model.compile(loss='categorical_crossentropy',\n",
    "              optimizer='rmsprop',\n",
    "              metrics=['accuracy'])"
   ]
  },
  {
   "cell_type": "code",
   "execution_count": 7,
   "metadata": {},
   "outputs": [
    {
     "name": "stdout",
     "output_type": "stream",
     "text": [
      "Train on 1000 samples\n",
      "Epoch 1/10\n",
      "WARNING:tensorflow:Entity <function Function._initialize_uninitialized_variables.<locals>.initialize_variables at 0x7f7f88520b80> could not be transformed and will be executed as-is. Please report this to the AutoGraph team. When filing the bug, set the verbosity to 10 (on Linux, `export AUTOGRAPH_VERBOSITY=10`) and attach the full output. Cause: module 'gast' has no attribute 'Num'\n",
      "WARNING: Entity <function Function._initialize_uninitialized_variables.<locals>.initialize_variables at 0x7f7f88520b80> could not be transformed and will be executed as-is. Please report this to the AutoGraph team. When filing the bug, set the verbosity to 10 (on Linux, `export AUTOGRAPH_VERBOSITY=10`) and attach the full output. Cause: module 'gast' has no attribute 'Num'\n",
      "1000/1000 [==============================] - 2s 2ms/sample - loss: 0.6955 - accuracy: 0.4920\n",
      "Epoch 2/10\n",
      "1000/1000 [==============================] - 0s 46us/sample - loss: 0.6932 - accuracy: 0.5170\n",
      "Epoch 3/10\n",
      "1000/1000 [==============================] - 0s 48us/sample - loss: 0.6931 - accuracy: 0.5120\n",
      "Epoch 4/10\n",
      "1000/1000 [==============================] - 0s 42us/sample - loss: 0.6929 - accuracy: 0.5130\n",
      "Epoch 5/10\n",
      "1000/1000 [==============================] - 0s 46us/sample - loss: 0.6906 - accuracy: 0.5120\n",
      "Epoch 6/10\n",
      "1000/1000 [==============================] - 0s 46us/sample - loss: 0.6929 - accuracy: 0.5320\n",
      "Epoch 7/10\n",
      "1000/1000 [==============================] - 0s 50us/sample - loss: 0.6915 - accuracy: 0.5290\n",
      "Epoch 8/10\n",
      "1000/1000 [==============================] - 0s 44us/sample - loss: 0.6903 - accuracy: 0.5350\n",
      "Epoch 9/10\n",
      "1000/1000 [==============================] - 0s 47us/sample - loss: 0.6907 - accuracy: 0.5310\n",
      "Epoch 10/10\n",
      "1000/1000 [==============================] - 0s 47us/sample - loss: 0.6913 - accuracy: 0.5350\n"
     ]
    },
    {
     "data": {
      "text/plain": [
       "<tensorflow.python.keras.callbacks.History at 0x7f7f885ee520>"
      ]
     },
     "execution_count": 7,
     "metadata": {},
     "output_type": "execute_result"
    }
   ],
   "source": [
    "model.fit(x_train, y_train,\n",
    "          batch_size=64, epochs=10,\n",
    "          # validation_data=(x_val, y_val)\n",
    "         )"
   ]
  },
  {
   "cell_type": "markdown",
   "metadata": {},
   "source": [
    "---"
   ]
  },
  {
   "cell_type": "code",
   "execution_count": 13,
   "metadata": {},
   "outputs": [],
   "source": [
    "import tensorflow as tf\n",
    "from tensorflow.python.client import device_lib\n",
    "import tensorflow.keras as keras"
   ]
  },
  {
   "cell_type": "code",
   "execution_count": 14,
   "metadata": {},
   "outputs": [
    {
     "name": "stdout",
     "output_type": "stream",
     "text": [
      "2.0.0\n",
      "2.2.4-tf\n"
     ]
    }
   ],
   "source": [
    "print(tf.__version__)\n",
    "print(keras.__version__)"
   ]
  },
  {
   "cell_type": "code",
   "execution_count": 15,
   "metadata": {},
   "outputs": [
    {
     "name": "stdout",
     "output_type": "stream",
     "text": [
      "True\n"
     ]
    }
   ],
   "source": [
    "print(tf.test.is_built_with_cuda())"
   ]
  },
  {
   "cell_type": "code",
   "execution_count": 16,
   "metadata": {},
   "outputs": [
    {
     "name": "stdout",
     "output_type": "stream",
     "text": [
      "default GPU device: /device:GPU:0\n"
     ]
    }
   ],
   "source": [
    "if tf.test.is_built_with_cuda():\n",
    "    print('default GPU device:', tf.test.gpu_device_name() )\n",
    "else:\n",
    "    print('no GPU device found')\n",
    "    "
   ]
  },
  {
   "cell_type": "code",
   "execution_count": 17,
   "metadata": {},
   "outputs": [
    {
     "name": "stdout",
     "output_type": "stream",
     "text": [
      "[name: \"/device:CPU:0\"\n",
      "device_type: \"CPU\"\n",
      "memory_limit: 268435456\n",
      "locality {\n",
      "}\n",
      "incarnation: 5011547289728301754\n",
      ", name: \"/device:XLA_CPU:0\"\n",
      "device_type: \"XLA_CPU\"\n",
      "memory_limit: 17179869184\n",
      "locality {\n",
      "}\n",
      "incarnation: 6052902589937035191\n",
      "physical_device_desc: \"device: XLA_CPU device\"\n",
      ", name: \"/device:GPU:0\"\n",
      "device_type: \"GPU\"\n",
      "memory_limit: 5362417664\n",
      "locality {\n",
      "  bus_id: 1\n",
      "  links {\n",
      "  }\n",
      "}\n",
      "incarnation: 3666746107307714542\n",
      "physical_device_desc: \"device: 0, name: GeForce GTX 1060 6GB, pci bus id: 0000:01:00.0, compute capability: 6.1\"\n",
      ", name: \"/device:XLA_GPU:0\"\n",
      "device_type: \"XLA_GPU\"\n",
      "memory_limit: 17179869184\n",
      "locality {\n",
      "}\n",
      "incarnation: 1427353394528419286\n",
      "physical_device_desc: \"device: XLA_GPU device\"\n",
      "]\n"
     ]
    }
   ],
   "source": [
    "print(device_lib.list_local_devices())"
   ]
  },
  {
   "cell_type": "code",
   "execution_count": null,
   "metadata": {},
   "outputs": [],
   "source": []
  }
 ],
 "metadata": {
  "kernelspec": {
   "display_name": "Python 3",
   "language": "python",
   "name": "python3"
  },
  "language_info": {
   "codemirror_mode": {
    "name": "ipython",
    "version": 3
   },
   "file_extension": ".py",
   "mimetype": "text/x-python",
   "name": "python",
   "nbconvert_exporter": "python",
   "pygments_lexer": "ipython3",
   "version": "3.8.0"
  },
  "toc": {
   "base_numbering": 1,
   "nav_menu": {},
   "number_sections": true,
   "sideBar": true,
   "skip_h1_title": false,
   "title_cell": "Table of Contents",
   "title_sidebar": "Contents",
   "toc_cell": false,
   "toc_position": {},
   "toc_section_display": "block",
   "toc_window_display": false
  }
 },
 "nbformat": 4,
 "nbformat_minor": 4
}
