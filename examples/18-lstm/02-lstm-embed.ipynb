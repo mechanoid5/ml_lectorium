{
 "cells": [
  {
   "cell_type": "markdown",
   "metadata": {},
   "source": [
    "**классификатор LSTM на Keras+TensorFlow: использование Embedding**\n",
    "\n",
    "Евгений Борисов <borisov.e@solarl.ru>"
   ]
  },
  {
   "cell_type": "markdown",
   "metadata": {},
   "source": [
    "---"
   ]
  },
  {
   "cell_type": "code",
   "execution_count": 1,
   "metadata": {},
   "outputs": [],
   "source": [
    "import numpy as np\n",
    "\n",
    "from tensorflow.keras.models import Sequential\n",
    "from tensorflow.keras.layers import Embedding\n",
    "from tensorflow.keras.layers import LSTM\n",
    "from tensorflow.keras.layers import Dense"
   ]
  },
  {
   "cell_type": "code",
   "execution_count": 2,
   "metadata": {},
   "outputs": [
    {
     "data": {
      "text/plain": [
       "(1000, 8)"
      ]
     },
     "execution_count": 2,
     "metadata": {},
     "output_type": "execute_result"
    }
   ],
   "source": [
    "time_steps = 8\n",
    "vocab_size = 1000\n",
    "num_ex = 1000\n",
    "\n",
    "x_train = np.random.randint(0,vocab_size,(num_ex, time_steps))\n",
    "y_train = np.random.randint(1,3,num_ex)\n",
    "\n",
    "x_train.shape #, y_train.shape\n",
    "\n",
    "# [ пример, элемент посл. ]"
   ]
  },
  {
   "cell_type": "code",
   "execution_count": 3,
   "metadata": {},
   "outputs": [],
   "source": [
    "#x_train"
   ]
  },
  {
   "cell_type": "code",
   "execution_count": 4,
   "metadata": {},
   "outputs": [],
   "source": [
    "batch_size=50\n",
    "# y_train"
   ]
  },
  {
   "cell_type": "code",
   "execution_count": 5,
   "metadata": {},
   "outputs": [
    {
     "data": {
      "text/plain": [
       "(1000, 2)"
      ]
     },
     "execution_count": 5,
     "metadata": {},
     "output_type": "execute_result"
    }
   ],
   "source": [
    "from sklearn.preprocessing import OneHotEncoder\n",
    "\n",
    "num_classes = 2\n",
    "y_train = np.random.randint(1,num_classes+1,num_ex)\n",
    "y_train = OneHotEncoder(categories='auto').fit_transform(y_train.reshape(-1,1) ).todense()\n",
    "y_train.shape"
   ]
  },
  {
   "cell_type": "code",
   "execution_count": 6,
   "metadata": {},
   "outputs": [
    {
     "data": {
      "text/plain": [
       "array([[279, 683, 438, ..., 300, 863, 357],\n",
       "       [910, 266, 902, ..., 282, 386, 490],\n",
       "       [ 44, 687, 130, ..., 224, 712, 101],\n",
       "       ...,\n",
       "       [ 28, 573, 240, ..., 974, 894, 850],\n",
       "       [803, 630, 337, ..., 418, 512,   8],\n",
       "       [609, 588, 720, ..., 411, 265,  96]])"
      ]
     },
     "execution_count": 6,
     "metadata": {},
     "output_type": "execute_result"
    }
   ],
   "source": [
    "x_train"
   ]
  },
  {
   "cell_type": "code",
   "execution_count": 7,
   "metadata": {},
   "outputs": [
    {
     "data": {
      "text/plain": [
       "matrix([[0., 1.],\n",
       "        [0., 1.],\n",
       "        [0., 1.],\n",
       "        ...,\n",
       "        [0., 1.],\n",
       "        [1., 0.],\n",
       "        [0., 1.]])"
      ]
     },
     "execution_count": 7,
     "metadata": {},
     "output_type": "execute_result"
    }
   ],
   "source": [
    "y_train"
   ]
  },
  {
   "cell_type": "code",
   "execution_count": 8,
   "metadata": {},
   "outputs": [],
   "source": [
    "embedding_size=32\n",
    "\n",
    "model = Sequential()\n",
    "\n",
    "model.add(Embedding(\n",
    "       input_dim=vocab_size, # e.g, 10 if you have 10 words in your vocabulary\n",
    "       output_dim=embedding_size, # size of the embedded vectors\n",
    "       input_length=time_steps,\n",
    "       batch_input_shape=(batch_size,time_steps)\n",
    "    ))\n",
    "\n",
    "model.add(LSTM(\n",
    "       16, \n",
    "       return_sequences=False, \n",
    "       stateful=False)\n",
    "    )\n",
    "\n",
    "model.add(Dense(num_classes, activation='softmax'))"
   ]
  },
  {
   "cell_type": "code",
   "execution_count": 9,
   "metadata": {},
   "outputs": [],
   "source": [
    "model.compile(loss='categorical_crossentropy',\n",
    "              optimizer='rmsprop',\n",
    "              metrics=['accuracy'])"
   ]
  },
  {
   "cell_type": "code",
   "execution_count": 10,
   "metadata": {},
   "outputs": [
    {
     "name": "stdout",
     "output_type": "stream",
     "text": [
      "Train on 1000 samples\n",
      "Epoch 1/30\n",
      "WARNING:tensorflow:Entity <function Function._initialize_uninitialized_variables.<locals>.initialize_variables at 0x7f55f1abb5e0> could not be transformed and will be executed as-is. Please report this to the AutoGraph team. When filing the bug, set the verbosity to 10 (on Linux, `export AUTOGRAPH_VERBOSITY=10`) and attach the full output. Cause: module 'gast' has no attribute 'Num'\n",
      "WARNING: Entity <function Function._initialize_uninitialized_variables.<locals>.initialize_variables at 0x7f55f1abb5e0> could not be transformed and will be executed as-is. Please report this to the AutoGraph team. When filing the bug, set the verbosity to 10 (on Linux, `export AUTOGRAPH_VERBOSITY=10`) and attach the full output. Cause: module 'gast' has no attribute 'Num'\n",
      "1000/1000 [==============================] - 2s 2ms/sample - loss: 0.6928 - accuracy: 0.5220\n",
      "Epoch 2/30\n",
      "1000/1000 [==============================] - 0s 58us/sample - loss: 0.6853 - accuracy: 0.5350\n",
      "Epoch 3/30\n",
      "1000/1000 [==============================] - 0s 58us/sample - loss: 0.6652 - accuracy: 0.6420\n",
      "Epoch 4/30\n",
      "1000/1000 [==============================] - 0s 59us/sample - loss: 0.6125 - accuracy: 0.7770\n",
      "Epoch 5/30\n",
      "1000/1000 [==============================] - 0s 58us/sample - loss: 0.5278 - accuracy: 0.8030\n",
      "Epoch 6/30\n",
      "1000/1000 [==============================] - 0s 62us/sample - loss: 0.4464 - accuracy: 0.8230\n",
      "Epoch 7/30\n",
      "1000/1000 [==============================] - 0s 60us/sample - loss: 0.3847 - accuracy: 0.8430\n",
      "Epoch 8/30\n",
      "1000/1000 [==============================] - 0s 85us/sample - loss: 0.3341 - accuracy: 0.8720\n",
      "Epoch 9/30\n",
      "1000/1000 [==============================] - 0s 70us/sample - loss: 0.2866 - accuracy: 0.8930\n",
      "Epoch 10/30\n",
      "1000/1000 [==============================] - 0s 71us/sample - loss: 0.2446 - accuracy: 0.9160\n",
      "Epoch 11/30\n",
      "1000/1000 [==============================] - 0s 72us/sample - loss: 0.2055 - accuracy: 0.9370\n",
      "Epoch 12/30\n",
      "1000/1000 [==============================] - 0s 57us/sample - loss: 0.1673 - accuracy: 0.9550\n",
      "Epoch 13/30\n",
      "1000/1000 [==============================] - 0s 58us/sample - loss: 0.1351 - accuracy: 0.9670\n",
      "Epoch 14/30\n",
      "1000/1000 [==============================] - 0s 63us/sample - loss: 0.1045 - accuracy: 0.9770\n",
      "Epoch 15/30\n",
      "1000/1000 [==============================] - 0s 63us/sample - loss: 0.0780 - accuracy: 0.9850\n",
      "Epoch 16/30\n",
      "1000/1000 [==============================] - 0s 57us/sample - loss: 0.0571 - accuracy: 0.9890\n",
      "Epoch 17/30\n",
      "1000/1000 [==============================] - 0s 64us/sample - loss: 0.0386 - accuracy: 0.9940\n",
      "Epoch 18/30\n",
      "1000/1000 [==============================] - 0s 63us/sample - loss: 0.0257 - accuracy: 0.9970\n",
      "Epoch 19/30\n",
      "1000/1000 [==============================] - 0s 65us/sample - loss: 0.0184 - accuracy: 0.9980\n",
      "Epoch 20/30\n",
      "1000/1000 [==============================] - 0s 63us/sample - loss: 0.0128 - accuracy: 0.9990\n",
      "Epoch 21/30\n",
      "1000/1000 [==============================] - 0s 106us/sample - loss: 0.0075 - accuracy: 0.9990\n",
      "Epoch 22/30\n",
      "1000/1000 [==============================] - 0s 92us/sample - loss: 0.0027 - accuracy: 1.0000\n",
      "Epoch 23/30\n",
      "1000/1000 [==============================] - 0s 67us/sample - loss: 0.0014 - accuracy: 1.0000\n",
      "Epoch 24/30\n",
      "1000/1000 [==============================] - 0s 64us/sample - loss: 7.5194e-04 - accuracy: 1.0000\n",
      "Epoch 25/30\n",
      "1000/1000 [==============================] - 0s 64us/sample - loss: 3.9715e-04 - accuracy: 1.0000\n",
      "Epoch 26/30\n",
      "1000/1000 [==============================] - 0s 61us/sample - loss: 1.9411e-04 - accuracy: 1.0000\n",
      "Epoch 27/30\n",
      "1000/1000 [==============================] - 0s 59us/sample - loss: 9.8944e-05 - accuracy: 1.0000\n",
      "Epoch 28/30\n",
      "1000/1000 [==============================] - 0s 62us/sample - loss: 4.8041e-05 - accuracy: 1.0000\n",
      "Epoch 29/30\n",
      "1000/1000 [==============================] - 0s 74us/sample - loss: 2.3748e-05 - accuracy: 1.0000\n",
      "Epoch 30/30\n",
      "1000/1000 [==============================] - 0s 63us/sample - loss: 1.2028e-05 - accuracy: 1.0000\n"
     ]
    },
    {
     "data": {
      "text/plain": [
       "<tensorflow.python.keras.callbacks.History at 0x7f558c3cd190>"
      ]
     },
     "execution_count": 10,
     "metadata": {},
     "output_type": "execute_result"
    }
   ],
   "source": [
    "model.fit(x_train, y_train, batch_size=batch_size, epochs=30, )\n",
    "\n",
    "# validation_data=(x_val, y_val)\n",
    "         "
   ]
  },
  {
   "cell_type": "markdown",
   "metadata": {},
   "source": [
    "---"
   ]
  },
  {
   "cell_type": "code",
   "execution_count": 11,
   "metadata": {},
   "outputs": [],
   "source": [
    "import tensorflow as tf\n",
    "from tensorflow.python.client import device_lib\n",
    "import tensorflow.keras as keras"
   ]
  },
  {
   "cell_type": "code",
   "execution_count": 12,
   "metadata": {},
   "outputs": [
    {
     "name": "stdout",
     "output_type": "stream",
     "text": [
      "2.0.0\n",
      "2.2.4-tf\n"
     ]
    }
   ],
   "source": [
    "print(tf.__version__)\n",
    "print(keras.__version__)"
   ]
  },
  {
   "cell_type": "code",
   "execution_count": 13,
   "metadata": {},
   "outputs": [
    {
     "name": "stdout",
     "output_type": "stream",
     "text": [
      "True\n"
     ]
    }
   ],
   "source": [
    "print(tf.test.is_built_with_cuda())"
   ]
  },
  {
   "cell_type": "code",
   "execution_count": 14,
   "metadata": {},
   "outputs": [
    {
     "name": "stdout",
     "output_type": "stream",
     "text": [
      "default GPU device: /device:GPU:0\n"
     ]
    }
   ],
   "source": [
    "if tf.test.is_built_with_cuda():\n",
    "    print('default GPU device:', tf.test.gpu_device_name() )\n",
    "else:\n",
    "    print('no GPU device found')\n",
    "    "
   ]
  },
  {
   "cell_type": "code",
   "execution_count": 15,
   "metadata": {},
   "outputs": [
    {
     "name": "stdout",
     "output_type": "stream",
     "text": [
      "[name: \"/device:CPU:0\"\n",
      "device_type: \"CPU\"\n",
      "memory_limit: 268435456\n",
      "locality {\n",
      "}\n",
      "incarnation: 9161967927926932051\n",
      ", name: \"/device:XLA_CPU:0\"\n",
      "device_type: \"XLA_CPU\"\n",
      "memory_limit: 17179869184\n",
      "locality {\n",
      "}\n",
      "incarnation: 16714315090592515113\n",
      "physical_device_desc: \"device: XLA_CPU device\"\n",
      ", name: \"/device:GPU:0\"\n",
      "device_type: \"GPU\"\n",
      "memory_limit: 5362286592\n",
      "locality {\n",
      "  bus_id: 1\n",
      "  links {\n",
      "  }\n",
      "}\n",
      "incarnation: 12489076826065418128\n",
      "physical_device_desc: \"device: 0, name: GeForce GTX 1060 6GB, pci bus id: 0000:01:00.0, compute capability: 6.1\"\n",
      ", name: \"/device:XLA_GPU:0\"\n",
      "device_type: \"XLA_GPU\"\n",
      "memory_limit: 17179869184\n",
      "locality {\n",
      "}\n",
      "incarnation: 10440121874959349871\n",
      "physical_device_desc: \"device: XLA_GPU device\"\n",
      "]\n"
     ]
    }
   ],
   "source": [
    "print(device_lib.list_local_devices())"
   ]
  }
 ],
 "metadata": {
  "kernelspec": {
   "display_name": "Python 3",
   "language": "python",
   "name": "python3"
  },
  "language_info": {
   "codemirror_mode": {
    "name": "ipython",
    "version": 3
   },
   "file_extension": ".py",
   "mimetype": "text/x-python",
   "name": "python",
   "nbconvert_exporter": "python",
   "pygments_lexer": "ipython3",
   "version": "3.8.0"
  },
  "toc": {
   "base_numbering": 1,
   "nav_menu": {},
   "number_sections": true,
   "sideBar": true,
   "skip_h1_title": false,
   "title_cell": "Table of Contents",
   "title_sidebar": "Contents",
   "toc_cell": false,
   "toc_position": {},
   "toc_section_display": "block",
   "toc_window_display": false
  }
 },
 "nbformat": 4,
 "nbformat_minor": 4
}
