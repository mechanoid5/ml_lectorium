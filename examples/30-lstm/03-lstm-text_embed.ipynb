{
 "cells": [
  {
   "cell_type": "markdown",
   "metadata": {},
   "source": [
    "**классификатор текстов LSTM на Keras+TensorFlow**\n",
    "\n",
    "Евгений Борисов <borisov.e@solarl.ru>"
   ]
  },
  {
   "cell_type": "markdown",
   "metadata": {},
   "source": [
    "https://habr.com/ru/company/dca/blog/274027/    \n",
    "http://help.sentiment140.com/for-students/   \n",
    "http://study.mokoron.com  "
   ]
  },
  {
   "cell_type": "markdown",
   "metadata": {},
   "source": [
    "## Библиотеки"
   ]
  },
  {
   "cell_type": "code",
   "execution_count": 1,
   "metadata": {},
   "outputs": [],
   "source": [
    "import numpy as np\n",
    "import pandas as pd\n",
    "pd.options.display.max_colwidth = 200  \n",
    "import re\n",
    "# import gzip\n",
    "from tqdm import tqdm"
   ]
  },
  {
   "cell_type": "code",
   "execution_count": 2,
   "metadata": {},
   "outputs": [
    {
     "name": "stderr",
     "output_type": "stream",
     "text": [
      "/usr/lib/python3.9/site-packages/tqdm/std.py:699: FutureWarning: The Panel class is removed from pandas. Accessing it from the top-level namespace will also be removed in the next version\n",
      "  from pandas import Panel\n"
     ]
    }
   ],
   "source": [
    "tqdm.pandas()"
   ]
  },
  {
   "cell_type": "code",
   "execution_count": 3,
   "metadata": {},
   "outputs": [],
   "source": [
    "def pp(d): return \"{:,.0f}\".format(d).replace(\",\", \" \")\n",
    "def ppr(d): print('записей:', pp(len(d)) )  "
   ]
  },
  {
   "cell_type": "markdown",
   "metadata": {},
   "source": [
    "## Данные"
   ]
  },
  {
   "cell_type": "raw",
   "metadata": {},
   "source": [
    "Ю. В. Рубцова. Построение корпуса текстов для настройки тонового классификатора // Программные продукты и системы, 2015, №1(109), –С.72-78\n",
    "\n",
    "http://study.mokoron.com\n",
    "\n",
    "– id: уникальный номер сообщения в системе twitter;\n",
    "– tdate: дата публикации сообщения (твита);\n",
    "– tmane: имя пользователя, опубликовавшего сообщение;\n",
    "– ttext:  текст сообщения (твита);\n",
    "– ttype: поле в котором в дальнейшем будет указано к кому классу относится твит (положительный, отрицательный, нейтральный);\n",
    "– trep: количество реплаев к данному сообщению. В настоящий момент API твиттера не отдает эту информацию;\n",
    "– tfav: число сколько раз данное сообщение было добавлено в избранное другими пользователями;\n",
    "– tstcount: число всех сообщений пользователя в сети twitter;\n",
    "– tfol: количество фоловеров пользователя (тех людей, которые читают пользователя);\n",
    "– tfrien: количество друзей пользователя (те люди, которых читает пользователь);\n",
    "– listcount: количество листов-подписок в которые добавлен твиттер-пользователь."
   ]
  },
  {
   "cell_type": "code",
   "execution_count": 4,
   "metadata": {},
   "outputs": [],
   "source": [
    "ff = ['id', 'tdate', 'tmane', 'ttext', 'ttype', 'trep', 'tfav', 'tstcount', 'tfol', 'tfrien', 'listcount','unk']"
   ]
  },
  {
   "cell_type": "code",
   "execution_count": 5,
   "metadata": {},
   "outputs": [
    {
     "name": "stdout",
     "output_type": "stream",
     "text": [
      "записей: 111 923\n"
     ]
    }
   ],
   "source": [
    "neg = pd.read_csv('../data/twit/negative.csv.gz',sep=';',header=None)\n",
    "ppr(neg)\n",
    "neg.columns = ff"
   ]
  },
  {
   "cell_type": "code",
   "execution_count": 6,
   "metadata": {},
   "outputs": [
    {
     "name": "stdout",
     "output_type": "stream",
     "text": [
      "записей: 114 910\n"
     ]
    }
   ],
   "source": [
    "pos = pd.read_csv('../data/twit/positive.csv.gz',sep=';')\n",
    "ppr(pos)\n",
    "pos.columns = ff"
   ]
  },
  {
   "cell_type": "code",
   "execution_count": 7,
   "metadata": {},
   "outputs": [
    {
     "name": "stdout",
     "output_type": "stream",
     "text": [
      "записей: 226 833\n"
     ]
    }
   ],
   "source": [
    "data = pd.concat([pos,neg],sort=False)[['id','ttext', 'ttype']]\n",
    "ppr(data)"
   ]
  },
  {
   "cell_type": "code",
   "execution_count": 8,
   "metadata": {},
   "outputs": [
    {
     "data": {
      "text/html": [
       "<div>\n",
       "<style scoped>\n",
       "    .dataframe tbody tr th:only-of-type {\n",
       "        vertical-align: middle;\n",
       "    }\n",
       "\n",
       "    .dataframe tbody tr th {\n",
       "        vertical-align: top;\n",
       "    }\n",
       "\n",
       "    .dataframe thead th {\n",
       "        text-align: right;\n",
       "    }\n",
       "</style>\n",
       "<table border=\"1\" class=\"dataframe\">\n",
       "  <thead>\n",
       "    <tr style=\"text-align: right;\">\n",
       "      <th></th>\n",
       "      <th>id</th>\n",
       "      <th>ttext</th>\n",
       "      <th>ttype</th>\n",
       "    </tr>\n",
       "  </thead>\n",
       "  <tbody>\n",
       "    <tr>\n",
       "      <th>84664</th>\n",
       "      <td>420629943966785536</td>\n",
       "      <td>Добре поколядували ,але не довго(\\nЗато в светия дізналась багато чого нового азазаз</td>\n",
       "      <td>-1</td>\n",
       "    </tr>\n",
       "    <tr>\n",
       "      <th>17411</th>\n",
       "      <td>409370547244765184</td>\n",
       "      <td>ой, Ник!)) ) сами подумайте. что такое сша? страна -бывших преступников и проституток,</td>\n",
       "      <td>1</td>\n",
       "    </tr>\n",
       "    <tr>\n",
       "      <th>62257</th>\n",
       "      <td>416813321971433472</td>\n",
       "      <td>@perduemonocle ааа, ты про марево. Там да, приходится падать ((( Но игра не столь уж сложная, ребенок справится</td>\n",
       "      <td>-1</td>\n",
       "    </tr>\n",
       "    <tr>\n",
       "      <th>111640</th>\n",
       "      <td>411203392707362816</td>\n",
       "      <td>@VikaKomolova ааааа,я в ожидании))постараюсь не удивляться))</td>\n",
       "      <td>1</td>\n",
       "    </tr>\n",
       "    <tr>\n",
       "      <th>7507</th>\n",
       "      <td>409097011901005824</td>\n",
       "      <td>Добраться бы до студии еще... пока не замело совсем... пока парни еще ждут... видосик надо готовить)</td>\n",
       "      <td>1</td>\n",
       "    </tr>\n",
       "    <tr>\n",
       "      <th>12581</th>\n",
       "      <td>410776422811443200</td>\n",
       "      <td>Весь деня спать хочу, настроение ужасное((</td>\n",
       "      <td>-1</td>\n",
       "    </tr>\n",
       "    <tr>\n",
       "      <th>64777</th>\n",
       "      <td>417016594989326336</td>\n",
       "      <td>грустно :(\"@Fontanka_spb: http://t.co/MmE3qzGefj запретили http://t.co/gtKcyzaPbv\"</td>\n",
       "      <td>-1</td>\n",
       "    </tr>\n",
       "    <tr>\n",
       "      <th>46916</th>\n",
       "      <td>410002463593205760</td>\n",
       "      <td>@NikaIgnatova да забей на все, зайди в вк и наслаждайся музыкой)</td>\n",
       "      <td>1</td>\n",
       "    </tr>\n",
       "    <tr>\n",
       "      <th>39988</th>\n",
       "      <td>413911345378365440</td>\n",
       "      <td>Ну и не пиши мне(\\n\\nЯ теперь не буду никому писать первой</td>\n",
       "      <td>-1</td>\n",
       "    </tr>\n",
       "    <tr>\n",
       "      <th>10711</th>\n",
       "      <td>409290828813574144</td>\n",
       "      <td>ну наконец то дома.Но сейчас поедем кататься с мамой,просто не могу ей отказать:)</td>\n",
       "      <td>1</td>\n",
       "    </tr>\n",
       "  </tbody>\n",
       "</table>\n",
       "</div>"
      ],
      "text/plain": [
       "                        id  \\\n",
       "84664   420629943966785536   \n",
       "17411   409370547244765184   \n",
       "62257   416813321971433472   \n",
       "111640  411203392707362816   \n",
       "7507    409097011901005824   \n",
       "12581   410776422811443200   \n",
       "64777   417016594989326336   \n",
       "46916   410002463593205760   \n",
       "39988   413911345378365440   \n",
       "10711   409290828813574144   \n",
       "\n",
       "                                                                                                                  ttext  \\\n",
       "84664                              Добре поколядували ,але не довго(\\nЗато в светия дізналась багато чого нового азазаз   \n",
       "17411                            ой, Ник!)) ) сами подумайте. что такое сша? страна -бывших преступников и проституток,   \n",
       "62257   @perduemonocle ааа, ты про марево. Там да, приходится падать ((( Но игра не столь уж сложная, ребенок справится   \n",
       "111640                                                     @VikaKomolova ааааа,я в ожидании))постараюсь не удивляться))   \n",
       "7507               Добраться бы до студии еще... пока не замело совсем... пока парни еще ждут... видосик надо готовить)   \n",
       "12581                                                                        Весь деня спать хочу, настроение ужасное((   \n",
       "64777                                грустно :(\"@Fontanka_spb: http://t.co/MmE3qzGefj запретили http://t.co/gtKcyzaPbv\"   \n",
       "46916                                                  @NikaIgnatova да забей на все, зайди в вк и наслаждайся музыкой)   \n",
       "39988                                                        Ну и не пиши мне(\\n\\nЯ теперь не буду никому писать первой   \n",
       "10711                                 ну наконец то дома.Но сейчас поедем кататься с мамой,просто не могу ей отказать:)   \n",
       "\n",
       "        ttype  \n",
       "84664      -1  \n",
       "17411       1  \n",
       "62257      -1  \n",
       "111640      1  \n",
       "7507        1  \n",
       "12581      -1  \n",
       "64777      -1  \n",
       "46916       1  \n",
       "39988      -1  \n",
       "10711       1  "
      ]
     },
     "execution_count": 8,
     "metadata": {},
     "output_type": "execute_result"
    }
   ],
   "source": [
    "data.sample(10)"
   ]
  },
  {
   "cell_type": "markdown",
   "metadata": {},
   "source": [
    "## токенизация и очистка"
   ]
  },
  {
   "cell_type": "code",
   "execution_count": 9,
   "metadata": {},
   "outputs": [],
   "source": [
    "# from pymorphy2 import MorphAnalyzer"
   ]
  },
  {
   "cell_type": "code",
   "execution_count": 10,
   "metadata": {},
   "outputs": [],
   "source": [
    "# # собираем словарь из текстов\n",
    "# def get_vocabulary(ds):\n",
    "#     vcb = [ set(s) for s in ds.tolist() ]\n",
    "#     return sorted(set.union(*vcb))"
   ]
  },
  {
   "cell_type": "code",
   "execution_count": 11,
   "metadata": {},
   "outputs": [],
   "source": [
    "# # лемматизация и очистка с помощью пакета морфологического анализа\n",
    "\n",
    "# morph = MorphAnalyzer()\n",
    "\n",
    "# # применяет список замен pat к строке s\n",
    "# def replace_patterns(s,pat):\n",
    "#     if len(pat)<1: return s\n",
    "#     return  replace_patterns( re.sub(pat[0][0],pat[0][1],s), pat[1:] )\n",
    "\n",
    "# # нормализация текста\n",
    "# def string_normalizer(s):\n",
    "#     pat = [\n",
    "#        [r'ё','е'] # замена ё для унификации\n",
    "#        ,[r'</?[a-z]+>',' '] # удаляем xml\n",
    "#        ,[r'[^a-zа-я\\- ]+',' '] # оставляем только буквы, пробел и -\n",
    "#        ,[r' -\\w+',' '] # удаляем '-й','-тый' и т.п.\n",
    "#        ,[r'\\w+- ',' ']\n",
    "#        ,[r' +',' '] # удаляем повторы пробелов\n",
    "#     ]\n",
    "#     return replace_patterns(s.lower(),pat).strip()\n",
    "\n",
    "# # NOUN (существительное), VERB (глагол), ADJF (прилагательное)\n",
    "# def word_normalizer(w, pos_types=('NOUN','VERB','ADJF')):\n",
    "#     if not morph.word_is_known(w): return ''\n",
    "#     p = morph.parse(w)[0] \n",
    "#     return p.normal_form if (p.tag.POS in pos_types) else ''\n",
    "\n",
    "\n",
    "# def tokenize_normalize(s):\n",
    "#     return [ word_normalizer(w) for w in s.split(' ') if len(w)>1 ]"
   ]
  },
  {
   "cell_type": "code",
   "execution_count": 12,
   "metadata": {},
   "outputs": [],
   "source": [
    "# data['ctext'] = data['ttext'].progress_apply(string_normalizer).progress_apply( tokenize_normalize )"
   ]
  },
  {
   "cell_type": "code",
   "execution_count": 13,
   "metadata": {},
   "outputs": [],
   "source": [
    "# vcb0 =  get_vocabulary( data['ctext'] )\n",
    "# print('словарь %i слов'%(len(vcb0)))\n",
    "# # pd.DataFrame( vcb ).to_csv('voc0.txt',index=False,header=False)"
   ]
  },
  {
   "cell_type": "code",
   "execution_count": 14,
   "metadata": {},
   "outputs": [],
   "source": [
    "# data['ctext'] = data['ctext'].apply( ' '.join  )"
   ]
  },
  {
   "cell_type": "code",
   "execution_count": 15,
   "metadata": {},
   "outputs": [],
   "source": [
    "# data.sample(10)"
   ]
  },
  {
   "cell_type": "markdown",
   "metadata": {},
   "source": [
    "## очистка данных"
   ]
  },
  {
   "cell_type": "code",
   "execution_count": 16,
   "metadata": {},
   "outputs": [
    {
     "name": "stderr",
     "output_type": "stream",
     "text": [
      "100%|██████████| 226833/226833 [00:00<00:00, 276841.68it/s]\n"
     ]
    }
   ],
   "source": [
    "data['ttext_clean'] = data['ttext'].progress_apply(lambda t:[ w.strip() for w in t.split() if w.strip() ] )"
   ]
  },
  {
   "cell_type": "code",
   "execution_count": 17,
   "metadata": {},
   "outputs": [
    {
     "name": "stderr",
     "output_type": "stream",
     "text": [
      "100%|██████████| 226833/226833 [00:01<00:00, 114914.37it/s]\n"
     ]
    }
   ],
   "source": [
    "data['ttext_clean'] = data['ttext_clean'].progress_apply(\n",
    "    lambda t:[ re.sub(r'^http.*',' url ', w.strip() ) for w in t  ]\n",
    "  )"
   ]
  },
  {
   "cell_type": "code",
   "execution_count": 18,
   "metadata": {},
   "outputs": [
    {
     "name": "stderr",
     "output_type": "stream",
     "text": [
      "100%|██████████| 226833/226833 [00:01<00:00, 119344.59it/s]\n"
     ]
    }
   ],
   "source": [
    "data['ttext_clean'] = data['ttext_clean'].progress_apply(\n",
    "    lambda t:[ re.sub(r'[:;]-*[)D]',' happysmile ', w.strip() )for w in t ]\n",
    "  )"
   ]
  },
  {
   "cell_type": "code",
   "execution_count": 19,
   "metadata": {},
   "outputs": [
    {
     "name": "stderr",
     "output_type": "stream",
     "text": [
      "100%|██████████| 226833/226833 [00:01<00:00, 122108.44it/s]\n"
     ]
    }
   ],
   "source": [
    "data['ttext_clean'] = data['ttext_clean'].progress_apply(\n",
    "    lambda t:[ re.sub(r'\\)\\)\\)*',' happysmile ', w.strip() ) for w in t ]\n",
    "  )"
   ]
  },
  {
   "cell_type": "code",
   "execution_count": 20,
   "metadata": {},
   "outputs": [
    {
     "name": "stderr",
     "output_type": "stream",
     "text": [
      "100%|██████████| 226833/226833 [00:01<00:00, 117745.36it/s]\n"
     ]
    }
   ],
   "source": [
    "data['ttext_clean'] = data['ttext_clean'].progress_apply(\n",
    "    lambda t:[ re.sub(r'[:;]\\*',' kisssmile ', w.strip() ) for w in t ]\n",
    "  )"
   ]
  },
  {
   "cell_type": "code",
   "execution_count": 21,
   "metadata": {},
   "outputs": [
    {
     "name": "stderr",
     "output_type": "stream",
     "text": [
      "100%|██████████| 226833/226833 [00:01<00:00, 123654.23it/s]\n"
     ]
    }
   ],
   "source": [
    "data['ttext_clean'] = data['ttext_clean'].progress_apply(\n",
    "    lambda t:[ re.sub(r':\\(',' sadsmile ', w.strip() ) for w in t ]\n",
    "  )"
   ]
  },
  {
   "cell_type": "code",
   "execution_count": 22,
   "metadata": {},
   "outputs": [
    {
     "name": "stderr",
     "output_type": "stream",
     "text": [
      "100%|██████████| 226833/226833 [00:01<00:00, 120430.87it/s]\n"
     ]
    }
   ],
   "source": [
    "data['ttext_clean'] = data['ttext_clean'].progress_apply(\n",
    "    lambda t:[ re.sub(r'\\(\\(\\(*',' sadsmile ', w.strip() ) for w in t ]\n",
    "  )"
   ]
  },
  {
   "cell_type": "code",
   "execution_count": 23,
   "metadata": {},
   "outputs": [],
   "source": [
    "data['ttext_clean'] = [ ' '.join(s) for s in data['ttext_clean'] ]"
   ]
  },
  {
   "cell_type": "code",
   "execution_count": 24,
   "metadata": {},
   "outputs": [
    {
     "name": "stderr",
     "output_type": "stream",
     "text": [
      "100%|██████████| 226833/226833 [00:01<00:00, 205384.55it/s]\n",
      "100%|██████████| 226833/226833 [00:00<00:00, 804567.38it/s]\n",
      "100%|██████████| 226833/226833 [00:00<00:00, 337222.16it/s]\n"
     ]
    }
   ],
   "source": [
    "data['ttext_clean'] = data['ttext_clean'].str.lower()\n",
    "data['ttext_clean'] = data['ttext_clean'].progress_apply(lambda s: re.sub( r'\\W', ' ', s))\n",
    "data['ttext_clean'] = data['ttext_clean'].progress_apply(lambda s: re.sub( r'_', ' ', s))\n",
    "data['ttext_clean'] = data['ttext_clean'].progress_apply(lambda s: re.sub( r'\\b\\d+\\b', ' digit ', s)) \n"
   ]
  },
  {
   "cell_type": "code",
   "execution_count": 25,
   "metadata": {},
   "outputs": [
    {
     "name": "stderr",
     "output_type": "stream",
     "text": [
      "100%|██████████| 226833/226833 [00:00<00:00, 289389.97it/s]\n"
     ]
    }
   ],
   "source": [
    "data['ttext_clean'] = data['ttext_clean'].progress_apply(lambda t:[ w.strip() for w in t.split() if w.strip() ] )"
   ]
  },
  {
   "cell_type": "code",
   "execution_count": 26,
   "metadata": {},
   "outputs": [
    {
     "name": "stderr",
     "output_type": "stream",
     "text": [
      "100%|██████████| 226833/226833 [00:02<00:00, 107798.18it/s]\n"
     ]
    }
   ],
   "source": [
    "# замена буквенно-цифровых кодов\n",
    "data['ttext_clean'] = data['ttext_clean'].progress_apply(\n",
    "    lambda t: [w for w in t if not re.match( r'\\b.*\\d+.*\\b', w) ]\n",
    ")"
   ]
  },
  {
   "cell_type": "code",
   "execution_count": 27,
   "metadata": {},
   "outputs": [
    {
     "data": {
      "text/html": [
       "<div>\n",
       "<style scoped>\n",
       "    .dataframe tbody tr th:only-of-type {\n",
       "        vertical-align: middle;\n",
       "    }\n",
       "\n",
       "    .dataframe tbody tr th {\n",
       "        vertical-align: top;\n",
       "    }\n",
       "\n",
       "    .dataframe thead th {\n",
       "        text-align: right;\n",
       "    }\n",
       "</style>\n",
       "<table border=\"1\" class=\"dataframe\">\n",
       "  <thead>\n",
       "    <tr style=\"text-align: right;\">\n",
       "      <th></th>\n",
       "      <th>id</th>\n",
       "      <th>ttext</th>\n",
       "      <th>ttype</th>\n",
       "      <th>ttext_clean</th>\n",
       "    </tr>\n",
       "  </thead>\n",
       "  <tbody>\n",
       "    <tr>\n",
       "      <th>93060</th>\n",
       "      <td>410866873883193344</td>\n",
       "      <td>Самые хорошие друзья - это мои!!! ))) http://t.co/z8ybGFlEU6</td>\n",
       "      <td>1</td>\n",
       "      <td>[самые, хорошие, друзья, это, мои, happysmile, url]</td>\n",
       "    </tr>\n",
       "    <tr>\n",
       "      <th>98356</th>\n",
       "      <td>422997209148166144</td>\n",
       "      <td>@AlexaPgk вырывай его сразу лучше, потом будет ооочень больно и плохо :(</td>\n",
       "      <td>-1</td>\n",
       "      <td>[alexapgk, вырывай, его, сразу, лучше, потом, будет, ооочень, больно, и, плохо, sadsmile]</td>\n",
       "    </tr>\n",
       "    <tr>\n",
       "      <th>33885</th>\n",
       "      <td>413284428417622017</td>\n",
       "      <td>это была лучшая и одновременно самая худшая ночь в моей жизни...(((</td>\n",
       "      <td>-1</td>\n",
       "      <td>[это, была, лучшая, и, одновременно, самая, худшая, ночь, в, моей, жизни, sadsmile]</td>\n",
       "    </tr>\n",
       "  </tbody>\n",
       "</table>\n",
       "</div>"
      ],
      "text/plain": [
       "                       id  \\\n",
       "93060  410866873883193344   \n",
       "98356  422997209148166144   \n",
       "33885  413284428417622017   \n",
       "\n",
       "                                                                          ttext  \\\n",
       "93060              Самые хорошие друзья - это мои!!! ))) http://t.co/z8ybGFlEU6   \n",
       "98356  @AlexaPgk вырывай его сразу лучше, потом будет ооочень больно и плохо :(   \n",
       "33885       это была лучшая и одновременно самая худшая ночь в моей жизни...(((   \n",
       "\n",
       "       ttype  \\\n",
       "93060      1   \n",
       "98356     -1   \n",
       "33885     -1   \n",
       "\n",
       "                                                                                     ttext_clean  \n",
       "93060                                        [самые, хорошие, друзья, это, мои, happysmile, url]  \n",
       "98356  [alexapgk, вырывай, его, сразу, лучше, потом, будет, ооочень, больно, и, плохо, sadsmile]  \n",
       "33885        [это, была, лучшая, и, одновременно, самая, худшая, ночь, в, моей, жизни, sadsmile]  "
      ]
     },
     "execution_count": 27,
     "metadata": {},
     "output_type": "execute_result"
    }
   ],
   "source": [
    "data.sample(3)"
   ]
  },
  {
   "cell_type": "markdown",
   "metadata": {},
   "source": [
    "---"
   ]
  },
  {
   "cell_type": "code",
   "execution_count": 28,
   "metadata": {},
   "outputs": [],
   "source": [
    "# from nltk import download as nltk_download\n",
    "# nltk_download('stopwords')\n",
    "# from Stemmer import Stemmer\n",
    "\n",
    "# from nltk.stem.snowball import SnowballStemmer\n",
    "# from nltk.corpus import stopwords as nltk_stopwords\n",
    "# stopwords = set(nltk_stopwords.words('russian') )"
   ]
  },
  {
   "cell_type": "code",
   "execution_count": 29,
   "metadata": {},
   "outputs": [],
   "source": [
    "# with gzip.open('../data/text/stop-nltk.txt.gz','rt',encoding='utf-8') as f: \n",
    "#     stopwords = set([ w.strip() for w in  f.read().split() if w.strip() ] )\n",
    "\n",
    "# ppr(stopwords)"
   ]
  },
  {
   "cell_type": "code",
   "execution_count": 30,
   "metadata": {},
   "outputs": [],
   "source": [
    "# удаление лишних слов\n",
    "# data['ttext_clean'] = data['ttext_clean'].apply(lambda t:[w for w in t if w not in stopwords])"
   ]
  },
  {
   "cell_type": "code",
   "execution_count": 31,
   "metadata": {},
   "outputs": [],
   "source": [
    "# %xdel stopwords"
   ]
  },
  {
   "cell_type": "code",
   "execution_count": 32,
   "metadata": {},
   "outputs": [],
   "source": [
    "# %%time \n",
    "\n",
    "# from Stemmer import Stemmer\n",
    "# # pacman -S python-pystemmer\n",
    "# # pip install pystemmer\n",
    "\n",
    "# # стемминг, выделение основы слова\n",
    "# data['ttext_clean'] = data['ttext_clean'].apply( lambda t:Stemmer('russian').stemWords(t) )"
   ]
  },
  {
   "cell_type": "code",
   "execution_count": 33,
   "metadata": {},
   "outputs": [
    {
     "name": "stderr",
     "output_type": "stream",
     "text": [
      "100%|██████████| 226833/226833 [00:00<00:00, 351550.56it/s]\n"
     ]
    }
   ],
   "source": [
    "# удаление коротких слов\n",
    "data['ttext_clean'] = data['ttext_clean'].progress_apply(lambda t:[w for w in t if len(w)>2])"
   ]
  },
  {
   "cell_type": "markdown",
   "metadata": {},
   "source": [
    "---"
   ]
  },
  {
   "cell_type": "code",
   "execution_count": 34,
   "metadata": {},
   "outputs": [],
   "source": [
    "# data[ data['ttext_clean'].str.len()<1 ][['ttext_clean']]"
   ]
  },
  {
   "cell_type": "code",
   "execution_count": 35,
   "metadata": {},
   "outputs": [
    {
     "name": "stdout",
     "output_type": "stream",
     "text": [
      "записей: 226 833\n",
      "записей: 226 831\n"
     ]
    }
   ],
   "source": [
    "ppr(data)\n",
    "data = data[ data['ttext_clean'].str.len()>0 ].reset_index(drop=True) \n",
    "ppr(data)"
   ]
  },
  {
   "cell_type": "code",
   "execution_count": 36,
   "metadata": {},
   "outputs": [
    {
     "data": {
      "text/html": [
       "<div>\n",
       "<style scoped>\n",
       "    .dataframe tbody tr th:only-of-type {\n",
       "        vertical-align: middle;\n",
       "    }\n",
       "\n",
       "    .dataframe tbody tr th {\n",
       "        vertical-align: top;\n",
       "    }\n",
       "\n",
       "    .dataframe thead th {\n",
       "        text-align: right;\n",
       "    }\n",
       "</style>\n",
       "<table border=\"1\" class=\"dataframe\">\n",
       "  <thead>\n",
       "    <tr style=\"text-align: right;\">\n",
       "      <th></th>\n",
       "      <th>id</th>\n",
       "      <th>ttext</th>\n",
       "      <th>ttype</th>\n",
       "      <th>ttext_clean</th>\n",
       "    </tr>\n",
       "  </thead>\n",
       "  <tbody>\n",
       "    <tr>\n",
       "      <th>35531</th>\n",
       "      <td>409776438058172416</td>\n",
       "      <td>RT @_Milosvetova: @katherin_yes поздравляю с твоим днем красотка!))</td>\n",
       "      <td>1</td>\n",
       "      <td>[milosvetova, katherin, yes, поздравляю, твоим, днем, красотка, happysmile]</td>\n",
       "    </tr>\n",
       "    <tr>\n",
       "      <th>25711</th>\n",
       "      <td>409565748055781376</td>\n",
       "      <td>RT @randlape: Вах, столько поздравлений, не ожидал. Спасибо всем! :) Пятница, суббота у меня выходные - ждите много интересных фактов!</td>\n",
       "      <td>1</td>\n",
       "      <td>[randlape, вах, столько, поздравлений, ожидал, спасибо, всем, happysmile, пятница, суббота, меня, выходные, ждите, много, интересных, фактов]</td>\n",
       "    </tr>\n",
       "    <tr>\n",
       "      <th>16669</th>\n",
       "      <td>409363112769253376</td>\n",
       "      <td>Мне определённо нравятся обнимашки с @LenaVasilevaD :*</td>\n",
       "      <td>1</td>\n",
       "      <td>[мне, определённо, нравятся, обнимашки, lenavasilevad, kisssmile]</td>\n",
       "    </tr>\n",
       "  </tbody>\n",
       "</table>\n",
       "</div>"
      ],
      "text/plain": [
       "                       id  \\\n",
       "35531  409776438058172416   \n",
       "25711  409565748055781376   \n",
       "16669  409363112769253376   \n",
       "\n",
       "                                                                                                                                        ttext  \\\n",
       "35531                                                                     RT @_Milosvetova: @katherin_yes поздравляю с твоим днем красотка!))   \n",
       "25711  RT @randlape: Вах, столько поздравлений, не ожидал. Спасибо всем! :) Пятница, суббота у меня выходные - ждите много интересных фактов!   \n",
       "16669                                                                                  Мне определённо нравятся обнимашки с @LenaVasilevaD :*   \n",
       "\n",
       "       ttype  \\\n",
       "35531      1   \n",
       "25711      1   \n",
       "16669      1   \n",
       "\n",
       "                                                                                                                                         ttext_clean  \n",
       "35531                                                                    [milosvetova, katherin, yes, поздравляю, твоим, днем, красотка, happysmile]  \n",
       "25711  [randlape, вах, столько, поздравлений, ожидал, спасибо, всем, happysmile, пятница, суббота, меня, выходные, ждите, много, интересных, фактов]  \n",
       "16669                                                                              [мне, определённо, нравятся, обнимашки, lenavasilevad, kisssmile]  "
      ]
     },
     "execution_count": 36,
     "metadata": {},
     "output_type": "execute_result"
    }
   ],
   "source": [
    "data.sample(3)"
   ]
  },
  {
   "cell_type": "markdown",
   "metadata": {},
   "source": [
    "## строим датасет"
   ]
  },
  {
   "cell_type": "code",
   "execution_count": 37,
   "metadata": {},
   "outputs": [
    {
     "name": "stdout",
     "output_type": "stream",
     "text": [
      "записей: 239 518\n"
     ]
    }
   ],
   "source": [
    "vocab = ['<PAD>'] + sorted(set([ w for t in data['ttext_clean'] for w in t if w ]))\n",
    "vocab = { w:n for n,w in enumerate(vocab) }\n",
    "ppr(vocab)"
   ]
  },
  {
   "cell_type": "code",
   "execution_count": 38,
   "metadata": {},
   "outputs": [
    {
     "data": {
      "text/plain": [
       "32"
      ]
     },
     "execution_count": 38,
     "metadata": {},
     "output_type": "execute_result"
    }
   ],
   "source": [
    "n_max = data['ttext_clean'].str.len().max()\n",
    "n_max"
   ]
  },
  {
   "cell_type": "code",
   "execution_count": 39,
   "metadata": {},
   "outputs": [],
   "source": [
    "pad = ['<PAD>']*n_max"
   ]
  },
  {
   "cell_type": "code",
   "execution_count": 40,
   "metadata": {},
   "outputs": [
    {
     "data": {
      "text/html": [
       "<div>\n",
       "<style scoped>\n",
       "    .dataframe tbody tr th:only-of-type {\n",
       "        vertical-align: middle;\n",
       "    }\n",
       "\n",
       "    .dataframe tbody tr th {\n",
       "        vertical-align: top;\n",
       "    }\n",
       "\n",
       "    .dataframe thead th {\n",
       "        text-align: right;\n",
       "    }\n",
       "</style>\n",
       "<table border=\"1\" class=\"dataframe\">\n",
       "  <thead>\n",
       "    <tr style=\"text-align: right;\">\n",
       "      <th></th>\n",
       "      <th>ttext_clean</th>\n",
       "    </tr>\n",
       "  </thead>\n",
       "  <tbody>\n",
       "    <tr>\n",
       "      <th>0</th>\n",
       "      <td>[все, таки, немного, похож, него, мой, мальчик, все, равно, лучше, happysmile]</td>\n",
       "    </tr>\n",
       "    <tr>\n",
       "      <th>1</th>\n",
       "      <td>[katiacheh, идиотка, испугалась, тебя]</td>\n",
       "    </tr>\n",
       "    <tr>\n",
       "      <th>2</th>\n",
       "      <td>[кто, углу, сидит, погибает, голода, ещё, digit, порции, взяли, хотя, уже, так, жрать, хотим, happysmile, url]</td>\n",
       "    </tr>\n",
       "    <tr>\n",
       "      <th>3</th>\n",
       "      <td>[irina, dyshkant, вот, что, значит, страшилка, happysmile, блин, посмотрев, все, части, тебя, создастся, ощущение, что, авторы, курили, что, happysmile]</td>\n",
       "    </tr>\n",
       "    <tr>\n",
       "      <th>4</th>\n",
       "      <td>[любишь, или, нет, знаю, кто, бля, happysmile, url]</td>\n",
       "    </tr>\n",
       "    <tr>\n",
       "      <th>...</th>\n",
       "      <td>...</td>\n",
       "    </tr>\n",
       "    <tr>\n",
       "      <th>226826</th>\n",
       "      <td>[каждый, хочет, что, исправлять, sadsmile, url]</td>\n",
       "    </tr>\n",
       "    <tr>\n",
       "      <th>226827</th>\n",
       "      <td>[скучаю, так, только, taaannyaaa, вправляет, мозги, все, равно, скучаю]</td>\n",
       "    </tr>\n",
       "    <tr>\n",
       "      <th>226828</th>\n",
       "      <td>[вот, школу, говно, это, идти, уже, надо]</td>\n",
       "    </tr>\n",
       "    <tr>\n",
       "      <th>226829</th>\n",
       "      <td>[them, lisaberoud, тауриэль, грусти, sadsmile, обнял]</td>\n",
       "    </tr>\n",
       "    <tr>\n",
       "      <th>226830</th>\n",
       "      <td>[такси, везет, меня, работу, раздумываю, приплатить, чтобы, меня, втащили, пятый, этаж, лифта, нет, sadsmile]</td>\n",
       "    </tr>\n",
       "  </tbody>\n",
       "</table>\n",
       "<p>226831 rows × 1 columns</p>\n",
       "</div>"
      ],
      "text/plain": [
       "                                                                                                                                                     ttext_clean\n",
       "0                                                                                 [все, таки, немного, похож, него, мой, мальчик, все, равно, лучше, happysmile]\n",
       "1                                                                                                                         [katiacheh, идиотка, испугалась, тебя]\n",
       "2                                                 [кто, углу, сидит, погибает, голода, ещё, digit, порции, взяли, хотя, уже, так, жрать, хотим, happysmile, url]\n",
       "3       [irina, dyshkant, вот, что, значит, страшилка, happysmile, блин, посмотрев, все, части, тебя, создастся, ощущение, что, авторы, курили, что, happysmile]\n",
       "4                                                                                                            [любишь, или, нет, знаю, кто, бля, happysmile, url]\n",
       "...                                                                                                                                                          ...\n",
       "226826                                                                                                           [каждый, хочет, что, исправлять, sadsmile, url]\n",
       "226827                                                                                   [скучаю, так, только, taaannyaaa, вправляет, мозги, все, равно, скучаю]\n",
       "226828                                                                                                                 [вот, школу, говно, это, идти, уже, надо]\n",
       "226829                                                                                                     [them, lisaberoud, тауриэль, грусти, sadsmile, обнял]\n",
       "226830                                             [такси, везет, меня, работу, раздумываю, приплатить, чтобы, меня, втащили, пятый, этаж, лифта, нет, sadsmile]\n",
       "\n",
       "[226831 rows x 1 columns]"
      ]
     },
     "execution_count": 40,
     "metadata": {},
     "output_type": "execute_result"
    }
   ],
   "source": [
    "data[['ttext_clean']]"
   ]
  },
  {
   "cell_type": "code",
   "execution_count": 41,
   "metadata": {},
   "outputs": [
    {
     "name": "stderr",
     "output_type": "stream",
     "text": [
      "100%|██████████| 226831/226831 [00:00<00:00, 349981.78it/s]\n"
     ]
    }
   ],
   "source": [
    "data['ttext_clean'] = data['ttext_clean'].progress_apply(\n",
    "    lambda t: pad[len(t):] + list(reversed(t)) \n",
    "  )"
   ]
  },
  {
   "cell_type": "code",
   "execution_count": 42,
   "metadata": {},
   "outputs": [
    {
     "data": {
      "text/html": [
       "<div>\n",
       "<style scoped>\n",
       "    .dataframe tbody tr th:only-of-type {\n",
       "        vertical-align: middle;\n",
       "    }\n",
       "\n",
       "    .dataframe tbody tr th {\n",
       "        vertical-align: top;\n",
       "    }\n",
       "\n",
       "    .dataframe thead th {\n",
       "        text-align: right;\n",
       "    }\n",
       "</style>\n",
       "<table border=\"1\" class=\"dataframe\">\n",
       "  <thead>\n",
       "    <tr style=\"text-align: right;\">\n",
       "      <th></th>\n",
       "      <th>ttext_clean</th>\n",
       "    </tr>\n",
       "  </thead>\n",
       "  <tbody>\n",
       "    <tr>\n",
       "      <th>0</th>\n",
       "      <td>[&lt;PAD&gt;, &lt;PAD&gt;, &lt;PAD&gt;, &lt;PAD&gt;, &lt;PAD&gt;, &lt;PAD&gt;, &lt;PAD&gt;, &lt;PAD&gt;, &lt;PAD&gt;, &lt;PAD&gt;, &lt;PAD&gt;, &lt;PAD&gt;, &lt;PAD&gt;, &lt;PAD&gt;, &lt;PAD&gt;, &lt;PAD&gt;, &lt;PAD&gt;, &lt;PAD&gt;, &lt;PAD&gt;, &lt;PAD&gt;, &lt;PAD&gt;, happysmile, лучше, равно, все, мальчик, мой, нег...</td>\n",
       "    </tr>\n",
       "    <tr>\n",
       "      <th>1</th>\n",
       "      <td>[&lt;PAD&gt;, &lt;PAD&gt;, &lt;PAD&gt;, &lt;PAD&gt;, &lt;PAD&gt;, &lt;PAD&gt;, &lt;PAD&gt;, &lt;PAD&gt;, &lt;PAD&gt;, &lt;PAD&gt;, &lt;PAD&gt;, &lt;PAD&gt;, &lt;PAD&gt;, &lt;PAD&gt;, &lt;PAD&gt;, &lt;PAD&gt;, &lt;PAD&gt;, &lt;PAD&gt;, &lt;PAD&gt;, &lt;PAD&gt;, &lt;PAD&gt;, &lt;PAD&gt;, &lt;PAD&gt;, &lt;PAD&gt;, &lt;PAD&gt;, &lt;PAD&gt;, &lt;PAD&gt;, &lt;PAD&gt;,...</td>\n",
       "    </tr>\n",
       "    <tr>\n",
       "      <th>2</th>\n",
       "      <td>[&lt;PAD&gt;, &lt;PAD&gt;, &lt;PAD&gt;, &lt;PAD&gt;, &lt;PAD&gt;, &lt;PAD&gt;, &lt;PAD&gt;, &lt;PAD&gt;, &lt;PAD&gt;, &lt;PAD&gt;, &lt;PAD&gt;, &lt;PAD&gt;, &lt;PAD&gt;, &lt;PAD&gt;, &lt;PAD&gt;, &lt;PAD&gt;, url, happysmile, хотим, жрать, так, уже, хотя, взяли, порции, digit, ещё, голода, п...</td>\n",
       "    </tr>\n",
       "    <tr>\n",
       "      <th>3</th>\n",
       "      <td>[&lt;PAD&gt;, &lt;PAD&gt;, &lt;PAD&gt;, &lt;PAD&gt;, &lt;PAD&gt;, &lt;PAD&gt;, &lt;PAD&gt;, &lt;PAD&gt;, &lt;PAD&gt;, &lt;PAD&gt;, &lt;PAD&gt;, &lt;PAD&gt;, &lt;PAD&gt;, happysmile, что, курили, авторы, что, ощущение, создастся, тебя, части, все, посмотрев, блин, happysmile...</td>\n",
       "    </tr>\n",
       "    <tr>\n",
       "      <th>4</th>\n",
       "      <td>[&lt;PAD&gt;, &lt;PAD&gt;, &lt;PAD&gt;, &lt;PAD&gt;, &lt;PAD&gt;, &lt;PAD&gt;, &lt;PAD&gt;, &lt;PAD&gt;, &lt;PAD&gt;, &lt;PAD&gt;, &lt;PAD&gt;, &lt;PAD&gt;, &lt;PAD&gt;, &lt;PAD&gt;, &lt;PAD&gt;, &lt;PAD&gt;, &lt;PAD&gt;, &lt;PAD&gt;, &lt;PAD&gt;, &lt;PAD&gt;, &lt;PAD&gt;, &lt;PAD&gt;, &lt;PAD&gt;, &lt;PAD&gt;, url, happysmile, бля, кто, ...</td>\n",
       "    </tr>\n",
       "    <tr>\n",
       "      <th>...</th>\n",
       "      <td>...</td>\n",
       "    </tr>\n",
       "    <tr>\n",
       "      <th>226826</th>\n",
       "      <td>[&lt;PAD&gt;, &lt;PAD&gt;, &lt;PAD&gt;, &lt;PAD&gt;, &lt;PAD&gt;, &lt;PAD&gt;, &lt;PAD&gt;, &lt;PAD&gt;, &lt;PAD&gt;, &lt;PAD&gt;, &lt;PAD&gt;, &lt;PAD&gt;, &lt;PAD&gt;, &lt;PAD&gt;, &lt;PAD&gt;, &lt;PAD&gt;, &lt;PAD&gt;, &lt;PAD&gt;, &lt;PAD&gt;, &lt;PAD&gt;, &lt;PAD&gt;, &lt;PAD&gt;, &lt;PAD&gt;, &lt;PAD&gt;, &lt;PAD&gt;, &lt;PAD&gt;, url, sadsmile...</td>\n",
       "    </tr>\n",
       "    <tr>\n",
       "      <th>226827</th>\n",
       "      <td>[&lt;PAD&gt;, &lt;PAD&gt;, &lt;PAD&gt;, &lt;PAD&gt;, &lt;PAD&gt;, &lt;PAD&gt;, &lt;PAD&gt;, &lt;PAD&gt;, &lt;PAD&gt;, &lt;PAD&gt;, &lt;PAD&gt;, &lt;PAD&gt;, &lt;PAD&gt;, &lt;PAD&gt;, &lt;PAD&gt;, &lt;PAD&gt;, &lt;PAD&gt;, &lt;PAD&gt;, &lt;PAD&gt;, &lt;PAD&gt;, &lt;PAD&gt;, &lt;PAD&gt;, &lt;PAD&gt;, скучаю, равно, все, мозги, вправля...</td>\n",
       "    </tr>\n",
       "    <tr>\n",
       "      <th>226828</th>\n",
       "      <td>[&lt;PAD&gt;, &lt;PAD&gt;, &lt;PAD&gt;, &lt;PAD&gt;, &lt;PAD&gt;, &lt;PAD&gt;, &lt;PAD&gt;, &lt;PAD&gt;, &lt;PAD&gt;, &lt;PAD&gt;, &lt;PAD&gt;, &lt;PAD&gt;, &lt;PAD&gt;, &lt;PAD&gt;, &lt;PAD&gt;, &lt;PAD&gt;, &lt;PAD&gt;, &lt;PAD&gt;, &lt;PAD&gt;, &lt;PAD&gt;, &lt;PAD&gt;, &lt;PAD&gt;, &lt;PAD&gt;, &lt;PAD&gt;, &lt;PAD&gt;, надо, уже, идти, это...</td>\n",
       "    </tr>\n",
       "    <tr>\n",
       "      <th>226829</th>\n",
       "      <td>[&lt;PAD&gt;, &lt;PAD&gt;, &lt;PAD&gt;, &lt;PAD&gt;, &lt;PAD&gt;, &lt;PAD&gt;, &lt;PAD&gt;, &lt;PAD&gt;, &lt;PAD&gt;, &lt;PAD&gt;, &lt;PAD&gt;, &lt;PAD&gt;, &lt;PAD&gt;, &lt;PAD&gt;, &lt;PAD&gt;, &lt;PAD&gt;, &lt;PAD&gt;, &lt;PAD&gt;, &lt;PAD&gt;, &lt;PAD&gt;, &lt;PAD&gt;, &lt;PAD&gt;, &lt;PAD&gt;, &lt;PAD&gt;, &lt;PAD&gt;, &lt;PAD&gt;, обнял, sadsmi...</td>\n",
       "    </tr>\n",
       "    <tr>\n",
       "      <th>226830</th>\n",
       "      <td>[&lt;PAD&gt;, &lt;PAD&gt;, &lt;PAD&gt;, &lt;PAD&gt;, &lt;PAD&gt;, &lt;PAD&gt;, &lt;PAD&gt;, &lt;PAD&gt;, &lt;PAD&gt;, &lt;PAD&gt;, &lt;PAD&gt;, &lt;PAD&gt;, &lt;PAD&gt;, &lt;PAD&gt;, &lt;PAD&gt;, &lt;PAD&gt;, &lt;PAD&gt;, &lt;PAD&gt;, sadsmile, нет, лифта, этаж, пятый, втащили, меня, чтобы, приплатить, ...</td>\n",
       "    </tr>\n",
       "  </tbody>\n",
       "</table>\n",
       "<p>226831 rows × 1 columns</p>\n",
       "</div>"
      ],
      "text/plain": [
       "                                                                                                                                                                                                    ttext_clean\n",
       "0       [<PAD>, <PAD>, <PAD>, <PAD>, <PAD>, <PAD>, <PAD>, <PAD>, <PAD>, <PAD>, <PAD>, <PAD>, <PAD>, <PAD>, <PAD>, <PAD>, <PAD>, <PAD>, <PAD>, <PAD>, <PAD>, happysmile, лучше, равно, все, мальчик, мой, нег...\n",
       "1       [<PAD>, <PAD>, <PAD>, <PAD>, <PAD>, <PAD>, <PAD>, <PAD>, <PAD>, <PAD>, <PAD>, <PAD>, <PAD>, <PAD>, <PAD>, <PAD>, <PAD>, <PAD>, <PAD>, <PAD>, <PAD>, <PAD>, <PAD>, <PAD>, <PAD>, <PAD>, <PAD>, <PAD>,...\n",
       "2       [<PAD>, <PAD>, <PAD>, <PAD>, <PAD>, <PAD>, <PAD>, <PAD>, <PAD>, <PAD>, <PAD>, <PAD>, <PAD>, <PAD>, <PAD>, <PAD>, url, happysmile, хотим, жрать, так, уже, хотя, взяли, порции, digit, ещё, голода, п...\n",
       "3       [<PAD>, <PAD>, <PAD>, <PAD>, <PAD>, <PAD>, <PAD>, <PAD>, <PAD>, <PAD>, <PAD>, <PAD>, <PAD>, happysmile, что, курили, авторы, что, ощущение, создастся, тебя, части, все, посмотрев, блин, happysmile...\n",
       "4       [<PAD>, <PAD>, <PAD>, <PAD>, <PAD>, <PAD>, <PAD>, <PAD>, <PAD>, <PAD>, <PAD>, <PAD>, <PAD>, <PAD>, <PAD>, <PAD>, <PAD>, <PAD>, <PAD>, <PAD>, <PAD>, <PAD>, <PAD>, <PAD>, url, happysmile, бля, кто, ...\n",
       "...                                                                                                                                                                                                         ...\n",
       "226826  [<PAD>, <PAD>, <PAD>, <PAD>, <PAD>, <PAD>, <PAD>, <PAD>, <PAD>, <PAD>, <PAD>, <PAD>, <PAD>, <PAD>, <PAD>, <PAD>, <PAD>, <PAD>, <PAD>, <PAD>, <PAD>, <PAD>, <PAD>, <PAD>, <PAD>, <PAD>, url, sadsmile...\n",
       "226827  [<PAD>, <PAD>, <PAD>, <PAD>, <PAD>, <PAD>, <PAD>, <PAD>, <PAD>, <PAD>, <PAD>, <PAD>, <PAD>, <PAD>, <PAD>, <PAD>, <PAD>, <PAD>, <PAD>, <PAD>, <PAD>, <PAD>, <PAD>, скучаю, равно, все, мозги, вправля...\n",
       "226828  [<PAD>, <PAD>, <PAD>, <PAD>, <PAD>, <PAD>, <PAD>, <PAD>, <PAD>, <PAD>, <PAD>, <PAD>, <PAD>, <PAD>, <PAD>, <PAD>, <PAD>, <PAD>, <PAD>, <PAD>, <PAD>, <PAD>, <PAD>, <PAD>, <PAD>, надо, уже, идти, это...\n",
       "226829  [<PAD>, <PAD>, <PAD>, <PAD>, <PAD>, <PAD>, <PAD>, <PAD>, <PAD>, <PAD>, <PAD>, <PAD>, <PAD>, <PAD>, <PAD>, <PAD>, <PAD>, <PAD>, <PAD>, <PAD>, <PAD>, <PAD>, <PAD>, <PAD>, <PAD>, <PAD>, обнял, sadsmi...\n",
       "226830  [<PAD>, <PAD>, <PAD>, <PAD>, <PAD>, <PAD>, <PAD>, <PAD>, <PAD>, <PAD>, <PAD>, <PAD>, <PAD>, <PAD>, <PAD>, <PAD>, <PAD>, <PAD>, sadsmile, нет, лифта, этаж, пятый, втащили, меня, чтобы, приплатить, ...\n",
       "\n",
       "[226831 rows x 1 columns]"
      ]
     },
     "execution_count": 42,
     "metadata": {},
     "output_type": "execute_result"
    }
   ],
   "source": [
    "data[['ttext_clean']]"
   ]
  },
  {
   "cell_type": "code",
   "execution_count": 43,
   "metadata": {},
   "outputs": [
    {
     "name": "stderr",
     "output_type": "stream",
     "text": [
      "100%|██████████| 226831/226831 [00:01<00:00, 198424.36it/s]\n"
     ]
    }
   ],
   "source": [
    "data['ttext_code'] = data['ttext_clean'].progress_apply(lambda t: [ vocab[w] for w in t ] )"
   ]
  },
  {
   "cell_type": "code",
   "execution_count": 44,
   "metadata": {},
   "outputs": [
    {
     "data": {
      "text/plain": [
       "array([list([0, 0, 0, 0, 0, 0, 0, 0, 0, 0, 0, 0, 0, 0, 0, 0, 0, 0, 0, 0, 0, 21932, 134722, 187697, 89214, 136511, 141026, 148276, 178077, 149307, 211286, 89214]),\n",
       "       list([0, 0, 0, 0, 0, 0, 0, 0, 0, 0, 0, 0, 0, 0, 0, 0, 0, 0, 0, 0, 0, 0, 0, 0, 0, 0, 0, 0, 212621, 119895, 117135, 27794]),\n",
       "       list([0, 0, 0, 0, 0, 0, 0, 0, 0, 0, 0, 0, 0, 0, 0, 0, 61231, 21932, 228419, 108716, 211256, 219378, 228440, 85334, 176332, 13805, 107151, 95465, 170073, 199030, 218583, 130035]),\n",
       "       ...,\n",
       "       list([0, 0, 0, 0, 0, 0, 0, 0, 0, 0, 0, 0, 0, 0, 0, 0, 0, 0, 0, 0, 0, 0, 0, 0, 0, 144360, 219378, 117173, 237045, 95113, 234141, 88670]),\n",
       "       list([0, 0, 0, 0, 0, 0, 0, 0, 0, 0, 0, 0, 0, 0, 0, 0, 0, 0, 0, 0, 0, 0, 0, 0, 0, 0, 154299, 51505, 97224, 212063, 33806, 58779]),\n",
       "       list([0, 0, 0, 0, 0, 0, 0, 0, 0, 0, 0, 0, 0, 0, 0, 0, 0, 0, 51505, 150488, 133643, 236973, 187415, 89883, 138734, 232375, 181864, 188709, 187641, 138734, 83981, 211362])],\n",
       "      dtype=object)"
      ]
     },
     "execution_count": 44,
     "metadata": {},
     "output_type": "execute_result"
    }
   ],
   "source": [
    "data['ttext_code'].values"
   ]
  },
  {
   "cell_type": "code",
   "execution_count": 45,
   "metadata": {},
   "outputs": [
    {
     "data": {
      "text/plain": [
       "(226831, 32)"
      ]
     },
     "execution_count": 45,
     "metadata": {},
     "output_type": "execute_result"
    }
   ],
   "source": [
    "x = np.stack( data['ttext_code'].values).astype(np.int)\n",
    "x.shape"
   ]
  },
  {
   "cell_type": "code",
   "execution_count": 46,
   "metadata": {},
   "outputs": [
    {
     "data": {
      "text/plain": [
       "(226831, 2)"
      ]
     },
     "execution_count": 46,
     "metadata": {},
     "output_type": "execute_result"
    }
   ],
   "source": [
    "n_classes=2\n",
    "target = data['ttype'].values\n",
    "target = (target+1)//2\n",
    "y = np.eye(n_classes)[target]\n",
    "\n",
    "y.shape"
   ]
  },
  {
   "cell_type": "code",
   "execution_count": 47,
   "metadata": {},
   "outputs": [
    {
     "data": {
      "text/plain": [
       "((226831, 32), (226831, 2), 239517, 32)"
      ]
     },
     "execution_count": 47,
     "metadata": {},
     "output_type": "execute_result"
    }
   ],
   "source": [
    "max_word = x.max()\n",
    "seq_len = x.shape[1]\n",
    "x.shape , y.shape, max_word, seq_len"
   ]
  },
  {
   "cell_type": "code",
   "execution_count": 48,
   "metadata": {},
   "outputs": [
    {
     "data": {
      "text/plain": [
       "((136098, 32), (136098, 2), (90733, 32), (90733, 2))"
      ]
     },
     "execution_count": 48,
     "metadata": {},
     "output_type": "execute_result"
    }
   ],
   "source": [
    "from sklearn.model_selection import train_test_split\n",
    "\n",
    "x_train, x_test, y_train, y_test = train_test_split( x, y, test_size=.4 )\n",
    "x_train.shape, y_train.shape, x_test.shape, y_test.shape"
   ]
  },
  {
   "cell_type": "code",
   "execution_count": 49,
   "metadata": {},
   "outputs": [
    {
     "data": {
      "text/plain": [
       "(array([67052., 69046.]), array([44870., 45863.]))"
      ]
     },
     "execution_count": 49,
     "metadata": {},
     "output_type": "execute_result"
    }
   ],
   "source": [
    "y_train.sum(axis=0),y_test.sum(axis=0),"
   ]
  },
  {
   "cell_type": "markdown",
   "metadata": {},
   "source": [
    "## строим нейросеть "
   ]
  },
  {
   "cell_type": "code",
   "execution_count": 50,
   "metadata": {},
   "outputs": [],
   "source": [
    "from tensorflow.keras.models import Sequential\n",
    "from tensorflow.keras.layers import Embedding\n",
    "from tensorflow.keras.layers import LSTM\n",
    "from tensorflow.keras.layers import Dense"
   ]
  },
  {
   "cell_type": "code",
   "execution_count": 51,
   "metadata": {},
   "outputs": [],
   "source": [
    "embedding_size = 64\n",
    "\n",
    "model = Sequential()\n",
    "model.add(Embedding( input_dim = max_word+1, output_dim = embedding_size, input_length = seq_len,))\n",
    "model.add(LSTM(32))\n",
    "model.add(Dense(n_classes, activation='softmax'))"
   ]
  },
  {
   "cell_type": "code",
   "execution_count": 52,
   "metadata": {},
   "outputs": [],
   "source": [
    "model.compile(loss='categorical_crossentropy',\n",
    "              optimizer='adam',\n",
    "              metrics=['accuracy'])"
   ]
  },
  {
   "cell_type": "code",
   "execution_count": 53,
   "metadata": {},
   "outputs": [
    {
     "name": "stdout",
     "output_type": "stream",
     "text": [
      "Epoch 1/9\n",
      "94/94 [==============================] - 8s 81ms/step - loss: 0.4631 - accuracy: 0.7792 - val_loss: 0.2471 - val_accuracy: 0.8923\n",
      "Epoch 2/9\n",
      "94/94 [==============================] - 7s 77ms/step - loss: 0.1628 - accuracy: 0.9342 - val_loss: 0.2268 - val_accuracy: 0.8955\n",
      "Epoch 3/9\n",
      "94/94 [==============================] - 7s 77ms/step - loss: 0.0812 - accuracy: 0.9706 - val_loss: 0.2628 - val_accuracy: 0.8906\n",
      "Epoch 4/9\n",
      "94/94 [==============================] - 7s 77ms/step - loss: 0.0466 - accuracy: 0.9842 - val_loss: 0.3144 - val_accuracy: 0.8834\n",
      "Epoch 5/9\n",
      "94/94 [==============================] - 7s 77ms/step - loss: 0.0319 - accuracy: 0.9902 - val_loss: 0.3816 - val_accuracy: 0.8824\n",
      "Epoch 6/9\n",
      "94/94 [==============================] - 7s 78ms/step - loss: 0.0215 - accuracy: 0.9936 - val_loss: 0.3853 - val_accuracy: 0.8844\n",
      "Epoch 7/9\n",
      "94/94 [==============================] - 7s 78ms/step - loss: 0.0150 - accuracy: 0.9957 - val_loss: 0.4026 - val_accuracy: 0.8846\n",
      "Epoch 8/9\n",
      "94/94 [==============================] - 7s 77ms/step - loss: 0.0114 - accuracy: 0.9967 - val_loss: 0.4798 - val_accuracy: 0.8844\n",
      "Epoch 9/9\n",
      "94/94 [==============================] - 7s 77ms/step - loss: 0.0091 - accuracy: 0.9975 - val_loss: 0.5437 - val_accuracy: 0.8834\n",
      "CPU times: user 3min 21s, sys: 1.2 s, total: 3min 23s\n",
      "Wall time: 1min 8s\n"
     ]
    }
   ],
   "source": [
    "%%time\n",
    "\n",
    "hist = model.fit(x_train,y_train, batch_size=1024, epochs=9, validation_split=.3)"
   ]
  },
  {
   "cell_type": "code",
   "execution_count": 54,
   "metadata": {},
   "outputs": [
    {
     "name": "stdout",
     "output_type": "stream",
     "text": [
      "2836/2836 [==============================] - 3s 1ms/step - loss: 0.5439 - accuracy: 0.8818\n"
     ]
    },
    {
     "data": {
      "text/plain": [
       "[0.5439070463180542, 0.8818401098251343]"
      ]
     },
     "execution_count": 54,
     "metadata": {},
     "output_type": "execute_result"
    }
   ],
   "source": [
    "model.evaluate(x_test ,y_test )"
   ]
  },
  {
   "cell_type": "code",
   "execution_count": 58,
   "metadata": {},
   "outputs": [
    {
     "data": {
      "image/png": "[encoded data removed]",
      "text/plain": [
       "<Figure size 1728x288 with 4 Axes>"
      ]
     },
     "metadata": {
      "needs_background": "light"
     },
     "output_type": "display_data"
    }
   ],
   "source": [
    "from matplotlib import pyplot as plt\n",
    "\n",
    "k = hist.history.keys()\n",
    "\n",
    "w,h = 6,4\n",
    "\n",
    "fig,ax = plt.subplots(1,len(k),figsize=(w*len(k),h))\n",
    "for i,n in enumerate(k):\n",
    "    ax[i].plot(hist.history[n],label=n)\n",
    "    ax[i].grid(True)\n",
    "    ax[i].legend()\n",
    "    ax[i].set_ylim([-.1,1.1])"
   ]
  },
  {
   "cell_type": "code",
   "execution_count": null,
   "metadata": {},
   "outputs": [],
   "source": []
  }
 ],
 "metadata": {
  "kernelspec": {
   "display_name": "Python 3",
   "language": "python",
   "name": "python3"
  },
  "language_info": {
   "codemirror_mode": {
    "name": "ipython",
    "version": 3
   },
   "file_extension": ".py",
   "mimetype": "text/x-python",
   "name": "python",
   "nbconvert_exporter": "python",
   "pygments_lexer": "ipython3",
   "version": "3.9.0"
  },
  "toc": {
   "base_numbering": 1,
   "nav_menu": {},
   "number_sections": true,
   "sideBar": true,
   "skip_h1_title": false,
   "title_cell": "Table of Contents",
   "title_sidebar": "Contents",
   "toc_cell": false,
   "toc_position": {},
   "toc_section_display": "block",
   "toc_window_display": true
  }
 },
 "nbformat": 4,
 "nbformat_minor": 4
}
