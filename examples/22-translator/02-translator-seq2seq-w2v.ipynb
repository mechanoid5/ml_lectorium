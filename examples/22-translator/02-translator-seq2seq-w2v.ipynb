{
 "cells": [
  {
   "cell_type": "markdown",
   "metadata": {},
   "source": [
    "**автоматический переводчик на основе рекуррентных нейросетей seq2seq**\n",
    "\n",
    "кодируем слова word2vec\n",
    "\n",
    "Евгений Борисов <borisov.e@solarl.ru>"
   ]
  },
  {
   "cell_type": "markdown",
   "metadata": {},
   "source": [
    "\n",
    "----"
   ]
  },
  {
   "cell_type": "markdown",
   "metadata": {},
   "source": [
    "## Библиотеки"
   ]
  },
  {
   "cell_type": "code",
   "execution_count": 1,
   "metadata": {},
   "outputs": [],
   "source": [
    "import numpy as np\n",
    "import re\n",
    "import gzip\n",
    "\n",
    "import pandas as pd\n",
    "pd.options.display.max_colwidth = 200  \n"
   ]
  },
  {
   "cell_type": "code",
   "execution_count": 2,
   "metadata": {},
   "outputs": [],
   "source": [
    "def pp(d): return \"{:,.0f}\".format(d).replace(\",\", \" \")\n",
    "def ppr(d): print('записей:', pp(len(d)) )  "
   ]
  },
  {
   "cell_type": "markdown",
   "metadata": {},
   "source": [
    "## Учебные данные"
   ]
  },
  {
   "cell_type": "code",
   "execution_count": 3,
   "metadata": {},
   "outputs": [],
   "source": [
    "with gzip.open('../data/text/rus-eng/rus.txt.gz','rt',encoding='utf8') as f: \n",
    "    pair = pd.DataFrame([ p.split('\\t') for p in f.read().split('\\n') if p.strip() ])"
   ]
  },
  {
   "cell_type": "code",
   "execution_count": 4,
   "metadata": {},
   "outputs": [],
   "source": [
    "# with open('../data/text/pairs.txt','rt',encoding='utf8') as f: \n",
    "#     pair = pd.DataFrame([ p.split('%%') for p in f.read().split('\\n') if p.strip() ])"
   ]
  },
  {
   "cell_type": "code",
   "execution_count": 5,
   "metadata": {},
   "outputs": [],
   "source": [
    "pair.columns=['Q','A']\n",
    "pair['Q'] = pair['Q'].str.strip()\n",
    "pair['A'] = pair['A'].str.strip()"
   ]
  },
  {
   "cell_type": "code",
   "execution_count": 6,
   "metadata": {},
   "outputs": [
    {
     "name": "stdout",
     "output_type": "stream",
     "text": [
      "записей: 336 666\n"
     ]
    },
    {
     "data": {
      "text/html": [
       "<div>\n",
       "<style scoped>\n",
       "    .dataframe tbody tr th:only-of-type {\n",
       "        vertical-align: middle;\n",
       "    }\n",
       "\n",
       "    .dataframe tbody tr th {\n",
       "        vertical-align: top;\n",
       "    }\n",
       "\n",
       "    .dataframe thead th {\n",
       "        text-align: right;\n",
       "    }\n",
       "</style>\n",
       "<table border=\"1\" class=\"dataframe\">\n",
       "  <thead>\n",
       "    <tr style=\"text-align: right;\">\n",
       "      <th></th>\n",
       "      <th>Q</th>\n",
       "      <th>A</th>\n",
       "    </tr>\n",
       "  </thead>\n",
       "  <tbody>\n",
       "    <tr>\n",
       "      <th>254275</th>\n",
       "      <td>The dog started running in circles.</td>\n",
       "      <td>Собака начала бегать кругами.</td>\n",
       "    </tr>\n",
       "    <tr>\n",
       "      <th>83935</th>\n",
       "      <td>Don't make me do that.</td>\n",
       "      <td>Не заставляйте меня это делать.</td>\n",
       "    </tr>\n",
       "    <tr>\n",
       "      <th>58503</th>\n",
       "      <td>Hold your positions.</td>\n",
       "      <td>Держите позиции!</td>\n",
       "    </tr>\n",
       "    <tr>\n",
       "      <th>298689</th>\n",
       "      <td>It took them two years to build the house.</td>\n",
       "      <td>На постройку дома у них ушло два года.</td>\n",
       "    </tr>\n",
       "    <tr>\n",
       "      <th>95220</th>\n",
       "      <td>Are you going to be OK?</td>\n",
       "      <td>Ты будешь в порядке?</td>\n",
       "    </tr>\n",
       "    <tr>\n",
       "      <th>327430</th>\n",
       "      <td>Women are not permitted to drive cars in Saudi Arabia.</td>\n",
       "      <td>В Саудовской Аравии женщинам запрещено водить автомобиль.</td>\n",
       "    </tr>\n",
       "    <tr>\n",
       "      <th>288029</th>\n",
       "      <td>I thought that that was kind of strange.</td>\n",
       "      <td>Я подумал, что это как-то странно.</td>\n",
       "    </tr>\n",
       "    <tr>\n",
       "      <th>40708</th>\n",
       "      <td>Tom began praying.</td>\n",
       "      <td>Том начал молиться.</td>\n",
       "    </tr>\n",
       "    <tr>\n",
       "      <th>87736</th>\n",
       "      <td>I'm so glad I met you.</td>\n",
       "      <td>Я так рад, что познакомился с тобой.</td>\n",
       "    </tr>\n",
       "  </tbody>\n",
       "</table>\n",
       "</div>"
      ],
      "text/plain": [
       "                                                             Q  \\\n",
       "254275                     The dog started running in circles.   \n",
       "83935                                   Don't make me do that.   \n",
       "58503                                     Hold your positions.   \n",
       "298689              It took them two years to build the house.   \n",
       "95220                                  Are you going to be OK?   \n",
       "327430  Women are not permitted to drive cars in Saudi Arabia.   \n",
       "288029                I thought that that was kind of strange.   \n",
       "40708                                       Tom began praying.   \n",
       "87736                                   I'm so glad I met you.   \n",
       "\n",
       "                                                                A  \n",
       "254275                              Собака начала бегать кругами.  \n",
       "83935                             Не заставляйте меня это делать.  \n",
       "58503                                            Держите позиции!  \n",
       "298689                     На постройку дома у них ушло два года.  \n",
       "95220                                        Ты будешь в порядке?  \n",
       "327430  В Саудовской Аравии женщинам запрещено водить автомобиль.  \n",
       "288029                         Я подумал, что это как-то странно.  \n",
       "40708                                         Том начал молиться.  \n",
       "87736                        Я так рад, что познакомился с тобой.  "
      ]
     },
     "execution_count": 6,
     "metadata": {},
     "output_type": "execute_result"
    }
   ],
   "source": [
    "ppr(pair)\n",
    "pair.sample(9)"
   ]
  },
  {
   "cell_type": "code",
   "execution_count": 7,
   "metadata": {},
   "outputs": [],
   "source": [
    "pair = pair.iloc[100000:110000]"
   ]
  },
  {
   "cell_type": "markdown",
   "metadata": {},
   "source": [
    "## Чистим тексты"
   ]
  },
  {
   "cell_type": "code",
   "execution_count": 8,
   "metadata": {},
   "outputs": [],
   "source": [
    "pair['Q_clean'] = pair['Q'].str.lower()\n",
    "pair['Q_clean'] = pair['Q_clean'].str.replace(r'([,.?!])', r' \\1 ')\n",
    "\n",
    "pair['A_clean'] = pair['A'].str.lower()\n",
    "pair['A_clean'] = pair['A_clean'].str.replace(r'([,.?!])', r' \\1 ')\n",
    "\n",
    "# pair['A_clean'] = pair['A_clean'].apply(lambda s: re.sub( r'(\\W)', ' \\1 ', s))\n",
    "# pair['A_clean'] = pair['A_clean'].apply(lambda s: re.sub( r'\\W', ' ', s))\n",
    "# pair['A_clean'] = pair['A_clean'].apply(lambda s: re.sub( r'\\b\\d+\\b', ' digit ', s)) "
   ]
  },
  {
   "cell_type": "code",
   "execution_count": 9,
   "metadata": {},
   "outputs": [],
   "source": [
    "# добавляем \"служебные\" слова - начало и конец последовательности\n",
    "pair['Q_clean'] = pair['Q_clean'].str.split() + ['<START>']\n",
    "# pair['Q_clean'] = ['<START>'] + pair['Q_clean'].str.split() + ['<EOS>']\n",
    "pair['A_clean'] = ['<GO>'] + pair['A_clean'].str.split() + ['<EOS>']"
   ]
  },
  {
   "cell_type": "code",
   "execution_count": 10,
   "metadata": {},
   "outputs": [
    {
     "data": {
      "text/html": [
       "<div>\n",
       "<style scoped>\n",
       "    .dataframe tbody tr th:only-of-type {\n",
       "        vertical-align: middle;\n",
       "    }\n",
       "\n",
       "    .dataframe tbody tr th {\n",
       "        vertical-align: top;\n",
       "    }\n",
       "\n",
       "    .dataframe thead th {\n",
       "        text-align: right;\n",
       "    }\n",
       "</style>\n",
       "<table border=\"1\" class=\"dataframe\">\n",
       "  <thead>\n",
       "    <tr style=\"text-align: right;\">\n",
       "      <th></th>\n",
       "      <th>Q_clean</th>\n",
       "      <th>A_clean</th>\n",
       "    </tr>\n",
       "  </thead>\n",
       "  <tbody>\n",
       "    <tr>\n",
       "      <th>108920</th>\n",
       "      <td>[do, you, have, a, cellphone, ?, &lt;START&gt;]</td>\n",
       "      <td>[&lt;GO&gt;, у, тебя, есть, мобильный, телефон, ?, &lt;EOS&gt;]</td>\n",
       "    </tr>\n",
       "    <tr>\n",
       "      <th>105401</th>\n",
       "      <td>[tom, was, at, the, meeting, ., &lt;START&gt;]</td>\n",
       "      <td>[&lt;GO&gt;, том, был, на, встрече, ., &lt;EOS&gt;]</td>\n",
       "    </tr>\n",
       "    <tr>\n",
       "      <th>103887</th>\n",
       "      <td>[tom, has, a, lot, of, debts, ., &lt;START&gt;]</td>\n",
       "      <td>[&lt;GO&gt;, у, тома, много, долгов, ., &lt;EOS&gt;]</td>\n",
       "    </tr>\n",
       "    <tr>\n",
       "      <th>100939</th>\n",
       "      <td>[it's, a, beautiful, sword, ., &lt;START&gt;]</td>\n",
       "      <td>[&lt;GO&gt;, это, красивый, меч, ., &lt;EOS&gt;]</td>\n",
       "    </tr>\n",
       "    <tr>\n",
       "      <th>102962</th>\n",
       "      <td>[they're, all, against, me, ., &lt;START&gt;]</td>\n",
       "      <td>[&lt;GO&gt;, они, все, против, меня, ., &lt;EOS&gt;]</td>\n",
       "    </tr>\n",
       "    <tr>\n",
       "      <th>100911</th>\n",
       "      <td>[it, was, very, mysterious, ., &lt;START&gt;]</td>\n",
       "      <td>[&lt;GO&gt;, это, было, очень, таинственно, ., &lt;EOS&gt;]</td>\n",
       "    </tr>\n",
       "    <tr>\n",
       "      <th>102545</th>\n",
       "      <td>[the, dog, is, still, alive, ., &lt;START&gt;]</td>\n",
       "      <td>[&lt;GO&gt;, собака, еще, жива, ., &lt;EOS&gt;]</td>\n",
       "    </tr>\n",
       "    <tr>\n",
       "      <th>109082</th>\n",
       "      <td>[do, you, think, tom, saw, me, ?, &lt;START&gt;]</td>\n",
       "      <td>[&lt;GO&gt;, думаете, ,, том, меня, видел, ?, &lt;EOS&gt;]</td>\n",
       "    </tr>\n",
       "    <tr>\n",
       "      <th>104689</th>\n",
       "      <td>[tom, met, mary, at, school, ., &lt;START&gt;]</td>\n",
       "      <td>[&lt;GO&gt;, том, познакомился, с, мэри, в, школе, ., &lt;EOS&gt;]</td>\n",
       "    </tr>\n",
       "  </tbody>\n",
       "</table>\n",
       "</div>"
      ],
      "text/plain": [
       "                                           Q_clean  \\\n",
       "108920   [do, you, have, a, cellphone, ?, <START>]   \n",
       "105401    [tom, was, at, the, meeting, ., <START>]   \n",
       "103887   [tom, has, a, lot, of, debts, ., <START>]   \n",
       "100939     [it's, a, beautiful, sword, ., <START>]   \n",
       "102962     [they're, all, against, me, ., <START>]   \n",
       "100911     [it, was, very, mysterious, ., <START>]   \n",
       "102545    [the, dog, is, still, alive, ., <START>]   \n",
       "109082  [do, you, think, tom, saw, me, ?, <START>]   \n",
       "104689    [tom, met, mary, at, school, ., <START>]   \n",
       "\n",
       "                                                       A_clean  \n",
       "108920     [<GO>, у, тебя, есть, мобильный, телефон, ?, <EOS>]  \n",
       "105401                 [<GO>, том, был, на, встрече, ., <EOS>]  \n",
       "103887                [<GO>, у, тома, много, долгов, ., <EOS>]  \n",
       "100939                    [<GO>, это, красивый, меч, ., <EOS>]  \n",
       "102962                [<GO>, они, все, против, меня, ., <EOS>]  \n",
       "100911         [<GO>, это, было, очень, таинственно, ., <EOS>]  \n",
       "102545                     [<GO>, собака, еще, жива, ., <EOS>]  \n",
       "109082          [<GO>, думаете, ,, том, меня, видел, ?, <EOS>]  \n",
       "104689  [<GO>, том, познакомился, с, мэри, в, школе, ., <EOS>]  "
      ]
     },
     "execution_count": 10,
     "metadata": {},
     "output_type": "execute_result"
    }
   ],
   "source": [
    "pair[['Q_clean','A_clean']].sample(9)"
   ]
  },
  {
   "cell_type": "markdown",
   "metadata": {},
   "source": [
    "---"
   ]
  },
  {
   "cell_type": "code",
   "execution_count": 11,
   "metadata": {},
   "outputs": [
    {
     "data": {
      "text/html": [
       "<div>\n",
       "<style scoped>\n",
       "    .dataframe tbody tr th:only-of-type {\n",
       "        vertical-align: middle;\n",
       "    }\n",
       "\n",
       "    .dataframe tbody tr th {\n",
       "        vertical-align: top;\n",
       "    }\n",
       "\n",
       "    .dataframe thead th {\n",
       "        text-align: right;\n",
       "    }\n",
       "</style>\n",
       "<table border=\"1\" class=\"dataframe\">\n",
       "  <thead>\n",
       "    <tr style=\"text-align: right;\">\n",
       "      <th></th>\n",
       "      <th>lenQ</th>\n",
       "      <th>lenA</th>\n",
       "    </tr>\n",
       "  </thead>\n",
       "  <tbody>\n",
       "    <tr>\n",
       "      <th>count</th>\n",
       "      <td>10000.000000</td>\n",
       "      <td>10000.000000</td>\n",
       "    </tr>\n",
       "    <tr>\n",
       "      <th>mean</th>\n",
       "      <td>6.722400</td>\n",
       "      <td>7.270400</td>\n",
       "    </tr>\n",
       "    <tr>\n",
       "      <th>std</th>\n",
       "      <td>0.737965</td>\n",
       "      <td>1.175084</td>\n",
       "    </tr>\n",
       "    <tr>\n",
       "      <th>min</th>\n",
       "      <td>4.000000</td>\n",
       "      <td>4.000000</td>\n",
       "    </tr>\n",
       "    <tr>\n",
       "      <th>25%</th>\n",
       "      <td>6.000000</td>\n",
       "      <td>6.000000</td>\n",
       "    </tr>\n",
       "    <tr>\n",
       "      <th>50%</th>\n",
       "      <td>7.000000</td>\n",
       "      <td>7.000000</td>\n",
       "    </tr>\n",
       "    <tr>\n",
       "      <th>75%</th>\n",
       "      <td>7.000000</td>\n",
       "      <td>8.000000</td>\n",
       "    </tr>\n",
       "    <tr>\n",
       "      <th>max</th>\n",
       "      <td>9.000000</td>\n",
       "      <td>13.000000</td>\n",
       "    </tr>\n",
       "  </tbody>\n",
       "</table>\n",
       "</div>"
      ],
      "text/plain": [
       "               lenQ          lenA\n",
       "count  10000.000000  10000.000000\n",
       "mean       6.722400      7.270400\n",
       "std        0.737965      1.175084\n",
       "min        4.000000      4.000000\n",
       "25%        6.000000      6.000000\n",
       "50%        7.000000      7.000000\n",
       "75%        7.000000      8.000000\n",
       "max        9.000000     13.000000"
      ]
     },
     "execution_count": 11,
     "metadata": {},
     "output_type": "execute_result"
    }
   ],
   "source": [
    "# считаем количество слов\n",
    "pair['lenQ'] = pair['Q_clean'].str.len()\n",
    "pair['lenA'] = pair['A_clean'].str.len()\n",
    "pair.describe()"
   ]
  },
  {
   "cell_type": "code",
   "execution_count": 12,
   "metadata": {},
   "outputs": [
    {
     "data": {
      "text/plain": [
       "(8.0, 9.0)"
      ]
     },
     "execution_count": 12,
     "metadata": {},
     "output_type": "execute_result"
    }
   ],
   "source": [
    "# определяем максимальную длинну последовательности\n",
    "pair['lenQ'].quantile(0.95),  pair['lenA'].quantile(0.95)"
   ]
  },
  {
   "cell_type": "code",
   "execution_count": 13,
   "metadata": {},
   "outputs": [],
   "source": [
    "sent_len_a_max = pair['lenA'].max()\n",
    "sent_len_q_max = pair['lenQ'].max()"
   ]
  },
  {
   "cell_type": "code",
   "execution_count": 14,
   "metadata": {},
   "outputs": [],
   "source": [
    "# выстраиваем входные последовательности в обратном порядке\n",
    "# и выравниваем длинну последовательностей,\n",
    "# дополняем короткие словом \"служебным\" словом,\n",
    "pad = ['<PAD>']*sent_len_q_max\n",
    "pair['Q_clean'] = pair['Q_clean'].apply( lambda t: pad[len(t):] + list(reversed(t)) )\n",
    "# pair['Q_clean'] = pair['Q_clean'].apply( lambda t: pad[len(t):] + t )\n",
    "# pair['Q_clean'] = pair['Q_clean'].apply( lambda t: t + pad[len(t):] )\n",
    "\n",
    "pad = ['<PAD>']*sent_len_a_max\n",
    "pair['A_clean'] = pair['A_clean'].apply( lambda t: t + pad[len(t):] )"
   ]
  },
  {
   "cell_type": "code",
   "execution_count": 15,
   "metadata": {},
   "outputs": [
    {
     "data": {
      "text/html": [
       "<div>\n",
       "<style scoped>\n",
       "    .dataframe tbody tr th:only-of-type {\n",
       "        vertical-align: middle;\n",
       "    }\n",
       "\n",
       "    .dataframe tbody tr th {\n",
       "        vertical-align: top;\n",
       "    }\n",
       "\n",
       "    .dataframe thead th {\n",
       "        text-align: right;\n",
       "    }\n",
       "</style>\n",
       "<table border=\"1\" class=\"dataframe\">\n",
       "  <thead>\n",
       "    <tr style=\"text-align: right;\">\n",
       "      <th></th>\n",
       "      <th>Q_clean</th>\n",
       "      <th>A_clean</th>\n",
       "    </tr>\n",
       "  </thead>\n",
       "  <tbody>\n",
       "    <tr>\n",
       "      <th>107903</th>\n",
       "      <td>[&lt;PAD&gt;, &lt;PAD&gt;, &lt;START&gt;, ., here, it, like, won't, you]</td>\n",
       "      <td>[&lt;GO&gt;, тебе, тут, не, понравится, ., &lt;EOS&gt;, &lt;PAD&gt;, &lt;PAD&gt;, &lt;PAD&gt;, &lt;PAD&gt;, &lt;PAD&gt;, &lt;PAD&gt;]</td>\n",
       "    </tr>\n",
       "    <tr>\n",
       "      <th>108882</th>\n",
       "      <td>[&lt;PAD&gt;, &lt;START&gt;, ?, actor, an, like, look, i, do]</td>\n",
       "      <td>[&lt;GO&gt;, я, похож, на, актёра, ?, &lt;EOS&gt;, &lt;PAD&gt;, &lt;PAD&gt;, &lt;PAD&gt;, &lt;PAD&gt;, &lt;PAD&gt;, &lt;PAD&gt;]</td>\n",
       "    </tr>\n",
       "    <tr>\n",
       "      <th>107651</th>\n",
       "      <td>[&lt;PAD&gt;, &lt;PAD&gt;, &lt;START&gt;, ., pale, little, a, look, you]</td>\n",
       "      <td>[&lt;GO&gt;, ты, выглядишь, слегка, бледным, ., &lt;EOS&gt;, &lt;PAD&gt;, &lt;PAD&gt;, &lt;PAD&gt;, &lt;PAD&gt;, &lt;PAD&gt;, &lt;PAD&gt;]</td>\n",
       "    </tr>\n",
       "    <tr>\n",
       "      <th>108766</th>\n",
       "      <td>[&lt;PAD&gt;, &lt;PAD&gt;, &lt;START&gt;, ?, police, the, call, you, did]</td>\n",
       "      <td>[&lt;GO&gt;, ты, вызвала, полицию, ?, &lt;EOS&gt;, &lt;PAD&gt;, &lt;PAD&gt;, &lt;PAD&gt;, &lt;PAD&gt;, &lt;PAD&gt;, &lt;PAD&gt;, &lt;PAD&gt;]</td>\n",
       "    </tr>\n",
       "    <tr>\n",
       "      <th>105761</th>\n",
       "      <td>[&lt;PAD&gt;, &lt;START&gt;, ., that, like, it, do, to, try]</td>\n",
       "      <td>[&lt;GO&gt;, попробуйте, сделать, это, вот, так, ., &lt;EOS&gt;, &lt;PAD&gt;, &lt;PAD&gt;, &lt;PAD&gt;, &lt;PAD&gt;, &lt;PAD&gt;]</td>\n",
       "    </tr>\n",
       "    <tr>\n",
       "      <th>104496</th>\n",
       "      <td>[&lt;PAD&gt;, &lt;PAD&gt;, &lt;PAD&gt;, &lt;START&gt;, ., careful, very, isn't, tom]</td>\n",
       "      <td>[&lt;GO&gt;, том, не, очень, осторожен, ., &lt;EOS&gt;, &lt;PAD&gt;, &lt;PAD&gt;, &lt;PAD&gt;, &lt;PAD&gt;, &lt;PAD&gt;, &lt;PAD&gt;]</td>\n",
       "    </tr>\n",
       "    <tr>\n",
       "      <th>100977</th>\n",
       "      <td>[&lt;PAD&gt;, &lt;PAD&gt;, &lt;PAD&gt;, &lt;PAD&gt;, &lt;START&gt;, ., impossible, almost, it's]</td>\n",
       "      <td>[&lt;GO&gt;, это, почти, невозможно, ., &lt;EOS&gt;, &lt;PAD&gt;, &lt;PAD&gt;, &lt;PAD&gt;, &lt;PAD&gt;, &lt;PAD&gt;, &lt;PAD&gt;, &lt;PAD&gt;]</td>\n",
       "    </tr>\n",
       "    <tr>\n",
       "      <th>104993</th>\n",
       "      <td>[&lt;PAD&gt;, &lt;PAD&gt;, &lt;START&gt;, ., lying, is, mary, says, tom]</td>\n",
       "      <td>[&lt;GO&gt;, том, говорит, ,, что, мэри, лжёт, ., &lt;EOS&gt;, &lt;PAD&gt;, &lt;PAD&gt;, &lt;PAD&gt;, &lt;PAD&gt;]</td>\n",
       "    </tr>\n",
       "    <tr>\n",
       "      <th>107472</th>\n",
       "      <td>[&lt;PAD&gt;, &lt;START&gt;, ., me, to, next, sit, can, you]</td>\n",
       "      <td>[&lt;GO&gt;, можешь, сесть, рядом, со, мной, ., &lt;EOS&gt;, &lt;PAD&gt;, &lt;PAD&gt;, &lt;PAD&gt;, &lt;PAD&gt;, &lt;PAD&gt;]</td>\n",
       "    </tr>\n",
       "  </tbody>\n",
       "</table>\n",
       "</div>"
      ],
      "text/plain": [
       "                                                                   Q_clean  \\\n",
       "107903              [<PAD>, <PAD>, <START>, ., here, it, like, won't, you]   \n",
       "108882                   [<PAD>, <START>, ?, actor, an, like, look, i, do]   \n",
       "107651              [<PAD>, <PAD>, <START>, ., pale, little, a, look, you]   \n",
       "108766             [<PAD>, <PAD>, <START>, ?, police, the, call, you, did]   \n",
       "105761                    [<PAD>, <START>, ., that, like, it, do, to, try]   \n",
       "104496        [<PAD>, <PAD>, <PAD>, <START>, ., careful, very, isn't, tom]   \n",
       "100977  [<PAD>, <PAD>, <PAD>, <PAD>, <START>, ., impossible, almost, it's]   \n",
       "104993              [<PAD>, <PAD>, <START>, ., lying, is, mary, says, tom]   \n",
       "107472                    [<PAD>, <START>, ., me, to, next, sit, can, you]   \n",
       "\n",
       "                                                                                           A_clean  \n",
       "107903       [<GO>, тебе, тут, не, понравится, ., <EOS>, <PAD>, <PAD>, <PAD>, <PAD>, <PAD>, <PAD>]  \n",
       "108882            [<GO>, я, похож, на, актёра, ?, <EOS>, <PAD>, <PAD>, <PAD>, <PAD>, <PAD>, <PAD>]  \n",
       "107651  [<GO>, ты, выглядишь, слегка, бледным, ., <EOS>, <PAD>, <PAD>, <PAD>, <PAD>, <PAD>, <PAD>]  \n",
       "108766     [<GO>, ты, вызвала, полицию, ?, <EOS>, <PAD>, <PAD>, <PAD>, <PAD>, <PAD>, <PAD>, <PAD>]  \n",
       "105761     [<GO>, попробуйте, сделать, это, вот, так, ., <EOS>, <PAD>, <PAD>, <PAD>, <PAD>, <PAD>]  \n",
       "104496       [<GO>, том, не, очень, осторожен, ., <EOS>, <PAD>, <PAD>, <PAD>, <PAD>, <PAD>, <PAD>]  \n",
       "100977   [<GO>, это, почти, невозможно, ., <EOS>, <PAD>, <PAD>, <PAD>, <PAD>, <PAD>, <PAD>, <PAD>]  \n",
       "104993              [<GO>, том, говорит, ,, что, мэри, лжёт, ., <EOS>, <PAD>, <PAD>, <PAD>, <PAD>]  \n",
       "107472         [<GO>, можешь, сесть, рядом, со, мной, ., <EOS>, <PAD>, <PAD>, <PAD>, <PAD>, <PAD>]  "
      ]
     },
     "execution_count": 15,
     "metadata": {},
     "output_type": "execute_result"
    }
   ],
   "source": [
    "pair[['Q_clean','A_clean']].sample(9)"
   ]
  },
  {
   "cell_type": "markdown",
   "metadata": {},
   "source": [
    "## Кодируем тексты"
   ]
  },
  {
   "cell_type": "code",
   "execution_count": 16,
   "metadata": {},
   "outputs": [],
   "source": [
    "# data = pair['Q_clean'].values.tolist() + pair['A_clean'].values.tolist()"
   ]
  },
  {
   "cell_type": "code",
   "execution_count": 17,
   "metadata": {},
   "outputs": [
    {
     "name": "stdout",
     "output_type": "stream",
     "text": [
      "CPU times: user 1.17 s, sys: 34 ms, total: 1.2 s\n",
      "Wall time: 797 ms\n"
     ]
    }
   ],
   "source": [
    "%%time\n",
    "\n",
    "from gensim.models.word2vec import Word2Vec\n",
    "\n",
    "w2v_size = 256\n",
    "\n",
    "w2v_q = Word2Vec( pair['Q_clean'].values.tolist(), min_count=1, size=w2v_size, window=4, workers=4)\n",
    "w2v_a = Word2Vec( pair['A_clean'].values.tolist(), min_count=1, size=w2v_size, window=4, workers=4)"
   ]
  },
  {
   "cell_type": "code",
   "execution_count": 18,
   "metadata": {},
   "outputs": [],
   "source": [
    "# w2v_q_vocab = sorted([w for w in w2v_q.wv.vocab])\n",
    "# ppr(w2v_q_vocab)\n",
    "\n",
    "# w2v_a_vocab = sorted([w for w in w2v_a.wv.vocab])\n",
    "# ppr(w2v_a_vocab)"
   ]
  },
  {
   "cell_type": "code",
   "execution_count": 19,
   "metadata": {},
   "outputs": [],
   "source": [
    "# ii = np.random.permutation(len(w2v_q_vocab))[:10]\n",
    "# for i in ii:\n",
    "#     w = w2v_q_vocab[i]\n",
    "#     ww = [ v[0] for v in w2v_q.wv.most_similar(w, topn=5) ]\n",
    "#     print( w,':',ww )"
   ]
  },
  {
   "cell_type": "code",
   "execution_count": 20,
   "metadata": {},
   "outputs": [],
   "source": [
    "# ii = np.random.permutation(len(w2v_a_vocab))[:10]\n",
    "# for i in ii:\n",
    "#     w = w2v_a_vocab[i]\n",
    "#     ww = [ v[0] for v in w2v_a.wv.most_similar(w, topn=5) ]\n",
    "#     print( w,':',ww )"
   ]
  },
  {
   "cell_type": "markdown",
   "metadata": {},
   "source": [
    "---"
   ]
  },
  {
   "cell_type": "code",
   "execution_count": 21,
   "metadata": {},
   "outputs": [],
   "source": [
    "# c = w2v_a.wv['<GO>']\n",
    "# w2v_a.wv.similar_by_vector(c)[0][0] \n",
    "# c.min(), c.max()"
   ]
  },
  {
   "cell_type": "markdown",
   "metadata": {},
   "source": [
    "---"
   ]
  },
  {
   "cell_type": "code",
   "execution_count": 22,
   "metadata": {},
   "outputs": [],
   "source": [
    "pair['Q_code'] = pair['Q_clean'].apply(lambda t: [ w2v_q.wv.get_vector(w) for w in t ] )\n",
    "pair['A_code'] = pair['A_clean'].apply(lambda t: [ w2v_a.wv.get_vector(w) for w in t ] )"
   ]
  },
  {
   "cell_type": "code",
   "execution_count": 23,
   "metadata": {},
   "outputs": [],
   "source": [
    "# pair[['Q_code','A_code']].sample(3)"
   ]
  },
  {
   "cell_type": "markdown",
   "metadata": {},
   "source": [
    "\n",
    "-----"
   ]
  },
  {
   "cell_type": "code",
   "execution_count": 24,
   "metadata": {},
   "outputs": [],
   "source": [
    "# ppr(pair)"
   ]
  },
  {
   "cell_type": "code",
   "execution_count": 25,
   "metadata": {},
   "outputs": [],
   "source": [
    "# pair = pair.sample(1000)\n",
    "# pair = pair.sample(283800)\n",
    "# pair = pair.sample(600)"
   ]
  },
  {
   "cell_type": "code",
   "execution_count": 26,
   "metadata": {},
   "outputs": [
    {
     "data": {
      "text/plain": [
       "((10000, 9, 256), (10000, 12, 256), (10000, 12, 256))"
      ]
     },
     "execution_count": 26,
     "metadata": {},
     "output_type": "execute_result"
    }
   ],
   "source": [
    "encoder_input_data = np.stack( pair['Q_code'].values ).astype(np.float32)\n",
    "\n",
    "decoder_input_data = np.stack( pair['A_code'].values )[:,:-1,:].astype(np.float32)\n",
    "decoder_target_data = np.stack( pair['A_code'].values )[:,1:,:].astype(np.float32)\n",
    "\n",
    "encoder_input_data.shape, decoder_input_data.shape, decoder_target_data.shape"
   ]
  },
  {
   "cell_type": "code",
   "execution_count": 27,
   "metadata": {},
   "outputs": [],
   "source": [
    "# np.abs(encoder_input_data).max(), np.abs(decoder_input_data).max()"
   ]
  },
  {
   "cell_type": "markdown",
   "metadata": {},
   "source": [
    "## Строим нейросеть"
   ]
  },
  {
   "cell_type": "code",
   "execution_count": 28,
   "metadata": {},
   "outputs": [],
   "source": [
    "from tensorflow.keras.models import Model\n",
    "from tensorflow.keras.layers import Input\n",
    "from tensorflow.keras.layers import LSTM\n",
    "from tensorflow.keras.layers import Dense"
   ]
  },
  {
   "cell_type": "code",
   "execution_count": 29,
   "metadata": {},
   "outputs": [],
   "source": [
    "latent_dim = 256  # размер сети"
   ]
  },
  {
   "cell_type": "code",
   "execution_count": 30,
   "metadata": {},
   "outputs": [
    {
     "name": "stdout",
     "output_type": "stream",
     "text": [
      "WARNING:tensorflow:From /usr/lib/python3.7/site-packages/tensorflow/python/ops/resource_variable_ops.py:435: colocate_with (from tensorflow.python.framework.ops) is deprecated and will be removed in a future version.\n",
      "Instructions for updating:\n",
      "Colocations handled automatically by placer.\n"
     ]
    }
   ],
   "source": [
    "encoder_inputs = Input(shape=(None, w2v_size))\n",
    "encoder = LSTM(latent_dim, return_state=True)\n",
    "encoder_outputs, state_h, state_c = encoder(encoder_inputs)\n",
    "encoder_states = [state_h, state_c]"
   ]
  },
  {
   "cell_type": "code",
   "execution_count": 31,
   "metadata": {},
   "outputs": [
    {
     "name": "stderr",
     "output_type": "stream",
     "text": [
      "Using TensorFlow backend.\n"
     ]
    }
   ],
   "source": [
    "from keras import backend as K\n",
    "def custom_activation(x):  return (K.tanh(x)*2.1)\n",
    "# model.add(Dense(32 , activation=custom_activation))"
   ]
  },
  {
   "cell_type": "code",
   "execution_count": 32,
   "metadata": {},
   "outputs": [],
   "source": [
    "decoder_inputs = Input(shape=(None, w2v_size))\n",
    "decoder_lstm = LSTM(latent_dim, return_sequences=True, return_state=True)\n",
    "decoder_outputs, _, _ = decoder_lstm(decoder_inputs,initial_state=encoder_states)\n",
    "\n",
    "# decoder_dense = Dense(w2v_size)\n",
    "# decoder_dense = Dense(w2v_size, activation='softmax')\n",
    "decoder_dense = Dense(w2v_size, activation='tanh')\n",
    "# decoder_dense = Dense(w2v_size, activation='sigmoid')\n",
    "# decoder_dense = Dense(w2v_size, activation=custom_activation)\n",
    "\n",
    "decoder_outputs = decoder_dense(decoder_outputs)"
   ]
  },
  {
   "cell_type": "code",
   "execution_count": 33,
   "metadata": {},
   "outputs": [],
   "source": [
    "# Define the model that will turn\n",
    "# `encoder_input_data` & `decoder_input_data` into `decoder_target_data`\n",
    "model = Model([encoder_inputs, decoder_inputs], decoder_outputs)"
   ]
  },
  {
   "cell_type": "code",
   "execution_count": 34,
   "metadata": {},
   "outputs": [
    {
     "name": "stdout",
     "output_type": "stream",
     "text": [
      "__________________________________________________________________________________________________\n",
      "Layer (type)                    Output Shape         Param #     Connected to                     \n",
      "==================================================================================================\n",
      "input_1 (InputLayer)            (None, None, 256)    0                                            \n",
      "__________________________________________________________________________________________________\n",
      "input_2 (InputLayer)            (None, None, 256)    0                                            \n",
      "__________________________________________________________________________________________________\n",
      "lstm (LSTM)                     [(None, 256), (None, 525312      input_1[0][0]                    \n",
      "__________________________________________________________________________________________________\n",
      "lstm_1 (LSTM)                   [(None, None, 256),  525312      input_2[0][0]                    \n",
      "                                                                 lstm[0][1]                       \n",
      "                                                                 lstm[0][2]                       \n",
      "__________________________________________________________________________________________________\n",
      "dense (Dense)                   (None, None, 256)    65792       lstm_1[0][0]                     \n",
      "==================================================================================================\n",
      "Total params: 1,116,416\n",
      "Trainable params: 1,116,416\n",
      "Non-trainable params: 0\n",
      "__________________________________________________________________________________________________\n"
     ]
    }
   ],
   "source": [
    "model.summary()"
   ]
  },
  {
   "cell_type": "code",
   "execution_count": 35,
   "metadata": {},
   "outputs": [
    {
     "name": "stdout",
     "output_type": "stream",
     "text": [
      "WARNING:tensorflow:From /usr/lib/python3.7/site-packages/tensorflow/python/keras/utils/losses_utils.py:170: to_float (from tensorflow.python.ops.math_ops) is deprecated and will be removed in a future version.\n",
      "Instructions for updating:\n",
      "Use tf.cast instead.\n"
     ]
    }
   ],
   "source": [
    "# model.compile(optimizer='rmsprop', loss='categorical_crossentropy')\n",
    "model.compile(loss='mse', optimizer='rmsprop')\n",
    "# model.compile(loss='mse', optimizer='adam')\n",
    "# model.compile(loss='mse', optimizer='sgd')"
   ]
  },
  {
   "cell_type": "code",
   "execution_count": 47,
   "metadata": {},
   "outputs": [
    {
     "name": "stdout",
     "output_type": "stream",
     "text": [
      "Train on 9000 samples, validate on 1000 samples\n",
      "Epoch 1/20\n",
      "9000/9000 [==============================] - 13s 1ms/sample - loss: 0.0048 - val_loss: 0.0053\n",
      "Epoch 2/20\n",
      "9000/9000 [==============================] - 12s 1ms/sample - loss: 0.0047 - val_loss: 0.0055\n",
      "Epoch 3/20\n",
      "9000/9000 [==============================] - 13s 1ms/sample - loss: 0.0047 - val_loss: 0.0058\n",
      "Epoch 4/20\n",
      "9000/9000 [==============================] - 12s 1ms/sample - loss: 0.0046 - val_loss: 0.0054\n",
      "Epoch 5/20\n",
      "9000/9000 [==============================] - 12s 1ms/sample - loss: 0.0046 - val_loss: 0.0055\n",
      "Epoch 6/20\n",
      "9000/9000 [==============================] - 13s 1ms/sample - loss: 0.0045 - val_loss: 0.0056\n",
      "Epoch 7/20\n",
      "9000/9000 [==============================] - 12s 1ms/sample - loss: 0.0044 - val_loss: 0.0057\n",
      "Epoch 8/20\n",
      "9000/9000 [==============================] - 13s 1ms/sample - loss: 0.0044 - val_loss: 0.0057\n",
      "Epoch 9/20\n",
      "9000/9000 [==============================] - 12s 1ms/sample - loss: 0.0043 - val_loss: 0.0056\n",
      "Epoch 10/20\n",
      "9000/9000 [==============================] - 13s 1ms/sample - loss: 0.0042 - val_loss: 0.0057\n",
      "Epoch 11/20\n",
      "9000/9000 [==============================] - 13s 1ms/sample - loss: 0.0042 - val_loss: 0.0055\n",
      "Epoch 12/20\n",
      "9000/9000 [==============================] - 13s 1ms/sample - loss: 0.0041 - val_loss: 0.0055\n",
      "Epoch 13/20\n",
      "9000/9000 [==============================] - 13s 1ms/sample - loss: 0.0041 - val_loss: 0.0055\n",
      "Epoch 14/20\n",
      "9000/9000 [==============================] - 13s 1ms/sample - loss: 0.0040 - val_loss: 0.0055\n",
      "Epoch 15/20\n",
      "9000/9000 [==============================] - 13s 1ms/sample - loss: 0.0039 - val_loss: 0.0056\n",
      "Epoch 16/20\n",
      "9000/9000 [==============================] - 12s 1ms/sample - loss: 0.0038 - val_loss: 0.0056\n",
      "Epoch 17/20\n",
      "9000/9000 [==============================] - 12s 1ms/sample - loss: 0.0038 - val_loss: 0.0056\n",
      "Epoch 18/20\n",
      "9000/9000 [==============================] - 12s 1ms/sample - loss: 0.0037 - val_loss: 0.0058\n",
      "Epoch 19/20\n",
      "9000/9000 [==============================] - 12s 1ms/sample - loss: 0.0036 - val_loss: 0.0056\n",
      "Epoch 20/20\n",
      "9000/9000 [==============================] - 12s 1ms/sample - loss: 0.0035 - val_loss: 0.0061\n",
      "CPU times: user 2min 23s, sys: 58.6 s, total: 3min 22s\n",
      "Wall time: 4min 11s\n"
     ]
    }
   ],
   "source": [
    "%%time \n",
    "\n",
    "history = model.fit([encoder_input_data, decoder_input_data], decoder_target_data,\n",
    "          batch_size=100,\n",
    "          epochs=20,\n",
    "          validation_split=0.1\n",
    "        ) "
   ]
  },
  {
   "cell_type": "markdown",
   "metadata": {},
   "source": [
    "## Проверяем результат"
   ]
  },
  {
   "cell_type": "code",
   "execution_count": 37,
   "metadata": {},
   "outputs": [],
   "source": [
    "encoder_model = Model(encoder_inputs, encoder_states)\n",
    "\n",
    "decoder_state_input_h = Input(shape=(latent_dim,))\n",
    "decoder_state_input_c = Input(shape=(latent_dim,))\n",
    "decoder_states_inputs = [decoder_state_input_h, decoder_state_input_c]\n",
    "decoder_outputs, state_h, state_c = decoder_lstm(decoder_inputs, initial_state=decoder_states_inputs)\n",
    "decoder_states = [state_h, state_c]\n",
    "decoder_outputs = decoder_dense(decoder_outputs)\n",
    "decoder_model = Model( [decoder_inputs] + decoder_states_inputs, [decoder_outputs] + decoder_states)"
   ]
  },
  {
   "cell_type": "code",
   "execution_count": 38,
   "metadata": {},
   "outputs": [],
   "source": [
    "def decode_sequence(input_seq):\n",
    "    # генерируем состояние энкодера\n",
    "    states_value = encoder_model.predict(input_seq)\n",
    "\n",
    "    # вход декодера - последовательность из одного слова GO\n",
    "    output_w2v = w2v_a.wv['<GO>'].reshape([1,1,w2v_size])\n",
    "\n",
    "    # выходная последовательность\n",
    "    decoded_sentence = []\n",
    "    \n",
    "    for i in range(sent_len_a_max): \n",
    "        output_w2v, h, c = decoder_model.predict([output_w2v] + states_value)\n",
    "\n",
    "        # декодируем cлово\n",
    "        cc = output_w2v.reshape(w2v_size)\n",
    "        w = w2v_a.wv.similar_by_vector(cc)[0][0] \n",
    "        \n",
    "        # если очередное слово это EOS\n",
    "        if(w=='<EOS>'): break # то завершаем работу\n",
    "\n",
    "        decoded_sentence.append(w)\n",
    "       \n",
    "        states_value = [h,c] # обновляем состояние сети\n",
    "\n",
    "    return ' '.join(decoded_sentence)"
   ]
  },
  {
   "cell_type": "code",
   "execution_count": 46,
   "metadata": {},
   "outputs": [
    {
     "name": "stderr",
     "output_type": "stream",
     "text": [
      "/usr/lib/python3.7/site-packages/gensim/matutils.py:737: FutureWarning: Conversion of the second argument of issubdtype from `int` to `np.signedinteger` is deprecated. In future, it will be treated as `np.int64 == np.dtype(int).type`.\n",
      "  if np.issubdtype(vec.dtype, np.int):\n"
     ]
    },
    {
     "name": "stdout",
     "output_type": "stream",
     "text": [
      "Who asked Tom to leave?  ->  правда тот мне хотите явно ! врач <PAD> <PAD> <PAD> <PAD> <PAD> <PAD>\n",
      "Tom knows who did that.  ->  ты знал мне пожалуйста мне план !\n",
      "You're easy to talk to.  ->  вы должен быть так ? врач <PAD> <PAD> <PAD> <PAD> <PAD> <PAD> <PAD>\n",
      "Do you want me to do it?  ->  вы — хотите хотите быть ! томе встретиться сделать порядке <PAD> <PAD> <PAD>\n",
      "He leads an active life.  ->  мы наше она машине .\n",
      "Are you with the police?  ->  мы никому бы ? врач сделать сделать порядке <PAD> <PAD> <PAD> <PAD> <PAD>\n",
      "This decision is final.  ->  мы пришёл всё ?\n",
      "Don't be so sentimental.  ->  мы вам бы . согласился порядке заняты порядке <PAD> <PAD> <PAD> <PAD> <PAD>\n",
      "You're as tall as I am.  ->  ты знал , хотите хочешь тому увидеть идти сделать порядке <PAD> <PAD> <PAD>\n",
      "The water was lukewarm.  ->  мы и был ?\n"
     ]
    }
   ],
   "source": [
    "ii = np.random.permutation(len(encoder_input_data))[:10]\n",
    "for seq_index in ii:\n",
    "    input_seq = encoder_input_data[seq_index: seq_index + 1]\n",
    "    decoded_sentence = decode_sequence(input_seq)\n",
    "    print( pair.iloc[seq_index]['Q'],' -> ', decoded_sentence )"
   ]
  },
  {
   "cell_type": "markdown",
   "metadata": {},
   "source": [
    "----"
   ]
  },
  {
   "cell_type": "code",
   "execution_count": 40,
   "metadata": {},
   "outputs": [],
   "source": [
    "import matplotlib.pyplot as plt"
   ]
  },
  {
   "cell_type": "code",
   "execution_count": 41,
   "metadata": {},
   "outputs": [
    {
     "data": {
      "text/plain": [
       "dict_keys(['loss', 'val_loss'])"
      ]
     },
     "execution_count": 41,
     "metadata": {},
     "output_type": "execute_result"
    }
   ],
   "source": [
    "history_dict = history.history\n",
    "history_dict.keys()"
   ]
  },
  {
   "cell_type": "code",
   "execution_count": 42,
   "metadata": {},
   "outputs": [
    {
     "data": {
      "image/png": "[encoded data removed]",
      "text/plain": [
       "<Figure size 432x288 with 1 Axes>"
      ]
     },
     "metadata": {
      "needs_background": "light"
     },
     "output_type": "display_data"
    }
   ],
   "source": [
    "# acc = history.history['acc']\n",
    "#val_acc = history.history['val_acc']\n",
    "loss = history.history['loss']\n",
    "val_loss = history.history['val_loss']\n",
    "\n",
    "epochs = range(1, len(loss) + 1)\n",
    "plt.plot(epochs, loss, 'b', label='Training loss')\n",
    "plt.plot(epochs, val_loss, 'r', label='Validation loss')\n",
    "plt.title('Training and validation loss')\n",
    "plt.xlabel('Epochs')\n",
    "plt.ylabel('Loss')\n",
    "plt.legend()\n",
    "\n",
    "plt.show()"
   ]
  },
  {
   "cell_type": "code",
   "execution_count": 43,
   "metadata": {},
   "outputs": [],
   "source": [
    "# plt.clf()   # clear figure\n",
    "# acc_values = history_dict['acc']\n",
    "# val_acc_values = history_dict['val_acc']\n",
    "\n",
    "# plt.plot(epochs, acc, 'b', label='Training acc')\n",
    "# plt.plot(epochs, val_acc, 'r', label='Validation acc')\n",
    "# plt.title('Training and validation accuracy')\n",
    "# plt.xlabel('Epochs')\n",
    "# plt.ylabel('Accuracy')\n",
    "# plt.legend()\n",
    "\n",
    "# plt.show()"
   ]
  },
  {
   "cell_type": "markdown",
   "metadata": {},
   "source": [
    "---"
   ]
  },
  {
   "cell_type": "code",
   "execution_count": 44,
   "metadata": {},
   "outputs": [],
   "source": [
    "import tensorflow as tf\n",
    "from tensorflow import keras\n",
    "from tensorflow.python.client import device_lib"
   ]
  },
  {
   "cell_type": "code",
   "execution_count": 45,
   "metadata": {},
   "outputs": [
    {
     "name": "stdout",
     "output_type": "stream",
     "text": [
      "tensorflow: 1.13.1\n",
      "keras: 2.2.4-tf\n",
      "GPU devices:\n",
      "   [['/device:GPU:0', 'device: 0, name: GeForce GT 730, pci bus id: 0000:01:00.0, compute capability: 3.5']]\n",
      "default GPU device: /device:GPU:0\n"
     ]
    }
   ],
   "source": [
    "print('tensorflow:', tf.__version__)\n",
    "print('keras:', keras.__version__)\n",
    "\n",
    "if tf.test.is_built_with_cuda():\n",
    "    print('GPU devices:\\n  ',\n",
    "        [ [x.name, x.physical_device_desc] \n",
    "          for x in device_lib.list_local_devices() \n",
    "          if x.device_type == 'GPU' ]\n",
    "    )\n",
    "    print('default GPU device:', tf.test.gpu_device_name() )\n",
    "\n",
    "else:\n",
    "    print('no GPU device found')\n",
    "    "
   ]
  }
 ],
 "metadata": {
  "kernelspec": {
   "display_name": "Python 3",
   "language": "python",
   "name": "python3"
  },
  "language_info": {
   "codemirror_mode": {
    "name": "ipython",
    "version": 3
   },
   "file_extension": ".py",
   "mimetype": "text/x-python",
   "name": "python",
   "nbconvert_exporter": "python",
   "pygments_lexer": "ipython3",
   "version": "3.7.3"
  },
  "toc": {
   "base_numbering": 1,
   "nav_menu": {},
   "number_sections": true,
   "sideBar": true,
   "skip_h1_title": false,
   "title_cell": "Table of Contents",
   "title_sidebar": "Contents",
   "toc_cell": false,
   "toc_position": {},
   "toc_section_display": true,
   "toc_window_display": true
  }
 },
 "nbformat": 4,
 "nbformat_minor": 2
}
