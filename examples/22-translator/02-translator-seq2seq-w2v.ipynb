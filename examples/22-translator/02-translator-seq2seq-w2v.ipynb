{
 "cells": [
  {
   "cell_type": "markdown",
   "metadata": {},
   "source": [
    "**чатбот на рекуррентных нейросетях (Keras+TensorFlow)**\n",
    "\n",
    "Евгений Борисов <borisov.e@solarl.ru>"
   ]
  },
  {
   "cell_type": "markdown",
   "metadata": {},
   "source": [
    "\n",
    "----"
   ]
  },
  {
   "cell_type": "markdown",
   "metadata": {},
   "source": [
    "## Библиотеки"
   ]
  },
  {
   "cell_type": "code",
   "execution_count": 1,
   "metadata": {},
   "outputs": [],
   "source": [
    "import numpy as np\n",
    "import re\n",
    "\n",
    "import pandas as pd\n",
    "pd.options.display.max_colwidth = 200  \n"
   ]
  },
  {
   "cell_type": "code",
   "execution_count": 2,
   "metadata": {},
   "outputs": [],
   "source": [
    "def pp(d): return \"{:,.0f}\".format(d).replace(\",\", \" \")\n",
    "def ppr(d): print('записей:', pp(len(d)) )  "
   ]
  },
  {
   "cell_type": "markdown",
   "metadata": {},
   "source": [
    "## Учебные данные"
   ]
  },
  {
   "cell_type": "code",
   "execution_count": 3,
   "metadata": {},
   "outputs": [],
   "source": [
    "with open('../data/text/rus-eng/rus.txt','rt',encoding='utf8') as f: \n",
    "    pair = pd.DataFrame([ p.split('\\t') for p in f.read().split('\\n') if p.strip() ])\n",
    "    # pair = pd.DataFrame([ p.split('%%') for p in f.read().split('\\n') if p.strip() ])"
   ]
  },
  {
   "cell_type": "code",
   "execution_count": 100,
   "metadata": {},
   "outputs": [
    {
     "ename": "FileNotFoundError",
     "evalue": "[Errno 2] No such file or directory: '../data/text/pair.txt'",
     "output_type": "error",
     "traceback": [
      "\u001b[0;31m---------------------------------------------------------------------------\u001b[0m",
      "\u001b[0;31mFileNotFoundError\u001b[0m                         Traceback (most recent call last)",
      "\u001b[0;32m<ipython-input-100-47a5b404d110>\u001b[0m in \u001b[0;36m<module>\u001b[0;34m\u001b[0m\n\u001b[0;32m----> 1\u001b[0;31m \u001b[0;32mwith\u001b[0m \u001b[0mopen\u001b[0m\u001b[0;34m(\u001b[0m\u001b[0;34m'../data/text/pair.txt'\u001b[0m\u001b[0;34m,\u001b[0m\u001b[0;34m'rt'\u001b[0m\u001b[0;34m,\u001b[0m\u001b[0mencoding\u001b[0m\u001b[0;34m=\u001b[0m\u001b[0;34m'utf8'\u001b[0m\u001b[0;34m)\u001b[0m \u001b[0;32mas\u001b[0m \u001b[0mf\u001b[0m\u001b[0;34m:\u001b[0m\u001b[0;34m\u001b[0m\u001b[0;34m\u001b[0m\u001b[0m\n\u001b[0m\u001b[1;32m      2\u001b[0m     \u001b[0mpair\u001b[0m \u001b[0;34m=\u001b[0m \u001b[0mpd\u001b[0m\u001b[0;34m.\u001b[0m\u001b[0mDataFrame\u001b[0m\u001b[0;34m(\u001b[0m\u001b[0;34m[\u001b[0m \u001b[0mp\u001b[0m\u001b[0;34m.\u001b[0m\u001b[0msplit\u001b[0m\u001b[0;34m(\u001b[0m\u001b[0;34m'%%'\u001b[0m\u001b[0;34m)\u001b[0m \u001b[0;32mfor\u001b[0m \u001b[0mp\u001b[0m \u001b[0;32min\u001b[0m \u001b[0mf\u001b[0m\u001b[0;34m.\u001b[0m\u001b[0mread\u001b[0m\u001b[0;34m(\u001b[0m\u001b[0;34m)\u001b[0m\u001b[0;34m.\u001b[0m\u001b[0msplit\u001b[0m\u001b[0;34m(\u001b[0m\u001b[0;34m'\\n'\u001b[0m\u001b[0;34m)\u001b[0m \u001b[0;32mif\u001b[0m \u001b[0mp\u001b[0m\u001b[0;34m.\u001b[0m\u001b[0mstrip\u001b[0m\u001b[0;34m(\u001b[0m\u001b[0;34m)\u001b[0m \u001b[0;34m]\u001b[0m\u001b[0;34m)\u001b[0m\u001b[0;34m\u001b[0m\u001b[0;34m\u001b[0m\u001b[0m\n",
      "\u001b[0;31mFileNotFoundError\u001b[0m: [Errno 2] No such file or directory: '../data/text/pair.txt'"
     ]
    }
   ],
   "source": [
    "with open('../data/text/pair.txt','rt',encoding='utf8') as f: \n",
    "    pair = pd.DataFrame([ p.split('%%') for p in f.read().split('\\n') if p.strip() ])"
   ]
  },
  {
   "cell_type": "code",
   "execution_count": 5,
   "metadata": {},
   "outputs": [],
   "source": [
    "pair.columns=['Q','A']\n",
    "pair['Q'] = pair['Q'].str.strip()\n",
    "pair['A'] = pair['A'].str.strip()"
   ]
  },
  {
   "cell_type": "code",
   "execution_count": 6,
   "metadata": {},
   "outputs": [
    {
     "name": "stdout",
     "output_type": "stream",
     "text": [
      "записей: 336 666\n"
     ]
    },
    {
     "data": {
      "text/html": [
       "<div>\n",
       "<style scoped>\n",
       "    .dataframe tbody tr th:only-of-type {\n",
       "        vertical-align: middle;\n",
       "    }\n",
       "\n",
       "    .dataframe tbody tr th {\n",
       "        vertical-align: top;\n",
       "    }\n",
       "\n",
       "    .dataframe thead th {\n",
       "        text-align: right;\n",
       "    }\n",
       "</style>\n",
       "<table border=\"1\" class=\"dataframe\">\n",
       "  <thead>\n",
       "    <tr style=\"text-align: right;\">\n",
       "      <th></th>\n",
       "      <th>Q</th>\n",
       "      <th>A</th>\n",
       "    </tr>\n",
       "  </thead>\n",
       "  <tbody>\n",
       "    <tr>\n",
       "      <th>54015</th>\n",
       "      <td>Watch your luggage.</td>\n",
       "      <td>Следи за багажом.</td>\n",
       "    </tr>\n",
       "    <tr>\n",
       "      <th>8267</th>\n",
       "      <td>Have some ham.</td>\n",
       "      <td>Поешь ветчины.</td>\n",
       "    </tr>\n",
       "    <tr>\n",
       "      <th>152248</th>\n",
       "      <td>I don't think I can fix it.</td>\n",
       "      <td>Не думаю, что смогу это починить.</td>\n",
       "    </tr>\n",
       "    <tr>\n",
       "      <th>86743</th>\n",
       "      <td>I think you're stupid.</td>\n",
       "      <td>Думаю, что ты глуп.</td>\n",
       "    </tr>\n",
       "    <tr>\n",
       "      <th>9953</th>\n",
       "      <td>It's not here.</td>\n",
       "      <td>Это не здесь.</td>\n",
       "    </tr>\n",
       "    <tr>\n",
       "      <th>290975</th>\n",
       "      <td>Unfortunately, I have to disappoint you.</td>\n",
       "      <td>К сожалению, должен вас разочаровать.</td>\n",
       "    </tr>\n",
       "    <tr>\n",
       "      <th>114870</th>\n",
       "      <td>Nobody knew what to say.</td>\n",
       "      <td>Никто не знал, что сказать.</td>\n",
       "    </tr>\n",
       "    <tr>\n",
       "      <th>174308</th>\n",
       "      <td>Tom thought nobody was home.</td>\n",
       "      <td>Том думал, что никого нет дома.</td>\n",
       "    </tr>\n",
       "    <tr>\n",
       "      <th>111086</th>\n",
       "      <td>I got one for Christmas.</td>\n",
       "      <td>Мне такой на Рождество подарили.</td>\n",
       "    </tr>\n",
       "  </tbody>\n",
       "</table>\n",
       "</div>"
      ],
      "text/plain": [
       "                                               Q  \\\n",
       "54015                        Watch your luggage.   \n",
       "8267                              Have some ham.   \n",
       "152248               I don't think I can fix it.   \n",
       "86743                     I think you're stupid.   \n",
       "9953                              It's not here.   \n",
       "290975  Unfortunately, I have to disappoint you.   \n",
       "114870                  Nobody knew what to say.   \n",
       "174308              Tom thought nobody was home.   \n",
       "111086                  I got one for Christmas.   \n",
       "\n",
       "                                            A  \n",
       "54015                       Следи за багажом.  \n",
       "8267                           Поешь ветчины.  \n",
       "152248      Не думаю, что смогу это починить.  \n",
       "86743                     Думаю, что ты глуп.  \n",
       "9953                            Это не здесь.  \n",
       "290975  К сожалению, должен вас разочаровать.  \n",
       "114870            Никто не знал, что сказать.  \n",
       "174308        Том думал, что никого нет дома.  \n",
       "111086       Мне такой на Рождество подарили.  "
      ]
     },
     "execution_count": 6,
     "metadata": {},
     "output_type": "execute_result"
    }
   ],
   "source": [
    "ppr(pair)\n",
    "pair.sample(9)"
   ]
  },
  {
   "cell_type": "markdown",
   "metadata": {},
   "source": [
    "## Чистим тексты"
   ]
  },
  {
   "cell_type": "code",
   "execution_count": 7,
   "metadata": {},
   "outputs": [],
   "source": [
    "pair['Q_clean'] = pair['Q'].str.lower()\n",
    "pair['Q_clean'] = pair['Q_clean'].str.replace(r'([,.?!])', r' \\1 ')\n",
    "\n",
    "# pair['Q_clean'] = pair['Q_clean'].apply(lambda s: re.sub( r'\\([,.?!]\\)', ' \\1 ', s))\n",
    "#pair['Q_clean'] = pair['Q_clean'].apply(lambda s: re.sub( r'\\W', ' ', s))\n",
    "#pair['Q_clean'] = pair['Q_clean'].apply(lambda s: re.sub( r'\\b\\d+\\b', ' digit ', s)) \n",
    "\n",
    "pair['A_clean'] = pair['A'].str.lower()\n",
    "pair['A_clean'] = pair['A_clean'].str.replace(r'([,.?!])', r' \\1 ')\n",
    "\n",
    "# pair['A_clean'] = pair['A_clean'].apply(lambda s: re.sub( r'(\\W)', ' \\1 ', s))\n",
    "# pair['A_clean'] = pair['A_clean'].apply(lambda s: re.sub( r'\\W', ' ', s))\n",
    "# pair['A_clean'] = pair['A_clean'].apply(lambda s: re.sub( r'\\b\\d+\\b', ' digit ', s)) "
   ]
  },
  {
   "cell_type": "code",
   "execution_count": 8,
   "metadata": {},
   "outputs": [],
   "source": [
    "# добавляем \"служебные\" слова - начало и конец последовательности\n",
    "pair['Q_clean'] = pair['Q_clean'].str.split() + ['<START>']\n",
    "pair['A_clean'] = ['<GO>'] + pair['A_clean'].str.split() + ['<EOS>']"
   ]
  },
  {
   "cell_type": "code",
   "execution_count": 9,
   "metadata": {},
   "outputs": [
    {
     "data": {
      "text/html": [
       "<div>\n",
       "<style scoped>\n",
       "    .dataframe tbody tr th:only-of-type {\n",
       "        vertical-align: middle;\n",
       "    }\n",
       "\n",
       "    .dataframe tbody tr th {\n",
       "        vertical-align: top;\n",
       "    }\n",
       "\n",
       "    .dataframe thead th {\n",
       "        text-align: right;\n",
       "    }\n",
       "</style>\n",
       "<table border=\"1\" class=\"dataframe\">\n",
       "  <thead>\n",
       "    <tr style=\"text-align: right;\">\n",
       "      <th></th>\n",
       "      <th>Q_clean</th>\n",
       "      <th>A_clean</th>\n",
       "    </tr>\n",
       "  </thead>\n",
       "  <tbody>\n",
       "    <tr>\n",
       "      <th>125227</th>\n",
       "      <td>[i, just, don't, want, to, die, ., &lt;START&gt;]</td>\n",
       "      <td>[&lt;GO&gt;, я, просто, не, хочу, умирать, ., &lt;EOS&gt;]</td>\n",
       "    </tr>\n",
       "    <tr>\n",
       "      <th>85223</th>\n",
       "      <td>[i, didn't, drink, coffee, ., &lt;START&gt;]</td>\n",
       "      <td>[&lt;GO&gt;, я, не, пил, кофе, ., &lt;EOS&gt;]</td>\n",
       "    </tr>\n",
       "    <tr>\n",
       "      <th>87116</th>\n",
       "      <td>[i, went, into, the, house, ., &lt;START&gt;]</td>\n",
       "      <td>[&lt;GO&gt;, я, вошёл, в, дом, ., &lt;EOS&gt;]</td>\n",
       "    </tr>\n",
       "    <tr>\n",
       "      <th>319963</th>\n",
       "      <td>[the, orchestra, is, drowning, out, the, singer's, voice, ., &lt;START&gt;]</td>\n",
       "      <td>[&lt;GO&gt;, оркестр, заглушает, голос, певца, ., &lt;EOS&gt;]</td>\n",
       "    </tr>\n",
       "    <tr>\n",
       "      <th>273391</th>\n",
       "      <td>[you, still, haven't, told, me, what, to, do, ., &lt;START&gt;]</td>\n",
       "      <td>[&lt;GO&gt;, вы, так, и, не, сказали, мне, ,, что, делать, ., &lt;EOS&gt;]</td>\n",
       "    </tr>\n",
       "    <tr>\n",
       "      <th>176345</th>\n",
       "      <td>[who, will, you, be, coming, with, ?, &lt;START&gt;]</td>\n",
       "      <td>[&lt;GO&gt;, с, кем, вы, придёте, ?, &lt;EOS&gt;]</td>\n",
       "    </tr>\n",
       "    <tr>\n",
       "      <th>37524</th>\n",
       "      <td>[i'll, recommend, it, ., &lt;START&gt;]</td>\n",
       "      <td>[&lt;GO&gt;, я, порекомендую, это, ., &lt;EOS&gt;]</td>\n",
       "    </tr>\n",
       "    <tr>\n",
       "      <th>309546</th>\n",
       "      <td>[it, took, her, all, afternoon, to, finish, the, work, ., &lt;START&gt;]</td>\n",
       "      <td>[&lt;GO&gt;, на, завершение, работы, у, неё, ушла, вся, вторая, половина, дня, ., &lt;EOS&gt;]</td>\n",
       "    </tr>\n",
       "    <tr>\n",
       "      <th>31800</th>\n",
       "      <td>[was, tom, a, sailor, ?, &lt;START&gt;]</td>\n",
       "      <td>[&lt;GO&gt;, том, был, моряком, ?, &lt;EOS&gt;]</td>\n",
       "    </tr>\n",
       "  </tbody>\n",
       "</table>\n",
       "</div>"
      ],
      "text/plain": [
       "                                                                      Q_clean  \\\n",
       "125227                            [i, just, don't, want, to, die, ., <START>]   \n",
       "85223                                  [i, didn't, drink, coffee, ., <START>]   \n",
       "87116                                 [i, went, into, the, house, ., <START>]   \n",
       "319963  [the, orchestra, is, drowning, out, the, singer's, voice, ., <START>]   \n",
       "273391              [you, still, haven't, told, me, what, to, do, ., <START>]   \n",
       "176345                         [who, will, you, be, coming, with, ?, <START>]   \n",
       "37524                                       [i'll, recommend, it, ., <START>]   \n",
       "309546     [it, took, her, all, afternoon, to, finish, the, work, ., <START>]   \n",
       "31800                                       [was, tom, a, sailor, ?, <START>]   \n",
       "\n",
       "                                                                                   A_clean  \n",
       "125227                                      [<GO>, я, просто, не, хочу, умирать, ., <EOS>]  \n",
       "85223                                                   [<GO>, я, не, пил, кофе, ., <EOS>]  \n",
       "87116                                                   [<GO>, я, вошёл, в, дом, ., <EOS>]  \n",
       "319963                                  [<GO>, оркестр, заглушает, голос, певца, ., <EOS>]  \n",
       "273391                      [<GO>, вы, так, и, не, сказали, мне, ,, что, делать, ., <EOS>]  \n",
       "176345                                               [<GO>, с, кем, вы, придёте, ?, <EOS>]  \n",
       "37524                                               [<GO>, я, порекомендую, это, ., <EOS>]  \n",
       "309546  [<GO>, на, завершение, работы, у, неё, ушла, вся, вторая, половина, дня, ., <EOS>]  \n",
       "31800                                                  [<GO>, том, был, моряком, ?, <EOS>]  "
      ]
     },
     "execution_count": 9,
     "metadata": {},
     "output_type": "execute_result"
    }
   ],
   "source": [
    "pair[['Q_clean','A_clean']].sample(9)"
   ]
  },
  {
   "cell_type": "markdown",
   "metadata": {},
   "source": [
    "---"
   ]
  },
  {
   "cell_type": "code",
   "execution_count": 10,
   "metadata": {},
   "outputs": [
    {
     "data": {
      "text/html": [
       "<div>\n",
       "<style scoped>\n",
       "    .dataframe tbody tr th:only-of-type {\n",
       "        vertical-align: middle;\n",
       "    }\n",
       "\n",
       "    .dataframe tbody tr th {\n",
       "        vertical-align: top;\n",
       "    }\n",
       "\n",
       "    .dataframe thead th {\n",
       "        text-align: right;\n",
       "    }\n",
       "</style>\n",
       "<table border=\"1\" class=\"dataframe\">\n",
       "  <thead>\n",
       "    <tr style=\"text-align: right;\">\n",
       "      <th></th>\n",
       "      <th>lenQ</th>\n",
       "      <th>lenA</th>\n",
       "    </tr>\n",
       "  </thead>\n",
       "  <tbody>\n",
       "    <tr>\n",
       "      <th>count</th>\n",
       "      <td>336666.000000</td>\n",
       "      <td>336666.000000</td>\n",
       "    </tr>\n",
       "    <tr>\n",
       "      <th>mean</th>\n",
       "      <td>8.022399</td>\n",
       "      <td>8.499317</td>\n",
       "    </tr>\n",
       "    <tr>\n",
       "      <th>std</th>\n",
       "      <td>2.307285</td>\n",
       "      <td>2.412566</td>\n",
       "    </tr>\n",
       "    <tr>\n",
       "      <th>min</th>\n",
       "      <td>3.000000</td>\n",
       "      <td>4.000000</td>\n",
       "    </tr>\n",
       "    <tr>\n",
       "      <th>25%</th>\n",
       "      <td>6.000000</td>\n",
       "      <td>7.000000</td>\n",
       "    </tr>\n",
       "    <tr>\n",
       "      <th>50%</th>\n",
       "      <td>8.000000</td>\n",
       "      <td>8.000000</td>\n",
       "    </tr>\n",
       "    <tr>\n",
       "      <th>75%</th>\n",
       "      <td>9.000000</td>\n",
       "      <td>10.000000</td>\n",
       "    </tr>\n",
       "    <tr>\n",
       "      <th>max</th>\n",
       "      <td>47.000000</td>\n",
       "      <td>51.000000</td>\n",
       "    </tr>\n",
       "  </tbody>\n",
       "</table>\n",
       "</div>"
      ],
      "text/plain": [
       "                lenQ           lenA\n",
       "count  336666.000000  336666.000000\n",
       "mean        8.022399       8.499317\n",
       "std         2.307285       2.412566\n",
       "min         3.000000       4.000000\n",
       "25%         6.000000       7.000000\n",
       "50%         8.000000       8.000000\n",
       "75%         9.000000      10.000000\n",
       "max        47.000000      51.000000"
      ]
     },
     "execution_count": 10,
     "metadata": {},
     "output_type": "execute_result"
    }
   ],
   "source": [
    "# считаем количество слов\n",
    "pair['lenQ'] = pair['Q_clean'].str.len()\n",
    "pair['lenA'] = pair['A_clean'].str.len()\n",
    "pair.describe()"
   ]
  },
  {
   "cell_type": "code",
   "execution_count": 11,
   "metadata": {},
   "outputs": [
    {
     "data": {
      "text/plain": [
       "(12.0, 13.0)"
      ]
     },
     "execution_count": 11,
     "metadata": {},
     "output_type": "execute_result"
    }
   ],
   "source": [
    "# определяем максимальную длинну последовательности\n",
    "pair['lenQ'].quantile(0.95),  pair['lenA'].quantile(0.95)"
   ]
  },
  {
   "cell_type": "code",
   "execution_count": 12,
   "metadata": {},
   "outputs": [
    {
     "name": "stdout",
     "output_type": "stream",
     "text": [
      "записей: 336 666\n",
      "записей: 165 112\n"
     ]
    }
   ],
   "source": [
    "# выбираем последовательности средней длинны\n",
    "sent_len_min, sent_len_max = 7,10\n",
    "\n",
    "ppr(pair)\n",
    "pair = pair[\n",
    "    pair['lenQ'].between(sent_len_min,sent_len_max) \n",
    "    & pair['lenA'].between(sent_len_min,sent_len_max) \n",
    "  ]\n",
    "ppr(pair)"
   ]
  },
  {
   "cell_type": "code",
   "execution_count": 13,
   "metadata": {},
   "outputs": [],
   "source": [
    "# выстраиваем входные последовательности в обратном порядке\n",
    "# и выравниваем длинну последовательностей,\n",
    "# дополняем короткие словом \"служебным\" словом,\n",
    "pad = ['<PAD>']*sent_len_max\n",
    "pair['Q_clean'] = pair['Q_clean'].apply( lambda t: pad[len(t):] + list(reversed(t)) )\n",
    "pair['A_clean'] = pair['A_clean'].apply( lambda t: t + pad[len(t):] )"
   ]
  },
  {
   "cell_type": "code",
   "execution_count": 14,
   "metadata": {},
   "outputs": [
    {
     "data": {
      "text/html": [
       "<div>\n",
       "<style scoped>\n",
       "    .dataframe tbody tr th:only-of-type {\n",
       "        vertical-align: middle;\n",
       "    }\n",
       "\n",
       "    .dataframe tbody tr th {\n",
       "        vertical-align: top;\n",
       "    }\n",
       "\n",
       "    .dataframe thead th {\n",
       "        text-align: right;\n",
       "    }\n",
       "</style>\n",
       "<table border=\"1\" class=\"dataframe\">\n",
       "  <thead>\n",
       "    <tr style=\"text-align: right;\">\n",
       "      <th></th>\n",
       "      <th>Q_clean</th>\n",
       "      <th>A_clean</th>\n",
       "    </tr>\n",
       "  </thead>\n",
       "  <tbody>\n",
       "    <tr>\n",
       "      <th>263445</th>\n",
       "      <td>[&lt;PAD&gt;, &lt;PAD&gt;, &lt;START&gt;, ., questions, more, three, mary, asked, tom]</td>\n",
       "      <td>[&lt;GO&gt;, том, задал, мэри, еще, три, вопроса, ., &lt;EOS&gt;, &lt;PAD&gt;]</td>\n",
       "    </tr>\n",
       "    <tr>\n",
       "      <th>187094</th>\n",
       "      <td>[&lt;PAD&gt;, &lt;PAD&gt;, &lt;START&gt;, ., say, would, mary, what, knew, tom]</td>\n",
       "      <td>[&lt;GO&gt;, том, знал, ,, что, мэри, скажет, ., &lt;EOS&gt;, &lt;PAD&gt;]</td>\n",
       "    </tr>\n",
       "    <tr>\n",
       "      <th>310127</th>\n",
       "      <td>[&lt;PAD&gt;, &lt;START&gt;, ., simply, quite, answered, be, can, questions, these]</td>\n",
       "      <td>[&lt;GO&gt;, на, эти, вопросы, очень, легко, ответить, ., &lt;EOS&gt;, &lt;PAD&gt;]</td>\n",
       "    </tr>\n",
       "    <tr>\n",
       "      <th>218834</th>\n",
       "      <td>[&lt;PAD&gt;, &lt;START&gt;, ?, this, doing, be, you, will, long, how]</td>\n",
       "      <td>[&lt;GO&gt;, долго, вы, будете, это, делать, ?, &lt;EOS&gt;, &lt;PAD&gt;, &lt;PAD&gt;]</td>\n",
       "    </tr>\n",
       "    <tr>\n",
       "      <th>124856</th>\n",
       "      <td>[&lt;PAD&gt;, &lt;PAD&gt;, &lt;START&gt;, ., apple, an, boy, each, gave, i]</td>\n",
       "      <td>[&lt;GO&gt;, я, дал, мальчикам, по, яблоку, ., &lt;EOS&gt;, &lt;PAD&gt;, &lt;PAD&gt;]</td>\n",
       "    </tr>\n",
       "    <tr>\n",
       "      <th>158098</th>\n",
       "      <td>[&lt;PAD&gt;, &lt;PAD&gt;, &lt;START&gt;, ., tree, that, to, horse, the, tie]</td>\n",
       "      <td>[&lt;GO&gt;, привяжи, лошадку, к, тому, дереву, ., &lt;EOS&gt;, &lt;PAD&gt;, &lt;PAD&gt;]</td>\n",
       "    </tr>\n",
       "    <tr>\n",
       "      <th>268417</th>\n",
       "      <td>[&lt;START&gt;, ., driver, taxi, a, be, i'd, thought, never, i]</td>\n",
       "      <td>[&lt;GO&gt;, никогда, не, думал, ,, что, буду, таксистом, ., &lt;EOS&gt;]</td>\n",
       "    </tr>\n",
       "    <tr>\n",
       "      <th>290534</th>\n",
       "      <td>[&lt;START&gt;, ., himself, for, think, to, learn, to, needs, tom]</td>\n",
       "      <td>[&lt;GO&gt;, тому, нужно, научиться, думать, самостоятельно, ., &lt;EOS&gt;, &lt;PAD&gt;, &lt;PAD&gt;]</td>\n",
       "    </tr>\n",
       "    <tr>\n",
       "      <th>221490</th>\n",
       "      <td>[&lt;PAD&gt;, &lt;START&gt;, ., anybody, to, it, tell, never, will, i]</td>\n",
       "      <td>[&lt;GO&gt;, я, никогда, никому, не, скажу, об, этом, ., &lt;EOS&gt;]</td>\n",
       "    </tr>\n",
       "  </tbody>\n",
       "</table>\n",
       "</div>"
      ],
      "text/plain": [
       "                                                                        Q_clean  \\\n",
       "263445     [<PAD>, <PAD>, <START>, ., questions, more, three, mary, asked, tom]   \n",
       "187094            [<PAD>, <PAD>, <START>, ., say, would, mary, what, knew, tom]   \n",
       "310127  [<PAD>, <START>, ., simply, quite, answered, be, can, questions, these]   \n",
       "218834               [<PAD>, <START>, ?, this, doing, be, you, will, long, how]   \n",
       "124856                [<PAD>, <PAD>, <START>, ., apple, an, boy, each, gave, i]   \n",
       "158098              [<PAD>, <PAD>, <START>, ., tree, that, to, horse, the, tie]   \n",
       "268417                [<START>, ., driver, taxi, a, be, i'd, thought, never, i]   \n",
       "290534             [<START>, ., himself, for, think, to, learn, to, needs, tom]   \n",
       "221490               [<PAD>, <START>, ., anybody, to, it, tell, never, will, i]   \n",
       "\n",
       "                                                                               A_clean  \n",
       "263445                    [<GO>, том, задал, мэри, еще, три, вопроса, ., <EOS>, <PAD>]  \n",
       "187094                        [<GO>, том, знал, ,, что, мэри, скажет, ., <EOS>, <PAD>]  \n",
       "310127               [<GO>, на, эти, вопросы, очень, легко, ответить, ., <EOS>, <PAD>]  \n",
       "218834                  [<GO>, долго, вы, будете, это, делать, ?, <EOS>, <PAD>, <PAD>]  \n",
       "124856                   [<GO>, я, дал, мальчикам, по, яблоку, ., <EOS>, <PAD>, <PAD>]  \n",
       "158098               [<GO>, привяжи, лошадку, к, тому, дереву, ., <EOS>, <PAD>, <PAD>]  \n",
       "268417                   [<GO>, никогда, не, думал, ,, что, буду, таксистом, ., <EOS>]  \n",
       "290534  [<GO>, тому, нужно, научиться, думать, самостоятельно, ., <EOS>, <PAD>, <PAD>]  \n",
       "221490                       [<GO>, я, никогда, никому, не, скажу, об, этом, ., <EOS>]  "
      ]
     },
     "execution_count": 14,
     "metadata": {},
     "output_type": "execute_result"
    }
   ],
   "source": [
    "pair[['Q_clean','A_clean']].sample(9)"
   ]
  },
  {
   "cell_type": "markdown",
   "metadata": {},
   "source": [
    "## Кодируем тексты"
   ]
  },
  {
   "cell_type": "code",
   "execution_count": 15,
   "metadata": {},
   "outputs": [],
   "source": [
    "# data = pair['Q_clean'].values.tolist() + pair['A_clean'].values.tolist()"
   ]
  },
  {
   "cell_type": "code",
   "execution_count": 16,
   "metadata": {},
   "outputs": [
    {
     "name": "stdout",
     "output_type": "stream",
     "text": [
      "CPU times: user 18 s, sys: 136 ms, total: 18.2 s\n",
      "Wall time: 9.21 s\n"
     ]
    }
   ],
   "source": [
    "%%time\n",
    "\n",
    "from gensim.models.word2vec import Word2Vec\n",
    "\n",
    "w2v_size = 256\n",
    "\n",
    "w2v_q = Word2Vec( pair['Q_clean'].values.tolist(), min_count=1, size=w2v_size, window=4, workers=4)\n",
    "w2v_a = Word2Vec( pair['A_clean'].values.tolist(), min_count=1, size=w2v_size, window=4, workers=4)"
   ]
  },
  {
   "cell_type": "code",
   "execution_count": 17,
   "metadata": {},
   "outputs": [
    {
     "name": "stdout",
     "output_type": "stream",
     "text": [
      "записей: 12 143\n",
      "записей: 35 286\n"
     ]
    }
   ],
   "source": [
    "w2v_q_vocab = sorted([w for w in w2v_q.wv.vocab])\n",
    "ppr(w2v_q_vocab)\n",
    "\n",
    "w2v_a_vocab = sorted([w for w in w2v_a.wv.vocab])\n",
    "ppr(w2v_a_vocab)"
   ]
  },
  {
   "cell_type": "code",
   "execution_count": 18,
   "metadata": {},
   "outputs": [
    {
     "name": "stdout",
     "output_type": "stream",
     "text": [
      "lifeguards : ['saturdays', 'beach', 'planning', 'counting', 'seesaw']\n",
      "bench : ['couch', 'spot', 'grass', 'sofa', 'farm']\n",
      "feeds : ['scraps', 'struggled', 'bareback', 'knotted', 'checks']\n",
      "50 : ['300', '60', '200', '4', 'fifty']\n",
      "observant : ['petty', 'permissive', 'illegible', 'strict', 'immature']\n",
      "kind : ['capable', 'sort', 'proud', 'motherly', 'unaware']\n",
      "ballot : ['absentee', 'eel', 'pamphlet', 'multiple', 'accusations']\n",
      "italian : ['banned', 'band', 'asia', 'national', 'hockey']\n",
      "hop : ['fade', 'return', 'run', 'shipbuilding', \"pilot's\"]\n",
      "idiotic : ['acupuncture', 'ark', 'grand', 'majestically', 'hoover']\n"
     ]
    },
    {
     "name": "stderr",
     "output_type": "stream",
     "text": [
      "/usr/lib/python3.7/site-packages/gensim/matutils.py:737: FutureWarning: Conversion of the second argument of issubdtype from `int` to `np.signedinteger` is deprecated. In future, it will be treated as `np.int64 == np.dtype(int).type`.\n",
      "  if np.issubdtype(vec.dtype, np.int):\n"
     ]
    }
   ],
   "source": [
    "ii = np.random.permutation(len(w2v_q_vocab))[:10]\n",
    "for i in ii:\n",
    "    w = w2v_q_vocab[i]\n",
    "    ww = [ v[0] for v in w2v_q.wv.most_similar(w, topn=5) ]\n",
    "    print( w,':',ww )"
   ]
  },
  {
   "cell_type": "code",
   "execution_count": 19,
   "metadata": {},
   "outputs": [
    {
     "name": "stdout",
     "output_type": "stream",
     "text": [
      "дозвонился : ['возьмет', 'выпускником', 'гиннес', 'воспользуйся', 'приютил']\n",
      "зубрил : ['выносил', 'выберет', 'разлуку', 'взбесился', 'растранжирил']\n",
      "напугал : ['службу', 'духа', 'четвёртую', 'вежливый', 'искусство']\n",
      "потайная : ['свободные', 'ос', '\"оставь', 'капли', 'где-нибудь']\n",
      "незаконченные : ['сырых', 'здоровую', 'wi-fi', 'сомнения', 'велосипеды']\n",
      "сведению : ['возражение', 'мальчишка', 'засунь', 'множеству', 'призывали']\n",
      "осуществлять : ['оплатить', 'обратить', 'проглотить', 'отыскать', 'разобрать']\n",
      "сбивали : ['нападению', 'искренние', 'кучей', 'берега', 'реки']\n",
      "протеин : ['сумасшедшим', 'джексона', 'подушкой', 'воображение', 'подбородок']\n",
      "приведены : ['записке', 'диснейленде', 'спрингстин', 'планетарии', 'вранье']\n"
     ]
    }
   ],
   "source": [
    "ii = np.random.permutation(len(w2v_a_vocab))[:10]\n",
    "for i in ii:\n",
    "    w = w2v_a_vocab[i]\n",
    "    ww = [ v[0] for v in w2v_a.wv.most_similar(w, topn=5) ]\n",
    "    print( w,':',ww )"
   ]
  },
  {
   "cell_type": "markdown",
   "metadata": {},
   "source": [
    "---"
   ]
  },
  {
   "cell_type": "code",
   "execution_count": 20,
   "metadata": {},
   "outputs": [],
   "source": [
    "# c = w2v_a.wv['<GO>']\n",
    "# w2v_a.wv.similar_by_vector(c)[0][0] \n",
    "# c.min(), c.max()"
   ]
  },
  {
   "cell_type": "markdown",
   "metadata": {},
   "source": [
    "---"
   ]
  },
  {
   "cell_type": "code",
   "execution_count": 21,
   "metadata": {},
   "outputs": [],
   "source": [
    "pair['Q_code'] = pair['Q_clean'].apply(lambda t: [ w2v_q.wv.get_vector(w) for w in t ] )\n",
    "pair['A_code'] = pair['A_clean'].apply(lambda t: [ w2v_a.wv.get_vector(w) for w in t ] )"
   ]
  },
  {
   "cell_type": "code",
   "execution_count": 22,
   "metadata": {},
   "outputs": [
    {
     "data": {
      "text/html": [
       "<div>\n",
       "<style scoped>\n",
       "    .dataframe tbody tr th:only-of-type {\n",
       "        vertical-align: middle;\n",
       "    }\n",
       "\n",
       "    .dataframe tbody tr th {\n",
       "        vertical-align: top;\n",
       "    }\n",
       "\n",
       "    .dataframe thead th {\n",
       "        text-align: right;\n",
       "    }\n",
       "</style>\n",
       "<table border=\"1\" class=\"dataframe\">\n",
       "  <thead>\n",
       "    <tr style=\"text-align: right;\">\n",
       "      <th></th>\n",
       "      <th>Q_code</th>\n",
       "      <th>A_code</th>\n",
       "    </tr>\n",
       "  </thead>\n",
       "  <tbody>\n",
       "    <tr>\n",
       "      <th>96901</th>\n",
       "      <td>[[0.33058208, -0.28316858, -0.22658816, -0.37592202, -0.32576087, -0.09522664, 0.78433275, -0.79865706, -0.20137724, 1.0254937, -0.25442362, 0.37049827, 0.56521356, 0.23883432, -0.14680867, 0.3908...</td>\n",
       "      <td>[[-0.49798346, -2.3365552, 0.15383142, 1.4701685, 0.30655286, -1.0703925, 0.4387113, -0.6881707, 0.23141465, 0.46207544, -0.47387442, -0.5941366, -0.5359087, -0.23798801, -0.773308, -1.1179799, 0....</td>\n",
       "    </tr>\n",
       "    <tr>\n",
       "      <th>135141</th>\n",
       "      <td>[[0.33058208, -0.28316858, -0.22658816, -0.37592202, -0.32576087, -0.09522664, 0.78433275, -0.79865706, -0.20137724, 1.0254937, -0.25442362, 0.37049827, 0.56521356, 0.23883432, -0.14680867, 0.3908...</td>\n",
       "      <td>[[-0.49798346, -2.3365552, 0.15383142, 1.4701685, 0.30655286, -1.0703925, 0.4387113, -0.6881707, 0.23141465, 0.46207544, -0.47387442, -0.5941366, -0.5359087, -0.23798801, -0.773308, -1.1179799, 0....</td>\n",
       "    </tr>\n",
       "    <tr>\n",
       "      <th>308563</th>\n",
       "      <td>[[0.33058208, -0.28316858, -0.22658816, -0.37592202, -0.32576087, -0.09522664, 0.78433275, -0.79865706, -0.20137724, 1.0254937, -0.25442362, 0.37049827, 0.56521356, 0.23883432, -0.14680867, 0.3908...</td>\n",
       "      <td>[[-0.49798346, -2.3365552, 0.15383142, 1.4701685, 0.30655286, -1.0703925, 0.4387113, -0.6881707, 0.23141465, 0.46207544, -0.47387442, -0.5941366, -0.5359087, -0.23798801, -0.773308, -1.1179799, 0....</td>\n",
       "    </tr>\n",
       "  </tbody>\n",
       "</table>\n",
       "</div>"
      ],
      "text/plain": [
       "                                                                                                                                                                                                         Q_code  \\\n",
       "96901   [[0.33058208, -0.28316858, -0.22658816, -0.37592202, -0.32576087, -0.09522664, 0.78433275, -0.79865706, -0.20137724, 1.0254937, -0.25442362, 0.37049827, 0.56521356, 0.23883432, -0.14680867, 0.3908...   \n",
       "135141  [[0.33058208, -0.28316858, -0.22658816, -0.37592202, -0.32576087, -0.09522664, 0.78433275, -0.79865706, -0.20137724, 1.0254937, -0.25442362, 0.37049827, 0.56521356, 0.23883432, -0.14680867, 0.3908...   \n",
       "308563  [[0.33058208, -0.28316858, -0.22658816, -0.37592202, -0.32576087, -0.09522664, 0.78433275, -0.79865706, -0.20137724, 1.0254937, -0.25442362, 0.37049827, 0.56521356, 0.23883432, -0.14680867, 0.3908...   \n",
       "\n",
       "                                                                                                                                                                                                         A_code  \n",
       "96901   [[-0.49798346, -2.3365552, 0.15383142, 1.4701685, 0.30655286, -1.0703925, 0.4387113, -0.6881707, 0.23141465, 0.46207544, -0.47387442, -0.5941366, -0.5359087, -0.23798801, -0.773308, -1.1179799, 0....  \n",
       "135141  [[-0.49798346, -2.3365552, 0.15383142, 1.4701685, 0.30655286, -1.0703925, 0.4387113, -0.6881707, 0.23141465, 0.46207544, -0.47387442, -0.5941366, -0.5359087, -0.23798801, -0.773308, -1.1179799, 0....  \n",
       "308563  [[-0.49798346, -2.3365552, 0.15383142, 1.4701685, 0.30655286, -1.0703925, 0.4387113, -0.6881707, 0.23141465, 0.46207544, -0.47387442, -0.5941366, -0.5359087, -0.23798801, -0.773308, -1.1179799, 0....  "
      ]
     },
     "execution_count": 22,
     "metadata": {},
     "output_type": "execute_result"
    }
   ],
   "source": [
    "pair[['Q_code','A_code']].sample(3)"
   ]
  },
  {
   "cell_type": "markdown",
   "metadata": {},
   "source": [
    "\n",
    "-----"
   ]
  },
  {
   "cell_type": "code",
   "execution_count": 23,
   "metadata": {},
   "outputs": [
    {
     "name": "stdout",
     "output_type": "stream",
     "text": [
      "записей: 165 112\n"
     ]
    }
   ],
   "source": [
    "ppr(pair)"
   ]
  },
  {
   "cell_type": "code",
   "execution_count": 24,
   "metadata": {},
   "outputs": [],
   "source": [
    "pair = pair.sample(1000)\n",
    "\n",
    "# pair = pair.sample(283800)\n",
    "# pair = pair.sample(600)"
   ]
  },
  {
   "cell_type": "code",
   "execution_count": 68,
   "metadata": {},
   "outputs": [
    {
     "data": {
      "text/plain": [
       "((1000, 10, 256), (1000, 9, 256), (1000, 9, 256))"
      ]
     },
     "execution_count": 68,
     "metadata": {},
     "output_type": "execute_result"
    }
   ],
   "source": [
    "encoder_input_data = np.stack( pair['Q_code'].values ).astype(np.float32)\n",
    "\n",
    "decoder_input_data = np.stack( pair['A_code'].values )[:,:-1,:].astype(np.float32)\n",
    "decoder_target_data = np.stack( pair['A_code'].values )[:,1:,:].astype(np.float32)\n",
    "\n",
    "encoder_input_data.shape, decoder_input_data.shape, decoder_target_data.shape"
   ]
  },
  {
   "cell_type": "markdown",
   "metadata": {},
   "source": [
    "## Строим нейросеть"
   ]
  },
  {
   "cell_type": "code",
   "execution_count": 73,
   "metadata": {},
   "outputs": [],
   "source": [
    "from tensorflow.keras.models import Model\n",
    "from tensorflow.keras.layers import Input\n",
    "from tensorflow.keras.layers import LSTM\n",
    "from tensorflow.keras.layers import Dense"
   ]
  },
  {
   "cell_type": "code",
   "execution_count": 74,
   "metadata": {},
   "outputs": [],
   "source": [
    "latent_dim = 512  # размер сети"
   ]
  },
  {
   "cell_type": "code",
   "execution_count": 75,
   "metadata": {},
   "outputs": [],
   "source": [
    "encoder_inputs = Input(shape=(None, w2v_size))\n",
    "encoder = LSTM(latent_dim, return_state=True)\n",
    "encoder_outputs, state_h, state_c = encoder(encoder_inputs)\n",
    "encoder_states = [state_h, state_c]"
   ]
  },
  {
   "cell_type": "code",
   "execution_count": 76,
   "metadata": {},
   "outputs": [
    {
     "name": "stderr",
     "output_type": "stream",
     "text": [
      "Using TensorFlow backend.\n"
     ]
    }
   ],
   "source": [
    "from keras import backend as K\n",
    "def custom_activation(x):  return (K.tanh(x) * 5)\n",
    "\n",
    "# model.add(Dense(32 , activation=custom_activation))"
   ]
  },
  {
   "cell_type": "code",
   "execution_count": 78,
   "metadata": {},
   "outputs": [],
   "source": [
    "decoder_inputs = Input(shape=(None, w2v_size))\n",
    "decoder_lstm = LSTM(latent_dim, return_sequences=True, return_state=True)\n",
    "decoder_outputs, _, _ = decoder_lstm(decoder_inputs,initial_state=encoder_states)\n",
    "\n",
    "# decoder_dense = Dense(w2v_size)\n",
    "# decoder_dense = Dense(w2v_size, activation='softmax')\n",
    "# decoder_dense = Dense(w2v_size, activation='tanh')\n",
    "# decoder_dense = Dense(w2v_size, activation='sigmoid')\n",
    "decoder_dense = Dense(w2v_size, activation=custom_activation)\n",
    "\n",
    "decoder_outputs = decoder_dense(decoder_outputs)"
   ]
  },
  {
   "cell_type": "code",
   "execution_count": 79,
   "metadata": {},
   "outputs": [],
   "source": [
    "# Define the model that will turn\n",
    "# `encoder_input_data` & `decoder_input_data` into `decoder_target_data`\n",
    "model = Model([encoder_inputs, decoder_inputs], decoder_outputs)"
   ]
  },
  {
   "cell_type": "code",
   "execution_count": 80,
   "metadata": {},
   "outputs": [
    {
     "name": "stdout",
     "output_type": "stream",
     "text": [
      "__________________________________________________________________________________________________\n",
      "Layer (type)                    Output Shape         Param #     Connected to                     \n",
      "==================================================================================================\n",
      "input_13 (InputLayer)           (None, None, 256)    0                                            \n",
      "__________________________________________________________________________________________________\n",
      "input_15 (InputLayer)           (None, None, 256)    0                                            \n",
      "__________________________________________________________________________________________________\n",
      "lstm_4 (LSTM)                   [(None, 512), (None, 1574912     input_13[0][0]                   \n",
      "__________________________________________________________________________________________________\n",
      "lstm_6 (LSTM)                   [(None, None, 512),  1574912     input_15[0][0]                   \n",
      "                                                                 lstm_4[0][1]                     \n",
      "                                                                 lstm_4[0][2]                     \n",
      "__________________________________________________________________________________________________\n",
      "dense_3 (Dense)                 (None, None, 256)    131328      lstm_6[0][0]                     \n",
      "==================================================================================================\n",
      "Total params: 3,281,152\n",
      "Trainable params: 3,281,152\n",
      "Non-trainable params: 0\n",
      "__________________________________________________________________________________________________\n"
     ]
    }
   ],
   "source": [
    "model.summary()"
   ]
  },
  {
   "cell_type": "code",
   "execution_count": 81,
   "metadata": {},
   "outputs": [],
   "source": [
    "# model.compile(optimizer='rmsprop', loss='categorical_crossentropy')\n",
    "# model.compile(loss='mse', optimizer='rmsprop')\n",
    "model.compile(loss='mse', optimizer='adam')\n",
    "# model.compile(loss='mse', optimizer='sgd')\n"
   ]
  },
  {
   "cell_type": "code",
   "execution_count": 86,
   "metadata": {},
   "outputs": [
    {
     "name": "stdout",
     "output_type": "stream",
     "text": [
      "Train on 900 samples, validate on 100 samples\n",
      "Epoch 1/120\n",
      "900/900 [==============================] - 3s 3ms/sample - loss: 0.1363 - val_loss: 0.1590\n",
      "Epoch 2/120\n",
      "900/900 [==============================] - 3s 3ms/sample - loss: 0.1320 - val_loss: 0.1572\n",
      "Epoch 3/120\n",
      "900/900 [==============================] - 3s 3ms/sample - loss: 0.1268 - val_loss: 0.1579\n",
      "Epoch 4/120\n",
      "900/900 [==============================] - 3s 3ms/sample - loss: 0.1227 - val_loss: 0.1583\n",
      "Epoch 5/120\n",
      "900/900 [==============================] - 3s 3ms/sample - loss: 0.1194 - val_loss: 0.1574\n",
      "Epoch 6/120\n",
      "900/900 [==============================] - 3s 3ms/sample - loss: 0.1154 - val_loss: 0.1590\n",
      "Epoch 7/120\n",
      "900/900 [==============================] - 3s 3ms/sample - loss: 0.1110 - val_loss: 0.1590\n",
      "Epoch 8/120\n",
      "900/900 [==============================] - 3s 3ms/sample - loss: 0.1083 - val_loss: 0.1589\n",
      "Epoch 9/120\n",
      "900/900 [==============================] - 3s 3ms/sample - loss: 0.1051 - val_loss: 0.1634\n",
      "Epoch 10/120\n",
      "900/900 [==============================] - 3s 3ms/sample - loss: 0.1011 - val_loss: 0.1615\n",
      "Epoch 11/120\n",
      "900/900 [==============================] - 3s 3ms/sample - loss: 0.0969 - val_loss: 0.1634\n",
      "Epoch 12/120\n",
      "900/900 [==============================] - 3s 3ms/sample - loss: 0.0935 - val_loss: 0.1626\n",
      "Epoch 13/120\n",
      "900/900 [==============================] - 3s 3ms/sample - loss: 0.0900 - val_loss: 0.1690\n",
      "Epoch 14/120\n",
      "900/900 [==============================] - 3s 3ms/sample - loss: 0.0869 - val_loss: 0.1680\n",
      "Epoch 15/120\n",
      "900/900 [==============================] - 3s 3ms/sample - loss: 0.0832 - val_loss: 0.1709\n",
      "Epoch 16/120\n",
      "900/900 [==============================] - 3s 3ms/sample - loss: 0.0808 - val_loss: 0.1715\n",
      "Epoch 17/120\n",
      "900/900 [==============================] - 3s 3ms/sample - loss: 0.0779 - val_loss: 0.1741\n",
      "Epoch 18/120\n",
      "900/900 [==============================] - 3s 3ms/sample - loss: 0.0757 - val_loss: 0.1784\n",
      "Epoch 19/120\n",
      "900/900 [==============================] - 3s 3ms/sample - loss: 0.0733 - val_loss: 0.1780\n",
      "Epoch 20/120\n",
      "900/900 [==============================] - 3s 3ms/sample - loss: 0.0712 - val_loss: 0.1786\n",
      "Epoch 21/120\n",
      "900/900 [==============================] - 3s 3ms/sample - loss: 0.0689 - val_loss: 0.1782\n",
      "Epoch 22/120\n",
      "900/900 [==============================] - 3s 3ms/sample - loss: 0.0657 - val_loss: 0.1821\n",
      "Epoch 23/120\n",
      "900/900 [==============================] - 3s 3ms/sample - loss: 0.0629 - val_loss: 0.1893\n",
      "Epoch 24/120\n",
      "900/900 [==============================] - 3s 3ms/sample - loss: 0.0606 - val_loss: 0.1908\n",
      "Epoch 25/120\n",
      "900/900 [==============================] - 3s 3ms/sample - loss: 0.0589 - val_loss: 0.1945\n",
      "Epoch 26/120\n",
      "900/900 [==============================] - 3s 3ms/sample - loss: 0.0573 - val_loss: 0.1910\n",
      "Epoch 27/120\n",
      "900/900 [==============================] - 3s 3ms/sample - loss: 0.0558 - val_loss: 0.1929\n",
      "Epoch 28/120\n",
      "900/900 [==============================] - 3s 3ms/sample - loss: 0.0544 - val_loss: 0.1961\n",
      "Epoch 29/120\n",
      "900/900 [==============================] - 3s 3ms/sample - loss: 0.0528 - val_loss: 0.1954\n",
      "Epoch 30/120\n",
      "900/900 [==============================] - 3s 3ms/sample - loss: 0.0510 - val_loss: 0.1978\n",
      "Epoch 31/120\n",
      "900/900 [==============================] - 3s 3ms/sample - loss: 0.0494 - val_loss: 0.1948\n",
      "Epoch 32/120\n",
      "900/900 [==============================] - 3s 3ms/sample - loss: 0.0477 - val_loss: 0.1996\n",
      "Epoch 33/120\n",
      "900/900 [==============================] - 3s 3ms/sample - loss: 0.0463 - val_loss: 0.2023\n",
      "Epoch 34/120\n",
      "900/900 [==============================] - 3s 3ms/sample - loss: 0.0447 - val_loss: 0.2036\n",
      "Epoch 35/120\n",
      "900/900 [==============================] - 3s 3ms/sample - loss: 0.0434 - val_loss: 0.2036\n",
      "Epoch 36/120\n",
      "900/900 [==============================] - 3s 3ms/sample - loss: 0.0418 - val_loss: 0.2076\n",
      "Epoch 37/120\n",
      "900/900 [==============================] - 3s 3ms/sample - loss: 0.0411 - val_loss: 0.2024\n",
      "Epoch 38/120\n",
      "900/900 [==============================] - 3s 3ms/sample - loss: 0.0399 - val_loss: 0.2060\n",
      "Epoch 39/120\n",
      "900/900 [==============================] - 3s 3ms/sample - loss: 0.0386 - val_loss: 0.2104\n",
      "Epoch 40/120\n",
      "900/900 [==============================] - 3s 3ms/sample - loss: 0.0377 - val_loss: 0.2155\n",
      "Epoch 41/120\n",
      "900/900 [==============================] - 3s 3ms/sample - loss: 0.0367 - val_loss: 0.2040\n",
      "Epoch 42/120\n",
      "900/900 [==============================] - 3s 3ms/sample - loss: 0.0356 - val_loss: 0.2173\n",
      "Epoch 43/120\n",
      "900/900 [==============================] - 3s 3ms/sample - loss: 0.0345 - val_loss: 0.2105\n",
      "Epoch 44/120\n",
      "900/900 [==============================] - 3s 3ms/sample - loss: 0.0333 - val_loss: 0.2144\n",
      "Epoch 45/120\n",
      "900/900 [==============================] - 3s 3ms/sample - loss: 0.0324 - val_loss: 0.2102\n",
      "Epoch 46/120\n",
      "900/900 [==============================] - 3s 3ms/sample - loss: 0.0317 - val_loss: 0.2205\n",
      "Epoch 47/120\n",
      "900/900 [==============================] - 3s 3ms/sample - loss: 0.0313 - val_loss: 0.2128\n",
      "Epoch 48/120\n",
      "900/900 [==============================] - 3s 3ms/sample - loss: 0.0307 - val_loss: 0.2153\n",
      "Epoch 49/120\n",
      "900/900 [==============================] - 3s 3ms/sample - loss: 0.0304 - val_loss: 0.2146\n",
      "Epoch 50/120\n",
      "900/900 [==============================] - 3s 3ms/sample - loss: 0.0296 - val_loss: 0.2163\n",
      "Epoch 51/120\n",
      "900/900 [==============================] - 3s 3ms/sample - loss: 0.0289 - val_loss: 0.2173\n",
      "Epoch 52/120\n",
      "900/900 [==============================] - 3s 3ms/sample - loss: 0.0280 - val_loss: 0.2187\n",
      "Epoch 53/120\n",
      "900/900 [==============================] - 3s 3ms/sample - loss: 0.0271 - val_loss: 0.2202\n",
      "Epoch 54/120\n",
      "900/900 [==============================] - 3s 3ms/sample - loss: 0.0261 - val_loss: 0.2216\n",
      "Epoch 55/120\n",
      "900/900 [==============================] - 3s 3ms/sample - loss: 0.0253 - val_loss: 0.2239\n",
      "Epoch 56/120\n",
      "900/900 [==============================] - 3s 3ms/sample - loss: 0.0248 - val_loss: 0.2211\n",
      "Epoch 57/120\n",
      "900/900 [==============================] - 3s 3ms/sample - loss: 0.0241 - val_loss: 0.2261\n",
      "Epoch 58/120\n",
      "900/900 [==============================] - 3s 3ms/sample - loss: 0.0241 - val_loss: 0.2214\n",
      "Epoch 59/120\n",
      "900/900 [==============================] - 3s 3ms/sample - loss: 0.0237 - val_loss: 0.2219\n",
      "Epoch 60/120\n",
      "900/900 [==============================] - 3s 3ms/sample - loss: 0.0231 - val_loss: 0.2197\n",
      "Epoch 61/120\n",
      "900/900 [==============================] - 3s 3ms/sample - loss: 0.0224 - val_loss: 0.2303\n",
      "Epoch 62/120\n",
      "900/900 [==============================] - 3s 3ms/sample - loss: 0.0219 - val_loss: 0.2239\n",
      "Epoch 63/120\n",
      "900/900 [==============================] - 3s 3ms/sample - loss: 0.0215 - val_loss: 0.2248\n",
      "Epoch 64/120\n",
      "900/900 [==============================] - 3s 3ms/sample - loss: 0.0211 - val_loss: 0.2245\n",
      "Epoch 65/120\n",
      "900/900 [==============================] - 3s 3ms/sample - loss: 0.0208 - val_loss: 0.2303\n",
      "Epoch 66/120\n",
      "900/900 [==============================] - 3s 3ms/sample - loss: 0.0206 - val_loss: 0.2233\n",
      "Epoch 67/120\n",
      "900/900 [==============================] - 3s 3ms/sample - loss: 0.0199 - val_loss: 0.2233\n",
      "Epoch 68/120\n",
      "900/900 [==============================] - 3s 3ms/sample - loss: 0.0194 - val_loss: 0.2239\n",
      "Epoch 69/120\n",
      "900/900 [==============================] - 3s 3ms/sample - loss: 0.0193 - val_loss: 0.2273\n",
      "Epoch 70/120\n",
      "900/900 [==============================] - 3s 3ms/sample - loss: 0.0193 - val_loss: 0.2218\n",
      "Epoch 71/120\n",
      "900/900 [==============================] - 3s 3ms/sample - loss: 0.0186 - val_loss: 0.2260\n",
      "Epoch 72/120\n",
      "900/900 [==============================] - 3s 3ms/sample - loss: 0.0180 - val_loss: 0.2208\n",
      "Epoch 73/120\n",
      "900/900 [==============================] - 3s 3ms/sample - loss: 0.0171 - val_loss: 0.2242\n",
      "Epoch 74/120\n",
      "900/900 [==============================] - 3s 3ms/sample - loss: 0.0165 - val_loss: 0.2265\n",
      "Epoch 75/120\n",
      "900/900 [==============================] - 3s 3ms/sample - loss: 0.0162 - val_loss: 0.2289\n",
      "Epoch 76/120\n",
      "900/900 [==============================] - 3s 3ms/sample - loss: 0.0160 - val_loss: 0.2291\n",
      "Epoch 77/120\n",
      "900/900 [==============================] - 3s 3ms/sample - loss: 0.0159 - val_loss: 0.2279\n",
      "Epoch 78/120\n",
      "900/900 [==============================] - 3s 3ms/sample - loss: 0.0156 - val_loss: 0.2294\n",
      "Epoch 79/120\n"
     ]
    },
    {
     "name": "stdout",
     "output_type": "stream",
     "text": [
      "900/900 [==============================] - 3s 3ms/sample - loss: 0.0153 - val_loss: 0.2285\n",
      "Epoch 80/120\n",
      "900/900 [==============================] - 3s 3ms/sample - loss: 0.0151 - val_loss: 0.2290\n",
      "Epoch 81/120\n",
      "900/900 [==============================] - 3s 3ms/sample - loss: 0.0147 - val_loss: 0.2279\n",
      "Epoch 82/120\n",
      "900/900 [==============================] - 3s 3ms/sample - loss: 0.0147 - val_loss: 0.2287\n",
      "Epoch 83/120\n",
      "900/900 [==============================] - 3s 3ms/sample - loss: 0.0144 - val_loss: 0.2257\n",
      "Epoch 84/120\n",
      "900/900 [==============================] - 3s 3ms/sample - loss: 0.0139 - val_loss: 0.2280\n",
      "Epoch 85/120\n",
      "900/900 [==============================] - 3s 3ms/sample - loss: 0.0136 - val_loss: 0.2315\n",
      "Epoch 86/120\n",
      "900/900 [==============================] - 3s 3ms/sample - loss: 0.0133 - val_loss: 0.2307\n",
      "Epoch 87/120\n",
      "900/900 [==============================] - 3s 3ms/sample - loss: 0.0132 - val_loss: 0.2327\n",
      "Epoch 88/120\n",
      "900/900 [==============================] - 3s 4ms/sample - loss: 0.0131 - val_loss: 0.2339\n",
      "Epoch 89/120\n",
      "900/900 [==============================] - 3s 3ms/sample - loss: 0.0130 - val_loss: 0.2300\n",
      "Epoch 90/120\n",
      "900/900 [==============================] - 3s 3ms/sample - loss: 0.0129 - val_loss: 0.2276\n",
      "Epoch 91/120\n",
      "900/900 [==============================] - 3s 4ms/sample - loss: 0.0128 - val_loss: 0.2259\n",
      "Epoch 92/120\n",
      "900/900 [==============================] - 3s 4ms/sample - loss: 0.0127 - val_loss: 0.2290\n",
      "Epoch 93/120\n",
      "900/900 [==============================] - 3s 3ms/sample - loss: 0.0125 - val_loss: 0.2241\n",
      "Epoch 94/120\n",
      "900/900 [==============================] - 3s 3ms/sample - loss: 0.0121 - val_loss: 0.2267\n",
      "Epoch 95/120\n",
      "900/900 [==============================] - 3s 4ms/sample - loss: 0.0117 - val_loss: 0.2252\n",
      "Epoch 96/120\n",
      "900/900 [==============================] - 3s 3ms/sample - loss: 0.0115 - val_loss: 0.2262\n",
      "Epoch 97/120\n",
      "900/900 [==============================] - 3s 3ms/sample - loss: 0.0111 - val_loss: 0.2244\n",
      "Epoch 98/120\n",
      "900/900 [==============================] - 3s 3ms/sample - loss: 0.0110 - val_loss: 0.2266\n",
      "Epoch 99/120\n",
      "900/900 [==============================] - 3s 3ms/sample - loss: 0.0109 - val_loss: 0.2237\n",
      "Epoch 100/120\n",
      "900/900 [==============================] - 3s 3ms/sample - loss: 0.0109 - val_loss: 0.2289\n",
      "Epoch 101/120\n",
      "900/900 [==============================] - 3s 4ms/sample - loss: 0.0109 - val_loss: 0.2246\n",
      "Epoch 102/120\n",
      "900/900 [==============================] - 3s 3ms/sample - loss: 0.0108 - val_loss: 0.2280\n",
      "Epoch 103/120\n",
      "900/900 [==============================] - 3s 3ms/sample - loss: 0.0107 - val_loss: 0.2301\n",
      "Epoch 104/120\n",
      "900/900 [==============================] - 3s 3ms/sample - loss: 0.0104 - val_loss: 0.2272\n",
      "Epoch 105/120\n",
      "900/900 [==============================] - 3s 3ms/sample - loss: 0.0100 - val_loss: 0.2247\n",
      "Epoch 106/120\n",
      "900/900 [==============================] - 3s 3ms/sample - loss: 0.0098 - val_loss: 0.2264\n",
      "Epoch 107/120\n",
      "900/900 [==============================] - 3s 4ms/sample - loss: 0.0098 - val_loss: 0.2236\n",
      "Epoch 108/120\n",
      "900/900 [==============================] - 3s 3ms/sample - loss: 0.0096 - val_loss: 0.2262\n",
      "Epoch 109/120\n",
      "900/900 [==============================] - 3s 3ms/sample - loss: 0.0094 - val_loss: 0.2259\n",
      "Epoch 110/120\n",
      "900/900 [==============================] - 3s 3ms/sample - loss: 0.0091 - val_loss: 0.2302\n",
      "Epoch 111/120\n",
      "900/900 [==============================] - 3s 3ms/sample - loss: 0.0089 - val_loss: 0.2259\n",
      "Epoch 112/120\n",
      "900/900 [==============================] - 3s 4ms/sample - loss: 0.0088 - val_loss: 0.2262\n",
      "Epoch 113/120\n",
      "900/900 [==============================] - 3s 3ms/sample - loss: 0.0087 - val_loss: 0.2236\n",
      "Epoch 114/120\n",
      "900/900 [==============================] - 3s 3ms/sample - loss: 0.0085 - val_loss: 0.2279\n",
      "Epoch 115/120\n",
      "900/900 [==============================] - 3s 3ms/sample - loss: 0.0083 - val_loss: 0.2265\n",
      "Epoch 116/120\n",
      "900/900 [==============================] - 3s 3ms/sample - loss: 0.0081 - val_loss: 0.2301\n",
      "Epoch 117/120\n",
      "900/900 [==============================] - 3s 3ms/sample - loss: 0.0081 - val_loss: 0.2300\n",
      "Epoch 118/120\n",
      "900/900 [==============================] - 3s 3ms/sample - loss: 0.0080 - val_loss: 0.2286\n",
      "Epoch 119/120\n",
      "900/900 [==============================] - 3s 3ms/sample - loss: 0.0080 - val_loss: 0.2252\n",
      "Epoch 120/120\n",
      "900/900 [==============================] - 3s 3ms/sample - loss: 0.0079 - val_loss: 0.2305\n",
      "CPU times: user 3min 4s, sys: 1min 32s, total: 4min 37s\n",
      "Wall time: 6min 7s\n"
     ]
    }
   ],
   "source": [
    "%%time \n",
    "\n",
    "history = model.fit([encoder_input_data, decoder_input_data], decoder_target_data,\n",
    "          batch_size=100,\n",
    "          epochs=200,\n",
    "          validation_split=0.1\n",
    "        )"
   ]
  },
  {
   "cell_type": "markdown",
   "metadata": {},
   "source": [
    "## Проверяем результат"
   ]
  },
  {
   "cell_type": "code",
   "execution_count": 87,
   "metadata": {},
   "outputs": [],
   "source": [
    "encoder_model = Model(encoder_inputs, encoder_states)\n",
    "\n",
    "decoder_state_input_h = Input(shape=(latent_dim,))\n",
    "decoder_state_input_c = Input(shape=(latent_dim,))\n",
    "decoder_states_inputs = [decoder_state_input_h, decoder_state_input_c]\n",
    "decoder_outputs, state_h, state_c = decoder_lstm(decoder_inputs, initial_state=decoder_states_inputs)\n",
    "decoder_states = [state_h, state_c]\n",
    "decoder_outputs = decoder_dense(decoder_outputs)\n",
    "decoder_model = Model( [decoder_inputs] + decoder_states_inputs, [decoder_outputs] + decoder_states)"
   ]
  },
  {
   "cell_type": "code",
   "execution_count": 88,
   "metadata": {},
   "outputs": [],
   "source": [
    "def decode_sequence(input_seq):\n",
    "    # генерируем состояние энкодера\n",
    "    states_value = encoder_model.predict(input_seq)\n",
    "\n",
    "    # вход декодера - последовательность из одного слова GO\n",
    "    output_w2v = w2v_a.wv['<GO>'].reshape([1,1,w2v_size])\n",
    "\n",
    "    # выходная последовательность\n",
    "    decoded_sentence = []\n",
    "    \n",
    "    for i in range(sent_len_max): \n",
    "        output_w2v, h, c = decoder_model.predict([output_w2v] + states_value)\n",
    "\n",
    "        # декодируем cлово\n",
    "        cc = output_w2v.reshape(w2v_size)\n",
    "        # cc = cc*a_fact\n",
    "        w = w2v_a.wv.similar_by_vector(cc)[0][0] \n",
    "        \n",
    "        # если очередное слово это EOS\n",
    "        if(w=='<EOS>'): break # то завершаем работу\n",
    "\n",
    "        decoded_sentence.append(w)\n",
    "\n",
    "        # обновляем состояние сети\n",
    "        states_value = [h, c]\n",
    "\n",
    "    return ' '.join(decoded_sentence)"
   ]
  },
  {
   "cell_type": "code",
   "execution_count": 90,
   "metadata": {},
   "outputs": [
    {
     "name": "stdout",
     "output_type": "stream",
     "text": [
      "Do you want to look at it?  ->  хочешь на неё посмотреть ?\n",
      "What're you doing in my room?  ->  что вы делаете у меня в комнате ?\n",
      "Maybe I can help you.  ->  возможно , я смогу тебе помочь .\n",
      "I have plenty of friends.  ->  у меня полно друзей .\n",
      "Tom doesn't know how to enjoy life.  ->  том не умеет ездить тихо .\n",
      "You told me not to tell anybody.  ->  ты мне сказал никому не говорить .\n",
      "Tom came with a gift.  ->  том пришёл с рукавом .\n",
      "I can deal with it.  ->  я могу с этим случиться .\n",
      "At least they listened to me.  ->  по застигнут любому , они меня репортажа .\n",
      "I'd forgotten that you'd forgotten.  ->  я забыл , что ты забыл .\n"
     ]
    }
   ],
   "source": [
    "ii = np.random.permutation(len(encoder_input_data))[:10]\n",
    "for seq_index in ii:\n",
    "    input_seq = encoder_input_data[seq_index: seq_index + 1]\n",
    "    decoded_sentence = decode_sequence(input_seq)\n",
    "#    print( input_texts[seq_index],' -> ', decoded_sentence)\n",
    "    print( pair.iloc[seq_index]['Q'],' -> ', decoded_sentence )"
   ]
  },
  {
   "cell_type": "markdown",
   "metadata": {},
   "source": [
    "----"
   ]
  },
  {
   "cell_type": "code",
   "execution_count": 94,
   "metadata": {},
   "outputs": [],
   "source": [
    "# import matplotlib.pyplot as plt"
   ]
  },
  {
   "cell_type": "code",
   "execution_count": 95,
   "metadata": {},
   "outputs": [],
   "source": [
    "# history_dict = history.history\n",
    "# history_dict.keys()"
   ]
  },
  {
   "cell_type": "code",
   "execution_count": 96,
   "metadata": {},
   "outputs": [],
   "source": [
    "# # acc = history.history['acc']\n",
    "# #val_acc = history.history['val_acc']\n",
    "# loss = history.history['loss']\n",
    "# val_loss = history.history['val_loss']\n",
    "\n",
    "# epochs = range(1, len(loss) + 1)\n",
    "# plt.plot(epochs, loss, 'b', label='Training loss')\n",
    "# plt.plot(epochs, val_loss, 'r', label='Validation loss')\n",
    "# plt.title('Training and validation loss')\n",
    "# plt.xlabel('Epochs')\n",
    "# plt.ylabel('Loss')\n",
    "# plt.legend()\n",
    "\n",
    "# plt.show()"
   ]
  },
  {
   "cell_type": "code",
   "execution_count": null,
   "metadata": {},
   "outputs": [],
   "source": [
    "# plt.clf()   # clear figure\n",
    "# acc_values = history_dict['acc']\n",
    "# val_acc_values = history_dict['val_acc']\n",
    "\n",
    "# plt.plot(epochs, acc, 'b', label='Training acc')\n",
    "# plt.plot(epochs, val_acc, 'r', label='Validation acc')\n",
    "# plt.title('Training and validation accuracy')\n",
    "# plt.xlabel('Epochs')\n",
    "# plt.ylabel('Accuracy')\n",
    "# plt.legend()\n",
    "\n",
    "# plt.show()"
   ]
  },
  {
   "cell_type": "code",
   "execution_count": null,
   "metadata": {},
   "outputs": [],
   "source": []
  },
  {
   "cell_type": "markdown",
   "metadata": {},
   "source": [
    "---"
   ]
  },
  {
   "cell_type": "code",
   "execution_count": 69,
   "metadata": {},
   "outputs": [],
   "source": [
    "# q_min = encoder_input_data.min()\n",
    "# q_max = encoder_input_data.max()\n",
    "# encoder_input_data = (encoder_input_data-q_min)/(q_max-q_min)\n",
    "\n",
    "# q_fact = np.max( [np.abs(encoder_input_data.max()), np.abs(encoder_input_data.min())] )\n",
    "# encoder_input_data = encoder_input_data/q_fact"
   ]
  },
  {
   "cell_type": "code",
   "execution_count": 70,
   "metadata": {},
   "outputs": [],
   "source": [
    "# encoder_input_data.min(),encoder_input_data.max()"
   ]
  },
  {
   "cell_type": "code",
   "execution_count": 71,
   "metadata": {},
   "outputs": [],
   "source": [
    "# a_min = decoder_input_data.min()\n",
    "# a_max = decoder_input_data.max()\n",
    "# decoder_input_data  = (decoder_input_data-a_min)/(a_max-a_min)\n",
    "# decoder_target_data = (decoder_target_data-a_min)/(a_max-a_min)\n",
    "\n",
    "# a_fact = np.max( [np.abs(decoder_input_data.max()), np.abs(decoder_input_data.min())] )\n",
    "# decoder_input_data  = decoder_input_data/a_fact\n",
    "# decoder_target_data = decoder_target_data/a_fact"
   ]
  },
  {
   "cell_type": "code",
   "execution_count": 72,
   "metadata": {},
   "outputs": [],
   "source": [
    "# decoder_target_data.min(),decoder_target_data.max()"
   ]
  }
 ],
 "metadata": {
  "kernelspec": {
   "display_name": "Python 3",
   "language": "python",
   "name": "python3"
  },
  "language_info": {
   "codemirror_mode": {
    "name": "ipython",
    "version": 3
   },
   "file_extension": ".py",
   "mimetype": "text/x-python",
   "name": "python",
   "nbconvert_exporter": "python",
   "pygments_lexer": "ipython3",
   "version": "3.7.3"
  },
  "toc": {
   "base_numbering": 1,
   "nav_menu": {},
   "number_sections": true,
   "sideBar": true,
   "skip_h1_title": false,
   "title_cell": "Table of Contents",
   "title_sidebar": "Contents",
   "toc_cell": false,
   "toc_position": {},
   "toc_section_display": true,
   "toc_window_display": true
  }
 },
 "nbformat": 4,
 "nbformat_minor": 2
}
