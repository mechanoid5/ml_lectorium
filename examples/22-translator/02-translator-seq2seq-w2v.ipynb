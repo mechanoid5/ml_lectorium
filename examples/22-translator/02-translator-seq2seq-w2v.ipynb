{
 "cells": [
  {
   "cell_type": "markdown",
   "metadata": {},
   "source": [
    "**чатбот на рекуррентных нейросетях (Keras+TensorFlow)**\n",
    "\n",
    "Евгений Борисов <borisov.e@solarl.ru>"
   ]
  },
  {
   "cell_type": "markdown",
   "metadata": {},
   "source": [
    "\n",
    "----"
   ]
  },
  {
   "cell_type": "markdown",
   "metadata": {},
   "source": [
    "## Библиотеки"
   ]
  },
  {
   "cell_type": "code",
   "execution_count": 1,
   "metadata": {},
   "outputs": [],
   "source": [
    "import numpy as np\n",
    "import re\n",
    "\n",
    "import pandas as pd\n",
    "pd.options.display.max_colwidth = 200  \n"
   ]
  },
  {
   "cell_type": "code",
   "execution_count": 2,
   "metadata": {},
   "outputs": [],
   "source": [
    "def pp(d): return \"{:,.0f}\".format(d).replace(\",\", \" \")\n",
    "def ppr(d): print('записей:', pp(len(d)) )  "
   ]
  },
  {
   "cell_type": "markdown",
   "metadata": {},
   "source": [
    "## Учебные данные"
   ]
  },
  {
   "cell_type": "code",
   "execution_count": 3,
   "metadata": {},
   "outputs": [],
   "source": [
    "# with open('../data/text/rus-eng/rus.txt','rt',encoding='utf8') as f: \n",
    "#     pair = pd.DataFrame([ p.split('\\t') for p in f.read().split('\\n') if p.strip() ])"
   ]
  },
  {
   "cell_type": "code",
   "execution_count": 4,
   "metadata": {},
   "outputs": [],
   "source": [
    "with open('../data/text/pairs.txt','rt',encoding='utf8') as f: \n",
    "    pair = pd.DataFrame([ p.split('%%') for p in f.read().split('\\n') if p.strip() ])"
   ]
  },
  {
   "cell_type": "code",
   "execution_count": 5,
   "metadata": {},
   "outputs": [],
   "source": [
    "pair.columns=['Q','A']\n",
    "pair['Q'] = pair['Q'].str.strip()\n",
    "pair['A'] = pair['A'].str.strip()"
   ]
  },
  {
   "cell_type": "code",
   "execution_count": 6,
   "metadata": {},
   "outputs": [
    {
     "name": "stdout",
     "output_type": "stream",
     "text": [
      "записей: 1 509\n"
     ]
    },
    {
     "data": {
      "text/html": [
       "<div>\n",
       "<style scoped>\n",
       "    .dataframe tbody tr th:only-of-type {\n",
       "        vertical-align: middle;\n",
       "    }\n",
       "\n",
       "    .dataframe tbody tr th {\n",
       "        vertical-align: top;\n",
       "    }\n",
       "\n",
       "    .dataframe thead th {\n",
       "        text-align: right;\n",
       "    }\n",
       "</style>\n",
       "<table border=\"1\" class=\"dataframe\">\n",
       "  <thead>\n",
       "    <tr style=\"text-align: right;\">\n",
       "      <th></th>\n",
       "      <th>Q</th>\n",
       "      <th>A</th>\n",
       "    </tr>\n",
       "  </thead>\n",
       "  <tbody>\n",
       "    <tr>\n",
       "      <th>1073</th>\n",
       "      <td>Что с вами?</td>\n",
       "      <td>Не смотрите на меня.</td>\n",
       "    </tr>\n",
       "    <tr>\n",
       "      <th>1320</th>\n",
       "      <td>чувство свободы должно быть связано с сознанием ответственности.</td>\n",
       "      <td>Извини, но ты бываешь иногда немножко нудным.</td>\n",
       "    </tr>\n",
       "    <tr>\n",
       "      <th>1124</th>\n",
       "      <td>Ага, значит, вы все-таки получили удовольствие.</td>\n",
       "      <td>Разумеется. Я устроена, как все.</td>\n",
       "    </tr>\n",
       "    <tr>\n",
       "      <th>92</th>\n",
       "      <td>Мне показалось, что он немножко охладел к тебе. Он, конечно, обиделся.</td>\n",
       "      <td>милая, тебе не следовало из-за такого пустяка портить с ним отношения.</td>\n",
       "    </tr>\n",
       "    <tr>\n",
       "      <th>597</th>\n",
       "      <td>Очевидно, вы плохо знаете своих знакомых. Прощайте.</td>\n",
       "      <td>Прощайте. Вы еще тут? А я боялся, что вы ушли.</td>\n",
       "    </tr>\n",
       "    <tr>\n",
       "      <th>1369</th>\n",
       "      <td>А твой адвокат поступает по-мужски?</td>\n",
       "      <td>Отнесись к этому проще. Это ведь ничто, просто легкое увлечение.</td>\n",
       "    </tr>\n",
       "    <tr>\n",
       "      <th>1258</th>\n",
       "      <td>В самый раз. Интересно, кто еще будет среди \"звезд\"?..</td>\n",
       "      <td>Пей, остынет.</td>\n",
       "    </tr>\n",
       "    <tr>\n",
       "      <th>679</th>\n",
       "      <td>Потому что это было нужно.</td>\n",
       "      <td>Да, я вел себя ужасно. Скажи, почему ты ко мне подошла? Только честно.</td>\n",
       "    </tr>\n",
       "    <tr>\n",
       "      <th>614</th>\n",
       "      <td>Что тогда?</td>\n",
       "      <td>Ничего.</td>\n",
       "    </tr>\n",
       "  </tbody>\n",
       "</table>\n",
       "</div>"
      ],
      "text/plain": [
       "                                                                           Q  \\\n",
       "1073                                                             Что с вами?   \n",
       "1320        чувство свободы должно быть связано с сознанием ответственности.   \n",
       "1124                         Ага, значит, вы все-таки получили удовольствие.   \n",
       "92    Мне показалось, что он немножко охладел к тебе. Он, конечно, обиделся.   \n",
       "597                      Очевидно, вы плохо знаете своих знакомых. Прощайте.   \n",
       "1369                                     А твой адвокат поступает по-мужски?   \n",
       "1258                  В самый раз. Интересно, кто еще будет среди \"звезд\"?..   \n",
       "679                                               Потому что это было нужно.   \n",
       "614                                                               Что тогда?   \n",
       "\n",
       "                                                                           A  \n",
       "1073                                                    Не смотрите на меня.  \n",
       "1320                           Извини, но ты бываешь иногда немножко нудным.  \n",
       "1124                                        Разумеется. Я устроена, как все.  \n",
       "92    милая, тебе не следовало из-за такого пустяка портить с ним отношения.  \n",
       "597                           Прощайте. Вы еще тут? А я боялся, что вы ушли.  \n",
       "1369        Отнесись к этому проще. Это ведь ничто, просто легкое увлечение.  \n",
       "1258                                                           Пей, остынет.  \n",
       "679   Да, я вел себя ужасно. Скажи, почему ты ко мне подошла? Только честно.  \n",
       "614                                                                  Ничего.  "
      ]
     },
     "execution_count": 6,
     "metadata": {},
     "output_type": "execute_result"
    }
   ],
   "source": [
    "ppr(pair)\n",
    "pair.sample(9)"
   ]
  },
  {
   "cell_type": "markdown",
   "metadata": {},
   "source": [
    "## Чистим тексты"
   ]
  },
  {
   "cell_type": "code",
   "execution_count": 7,
   "metadata": {},
   "outputs": [],
   "source": [
    "pair['Q_clean'] = pair['Q'].str.lower()\n",
    "pair['Q_clean'] = pair['Q_clean'].str.replace(r'([,.?!])', r' \\1 ')\n",
    "\n",
    "# pair['Q_clean'] = pair['Q_clean'].apply(lambda s: re.sub( r'\\([,.?!]\\)', ' \\1 ', s))\n",
    "#pair['Q_clean'] = pair['Q_clean'].apply(lambda s: re.sub( r'\\W', ' ', s))\n",
    "#pair['Q_clean'] = pair['Q_clean'].apply(lambda s: re.sub( r'\\b\\d+\\b', ' digit ', s)) \n",
    "\n",
    "pair['A_clean'] = pair['A'].str.lower()\n",
    "pair['A_clean'] = pair['A_clean'].str.replace(r'([,.?!])', r' \\1 ')\n",
    "\n",
    "# pair['A_clean'] = pair['A_clean'].apply(lambda s: re.sub( r'(\\W)', ' \\1 ', s))\n",
    "# pair['A_clean'] = pair['A_clean'].apply(lambda s: re.sub( r'\\W', ' ', s))\n",
    "# pair['A_clean'] = pair['A_clean'].apply(lambda s: re.sub( r'\\b\\d+\\b', ' digit ', s)) "
   ]
  },
  {
   "cell_type": "code",
   "execution_count": 46,
   "metadata": {},
   "outputs": [
    {
     "data": {
      "text/plain": [
       "(128,)"
      ]
     },
     "execution_count": 46,
     "metadata": {},
     "output_type": "execute_result"
    }
   ],
   "source": [
    "w2v_size = 128\n",
    "\n",
    "# PAD = np.zeros(w2v_size)\n",
    "# GO = np.ones(w2v_size)\n",
    "# EOS = np.ones(w2v_size)*-1\n",
    "\n"
   ]
  },
  {
   "cell_type": "code",
   "execution_count": 8,
   "metadata": {},
   "outputs": [],
   "source": [
    "# добавляем \"служебные\" слова - начало и конец последовательности\n",
    "pair['Q_clean'] = pair['Q_clean'].str.split() + ['<START>']\n",
    "pair['A_clean'] = ['<GO>'] + pair['A_clean'].str.split() + ['<EOS>']"
   ]
  },
  {
   "cell_type": "code",
   "execution_count": 9,
   "metadata": {},
   "outputs": [
    {
     "data": {
      "text/html": [
       "<div>\n",
       "<style scoped>\n",
       "    .dataframe tbody tr th:only-of-type {\n",
       "        vertical-align: middle;\n",
       "    }\n",
       "\n",
       "    .dataframe tbody tr th {\n",
       "        vertical-align: top;\n",
       "    }\n",
       "\n",
       "    .dataframe thead th {\n",
       "        text-align: right;\n",
       "    }\n",
       "</style>\n",
       "<table border=\"1\" class=\"dataframe\">\n",
       "  <thead>\n",
       "    <tr style=\"text-align: right;\">\n",
       "      <th></th>\n",
       "      <th>Q_clean</th>\n",
       "      <th>A_clean</th>\n",
       "    </tr>\n",
       "  </thead>\n",
       "  <tbody>\n",
       "    <tr>\n",
       "      <th>155</th>\n",
       "      <td>[а, твой, кем, работает, ?, &lt;START&gt;]</td>\n",
       "      <td>[&lt;GO&gt;, тоже, шофером, ., &lt;EOS&gt;]</td>\n",
       "    </tr>\n",
       "    <tr>\n",
       "      <th>321</th>\n",
       "      <td>[а, теперь, примерю, платье, ., ну, как, ?, &lt;START&gt;]</td>\n",
       "      <td>[&lt;GO&gt;, чудесно, ., &lt;EOS&gt;]</td>\n",
       "    </tr>\n",
       "    <tr>\n",
       "      <th>199</th>\n",
       "      <td>[ну, и, живи, себе, ., только, почему, с, моим, ?, или, тебе, муж, обязательно, с, готовым, инфарктом, нужен, ?, &lt;START&gt;]</td>\n",
       "      <td>[&lt;GO&gt;, лучше, с, инфарктом, ,, чем, ни, с, кем, ., &lt;EOS&gt;]</td>\n",
       "    </tr>\n",
       "    <tr>\n",
       "      <th>1291</th>\n",
       "      <td>[что, хорошо, ?, &lt;START&gt;]</td>\n",
       "      <td>[&lt;GO&gt;, то, ,, что, ты, сказал, ., ты, всегда, говоришь, правильно, и, разумно, ., я, недаром, тобой, горжусь, ., &lt;EOS&gt;]</td>\n",
       "    </tr>\n",
       "    <tr>\n",
       "      <th>1305</th>\n",
       "      <td>[можешь, передать, на, словах, что, нужно, ., &lt;START&gt;]</td>\n",
       "      <td>[&lt;GO&gt;, хорошо, ,, только, постарайся, все, запомнить, ., &lt;EOS&gt;]</td>\n",
       "    </tr>\n",
       "    <tr>\n",
       "      <th>1219</th>\n",
       "      <td>[будешь, шить, для, себя, ., &lt;START&gt;]</td>\n",
       "      <td>[&lt;GO&gt;, для, нас, ., &lt;EOS&gt;]</td>\n",
       "    </tr>\n",
       "    <tr>\n",
       "      <th>1323</th>\n",
       "      <td>[разговор, будет, долгий, ?, &lt;START&gt;]</td>\n",
       "      <td>[&lt;GO&gt;, не, знаю, ., думаю, ,, не, очень, ., &lt;EOS&gt;]</td>\n",
       "    </tr>\n",
       "    <tr>\n",
       "      <th>876</th>\n",
       "      <td>[теперь, тебе, нужно, есть, больше, фруктов, ., &lt;START&gt;]</td>\n",
       "      <td>[&lt;GO&gt;, почему, ?, &lt;EOS&gt;]</td>\n",
       "    </tr>\n",
       "    <tr>\n",
       "      <th>312</th>\n",
       "      <td>[тебе, не, нравится, новая, тахта, ?, &lt;START&gt;]</td>\n",
       "      <td>[&lt;GO&gt;, нет, ,, почему, же, ., отличная, тахта, &lt;EOS&gt;]</td>\n",
       "    </tr>\n",
       "  </tbody>\n",
       "</table>\n",
       "</div>"
      ],
      "text/plain": [
       "                                                                                                                        Q_clean  \\\n",
       "155                                                                                        [а, твой, кем, работает, ?, <START>]   \n",
       "321                                                                        [а, теперь, примерю, платье, ., ну, как, ?, <START>]   \n",
       "199   [ну, и, живи, себе, ., только, почему, с, моим, ?, или, тебе, муж, обязательно, с, готовым, инфарктом, нужен, ?, <START>]   \n",
       "1291                                                                                                  [что, хорошо, ?, <START>]   \n",
       "1305                                                                     [можешь, передать, на, словах, что, нужно, ., <START>]   \n",
       "1219                                                                                      [будешь, шить, для, себя, ., <START>]   \n",
       "1323                                                                                      [разговор, будет, долгий, ?, <START>]   \n",
       "876                                                                    [теперь, тебе, нужно, есть, больше, фруктов, ., <START>]   \n",
       "312                                                                              [тебе, не, нравится, новая, тахта, ?, <START>]   \n",
       "\n",
       "                                                                                                                      A_clean  \n",
       "155                                                                                           [<GO>, тоже, шофером, ., <EOS>]  \n",
       "321                                                                                                 [<GO>, чудесно, ., <EOS>]  \n",
       "199                                                                 [<GO>, лучше, с, инфарктом, ,, чем, ни, с, кем, ., <EOS>]  \n",
       "1291  [<GO>, то, ,, что, ты, сказал, ., ты, всегда, говоришь, правильно, и, разумно, ., я, недаром, тобой, горжусь, ., <EOS>]  \n",
       "1305                                                          [<GO>, хорошо, ,, только, постарайся, все, запомнить, ., <EOS>]  \n",
       "1219                                                                                               [<GO>, для, нас, ., <EOS>]  \n",
       "1323                                                                       [<GO>, не, знаю, ., думаю, ,, не, очень, ., <EOS>]  \n",
       "876                                                                                                  [<GO>, почему, ?, <EOS>]  \n",
       "312                                                                     [<GO>, нет, ,, почему, же, ., отличная, тахта, <EOS>]  "
      ]
     },
     "execution_count": 9,
     "metadata": {},
     "output_type": "execute_result"
    }
   ],
   "source": [
    "pair[['Q_clean','A_clean']].sample(9)"
   ]
  },
  {
   "cell_type": "markdown",
   "metadata": {},
   "source": [
    "---"
   ]
  },
  {
   "cell_type": "code",
   "execution_count": 10,
   "metadata": {},
   "outputs": [
    {
     "data": {
      "text/html": [
       "<div>\n",
       "<style scoped>\n",
       "    .dataframe tbody tr th:only-of-type {\n",
       "        vertical-align: middle;\n",
       "    }\n",
       "\n",
       "    .dataframe tbody tr th {\n",
       "        vertical-align: top;\n",
       "    }\n",
       "\n",
       "    .dataframe thead th {\n",
       "        text-align: right;\n",
       "    }\n",
       "</style>\n",
       "<table border=\"1\" class=\"dataframe\">\n",
       "  <thead>\n",
       "    <tr style=\"text-align: right;\">\n",
       "      <th></th>\n",
       "      <th>lenQ</th>\n",
       "      <th>lenA</th>\n",
       "    </tr>\n",
       "  </thead>\n",
       "  <tbody>\n",
       "    <tr>\n",
       "      <th>count</th>\n",
       "      <td>1509.000000</td>\n",
       "      <td>1509.000000</td>\n",
       "    </tr>\n",
       "    <tr>\n",
       "      <th>mean</th>\n",
       "      <td>9.021869</td>\n",
       "      <td>9.194168</td>\n",
       "    </tr>\n",
       "    <tr>\n",
       "      <th>std</th>\n",
       "      <td>4.191715</td>\n",
       "      <td>4.376973</td>\n",
       "    </tr>\n",
       "    <tr>\n",
       "      <th>min</th>\n",
       "      <td>3.000000</td>\n",
       "      <td>3.000000</td>\n",
       "    </tr>\n",
       "    <tr>\n",
       "      <th>25%</th>\n",
       "      <td>6.000000</td>\n",
       "      <td>6.000000</td>\n",
       "    </tr>\n",
       "    <tr>\n",
       "      <th>50%</th>\n",
       "      <td>8.000000</td>\n",
       "      <td>8.000000</td>\n",
       "    </tr>\n",
       "    <tr>\n",
       "      <th>75%</th>\n",
       "      <td>11.000000</td>\n",
       "      <td>12.000000</td>\n",
       "    </tr>\n",
       "    <tr>\n",
       "      <th>max</th>\n",
       "      <td>27.000000</td>\n",
       "      <td>27.000000</td>\n",
       "    </tr>\n",
       "  </tbody>\n",
       "</table>\n",
       "</div>"
      ],
      "text/plain": [
       "              lenQ         lenA\n",
       "count  1509.000000  1509.000000\n",
       "mean      9.021869     9.194168\n",
       "std       4.191715     4.376973\n",
       "min       3.000000     3.000000\n",
       "25%       6.000000     6.000000\n",
       "50%       8.000000     8.000000\n",
       "75%      11.000000    12.000000\n",
       "max      27.000000    27.000000"
      ]
     },
     "execution_count": 10,
     "metadata": {},
     "output_type": "execute_result"
    }
   ],
   "source": [
    "# считаем количество слов\n",
    "pair['lenQ'] = pair['Q_clean'].str.len()\n",
    "pair['lenA'] = pair['A_clean'].str.len()\n",
    "pair.describe()"
   ]
  },
  {
   "cell_type": "code",
   "execution_count": 11,
   "metadata": {},
   "outputs": [
    {
     "data": {
      "text/plain": [
       "(18.0, 18.0)"
      ]
     },
     "execution_count": 11,
     "metadata": {},
     "output_type": "execute_result"
    }
   ],
   "source": [
    "# определяем максимальную длинну последовательности\n",
    "pair['lenQ'].quantile(0.95),  pair['lenA'].quantile(0.95)"
   ]
  },
  {
   "cell_type": "code",
   "execution_count": 12,
   "metadata": {},
   "outputs": [],
   "source": [
    "# # выбираем последовательности средней длинны\n",
    "# # sent_len_min, sent_len_max = 7,10\n",
    "# sent_len_min, sent_len_max = 5,12\n",
    "\n",
    "# ppr(pair)\n",
    "# pair = pair[\n",
    "#     pair['lenQ'].between(sent_len_min,sent_len_max) \n",
    "#     & pair['lenA'].between(sent_len_min,sent_len_max) \n",
    "#   ]\n",
    "# ppr(pair)\n",
    "\n",
    "sent_len_a_max = pair['lenA'].max()\n",
    "sent_len_q_max = pair['lenQ'].max()"
   ]
  },
  {
   "cell_type": "code",
   "execution_count": 13,
   "metadata": {},
   "outputs": [],
   "source": [
    "# выстраиваем входные последовательности в обратном порядке\n",
    "# и выравниваем длинну последовательностей,\n",
    "# дополняем короткие словом \"служебным\" словом,\n",
    "pad = ['<PAD>']*sent_len_q_max\n",
    "# pair['Q_clean'] = pair['Q_clean'].apply( lambda t: pad[len(t):] + list(reversed(t)) )\n",
    "pair['Q_clean'] = pair['Q_clean'].apply( lambda t: t + pad[len(t):] )\n",
    "\n",
    "pad = ['<PAD>']*sent_len_a_max\n",
    "pair['A_clean'] = pair['A_clean'].apply( lambda t: t + pad[len(t):] )"
   ]
  },
  {
   "cell_type": "code",
   "execution_count": 14,
   "metadata": {},
   "outputs": [
    {
     "data": {
      "text/html": [
       "<div>\n",
       "<style scoped>\n",
       "    .dataframe tbody tr th:only-of-type {\n",
       "        vertical-align: middle;\n",
       "    }\n",
       "\n",
       "    .dataframe tbody tr th {\n",
       "        vertical-align: top;\n",
       "    }\n",
       "\n",
       "    .dataframe thead th {\n",
       "        text-align: right;\n",
       "    }\n",
       "</style>\n",
       "<table border=\"1\" class=\"dataframe\">\n",
       "  <thead>\n",
       "    <tr style=\"text-align: right;\">\n",
       "      <th></th>\n",
       "      <th>Q_clean</th>\n",
       "      <th>A_clean</th>\n",
       "    </tr>\n",
       "  </thead>\n",
       "  <tbody>\n",
       "    <tr>\n",
       "      <th>1284</th>\n",
       "      <td>[ты, замолчишь, когда-нибудь, ?, &lt;START&gt;, &lt;PAD&gt;, &lt;PAD&gt;, &lt;PAD&gt;, &lt;PAD&gt;, &lt;PAD&gt;, &lt;PAD&gt;, &lt;PAD&gt;, &lt;PAD&gt;, &lt;PAD&gt;, &lt;PAD&gt;, &lt;PAD&gt;, &lt;PAD&gt;, &lt;PAD&gt;, &lt;PAD&gt;, &lt;PAD&gt;, &lt;PAD&gt;, &lt;PAD&gt;, &lt;PAD&gt;, &lt;PAD&gt;, &lt;PAD&gt;, &lt;PAD&gt;, &lt;PAD&gt;]</td>\n",
       "      <td>[&lt;GO&gt;, но, ты, же, сам, просил, меня, о, чем-то, говорить, ., &lt;EOS&gt;, &lt;PAD&gt;, &lt;PAD&gt;, &lt;PAD&gt;, &lt;PAD&gt;, &lt;PAD&gt;, &lt;PAD&gt;, &lt;PAD&gt;, &lt;PAD&gt;, &lt;PAD&gt;, &lt;PAD&gt;, &lt;PAD&gt;, &lt;PAD&gt;, &lt;PAD&gt;, &lt;PAD&gt;, &lt;PAD&gt;]</td>\n",
       "    </tr>\n",
       "    <tr>\n",
       "      <th>1280</th>\n",
       "      <td>[а, пока, ты, не, дашь, мне, немного, на, билет, ?, понимаешь, ,, получка, послезавтра…, &lt;START&gt;, &lt;PAD&gt;, &lt;PAD&gt;, &lt;PAD&gt;, &lt;PAD&gt;, &lt;PAD&gt;, &lt;PAD&gt;, &lt;PAD&gt;, &lt;PAD&gt;, &lt;PAD&gt;, &lt;PAD&gt;, &lt;PAD&gt;, &lt;PAD&gt;]</td>\n",
       "      <td>[&lt;GO&gt;, этого, хватит, ?, &lt;EOS&gt;, &lt;PAD&gt;, &lt;PAD&gt;, &lt;PAD&gt;, &lt;PAD&gt;, &lt;PAD&gt;, &lt;PAD&gt;, &lt;PAD&gt;, &lt;PAD&gt;, &lt;PAD&gt;, &lt;PAD&gt;, &lt;PAD&gt;, &lt;PAD&gt;, &lt;PAD&gt;, &lt;PAD&gt;, &lt;PAD&gt;, &lt;PAD&gt;, &lt;PAD&gt;, &lt;PAD&gt;, &lt;PAD&gt;, &lt;PAD&gt;, &lt;PAD&gt;, &lt;PAD&gt;]</td>\n",
       "    </tr>\n",
       "    <tr>\n",
       "      <th>1363</th>\n",
       "      <td>[с, помощью, телекоммуникации, ., ну, как, ,, не, скучно, ?, &lt;START&gt;, &lt;PAD&gt;, &lt;PAD&gt;, &lt;PAD&gt;, &lt;PAD&gt;, &lt;PAD&gt;, &lt;PAD&gt;, &lt;PAD&gt;, &lt;PAD&gt;, &lt;PAD&gt;, &lt;PAD&gt;, &lt;PAD&gt;, &lt;PAD&gt;, &lt;PAD&gt;, &lt;PAD&gt;, &lt;PAD&gt;, &lt;PAD&gt;]</td>\n",
       "      <td>[&lt;GO&gt;, скучно, ., обещал, показать, кино, ,, а, сам, прокручиваешь, чьи-то, незнакомые, голоса, ., &lt;EOS&gt;, &lt;PAD&gt;, &lt;PAD&gt;, &lt;PAD&gt;, &lt;PAD&gt;, &lt;PAD&gt;, &lt;PAD&gt;, &lt;PAD&gt;, &lt;PAD&gt;, &lt;PAD&gt;, &lt;PAD&gt;, &lt;PAD&gt;, &lt;PAD&gt;]</td>\n",
       "    </tr>\n",
       "    <tr>\n",
       "      <th>1374</th>\n",
       "      <td>[после, выборов, я, захлопну, перед, ними, дверь, ., это, быдло, будет, мне, только, мешать, ., &lt;START&gt;, &lt;PAD&gt;, &lt;PAD&gt;, &lt;PAD&gt;, &lt;PAD&gt;, &lt;PAD&gt;, &lt;PAD&gt;, &lt;PAD&gt;, &lt;PAD&gt;, &lt;PAD&gt;, &lt;PAD&gt;, &lt;PAD&gt;]</td>\n",
       "      <td>[&lt;GO&gt;, сначала, надо, выиграть, выборы, ., &lt;EOS&gt;, &lt;PAD&gt;, &lt;PAD&gt;, &lt;PAD&gt;, &lt;PAD&gt;, &lt;PAD&gt;, &lt;PAD&gt;, &lt;PAD&gt;, &lt;PAD&gt;, &lt;PAD&gt;, &lt;PAD&gt;, &lt;PAD&gt;, &lt;PAD&gt;, &lt;PAD&gt;, &lt;PAD&gt;, &lt;PAD&gt;, &lt;PAD&gt;, &lt;PAD&gt;, &lt;PAD&gt;, &lt;PAD&gt;, &lt;PAD&gt;]</td>\n",
       "    </tr>\n",
       "    <tr>\n",
       "      <th>1361</th>\n",
       "      <td>[и, все, же, не, стоит, торопиться, ., он, нам, может, еще, пригодиться, ., &lt;START&gt;, &lt;PAD&gt;, &lt;PAD&gt;, &lt;PAD&gt;, &lt;PAD&gt;, &lt;PAD&gt;, &lt;PAD&gt;, &lt;PAD&gt;, &lt;PAD&gt;, &lt;PAD&gt;, &lt;PAD&gt;, &lt;PAD&gt;, &lt;PAD&gt;, &lt;PAD&gt;]</td>\n",
       "      <td>[&lt;GO&gt;, зачем, ?, обойдемся, теперь, и, без, него, ., ты, уже, без, пяти, минут, депутат, ., &lt;EOS&gt;, &lt;PAD&gt;, &lt;PAD&gt;, &lt;PAD&gt;, &lt;PAD&gt;, &lt;PAD&gt;, &lt;PAD&gt;, &lt;PAD&gt;, &lt;PAD&gt;, &lt;PAD&gt;, &lt;PAD&gt;]</td>\n",
       "    </tr>\n",
       "    <tr>\n",
       "      <th>1219</th>\n",
       "      <td>[будешь, шить, для, себя, ., &lt;START&gt;, &lt;PAD&gt;, &lt;PAD&gt;, &lt;PAD&gt;, &lt;PAD&gt;, &lt;PAD&gt;, &lt;PAD&gt;, &lt;PAD&gt;, &lt;PAD&gt;, &lt;PAD&gt;, &lt;PAD&gt;, &lt;PAD&gt;, &lt;PAD&gt;, &lt;PAD&gt;, &lt;PAD&gt;, &lt;PAD&gt;, &lt;PAD&gt;, &lt;PAD&gt;, &lt;PAD&gt;, &lt;PAD&gt;, &lt;PAD&gt;, &lt;PAD&gt;]</td>\n",
       "      <td>[&lt;GO&gt;, для, нас, ., &lt;EOS&gt;, &lt;PAD&gt;, &lt;PAD&gt;, &lt;PAD&gt;, &lt;PAD&gt;, &lt;PAD&gt;, &lt;PAD&gt;, &lt;PAD&gt;, &lt;PAD&gt;, &lt;PAD&gt;, &lt;PAD&gt;, &lt;PAD&gt;, &lt;PAD&gt;, &lt;PAD&gt;, &lt;PAD&gt;, &lt;PAD&gt;, &lt;PAD&gt;, &lt;PAD&gt;, &lt;PAD&gt;, &lt;PAD&gt;, &lt;PAD&gt;, &lt;PAD&gt;, &lt;PAD&gt;]</td>\n",
       "    </tr>\n",
       "    <tr>\n",
       "      <th>587</th>\n",
       "      <td>[а, почему, нет, ?, &lt;START&gt;, &lt;PAD&gt;, &lt;PAD&gt;, &lt;PAD&gt;, &lt;PAD&gt;, &lt;PAD&gt;, &lt;PAD&gt;, &lt;PAD&gt;, &lt;PAD&gt;, &lt;PAD&gt;, &lt;PAD&gt;, &lt;PAD&gt;, &lt;PAD&gt;, &lt;PAD&gt;, &lt;PAD&gt;, &lt;PAD&gt;, &lt;PAD&gt;, &lt;PAD&gt;, &lt;PAD&gt;, &lt;PAD&gt;, &lt;PAD&gt;, &lt;PAD&gt;, &lt;PAD&gt;]</td>\n",
       "      <td>[&lt;GO&gt;, но, это, было, бы, просто, смешно, !, &lt;EOS&gt;, &lt;PAD&gt;, &lt;PAD&gt;, &lt;PAD&gt;, &lt;PAD&gt;, &lt;PAD&gt;, &lt;PAD&gt;, &lt;PAD&gt;, &lt;PAD&gt;, &lt;PAD&gt;, &lt;PAD&gt;, &lt;PAD&gt;, &lt;PAD&gt;, &lt;PAD&gt;, &lt;PAD&gt;, &lt;PAD&gt;, &lt;PAD&gt;, &lt;PAD&gt;, &lt;PAD&gt;]</td>\n",
       "    </tr>\n",
       "    <tr>\n",
       "      <th>611</th>\n",
       "      <td>[но, мы, пойдем, ?, &lt;START&gt;, &lt;PAD&gt;, &lt;PAD&gt;, &lt;PAD&gt;, &lt;PAD&gt;, &lt;PAD&gt;, &lt;PAD&gt;, &lt;PAD&gt;, &lt;PAD&gt;, &lt;PAD&gt;, &lt;PAD&gt;, &lt;PAD&gt;, &lt;PAD&gt;, &lt;PAD&gt;, &lt;PAD&gt;, &lt;PAD&gt;, &lt;PAD&gt;, &lt;PAD&gt;, &lt;PAD&gt;, &lt;PAD&gt;, &lt;PAD&gt;, &lt;PAD&gt;, &lt;PAD&gt;]</td>\n",
       "      <td>[&lt;GO&gt;, пойдем, ., &lt;EOS&gt;, &lt;PAD&gt;, &lt;PAD&gt;, &lt;PAD&gt;, &lt;PAD&gt;, &lt;PAD&gt;, &lt;PAD&gt;, &lt;PAD&gt;, &lt;PAD&gt;, &lt;PAD&gt;, &lt;PAD&gt;, &lt;PAD&gt;, &lt;PAD&gt;, &lt;PAD&gt;, &lt;PAD&gt;, &lt;PAD&gt;, &lt;PAD&gt;, &lt;PAD&gt;, &lt;PAD&gt;, &lt;PAD&gt;, &lt;PAD&gt;, &lt;PAD&gt;, &lt;PAD&gt;, &lt;PAD&gt;]</td>\n",
       "    </tr>\n",
       "    <tr>\n",
       "      <th>325</th>\n",
       "      <td>[можно, тебя, обнять, ?, &lt;START&gt;, &lt;PAD&gt;, &lt;PAD&gt;, &lt;PAD&gt;, &lt;PAD&gt;, &lt;PAD&gt;, &lt;PAD&gt;, &lt;PAD&gt;, &lt;PAD&gt;, &lt;PAD&gt;, &lt;PAD&gt;, &lt;PAD&gt;, &lt;PAD&gt;, &lt;PAD&gt;, &lt;PAD&gt;, &lt;PAD&gt;, &lt;PAD&gt;, &lt;PAD&gt;, &lt;PAD&gt;, &lt;PAD&gt;, &lt;PAD&gt;, &lt;PAD&gt;, &lt;PAD&gt;]</td>\n",
       "      <td>[&lt;GO&gt;, не, надо, ,, помнешь, платье, ., &lt;EOS&gt;, &lt;PAD&gt;, &lt;PAD&gt;, &lt;PAD&gt;, &lt;PAD&gt;, &lt;PAD&gt;, &lt;PAD&gt;, &lt;PAD&gt;, &lt;PAD&gt;, &lt;PAD&gt;, &lt;PAD&gt;, &lt;PAD&gt;, &lt;PAD&gt;, &lt;PAD&gt;, &lt;PAD&gt;, &lt;PAD&gt;, &lt;PAD&gt;, &lt;PAD&gt;, &lt;PAD&gt;, &lt;PAD&gt;]</td>\n",
       "    </tr>\n",
       "  </tbody>\n",
       "</table>\n",
       "</div>"
      ],
      "text/plain": [
       "                                                                                                                                                                                                  Q_clean  \\\n",
       "1284  [ты, замолчишь, когда-нибудь, ?, <START>, <PAD>, <PAD>, <PAD>, <PAD>, <PAD>, <PAD>, <PAD>, <PAD>, <PAD>, <PAD>, <PAD>, <PAD>, <PAD>, <PAD>, <PAD>, <PAD>, <PAD>, <PAD>, <PAD>, <PAD>, <PAD>, <PAD>]   \n",
       "1280                [а, пока, ты, не, дашь, мне, немного, на, билет, ?, понимаешь, ,, получка, послезавтра…, <START>, <PAD>, <PAD>, <PAD>, <PAD>, <PAD>, <PAD>, <PAD>, <PAD>, <PAD>, <PAD>, <PAD>, <PAD>]   \n",
       "1363                [с, помощью, телекоммуникации, ., ну, как, ,, не, скучно, ?, <START>, <PAD>, <PAD>, <PAD>, <PAD>, <PAD>, <PAD>, <PAD>, <PAD>, <PAD>, <PAD>, <PAD>, <PAD>, <PAD>, <PAD>, <PAD>, <PAD>]   \n",
       "1374                [после, выборов, я, захлопну, перед, ними, дверь, ., это, быдло, будет, мне, только, мешать, ., <START>, <PAD>, <PAD>, <PAD>, <PAD>, <PAD>, <PAD>, <PAD>, <PAD>, <PAD>, <PAD>, <PAD>]   \n",
       "1361                      [и, все, же, не, стоит, торопиться, ., он, нам, может, еще, пригодиться, ., <START>, <PAD>, <PAD>, <PAD>, <PAD>, <PAD>, <PAD>, <PAD>, <PAD>, <PAD>, <PAD>, <PAD>, <PAD>, <PAD>]   \n",
       "1219             [будешь, шить, для, себя, ., <START>, <PAD>, <PAD>, <PAD>, <PAD>, <PAD>, <PAD>, <PAD>, <PAD>, <PAD>, <PAD>, <PAD>, <PAD>, <PAD>, <PAD>, <PAD>, <PAD>, <PAD>, <PAD>, <PAD>, <PAD>, <PAD>]   \n",
       "587                [а, почему, нет, ?, <START>, <PAD>, <PAD>, <PAD>, <PAD>, <PAD>, <PAD>, <PAD>, <PAD>, <PAD>, <PAD>, <PAD>, <PAD>, <PAD>, <PAD>, <PAD>, <PAD>, <PAD>, <PAD>, <PAD>, <PAD>, <PAD>, <PAD>]   \n",
       "611                [но, мы, пойдем, ?, <START>, <PAD>, <PAD>, <PAD>, <PAD>, <PAD>, <PAD>, <PAD>, <PAD>, <PAD>, <PAD>, <PAD>, <PAD>, <PAD>, <PAD>, <PAD>, <PAD>, <PAD>, <PAD>, <PAD>, <PAD>, <PAD>, <PAD>]   \n",
       "325           [можно, тебя, обнять, ?, <START>, <PAD>, <PAD>, <PAD>, <PAD>, <PAD>, <PAD>, <PAD>, <PAD>, <PAD>, <PAD>, <PAD>, <PAD>, <PAD>, <PAD>, <PAD>, <PAD>, <PAD>, <PAD>, <PAD>, <PAD>, <PAD>, <PAD>]   \n",
       "\n",
       "                                                                                                                                                                                            A_clean  \n",
       "1284                  [<GO>, но, ты, же, сам, просил, меня, о, чем-то, говорить, ., <EOS>, <PAD>, <PAD>, <PAD>, <PAD>, <PAD>, <PAD>, <PAD>, <PAD>, <PAD>, <PAD>, <PAD>, <PAD>, <PAD>, <PAD>, <PAD>]  \n",
       "1280      [<GO>, этого, хватит, ?, <EOS>, <PAD>, <PAD>, <PAD>, <PAD>, <PAD>, <PAD>, <PAD>, <PAD>, <PAD>, <PAD>, <PAD>, <PAD>, <PAD>, <PAD>, <PAD>, <PAD>, <PAD>, <PAD>, <PAD>, <PAD>, <PAD>, <PAD>]  \n",
       "1363  [<GO>, скучно, ., обещал, показать, кино, ,, а, сам, прокручиваешь, чьи-то, незнакомые, голоса, ., <EOS>, <PAD>, <PAD>, <PAD>, <PAD>, <PAD>, <PAD>, <PAD>, <PAD>, <PAD>, <PAD>, <PAD>, <PAD>]  \n",
       "1374  [<GO>, сначала, надо, выиграть, выборы, ., <EOS>, <PAD>, <PAD>, <PAD>, <PAD>, <PAD>, <PAD>, <PAD>, <PAD>, <PAD>, <PAD>, <PAD>, <PAD>, <PAD>, <PAD>, <PAD>, <PAD>, <PAD>, <PAD>, <PAD>, <PAD>]  \n",
       "1361                       [<GO>, зачем, ?, обойдемся, теперь, и, без, него, ., ты, уже, без, пяти, минут, депутат, ., <EOS>, <PAD>, <PAD>, <PAD>, <PAD>, <PAD>, <PAD>, <PAD>, <PAD>, <PAD>, <PAD>]  \n",
       "1219           [<GO>, для, нас, ., <EOS>, <PAD>, <PAD>, <PAD>, <PAD>, <PAD>, <PAD>, <PAD>, <PAD>, <PAD>, <PAD>, <PAD>, <PAD>, <PAD>, <PAD>, <PAD>, <PAD>, <PAD>, <PAD>, <PAD>, <PAD>, <PAD>, <PAD>]  \n",
       "587               [<GO>, но, это, было, бы, просто, смешно, !, <EOS>, <PAD>, <PAD>, <PAD>, <PAD>, <PAD>, <PAD>, <PAD>, <PAD>, <PAD>, <PAD>, <PAD>, <PAD>, <PAD>, <PAD>, <PAD>, <PAD>, <PAD>, <PAD>]  \n",
       "611       [<GO>, пойдем, ., <EOS>, <PAD>, <PAD>, <PAD>, <PAD>, <PAD>, <PAD>, <PAD>, <PAD>, <PAD>, <PAD>, <PAD>, <PAD>, <PAD>, <PAD>, <PAD>, <PAD>, <PAD>, <PAD>, <PAD>, <PAD>, <PAD>, <PAD>, <PAD>]  \n",
       "325             [<GO>, не, надо, ,, помнешь, платье, ., <EOS>, <PAD>, <PAD>, <PAD>, <PAD>, <PAD>, <PAD>, <PAD>, <PAD>, <PAD>, <PAD>, <PAD>, <PAD>, <PAD>, <PAD>, <PAD>, <PAD>, <PAD>, <PAD>, <PAD>]  "
      ]
     },
     "execution_count": 14,
     "metadata": {},
     "output_type": "execute_result"
    }
   ],
   "source": [
    "pair[['Q_clean','A_clean']].sample(9)"
   ]
  },
  {
   "cell_type": "markdown",
   "metadata": {},
   "source": [
    "## Кодируем тексты"
   ]
  },
  {
   "cell_type": "code",
   "execution_count": 15,
   "metadata": {},
   "outputs": [],
   "source": [
    "# data = pair['Q_clean'].values.tolist() + pair['A_clean'].values.tolist()"
   ]
  },
  {
   "cell_type": "code",
   "execution_count": 16,
   "metadata": {},
   "outputs": [
    {
     "name": "stdout",
     "output_type": "stream",
     "text": [
      "CPU times: user 455 ms, sys: 19.6 ms, total: 474 ms\n",
      "Wall time: 404 ms\n"
     ]
    }
   ],
   "source": [
    "%%time\n",
    "\n",
    "from gensim.models.word2vec import Word2Vec\n",
    "\n",
    "# w2v_size = 128\n",
    "\n",
    "w2v_q = Word2Vec( pair['Q_clean'].values.tolist(), min_count=1, size=w2v_size, window=4, workers=4)\n",
    "w2v_a = Word2Vec( pair['A_clean'].values.tolist(), min_count=1, size=w2v_size, window=4, workers=4)"
   ]
  },
  {
   "cell_type": "code",
   "execution_count": 17,
   "metadata": {},
   "outputs": [
    {
     "name": "stdout",
     "output_type": "stream",
     "text": [
      "записей: 2 749\n",
      "записей: 2 452\n"
     ]
    }
   ],
   "source": [
    "w2v_q_vocab = sorted([w for w in w2v_q.wv.vocab])\n",
    "ppr(w2v_q_vocab)\n",
    "\n",
    "w2v_a_vocab = sorted([w for w in w2v_a.wv.vocab])\n",
    "ppr(w2v_a_vocab)"
   ]
  },
  {
   "cell_type": "code",
   "execution_count": 18,
   "metadata": {},
   "outputs": [
    {
     "name": "stdout",
     "output_type": "stream",
     "text": [
      "погода : ['от', 'я', 'вам', 'же', 'за']\n",
      "мужчин : ['знаете', 'сразу', 'где', 'ваш', 'во']\n",
      "характера : ['прощайте', 'сумме', 'моему', 'нелепо', 'твою']\n",
      "можно : ['чтобы', 'по', 'разве', 'будем', 'зачем']\n",
      "показывал : ['жить', 'об', 'всего', 'ему', 'вам']\n",
      "подойти : ['там', 'много', 'чему', 'стихи', 'извини']\n",
      "цвет : ['настроение', 'нервничаешь', 'мармелад', 'документах', 'работаете']\n",
      "какая-то : ['по', 'чтобы', 'ни', 'разве', 'можно']\n",
      "ненавидела : ['коньячку', 'ответа', 'милуетесь', 'погоде…', 'ушел']\n",
      "жива : ['кажется', 'возникают', 'последнее', 'поневоле', 'разнообразия']\n"
     ]
    },
    {
     "name": "stderr",
     "output_type": "stream",
     "text": [
      "/usr/lib/python3.7/site-packages/gensim/matutils.py:737: FutureWarning: Conversion of the second argument of issubdtype from `int` to `np.signedinteger` is deprecated. In future, it will be treated as `np.int64 == np.dtype(int).type`.\n",
      "  if np.issubdtype(vec.dtype, np.int):\n"
     ]
    }
   ],
   "source": [
    "ii = np.random.permutation(len(w2v_q_vocab))[:10]\n",
    "for i in ii:\n",
    "    w = w2v_q_vocab[i]\n",
    "    ww = [ v[0] for v in w2v_q.wv.most_similar(w, topn=5) ]\n",
    "    print( w,':',ww )"
   ]
  },
  {
   "cell_type": "code",
   "execution_count": 19,
   "metadata": {},
   "outputs": [
    {
     "name": "stdout",
     "output_type": "stream",
     "text": [
      "трудно : ['врач', 'нельзя', 'случае', 'тому', 'говорит']\n",
      "радостей : ['жизнь', 'нам', 'этот', 'ни', 'там']\n",
      "затюкали : ['давайте', 'стараться', 'тобой', 'смотреть', 'ни']\n",
      "телекоммуникации : ['да', 'могу', 'не', '<GO>', 'тоже']\n",
      "минутку : ['буду', 'говорю', 'замуж', 'угодно', 'наверное']\n",
      "бога : ['немного', 'хочешь', 'должен', 'ну', 'до']\n",
      "удобная : ['нет', '<GO>', 'не', 'да', 'могу']\n",
      "мужчинами : ['никогда', 'нужно', 'же', 'хорошо', 'в']\n",
      "свободен : ['после', 'ваши', 'любовь', 'первой', 'смотрю']\n",
      "ненавижу : ['мой', 'закрывается', 'твоего', 'проснуться', 'тогда']\n"
     ]
    }
   ],
   "source": [
    "ii = np.random.permutation(len(w2v_a_vocab))[:10]\n",
    "for i in ii:\n",
    "    w = w2v_a_vocab[i]\n",
    "    ww = [ v[0] for v in w2v_a.wv.most_similar(w, topn=5) ]\n",
    "    print( w,':',ww )"
   ]
  },
  {
   "cell_type": "markdown",
   "metadata": {},
   "source": [
    "---"
   ]
  },
  {
   "cell_type": "code",
   "execution_count": 20,
   "metadata": {},
   "outputs": [],
   "source": [
    "# c = w2v_a.wv['<GO>']\n",
    "# w2v_a.wv.similar_by_vector(c)[0][0] \n",
    "# c.min(), c.max()"
   ]
  },
  {
   "cell_type": "markdown",
   "metadata": {},
   "source": [
    "---"
   ]
  },
  {
   "cell_type": "code",
   "execution_count": 21,
   "metadata": {},
   "outputs": [],
   "source": [
    "pair['Q_code'] = pair['Q_clean'].apply(lambda t: [ w2v_q.wv.get_vector(w) for w in t ] )\n",
    "pair['A_code'] = pair['A_clean'].apply(lambda t: [ w2v_a.wv.get_vector(w) for w in t ] )"
   ]
  },
  {
   "cell_type": "code",
   "execution_count": 22,
   "metadata": {},
   "outputs": [
    {
     "data": {
      "text/html": [
       "<div>\n",
       "<style scoped>\n",
       "    .dataframe tbody tr th:only-of-type {\n",
       "        vertical-align: middle;\n",
       "    }\n",
       "\n",
       "    .dataframe tbody tr th {\n",
       "        vertical-align: top;\n",
       "    }\n",
       "\n",
       "    .dataframe thead th {\n",
       "        text-align: right;\n",
       "    }\n",
       "</style>\n",
       "<table border=\"1\" class=\"dataframe\">\n",
       "  <thead>\n",
       "    <tr style=\"text-align: right;\">\n",
       "      <th></th>\n",
       "      <th>Q_code</th>\n",
       "      <th>A_code</th>\n",
       "    </tr>\n",
       "  </thead>\n",
       "  <tbody>\n",
       "    <tr>\n",
       "      <th>421</th>\n",
       "      <td>[[0.056845702, 0.021039685, 0.01196952, -0.013683005, -0.022696037, -0.016484795, -0.023952417, 0.01550289, 0.027040591, 0.0026980876, 0.0026110776, 0.0026532586, 0.007910195, 0.037658207, 0.00158...</td>\n",
       "      <td>[[0.80658114, -0.030691996, 0.54139835, -0.7007458, 0.07014995, -0.305851, -0.3034, -0.04372339, 0.17982915, 0.3023216, 0.32000008, 0.60582095, -0.046074145, 0.4768631, 0.08424453, -0.28807694, 0....</td>\n",
       "    </tr>\n",
       "    <tr>\n",
       "      <th>1303</th>\n",
       "      <td>[[0.7255033, 0.18626045, 0.26127172, -0.20711544, -0.23588714, -0.092579775, -0.32615766, 0.16111612, 0.2855274, 0.06681968, 0.070837714, -0.054886654, 0.106872775, 0.400361, 0.06850821, -0.146008...</td>\n",
       "      <td>[[0.80658114, -0.030691996, 0.54139835, -0.7007458, 0.07014995, -0.305851, -0.3034, -0.04372339, 0.17982915, 0.3023216, 0.32000008, 0.60582095, -0.046074145, 0.4768631, 0.08424453, -0.28807694, 0....</td>\n",
       "    </tr>\n",
       "    <tr>\n",
       "      <th>233</th>\n",
       "      <td>[[-0.0020107445, 0.007980947, -0.010506567, 0.00031411846, -0.015274703, -0.0134443175, 0.006128367, 0.0041307593, 0.0074409074, -0.00247137, 0.0018576186, 0.011120703, -0.005931086, 0.0015459345,...</td>\n",
       "      <td>[[0.80658114, -0.030691996, 0.54139835, -0.7007458, 0.07014995, -0.305851, -0.3034, -0.04372339, 0.17982915, 0.3023216, 0.32000008, 0.60582095, -0.046074145, 0.4768631, 0.08424453, -0.28807694, 0....</td>\n",
       "    </tr>\n",
       "  </tbody>\n",
       "</table>\n",
       "</div>"
      ],
      "text/plain": [
       "                                                                                                                                                                                                       Q_code  \\\n",
       "421   [[0.056845702, 0.021039685, 0.01196952, -0.013683005, -0.022696037, -0.016484795, -0.023952417, 0.01550289, 0.027040591, 0.0026980876, 0.0026110776, 0.0026532586, 0.007910195, 0.037658207, 0.00158...   \n",
       "1303  [[0.7255033, 0.18626045, 0.26127172, -0.20711544, -0.23588714, -0.092579775, -0.32615766, 0.16111612, 0.2855274, 0.06681968, 0.070837714, -0.054886654, 0.106872775, 0.400361, 0.06850821, -0.146008...   \n",
       "233   [[-0.0020107445, 0.007980947, -0.010506567, 0.00031411846, -0.015274703, -0.0134443175, 0.006128367, 0.0041307593, 0.0074409074, -0.00247137, 0.0018576186, 0.011120703, -0.005931086, 0.0015459345,...   \n",
       "\n",
       "                                                                                                                                                                                                       A_code  \n",
       "421   [[0.80658114, -0.030691996, 0.54139835, -0.7007458, 0.07014995, -0.305851, -0.3034, -0.04372339, 0.17982915, 0.3023216, 0.32000008, 0.60582095, -0.046074145, 0.4768631, 0.08424453, -0.28807694, 0....  \n",
       "1303  [[0.80658114, -0.030691996, 0.54139835, -0.7007458, 0.07014995, -0.305851, -0.3034, -0.04372339, 0.17982915, 0.3023216, 0.32000008, 0.60582095, -0.046074145, 0.4768631, 0.08424453, -0.28807694, 0....  \n",
       "233   [[0.80658114, -0.030691996, 0.54139835, -0.7007458, 0.07014995, -0.305851, -0.3034, -0.04372339, 0.17982915, 0.3023216, 0.32000008, 0.60582095, -0.046074145, 0.4768631, 0.08424453, -0.28807694, 0....  "
      ]
     },
     "execution_count": 22,
     "metadata": {},
     "output_type": "execute_result"
    }
   ],
   "source": [
    "pair[['Q_code','A_code']].sample(3)"
   ]
  },
  {
   "cell_type": "markdown",
   "metadata": {},
   "source": [
    "\n",
    "-----"
   ]
  },
  {
   "cell_type": "code",
   "execution_count": 23,
   "metadata": {},
   "outputs": [
    {
     "name": "stdout",
     "output_type": "stream",
     "text": [
      "записей: 1 509\n"
     ]
    }
   ],
   "source": [
    "ppr(pair)"
   ]
  },
  {
   "cell_type": "code",
   "execution_count": 24,
   "metadata": {},
   "outputs": [],
   "source": [
    "# pair = pair.sample(1000)\n",
    "\n",
    "# pair = pair.sample(283800)\n",
    "# pair = pair.sample(600)"
   ]
  },
  {
   "cell_type": "code",
   "execution_count": 25,
   "metadata": {},
   "outputs": [
    {
     "data": {
      "text/plain": [
       "((1509, 27, 128), (1509, 26, 128), (1509, 26, 128))"
      ]
     },
     "execution_count": 25,
     "metadata": {},
     "output_type": "execute_result"
    }
   ],
   "source": [
    "encoder_input_data = np.stack( pair['Q_code'].values ).astype(np.float32)\n",
    "\n",
    "decoder_input_data = np.stack( pair['A_code'].values )[:,:-1,:].astype(np.float32)\n",
    "decoder_target_data = np.stack( pair['A_code'].values )[:,1:,:].astype(np.float32)\n",
    "\n",
    "encoder_input_data.shape, decoder_input_data.shape, decoder_target_data.shape"
   ]
  },
  {
   "cell_type": "markdown",
   "metadata": {},
   "source": [
    "## Строим нейросеть"
   ]
  },
  {
   "cell_type": "code",
   "execution_count": 26,
   "metadata": {},
   "outputs": [],
   "source": [
    "from tensorflow.keras.models import Model\n",
    "from tensorflow.keras.layers import Input\n",
    "from tensorflow.keras.layers import LSTM\n",
    "from tensorflow.keras.layers import Dense"
   ]
  },
  {
   "cell_type": "code",
   "execution_count": 27,
   "metadata": {},
   "outputs": [],
   "source": [
    "latent_dim = 256  # размер сети"
   ]
  },
  {
   "cell_type": "code",
   "execution_count": 28,
   "metadata": {},
   "outputs": [
    {
     "name": "stdout",
     "output_type": "stream",
     "text": [
      "WARNING:tensorflow:From /usr/lib/python3.7/site-packages/tensorflow/python/ops/resource_variable_ops.py:435: colocate_with (from tensorflow.python.framework.ops) is deprecated and will be removed in a future version.\n",
      "Instructions for updating:\n",
      "Colocations handled automatically by placer.\n"
     ]
    }
   ],
   "source": [
    "encoder_inputs = Input(shape=(None, w2v_size))\n",
    "encoder = LSTM(latent_dim, return_state=True)\n",
    "encoder_outputs, state_h, state_c = encoder(encoder_inputs)\n",
    "encoder_states = [state_h, state_c]"
   ]
  },
  {
   "cell_type": "code",
   "execution_count": 29,
   "metadata": {},
   "outputs": [
    {
     "name": "stderr",
     "output_type": "stream",
     "text": [
      "Using TensorFlow backend.\n"
     ]
    }
   ],
   "source": [
    "from keras import backend as K\n",
    "def custom_activation(x):  return (K.tanh(x) * 4)\n",
    "\n",
    "# model.add(Dense(32 , activation=custom_activation))"
   ]
  },
  {
   "cell_type": "code",
   "execution_count": 30,
   "metadata": {},
   "outputs": [],
   "source": [
    "decoder_inputs = Input(shape=(None, w2v_size))\n",
    "decoder_lstm = LSTM(latent_dim, return_sequences=True, return_state=True)\n",
    "decoder_outputs, _, _ = decoder_lstm(decoder_inputs,initial_state=encoder_states)\n",
    "\n",
    "# decoder_dense = Dense(w2v_size)\n",
    "# decoder_dense = Dense(w2v_size, activation='softmax')\n",
    "# decoder_dense = Dense(w2v_size, activation='tanh')\n",
    "# decoder_dense = Dense(w2v_size, activation='sigmoid')\n",
    "decoder_dense = Dense(w2v_size, activation=custom_activation)\n",
    "\n",
    "decoder_outputs = decoder_dense(decoder_outputs)"
   ]
  },
  {
   "cell_type": "code",
   "execution_count": 31,
   "metadata": {},
   "outputs": [],
   "source": [
    "# Define the model that will turn\n",
    "# `encoder_input_data` & `decoder_input_data` into `decoder_target_data`\n",
    "model = Model([encoder_inputs, decoder_inputs], decoder_outputs)"
   ]
  },
  {
   "cell_type": "code",
   "execution_count": 32,
   "metadata": {},
   "outputs": [
    {
     "name": "stdout",
     "output_type": "stream",
     "text": [
      "__________________________________________________________________________________________________\n",
      "Layer (type)                    Output Shape         Param #     Connected to                     \n",
      "==================================================================================================\n",
      "input_1 (InputLayer)            (None, None, 128)    0                                            \n",
      "__________________________________________________________________________________________________\n",
      "input_2 (InputLayer)            (None, None, 128)    0                                            \n",
      "__________________________________________________________________________________________________\n",
      "lstm (LSTM)                     [(None, 256), (None, 394240      input_1[0][0]                    \n",
      "__________________________________________________________________________________________________\n",
      "lstm_1 (LSTM)                   [(None, None, 256),  394240      input_2[0][0]                    \n",
      "                                                                 lstm[0][1]                       \n",
      "                                                                 lstm[0][2]                       \n",
      "__________________________________________________________________________________________________\n",
      "dense (Dense)                   (None, None, 128)    32896       lstm_1[0][0]                     \n",
      "==================================================================================================\n",
      "Total params: 821,376\n",
      "Trainable params: 821,376\n",
      "Non-trainable params: 0\n",
      "__________________________________________________________________________________________________\n"
     ]
    }
   ],
   "source": [
    "model.summary()"
   ]
  },
  {
   "cell_type": "code",
   "execution_count": 33,
   "metadata": {},
   "outputs": [
    {
     "name": "stdout",
     "output_type": "stream",
     "text": [
      "WARNING:tensorflow:From /usr/lib/python3.7/site-packages/tensorflow/python/keras/utils/losses_utils.py:170: to_float (from tensorflow.python.ops.math_ops) is deprecated and will be removed in a future version.\n",
      "Instructions for updating:\n",
      "Use tf.cast instead.\n"
     ]
    }
   ],
   "source": [
    "# model.compile(optimizer='rmsprop', loss='categorical_crossentropy')\n",
    "# model.compile(loss='mse', optimizer='rmsprop')\n",
    "model.compile(loss='mse', optimizer='adam')\n",
    "# model.compile(loss='mse', optimizer='sgd')\n"
   ]
  },
  {
   "cell_type": "code",
   "execution_count": 34,
   "metadata": {},
   "outputs": [
    {
     "name": "stdout",
     "output_type": "stream",
     "text": [
      "Train on 1358 samples, validate on 151 samples\n",
      "WARNING:tensorflow:From /usr/lib/python3.7/site-packages/tensorflow/python/ops/math_ops.py:3066: to_int32 (from tensorflow.python.ops.math_ops) is deprecated and will be removed in a future version.\n",
      "Instructions for updating:\n",
      "Use tf.cast instead.\n",
      "Epoch 1/100\n",
      "1358/1358 [==============================] - 5s 4ms/sample - loss: 0.1773 - val_loss: 0.0334\n",
      "Epoch 2/100\n",
      "1358/1358 [==============================] - 4s 3ms/sample - loss: 0.0245 - val_loss: 0.0197\n",
      "Epoch 3/100\n",
      "1358/1358 [==============================] - 4s 3ms/sample - loss: 0.0165 - val_loss: 0.0158\n",
      "Epoch 4/100\n",
      "1358/1358 [==============================] - 4s 3ms/sample - loss: 0.0140 - val_loss: 0.0140\n",
      "Epoch 5/100\n",
      "1358/1358 [==============================] - 4s 3ms/sample - loss: 0.0127 - val_loss: 0.0130\n",
      "Epoch 6/100\n",
      "1358/1358 [==============================] - 4s 3ms/sample - loss: 0.0118 - val_loss: 0.0122\n",
      "Epoch 7/100\n",
      "1358/1358 [==============================] - 4s 3ms/sample - loss: 0.0112 - val_loss: 0.0116\n",
      "Epoch 8/100\n",
      "1358/1358 [==============================] - 4s 3ms/sample - loss: 0.0107 - val_loss: 0.0112\n",
      "Epoch 9/100\n",
      "1358/1358 [==============================] - 4s 3ms/sample - loss: 0.0103 - val_loss: 0.0109\n",
      "Epoch 10/100\n",
      "1358/1358 [==============================] - 4s 3ms/sample - loss: 0.0101 - val_loss: 0.0106\n",
      "Epoch 11/100\n",
      "1358/1358 [==============================] - 4s 3ms/sample - loss: 0.0099 - val_loss: 0.0104\n",
      "Epoch 12/100\n",
      "1358/1358 [==============================] - 4s 3ms/sample - loss: 0.0097 - val_loss: 0.0103\n",
      "Epoch 13/100\n",
      "1358/1358 [==============================] - 4s 3ms/sample - loss: 0.0096 - val_loss: 0.0102\n",
      "Epoch 14/100\n",
      "1358/1358 [==============================] - 4s 3ms/sample - loss: 0.0095 - val_loss: 0.0101\n",
      "Epoch 15/100\n",
      "1358/1358 [==============================] - 4s 3ms/sample - loss: 0.0094 - val_loss: 0.0100\n",
      "Epoch 16/100\n",
      "1358/1358 [==============================] - 4s 3ms/sample - loss: 0.0094 - val_loss: 0.0100\n",
      "Epoch 17/100\n",
      "1358/1358 [==============================] - 4s 3ms/sample - loss: 0.0093 - val_loss: 0.0099\n",
      "Epoch 18/100\n",
      "1358/1358 [==============================] - 4s 3ms/sample - loss: 0.0093 - val_loss: 0.0099\n",
      "Epoch 19/100\n",
      "1358/1358 [==============================] - 4s 3ms/sample - loss: 0.0092 - val_loss: 0.0098\n",
      "Epoch 20/100\n",
      "1358/1358 [==============================] - 4s 3ms/sample - loss: 0.0092 - val_loss: 0.0098\n",
      "Epoch 21/100\n",
      "1358/1358 [==============================] - 4s 3ms/sample - loss: 0.0092 - val_loss: 0.0098\n",
      "Epoch 22/100\n",
      "1358/1358 [==============================] - 4s 3ms/sample - loss: 0.0091 - val_loss: 0.0097\n",
      "Epoch 23/100\n",
      "1358/1358 [==============================] - 4s 3ms/sample - loss: 0.0091 - val_loss: 0.0097\n",
      "Epoch 24/100\n",
      "1358/1358 [==============================] - 4s 3ms/sample - loss: 0.0091 - val_loss: 0.0096\n",
      "Epoch 25/100\n",
      "1358/1358 [==============================] - 4s 3ms/sample - loss: 0.0090 - val_loss: 0.0096\n",
      "Epoch 26/100\n",
      "1358/1358 [==============================] - 4s 3ms/sample - loss: 0.0090 - val_loss: 0.0096\n",
      "Epoch 27/100\n",
      "1358/1358 [==============================] - 4s 3ms/sample - loss: 0.0089 - val_loss: 0.0095\n",
      "Epoch 28/100\n",
      "1358/1358 [==============================] - 4s 3ms/sample - loss: 0.0089 - val_loss: 0.0095\n",
      "Epoch 29/100\n",
      "1358/1358 [==============================] - 4s 3ms/sample - loss: 0.0088 - val_loss: 0.0094\n",
      "Epoch 30/100\n",
      "1358/1358 [==============================] - 4s 3ms/sample - loss: 0.0088 - val_loss: 0.0094\n",
      "Epoch 31/100\n",
      "1358/1358 [==============================] - 4s 3ms/sample - loss: 0.0088 - val_loss: 0.0093\n",
      "Epoch 32/100\n",
      "1358/1358 [==============================] - 4s 3ms/sample - loss: 0.0087 - val_loss: 0.0093\n",
      "Epoch 33/100\n",
      "1358/1358 [==============================] - 4s 3ms/sample - loss: 0.0086 - val_loss: 0.0092\n",
      "Epoch 34/100\n",
      "1358/1358 [==============================] - 4s 3ms/sample - loss: 0.0086 - val_loss: 0.0091\n",
      "Epoch 35/100\n",
      "1358/1358 [==============================] - 4s 3ms/sample - loss: 0.0085 - val_loss: 0.0091\n",
      "Epoch 36/100\n",
      "1358/1358 [==============================] - 4s 3ms/sample - loss: 0.0085 - val_loss: 0.0090\n",
      "Epoch 37/100\n",
      "1358/1358 [==============================] - 4s 3ms/sample - loss: 0.0084 - val_loss: 0.0089\n",
      "Epoch 38/100\n",
      "1358/1358 [==============================] - 4s 3ms/sample - loss: 0.0083 - val_loss: 0.0088\n",
      "Epoch 39/100\n",
      "1358/1358 [==============================] - 4s 3ms/sample - loss: 0.0083 - val_loss: 0.0088\n",
      "Epoch 40/100\n",
      "1358/1358 [==============================] - 4s 3ms/sample - loss: 0.0082 - val_loss: 0.0087\n",
      "Epoch 41/100\n",
      "1358/1358 [==============================] - 4s 3ms/sample - loss: 0.0081 - val_loss: 0.0086\n",
      "Epoch 42/100\n",
      "1358/1358 [==============================] - 4s 3ms/sample - loss: 0.0080 - val_loss: 0.0086\n",
      "Epoch 43/100\n",
      "1358/1358 [==============================] - 4s 3ms/sample - loss: 0.0080 - val_loss: 0.0085\n",
      "Epoch 44/100\n",
      "1358/1358 [==============================] - 4s 3ms/sample - loss: 0.0079 - val_loss: 0.0084\n",
      "Epoch 45/100\n",
      "1358/1358 [==============================] - 4s 3ms/sample - loss: 0.0079 - val_loss: 0.0083\n",
      "Epoch 46/100\n",
      "1358/1358 [==============================] - 4s 3ms/sample - loss: 0.0078 - val_loss: 0.0082\n",
      "Epoch 47/100\n",
      "1358/1358 [==============================] - 4s 3ms/sample - loss: 0.0077 - val_loss: 0.0082\n",
      "Epoch 48/100\n",
      "1358/1358 [==============================] - 4s 3ms/sample - loss: 0.0077 - val_loss: 0.0082\n",
      "Epoch 49/100\n",
      "1358/1358 [==============================] - 4s 3ms/sample - loss: 0.0076 - val_loss: 0.0081\n",
      "Epoch 50/100\n",
      "1358/1358 [==============================] - 4s 3ms/sample - loss: 0.0076 - val_loss: 0.0080\n",
      "Epoch 51/100\n",
      "1358/1358 [==============================] - 4s 3ms/sample - loss: 0.0075 - val_loss: 0.0080\n",
      "Epoch 52/100\n",
      "1358/1358 [==============================] - 4s 3ms/sample - loss: 0.0075 - val_loss: 0.0080\n",
      "Epoch 53/100\n",
      "1358/1358 [==============================] - 4s 3ms/sample - loss: 0.0075 - val_loss: 0.0079\n",
      "Epoch 54/100\n",
      "1358/1358 [==============================] - 4s 3ms/sample - loss: 0.0074 - val_loss: 0.0079\n",
      "Epoch 55/100\n",
      "1358/1358 [==============================] - 4s 3ms/sample - loss: 0.0074 - val_loss: 0.0079\n",
      "Epoch 56/100\n",
      "1358/1358 [==============================] - 4s 3ms/sample - loss: 0.0074 - val_loss: 0.0079\n",
      "Epoch 57/100\n",
      "1358/1358 [==============================] - 4s 3ms/sample - loss: 0.0074 - val_loss: 0.0079\n",
      "Epoch 58/100\n",
      "1358/1358 [==============================] - 4s 3ms/sample - loss: 0.0074 - val_loss: 0.0080\n",
      "Epoch 59/100\n",
      "1358/1358 [==============================] - 4s 3ms/sample - loss: 0.0073 - val_loss: 0.0078\n",
      "Epoch 60/100\n",
      "1358/1358 [==============================] - 4s 3ms/sample - loss: 0.0073 - val_loss: 0.0078\n",
      "Epoch 61/100\n",
      "1358/1358 [==============================] - 4s 3ms/sample - loss: 0.0073 - val_loss: 0.0078\n",
      "Epoch 62/100\n",
      "1358/1358 [==============================] - 4s 3ms/sample - loss: 0.0073 - val_loss: 0.0078\n",
      "Epoch 63/100\n",
      "1358/1358 [==============================] - 4s 3ms/sample - loss: 0.0073 - val_loss: 0.0078\n",
      "Epoch 64/100\n",
      "1358/1358 [==============================] - 4s 3ms/sample - loss: 0.0073 - val_loss: 0.0080\n",
      "Epoch 65/100\n",
      "1358/1358 [==============================] - 4s 3ms/sample - loss: 0.0073 - val_loss: 0.0078\n",
      "Epoch 66/100\n",
      "1358/1358 [==============================] - 4s 3ms/sample - loss: 0.0072 - val_loss: 0.0077\n",
      "Epoch 67/100\n",
      "1358/1358 [==============================] - 4s 3ms/sample - loss: 0.0072 - val_loss: 0.0077\n",
      "Epoch 68/100\n",
      "1358/1358 [==============================] - 4s 3ms/sample - loss: 0.0072 - val_loss: 0.0077\n",
      "Epoch 69/100\n",
      "1358/1358 [==============================] - 4s 3ms/sample - loss: 0.0072 - val_loss: 0.0077\n",
      "Epoch 70/100\n",
      "1358/1358 [==============================] - 4s 3ms/sample - loss: 0.0072 - val_loss: 0.0076\n",
      "Epoch 71/100\n",
      "1358/1358 [==============================] - 4s 3ms/sample - loss: 0.0071 - val_loss: 0.0077\n",
      "Epoch 72/100\n",
      "1358/1358 [==============================] - 4s 3ms/sample - loss: 0.0072 - val_loss: 0.0076\n",
      "Epoch 73/100\n",
      "1358/1358 [==============================] - 4s 3ms/sample - loss: 0.0071 - val_loss: 0.0077\n",
      "Epoch 74/100\n",
      "1358/1358 [==============================] - 4s 3ms/sample - loss: 0.0071 - val_loss: 0.0077\n",
      "Epoch 75/100\n"
     ]
    },
    {
     "name": "stdout",
     "output_type": "stream",
     "text": [
      "1358/1358 [==============================] - 4s 3ms/sample - loss: 0.0071 - val_loss: 0.0077\n",
      "Epoch 76/100\n",
      "1358/1358 [==============================] - 4s 3ms/sample - loss: 0.0071 - val_loss: 0.0076\n",
      "Epoch 77/100\n",
      "1358/1358 [==============================] - 4s 3ms/sample - loss: 0.0071 - val_loss: 0.0076\n",
      "Epoch 78/100\n",
      "1358/1358 [==============================] - 4s 3ms/sample - loss: 0.0071 - val_loss: 0.0076\n",
      "Epoch 79/100\n",
      "1358/1358 [==============================] - 4s 3ms/sample - loss: 0.0071 - val_loss: 0.0077\n",
      "Epoch 80/100\n",
      "1358/1358 [==============================] - 4s 3ms/sample - loss: 0.0071 - val_loss: 0.0076\n",
      "Epoch 81/100\n",
      "1358/1358 [==============================] - 4s 3ms/sample - loss: 0.0072 - val_loss: 0.0076\n",
      "Epoch 82/100\n",
      "1358/1358 [==============================] - 4s 3ms/sample - loss: 0.0072 - val_loss: 0.0077\n",
      "Epoch 83/100\n",
      "1358/1358 [==============================] - 4s 3ms/sample - loss: 0.0071 - val_loss: 0.0076\n",
      "Epoch 84/100\n",
      "1358/1358 [==============================] - 4s 3ms/sample - loss: 0.0071 - val_loss: 0.0076\n",
      "Epoch 85/100\n",
      "1358/1358 [==============================] - 4s 3ms/sample - loss: 0.0071 - val_loss: 0.0076\n",
      "Epoch 86/100\n",
      "1358/1358 [==============================] - 4s 3ms/sample - loss: 0.0070 - val_loss: 0.0076\n",
      "Epoch 87/100\n",
      "1358/1358 [==============================] - 4s 3ms/sample - loss: 0.0071 - val_loss: 0.0076\n",
      "Epoch 88/100\n",
      "1358/1358 [==============================] - 4s 3ms/sample - loss: 0.0070 - val_loss: 0.0076\n",
      "Epoch 89/100\n",
      "1358/1358 [==============================] - 4s 3ms/sample - loss: 0.0070 - val_loss: 0.0076\n",
      "Epoch 90/100\n",
      "1358/1358 [==============================] - 4s 3ms/sample - loss: 0.0070 - val_loss: 0.0075\n",
      "Epoch 91/100\n",
      "1358/1358 [==============================] - 4s 3ms/sample - loss: 0.0070 - val_loss: 0.0076\n",
      "Epoch 92/100\n",
      "1358/1358 [==============================] - 4s 3ms/sample - loss: 0.0070 - val_loss: 0.0076\n",
      "Epoch 93/100\n",
      "1358/1358 [==============================] - 4s 3ms/sample - loss: 0.0071 - val_loss: 0.0075\n",
      "Epoch 94/100\n",
      "1358/1358 [==============================] - 4s 3ms/sample - loss: 0.0070 - val_loss: 0.0075\n",
      "Epoch 95/100\n",
      "1358/1358 [==============================] - 4s 3ms/sample - loss: 0.0070 - val_loss: 0.0075\n",
      "Epoch 96/100\n",
      "1358/1358 [==============================] - 4s 3ms/sample - loss: 0.0070 - val_loss: 0.0075\n",
      "Epoch 97/100\n",
      "1358/1358 [==============================] - 4s 3ms/sample - loss: 0.0070 - val_loss: 0.0076\n",
      "Epoch 98/100\n",
      "1358/1358 [==============================] - 4s 3ms/sample - loss: 0.0070 - val_loss: 0.0075\n",
      "Epoch 99/100\n",
      "1358/1358 [==============================] - 4s 3ms/sample - loss: 0.0070 - val_loss: 0.0075\n",
      "Epoch 100/100\n",
      "1358/1358 [==============================] - 4s 3ms/sample - loss: 0.0070 - val_loss: 0.0075\n",
      "CPU times: user 3min 45s, sys: 2min 2s, total: 5min 48s\n",
      "Wall time: 6min 3s\n"
     ]
    }
   ],
   "source": [
    "%%time \n",
    "\n",
    "history = model.fit([encoder_input_data, decoder_input_data], decoder_target_data,\n",
    "          batch_size=100,\n",
    "          epochs=100,\n",
    "          validation_split=0.1\n",
    "        )"
   ]
  },
  {
   "cell_type": "markdown",
   "metadata": {},
   "source": [
    "## Проверяем результат"
   ]
  },
  {
   "cell_type": "code",
   "execution_count": 35,
   "metadata": {},
   "outputs": [],
   "source": [
    "encoder_model = Model(encoder_inputs, encoder_states)\n",
    "\n",
    "decoder_state_input_h = Input(shape=(latent_dim,))\n",
    "decoder_state_input_c = Input(shape=(latent_dim,))\n",
    "decoder_states_inputs = [decoder_state_input_h, decoder_state_input_c]\n",
    "decoder_outputs, state_h, state_c = decoder_lstm(decoder_inputs, initial_state=decoder_states_inputs)\n",
    "decoder_states = [state_h, state_c]\n",
    "decoder_outputs = decoder_dense(decoder_outputs)\n",
    "decoder_model = Model( [decoder_inputs] + decoder_states_inputs, [decoder_outputs] + decoder_states)"
   ]
  },
  {
   "cell_type": "code",
   "execution_count": 36,
   "metadata": {},
   "outputs": [],
   "source": [
    "def decode_sequence(input_seq):\n",
    "    # генерируем состояние энкодера\n",
    "    states_value = encoder_model.predict(input_seq)\n",
    "\n",
    "    # вход декодера - последовательность из одного слова GO\n",
    "    output_w2v = w2v_a.wv['<GO>'].reshape([1,1,w2v_size])\n",
    "\n",
    "    # выходная последовательность\n",
    "    decoded_sentence = []\n",
    "    \n",
    "    for i in range(sent_len_a_max): \n",
    "        output_w2v, h, c = decoder_model.predict([output_w2v] + states_value)\n",
    "\n",
    "        # декодируем cлово\n",
    "        cc = output_w2v.reshape(w2v_size)\n",
    "        # cc = cc*a_fact\n",
    "        w = w2v_a.wv.similar_by_vector(cc)[0][0] \n",
    "        \n",
    "        # если очередное слово это EOS\n",
    "        if(w=='<EOS>'): break # то завершаем работу\n",
    "\n",
    "        decoded_sentence.append(w)\n",
    "\n",
    "        # обновляем состояние сети\n",
    "        states_value = [h, c]\n",
    "\n",
    "    return ' '.join(decoded_sentence)"
   ]
  },
  {
   "cell_type": "code",
   "execution_count": 37,
   "metadata": {},
   "outputs": [
    {
     "name": "stderr",
     "output_type": "stream",
     "text": [
      "/usr/lib/python3.7/site-packages/gensim/matutils.py:737: FutureWarning: Conversion of the second argument of issubdtype from `int` to `np.signedinteger` is deprecated. In future, it will be treated as `np.int64 == np.dtype(int).type`.\n",
      "  if np.issubdtype(vec.dtype, np.int):\n"
     ]
    },
    {
     "name": "stdout",
     "output_type": "stream",
     "text": [
      "И молоко купил?  ->  с <GO> нет ?\n",
      "Но она может и не прекратиться.  ->  с <GO> нет ?\n",
      "Это настолько известно, что даже скучно.  ->  с <GO> нет ?\n",
      "Приберем лучше, а то вон какой тут свинарник.  ->  с <GO> нет ?\n",
      "И в то же время естественно. Мы же не знали друг друга.  ->  с <GO> нет ? . <PAD> <PAD> <PAD> <PAD> <PAD> <PAD> <PAD> <PAD> <PAD> <PAD> <PAD> <PAD> <PAD> <PAD> <PAD> <PAD> <PAD> <PAD> <PAD> <PAD> <PAD> <PAD>\n",
      "Разговор будет долгий?  ->  с <GO> нет ?\n",
      "Ну? Вы же хозяин. Может, пригласите меня сесть за стол и откроете бутылку?  ->  с <GO> нет ? . <PAD> <PAD> <PAD> <PAD> <PAD> <PAD> <PAD> <PAD> <PAD> <PAD> <PAD> <PAD> <PAD> <PAD> <PAD> <PAD> <PAD> <PAD> <PAD> <PAD> <PAD> <PAD>\n",
      "ты опять можешь разориться. Так что лучше разделить имущество сейчас.  ->  с <GO> нет ? . <PAD> <PAD> <PAD> <PAD> <PAD> <PAD> <PAD> <PAD> <PAD> <PAD> <PAD> <PAD> <PAD> <PAD> <PAD> <PAD> <PAD> <PAD> <PAD> <PAD> <PAD> <PAD>\n",
      "Я скоро вернусь. Жди.  ->  с <GO> нет ?\n",
      "Ну, я пошел.  ->  с <GO> нет ?\n"
     ]
    }
   ],
   "source": [
    "ii = np.random.permutation(len(encoder_input_data))[:10]\n",
    "for seq_index in ii:\n",
    "    input_seq = encoder_input_data[seq_index: seq_index + 1]\n",
    "    decoded_sentence = decode_sequence(input_seq)\n",
    "    print( pair.iloc[seq_index]['Q'],' -> ', decoded_sentence )"
   ]
  },
  {
   "cell_type": "markdown",
   "metadata": {},
   "source": [
    "----"
   ]
  },
  {
   "cell_type": "code",
   "execution_count": 38,
   "metadata": {},
   "outputs": [],
   "source": [
    "# import matplotlib.pyplot as plt"
   ]
  },
  {
   "cell_type": "code",
   "execution_count": 39,
   "metadata": {},
   "outputs": [],
   "source": [
    "# history_dict = history.history\n",
    "# history_dict.keys()"
   ]
  },
  {
   "cell_type": "code",
   "execution_count": 40,
   "metadata": {},
   "outputs": [],
   "source": [
    "# # acc = history.history['acc']\n",
    "# #val_acc = history.history['val_acc']\n",
    "# loss = history.history['loss']\n",
    "# val_loss = history.history['val_loss']\n",
    "\n",
    "# epochs = range(1, len(loss) + 1)\n",
    "# plt.plot(epochs, loss, 'b', label='Training loss')\n",
    "# plt.plot(epochs, val_loss, 'r', label='Validation loss')\n",
    "# plt.title('Training and validation loss')\n",
    "# plt.xlabel('Epochs')\n",
    "# plt.ylabel('Loss')\n",
    "# plt.legend()\n",
    "\n",
    "# plt.show()"
   ]
  },
  {
   "cell_type": "code",
   "execution_count": 41,
   "metadata": {},
   "outputs": [],
   "source": [
    "# plt.clf()   # clear figure\n",
    "# acc_values = history_dict['acc']\n",
    "# val_acc_values = history_dict['val_acc']\n",
    "\n",
    "# plt.plot(epochs, acc, 'b', label='Training acc')\n",
    "# plt.plot(epochs, val_acc, 'r', label='Validation acc')\n",
    "# plt.title('Training and validation accuracy')\n",
    "# plt.xlabel('Epochs')\n",
    "# plt.ylabel('Accuracy')\n",
    "# plt.legend()\n",
    "\n",
    "# plt.show()"
   ]
  },
  {
   "cell_type": "code",
   "execution_count": null,
   "metadata": {},
   "outputs": [],
   "source": []
  },
  {
   "cell_type": "markdown",
   "metadata": {},
   "source": [
    "---"
   ]
  },
  {
   "cell_type": "code",
   "execution_count": 42,
   "metadata": {},
   "outputs": [],
   "source": [
    "# q_min = encoder_input_data.min()\n",
    "# q_max = encoder_input_data.max()\n",
    "# encoder_input_data = (encoder_input_data-q_min)/(q_max-q_min)\n",
    "\n",
    "# q_fact = np.max( [np.abs(encoder_input_data.max()), np.abs(encoder_input_data.min())] )\n",
    "# encoder_input_data = encoder_input_data/q_fact"
   ]
  },
  {
   "cell_type": "code",
   "execution_count": 43,
   "metadata": {},
   "outputs": [],
   "source": [
    "# encoder_input_data.min(),encoder_input_data.max()"
   ]
  },
  {
   "cell_type": "code",
   "execution_count": 44,
   "metadata": {},
   "outputs": [],
   "source": [
    "# a_min = decoder_input_data.min()\n",
    "# a_max = decoder_input_data.max()\n",
    "# decoder_input_data  = (decoder_input_data-a_min)/(a_max-a_min)\n",
    "# decoder_target_data = (decoder_target_data-a_min)/(a_max-a_min)\n",
    "\n",
    "# a_fact = np.max( [np.abs(decoder_input_data.max()), np.abs(decoder_input_data.min())] )\n",
    "# decoder_input_data  = decoder_input_data/a_fact\n",
    "# decoder_target_data = decoder_target_data/a_fact"
   ]
  },
  {
   "cell_type": "code",
   "execution_count": 45,
   "metadata": {},
   "outputs": [],
   "source": [
    "# decoder_target_data.min(),decoder_target_data.max()"
   ]
  }
 ],
 "metadata": {
  "kernelspec": {
   "display_name": "Python 3",
   "language": "python",
   "name": "python3"
  },
  "language_info": {
   "codemirror_mode": {
    "name": "ipython",
    "version": 3
   },
   "file_extension": ".py",
   "mimetype": "text/x-python",
   "name": "python",
   "nbconvert_exporter": "python",
   "pygments_lexer": "ipython3",
   "version": "3.7.3"
  },
  "toc": {
   "base_numbering": 1,
   "nav_menu": {},
   "number_sections": true,
   "sideBar": true,
   "skip_h1_title": false,
   "title_cell": "Table of Contents",
   "title_sidebar": "Contents",
   "toc_cell": false,
   "toc_position": {},
   "toc_section_display": true,
   "toc_window_display": true
  }
 },
 "nbformat": 4,
 "nbformat_minor": 2
}
