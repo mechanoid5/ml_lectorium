{
 "cells": [
  {
   "cell_type": "markdown",
   "metadata": {},
   "source": [
    "**автоматический переводчик на основе рекуррентных нейросетей seq2seq**\n",
    "\n",
    "кодируем слова word2vec\n",
    "\n",
    "Евгений Борисов <borisov.e@solarl.ru>"
   ]
  },
  {
   "cell_type": "markdown",
   "metadata": {},
   "source": [
    "\n",
    "----"
   ]
  },
  {
   "cell_type": "markdown",
   "metadata": {},
   "source": [
    "## Библиотеки"
   ]
  },
  {
   "cell_type": "code",
   "execution_count": 1,
   "metadata": {},
   "outputs": [],
   "source": [
    "import numpy as np\n",
    "import re\n",
    "import gzip\n",
    "\n",
    "import pandas as pd\n",
    "pd.options.display.max_colwidth = 200  \n"
   ]
  },
  {
   "cell_type": "code",
   "execution_count": 2,
   "metadata": {},
   "outputs": [],
   "source": [
    "def pp(d): return \"{:,.0f}\".format(d).replace(\",\", \" \")\n",
    "def ppr(d): print('записей:', pp(len(d)) )  "
   ]
  },
  {
   "cell_type": "markdown",
   "metadata": {},
   "source": [
    "## Учебные данные"
   ]
  },
  {
   "cell_type": "code",
   "execution_count": 3,
   "metadata": {},
   "outputs": [],
   "source": [
    "with gzip.open('../data/text/rus-eng/rus.txt.gz','rt',encoding='utf8') as f: \n",
    "    pair = pd.DataFrame([ p.split('\\t') for p in f.read().split('\\n') if p.strip() ])"
   ]
  },
  {
   "cell_type": "code",
   "execution_count": 4,
   "metadata": {},
   "outputs": [],
   "source": [
    "# with open('../data/text/pairs.txt','rt',encoding='utf8') as f: \n",
    "#     pair = pd.DataFrame([ p.split('%%') for p in f.read().split('\\n') if p.strip() ])"
   ]
  },
  {
   "cell_type": "code",
   "execution_count": 5,
   "metadata": {},
   "outputs": [],
   "source": [
    "pair.columns=['Q','A']\n",
    "pair['Q'] = pair['Q'].str.strip()\n",
    "pair['A'] = pair['A'].str.strip()"
   ]
  },
  {
   "cell_type": "code",
   "execution_count": 6,
   "metadata": {},
   "outputs": [
    {
     "name": "stdout",
     "output_type": "stream",
     "text": [
      "записей: 336 666\n"
     ]
    },
    {
     "data": {
      "text/html": [
       "<div>\n",
       "<style scoped>\n",
       "    .dataframe tbody tr th:only-of-type {\n",
       "        vertical-align: middle;\n",
       "    }\n",
       "\n",
       "    .dataframe tbody tr th {\n",
       "        vertical-align: top;\n",
       "    }\n",
       "\n",
       "    .dataframe thead th {\n",
       "        text-align: right;\n",
       "    }\n",
       "</style>\n",
       "<table border=\"1\" class=\"dataframe\">\n",
       "  <thead>\n",
       "    <tr style=\"text-align: right;\">\n",
       "      <th></th>\n",
       "      <th>Q</th>\n",
       "      <th>A</th>\n",
       "    </tr>\n",
       "  </thead>\n",
       "  <tbody>\n",
       "    <tr>\n",
       "      <th>90963</th>\n",
       "      <td>Tom doesn't know Mary.</td>\n",
       "      <td>Том не знаком с Мэри.</td>\n",
       "    </tr>\n",
       "    <tr>\n",
       "      <th>60445</th>\n",
       "      <td>I think I need help.</td>\n",
       "      <td>Думаю, мне нужна помощь.</td>\n",
       "    </tr>\n",
       "    <tr>\n",
       "      <th>8711</th>\n",
       "      <td>I hate coffee.</td>\n",
       "      <td>Ненавижу кофе.</td>\n",
       "    </tr>\n",
       "    <tr>\n",
       "      <th>83096</th>\n",
       "      <td>Can I give you a hand?</td>\n",
       "      <td>Я могу дать тебе руку?</td>\n",
       "    </tr>\n",
       "    <tr>\n",
       "      <th>263589</th>\n",
       "      <td>Tom didn't come to school yesterday.</td>\n",
       "      <td>Том вчера не пришел в школу.</td>\n",
       "    </tr>\n",
       "    <tr>\n",
       "      <th>87972</th>\n",
       "      <td>I've started bleeding.</td>\n",
       "      <td>У меня началось кровотечение.</td>\n",
       "    </tr>\n",
       "    <tr>\n",
       "      <th>322675</th>\n",
       "      <td>How did you know that Tom was the one who did that?</td>\n",
       "      <td>Откуда вы знали, что это Том сделал?</td>\n",
       "    </tr>\n",
       "    <tr>\n",
       "      <th>192440</th>\n",
       "      <td>How did you find out about us?</td>\n",
       "      <td>Как ты про нас узнал?</td>\n",
       "    </tr>\n",
       "    <tr>\n",
       "      <th>187971</th>\n",
       "      <td>Tom wants to be a lumberjack.</td>\n",
       "      <td>Том хочет быть лесорубом.</td>\n",
       "    </tr>\n",
       "  </tbody>\n",
       "</table>\n",
       "</div>"
      ],
      "text/plain": [
       "                                                          Q  \\\n",
       "90963                                Tom doesn't know Mary.   \n",
       "60445                                  I think I need help.   \n",
       "8711                                         I hate coffee.   \n",
       "83096                                Can I give you a hand?   \n",
       "263589                 Tom didn't come to school yesterday.   \n",
       "87972                                I've started bleeding.   \n",
       "322675  How did you know that Tom was the one who did that?   \n",
       "192440                       How did you find out about us?   \n",
       "187971                        Tom wants to be a lumberjack.   \n",
       "\n",
       "                                           A  \n",
       "90963                  Том не знаком с Мэри.  \n",
       "60445               Думаю, мне нужна помощь.  \n",
       "8711                          Ненавижу кофе.  \n",
       "83096                 Я могу дать тебе руку?  \n",
       "263589          Том вчера не пришел в школу.  \n",
       "87972          У меня началось кровотечение.  \n",
       "322675  Откуда вы знали, что это Том сделал?  \n",
       "192440                 Как ты про нас узнал?  \n",
       "187971             Том хочет быть лесорубом.  "
      ]
     },
     "execution_count": 6,
     "metadata": {},
     "output_type": "execute_result"
    }
   ],
   "source": [
    "ppr(pair)\n",
    "pair.sample(9)"
   ]
  },
  {
   "cell_type": "code",
   "execution_count": 7,
   "metadata": {},
   "outputs": [],
   "source": [
    "pair = pair.iloc[100000:110000]"
   ]
  },
  {
   "cell_type": "markdown",
   "metadata": {},
   "source": [
    "## Чистим тексты"
   ]
  },
  {
   "cell_type": "code",
   "execution_count": 8,
   "metadata": {},
   "outputs": [],
   "source": [
    "pair['Q_clean'] = pair['Q'].str.lower()\n",
    "pair['Q_clean'] = pair['Q_clean'].str.replace(r'([,.?!])', r' \\1 ')\n",
    "\n",
    "pair['A_clean'] = pair['A'].str.lower()\n",
    "pair['A_clean'] = pair['A_clean'].str.replace(r'([,.?!])', r' \\1 ')\n",
    "\n",
    "# pair['A_clean'] = pair['A_clean'].apply(lambda s: re.sub( r'(\\W)', ' \\1 ', s))\n",
    "# pair['A_clean'] = pair['A_clean'].apply(lambda s: re.sub( r'\\W', ' ', s))\n",
    "# pair['A_clean'] = pair['A_clean'].apply(lambda s: re.sub( r'\\b\\d+\\b', ' digit ', s)) "
   ]
  },
  {
   "cell_type": "code",
   "execution_count": 9,
   "metadata": {},
   "outputs": [],
   "source": [
    "# добавляем \"служебные\" слова - начало и конец последовательности\n",
    "# pair['Q_clean'] = pair['Q_clean'].str.split() + ['<START>']\n",
    "pair['Q_clean'] = ['<START>'] + pair['Q_clean'].str.split() + ['<EOS>']\n",
    "pair['A_clean'] = ['<GO>'] + pair['A_clean'].str.split() + ['<EOS>']"
   ]
  },
  {
   "cell_type": "code",
   "execution_count": 10,
   "metadata": {},
   "outputs": [
    {
     "data": {
      "text/html": [
       "<div>\n",
       "<style scoped>\n",
       "    .dataframe tbody tr th:only-of-type {\n",
       "        vertical-align: middle;\n",
       "    }\n",
       "\n",
       "    .dataframe tbody tr th {\n",
       "        vertical-align: top;\n",
       "    }\n",
       "\n",
       "    .dataframe thead th {\n",
       "        text-align: right;\n",
       "    }\n",
       "</style>\n",
       "<table border=\"1\" class=\"dataframe\">\n",
       "  <thead>\n",
       "    <tr style=\"text-align: right;\">\n",
       "      <th></th>\n",
       "      <th>Q_clean</th>\n",
       "      <th>A_clean</th>\n",
       "    </tr>\n",
       "  </thead>\n",
       "  <tbody>\n",
       "    <tr>\n",
       "      <th>105948</th>\n",
       "      <td>[&lt;START&gt;, we, have, run, out, of, gas, ., &lt;EOS&gt;]</td>\n",
       "      <td>[&lt;GO&gt;, у, нас, кончился, бензин, ., &lt;EOS&gt;]</td>\n",
       "    </tr>\n",
       "    <tr>\n",
       "      <th>105168</th>\n",
       "      <td>[&lt;START&gt;, tom, told, mary, a, secret, ., &lt;EOS&gt;]</td>\n",
       "      <td>[&lt;GO&gt;, том, поведал, мэри, секрет, ., &lt;EOS&gt;]</td>\n",
       "    </tr>\n",
       "    <tr>\n",
       "      <th>109026</th>\n",
       "      <td>[&lt;START&gt;, do, you, need, an, umbrella, ?, &lt;EOS&gt;]</td>\n",
       "      <td>[&lt;GO&gt;, вам, нужен, зонт, ?, &lt;EOS&gt;]</td>\n",
       "    </tr>\n",
       "    <tr>\n",
       "      <th>105345</th>\n",
       "      <td>[&lt;START&gt;, tom, wanted, you, to, know, ., &lt;EOS&gt;]</td>\n",
       "      <td>[&lt;GO&gt;, том, хотел, ,, чтобы, вы, узнали, ., &lt;EOS&gt;]</td>\n",
       "    </tr>\n",
       "    <tr>\n",
       "      <th>104445</th>\n",
       "      <td>[&lt;START&gt;, tom, is, your, son, ,, right, ?, &lt;EOS&gt;]</td>\n",
       "      <td>[&lt;GO&gt;, том, —, твой, сын, ,, верно, ?, &lt;EOS&gt;]</td>\n",
       "    </tr>\n",
       "    <tr>\n",
       "      <th>109393</th>\n",
       "      <td>[&lt;START&gt;, don't, tell, tom, and, mary, ., &lt;EOS&gt;]</td>\n",
       "      <td>[&lt;GO&gt;, не, говори, тому, и, мэри, ., &lt;EOS&gt;]</td>\n",
       "    </tr>\n",
       "    <tr>\n",
       "      <th>102966</th>\n",
       "      <td>[&lt;START&gt;, they're, both, unmarried, ., &lt;EOS&gt;]</td>\n",
       "      <td>[&lt;GO&gt;, они, обе, не, замужем, ., &lt;EOS&gt;]</td>\n",
       "    </tr>\n",
       "    <tr>\n",
       "      <th>109991</th>\n",
       "      <td>[&lt;START&gt;, he, pretended, to, be, sick, ., &lt;EOS&gt;]</td>\n",
       "      <td>[&lt;GO&gt;, он, притворился, больным, ., &lt;EOS&gt;]</td>\n",
       "    </tr>\n",
       "    <tr>\n",
       "      <th>106483</th>\n",
       "      <td>[&lt;START&gt;, what, do, you, plan, to, do, ?, &lt;EOS&gt;]</td>\n",
       "      <td>[&lt;GO&gt;, что, ты, планируешь, делать, ?, &lt;EOS&gt;]</td>\n",
       "    </tr>\n",
       "  </tbody>\n",
       "</table>\n",
       "</div>"
      ],
      "text/plain": [
       "                                                  Q_clean  \\\n",
       "105948   [<START>, we, have, run, out, of, gas, ., <EOS>]   \n",
       "105168    [<START>, tom, told, mary, a, secret, ., <EOS>]   \n",
       "109026   [<START>, do, you, need, an, umbrella, ?, <EOS>]   \n",
       "105345    [<START>, tom, wanted, you, to, know, ., <EOS>]   \n",
       "104445  [<START>, tom, is, your, son, ,, right, ?, <EOS>]   \n",
       "109393   [<START>, don't, tell, tom, and, mary, ., <EOS>]   \n",
       "102966      [<START>, they're, both, unmarried, ., <EOS>]   \n",
       "109991   [<START>, he, pretended, to, be, sick, ., <EOS>]   \n",
       "106483   [<START>, what, do, you, plan, to, do, ?, <EOS>]   \n",
       "\n",
       "                                                   A_clean  \n",
       "105948          [<GO>, у, нас, кончился, бензин, ., <EOS>]  \n",
       "105168        [<GO>, том, поведал, мэри, секрет, ., <EOS>]  \n",
       "109026                  [<GO>, вам, нужен, зонт, ?, <EOS>]  \n",
       "105345  [<GO>, том, хотел, ,, чтобы, вы, узнали, ., <EOS>]  \n",
       "104445       [<GO>, том, —, твой, сын, ,, верно, ?, <EOS>]  \n",
       "109393         [<GO>, не, говори, тому, и, мэри, ., <EOS>]  \n",
       "102966             [<GO>, они, обе, не, замужем, ., <EOS>]  \n",
       "109991          [<GO>, он, притворился, больным, ., <EOS>]  \n",
       "106483       [<GO>, что, ты, планируешь, делать, ?, <EOS>]  "
      ]
     },
     "execution_count": 10,
     "metadata": {},
     "output_type": "execute_result"
    }
   ],
   "source": [
    "pair[['Q_clean','A_clean']].sample(9)"
   ]
  },
  {
   "cell_type": "markdown",
   "metadata": {},
   "source": [
    "---"
   ]
  },
  {
   "cell_type": "code",
   "execution_count": 11,
   "metadata": {},
   "outputs": [],
   "source": [
    "# считаем количество слов\n",
    "pair['lenQ'] = pair['Q_clean'].str.len()\n",
    "pair['lenA'] = pair['A_clean'].str.len()\n",
    "# pair.describe()"
   ]
  },
  {
   "cell_type": "code",
   "execution_count": 12,
   "metadata": {},
   "outputs": [],
   "source": [
    "# # определяем максимальную длинну последовательности\n",
    "# pair['lenQ'].quantile(0.95),  pair['lenA'].quantile(0.95)"
   ]
  },
  {
   "cell_type": "code",
   "execution_count": 13,
   "metadata": {},
   "outputs": [],
   "source": [
    "sent_len_a_max = pair['lenA'].max()\n",
    "sent_len_q_max = pair['lenQ'].max()"
   ]
  },
  {
   "cell_type": "code",
   "execution_count": 14,
   "metadata": {},
   "outputs": [],
   "source": [
    "# выстраиваем входные последовательности в обратном порядке\n",
    "# и выравниваем длинну последовательностей,\n",
    "# дополняем короткие словом \"служебным\" словом,\n",
    "pad = ['<PAD>']*sent_len_q_max\n",
    "pair['Q_clean'] = pair['Q_clean'].apply( lambda t: pad[len(t):] + t )\n",
    "# pair['Q_clean'] = pair['Q_clean'].apply( lambda t: pad[len(t):] + list(reversed(t)) )\n",
    "# pair['Q_clean'] = pair['Q_clean'].apply( lambda t: t + pad[len(t):] )\n",
    "\n",
    "pad = ['<PAD>']*sent_len_a_max\n",
    "pair['A_clean'] = pair['A_clean'].apply( lambda t: t + pad[len(t):] )"
   ]
  },
  {
   "cell_type": "code",
   "execution_count": 15,
   "metadata": {},
   "outputs": [
    {
     "data": {
      "text/html": [
       "<div>\n",
       "<style scoped>\n",
       "    .dataframe tbody tr th:only-of-type {\n",
       "        vertical-align: middle;\n",
       "    }\n",
       "\n",
       "    .dataframe tbody tr th {\n",
       "        vertical-align: top;\n",
       "    }\n",
       "\n",
       "    .dataframe thead th {\n",
       "        text-align: right;\n",
       "    }\n",
       "</style>\n",
       "<table border=\"1\" class=\"dataframe\">\n",
       "  <thead>\n",
       "    <tr style=\"text-align: right;\">\n",
       "      <th></th>\n",
       "      <th>Q_clean</th>\n",
       "      <th>A_clean</th>\n",
       "    </tr>\n",
       "  </thead>\n",
       "  <tbody>\n",
       "    <tr>\n",
       "      <th>108044</th>\n",
       "      <td>[&lt;PAD&gt;, &lt;PAD&gt;, &lt;PAD&gt;, &lt;PAD&gt;, &lt;START&gt;, you're, very, attractive, ., &lt;EOS&gt;]</td>\n",
       "      <td>[&lt;GO&gt;, ты, очень, привлекательна, ., &lt;EOS&gt;, &lt;PAD&gt;, &lt;PAD&gt;, &lt;PAD&gt;, &lt;PAD&gt;, &lt;PAD&gt;, &lt;PAD&gt;, &lt;PAD&gt;]</td>\n",
       "    </tr>\n",
       "    <tr>\n",
       "      <th>105203</th>\n",
       "      <td>[&lt;PAD&gt;, &lt;START&gt;, tom, told, me, to, do, that, ., &lt;EOS&gt;]</td>\n",
       "      <td>[&lt;GO&gt;, том, сказал, мне, ,, чтобы, я, это, сделал, ., &lt;EOS&gt;, &lt;PAD&gt;, &lt;PAD&gt;]</td>\n",
       "    </tr>\n",
       "    <tr>\n",
       "      <th>101590</th>\n",
       "      <td>[&lt;PAD&gt;, &lt;PAD&gt;, &lt;START&gt;, of, course, i, was, joking, ., &lt;EOS&gt;]</td>\n",
       "      <td>[&lt;GO&gt;, конечно, ,, я, шутил, ., &lt;EOS&gt;, &lt;PAD&gt;, &lt;PAD&gt;, &lt;PAD&gt;, &lt;PAD&gt;, &lt;PAD&gt;, &lt;PAD&gt;]</td>\n",
       "    </tr>\n",
       "    <tr>\n",
       "      <th>103827</th>\n",
       "      <td>[&lt;PAD&gt;, &lt;START&gt;, tom, got, out, of, the, car, ., &lt;EOS&gt;]</td>\n",
       "      <td>[&lt;GO&gt;, том, вышел, из, машины, ., &lt;EOS&gt;, &lt;PAD&gt;, &lt;PAD&gt;, &lt;PAD&gt;, &lt;PAD&gt;, &lt;PAD&gt;, &lt;PAD&gt;]</td>\n",
       "    </tr>\n",
       "    <tr>\n",
       "      <th>101679</th>\n",
       "      <td>[&lt;PAD&gt;, &lt;PAD&gt;, &lt;PAD&gt;, &lt;START&gt;, please, leave, this, room, ., &lt;EOS&gt;]</td>\n",
       "      <td>[&lt;GO&gt;, выйди, из, этой, комнаты, ,, пожалуйста, ., &lt;EOS&gt;, &lt;PAD&gt;, &lt;PAD&gt;, &lt;PAD&gt;, &lt;PAD&gt;]</td>\n",
       "    </tr>\n",
       "    <tr>\n",
       "      <th>102451</th>\n",
       "      <td>[&lt;PAD&gt;, &lt;PAD&gt;, &lt;START&gt;, that's, why, i, came, here, ., &lt;EOS&gt;]</td>\n",
       "      <td>[&lt;GO&gt;, поэтому, я, сюда, и, пришёл, ., &lt;EOS&gt;, &lt;PAD&gt;, &lt;PAD&gt;, &lt;PAD&gt;, &lt;PAD&gt;, &lt;PAD&gt;]</td>\n",
       "    </tr>\n",
       "    <tr>\n",
       "      <th>107296</th>\n",
       "      <td>[&lt;PAD&gt;, &lt;START&gt;, why, is, tom, mad, at, mary, ?, &lt;EOS&gt;]</td>\n",
       "      <td>[&lt;GO&gt;, почему, том, злится, на, мэри, ?, &lt;EOS&gt;, &lt;PAD&gt;, &lt;PAD&gt;, &lt;PAD&gt;, &lt;PAD&gt;, &lt;PAD&gt;]</td>\n",
       "    </tr>\n",
       "    <tr>\n",
       "      <th>103486</th>\n",
       "      <td>[&lt;PAD&gt;, &lt;PAD&gt;, &lt;START&gt;, tom, can, read, and, write, ., &lt;EOS&gt;]</td>\n",
       "      <td>[&lt;GO&gt;, том, умеет, читать, и, писать, ., &lt;EOS&gt;, &lt;PAD&gt;, &lt;PAD&gt;, &lt;PAD&gt;, &lt;PAD&gt;, &lt;PAD&gt;]</td>\n",
       "    </tr>\n",
       "    <tr>\n",
       "      <th>106277</th>\n",
       "      <td>[&lt;PAD&gt;, &lt;PAD&gt;, &lt;PAD&gt;, &lt;PAD&gt;, &lt;START&gt;, we're, learning, chinese, ., &lt;EOS&gt;]</td>\n",
       "      <td>[&lt;GO&gt;, мы, учим, китайский, ., &lt;EOS&gt;, &lt;PAD&gt;, &lt;PAD&gt;, &lt;PAD&gt;, &lt;PAD&gt;, &lt;PAD&gt;, &lt;PAD&gt;, &lt;PAD&gt;]</td>\n",
       "    </tr>\n",
       "  </tbody>\n",
       "</table>\n",
       "</div>"
      ],
      "text/plain": [
       "                                                                          Q_clean  \\\n",
       "108044  [<PAD>, <PAD>, <PAD>, <PAD>, <START>, you're, very, attractive, ., <EOS>]   \n",
       "105203                    [<PAD>, <START>, tom, told, me, to, do, that, ., <EOS>]   \n",
       "101590              [<PAD>, <PAD>, <START>, of, course, i, was, joking, ., <EOS>]   \n",
       "103827                    [<PAD>, <START>, tom, got, out, of, the, car, ., <EOS>]   \n",
       "101679        [<PAD>, <PAD>, <PAD>, <START>, please, leave, this, room, ., <EOS>]   \n",
       "102451              [<PAD>, <PAD>, <START>, that's, why, i, came, here, ., <EOS>]   \n",
       "107296                    [<PAD>, <START>, why, is, tom, mad, at, mary, ?, <EOS>]   \n",
       "103486              [<PAD>, <PAD>, <START>, tom, can, read, and, write, ., <EOS>]   \n",
       "106277  [<PAD>, <PAD>, <PAD>, <PAD>, <START>, we're, learning, chinese, ., <EOS>]   \n",
       "\n",
       "                                                                                             A_clean  \n",
       "108044  [<GO>, ты, очень, привлекательна, ., <EOS>, <PAD>, <PAD>, <PAD>, <PAD>, <PAD>, <PAD>, <PAD>]  \n",
       "105203                    [<GO>, том, сказал, мне, ,, чтобы, я, это, сделал, ., <EOS>, <PAD>, <PAD>]  \n",
       "101590              [<GO>, конечно, ,, я, шутил, ., <EOS>, <PAD>, <PAD>, <PAD>, <PAD>, <PAD>, <PAD>]  \n",
       "103827            [<GO>, том, вышел, из, машины, ., <EOS>, <PAD>, <PAD>, <PAD>, <PAD>, <PAD>, <PAD>]  \n",
       "101679         [<GO>, выйди, из, этой, комнаты, ,, пожалуйста, ., <EOS>, <PAD>, <PAD>, <PAD>, <PAD>]  \n",
       "102451              [<GO>, поэтому, я, сюда, и, пришёл, ., <EOS>, <PAD>, <PAD>, <PAD>, <PAD>, <PAD>]  \n",
       "107296            [<GO>, почему, том, злится, на, мэри, ?, <EOS>, <PAD>, <PAD>, <PAD>, <PAD>, <PAD>]  \n",
       "103486            [<GO>, том, умеет, читать, и, писать, ., <EOS>, <PAD>, <PAD>, <PAD>, <PAD>, <PAD>]  \n",
       "106277        [<GO>, мы, учим, китайский, ., <EOS>, <PAD>, <PAD>, <PAD>, <PAD>, <PAD>, <PAD>, <PAD>]  "
      ]
     },
     "execution_count": 15,
     "metadata": {},
     "output_type": "execute_result"
    }
   ],
   "source": [
    "pair[['Q_clean','A_clean']].sample(9)"
   ]
  },
  {
   "cell_type": "markdown",
   "metadata": {},
   "source": [
    "## Кодируем тексты"
   ]
  },
  {
   "cell_type": "code",
   "execution_count": 16,
   "metadata": {},
   "outputs": [],
   "source": [
    "# data = pair['Q_clean'].values.tolist() + pair['A_clean'].values.tolist()"
   ]
  },
  {
   "cell_type": "code",
   "execution_count": 17,
   "metadata": {},
   "outputs": [
    {
     "name": "stdout",
     "output_type": "stream",
     "text": [
      "CPU times: user 1.01 s, sys: 34.3 ms, total: 1.05 s\n",
      "Wall time: 736 ms\n"
     ]
    }
   ],
   "source": [
    "%%time\n",
    "\n",
    "from gensim.models.word2vec import Word2Vec\n",
    "\n",
    "w2v_size = 128\n",
    "\n",
    "w2v_q = Word2Vec( pair['Q_clean'].values.tolist(), min_count=1, size=w2v_size, window=4, workers=4)\n",
    "w2v_a = Word2Vec( pair['A_clean'].values.tolist(), min_count=1, size=w2v_size, window=4, workers=4)"
   ]
  },
  {
   "cell_type": "code",
   "execution_count": 18,
   "metadata": {},
   "outputs": [],
   "source": [
    "# w2v_q_vocab = sorted([w for w in w2v_q.wv.vocab])\n",
    "# ppr(w2v_q_vocab)\n",
    "# w2v_a_vocab = sorted([w for w in w2v_a.wv.vocab])\n",
    "# ppr(w2v_a_vocab)"
   ]
  },
  {
   "cell_type": "code",
   "execution_count": 19,
   "metadata": {},
   "outputs": [],
   "source": [
    "# ii = np.random.permutation(len(w2v_q_vocab))[:10]\n",
    "# for i in ii:\n",
    "#     w = w2v_q_vocab[i]\n",
    "#     ww = [ v[0] for v in w2v_q.wv.most_similar(w, topn=5) ]\n",
    "#     print( w,':',ww )"
   ]
  },
  {
   "cell_type": "code",
   "execution_count": 20,
   "metadata": {},
   "outputs": [],
   "source": [
    "# ii = np.random.permutation(len(w2v_a_vocab))[:10]\n",
    "# for i in ii:\n",
    "#     w = w2v_a_vocab[i]\n",
    "#     ww = [ v[0] for v in w2v_a.wv.most_similar(w, topn=5) ]\n",
    "#     print( w,':',ww )"
   ]
  },
  {
   "cell_type": "markdown",
   "metadata": {},
   "source": [
    "---"
   ]
  },
  {
   "cell_type": "code",
   "execution_count": 21,
   "metadata": {},
   "outputs": [],
   "source": [
    "# c = w2v_a.wv['<GO>']\n",
    "# w2v_a.wv.similar_by_vector(c)[0][0] \n",
    "# c.min(), c.max()"
   ]
  },
  {
   "cell_type": "markdown",
   "metadata": {},
   "source": [
    "---"
   ]
  },
  {
   "cell_type": "code",
   "execution_count": 22,
   "metadata": {},
   "outputs": [],
   "source": [
    "pair['Q_code'] = pair['Q_clean'].apply(lambda t: [ w2v_q.wv.get_vector(w) for w in t ] )\n",
    "pair['A_code'] = pair['A_clean'].apply(lambda t: [ w2v_a.wv.get_vector(w) for w in t ] )"
   ]
  },
  {
   "cell_type": "code",
   "execution_count": 23,
   "metadata": {},
   "outputs": [],
   "source": [
    "# pair[['Q_code','A_code']].sample(3)"
   ]
  },
  {
   "cell_type": "markdown",
   "metadata": {},
   "source": [
    "\n",
    "-----"
   ]
  },
  {
   "cell_type": "code",
   "execution_count": 24,
   "metadata": {},
   "outputs": [],
   "source": [
    "# ppr(pair)"
   ]
  },
  {
   "cell_type": "code",
   "execution_count": 25,
   "metadata": {},
   "outputs": [],
   "source": [
    "# pair = pair.sample(1000)\n",
    "# pair = pair.sample(283800)\n",
    "# pair = pair.sample(600)"
   ]
  },
  {
   "cell_type": "code",
   "execution_count": 26,
   "metadata": {},
   "outputs": [
    {
     "data": {
      "text/plain": [
       "((10000, 10, 128), (10000, 12, 128), (10000, 12, 128))"
      ]
     },
     "execution_count": 26,
     "metadata": {},
     "output_type": "execute_result"
    }
   ],
   "source": [
    "encoder_input_data = np.stack( pair['Q_code'].values ).astype(np.float32)\n",
    "\n",
    "decoder_input_data = np.stack( pair['A_code'].values )[:,:-1,:].astype(np.float32)\n",
    "decoder_target_data = np.stack( pair['A_code'].values )[:,1:,:].astype(np.float32)\n",
    "\n",
    "encoder_input_data.shape, decoder_input_data.shape, decoder_target_data.shape"
   ]
  },
  {
   "cell_type": "code",
   "execution_count": 27,
   "metadata": {},
   "outputs": [],
   "source": [
    "# np.abs(encoder_input_data).max(), np.abs(decoder_input_data).max()"
   ]
  },
  {
   "cell_type": "markdown",
   "metadata": {},
   "source": [
    "## Строим нейросеть"
   ]
  },
  {
   "cell_type": "code",
   "execution_count": 28,
   "metadata": {},
   "outputs": [],
   "source": [
    "from tensorflow.keras.models import Model\n",
    "from tensorflow.keras.layers import Input\n",
    "from tensorflow.keras.layers import LSTM\n",
    "from tensorflow.keras.layers import Dense"
   ]
  },
  {
   "cell_type": "code",
   "execution_count": 29,
   "metadata": {},
   "outputs": [],
   "source": [
    "latent_dim = 256  # размер сети"
   ]
  },
  {
   "cell_type": "code",
   "execution_count": 30,
   "metadata": {},
   "outputs": [
    {
     "name": "stdout",
     "output_type": "stream",
     "text": [
      "WARNING:tensorflow:From /usr/lib/python3.7/site-packages/tensorflow/python/ops/resource_variable_ops.py:435: colocate_with (from tensorflow.python.framework.ops) is deprecated and will be removed in a future version.\n",
      "Instructions for updating:\n",
      "Colocations handled automatically by placer.\n"
     ]
    }
   ],
   "source": [
    "encoder_inputs = Input(shape=(None, w2v_size))\n",
    "encoder = LSTM(latent_dim, return_state=True)\n",
    "encoder_outputs, state_h, state_c = encoder(encoder_inputs)\n",
    "encoder_states = [state_h, state_c]"
   ]
  },
  {
   "cell_type": "code",
   "execution_count": 31,
   "metadata": {},
   "outputs": [
    {
     "name": "stderr",
     "output_type": "stream",
     "text": [
      "Using TensorFlow backend.\n"
     ]
    }
   ],
   "source": [
    "from keras import backend as K\n",
    "def custom_activation(x):  return (K.tanh(x)*3.)\n",
    "# model.add(Dense(32 , activation=custom_activation))"
   ]
  },
  {
   "cell_type": "code",
   "execution_count": 32,
   "metadata": {},
   "outputs": [],
   "source": [
    "decoder_inputs = Input(shape=(None, w2v_size))\n",
    "decoder_lstm = LSTM(latent_dim, return_sequences=True, return_state=True)\n",
    "decoder_outputs, _, _ = decoder_lstm(decoder_inputs,initial_state=encoder_states)\n",
    "\n",
    "# decoder_dense = Dense(w2v_size)\n",
    "# decoder_dense = Dense(w2v_size, activation='softmax')\n",
    "# decoder_dense = Dense(w2v_size, activation='tanh')\n",
    "# decoder_dense = Dense(w2v_size, activation='sigmoid')\n",
    "decoder_dense = Dense(w2v_size, activation=custom_activation)\n",
    "\n",
    "decoder_outputs = decoder_dense(decoder_outputs)"
   ]
  },
  {
   "cell_type": "code",
   "execution_count": 33,
   "metadata": {},
   "outputs": [],
   "source": [
    "# Define the model that will turn\n",
    "# `encoder_input_data` & `decoder_input_data` into `decoder_target_data`\n",
    "model = Model([encoder_inputs, decoder_inputs], decoder_outputs)"
   ]
  },
  {
   "cell_type": "code",
   "execution_count": 34,
   "metadata": {},
   "outputs": [
    {
     "name": "stdout",
     "output_type": "stream",
     "text": [
      "__________________________________________________________________________________________________\n",
      "Layer (type)                    Output Shape         Param #     Connected to                     \n",
      "==================================================================================================\n",
      "input_1 (InputLayer)            (None, None, 128)    0                                            \n",
      "__________________________________________________________________________________________________\n",
      "input_2 (InputLayer)            (None, None, 128)    0                                            \n",
      "__________________________________________________________________________________________________\n",
      "lstm (LSTM)                     [(None, 256), (None, 394240      input_1[0][0]                    \n",
      "__________________________________________________________________________________________________\n",
      "lstm_1 (LSTM)                   [(None, None, 256),  394240      input_2[0][0]                    \n",
      "                                                                 lstm[0][1]                       \n",
      "                                                                 lstm[0][2]                       \n",
      "__________________________________________________________________________________________________\n",
      "dense (Dense)                   (None, None, 128)    32896       lstm_1[0][0]                     \n",
      "==================================================================================================\n",
      "Total params: 821,376\n",
      "Trainable params: 821,376\n",
      "Non-trainable params: 0\n",
      "__________________________________________________________________________________________________\n"
     ]
    }
   ],
   "source": [
    "model.summary()"
   ]
  },
  {
   "cell_type": "code",
   "execution_count": 46,
   "metadata": {},
   "outputs": [],
   "source": [
    "# model.compile(optimizer='rmsprop', loss='categorical_crossentropy')\n",
    "model.compile(loss='mse', optimizer='rmsprop')\n",
    "# model.compile(loss='mse', optimizer='adam')\n",
    "# model.compile(loss='mse', optimizer='sgd')"
   ]
  },
  {
   "cell_type": "code",
   "execution_count": 51,
   "metadata": {},
   "outputs": [
    {
     "name": "stdout",
     "output_type": "stream",
     "text": [
      "Train on 9000 samples, validate on 1000 samples\n",
      "Epoch 1/10\n",
      "9000/9000 [==============================] - 16s 2ms/sample - loss: 0.0102 - val_loss: 0.0111\n",
      "Epoch 2/10\n",
      "9000/9000 [==============================] - 17s 2ms/sample - loss: 0.0100 - val_loss: 0.0111\n",
      "Epoch 3/10\n",
      "9000/9000 [==============================] - 17s 2ms/sample - loss: 0.0099 - val_loss: 0.0108\n",
      "Epoch 4/10\n",
      "9000/9000 [==============================] - 17s 2ms/sample - loss: 0.0097 - val_loss: 0.0107\n",
      "Epoch 5/10\n",
      "9000/9000 [==============================] - 16s 2ms/sample - loss: 0.0095 - val_loss: 0.0108\n",
      "Epoch 6/10\n",
      "9000/9000 [==============================] - 17s 2ms/sample - loss: 0.0094 - val_loss: 0.0112\n",
      "Epoch 7/10\n",
      "9000/9000 [==============================] - 16s 2ms/sample - loss: 0.0092 - val_loss: 0.0107\n",
      "Epoch 8/10\n",
      "9000/9000 [==============================] - 17s 2ms/sample - loss: 0.0091 - val_loss: 0.0112\n",
      "Epoch 9/10\n",
      "9000/9000 [==============================] - 17s 2ms/sample - loss: 0.0089 - val_loss: 0.0112\n",
      "Epoch 10/10\n",
      "9000/9000 [==============================] - 17s 2ms/sample - loss: 0.0088 - val_loss: 0.0112\n",
      "CPU times: user 1min 51s, sys: 38.6 s, total: 2min 30s\n",
      "Wall time: 2min 45s\n"
     ]
    }
   ],
   "source": [
    "%%time \n",
    "\n",
    "history = model.fit([encoder_input_data, decoder_input_data], decoder_target_data,\n",
    "          batch_size=50,\n",
    "          epochs=10,\n",
    "          validation_split=0.1\n",
    "        ) "
   ]
  },
  {
   "cell_type": "markdown",
   "metadata": {},
   "source": [
    "## Проверяем результат"
   ]
  },
  {
   "cell_type": "code",
   "execution_count": 52,
   "metadata": {},
   "outputs": [],
   "source": [
    "encoder_model = Model(encoder_inputs, encoder_states)\n",
    "\n",
    "decoder_state_input_h = Input(shape=(latent_dim,))\n",
    "decoder_state_input_c = Input(shape=(latent_dim,))\n",
    "decoder_states_inputs = [decoder_state_input_h, decoder_state_input_c]\n",
    "decoder_outputs, state_h, state_c = decoder_lstm(decoder_inputs, initial_state=decoder_states_inputs)\n",
    "decoder_states = [state_h, state_c]\n",
    "decoder_outputs = decoder_dense(decoder_outputs)\n",
    "decoder_model = Model( [decoder_inputs] + decoder_states_inputs, [decoder_outputs] + decoder_states)"
   ]
  },
  {
   "cell_type": "code",
   "execution_count": 53,
   "metadata": {},
   "outputs": [],
   "source": [
    "def decode_sequence(input_seq):\n",
    "    # генерируем состояние энкодера\n",
    "    states_value = encoder_model.predict(input_seq)\n",
    "\n",
    "    # вход декодера - последовательность из одного слова GO\n",
    "    output_w2v = w2v_a.wv['<GO>'].reshape([1,1,w2v_size])\n",
    "\n",
    "    # выходная последовательность\n",
    "    decoded_sentence = []\n",
    "    \n",
    "    for i in range(sent_len_a_max): \n",
    "        output_w2v, h, c = decoder_model.predict([output_w2v] + states_value)\n",
    "\n",
    "        # декодируем cлово\n",
    "        cc = output_w2v.reshape(w2v_size)\n",
    "        w = w2v_a.wv.similar_by_vector(cc)[0][0] \n",
    "        \n",
    "        # если очередное слово это EOS\n",
    "        if(w=='<EOS>'): break # то завершаем работу\n",
    "\n",
    "        decoded_sentence.append(w)\n",
    "       \n",
    "        states_value = [h,c] # обновляем состояние сети\n",
    "\n",
    "    return ' '.join(decoded_sentence)"
   ]
  },
  {
   "cell_type": "code",
   "execution_count": 54,
   "metadata": {},
   "outputs": [
    {
     "name": "stdout",
     "output_type": "stream",
     "text": [
      "Tom applied for asylum.  ->  том говорит мне , .\n",
      "Please turn off the TV.  ->  она хотите мне хотите быть ! важно бостоне .\n",
      "Don't give up so easily.  ->  ты ему где как ?\n",
      "Tom and I aren't fools.  ->  том хочешь сделал мне хотите победит .\n",
      "Everybody wanted to eat.  ->  он бы мне сделал сделал мэри !\n",
      "Read the article again.  ->  хочешь хотите , сделал сделал шляпу предложение важно .\n",
      "There's a storm coming.  ->  ему всегда сказал сделал\n",
      "I'm glad you said that.  ->  я говорит , пожалуйста так здесь ! рождения ?\n",
      "What are you afraid of?  ->  должен ты мне хочет ? важно бостоне .\n",
      "Aren't these your books?  ->  хочешь просто мне победит ? важно <PAD> .\n"
     ]
    }
   ],
   "source": [
    "ii = np.random.permutation(len(encoder_input_data))[:10]\n",
    "for seq_index in ii:\n",
    "    input_seq = encoder_input_data[seq_index: seq_index + 1]\n",
    "    decoded_sentence = decode_sequence(input_seq)\n",
    "    print( pair.iloc[seq_index]['Q'],' -> ', decoded_sentence )"
   ]
  },
  {
   "cell_type": "markdown",
   "metadata": {},
   "source": [
    "----"
   ]
  },
  {
   "cell_type": "code",
   "execution_count": 55,
   "metadata": {},
   "outputs": [],
   "source": [
    "import matplotlib.pyplot as plt"
   ]
  },
  {
   "cell_type": "code",
   "execution_count": 56,
   "metadata": {},
   "outputs": [
    {
     "data": {
      "text/plain": [
       "dict_keys(['loss', 'val_loss'])"
      ]
     },
     "execution_count": 56,
     "metadata": {},
     "output_type": "execute_result"
    }
   ],
   "source": [
    "history_dict = history.history\n",
    "history_dict.keys()"
   ]
  },
  {
   "cell_type": "code",
   "execution_count": 57,
   "metadata": {},
   "outputs": [
    {
     "data": {
      "image/png": "[encoded data removed]",
      "text/plain": [
       "<Figure size 432x288 with 1 Axes>"
      ]
     },
     "metadata": {
      "needs_background": "light"
     },
     "output_type": "display_data"
    }
   ],
   "source": [
    "# acc = history.history['acc']\n",
    "#val_acc = history.history['val_acc']\n",
    "loss = history.history['loss']\n",
    "val_loss = history.history['val_loss']\n",
    "\n",
    "epochs = range(1, len(loss) + 1)\n",
    "plt.plot(epochs, loss, 'b', label='Training loss')\n",
    "plt.plot(epochs, val_loss, 'r', label='Validation loss')\n",
    "plt.title('Training and validation loss')\n",
    "plt.xlabel('Epochs')\n",
    "plt.ylabel('Loss')\n",
    "plt.legend()\n",
    "\n",
    "plt.show()"
   ]
  },
  {
   "cell_type": "code",
   "execution_count": 43,
   "metadata": {},
   "outputs": [],
   "source": [
    "# plt.clf()   # clear figure\n",
    "# acc_values = history_dict['acc']\n",
    "# val_acc_values = history_dict['val_acc']\n",
    "\n",
    "# plt.plot(epochs, acc, 'b', label='Training acc')\n",
    "# plt.plot(epochs, val_acc, 'r', label='Validation acc')\n",
    "# plt.title('Training and validation accuracy')\n",
    "# plt.xlabel('Epochs')\n",
    "# plt.ylabel('Accuracy')\n",
    "# plt.legend()\n",
    "\n",
    "# plt.show()"
   ]
  },
  {
   "cell_type": "markdown",
   "metadata": {},
   "source": [
    "---"
   ]
  },
  {
   "cell_type": "code",
   "execution_count": 44,
   "metadata": {},
   "outputs": [],
   "source": [
    "import tensorflow as tf\n",
    "from tensorflow import keras\n",
    "from tensorflow.python.client import device_lib"
   ]
  },
  {
   "cell_type": "code",
   "execution_count": 45,
   "metadata": {},
   "outputs": [
    {
     "name": "stdout",
     "output_type": "stream",
     "text": [
      "tensorflow: 1.13.1\n",
      "keras: 2.2.4-tf\n",
      "GPU devices:\n",
      "   [['/device:GPU:0', 'device: 0, name: GeForce GT 730, pci bus id: 0000:01:00.0, compute capability: 3.5']]\n",
      "default GPU device: /device:GPU:0\n"
     ]
    }
   ],
   "source": [
    "print('tensorflow:', tf.__version__)\n",
    "print('keras:', keras.__version__)\n",
    "\n",
    "if tf.test.is_built_with_cuda():\n",
    "    print('GPU devices:\\n  ',\n",
    "        [ [x.name, x.physical_device_desc] \n",
    "          for x in device_lib.list_local_devices() \n",
    "          if x.device_type == 'GPU' ]\n",
    "    )\n",
    "    print('default GPU device:', tf.test.gpu_device_name() )\n",
    "\n",
    "else:\n",
    "    print('no GPU device found')\n",
    "    "
   ]
  }
 ],
 "metadata": {
  "kernelspec": {
   "display_name": "Python 3",
   "language": "python",
   "name": "python3"
  },
  "language_info": {
   "codemirror_mode": {
    "name": "ipython",
    "version": 3
   },
   "file_extension": ".py",
   "mimetype": "text/x-python",
   "name": "python",
   "nbconvert_exporter": "python",
   "pygments_lexer": "ipython3",
   "version": "3.7.3"
  },
  "toc": {
   "base_numbering": 1,
   "nav_menu": {},
   "number_sections": true,
   "sideBar": true,
   "skip_h1_title": false,
   "title_cell": "Table of Contents",
   "title_sidebar": "Contents",
   "toc_cell": false,
   "toc_position": {},
   "toc_section_display": true,
   "toc_window_display": true
  }
 },
 "nbformat": 4,
 "nbformat_minor": 2
}
