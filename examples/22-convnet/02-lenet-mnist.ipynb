{
 "cells": [
  {
   "cell_type": "markdown",
   "metadata": {},
   "source": [
    "**классификатор изображений (цифры MNIST) LeNet**\n",
    "\n",
    "Евгений Борисов borisov.e@solarl.ru"
   ]
  },
  {
   "cell_type": "markdown",
   "metadata": {},
   "source": [
    "## Библиотеки"
   ]
  },
  {
   "cell_type": "code",
   "execution_count": 1,
   "metadata": {},
   "outputs": [],
   "source": [
    "import numpy as np\n",
    "import matplotlib.pyplot as plt"
   ]
  },
  {
   "cell_type": "code",
   "execution_count": 2,
   "metadata": {},
   "outputs": [],
   "source": [
    "from tensorflow.keras.models import Sequential\n",
    "from tensorflow.keras.layers import Convolution2D \n",
    "from tensorflow.keras.layers import MaxPooling2D\n",
    "from tensorflow.keras.layers import Activation\n",
    "from tensorflow.keras.layers import Flatten\n",
    "from tensorflow.keras.layers import Dense\n",
    "from tensorflow.keras.layers import Dropout\n",
    "\n",
    "from tensorflow.keras.datasets import mnist\n",
    "from tensorflow.keras import utils "
   ]
  },
  {
   "cell_type": "code",
   "execution_count": 3,
   "metadata": {},
   "outputs": [],
   "source": [
    "np.random.seed(1671)"
   ]
  },
  {
   "cell_type": "markdown",
   "metadata": {},
   "source": [
    "## Данные"
   ]
  },
  {
   "cell_type": "code",
   "execution_count": 4,
   "metadata": {},
   "outputs": [],
   "source": [
    "# data: shuffled and split between train and test sets\n",
    "(X_train, y_train), (X_test, y_test) = mnist.load_data()"
   ]
  },
  {
   "cell_type": "code",
   "execution_count": 5,
   "metadata": {},
   "outputs": [
    {
     "data": {
      "text/plain": [
       "((60000, 28, 28), (60000,), (10000, 28, 28), (10000,))"
      ]
     },
     "execution_count": 5,
     "metadata": {},
     "output_type": "execute_result"
    }
   ],
   "source": [
    "X_train.shape, y_train.shape, X_test.shape, y_test.shape"
   ]
  },
  {
   "cell_type": "code",
   "execution_count": 6,
   "metadata": {},
   "outputs": [
    {
     "data": {
      "text/plain": [
       "10"
      ]
     },
     "execution_count": 6,
     "metadata": {},
     "output_type": "execute_result"
    }
   ],
   "source": [
    "NB_CLASSES = len(set(y_train))\n",
    "NB_CLASSES"
   ]
  },
  {
   "cell_type": "code",
   "execution_count": 7,
   "metadata": {},
   "outputs": [],
   "source": [
    "# # tensorflow\n",
    "# from tensorflow.keras import backend as K\n",
    "# K.set_image_dim_ordering(\"th\")"
   ]
  },
  {
   "cell_type": "code",
   "execution_count": 8,
   "metadata": {},
   "outputs": [],
   "source": [
    "# consider them as float and normalize\n",
    "\n",
    "X_train = X_train / 255.0\n",
    "X_test  = X_test  / 255.0\n",
    "\n",
    "X_train = X_train[:, :, :, np.newaxis].astype('float32')\n",
    "X_test = X_test[:, :, :, np.newaxis].astype('float32')"
   ]
  },
  {
   "cell_type": "code",
   "execution_count": 9,
   "metadata": {},
   "outputs": [],
   "source": [
    "# convert class vectors to binary class matrices\n",
    "y_train = utils.to_categorical(y_train, NB_CLASSES)\n",
    "y_test = utils.to_categorical(y_test, NB_CLASSES)"
   ]
  },
  {
   "cell_type": "code",
   "execution_count": 10,
   "metadata": {},
   "outputs": [
    {
     "data": {
      "text/plain": [
       "((60000, 28, 28, 1), (60000, 10), (10000, 28, 28, 1), (10000, 10))"
      ]
     },
     "execution_count": 10,
     "metadata": {},
     "output_type": "execute_result"
    }
   ],
   "source": [
    "X_train.shape, y_train.shape, X_test.shape, y_test.shape"
   ]
  },
  {
   "cell_type": "code",
   "execution_count": 11,
   "metadata": {},
   "outputs": [],
   "source": [
    "IMG_ROWS, IMG_COLS = 28, 28 # input image dimensions\n",
    "NB_CLASSES = 10  # number of outputs = number of digits\n",
    "INPUT_SHAPE = (IMG_ROWS,IMG_COLS,1)"
   ]
  },
  {
   "cell_type": "markdown",
   "metadata": {},
   "source": [
    "## Модель"
   ]
  },
  {
   "cell_type": "code",
   "execution_count": 12,
   "metadata": {},
   "outputs": [
    {
     "name": "stdout",
     "output_type": "stream",
     "text": [
      "WARNING:tensorflow:From /usr/lib/python3.7/site-packages/tensorflow/python/ops/resource_variable_ops.py:435: colocate_with (from tensorflow.python.framework.ops) is deprecated and will be removed in a future version.\n",
      "Instructions for updating:\n",
      "Colocations handled automatically by placer.\n",
      "WARNING:tensorflow:From /usr/lib/python3.7/site-packages/tensorflow/python/keras/layers/core.py:143: calling dropout (from tensorflow.python.ops.nn_ops) with keep_prob is deprecated and will be removed in a future version.\n",
      "Instructions for updating:\n",
      "Please use `rate` instead of `keep_prob`. Rate should be set to `rate = 1 - keep_prob`.\n"
     ]
    }
   ],
   "source": [
    "# initialize the optimizer and model\n",
    "# model = LeNet.build(input_shape=INPUT_SHAPE, classes=NB_CLASSES)\n",
    "\n",
    "model = Sequential()\n",
    "# CONV => RELU => POOL\n",
    "model.add(Convolution2D(20, kernel_size=5, padding=\"same\", input_shape=INPUT_SHAPE))\n",
    "model.add(Activation(\"relu\"))\n",
    "model.add(MaxPooling2D(pool_size=(2, 2), strides=(2, 2)))\n",
    "model.add(Dropout(rate=0.7))\n",
    "# CONV => RELU => POOL\n",
    "model.add(Convolution2D(50, kernel_size=5, padding=\"same\"))\n",
    "model.add(Activation(\"relu\"))\n",
    "model.add(MaxPooling2D(pool_size=(2, 2), strides=(2, 2)))\n",
    "model.add(Dropout(rate=0.7))\n",
    "# Flatten => RELU layers\n",
    "model.add(Flatten())\n",
    "model.add(Dense(500))\n",
    "model.add(Activation(\"relu\"))\n",
    "model.add(Dropout(rate=0.7))\n",
    "# a softmax classifier\n",
    "model.add(Dense(NB_CLASSES))\n",
    "model.add(Activation(\"softmax\"))"
   ]
  },
  {
   "cell_type": "code",
   "execution_count": 13,
   "metadata": {},
   "outputs": [
    {
     "name": "stdout",
     "output_type": "stream",
     "text": [
      "_________________________________________________________________\n",
      "Layer (type)                 Output Shape              Param #   \n",
      "=================================================================\n",
      "conv2d (Conv2D)              (None, 28, 28, 20)        520       \n",
      "_________________________________________________________________\n",
      "activation (Activation)      (None, 28, 28, 20)        0         \n",
      "_________________________________________________________________\n",
      "max_pooling2d (MaxPooling2D) (None, 14, 14, 20)        0         \n",
      "_________________________________________________________________\n",
      "dropout (Dropout)            (None, 14, 14, 20)        0         \n",
      "_________________________________________________________________\n",
      "conv2d_1 (Conv2D)            (None, 14, 14, 50)        25050     \n",
      "_________________________________________________________________\n",
      "activation_1 (Activation)    (None, 14, 14, 50)        0         \n",
      "_________________________________________________________________\n",
      "max_pooling2d_1 (MaxPooling2 (None, 7, 7, 50)          0         \n",
      "_________________________________________________________________\n",
      "dropout_1 (Dropout)          (None, 7, 7, 50)          0         \n",
      "_________________________________________________________________\n",
      "flatten (Flatten)            (None, 2450)              0         \n",
      "_________________________________________________________________\n",
      "dense (Dense)                (None, 500)               1225500   \n",
      "_________________________________________________________________\n",
      "activation_2 (Activation)    (None, 500)               0         \n",
      "_________________________________________________________________\n",
      "dropout_2 (Dropout)          (None, 500)               0         \n",
      "_________________________________________________________________\n",
      "dense_1 (Dense)              (None, 10)                5010      \n",
      "_________________________________________________________________\n",
      "activation_3 (Activation)    (None, 10)                0         \n",
      "=================================================================\n",
      "Total params: 1,256,080\n",
      "Trainable params: 1,256,080\n",
      "Non-trainable params: 0\n",
      "_________________________________________________________________\n"
     ]
    }
   ],
   "source": [
    "model.summary()"
   ]
  },
  {
   "cell_type": "code",
   "execution_count": 14,
   "metadata": {},
   "outputs": [],
   "source": [
    "# model.compile(loss=\"categorical_crossentropy\", optimizer='rmsprop',metrics=[\"accuracy\"])\n",
    "model.compile(loss=\"categorical_crossentropy\", optimizer='sgd',metrics=[\"accuracy\"])"
   ]
  },
  {
   "cell_type": "markdown",
   "metadata": {},
   "source": [
    "## Обучение"
   ]
  },
  {
   "cell_type": "code",
   "execution_count": 15,
   "metadata": {},
   "outputs": [],
   "source": [
    "# network and training\n",
    "NB_EPOCH = 100\n",
    "BATCH_SIZE = 128## Обучени\n",
    "VERBOSE = 1\n",
    "VALIDATION_SPLIT=0.2"
   ]
  },
  {
   "cell_type": "code",
   "execution_count": 16,
   "metadata": {},
   "outputs": [
    {
     "name": "stdout",
     "output_type": "stream",
     "text": [
      "Train on 48000 samples, validate on 12000 samples\n",
      "WARNING:tensorflow:From /usr/lib/python3.7/site-packages/tensorflow/python/ops/math_ops.py:3066: to_int32 (from tensorflow.python.ops.math_ops) is deprecated and will be removed in a future version.\n",
      "Instructions for updating:\n",
      "Use tf.cast instead.\n",
      "Epoch 1/100\n",
      "48000/48000 [==============================] - 27s 554us/sample - loss: 2.2756 - acc: 0.1440 - val_loss: 2.1845 - val_acc: 0.7097\n",
      "Epoch 2/100\n",
      "48000/48000 [==============================] - 26s 542us/sample - loss: 1.8677 - acc: 0.3483 - val_loss: 1.1764 - val_acc: 0.8245\n",
      "Epoch 3/100\n",
      "48000/48000 [==============================] - 26s 538us/sample - loss: 1.1785 - acc: 0.6199 - val_loss: 0.6322 - val_acc: 0.8777\n",
      "Epoch 4/100\n",
      "48000/48000 [==============================] - 26s 543us/sample - loss: 0.8680 - acc: 0.7240 - val_loss: 0.4257 - val_acc: 0.9056\n",
      "Epoch 5/100\n",
      "48000/48000 [==============================] - 26s 538us/sample - loss: 0.7011 - acc: 0.7773 - val_loss: 0.3342 - val_acc: 0.9244\n",
      "Epoch 6/100\n",
      "48000/48000 [==============================] - 26s 538us/sample - loss: 0.6049 - acc: 0.8078 - val_loss: 0.2783 - val_acc: 0.9345\n",
      "Epoch 7/100\n",
      "48000/48000 [==============================] - 26s 538us/sample - loss: 0.5335 - acc: 0.8331 - val_loss: 0.2444 - val_acc: 0.9413\n",
      "Epoch 8/100\n",
      "48000/48000 [==============================] - 26s 540us/sample - loss: 0.4842 - acc: 0.8473 - val_loss: 0.2177 - val_acc: 0.9468\n",
      "Epoch 9/100\n",
      "48000/48000 [==============================] - 27s 554us/sample - loss: 0.4432 - acc: 0.8612 - val_loss: 0.1944 - val_acc: 0.9517\n",
      "Epoch 10/100\n",
      "48000/48000 [==============================] - 27s 572us/sample - loss: 0.4165 - acc: 0.8692 - val_loss: 0.1770 - val_acc: 0.9563\n",
      "Epoch 11/100\n",
      "48000/48000 [==============================] - 26s 543us/sample - loss: 0.3960 - acc: 0.8759 - val_loss: 0.1680 - val_acc: 0.9589\n",
      "Epoch 12/100\n",
      "48000/48000 [==============================] - 26s 551us/sample - loss: 0.3740 - acc: 0.8823 - val_loss: 0.1652 - val_acc: 0.9582\n",
      "Epoch 13/100\n",
      "48000/48000 [==============================] - 26s 550us/sample - loss: 0.3596 - acc: 0.8874 - val_loss: 0.1526 - val_acc: 0.9624\n",
      "Epoch 14/100\n",
      "48000/48000 [==============================] - 26s 550us/sample - loss: 0.3316 - acc: 0.8966 - val_loss: 0.1416 - val_acc: 0.9637\n",
      "Epoch 15/100\n",
      "48000/48000 [==============================] - 26s 550us/sample - loss: 0.3292 - acc: 0.8969 - val_loss: 0.1356 - val_acc: 0.9651\n",
      "Epoch 16/100\n",
      "48000/48000 [==============================] - 27s 557us/sample - loss: 0.3176 - acc: 0.9011 - val_loss: 0.1315 - val_acc: 0.9672\n",
      "Epoch 17/100\n",
      "48000/48000 [==============================] - 26s 552us/sample - loss: 0.3060 - acc: 0.9025 - val_loss: 0.1270 - val_acc: 0.9685\n",
      "Epoch 18/100\n",
      "48000/48000 [==============================] - 34s 705us/sample - loss: 0.2962 - acc: 0.9064 - val_loss: 0.1203 - val_acc: 0.9690\n",
      "Epoch 19/100\n",
      "48000/48000 [==============================] - 33s 690us/sample - loss: 0.2900 - acc: 0.9103 - val_loss: 0.1186 - val_acc: 0.9693\n",
      "Epoch 20/100\n",
      "48000/48000 [==============================] - 33s 690us/sample - loss: 0.2798 - acc: 0.9124 - val_loss: 0.1157 - val_acc: 0.9689\n",
      "Epoch 21/100\n",
      "48000/48000 [==============================] - 33s 698us/sample - loss: 0.2747 - acc: 0.9141 - val_loss: 0.1090 - val_acc: 0.9712\n",
      "Epoch 22/100\n",
      "48000/48000 [==============================] - 32s 670us/sample - loss: 0.2680 - acc: 0.9171 - val_loss: 0.1091 - val_acc: 0.9714\n",
      "Epoch 23/100\n",
      "48000/48000 [==============================] - 26s 549us/sample - loss: 0.2606 - acc: 0.9196 - val_loss: 0.1065 - val_acc: 0.9716\n",
      "Epoch 24/100\n",
      "48000/48000 [==============================] - 27s 555us/sample - loss: 0.2581 - acc: 0.9185 - val_loss: 0.1047 - val_acc: 0.9731\n",
      "Epoch 25/100\n",
      "48000/48000 [==============================] - 27s 562us/sample - loss: 0.2491 - acc: 0.9221 - val_loss: 0.1004 - val_acc: 0.9734\n",
      "Epoch 26/100\n",
      "48000/48000 [==============================] - 27s 560us/sample - loss: 0.2411 - acc: 0.9249 - val_loss: 0.0970 - val_acc: 0.9750\n",
      "Epoch 27/100\n",
      "48000/48000 [==============================] - 27s 555us/sample - loss: 0.2451 - acc: 0.9241 - val_loss: 0.0962 - val_acc: 0.9754\n",
      "Epoch 28/100\n",
      "48000/48000 [==============================] - 27s 558us/sample - loss: 0.2400 - acc: 0.9244 - val_loss: 0.0937 - val_acc: 0.9762\n",
      "Epoch 29/100\n",
      "48000/48000 [==============================] - 26s 551us/sample - loss: 0.2329 - acc: 0.9264 - val_loss: 0.0932 - val_acc: 0.9755\n",
      "Epoch 30/100\n",
      "48000/48000 [==============================] - 26s 539us/sample - loss: 0.2309 - acc: 0.9275 - val_loss: 0.0902 - val_acc: 0.9767\n",
      "Epoch 31/100\n",
      "48000/48000 [==============================] - 26s 534us/sample - loss: 0.2250 - acc: 0.9307 - val_loss: 0.0896 - val_acc: 0.9762\n",
      "Epoch 32/100\n",
      "48000/48000 [==============================] - 26s 542us/sample - loss: 0.2235 - acc: 0.9300 - val_loss: 0.0881 - val_acc: 0.9770\n",
      "Epoch 33/100\n",
      "48000/48000 [==============================] - 28s 575us/sample - loss: 0.2180 - acc: 0.9326 - val_loss: 0.0850 - val_acc: 0.9778\n",
      "Epoch 34/100\n",
      "48000/48000 [==============================] - 29s 596us/sample - loss: 0.2167 - acc: 0.9318 - val_loss: 0.0849 - val_acc: 0.9779\n",
      "Epoch 35/100\n",
      "48000/48000 [==============================] - 27s 564us/sample - loss: 0.2155 - acc: 0.9325 - val_loss: 0.0834 - val_acc: 0.9786\n",
      "Epoch 36/100\n",
      "48000/48000 [==============================] - 28s 577us/sample - loss: 0.2108 - acc: 0.9339 - val_loss: 0.0826 - val_acc: 0.9786\n",
      "Epoch 37/100\n",
      "48000/48000 [==============================] - 28s 588us/sample - loss: 0.2080 - acc: 0.9344 - val_loss: 0.0813 - val_acc: 0.9788\n",
      "Epoch 38/100\n",
      "48000/48000 [==============================] - 27s 565us/sample - loss: 0.2087 - acc: 0.9347 - val_loss: 0.0805 - val_acc: 0.9789\n",
      "Epoch 39/100\n",
      "48000/48000 [==============================] - 27s 564us/sample - loss: 0.2048 - acc: 0.9370 - val_loss: 0.0795 - val_acc: 0.9786\n",
      "Epoch 40/100\n",
      "48000/48000 [==============================] - 27s 566us/sample - loss: 0.2001 - acc: 0.9386 - val_loss: 0.0782 - val_acc: 0.9794\n",
      "Epoch 41/100\n",
      "48000/48000 [==============================] - 27s 566us/sample - loss: 0.2009 - acc: 0.9366 - val_loss: 0.0780 - val_acc: 0.9801\n",
      "Epoch 42/100\n",
      "48000/48000 [==============================] - 27s 564us/sample - loss: 0.1934 - acc: 0.9390 - val_loss: 0.0766 - val_acc: 0.9793\n",
      "Epoch 43/100\n",
      "48000/48000 [==============================] - 27s 567us/sample - loss: 0.1957 - acc: 0.9391 - val_loss: 0.0761 - val_acc: 0.9797\n",
      "Epoch 44/100\n",
      "48000/48000 [==============================] - 28s 579us/sample - loss: 0.1908 - acc: 0.9393 - val_loss: 0.0745 - val_acc: 0.9804\n",
      "Epoch 45/100\n",
      "48000/48000 [==============================] - 27s 562us/sample - loss: 0.1876 - acc: 0.9414 - val_loss: 0.0735 - val_acc: 0.9803\n",
      "Epoch 46/100\n",
      "48000/48000 [==============================] - 27s 557us/sample - loss: 0.1879 - acc: 0.9407 - val_loss: 0.0737 - val_acc: 0.9811\n",
      "Epoch 47/100\n",
      "48000/48000 [==============================] - 28s 582us/sample - loss: 0.1873 - acc: 0.9421 - val_loss: 0.0730 - val_acc: 0.9812\n",
      "Epoch 48/100\n",
      "48000/48000 [==============================] - 27s 555us/sample - loss: 0.1838 - acc: 0.9415 - val_loss: 0.0710 - val_acc: 0.9812\n",
      "Epoch 49/100\n",
      "48000/48000 [==============================] - 27s 556us/sample - loss: 0.1830 - acc: 0.9421 - val_loss: 0.0717 - val_acc: 0.9815\n",
      "Epoch 50/100\n",
      "48000/48000 [==============================] - 27s 567us/sample - loss: 0.1817 - acc: 0.9425 - val_loss: 0.0720 - val_acc: 0.9813\n",
      "Epoch 51/100\n",
      "48000/48000 [==============================] - 27s 560us/sample - loss: 0.1791 - acc: 0.9437 - val_loss: 0.0716 - val_acc: 0.9812\n",
      "Epoch 52/100\n",
      "48000/48000 [==============================] - 27s 572us/sample - loss: 0.1844 - acc: 0.9439 - val_loss: 0.0699 - val_acc: 0.9822\n",
      "Epoch 53/100\n",
      "48000/48000 [==============================] - 28s 576us/sample - loss: 0.1791 - acc: 0.9441 - val_loss: 0.0676 - val_acc: 0.9822\n",
      "Epoch 54/100\n",
      "48000/48000 [==============================] - 27s 561us/sample - loss: 0.1785 - acc: 0.9455 - val_loss: 0.0684 - val_acc: 0.9820\n",
      "Epoch 55/100\n",
      "48000/48000 [==============================] - 28s 577us/sample - loss: 0.1783 - acc: 0.9451 - val_loss: 0.0678 - val_acc: 0.9822\n",
      "Epoch 56/100\n",
      "48000/48000 [==============================] - 27s 556us/sample - loss: 0.1715 - acc: 0.9459 - val_loss: 0.0684 - val_acc: 0.9818\n",
      "Epoch 57/100\n",
      "48000/48000 [==============================] - 27s 560us/sample - loss: 0.1691 - acc: 0.9477 - val_loss: 0.0657 - val_acc: 0.9828\n",
      "Epoch 58/100\n",
      "48000/48000 [==============================] - 26s 549us/sample - loss: 0.1718 - acc: 0.9473 - val_loss: 0.0671 - val_acc: 0.9825\n",
      "Epoch 59/100\n",
      "48000/48000 [==============================] - 27s 556us/sample - loss: 0.1697 - acc: 0.9467 - val_loss: 0.0644 - val_acc: 0.9832 - loss: 0.1699 - acc: 0.9\n",
      "Epoch 60/100\n",
      "48000/48000 [==============================] - 27s 562us/sample - loss: 0.1639 - acc: 0.9492 - val_loss: 0.0637 - val_acc: 0.9833\n",
      "Epoch 61/100\n",
      "48000/48000 [==============================] - 27s 556us/sample - loss: 0.1635 - acc: 0.9492 - val_loss: 0.0649 - val_acc: 0.9831\n",
      "Epoch 62/100\n",
      "48000/48000 [==============================] - 27s 556us/sample - loss: 0.1621 - acc: 0.9490 - val_loss: 0.0618 - val_acc: 0.9837\n",
      "Epoch 63/100\n",
      "48000/48000 [==============================] - 27s 556us/sample - loss: 0.1630 - acc: 0.9492 - val_loss: 0.0629 - val_acc: 0.9837\n",
      "Epoch 64/100\n",
      "48000/48000 [==============================] - 27s 555us/sample - loss: 0.1598 - acc: 0.9504 - val_loss: 0.0623 - val_acc: 0.9840\n",
      "Epoch 65/100\n",
      "48000/48000 [==============================] - 27s 570us/sample - loss: 0.1641 - acc: 0.9484 - val_loss: 0.0630 - val_acc: 0.9837\n",
      "Epoch 66/100\n",
      "48000/48000 [==============================] - 27s 572us/sample - loss: 0.1615 - acc: 0.9498 - val_loss: 0.0618 - val_acc: 0.9840\n",
      "Epoch 67/100\n",
      "48000/48000 [==============================] - 27s 558us/sample - loss: 0.1603 - acc: 0.9502 - val_loss: 0.0616 - val_acc: 0.9843\n",
      "Epoch 68/100\n",
      "48000/48000 [==============================] - 27s 556us/sample - loss: 0.1579 - acc: 0.9509 - val_loss: 0.0608 - val_acc: 0.9843\n",
      "Epoch 69/100\n",
      "48000/48000 [==============================] - 27s 557us/sample - loss: 0.1588 - acc: 0.9510 - val_loss: 0.0619 - val_acc: 0.9837\n",
      "Epoch 70/100\n",
      "48000/48000 [==============================] - 27s 556us/sample - loss: 0.1572 - acc: 0.9502 - val_loss: 0.0608 - val_acc: 0.9844\n",
      "Epoch 71/100\n",
      "48000/48000 [==============================] - 27s 556us/sample - loss: 0.1578 - acc: 0.9508 - val_loss: 0.0603 - val_acc: 0.9843\n",
      "Epoch 72/100\n",
      "48000/48000 [==============================] - 27s 556us/sample - loss: 0.1544 - acc: 0.9522 - val_loss: 0.0600 - val_acc: 0.9843\n",
      "Epoch 73/100\n",
      "48000/48000 [==============================] - 27s 556us/sample - loss: 0.1550 - acc: 0.9513 - val_loss: 0.0592 - val_acc: 0.9848\n",
      "Epoch 74/100\n",
      "48000/48000 [==============================] - 27s 556us/sample - loss: 0.1504 - acc: 0.9538 - val_loss: 0.0592 - val_acc: 0.9846\n",
      "Epoch 75/100\n",
      "48000/48000 [==============================] - 27s 556us/sample - loss: 0.1535 - acc: 0.9517 - val_loss: 0.0592 - val_acc: 0.9851\n",
      "Epoch 76/100\n",
      "48000/48000 [==============================] - 27s 555us/sample - loss: 0.1524 - acc: 0.9533 - val_loss: 0.0591 - val_acc: 0.9850\n",
      "Epoch 77/100\n",
      "48000/48000 [==============================] - 27s 556us/sample - loss: 0.1515 - acc: 0.9534 - val_loss: 0.0584 - val_acc: 0.9858\n",
      "Epoch 78/100\n",
      "48000/48000 [==============================] - 27s 556us/sample - loss: 0.1487 - acc: 0.9532 - val_loss: 0.0585 - val_acc: 0.9853\n",
      "Epoch 79/100\n",
      "48000/48000 [==============================] - 27s 556us/sample - loss: 0.1503 - acc: 0.9530 - val_loss: 0.0578 - val_acc: 0.9854\n",
      "Epoch 80/100\n",
      "48000/48000 [==============================] - 27s 556us/sample - loss: 0.1476 - acc: 0.9540 - val_loss: 0.0566 - val_acc: 0.9860\n",
      "Epoch 81/100\n",
      "48000/48000 [==============================] - 27s 556us/sample - loss: 0.1497 - acc: 0.9542 - val_loss: 0.0567 - val_acc: 0.9859\n",
      "Epoch 82/100\n",
      "48000/48000 [==============================] - 27s 556us/sample - loss: 0.1468 - acc: 0.9552 - val_loss: 0.0569 - val_acc: 0.9862\n",
      "Epoch 83/100\n",
      "48000/48000 [==============================] - 27s 556us/sample - loss: 0.1440 - acc: 0.9547 - val_loss: 0.0564 - val_acc: 0.9856\n",
      "Epoch 84/100\n",
      "48000/48000 [==============================] - 27s 556us/sample - loss: 0.1438 - acc: 0.9555 - val_loss: 0.0563 - val_acc: 0.9857\n",
      "Epoch 85/100\n",
      "48000/48000 [==============================] - 27s 557us/sample - loss: 0.1447 - acc: 0.9553 - val_loss: 0.0552 - val_acc: 0.9857\n",
      "Epoch 86/100\n",
      "48000/48000 [==============================] - 27s 556us/sample - loss: 0.1429 - acc: 0.9565 - val_loss: 0.0550 - val_acc: 0.9862\n",
      "Epoch 87/100\n",
      "48000/48000 [==============================] - 27s 557us/sample - loss: 0.1440 - acc: 0.9555 - val_loss: 0.0549 - val_acc: 0.9861\n",
      "Epoch 88/100\n",
      "48000/48000 [==============================] - 27s 555us/sample - loss: 0.1409 - acc: 0.9560 - val_loss: 0.0548 - val_acc: 0.9868\n",
      "Epoch 89/100\n",
      "48000/48000 [==============================] - 27s 556us/sample - loss: 0.1394 - acc: 0.9570 - val_loss: 0.0546 - val_acc: 0.9861\n",
      "Epoch 90/100\n",
      "48000/48000 [==============================] - 27s 556us/sample - loss: 0.1407 - acc: 0.9559 - val_loss: 0.0539 - val_acc: 0.9862\n",
      "Epoch 91/100\n",
      "48000/48000 [==============================] - 27s 556us/sample - loss: 0.1383 - acc: 0.9569 - val_loss: 0.0540 - val_acc: 0.9867\n",
      "Epoch 92/100\n",
      "48000/48000 [==============================] - 27s 555us/sample - loss: 0.1404 - acc: 0.9566 - val_loss: 0.0540 - val_acc: 0.9866\n",
      "Epoch 93/100\n",
      "48000/48000 [==============================] - 27s 556us/sample - loss: 0.1394 - acc: 0.9564 - val_loss: 0.0532 - val_acc: 0.9865\n",
      "Epoch 94/100\n",
      "48000/48000 [==============================] - 27s 555us/sample - loss: 0.1385 - acc: 0.9570 - val_loss: 0.0535 - val_acc: 0.9868\n",
      "Epoch 95/100\n",
      "48000/48000 [==============================] - 27s 556us/sample - loss: 0.1389 - acc: 0.9574 - val_loss: 0.0538 - val_acc: 0.9868\n",
      "Epoch 96/100\n",
      "48000/48000 [==============================] - 27s 556us/sample - loss: 0.1391 - acc: 0.9572 - val_loss: 0.0536 - val_acc: 0.9865\n",
      "Epoch 97/100\n",
      "48000/48000 [==============================] - 27s 556us/sample - loss: 0.1354 - acc: 0.9575 - val_loss: 0.0527 - val_acc: 0.9867\n",
      "Epoch 98/100\n",
      "48000/48000 [==============================] - 27s 556us/sample - loss: 0.1357 - acc: 0.9563 - val_loss: 0.0530 - val_acc: 0.9864\n",
      "Epoch 99/100\n",
      "48000/48000 [==============================] - 27s 556us/sample - loss: 0.1350 - acc: 0.9568 - val_loss: 0.0528 - val_acc: 0.9865\n",
      "Epoch 100/100\n",
      "48000/48000 [==============================] - 27s 555us/sample - loss: 0.1331 - acc: 0.9592 - val_loss: 0.0521 - val_acc: 0.9870\n",
      "CPU times: user 23min 17s, sys: 7min 12s, total: 30min 30s\n",
      "Wall time: 45min 9s\n"
     ]
    }
   ],
   "source": [
    "%%time\n",
    "\n",
    "history = model.fit(X_train, y_train, \n",
    "                    batch_size=BATCH_SIZE, \n",
    "                    epochs=NB_EPOCH, \n",
    "                    verbose=VERBOSE, \n",
    "                    validation_split=VALIDATION_SPLIT)"
   ]
  },
  {
   "cell_type": "markdown",
   "metadata": {},
   "source": [
    "## Тестирование"
   ]
  },
  {
   "cell_type": "code",
   "execution_count": 17,
   "metadata": {},
   "outputs": [
    {
     "name": "stdout",
     "output_type": "stream",
     "text": [
      "10000/10000 [==============================] - 2s 200us/sample - loss: 0.0450 - acc: 0.9873\n",
      "\n",
      "Test score: 0.04499613302731886\n",
      "Test accuracy: 0.9873\n"
     ]
    }
   ],
   "source": [
    "score = model.evaluate(X_test, y_test, verbose=VERBOSE)\n",
    "print(\"\\nTest score:\", score[0])\n",
    "print('Test accuracy:', score[1])"
   ]
  },
  {
   "cell_type": "markdown",
   "metadata": {},
   "source": [
    "---"
   ]
  },
  {
   "cell_type": "code",
   "execution_count": 18,
   "metadata": {},
   "outputs": [],
   "source": [
    "# import matplotlib.pyplot as plt"
   ]
  },
  {
   "cell_type": "code",
   "execution_count": 19,
   "metadata": {},
   "outputs": [
    {
     "data": {
      "text/plain": [
       "dict_keys(['loss', 'acc', 'val_loss', 'val_acc'])"
      ]
     },
     "execution_count": 19,
     "metadata": {},
     "output_type": "execute_result"
    }
   ],
   "source": [
    "history_dict = history.history\n",
    "history_dict.keys()"
   ]
  },
  {
   "cell_type": "code",
   "execution_count": 20,
   "metadata": {},
   "outputs": [
    {
     "data": {
      "image/png": "[encoded data removed]",
      "text/plain": [
       "<Figure size 432x288 with 1 Axes>"
      ]
     },
     "metadata": {
      "needs_background": "light"
     },
     "output_type": "display_data"
    }
   ],
   "source": [
    "acc = history.history['acc']\n",
    "val_acc = history.history['val_acc']\n",
    "loss = history.history['loss']\n",
    "val_loss = history.history['val_loss']\n",
    "\n",
    "epochs = range(1, len(acc) + 1)\n",
    "plt.plot(epochs, loss, 'b', label='Training loss')\n",
    "plt.plot(epochs, val_loss, 'r', label='Validation loss')\n",
    "plt.title('Training and validation loss')\n",
    "plt.xlabel('Epochs')\n",
    "plt.ylabel('Loss')\n",
    "plt.legend()\n",
    "\n",
    "plt.show()"
   ]
  },
  {
   "cell_type": "code",
   "execution_count": 21,
   "metadata": {},
   "outputs": [
    {
     "data": {
      "image/png": "[encoded data removed]",
      "text/plain": [
       "<Figure size 432x288 with 1 Axes>"
      ]
     },
     "metadata": {
      "needs_background": "light"
     },
     "output_type": "display_data"
    }
   ],
   "source": [
    "plt.clf()   # clear figure\n",
    "acc_values = history_dict['acc']\n",
    "val_acc_values = history_dict['val_acc']\n",
    "\n",
    "plt.plot(epochs, acc, 'b', label='Training acc')\n",
    "plt.plot(epochs, val_acc, 'r', label='Validation acc')\n",
    "plt.title('Training and validation accuracy')\n",
    "plt.xlabel('Epochs')\n",
    "plt.ylabel('Accuracy')\n",
    "plt.legend()\n",
    "\n",
    "plt.show()"
   ]
  },
  {
   "cell_type": "markdown",
   "metadata": {},
   "source": [
    "---"
   ]
  },
  {
   "cell_type": "code",
   "execution_count": 1,
   "metadata": {},
   "outputs": [
    {
     "name": "stdout",
     "output_type": "stream",
     "text": [
      "tensorflow: 1.13.1\n",
      "keras: 2.2.4-tf\n",
      "GPU devices:\n",
      "   [['/device:GPU:0', 'device: 0, name: GeForce GT 730, pci bus id: 0000:01:00.0, compute capability: 3.5']]\n",
      "default GPU device: /device:GPU:0\n"
     ]
    }
   ],
   "source": [
    "import tensorflow as tf\n",
    "from tensorflow import keras\n",
    "from tensorflow.python.client import device_lib\n",
    "\n",
    "print('tensorflow:', tf.__version__)\n",
    "print('keras:', keras.__version__)\n",
    "\n",
    "if tf.test.is_built_with_cuda():\n",
    "    print('GPU devices:\\n  ',\n",
    "        [ [x.name, x.physical_device_desc] \n",
    "          for x in device_lib.list_local_devices() \n",
    "          if x.device_type == 'GPU' ]\n",
    "    )\n",
    "    print('default GPU device:', tf.test.gpu_device_name() )\n",
    "\n",
    "else:\n",
    "    print('no GPU device found')\n",
    "    "
   ]
  },
  {
   "cell_type": "code",
   "execution_count": null,
   "metadata": {},
   "outputs": [],
   "source": []
  }
 ],
 "metadata": {
  "kernelspec": {
   "display_name": "Python 3",
   "language": "python",
   "name": "python3"
  },
  "language_info": {
   "codemirror_mode": {
    "name": "ipython",
    "version": 3
   },
   "file_extension": ".py",
   "mimetype": "text/x-python",
   "name": "python",
   "nbconvert_exporter": "python",
   "pygments_lexer": "ipython3",
   "version": "3.7.3"
  },
  "toc": {
   "base_numbering": 1,
   "nav_menu": {},
   "number_sections": true,
   "sideBar": true,
   "skip_h1_title": false,
   "title_cell": "Table of Contents",
   "title_sidebar": "Contents",
   "toc_cell": false,
   "toc_position": {},
   "toc_section_display": true,
   "toc_window_display": false
  }
 },
 "nbformat": 4,
 "nbformat_minor": 2
}
