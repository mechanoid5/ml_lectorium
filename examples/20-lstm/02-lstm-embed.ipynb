{
 "cells": [
  {
   "cell_type": "markdown",
   "metadata": {},
   "source": [
    "**классификатор LSTM на Keras+TensorFlow: использование Embedding**\n",
    "\n",
    "Евгений Борисов <borisov.e@solarl.ru>"
   ]
  },
  {
   "cell_type": "markdown",
   "metadata": {},
   "source": [
    "---"
   ]
  },
  {
   "cell_type": "code",
   "execution_count": 1,
   "metadata": {},
   "outputs": [
    {
     "name": "stderr",
     "output_type": "stream",
     "text": [
      "Using TensorFlow backend.\n"
     ]
    }
   ],
   "source": [
    "import numpy as np\n",
    "\n",
    "from keras.models import Sequential\n",
    "from keras.layers import Embedding\n",
    "from keras.layers import LSTM\n",
    "from keras.layers import Dense"
   ]
  },
  {
   "cell_type": "code",
   "execution_count": 2,
   "metadata": {},
   "outputs": [
    {
     "data": {
      "text/plain": [
       "(1000, 8)"
      ]
     },
     "execution_count": 2,
     "metadata": {},
     "output_type": "execute_result"
    }
   ],
   "source": [
    "time_steps = 8\n",
    "vocab_size = 1000\n",
    "num_ex = 1000\n",
    "\n",
    "x_train = np.random.randint(0,vocab_size,(num_ex, time_steps))\n",
    "y_train = np.random.randint(1,3,num_ex)\n",
    "\n",
    "x_train.shape\n",
    "\n",
    "# [ пример, элемент посл. ]"
   ]
  },
  {
   "cell_type": "code",
   "execution_count": 3,
   "metadata": {},
   "outputs": [],
   "source": [
    "batch_size=50\n",
    "# y_train"
   ]
  },
  {
   "cell_type": "code",
   "execution_count": 4,
   "metadata": {},
   "outputs": [
    {
     "data": {
      "text/plain": [
       "(1000, 2)"
      ]
     },
     "execution_count": 4,
     "metadata": {},
     "output_type": "execute_result"
    }
   ],
   "source": [
    "from sklearn.preprocessing import OneHotEncoder\n",
    "\n",
    "num_classes = 2\n",
    "y_train = np.random.randint(1,num_classes+1,num_ex)\n",
    "y_train = OneHotEncoder(categories='auto').fit_transform(y_train.reshape(-1,1) ).todense()\n",
    "y_train.shape"
   ]
  },
  {
   "cell_type": "code",
   "execution_count": 5,
   "metadata": {},
   "outputs": [
    {
     "name": "stdout",
     "output_type": "stream",
     "text": [
      "WARNING:tensorflow:From /usr/lib/python3.7/site-packages/tensorflow/python/framework/op_def_library.py:263: colocate_with (from tensorflow.python.framework.ops) is deprecated and will be removed in a future version.\n",
      "Instructions for updating:\n",
      "Colocations handled automatically by placer.\n"
     ]
    }
   ],
   "source": [
    "embedding_size=32\n",
    "\n",
    "model = Sequential()\n",
    "\n",
    "model.add(Embedding(\n",
    "       input_dim=vocab_size, # e.g, 10 if you have 10 words in your vocabulary\n",
    "       output_dim=embedding_size, # size of the embedded vectors\n",
    "       input_length=time_steps,\n",
    "       batch_input_shape=(batch_size,time_steps)\n",
    "    ))\n",
    "\n",
    "model.add(LSTM(\n",
    "       16, \n",
    "       return_sequences=False, \n",
    "       stateful=False)\n",
    "    )\n",
    "\n",
    "model.add(Dense(num_classes, activation='softmax'))"
   ]
  },
  {
   "cell_type": "code",
   "execution_count": 6,
   "metadata": {},
   "outputs": [],
   "source": [
    "model.compile(loss='categorical_crossentropy',\n",
    "              optimizer='rmsprop',\n",
    "              metrics=['accuracy'])"
   ]
  },
  {
   "cell_type": "code",
   "execution_count": 7,
   "metadata": {},
   "outputs": [
    {
     "name": "stdout",
     "output_type": "stream",
     "text": [
      "WARNING:tensorflow:From /usr/lib/python3.7/site-packages/tensorflow/python/ops/math_ops.py:3066: to_int32 (from tensorflow.python.ops.math_ops) is deprecated and will be removed in a future version.\n",
      "Instructions for updating:\n",
      "Use tf.cast instead.\n",
      "Epoch 1/30\n",
      "1000/1000 [==============================] - 1s 918us/step - loss: 0.6935 - acc: 0.5020\n",
      "Epoch 2/30\n",
      "1000/1000 [==============================] - 0s 178us/step - loss: 0.6836 - acc: 0.5820\n",
      "Epoch 3/30\n",
      "1000/1000 [==============================] - 0s 181us/step - loss: 0.6617 - acc: 0.6960\n",
      "Epoch 4/30\n",
      "1000/1000 [==============================] - 0s 187us/step - loss: 0.6129 - acc: 0.7710\n",
      "Epoch 5/30\n",
      "1000/1000 [==============================] - 0s 176us/step - loss: 0.5363 - acc: 0.7860\n",
      "Epoch 6/30\n",
      "1000/1000 [==============================] - 0s 235us/step - loss: 0.4581 - acc: 0.8210\n",
      "Epoch 7/30\n",
      "1000/1000 [==============================] - 0s 211us/step - loss: 0.4002 - acc: 0.8400\n",
      "Epoch 8/30\n",
      "1000/1000 [==============================] - 0s 183us/step - loss: 0.3433 - acc: 0.8630\n",
      "Epoch 9/30\n",
      "1000/1000 [==============================] - 0s 192us/step - loss: 0.2950 - acc: 0.8930\n",
      "Epoch 10/30\n",
      "1000/1000 [==============================] - 0s 178us/step - loss: 0.2492 - acc: 0.9150\n",
      "Epoch 11/30\n",
      "1000/1000 [==============================] - 0s 187us/step - loss: 0.2070 - acc: 0.9390\n",
      "Epoch 12/30\n",
      "1000/1000 [==============================] - 0s 183us/step - loss: 0.1664 - acc: 0.9560\n",
      "Epoch 13/30\n",
      "1000/1000 [==============================] - 0s 192us/step - loss: 0.1354 - acc: 0.9640\n",
      "Epoch 14/30\n",
      "1000/1000 [==============================] - 0s 187us/step - loss: 0.1051 - acc: 0.9730\n",
      "Epoch 15/30\n",
      "1000/1000 [==============================] - 0s 180us/step - loss: 0.0778 - acc: 0.9830\n",
      "Epoch 16/30\n",
      "1000/1000 [==============================] - 0s 185us/step - loss: 0.0576 - acc: 0.9900\n",
      "Epoch 17/30\n",
      "1000/1000 [==============================] - 0s 181us/step - loss: 0.0413 - acc: 0.9920\n",
      "Epoch 18/30\n",
      "1000/1000 [==============================] - 0s 181us/step - loss: 0.0298 - acc: 0.9930\n",
      "Epoch 19/30\n",
      "1000/1000 [==============================] - 0s 185us/step - loss: 0.0177 - acc: 0.9960\n",
      "Epoch 20/30\n",
      "1000/1000 [==============================] - 0s 195us/step - loss: 0.0081 - acc: 0.9980\n",
      "Epoch 21/30\n",
      "1000/1000 [==============================] - 0s 186us/step - loss: 0.0038 - acc: 1.0000\n",
      "Epoch 22/30\n",
      "1000/1000 [==============================] - 0s 235us/step - loss: 0.0020 - acc: 1.0000\n",
      "Epoch 23/30\n",
      "1000/1000 [==============================] - 0s 212us/step - loss: 0.0011 - acc: 1.0000\n",
      "Epoch 24/30\n",
      "1000/1000 [==============================] - 0s 180us/step - loss: 5.3495e-04 - acc: 1.0000\n",
      "Epoch 25/30\n",
      "1000/1000 [==============================] - 0s 184us/step - loss: 2.4806e-04 - acc: 1.0000\n",
      "Epoch 26/30\n",
      "1000/1000 [==============================] - 0s 178us/step - loss: 1.1660e-04 - acc: 1.0000\n",
      "Epoch 27/30\n",
      "1000/1000 [==============================] - 0s 183us/step - loss: 5.2544e-05 - acc: 1.0000\n",
      "Epoch 28/30\n",
      "1000/1000 [==============================] - 0s 200us/step - loss: 2.4534e-05 - acc: 1.0000\n",
      "Epoch 29/30\n",
      "1000/1000 [==============================] - 0s 180us/step - loss: 1.2170e-05 - acc: 1.0000\n",
      "Epoch 30/30\n",
      "1000/1000 [==============================] - 0s 189us/step - loss: 5.8717e-06 - acc: 1.0000\n"
     ]
    },
    {
     "data": {
      "text/plain": [
       "<keras.callbacks.History at 0x7fbb1f44dcf8>"
      ]
     },
     "execution_count": 7,
     "metadata": {},
     "output_type": "execute_result"
    }
   ],
   "source": [
    "model.fit(x_train, y_train, batch_size=batch_size, epochs=30, )\n",
    "\n",
    "# validation_data=(x_val, y_val)\n",
    "         "
   ]
  },
  {
   "cell_type": "markdown",
   "metadata": {},
   "source": [
    "---"
   ]
  },
  {
   "cell_type": "code",
   "execution_count": 8,
   "metadata": {},
   "outputs": [],
   "source": [
    "import tensorflow as tf\n",
    "from tensorflow.python.client import device_lib\n",
    "import keras "
   ]
  },
  {
   "cell_type": "code",
   "execution_count": 9,
   "metadata": {},
   "outputs": [
    {
     "name": "stdout",
     "output_type": "stream",
     "text": [
      "1.13.1\n",
      "2.2.2\n"
     ]
    }
   ],
   "source": [
    "print(tf.__version__)\n",
    "print(keras.__version__)"
   ]
  },
  {
   "cell_type": "code",
   "execution_count": 10,
   "metadata": {},
   "outputs": [
    {
     "name": "stdout",
     "output_type": "stream",
     "text": [
      "True\n"
     ]
    }
   ],
   "source": [
    "print(tf.test.is_built_with_cuda())"
   ]
  },
  {
   "cell_type": "code",
   "execution_count": 11,
   "metadata": {},
   "outputs": [
    {
     "name": "stdout",
     "output_type": "stream",
     "text": [
      "default GPU device: /device:GPU:0\n"
     ]
    }
   ],
   "source": [
    "if tf.test.is_built_with_cuda():\n",
    "    print('default GPU device:', tf.test.gpu_device_name() )\n",
    "else:\n",
    "    print('no GPU device found')\n",
    "    "
   ]
  },
  {
   "cell_type": "code",
   "execution_count": 12,
   "metadata": {},
   "outputs": [
    {
     "name": "stdout",
     "output_type": "stream",
     "text": [
      "[name: \"/device:CPU:0\"\n",
      "device_type: \"CPU\"\n",
      "memory_limit: 268435456\n",
      "locality {\n",
      "}\n",
      "incarnation: 16003760451203964358\n",
      ", name: \"/device:XLA_CPU:0\"\n",
      "device_type: \"XLA_CPU\"\n",
      "memory_limit: 17179869184\n",
      "locality {\n",
      "}\n",
      "incarnation: 15384876554633925274\n",
      "physical_device_desc: \"device: XLA_CPU device\"\n",
      ", name: \"/device:XLA_GPU:0\"\n",
      "device_type: \"XLA_GPU\"\n",
      "memory_limit: 17179869184\n",
      "locality {\n",
      "}\n",
      "incarnation: 5419243229321332116\n",
      "physical_device_desc: \"device: XLA_GPU device\"\n",
      ", name: \"/device:GPU:0\"\n",
      "device_type: \"GPU\"\n",
      "memory_limit: 1379270656\n",
      "locality {\n",
      "  bus_id: 1\n",
      "  links {\n",
      "  }\n",
      "}\n",
      "incarnation: 2163810660212003992\n",
      "physical_device_desc: \"device: 0, name: GeForce GT 730, pci bus id: 0000:01:00.0, compute capability: 3.5\"\n",
      "]\n"
     ]
    }
   ],
   "source": [
    "print(device_lib.list_local_devices())"
   ]
  },
  {
   "cell_type": "markdown",
   "metadata": {},
   "source": [
    "---"
   ]
  },
  {
   "cell_type": "code",
   "execution_count": 13,
   "metadata": {},
   "outputs": [],
   "source": [
    "# # expected input data shape: (batch_size, timesteps, data_dim)\n",
    "# model = Sequential()\n",
    "\n",
    "\n",
    "# # returns a sequence of vectors of dimension 32\n",
    "# model.add(LSTM(32, input_shape=(timesteps, data_dim)))  \n",
    "\n",
    "# model.add(Dense(num_classes, activation='softmax'))"
   ]
  },
  {
   "cell_type": "code",
   "execution_count": 14,
   "metadata": {},
   "outputs": [],
   "source": [
    "# # expected input data shape: (batch_size, timesteps, data_dim)\n",
    "# model = Sequential()\n",
    "\n",
    "# # returns a sequence of vectors of dimension 32\n",
    "# model.add(LSTM(32,return_sequences=True,input_shape=(timesteps, data_dim)))  \n",
    "# model.add(LSTM(32,return_sequences=True))  \n",
    "# model.add(LSTM(32))  # return a single vector of dimension 32\n",
    "# model.add(Dense(num_classes, activation='softmax'))"
   ]
  },
  {
   "cell_type": "code",
   "execution_count": 15,
   "metadata": {},
   "outputs": [],
   "source": [
    "# # expected input data shape: (batch_size, timesteps, data_dim)\n",
    "# model = Sequential()\n",
    "# # returns a sequence of vectors of dimension 32\n",
    "# model.add(LSTM(32, input_shape=(timesteps, data_dim)))  \n",
    "# model.add(Dense(num_classes, activation='softmax'))"
   ]
  },
  {
   "cell_type": "code",
   "execution_count": 16,
   "metadata": {},
   "outputs": [],
   "source": [
    "# # expected input data shape: (batch_size, timesteps, data_dim)\n",
    "# model = Sequential()\n",
    "\n",
    "# # returns a sequence of vectors of dimension 32\n",
    "# model.add(LSTM(32,return_sequences=True,input_shape=(timesteps, data_dim)))  \n",
    "# model.add(LSTM(32,return_sequences=True))  \n",
    "# model.add(LSTM(32))  # return a single vector of dimension 32\n",
    "# model.add(Dense(num_classes, activation='softmax'))"
   ]
  }
 ],
 "metadata": {
  "kernelspec": {
   "display_name": "Python 3",
   "language": "python",
   "name": "python3"
  },
  "language_info": {
   "codemirror_mode": {
    "name": "ipython",
    "version": 3
   },
   "file_extension": ".py",
   "mimetype": "text/x-python",
   "name": "python",
   "nbconvert_exporter": "python",
   "pygments_lexer": "ipython3",
   "version": "3.7.3"
  },
  "toc": {
   "base_numbering": 1,
   "nav_menu": {},
   "number_sections": true,
   "sideBar": true,
   "skip_h1_title": false,
   "title_cell": "Table of Contents",
   "title_sidebar": "Contents",
   "toc_cell": false,
   "toc_position": {},
   "toc_section_display": "block",
   "toc_window_display": false
  }
 },
 "nbformat": 4,
 "nbformat_minor": 2
}
