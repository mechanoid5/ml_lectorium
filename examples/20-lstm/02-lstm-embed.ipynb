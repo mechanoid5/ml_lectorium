{
 "cells": [
  {
   "cell_type": "markdown",
   "metadata": {},
   "source": [
    "**классификатор LSTM на Keras+TensorFlow: использование Embedding**\n",
    "\n",
    "Евгений Борисов <borisov.e@solarl.ru>"
   ]
  },
  {
   "cell_type": "markdown",
   "metadata": {},
   "source": [
    "---"
   ]
  },
  {
   "cell_type": "code",
   "execution_count": 1,
   "metadata": {},
   "outputs": [],
   "source": [
    "import numpy as np\n",
    "\n",
    "from tensorflow.keras.models import Sequential\n",
    "from tensorflow.keras.layers import Embedding\n",
    "from tensorflow.keras.layers import LSTM\n",
    "from tensorflow.keras.layers import Dense"
   ]
  },
  {
   "cell_type": "code",
   "execution_count": 2,
   "metadata": {},
   "outputs": [
    {
     "data": {
      "text/plain": [
       "(1000, 8)"
      ]
     },
     "execution_count": 2,
     "metadata": {},
     "output_type": "execute_result"
    }
   ],
   "source": [
    "time_steps = 8\n",
    "vocab_size = 1000\n",
    "num_ex = 1000\n",
    "\n",
    "x_train = np.random.randint(0,vocab_size,(num_ex, time_steps))\n",
    "y_train = np.random.randint(1,3,num_ex)\n",
    "\n",
    "x_train.shape\n",
    "\n",
    "# [ пример, элемент посл. ]"
   ]
  },
  {
   "cell_type": "code",
   "execution_count": 4,
   "metadata": {},
   "outputs": [],
   "source": [
    "#x_train"
   ]
  },
  {
   "cell_type": "code",
   "execution_count": 5,
   "metadata": {},
   "outputs": [],
   "source": [
    "batch_size=50\n",
    "# y_train"
   ]
  },
  {
   "cell_type": "code",
   "execution_count": 6,
   "metadata": {},
   "outputs": [
    {
     "data": {
      "text/plain": [
       "(1000, 2)"
      ]
     },
     "execution_count": 6,
     "metadata": {},
     "output_type": "execute_result"
    }
   ],
   "source": [
    "from sklearn.preprocessing import OneHotEncoder\n",
    "\n",
    "num_classes = 2\n",
    "y_train = np.random.randint(1,num_classes+1,num_ex)\n",
    "y_train = OneHotEncoder(categories='auto').fit_transform(y_train.reshape(-1,1) ).todense()\n",
    "y_train.shape"
   ]
  },
  {
   "cell_type": "code",
   "execution_count": 7,
   "metadata": {},
   "outputs": [
    {
     "name": "stdout",
     "output_type": "stream",
     "text": [
      "WARNING:tensorflow:From /usr/lib/python3.7/site-packages/tensorflow/python/ops/resource_variable_ops.py:435: colocate_with (from tensorflow.python.framework.ops) is deprecated and will be removed in a future version.\n",
      "Instructions for updating:\n",
      "Colocations handled automatically by placer.\n"
     ]
    }
   ],
   "source": [
    "embedding_size=32\n",
    "\n",
    "model = Sequential()\n",
    "\n",
    "model.add(Embedding(\n",
    "       input_dim=vocab_size, # e.g, 10 if you have 10 words in your vocabulary\n",
    "       output_dim=embedding_size, # size of the embedded vectors\n",
    "       input_length=time_steps,\n",
    "       batch_input_shape=(batch_size,time_steps)\n",
    "    ))\n",
    "\n",
    "model.add(LSTM(\n",
    "       16, \n",
    "       return_sequences=False, \n",
    "       stateful=False)\n",
    "    )\n",
    "\n",
    "model.add(Dense(num_classes, activation='softmax'))"
   ]
  },
  {
   "cell_type": "code",
   "execution_count": 8,
   "metadata": {},
   "outputs": [],
   "source": [
    "model.compile(loss='categorical_crossentropy',\n",
    "              optimizer='rmsprop',\n",
    "              metrics=['accuracy'])"
   ]
  },
  {
   "cell_type": "code",
   "execution_count": 9,
   "metadata": {},
   "outputs": [
    {
     "name": "stdout",
     "output_type": "stream",
     "text": [
      "WARNING:tensorflow:From /usr/lib/python3.7/site-packages/tensorflow/python/ops/math_ops.py:3066: to_int32 (from tensorflow.python.ops.math_ops) is deprecated and will be removed in a future version.\n",
      "Instructions for updating:\n",
      "Use tf.cast instead.\n",
      "Epoch 1/30\n",
      "1000/1000 [==============================] - 1s 1ms/sample - loss: 0.6938 - acc: 0.5030\n",
      "Epoch 2/30\n",
      "1000/1000 [==============================] - 0s 296us/sample - loss: 0.6856 - acc: 0.6240\n",
      "Epoch 3/30\n",
      "1000/1000 [==============================] - 0s 264us/sample - loss: 0.6691 - acc: 0.7030\n",
      "Epoch 4/30\n",
      "1000/1000 [==============================] - 0s 287us/sample - loss: 0.6299 - acc: 0.7760\n",
      "Epoch 5/30\n",
      "1000/1000 [==============================] - 0s 273us/sample - loss: 0.5654 - acc: 0.7920\n",
      "Epoch 6/30\n",
      "1000/1000 [==============================] - 0s 280us/sample - loss: 0.4950 - acc: 0.7900\n",
      "Epoch 7/30\n",
      "1000/1000 [==============================] - 0s 262us/sample - loss: 0.4394 - acc: 0.8010\n",
      "Epoch 8/30\n",
      "1000/1000 [==============================] - 0s 299us/sample - loss: 0.3919 - acc: 0.8320\n",
      "Epoch 9/30\n",
      "1000/1000 [==============================] - 0s 269us/sample - loss: 0.3482 - acc: 0.8600\n",
      "Epoch 10/30\n",
      "1000/1000 [==============================] - 0s 277us/sample - loss: 0.3054 - acc: 0.8790\n",
      "Epoch 11/30\n",
      "1000/1000 [==============================] - 0s 303us/sample - loss: 0.2670 - acc: 0.9020\n",
      "Epoch 12/30\n",
      "1000/1000 [==============================] - 0s 303us/sample - loss: 0.2297 - acc: 0.9260\n",
      "Epoch 13/30\n",
      "1000/1000 [==============================] - 0s 325us/sample - loss: 0.1924 - acc: 0.9360\n",
      "Epoch 14/30\n",
      "1000/1000 [==============================] - 0s 293us/sample - loss: 0.1604 - acc: 0.9560\n",
      "Epoch 15/30\n",
      "1000/1000 [==============================] - 0s 337us/sample - loss: 0.1295 - acc: 0.9680\n",
      "Epoch 16/30\n",
      "1000/1000 [==============================] - 0s 292us/sample - loss: 0.1038 - acc: 0.9760\n",
      "Epoch 17/30\n",
      "1000/1000 [==============================] - 0s 285us/sample - loss: 0.0774 - acc: 0.9810\n",
      "Epoch 18/30\n",
      "1000/1000 [==============================] - 0s 368us/sample - loss: 0.0556 - acc: 0.9870\n",
      "Epoch 19/30\n",
      "1000/1000 [==============================] - 0s 386us/sample - loss: 0.0333 - acc: 0.9950\n",
      "Epoch 20/30\n",
      "1000/1000 [==============================] - 0s 328us/sample - loss: 0.0224 - acc: 0.9960\n",
      "Epoch 21/30\n",
      "1000/1000 [==============================] - 0s 341us/sample - loss: 0.0125 - acc: 0.9990\n",
      "Epoch 22/30\n",
      "1000/1000 [==============================] - 0s 358us/sample - loss: 0.0057 - acc: 0.9990\n",
      "Epoch 23/30\n",
      "1000/1000 [==============================] - 0s 334us/sample - loss: 0.0027 - acc: 1.0000\n",
      "Epoch 24/30\n",
      "1000/1000 [==============================] - 0s 315us/sample - loss: 0.0014 - acc: 1.0000\n",
      "Epoch 25/30\n",
      "1000/1000 [==============================] - 0s 304us/sample - loss: 6.8668e-04 - acc: 1.0000\n",
      "Epoch 26/30\n",
      "1000/1000 [==============================] - 0s 287us/sample - loss: 3.3740e-04 - acc: 1.0000\n",
      "Epoch 27/30\n",
      "1000/1000 [==============================] - 0s 290us/sample - loss: 1.5387e-04 - acc: 1.0000\n",
      "Epoch 28/30\n",
      "1000/1000 [==============================] - 0s 330us/sample - loss: 7.6578e-05 - acc: 1.0000\n",
      "Epoch 29/30\n",
      "1000/1000 [==============================] - 0s 330us/sample - loss: 3.3949e-05 - acc: 1.0000\n",
      "Epoch 30/30\n",
      "1000/1000 [==============================] - 0s 366us/sample - loss: 1.5473e-05 - acc: 1.0000\n"
     ]
    },
    {
     "data": {
      "text/plain": [
       "<tensorflow.python.keras.callbacks.History at 0x7fa85d572eb8>"
      ]
     },
     "execution_count": 9,
     "metadata": {},
     "output_type": "execute_result"
    }
   ],
   "source": [
    "model.fit(x_train, y_train, batch_size=batch_size, epochs=30, )\n",
    "\n",
    "# validation_data=(x_val, y_val)\n",
    "         "
   ]
  },
  {
   "cell_type": "markdown",
   "metadata": {},
   "source": [
    "---"
   ]
  },
  {
   "cell_type": "code",
   "execution_count": null,
   "metadata": {},
   "outputs": [],
   "source": [
    "import tensorflow as tf\n",
    "from tensorflow.python.client import device_lib\n",
    "import keras "
   ]
  },
  {
   "cell_type": "code",
   "execution_count": null,
   "metadata": {},
   "outputs": [],
   "source": [
    "print(tf.__version__)\n",
    "print(keras.__version__)"
   ]
  },
  {
   "cell_type": "code",
   "execution_count": null,
   "metadata": {},
   "outputs": [],
   "source": [
    "print(tf.test.is_built_with_cuda())"
   ]
  },
  {
   "cell_type": "code",
   "execution_count": null,
   "metadata": {},
   "outputs": [],
   "source": [
    "if tf.test.is_built_with_cuda():\n",
    "    print('default GPU device:', tf.test.gpu_device_name() )\n",
    "else:\n",
    "    print('no GPU device found')\n",
    "    "
   ]
  },
  {
   "cell_type": "code",
   "execution_count": null,
   "metadata": {},
   "outputs": [],
   "source": [
    "print(device_lib.list_local_devices())"
   ]
  },
  {
   "cell_type": "markdown",
   "metadata": {},
   "source": [
    "---"
   ]
  },
  {
   "cell_type": "code",
   "execution_count": null,
   "metadata": {},
   "outputs": [],
   "source": [
    "# # expected input data shape: (batch_size, timesteps, data_dim)\n",
    "# model = Sequential()\n",
    "\n",
    "\n",
    "# # returns a sequence of vectors of dimension 32\n",
    "# model.add(LSTM(32, input_shape=(timesteps, data_dim)))  \n",
    "\n",
    "# model.add(Dense(num_classes, activation='softmax'))"
   ]
  },
  {
   "cell_type": "code",
   "execution_count": null,
   "metadata": {},
   "outputs": [],
   "source": [
    "# # expected input data shape: (batch_size, timesteps, data_dim)\n",
    "# model = Sequential()\n",
    "\n",
    "# # returns a sequence of vectors of dimension 32\n",
    "# model.add(LSTM(32,return_sequences=True,input_shape=(timesteps, data_dim)))  \n",
    "# model.add(LSTM(32,return_sequences=True))  \n",
    "# model.add(LSTM(32))  # return a single vector of dimension 32\n",
    "# model.add(Dense(num_classes, activation='softmax'))"
   ]
  },
  {
   "cell_type": "code",
   "execution_count": null,
   "metadata": {},
   "outputs": [],
   "source": [
    "# # expected input data shape: (batch_size, timesteps, data_dim)\n",
    "# model = Sequential()\n",
    "# # returns a sequence of vectors of dimension 32\n",
    "# model.add(LSTM(32, input_shape=(timesteps, data_dim)))  \n",
    "# model.add(Dense(num_classes, activation='softmax'))"
   ]
  },
  {
   "cell_type": "code",
   "execution_count": null,
   "metadata": {},
   "outputs": [],
   "source": [
    "# # expected input data shape: (batch_size, timesteps, data_dim)\n",
    "# model = Sequential()\n",
    "\n",
    "# # returns a sequence of vectors of dimension 32\n",
    "# model.add(LSTM(32,return_sequences=True,input_shape=(timesteps, data_dim)))  \n",
    "# model.add(LSTM(32,return_sequences=True))  \n",
    "# model.add(LSTM(32))  # return a single vector of dimension 32\n",
    "# model.add(Dense(num_classes, activation='softmax'))"
   ]
  }
 ],
 "metadata": {
  "kernelspec": {
   "display_name": "Python 3",
   "language": "python",
   "name": "python3"
  },
  "language_info": {
   "codemirror_mode": {
    "name": "ipython",
    "version": 3
   },
   "file_extension": ".py",
   "mimetype": "text/x-python",
   "name": "python",
   "nbconvert_exporter": "python",
   "pygments_lexer": "ipython3",
   "version": "3.7.3"
  },
  "toc": {
   "base_numbering": 1,
   "nav_menu": {},
   "number_sections": true,
   "sideBar": true,
   "skip_h1_title": false,
   "title_cell": "Table of Contents",
   "title_sidebar": "Contents",
   "toc_cell": false,
   "toc_position": {},
   "toc_section_display": "block",
   "toc_window_display": false
  }
 },
 "nbformat": 4,
 "nbformat_minor": 2
}
