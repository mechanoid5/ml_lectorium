{
 "cells": [
  {
   "cell_type": "markdown",
   "metadata": {},
   "source": [
    "**классификатор LSTM на Keras+TensorFlow**\n",
    "\n",
    "Евгений Борисов <borisov.e@solarl.ru>"
   ]
  },
  {
   "cell_type": "code",
   "execution_count": 2,
   "metadata": {},
   "outputs": [],
   "source": [
    "import numpy as np\n",
    "\n",
    "from tensorflow.keras.models import Sequential\n",
    "from tensorflow.keras.layers import LSTM\n",
    "from tensorflow.keras.layers import Dense"
   ]
  },
  {
   "cell_type": "code",
   "execution_count": 5,
   "metadata": {},
   "outputs": [
    {
     "data": {
      "text/plain": [
       "(1000, 8, 16)"
      ]
     },
     "execution_count": 5,
     "metadata": {},
     "output_type": "execute_result"
    }
   ],
   "source": [
    "data_dim = 16\n",
    "timesteps = 8\n",
    "num_classes = 2\n",
    "\n",
    "num_ex = 1000\n",
    "\n",
    "x_train = np.random.random((num_ex, timesteps, data_dim))\n",
    "y_train = np.random.randint(1,3,num_ex)\n",
    "\n",
    "x_train.shape\n",
    "\n",
    "# [ пример, элемент посл., вектор ]"
   ]
  },
  {
   "cell_type": "code",
   "execution_count": 7,
   "metadata": {},
   "outputs": [
    {
     "data": {
      "text/plain": [
       "(1000, 2)"
      ]
     },
     "execution_count": 7,
     "metadata": {},
     "output_type": "execute_result"
    }
   ],
   "source": [
    "from sklearn.preprocessing import OneHotEncoder\n",
    "\n",
    "y_train = np.random.randint(1,3,num_ex)\n",
    "y_train = OneHotEncoder(categories='auto').fit_transform(y_train.reshape(-1,1) ).todense()\n",
    "y_train.shape"
   ]
  },
  {
   "cell_type": "code",
   "execution_count": 8,
   "metadata": {},
   "outputs": [
    {
     "data": {
      "text/plain": [
       "matrix([[0., 1.],\n",
       "        [1., 0.],\n",
       "        [1., 0.],\n",
       "        ...,\n",
       "        [1., 0.],\n",
       "        [1., 0.],\n",
       "        [1., 0.]])"
      ]
     },
     "execution_count": 8,
     "metadata": {},
     "output_type": "execute_result"
    }
   ],
   "source": [
    "y_train"
   ]
  },
  {
   "cell_type": "code",
   "execution_count": 9,
   "metadata": {},
   "outputs": [
    {
     "name": "stdout",
     "output_type": "stream",
     "text": [
      "WARNING:tensorflow:From /usr/lib/python3.7/site-packages/tensorflow/python/ops/resource_variable_ops.py:435: colocate_with (from tensorflow.python.framework.ops) is deprecated and will be removed in a future version.\n",
      "Instructions for updating:\n",
      "Colocations handled automatically by placer.\n"
     ]
    }
   ],
   "source": [
    "# expected input data shape: (batch_size, timesteps, data_dim)\n",
    "model = Sequential()\n",
    "\n",
    "# returns a sequence of vectors of dimension 32\n",
    "model.add(LSTM(32, input_shape=(timesteps, data_dim)))  \n",
    "model.add(Dense(num_classes, activation='softmax'))"
   ]
  },
  {
   "cell_type": "code",
   "execution_count": 10,
   "metadata": {},
   "outputs": [],
   "source": [
    "# # expected input data shape: (batch_size, timesteps, data_dim)\n",
    "# model = Sequential()\n",
    "\n",
    "# # returns a sequence of vectors of dimension 32\n",
    "# model.add(LSTM(32,return_sequences=True,input_shape=(timesteps, data_dim)))  \n",
    "# model.add(LSTM(32,return_sequences=True))  \n",
    "# model.add(LSTM(32))  # return a single vector of dimension 32\n",
    "# model.add(Dense(num_classes, activation='softmax'))"
   ]
  },
  {
   "cell_type": "code",
   "execution_count": 11,
   "metadata": {},
   "outputs": [],
   "source": [
    "model.compile(loss='categorical_crossentropy',\n",
    "              optimizer='rmsprop',\n",
    "              metrics=['accuracy'])"
   ]
  },
  {
   "cell_type": "code",
   "execution_count": 12,
   "metadata": {},
   "outputs": [
    {
     "name": "stdout",
     "output_type": "stream",
     "text": [
      "WARNING:tensorflow:From /usr/lib/python3.7/site-packages/tensorflow/python/ops/math_ops.py:3066: to_int32 (from tensorflow.python.ops.math_ops) is deprecated and will be removed in a future version.\n",
      "Instructions for updating:\n",
      "Use tf.cast instead.\n",
      "Epoch 1/100\n",
      "1000/1000 [==============================] - 1s 1ms/sample - loss: 0.6989 - acc: 0.4760\n",
      "Epoch 2/100\n",
      "1000/1000 [==============================] - 0s 283us/sample - loss: 0.6968 - acc: 0.4810\n",
      "Epoch 3/100\n",
      "1000/1000 [==============================] - 0s 280us/sample - loss: 0.6955 - acc: 0.4890\n",
      "Epoch 4/100\n",
      "1000/1000 [==============================] - 0s 347us/sample - loss: 0.6945 - acc: 0.5050\n",
      "Epoch 5/100\n",
      "1000/1000 [==============================] - 0s 265us/sample - loss: 0.6942 - acc: 0.4960\n",
      "Epoch 6/100\n",
      "1000/1000 [==============================] - 0s 265us/sample - loss: 0.6940 - acc: 0.5040\n",
      "Epoch 7/100\n",
      "1000/1000 [==============================] - 0s 283us/sample - loss: 0.6931 - acc: 0.5090\n",
      "Epoch 8/100\n",
      "1000/1000 [==============================] - 0s 310us/sample - loss: 0.6926 - acc: 0.5210\n",
      "Epoch 9/100\n",
      "1000/1000 [==============================] - 0s 264us/sample - loss: 0.6929 - acc: 0.5110\n",
      "Epoch 10/100\n",
      "1000/1000 [==============================] - 0s 410us/sample - loss: 0.6908 - acc: 0.5130\n",
      "Epoch 11/100\n",
      "1000/1000 [==============================] - 0s 386us/sample - loss: 0.6898 - acc: 0.5400\n",
      "Epoch 12/100\n",
      "1000/1000 [==============================] - 0s 323us/sample - loss: 0.6880 - acc: 0.5520\n",
      "Epoch 13/100\n",
      "1000/1000 [==============================] - 0s 321us/sample - loss: 0.6874 - acc: 0.5310\n",
      "Epoch 14/100\n",
      "1000/1000 [==============================] - 0s 347us/sample - loss: 0.6870 - acc: 0.5540\n",
      "Epoch 15/100\n",
      "1000/1000 [==============================] - 0s 320us/sample - loss: 0.6859 - acc: 0.5650\n",
      "Epoch 16/100\n",
      "1000/1000 [==============================] - 0s 310us/sample - loss: 0.6849 - acc: 0.5550\n",
      "Epoch 17/100\n",
      "1000/1000 [==============================] - 0s 350us/sample - loss: 0.6834 - acc: 0.5720\n",
      "Epoch 18/100\n",
      "1000/1000 [==============================] - 0s 314us/sample - loss: 0.6830 - acc: 0.5510\n",
      "Epoch 19/100\n",
      "1000/1000 [==============================] - 0s 334us/sample - loss: 0.6823 - acc: 0.5570\n",
      "Epoch 20/100\n",
      "1000/1000 [==============================] - 0s 362us/sample - loss: 0.6795 - acc: 0.5830\n",
      "Epoch 21/100\n",
      "1000/1000 [==============================] - 0s 306us/sample - loss: 0.6786 - acc: 0.5800\n",
      "Epoch 22/100\n",
      "1000/1000 [==============================] - 0s 325us/sample - loss: 0.6785 - acc: 0.5710\n",
      "Epoch 23/100\n",
      "1000/1000 [==============================] - 0s 360us/sample - loss: 0.6773 - acc: 0.5650\n",
      "Epoch 24/100\n",
      "1000/1000 [==============================] - 0s 319us/sample - loss: 0.6787 - acc: 0.5750\n",
      "Epoch 25/100\n",
      "1000/1000 [==============================] - 0s 339us/sample - loss: 0.6794 - acc: 0.5580\n",
      "Epoch 26/100\n",
      "1000/1000 [==============================] - 0s 338us/sample - loss: 0.6746 - acc: 0.5800\n",
      "Epoch 27/100\n",
      "1000/1000 [==============================] - 0s 381us/sample - loss: 0.6748 - acc: 0.5760\n",
      "Epoch 28/100\n",
      "1000/1000 [==============================] - 0s 314us/sample - loss: 0.6725 - acc: 0.5780\n",
      "Epoch 29/100\n",
      "1000/1000 [==============================] - 0s 320us/sample - loss: 0.6732 - acc: 0.6010\n",
      "Epoch 30/100\n",
      "1000/1000 [==============================] - 0s 377us/sample - loss: 0.6726 - acc: 0.5700\n",
      "Epoch 31/100\n",
      "1000/1000 [==============================] - 0s 390us/sample - loss: 0.6669 - acc: 0.5900\n",
      "Epoch 32/100\n",
      "1000/1000 [==============================] - 0s 412us/sample - loss: 0.6731 - acc: 0.5800\n",
      "Epoch 33/100\n",
      "1000/1000 [==============================] - 0s 421us/sample - loss: 0.6693 - acc: 0.5860\n",
      "Epoch 34/100\n",
      "1000/1000 [==============================] - 0s 326us/sample - loss: 0.6716 - acc: 0.5890\n",
      "Epoch 35/100\n",
      "1000/1000 [==============================] - 0s 350us/sample - loss: 0.6713 - acc: 0.5800\n",
      "Epoch 36/100\n",
      "1000/1000 [==============================] - 0s 314us/sample - loss: 0.6672 - acc: 0.5910\n",
      "Epoch 37/100\n",
      "1000/1000 [==============================] - 0s 277us/sample - loss: 0.6670 - acc: 0.5830\n",
      "Epoch 38/100\n",
      "1000/1000 [==============================] - 0s 267us/sample - loss: 0.6652 - acc: 0.5940\n",
      "Epoch 39/100\n",
      "1000/1000 [==============================] - 0s 342us/sample - loss: 0.6666 - acc: 0.5870\n",
      "Epoch 40/100\n",
      "1000/1000 [==============================] - 0s 357us/sample - loss: 0.6641 - acc: 0.6070\n",
      "Epoch 41/100\n",
      "1000/1000 [==============================] - 0s 343us/sample - loss: 0.6638 - acc: 0.5960\n",
      "Epoch 42/100\n",
      "1000/1000 [==============================] - 0s 398us/sample - loss: 0.6669 - acc: 0.5840\n",
      "Epoch 43/100\n",
      "1000/1000 [==============================] - 0s 352us/sample - loss: 0.6605 - acc: 0.5900\n",
      "Epoch 44/100\n",
      "1000/1000 [==============================] - 0s 381us/sample - loss: 0.6600 - acc: 0.6090\n",
      "Epoch 45/100\n",
      "1000/1000 [==============================] - 0s 389us/sample - loss: 0.6614 - acc: 0.5970\n",
      "Epoch 46/100\n",
      "1000/1000 [==============================] - 0s 349us/sample - loss: 0.6595 - acc: 0.6020\n",
      "Epoch 47/100\n",
      "1000/1000 [==============================] - 0s 355us/sample - loss: 0.6568 - acc: 0.5980\n",
      "Epoch 48/100\n",
      "1000/1000 [==============================] - 0s 362us/sample - loss: 0.6548 - acc: 0.6170\n",
      "Epoch 49/100\n",
      "1000/1000 [==============================] - 0s 331us/sample - loss: 0.6487 - acc: 0.6180\n",
      "Epoch 50/100\n",
      "1000/1000 [==============================] - 0s 334us/sample - loss: 0.6544 - acc: 0.6230\n",
      "Epoch 51/100\n",
      "1000/1000 [==============================] - 0s 355us/sample - loss: 0.6521 - acc: 0.6170\n",
      "Epoch 52/100\n",
      "1000/1000 [==============================] - 0s 330us/sample - loss: 0.6510 - acc: 0.6180\n",
      "Epoch 53/100\n",
      "1000/1000 [==============================] - 0s 374us/sample - loss: 0.6496 - acc: 0.6140\n",
      "Epoch 54/100\n",
      "1000/1000 [==============================] - 0s 385us/sample - loss: 0.6454 - acc: 0.6260\n",
      "Epoch 55/100\n",
      "1000/1000 [==============================] - 0s 365us/sample - loss: 0.6472 - acc: 0.6050\n",
      "Epoch 56/100\n",
      "1000/1000 [==============================] - 0s 334us/sample - loss: 0.6416 - acc: 0.6280\n",
      "Epoch 57/100\n",
      "1000/1000 [==============================] - 0s 376us/sample - loss: 0.6454 - acc: 0.6330\n",
      "Epoch 58/100\n",
      "1000/1000 [==============================] - 0s 343us/sample - loss: 0.6406 - acc: 0.6320\n",
      "Epoch 59/100\n",
      "1000/1000 [==============================] - 0s 337us/sample - loss: 0.6369 - acc: 0.6400\n",
      "Epoch 60/100\n",
      "1000/1000 [==============================] - 0s 355us/sample - loss: 0.6366 - acc: 0.6370\n",
      "Epoch 61/100\n",
      "1000/1000 [==============================] - 0s 347us/sample - loss: 0.6392 - acc: 0.6440\n",
      "Epoch 62/100\n",
      "1000/1000 [==============================] - 0s 358us/sample - loss: 0.6375 - acc: 0.6400\n",
      "Epoch 63/100\n",
      "1000/1000 [==============================] - 0s 357us/sample - loss: 0.6300 - acc: 0.6620\n",
      "Epoch 64/100\n",
      "1000/1000 [==============================] - 0s 360us/sample - loss: 0.6306 - acc: 0.6420\n",
      "Epoch 65/100\n",
      "1000/1000 [==============================] - 0s 357us/sample - loss: 0.6235 - acc: 0.6440\n",
      "Epoch 66/100\n",
      "1000/1000 [==============================] - 0s 378us/sample - loss: 0.6285 - acc: 0.6520\n",
      "Epoch 67/100\n",
      "1000/1000 [==============================] - 0s 395us/sample - loss: 0.6269 - acc: 0.6400\n",
      "Epoch 68/100\n",
      "1000/1000 [==============================] - 0s 421us/sample - loss: 0.6209 - acc: 0.6560\n",
      "Epoch 69/100\n",
      "1000/1000 [==============================] - 0s 339us/sample - loss: 0.6243 - acc: 0.6420\n",
      "Epoch 70/100\n",
      "1000/1000 [==============================] - 0s 325us/sample - loss: 0.6220 - acc: 0.6540\n",
      "Epoch 71/100\n",
      "1000/1000 [==============================] - 0s 357us/sample - loss: 0.6200 - acc: 0.6480\n",
      "Epoch 72/100\n",
      "1000/1000 [==============================] - 0s 321us/sample - loss: 0.6124 - acc: 0.6510\n",
      "Epoch 73/100\n",
      "1000/1000 [==============================] - 0s 326us/sample - loss: 0.6142 - acc: 0.6560\n",
      "Epoch 74/100\n",
      "1000/1000 [==============================] - 0s 396us/sample - loss: 0.6134 - acc: 0.6470\n",
      "Epoch 75/100\n",
      "1000/1000 [==============================] - 0s 355us/sample - loss: 0.6077 - acc: 0.6600\n",
      "Epoch 76/100\n",
      "1000/1000 [==============================] - 0s 356us/sample - loss: 0.6100 - acc: 0.6650\n",
      "Epoch 77/100\n",
      "1000/1000 [==============================] - 0s 408us/sample - loss: 0.6043 - acc: 0.6640\n",
      "Epoch 78/100\n"
     ]
    },
    {
     "name": "stdout",
     "output_type": "stream",
     "text": [
      "1000/1000 [==============================] - 0s 291us/sample - loss: 0.6083 - acc: 0.6650\n",
      "Epoch 79/100\n",
      "1000/1000 [==============================] - 0s 238us/sample - loss: 0.6028 - acc: 0.6780\n",
      "Epoch 80/100\n",
      "1000/1000 [==============================] - 0s 254us/sample - loss: 0.6013 - acc: 0.6720\n",
      "Epoch 81/100\n",
      "1000/1000 [==============================] - 0s 297us/sample - loss: 0.5962 - acc: 0.6620\n",
      "Epoch 82/100\n",
      "1000/1000 [==============================] - 0s 250us/sample - loss: 0.5985 - acc: 0.6800\n",
      "Epoch 83/100\n",
      "1000/1000 [==============================] - 0s 275us/sample - loss: 0.5929 - acc: 0.6760\n",
      "Epoch 84/100\n",
      "1000/1000 [==============================] - 0s 275us/sample - loss: 0.5893 - acc: 0.6760\n",
      "Epoch 85/100\n",
      "1000/1000 [==============================] - 0s 306us/sample - loss: 0.5842 - acc: 0.6920\n",
      "Epoch 86/100\n",
      "1000/1000 [==============================] - 0s 282us/sample - loss: 0.5793 - acc: 0.6950\n",
      "Epoch 87/100\n",
      "1000/1000 [==============================] - 0s 282us/sample - loss: 0.5836 - acc: 0.6810\n",
      "Epoch 88/100\n",
      "1000/1000 [==============================] - 0s 278us/sample - loss: 0.5792 - acc: 0.6870\n",
      "Epoch 89/100\n",
      "1000/1000 [==============================] - 0s 277us/sample - loss: 0.5741 - acc: 0.7090\n",
      "Epoch 90/100\n",
      "1000/1000 [==============================] - 0s 251us/sample - loss: 0.5780 - acc: 0.6990\n",
      "Epoch 91/100\n",
      "1000/1000 [==============================] - 0s 267us/sample - loss: 0.5675 - acc: 0.6950\n",
      "Epoch 92/100\n",
      "1000/1000 [==============================] - 0s 391us/sample - loss: 0.5669 - acc: 0.7130\n",
      "Epoch 93/100\n",
      "1000/1000 [==============================] - 0s 351us/sample - loss: 0.5685 - acc: 0.7210\n",
      "Epoch 94/100\n",
      "1000/1000 [==============================] - 0s 359us/sample - loss: 0.5660 - acc: 0.7000\n",
      "Epoch 95/100\n",
      "1000/1000 [==============================] - 0s 369us/sample - loss: 0.5611 - acc: 0.7290\n",
      "Epoch 96/100\n",
      "1000/1000 [==============================] - 0s 357us/sample - loss: 0.5532 - acc: 0.7170\n",
      "Epoch 97/100\n",
      "1000/1000 [==============================] - 0s 354us/sample - loss: 0.5485 - acc: 0.7240\n",
      "Epoch 98/100\n",
      "1000/1000 [==============================] - 0s 378us/sample - loss: 0.5526 - acc: 0.7210\n",
      "Epoch 99/100\n",
      "1000/1000 [==============================] - 0s 325us/sample - loss: 0.5468 - acc: 0.7280\n",
      "Epoch 100/100\n",
      "1000/1000 [==============================] - 0s 328us/sample - loss: 0.5504 - acc: 0.7140\n"
     ]
    },
    {
     "data": {
      "text/plain": [
       "<tensorflow.python.keras.callbacks.History at 0x7f84c119af28>"
      ]
     },
     "execution_count": 12,
     "metadata": {},
     "output_type": "execute_result"
    }
   ],
   "source": [
    "model.fit(x_train, y_train,\n",
    "          batch_size=64, epochs=100,\n",
    "          # validation_data=(x_val, y_val)\n",
    "         )"
   ]
  },
  {
   "cell_type": "markdown",
   "metadata": {},
   "source": [
    "---"
   ]
  },
  {
   "cell_type": "code",
<<<<<<< HEAD
   "execution_count": 1,
=======
   "execution_count": 13,
>>>>>>> 200b7afdb4b00b918f720734d16ca7d93e1b0bdd
   "metadata": {},
   "outputs": [
    {
     "name": "stderr",
     "output_type": "stream",
     "text": [
      "Using TensorFlow backend.\n"
     ]
    }
   ],
   "source": [
    "import tensorflow as tf\n",
    "from tensorflow.python.client import device_lib\n",
    "from tensorflow import keras "
   ]
  },
  {
   "cell_type": "code",
<<<<<<< HEAD
   "execution_count": 2,
=======
   "execution_count": 14,
>>>>>>> 200b7afdb4b00b918f720734d16ca7d93e1b0bdd
   "metadata": {},
   "outputs": [
    {
     "name": "stdout",
     "output_type": "stream",
     "text": [
      "1.13.1\n",
      "2.2.4-tf\n"
     ]
    }
   ],
   "source": [
    "print(tf.__version__)\n",
    "print(keras.__version__)"
   ]
  },
  {
   "cell_type": "code",
<<<<<<< HEAD
   "execution_count": 3,
=======
   "execution_count": 15,
>>>>>>> 200b7afdb4b00b918f720734d16ca7d93e1b0bdd
   "metadata": {},
   "outputs": [
    {
     "name": "stdout",
     "output_type": "stream",
     "text": [
      "False\n"
     ]
    }
   ],
   "source": [
    "print(tf.test.is_built_with_cuda())"
   ]
  },
  {
   "cell_type": "code",
<<<<<<< HEAD
   "execution_count": 4,
=======
   "execution_count": 16,
>>>>>>> 200b7afdb4b00b918f720734d16ca7d93e1b0bdd
   "metadata": {},
   "outputs": [
    {
     "name": "stdout",
     "output_type": "stream",
     "text": [
      "no GPU device found\n"
     ]
    }
   ],
   "source": [
    "if tf.test.is_built_with_cuda():\n",
    "    print('default GPU device:', tf.test.gpu_device_name() )\n",
    "else:\n",
    "    print('no GPU device found')\n",
    "    "
   ]
  },
  {
   "cell_type": "code",
<<<<<<< HEAD
   "execution_count": 5,
=======
   "execution_count": 17,
>>>>>>> 200b7afdb4b00b918f720734d16ca7d93e1b0bdd
   "metadata": {},
   "outputs": [
    {
     "name": "stdout",
     "output_type": "stream",
     "text": [
      "[name: \"/device:CPU:0\"\n",
      "device_type: \"CPU\"\n",
      "memory_limit: 268435456\n",
      "locality {\n",
      "}\n",
<<<<<<< HEAD
      "incarnation: 16695609714672171266\n",
=======
      "incarnation: 2815780628794301991\n",
>>>>>>> 200b7afdb4b00b918f720734d16ca7d93e1b0bdd
      ", name: \"/device:XLA_CPU:0\"\n",
      "device_type: \"XLA_CPU\"\n",
      "memory_limit: 17179869184\n",
      "locality {\n",
      "}\n",
<<<<<<< HEAD
      "incarnation: 13715568650849507884\n",
      "physical_device_desc: \"device: XLA_CPU device\"\n",
      ", name: \"/device:XLA_GPU:0\"\n",
      "device_type: \"XLA_GPU\"\n",
      "memory_limit: 17179869184\n",
      "locality {\n",
      "}\n",
      "incarnation: 9197481341556004844\n",
      "physical_device_desc: \"device: XLA_GPU device\"\n",
      ", name: \"/device:GPU:0\"\n",
      "device_type: \"GPU\"\n",
      "memory_limit: 125042688\n",
      "locality {\n",
      "  bus_id: 1\n",
      "  links {\n",
      "  }\n",
      "}\n",
      "incarnation: 5369130855820216500\n",
      "physical_device_desc: \"device: 0, name: GeForce GT 730, pci bus id: 0000:01:00.0, compute capability: 3.5\"\n",
=======
      "incarnation: 15048382513376226326\n",
      "physical_device_desc: \"device: XLA_CPU device\"\n",
>>>>>>> 200b7afdb4b00b918f720734d16ca7d93e1b0bdd
      "]\n"
     ]
    }
   ],
   "source": [
    "print(device_lib.list_local_devices())"
   ]
  },
  {
   "cell_type": "code",
   "execution_count": null,
   "metadata": {},
   "outputs": [],
   "source": []
  }
 ],
 "metadata": {
  "kernelspec": {
   "display_name": "Python 3",
   "language": "python",
   "name": "python3"
  },
  "language_info": {
   "codemirror_mode": {
    "name": "ipython",
    "version": 3
   },
   "file_extension": ".py",
   "mimetype": "text/x-python",
   "name": "python",
   "nbconvert_exporter": "python",
   "pygments_lexer": "ipython3",
   "version": "3.7.3"
  },
  "toc": {
   "base_numbering": 1,
   "nav_menu": {},
   "number_sections": true,
   "sideBar": true,
   "skip_h1_title": false,
   "title_cell": "Table of Contents",
   "title_sidebar": "Contents",
   "toc_cell": false,
   "toc_position": {},
   "toc_section_display": "block",
   "toc_window_display": false
  }
 },
 "nbformat": 4,
 "nbformat_minor": 2
}
