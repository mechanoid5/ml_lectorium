{
 "cells": [
  {
   "cell_type": "markdown",
   "metadata": {},
   "source": [
    "**классификатор LSTM на Keras+TensorFlow**\n",
    "\n",
    "Евгений Борисов <borisov.e@solarl.ru>"
   ]
  },
  {
   "cell_type": "code",
   "execution_count": 1,
   "metadata": {},
   "outputs": [
    {
     "name": "stderr",
     "output_type": "stream",
     "text": [
      "Using TensorFlow backend.\n"
     ]
    }
   ],
   "source": [
    "import numpy as np\n",
    "\n",
    "from keras.models import Sequential\n",
    "from keras.layers import LSTM\n",
    "from keras.layers import Dense"
   ]
  },
  {
   "cell_type": "code",
   "execution_count": 2,
   "metadata": {},
   "outputs": [
    {
     "data": {
      "text/plain": [
       "(1000, 8, 16)"
      ]
     },
     "execution_count": 2,
     "metadata": {},
     "output_type": "execute_result"
    }
   ],
   "source": [
    "data_dim = 16\n",
    "timesteps = 8\n",
    "num_classes = 2\n",
    "\n",
    "num_ex = 1000\n",
    "\n",
    "x_train = np.random.random((num_ex, timesteps, data_dim))\n",
    "y_train = np.random.randint(1,3,num_ex)\n",
    "\n",
    "x_train.shape\n",
    "\n",
    "# [ пример, элемент посл., вектор ]"
   ]
  },
  {
   "cell_type": "code",
   "execution_count": 3,
   "metadata": {},
   "outputs": [
    {
     "data": {
      "text/plain": [
       "(1000, 2)"
      ]
     },
     "execution_count": 3,
     "metadata": {},
     "output_type": "execute_result"
    }
   ],
   "source": [
    "from sklearn.preprocessing import OneHotEncoder\n",
    "\n",
    "y_train = np.random.randint(1,3,num_ex)\n",
    "y_train = OneHotEncoder(categories='auto').fit_transform(y_train.reshape(-1,1) ).todense()\n",
    "y_train.shape"
   ]
  },
  {
   "cell_type": "code",
   "execution_count": 4,
   "metadata": {},
   "outputs": [
    {
     "name": "stdout",
     "output_type": "stream",
     "text": [
      "WARNING:tensorflow:From /usr/lib/python3.7/site-packages/tensorflow/python/framework/op_def_library.py:263: colocate_with (from tensorflow.python.framework.ops) is deprecated and will be removed in a future version.\n",
      "Instructions for updating:\n",
      "Colocations handled automatically by placer.\n"
     ]
    }
   ],
   "source": [
    "# expected input data shape: (batch_size, timesteps, data_dim)\n",
    "model = Sequential()\n",
    "\n",
    "# returns a sequence of vectors of dimension 32\n",
    "model.add(LSTM(32, input_shape=(timesteps, data_dim)))  \n",
    "\n",
    "model.add(Dense(num_classes, activation='softmax'))"
   ]
  },
  {
   "cell_type": "code",
   "execution_count": 5,
   "metadata": {},
   "outputs": [],
   "source": [
    "# # expected input data shape: (batch_size, timesteps, data_dim)\n",
    "# model = Sequential()\n",
    "\n",
    "# # returns a sequence of vectors of dimension 32\n",
    "# model.add(LSTM(32,return_sequences=True,input_shape=(timesteps, data_dim)))  \n",
    "# model.add(LSTM(32,return_sequences=True))  \n",
    "# model.add(LSTM(32))  # return a single vector of dimension 32\n",
    "# model.add(Dense(num_classes, activation='softmax'))"
   ]
  },
  {
   "cell_type": "code",
   "execution_count": 6,
   "metadata": {},
   "outputs": [],
   "source": [
    "model.compile(loss='categorical_crossentropy',\n",
    "              optimizer='rmsprop',\n",
    "              metrics=['accuracy'])"
   ]
  },
  {
   "cell_type": "code",
   "execution_count": 9,
   "metadata": {},
   "outputs": [
    {
     "name": "stdout",
     "output_type": "stream",
     "text": [
      "Epoch 1/100\n",
      "1000/1000 [==============================] - 0s 171us/step - loss: 0.2839 - acc: 0.9010\n",
      "Epoch 2/100\n",
      "1000/1000 [==============================] - 0s 166us/step - loss: 0.2750 - acc: 0.9050\n",
      "Epoch 3/100\n",
      "1000/1000 [==============================] - 0s 165us/step - loss: 0.2804 - acc: 0.8950\n",
      "Epoch 4/100\n",
      "1000/1000 [==============================] - 0s 158us/step - loss: 0.2642 - acc: 0.9070\n",
      "Epoch 5/100\n",
      "1000/1000 [==============================] - 0s 145us/step - loss: 0.2783 - acc: 0.8920\n",
      "Epoch 6/100\n",
      "1000/1000 [==============================] - 0s 154us/step - loss: 0.2577 - acc: 0.9080\n",
      "Epoch 7/100\n",
      "1000/1000 [==============================] - 0s 159us/step - loss: 0.2555 - acc: 0.9090\n",
      "Epoch 8/100\n",
      "1000/1000 [==============================] - 0s 166us/step - loss: 0.2538 - acc: 0.9080\n",
      "Epoch 9/100\n",
      "1000/1000 [==============================] - 0s 153us/step - loss: 0.2544 - acc: 0.9140\n",
      "Epoch 10/100\n",
      "1000/1000 [==============================] - 0s 151us/step - loss: 0.2416 - acc: 0.9250\n",
      "Epoch 11/100\n",
      "1000/1000 [==============================] - 0s 150us/step - loss: 0.2470 - acc: 0.9140\n",
      "Epoch 12/100\n",
      "1000/1000 [==============================] - 0s 153us/step - loss: 0.2272 - acc: 0.9270\n",
      "Epoch 13/100\n",
      "1000/1000 [==============================] - 0s 150us/step - loss: 0.2318 - acc: 0.9300\n",
      "Epoch 14/100\n",
      "1000/1000 [==============================] - 0s 164us/step - loss: 0.2337 - acc: 0.9210\n",
      "Epoch 15/100\n",
      "1000/1000 [==============================] - 0s 156us/step - loss: 0.2301 - acc: 0.9210\n",
      "Epoch 16/100\n",
      "1000/1000 [==============================] - 0s 161us/step - loss: 0.2156 - acc: 0.9370\n",
      "Epoch 17/100\n",
      "1000/1000 [==============================] - 0s 163us/step - loss: 0.2070 - acc: 0.9340\n",
      "Epoch 18/100\n",
      "1000/1000 [==============================] - 0s 160us/step - loss: 0.2153 - acc: 0.9260\n",
      "Epoch 19/100\n",
      "1000/1000 [==============================] - 0s 157us/step - loss: 0.2063 - acc: 0.9330\n",
      "Epoch 20/100\n",
      "1000/1000 [==============================] - 0s 157us/step - loss: 0.1974 - acc: 0.9360\n",
      "Epoch 21/100\n",
      "1000/1000 [==============================] - 0s 164us/step - loss: 0.2066 - acc: 0.9310\n",
      "Epoch 22/100\n",
      "1000/1000 [==============================] - 0s 164us/step - loss: 0.2009 - acc: 0.9350\n",
      "Epoch 23/100\n",
      "1000/1000 [==============================] - 0s 163us/step - loss: 0.1831 - acc: 0.9530\n",
      "Epoch 24/100\n",
      "1000/1000 [==============================] - 0s 168us/step - loss: 0.1907 - acc: 0.9480\n",
      "Epoch 25/100\n",
      "1000/1000 [==============================] - 0s 158us/step - loss: 0.1807 - acc: 0.9530\n",
      "Epoch 26/100\n",
      "1000/1000 [==============================] - 0s 167us/step - loss: 0.1759 - acc: 0.9510\n",
      "Epoch 27/100\n",
      "1000/1000 [==============================] - 0s 166us/step - loss: 0.1707 - acc: 0.9530\n",
      "Epoch 28/100\n",
      "1000/1000 [==============================] - 0s 168us/step - loss: 0.1664 - acc: 0.9560\n",
      "Epoch 29/100\n",
      "1000/1000 [==============================] - 0s 155us/step - loss: 0.1785 - acc: 0.9510\n",
      "Epoch 30/100\n",
      "1000/1000 [==============================] - 0s 158us/step - loss: 0.1650 - acc: 0.9590\n",
      "Epoch 31/100\n",
      "1000/1000 [==============================] - 0s 160us/step - loss: 0.1602 - acc: 0.9600\n",
      "Epoch 32/100\n",
      "1000/1000 [==============================] - 0s 166us/step - loss: 0.1558 - acc: 0.9590\n",
      "Epoch 33/100\n",
      "1000/1000 [==============================] - 0s 171us/step - loss: 0.1488 - acc: 0.9650\n",
      "Epoch 34/100\n",
      "1000/1000 [==============================] - 0s 154us/step - loss: 0.1556 - acc: 0.9580\n",
      "Epoch 35/100\n",
      "1000/1000 [==============================] - 0s 157us/step - loss: 0.1398 - acc: 0.9650\n",
      "Epoch 36/100\n",
      "1000/1000 [==============================] - 0s 165us/step - loss: 0.1308 - acc: 0.9730\n",
      "Epoch 37/100\n",
      "1000/1000 [==============================] - 0s 152us/step - loss: 0.1383 - acc: 0.9680\n",
      "Epoch 38/100\n",
      "1000/1000 [==============================] - 0s 156us/step - loss: 0.1305 - acc: 0.9690\n",
      "Epoch 39/100\n",
      "1000/1000 [==============================] - 0s 170us/step - loss: 0.1386 - acc: 0.9630\n",
      "Epoch 40/100\n",
      "1000/1000 [==============================] - 0s 153us/step - loss: 0.1351 - acc: 0.9680\n",
      "Epoch 41/100\n",
      "1000/1000 [==============================] - 0s 160us/step - loss: 0.1137 - acc: 0.9780\n",
      "Epoch 42/100\n",
      "1000/1000 [==============================] - 0s 153us/step - loss: 0.1182 - acc: 0.9730\n",
      "Epoch 43/100\n",
      "1000/1000 [==============================] - 0s 167us/step - loss: 0.1245 - acc: 0.9670\n",
      "Epoch 44/100\n",
      "1000/1000 [==============================] - 0s 158us/step - loss: 0.1104 - acc: 0.9770\n",
      "Epoch 45/100\n",
      "1000/1000 [==============================] - 0s 158us/step - loss: 0.1114 - acc: 0.9700\n",
      "Epoch 46/100\n",
      "1000/1000 [==============================] - 0s 164us/step - loss: 0.1184 - acc: 0.9690\n",
      "Epoch 47/100\n",
      "1000/1000 [==============================] - 0s 165us/step - loss: 0.0993 - acc: 0.9890\n",
      "Epoch 48/100\n",
      "1000/1000 [==============================] - 0s 166us/step - loss: 0.1219 - acc: 0.9670\n",
      "Epoch 49/100\n",
      "1000/1000 [==============================] - 0s 171us/step - loss: 0.0987 - acc: 0.9850\n",
      "Epoch 50/100\n",
      "1000/1000 [==============================] - 0s 161us/step - loss: 0.0919 - acc: 0.9880\n",
      "Epoch 51/100\n",
      "1000/1000 [==============================] - 0s 171us/step - loss: 0.1183 - acc: 0.9660\n",
      "Epoch 52/100\n",
      "1000/1000 [==============================] - 0s 162us/step - loss: 0.0768 - acc: 0.9910\n",
      "Epoch 53/100\n",
      "1000/1000 [==============================] - 0s 163us/step - loss: 0.0849 - acc: 0.9860\n",
      "Epoch 54/100\n",
      "1000/1000 [==============================] - 0s 155us/step - loss: 0.1025 - acc: 0.9770\n",
      "Epoch 55/100\n",
      "1000/1000 [==============================] - 0s 166us/step - loss: 0.0825 - acc: 0.9840\n",
      "Epoch 56/100\n",
      "1000/1000 [==============================] - 0s 158us/step - loss: 0.0926 - acc: 0.9820\n",
      "Epoch 57/100\n",
      "1000/1000 [==============================] - 0s 158us/step - loss: 0.0719 - acc: 0.9940\n",
      "Epoch 58/100\n",
      "1000/1000 [==============================] - 0s 165us/step - loss: 0.0854 - acc: 0.9850\n",
      "Epoch 59/100\n",
      "1000/1000 [==============================] - 0s 157us/step - loss: 0.0887 - acc: 0.9820\n",
      "Epoch 60/100\n",
      "1000/1000 [==============================] - 0s 167us/step - loss: 0.0735 - acc: 0.9920\n",
      "Epoch 61/100\n",
      "1000/1000 [==============================] - 0s 163us/step - loss: 0.0765 - acc: 0.9880\n",
      "Epoch 62/100\n",
      "1000/1000 [==============================] - 0s 161us/step - loss: 0.0651 - acc: 0.9910\n",
      "Epoch 63/100\n",
      "1000/1000 [==============================] - 0s 165us/step - loss: 0.0749 - acc: 0.9870\n",
      "Epoch 64/100\n",
      "1000/1000 [==============================] - 0s 168us/step - loss: 0.0623 - acc: 0.9900\n",
      "Epoch 65/100\n",
      "1000/1000 [==============================] - 0s 166us/step - loss: 0.0732 - acc: 0.9890\n",
      "Epoch 66/100\n",
      "1000/1000 [==============================] - 0s 163us/step - loss: 0.0664 - acc: 0.9940\n",
      "Epoch 67/100\n",
      "1000/1000 [==============================] - 0s 162us/step - loss: 0.0570 - acc: 0.9940\n",
      "Epoch 68/100\n",
      "1000/1000 [==============================] - 0s 161us/step - loss: 0.0568 - acc: 0.9960\n",
      "Epoch 69/100\n",
      "1000/1000 [==============================] - 0s 170us/step - loss: 0.0703 - acc: 0.9840\n",
      "Epoch 70/100\n",
      "1000/1000 [==============================] - 0s 166us/step - loss: 0.0580 - acc: 0.9930\n",
      "Epoch 71/100\n",
      "1000/1000 [==============================] - 0s 147us/step - loss: 0.0695 - acc: 0.9860\n",
      "Epoch 72/100\n",
      "1000/1000 [==============================] - 0s 161us/step - loss: 0.0416 - acc: 0.9990\n",
      "Epoch 73/100\n",
      "1000/1000 [==============================] - 0s 162us/step - loss: 0.0534 - acc: 0.9880\n",
      "Epoch 74/100\n",
      "1000/1000 [==============================] - 0s 155us/step - loss: 0.0539 - acc: 0.9880\n",
      "Epoch 75/100\n",
      "1000/1000 [==============================] - 0s 158us/step - loss: 0.0516 - acc: 0.9920\n",
      "Epoch 76/100\n",
      "1000/1000 [==============================] - 0s 175us/step - loss: 0.0350 - acc: 1.0000\n",
      "Epoch 77/100\n",
      "1000/1000 [==============================] - 0s 158us/step - loss: 0.0708 - acc: 0.9870\n",
      "Epoch 78/100\n",
      "1000/1000 [==============================] - 0s 156us/step - loss: 0.0666 - acc: 0.9820\n",
      "Epoch 79/100\n",
      "1000/1000 [==============================] - 0s 160us/step - loss: 0.0483 - acc: 0.9910\n",
      "Epoch 80/100\n",
      "1000/1000 [==============================] - 0s 157us/step - loss: 0.0357 - acc: 0.9960\n",
      "Epoch 81/100\n",
      "1000/1000 [==============================] - 0s 156us/step - loss: 0.0532 - acc: 0.9880\n",
      "Epoch 82/100\n"
     ]
    },
    {
     "name": "stdout",
     "output_type": "stream",
     "text": [
      "1000/1000 [==============================] - 0s 154us/step - loss: 0.0547 - acc: 0.9890\n",
      "Epoch 83/100\n",
      "1000/1000 [==============================] - 0s 154us/step - loss: 0.0322 - acc: 0.9970\n",
      "Epoch 84/100\n",
      "1000/1000 [==============================] - 0s 147us/step - loss: 0.0535 - acc: 0.9880\n",
      "Epoch 85/100\n",
      "1000/1000 [==============================] - 0s 144us/step - loss: 0.0264 - acc: 1.0000\n",
      "Epoch 86/100\n",
      "1000/1000 [==============================] - 0s 145us/step - loss: 0.0788 - acc: 0.9800\n",
      "Epoch 87/100\n",
      "1000/1000 [==============================] - 0s 153us/step - loss: 0.0230 - acc: 1.0000\n",
      "Epoch 88/100\n",
      "1000/1000 [==============================] - 0s 143us/step - loss: 0.0437 - acc: 0.9910 0s - loss: 0.0348 - acc: 0.995\n",
      "Epoch 89/100\n",
      "1000/1000 [==============================] - 0s 159us/step - loss: 0.0323 - acc: 0.9970\n",
      "Epoch 90/100\n",
      "1000/1000 [==============================] - 0s 146us/step - loss: 0.0223 - acc: 1.0000\n",
      "Epoch 91/100\n",
      "1000/1000 [==============================] - 0s 151us/step - loss: 0.0424 - acc: 0.9900\n",
      "Epoch 92/100\n",
      "1000/1000 [==============================] - 0s 144us/step - loss: 0.0255 - acc: 0.9990\n",
      "Epoch 93/100\n",
      "1000/1000 [==============================] - 0s 146us/step - loss: 0.0262 - acc: 0.9990\n",
      "Epoch 94/100\n",
      "1000/1000 [==============================] - 0s 147us/step - loss: 0.0911 - acc: 0.9710\n",
      "Epoch 95/100\n",
      "1000/1000 [==============================] - 0s 146us/step - loss: 0.0169 - acc: 1.0000\n",
      "Epoch 96/100\n",
      "1000/1000 [==============================] - 0s 150us/step - loss: 0.0435 - acc: 0.9920\n",
      "Epoch 97/100\n",
      "1000/1000 [==============================] - 0s 149us/step - loss: 0.0176 - acc: 1.0000\n",
      "Epoch 98/100\n",
      "1000/1000 [==============================] - 0s 149us/step - loss: 0.0308 - acc: 0.9950\n",
      "Epoch 99/100\n",
      "1000/1000 [==============================] - 0s 144us/step - loss: 0.0452 - acc: 0.9870\n",
      "Epoch 100/100\n",
      "1000/1000 [==============================] - 0s 152us/step - loss: 0.0167 - acc: 1.0000\n"
     ]
    },
    {
     "data": {
      "text/plain": [
       "<keras.callbacks.History at 0x7f6945b2f278>"
      ]
     },
     "execution_count": 9,
     "metadata": {},
     "output_type": "execute_result"
    }
   ],
   "source": [
    "model.fit(x_train, y_train,\n",
    "          batch_size=64, epochs=100,\n",
    "          # validation_data=(x_val, y_val)\n",
    "         )"
   ]
  },
  {
   "cell_type": "markdown",
   "metadata": {},
   "source": [
    "---"
   ]
  },
  {
   "cell_type": "code",
   "execution_count": 10,
   "metadata": {},
   "outputs": [],
   "source": [
    "import tensorflow as tf\n",
    "from tensorflow.python.client import device_lib\n",
    "import keras "
   ]
  },
  {
   "cell_type": "code",
   "execution_count": 11,
   "metadata": {},
   "outputs": [
    {
     "name": "stdout",
     "output_type": "stream",
     "text": [
      "1.13.1\n",
      "2.2.2\n"
     ]
    }
   ],
   "source": [
    "print(tf.__version__)\n",
    "print(keras.__version__)"
   ]
  },
  {
   "cell_type": "code",
   "execution_count": 14,
   "metadata": {},
   "outputs": [
    {
     "name": "stdout",
     "output_type": "stream",
     "text": [
      "True\n"
     ]
    }
   ],
   "source": [
    "print(tf.test.is_built_with_cuda())"
   ]
  },
  {
   "cell_type": "code",
   "execution_count": 18,
   "metadata": {},
   "outputs": [
    {
     "name": "stdout",
     "output_type": "stream",
     "text": [
      "default GPU device: /device:GPU:0\n"
     ]
    }
   ],
   "source": [
    "if tf.test.is_built_with_cuda():\n",
    "    print('default GPU device:', tf.test.gpu_device_name() )\n",
    "else:\n",
    "    print('no GPU device found')\n",
    "    "
   ]
  },
  {
   "cell_type": "code",
   "execution_count": 19,
   "metadata": {},
   "outputs": [
    {
     "name": "stdout",
     "output_type": "stream",
     "text": [
      "[name: \"/device:CPU:0\"\n",
      "device_type: \"CPU\"\n",
      "memory_limit: 268435456\n",
      "locality {\n",
      "}\n",
      "incarnation: 1669823941875739713\n",
      ", name: \"/device:XLA_CPU:0\"\n",
      "device_type: \"XLA_CPU\"\n",
      "memory_limit: 17179869184\n",
      "locality {\n",
      "}\n",
      "incarnation: 7931370997068033643\n",
      "physical_device_desc: \"device: XLA_CPU device\"\n",
      ", name: \"/device:XLA_GPU:0\"\n",
      "device_type: \"XLA_GPU\"\n",
      "memory_limit: 17179869184\n",
      "locality {\n",
      "}\n",
      "incarnation: 5351303150882388291\n",
      "physical_device_desc: \"device: XLA_GPU device\"\n",
      ", name: \"/device:GPU:0\"\n",
      "device_type: \"GPU\"\n",
      "memory_limit: 1375076352\n",
      "locality {\n",
      "  bus_id: 1\n",
      "  links {\n",
      "  }\n",
      "}\n",
      "incarnation: 5285085446544565357\n",
      "physical_device_desc: \"device: 0, name: GeForce GT 730, pci bus id: 0000:01:00.0, compute capability: 3.5\"\n",
      "]\n"
     ]
    }
   ],
   "source": [
    "print(device_lib.list_local_devices())"
   ]
  },
  {
   "cell_type": "code",
   "execution_count": null,
   "metadata": {},
   "outputs": [],
   "source": []
  }
 ],
 "metadata": {
  "kernelspec": {
   "display_name": "Python 3",
   "language": "python",
   "name": "python3"
  },
  "language_info": {
   "codemirror_mode": {
    "name": "ipython",
    "version": 3
   },
   "file_extension": ".py",
   "mimetype": "text/x-python",
   "name": "python",
   "nbconvert_exporter": "python",
   "pygments_lexer": "ipython3",
   "version": "3.7.3"
  },
  "toc": {
   "base_numbering": 1,
   "nav_menu": {},
   "number_sections": true,
   "sideBar": true,
   "skip_h1_title": false,
   "title_cell": "Table of Contents",
   "title_sidebar": "Contents",
   "toc_cell": false,
   "toc_position": {},
   "toc_section_display": "block",
   "toc_window_display": false
  }
 },
 "nbformat": 4,
 "nbformat_minor": 2
}
