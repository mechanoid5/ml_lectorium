{
 "cells": [
  {
   "cell_type": "markdown",
   "metadata": {},
   "source": [
    "**классификатор изображений на основе свёрточной сети**\n",
    "\n",
    "Евгений Борисов <esborisov@sevsu.ru>"
   ]
  },
  {
   "cell_type": "markdown",
   "metadata": {},
   "source": [
    "---"
   ]
  },
  {
   "cell_type": "code",
   "execution_count": 1,
   "metadata": {},
   "outputs": [],
   "source": [
    "import numpy as np\n",
    "import matplotlib.pyplot as plt\n",
    "np.set_printoptions(precision=2)"
   ]
  },
  {
   "cell_type": "code",
   "execution_count": 2,
   "metadata": {},
   "outputs": [],
   "source": [
    "import torch\n",
    "import torchvision\n",
    "import torchvision.transforms as transforms"
   ]
  },
  {
   "cell_type": "markdown",
   "metadata": {},
   "source": [
    "## данные"
   ]
  },
  {
   "cell_type": "code",
   "execution_count": 3,
   "metadata": {},
   "outputs": [],
   "source": [
    "transform = transforms.Compose([\n",
    "     transforms.ToTensor(),\n",
    "     transforms.Normalize(( 0.5), ( 0.5))\n",
    "    ])\n",
    "\n",
    "batch_size = 1024"
   ]
  },
  {
   "cell_type": "code",
   "execution_count": 4,
   "metadata": {},
   "outputs": [],
   "source": [
    "trainset = torchvision.datasets.FashionMNIST(root='./data', train=True, download=True, transform=transform)\n",
    "trainloader = torch.utils.data.DataLoader(trainset, batch_size=batch_size, shuffle=True, num_workers=2)"
   ]
  },
  {
   "cell_type": "code",
   "execution_count": 5,
   "metadata": {},
   "outputs": [],
   "source": [
    "# images, labels = iter(trainloader).next()\n",
    "# images.shape"
   ]
  },
  {
   "cell_type": "code",
   "execution_count": 6,
   "metadata": {},
   "outputs": [],
   "source": [
    "# images.numpy()[0,0,:]"
   ]
  },
  {
   "cell_type": "code",
   "execution_count": 7,
   "metadata": {},
   "outputs": [],
   "source": [
    "testset = torchvision.datasets.FashionMNIST(root='./data', train=False, download=True, transform=transform)\n",
    "testloader = torch.utils.data.DataLoader(testset, batch_size=batch_size, shuffle=False, num_workers=2)"
   ]
  },
  {
   "cell_type": "code",
   "execution_count": 8,
   "metadata": {},
   "outputs": [],
   "source": [
    "class_names = [ 'футболка', \n",
    "                'брюки', \n",
    "                'свитер', \n",
    "                'платье', \n",
    "                'пальто', \n",
    "                'сандали', \n",
    "                'рубашка', \n",
    "                'тапки', \n",
    "                'сумка', \n",
    "                'ботинки', ]"
   ]
  },
  {
   "cell_type": "code",
   "execution_count": 9,
   "metadata": {},
   "outputs": [
    {
     "data": {
      "image/png": "[encoded data removed]",
      "text/plain": [
       "<Figure size 1008x432 with 14 Axes>"
      ]
     },
     "metadata": {
      "needs_background": "light"
     },
     "output_type": "display_data"
    }
   ],
   "source": [
    "def tensor2img(images):\n",
    "    x = np.transpose( images, (0, 2, 3, 1))\n",
    "    return ((x-x.min())/(x.max()-x.min())*255.).astype(np.uint8)\n",
    "\n",
    "\n",
    "def plot_samples( images, labels, n_show=14,columns=7,cmap='gray_r' ):\n",
    "    X = tensor2img( images.numpy() )\n",
    "    ii = np.random.permutation(X.shape[0])[:n_show]\n",
    "    fig = plt.figure(figsize=(2*columns,2*(n_show //columns+1)))\n",
    "    for n,i in enumerate(ii):\n",
    "        plt.subplot( n_show//columns+1, columns, n+1)\n",
    "        plt.axis(False)\n",
    "        plt.title( class_names[ labels.numpy()[i] ] )\n",
    "        plt.imshow(X[i,:],cmap=cmap)\n",
    "    fig.tight_layout()\n",
    "\n",
    "images, labels = iter(trainloader).next()\n",
    "plot_samples(images,labels)"
   ]
  },
  {
   "cell_type": "markdown",
   "metadata": {},
   "source": [
    "## модель"
   ]
  },
  {
   "cell_type": "code",
   "execution_count": 10,
   "metadata": {},
   "outputs": [
    {
     "data": {
      "text/plain": [
       "(1, 28, 28)"
      ]
     },
     "execution_count": 10,
     "metadata": {},
     "output_type": "execute_result"
    }
   ],
   "source": [
    "_,img_nch, img_h, img_w = images.shape\n",
    "img_nch,img_h, img_w"
   ]
  },
  {
   "cell_type": "code",
   "execution_count": 11,
   "metadata": {},
   "outputs": [],
   "source": [
    "import torch.nn as nn\n",
    "import torch.nn.functional as F"
   ]
  },
  {
   "cell_type": "code",
   "execution_count": 12,
   "metadata": {},
   "outputs": [],
   "source": [
    "class ConvNet(nn.Module):\n",
    "    def __init__(self):\n",
    "        super().__init__()\n",
    "        self.conv1 = nn.Conv2d(in_channels=img_nch, out_channels=8, kernel_size=(3,3))\n",
    "        self.pool = nn.MaxPool2d(2,2)\n",
    "        self.conv2 = nn.Conv2d(in_channels=8, out_channels=16, kernel_size=(5,5))\n",
    "        self.fc1 = nn.Linear(in_features=16*9*9, out_features=120)\n",
    "        self.fc2 = nn.Linear(120, 10)\n",
    "\n",
    "    def forward(self, x):\n",
    "        # print(x.shape)\n",
    "        x = F.relu(self.conv1(x))\n",
    "        # print(x.shape)\n",
    "        x = self.pool(x)\n",
    "        # print(x.shape)\n",
    "        x = F.relu(self.conv2(x))\n",
    "        # print(x.shape)\n",
    "        #x = self.pool(x)\n",
    "        # print(x.shape)\n",
    "        x = x.view(-1, 16*9*9)\n",
    "        x = F.relu(self.fc1(x))\n",
    "        x = F.softmax(self.fc2(x),dim=1)\n",
    "        return x"
   ]
  },
  {
   "cell_type": "code",
   "execution_count": 13,
   "metadata": {},
   "outputs": [
    {
     "data": {
      "text/plain": [
       "ConvNet(\n",
       "  (conv1): Conv2d(1, 8, kernel_size=(3, 3), stride=(1, 1))\n",
       "  (pool): MaxPool2d(kernel_size=2, stride=2, padding=0, dilation=1, ceil_mode=False)\n",
       "  (conv2): Conv2d(8, 16, kernel_size=(5, 5), stride=(1, 1))\n",
       "  (fc1): Linear(in_features=1296, out_features=120, bias=True)\n",
       "  (fc2): Linear(in_features=120, out_features=10, bias=True)\n",
       ")"
      ]
     },
     "execution_count": 13,
     "metadata": {},
     "output_type": "execute_result"
    }
   ],
   "source": [
    "model = ConvNet()\n",
    "model"
   ]
  },
  {
   "cell_type": "code",
   "execution_count": 14,
   "metadata": {},
   "outputs": [],
   "source": [
    "# model(images).shape"
   ]
  },
  {
   "cell_type": "markdown",
   "metadata": {},
   "source": [
    "## обучаем"
   ]
  },
  {
   "cell_type": "code",
   "execution_count": 15,
   "metadata": {},
   "outputs": [],
   "source": [
    "import torch.optim as optim"
   ]
  },
  {
   "cell_type": "code",
   "execution_count": 16,
   "metadata": {},
   "outputs": [],
   "source": [
    "criterion = nn.CrossEntropyLoss()\n",
    "# optimizer = optim.SGD(model.parameters(), lr=0.001) # , momentum=0.9)\n",
    "# scheduler = StepLR(optimizer, step_size=10, gamma=0.1)\n",
    "optimizer = optim.Adam(model.parameters(), lr=0.001) # , momentum=0.9)\n"
   ]
  },
  {
   "cell_type": "code",
   "execution_count": 17,
   "metadata": {},
   "outputs": [
    {
     "data": {
      "text/plain": [
       "device(type='cuda', index=0)"
      ]
     },
     "execution_count": 17,
     "metadata": {},
     "output_type": "execute_result"
    }
   ],
   "source": [
    "device = torch.device('cuda:0' if torch.cuda.is_available() else 'cpu')\n",
    "device"
   ]
  },
  {
   "cell_type": "code",
   "execution_count": 18,
   "metadata": {},
   "outputs": [],
   "source": [
    "model = model.to(device)"
   ]
  },
  {
   "cell_type": "code",
   "execution_count": 19,
   "metadata": {},
   "outputs": [
    {
     "name": "stdout",
     "output_type": "stream",
     "text": [
      "1/1 loss: 2.303\n",
      "1/11 loss: 2.188\n",
      "1/21 loss: 1.946\n",
      "1/31 loss: 1.815\n",
      "1/41 loss: 1.760\n",
      "1/51 loss: 1.710\n",
      "2/1 loss: 1.730\n",
      "2/11 loss: 1.717\n",
      "2/21 loss: 1.711\n",
      "2/31 loss: 1.692\n",
      "2/41 loss: 1.679\n",
      "2/51 loss: 1.665\n",
      "3/1 loss: 1.675\n",
      "3/11 loss: 1.658\n",
      "3/21 loss: 1.657\n",
      "3/31 loss: 1.650\n",
      "3/41 loss: 1.667\n",
      "3/51 loss: 1.640\n",
      "4/1 loss: 1.650\n",
      "4/11 loss: 1.647\n",
      "4/21 loss: 1.637\n",
      "4/31 loss: 1.635\n",
      "4/41 loss: 1.642\n",
      "4/51 loss: 1.635\n",
      "5/1 loss: 1.632\n",
      "5/11 loss: 1.627\n",
      "5/21 loss: 1.626\n",
      "5/31 loss: 1.611\n",
      "5/41 loss: 1.643\n",
      "5/51 loss: 1.623\n",
      "6/1 loss: 1.627\n",
      "6/11 loss: 1.614\n",
      "6/21 loss: 1.636\n",
      "6/31 loss: 1.603\n",
      "6/41 loss: 1.595\n",
      "6/51 loss: 1.622\n",
      "7/1 loss: 1.598\n",
      "7/11 loss: 1.608\n",
      "7/21 loss: 1.608\n",
      "7/31 loss: 1.606\n",
      "7/41 loss: 1.587\n",
      "7/51 loss: 1.593\n",
      "8/1 loss: 1.626\n",
      "8/11 loss: 1.616\n",
      "8/21 loss: 1.605\n",
      "8/31 loss: 1.595\n",
      "8/41 loss: 1.601\n",
      "8/51 loss: 1.599\n",
      "9/1 loss: 1.600\n",
      "9/11 loss: 1.590\n",
      "9/21 loss: 1.611\n",
      "9/31 loss: 1.592\n",
      "9/41 loss: 1.591\n",
      "9/51 loss: 1.600\n",
      "10/1 loss: 1.593\n",
      "10/11 loss: 1.609\n",
      "10/21 loss: 1.576\n",
      "10/31 loss: 1.593\n",
      "10/41 loss: 1.612\n",
      "10/51 loss: 1.608\n",
      "CPU times: user 9.06 s, sys: 861 ms, total: 9.92 s\n",
      "Wall time: 1min 4s\n"
     ]
    }
   ],
   "source": [
    "%%time\n",
    "\n",
    "loss_hist = []\n",
    "\n",
    "for epoch in range(10):  # loop over the dataset multiple times\n",
    "\n",
    "    for i, (images, labels)  in enumerate(trainloader, 0):\n",
    "        images, labels = images.to(device), labels.to(device)\n",
    "        \n",
    "        # zero the parameter gradients\n",
    "        optimizer.zero_grad()\n",
    "\n",
    "        # forward + backward + optimize\n",
    "        outputs = model(images)\n",
    "        loss = criterion(outputs, labels)\n",
    "        loss.backward()\n",
    "        optimizer.step()\n",
    "\n",
    "        # print statistics\n",
    "        loss_hist.append( loss.item() )\n",
    "        \n",
    "        if i % 10 == 0:    # print every N mini-batches\n",
    "            print('%d/%d loss: %.3f' %(epoch + 1, i + 1,  loss.item() ))\n",
    "                \n",
    "        del images\n",
    "        del labels"
   ]
  },
  {
   "cell_type": "code",
   "execution_count": 20,
   "metadata": {},
   "outputs": [
    {
     "data": {
      "text/plain": [
       "[<matplotlib.lines.Line2D at 0x7f923c78e160>]"
      ]
     },
     "execution_count": 20,
     "metadata": {},
     "output_type": "execute_result"
    },
    {
     "data": {
      "image/png": "[encoded data removed]",
      "text/plain": [
       "<Figure size 432x288 with 1 Axes>"
      ]
     },
     "metadata": {
      "needs_background": "light"
     },
     "output_type": "display_data"
    }
   ],
   "source": [
    "plt.plot(loss_hist)"
   ]
  },
  {
   "cell_type": "markdown",
   "metadata": {},
   "source": [
    "## тест"
   ]
  },
  {
   "cell_type": "code",
   "execution_count": 21,
   "metadata": {},
   "outputs": [],
   "source": [
    "from sklearn.metrics import accuracy_score\n",
    "from sklearn.metrics import classification_report"
   ]
  },
  {
   "cell_type": "code",
   "execution_count": 22,
   "metadata": {},
   "outputs": [],
   "source": [
    "label = []\n",
    "score = []\n",
    "images = []\n",
    "with torch.no_grad():\n",
    "    for x,y in testloader:\n",
    "        x, y = x.to(device), y.to(device)\n",
    "        o = model(x)\n",
    "        label.append( y.cpu().detach().numpy() )\n",
    "        score.append( o.cpu().detach().numpy() )\n",
    "        images.append(x.cpu().detach().numpy() ) \n",
    "        del x\n",
    "        del y"
   ]
  },
  {
   "cell_type": "code",
   "execution_count": 23,
   "metadata": {},
   "outputs": [],
   "source": [
    "# class_names"
   ]
  },
  {
   "cell_type": "code",
   "execution_count": 24,
   "metadata": {},
   "outputs": [],
   "source": [
    "label = np.hstack(label)\n",
    "score = np.vstack(score)\n",
    "images = tensor2img( np.vstack(images) )"
   ]
  },
  {
   "cell_type": "code",
   "execution_count": 25,
   "metadata": {},
   "outputs": [
    {
     "data": {
      "text/plain": [
       "0.8617"
      ]
     },
     "execution_count": 25,
     "metadata": {},
     "output_type": "execute_result"
    }
   ],
   "source": [
    "y_pred = np.argmax( score ,axis=1)\n",
    "accuracy_score(label, y_pred)\n",
    "# print(classification_report(label, y_pred) )"
   ]
  },
  {
   "cell_type": "code",
   "execution_count": 26,
   "metadata": {},
   "outputs": [
    {
     "data": {
      "text/html": [
       "<div>\n",
       "<style scoped>\n",
       "    .dataframe tbody tr th:only-of-type {\n",
       "        vertical-align: middle;\n",
       "    }\n",
       "\n",
       "    .dataframe tbody tr th {\n",
       "        vertical-align: top;\n",
       "    }\n",
       "\n",
       "    .dataframe thead th {\n",
       "        text-align: right;\n",
       "    }\n",
       "</style>\n",
       "<table border=\"1\" class=\"dataframe\">\n",
       "  <thead>\n",
       "    <tr style=\"text-align: right;\">\n",
       "      <th></th>\n",
       "      <th>class</th>\n",
       "      <th>name</th>\n",
       "      <th>precision</th>\n",
       "      <th>recall</th>\n",
       "      <th>f1-score</th>\n",
       "      <th>support</th>\n",
       "    </tr>\n",
       "  </thead>\n",
       "  <tbody>\n",
       "    <tr>\n",
       "      <th>0</th>\n",
       "      <td>0</td>\n",
       "      <td>футболка</td>\n",
       "      <td>0.78</td>\n",
       "      <td>0.85</td>\n",
       "      <td>0.81</td>\n",
       "      <td>1000</td>\n",
       "    </tr>\n",
       "    <tr>\n",
       "      <th>1</th>\n",
       "      <td>1</td>\n",
       "      <td>брюки</td>\n",
       "      <td>1.00</td>\n",
       "      <td>0.95</td>\n",
       "      <td>0.97</td>\n",
       "      <td>1000</td>\n",
       "    </tr>\n",
       "    <tr>\n",
       "      <th>2</th>\n",
       "      <td>2</td>\n",
       "      <td>свитер</td>\n",
       "      <td>0.76</td>\n",
       "      <td>0.83</td>\n",
       "      <td>0.80</td>\n",
       "      <td>1000</td>\n",
       "    </tr>\n",
       "    <tr>\n",
       "      <th>3</th>\n",
       "      <td>3</td>\n",
       "      <td>платье</td>\n",
       "      <td>0.81</td>\n",
       "      <td>0.91</td>\n",
       "      <td>0.86</td>\n",
       "      <td>1000</td>\n",
       "    </tr>\n",
       "    <tr>\n",
       "      <th>4</th>\n",
       "      <td>4</td>\n",
       "      <td>пальто</td>\n",
       "      <td>0.76</td>\n",
       "      <td>0.81</td>\n",
       "      <td>0.79</td>\n",
       "      <td>1000</td>\n",
       "    </tr>\n",
       "    <tr>\n",
       "      <th>5</th>\n",
       "      <td>5</td>\n",
       "      <td>сандали</td>\n",
       "      <td>0.94</td>\n",
       "      <td>0.96</td>\n",
       "      <td>0.95</td>\n",
       "      <td>1000</td>\n",
       "    </tr>\n",
       "    <tr>\n",
       "      <th>6</th>\n",
       "      <td>6</td>\n",
       "      <td>рубашка</td>\n",
       "      <td>0.71</td>\n",
       "      <td>0.48</td>\n",
       "      <td>0.57</td>\n",
       "      <td>1000</td>\n",
       "    </tr>\n",
       "    <tr>\n",
       "      <th>7</th>\n",
       "      <td>7</td>\n",
       "      <td>тапки</td>\n",
       "      <td>0.94</td>\n",
       "      <td>0.93</td>\n",
       "      <td>0.93</td>\n",
       "      <td>1000</td>\n",
       "    </tr>\n",
       "    <tr>\n",
       "      <th>8</th>\n",
       "      <td>8</td>\n",
       "      <td>сумка</td>\n",
       "      <td>0.96</td>\n",
       "      <td>0.96</td>\n",
       "      <td>0.96</td>\n",
       "      <td>1000</td>\n",
       "    </tr>\n",
       "    <tr>\n",
       "      <th>9</th>\n",
       "      <td>9</td>\n",
       "      <td>ботинки</td>\n",
       "      <td>0.95</td>\n",
       "      <td>0.95</td>\n",
       "      <td>0.95</td>\n",
       "      <td>1000</td>\n",
       "    </tr>\n",
       "    <tr>\n",
       "      <th>10</th>\n",
       "      <td>accuracy</td>\n",
       "      <td></td>\n",
       "      <td></td>\n",
       "      <td></td>\n",
       "      <td>0.86</td>\n",
       "      <td>10000</td>\n",
       "    </tr>\n",
       "    <tr>\n",
       "      <th>11</th>\n",
       "      <td>macro avg</td>\n",
       "      <td></td>\n",
       "      <td>0.86</td>\n",
       "      <td>0.86</td>\n",
       "      <td>0.86</td>\n",
       "      <td>10000</td>\n",
       "    </tr>\n",
       "    <tr>\n",
       "      <th>12</th>\n",
       "      <td>weighted avg</td>\n",
       "      <td></td>\n",
       "      <td>0.86</td>\n",
       "      <td>0.86</td>\n",
       "      <td>0.86</td>\n",
       "      <td>10000</td>\n",
       "    </tr>\n",
       "  </tbody>\n",
       "</table>\n",
       "</div>"
      ],
      "text/plain": [
       "           class      name precision recall f1-score support\n",
       "0              0  футболка      0.78   0.85     0.81    1000\n",
       "1              1     брюки      1.00   0.95     0.97    1000\n",
       "2              2    свитер      0.76   0.83     0.80    1000\n",
       "3              3    платье      0.81   0.91     0.86    1000\n",
       "4              4    пальто      0.76   0.81     0.79    1000\n",
       "5              5   сандали      0.94   0.96     0.95    1000\n",
       "6              6   рубашка      0.71   0.48     0.57    1000\n",
       "7              7     тапки      0.94   0.93     0.93    1000\n",
       "8              8     сумка      0.96   0.96     0.96    1000\n",
       "9              9   ботинки      0.95   0.95     0.95    1000\n",
       "10      accuracy                                0.86   10000\n",
       "11     macro avg                0.86   0.86     0.86   10000\n",
       "12  weighted avg                0.86   0.86     0.86   10000"
      ]
     },
     "execution_count": 26,
     "metadata": {},
     "output_type": "execute_result"
    }
   ],
   "source": [
    "import pandas as pd\n",
    "\n",
    "t = [ \n",
    " [ c.strip() for c in l.split('  ') if c ]\n",
    " for l in classification_report(label, y_pred).split('\\n') if l \n",
    "]\n",
    "\n",
    "h = ['class'] + t[0]\n",
    "t = t[1:]\n",
    "t[-3].insert(1,' ')\n",
    "t[-3].insert(1,' ')\n",
    "\n",
    "\n",
    "df = pd.DataFrame(t,columns=h )\n",
    "df['name'] = [ class_names[ int(c[0]) ] for c in t[:-3]  ]+[' ']*3\n",
    "df[['class','name','precision','recall','f1-score','support',]]"
   ]
  },
  {
   "cell_type": "code",
   "execution_count": 27,
   "metadata": {},
   "outputs": [
    {
     "data": {
      "text/plain": [
       "(10000, 28, 28, 1)"
      ]
     },
     "execution_count": 27,
     "metadata": {},
     "output_type": "execute_result"
    }
   ],
   "source": [
    "# images.shape"
   ]
  },
  {
   "cell_type": "code",
   "execution_count": 28,
   "metadata": {},
   "outputs": [],
   "source": [
    "predict = np.argmax(score,axis=1)"
   ]
  },
  {
   "cell_type": "code",
   "execution_count": 29,
   "metadata": {},
   "outputs": [
    {
     "data": {
      "image/png": "[encoded data removed]",
      "text/plain": [
       "<Figure size 864x864 with 34 Axes>"
      ]
     },
     "metadata": {
      "needs_background": "light"
     },
     "output_type": "display_data"
    }
   ],
   "source": [
    "def plot_samples( images, labels, predict, n_show=34, columns=6,cmap='gray_r', class_names=class_names ):\n",
    "    ii = np.random.permutation(images.shape[0])[:n_show]\n",
    "    fig = plt.figure(figsize=(2*columns,2*(n_show //columns+1)))\n",
    "    for n,i in enumerate(ii):\n",
    "        plt.subplot( n_show//columns+1, columns, n+1)\n",
    "        plt.axis(False)\n",
    "        \n",
    "        t = (\n",
    "            class_names[ labels[i] ] \n",
    "            if labels[i]==predict[i] \n",
    "            else '%s\\n[%s]'%( class_names[ predict[i] ] , class_names[ labels[i] ].upper() ) \n",
    "        )\n",
    "                    \n",
    "        c = 'g' if labels[i]==predict[i] else 'r'\n",
    "        \n",
    "        plt.title( t,color=c )\n",
    "        plt.imshow(images[i,:],cmap=cmap)\n",
    "    fig.tight_layout()\n",
    "        \n",
    "\n",
    "plot_samples( images, label, predict)"
   ]
  },
  {
   "cell_type": "code",
   "execution_count": null,
   "metadata": {},
   "outputs": [],
   "source": []
  }
 ],
 "metadata": {
  "kernelspec": {
   "display_name": "Python 3",
   "language": "python",
   "name": "python3"
  },
  "language_info": {
   "codemirror_mode": {
    "name": "ipython",
    "version": 3
   },
   "file_extension": ".py",
   "mimetype": "text/x-python",
   "name": "python",
   "nbconvert_exporter": "python",
   "pygments_lexer": "ipython3",
   "version": "3.8.9"
  },
  "toc": {
   "base_numbering": 1,
   "nav_menu": {},
   "number_sections": true,
   "sideBar": true,
   "skip_h1_title": false,
   "title_cell": "Table of Contents",
   "title_sidebar": "Contents",
   "toc_cell": false,
   "toc_position": {},
   "toc_section_display": true,
   "toc_window_display": true
  }
 },
 "nbformat": 4,
 "nbformat_minor": 2
}
