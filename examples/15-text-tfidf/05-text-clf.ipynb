{
 "cells": [
  {
   "cell_type": "markdown",
   "metadata": {},
   "source": [
    "**извлечение признаков из текста на естественном языке**\n",
    "\n",
    "классификатор текстов\n",
    "\n",
    "частотный анализ с очисткой стоп-слов (TF)\n",
    "\n",
    "Евгений Борисов borisov.e@solarl.ru"
   ]
  },
  {
   "cell_type": "markdown",
   "metadata": {},
   "source": [
    "## библиотеки"
   ]
  },
  {
   "cell_type": "code",
   "execution_count": 1,
   "metadata": {},
   "outputs": [],
   "source": [
    "import numpy as np\n",
    "import pandas as pd\n",
    "import re"
   ]
  },
  {
   "cell_type": "code",
   "execution_count": 2,
   "metadata": {},
   "outputs": [],
   "source": [
    "from sklearn.model_selection import train_test_split\n",
    "from sklearn.metrics import confusion_matrix\n",
    "from sklearn.metrics import classification_report\n",
    "from sklearn.metrics import accuracy_score"
   ]
  },
  {
   "cell_type": "code",
   "execution_count": 3,
   "metadata": {},
   "outputs": [],
   "source": [
    "%matplotlib inline"
   ]
  },
  {
   "cell_type": "code",
   "execution_count": 4,
   "metadata": {},
   "outputs": [],
   "source": [
    "pd.options.display.max_colwidth = 200  "
   ]
  },
  {
   "cell_type": "markdown",
   "metadata": {},
   "source": [
    "## тексты"
   ]
  },
  {
   "cell_type": "code",
   "execution_count": 5,
   "metadata": {},
   "outputs": [
    {
     "name": "stdout",
     "output_type": "stream",
     "text": [
      "записей: 3196\n"
     ]
    }
   ],
   "source": [
    "# загружаем тексты\n",
    "data = pd.read_pickle('../data/text/news.pkl.gz')\n",
    "print('записей:',len(data))"
   ]
  },
  {
   "cell_type": "code",
   "execution_count": 6,
   "metadata": {},
   "outputs": [
    {
     "data": {
      "text/html": [
       "<div>\n",
       "<style scoped>\n",
       "    .dataframe tbody tr th:only-of-type {\n",
       "        vertical-align: middle;\n",
       "    }\n",
       "\n",
       "    .dataframe tbody tr th {\n",
       "        vertical-align: top;\n",
       "    }\n",
       "\n",
       "    .dataframe thead th {\n",
       "        text-align: right;\n",
       "    }\n",
       "</style>\n",
       "<table border=\"1\" class=\"dataframe\">\n",
       "  <thead>\n",
       "    <tr style=\"text-align: right;\">\n",
       "      <th></th>\n",
       "      <th>text</th>\n",
       "      <th>tag</th>\n",
       "    </tr>\n",
       "  </thead>\n",
       "  <tbody>\n",
       "    <tr>\n",
       "      <th>2306</th>\n",
       "      <td>13 декабря 2016, 13:35, Дейта. Со следующей недели планируется начать выплаты пострадавшим жителям дома в Советской Гавани, где произошел взрыв газа, сообщает ИА «Дейта».\\n\\n«Сейчас на месте проис...</td>\n",
       "      <td>incident</td>\n",
       "    </tr>\n",
       "    <tr>\n",
       "      <th>595</th>\n",
       "      <td>В Крупском районе задержали группу браконьеров\\n\\n29 ноября 2016 в 12:58\\n\\nTUT.BY\\n\\nСотрудники Государственной инспекции охраны животного и растительного мира при президенте освободили в Крупско...</td>\n",
       "      <td>incident</td>\n",
       "    </tr>\n",
       "  </tbody>\n",
       "</table>\n",
       "</div>"
      ],
      "text/plain": [
       "                                                                                                                                                                                                         text  \\\n",
       "2306  13 декабря 2016, 13:35, Дейта. Со следующей недели планируется начать выплаты пострадавшим жителям дома в Советской Гавани, где произошел взрыв газа, сообщает ИА «Дейта».\\n\\n«Сейчас на месте проис...   \n",
       "595   В Крупском районе задержали группу браконьеров\\n\\n29 ноября 2016 в 12:58\\n\\nTUT.BY\\n\\nСотрудники Государственной инспекции охраны животного и растительного мира при президенте освободили в Крупско...   \n",
       "\n",
       "           tag  \n",
       "2306  incident  \n",
       "595   incident  "
      ]
     },
     "execution_count": 6,
     "metadata": {},
     "output_type": "execute_result"
    }
   ],
   "source": [
    "data.sample(2)"
   ]
  },
  {
   "cell_type": "markdown",
   "metadata": {},
   "source": [
    "---"
   ]
  },
  {
   "cell_type": "code",
   "execution_count": 7,
   "metadata": {},
   "outputs": [],
   "source": [
    "from nltk.stem.snowball import SnowballStemmer\n",
    "from nltk.corpus import stopwords as nltk_stopwords\n",
    "\n",
    "stopwords = set(nltk_stopwords.words('russian') )"
   ]
  },
  {
   "cell_type": "code",
   "execution_count": 8,
   "metadata": {},
   "outputs": [
    {
     "name": "stdout",
     "output_type": "stream",
     "text": [
      "CPU times: user 19.8 s, sys: 34.7 ms, total: 19.8 s\n",
      "Wall time: 19.8 s\n"
     ]
    }
   ],
   "source": [
    "%%time \n",
    "\n",
    "data['text_clean'] = data['text'].str.lower() # приведение в lowercase\n",
    "\n",
    "# замена символов-разделителей (-,_) на пробел\n",
    "data['text_clean'] = data['text_clean'].apply(lambda s: re.sub( r'\\W', ' ', s))\n",
    "data['text_clean'] = data['text_clean'].apply(lambda s: re.sub( r'_', ' ', s))\n",
    "\n",
    "# замена цифр\n",
    "data['text_clean'] = data['text_clean'].apply(lambda s: re.sub( r'\\b\\d+\\b', ' ', s))\n",
    "\n",
    "# делим строки на слова (токенизация)\n",
    "data['text_clean'] = data['text_clean'].apply(lambda t: [ w.strip() for w in t.split() if len(w.strip())>2 ] )\n",
    "\n",
    "# удаление лишних слов \n",
    "data['text_clean'] = data['text_clean'].apply(lambda t:[w for w in t if w not in stopwords])\n",
    "\n",
    "# стемминг, выделение основы слова\n",
    "# data['text_clean'] = data['text_clean'].apply( lambda t: Stemmer('russian').stemWords(t) )\n",
    "data['text_clean'] = data['text_clean'].apply(lambda t:[ SnowballStemmer('russian').stem(w) for w in t if w])\n"
   ]
  },
  {
   "cell_type": "code",
   "execution_count": 9,
   "metadata": {},
   "outputs": [],
   "source": [
    "data['text_clean'] = data['text_clean'].apply(lambda t:' '.join(t))"
   ]
  },
  {
   "cell_type": "code",
   "execution_count": 10,
   "metadata": {},
   "outputs": [
    {
     "data": {
      "text/html": [
       "<div>\n",
       "<style scoped>\n",
       "    .dataframe tbody tr th:only-of-type {\n",
       "        vertical-align: middle;\n",
       "    }\n",
       "\n",
       "    .dataframe tbody tr th {\n",
       "        vertical-align: top;\n",
       "    }\n",
       "\n",
       "    .dataframe thead th {\n",
       "        text-align: right;\n",
       "    }\n",
       "</style>\n",
       "<table border=\"1\" class=\"dataframe\">\n",
       "  <thead>\n",
       "    <tr style=\"text-align: right;\">\n",
       "      <th></th>\n",
       "      <th>text_clean</th>\n",
       "    </tr>\n",
       "  </thead>\n",
       "  <tbody>\n",
       "    <tr>\n",
       "      <th>2814</th>\n",
       "      <td>разработчик антивирусн программн обеспечен намер обрат еврокомисс жалоб microsoft причин будущ обращен представител лаборатор касперск называ злоупотреблен microsoft доминир положен слов разработч...</td>\n",
       "    </tr>\n",
       "    <tr>\n",
       "      <th>1767</th>\n",
       "      <td>нов член совет директор ольг поляков стат зампред надзорн блок сообща газет коммерсант ссылк нескольк источник котор близок регулятор начал декабр поляков вошл совет директор кром продолжа возглав...</td>\n",
       "    </tr>\n",
       "  </tbody>\n",
       "</table>\n",
       "</div>"
      ],
      "text/plain": [
       "                                                                                                                                                                                                   text_clean\n",
       "2814  разработчик антивирусн программн обеспечен намер обрат еврокомисс жалоб microsoft причин будущ обращен представител лаборатор касперск называ злоупотреблен microsoft доминир положен слов разработч...\n",
       "1767  нов член совет директор ольг поляков стат зампред надзорн блок сообща газет коммерсант ссылк нескольк источник котор близок регулятор начал декабр поляков вошл совет директор кром продолжа возглав..."
      ]
     },
     "execution_count": 10,
     "metadata": {},
     "output_type": "execute_result"
    }
   ],
   "source": [
    "data[['text_clean']].sample(2)"
   ]
  },
  {
   "cell_type": "markdown",
   "metadata": {},
   "source": [
    "##  CountVectorizer + TF"
   ]
  },
  {
   "cell_type": "code",
   "execution_count": 11,
   "metadata": {},
   "outputs": [],
   "source": [
    "from sklearn.feature_extraction.text import TfidfVectorizer"
   ]
  },
  {
   "cell_type": "code",
   "execution_count": 12,
   "metadata": {},
   "outputs": [
    {
     "data": {
      "text/plain": [
       "TfidfVectorizer(analyzer='word', binary=False, decode_error='strict',\n",
       "                dtype=<class 'numpy.float64'>, encoding='utf-8',\n",
       "                input='content', lowercase=True, max_df=1.0, max_features=None,\n",
       "                min_df=1, ngram_range=(1, 1), norm='l2', preprocessor=None,\n",
       "                smooth_idf=True, stop_words=None, strip_accents=None,\n",
       "                sublinear_tf=False, token_pattern='(?u)\\\\b\\\\w\\\\w+\\\\b',\n",
       "                tokenizer=None, use_idf=True, vocabulary=None)"
      ]
     },
     "execution_count": 12,
     "metadata": {},
     "output_type": "execute_result"
    }
   ],
   "source": [
    "tf = TfidfVectorizer(use_idf=True,norm='l2')\n",
    "# tf = TfidfVectorizer(use_idf=False,norm='l2')\n",
    "\n",
    "tf.fit( data['text_clean'] )"
   ]
  },
  {
   "cell_type": "code",
   "execution_count": 13,
   "metadata": {},
   "outputs": [
    {
     "data": {
      "text/plain": [
       "34798"
      ]
     },
     "execution_count": 13,
     "metadata": {},
     "output_type": "execute_result"
    }
   ],
   "source": [
    "len(tf.vocabulary_)"
   ]
  },
  {
   "cell_type": "markdown",
   "metadata": {},
   "source": [
    "## формируем датасеты"
   ]
  },
  {
   "cell_type": "code",
   "execution_count": 14,
   "metadata": {},
   "outputs": [
    {
     "data": {
      "text/plain": [
       "(3196, 34798)"
      ]
     },
     "execution_count": 14,
     "metadata": {},
     "output_type": "execute_result"
    }
   ],
   "source": [
    "X = tf.transform( data['text_clean'] )\n",
    "X.shape"
   ]
  },
  {
   "cell_type": "code",
   "execution_count": 15,
   "metadata": {},
   "outputs": [
    {
     "data": {
      "text/plain": [
       "{'auto': 0,\n",
       " 'culture': 1,\n",
       " 'economics': 2,\n",
       " 'health': 3,\n",
       " 'incident': 4,\n",
       " 'politics': 5,\n",
       " 'realty': 6,\n",
       " 'reclama': 7,\n",
       " 'science': 8,\n",
       " 'social': 9,\n",
       " 'sport': 10,\n",
       " 'tech': 11,\n",
       " 'woman': 12}"
      ]
     },
     "execution_count": 15,
     "metadata": {},
     "output_type": "execute_result"
    }
   ],
   "source": [
    "labels = { t:i for i,t in enumerate(sorted(set(data['tag']))) }\n",
    "labels"
   ]
  },
  {
   "cell_type": "code",
   "execution_count": 16,
   "metadata": {},
   "outputs": [
    {
     "data": {
      "text/plain": [
       "array([5, 1, 1, ..., 8, 5, 9])"
      ]
     },
     "execution_count": 16,
     "metadata": {},
     "output_type": "execute_result"
    }
   ],
   "source": [
    "y = data['tag'].map(labels).values\n",
    "y"
   ]
  },
  {
   "cell_type": "markdown",
   "metadata": {},
   "source": [
    "---"
   ]
  },
  {
   "cell_type": "code",
   "execution_count": 17,
   "metadata": {},
   "outputs": [
    {
     "data": {
      "text/plain": [
       "((319, 34798), (319,), (2877, 34798), (2877,))"
      ]
     },
     "execution_count": 17,
     "metadata": {},
     "output_type": "execute_result"
    }
   ],
   "source": [
    "X_train, X_test, y_train, y_test = train_test_split( X, y, test_size=0.9, random_state=326 )\n",
    "X_train.shape, y_train.shape, X_test.shape, y_test.shape"
   ]
  },
  {
   "cell_type": "markdown",
   "metadata": {},
   "source": [
    "## обучаем"
   ]
  },
  {
   "cell_type": "code",
   "execution_count": 18,
   "metadata": {},
   "outputs": [
    {
     "data": {
      "text/plain": [
       "SGDClassifier(alpha=0.0001, average=False, class_weight=None,\n",
       "              early_stopping=False, epsilon=0.1, eta0=0.0, fit_intercept=True,\n",
       "              l1_ratio=0.15, learning_rate='optimal', loss='hinge',\n",
       "              max_iter=1000, n_iter_no_change=5, n_jobs=None, penalty='l2',\n",
       "              power_t=0.5, random_state=None, shuffle=True, tol=0.19,\n",
       "              validation_fraction=0.1, verbose=0, warm_start=False)"
      ]
     },
     "execution_count": 18,
     "metadata": {},
     "output_type": "execute_result"
    }
   ],
   "source": [
    "from sklearn.linear_model import SGDClassifier\n",
    "\n",
    "clf = SGDClassifier(loss='hinge',max_iter=1000, tol=0.19)\n",
    "clf.fit(X_train,y_train)"
   ]
  },
  {
   "cell_type": "markdown",
   "metadata": {},
   "source": [
    "## тестируем"
   ]
  },
  {
   "cell_type": "code",
   "execution_count": 19,
   "metadata": {},
   "outputs": [],
   "source": [
    "o = clf.predict(X_train)"
   ]
  },
  {
   "cell_type": "code",
   "execution_count": 20,
   "metadata": {},
   "outputs": [
    {
     "data": {
      "text/plain": [
       "1.0"
      ]
     },
     "execution_count": 20,
     "metadata": {},
     "output_type": "execute_result"
    }
   ],
   "source": [
    "accuracy_score(y_train,o)"
   ]
  },
  {
   "cell_type": "markdown",
   "metadata": {},
   "source": [
    "---"
   ]
  },
  {
   "cell_type": "code",
   "execution_count": 21,
   "metadata": {},
   "outputs": [],
   "source": [
    "o = clf.predict(X_test)"
   ]
  },
  {
   "cell_type": "code",
   "execution_count": 22,
   "metadata": {},
   "outputs": [
    {
     "data": {
      "text/plain": [
       "0.7855404935696907"
      ]
     },
     "execution_count": 22,
     "metadata": {},
     "output_type": "execute_result"
    }
   ],
   "source": [
    "accuracy_score(y_test,o)"
   ]
  },
  {
   "cell_type": "code",
   "execution_count": 23,
   "metadata": {},
   "outputs": [
    {
     "name": "stdout",
     "output_type": "stream",
     "text": [
      "              precision    recall  f1-score   support\n",
      "\n",
      "           0       0.82      0.78      0.80       227\n",
      "           1       0.74      0.86      0.79       319\n",
      "           2       0.75      0.78      0.76       240\n",
      "           3       0.35      0.19      0.24        86\n",
      "           4       0.84      0.84      0.84       396\n",
      "           5       0.82      0.89      0.86       542\n",
      "           6       0.66      0.36      0.47        58\n",
      "           7       0.52      0.29      0.38        41\n",
      "           8       0.76      0.95      0.85       200\n",
      "           9       0.59      0.26      0.36       133\n",
      "          10       0.89      0.97      0.93       340\n",
      "          11       0.74      0.73      0.73       262\n",
      "          12       0.53      0.27      0.36        33\n",
      "\n",
      "    accuracy                           0.79      2877\n",
      "   macro avg       0.69      0.63      0.64      2877\n",
      "weighted avg       0.77      0.79      0.77      2877\n",
      "\n"
     ]
    }
   ],
   "source": [
    "print( classification_report(y_test,o) )"
   ]
  },
  {
   "cell_type": "markdown",
   "metadata": {},
   "source": [
    "---"
   ]
  },
  {
   "cell_type": "code",
   "execution_count": 24,
   "metadata": {},
   "outputs": [
    {
     "data": {
      "image/png": "[encoded data removed]",
      "text/plain": [
       "<Figure size 720x648 with 2 Axes>"
      ]
     },
     "metadata": {
      "needs_background": "light"
     },
     "output_type": "display_data"
    }
   ],
   "source": [
    "from matplotlib import pyplot as plt\n",
    "import itertools\n",
    "\n",
    "classes = sorted(labels.keys())\n",
    "cm = confusion_matrix(y_test,o)\n",
    "tick_marks = np.arange(len(classes))\n",
    "\n",
    "plt.figure(figsize=(10,9))\n",
    "\n",
    "plt.xticks(tick_marks, classes, rotation=45)\n",
    "plt.yticks(tick_marks, classes)\n",
    "\n",
    "thresh = cm.max() / 2.\n",
    "for i, j in itertools.product(range(cm.shape[0]), range(cm.shape[1])):\n",
    "    plt.text(j, i, format(cm[i, j], 'd'),\n",
    "             horizontalalignment=\"center\",\n",
    "             color=\"white\" if cm[i, j] > thresh else \"black\")\n",
    "\n",
    "plt.title('Confusion matrix')\n",
    "plt.tight_layout()\n",
    "plt.ylabel('True label')\n",
    "plt.xlabel('Predicted label')\n",
    "plt.imshow(cm, interpolation='nearest', cmap=plt.cm.Blues)\n",
    "plt.colorbar()\n",
    "\n",
    "plt.show()"
   ]
  },
  {
   "cell_type": "markdown",
   "metadata": {},
   "source": [
    "---"
   ]
  },
  {
   "cell_type": "code",
   "execution_count": 25,
   "metadata": {},
   "outputs": [],
   "source": [
    "o = clf.predict(X)"
   ]
  },
  {
   "cell_type": "code",
   "execution_count": 26,
   "metadata": {},
   "outputs": [],
   "source": [
    "labels_inv = { labels[k]:k for k in labels }\n",
    "# labels_inv"
   ]
  },
  {
   "cell_type": "code",
   "execution_count": 27,
   "metadata": {},
   "outputs": [
    {
     "name": "stdout",
     "output_type": "stream",
     "text": [
      "tag: politics\n",
      "predict: politics\n",
      "- - - - - - - - - - - - - - - - - - \n",
      "\n",
      "Глава ФСБ: В этом году в РФ предотвращено 42 теракта\n",
      "\n",
      "11:05 Источник: Информационное агентство России \"ТАСС\"\n",
      "\n",
      "В этом году в РФ предотвращено 42 террористических преступления, в том числе в Москве, Санкт-Петербурге, Екатеринбурге и Нижнем Новгороде. Об этом сообщил директор ФСБ Россиина совместном заседании Национального антитеррористического комитета и Федерального оперативного штаба.\"Повышена эффективность упреждающих действий правоохранительных органов и силовых структур. Совместными усилиями на стадии подготовки предотвращено 42 преступления террористической направленности\", - сообщил он.\"В текущем году в Москве, Санкт-Петербурге, Екатеринбурге и Нижнем Новгороде правоохранительными органами и силовыми структурами пресечено несколько попыток совершения терактов на объектах транспорта и в местах массового пребывания людей, которые планировали выходцы из ближнего зарубежья\", - отметил председатель НАК.\n"
     ]
    }
   ],
   "source": [
    "i = np.random.randint(len(data))\n",
    "print('tag:',data.iloc[i,1])\n",
    "print('predict:',labels_inv[o[i]])\n",
    "print('- - - - - - - - - - - - - - - - - - \\n')\n",
    "print(data.iloc[i,0])"
   ]
  },
  {
   "cell_type": "code",
   "execution_count": null,
   "metadata": {},
   "outputs": [],
   "source": []
  }
 ],
 "metadata": {
  "kernelspec": {
   "display_name": "Python 3",
   "language": "python",
   "name": "python3"
  },
  "language_info": {
   "codemirror_mode": {
    "name": "ipython",
    "version": 3
   },
   "file_extension": ".py",
   "mimetype": "text/x-python",
   "name": "python",
   "nbconvert_exporter": "python",
   "pygments_lexer": "ipython3",
   "version": "3.7.4"
  },
  "toc": {
   "base_numbering": 1,
   "nav_menu": {},
   "number_sections": true,
   "sideBar": true,
   "skip_h1_title": false,
   "title_cell": "Table of Contents",
   "title_sidebar": "Contents",
   "toc_cell": false,
   "toc_position": {},
   "toc_section_display": true,
   "toc_window_display": true
  }
 },
 "nbformat": 4,
 "nbformat_minor": 2
}
