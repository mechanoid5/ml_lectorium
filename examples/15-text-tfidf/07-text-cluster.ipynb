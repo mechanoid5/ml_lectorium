{
 "cells": [
  {
   "cell_type": "markdown",
   "metadata": {},
   "source": [
    "**извлечение признаков из текста на естественном языке**\n",
    "\n",
    "кластеризатор текстов\n",
    "\n",
    "частотный анализ с очисткой стоп-слов (TF)\n",
    "\n",
    "Евгений Борисов borisov.e@solarl.ru"
   ]
  },
  {
   "cell_type": "markdown",
   "metadata": {},
   "source": [
    "## библиотеки"
   ]
  },
  {
   "cell_type": "code",
   "execution_count": 1,
   "metadata": {},
   "outputs": [],
   "source": [
    "import numpy as np\n",
    "import pandas as pd\n",
    "import re"
   ]
  },
  {
   "cell_type": "code",
   "execution_count": 2,
   "metadata": {},
   "outputs": [],
   "source": [
    "# from sklearn.model_selection import train_test_split\n",
    "# from sklearn.metrics import confusion_matrix\n",
    "# from sklearn.metrics import classification_report\n",
    "# from sklearn.metrics import accuracy_score"
   ]
  },
  {
   "cell_type": "code",
   "execution_count": 3,
   "metadata": {},
   "outputs": [],
   "source": [
    "%matplotlib inline"
   ]
  },
  {
   "cell_type": "code",
   "execution_count": 4,
   "metadata": {},
   "outputs": [],
   "source": [
    "pd.options.display.max_colwidth = 200  "
   ]
  },
  {
   "cell_type": "markdown",
   "metadata": {},
   "source": [
    "## тексты"
   ]
  },
  {
   "cell_type": "code",
   "execution_count": 5,
   "metadata": {},
   "outputs": [
    {
     "name": "stdout",
     "output_type": "stream",
     "text": [
      "записей: 3196\n"
     ]
    }
   ],
   "source": [
    "# загружаем тексты\n",
    "data = pd.read_pickle('../data/text/news.pkl.gz')\n",
    "print('записей:',len(data))"
   ]
  },
  {
   "cell_type": "code",
   "execution_count": 6,
   "metadata": {},
   "outputs": [
    {
     "data": {
      "text/html": [
       "<div>\n",
       "<style scoped>\n",
       "    .dataframe tbody tr th:only-of-type {\n",
       "        vertical-align: middle;\n",
       "    }\n",
       "\n",
       "    .dataframe tbody tr th {\n",
       "        vertical-align: top;\n",
       "    }\n",
       "\n",
       "    .dataframe thead th {\n",
       "        text-align: right;\n",
       "    }\n",
       "</style>\n",
       "<table border=\"1\" class=\"dataframe\">\n",
       "  <thead>\n",
       "    <tr style=\"text-align: right;\">\n",
       "      <th></th>\n",
       "      <th>text</th>\n",
       "      <th>tag</th>\n",
       "    </tr>\n",
       "  </thead>\n",
       "  <tbody>\n",
       "    <tr>\n",
       "      <th>39</th>\n",
       "      <td>Баскетбол : Кириленко опроверг прогнозы врачей Главная звезда российского\\nбаскетбола Андрей Кириленко вернулся в строй после двухнедельного\\nотсутствия, связанного с травмой правой лодыжки. О том...</td>\n",
       "      <td>sport</td>\n",
       "    </tr>\n",
       "    <tr>\n",
       "      <th>2787</th>\n",
       "      <td>Компания Apple создала новую функцию, с помощью которой пользователь может очищать свой календарь от назойливого спама.\\n\\nСовсем недавно пользователи «яблочной» компании начали жаловаться на то, ...</td>\n",
       "      <td>tech</td>\n",
       "    </tr>\n",
       "  </tbody>\n",
       "</table>\n",
       "</div>"
      ],
      "text/plain": [
       "                                                                                                                                                                                                         text  \\\n",
       "39    Баскетбол : Кириленко опроверг прогнозы врачей Главная звезда российского\\nбаскетбола Андрей Кириленко вернулся в строй после двухнедельного\\nотсутствия, связанного с травмой правой лодыжки. О том...   \n",
       "2787  Компания Apple создала новую функцию, с помощью которой пользователь может очищать свой календарь от назойливого спама.\\n\\nСовсем недавно пользователи «яблочной» компании начали жаловаться на то, ...   \n",
       "\n",
       "        tag  \n",
       "39    sport  \n",
       "2787   tech  "
      ]
     },
     "execution_count": 6,
     "metadata": {},
     "output_type": "execute_result"
    }
   ],
   "source": [
    "data.sample(2)"
   ]
  },
  {
   "cell_type": "markdown",
   "metadata": {},
   "source": [
    "---"
   ]
  },
  {
   "cell_type": "code",
   "execution_count": 7,
   "metadata": {},
   "outputs": [],
   "source": [
    "from nltk.stem.snowball import SnowballStemmer\n",
    "from nltk.corpus import stopwords as nltk_stopwords\n",
    "\n",
    "stopwords = set(nltk_stopwords.words('russian') )"
   ]
  },
  {
   "cell_type": "code",
   "execution_count": 8,
   "metadata": {},
   "outputs": [
    {
     "name": "stdout",
     "output_type": "stream",
     "text": [
      "CPU times: user 20 s, sys: 95.6 ms, total: 20.1 s\n",
      "Wall time: 20.1 s\n"
     ]
    }
   ],
   "source": [
    "%%time \n",
    "\n",
    "data['text_clean'] = data['text'].str.lower() # приведение в lowercase\n",
    "\n",
    "# замена символов-разделителей (-,_) на пробел\n",
    "data['text_clean'] = data['text_clean'].apply(lambda s: re.sub( r'\\W', ' ', s))\n",
    "data['text_clean'] = data['text_clean'].apply(lambda s: re.sub( r'_', ' ', s))\n",
    "\n",
    "# замена цифр\n",
    "data['text_clean'] = data['text_clean'].apply(lambda s: re.sub( r'\\b\\d+\\b', ' ', s))\n",
    "\n",
    "# делим строки на слова (токенизация)\n",
    "data['text_clean'] = data['text_clean'].apply(lambda t: [ w.strip() for w in t.split() if len(w.strip())>2 ] )\n",
    "\n",
    "# удаление лишних слов \n",
    "data['text_clean'] = data['text_clean'].apply(lambda t:[w for w in t if w not in stopwords])\n",
    "\n",
    "# стемминг, выделение основы слова\n",
    "# data['text_clean'] = data['text_clean'].apply( lambda t: Stemmer('russian').stemWords(t) )\n",
    "data['text_clean'] = data['text_clean'].apply(lambda t:[ SnowballStemmer('russian').stem(w) for w in t if w])\n"
   ]
  },
  {
   "cell_type": "code",
   "execution_count": 9,
   "metadata": {},
   "outputs": [],
   "source": [
    "data['text_clean'] = data['text_clean'].apply(lambda t:' '.join(t))"
   ]
  },
  {
   "cell_type": "code",
   "execution_count": 10,
   "metadata": {},
   "outputs": [
    {
     "data": {
      "text/html": [
       "<div>\n",
       "<style scoped>\n",
       "    .dataframe tbody tr th:only-of-type {\n",
       "        vertical-align: middle;\n",
       "    }\n",
       "\n",
       "    .dataframe tbody tr th {\n",
       "        vertical-align: top;\n",
       "    }\n",
       "\n",
       "    .dataframe thead th {\n",
       "        text-align: right;\n",
       "    }\n",
       "</style>\n",
       "<table border=\"1\" class=\"dataframe\">\n",
       "  <thead>\n",
       "    <tr style=\"text-align: right;\">\n",
       "      <th></th>\n",
       "      <th>text_clean</th>\n",
       "    </tr>\n",
       "  </thead>\n",
       "  <tbody>\n",
       "    <tr>\n",
       "      <th>217</th>\n",
       "      <td>львов покажут картин микеланджел декабр львов показа единствен украин графическ работ микеланджел ангел переда корреспондент нов регион</td>\n",
       "    </tr>\n",
       "    <tr>\n",
       "      <th>2131</th>\n",
       "      <td>напада ростов сердар азмун назва лучш молод футболист аз верс порта outsideoftheboot com сезон футболист сборн ира заня ростовчан втор мест чемпионат росс текущ сезон помог команд выйт основн сетк...</td>\n",
       "    </tr>\n",
       "  </tbody>\n",
       "</table>\n",
       "</div>"
      ],
      "text/plain": [
       "                                                                                                                                                                                                   text_clean\n",
       "217                                                                   львов покажут картин микеланджел декабр львов показа единствен украин графическ работ микеланджел ангел переда корреспондент нов регион\n",
       "2131  напада ростов сердар азмун назва лучш молод футболист аз верс порта outsideoftheboot com сезон футболист сборн ира заня ростовчан втор мест чемпионат росс текущ сезон помог команд выйт основн сетк..."
      ]
     },
     "execution_count": 10,
     "metadata": {},
     "output_type": "execute_result"
    }
   ],
   "source": [
    "data[['text_clean']].sample(2)"
   ]
  },
  {
   "cell_type": "markdown",
   "metadata": {},
   "source": [
    "##  CountVectorizer + TF"
   ]
  },
  {
   "cell_type": "code",
   "execution_count": 11,
   "metadata": {},
   "outputs": [],
   "source": [
    "from sklearn.feature_extraction.text import TfidfVectorizer"
   ]
  },
  {
   "cell_type": "code",
   "execution_count": 12,
   "metadata": {},
   "outputs": [
    {
     "data": {
      "text/plain": [
       "TfidfVectorizer(analyzer='word', binary=False, decode_error='strict',\n",
       "                dtype=<class 'numpy.float64'>, encoding='utf-8',\n",
       "                input='content', lowercase=True, max_df=1.0, max_features=None,\n",
       "                min_df=1, ngram_range=(1, 1), norm='l2', preprocessor=None,\n",
       "                smooth_idf=True, stop_words=None, strip_accents=None,\n",
       "                sublinear_tf=False, token_pattern='(?u)\\\\b\\\\w\\\\w+\\\\b',\n",
       "                tokenizer=None, use_idf=True, vocabulary=None)"
      ]
     },
     "execution_count": 12,
     "metadata": {},
     "output_type": "execute_result"
    }
   ],
   "source": [
    "tf = TfidfVectorizer(use_idf=True,norm='l2')\n",
    "# tf = TfidfVectorizer(use_idf=False,norm='l2')\n",
    "\n",
    "tf.fit( data['text_clean'] )"
   ]
  },
  {
   "cell_type": "code",
   "execution_count": 13,
   "metadata": {},
   "outputs": [
    {
     "data": {
      "text/plain": [
       "34798"
      ]
     },
     "execution_count": 13,
     "metadata": {},
     "output_type": "execute_result"
    }
   ],
   "source": [
    "len(tf.vocabulary_)"
   ]
  },
  {
   "cell_type": "markdown",
   "metadata": {},
   "source": [
    "## формируем датасет"
   ]
  },
  {
   "cell_type": "code",
   "execution_count": 14,
   "metadata": {},
   "outputs": [
    {
     "data": {
      "text/plain": [
       "(3196, 34798)"
      ]
     },
     "execution_count": 14,
     "metadata": {},
     "output_type": "execute_result"
    }
   ],
   "source": [
    "X = tf.transform( data['text_clean'] )\n",
    "X.shape"
   ]
  },
  {
   "cell_type": "markdown",
   "metadata": {},
   "source": [
    "## обучаем"
   ]
  },
  {
   "cell_type": "code",
   "execution_count": 15,
   "metadata": {},
   "outputs": [],
   "source": [
    "from sklearn.cluster import KMeans"
   ]
  },
  {
   "cell_type": "code",
   "execution_count": 16,
   "metadata": {},
   "outputs": [
    {
     "name": "stdout",
     "output_type": "stream",
     "text": [
      "CPU times: user 53.5 s, sys: 72.3 ms, total: 53.6 s\n",
      "Wall time: 45.7 s\n"
     ]
    },
    {
     "data": {
      "text/plain": [
       "KMeans(algorithm='auto', copy_x=True, init='k-means++', max_iter=300,\n",
       "       n_clusters=13, n_init=10, n_jobs=None, precompute_distances='auto',\n",
       "       random_state=622, tol=0.0001, verbose=0)"
      ]
     },
     "execution_count": 16,
     "metadata": {},
     "output_type": "execute_result"
    }
   ],
   "source": [
    "%%time\n",
    "\n",
    "n_clusters = len(set(data['tag']))\n",
    "clust = KMeans(n_clusters=n_clusters, random_state=622 )\n",
    "clust.fit(X)"
   ]
  },
  {
   "cell_type": "code",
   "execution_count": 17,
   "metadata": {},
   "outputs": [],
   "source": [
    "data['cluster'] = clust.labels_"
   ]
  },
  {
   "cell_type": "markdown",
   "metadata": {},
   "source": [
    "## тестируем"
   ]
  },
  {
   "cell_type": "code",
   "execution_count": 18,
   "metadata": {},
   "outputs": [],
   "source": [
    "from matplotlib import pyplot as plt"
   ]
  },
  {
   "cell_type": "code",
   "execution_count": 19,
   "metadata": {},
   "outputs": [
    {
     "data": {
      "image/png": "[encoded data removed]",
      "text/plain": [
       "<Figure size 432x288 with 1 Axes>"
      ]
     },
     "metadata": {
      "needs_background": "light"
     },
     "output_type": "display_data"
    }
   ],
   "source": [
    "# размеры кластеров\n",
    "b = [ (data['cluster']==c).sum() for c in range(n_clusters) ]\n",
    "plt.bar(range(len(b)),b)\n",
    "plt.show()"
   ]
  },
  {
   "cell_type": "code",
   "execution_count": 20,
   "metadata": {},
   "outputs": [
    {
     "data": {
      "text/html": [
       "<div>\n",
       "<style scoped>\n",
       "    .dataframe tbody tr th:only-of-type {\n",
       "        vertical-align: middle;\n",
       "    }\n",
       "\n",
       "    .dataframe tbody tr th {\n",
       "        vertical-align: top;\n",
       "    }\n",
       "\n",
       "    .dataframe thead th {\n",
       "        text-align: right;\n",
       "    }\n",
       "</style>\n",
       "<table border=\"1\" class=\"dataframe\">\n",
       "  <thead>\n",
       "    <tr style=\"text-align: right;\">\n",
       "      <th></th>\n",
       "      <th>text</th>\n",
       "      <th>tag</th>\n",
       "    </tr>\n",
       "  </thead>\n",
       "  <tbody>\n",
       "    <tr>\n",
       "      <th>1780</th>\n",
       "      <td>Промышленное производство в Китае выше прогноза\\n\\nСогласно данным, опубликованным сегодня Национальным бюро статистики Китая, промышленное производство в Поднебесной увеличилось в ноябре, в годов...</td>\n",
       "      <td>economics</td>\n",
       "    </tr>\n",
       "    <tr>\n",
       "      <th>2747</th>\n",
       "      <td>10:15 13 декабря 2016 4\\n\\nНовые рубли станут прозрачными и начнут светиться Фото: Вадим Ахметов © URA.Ru\\n\\nГознак приобрел несколько новых патентов, позволяющих усовершенствовать защиту купюр от...</td>\n",
       "      <td>science</td>\n",
       "    </tr>\n",
       "    <tr>\n",
       "      <th>886</th>\n",
       "      <td>\"Я хочу платить актерам зарплату\". Проблемы белорусского кино глазами режиссера Влады Сеньковой\\n\\n29 ноября 2016 в 13:03\\n\\nАнна Ефременко / Фото: Дмитрий Брушко / AFISHA.TUT.BY\\n\\n«Летом в Берли...</td>\n",
       "      <td>culture</td>\n",
       "    </tr>\n",
       "    <tr>\n",
       "      <th>1113</th>\n",
       "      <td>Криштиану Роналду может на 6 лет сесть в тюрьму\\n\\n7 декабря 2016 в 9:22\\n\\nEurosport.ru\\n\\nИспанский суд может открыть дело в отношении Роналду в ближайшее время. Как сообщает Mundo Deportivo со ...</td>\n",
       "      <td>sport</td>\n",
       "    </tr>\n",
       "    <tr>\n",
       "      <th>767</th>\n",
       "      <td>Кукурузный лабиринт для туристов планируют создать в Горецком районе\\n\\n7 декабря 2016 в 8:19\\n\\nСергей Кулягин, БЕЛТА\\n\\nАгропарк «Кукурузный лабиринт «Кукулэнд» планируют создать в Горецком райо...</td>\n",
       "      <td>social</td>\n",
       "    </tr>\n",
       "    <tr>\n",
       "      <th>2510</th>\n",
       "      <td>Созданный российскими разработчиками человекоподобный робот «Федор» займет место второго пилота на космическом корабле «Федерация». Об этом сообщил генконструктор НПО «Андроидная техника» Алексей ...</td>\n",
       "      <td>science</td>\n",
       "    </tr>\n",
       "    <tr>\n",
       "      <th>352</th>\n",
       "      <td>За газовый вопрос взялись профильные комитеты Верховной Рады и Госдумы\\nКомитет по энергетике, транспорту и связи Государственный Думы Российской\\nФедерации и комитет по вопросам топливно-энергети...</td>\n",
       "      <td>politics</td>\n",
       "    </tr>\n",
       "    <tr>\n",
       "      <th>131</th>\n",
       "      <td>Организаторы Australian Open ждут Мартину Хингис... Open Пол Макнами\\nсообщил журналистам, что будет рад предоставить Wild card экс-первой\\nракетке мира Мартине Хингис, если швейцарская теннисистк...</td>\n",
       "      <td>sport</td>\n",
       "    </tr>\n",
       "    <tr>\n",
       "      <th>279</th>\n",
       "      <td>\"Уралсвязьинформ\" готов к переходу на новые коды... Министерства\\nинформационных технологий и связи РФ \"Об изменении закрепления кодов\\nгеографически определяемых зон нумерации и кодов географичес...</td>\n",
       "      <td>tech</td>\n",
       "    </tr>\n",
       "    <tr>\n",
       "      <th>1015</th>\n",
       "      <td>Ермошина: изменить избирательную систему можно без проведения референдума\\n\\n30 ноября 2016 в 14:43\\n\\nСергей Королевич, БелаПАН\\n\\nИзменить избирательную систему Беларуси можно без проведения реф...</td>\n",
       "      <td>politics</td>\n",
       "    </tr>\n",
       "  </tbody>\n",
       "</table>\n",
       "</div>"
      ],
      "text/plain": [
       "                                                                                                                                                                                                         text  \\\n",
       "1780  Промышленное производство в Китае выше прогноза\\n\\nСогласно данным, опубликованным сегодня Национальным бюро статистики Китая, промышленное производство в Поднебесной увеличилось в ноябре, в годов...   \n",
       "2747  10:15 13 декабря 2016 4\\n\\nНовые рубли станут прозрачными и начнут светиться Фото: Вадим Ахметов © URA.Ru\\n\\nГознак приобрел несколько новых патентов, позволяющих усовершенствовать защиту купюр от...   \n",
       "886   \"Я хочу платить актерам зарплату\". Проблемы белорусского кино глазами режиссера Влады Сеньковой\\n\\n29 ноября 2016 в 13:03\\n\\nАнна Ефременко / Фото: Дмитрий Брушко / AFISHA.TUT.BY\\n\\n«Летом в Берли...   \n",
       "1113  Криштиану Роналду может на 6 лет сесть в тюрьму\\n\\n7 декабря 2016 в 9:22\\n\\nEurosport.ru\\n\\nИспанский суд может открыть дело в отношении Роналду в ближайшее время. Как сообщает Mundo Deportivo со ...   \n",
       "767   Кукурузный лабиринт для туристов планируют создать в Горецком районе\\n\\n7 декабря 2016 в 8:19\\n\\nСергей Кулягин, БЕЛТА\\n\\nАгропарк «Кукурузный лабиринт «Кукулэнд» планируют создать в Горецком райо...   \n",
       "2510  Созданный российскими разработчиками человекоподобный робот «Федор» займет место второго пилота на космическом корабле «Федерация». Об этом сообщил генконструктор НПО «Андроидная техника» Алексей ...   \n",
       "352   За газовый вопрос взялись профильные комитеты Верховной Рады и Госдумы\\nКомитет по энергетике, транспорту и связи Государственный Думы Российской\\nФедерации и комитет по вопросам топливно-энергети...   \n",
       "131   Организаторы Australian Open ждут Мартину Хингис... Open Пол Макнами\\nсообщил журналистам, что будет рад предоставить Wild card экс-первой\\nракетке мира Мартине Хингис, если швейцарская теннисистк...   \n",
       "279   \"Уралсвязьинформ\" готов к переходу на новые коды... Министерства\\nинформационных технологий и связи РФ \"Об изменении закрепления кодов\\nгеографически определяемых зон нумерации и кодов географичес...   \n",
       "1015  Ермошина: изменить избирательную систему можно без проведения референдума\\n\\n30 ноября 2016 в 14:43\\n\\nСергей Королевич, БелаПАН\\n\\nИзменить избирательную систему Беларуси можно без проведения реф...   \n",
       "\n",
       "            tag  \n",
       "1780  economics  \n",
       "2747    science  \n",
       "886     culture  \n",
       "1113      sport  \n",
       "767      social  \n",
       "2510    science  \n",
       "352    politics  \n",
       "131       sport  \n",
       "279        tech  \n",
       "1015   politics  "
      ]
     },
     "execution_count": 20,
     "metadata": {},
     "output_type": "execute_result"
    }
   ],
   "source": [
    "data[ data['cluster']==0 ][['text','tag']].sample(10)"
   ]
  },
  {
   "cell_type": "code",
   "execution_count": 21,
   "metadata": {},
   "outputs": [
    {
     "data": {
      "text/html": [
       "<div>\n",
       "<style scoped>\n",
       "    .dataframe tbody tr th:only-of-type {\n",
       "        vertical-align: middle;\n",
       "    }\n",
       "\n",
       "    .dataframe tbody tr th {\n",
       "        vertical-align: top;\n",
       "    }\n",
       "\n",
       "    .dataframe thead th {\n",
       "        text-align: right;\n",
       "    }\n",
       "</style>\n",
       "<table border=\"1\" class=\"dataframe\">\n",
       "  <thead>\n",
       "    <tr style=\"text-align: right;\">\n",
       "      <th></th>\n",
       "      <th>text</th>\n",
       "      <th>tag</th>\n",
       "    </tr>\n",
       "  </thead>\n",
       "  <tbody>\n",
       "    <tr>\n",
       "      <th>1864</th>\n",
       "      <td>Избранный президент США Дональд Трамп в ходе телефонного разговора с главным кандидатом на пост госсекретаря Миттом Ромни сообщил, что Ромни не будет занимать эту должность.\\n\\nПосле разговора экс...</td>\n",
       "      <td>politics</td>\n",
       "    </tr>\n",
       "    <tr>\n",
       "      <th>1922</th>\n",
       "      <td>Президент США Барак Обама заключил договор аренды офисного помещения в здании штаб-квартиры Всемирного фонда дикой природы (WWF) в Вашингтоне, пишет газета Washington Post.\\r\\n\\r\\nWWF, как отмечае...</td>\n",
       "      <td>politics</td>\n",
       "    </tr>\n",
       "    <tr>\n",
       "      <th>416</th>\n",
       "      <td>Раскрыты личные траты Трампа на президентскую гонку\\n\\n9 декабря 2016 в 17:02\\n\\nLenta.ru\\n\\nИзбранный президент США Дональд Трамп потратил на свою избирательную кампанию 66 миллионов долларов из ...</td>\n",
       "      <td>politics</td>\n",
       "    </tr>\n",
       "    <tr>\n",
       "      <th>1423</th>\n",
       "      <td>ВАШИНГТОН, 13 декабря. /Корр. ТАСС Антон Чудаков/. Аппарат директора национальной разведки США Джеймса Клэппера не поддерживает выводов Центрального разведывательного управления (ЦРУ), согласно ко...</td>\n",
       "      <td>politics</td>\n",
       "    </tr>\n",
       "    <tr>\n",
       "      <th>1836</th>\n",
       "      <td>Дональд Трамп решил отложить до января свою первую пресс-конференцию в качестве избранного президента США, на которой он объявит об уходе из бизнеса, сообщает телекомпания CNN. Состояние Трампа оц...</td>\n",
       "      <td>politics</td>\n",
       "    </tr>\n",
       "    <tr>\n",
       "      <th>1958</th>\n",
       "      <td>Об этом говорится в выпуске британской деловой газеты во вторник, 13 декабря. Financial Times считает, что миллиардер переписал правила политики своей страны.\\n\\nТеперь президент, являющийся специ...</td>\n",
       "      <td>politics</td>\n",
       "    </tr>\n",
       "    <tr>\n",
       "      <th>451</th>\n",
       "      <td>Обама признал роль ошибок США в зарождении ИГИЛ\\n\\n7 декабря 2016 в 6:48\\n\\nРБК\\n\\nПрезидент США Барак Обама в своей речи о проблемах безопасности признал, что зарождению и росту террористической ...</td>\n",
       "      <td>politics</td>\n",
       "    </tr>\n",
       "    <tr>\n",
       "      <th>1446</th>\n",
       "      <td>Трамп отложил до января официальное заявление о планах по уходу из бизнеса\\n\\nМОСКВА, 13 дек — РИА Новости. Избранный президент США Дональд Трамп перенес на январь официальное объявление о планах ...</td>\n",
       "      <td>politics</td>\n",
       "    </tr>\n",
       "    <tr>\n",
       "      <th>1835</th>\n",
       "      <td>Избранный президент США Дональд Трамп на месяц перенес пресс-конференцию, посвященную его планам выйти из бизнеса на период президентства. Ранее мероприятие было анонсировано на четверг.\\n\\n\"Объяв...</td>\n",
       "      <td>politics</td>\n",
       "    </tr>\n",
       "    <tr>\n",
       "      <th>1944</th>\n",
       "      <td>Избранный президент США Дональд Трамп позитивно воспринял новость о том, что пересчет голосов в штате Висконсин подтвердил его победу.\\n\\n«Окончательное голосование в Висконсине завершено, и что в...</td>\n",
       "      <td>politics</td>\n",
       "    </tr>\n",
       "  </tbody>\n",
       "</table>\n",
       "</div>"
      ],
      "text/plain": [
       "                                                                                                                                                                                                         text  \\\n",
       "1864  Избранный президент США Дональд Трамп в ходе телефонного разговора с главным кандидатом на пост госсекретаря Миттом Ромни сообщил, что Ромни не будет занимать эту должность.\\n\\nПосле разговора экс...   \n",
       "1922  Президент США Барак Обама заключил договор аренды офисного помещения в здании штаб-квартиры Всемирного фонда дикой природы (WWF) в Вашингтоне, пишет газета Washington Post.\\r\\n\\r\\nWWF, как отмечае...   \n",
       "416   Раскрыты личные траты Трампа на президентскую гонку\\n\\n9 декабря 2016 в 17:02\\n\\nLenta.ru\\n\\nИзбранный президент США Дональд Трамп потратил на свою избирательную кампанию 66 миллионов долларов из ...   \n",
       "1423  ВАШИНГТОН, 13 декабря. /Корр. ТАСС Антон Чудаков/. Аппарат директора национальной разведки США Джеймса Клэппера не поддерживает выводов Центрального разведывательного управления (ЦРУ), согласно ко...   \n",
       "1836  Дональд Трамп решил отложить до января свою первую пресс-конференцию в качестве избранного президента США, на которой он объявит об уходе из бизнеса, сообщает телекомпания CNN. Состояние Трампа оц...   \n",
       "1958  Об этом говорится в выпуске британской деловой газеты во вторник, 13 декабря. Financial Times считает, что миллиардер переписал правила политики своей страны.\\n\\nТеперь президент, являющийся специ...   \n",
       "451   Обама признал роль ошибок США в зарождении ИГИЛ\\n\\n7 декабря 2016 в 6:48\\n\\nРБК\\n\\nПрезидент США Барак Обама в своей речи о проблемах безопасности признал, что зарождению и росту террористической ...   \n",
       "1446  Трамп отложил до января официальное заявление о планах по уходу из бизнеса\\n\\nМОСКВА, 13 дек — РИА Новости. Избранный президент США Дональд Трамп перенес на январь официальное объявление о планах ...   \n",
       "1835  Избранный президент США Дональд Трамп на месяц перенес пресс-конференцию, посвященную его планам выйти из бизнеса на период президентства. Ранее мероприятие было анонсировано на четверг.\\n\\n\"Объяв...   \n",
       "1944  Избранный президент США Дональд Трамп позитивно воспринял новость о том, что пересчет голосов в штате Висконсин подтвердил его победу.\\n\\n«Окончательное голосование в Висконсине завершено, и что в...   \n",
       "\n",
       "           tag  \n",
       "1864  politics  \n",
       "1922  politics  \n",
       "416   politics  \n",
       "1423  politics  \n",
       "1836  politics  \n",
       "1958  politics  \n",
       "451   politics  \n",
       "1446  politics  \n",
       "1835  politics  \n",
       "1944  politics  "
      ]
     },
     "execution_count": 21,
     "metadata": {},
     "output_type": "execute_result"
    }
   ],
   "source": [
    "data[ data['cluster']==1 ][['text','tag']].sample(10)"
   ]
  },
  {
   "cell_type": "code",
   "execution_count": 22,
   "metadata": {},
   "outputs": [
    {
     "data": {
      "text/html": [
       "<div>\n",
       "<style scoped>\n",
       "    .dataframe tbody tr th:only-of-type {\n",
       "        vertical-align: middle;\n",
       "    }\n",
       "\n",
       "    .dataframe tbody tr th {\n",
       "        vertical-align: top;\n",
       "    }\n",
       "\n",
       "    .dataframe thead th {\n",
       "        text-align: right;\n",
       "    }\n",
       "</style>\n",
       "<table border=\"1\" class=\"dataframe\">\n",
       "  <thead>\n",
       "    <tr style=\"text-align: right;\">\n",
       "      <th></th>\n",
       "      <th>text</th>\n",
       "      <th>tag</th>\n",
       "    </tr>\n",
       "  </thead>\n",
       "  <tbody>\n",
       "    <tr>\n",
       "      <th>506</th>\n",
       "      <td>В Гродно три человека госпитализировали после неудачного поворота налево\\n\\n10 декабря 2016 в 12:33\\n\\nAUTO.TUT.BY\\n\\nТри человека, в том числе 14-летняя девочка, госпитализированы после ДТП, кото...</td>\n",
       "      <td>incident</td>\n",
       "    </tr>\n",
       "    <tr>\n",
       "      <th>2323</th>\n",
       "      <td>Сотрудница межмуниципального управления МВД России «Серпуховское», находившаяся за рулем в пьяном виде, насмерть сбила двоих человек в Подмосковье.\\n\\nПо информации главного управления МВД по Моск...</td>\n",
       "      <td>incident</td>\n",
       "    </tr>\n",
       "    <tr>\n",
       "      <th>2261</th>\n",
       "      <td>Двадцать военнослужащих пострадали в результате взрыва на военной базе в районе города Ульсан в Южной Корее.\\n\\nПятеро пострадавших были госпитализированы. Остальные раненые смогли добраться до бо...</td>\n",
       "      <td>incident</td>\n",
       "    </tr>\n",
       "    <tr>\n",
       "      <th>552</th>\n",
       "      <td>Легковушка сбила шестилетнего ребенка на пешеходном переходе в Волковыске\\n\\n4 декабря 2016 в 11:33\\n\\nAUTO.TUT.BY\\n\\nЛегковушка на пешеходном переходе сбила шестилетнего ребенка в Волковыске, пиш...</td>\n",
       "      <td>incident</td>\n",
       "    </tr>\n",
       "    <tr>\n",
       "      <th>563</th>\n",
       "      <td>В Витебске лоб в лоб столкнулись милицейский автомобиль и медпомощь\\n\\n2 декабря 2016 в 15:50\\n\\nAUTO.TUT.BY\\n\\nДТП произошло 2 декабря в первом часу дня возле Кировского моста в Витебске. Столкну...</td>\n",
       "      <td>incident</td>\n",
       "    </tr>\n",
       "    <tr>\n",
       "      <th>2379</th>\n",
       "      <td>Появилось видео момента наезда водителя Mercedes на двух школьниц на западе Москвы. На кадрах видно, как иномарка сносит детей прямо на пешеходном переходе.\\n\\nРанее сообщалось, что инцидент произ...</td>\n",
       "      <td>incident</td>\n",
       "    </tr>\n",
       "    <tr>\n",
       "      <th>2378</th>\n",
       "      <td>Теги: полиция ДТП москва\\n\\nНа западе Москвы водитель Gelandewagen сбил двух девочек, переходивших дорогу по пешеходному переходу. Виновник ДТП скрылся с места происшествия. Дети получили небольши...</td>\n",
       "      <td>incident</td>\n",
       "    </tr>\n",
       "    <tr>\n",
       "      <th>2331</th>\n",
       "      <td>В результате аварии пострадали оба водителя.В Ростовской области на трассе М-4 «Дон» столкнулись два грузовика «Вольво».ДТП произошло 12 декабря около 20 часов на 1073 километре автодороги.В насто...</td>\n",
       "      <td>incident</td>\n",
       "    </tr>\n",
       "    <tr>\n",
       "      <th>556</th>\n",
       "      <td>Неизвестные застрелили двоих посетителей кафе в Стокгольме\\n\\n3 декабря 2016 в 18:51\\n\\nLenta.ru\\n\\nДепартамент полиции шведской столицы Стокгольма начал расследование двойного убийства на севере ...</td>\n",
       "      <td>incident</td>\n",
       "    </tr>\n",
       "    <tr>\n",
       "      <th>2282</th>\n",
       "      <td>Сложные метеоусловия стали причиной ДТП на кузбасской трассе.\\n\\nПо сообщению пресс-службы областной ГИБДД, в аварии на автомагистрали «Кемерово – Ленинск-Кузнецкий» поврежедно 8 автомобилей. Такж...</td>\n",
       "      <td>incident</td>\n",
       "    </tr>\n",
       "  </tbody>\n",
       "</table>\n",
       "</div>"
      ],
      "text/plain": [
       "                                                                                                                                                                                                         text  \\\n",
       "506   В Гродно три человека госпитализировали после неудачного поворота налево\\n\\n10 декабря 2016 в 12:33\\n\\nAUTO.TUT.BY\\n\\nТри человека, в том числе 14-летняя девочка, госпитализированы после ДТП, кото...   \n",
       "2323  Сотрудница межмуниципального управления МВД России «Серпуховское», находившаяся за рулем в пьяном виде, насмерть сбила двоих человек в Подмосковье.\\n\\nПо информации главного управления МВД по Моск...   \n",
       "2261  Двадцать военнослужащих пострадали в результате взрыва на военной базе в районе города Ульсан в Южной Корее.\\n\\nПятеро пострадавших были госпитализированы. Остальные раненые смогли добраться до бо...   \n",
       "552   Легковушка сбила шестилетнего ребенка на пешеходном переходе в Волковыске\\n\\n4 декабря 2016 в 11:33\\n\\nAUTO.TUT.BY\\n\\nЛегковушка на пешеходном переходе сбила шестилетнего ребенка в Волковыске, пиш...   \n",
       "563   В Витебске лоб в лоб столкнулись милицейский автомобиль и медпомощь\\n\\n2 декабря 2016 в 15:50\\n\\nAUTO.TUT.BY\\n\\nДТП произошло 2 декабря в первом часу дня возле Кировского моста в Витебске. Столкну...   \n",
       "2379  Появилось видео момента наезда водителя Mercedes на двух школьниц на западе Москвы. На кадрах видно, как иномарка сносит детей прямо на пешеходном переходе.\\n\\nРанее сообщалось, что инцидент произ...   \n",
       "2378  Теги: полиция ДТП москва\\n\\nНа западе Москвы водитель Gelandewagen сбил двух девочек, переходивших дорогу по пешеходному переходу. Виновник ДТП скрылся с места происшествия. Дети получили небольши...   \n",
       "2331  В результате аварии пострадали оба водителя.В Ростовской области на трассе М-4 «Дон» столкнулись два грузовика «Вольво».ДТП произошло 12 декабря около 20 часов на 1073 километре автодороги.В насто...   \n",
       "556   Неизвестные застрелили двоих посетителей кафе в Стокгольме\\n\\n3 декабря 2016 в 18:51\\n\\nLenta.ru\\n\\nДепартамент полиции шведской столицы Стокгольма начал расследование двойного убийства на севере ...   \n",
       "2282  Сложные метеоусловия стали причиной ДТП на кузбасской трассе.\\n\\nПо сообщению пресс-службы областной ГИБДД, в аварии на автомагистрали «Кемерово – Ленинск-Кузнецкий» поврежедно 8 автомобилей. Такж...   \n",
       "\n",
       "           tag  \n",
       "506   incident  \n",
       "2323  incident  \n",
       "2261  incident  \n",
       "552   incident  \n",
       "563   incident  \n",
       "2379  incident  \n",
       "2378  incident  \n",
       "2331  incident  \n",
       "556   incident  \n",
       "2282  incident  "
      ]
     },
     "execution_count": 22,
     "metadata": {},
     "output_type": "execute_result"
    }
   ],
   "source": [
    "data[ data['cluster']==3 ][['text','tag']].sample(10)"
   ]
  },
  {
   "cell_type": "code",
   "execution_count": null,
   "metadata": {},
   "outputs": [],
   "source": []
  }
 ],
 "metadata": {
  "kernelspec": {
   "display_name": "Python 3",
   "language": "python",
   "name": "python3"
  },
  "language_info": {
   "codemirror_mode": {
    "name": "ipython",
    "version": 3
   },
   "file_extension": ".py",
   "mimetype": "text/x-python",
   "name": "python",
   "nbconvert_exporter": "python",
   "pygments_lexer": "ipython3",
   "version": "3.7.4"
  },
  "toc": {
   "base_numbering": 1,
   "nav_menu": {},
   "number_sections": true,
   "sideBar": true,
   "skip_h1_title": false,
   "title_cell": "Table of Contents",
   "title_sidebar": "Contents",
   "toc_cell": false,
   "toc_position": {},
   "toc_section_display": true,
   "toc_window_display": true
  }
 },
 "nbformat": 4,
 "nbformat_minor": 2
}
