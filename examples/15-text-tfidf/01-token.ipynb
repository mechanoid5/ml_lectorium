{
 "cells": [
  {
   "cell_type": "markdown",
   "metadata": {},
   "source": [
    "**извлечение признаков из текста на естественном языке**\n",
    "\n",
    "токенизация и очистка текста\n",
    "\n",
    "\n",
    "Евгений Борисов borisov.e@solarl.ru"
   ]
  },
  {
   "cell_type": "markdown",
   "metadata": {},
   "source": [
    "## библиотеки"
   ]
  },
  {
   "cell_type": "code",
   "execution_count": 1,
   "metadata": {},
   "outputs": [],
   "source": [
    "import numpy as np\n",
    "np.set_printoptions(precision=2) # вывод на печать до 2 знака\n",
    "import pandas as pd\n",
    "import re\n",
    "import gzip"
   ]
  },
  {
   "cell_type": "code",
   "execution_count": 2,
   "metadata": {},
   "outputs": [],
   "source": [
    "pd.options.display.max_colwidth = 200  "
   ]
  },
  {
   "cell_type": "markdown",
   "metadata": {},
   "source": [
    "## загружаем тексты"
   ]
  },
  {
   "cell_type": "code",
   "execution_count": 4,
   "metadata": {},
   "outputs": [
    {
     "name": "stdout",
     "output_type": "stream",
     "text": [
      "записей: 3196\n"
     ]
    }
   ],
   "source": [
    "# загружаем тексты\n",
    "df = pd.read_pickle('../data/text/news.pkl.gz')\n",
    "print('записей:',len(df))"
   ]
  },
  {
   "cell_type": "code",
   "execution_count": 5,
   "metadata": {},
   "outputs": [
    {
     "data": {
      "text/html": [
       "<div>\n",
       "<style scoped>\n",
       "    .dataframe tbody tr th:only-of-type {\n",
       "        vertical-align: middle;\n",
       "    }\n",
       "\n",
       "    .dataframe tbody tr th {\n",
       "        vertical-align: top;\n",
       "    }\n",
       "\n",
       "    .dataframe thead th {\n",
       "        text-align: right;\n",
       "    }\n",
       "</style>\n",
       "<table border=\"1\" class=\"dataframe\">\n",
       "  <thead>\n",
       "    <tr style=\"text-align: right;\">\n",
       "      <th></th>\n",
       "      <th>text</th>\n",
       "      <th>tag</th>\n",
       "    </tr>\n",
       "  </thead>\n",
       "  <tbody>\n",
       "    <tr>\n",
       "      <th>1674</th>\n",
       "      <td>Экс-президент СССР Михаил Горбачев заявил, что в границах Союза может появиться новое объединение, в которое добровольно войдут бывшие советские республики.\\n\\nОн отметил, что в качестве возврата ...</td>\n",
       "      <td>politics</td>\n",
       "    </tr>\n",
       "    <tr>\n",
       "      <th>2337</th>\n",
       "      <td>Ростов-на-Дону, 13 декабря. DON24.RU. Вчера в 20.20 на 1073 км автодороги М-4 «Дон» столкнулись две фуры, сообщает пресс-служба ГУ МВД России по Ростовской области.\\n\\nПо данным ведомства, 41-летн...</td>\n",
       "      <td>incident</td>\n",
       "    </tr>\n",
       "    <tr>\n",
       "      <th>394</th>\n",
       "      <td>Еще одна P2P-сеть закрылась В Америке по инициативе Ассоциации\\nзвукозаписывающей индустрии Америки (Recording Industry Association of\\nAmerica - RIAA) закрылась популярная студенческая файлообмен...</td>\n",
       "      <td>culture</td>\n",
       "    </tr>\n",
       "    <tr>\n",
       "      <th>86</th>\n",
       "      <td>Устанавливаем Solaris 10 в VMware Workstation 5.5В PDF документе \" How\\nto Install Solaris 10 Inside VMware Workstation 5.5 \" (размер 500Кб) по\\nшагам и со скриншотами описан процесс конфигурирова...</td>\n",
       "      <td>tech</td>\n",
       "    </tr>\n",
       "    <tr>\n",
       "      <th>1628</th>\n",
       "      <td>На конгрессе Всемирного боксерского совета (WBC) в Голливуде (США) Виталий Кличко был удостоен титула \"вечный чемпион мира в тяжёлом весе\". Награду нынешнему мэру Киева вручил Рой Джонс-младший.\\n...</td>\n",
       "      <td>sport</td>\n",
       "    </tr>\n",
       "  </tbody>\n",
       "</table>\n",
       "</div>"
      ],
      "text/plain": [
       "                                                                                                                                                                                                         text  \\\n",
       "1674  Экс-президент СССР Михаил Горбачев заявил, что в границах Союза может появиться новое объединение, в которое добровольно войдут бывшие советские республики.\\n\\nОн отметил, что в качестве возврата ...   \n",
       "2337  Ростов-на-Дону, 13 декабря. DON24.RU. Вчера в 20.20 на 1073 км автодороги М-4 «Дон» столкнулись две фуры, сообщает пресс-служба ГУ МВД России по Ростовской области.\\n\\nПо данным ведомства, 41-летн...   \n",
       "394   Еще одна P2P-сеть закрылась В Америке по инициативе Ассоциации\\nзвукозаписывающей индустрии Америки (Recording Industry Association of\\nAmerica - RIAA) закрылась популярная студенческая файлообмен...   \n",
       "86    Устанавливаем Solaris 10 в VMware Workstation 5.5В PDF документе \" How\\nto Install Solaris 10 Inside VMware Workstation 5.5 \" (размер 500Кб) по\\nшагам и со скриншотами описан процесс конфигурирова...   \n",
       "1628  На конгрессе Всемирного боксерского совета (WBC) в Голливуде (США) Виталий Кличко был удостоен титула \"вечный чемпион мира в тяжёлом весе\". Награду нынешнему мэру Киева вручил Рой Джонс-младший.\\n...   \n",
       "\n",
       "           tag  \n",
       "1674  politics  \n",
       "2337  incident  \n",
       "394    culture  \n",
       "86        tech  \n",
       "1628     sport  "
      ]
     },
     "execution_count": 5,
     "metadata": {},
     "output_type": "execute_result"
    }
   ],
   "source": [
    "df.sample(5)"
   ]
  },
  {
   "cell_type": "markdown",
   "metadata": {},
   "source": [
    "## токенизация и очистка"
   ]
  },
  {
   "cell_type": "code",
   "execution_count": 7,
   "metadata": {},
   "outputs": [],
   "source": [
    "# with gzip.open('../data/text/stop-nltk.txt.gz','rt',encoding='utf-8') as f: \n",
    "#     stopwords = set([ w.strip() for w in  f.read().split() if w.strip() ] )\n",
    "\n",
    "# print('количество стоп-слов:',len(stopwords))\n",
    "# sorted(stopwords)\n",
    "\n",
    "# from Stemmer import Stemmer\n",
    "# pacman -S python-pystemmer\n",
    "# pip install pystemmer"
   ]
  },
  {
   "cell_type": "code",
   "execution_count": 8,
   "metadata": {},
   "outputs": [],
   "source": [
    "from nltk.stem.snowball import SnowballStemmer\n",
    "from nltk.corpus import stopwords as nltk_stopwords\n",
    "\n",
    "stopwords = set(nltk_stopwords.words('russian') )"
   ]
  },
  {
   "cell_type": "code",
   "execution_count": 9,
   "metadata": {},
   "outputs": [
    {
     "name": "stdout",
     "output_type": "stream",
     "text": [
      "CPU times: user 19.9 s, sys: 30 ms, total: 20 s\n",
      "Wall time: 20 s\n"
     ]
    }
   ],
   "source": [
    "%%time \n",
    "\n",
    "df['text_clean'] = df['text'].str.lower() # приведение в lowercase\n",
    "\n",
    "# замена символов-разделителей (-,_) на пробел\n",
    "df['text_clean'] = df['text_clean'].apply(lambda s: re.sub( r'\\W', ' ', s))\n",
    "df['text_clean'] = df['text_clean'].apply(lambda s: re.sub( r'_', ' ', s))\n",
    "\n",
    "# замена цифр\n",
    "df['text_clean'] = df['text_clean'].apply(lambda s: re.sub( r'\\b\\d+\\b', ' ', s))\n",
    "\n",
    "# делим строки на слова (токенизация)\n",
    "df['text_clean'] = df['text_clean'].apply(lambda t: [ w.strip() for w in t.split() if len(w.strip())>2 ] )\n",
    "\n",
    "# удаление лишних слов \n",
    "df['text_clean'] = df['text_clean'].apply(lambda t:[w for w in t if w not in stopwords])\n",
    "\n",
    "# стемминг, выделение основы слова\n",
    "# df['text_clean'] = df['text_clean'].apply( lambda t: Stemmer('russian').stemWords(t) )\n",
    "df['text_clean'] = df['text_clean'].apply(lambda t:[ SnowballStemmer('russian').stem(w) for w in t if w])\n"
   ]
  },
  {
   "cell_type": "code",
   "execution_count": 10,
   "metadata": {},
   "outputs": [
    {
     "data": {
      "text/html": [
       "<div>\n",
       "<style scoped>\n",
       "    .dataframe tbody tr th:only-of-type {\n",
       "        vertical-align: middle;\n",
       "    }\n",
       "\n",
       "    .dataframe tbody tr th {\n",
       "        vertical-align: top;\n",
       "    }\n",
       "\n",
       "    .dataframe thead th {\n",
       "        text-align: right;\n",
       "    }\n",
       "</style>\n",
       "<table border=\"1\" class=\"dataframe\">\n",
       "  <thead>\n",
       "    <tr style=\"text-align: right;\">\n",
       "      <th></th>\n",
       "      <th>text_clean</th>\n",
       "    </tr>\n",
       "  </thead>\n",
       "  <tbody>\n",
       "    <tr>\n",
       "      <th>1497</th>\n",
       "      <td>[батьківщині, вважают, неприпустим, переговор, терорист, їхніми, ватажк, йдет, заяві, батьківщин, щод, інформації, таємн, зустріч, надії, савченк, лідер, лнр, днр, розповсюдженої, змі, посилан, дж...</td>\n",
       "    </tr>\n",
       "    <tr>\n",
       "      <th>754</th>\n",
       "      <td>[цел, эл, милиц, ищет, мужчин, котор, застрел, собак, глаз, хозяйк, декабр, tut, пустыр, мкад, охотник, цел, женщин, застрел, собак, мужчин, ищет, милиц, врач, сказа, хозяйк, собак, умерл, минут, ...</td>\n",
       "    </tr>\n",
       "    <tr>\n",
       "      <th>2652</th>\n",
       "      <td>[пришл, опрос, тыс, человек, автор, фот, nagada, американск, учен, установ, мужчин, женщин, разн, подход, выбор, партнер, сообща, порта, medikforum, исследован, провел, сотрудник, калифорнийск, ун...</td>\n",
       "    </tr>\n",
       "  </tbody>\n",
       "</table>\n",
       "</div>"
      ],
      "text/plain": [
       "                                                                                                                                                                                                   text_clean\n",
       "1497  [батьківщині, вважают, неприпустим, переговор, терорист, їхніми, ватажк, йдет, заяві, батьківщин, щод, інформації, таємн, зустріч, надії, савченк, лідер, лнр, днр, розповсюдженої, змі, посилан, дж...\n",
       "754   [цел, эл, милиц, ищет, мужчин, котор, застрел, собак, глаз, хозяйк, декабр, tut, пустыр, мкад, охотник, цел, женщин, застрел, собак, мужчин, ищет, милиц, врач, сказа, хозяйк, собак, умерл, минут, ...\n",
       "2652  [пришл, опрос, тыс, человек, автор, фот, nagada, американск, учен, установ, мужчин, женщин, разн, подход, выбор, партнер, сообща, порта, medikforum, исследован, провел, сотрудник, калифорнийск, ун..."
      ]
     },
     "execution_count": 10,
     "metadata": {},
     "output_type": "execute_result"
    }
   ],
   "source": [
    "df[['text_clean']].sample(3)"
   ]
  },
  {
   "cell_type": "code",
   "execution_count": null,
   "metadata": {},
   "outputs": [],
   "source": []
  }
 ],
 "metadata": {
  "kernelspec": {
   "display_name": "Python 3",
   "language": "python",
   "name": "python3"
  },
  "language_info": {
   "codemirror_mode": {
    "name": "ipython",
    "version": 3
   },
   "file_extension": ".py",
   "mimetype": "text/x-python",
   "name": "python",
   "nbconvert_exporter": "python",
   "pygments_lexer": "ipython3",
   "version": "3.7.4"
  },
  "toc": {
   "base_numbering": 1,
   "nav_menu": {},
   "number_sections": true,
   "sideBar": true,
   "skip_h1_title": false,
   "title_cell": "Table of Contents",
   "title_sidebar": "Contents",
   "toc_cell": false,
   "toc_position": {},
   "toc_section_display": true,
   "toc_window_display": true
  }
 },
 "nbformat": 4,
 "nbformat_minor": 2
}
