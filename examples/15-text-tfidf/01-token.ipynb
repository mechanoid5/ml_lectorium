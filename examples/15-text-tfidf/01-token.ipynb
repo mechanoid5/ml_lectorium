{
 "cells": [
  {
   "cell_type": "markdown",
   "metadata": {},
   "source": [
    "**извлечение признаков из текста на естественном языке**\n",
    "\n",
    "токенизация и очистка текста\n",
    "\n",
    "\n",
    "Евгений Борисов borisov.e@solarl.ru"
   ]
  },
  {
   "cell_type": "markdown",
   "metadata": {},
   "source": [
    "## библиотеки"
   ]
  },
  {
   "cell_type": "code",
   "execution_count": 1,
   "metadata": {},
   "outputs": [],
   "source": [
    "import numpy as np\n",
    "np.set_printoptions(precision=2) # вывод на печать до 2 знака\n",
    "import pandas as pd\n",
    "import re\n",
    "import gzip"
   ]
  },
  {
   "cell_type": "code",
   "execution_count": 2,
   "metadata": {},
   "outputs": [],
   "source": [
    "pd.options.display.max_colwidth = 200  "
   ]
  },
  {
   "cell_type": "markdown",
   "metadata": {},
   "source": [
    "## загружаем тексты"
   ]
  },
  {
   "cell_type": "code",
   "execution_count": 3,
   "metadata": {},
   "outputs": [
    {
     "name": "stdout",
     "output_type": "stream",
     "text": [
      "записей: 3196\n"
     ]
    }
   ],
   "source": [
    "# загружаем тексты\n",
    "df = pd.read_pickle('../data/text/news.pkl.gz')\n",
    "print('записей:',len(df))"
   ]
  },
  {
   "cell_type": "code",
   "execution_count": 4,
   "metadata": {},
   "outputs": [
    {
     "data": {
      "text/html": [
       "<div>\n",
       "<style scoped>\n",
       "    .dataframe tbody tr th:only-of-type {\n",
       "        vertical-align: middle;\n",
       "    }\n",
       "\n",
       "    .dataframe tbody tr th {\n",
       "        vertical-align: top;\n",
       "    }\n",
       "\n",
       "    .dataframe thead th {\n",
       "        text-align: right;\n",
       "    }\n",
       "</style>\n",
       "<table border=\"1\" class=\"dataframe\">\n",
       "  <thead>\n",
       "    <tr style=\"text-align: right;\">\n",
       "      <th></th>\n",
       "      <th>text</th>\n",
       "      <th>tag</th>\n",
       "    </tr>\n",
       "  </thead>\n",
       "  <tbody>\n",
       "    <tr>\n",
       "      <th>2259</th>\n",
       "      <td>В Южной Корее на военной базе вблизи города Ульсан прогремел взрыв. Об этом сообщает Yonhap News\\n\\nПо данным агентства, в результате пострадали 20 человек. Большинство из них получили ожоги разли...</td>\n",
       "      <td>incident</td>\n",
       "    </tr>\n",
       "    <tr>\n",
       "      <th>657</th>\n",
       "      <td>Купите квартиру по цене без отделки, а ремонт получите в подарок\\n\\n3 декабря 2016 в 9:00\\n\\n*На правах рекламы\\n\\nДекабрь — месяц традиционных подарков и сюрпризов. Застройщик жилого квартала «Но...</td>\n",
       "      <td>reclama</td>\n",
       "    </tr>\n",
       "    <tr>\n",
       "      <th>1060</th>\n",
       "      <td>От 5 до 50%. Где минчанам искать скидки в декабре\\n\\n29 ноября 2016 в 14:39\\n\\nFINANCE.TUT.BY\\n\\nСтоличные универмаги и торговые сети в декабре будут часто предоставлять скидки на товары. Об акция...</td>\n",
       "      <td>economics</td>\n",
       "    </tr>\n",
       "    <tr>\n",
       "      <th>3159</th>\n",
       "      <td>ИА Dv-News (dv-news.com) Выделены средства на ремонт Магаданского дома\\nпрестарелых На ремонт Магаданского областного дома-интерната для престарелых\\nи инвалидов ?Ветераны Колымы? выделено более м...</td>\n",
       "      <td>social</td>\n",
       "    </tr>\n",
       "    <tr>\n",
       "      <th>2949</th>\n",
       "      <td>Новое поколение Q3 копания Audi строит, что вполне ожидаемо, на модульной платформе MQB концерна Volkswagen. Как утверждает издание Auto Bild, в Ингольштадте собираются воспользоваться всеми преим...</td>\n",
       "      <td>auto</td>\n",
       "    </tr>\n",
       "  </tbody>\n",
       "</table>\n",
       "</div>"
      ],
      "text/plain": [
       "                                                                                                                                                                                                         text  \\\n",
       "2259  В Южной Корее на военной базе вблизи города Ульсан прогремел взрыв. Об этом сообщает Yonhap News\\n\\nПо данным агентства, в результате пострадали 20 человек. Большинство из них получили ожоги разли...   \n",
       "657   Купите квартиру по цене без отделки, а ремонт получите в подарок\\n\\n3 декабря 2016 в 9:00\\n\\n*На правах рекламы\\n\\nДекабрь — месяц традиционных подарков и сюрпризов. Застройщик жилого квартала «Но...   \n",
       "1060  От 5 до 50%. Где минчанам искать скидки в декабре\\n\\n29 ноября 2016 в 14:39\\n\\nFINANCE.TUT.BY\\n\\nСтоличные универмаги и торговые сети в декабре будут часто предоставлять скидки на товары. Об акция...   \n",
       "3159  ИА Dv-News (dv-news.com) Выделены средства на ремонт Магаданского дома\\nпрестарелых На ремонт Магаданского областного дома-интерната для престарелых\\nи инвалидов ?Ветераны Колымы? выделено более м...   \n",
       "2949  Новое поколение Q3 копания Audi строит, что вполне ожидаемо, на модульной платформе MQB концерна Volkswagen. Как утверждает издание Auto Bild, в Ингольштадте собираются воспользоваться всеми преим...   \n",
       "\n",
       "            tag  \n",
       "2259   incident  \n",
       "657     reclama  \n",
       "1060  economics  \n",
       "3159     social  \n",
       "2949       auto  "
      ]
     },
     "execution_count": 4,
     "metadata": {},
     "output_type": "execute_result"
    }
   ],
   "source": [
    "df.sample(5)"
   ]
  },
  {
   "cell_type": "code",
   "execution_count": 7,
   "metadata": {},
   "outputs": [
    {
     "data": {
      "text/plain": [
       "13"
      ]
     },
     "execution_count": 7,
     "metadata": {},
     "output_type": "execute_result"
    }
   ],
   "source": [
    "# df['text'].str.len().describe()\n",
    "df['tag'].drop_duplicates().count()"
   ]
  },
  {
   "cell_type": "markdown",
   "metadata": {},
   "source": [
    "## токенизация и очистка"
   ]
  },
  {
   "cell_type": "code",
   "execution_count": 12,
   "metadata": {},
   "outputs": [],
   "source": [
    "# with gzip.open('../data/text/stop-nltk.txt.gz','rt',encoding='utf-8') as f: \n",
    "#     stopwords = set([ w.strip() for w in  f.read().split() if w.strip() ] )\n",
    "\n",
    "# print('количество стоп-слов:',len(stopwords))\n",
    "# sorted(stopwords)\n",
    "\n",
    "from Stemmer import Stemmer\n",
    "# pacman -S python-pystemmer\n",
    "# pip install pystemmer"
   ]
  },
  {
   "cell_type": "code",
   "execution_count": 9,
   "metadata": {},
   "outputs": [],
   "source": [
    "# from nltk.stem.snowball import SnowballStemmer\n",
    "# from nltk.corpus import stopwords as nltk_stopwords\n",
    "\n",
    "# stopwords = set(nltk_stopwords.words('russian') )"
   ]
  },
  {
   "cell_type": "code",
   "execution_count": 13,
   "metadata": {},
   "outputs": [
    {
     "name": "stdout",
     "output_type": "stream",
     "text": [
      "CPU times: user 3.52 s, sys: 65.7 ms, total: 3.59 s\n",
      "Wall time: 3.61 s\n"
     ]
    }
   ],
   "source": [
    "%%time \n",
    "\n",
    "df['text_clean'] = df['text'].str.lower() # приведение в lowercase\n",
    "\n",
    "# замена символов-разделителей (-,_) на пробел\n",
    "df['text_clean'] = df['text_clean'].apply(lambda s: re.sub( r'\\W', ' ', s))\n",
    "df['text_clean'] = df['text_clean'].apply(lambda s: re.sub( r'_', ' ', s))\n",
    "\n",
    "# замена цифр\n",
    "df['text_clean'] = df['text_clean'].apply(lambda s: re.sub( r'\\b\\d+\\b', ' ', s))\n",
    "\n",
    "# делим строки на слова (токенизация)\n",
    "df['text_clean'] = df['text_clean'].apply(lambda t: [ w.strip() for w in t.split() if len(w.strip())>2 ] )\n",
    "\n",
    "# удаление лишних слов \n",
    "#df['text_clean'] = df['text_clean'].apply(lambda t:[w for w in t if w not in stopwords])\n",
    "\n",
    "# стемминг, выделение основы слова\n",
    "df['text_clean'] = df['text_clean'].apply( lambda t: Stemmer('russian').stemWords(t) )\n",
    "#df['text_clean'] = df['text_clean'].apply(lambda t:[ SnowballStemmer('russian').stem(w) for w in t if w])\n"
   ]
  },
  {
   "cell_type": "code",
   "execution_count": 14,
   "metadata": {},
   "outputs": [
    {
     "data": {
      "text/html": [
       "<div>\n",
       "<style scoped>\n",
       "    .dataframe tbody tr th:only-of-type {\n",
       "        vertical-align: middle;\n",
       "    }\n",
       "\n",
       "    .dataframe tbody tr th {\n",
       "        vertical-align: top;\n",
       "    }\n",
       "\n",
       "    .dataframe thead th {\n",
       "        text-align: right;\n",
       "    }\n",
       "</style>\n",
       "<table border=\"1\" class=\"dataframe\">\n",
       "  <thead>\n",
       "    <tr style=\"text-align: right;\">\n",
       "      <th></th>\n",
       "      <th>text_clean</th>\n",
       "    </tr>\n",
       "  </thead>\n",
       "  <tbody>\n",
       "    <tr>\n",
       "      <th>1674</th>\n",
       "      <td>[экс, президент, ссср, миха, горбач, заяв, что, границ, союз, может, появ, нов, объединен, котор, добровольн, войдут, бывш, советск, республик, отмет, что, качеств, возврат, ссср, так, невозможн, ...</td>\n",
       "    </tr>\n",
       "    <tr>\n",
       "      <th>1475</th>\n",
       "      <td>[ки, декабр, лидер, радикальн, парт, украин, олег, ляшк, раскритикова, надежд, савченк, встреч, глав, луганск, донецк, народн, республик, игор, плотницк, александр, захарченк, суд, текст, опублико...</td>\n",
       "    </tr>\n",
       "    <tr>\n",
       "      <th>1920</th>\n",
       "      <td>[президент, сша, барак, обам, арендова, офис, здан, всемирн, фонд, дик, природ, wwf, вашингтон, сообща, газет, washington, post, ссылк, источник, заключен, соглашен, аренд, пок, был, объявл, публи...</td>\n",
       "    </tr>\n",
       "  </tbody>\n",
       "</table>\n",
       "</div>"
      ],
      "text/plain": [
       "                                                                                                                                                                                                   text_clean\n",
       "1674  [экс, президент, ссср, миха, горбач, заяв, что, границ, союз, может, появ, нов, объединен, котор, добровольн, войдут, бывш, советск, республик, отмет, что, качеств, возврат, ссср, так, невозможн, ...\n",
       "1475  [ки, декабр, лидер, радикальн, парт, украин, олег, ляшк, раскритикова, надежд, савченк, встреч, глав, луганск, донецк, народн, республик, игор, плотницк, александр, захарченк, суд, текст, опублико...\n",
       "1920  [президент, сша, барак, обам, арендова, офис, здан, всемирн, фонд, дик, природ, wwf, вашингтон, сообща, газет, washington, post, ссылк, источник, заключен, соглашен, аренд, пок, был, объявл, публи..."
      ]
     },
     "execution_count": 14,
     "metadata": {},
     "output_type": "execute_result"
    }
   ],
   "source": [
    "df[['text_clean']].sample(3)"
   ]
  },
  {
   "cell_type": "code",
   "execution_count": null,
   "metadata": {},
   "outputs": [],
   "source": []
  }
 ],
 "metadata": {
  "kernelspec": {
   "display_name": "Python 3",
   "language": "python",
   "name": "python3"
  },
  "language_info": {
   "codemirror_mode": {
    "name": "ipython",
    "version": 3
   },
   "file_extension": ".py",
   "mimetype": "text/x-python",
   "name": "python",
   "nbconvert_exporter": "python",
   "pygments_lexer": "ipython3",
   "version": "3.7.3"
  },
  "toc": {
   "base_numbering": 1,
   "nav_menu": {},
   "number_sections": true,
   "sideBar": true,
   "skip_h1_title": false,
   "title_cell": "Table of Contents",
   "title_sidebar": "Contents",
   "toc_cell": false,
   "toc_position": {},
   "toc_section_display": true,
   "toc_window_display": false
  }
 },
 "nbformat": 4,
 "nbformat_minor": 2
}
