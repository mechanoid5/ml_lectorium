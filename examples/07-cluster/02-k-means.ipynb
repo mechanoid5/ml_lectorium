{
 "cells": [
  {
   "cell_type": "markdown",
   "metadata": {},
   "source": [
    "**кластеризация методом k-means**\n",
    "\n",
    "\n",
    "Евгений Борисов borisov.e@solarl.ru"
   ]
  },
  {
   "cell_type": "markdown",
   "metadata": {},
   "source": [
    "---"
   ]
  },
  {
   "cell_type": "markdown",
   "metadata": {},
   "source": [
    "## библиотеки"
   ]
  },
  {
   "cell_type": "code",
   "execution_count": 1,
   "metadata": {},
   "outputs": [],
   "source": [
    "import time\n",
    "\n",
    "import numpy as np\n",
    "import matplotlib.pyplot as plt\n",
    "\n",
    "from scipy.spatial import distance_matrix"
   ]
  },
  {
   "cell_type": "markdown",
   "metadata": {},
   "source": [
    "##  загружаем данные "
   ]
  },
  {
   "cell_type": "code",
   "execution_count": 2,
   "metadata": {},
   "outputs": [],
   "source": [
    "# X = np.vstack([ \n",
    "#     np.loadtxt('data/360_9c/points_1.txt'), \n",
    "#     np.loadtxt('data/360_9c/points_2.txt'), \n",
    "#     np.loadtxt('data/360_9c/points_3.txt'), \n",
    "#     np.loadtxt('data/360_9c/points_4.txt'), \n",
    "#     np.loadtxt('data/360_9c/points_5.txt'), \n",
    "#     np.loadtxt('data/360_9c/points_6.txt'), \n",
    "#     np.loadtxt('data/360_9c/points_7.txt'), \n",
    "#     np.loadtxt('data/360_9c/points_8.txt'), \n",
    "#     np.loadtxt('data/360_9c/points_9.txt'), \n",
    "#     ])\n",
    "# n_clst = 6 # количество кластеров\n",
    "# n_fet = X.shape[1] # размерность пространства\n",
    "# n_ex = X.shape[0] # количество точек"
   ]
  },
  {
   "cell_type": "code",
   "execution_count": 3,
   "metadata": {},
   "outputs": [],
   "source": [
    "# X = np.loadtxt('data/400_1/points_9.txt')\n",
    "\n",
    "# n_clst = 3 # количество кластеров\n",
    "# n_fet = X.shape[1] # размерность пространства\n",
    "# n_ex = X.shape[0] # количество точек"
   ]
  },
  {
   "cell_type": "code",
   "execution_count": 4,
   "metadata": {},
   "outputs": [],
   "source": [
    "X = np.loadtxt('data/360_1/points_1.txt')\n",
    "\n",
    "n_fet = X.shape[1] # размерность пространства\n",
    "n_ex = X.shape[0] # количество точек\n",
    "\n",
    "n_clst = 5 # количество кластеров\n"
   ]
  },
  {
   "cell_type": "markdown",
   "metadata": {},
   "source": [
    "### рисуем данные\n"
   ]
  },
  {
   "cell_type": "code",
   "execution_count": 5,
   "metadata": {},
   "outputs": [],
   "source": [
    "plot_frame = np.vstack( [ X.min(axis=0),X.max(axis=0) ]) + np.array([ [ -1.0,-1.0], [ 1.0,1.0] ] )*0.5\n",
    "plot_size = (10,10)"
   ]
  },
  {
   "cell_type": "code",
   "execution_count": 6,
   "metadata": {},
   "outputs": [
    {
     "data": {
      "image/png": "[encoded data removed]",
      "text/plain": [
       "<Figure size 720x720 with 1 Axes>"
      ]
     },
     "metadata": {
      "needs_background": "light"
     },
     "output_type": "display_data"
    }
   ],
   "source": [
    "plt.xlim(plot_frame[:,0])\n",
    "plt.ylim(plot_frame[:,1])\n",
    "plt.gcf().set_size_inches(plot_size)\n",
    "plt.scatter( X[:,0], X[:,1],marker='.',s=50, alpha=0.5)\n",
    "plt.grid()\n",
    "plt.show()"
   ]
  },
  {
   "cell_type": "markdown",
   "metadata": {},
   "source": [
    "## оптимизация параметров"
   ]
  },
  {
   "cell_type": "code",
   "execution_count": 7,
   "metadata": {},
   "outputs": [],
   "source": [
    "def k_means(X,mu,ii=1000):\n",
    "    mu_hist = []\n",
    "\n",
    "    for i in range(ii): \n",
    "        r = distance_matrix(X,mu) # растояние до центроидов для каждой точки\n",
    "        y = np.argmin(r,axis=1) # номер кластера для каждой из точек\n",
    "        Xc = [ X[(y==j),:] for j in range(n_clst) ] # разбираем точки на кластеры\n",
    "\n",
    "        # дополняем пустые кластеры\n",
    "        for j in range(n_clst):\n",
    "            if Xc[j].shape[0]<1:  Xc[j] = mu[j,:].reshape(1,n_fet)\n",
    "                # Xc[j] = np.random.rand(1,n_fet) * np.max(X,axis=0) * 0.9\n",
    "\n",
    "        mu_hist.append(mu) # сохраняем старое состояние\n",
    "\n",
    "        # пересчитываем центроиды\n",
    "        mu = np.vstack( [ Xc[j].mean(axis=0) for j in range(n_clst) ] )\n",
    "\n",
    "        # изменение центроидов\n",
    "        dmu = np.abs( mu_hist[-1] - mu ).sum()\n",
    "        if (dmu<1e-2): break\n",
    "\n",
    "    return mu,mu_hist\n"
   ]
  },
  {
   "cell_type": "code",
   "execution_count": 8,
   "metadata": {},
   "outputs": [],
   "source": [
    "# оценка результата\n",
    "def clust_qual(X,mu):\n",
    "    # растояние до центроидов для каждой точки\n",
    "    r = distance_matrix(X,mu)\n",
    "    # номер кластера для каждой из точек\n",
    "    y = np.argmin(r,axis=1)\n",
    "    # разбираем точки на кластеры\n",
    "    Xc = [ X[(y==j),:] for j in range(n_clst) ]\n",
    "\n",
    "    # среднее внутрикластерное расстояние\n",
    "    in_d = np.mean([ distance_matrix( Xc[j], Xc[j] ).mean()*0.5 for j in range(n_clst) if Xc[j].shape[0]>0  ])\n",
    "\n",
    "    # среднее межкластерное расстояние\n",
    "    out_d = [] \n",
    "    for j in range(n_clst):\n",
    "        Xcj = np.vstack( [ Xc[i] for i in range(n_clst) if i!=j ] )\n",
    "        if Xc[j].shape[0]>0: out_d.append( distance_matrix( Xcj, Xc[j] ).mean() )\n",
    "\n",
    "    out_d = np.mean(out_d)\n",
    "    \n",
    "    # n_clst_fact = sum([ 1 for j in range(n_clst) if Xc[j].shape[0]>0 ])\n",
    "    n_clst_fact = 1.0\n",
    "    \n",
    "    return n_clst_fact * in_d/out_d"
   ]
  },
  {
   "cell_type": "code",
   "execution_count": 9,
   "metadata": {},
   "outputs": [
    {
     "name": "stdout",
     "output_type": "stream",
     "text": [
      "0.10776069263630982 \n",
      "\n",
      "0.07626818589840735 \n",
      "\n",
      "0.11875383225023592 \n",
      "\n",
      "0.11875383225023592 \n",
      "\n",
      "0.2488793577158325 \n",
      "\n"
     ]
    }
   ],
   "source": [
    "# запускаем несколько раз\n",
    "# и выбираем  результат с наилучшей оценкой\n",
    "mu_ = {}\n",
    "\n",
    "for i in range(5):\n",
    "    mu = np.random.rand(n_clst,n_fet) * np.max(X,axis=0) * 1.9\n",
    "    mu,mu_hist = k_means(X,mu)\n",
    "    q = clust_qual(X,mu)\n",
    "    print(q,'\\n')\n",
    "    mu_.update( {q : mu}  )\n",
    "    \n",
    "mu = mu_[ min( mu_.keys() ) ]    "
   ]
  },
  {
   "cell_type": "markdown",
   "metadata": {},
   "source": [
    "## результат"
   ]
  },
  {
   "cell_type": "code",
   "execution_count": 10,
   "metadata": {},
   "outputs": [
    {
     "name": "stdout",
     "output_type": "stream",
     "text": [
      "0.07626818589840735 \n",
      "\n",
      "0 [2.51751934 8.13725238] (160, 2)\n",
      "1 [8.5793821  6.75764958] (40, 2)\n",
      "2 [10.67305905  9.457836  ] (40, 2)\n",
      "3 [2.9979742  2.59887636] (120, 2)\n"
     ]
    },
    {
     "data": {
      "image/png": "[encoded data removed]",
      "text/plain": [
       "<Figure size 720x720 with 1 Axes>"
      ]
     },
     "metadata": {
      "needs_background": "light"
     },
     "output_type": "display_data"
    }
   ],
   "source": [
    "from scipy.spatial import ConvexHull\n",
    "\n",
    "\n",
    "print ( clust_qual(X,mu),'\\n' )\n",
    "    \n",
    "# растояние до центроидов для каждой точки\n",
    "r = distance_matrix(X,mu)\n",
    "# номер кластера для каждой из точек\n",
    "y = np.argmin(r,axis=1)\n",
    "\n",
    "Xc = [ X[(y==j),:] for j in range(n_clst) ]\n",
    "\n",
    "plt.xlim(plot_frame[:,0])\n",
    "plt.ylim(plot_frame[:,1])\n",
    "plt.gcf().set_size_inches(plot_size)\n",
    "plt.grid()\n",
    "\n",
    "colors = [ 'b', 'g', 'r', 'c', 'm', 'y', 'k' ]\n",
    "\n",
    "for j in range(mu.shape[0]):\n",
    "\n",
    "    if(Xc[j].shape[0]>0):\n",
    "        plt.scatter( mu[j,0], mu[j,1], marker='*',color=colors[j], s=120, alpha=0.5 )\n",
    "        plt.scatter( Xc[j][:,0],  Xc[j][:,1], marker='.', color=colors[j], s=50, alpha=0.5 )\n",
    "        print(j, mu[j,:],  Xc[j].shape )\n",
    "\n",
    "        \n",
    "    if( Xc[j].shape[0]>2):    \n",
    "        hull = ConvexHull( Xc[j])\n",
    "        v = np.append( hull.vertices, hull.vertices[0] )\n",
    "        plt.plot(  Xc[j][v,0],  Xc[j][v,1], '--', lw=1)\n",
    "\n",
    "plt.show()\n"
   ]
  },
  {
   "cell_type": "markdown",
   "metadata": {},
   "source": [
    "---"
   ]
  },
  {
   "cell_type": "code",
   "execution_count": null,
   "metadata": {},
   "outputs": [],
   "source": []
  }
 ],
 "metadata": {
  "kernelspec": {
   "display_name": "Python 3",
   "language": "python",
   "name": "python3"
  },
  "language_info": {
   "codemirror_mode": {
    "name": "ipython",
    "version": 3
   },
   "file_extension": ".py",
   "mimetype": "text/x-python",
   "name": "python",
   "nbconvert_exporter": "python",
   "pygments_lexer": "ipython3",
   "version": "3.6.5"
  },
  "toc": {
   "base_numbering": 1,
   "nav_menu": {},
   "number_sections": true,
   "sideBar": true,
   "skip_h1_title": false,
   "title_cell": "Table of Contents",
   "title_sidebar": "Contents",
   "toc_cell": false,
   "toc_position": {},
   "toc_section_display": "block",
   "toc_window_display": false
  }
 },
 "nbformat": 4,
 "nbformat_minor": 2
}
