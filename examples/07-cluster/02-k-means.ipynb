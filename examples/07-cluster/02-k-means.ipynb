{
 "cells": [
  {
   "cell_type": "markdown",
   "metadata": {},
   "source": [
    "**кластеризация методом k-means**\n",
    "\n",
    "\n",
    "Евгений Борисов borisov.e@solarl.ru"
   ]
  },
  {
   "cell_type": "markdown",
   "metadata": {},
   "source": [
    "---"
   ]
  },
  {
   "cell_type": "code",
   "execution_count": 1,
   "metadata": {},
   "outputs": [],
   "source": [
    "import time\n",
    "\n",
    "import numpy as np\n",
    "import matplotlib.pyplot as plt\n",
    "from sklearn.metrics.pairwise import euclidean_distances\n",
    "from scipy.spatial import ConvexHull"
   ]
  },
  {
   "cell_type": "markdown",
   "metadata": {},
   "source": [
    "---"
   ]
  },
  {
   "cell_type": "code",
   "execution_count": 2,
   "metadata": {},
   "outputs": [],
   "source": [
    "# X = np.vstack([ \n",
    "#     np.loadtxt('data/360_9c/points_1.txt'), \n",
    "#     np.loadtxt('data/360_9c/points_2.txt'), \n",
    "#     np.loadtxt('data/360_9c/points_3.txt'), \n",
    "#     np.loadtxt('data/360_9c/points_4.txt'), \n",
    "#     np.loadtxt('data/360_9c/points_5.txt'), \n",
    "#     np.loadtxt('data/360_9c/points_6.txt'), \n",
    "#     np.loadtxt('data/360_9c/points_7.txt'), \n",
    "#     np.loadtxt('data/360_9c/points_8.txt'), \n",
    "#     np.loadtxt('data/360_9c/points_9.txt'), \n",
    "#     ])\n",
    "# n_clst = 6 # количество кластеров\n",
    "# n_fet = X.shape[1] # размерность пространства\n",
    "# n_ex = X.shape[0] # количество точек"
   ]
  },
  {
   "cell_type": "code",
   "execution_count": 3,
   "metadata": {},
   "outputs": [],
   "source": [
    "# X = np.loadtxt('data/400_1/points_9.txt')\n",
    "\n",
    "# n_clst = 3 # количество кластеров\n",
    "# n_fet = X.shape[1] # размерность пространства\n",
    "# n_ex = X.shape[0] # количество точек"
   ]
  },
  {
   "cell_type": "code",
   "execution_count": 4,
   "metadata": {},
   "outputs": [],
   "source": [
    "X = np.loadtxt('../data/360_1/points_1.txt')\n",
    "\n",
    "n_clst = 7 # количество кластеров"
   ]
  },
  {
   "cell_type": "markdown",
   "metadata": {},
   "source": [
    "---"
   ]
  },
  {
   "cell_type": "code",
   "execution_count": 5,
   "metadata": {},
   "outputs": [],
   "source": [
    "# инициализация параметров\n",
    "mu = np.random.rand(n_clst,X.shape[1]) * np.max(X,axis=0) * 0.95"
   ]
  },
  {
   "cell_type": "code",
   "execution_count": 6,
   "metadata": {},
   "outputs": [],
   "source": [
    "# размер картинки\n",
    "plot_frame = np.vstack( [ X.min(axis=0),X.max(axis=0) ]) + np.array([ [ -1.0,-1.0], [ 1.0,1.0] ] )*0.5\n",
    "plot_size = (5,5)"
   ]
  },
  {
   "cell_type": "code",
   "execution_count": 7,
   "metadata": {},
   "outputs": [
    {
     "data": {
      "image/png": "[encoded data removed]",
      "text/plain": [
       "<Figure size 360x360 with 1 Axes>"
      ]
     },
     "metadata": {
      "needs_background": "light"
     },
     "output_type": "display_data"
    }
   ],
   "source": [
    "# рисуем начальное состояние\n",
    "plt.xlim(plot_frame[:,0])\n",
    "plt.ylim(plot_frame[:,1])\n",
    "plt.gcf().set_size_inches(plot_size)\n",
    "plt.scatter( X[:,0], X[:,1],s=20, alpha=0.5)\n",
    "plt.scatter( mu[:,0], mu[:,1],s=50, alpha=0.5,c='r')\n",
    "plt.grid()\n",
    "plt.savefig('res-k-means-1.png')\n",
    "plt.show()"
   ]
  },
  {
   "cell_type": "markdown",
   "metadata": {},
   "source": [
    "---"
   ]
  },
  {
   "cell_type": "code",
   "execution_count": 8,
   "metadata": {},
   "outputs": [],
   "source": [
    "max_iter=100\n",
    "max_delta_mu = 1e-10\n",
    "\n",
    "for i in range(max_iter):\n",
    "    # расстояния от центроидов до всех точек \n",
    "    R = euclidean_distances(mu,X) \n",
    "    # номера кластеров (ближайших центроидов) всех для точек\n",
    "    y = np.argmin(R,axis=0) \n",
    "\n",
    "    # разбираем точки на кластеры\n",
    "    Xc = [ X[(y==j),:] for j in range(n_clst) ]\n",
    "    # дополняем пустые кластеры их центройдами\n",
    "    Xc = [ c if c.size>0 else mu[i,:].reshape(1,2) for i,c in enumerate(Xc) ]\n",
    "\n",
    "    mu_old = mu # сохраняем старое состояние\n",
    "\n",
    "    # пересчитываем центроиды\n",
    "    mu = np.vstack( [ c.mean(axis=0) for c in Xc ] )\n",
    "\n",
    "    # проверяем изменение центроидов\n",
    "    if np.square(mu_old-mu).sum() < max_delta_mu: break"
   ]
  },
  {
   "cell_type": "markdown",
   "metadata": {},
   "source": [
    "---"
   ]
  },
  {
   "cell_type": "code",
   "execution_count": 9,
   "metadata": {},
   "outputs": [
    {
     "data": {
      "text/plain": [
       "0.4398133757360634"
      ]
     },
     "execution_count": 9,
     "metadata": {},
     "output_type": "execute_result"
    }
   ],
   "source": [
    "# оценка результата\n",
    "\n",
    "# расстояния от центроидов до всех точек \n",
    "R = euclidean_distances(mu,X) \n",
    "# номера кластеров (ближайших центроидов) всех для точек\n",
    "y = np.argmin(R,axis=0) \n",
    "\n",
    "# разбираем номера точек по кластерам\n",
    "C = [ [ i for i,_ in enumerate(X) if y[i]==c ] for c in set(y)  ]\n",
    "\n",
    "# средние внутрикластерные расстояния\n",
    "rmi = np.array([ euclidean_distances(X[ci,:]).mean()*0.5 for ci in C ])\n",
    "\n",
    "# списки номеров точек чужих кластеров для каждого кластера\n",
    "Cn = [ list(set(sum(C,[]))-set(ci)) for ci in C ]\n",
    "# средние межкластерные расстояния (растояния до точек чужих кластеров)\n",
    "rmo = np.array([ euclidean_distances(X[ci,:],X[cni,:]).mean() for ci,cni in zip(C,Cn) ])\n",
    "\n",
    "# отношение внутрикластерного и межкластерного расстояний\n",
    "(rmi/rmo).mean()*len(C)"
   ]
  },
  {
   "cell_type": "code",
   "execution_count": 10,
   "metadata": {},
   "outputs": [
    {
     "name": "stdout",
     "output_type": "stream",
     "text": [
      "0 [1.94912585 2.84682859] 37\n",
      "1 [8.5793821  6.75764958] 40\n",
      "2 [3.4655331  2.48834343] 83\n",
      "3 [1.50000941 8.11403172] 81\n",
      "5 [10.67305905  9.457836  ] 40\n",
      "6 [3.56078902 8.1610609 ] 79\n"
     ]
    },
    {
     "data": {
      "image/png": "[encoded data removed]",
      "text/plain": [
       "<Figure size 360x360 with 1 Axes>"
      ]
     },
     "metadata": {
      "needs_background": "light"
     },
     "output_type": "display_data"
    }
   ],
   "source": [
    "# print ( clust_qual(X,mu),'\\n' )\n",
    "\n",
    "R = euclidean_distances(mu,X) \n",
    "y = np.argmin(R,axis=0)     \n",
    "Xc = [ X[(y==j),:] for j in range(n_clst) ]\n",
    "\n",
    "plt.xlim(plot_frame[:,0])\n",
    "plt.ylim(plot_frame[:,1])\n",
    "plt.gcf().set_size_inches(plot_size)\n",
    "plt.grid()\n",
    "\n",
    "colors = [ 'b', 'g', 'r', 'c', 'm', 'y', 'k' ]\n",
    "\n",
    "for j in range(mu.shape[0]):\n",
    "\n",
    "    if(Xc[j].shape[0]>0):\n",
    "        plt.scatter( mu[j,0], mu[j,1], marker='*',color=colors[j], s=120, alpha=0.5 )\n",
    "        plt.scatter( Xc[j][:,0],  Xc[j][:,1], marker='.', color=colors[j], s=50, alpha=0.5 )\n",
    "        print(j, mu[j,:],  Xc[j].shape[0] )\n",
    "\n",
    "        \n",
    "    if( Xc[j].shape[0]>2):    \n",
    "        hull = ConvexHull( Xc[j])\n",
    "        v = np.append( hull.vertices, hull.vertices[0] )\n",
    "        plt.plot(  Xc[j][v,0],  Xc[j][v,1], '--', lw=1)\n",
    "\n",
    "plt.savefig('res-k-means-2.png')\n",
    "\n",
    "plt.show()\n"
   ]
  },
  {
   "cell_type": "code",
   "execution_count": null,
   "metadata": {},
   "outputs": [],
   "source": []
  },
  {
   "cell_type": "code",
   "execution_count": null,
   "metadata": {},
   "outputs": [],
   "source": []
  }
 ],
 "metadata": {
  "kernelspec": {
   "display_name": "Python 3",
   "language": "python",
   "name": "python3"
  },
  "language_info": {
   "codemirror_mode": {
    "name": "ipython",
    "version": 3
   },
   "file_extension": ".py",
   "mimetype": "text/x-python",
   "name": "python",
   "nbconvert_exporter": "python",
   "pygments_lexer": "ipython3",
   "version": "3.7.0"
  },
  "toc": {
   "base_numbering": 1,
   "nav_menu": {},
   "number_sections": true,
   "sideBar": true,
   "skip_h1_title": false,
   "title_cell": "Table of Contents",
   "title_sidebar": "Contents",
   "toc_cell": false,
   "toc_position": {},
   "toc_section_display": "block",
   "toc_window_display": false
  }
 },
 "nbformat": 4,
 "nbformat_minor": 2
}
